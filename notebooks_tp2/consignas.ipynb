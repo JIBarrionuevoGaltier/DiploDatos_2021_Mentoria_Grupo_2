{
 "cells": [
  {
   "cell_type": "markdown",
   "id": "4c06fd04-3458-4bba-a6ea-061d78db4e0f",
   "metadata": {
    "id": "4c06fd04-3458-4bba-a6ea-061d78db4e0f"
   },
   "source": [
    "\n",
    "# Diplomatura en Ciencia de Datos, Aprendizaje Automático y sus Aplicaciones\n",
    "\n",
    "<center>\n",
    "<img \n",
    "     src=\"http://www2.famaf.unc.edu.ar/~efernandez/egeo/img/logos/famaf.jpg\" \n",
    "     alt=\"Drawing\" \n",
    "     style=\"width:30%;\"\n",
    "/>\n",
    "</center>\n",
    "\n",
    "### Universidad Nacional de Córdoba\n",
    "---"
   ]
  },
  {
   "cell_type": "markdown",
   "id": "0274abb1-255e-4ded-ac4a-a2d00041f17e",
   "metadata": {
    "id": "0274abb1-255e-4ded-ac4a-a2d00041f17e"
   },
   "source": [
    "## Practico\n",
    "### Curación y Exploración de Datos\n",
    "\n",
    "En la siguiente notebook, se presentará la consigna a seguir para el segundo práctico de la materia Exploración y Curación. El objetivo consiste en identificar e implementar los pasos necesarios para la limpieza de la base de datos, así como también analizar cruces de datos con mayor profundidad y validando el sentido lógico. \n",
    "\n",
    "Dataset: [here](https://drive.google.com/file/d/1wCNrWQbUd_bh1mdjZ-dg3g9y0r02JyQN/view?usp=sharing)"
   ]
  },
  {
   "cell_type": "markdown",
   "id": "29d354c1-156d-4bf7-a78f-50153ec48bce",
   "metadata": {
    "id": "29d354c1-156d-4bf7-a78f-50153ec48bce"
   },
   "source": [
    "## 1. Curación\n",
    "Con el objetivo de preparar los datos que alimentarán futuros modelos de aprendizaje automático\n",
    "\n",
    "* Asegurar IDs únicos\n",
    "  > Ejm. `id_comercio_movimiento` le corresponde un mismo `nombre_comercio_histo`?\n",
    "* Asegurar que el codigo postal tenga el tipo de datos correcto.\n",
    "* Tratamiento de valores Sensibles\n",
    "  > Ejm. cuando se tienen datos como el DNI, CUIL o Nro de Tarjetas correponde a datos confidenciales\n",
    "  - Codifcar los valores usando el algoritmo `sha256` con la libreria `hashlib`\n",
    "* Reemplazar caracteres especiales. Ejm\n",
    "  ```\n",
    "  ñ. Ñ. ~. ç. Ç. á. é. í. ó. ú. Á. É. Í. Ó. Ú. ü. Ü.\n",
    "  @. ¡ ! ¿ ? ⁄. \\. °. —. (. ) [. ] {. } 〈. 〉 ‹ › <. > \n",
    "  〔. 〕 « » ¹. ². ³ … ˜. §. ¶.  †. “ ” ∞. µ. à.\n",
    "  ```\n",
    "* Asegurar que las fechas tengan el formato ISO 8601, `YYYY-MM-DD`\n",
    "* Agrupar valores de `cargo_descripcion_histo`.\n",
    "  > Ejm. si tenemos un valor con`vigilador` y otro `sereno`, estos corresponden a una misma categoria., "
   ]
  },
  {
   "cell_type": "markdown",
   "id": "642f6af3-1e69-427e-9d2f-4b3d55cb112b",
   "metadata": {
    "id": "642f6af3-1e69-427e-9d2f-4b3d55cb112b"
   },
   "source": [
    "## 2. Data enrichment\n",
    "* obtener edad usando la columna `fecha_nacimiento` y `fecha_cupon_movimiento`\n",
    "* obtener antiguedad usando la columna `fecha_de_ingreso_histo` y `fecha_cupon_movimiento` en termino de meses\n",
    "* usando la columna `nombre_comercio_histo` crear una nueva columna clasificando el tipo de \"comercio\". Ejemplo \n",
    "   ```\n",
    "     COMISION POR MANTENIM.DE CTA., IMPUESTO SELLOS, INT.PAGO FUERA TERMINO ------> Categoria A\n",
    "     MERCADO PAGO, DESPEGAR.COM                                             ------> Categoria B\n",
    "   ```\n",
    "   > Crear un minimo de 5 categorias\n",
    "* se puede aplicar el proceso anterior a la columna `nombre_local_histo` y `cargo_descripcion_histo`. Aportaria informacion relevante?"
   ]
  },
  {
   "cell_type": "markdown",
   "id": "4a21a6a2-262b-4f6e-a9f4-5c21aad59aa0",
   "metadata": {
    "id": "4a21a6a2-262b-4f6e-a9f4-5c21aad59aa0"
   },
   "source": [
    "## 3. Exploración\n",
    "\n",
    "* Analisis de valores Nulos\n",
    "  - Existen columnas en donde se prodria hacer imputacion de valores? Si es asi, imputar los valores.\n",
    "  - Para aquellos en donde no aplique lo primero, conviene eliminarlos o agruparlos como otro valor?\n",
    "* Identificar valores atípicos.\n",
    "  * Para variables numericas, analisis de outliers. En que caso se pueden eliminar estos valores?\n",
    "  * Para variables categoricas, se pueden agrupar estos valores en una nueva categoria?\n",
    "    > Ejm. `cargo_descripcion_histo`\n",
    "  * Para fechas. existen fechas atipicas?\n",
    "    > Ejm. Una fecha con el valor `2021-12-03`, sabiendo que el dataset deberia tener  datos entre julio 2020 y mayo 2021 \n",
    "* Se puede normalizar la antiguedad y/o `monto_compra_movimiento`?\n",
    "* Usando la edad y la antiguerdad hacer una analisis de PCA junto con la variables `monto_compra_movimiento`\n",
    "  > pueden usar las 3 variables o hacer un analisis edad - monto y antiguedad - monto."
   ]
  },
  {
   "cell_type": "markdown",
   "id": "f04b1112-1d76-4ccb-a7e9-6958e6e7493a",
   "metadata": {
    "id": "f04b1112-1d76-4ccb-a7e9-6958e6e7493a"
   },
   "source": [
    "## 4. Guardado\n",
    "* Eliminar las columnas/filas que se concideren no necesarias, explicando el por que\n",
    "* Codificar variables: todas las variables categóricas deben guardarse como variables numéricas, no string\n",
    "* Comprimir el conjunto de datos para que se guarde en el formato más eficiente y comparalo contra `csv`."
   ]
  },
  {
   "cell_type": "markdown",
   "id": "bad59ed1-f0eb-4629-b668-57f66eec998d",
   "metadata": {
    "id": "bad59ed1-f0eb-4629-b668-57f66eec998d"
   },
   "source": [
    "## 5. Optativos\n",
    "En Big data se manejan datos crudos todo el tiempo y de gran volumen, este proceso de exploracion y limpieza\n",
    "es parte del proceso conocido como ETL (Extract, transform, load) o ELT (Extract, load, transform). \n",
    "Todo el proceso de este tp pertenece a la etapa de Transfom. En big data esto se hace de manera automatizada. \n",
    "\n",
    "* Entonces como asegurarse que los datos son saludables?.\n",
    "  Es decir que no contengan valores atipicos, nulls, tipos de datos incorrectos, etc.\n",
    "  No podemos hacer validaciones a mano si tenemos miles de datos por dia/hora.\n",
    "  > Hint: [great expectations](https://greatexpectations.io/)\n",
    "* Documentar las columnas finales. (procesos aplicados en este tp)\n"
   ]
  },
  {
   "cell_type": "code",
   "execution_count": 1,
   "id": "wrm02NppCqQL",
   "metadata": {
    "colab": {
     "base_uri": "https://localhost:8080/"
    },
    "id": "wrm02NppCqQL",
    "outputId": "76d32e4f-02e5-4422-eab3-5c57e7c13008"
   },
   "outputs": [
    {
     "name": "stdout",
     "output_type": "stream",
     "text": [
      "Requirement already satisfied: fastparquet==0.6.0.post1 in c:\\python39\\lib\\site-packages (0.6.0.post1)\n",
      "Requirement already satisfied: pandas>=1.1.0 in c:\\python39\\lib\\site-packages (from fastparquet==0.6.0.post1) (1.2.5)\n",
      "Requirement already satisfied: cramjam>=2.3.0 in c:\\python39\\lib\\site-packages (from fastparquet==0.6.0.post1) (2.3.2)\n",
      "Requirement already satisfied: thrift>=0.11.0 in c:\\python39\\lib\\site-packages (from fastparquet==0.6.0.post1) (0.13.0)\n",
      "Requirement already satisfied: numpy>=1.11 in c:\\python39\\lib\\site-packages (from fastparquet==0.6.0.post1) (1.21.0)\n",
      "Requirement already satisfied: numba>=0.49 in c:\\python39\\lib\\site-packages (from fastparquet==0.6.0.post1) (0.53.1)\n",
      "Requirement already satisfied: pytz>=2017.3 in c:\\python39\\lib\\site-packages (from pandas>=1.1.0->fastparquet==0.6.0.post1) (2021.1)\n",
      "Requirement already satisfied: python-dateutil>=2.7.3 in c:\\users\\anto_\\appdata\\roaming\\python\\python39\\site-packages (from pandas>=1.1.0->fastparquet==0.6.0.post1) (2.8.1)\n",
      "Requirement already satisfied: six>=1.7.2 in c:\\python39\\lib\\site-packages (from thrift>=0.11.0->fastparquet==0.6.0.post1) (1.15.0)\n",
      "Requirement already satisfied: setuptools in c:\\python39\\lib\\site-packages (from numba>=0.49->fastparquet==0.6.0.post1) (49.2.1)\n",
      "Requirement already satisfied: llvmlite<0.37,>=0.36.0rc1 in c:\\python39\\lib\\site-packages (from numba>=0.49->fastparquet==0.6.0.post1) (0.36.0)\n",
      "Note: you may need to restart the kernel to use updated packages.\n"
     ]
    },
    {
     "name": "stderr",
     "output_type": "stream",
     "text": [
      "WARNING: You are using pip version 20.2.3; however, version 21.1.3 is available.\n",
      "You should consider upgrading via the 'c:\\python39\\python.exe -m pip install --upgrade pip' command.\n"
     ]
    }
   ],
   "source": [
    "pip install fastparquet==0.6.0.post1"
   ]
  },
  {
   "cell_type": "code",
   "execution_count": 2,
   "id": "00b12ce2-c9d5-44bd-a4bb-2424b281c469",
   "metadata": {},
   "outputs": [
    {
     "name": "stdout",
     "output_type": "stream",
     "text": [
      "Requirement already satisfied: pyarrow in c:\\python39\\lib\\site-packages (4.0.1)\n",
      "Requirement already satisfied: numpy>=1.16.6 in c:\\python39\\lib\\site-packages (from pyarrow) (1.21.0)\n",
      "Note: you may need to restart the kernel to use updated packages.\n"
     ]
    },
    {
     "name": "stderr",
     "output_type": "stream",
     "text": [
      "WARNING: You are using pip version 20.2.3; however, version 21.1.3 is available.\n",
      "You should consider upgrading via the 'c:\\python39\\python.exe -m pip install --upgrade pip' command.\n"
     ]
    }
   ],
   "source": [
    "pip install pyarrow"
   ]
  },
  {
   "cell_type": "code",
   "execution_count": 3,
   "id": "0c829368-c5f2-4aa0-8fd6-9d6a4a51104b",
   "metadata": {
    "id": "0c829368-c5f2-4aa0-8fd6-9d6a4a51104b"
   },
   "outputs": [],
   "source": [
    "import pyarrow\n",
    "import fastparquet\n",
    "import pandas as pd"
   ]
  },
  {
   "cell_type": "markdown",
   "id": "f6fb9759-ba89-4780-8de2-04ac94c5085f",
   "metadata": {
    "id": "f6fb9759-ba89-4780-8de2-04ac94c5085f"
   },
   "source": [
    "Para cargar el dataset"
   ]
  },
  {
   "cell_type": "code",
   "execution_count": 4,
   "id": "02418a91-5fdc-4880-a4b7-76b347baa823",
   "metadata": {
    "colab": {
     "base_uri": "https://localhost:8080/",
     "height": 303
    },
    "id": "02418a91-5fdc-4880-a4b7-76b347baa823",
    "outputId": "4478e42d-12eb-4fc2-c2d0-6a9774605650"
   },
   "outputs": [],
   "source": [
    "df = pd.read_parquet(\"cupones_ds.parquet\")"
   ]
  },
  {
   "cell_type": "code",
   "execution_count": 6,
   "id": "10cd0f3c-2a47-4e8c-a337-9595b2bf840a",
   "metadata": {
    "colab": {
     "base_uri": "https://localhost:8080/",
     "height": 660
    },
    "id": "10cd0f3c-2a47-4e8c-a337-9595b2bf840a",
    "outputId": "feb57538-7d42-4a5f-926b-a1b18f4a380a"
   },
   "outputs": [
    {
     "data": {
      "text/html": [
       "<div>\n",
       "<style scoped>\n",
       "    .dataframe tbody tr th:only-of-type {\n",
       "        vertical-align: middle;\n",
       "    }\n",
       "\n",
       "    .dataframe tbody tr th {\n",
       "        vertical-align: top;\n",
       "    }\n",
       "\n",
       "    .dataframe thead th {\n",
       "        text-align: right;\n",
       "    }\n",
       "</style>\n",
       "<table border=\"1\" class=\"dataframe\">\n",
       "  <thead>\n",
       "    <tr style=\"text-align: right;\">\n",
       "      <th></th>\n",
       "      <th>dni_titular_movimiento</th>\n",
       "      <th>moneda_movimiento</th>\n",
       "      <th>id_comercio_movimiento</th>\n",
       "      <th>nombre_comercio_histo</th>\n",
       "      <th>numero_cupon_movimiento</th>\n",
       "      <th>debito_credito_movimiento</th>\n",
       "      <th>producto_naranja_movimiento</th>\n",
       "      <th>codigo_empresa_movimiento</th>\n",
       "      <th>tipo_producto_tarjeta_movimiento</th>\n",
       "      <th>plan_movimiento</th>\n",
       "      <th>...</th>\n",
       "      <th>sexo_descripcion</th>\n",
       "      <th>pais</th>\n",
       "      <th>provincia</th>\n",
       "      <th>ciudad</th>\n",
       "      <th>domicilio_codigo_postal</th>\n",
       "      <th>domicilio_barrio</th>\n",
       "      <th>fecha_de_ingreso_histo</th>\n",
       "      <th>cargo_descripcion_histo</th>\n",
       "      <th>nivel_estudio_descripcion_histo</th>\n",
       "      <th>rel_vivienda_descripcion_histo</th>\n",
       "    </tr>\n",
       "  </thead>\n",
       "  <tbody>\n",
       "    <tr>\n",
       "      <th>0</th>\n",
       "      <td>0001686b52949b5461ffcbc766687e45031</td>\n",
       "      <td>0</td>\n",
       "      <td>20099784</td>\n",
       "      <td>INTERES POR MORA U$S</td>\n",
       "      <td>200813</td>\n",
       "      <td>0</td>\n",
       "      <td>PL</td>\n",
       "      <td>1</td>\n",
       "      <td>0</td>\n",
       "      <td>1</td>\n",
       "      <td>...</td>\n",
       "      <td>Hombre</td>\n",
       "      <td>Argentina</td>\n",
       "      <td>BUENOS AIRES</td>\n",
       "      <td>LA TABLADA</td>\n",
       "      <td>1766.0</td>\n",
       "      <td>LA TABLADA</td>\n",
       "      <td>2012-12-11</td>\n",
       "      <td>EMP.DE COMERCIO</td>\n",
       "      <td>SECUNDARIOS</td>\n",
       "      <td>Propia</td>\n",
       "    </tr>\n",
       "    <tr>\n",
       "      <th>1</th>\n",
       "      <td>000220fa96ec5af89817894033f8099c547</td>\n",
       "      <td>0</td>\n",
       "      <td>20099784</td>\n",
       "      <td>INTERES POR MORA U$S</td>\n",
       "      <td>200813</td>\n",
       "      <td>0</td>\n",
       "      <td>PL</td>\n",
       "      <td>1</td>\n",
       "      <td>0</td>\n",
       "      <td>1</td>\n",
       "      <td>...</td>\n",
       "      <td>Mujer</td>\n",
       "      <td>Argentina</td>\n",
       "      <td>MENDOZA</td>\n",
       "      <td>VA.NVA. DE GUAYMALLEN</td>\n",
       "      <td>5521.0</td>\n",
       "      <td>GLLEN</td>\n",
       "      <td>2020-06-10</td>\n",
       "      <td>SIN DATOS</td>\n",
       "      <td>None</td>\n",
       "      <td>None</td>\n",
       "    </tr>\n",
       "    <tr>\n",
       "      <th>2</th>\n",
       "      <td>0002be202de47dfae9cc2304d91161be595</td>\n",
       "      <td>0</td>\n",
       "      <td>20099784</td>\n",
       "      <td>INTERES POR MORA U$S</td>\n",
       "      <td>200813</td>\n",
       "      <td>0</td>\n",
       "      <td>PL</td>\n",
       "      <td>1</td>\n",
       "      <td>0</td>\n",
       "      <td>1</td>\n",
       "      <td>...</td>\n",
       "      <td>Mujer</td>\n",
       "      <td>Argentina</td>\n",
       "      <td>BUENOS AIRES</td>\n",
       "      <td>SANTA TERESITA</td>\n",
       "      <td>7107.0</td>\n",
       "      <td>SANTA TERESITA</td>\n",
       "      <td>2012-09-13</td>\n",
       "      <td>SIN DATOS</td>\n",
       "      <td>PRIMARIOS</td>\n",
       "      <td>Otros</td>\n",
       "    </tr>\n",
       "    <tr>\n",
       "      <th>3</th>\n",
       "      <td>000e137d0af42e193be1ff670c00d4d1506</td>\n",
       "      <td>0</td>\n",
       "      <td>20099784</td>\n",
       "      <td>INTERES POR MORA U$S</td>\n",
       "      <td>200813</td>\n",
       "      <td>0</td>\n",
       "      <td>PL</td>\n",
       "      <td>1</td>\n",
       "      <td>0</td>\n",
       "      <td>1</td>\n",
       "      <td>...</td>\n",
       "      <td>Hombre</td>\n",
       "      <td>Argentina</td>\n",
       "      <td>SANTA FE</td>\n",
       "      <td>SAN LORENZO</td>\n",
       "      <td>2200.0</td>\n",
       "      <td>BOUCHARD</td>\n",
       "      <td>2008-01-15</td>\n",
       "      <td>EMP.DE COMERCIO</td>\n",
       "      <td>SECUNDARIOS</td>\n",
       "      <td>Propia</td>\n",
       "    </tr>\n",
       "    <tr>\n",
       "      <th>4</th>\n",
       "      <td>0009d010e4faf69552a814a33832b185877</td>\n",
       "      <td>0</td>\n",
       "      <td>20099784</td>\n",
       "      <td>INTERES POR MORA U$S</td>\n",
       "      <td>200813</td>\n",
       "      <td>0</td>\n",
       "      <td>PL</td>\n",
       "      <td>1</td>\n",
       "      <td>0</td>\n",
       "      <td>1</td>\n",
       "      <td>...</td>\n",
       "      <td>Mujer</td>\n",
       "      <td>Argentina</td>\n",
       "      <td>CAPITAL FEDERAL</td>\n",
       "      <td>CIUDAD AUTONOMA DE BUENOS AIRES</td>\n",
       "      <td>1019.0</td>\n",
       "      <td>SAN NICOLAS</td>\n",
       "      <td>2013-06-06</td>\n",
       "      <td>EMP.DE COMERCIO</td>\n",
       "      <td>UNIVERSITARIOS</td>\n",
       "      <td>Alquilada</td>\n",
       "    </tr>\n",
       "  </tbody>\n",
       "</table>\n",
       "<p>5 rows × 41 columns</p>\n",
       "</div>"
      ],
      "text/plain": [
       "                dni_titular_movimiento  moneda_movimiento  \\\n",
       "0  0001686b52949b5461ffcbc766687e45031                  0   \n",
       "1  000220fa96ec5af89817894033f8099c547                  0   \n",
       "2  0002be202de47dfae9cc2304d91161be595                  0   \n",
       "3  000e137d0af42e193be1ff670c00d4d1506                  0   \n",
       "4  0009d010e4faf69552a814a33832b185877                  0   \n",
       "\n",
       "   id_comercio_movimiento                     nombre_comercio_histo  \\\n",
       "0                20099784  INTERES POR MORA U$S                       \n",
       "1                20099784  INTERES POR MORA U$S                       \n",
       "2                20099784  INTERES POR MORA U$S                       \n",
       "3                20099784  INTERES POR MORA U$S                       \n",
       "4                20099784  INTERES POR MORA U$S                       \n",
       "\n",
       "   numero_cupon_movimiento  debito_credito_movimiento  \\\n",
       "0                   200813                          0   \n",
       "1                   200813                          0   \n",
       "2                   200813                          0   \n",
       "3                   200813                          0   \n",
       "4                   200813                          0   \n",
       "\n",
       "  producto_naranja_movimiento  codigo_empresa_movimiento  \\\n",
       "0                          PL                          1   \n",
       "1                          PL                          1   \n",
       "2                          PL                          1   \n",
       "3                          PL                          1   \n",
       "4                          PL                          1   \n",
       "\n",
       "   tipo_producto_tarjeta_movimiento  plan_movimiento  ... sexo_descripcion  \\\n",
       "0                                 0                1  ...           Hombre   \n",
       "1                                 0                1  ...            Mujer   \n",
       "2                                 0                1  ...            Mujer   \n",
       "3                                 0                1  ...           Hombre   \n",
       "4                                 0                1  ...            Mujer   \n",
       "\n",
       "        pais        provincia                           ciudad  \\\n",
       "0  Argentina     BUENOS AIRES                       LA TABLADA   \n",
       "1  Argentina          MENDOZA            VA.NVA. DE GUAYMALLEN   \n",
       "2  Argentina     BUENOS AIRES                   SANTA TERESITA   \n",
       "3  Argentina         SANTA FE                      SAN LORENZO   \n",
       "4  Argentina  CAPITAL FEDERAL  CIUDAD AUTONOMA DE BUENOS AIRES   \n",
       "\n",
       "   domicilio_codigo_postal  domicilio_barrio  fecha_de_ingreso_histo  \\\n",
       "0                   1766.0        LA TABLADA              2012-12-11   \n",
       "1                   5521.0             GLLEN              2020-06-10   \n",
       "2                   7107.0    SANTA TERESITA              2012-09-13   \n",
       "3                   2200.0          BOUCHARD              2008-01-15   \n",
       "4                   1019.0       SAN NICOLAS              2013-06-06   \n",
       "\n",
       "   cargo_descripcion_histo  nivel_estudio_descripcion_histo  \\\n",
       "0          EMP.DE COMERCIO                      SECUNDARIOS   \n",
       "1                SIN DATOS                             None   \n",
       "2                SIN DATOS                        PRIMARIOS   \n",
       "3          EMP.DE COMERCIO                      SECUNDARIOS   \n",
       "4          EMP.DE COMERCIO                   UNIVERSITARIOS   \n",
       "\n",
       "   rel_vivienda_descripcion_histo  \n",
       "0                          Propia  \n",
       "1                            None  \n",
       "2                           Otros  \n",
       "3                          Propia  \n",
       "4                       Alquilada  \n",
       "\n",
       "[5 rows x 41 columns]"
      ]
     },
     "execution_count": 6,
     "metadata": {},
     "output_type": "execute_result"
    }
   ],
   "source": [
    "df [:5]"
   ]
  },
  {
   "cell_type": "code",
   "execution_count": null,
   "id": "0F8w19B__ouQ",
   "metadata": {
    "id": "0F8w19B__ouQ"
   },
   "outputs": [],
   "source": []
  }
 ],
 "metadata": {
  "colab": {
   "collapsed_sections": [],
   "name": "consignas.ipynb",
   "provenance": []
  },
  "kernelspec": {
   "display_name": "Python 3",
   "language": "python",
   "name": "python3"
  },
  "language_info": {
   "codemirror_mode": {
    "name": "ipython",
    "version": 3
   },
   "file_extension": ".py",
   "mimetype": "text/x-python",
   "name": "python",
   "nbconvert_exporter": "python",
   "pygments_lexer": "ipython3",
   "version": "3.9.4"
  }
 },
 "nbformat": 4,
 "nbformat_minor": 5
}
