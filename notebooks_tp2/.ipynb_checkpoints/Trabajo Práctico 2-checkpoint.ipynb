{
 "cells": [
  {
   "cell_type": "markdown",
   "id": "4c06fd04-3458-4bba-a6ea-061d78db4e0f",
   "metadata": {},
   "source": [
    "\n",
    "# Diplomatura en Ciencia de Datos, Aprendizaje Automático y sus Aplicaciones\n",
    "\n",
    "<center>\n",
    "<img \n",
    "     src=\"http://www2.famaf.unc.edu.ar/~efernandez/egeo/img/logos/famaf.jpg\" \n",
    "     alt=\"Drawing\" \n",
    "     style=\"width:30%;\"\n",
    "/>\n",
    "</center>\n",
    "\n",
    "### Universidad Nacional de Córdoba\n",
    "---"
   ]
  },
  {
   "cell_type": "markdown",
   "id": "0274abb1-255e-4ded-ac4a-a2d00041f17e",
   "metadata": {},
   "source": [
    "## Practico\n",
    "### Curación y Exploración de Datos\n",
    "\n",
    "En la siguiente notebook, se presentará la consigna a seguir para el segundo práctico de la materia Exploración y Curación. El objetivo consiste en identificar e implementar los pasos necesarios para la limpieza de la base de datos, así como también analizar cruces de datos con mayor profundidad y validando el sentido lógico. \n",
    "\n",
    "Dataset: [here](https://drive.google.com/file/d/1wCNrWQbUd_bh1mdjZ-dg3g9y0r02JyQN/view?usp=sharing)"
   ]
  },
  {
   "cell_type": "markdown",
   "id": "6422abff",
   "metadata": {},
   "source": [
    "## Importación de Librerías"
   ]
  },
  {
   "cell_type": "code",
   "execution_count": 1,
   "id": "50356f53-6913-452f-8c7f-ad54ff1b87fb",
   "metadata": {},
   "outputs": [
    {
     "name": "stdout",
     "output_type": "stream",
     "text": [
      "Requirement already satisfied: sklearn in c:\\python39\\lib\\site-packages (0.0)\n",
      "Requirement already satisfied: scikit-learn in c:\\python39\\lib\\site-packages (from sklearn) (0.24.2)\n",
      "Requirement already satisfied: scipy>=0.19.1 in c:\\python39\\lib\\site-packages (from scikit-learn->sklearn) (1.7.0)\n",
      "Requirement already satisfied: numpy>=1.13.3 in c:\\python39\\lib\\site-packages (from scikit-learn->sklearn) (1.21.0)\n",
      "Requirement already satisfied: threadpoolctl>=2.0.0 in c:\\python39\\lib\\site-packages (from scikit-learn->sklearn) (2.1.0)\n",
      "Requirement already satisfied: joblib>=0.11 in c:\\python39\\lib\\site-packages (from scikit-learn->sklearn) (1.0.1)\n"
     ]
    },
    {
     "name": "stderr",
     "output_type": "stream",
     "text": [
      "WARNING: You are using pip version 20.2.3; however, version 21.1.3 is available.\n",
      "You should consider upgrading via the 'c:\\python39\\python.exe -m pip install --upgrade pip' command.\n"
     ]
    }
   ],
   "source": [
    "!pip install sklearn"
   ]
  },
  {
   "cell_type": "code",
   "execution_count": 2,
   "id": "6f9d5ca0-3696-412d-88fe-7c1d23e7d578",
   "metadata": {},
   "outputs": [
    {
     "name": "stdout",
     "output_type": "stream",
     "text": [
      "Requirement already satisfied: missingno in c:\\python39\\lib\\site-packages (0.4.2)\n",
      "Requirement already satisfied: matplotlib in c:\\python39\\lib\\site-packages (from missingno) (3.4.2)\n",
      "Requirement already satisfied: numpy in c:\\python39\\lib\\site-packages (from missingno) (1.21.0)\n",
      "Requirement already satisfied: seaborn in c:\\python39\\lib\\site-packages (from missingno) (0.11.1)\n",
      "Requirement already satisfied: scipy in c:\\python39\\lib\\site-packages (from missingno) (1.7.0)\n",
      "Requirement already satisfied: kiwisolver>=1.0.1 in c:\\python39\\lib\\site-packages (from matplotlib->missingno) (1.3.1)\n",
      "Requirement already satisfied: pillow>=6.2.0 in c:\\python39\\lib\\site-packages (from matplotlib->missingno) (8.2.0)\n",
      "Requirement already satisfied: pyparsing>=2.2.1 in c:\\python39\\lib\\site-packages (from matplotlib->missingno) (2.4.7)\n",
      "Requirement already satisfied: cycler>=0.10 in c:\\python39\\lib\\site-packages (from matplotlib->missingno) (0.10.0)\n",
      "Requirement already satisfied: python-dateutil>=2.7 in c:\\users\\anto_\\appdata\\roaming\\python\\python39\\site-packages (from matplotlib->missingno) (2.8.1)\n",
      "Requirement already satisfied: pandas>=0.23 in c:\\python39\\lib\\site-packages (from seaborn->missingno) (1.2.5)\n",
      "Requirement already satisfied: six in c:\\python39\\lib\\site-packages (from cycler>=0.10->matplotlib->missingno) (1.15.0)\n",
      "Requirement already satisfied: pytz>=2017.3 in c:\\python39\\lib\\site-packages (from pandas>=0.23->seaborn->missingno) (2021.1)\n"
     ]
    },
    {
     "name": "stderr",
     "output_type": "stream",
     "text": [
      "WARNING: You are using pip version 20.2.3; however, version 21.1.3 is available.\n",
      "You should consider upgrading via the 'c:\\python39\\python.exe -m pip install --upgrade pip' command.\n"
     ]
    }
   ],
   "source": [
    "!pip install missingno"
   ]
  },
  {
   "cell_type": "code",
   "execution_count": 3,
   "id": "0c829368-c5f2-4aa0-8fd6-9d6a4a51104b",
   "metadata": {},
   "outputs": [],
   "source": [
    "import pyarrow\n",
    "import fastparquet\n",
    "import pandas as pd\n",
    "import numpy as np\n",
    "from sklearn.impute import SimpleImputer\n",
    "import missingno as msno\n",
    "import matplotlib.pyplot as plt\n",
    "import seaborn as sns\n",
    "\n",
    "pd.set_option('display.max_columns', None)"
   ]
  },
  {
   "cell_type": "markdown",
   "id": "f6fb9759-ba89-4780-8de2-04ac94c5085f",
   "metadata": {},
   "source": [
    "## Lectura de Datasets"
   ]
  },
  {
   "cell_type": "code",
   "execution_count": 4,
   "id": "02418a91-5fdc-4880-a4b7-76b347baa823",
   "metadata": {},
   "outputs": [],
   "source": [
    "df_orig = pd.read_parquet(\"cupones_ds.parquet\")\n",
    "df = df_orig"
   ]
  },
  {
   "cell_type": "markdown",
   "id": "29d354c1-156d-4bf7-a78f-50153ec48bce",
   "metadata": {},
   "source": [
    "## 1. Curación\n",
    "Con el objetivo de preparar los datos que alimentarán futuros modelos de aprendizaje automático\n",
    "\n",
    "* Asegurar IDs únicos\n",
    "  > Ejm. `id_comercio_movimiento` le corresponde un mismo `nombre_comercio_histo`?\n",
    "* Asegurar que el codigo postal tenga el tipo de datos correcto.\n",
    "* Tratamiento de valores Sensibles\n",
    "  > Ejm. cuando se tienen datos como el DNI, CUIL o Nro de Tarjetas correponde a datos confidenciales\n",
    "  - Codifcar los valores usando el algoritmo `sha256` con la libreria `hashlib`\n",
    "* Reemplazar caracteres especiales. Ejm\n",
    "  ```\n",
    "  ñ. Ñ. ~. ç. Ç. á. é. í. ó. ú. Á. É. Í. Ó. Ú. ü. Ü.\n",
    "  @. ¡ ! ¿ ? ⁄. \\. °. —. (. ) [. ] {. } 〈. 〉 ‹ › <. > \n",
    "  〔. 〕 « » ¹. ². ³ … ˜. §. ¶.  †. “ ” ∞. µ. à.\n",
    "  ```\n",
    "* Asegurar que las fechas tengan el formato ISO 8601, `YYYY-MM-DD`\n",
    "* Agrupar valores de `cargo_descripcion_histo`.\n",
    "  > Ejm. si tenemos un valor con`vigilador` y otro `sereno`, estos corresponden a una misma categoria., "
   ]
  },
  {
   "cell_type": "code",
   "execution_count": 5,
   "id": "3cebe2b6",
   "metadata": {},
   "outputs": [
    {
     "data": {
      "text/plain": [
       "Index(['dni_titular_movimiento', 'moneda_movimiento', 'id_comercio_movimiento',\n",
       "       'nombre_comercio_histo', 'numero_cupon_movimiento',\n",
       "       'debito_credito_movimiento', 'producto_naranja_movimiento',\n",
       "       'codigo_empresa_movimiento', 'tipo_producto_tarjeta_movimiento',\n",
       "       'plan_movimiento', 'fecha_vto_cupon_movimiento',\n",
       "       'fecha_presentacion_movimiento', 'fecha_cupon_movimiento',\n",
       "       'fecha_carga_sistema_movimiento', 'monto_compra_movimiento',\n",
       "       'importe_cuota_movimiento', 'interes_movimiento',\n",
       "       'cargo_adm_seguro_movimiento', 'cargo_otorgamiento_movimiento',\n",
       "       'cargo_seguro_vida_movimiento', 'cargo_administrativo_movimiento',\n",
       "       'seleccionado_ng', 'tipo_prestamo_movimiento',\n",
       "       'codigo_contable_movimiento', 'local_venta_producto',\n",
       "       'nombre_local_histo', 'marca_debito_automatico',\n",
       "       'fecha_extraccion_movimiento', 'id_comercio_otras_marcas_movimiento',\n",
       "       'fecha_nacimiento', 'estado_civil_descripcion', 'sexo_descripcion',\n",
       "       'pais', 'provincia', 'ciudad', 'domicilio_codigo_postal',\n",
       "       'domicilio_barrio', 'fecha_de_ingreso_histo', 'cargo_descripcion_histo',\n",
       "       'nivel_estudio_descripcion_histo', 'rel_vivienda_descripcion_histo'],\n",
       "      dtype='object')"
      ]
     },
     "execution_count": 5,
     "metadata": {},
     "output_type": "execute_result"
    }
   ],
   "source": [
    "df.columns"
   ]
  },
  {
   "cell_type": "markdown",
   "id": "0512368b",
   "metadata": {},
   "source": [
    "### Asegurar IDs únicos"
   ]
  },
  {
   "cell_type": "code",
   "execution_count": 6,
   "id": "e2ba1476-e2c5-46bd-b29c-d169018dad6d",
   "metadata": {},
   "outputs": [
    {
     "data": {
      "text/plain": [
       "958705120    464301\n",
       "20099902     415104\n",
       "20089993     359283\n",
       "20099745     239775\n",
       "20099760     194994\n",
       "              ...  \n",
       "380028770        15\n",
       "115052555        15\n",
       "840017948        15\n",
       "20101264         14\n",
       "64194852          5\n",
       "Name: id_comercio_movimiento, Length: 3833, dtype: int64"
      ]
     },
     "execution_count": 6,
     "metadata": {},
     "output_type": "execute_result"
    }
   ],
   "source": [
    "df['id_comercio_movimiento'].value_counts() # 3833 valores unicos para id_comercio"
   ]
  },
  {
   "cell_type": "code",
   "execution_count": 7,
   "id": "353a59bc-f8bd-4e44-8fdf-0e6ae595d655",
   "metadata": {},
   "outputs": [
    {
     "data": {
      "text/html": [
       "<div>\n",
       "<style scoped>\n",
       "    .dataframe tbody tr th:only-of-type {\n",
       "        vertical-align: middle;\n",
       "    }\n",
       "\n",
       "    .dataframe tbody tr th {\n",
       "        vertical-align: top;\n",
       "    }\n",
       "\n",
       "    .dataframe thead th {\n",
       "        text-align: right;\n",
       "    }\n",
       "</style>\n",
       "<table border=\"1\" class=\"dataframe\">\n",
       "  <thead>\n",
       "    <tr style=\"text-align: right;\">\n",
       "      <th></th>\n",
       "      <th>id_comercio_movimiento</th>\n",
       "      <th>nombre_comercio_histo</th>\n",
       "    </tr>\n",
       "  </thead>\n",
       "  <tbody>\n",
       "    <tr>\n",
       "      <th>22913</th>\n",
       "      <td>10099033</td>\n",
       "      <td>TARJETA NARANJA SUBTE</td>\n",
       "    </tr>\n",
       "    <tr>\n",
       "      <th>97058</th>\n",
       "      <td>10099033</td>\n",
       "      <td>TARJETA NARANJA SUBTE</td>\n",
       "    </tr>\n",
       "  </tbody>\n",
       "</table>\n",
       "</div>"
      ],
      "text/plain": [
       "       id_comercio_movimiento                     nombre_comercio_histo\n",
       "22913                10099033  TARJETA NARANJA SUBTE                   \n",
       "97058                10099033                     TARJETA NARANJA SUBTE"
      ]
     },
     "execution_count": 7,
     "metadata": {},
     "output_type": "execute_result"
    }
   ],
   "source": [
    "# Aca deberia haber 2 'TARJETA NARANJA SUBTE'\n",
    "\n",
    "df[df['nombre_comercio_histo'].str.contains('TARJETA NARANJA SUBTE')] \\\n",
    "                                        [['id_comercio_movimiento','nombre_comercio_histo']] \\\n",
    "                                        .drop_duplicates()"
   ]
  },
  {
   "cell_type": "code",
   "execution_count": 8,
   "id": "eb9ae61a-4d91-4b55-8758-95494e9b7b06",
   "metadata": {},
   "outputs": [],
   "source": [
    "# Reagrupar los comercios que tienen mas de un nombre y concatenar todos sus nombres\n",
    "\n",
    "df.nombre_comercio_histo = df.nombre_comercio_histo.str.strip()\n",
    "\n",
    "df_unicos = (\n",
    "    df[[\"id_comercio_movimiento\", \"nombre_comercio_histo\"]].drop_duplicates()\n",
    "        .groupby(\"id_comercio_movimiento\")\n",
    "        .sum()\n",
    ").reset_index()"
   ]
  },
  {
   "cell_type": "code",
   "execution_count": 9,
   "id": "e2e31ed5-73e2-4a43-9f68-d74c5769cfe0",
   "metadata": {},
   "outputs": [
    {
     "data": {
      "text/html": [
       "<div>\n",
       "<style scoped>\n",
       "    .dataframe tbody tr th:only-of-type {\n",
       "        vertical-align: middle;\n",
       "    }\n",
       "\n",
       "    .dataframe tbody tr th {\n",
       "        vertical-align: top;\n",
       "    }\n",
       "\n",
       "    .dataframe thead th {\n",
       "        text-align: right;\n",
       "    }\n",
       "</style>\n",
       "<table border=\"1\" class=\"dataframe\">\n",
       "  <thead>\n",
       "    <tr style=\"text-align: right;\">\n",
       "      <th></th>\n",
       "      <th>id_comercio_movimiento</th>\n",
       "      <th>nombre_comercio_concat</th>\n",
       "    </tr>\n",
       "  </thead>\n",
       "  <tbody>\n",
       "    <tr>\n",
       "      <th>0</th>\n",
       "      <td>10099033</td>\n",
       "      <td>TARJETA NARANJA SUBTE</td>\n",
       "    </tr>\n",
       "    <tr>\n",
       "      <th>1</th>\n",
       "      <td>10099058</td>\n",
       "      <td>TARJETA NARANJA SUCRE</td>\n",
       "    </tr>\n",
       "    <tr>\n",
       "      <th>2</th>\n",
       "      <td>10099814</td>\n",
       "      <td>TARJETA NARANJA SAN VICENTE</td>\n",
       "    </tr>\n",
       "    <tr>\n",
       "      <th>3</th>\n",
       "      <td>20080001</td>\n",
       "      <td>PAGO ANULADO POR VERIFICACION</td>\n",
       "    </tr>\n",
       "    <tr>\n",
       "      <th>4</th>\n",
       "      <td>20089993</td>\n",
       "      <td>IMPUESTO SELLOS</td>\n",
       "    </tr>\n",
       "    <tr>\n",
       "      <th>...</th>\n",
       "      <td>...</td>\n",
       "      <td>...</td>\n",
       "    </tr>\n",
       "    <tr>\n",
       "      <th>3828</th>\n",
       "      <td>991085968</td>\n",
       "      <td>PUERTO TERNURAS</td>\n",
       "    </tr>\n",
       "    <tr>\n",
       "      <th>3829</th>\n",
       "      <td>991097830</td>\n",
       "      <td>PEQUE&amp;OS SUE&amp;OS</td>\n",
       "    </tr>\n",
       "    <tr>\n",
       "      <th>3830</th>\n",
       "      <td>991108260</td>\n",
       "      <td>DISCO SM 156</td>\n",
       "    </tr>\n",
       "    <tr>\n",
       "      <th>3831</th>\n",
       "      <td>991108624</td>\n",
       "      <td>JUMBO MOR�N</td>\n",
       "    </tr>\n",
       "    <tr>\n",
       "      <th>3832</th>\n",
       "      <td>991108904</td>\n",
       "      <td>PUNTO DEPORTIVO</td>\n",
       "    </tr>\n",
       "  </tbody>\n",
       "</table>\n",
       "<p>3833 rows × 2 columns</p>\n",
       "</div>"
      ],
      "text/plain": [
       "      id_comercio_movimiento         nombre_comercio_concat\n",
       "0                   10099033          TARJETA NARANJA SUBTE\n",
       "1                   10099058          TARJETA NARANJA SUCRE\n",
       "2                   10099814    TARJETA NARANJA SAN VICENTE\n",
       "3                   20080001  PAGO ANULADO POR VERIFICACION\n",
       "4                   20089993                IMPUESTO SELLOS\n",
       "...                      ...                            ...\n",
       "3828               991085968                PUERTO TERNURAS\n",
       "3829               991097830                PEQUE&OS SUE&OS\n",
       "3830               991108260                   DISCO SM 156\n",
       "3831               991108624                    JUMBO MOR�N\n",
       "3832               991108904                PUNTO DEPORTIVO\n",
       "\n",
       "[3833 rows x 2 columns]"
      ]
     },
     "execution_count": 9,
     "metadata": {},
     "output_type": "execute_result"
    }
   ],
   "source": [
    "df_unicos = df_unicos.rename(columns={'nombre_comercio_histo':'nombre_comercio_concat'})\n",
    "df_unicos"
   ]
  },
  {
   "cell_type": "code",
   "execution_count": 10,
   "id": "64125534-560c-44fe-8627-364b425b1b13",
   "metadata": {},
   "outputs": [],
   "source": [
    "# Unimos con dataframe original agregando la columna nueva con relacion 1:1 con el id\n",
    "\n",
    "df = df.merge(df_unicos, on='id_comercio_movimiento', how='inner')"
   ]
  },
  {
   "cell_type": "code",
   "execution_count": 11,
   "id": "4513e802-76b2-4744-82fa-1cc63b529388",
   "metadata": {},
   "outputs": [
    {
     "data": {
      "text/html": [
       "<div>\n",
       "<style scoped>\n",
       "    .dataframe tbody tr th:only-of-type {\n",
       "        vertical-align: middle;\n",
       "    }\n",
       "\n",
       "    .dataframe tbody tr th {\n",
       "        vertical-align: top;\n",
       "    }\n",
       "\n",
       "    .dataframe thead th {\n",
       "        text-align: right;\n",
       "    }\n",
       "</style>\n",
       "<table border=\"1\" class=\"dataframe\">\n",
       "  <thead>\n",
       "    <tr style=\"text-align: right;\">\n",
       "      <th></th>\n",
       "      <th>nombre_comercio_concat</th>\n",
       "    </tr>\n",
       "    <tr>\n",
       "      <th>id_comercio_movimiento</th>\n",
       "      <th></th>\n",
       "    </tr>\n",
       "  </thead>\n",
       "  <tbody>\n",
       "    <tr>\n",
       "      <th>10099033</th>\n",
       "      <td>1</td>\n",
       "    </tr>\n",
       "    <tr>\n",
       "      <th>10099058</th>\n",
       "      <td>1</td>\n",
       "    </tr>\n",
       "    <tr>\n",
       "      <th>10099814</th>\n",
       "      <td>1</td>\n",
       "    </tr>\n",
       "    <tr>\n",
       "      <th>20080001</th>\n",
       "      <td>1</td>\n",
       "    </tr>\n",
       "    <tr>\n",
       "      <th>20089993</th>\n",
       "      <td>1</td>\n",
       "    </tr>\n",
       "    <tr>\n",
       "      <th>...</th>\n",
       "      <td>...</td>\n",
       "    </tr>\n",
       "    <tr>\n",
       "      <th>991085968</th>\n",
       "      <td>1</td>\n",
       "    </tr>\n",
       "    <tr>\n",
       "      <th>991097830</th>\n",
       "      <td>1</td>\n",
       "    </tr>\n",
       "    <tr>\n",
       "      <th>991108260</th>\n",
       "      <td>1</td>\n",
       "    </tr>\n",
       "    <tr>\n",
       "      <th>991108624</th>\n",
       "      <td>1</td>\n",
       "    </tr>\n",
       "    <tr>\n",
       "      <th>991108904</th>\n",
       "      <td>1</td>\n",
       "    </tr>\n",
       "  </tbody>\n",
       "</table>\n",
       "<p>3833 rows × 1 columns</p>\n",
       "</div>"
      ],
      "text/plain": [
       "                        nombre_comercio_concat\n",
       "id_comercio_movimiento                        \n",
       "10099033                                     1\n",
       "10099058                                     1\n",
       "10099814                                     1\n",
       "20080001                                     1\n",
       "20089993                                     1\n",
       "...                                        ...\n",
       "991085968                                    1\n",
       "991097830                                    1\n",
       "991108260                                    1\n",
       "991108624                                    1\n",
       "991108904                                    1\n",
       "\n",
       "[3833 rows x 1 columns]"
      ]
     },
     "execution_count": 11,
     "metadata": {},
     "output_type": "execute_result"
    }
   ],
   "source": [
    "# Relacion 1:1 entre id_comercio_movimiento y la columna nueva con los nombres concatenados\n",
    "\n",
    "df[['id_comercio_movimiento', 'nombre_comercio_concat']].drop_duplicates() \\\n",
    ".groupby(['id_comercio_movimiento']).count() # Deberia dar 3833 que es la cantidad de ids unicos"
   ]
  },
  {
   "cell_type": "markdown",
   "id": "1c9e8148-f9dd-4fc2-b6d3-696c4bf9d3d9",
   "metadata": {},
   "source": [
    "El dataframe contiene una relacion 1:N correspondiente a id_comercio y a nombre_comercio. Estudiando casos donde esto ocurre, vimos que se debe a dos razones. Por un lado, los nombres pueden venir con caracteres especiales distintos para cada caso, causando que se identifiquen como distintos. Por otro lado, se debe a que un mismo id_comercio puede haber cambiado el nombre para distintos pagos, generando multiples nombres para un mismo id.\n",
    "\n",
    "Para los casos donde el nombre viene con caracteres especiales, se aplica la funcion ´strip()´ que se encarga de eliminarlos. Para los casos donde los nombres si difieren, reagrupamos los casos donde hay distintos nombres y los concatenamos en una nueva columna ´nombre_comercio_concat´. Esto provoca que para los casos donde hay un unico nombre para un id, el valor quedaria igual al de la columna nombre_comercio_histo; en cambio, para los casos que si hay nombres distintos, quedara el nombre concatenado de todos los nombres asociados a ese id originalmente. De esta manera se pierde la diferencia entre los distintos nombres asociados a ese id pero se gana la relacion 1:1 entre id y nombre."
   ]
  },
  {
   "cell_type": "code",
   "execution_count": 12,
   "id": "2c146f9f-e2dc-4e21-b101-070fa4fa4977",
   "metadata": {},
   "outputs": [
    {
     "data": {
      "text/html": [
       "<div>\n",
       "<style scoped>\n",
       "    .dataframe tbody tr th:only-of-type {\n",
       "        vertical-align: middle;\n",
       "    }\n",
       "\n",
       "    .dataframe tbody tr th {\n",
       "        vertical-align: top;\n",
       "    }\n",
       "\n",
       "    .dataframe thead th {\n",
       "        text-align: right;\n",
       "    }\n",
       "</style>\n",
       "<table border=\"1\" class=\"dataframe\">\n",
       "  <thead>\n",
       "    <tr style=\"text-align: right;\">\n",
       "      <th></th>\n",
       "      <th>id_comercio_movimiento</th>\n",
       "      <th>nombre_comercio_histo</th>\n",
       "      <th>nombre_comercio_concat</th>\n",
       "    </tr>\n",
       "  </thead>\n",
       "  <tbody>\n",
       "    <tr>\n",
       "      <th>3901719</th>\n",
       "      <td>262002246</td>\n",
       "      <td>ATM CIA. DE SEGUROS</td>\n",
       "      <td>ATM CIA. DE SEGUROSATMCIASEGASEGURADORA TOTAL ...</td>\n",
       "    </tr>\n",
       "    <tr>\n",
       "      <th>3901720</th>\n",
       "      <td>262002246</td>\n",
       "      <td>ATM CIA. DE SEGUROS</td>\n",
       "      <td>ATM CIA. DE SEGUROSATMCIASEGASEGURADORA TOTAL ...</td>\n",
       "    </tr>\n",
       "    <tr>\n",
       "      <th>3901721</th>\n",
       "      <td>262002246</td>\n",
       "      <td>ATM CIA. DE SEGUROS</td>\n",
       "      <td>ATM CIA. DE SEGUROSATMCIASEGASEGURADORA TOTAL ...</td>\n",
       "    </tr>\n",
       "    <tr>\n",
       "      <th>3901722</th>\n",
       "      <td>262002246</td>\n",
       "      <td>ATM CIA. DE SEGUROS</td>\n",
       "      <td>ATM CIA. DE SEGUROSATMCIASEGASEGURADORA TOTAL ...</td>\n",
       "    </tr>\n",
       "    <tr>\n",
       "      <th>3901723</th>\n",
       "      <td>262002246</td>\n",
       "      <td>ATM CIA. DE SEGUROS</td>\n",
       "      <td>ATM CIA. DE SEGUROSATMCIASEGASEGURADORA TOTAL ...</td>\n",
       "    </tr>\n",
       "    <tr>\n",
       "      <th>...</th>\n",
       "      <td>...</td>\n",
       "      <td>...</td>\n",
       "      <td>...</td>\n",
       "    </tr>\n",
       "    <tr>\n",
       "      <th>3903094</th>\n",
       "      <td>262002246</td>\n",
       "      <td>ATMCIASEG</td>\n",
       "      <td>ATM CIA. DE SEGUROSATMCIASEGASEGURADORA TOTAL ...</td>\n",
       "    </tr>\n",
       "    <tr>\n",
       "      <th>3903095</th>\n",
       "      <td>262002246</td>\n",
       "      <td>ATMCIASEG</td>\n",
       "      <td>ATM CIA. DE SEGUROSATMCIASEGASEGURADORA TOTAL ...</td>\n",
       "    </tr>\n",
       "    <tr>\n",
       "      <th>3903096</th>\n",
       "      <td>262002246</td>\n",
       "      <td>ATMCIASEG</td>\n",
       "      <td>ATM CIA. DE SEGUROSATMCIASEGASEGURADORA TOTAL ...</td>\n",
       "    </tr>\n",
       "    <tr>\n",
       "      <th>3903097</th>\n",
       "      <td>262002246</td>\n",
       "      <td>ATMCIASEG</td>\n",
       "      <td>ATM CIA. DE SEGUROSATMCIASEGASEGURADORA TOTAL ...</td>\n",
       "    </tr>\n",
       "    <tr>\n",
       "      <th>3903098</th>\n",
       "      <td>262002246</td>\n",
       "      <td>ATMCIASEG</td>\n",
       "      <td>ATM CIA. DE SEGUROSATMCIASEGASEGURADORA TOTAL ...</td>\n",
       "    </tr>\n",
       "  </tbody>\n",
       "</table>\n",
       "<p>1380 rows × 3 columns</p>\n",
       "</div>"
      ],
      "text/plain": [
       "         id_comercio_movimiento nombre_comercio_histo  \\\n",
       "3901719               262002246   ATM CIA. DE SEGUROS   \n",
       "3901720               262002246   ATM CIA. DE SEGUROS   \n",
       "3901721               262002246   ATM CIA. DE SEGUROS   \n",
       "3901722               262002246   ATM CIA. DE SEGUROS   \n",
       "3901723               262002246   ATM CIA. DE SEGUROS   \n",
       "...                         ...                   ...   \n",
       "3903094               262002246             ATMCIASEG   \n",
       "3903095               262002246             ATMCIASEG   \n",
       "3903096               262002246             ATMCIASEG   \n",
       "3903097               262002246             ATMCIASEG   \n",
       "3903098               262002246             ATMCIASEG   \n",
       "\n",
       "                                    nombre_comercio_concat  \n",
       "3901719  ATM CIA. DE SEGUROSATMCIASEGASEGURADORA TOTAL ...  \n",
       "3901720  ATM CIA. DE SEGUROSATMCIASEGASEGURADORA TOTAL ...  \n",
       "3901721  ATM CIA. DE SEGUROSATMCIASEGASEGURADORA TOTAL ...  \n",
       "3901722  ATM CIA. DE SEGUROSATMCIASEGASEGURADORA TOTAL ...  \n",
       "3901723  ATM CIA. DE SEGUROSATMCIASEGASEGURADORA TOTAL ...  \n",
       "...                                                    ...  \n",
       "3903094  ATM CIA. DE SEGUROSATMCIASEGASEGURADORA TOTAL ...  \n",
       "3903095  ATM CIA. DE SEGUROSATMCIASEGASEGURADORA TOTAL ...  \n",
       "3903096  ATM CIA. DE SEGUROSATMCIASEGASEGURADORA TOTAL ...  \n",
       "3903097  ATM CIA. DE SEGUROSATMCIASEGASEGURADORA TOTAL ...  \n",
       "3903098  ATM CIA. DE SEGUROSATMCIASEGASEGURADORA TOTAL ...  \n",
       "\n",
       "[1380 rows x 3 columns]"
      ]
     },
     "execution_count": 12,
     "metadata": {},
     "output_type": "execute_result"
    }
   ],
   "source": [
    "# Caso donde tenemos 4 nombres asociados a un mismo id, y el resultado luego de la transformacion realizada\n",
    "\n",
    "df[df['id_comercio_movimiento'] == 262002246][['id_comercio_movimiento', 'nombre_comercio_histo', 'nombre_comercio_concat']]"
   ]
  },
  {
   "cell_type": "markdown",
   "id": "960d9472",
   "metadata": {},
   "source": [
    "### Asegurar el tipo de dato de codigo postal"
   ]
  },
  {
   "cell_type": "code",
   "execution_count": 13,
   "id": "9cf7bc12",
   "metadata": {},
   "outputs": [
    {
     "name": "stdout",
     "output_type": "stream",
     "text": [
      "<class 'pandas.core.frame.DataFrame'>\n",
      "Int64Index: 4092077 entries, 0 to 4092076\n",
      "Data columns (total 42 columns):\n",
      " #   Column                               Dtype  \n",
      "---  ------                               -----  \n",
      " 0   dni_titular_movimiento               object \n",
      " 1   moneda_movimiento                    int64  \n",
      " 2   id_comercio_movimiento               int64  \n",
      " 3   nombre_comercio_histo                object \n",
      " 4   numero_cupon_movimiento              int64  \n",
      " 5   debito_credito_movimiento            int64  \n",
      " 6   producto_naranja_movimiento          object \n",
      " 7   codigo_empresa_movimiento            int64  \n",
      " 8   tipo_producto_tarjeta_movimiento     int64  \n",
      " 9   plan_movimiento                      int64  \n",
      " 10  fecha_vto_cupon_movimiento           object \n",
      " 11  fecha_presentacion_movimiento        object \n",
      " 12  fecha_cupon_movimiento               object \n",
      " 13  fecha_carga_sistema_movimiento       object \n",
      " 14  monto_compra_movimiento              float64\n",
      " 15  importe_cuota_movimiento             float64\n",
      " 16  interes_movimiento                   float64\n",
      " 17  cargo_adm_seguro_movimiento          float64\n",
      " 18  cargo_otorgamiento_movimiento        float64\n",
      " 19  cargo_seguro_vida_movimiento         float64\n",
      " 20  cargo_administrativo_movimiento      float64\n",
      " 21  seleccionado_ng                      int64  \n",
      " 22  tipo_prestamo_movimiento             object \n",
      " 23  codigo_contable_movimiento           int64  \n",
      " 24  local_venta_producto                 int64  \n",
      " 25  nombre_local_histo                   object \n",
      " 26  marca_debito_automatico              int64  \n",
      " 27  fecha_extraccion_movimiento          float64\n",
      " 28  id_comercio_otras_marcas_movimiento  int64  \n",
      " 29  fecha_nacimiento                     object \n",
      " 30  estado_civil_descripcion             object \n",
      " 31  sexo_descripcion                     object \n",
      " 32  pais                                 object \n",
      " 33  provincia                            object \n",
      " 34  ciudad                               object \n",
      " 35  domicilio_codigo_postal              float64\n",
      " 36  domicilio_barrio                     object \n",
      " 37  fecha_de_ingreso_histo               object \n",
      " 38  cargo_descripcion_histo              object \n",
      " 39  nivel_estudio_descripcion_histo      object \n",
      " 40  rel_vivienda_descripcion_histo       object \n",
      " 41  nombre_comercio_concat               object \n",
      "dtypes: float64(9), int64(12), object(21)\n",
      "memory usage: 1.3+ GB\n"
     ]
    }
   ],
   "source": [
    "df.info()"
   ]
  },
  {
   "cell_type": "code",
   "execution_count": 14,
   "id": "340856e0-40fd-4c97-81e4-f4bbdc3649d3",
   "metadata": {},
   "outputs": [],
   "source": [
    "df.domicilio_codigo_postal = df[df['domicilio_codigo_postal'].isna()!=True]['domicilio_codigo_postal'].apply(int).apply(str)"
   ]
  },
  {
   "cell_type": "code",
   "execution_count": 15,
   "id": "43a5fdcb-ecd9-435b-990b-29b852e9ac98",
   "metadata": {},
   "outputs": [
    {
     "data": {
      "text/plain": [
       "0          1766\n",
       "1          5521\n",
       "2          7107\n",
       "3          2200\n",
       "4          1019\n",
       "           ... \n",
       "4092072    5009\n",
       "4092073    5009\n",
       "4092074    5009\n",
       "4092075    5009\n",
       "4092076    5009\n",
       "Name: domicilio_codigo_postal, Length: 4092077, dtype: object"
      ]
     },
     "execution_count": 15,
     "metadata": {},
     "output_type": "execute_result"
    }
   ],
   "source": [
    "df.domicilio_codigo_postal # OBject???"
   ]
  },
  {
   "cell_type": "markdown",
   "id": "bd31279b-3317-42d5-9d79-a86831f5c66b",
   "metadata": {},
   "source": [
    "En el dataset original la columna de codigo postal viene en formato float64. Considerando que deberia ser una variable categorica, conviene que el tipo sea ´str´."
   ]
  },
  {
   "cell_type": "markdown",
   "id": "98c3fdef-b6b6-4881-a882-4bea3fe11f63",
   "metadata": {},
   "source": []
  },
  {
   "cell_type": "markdown",
   "id": "c05ceb77-c9d6-45d9-943c-acdcd41f1c77",
   "metadata": {},
   "source": [
    "### Asegurar formato de fecha"
   ]
  },
  {
   "cell_type": "code",
   "execution_count": 16,
   "id": "102a4693-4a31-49d9-b404-91e7ec77b365",
   "metadata": {},
   "outputs": [
    {
     "data": {
      "text/html": [
       "<div>\n",
       "<style scoped>\n",
       "    .dataframe tbody tr th:only-of-type {\n",
       "        vertical-align: middle;\n",
       "    }\n",
       "\n",
       "    .dataframe tbody tr th {\n",
       "        vertical-align: top;\n",
       "    }\n",
       "\n",
       "    .dataframe thead th {\n",
       "        text-align: right;\n",
       "    }\n",
       "</style>\n",
       "<table border=\"1\" class=\"dataframe\">\n",
       "  <thead>\n",
       "    <tr style=\"text-align: right;\">\n",
       "      <th></th>\n",
       "      <th>fecha_vto_cupon_movimiento</th>\n",
       "      <th>fecha_presentacion_movimiento</th>\n",
       "      <th>fecha_cupon_movimiento</th>\n",
       "      <th>fecha_carga_sistema_movimiento</th>\n",
       "      <th>fecha_nacimiento</th>\n",
       "      <th>fecha_extraccion_movimiento</th>\n",
       "      <th>fecha_de_ingreso_histo</th>\n",
       "    </tr>\n",
       "  </thead>\n",
       "  <tbody>\n",
       "    <tr>\n",
       "      <th>0</th>\n",
       "      <td>2020-09-10</td>\n",
       "      <td>2020-08-25</td>\n",
       "      <td>2020-08-25</td>\n",
       "      <td>None</td>\n",
       "      <td>1959-07-18</td>\n",
       "      <td>NaN</td>\n",
       "      <td>2012-12-11</td>\n",
       "    </tr>\n",
       "    <tr>\n",
       "      <th>1</th>\n",
       "      <td>2020-09-10</td>\n",
       "      <td>2020-08-25</td>\n",
       "      <td>2020-08-25</td>\n",
       "      <td>None</td>\n",
       "      <td>1991-06-28</td>\n",
       "      <td>NaN</td>\n",
       "      <td>2020-06-10</td>\n",
       "    </tr>\n",
       "    <tr>\n",
       "      <th>2</th>\n",
       "      <td>2020-09-10</td>\n",
       "      <td>2020-08-25</td>\n",
       "      <td>2020-08-25</td>\n",
       "      <td>None</td>\n",
       "      <td>1992-07-29</td>\n",
       "      <td>NaN</td>\n",
       "      <td>2012-09-13</td>\n",
       "    </tr>\n",
       "    <tr>\n",
       "      <th>3</th>\n",
       "      <td>2020-09-10</td>\n",
       "      <td>2020-08-25</td>\n",
       "      <td>2020-08-25</td>\n",
       "      <td>None</td>\n",
       "      <td>1980-11-01</td>\n",
       "      <td>NaN</td>\n",
       "      <td>2008-01-15</td>\n",
       "    </tr>\n",
       "    <tr>\n",
       "      <th>4</th>\n",
       "      <td>2020-09-10</td>\n",
       "      <td>2020-08-25</td>\n",
       "      <td>2020-08-25</td>\n",
       "      <td>None</td>\n",
       "      <td>1984-03-08</td>\n",
       "      <td>NaN</td>\n",
       "      <td>2013-06-06</td>\n",
       "    </tr>\n",
       "    <tr>\n",
       "      <th>...</th>\n",
       "      <td>...</td>\n",
       "      <td>...</td>\n",
       "      <td>...</td>\n",
       "      <td>...</td>\n",
       "      <td>...</td>\n",
       "      <td>...</td>\n",
       "      <td>...</td>\n",
       "    </tr>\n",
       "    <tr>\n",
       "      <th>4092072</th>\n",
       "      <td>2021-05-10</td>\n",
       "      <td>2021-04-20</td>\n",
       "      <td>2021-04-22</td>\n",
       "      <td>2021-04-21</td>\n",
       "      <td>1985-09-16</td>\n",
       "      <td>NaN</td>\n",
       "      <td>2014-04-04</td>\n",
       "    </tr>\n",
       "    <tr>\n",
       "      <th>4092073</th>\n",
       "      <td>2021-05-10</td>\n",
       "      <td>2021-04-20</td>\n",
       "      <td>2021-04-20</td>\n",
       "      <td>2021-04-21</td>\n",
       "      <td>1985-09-16</td>\n",
       "      <td>NaN</td>\n",
       "      <td>2014-04-04</td>\n",
       "    </tr>\n",
       "    <tr>\n",
       "      <th>4092074</th>\n",
       "      <td>2021-05-10</td>\n",
       "      <td>2021-04-20</td>\n",
       "      <td>2021-04-22</td>\n",
       "      <td>2021-04-21</td>\n",
       "      <td>1985-09-16</td>\n",
       "      <td>NaN</td>\n",
       "      <td>2014-04-04</td>\n",
       "    </tr>\n",
       "    <tr>\n",
       "      <th>4092075</th>\n",
       "      <td>2021-05-10</td>\n",
       "      <td>2021-04-20</td>\n",
       "      <td>2021-04-20</td>\n",
       "      <td>2021-04-21</td>\n",
       "      <td>1985-09-16</td>\n",
       "      <td>NaN</td>\n",
       "      <td>2014-04-04</td>\n",
       "    </tr>\n",
       "    <tr>\n",
       "      <th>4092076</th>\n",
       "      <td>2021-05-10</td>\n",
       "      <td>2021-04-20</td>\n",
       "      <td>2021-04-22</td>\n",
       "      <td>2021-04-21</td>\n",
       "      <td>1985-09-16</td>\n",
       "      <td>NaN</td>\n",
       "      <td>2014-04-04</td>\n",
       "    </tr>\n",
       "  </tbody>\n",
       "</table>\n",
       "<p>4092077 rows × 7 columns</p>\n",
       "</div>"
      ],
      "text/plain": [
       "        fecha_vto_cupon_movimiento fecha_presentacion_movimiento  \\\n",
       "0                       2020-09-10                    2020-08-25   \n",
       "1                       2020-09-10                    2020-08-25   \n",
       "2                       2020-09-10                    2020-08-25   \n",
       "3                       2020-09-10                    2020-08-25   \n",
       "4                       2020-09-10                    2020-08-25   \n",
       "...                            ...                           ...   \n",
       "4092072                 2021-05-10                    2021-04-20   \n",
       "4092073                 2021-05-10                    2021-04-20   \n",
       "4092074                 2021-05-10                    2021-04-20   \n",
       "4092075                 2021-05-10                    2021-04-20   \n",
       "4092076                 2021-05-10                    2021-04-20   \n",
       "\n",
       "        fecha_cupon_movimiento fecha_carga_sistema_movimiento  \\\n",
       "0                   2020-08-25                           None   \n",
       "1                   2020-08-25                           None   \n",
       "2                   2020-08-25                           None   \n",
       "3                   2020-08-25                           None   \n",
       "4                   2020-08-25                           None   \n",
       "...                        ...                            ...   \n",
       "4092072             2021-04-22                     2021-04-21   \n",
       "4092073             2021-04-20                     2021-04-21   \n",
       "4092074             2021-04-22                     2021-04-21   \n",
       "4092075             2021-04-20                     2021-04-21   \n",
       "4092076             2021-04-22                     2021-04-21   \n",
       "\n",
       "        fecha_nacimiento  fecha_extraccion_movimiento fecha_de_ingreso_histo  \n",
       "0             1959-07-18                          NaN             2012-12-11  \n",
       "1             1991-06-28                          NaN             2020-06-10  \n",
       "2             1992-07-29                          NaN             2012-09-13  \n",
       "3             1980-11-01                          NaN             2008-01-15  \n",
       "4             1984-03-08                          NaN             2013-06-06  \n",
       "...                  ...                          ...                    ...  \n",
       "4092072       1985-09-16                          NaN             2014-04-04  \n",
       "4092073       1985-09-16                          NaN             2014-04-04  \n",
       "4092074       1985-09-16                          NaN             2014-04-04  \n",
       "4092075       1985-09-16                          NaN             2014-04-04  \n",
       "4092076       1985-09-16                          NaN             2014-04-04  \n",
       "\n",
       "[4092077 rows x 7 columns]"
      ]
     },
     "execution_count": 16,
     "metadata": {},
     "output_type": "execute_result"
    }
   ],
   "source": [
    "# Columnas con fecha\n",
    "\n",
    "col_fechas = [\n",
    "    'fecha_vto_cupon_movimiento',\n",
    "    'fecha_presentacion_movimiento',\n",
    "    'fecha_cupon_movimiento',\n",
    "    'fecha_carga_sistema_movimiento',\n",
    "    'fecha_nacimiento',\n",
    "    'fecha_extraccion_movimiento',\n",
    "    'fecha_de_ingreso_histo'\n",
    "]\n",
    "\n",
    "df_fchs = df[col_fechas]\n",
    "df_fchs"
   ]
  },
  {
   "cell_type": "code",
   "execution_count": 17,
   "id": "b58642c9-b276-472b-a1c6-9225b3121bbb",
   "metadata": {},
   "outputs": [],
   "source": [
    "#df_fchs.drop('fecha_extraccion_movimiento', axis=1, inplace=True)"
   ]
  },
  {
   "cell_type": "code",
   "execution_count": 18,
   "id": "05bca73c-c52e-4359-817e-df838dcc4d1c",
   "metadata": {},
   "outputs": [],
   "source": [
    "df_fchs_samp = df_fchs.sample(100000)"
   ]
  },
  {
   "cell_type": "code",
   "execution_count": 19,
   "id": "a4148314-accf-466a-88cd-1868aded7e22",
   "metadata": {},
   "outputs": [
    {
     "data": {
      "text/plain": [
       "fecha_vto_cupon_movimiento             0\n",
       "fecha_presentacion_movimiento          0\n",
       "fecha_cupon_movimiento                 0\n",
       "fecha_carga_sistema_movimiento     34347\n",
       "fecha_nacimiento                     268\n",
       "fecha_extraccion_movimiento       100000\n",
       "fecha_de_ingreso_histo                 0\n",
       "dtype: int64"
      ]
     },
     "execution_count": 19,
     "metadata": {},
     "output_type": "execute_result"
    }
   ],
   "source": [
    "df_fchs_samp.isnull().sum()"
   ]
  },
  {
   "cell_type": "code",
   "execution_count": 20,
   "id": "0e0b329b-32bd-4594-9629-cc36d9f397c9",
   "metadata": {},
   "outputs": [
    {
     "name": "stderr",
     "output_type": "stream",
     "text": [
      "<ipython-input-20-856d839b859b>:2: SettingWithCopyWarning: \n",
      "A value is trying to be set on a copy of a slice from a DataFrame.\n",
      "Try using .loc[row_indexer,col_indexer] = value instead\n",
      "\n",
      "See the caveats in the documentation: https://pandas.pydata.org/pandas-docs/stable/user_guide/indexing.html#returning-a-view-versus-a-copy\n",
      "  df_fchs[col] = pd.to_datetime(df_fchs[col])\n",
      "<ipython-input-20-856d839b859b>:4: SettingWithCopyWarning: \n",
      "A value is trying to be set on a copy of a slice from a DataFrame.\n",
      "Try using .loc[row_indexer,col_indexer] = value instead\n",
      "\n",
      "See the caveats in the documentation: https://pandas.pydata.org/pandas-docs/stable/user_guide/indexing.html#returning-a-view-versus-a-copy\n",
      "  df_fchs[col] = df_fchs[col].dt.date\n"
     ]
    }
   ],
   "source": [
    "for col in col_fechas:\n",
    "    df_fchs[col] = pd.to_datetime(df_fchs[col])\n",
    "for col in col_fechas:\n",
    "    df_fchs[col] = df_fchs[col].dt.date\n",
    "    #df_fchs_samp[col] = df_fchs_samp[col].dt.date"
   ]
  },
  {
   "cell_type": "code",
   "execution_count": 21,
   "id": "c6191c18-5da9-4e93-9b1e-cedd4af5e8e9",
   "metadata": {},
   "outputs": [
    {
     "data": {
      "text/plain": [
       "0          2020-08-25\n",
       "1          2020-08-25\n",
       "2          2020-08-25\n",
       "3          2020-08-25\n",
       "4          2020-08-25\n",
       "              ...    \n",
       "4092072    2021-04-22\n",
       "4092073    2021-04-20\n",
       "4092074    2021-04-22\n",
       "4092075    2021-04-20\n",
       "4092076    2021-04-22\n",
       "Name: fecha_cupon_movimiento, Length: 4092077, dtype: object"
      ]
     },
     "execution_count": 21,
     "metadata": {},
     "output_type": "execute_result"
    }
   ],
   "source": [
    "df_fchs[\"fecha_cupon_movimiento\"]"
   ]
  },
  {
   "cell_type": "code",
   "execution_count": 22,
   "id": "75107479-38ca-415e-9ba4-df35a8834984",
   "metadata": {},
   "outputs": [],
   "source": [
    "df.loc[:,col_fechas] = df_fchs"
   ]
  },
  {
   "cell_type": "markdown",
   "id": "dc06f1d2-eb8e-492b-9d38-1b813bff44f4",
   "metadata": {
    "tags": []
   },
   "source": [
    "### Reemplazar caracteres especiales"
   ]
  },
  {
   "cell_type": "code",
   "execution_count": 23,
   "id": "3c139b4d-fc6d-47fb-99b5-b4b6490ae3b3",
   "metadata": {
    "tags": []
   },
   "outputs": [],
   "source": [
    "import re"
   ]
  },
  {
   "cell_type": "code",
   "execution_count": 24,
   "id": "9aefa384-053d-4a43-a050-363f7facb914",
   "metadata": {
    "tags": []
   },
   "outputs": [],
   "source": [
    "columnas_str = [\n",
    "    'dni_titular_movimiento',\n",
    "    'nombre_comercio_histo',\n",
    "    'producto_naranja_movimiento',\n",
    "    'tipo_prestamo_movimiento',\n",
    "    'nombre_local_histo',\n",
    "    'estado_civil_descripcion',\n",
    "    'sexo_descripcion',\n",
    "    'pais',\n",
    "    'provincia',\n",
    "    'ciudad',\n",
    "    'domicilio_codigo_postal',\n",
    "    'domicilio_barrio',\n",
    "    'cargo_descripcion_histo',\n",
    "    'nivel_estudio_descripcion_histo',\n",
    "    'rel_vivienda_descripcion_histo',\n",
    "    'nombre_comercio_concat'\n",
    "]"
   ]
  },
  {
   "cell_type": "code",
   "execution_count": 25,
   "id": "a00b0a65-0f18-4178-9d32-417cba683293",
   "metadata": {
    "tags": []
   },
   "outputs": [],
   "source": [
    "df_str = df[columnas_str]"
   ]
  },
  {
   "cell_type": "code",
   "execution_count": 26,
   "id": "0478b918-4998-4342-a15b-1df1ed6627cb",
   "metadata": {
    "tags": []
   },
   "outputs": [],
   "source": [
    "#regex = r'[@#$%&ñÑ~çÇáéíóúÁÉÍÓÚÜü¡¿?‹›<>«»¹²³˜§¶†“”∞µà*+-=|\\:\";<>,\\./{}]'\n",
    "regex = r'[^a-zA-Z0-9]'\n",
    "pattern = re.compile(regex)"
   ]
  },
  {
   "cell_type": "code",
   "execution_count": 27,
   "id": "c36e10f4-fcff-46f1-863d-444a1c84d03f",
   "metadata": {
    "tags": []
   },
   "outputs": [],
   "source": [
    "def find(row):\n",
    "    matches = pattern.finditer(row)\n",
    "    for match in matches:\n",
    "        print (match)\n",
    "    return matches\n",
    "\n",
    "#mat = df_str['nombre_comercio_histo'].apply(find)"
   ]
  },
  {
   "cell_type": "code",
   "execution_count": 28,
   "id": "4617badd-2e81-4a58-bec9-0720bdbae064",
   "metadata": {
    "tags": []
   },
   "outputs": [
    {
     "ename": "NameError",
     "evalue": "name 'columns_str' is not defined",
     "output_type": "error",
     "traceback": [
      "\u001b[1;31m---------------------------------------------------------------------------\u001b[0m",
      "\u001b[1;31mNameError\u001b[0m                                 Traceback (most recent call last)",
      "\u001b[1;32m<ipython-input-28-4228b87e02c7>\u001b[0m in \u001b[0;36m<module>\u001b[1;34m\u001b[0m\n\u001b[0;32m      2\u001b[0m     \u001b[1;32mreturn\u001b[0m \u001b[0mre\u001b[0m\u001b[1;33m.\u001b[0m\u001b[0msub\u001b[0m\u001b[1;33m(\u001b[0m\u001b[1;34m\"[^a-zA-Z0-9]\"\u001b[0m\u001b[1;33m,\u001b[0m \u001b[1;34m\"\"\u001b[0m\u001b[1;33m,\u001b[0m \u001b[0mstr\u001b[0m\u001b[1;33m(\u001b[0m\u001b[0mrow\u001b[0m\u001b[1;33m)\u001b[0m\u001b[1;33m)\u001b[0m\u001b[1;33m\u001b[0m\u001b[1;33m\u001b[0m\u001b[0m\n\u001b[0;32m      3\u001b[0m \u001b[1;33m\u001b[0m\u001b[0m\n\u001b[1;32m----> 4\u001b[1;33m \u001b[1;32mfor\u001b[0m \u001b[0mcol\u001b[0m \u001b[1;32min\u001b[0m \u001b[0mcolumns_str\u001b[0m\u001b[1;33m:\u001b[0m\u001b[1;33m\u001b[0m\u001b[1;33m\u001b[0m\u001b[0m\n\u001b[0m\u001b[0;32m      5\u001b[0m     \u001b[0mdf_str\u001b[0m\u001b[1;33m.\u001b[0m\u001b[0mloc\u001b[0m\u001b[1;33m[\u001b[0m\u001b[1;33m:\u001b[0m\u001b[1;33m,\u001b[0m\u001b[0mcol\u001b[0m\u001b[1;33m]\u001b[0m \u001b[1;33m=\u001b[0m \u001b[0mdf_str\u001b[0m\u001b[1;33m[\u001b[0m\u001b[0mcol\u001b[0m\u001b[1;33m]\u001b[0m\u001b[1;33m.\u001b[0m\u001b[0mapply\u001b[0m\u001b[1;33m(\u001b[0m\u001b[0mfunc\u001b[0m\u001b[1;33m)\u001b[0m\u001b[1;33m\u001b[0m\u001b[1;33m\u001b[0m\u001b[0m\n",
      "\u001b[1;31mNameError\u001b[0m: name 'columns_str' is not defined"
     ]
    }
   ],
   "source": [
    "def func(row):\n",
    "    return re.sub(\"[^a-zA-Z0-9]\", \"\", str(row))\n",
    "\n",
    "for col in columns_str:\n",
    "    df_str.loc[:,col] = df_str[col].apply(func)"
   ]
  },
  {
   "cell_type": "code",
   "execution_count": null,
   "id": "93857bd0-890c-48a3-8364-73b7c49c4570",
   "metadata": {
    "tags": []
   },
   "outputs": [],
   "source": [
    "# Chequeamos si quedan caracteres especiales\n",
    "for col in columnas_str:\n",
    "    print(df_str[col].apply(find_and_print)"
   ]
  },
  {
   "cell_type": "code",
   "execution_count": null,
   "id": "248830cb-8f62-421a-94f9-39ccb403073a",
   "metadata": {
    "tags": []
   },
   "outputs": [],
   "source": [
    "df.loc[:,columnas_str] = df_str"
   ]
  },
  {
   "cell_type": "markdown",
   "id": "828b0f7e-b7ad-4d74-afc8-749af56738b8",
   "metadata": {},
   "source": [
    "### Tratamiento de datos sensibles"
   ]
  },
  {
   "cell_type": "markdown",
   "id": "be85c14f-acd8-4af5-a663-29c4db3e4b0a",
   "metadata": {
    "tags": []
   },
   "source": [
    "### Agrupar valores de cargo_descripcion_histo"
   ]
  },
  {
   "cell_type": "code",
   "execution_count": null,
   "id": "fec24cf0-f3a0-4752-b668-e57c8a57a734",
   "metadata": {
    "tags": []
   },
   "outputs": [],
   "source": [
    "df['cargo_descripcion_histo']"
   ]
  },
  {
   "cell_type": "markdown",
   "id": "d3039c50-8249-4bd5-b65d-d99f8beb3726",
   "metadata": {
    "tags": []
   },
   "source": [
    "## 2. Data enrichment\n",
    "* obtener edad usando la columna `fecha_nacimiento` y `fecha_cupon_movimiento`\n",
    "* obtener antiguedad usando la columna `fecha_de_ingreso_histo` y `fecha_cupon_movimiento` en termino de meses\n",
    "* usando la columna `nombre_comercio_histo` crear una nueva columna clasificando el tipo de \"comercio\". Ejemplo \n",
    "   ```\n",
    "     COMISION POR MANTENIM.DE CTA., IMPUESTO SELLOS, INT.PAGO FUERA TERMINO ------> Categoria A\n",
    "     MERCADO PAGO, DESPEGAR.COM                                             ------> Categoria B\n",
    "   ```\n",
    "   > Crear un minimo de 5 categorias\n",
    "* se puede aplicar el proceso anterior a la columna `nombre_local_histo` y `cargo_descripcion_histo`. Aportaria informacion relevante?"
   ]
  },
  {
   "cell_type": "markdown",
   "id": "f0eb3eac-08ed-4a38-899e-39aa1cb0f04e",
   "metadata": {},
   "source": [
    "### Cálculo de la edad de la persona"
   ]
  },
  {
   "cell_type": "markdown",
   "id": "5116b029-e0d7-4d30-ba5d-d15fda9897ff",
   "metadata": {},
   "source": [
    "## 3. Exploración\n",
    "\n",
    "* Analisis de valores Nulos\n",
    "  - Existen columnas en donde se prodria hacer imputacion de valores? Si es asi, imputar los valores.\n",
    "  - Para aquellos en donde no aplique lo primero, conviene eliminarlos o agruparlos como otro valor?\n",
    "* Identificar valores atípicos.\n",
    "  * Para variables numericas, analisis de outliers. En que caso se pueden eliminar estos valores?\n",
    "  * Para variables categoricas, se pueden agrupar estos valores en una nueva categoria?\n",
    "    > Ejm. `cargo_descripcion_histo`\n",
    "  * Para fechas. existen fechas atipicas?\n",
    "    > Ejm. Una fecha con el valor `2021-12-03`, sabiendo que el dataset deberia tener  datos entre julio 2020 y mayo 2021 \n",
    "* Se puede normalizar la antiguedad y/o `monto_compra_movimiento`?\n",
    "* Usando la edad y la antiguerdad hacer una analisis de PCA junto con la variables `monto_compra_movimiento`\n",
    "  > pueden usar las 3 variables o hacer un analisis edad - monto y antiguedad - monto."
   ]
  },
  {
   "cell_type": "markdown",
   "id": "bf60abdd-107a-4eaa-bd8e-cb1b001a13f0",
   "metadata": {},
   "source": [
    "### Análisis de Datos Nulos"
   ]
  },
  {
   "cell_type": "code",
   "execution_count": 29,
   "id": "da27442f-c3e4-4616-8660-f0b2ec7a763a",
   "metadata": {},
   "outputs": [
    {
     "data": {
      "text/plain": [
       "(4092077, 42)"
      ]
     },
     "execution_count": 29,
     "metadata": {},
     "output_type": "execute_result"
    }
   ],
   "source": [
    "df.shape"
   ]
  },
  {
   "cell_type": "code",
   "execution_count": 30,
   "id": "25aeb966-9493-4aab-9c24-22f55ed14603",
   "metadata": {},
   "outputs": [
    {
     "data": {
      "text/plain": [
       "dni_titular_movimiento                       0\n",
       "moneda_movimiento                            0\n",
       "id_comercio_movimiento                       0\n",
       "nombre_comercio_histo                        0\n",
       "numero_cupon_movimiento                      0\n",
       "debito_credito_movimiento                    0\n",
       "producto_naranja_movimiento                  0\n",
       "codigo_empresa_movimiento                    0\n",
       "tipo_producto_tarjeta_movimiento             0\n",
       "plan_movimiento                              0\n",
       "fecha_vto_cupon_movimiento                   0\n",
       "fecha_presentacion_movimiento                0\n",
       "fecha_cupon_movimiento                       0\n",
       "fecha_carga_sistema_movimiento         1404647\n",
       "monto_compra_movimiento                      0\n",
       "importe_cuota_movimiento                     0\n",
       "interes_movimiento                           0\n",
       "cargo_adm_seguro_movimiento                  0\n",
       "cargo_otorgamiento_movimiento                0\n",
       "cargo_seguro_vida_movimiento                 0\n",
       "cargo_administrativo_movimiento              0\n",
       "seleccionado_ng                              0\n",
       "tipo_prestamo_movimiento               4084556\n",
       "codigo_contable_movimiento                   0\n",
       "local_venta_producto                         0\n",
       "nombre_local_histo                     3863356\n",
       "marca_debito_automatico                      0\n",
       "fecha_extraccion_movimiento            4092077\n",
       "id_comercio_otras_marcas_movimiento          0\n",
       "fecha_nacimiento                         10551\n",
       "estado_civil_descripcion                     0\n",
       "sexo_descripcion                         21715\n",
       "pais                                    112010\n",
       "provincia                               112907\n",
       "ciudad                                  128485\n",
       "domicilio_codigo_postal                  32533\n",
       "domicilio_barrio                         38674\n",
       "fecha_de_ingreso_histo                       0\n",
       "cargo_descripcion_histo                      0\n",
       "nivel_estudio_descripcion_histo         147532\n",
       "rel_vivienda_descripcion_histo          456724\n",
       "nombre_comercio_concat                       0\n",
       "dtype: int64"
      ]
     },
     "execution_count": 30,
     "metadata": {},
     "output_type": "execute_result"
    }
   ],
   "source": [
    "missing_values_count = df.isna().sum()\n",
    "missing_values_count"
   ]
  },
  {
   "cell_type": "code",
   "execution_count": 33,
   "id": "84341652-9d78-4027-9418-f065e815cf15",
   "metadata": {},
   "outputs": [
    {
     "data": {
      "image/png": "[encoded data removed]",
      "text/plain": [
       "<Figure size 864x432 with 3 Axes>"
      ]
     },
     "metadata": {
      "needs_background": "light"
     },
     "output_type": "display_data"
    }
   ],
   "source": [
    "ax = msno.bar(df,figsize=(12, 6), fontsize=12, color='steelblue')\n",
    "ax.tick_params('x', rotation=90)"
   ]
  },
  {
   "cell_type": "code",
   "execution_count": 34,
   "id": "7795100c-3b9a-478e-8f1a-8b14b38bf7eb",
   "metadata": {},
   "outputs": [
    {
     "data": {
      "text/plain": [
       "8.440100339311913"
      ]
     },
     "execution_count": 34,
     "metadata": {},
     "output_type": "execute_result"
    }
   ],
   "source": [
    "# how many total missing values do we have?\n",
    "total_cells = np.product(df.shape)\n",
    "total_missing = missing_values_count.sum()\n",
    "\n",
    "# percent of data that is missing\n",
    "(total_missing/total_cells) * 100"
   ]
  },
  {
   "cell_type": "markdown",
   "id": "3982bc88-0d0c-443e-a921-756624c51e46",
   "metadata": {},
   "source": [
    "#### Tipo_prestamo_movimiento, Nombre_local_histo y Fecha_extraccion_movimiento "
   ]
  },
  {
   "cell_type": "markdown",
   "id": "f02d1990-b171-4415-88fe-46c5afab5934",
   "metadata": {},
   "source": [
    "Las variables tipo_prestamo_movimiento, nombre_local_histo y fecha_extraccion_movimiento poseen una pérdida muy alta de valores (fecha extracción tiene todos valores nulos), por lo cuál la mejor decisión seria no tenerlas en cuenta en los siguientes análisis."
   ]
  },
  {
   "cell_type": "code",
   "execution_count": 35,
   "id": "e0f91aa2-a59d-42f5-b5ba-1ec2169032c7",
   "metadata": {},
   "outputs": [
    {
     "data": {
      "text/plain": [
       "(4092077, 39)"
      ]
     },
     "execution_count": 35,
     "metadata": {},
     "output_type": "execute_result"
    }
   ],
   "source": [
    "df_drop = df.drop(columns = ['tipo_prestamo_movimiento','nombre_local_histo','fecha_extraccion_movimiento']) \n",
    "df_drop.shape"
   ]
  },
  {
   "cell_type": "code",
   "execution_count": 36,
   "id": "022af404-bcd4-4bbe-a655-26b871b9710a",
   "metadata": {},
   "outputs": [],
   "source": [
    "#usamos sample porque da error con todo el datas\n",
    "df_ms = df_drop.sample(10000)\n",
    "#ax = msno.matrix(df_ms,figsize=(12, 6),fontsize=12)\n",
    "ax.tick_params('x', rotation=90)"
   ]
  },
  {
   "cell_type": "markdown",
   "id": "d1cdc403-7823-458f-9a7c-2093e544776a",
   "metadata": {
    "tags": []
   },
   "source": [
    "Se puede observar cierta sistematicidad en la pérdida de valores relacionados a datos personales de los clientes. A continuación procedemos a analizar cada columna con valores faltantes."
   ]
  },
  {
   "cell_type": "markdown",
   "id": "70a376c6-6e6b-4f3d-a74e-4eb59bb7a180",
   "metadata": {},
   "source": [
    "#### Datos Faltantes Personales de los clientes"
   ]
  },
  {
   "cell_type": "code",
   "execution_count": 37,
   "id": "0e7b55fe-e369-4b6b-81c4-b8847eb5b939",
   "metadata": {},
   "outputs": [
    {
     "data": {
      "text/plain": [
       "dni_titular_movimiento                     0\n",
       "moneda_movimiento                          0\n",
       "id_comercio_movimiento                     0\n",
       "nombre_comercio_histo                      0\n",
       "numero_cupon_movimiento                    0\n",
       "debito_credito_movimiento                  0\n",
       "producto_naranja_movimiento                0\n",
       "codigo_empresa_movimiento                  0\n",
       "tipo_producto_tarjeta_movimiento           0\n",
       "plan_movimiento                            0\n",
       "fecha_vto_cupon_movimiento                 0\n",
       "fecha_presentacion_movimiento              0\n",
       "fecha_cupon_movimiento                     0\n",
       "fecha_carga_sistema_movimiento          2484\n",
       "monto_compra_movimiento                    0\n",
       "importe_cuota_movimiento                   0\n",
       "interes_movimiento                         0\n",
       "cargo_adm_seguro_movimiento                0\n",
       "cargo_otorgamiento_movimiento              0\n",
       "cargo_seguro_vida_movimiento               0\n",
       "cargo_administrativo_movimiento            0\n",
       "seleccionado_ng                            0\n",
       "codigo_contable_movimiento                 0\n",
       "local_venta_producto                       0\n",
       "marca_debito_automatico                    0\n",
       "id_comercio_otras_marcas_movimiento        0\n",
       "fecha_nacimiento                       10551\n",
       "estado_civil_descripcion                   0\n",
       "sexo_descripcion                       10551\n",
       "pais                                   10551\n",
       "provincia                              10551\n",
       "ciudad                                 10551\n",
       "domicilio_codigo_postal                10551\n",
       "domicilio_barrio                       10551\n",
       "fecha_de_ingreso_histo                     0\n",
       "cargo_descripcion_histo                    0\n",
       "nivel_estudio_descripcion_histo            0\n",
       "rel_vivienda_descripcion_histo             0\n",
       "nombre_comercio_concat                     0\n",
       "dtype: int64"
      ]
     },
     "execution_count": 37,
     "metadata": {},
     "output_type": "execute_result"
    }
   ],
   "source": [
    "df_faltante_fech= pd.DataFrame(df_drop[df_drop['fecha_nacimiento'].isna()])\n",
    "df_faltante_fech.isna().sum()"
   ]
  },
  {
   "cell_type": "code",
   "execution_count": 38,
   "id": "f20b8272-f549-40ab-9f4f-55b91faec8da",
   "metadata": {},
   "outputs": [
    {
     "data": {
      "text/plain": [
       "000cde1ad5d8114e7a5dd977930b8835659    8481\n",
       "000650e8144e3a42d47a21aee9e48f34804    1380\n",
       "000b0d85fa8a959e2133328830fff990443     690\n",
       "Name: dni_titular_movimiento, dtype: int64"
      ]
     },
     "execution_count": 38,
     "metadata": {},
     "output_type": "execute_result"
    }
   ],
   "source": [
    "df_faltante_fech.dni_titular_movimiento.value_counts()"
   ]
  },
  {
   "cell_type": "code",
   "execution_count": 39,
   "id": "a2fdaf00-1b69-4ea9-b30b-c6e3620f307c",
   "metadata": {},
   "outputs": [
    {
     "data": {
      "text/plain": [
       "dni_titular_movimiento                    0\n",
       "moneda_movimiento                         0\n",
       "id_comercio_movimiento                    0\n",
       "nombre_comercio_histo                     0\n",
       "numero_cupon_movimiento                   0\n",
       "debito_credito_movimiento                 0\n",
       "producto_naranja_movimiento               0\n",
       "codigo_empresa_movimiento                 0\n",
       "tipo_producto_tarjeta_movimiento          0\n",
       "plan_movimiento                           0\n",
       "fecha_vto_cupon_movimiento                0\n",
       "fecha_presentacion_movimiento             0\n",
       "fecha_cupon_movimiento                    0\n",
       "fecha_carga_sistema_movimiento         1380\n",
       "monto_compra_movimiento                   0\n",
       "importe_cuota_movimiento                  0\n",
       "interes_movimiento                        0\n",
       "cargo_adm_seguro_movimiento               0\n",
       "cargo_otorgamiento_movimiento             0\n",
       "cargo_seguro_vida_movimiento              0\n",
       "cargo_administrativo_movimiento           0\n",
       "seleccionado_ng                           0\n",
       "codigo_contable_movimiento                0\n",
       "local_venta_producto                      0\n",
       "marca_debito_automatico                   0\n",
       "id_comercio_otras_marcas_movimiento       0\n",
       "fecha_nacimiento                       8481\n",
       "estado_civil_descripcion                  0\n",
       "sexo_descripcion                       8481\n",
       "pais                                   8481\n",
       "provincia                              8481\n",
       "ciudad                                 8481\n",
       "domicilio_codigo_postal                8481\n",
       "domicilio_barrio                       8481\n",
       "fecha_de_ingreso_histo                    0\n",
       "cargo_descripcion_histo                   0\n",
       "nivel_estudio_descripcion_histo           0\n",
       "rel_vivienda_descripcion_histo            0\n",
       "nombre_comercio_concat                    0\n",
       "dtype: int64"
      ]
     },
     "execution_count": 39,
     "metadata": {},
     "output_type": "execute_result"
    }
   ],
   "source": [
    "dni859 = df_drop[(df_drop[\"dni_titular_movimiento\"] ==\"000cde1ad5d8114e7a5dd977930b8835659\")]\n",
    "dni859.isna().sum()"
   ]
  },
  {
   "cell_type": "code",
   "execution_count": null,
   "id": "6f183693-0247-4e02-b429-b1aa6d7fbfd4",
   "metadata": {},
   "outputs": [],
   "source": [
    "dni804 = df_drop[(df_drop[\"dni_titular_movimiento\"] ==\"000650e8144e3a42d47a21aee9e48f34804\")]\n",
    "dni804.isna().sum()"
   ]
  },
  {
   "cell_type": "code",
   "execution_count": null,
   "id": "790ceb97-86c0-4040-bcac-33a5d492bfd9",
   "metadata": {},
   "outputs": [],
   "source": [
    "dni443 = df_drop[(df_drop[\"dni_titular_movimiento\"] ==\"000b0d85fa8a959e2133328830fff990443\")]\n",
    "dni443.isna().sum()"
   ]
  },
  {
   "cell_type": "markdown",
   "id": "3857b12c-ecc7-461b-8f06-f3b79380a202",
   "metadata": {},
   "source": [
    "Se observa que 3 clientes los que tienen valores faltantes en las columnas fecha_nacimiento, sexo_descripcion, pais, provincia, ciudad, domicilio_codigo_postal y domicilio_barrio. Corresponden a  información personal de los mismos, que no puede ser recuperada de otra forma. Es una pérdida sistemática NMAR. \n",
    "En este caso, se decidió imputar estos valores con la leyenda \"Sin datos\", de forma tal de no perder la información existente en las demás columnas del dataset. "
   ]
  },
  {
   "cell_type": "code",
   "execution_count": 40,
   "id": "05b6dcc3-a2f0-4f93-b83f-a64cae202f29",
   "metadata": {},
   "outputs": [
    {
     "data": {
      "text/plain": [
       "pais                       10551\n",
       "provincia                  10551\n",
       "domicilio_barrio           10551\n",
       "dni_titular_movimiento         0\n",
       "sexo_descripcion           10551\n",
       "ciudad                     10551\n",
       "domicilio_codigo_postal    10551\n",
       "fecha_nacimiento           10551\n",
       "dtype: int64"
      ]
     },
     "execution_count": 40,
     "metadata": {},
     "output_type": "execute_result"
    }
   ],
   "source": [
    "#incluyo la columna dni_titular_movimiento como key para luego hacer un merge con el df principal\n",
    "column = {'dni_titular_movimiento','fecha_nacimiento','sexo_descripcion','pais','provincia','ciudad','domicilio_codigo_postal','domicilio_barrio'}\n",
    "df_imputed = pd.DataFrame(df_faltante_fech[column])\n",
    "df_imputed.isna().sum()"
   ]
  },
  {
   "cell_type": "code",
   "execution_count": 41,
   "id": "9de982ad-a803-43c4-b621-8e008f162063",
   "metadata": {},
   "outputs": [
    {
     "data": {
      "text/html": [
       "<div>\n",
       "<style scoped>\n",
       "    .dataframe tbody tr th:only-of-type {\n",
       "        vertical-align: middle;\n",
       "    }\n",
       "\n",
       "    .dataframe tbody tr th {\n",
       "        vertical-align: top;\n",
       "    }\n",
       "\n",
       "    .dataframe thead th {\n",
       "        text-align: right;\n",
       "    }\n",
       "</style>\n",
       "<table border=\"1\" class=\"dataframe\">\n",
       "  <thead>\n",
       "    <tr style=\"text-align: right;\">\n",
       "      <th></th>\n",
       "      <th>pais</th>\n",
       "      <th>provincia</th>\n",
       "      <th>domicilio_barrio</th>\n",
       "      <th>dni_titular_movimiento</th>\n",
       "      <th>sexo_descripcion</th>\n",
       "      <th>ciudad</th>\n",
       "      <th>domicilio_codigo_postal</th>\n",
       "      <th>fecha_nacimiento</th>\n",
       "    </tr>\n",
       "  </thead>\n",
       "  <tbody>\n",
       "    <tr>\n",
       "      <th>2765</th>\n",
       "      <td>Sin Datos</td>\n",
       "      <td>Sin Datos</td>\n",
       "      <td>Sin Datos</td>\n",
       "      <td>000cde1ad5d8114e7a5dd977930b8835659</td>\n",
       "      <td>Sin Datos</td>\n",
       "      <td>Sin Datos</td>\n",
       "      <td>Sin Datos</td>\n",
       "      <td>Sin Datos</td>\n",
       "    </tr>\n",
       "    <tr>\n",
       "      <th>2844</th>\n",
       "      <td>Sin Datos</td>\n",
       "      <td>Sin Datos</td>\n",
       "      <td>Sin Datos</td>\n",
       "      <td>000cde1ad5d8114e7a5dd977930b8835659</td>\n",
       "      <td>Sin Datos</td>\n",
       "      <td>Sin Datos</td>\n",
       "      <td>Sin Datos</td>\n",
       "      <td>Sin Datos</td>\n",
       "    </tr>\n",
       "    <tr>\n",
       "      <th>3154</th>\n",
       "      <td>Sin Datos</td>\n",
       "      <td>Sin Datos</td>\n",
       "      <td>Sin Datos</td>\n",
       "      <td>000650e8144e3a42d47a21aee9e48f34804</td>\n",
       "      <td>Sin Datos</td>\n",
       "      <td>Sin Datos</td>\n",
       "      <td>Sin Datos</td>\n",
       "      <td>Sin Datos</td>\n",
       "    </tr>\n",
       "    <tr>\n",
       "      <th>3252</th>\n",
       "      <td>Sin Datos</td>\n",
       "      <td>Sin Datos</td>\n",
       "      <td>Sin Datos</td>\n",
       "      <td>000650e8144e3a42d47a21aee9e48f34804</td>\n",
       "      <td>Sin Datos</td>\n",
       "      <td>Sin Datos</td>\n",
       "      <td>Sin Datos</td>\n",
       "      <td>Sin Datos</td>\n",
       "    </tr>\n",
       "    <tr>\n",
       "      <th>3296</th>\n",
       "      <td>Sin Datos</td>\n",
       "      <td>Sin Datos</td>\n",
       "      <td>Sin Datos</td>\n",
       "      <td>000cde1ad5d8114e7a5dd977930b8835659</td>\n",
       "      <td>Sin Datos</td>\n",
       "      <td>Sin Datos</td>\n",
       "      <td>Sin Datos</td>\n",
       "      <td>Sin Datos</td>\n",
       "    </tr>\n",
       "    <tr>\n",
       "      <th>...</th>\n",
       "      <td>...</td>\n",
       "      <td>...</td>\n",
       "      <td>...</td>\n",
       "      <td>...</td>\n",
       "      <td>...</td>\n",
       "      <td>...</td>\n",
       "      <td>...</td>\n",
       "      <td>...</td>\n",
       "    </tr>\n",
       "    <tr>\n",
       "      <th>3565927</th>\n",
       "      <td>Sin Datos</td>\n",
       "      <td>Sin Datos</td>\n",
       "      <td>Sin Datos</td>\n",
       "      <td>000cde1ad5d8114e7a5dd977930b8835659</td>\n",
       "      <td>Sin Datos</td>\n",
       "      <td>Sin Datos</td>\n",
       "      <td>Sin Datos</td>\n",
       "      <td>Sin Datos</td>\n",
       "    </tr>\n",
       "    <tr>\n",
       "      <th>3565928</th>\n",
       "      <td>Sin Datos</td>\n",
       "      <td>Sin Datos</td>\n",
       "      <td>Sin Datos</td>\n",
       "      <td>000cde1ad5d8114e7a5dd977930b8835659</td>\n",
       "      <td>Sin Datos</td>\n",
       "      <td>Sin Datos</td>\n",
       "      <td>Sin Datos</td>\n",
       "      <td>Sin Datos</td>\n",
       "    </tr>\n",
       "    <tr>\n",
       "      <th>3566278</th>\n",
       "      <td>Sin Datos</td>\n",
       "      <td>Sin Datos</td>\n",
       "      <td>Sin Datos</td>\n",
       "      <td>000cde1ad5d8114e7a5dd977930b8835659</td>\n",
       "      <td>Sin Datos</td>\n",
       "      <td>Sin Datos</td>\n",
       "      <td>Sin Datos</td>\n",
       "      <td>Sin Datos</td>\n",
       "    </tr>\n",
       "    <tr>\n",
       "      <th>3566279</th>\n",
       "      <td>Sin Datos</td>\n",
       "      <td>Sin Datos</td>\n",
       "      <td>Sin Datos</td>\n",
       "      <td>000cde1ad5d8114e7a5dd977930b8835659</td>\n",
       "      <td>Sin Datos</td>\n",
       "      <td>Sin Datos</td>\n",
       "      <td>Sin Datos</td>\n",
       "      <td>Sin Datos</td>\n",
       "    </tr>\n",
       "    <tr>\n",
       "      <th>3566280</th>\n",
       "      <td>Sin Datos</td>\n",
       "      <td>Sin Datos</td>\n",
       "      <td>Sin Datos</td>\n",
       "      <td>000cde1ad5d8114e7a5dd977930b8835659</td>\n",
       "      <td>Sin Datos</td>\n",
       "      <td>Sin Datos</td>\n",
       "      <td>Sin Datos</td>\n",
       "      <td>Sin Datos</td>\n",
       "    </tr>\n",
       "  </tbody>\n",
       "</table>\n",
       "<p>10551 rows × 8 columns</p>\n",
       "</div>"
      ],
      "text/plain": [
       "              pais  provincia domicilio_barrio  \\\n",
       "2765     Sin Datos  Sin Datos        Sin Datos   \n",
       "2844     Sin Datos  Sin Datos        Sin Datos   \n",
       "3154     Sin Datos  Sin Datos        Sin Datos   \n",
       "3252     Sin Datos  Sin Datos        Sin Datos   \n",
       "3296     Sin Datos  Sin Datos        Sin Datos   \n",
       "...            ...        ...              ...   \n",
       "3565927  Sin Datos  Sin Datos        Sin Datos   \n",
       "3565928  Sin Datos  Sin Datos        Sin Datos   \n",
       "3566278  Sin Datos  Sin Datos        Sin Datos   \n",
       "3566279  Sin Datos  Sin Datos        Sin Datos   \n",
       "3566280  Sin Datos  Sin Datos        Sin Datos   \n",
       "\n",
       "                      dni_titular_movimiento sexo_descripcion     ciudad  \\\n",
       "2765     000cde1ad5d8114e7a5dd977930b8835659        Sin Datos  Sin Datos   \n",
       "2844     000cde1ad5d8114e7a5dd977930b8835659        Sin Datos  Sin Datos   \n",
       "3154     000650e8144e3a42d47a21aee9e48f34804        Sin Datos  Sin Datos   \n",
       "3252     000650e8144e3a42d47a21aee9e48f34804        Sin Datos  Sin Datos   \n",
       "3296     000cde1ad5d8114e7a5dd977930b8835659        Sin Datos  Sin Datos   \n",
       "...                                      ...              ...        ...   \n",
       "3565927  000cde1ad5d8114e7a5dd977930b8835659        Sin Datos  Sin Datos   \n",
       "3565928  000cde1ad5d8114e7a5dd977930b8835659        Sin Datos  Sin Datos   \n",
       "3566278  000cde1ad5d8114e7a5dd977930b8835659        Sin Datos  Sin Datos   \n",
       "3566279  000cde1ad5d8114e7a5dd977930b8835659        Sin Datos  Sin Datos   \n",
       "3566280  000cde1ad5d8114e7a5dd977930b8835659        Sin Datos  Sin Datos   \n",
       "\n",
       "        domicilio_codigo_postal fecha_nacimiento  \n",
       "2765                  Sin Datos        Sin Datos  \n",
       "2844                  Sin Datos        Sin Datos  \n",
       "3154                  Sin Datos        Sin Datos  \n",
       "3252                  Sin Datos        Sin Datos  \n",
       "3296                  Sin Datos        Sin Datos  \n",
       "...                         ...              ...  \n",
       "3565927               Sin Datos        Sin Datos  \n",
       "3565928               Sin Datos        Sin Datos  \n",
       "3566278               Sin Datos        Sin Datos  \n",
       "3566279               Sin Datos        Sin Datos  \n",
       "3566280               Sin Datos        Sin Datos  \n",
       "\n",
       "[10551 rows x 8 columns]"
      ]
     },
     "execution_count": 41,
     "metadata": {},
     "output_type": "execute_result"
    }
   ],
   "source": [
    "#imputacion de solo los valores faltante con fecha nacimiento, en un dataset separado\n",
    "df_imputed = df_imputed.fillna(value=np.nan)\n",
    "const_imputer = SimpleImputer(missing_values= np.nan,strategy='constant',fill_value=\"Sin Datos\") \n",
    "df_imputed.iloc[:,:] = const_imputer.fit_transform(df_imputed)\n",
    "df_imputed"
   ]
  },
  {
   "cell_type": "code",
   "execution_count": 42,
   "id": "82a2f53f-04f4-4268-bffe-a81f6aa979e9",
   "metadata": {},
   "outputs": [],
   "source": [
    "indices= df_imputed.index.to_list()\n",
    "column = ['fecha_nacimiento','sexo_descripcion','pais','provincia','ciudad','domicilio_codigo_postal','domicilio_barrio']"
   ]
  },
  {
   "cell_type": "code",
   "execution_count": 44,
   "id": "ef37cdde-b9ab-44b4-9828-2eaa4f52754e",
   "metadata": {},
   "outputs": [],
   "source": [
    "#df_drop = df_drop.fillna(value=np.nan)\n",
    "#column = ['fecha_nacimiento','sexo_descripcion','pais','provincia','ciudad','domicilio_codigo_postal','domicilio_barrio']\n",
    "#df_drop_a = pd.DataFrame(const_imputer.fit_transform(df_drop.iloc[indices,:][column]), columns = column)\n",
    "#df_drop_a.isna().sum()"
   ]
  },
  {
   "cell_type": "code",
   "execution_count": 45,
   "id": "4032f4af-d66f-4d42-acf3-3c62a482d603",
   "metadata": {},
   "outputs": [
    {
     "data": {
      "text/html": [
       "<div>\n",
       "<style scoped>\n",
       "    .dataframe tbody tr th:only-of-type {\n",
       "        vertical-align: middle;\n",
       "    }\n",
       "\n",
       "    .dataframe tbody tr th {\n",
       "        vertical-align: top;\n",
       "    }\n",
       "\n",
       "    .dataframe thead th {\n",
       "        text-align: right;\n",
       "    }\n",
       "</style>\n",
       "<table border=\"1\" class=\"dataframe\">\n",
       "  <thead>\n",
       "    <tr style=\"text-align: right;\">\n",
       "      <th></th>\n",
       "      <th>fecha_nacimiento</th>\n",
       "      <th>sexo_descripcion</th>\n",
       "      <th>pais</th>\n",
       "      <th>provincia</th>\n",
       "      <th>ciudad</th>\n",
       "      <th>domicilio_codigo_postal</th>\n",
       "      <th>domicilio_barrio</th>\n",
       "    </tr>\n",
       "  </thead>\n",
       "  <tbody>\n",
       "    <tr>\n",
       "      <th>0</th>\n",
       "      <td>Sin Datos</td>\n",
       "      <td>Sin Datos</td>\n",
       "      <td>Sin Datos</td>\n",
       "      <td>Sin Datos</td>\n",
       "      <td>Sin Datos</td>\n",
       "      <td>Sin Datos</td>\n",
       "      <td>Sin Datos</td>\n",
       "    </tr>\n",
       "    <tr>\n",
       "      <th>1</th>\n",
       "      <td>Sin Datos</td>\n",
       "      <td>Sin Datos</td>\n",
       "      <td>Sin Datos</td>\n",
       "      <td>Sin Datos</td>\n",
       "      <td>Sin Datos</td>\n",
       "      <td>Sin Datos</td>\n",
       "      <td>Sin Datos</td>\n",
       "    </tr>\n",
       "    <tr>\n",
       "      <th>2</th>\n",
       "      <td>Sin Datos</td>\n",
       "      <td>Sin Datos</td>\n",
       "      <td>Sin Datos</td>\n",
       "      <td>Sin Datos</td>\n",
       "      <td>Sin Datos</td>\n",
       "      <td>Sin Datos</td>\n",
       "      <td>Sin Datos</td>\n",
       "    </tr>\n",
       "    <tr>\n",
       "      <th>3</th>\n",
       "      <td>Sin Datos</td>\n",
       "      <td>Sin Datos</td>\n",
       "      <td>Sin Datos</td>\n",
       "      <td>Sin Datos</td>\n",
       "      <td>Sin Datos</td>\n",
       "      <td>Sin Datos</td>\n",
       "      <td>Sin Datos</td>\n",
       "    </tr>\n",
       "    <tr>\n",
       "      <th>4</th>\n",
       "      <td>Sin Datos</td>\n",
       "      <td>Sin Datos</td>\n",
       "      <td>Sin Datos</td>\n",
       "      <td>Sin Datos</td>\n",
       "      <td>Sin Datos</td>\n",
       "      <td>Sin Datos</td>\n",
       "      <td>Sin Datos</td>\n",
       "    </tr>\n",
       "    <tr>\n",
       "      <th>...</th>\n",
       "      <td>...</td>\n",
       "      <td>...</td>\n",
       "      <td>...</td>\n",
       "      <td>...</td>\n",
       "      <td>...</td>\n",
       "      <td>...</td>\n",
       "      <td>...</td>\n",
       "    </tr>\n",
       "    <tr>\n",
       "      <th>10546</th>\n",
       "      <td>Sin Datos</td>\n",
       "      <td>Sin Datos</td>\n",
       "      <td>Sin Datos</td>\n",
       "      <td>Sin Datos</td>\n",
       "      <td>Sin Datos</td>\n",
       "      <td>Sin Datos</td>\n",
       "      <td>Sin Datos</td>\n",
       "    </tr>\n",
       "    <tr>\n",
       "      <th>10547</th>\n",
       "      <td>Sin Datos</td>\n",
       "      <td>Sin Datos</td>\n",
       "      <td>Sin Datos</td>\n",
       "      <td>Sin Datos</td>\n",
       "      <td>Sin Datos</td>\n",
       "      <td>Sin Datos</td>\n",
       "      <td>Sin Datos</td>\n",
       "    </tr>\n",
       "    <tr>\n",
       "      <th>10548</th>\n",
       "      <td>Sin Datos</td>\n",
       "      <td>Sin Datos</td>\n",
       "      <td>Sin Datos</td>\n",
       "      <td>Sin Datos</td>\n",
       "      <td>Sin Datos</td>\n",
       "      <td>Sin Datos</td>\n",
       "      <td>Sin Datos</td>\n",
       "    </tr>\n",
       "    <tr>\n",
       "      <th>10549</th>\n",
       "      <td>Sin Datos</td>\n",
       "      <td>Sin Datos</td>\n",
       "      <td>Sin Datos</td>\n",
       "      <td>Sin Datos</td>\n",
       "      <td>Sin Datos</td>\n",
       "      <td>Sin Datos</td>\n",
       "      <td>Sin Datos</td>\n",
       "    </tr>\n",
       "    <tr>\n",
       "      <th>10550</th>\n",
       "      <td>Sin Datos</td>\n",
       "      <td>Sin Datos</td>\n",
       "      <td>Sin Datos</td>\n",
       "      <td>Sin Datos</td>\n",
       "      <td>Sin Datos</td>\n",
       "      <td>Sin Datos</td>\n",
       "      <td>Sin Datos</td>\n",
       "    </tr>\n",
       "  </tbody>\n",
       "</table>\n",
       "<p>10551 rows × 7 columns</p>\n",
       "</div>"
      ],
      "text/plain": [
       "      fecha_nacimiento sexo_descripcion       pais  provincia     ciudad  \\\n",
       "0            Sin Datos        Sin Datos  Sin Datos  Sin Datos  Sin Datos   \n",
       "1            Sin Datos        Sin Datos  Sin Datos  Sin Datos  Sin Datos   \n",
       "2            Sin Datos        Sin Datos  Sin Datos  Sin Datos  Sin Datos   \n",
       "3            Sin Datos        Sin Datos  Sin Datos  Sin Datos  Sin Datos   \n",
       "4            Sin Datos        Sin Datos  Sin Datos  Sin Datos  Sin Datos   \n",
       "...                ...              ...        ...        ...        ...   \n",
       "10546        Sin Datos        Sin Datos  Sin Datos  Sin Datos  Sin Datos   \n",
       "10547        Sin Datos        Sin Datos  Sin Datos  Sin Datos  Sin Datos   \n",
       "10548        Sin Datos        Sin Datos  Sin Datos  Sin Datos  Sin Datos   \n",
       "10549        Sin Datos        Sin Datos  Sin Datos  Sin Datos  Sin Datos   \n",
       "10550        Sin Datos        Sin Datos  Sin Datos  Sin Datos  Sin Datos   \n",
       "\n",
       "      domicilio_codigo_postal domicilio_barrio  \n",
       "0                   Sin Datos        Sin Datos  \n",
       "1                   Sin Datos        Sin Datos  \n",
       "2                   Sin Datos        Sin Datos  \n",
       "3                   Sin Datos        Sin Datos  \n",
       "4                   Sin Datos        Sin Datos  \n",
       "...                       ...              ...  \n",
       "10546               Sin Datos        Sin Datos  \n",
       "10547               Sin Datos        Sin Datos  \n",
       "10548               Sin Datos        Sin Datos  \n",
       "10549               Sin Datos        Sin Datos  \n",
       "10550               Sin Datos        Sin Datos  \n",
       "\n",
       "[10551 rows x 7 columns]"
      ]
     },
     "execution_count": 45,
     "metadata": {},
     "output_type": "execute_result"
    }
   ],
   "source": [
    "# preguntar porq no funciona\n",
    "pd.DataFrame(const_imputer.fit_transform(df_drop.iloc[indices,:][column]) , columns = column)"
   ]
  },
  {
   "cell_type": "code",
   "execution_count": 48,
   "id": "4472df56-681a-446f-a609-37ead11ed48a",
   "metadata": {},
   "outputs": [],
   "source": [
    "#no funciona\n",
    "#df_drop.loc[df_drop['dni_titular_movimiento'] == '000cde1ad5d8114e7a5dd977930b8835659', column]"
   ]
  },
  {
   "cell_type": "code",
   "execution_count": null,
   "id": "0f6689ea-df46-4cd1-9627-9a7d6bbff04e",
   "metadata": {},
   "outputs": [],
   "source": [
    "# PREGUNTAR PORQUE NO FUNCIONA ESTO\n",
    "df_drop.loc[df_drop['dni_titular_movimiento'] == '000b0d85fa8a959e2133328830fff990443', column] \\\n",
    "    = pd.DataFrame(const_imputer.fit_transform(df_drop.loc[df_drop['dni_titular_movimiento'] == '000b0d85fa8a959e2133328830fff990443',:][column]) , columns = column)"
   ]
  },
  {
   "cell_type": "code",
   "execution_count": 54,
   "id": "ded5af4a-84d0-4c62-be0f-f74b35330a77",
   "metadata": {},
   "outputs": [],
   "source": [
    "# Se reemplazan los valores faltantes asociados a los dni por \"Sin Datos\"\n",
    "df_drop.loc[df_drop['dni_titular_movimiento'] == '000cde1ad5d8114e7a5dd977930b8835659', column] = 'Sin Datos'\n",
    "df_drop.loc[df_drop['dni_titular_movimiento'] == '000650e8144e3a42d47a21aee9e48f34804', column] = 'Sin Datos'\n",
    "df_drop.loc[df_drop['dni_titular_movimiento'] == '000b0d85fa8a959e2133328830fff990443', column] = 'Sin Datos'"
   ]
  },
  {
   "cell_type": "code",
   "execution_count": 55,
   "id": "502abd67-2ac8-4342-852e-c1183b4891c2",
   "metadata": {},
   "outputs": [
    {
     "data": {
      "text/plain": [
       "dni_titular_movimiento                    0\n",
       "moneda_movimiento                         0\n",
       "id_comercio_movimiento                    0\n",
       "nombre_comercio_histo                     0\n",
       "numero_cupon_movimiento                   0\n",
       "debito_credito_movimiento                 0\n",
       "producto_naranja_movimiento               0\n",
       "codigo_empresa_movimiento                 0\n",
       "tipo_producto_tarjeta_movimiento          0\n",
       "plan_movimiento                           0\n",
       "fecha_vto_cupon_movimiento                0\n",
       "fecha_presentacion_movimiento             0\n",
       "fecha_cupon_movimiento                    0\n",
       "fecha_carga_sistema_movimiento         2484\n",
       "monto_compra_movimiento                   0\n",
       "importe_cuota_movimiento                  0\n",
       "interes_movimiento                        0\n",
       "cargo_adm_seguro_movimiento               0\n",
       "cargo_otorgamiento_movimiento             0\n",
       "cargo_seguro_vida_movimiento              0\n",
       "cargo_administrativo_movimiento           0\n",
       "seleccionado_ng                           0\n",
       "codigo_contable_movimiento                0\n",
       "local_venta_producto                      0\n",
       "marca_debito_automatico                   0\n",
       "id_comercio_otras_marcas_movimiento       0\n",
       "fecha_nacimiento                          0\n",
       "estado_civil_descripcion                  0\n",
       "sexo_descripcion                          0\n",
       "pais                                      0\n",
       "provincia                                 0\n",
       "ciudad                                    0\n",
       "domicilio_codigo_postal                   0\n",
       "domicilio_barrio                          0\n",
       "fecha_de_ingreso_histo                    0\n",
       "cargo_descripcion_histo                   0\n",
       "nivel_estudio_descripcion_histo           0\n",
       "rel_vivienda_descripcion_histo            0\n",
       "nombre_comercio_concat                    0\n",
       "dtype: int64"
      ]
     },
     "execution_count": 55,
     "metadata": {},
     "output_type": "execute_result"
    }
   ],
   "source": [
    "(df_drop[(df_drop[\"dni_titular_movimiento\"] ==\"000b0d85fa8a959e2133328830fff990443\") | \n",
    "        (df_drop[\"dni_titular_movimiento\"] ==\"000650e8144e3a42d47a21aee9e48f34804\") | \n",
    "        (df_drop[\"dni_titular_movimiento\"] ==\"000cde1ad5d8114e7a5dd977930b8835659\")]).isna().sum()"
   ]
  },
  {
   "cell_type": "code",
   "execution_count": null,
   "id": "8100e113-fccc-42d1-a407-78dbe36d8084",
   "metadata": {},
   "outputs": [],
   "source": [
    "df_drop.loc[df_drop['dni_titular_movimiento'] == '000b0d85fa8a959e2133328830fff990443', column]"
   ]
  },
  {
   "cell_type": "markdown",
   "id": "de29e727-3498-4ab0-9dbf-158bb0380dbd",
   "metadata": {},
   "source": []
  },
  {
   "cell_type": "markdown",
   "id": "698f2234-2555-4ad6-beee-e4e79dc73ebd",
   "metadata": {},
   "source": [
    "#### Fecha carga sistema movimiento"
   ]
  },
  {
   "cell_type": "code",
   "execution_count": 58,
   "id": "1402e995-90a7-42ff-8fb6-aec6b60dfaed",
   "metadata": {},
   "outputs": [
    {
     "data": {
      "text/plain": [
       "dni_titular_movimiento                       0\n",
       "moneda_movimiento                            0\n",
       "id_comercio_movimiento                       0\n",
       "nombre_comercio_histo                        0\n",
       "numero_cupon_movimiento                      0\n",
       "debito_credito_movimiento                    0\n",
       "producto_naranja_movimiento                  0\n",
       "codigo_empresa_movimiento                    0\n",
       "tipo_producto_tarjeta_movimiento             0\n",
       "plan_movimiento                              0\n",
       "fecha_vto_cupon_movimiento                   0\n",
       "fecha_presentacion_movimiento                0\n",
       "fecha_cupon_movimiento                       0\n",
       "fecha_carga_sistema_movimiento         1404647\n",
       "monto_compra_movimiento                      0\n",
       "importe_cuota_movimiento                     0\n",
       "interes_movimiento                           0\n",
       "cargo_adm_seguro_movimiento                  0\n",
       "cargo_otorgamiento_movimiento                0\n",
       "cargo_seguro_vida_movimiento                 0\n",
       "cargo_administrativo_movimiento              0\n",
       "seleccionado_ng                              0\n",
       "codigo_contable_movimiento                   0\n",
       "local_venta_producto                         0\n",
       "marca_debito_automatico                      0\n",
       "id_comercio_otras_marcas_movimiento          0\n",
       "fecha_nacimiento                             0\n",
       "estado_civil_descripcion                     0\n",
       "sexo_descripcion                         11164\n",
       "pais                                    101459\n",
       "provincia                               102356\n",
       "ciudad                                  117934\n",
       "domicilio_codigo_postal                  21982\n",
       "domicilio_barrio                         28123\n",
       "fecha_de_ingreso_histo                       0\n",
       "cargo_descripcion_histo                      0\n",
       "nivel_estudio_descripcion_histo         147532\n",
       "rel_vivienda_descripcion_histo          456724\n",
       "nombre_comercio_concat                       0\n",
       "dtype: int64"
      ]
     },
     "execution_count": 58,
     "metadata": {},
     "output_type": "execute_result"
    }
   ],
   "source": [
    "df_drop.isna().sum()"
   ]
  },
  {
   "cell_type": "code",
   "execution_count": null,
   "id": "54c383e9-d0e0-4903-b374-f0ecc96b4608",
   "metadata": {},
   "outputs": [],
   "source": [
    "df_nar[col_fechas].isnull().sum()"
   ]
  },
  {
   "cell_type": "code",
   "execution_count": 59,
   "id": "78d3cd59-66e0-4aed-88f5-93fd14083ad4",
   "metadata": {},
   "outputs": [],
   "source": [
    "#esta variable ya estaria eliminada\n",
    "#df_fchs.drop('fecha_extraccion_movimiento', axis=1, inplace=True)"
   ]
  },
  {
   "cell_type": "code",
   "execution_count": null,
   "id": "5ad48421-6153-4f3e-a4a4-3ba72a712907",
   "metadata": {},
   "outputs": [],
   "source": [
    "df_fchs_samp[\"fecha_cupon_movimiento\"].corr(df_fchs_samp[\"fecha_carga_sistema_movimiento\"], method = 'spearman', min_periods = 1)"
   ]
  },
  {
   "cell_type": "code",
   "execution_count": null,
   "id": "290d7f44-d628-4f0b-898f-86241e747e1c",
   "metadata": {
    "tags": []
   },
   "outputs": [],
   "source": [
    "sns.relplot(x=\"fecha_cupon_movimiento\", y=\"fecha_carga_sistema_movimiento\", data=df_fchs_samp);"
   ]
  },
  {
   "cell_type": "markdown",
   "id": "0f54ec11-f797-46bf-86dc-5a0fc46e4c5e",
   "metadata": {
    "tags": []
   },
   "source": [
    "- (ESTO NO IRIA, SE DESCARTA ESTA VARIABLE AL INICIO) La variable 'fecha_extraccion_movimiento' tiene nulos en todos los campos, por lo que no se puede considerar para ningun proceso.\n",
    "\n",
    "- Como se puede ver en el calculo de la correlacion y el grafico de scatterplot, la relacion entre las variables 'fecha_cupon_movimiento' y 'fecha_carga_sistema_movimiento' son muy fuerte. Por estas razones, decidimos eliminar 'fecha_carga_sistema_movimiento' ya que tiene una alta cantidad de nulos."
   ]
  },
  {
   "cell_type": "markdown",
   "id": "bdbee22d-6e3a-42bf-be58-52bd2c874634",
   "metadata": {},
   "source": [
    "### CONTINUAR CON VALORES FALTANTES DE SEXO, PAIS, PROVINCIA, CIUDAD, DOM COD POSTAL, DOM BARRIO, NIVEL DE ESTUDIO Y REL VIVIENDA"
   ]
  },
  {
   "cell_type": "markdown",
   "id": "d33e50b8-f321-4708-b944-90de964bc5d3",
   "metadata": {},
   "source": [
    "### Identificar datos atípicos "
   ]
  },
  {
   "cell_type": "markdown",
   "id": "0f097e02-d3cd-4000-9855-993edfd07029",
   "metadata": {
    "tags": []
   },
   "source": [
    "### Creacion de dataset a guardar"
   ]
  },
  {
   "cell_type": "code",
   "execution_count": null,
   "id": "4004f912-0ce3-4955-a9db-dfd4b68cd99a",
   "metadata": {
    "tags": []
   },
   "outputs": [],
   "source": [
    "# Aca diria que esten todas las operaciones de ppio a fin"
   ]
  },
  {
   "cell_type": "markdown",
   "id": "f04b1112-1d76-4ccb-a7e9-6958e6e7493a",
   "metadata": {},
   "source": [
    "## 4. Guardado\n",
    "* Eliminar las columnas/filas que se concideren no necesarias, explicando el por que\n",
    "* Codificar variables: todas las variables categóricas deben guardarse como variables numéricas, no string\n",
    "* Comprimir el conjunto de datos para que se guarde en el formato más eficiente y comparalo contra `csv`."
   ]
  },
  {
   "cell_type": "markdown",
   "id": "bad59ed1-f0eb-4629-b668-57f66eec998d",
   "metadata": {},
   "source": [
    "## 5. Optativos\n",
    "En Big data se manejan datos crudos todo el tiempo y de gran volumen, este proceso de exploracion y limpieza\n",
    "es parte del proceso conocido como ETL (Extract, transform, load) o ELT (Extract, load, transform). \n",
    "Todo el proceso de este tp pertenece a la etapa de Transfom. En big data esto se hace de manera automatizada. \n",
    "\n",
    "* Entonces como asegurarse que los datos son saludables?.\n",
    "  Es decir que no contengan valores atipicos, nulls, tipos de datos incorrectos, etc.\n",
    "  No podemos hacer validaciones a mano si tenemos miles de datos por dia/hora.\n",
    "  > Hint: [great expectations](https://greatexpectations.io/)\n",
    "* Documentar las columnas finales. (procesos aplicados en este tp)\n"
   ]
  },
  {
   "cell_type": "code",
   "execution_count": null,
   "id": "7f87a9d5",
   "metadata": {},
   "outputs": [],
   "source": [
    "df.domicilio_codigo_postal = df[df['domicilio_codigo_postal'].isna()!=True]['domicilio_codigo_postal'].apply(int).apply(str)"
   ]
  },
  {
   "cell_type": "code",
   "execution_count": null,
   "id": "19289be9",
   "metadata": {},
   "outputs": [],
   "source": [
    "df['domicilio_codigo_postal'].isna().unique()"
   ]
  },
  {
   "cell_type": "code",
   "execution_count": null,
   "id": "7265f762",
   "metadata": {},
   "outputs": [],
   "source": [
    "df.info()"
   ]
  },
  {
   "cell_type": "code",
   "execution_count": null,
   "id": "c10f4f5f",
   "metadata": {},
   "outputs": [],
   "source": [
    "df"
   ]
  },
  {
   "cell_type": "code",
   "execution_count": null,
   "id": "3339444a",
   "metadata": {},
   "outputs": [],
   "source": []
  }
 ],
 "metadata": {
  "kernelspec": {
   "display_name": "Python 3",
   "language": "python",
   "name": "python3"
  },
  "language_info": {
   "codemirror_mode": {
    "name": "ipython",
    "version": 3
   },
   "file_extension": ".py",
   "mimetype": "text/x-python",
   "name": "python",
   "nbconvert_exporter": "python",
   "pygments_lexer": "ipython3",
   "version": "3.9.4"
  },
  "toc-showcode": false
 },
 "nbformat": 4,
 "nbformat_minor": 5
}
