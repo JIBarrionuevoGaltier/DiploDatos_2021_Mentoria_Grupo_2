{
 "cells": [
  {
   "cell_type": "markdown",
   "id": "2b2695f1-eb1d-4195-b00b-942f2e6151fb",
   "metadata": {},
   "source": [
    "## Practico\n",
    "### Introduccion al Aprendizaje Automatico\n",
    "\n",
    "El objetivo consiste en explorar la aplicación de diferentes métodos de aprendizaje supervisado aprendidos \n",
    "en el curso, a través de experimentos reproducibles, y evaluando a su vez la conveniencia de uno u otro, \n",
    "así como la selección de diferentes hiperparámetros a partir del cálculo de las métricas pertinentes.\n",
    "\n",
    "Para este practico se usara el dataset obtenido en el practico anterior\n",
    "> Dataset Original: [here](https://drive.google.com/file/d/1wCNrWQbUd_bh1mdjZ-dg3g9y0r02JyQN/view?usp=sharing)"
   ]
  },
  {
   "cell_type": "markdown",
   "id": "bf537127-ad7d-4792-861a-3beaf841bd8e",
   "metadata": {},
   "source": [
    "4. Clasificación\n",
    "* El TARGET se encuentra desbalanceado?\n",
    "* Entrenar modelos lineales y No lineales de clasificación para predecir la variable objetivo.\n",
    "* Seleccionar distintos valores para los hiperparámetros de los modelos usando `GridSearchCV`.\n",
    "* Evaluar el modelo con el cojunto evaluación usando.\n",
    "   - Accuracy\n",
    "   - Precision\n",
    "   - Recall\n",
    "   - F1\n",
    "   - matriz de confusión\n",
    "* Explicar el por qué de cada resultado."
   ]
  },
  {
   "cell_type": "markdown",
   "id": "2a1ceeed-f60f-4d09-b954-668071f8f883",
   "metadata": {},
   "source": [
    "5. Optativo\n",
    "* Graficar la curva ROC del modelo elegido en el punto anterior, Explicar."
   ]
  },
  {
   "cell_type": "markdown",
   "id": "03c76f67-126f-44d4-bbd1-94aca09ad9df",
   "metadata": {},
   "source": [
    "Recuerden que la ciencia de datos es un proceso circular, continuo y no lineal. Es decir, si los datos requieren de mayor procesamiento para satisfacer las necesidades de algoritmos de ML (cualesquiera de ellos), vamos a volver a la etapa inicial para, por ejemplo, crear nuevas features, tomar decisiones diferentes sobre valores faltantes o valores atípicos (outliers), descartar features, entre otras."
   ]
  },
  {
   "cell_type": "markdown",
   "id": "d5cf8166-72c4-4ba5-b1e6-255547f8584d",
   "metadata": {},
   "source": [
    "1. Preparación\n",
    "\n",
    "* Usar la columna monto movimiento como target para modelos de regresión.\n",
    "* Con el objetivo de preparar los datos para los modelos de clasificacion.\n",
    "  Crear una columna que indique si un cliente ha aumentado el monto de movimiento \n",
    "  mesual, comparando con el mes anterior. En donde \n",
    "  - 1 si el monto ha aumentado respecto del mes anterior (con un incremento mayor o igual al 10%)\n",
    "  - 0 si no fue asi.\n",
    "  > consideraciones: el primer mes del dataset, el valor es 0\n",
    "  \n",
    "* Las variables explicativas (variables X's) no deben estar muy correlacionadas entre ellas, \n",
    "  ya que la variabilidad de una y otra estarán explicando la misma parte de variabilidad de la variable dependiente. \n",
    "  Esto es lo que se conoce como multicolinealidad, lo cual deriva en la imposibilidad de estimar los parámetros \n",
    "  cuando la misma es exacta o en estimaciones muy imprecisas cuando la misma es aproximada. En el caso de encontrar multicolinealidad, \n",
    "  - Cómo se puede solucionar? Qué decisión tomarían al respecto?\n",
    "  \n",
    "* Es posible que sea necesario normalizar las features de nuestro dataset. En qué casos tendrá que implementarse normalización?\n"
   ]
  },
  {
   "cell_type": "markdown",
   "id": "607498bc-2ba5-4993-9ac5-fb9c6f6eaad2",
   "metadata": {},
   "source": [
    "## 1. Preparación del conjunto de datos"
   ]
  },
  {
   "cell_type": "code",
   "execution_count": 1,
   "id": "c4c31e2a-20a1-4dab-86e5-03d2642784dc",
   "metadata": {},
   "outputs": [],
   "source": [
    "import pyarrow\n",
    "import fastparquet\n",
    "import pandas as pd\n",
    "import numpy as np\n",
    "import seaborn as sns\n",
    "import matplotlib.pyplot as plt\n",
    "from sklearn.model_selection import train_test_split\n",
    "from sklearn.linear_model import LinearRegression\n",
    "from sklearn.preprocessing import PolynomialFeatures\n",
    "from sklearn.pipeline import make_pipeline\n",
    "from sklearn.metrics import mean_squared_error\n",
    "from sklearn.datasets import load_boston\n",
    "from sklearn.preprocessing import PolynomialFeatures"
   ]
  },
  {
   "cell_type": "markdown",
   "id": "9ba4511a-6ff9-40bd-ad1b-18757c54d715",
   "metadata": {},
   "source": [
    "Para cargar el dataset"
   ]
  },
  {
   "cell_type": "code",
   "execution_count": 2,
   "id": "89587726-8d74-486e-a931-c354f99062be",
   "metadata": {},
   "outputs": [],
   "source": [
    "df = pd.read_parquet(\"df_final.parquet\")"
   ]
  },
  {
   "cell_type": "code",
   "execution_count": 3,
   "id": "8e09391f-e5ba-4db1-8678-447585c5dadc",
   "metadata": {},
   "outputs": [
    {
     "data": {
      "text/html": [
       "<div>\n",
       "<style scoped>\n",
       "    .dataframe tbody tr th:only-of-type {\n",
       "        vertical-align: middle;\n",
       "    }\n",
       "\n",
       "    .dataframe tbody tr th {\n",
       "        vertical-align: top;\n",
       "    }\n",
       "\n",
       "    .dataframe thead th {\n",
       "        text-align: right;\n",
       "    }\n",
       "</style>\n",
       "<table border=\"1\" class=\"dataframe\">\n",
       "  <thead>\n",
       "    <tr style=\"text-align: right;\">\n",
       "      <th></th>\n",
       "      <th>dni_titular_movimiento</th>\n",
       "      <th>anio_mes_cupon</th>\n",
       "      <th>monto_ajustado</th>\n",
       "      <th>edad_cliente</th>\n",
       "      <th>antig_cliente</th>\n",
       "      <th>pca1</th>\n",
       "      <th>pca2</th>\n",
       "      <th>sexo_descripcion=Hombre</th>\n",
       "      <th>sexo_descripcion=Mujer</th>\n",
       "      <th>sexo_descripcion=Sin Datos</th>\n",
       "      <th>...</th>\n",
       "      <th>producto_naranja_movimiento=PP</th>\n",
       "      <th>producto_naranja_movimiento=TA</th>\n",
       "      <th>producto_naranja_movimiento=VI</th>\n",
       "      <th>producto_naranja_movimiento=ZE</th>\n",
       "      <th>tipo_producto_tarjeta_movimiento=0</th>\n",
       "      <th>tipo_producto_tarjeta_movimiento=22</th>\n",
       "      <th>tipo_producto_tarjeta_movimiento=3</th>\n",
       "      <th>tipo_producto_tarjeta_movimiento=32</th>\n",
       "      <th>tipo_producto_tarjeta_movimiento=4</th>\n",
       "      <th>tipo_producto_tarjeta_movimiento=42</th>\n",
       "    </tr>\n",
       "  </thead>\n",
       "  <tbody>\n",
       "    <tr>\n",
       "      <th>0</th>\n",
       "      <td>000000b5aea2c9ea7cc155f6ebcef97f826</td>\n",
       "      <td>202008</td>\n",
       "      <td>-325.68</td>\n",
       "      <td>46.0</td>\n",
       "      <td>225</td>\n",
       "      <td>0.829899</td>\n",
       "      <td>-0.567124</td>\n",
       "      <td>0.0</td>\n",
       "      <td>1.0</td>\n",
       "      <td>0.0</td>\n",
       "      <td>...</td>\n",
       "      <td>0.0</td>\n",
       "      <td>0.0</td>\n",
       "      <td>0.0</td>\n",
       "      <td>0.0</td>\n",
       "      <td>1.0</td>\n",
       "      <td>0.0</td>\n",
       "      <td>0.0</td>\n",
       "      <td>0.0</td>\n",
       "      <td>0.0</td>\n",
       "      <td>0.0</td>\n",
       "    </tr>\n",
       "    <tr>\n",
       "      <th>1</th>\n",
       "      <td>000000b5aea2c9ea7cc155f6ebcef97f826</td>\n",
       "      <td>202009</td>\n",
       "      <td>-318.09</td>\n",
       "      <td>47.0</td>\n",
       "      <td>226</td>\n",
       "      <td>0.885993</td>\n",
       "      <td>-0.577546</td>\n",
       "      <td>0.0</td>\n",
       "      <td>1.0</td>\n",
       "      <td>0.0</td>\n",
       "      <td>...</td>\n",
       "      <td>0.0</td>\n",
       "      <td>0.0</td>\n",
       "      <td>0.0</td>\n",
       "      <td>0.0</td>\n",
       "      <td>1.0</td>\n",
       "      <td>0.0</td>\n",
       "      <td>0.0</td>\n",
       "      <td>0.0</td>\n",
       "      <td>0.0</td>\n",
       "      <td>0.0</td>\n",
       "    </tr>\n",
       "    <tr>\n",
       "      <th>2</th>\n",
       "      <td>000000b5aea2c9ea7cc155f6ebcef97f826</td>\n",
       "      <td>202010</td>\n",
       "      <td>-307.74</td>\n",
       "      <td>47.0</td>\n",
       "      <td>227</td>\n",
       "      <td>0.895144</td>\n",
       "      <td>-0.578143</td>\n",
       "      <td>0.0</td>\n",
       "      <td>1.0</td>\n",
       "      <td>0.0</td>\n",
       "      <td>...</td>\n",
       "      <td>0.0</td>\n",
       "      <td>0.0</td>\n",
       "      <td>0.0</td>\n",
       "      <td>0.0</td>\n",
       "      <td>1.0</td>\n",
       "      <td>0.0</td>\n",
       "      <td>0.0</td>\n",
       "      <td>0.0</td>\n",
       "      <td>0.0</td>\n",
       "      <td>0.0</td>\n",
       "    </tr>\n",
       "    <tr>\n",
       "      <th>3</th>\n",
       "      <td>000000b5aea2c9ea7cc155f6ebcef97f826</td>\n",
       "      <td>202011</td>\n",
       "      <td>-299.46</td>\n",
       "      <td>47.0</td>\n",
       "      <td>228</td>\n",
       "      <td>0.904295</td>\n",
       "      <td>-0.578743</td>\n",
       "      <td>0.0</td>\n",
       "      <td>1.0</td>\n",
       "      <td>0.0</td>\n",
       "      <td>...</td>\n",
       "      <td>0.0</td>\n",
       "      <td>0.0</td>\n",
       "      <td>0.0</td>\n",
       "      <td>0.0</td>\n",
       "      <td>1.0</td>\n",
       "      <td>0.0</td>\n",
       "      <td>0.0</td>\n",
       "      <td>0.0</td>\n",
       "      <td>0.0</td>\n",
       "      <td>0.0</td>\n",
       "    </tr>\n",
       "    <tr>\n",
       "      <th>4</th>\n",
       "      <td>000000b5aea2c9ea7cc155f6ebcef97f826</td>\n",
       "      <td>202012</td>\n",
       "      <td>-290.49</td>\n",
       "      <td>47.0</td>\n",
       "      <td>229</td>\n",
       "      <td>0.913446</td>\n",
       "      <td>-0.579343</td>\n",
       "      <td>0.0</td>\n",
       "      <td>1.0</td>\n",
       "      <td>0.0</td>\n",
       "      <td>...</td>\n",
       "      <td>0.0</td>\n",
       "      <td>0.0</td>\n",
       "      <td>0.0</td>\n",
       "      <td>0.0</td>\n",
       "      <td>1.0</td>\n",
       "      <td>0.0</td>\n",
       "      <td>0.0</td>\n",
       "      <td>0.0</td>\n",
       "      <td>0.0</td>\n",
       "      <td>0.0</td>\n",
       "    </tr>\n",
       "    <tr>\n",
       "      <th>...</th>\n",
       "      <td>...</td>\n",
       "      <td>...</td>\n",
       "      <td>...</td>\n",
       "      <td>...</td>\n",
       "      <td>...</td>\n",
       "      <td>...</td>\n",
       "      <td>...</td>\n",
       "      <td>...</td>\n",
       "      <td>...</td>\n",
       "      <td>...</td>\n",
       "      <td>...</td>\n",
       "      <td>...</td>\n",
       "      <td>...</td>\n",
       "      <td>...</td>\n",
       "      <td>...</td>\n",
       "      <td>...</td>\n",
       "      <td>...</td>\n",
       "      <td>...</td>\n",
       "      <td>...</td>\n",
       "      <td>...</td>\n",
       "      <td>...</td>\n",
       "    </tr>\n",
       "    <tr>\n",
       "      <th>23203</th>\n",
       "      <td>000f0b73ebfa002a79a0642b82e87919904</td>\n",
       "      <td>202104</td>\n",
       "      <td>19956.87</td>\n",
       "      <td>64.0</td>\n",
       "      <td>24</td>\n",
       "      <td>-0.158297</td>\n",
       "      <td>-0.579022</td>\n",
       "      <td>0.0</td>\n",
       "      <td>1.0</td>\n",
       "      <td>0.0</td>\n",
       "      <td>...</td>\n",
       "      <td>0.0</td>\n",
       "      <td>0.0</td>\n",
       "      <td>0.0</td>\n",
       "      <td>0.0</td>\n",
       "      <td>1.0</td>\n",
       "      <td>0.0</td>\n",
       "      <td>0.0</td>\n",
       "      <td>0.0</td>\n",
       "      <td>0.0</td>\n",
       "      <td>0.0</td>\n",
       "    </tr>\n",
       "    <tr>\n",
       "      <th>23204</th>\n",
       "      <td>000f0b73ebfa002a79a0642b82e87919904</td>\n",
       "      <td>202104</td>\n",
       "      <td>61555.59</td>\n",
       "      <td>64.0</td>\n",
       "      <td>24</td>\n",
       "      <td>-0.146730</td>\n",
       "      <td>-0.495411</td>\n",
       "      <td>0.0</td>\n",
       "      <td>1.0</td>\n",
       "      <td>0.0</td>\n",
       "      <td>...</td>\n",
       "      <td>0.0</td>\n",
       "      <td>0.0</td>\n",
       "      <td>0.0</td>\n",
       "      <td>0.0</td>\n",
       "      <td>0.0</td>\n",
       "      <td>0.0</td>\n",
       "      <td>1.0</td>\n",
       "      <td>0.0</td>\n",
       "      <td>0.0</td>\n",
       "      <td>0.0</td>\n",
       "    </tr>\n",
       "    <tr>\n",
       "      <th>23205</th>\n",
       "      <td>000f0b73ebfa002a79a0642b82e87919904</td>\n",
       "      <td>202104</td>\n",
       "      <td>96119.07</td>\n",
       "      <td>64.0</td>\n",
       "      <td>24</td>\n",
       "      <td>-0.137119</td>\n",
       "      <td>-0.425941</td>\n",
       "      <td>0.0</td>\n",
       "      <td>1.0</td>\n",
       "      <td>0.0</td>\n",
       "      <td>...</td>\n",
       "      <td>0.0</td>\n",
       "      <td>0.0</td>\n",
       "      <td>0.0</td>\n",
       "      <td>1.0</td>\n",
       "      <td>0.0</td>\n",
       "      <td>0.0</td>\n",
       "      <td>1.0</td>\n",
       "      <td>0.0</td>\n",
       "      <td>0.0</td>\n",
       "      <td>0.0</td>\n",
       "    </tr>\n",
       "    <tr>\n",
       "      <th>23206</th>\n",
       "      <td>000f0b73ebfa002a79a0642b82e87919904</td>\n",
       "      <td>202104</td>\n",
       "      <td>145677.63</td>\n",
       "      <td>64.0</td>\n",
       "      <td>24</td>\n",
       "      <td>-0.123339</td>\n",
       "      <td>-0.326332</td>\n",
       "      <td>0.0</td>\n",
       "      <td>1.0</td>\n",
       "      <td>0.0</td>\n",
       "      <td>...</td>\n",
       "      <td>0.0</td>\n",
       "      <td>0.0</td>\n",
       "      <td>0.0</td>\n",
       "      <td>0.0</td>\n",
       "      <td>0.0</td>\n",
       "      <td>0.0</td>\n",
       "      <td>1.0</td>\n",
       "      <td>0.0</td>\n",
       "      <td>0.0</td>\n",
       "      <td>0.0</td>\n",
       "    </tr>\n",
       "    <tr>\n",
       "      <th>23207</th>\n",
       "      <td>000f0b73ebfa002a79a0642b82e87919904</td>\n",
       "      <td>202105</td>\n",
       "      <td>142402.89</td>\n",
       "      <td>64.0</td>\n",
       "      <td>25</td>\n",
       "      <td>-0.115102</td>\n",
       "      <td>-0.333531</td>\n",
       "      <td>0.0</td>\n",
       "      <td>1.0</td>\n",
       "      <td>0.0</td>\n",
       "      <td>...</td>\n",
       "      <td>0.0</td>\n",
       "      <td>0.0</td>\n",
       "      <td>0.0</td>\n",
       "      <td>1.0</td>\n",
       "      <td>0.0</td>\n",
       "      <td>0.0</td>\n",
       "      <td>1.0</td>\n",
       "      <td>0.0</td>\n",
       "      <td>0.0</td>\n",
       "      <td>0.0</td>\n",
       "    </tr>\n",
       "  </tbody>\n",
       "</table>\n",
       "<p>23208 rows × 54 columns</p>\n",
       "</div>"
      ],
      "text/plain": [
       "                    dni_titular_movimiento  anio_mes_cupon  monto_ajustado  \\\n",
       "0      000000b5aea2c9ea7cc155f6ebcef97f826          202008         -325.68   \n",
       "1      000000b5aea2c9ea7cc155f6ebcef97f826          202009         -318.09   \n",
       "2      000000b5aea2c9ea7cc155f6ebcef97f826          202010         -307.74   \n",
       "3      000000b5aea2c9ea7cc155f6ebcef97f826          202011         -299.46   \n",
       "4      000000b5aea2c9ea7cc155f6ebcef97f826          202012         -290.49   \n",
       "...                                    ...             ...             ...   \n",
       "23203  000f0b73ebfa002a79a0642b82e87919904          202104        19956.87   \n",
       "23204  000f0b73ebfa002a79a0642b82e87919904          202104        61555.59   \n",
       "23205  000f0b73ebfa002a79a0642b82e87919904          202104        96119.07   \n",
       "23206  000f0b73ebfa002a79a0642b82e87919904          202104       145677.63   \n",
       "23207  000f0b73ebfa002a79a0642b82e87919904          202105       142402.89   \n",
       "\n",
       "       edad_cliente  antig_cliente      pca1      pca2  \\\n",
       "0              46.0            225  0.829899 -0.567124   \n",
       "1              47.0            226  0.885993 -0.577546   \n",
       "2              47.0            227  0.895144 -0.578143   \n",
       "3              47.0            228  0.904295 -0.578743   \n",
       "4              47.0            229  0.913446 -0.579343   \n",
       "...             ...            ...       ...       ...   \n",
       "23203          64.0             24 -0.158297 -0.579022   \n",
       "23204          64.0             24 -0.146730 -0.495411   \n",
       "23205          64.0             24 -0.137119 -0.425941   \n",
       "23206          64.0             24 -0.123339 -0.326332   \n",
       "23207          64.0             25 -0.115102 -0.333531   \n",
       "\n",
       "       sexo_descripcion=Hombre  sexo_descripcion=Mujer  \\\n",
       "0                          0.0                     1.0   \n",
       "1                          0.0                     1.0   \n",
       "2                          0.0                     1.0   \n",
       "3                          0.0                     1.0   \n",
       "4                          0.0                     1.0   \n",
       "...                        ...                     ...   \n",
       "23203                      0.0                     1.0   \n",
       "23204                      0.0                     1.0   \n",
       "23205                      0.0                     1.0   \n",
       "23206                      0.0                     1.0   \n",
       "23207                      0.0                     1.0   \n",
       "\n",
       "       sexo_descripcion=Sin Datos  ...  producto_naranja_movimiento=PP  \\\n",
       "0                             0.0  ...                             0.0   \n",
       "1                             0.0  ...                             0.0   \n",
       "2                             0.0  ...                             0.0   \n",
       "3                             0.0  ...                             0.0   \n",
       "4                             0.0  ...                             0.0   \n",
       "...                           ...  ...                             ...   \n",
       "23203                         0.0  ...                             0.0   \n",
       "23204                         0.0  ...                             0.0   \n",
       "23205                         0.0  ...                             0.0   \n",
       "23206                         0.0  ...                             0.0   \n",
       "23207                         0.0  ...                             0.0   \n",
       "\n",
       "       producto_naranja_movimiento=TA  producto_naranja_movimiento=VI  \\\n",
       "0                                 0.0                             0.0   \n",
       "1                                 0.0                             0.0   \n",
       "2                                 0.0                             0.0   \n",
       "3                                 0.0                             0.0   \n",
       "4                                 0.0                             0.0   \n",
       "...                               ...                             ...   \n",
       "23203                             0.0                             0.0   \n",
       "23204                             0.0                             0.0   \n",
       "23205                             0.0                             0.0   \n",
       "23206                             0.0                             0.0   \n",
       "23207                             0.0                             0.0   \n",
       "\n",
       "       producto_naranja_movimiento=ZE  tipo_producto_tarjeta_movimiento=0  \\\n",
       "0                                 0.0                                 1.0   \n",
       "1                                 0.0                                 1.0   \n",
       "2                                 0.0                                 1.0   \n",
       "3                                 0.0                                 1.0   \n",
       "4                                 0.0                                 1.0   \n",
       "...                               ...                                 ...   \n",
       "23203                             0.0                                 1.0   \n",
       "23204                             0.0                                 0.0   \n",
       "23205                             1.0                                 0.0   \n",
       "23206                             0.0                                 0.0   \n",
       "23207                             1.0                                 0.0   \n",
       "\n",
       "       tipo_producto_tarjeta_movimiento=22  \\\n",
       "0                                      0.0   \n",
       "1                                      0.0   \n",
       "2                                      0.0   \n",
       "3                                      0.0   \n",
       "4                                      0.0   \n",
       "...                                    ...   \n",
       "23203                                  0.0   \n",
       "23204                                  0.0   \n",
       "23205                                  0.0   \n",
       "23206                                  0.0   \n",
       "23207                                  0.0   \n",
       "\n",
       "       tipo_producto_tarjeta_movimiento=3  \\\n",
       "0                                     0.0   \n",
       "1                                     0.0   \n",
       "2                                     0.0   \n",
       "3                                     0.0   \n",
       "4                                     0.0   \n",
       "...                                   ...   \n",
       "23203                                 0.0   \n",
       "23204                                 1.0   \n",
       "23205                                 1.0   \n",
       "23206                                 1.0   \n",
       "23207                                 1.0   \n",
       "\n",
       "       tipo_producto_tarjeta_movimiento=32  \\\n",
       "0                                      0.0   \n",
       "1                                      0.0   \n",
       "2                                      0.0   \n",
       "3                                      0.0   \n",
       "4                                      0.0   \n",
       "...                                    ...   \n",
       "23203                                  0.0   \n",
       "23204                                  0.0   \n",
       "23205                                  0.0   \n",
       "23206                                  0.0   \n",
       "23207                                  0.0   \n",
       "\n",
       "       tipo_producto_tarjeta_movimiento=4  tipo_producto_tarjeta_movimiento=42  \n",
       "0                                     0.0                                  0.0  \n",
       "1                                     0.0                                  0.0  \n",
       "2                                     0.0                                  0.0  \n",
       "3                                     0.0                                  0.0  \n",
       "4                                     0.0                                  0.0  \n",
       "...                                   ...                                  ...  \n",
       "23203                                 0.0                                  0.0  \n",
       "23204                                 0.0                                  0.0  \n",
       "23205                                 0.0                                  0.0  \n",
       "23206                                 0.0                                  0.0  \n",
       "23207                                 0.0                                  0.0  \n",
       "\n",
       "[23208 rows x 54 columns]"
      ]
     },
     "execution_count": 3,
     "metadata": {},
     "output_type": "execute_result"
    }
   ],
   "source": [
    "df"
   ]
  },
  {
   "cell_type": "code",
   "execution_count": 4,
   "id": "e0f89363-bcd8-4beb-bdee-ef506e927f58",
   "metadata": {},
   "outputs": [
    {
     "data": {
      "text/plain": [
       "(23208, 54)"
      ]
     },
     "execution_count": 4,
     "metadata": {},
     "output_type": "execute_result"
    }
   ],
   "source": [
    "df.shape"
   ]
  },
  {
   "cell_type": "markdown",
   "id": "049dda23-c4a3-49e3-8069-dc43cb2b5e2f",
   "metadata": {},
   "source": [
    "Seleccionamos las columnas con mayor variabilidad en el tiempo en cada dni"
   ]
  },
  {
   "cell_type": "markdown",
   "id": "48e9df30-9588-4fbb-b9f5-c4a8721a6402",
   "metadata": {},
   "source": [
    "### 1.1 Selección de columnas"
   ]
  },
  {
   "cell_type": "code",
   "execution_count": 5,
   "id": "9b62b85d-cc0c-4bec-b6de-69c2a84a8160",
   "metadata": {},
   "outputs": [],
   "source": [
    "# TODO: mejorar\n",
    "columnas = [x for x in df.columns if 'dni_titular' in x \n",
    "                       or 'anio_mes' in x \n",
    "                       or 'comercio_cat' in x\n",
    "                       or 'producto_naranja' in x\n",
    "                       or 'tipo_producto' in x\n",
    "                       or 'monto_ajustado' in x\n",
    "                       or 'antig_cliente' in x\n",
    "                       or 'pca' in x]"
   ]
  },
  {
   "cell_type": "code",
   "execution_count": 6,
   "id": "d88feca5-7e35-4594-b01b-f7a72e103e04",
   "metadata": {},
   "outputs": [],
   "source": [
    "df_obj = df[columnas].copy()"
   ]
  },
  {
   "cell_type": "markdown",
   "id": "240dd1be-2e51-457b-8410-8b2f42c69a38",
   "metadata": {},
   "source": [
    "### 1.2 Creación de variable categórica "
   ]
  },
  {
   "cell_type": "code",
   "execution_count": 7,
   "id": "5fca169a-8c2e-4a28-b32f-113344a60682",
   "metadata": {},
   "outputs": [
    {
     "data": {
      "text/plain": [
       "(23208, 32)"
      ]
     },
     "execution_count": 7,
     "metadata": {},
     "output_type": "execute_result"
    }
   ],
   "source": [
    "df_obj.shape"
   ]
  },
  {
   "cell_type": "markdown",
   "id": "a660148d-7816-4da2-8e65-07eae6fb9947",
   "metadata": {},
   "source": [
    "Creación de un dataset con el DNI, Mes de Compra y el monto del mes. Se lo ordena para poder luego clasificarlo de forma secuencial."
   ]
  },
  {
   "cell_type": "code",
   "execution_count": 8,
   "id": "a44f7f1e-0ea9-4992-898a-81bc33bbfa6e",
   "metadata": {},
   "outputs": [
    {
     "data": {
      "text/html": [
       "<div>\n",
       "<style scoped>\n",
       "    .dataframe tbody tr th:only-of-type {\n",
       "        vertical-align: middle;\n",
       "    }\n",
       "\n",
       "    .dataframe tbody tr th {\n",
       "        vertical-align: top;\n",
       "    }\n",
       "\n",
       "    .dataframe thead th {\n",
       "        text-align: right;\n",
       "    }\n",
       "</style>\n",
       "<table border=\"1\" class=\"dataframe\">\n",
       "  <thead>\n",
       "    <tr style=\"text-align: right;\">\n",
       "      <th></th>\n",
       "      <th>dni_titular_movimiento</th>\n",
       "      <th>anio_mes_cupon</th>\n",
       "      <th>monto_ajustado</th>\n",
       "    </tr>\n",
       "  </thead>\n",
       "  <tbody>\n",
       "    <tr>\n",
       "      <th>0</th>\n",
       "      <td>000000b5aea2c9ea7cc155f6ebcef97f826</td>\n",
       "      <td>202008</td>\n",
       "      <td>-325.68</td>\n",
       "    </tr>\n",
       "    <tr>\n",
       "      <th>1</th>\n",
       "      <td>000000b5aea2c9ea7cc155f6ebcef97f826</td>\n",
       "      <td>202009</td>\n",
       "      <td>-318.09</td>\n",
       "    </tr>\n",
       "    <tr>\n",
       "      <th>2</th>\n",
       "      <td>000000b5aea2c9ea7cc155f6ebcef97f826</td>\n",
       "      <td>202010</td>\n",
       "      <td>-307.74</td>\n",
       "    </tr>\n",
       "    <tr>\n",
       "      <th>3</th>\n",
       "      <td>000000b5aea2c9ea7cc155f6ebcef97f826</td>\n",
       "      <td>202011</td>\n",
       "      <td>-299.46</td>\n",
       "    </tr>\n",
       "    <tr>\n",
       "      <th>4</th>\n",
       "      <td>000000b5aea2c9ea7cc155f6ebcef97f826</td>\n",
       "      <td>202012</td>\n",
       "      <td>-290.49</td>\n",
       "    </tr>\n",
       "    <tr>\n",
       "      <th>...</th>\n",
       "      <td>...</td>\n",
       "      <td>...</td>\n",
       "      <td>...</td>\n",
       "    </tr>\n",
       "    <tr>\n",
       "      <th>7509</th>\n",
       "      <td>000f0b73ebfa002a79a0642b82e87919904</td>\n",
       "      <td>202101</td>\n",
       "      <td>801535.05</td>\n",
       "    </tr>\n",
       "    <tr>\n",
       "      <th>7510</th>\n",
       "      <td>000f0b73ebfa002a79a0642b82e87919904</td>\n",
       "      <td>202102</td>\n",
       "      <td>867100.92</td>\n",
       "    </tr>\n",
       "    <tr>\n",
       "      <th>7511</th>\n",
       "      <td>000f0b73ebfa002a79a0642b82e87919904</td>\n",
       "      <td>202103</td>\n",
       "      <td>183752.52</td>\n",
       "    </tr>\n",
       "    <tr>\n",
       "      <th>7512</th>\n",
       "      <td>000f0b73ebfa002a79a0642b82e87919904</td>\n",
       "      <td>202104</td>\n",
       "      <td>323309.16</td>\n",
       "    </tr>\n",
       "    <tr>\n",
       "      <th>7513</th>\n",
       "      <td>000f0b73ebfa002a79a0642b82e87919904</td>\n",
       "      <td>202105</td>\n",
       "      <td>142402.89</td>\n",
       "    </tr>\n",
       "  </tbody>\n",
       "</table>\n",
       "<p>7514 rows × 3 columns</p>\n",
       "</div>"
      ],
      "text/plain": [
       "                   dni_titular_movimiento  anio_mes_cupon  monto_ajustado\n",
       "0     000000b5aea2c9ea7cc155f6ebcef97f826          202008         -325.68\n",
       "1     000000b5aea2c9ea7cc155f6ebcef97f826          202009         -318.09\n",
       "2     000000b5aea2c9ea7cc155f6ebcef97f826          202010         -307.74\n",
       "3     000000b5aea2c9ea7cc155f6ebcef97f826          202011         -299.46\n",
       "4     000000b5aea2c9ea7cc155f6ebcef97f826          202012         -290.49\n",
       "...                                   ...             ...             ...\n",
       "7509  000f0b73ebfa002a79a0642b82e87919904          202101       801535.05\n",
       "7510  000f0b73ebfa002a79a0642b82e87919904          202102       867100.92\n",
       "7511  000f0b73ebfa002a79a0642b82e87919904          202103       183752.52\n",
       "7512  000f0b73ebfa002a79a0642b82e87919904          202104       323309.16\n",
       "7513  000f0b73ebfa002a79a0642b82e87919904          202105       142402.89\n",
       "\n",
       "[7514 rows x 3 columns]"
      ]
     },
     "execution_count": 8,
     "metadata": {},
     "output_type": "execute_result"
    }
   ],
   "source": [
    "df_dni_mes_mon = df_obj[['dni_titular_movimiento', 'anio_mes_cupon','monto_ajustado']] \\\n",
    "                        .groupby(['dni_titular_movimiento', 'anio_mes_cupon']).sum('monto_ajustado') \\\n",
    "                        .reset_index() \\\n",
    "                        .sort_values(by=['dni_titular_movimiento', 'anio_mes_cupon'])\n",
    "df_dni_mes_mon"
   ]
  },
  {
   "cell_type": "markdown",
   "id": "103c84c9-b665-4d6a-8ece-8b0af4473816",
   "metadata": {},
   "source": [
    "Agregación de la nueva columna seteada en 0.\n",
    "\n",
    "En la iteración, se le cambia el valor a 1 en caso de que cumpla con las condiciones preestablecidas."
   ]
  },
  {
   "cell_type": "code",
   "execution_count": 9,
   "id": "69919a5a-6830-461b-a222-29225f3041bf",
   "metadata": {},
   "outputs": [],
   "source": [
    "df_dni_mes_mon['fg_aumentado'] = 0\n",
    "for i in range(1,len(df_dni_mes_mon)):\n",
    "    if (df_dni_mes_mon.iloc[i]['dni_titular_movimiento'] == df_dni_mes_mon.iloc[i-1]['dni_titular_movimiento']) \\\n",
    "        & (df_dni_mes_mon.iloc[i]['anio_mes_cupon'] > df_dni_mes_mon.iloc[i-1]['anio_mes_cupon']):\n",
    "            var_mes = df_dni_mes_mon.iloc[i]['monto_ajustado'] - df_dni_mes_mon.iloc[i-1]['monto_ajustado']\n",
    "            if (var_mes > (abs(df_dni_mes_mon.iloc[i-1]['monto_ajustado'])*0.1)):\n",
    "                    df_dni_mes_mon.iloc[i,3] = 1"
   ]
  },
  {
   "cell_type": "code",
   "execution_count": 10,
   "id": "2a723baa-516b-4b13-9856-61dfb058e523",
   "metadata": {},
   "outputs": [
    {
     "data": {
      "text/html": [
       "<div>\n",
       "<style scoped>\n",
       "    .dataframe tbody tr th:only-of-type {\n",
       "        vertical-align: middle;\n",
       "    }\n",
       "\n",
       "    .dataframe tbody tr th {\n",
       "        vertical-align: top;\n",
       "    }\n",
       "\n",
       "    .dataframe thead th {\n",
       "        text-align: right;\n",
       "    }\n",
       "</style>\n",
       "<table border=\"1\" class=\"dataframe\">\n",
       "  <thead>\n",
       "    <tr style=\"text-align: right;\">\n",
       "      <th></th>\n",
       "      <th>dni_titular_movimiento</th>\n",
       "      <th>anio_mes_cupon</th>\n",
       "      <th>monto_ajustado</th>\n",
       "      <th>fg_aumentado</th>\n",
       "    </tr>\n",
       "  </thead>\n",
       "  <tbody>\n",
       "    <tr>\n",
       "      <th>0</th>\n",
       "      <td>000000b5aea2c9ea7cc155f6ebcef97f826</td>\n",
       "      <td>202008</td>\n",
       "      <td>-325.68</td>\n",
       "      <td>0</td>\n",
       "    </tr>\n",
       "    <tr>\n",
       "      <th>1</th>\n",
       "      <td>000000b5aea2c9ea7cc155f6ebcef97f826</td>\n",
       "      <td>202009</td>\n",
       "      <td>-318.09</td>\n",
       "      <td>0</td>\n",
       "    </tr>\n",
       "    <tr>\n",
       "      <th>2</th>\n",
       "      <td>000000b5aea2c9ea7cc155f6ebcef97f826</td>\n",
       "      <td>202010</td>\n",
       "      <td>-307.74</td>\n",
       "      <td>0</td>\n",
       "    </tr>\n",
       "    <tr>\n",
       "      <th>3</th>\n",
       "      <td>000000b5aea2c9ea7cc155f6ebcef97f826</td>\n",
       "      <td>202011</td>\n",
       "      <td>-299.46</td>\n",
       "      <td>0</td>\n",
       "    </tr>\n",
       "    <tr>\n",
       "      <th>4</th>\n",
       "      <td>000000b5aea2c9ea7cc155f6ebcef97f826</td>\n",
       "      <td>202012</td>\n",
       "      <td>-290.49</td>\n",
       "      <td>0</td>\n",
       "    </tr>\n",
       "    <tr>\n",
       "      <th>5</th>\n",
       "      <td>000000b5aea2c9ea7cc155f6ebcef97f826</td>\n",
       "      <td>202101</td>\n",
       "      <td>-281.52</td>\n",
       "      <td>0</td>\n",
       "    </tr>\n",
       "    <tr>\n",
       "      <th>6</th>\n",
       "      <td>000000b5aea2c9ea7cc155f6ebcef97f826</td>\n",
       "      <td>202102</td>\n",
       "      <td>-273.93</td>\n",
       "      <td>0</td>\n",
       "    </tr>\n",
       "    <tr>\n",
       "      <th>7</th>\n",
       "      <td>000000b5aea2c9ea7cc155f6ebcef97f826</td>\n",
       "      <td>202103</td>\n",
       "      <td>-264.27</td>\n",
       "      <td>0</td>\n",
       "    </tr>\n",
       "    <tr>\n",
       "      <th>8</th>\n",
       "      <td>000000b5aea2c9ea7cc155f6ebcef97f826</td>\n",
       "      <td>202104</td>\n",
       "      <td>-256.68</td>\n",
       "      <td>0</td>\n",
       "    </tr>\n",
       "    <tr>\n",
       "      <th>9</th>\n",
       "      <td>000000b5aea2c9ea7cc155f6ebcef97f826</td>\n",
       "      <td>202105</td>\n",
       "      <td>-251.16</td>\n",
       "      <td>0</td>\n",
       "    </tr>\n",
       "    <tr>\n",
       "      <th>10</th>\n",
       "      <td>00000b8415f19846d12e852ebd0d52ec432</td>\n",
       "      <td>202007</td>\n",
       "      <td>861168.09</td>\n",
       "      <td>0</td>\n",
       "    </tr>\n",
       "    <tr>\n",
       "      <th>11</th>\n",
       "      <td>00000b8415f19846d12e852ebd0d52ec432</td>\n",
       "      <td>202008</td>\n",
       "      <td>364238.82</td>\n",
       "      <td>0</td>\n",
       "    </tr>\n",
       "    <tr>\n",
       "      <th>12</th>\n",
       "      <td>00000b8415f19846d12e852ebd0d52ec432</td>\n",
       "      <td>202009</td>\n",
       "      <td>1532807.39</td>\n",
       "      <td>1</td>\n",
       "    </tr>\n",
       "    <tr>\n",
       "      <th>13</th>\n",
       "      <td>00000b8415f19846d12e852ebd0d52ec432</td>\n",
       "      <td>202010</td>\n",
       "      <td>697635.54</td>\n",
       "      <td>0</td>\n",
       "    </tr>\n",
       "    <tr>\n",
       "      <th>14</th>\n",
       "      <td>00000b8415f19846d12e852ebd0d52ec432</td>\n",
       "      <td>202011</td>\n",
       "      <td>696543.27</td>\n",
       "      <td>0</td>\n",
       "    </tr>\n",
       "    <tr>\n",
       "      <th>15</th>\n",
       "      <td>00000b8415f19846d12e852ebd0d52ec432</td>\n",
       "      <td>202012</td>\n",
       "      <td>1622381.82</td>\n",
       "      <td>1</td>\n",
       "    </tr>\n",
       "    <tr>\n",
       "      <th>16</th>\n",
       "      <td>00000b8415f19846d12e852ebd0d52ec432</td>\n",
       "      <td>202101</td>\n",
       "      <td>1974157.62</td>\n",
       "      <td>1</td>\n",
       "    </tr>\n",
       "    <tr>\n",
       "      <th>17</th>\n",
       "      <td>00000b8415f19846d12e852ebd0d52ec432</td>\n",
       "      <td>202102</td>\n",
       "      <td>313096.47</td>\n",
       "      <td>0</td>\n",
       "    </tr>\n",
       "    <tr>\n",
       "      <th>18</th>\n",
       "      <td>00000b8415f19846d12e852ebd0d52ec432</td>\n",
       "      <td>202103</td>\n",
       "      <td>2118920.31</td>\n",
       "      <td>1</td>\n",
       "    </tr>\n",
       "    <tr>\n",
       "      <th>19</th>\n",
       "      <td>00000b8415f19846d12e852ebd0d52ec432</td>\n",
       "      <td>202104</td>\n",
       "      <td>1427974.32</td>\n",
       "      <td>0</td>\n",
       "    </tr>\n",
       "    <tr>\n",
       "      <th>20</th>\n",
       "      <td>00000b8415f19846d12e852ebd0d52ec432</td>\n",
       "      <td>202105</td>\n",
       "      <td>1060102.89</td>\n",
       "      <td>0</td>\n",
       "    </tr>\n",
       "    <tr>\n",
       "      <th>21</th>\n",
       "      <td>00000d109ca5a0c6b3e76295f0292c38189</td>\n",
       "      <td>202008</td>\n",
       "      <td>-27.60</td>\n",
       "      <td>0</td>\n",
       "    </tr>\n",
       "    <tr>\n",
       "      <th>22</th>\n",
       "      <td>00000d109ca5a0c6b3e76295f0292c38189</td>\n",
       "      <td>202009</td>\n",
       "      <td>-26.91</td>\n",
       "      <td>0</td>\n",
       "    </tr>\n",
       "    <tr>\n",
       "      <th>23</th>\n",
       "      <td>00000d109ca5a0c6b3e76295f0292c38189</td>\n",
       "      <td>202010</td>\n",
       "      <td>-26.22</td>\n",
       "      <td>0</td>\n",
       "    </tr>\n",
       "    <tr>\n",
       "      <th>24</th>\n",
       "      <td>00000d109ca5a0c6b3e76295f0292c38189</td>\n",
       "      <td>202011</td>\n",
       "      <td>-25.53</td>\n",
       "      <td>0</td>\n",
       "    </tr>\n",
       "    <tr>\n",
       "      <th>25</th>\n",
       "      <td>00000d109ca5a0c6b3e76295f0292c38189</td>\n",
       "      <td>202012</td>\n",
       "      <td>-24.15</td>\n",
       "      <td>0</td>\n",
       "    </tr>\n",
       "    <tr>\n",
       "      <th>26</th>\n",
       "      <td>00000d109ca5a0c6b3e76295f0292c38189</td>\n",
       "      <td>202101</td>\n",
       "      <td>-23.46</td>\n",
       "      <td>0</td>\n",
       "    </tr>\n",
       "    <tr>\n",
       "      <th>27</th>\n",
       "      <td>00000d109ca5a0c6b3e76295f0292c38189</td>\n",
       "      <td>202102</td>\n",
       "      <td>-22.77</td>\n",
       "      <td>0</td>\n",
       "    </tr>\n",
       "    <tr>\n",
       "      <th>28</th>\n",
       "      <td>00000d109ca5a0c6b3e76295f0292c38189</td>\n",
       "      <td>202103</td>\n",
       "      <td>-22.08</td>\n",
       "      <td>0</td>\n",
       "    </tr>\n",
       "    <tr>\n",
       "      <th>29</th>\n",
       "      <td>00000d109ca5a0c6b3e76295f0292c38189</td>\n",
       "      <td>202104</td>\n",
       "      <td>-21.39</td>\n",
       "      <td>0</td>\n",
       "    </tr>\n",
       "  </tbody>\n",
       "</table>\n",
       "</div>"
      ],
      "text/plain": [
       "                 dni_titular_movimiento  anio_mes_cupon  monto_ajustado  \\\n",
       "0   000000b5aea2c9ea7cc155f6ebcef97f826          202008         -325.68   \n",
       "1   000000b5aea2c9ea7cc155f6ebcef97f826          202009         -318.09   \n",
       "2   000000b5aea2c9ea7cc155f6ebcef97f826          202010         -307.74   \n",
       "3   000000b5aea2c9ea7cc155f6ebcef97f826          202011         -299.46   \n",
       "4   000000b5aea2c9ea7cc155f6ebcef97f826          202012         -290.49   \n",
       "5   000000b5aea2c9ea7cc155f6ebcef97f826          202101         -281.52   \n",
       "6   000000b5aea2c9ea7cc155f6ebcef97f826          202102         -273.93   \n",
       "7   000000b5aea2c9ea7cc155f6ebcef97f826          202103         -264.27   \n",
       "8   000000b5aea2c9ea7cc155f6ebcef97f826          202104         -256.68   \n",
       "9   000000b5aea2c9ea7cc155f6ebcef97f826          202105         -251.16   \n",
       "10  00000b8415f19846d12e852ebd0d52ec432          202007       861168.09   \n",
       "11  00000b8415f19846d12e852ebd0d52ec432          202008       364238.82   \n",
       "12  00000b8415f19846d12e852ebd0d52ec432          202009      1532807.39   \n",
       "13  00000b8415f19846d12e852ebd0d52ec432          202010       697635.54   \n",
       "14  00000b8415f19846d12e852ebd0d52ec432          202011       696543.27   \n",
       "15  00000b8415f19846d12e852ebd0d52ec432          202012      1622381.82   \n",
       "16  00000b8415f19846d12e852ebd0d52ec432          202101      1974157.62   \n",
       "17  00000b8415f19846d12e852ebd0d52ec432          202102       313096.47   \n",
       "18  00000b8415f19846d12e852ebd0d52ec432          202103      2118920.31   \n",
       "19  00000b8415f19846d12e852ebd0d52ec432          202104      1427974.32   \n",
       "20  00000b8415f19846d12e852ebd0d52ec432          202105      1060102.89   \n",
       "21  00000d109ca5a0c6b3e76295f0292c38189          202008          -27.60   \n",
       "22  00000d109ca5a0c6b3e76295f0292c38189          202009          -26.91   \n",
       "23  00000d109ca5a0c6b3e76295f0292c38189          202010          -26.22   \n",
       "24  00000d109ca5a0c6b3e76295f0292c38189          202011          -25.53   \n",
       "25  00000d109ca5a0c6b3e76295f0292c38189          202012          -24.15   \n",
       "26  00000d109ca5a0c6b3e76295f0292c38189          202101          -23.46   \n",
       "27  00000d109ca5a0c6b3e76295f0292c38189          202102          -22.77   \n",
       "28  00000d109ca5a0c6b3e76295f0292c38189          202103          -22.08   \n",
       "29  00000d109ca5a0c6b3e76295f0292c38189          202104          -21.39   \n",
       "\n",
       "    fg_aumentado  \n",
       "0              0  \n",
       "1              0  \n",
       "2              0  \n",
       "3              0  \n",
       "4              0  \n",
       "5              0  \n",
       "6              0  \n",
       "7              0  \n",
       "8              0  \n",
       "9              0  \n",
       "10             0  \n",
       "11             0  \n",
       "12             1  \n",
       "13             0  \n",
       "14             0  \n",
       "15             1  \n",
       "16             1  \n",
       "17             0  \n",
       "18             1  \n",
       "19             0  \n",
       "20             0  \n",
       "21             0  \n",
       "22             0  \n",
       "23             0  \n",
       "24             0  \n",
       "25             0  \n",
       "26             0  \n",
       "27             0  \n",
       "28             0  \n",
       "29             0  "
      ]
     },
     "execution_count": 10,
     "metadata": {},
     "output_type": "execute_result"
    }
   ],
   "source": [
    "df_dni_mes_mon.head(30)"
   ]
  },
  {
   "cell_type": "markdown",
   "id": "4ac62ec3-248f-4890-8e59-f9b414719b57",
   "metadata": {},
   "source": [
    "Borramos la columna monto, ya que no me interesa mostrarla cuando vaya a colocar el merge!"
   ]
  },
  {
   "cell_type": "code",
   "execution_count": 11,
   "id": "880aad22-65cb-4c8c-a4bb-5127654b950e",
   "metadata": {},
   "outputs": [],
   "source": [
    "df_dni_mes_mon = df_dni_mes_mon.drop(columns=['monto_ajustado'])"
   ]
  },
  {
   "cell_type": "code",
   "execution_count": 12,
   "id": "d6b42898-d0e8-4693-bc94-5ddd5dd6fd25",
   "metadata": {},
   "outputs": [
    {
     "data": {
      "text/html": [
       "<div>\n",
       "<style scoped>\n",
       "    .dataframe tbody tr th:only-of-type {\n",
       "        vertical-align: middle;\n",
       "    }\n",
       "\n",
       "    .dataframe tbody tr th {\n",
       "        vertical-align: top;\n",
       "    }\n",
       "\n",
       "    .dataframe thead th {\n",
       "        text-align: right;\n",
       "    }\n",
       "</style>\n",
       "<table border=\"1\" class=\"dataframe\">\n",
       "  <thead>\n",
       "    <tr style=\"text-align: right;\">\n",
       "      <th></th>\n",
       "      <th>dni_titular_movimiento_c</th>\n",
       "      <th>anio_mes_cupon_c</th>\n",
       "      <th>fg_aumentado</th>\n",
       "    </tr>\n",
       "  </thead>\n",
       "  <tbody>\n",
       "    <tr>\n",
       "      <th>0</th>\n",
       "      <td>000000b5aea2c9ea7cc155f6ebcef97f826</td>\n",
       "      <td>202008</td>\n",
       "      <td>0</td>\n",
       "    </tr>\n",
       "    <tr>\n",
       "      <th>1</th>\n",
       "      <td>000000b5aea2c9ea7cc155f6ebcef97f826</td>\n",
       "      <td>202009</td>\n",
       "      <td>0</td>\n",
       "    </tr>\n",
       "    <tr>\n",
       "      <th>2</th>\n",
       "      <td>000000b5aea2c9ea7cc155f6ebcef97f826</td>\n",
       "      <td>202010</td>\n",
       "      <td>0</td>\n",
       "    </tr>\n",
       "    <tr>\n",
       "      <th>3</th>\n",
       "      <td>000000b5aea2c9ea7cc155f6ebcef97f826</td>\n",
       "      <td>202011</td>\n",
       "      <td>0</td>\n",
       "    </tr>\n",
       "    <tr>\n",
       "      <th>4</th>\n",
       "      <td>000000b5aea2c9ea7cc155f6ebcef97f826</td>\n",
       "      <td>202012</td>\n",
       "      <td>0</td>\n",
       "    </tr>\n",
       "    <tr>\n",
       "      <th>...</th>\n",
       "      <td>...</td>\n",
       "      <td>...</td>\n",
       "      <td>...</td>\n",
       "    </tr>\n",
       "    <tr>\n",
       "      <th>7509</th>\n",
       "      <td>000f0b73ebfa002a79a0642b82e87919904</td>\n",
       "      <td>202101</td>\n",
       "      <td>1</td>\n",
       "    </tr>\n",
       "    <tr>\n",
       "      <th>7510</th>\n",
       "      <td>000f0b73ebfa002a79a0642b82e87919904</td>\n",
       "      <td>202102</td>\n",
       "      <td>0</td>\n",
       "    </tr>\n",
       "    <tr>\n",
       "      <th>7511</th>\n",
       "      <td>000f0b73ebfa002a79a0642b82e87919904</td>\n",
       "      <td>202103</td>\n",
       "      <td>0</td>\n",
       "    </tr>\n",
       "    <tr>\n",
       "      <th>7512</th>\n",
       "      <td>000f0b73ebfa002a79a0642b82e87919904</td>\n",
       "      <td>202104</td>\n",
       "      <td>1</td>\n",
       "    </tr>\n",
       "    <tr>\n",
       "      <th>7513</th>\n",
       "      <td>000f0b73ebfa002a79a0642b82e87919904</td>\n",
       "      <td>202105</td>\n",
       "      <td>0</td>\n",
       "    </tr>\n",
       "  </tbody>\n",
       "</table>\n",
       "<p>7514 rows × 3 columns</p>\n",
       "</div>"
      ],
      "text/plain": [
       "                 dni_titular_movimiento_c  anio_mes_cupon_c  fg_aumentado\n",
       "0     000000b5aea2c9ea7cc155f6ebcef97f826            202008             0\n",
       "1     000000b5aea2c9ea7cc155f6ebcef97f826            202009             0\n",
       "2     000000b5aea2c9ea7cc155f6ebcef97f826            202010             0\n",
       "3     000000b5aea2c9ea7cc155f6ebcef97f826            202011             0\n",
       "4     000000b5aea2c9ea7cc155f6ebcef97f826            202012             0\n",
       "...                                   ...               ...           ...\n",
       "7509  000f0b73ebfa002a79a0642b82e87919904            202101             1\n",
       "7510  000f0b73ebfa002a79a0642b82e87919904            202102             0\n",
       "7511  000f0b73ebfa002a79a0642b82e87919904            202103             0\n",
       "7512  000f0b73ebfa002a79a0642b82e87919904            202104             1\n",
       "7513  000f0b73ebfa002a79a0642b82e87919904            202105             0\n",
       "\n",
       "[7514 rows x 3 columns]"
      ]
     },
     "execution_count": 12,
     "metadata": {},
     "output_type": "execute_result"
    }
   ],
   "source": [
    "df_dni_mes_mon = df_dni_mes_mon.rename(columns={'dni_titular_movimiento': 'dni_titular_movimiento_c', 'anio_mes_cupon': 'anio_mes_cupon_c'})\n",
    "df_dni_mes_mon"
   ]
  },
  {
   "cell_type": "markdown",
   "id": "2d7b2627-b138-4dad-b235-d9296f8bb797",
   "metadata": {},
   "source": [
    "Mersheamo!"
   ]
  },
  {
   "cell_type": "code",
   "execution_count": 13,
   "id": "e83046a7-e8f3-46bf-915b-55d7f40cd431",
   "metadata": {},
   "outputs": [],
   "source": [
    "df_obj = df_obj.merge( df_dni_mes_mon, \n",
    "             left_on=['dni_titular_movimiento', 'anio_mes_cupon'], \n",
    "             right_on=['dni_titular_movimiento_c', 'anio_mes_cupon_c']) \\\n",
    "        .drop(columns= ['dni_titular_movimiento_c','anio_mes_cupon_c'])"
   ]
  },
  {
   "cell_type": "code",
   "execution_count": 14,
   "id": "fffd2a37-aba2-465b-9493-6c86531ed384",
   "metadata": {},
   "outputs": [
    {
     "data": {
      "text/plain": [
       "(23208, 33)"
      ]
     },
     "execution_count": 14,
     "metadata": {},
     "output_type": "execute_result"
    }
   ],
   "source": [
    "df_obj.shape"
   ]
  },
  {
   "cell_type": "markdown",
   "id": "3d22fb16-be8b-4ce1-9699-915a345922c8",
   "metadata": {},
   "source": [
    "# Arreglar los comentarios de JUANI jajajaja ↑ ↑ ↑"
   ]
  },
  {
   "cell_type": "code",
   "execution_count": null,
   "id": "c64ed815-e317-4a3b-bc66-487d20ba71e1",
   "metadata": {},
   "outputs": [],
   "source": []
  },
  {
   "cell_type": "markdown",
   "id": "72d0b3e0-95c0-4cea-876d-0330088c8257",
   "metadata": {},
   "source": [
    "### 1.3 Correlación entre las variables"
   ]
  },
  {
   "cell_type": "code",
   "execution_count": 46,
   "id": "71ced69a-8fe6-4552-b6e5-57d8029849f6",
   "metadata": {},
   "outputs": [
    {
     "data": {
      "text/html": [
       "<style  type=\"text/css\" >\n",
       "#T_dec26_row0_col0,#T_dec26_row0_col1{\n",
       "            background-color:  #023858;\n",
       "            color:  #f1f1f1;\n",
       "        }#T_dec26_row1_col0{\n",
       "            background-color:  #023a5b;\n",
       "            color:  #f1f1f1;\n",
       "        }#T_dec26_row1_col1{\n",
       "            background-color:  #023b5d;\n",
       "            color:  #f1f1f1;\n",
       "        }#T_dec26_row2_col0,#T_dec26_row29_col1,#T_dec26_row30_col1,#T_dec26_row31_col1{\n",
       "            background-color:  #fff7fb;\n",
       "            color:  #000000;\n",
       "        }#T_dec26_row2_col1,#T_dec26_row11_col0{\n",
       "            background-color:  #bdc8e1;\n",
       "            color:  #000000;\n",
       "        }#T_dec26_row3_col0{\n",
       "            background-color:  #fef6fb;\n",
       "            color:  #000000;\n",
       "        }#T_dec26_row3_col1{\n",
       "            background-color:  #c1cae2;\n",
       "            color:  #000000;\n",
       "        }#T_dec26_row4_col0{\n",
       "            background-color:  #86b0d3;\n",
       "            color:  #000000;\n",
       "        }#T_dec26_row4_col1,#T_dec26_row13_col0{\n",
       "            background-color:  #c4cbe3;\n",
       "            color:  #000000;\n",
       "        }#T_dec26_row5_col0{\n",
       "            background-color:  #8bb2d4;\n",
       "            color:  #000000;\n",
       "        }#T_dec26_row5_col1{\n",
       "            background-color:  #c9cee4;\n",
       "            color:  #000000;\n",
       "        }#T_dec26_row6_col0{\n",
       "            background-color:  #a2bcda;\n",
       "            color:  #000000;\n",
       "        }#T_dec26_row6_col1{\n",
       "            background-color:  #dcdaeb;\n",
       "            color:  #000000;\n",
       "        }#T_dec26_row7_col0,#T_dec26_row8_col0{\n",
       "            background-color:  #acc0dd;\n",
       "            color:  #000000;\n",
       "        }#T_dec26_row7_col1{\n",
       "            background-color:  #e4e1ef;\n",
       "            color:  #000000;\n",
       "        }#T_dec26_row8_col1{\n",
       "            background-color:  #e5e1ef;\n",
       "            color:  #000000;\n",
       "        }#T_dec26_row9_col0{\n",
       "            background-color:  #e9e5f1;\n",
       "            color:  #000000;\n",
       "        }#T_dec26_row9_col1{\n",
       "            background-color:  #ede7f2;\n",
       "            color:  #000000;\n",
       "        }#T_dec26_row10_col0{\n",
       "            background-color:  #bcc7e1;\n",
       "            color:  #000000;\n",
       "        }#T_dec26_row10_col1{\n",
       "            background-color:  #f1ebf4;\n",
       "            color:  #000000;\n",
       "        }#T_dec26_row11_col1{\n",
       "            background-color:  #f1ebf5;\n",
       "            color:  #000000;\n",
       "        }#T_dec26_row12_col0{\n",
       "            background-color:  #c0c9e2;\n",
       "            color:  #000000;\n",
       "        }#T_dec26_row12_col1{\n",
       "            background-color:  #f2ecf5;\n",
       "            color:  #000000;\n",
       "        }#T_dec26_row13_col1{\n",
       "            background-color:  #f5eef6;\n",
       "            color:  #000000;\n",
       "        }#T_dec26_row14_col0{\n",
       "            background-color:  #c6cce3;\n",
       "            color:  #000000;\n",
       "        }#T_dec26_row14_col1,#T_dec26_row15_col1{\n",
       "            background-color:  #f7f0f7;\n",
       "            color:  #000000;\n",
       "        }#T_dec26_row15_col0{\n",
       "            background-color:  #c8cde4;\n",
       "            color:  #000000;\n",
       "        }#T_dec26_row16_col0,#T_dec26_row17_col0{\n",
       "            background-color:  #cacee5;\n",
       "            color:  #000000;\n",
       "        }#T_dec26_row16_col1{\n",
       "            background-color:  #f8f1f8;\n",
       "            color:  #000000;\n",
       "        }#T_dec26_row17_col1,#T_dec26_row18_col1{\n",
       "            background-color:  #f9f2f8;\n",
       "            color:  #000000;\n",
       "        }#T_dec26_row18_col0{\n",
       "            background-color:  #cccfe5;\n",
       "            color:  #000000;\n",
       "        }#T_dec26_row19_col0,#T_dec26_row21_col0{\n",
       "            background-color:  #cdd0e5;\n",
       "            color:  #000000;\n",
       "        }#T_dec26_row19_col1,#T_dec26_row20_col1{\n",
       "            background-color:  #faf3f9;\n",
       "            color:  #000000;\n",
       "        }#T_dec26_row20_col0{\n",
       "            background-color:  #d9d8ea;\n",
       "            color:  #000000;\n",
       "        }#T_dec26_row21_col1{\n",
       "            background-color:  #fbf3f9;\n",
       "            color:  #000000;\n",
       "        }#T_dec26_row22_col0{\n",
       "            background-color:  #d7d6e9;\n",
       "            color:  #000000;\n",
       "        }#T_dec26_row22_col1,#T_dec26_row23_col1{\n",
       "            background-color:  #fdf5fa;\n",
       "            color:  #000000;\n",
       "        }#T_dec26_row23_col0{\n",
       "            background-color:  #d1d2e6;\n",
       "            color:  #000000;\n",
       "        }#T_dec26_row24_col0,#T_dec26_row25_col0{\n",
       "            background-color:  #d6d6e9;\n",
       "            color:  #000000;\n",
       "        }#T_dec26_row24_col1,#T_dec26_row25_col1,#T_dec26_row26_col1,#T_dec26_row27_col1,#T_dec26_row28_col1{\n",
       "            background-color:  #fef6fa;\n",
       "            color:  #000000;\n",
       "        }#T_dec26_row26_col0,#T_dec26_row27_col0{\n",
       "            background-color:  #d2d3e7;\n",
       "            color:  #000000;\n",
       "        }#T_dec26_row28_col0{\n",
       "            background-color:  #d5d5e8;\n",
       "            color:  #000000;\n",
       "        }#T_dec26_row29_col0,#T_dec26_row30_col0{\n",
       "            background-color:  #d3d4e7;\n",
       "            color:  #000000;\n",
       "        }#T_dec26_row31_col0{\n",
       "            background-color:  #d4d4e8;\n",
       "            color:  #000000;\n",
       "        }</style><table id=\"T_dec26_\" ><thead>    <tr>        <th class=\"blank level0\" ></th>        <th class=\"col_heading level0 col0\" >monto_ajustado</th>        <th class=\"col_heading level0 col1\" >abs_corr</th>    </tr></thead><tbody>\n",
       "                <tr>\n",
       "                        <th id=\"T_dec26_level0_row0\" class=\"row_heading level0 row0\" >monto_ajustado</th>\n",
       "                        <td id=\"T_dec26_row0_col0\" class=\"data row0 col0\" >1.000000</td>\n",
       "                        <td id=\"T_dec26_row0_col1\" class=\"data row0 col1\" >1.000000</td>\n",
       "            </tr>\n",
       "            <tr>\n",
       "                        <th id=\"T_dec26_level0_row1\" class=\"row_heading level0 row1\" >pca2</th>\n",
       "                        <td id=\"T_dec26_row1_col0\" class=\"data row1 col0\" >0.985298</td>\n",
       "                        <td id=\"T_dec26_row1_col1\" class=\"data row1 col1\" >0.985298</td>\n",
       "            </tr>\n",
       "            <tr>\n",
       "                        <th id=\"T_dec26_level0_row2\" class=\"row_heading level0 row2\" >tipo_producto_tarjeta_movimiento=0</th>\n",
       "                        <td id=\"T_dec26_row2_col0\" class=\"data row2 col0\" >-0.305906</td>\n",
       "                        <td id=\"T_dec26_row2_col1\" class=\"data row2 col1\" >0.305906</td>\n",
       "            </tr>\n",
       "            <tr>\n",
       "                        <th id=\"T_dec26_level0_row3\" class=\"row_heading level0 row3\" >producto_naranja_movimiento=PL</th>\n",
       "                        <td id=\"T_dec26_row3_col0\" class=\"data row3 col0\" >-0.296911</td>\n",
       "                        <td id=\"T_dec26_row3_col1\" class=\"data row3 col1\" >0.296911</td>\n",
       "            </tr>\n",
       "            <tr>\n",
       "                        <th id=\"T_dec26_level0_row4\" class=\"row_heading level0 row4\" >tipo_producto_tarjeta_movimiento=3</th>\n",
       "                        <td id=\"T_dec26_row4_col0\" class=\"data row4 col0\" >0.287208</td>\n",
       "                        <td id=\"T_dec26_row4_col1\" class=\"data row4 col1\" >0.287208</td>\n",
       "            </tr>\n",
       "            <tr>\n",
       "                        <th id=\"T_dec26_level0_row5\" class=\"row_heading level0 row5\" >producto_naranja_movimiento=PC</th>\n",
       "                        <td id=\"T_dec26_row5_col0\" class=\"data row5 col0\" >0.270787</td>\n",
       "                        <td id=\"T_dec26_row5_col1\" class=\"data row5 col1\" >0.270787</td>\n",
       "            </tr>\n",
       "            <tr>\n",
       "                        <th id=\"T_dec26_level0_row6\" class=\"row_heading level0 row6\" >producto_naranja_movimiento=ZE</th>\n",
       "                        <td id=\"T_dec26_row6_col0\" class=\"data row6 col0\" >0.197086</td>\n",
       "                        <td id=\"T_dec26_row6_col1\" class=\"data row6 col1\" >0.197086</td>\n",
       "            </tr>\n",
       "            <tr>\n",
       "                        <th id=\"T_dec26_level0_row7\" class=\"row_heading level0 row7\" >pca1</th>\n",
       "                        <td id=\"T_dec26_row7_col0\" class=\"data row7 col0\" >0.162149</td>\n",
       "                        <td id=\"T_dec26_row7_col1\" class=\"data row7 col1\" >0.162149</td>\n",
       "            </tr>\n",
       "            <tr>\n",
       "                        <th id=\"T_dec26_level0_row8\" class=\"row_heading level0 row8\" >fg_aumentado</th>\n",
       "                        <td id=\"T_dec26_row8_col0\" class=\"data row8 col0\" >0.159426</td>\n",
       "                        <td id=\"T_dec26_row8_col1\" class=\"data row8 col1\" >0.159426</td>\n",
       "            </tr>\n",
       "            <tr>\n",
       "                        <th id=\"T_dec26_level0_row9\" class=\"row_heading level0 row9\" >comercio_cat=0</th>\n",
       "                        <td id=\"T_dec26_row9_col0\" class=\"data row9 col0\" >-0.122827</td>\n",
       "                        <td id=\"T_dec26_row9_col1\" class=\"data row9 col1\" >0.122827</td>\n",
       "            </tr>\n",
       "            <tr>\n",
       "                        <th id=\"T_dec26_level0_row10\" class=\"row_heading level0 row10\" >producto_naranja_movimiento=PN</th>\n",
       "                        <td id=\"T_dec26_row10_col0\" class=\"data row10 col0\" >0.097938</td>\n",
       "                        <td id=\"T_dec26_row10_col1\" class=\"data row10 col1\" >0.097938</td>\n",
       "            </tr>\n",
       "            <tr>\n",
       "                        <th id=\"T_dec26_level0_row11\" class=\"row_heading level0 row11\" >producto_naranja_movimiento=PP</th>\n",
       "                        <td id=\"T_dec26_row11_col0\" class=\"data row11 col0\" >0.093450</td>\n",
       "                        <td id=\"T_dec26_row11_col1\" class=\"data row11 col1\" >0.093450</td>\n",
       "            </tr>\n",
       "            <tr>\n",
       "                        <th id=\"T_dec26_level0_row12\" class=\"row_heading level0 row12\" >comercio_cat=3</th>\n",
       "                        <td id=\"T_dec26_row12_col0\" class=\"data row12 col0\" >0.084993</td>\n",
       "                        <td id=\"T_dec26_row12_col1\" class=\"data row12 col1\" >0.084993</td>\n",
       "            </tr>\n",
       "            <tr>\n",
       "                        <th id=\"T_dec26_level0_row13\" class=\"row_heading level0 row13\" >comercio_cat=6</th>\n",
       "                        <td id=\"T_dec26_row13_col0\" class=\"data row13 col0\" >0.068901</td>\n",
       "                        <td id=\"T_dec26_row13_col1\" class=\"data row13 col1\" >0.068901</td>\n",
       "            </tr>\n",
       "            <tr>\n",
       "                        <th id=\"T_dec26_level0_row14\" class=\"row_heading level0 row14\" >antig_cliente</th>\n",
       "                        <td id=\"T_dec26_row14_col0\" class=\"data row14 col0\" >0.059185</td>\n",
       "                        <td id=\"T_dec26_row14_col1\" class=\"data row14 col1\" >0.059185</td>\n",
       "            </tr>\n",
       "            <tr>\n",
       "                        <th id=\"T_dec26_level0_row15\" class=\"row_heading level0 row15\" >comercio_cat=9</th>\n",
       "                        <td id=\"T_dec26_row15_col0\" class=\"data row15 col0\" >0.051804</td>\n",
       "                        <td id=\"T_dec26_row15_col1\" class=\"data row15 col1\" >0.051804</td>\n",
       "            </tr>\n",
       "            <tr>\n",
       "                        <th id=\"T_dec26_level0_row16\" class=\"row_heading level0 row16\" >producto_naranja_movimiento=VI</th>\n",
       "                        <td id=\"T_dec26_row16_col0\" class=\"data row16 col0\" >0.045541</td>\n",
       "                        <td id=\"T_dec26_row16_col1\" class=\"data row16 col1\" >0.045541</td>\n",
       "            </tr>\n",
       "            <tr>\n",
       "                        <th id=\"T_dec26_level0_row17\" class=\"row_heading level0 row17\" >comercio_cat=7</th>\n",
       "                        <td id=\"T_dec26_row17_col0\" class=\"data row17 col0\" >0.042691</td>\n",
       "                        <td id=\"T_dec26_row17_col1\" class=\"data row17 col1\" >0.042691</td>\n",
       "            </tr>\n",
       "            <tr>\n",
       "                        <th id=\"T_dec26_level0_row18\" class=\"row_heading level0 row18\" >comercio_cat=5</th>\n",
       "                        <td id=\"T_dec26_row18_col0\" class=\"data row18 col0\" >0.040539</td>\n",
       "                        <td id=\"T_dec26_row18_col1\" class=\"data row18 col1\" >0.040539</td>\n",
       "            </tr>\n",
       "            <tr>\n",
       "                        <th id=\"T_dec26_level0_row19\" class=\"row_heading level0 row19\" >comercio_cat=1</th>\n",
       "                        <td id=\"T_dec26_row19_col0\" class=\"data row19 col0\" >0.034838</td>\n",
       "                        <td id=\"T_dec26_row19_col1\" class=\"data row19 col1\" >0.034838</td>\n",
       "            </tr>\n",
       "            <tr>\n",
       "                        <th id=\"T_dec26_level0_row20\" class=\"row_heading level0 row20\" >comercio_cat=2</th>\n",
       "                        <td id=\"T_dec26_row20_col0\" class=\"data row20 col0\" >-0.032143</td>\n",
       "                        <td id=\"T_dec26_row20_col1\" class=\"data row20 col1\" >0.032143</td>\n",
       "            </tr>\n",
       "            <tr>\n",
       "                        <th id=\"T_dec26_level0_row21\" class=\"row_heading level0 row21\" >comercio_cat=8</th>\n",
       "                        <td id=\"T_dec26_row21_col0\" class=\"data row21 col0\" >0.031197</td>\n",
       "                        <td id=\"T_dec26_row21_col1\" class=\"data row21 col1\" >0.031197</td>\n",
       "            </tr>\n",
       "            <tr>\n",
       "                        <th id=\"T_dec26_level0_row22\" class=\"row_heading level0 row22\" >tipo_producto_tarjeta_movimiento=32</th>\n",
       "                        <td id=\"T_dec26_row22_col0\" class=\"data row22 col0\" >-0.019477</td>\n",
       "                        <td id=\"T_dec26_row22_col1\" class=\"data row22 col1\" >0.019477</td>\n",
       "            </tr>\n",
       "            <tr>\n",
       "                        <th id=\"T_dec26_level0_row23\" class=\"row_heading level0 row23\" >comercio_cat=4</th>\n",
       "                        <td id=\"T_dec26_row23_col0\" class=\"data row23 col0\" >0.017667</td>\n",
       "                        <td id=\"T_dec26_row23_col1\" class=\"data row23 col1\" >0.017667</td>\n",
       "            </tr>\n",
       "            <tr>\n",
       "                        <th id=\"T_dec26_level0_row24\" class=\"row_heading level0 row24\" >producto_naranja_movimiento=MC</th>\n",
       "                        <td id=\"T_dec26_row24_col0\" class=\"data row24 col0\" >-0.012380</td>\n",
       "                        <td id=\"T_dec26_row24_col1\" class=\"data row24 col1\" >0.012380</td>\n",
       "            </tr>\n",
       "            <tr>\n",
       "                        <th id=\"T_dec26_level0_row25\" class=\"row_heading level0 row25\" >producto_naranja_movimiento=TA</th>\n",
       "                        <td id=\"T_dec26_row25_col0\" class=\"data row25 col0\" >-0.012307</td>\n",
       "                        <td id=\"T_dec26_row25_col1\" class=\"data row25 col1\" >0.012307</td>\n",
       "            </tr>\n",
       "            <tr>\n",
       "                        <th id=\"T_dec26_level0_row26\" class=\"row_heading level0 row26\" >anio_mes_cupon</th>\n",
       "                        <td id=\"T_dec26_row26_col0\" class=\"data row26 col0\" >0.009243</td>\n",
       "                        <td id=\"T_dec26_row26_col1\" class=\"data row26 col1\" >0.009243</td>\n",
       "            </tr>\n",
       "            <tr>\n",
       "                        <th id=\"T_dec26_level0_row27\" class=\"row_heading level0 row27\" >producto_naranja_movimiento=AX</th>\n",
       "                        <td id=\"T_dec26_row27_col0\" class=\"data row27 col0\" >0.008979</td>\n",
       "                        <td id=\"T_dec26_row27_col1\" class=\"data row27 col1\" >0.008979</td>\n",
       "            </tr>\n",
       "            <tr>\n",
       "                        <th id=\"T_dec26_level0_row28\" class=\"row_heading level0 row28\" >tipo_producto_tarjeta_movimiento=4</th>\n",
       "                        <td id=\"T_dec26_row28_col0\" class=\"data row28 col0\" >-0.008706</td>\n",
       "                        <td id=\"T_dec26_row28_col1\" class=\"data row28 col1\" >0.008706</td>\n",
       "            </tr>\n",
       "            <tr>\n",
       "                        <th id=\"T_dec26_level0_row29\" class=\"row_heading level0 row29\" >tipo_producto_tarjeta_movimiento=22</th>\n",
       "                        <td id=\"T_dec26_row29_col0\" class=\"data row29 col0\" >0.001594</td>\n",
       "                        <td id=\"T_dec26_row29_col1\" class=\"data row29 col1\" >0.001594</td>\n",
       "            </tr>\n",
       "            <tr>\n",
       "                        <th id=\"T_dec26_level0_row30\" class=\"row_heading level0 row30\" >tipo_producto_tarjeta_movimiento=42</th>\n",
       "                        <td id=\"T_dec26_row30_col0\" class=\"data row30 col0\" >0.000995</td>\n",
       "                        <td id=\"T_dec26_row30_col1\" class=\"data row30 col1\" >0.000995</td>\n",
       "            </tr>\n",
       "            <tr>\n",
       "                        <th id=\"T_dec26_level0_row31\" class=\"row_heading level0 row31\" >producto_naranja_movimiento=EX</th>\n",
       "                        <td id=\"T_dec26_row31_col0\" class=\"data row31 col0\" >-0.000724</td>\n",
       "                        <td id=\"T_dec26_row31_col1\" class=\"data row31 col1\" >0.000724</td>\n",
       "            </tr>\n",
       "    </tbody></table>"
      ],
      "text/plain": [
       "<pandas.io.formats.style.Styler at 0x1bd4b6eb1c0>"
      ]
     },
     "execution_count": 46,
     "metadata": {},
     "output_type": "execute_result"
    }
   ],
   "source": [
    "corr = df_obj.corr()\n",
    "corr=corr[['monto_ajustado']]\n",
    "corr.loc[:,'abs_corr']=np.abs(corr['monto_ajustado'])\n",
    "corr.sort_values(by='abs_corr',ascending = False).style.background_gradient()"
   ]
  },
  {
   "cell_type": "code",
   "execution_count": null,
   "id": "e442b1de-0b8f-4ad5-b057-487946968ee1",
   "metadata": {},
   "outputs": [],
   "source": [
    "Estaria bueno hacer un scaterplot de todos contra todos"
   ]
  },
  {
   "cell_type": "markdown",
   "id": "c3230e3c-843e-4dab-a3eb-5e1aba9cd8c2",
   "metadata": {},
   "source": [
    "### 1.4 Normalización"
   ]
  },
  {
   "cell_type": "markdown",
   "id": "2bb34b0a-a2b6-47fd-aff5-d035a875be7d",
   "metadata": {},
   "source": [
    "2. División\n",
    "\n",
    "La primer tarea consiste en dividir el conjunto de datos, en conjuntos de entrenamiento (training), validación (validation).\n",
    "evaluación (testing) \n",
    "\n",
    "<img \n",
    "     src=\"https://i.stack.imgur.com/pXAfX.png\" \n",
    "     alt=\"Drawing\" \n",
    "     style=\"width:40%;\"\n",
    "/>\n",
    "\n",
    "* Para el conjunto de evaluacion tomar el ultimo mes del dataset.\n",
    "* Para entrenamiento y validación utilizar aproximadamente 70-80% de los datos para entrenamiento y 30-20% para validación.\n",
    "* Es conveniente mezclar los datos aleatoriamente a la hora de realizar la división de los datos? \n",
    " > `shuffle=True`?\n",
    "* Pensar si hacer de esta forma la división puede afectar la distribución espacial y temporal de los datos. Cuáles pueden ser las consecuencias?"
   ]
  },
  {
   "cell_type": "markdown",
   "id": "16fbe36f-9286-4081-a51f-3e9128523cac",
   "metadata": {},
   "source": [
    "## 2. División del conjunto de datos"
   ]
  },
  {
   "cell_type": "code",
   "execution_count": 15,
   "id": "bf0c9141-e8aa-4dc2-ab02-926e76657770",
   "metadata": {},
   "outputs": [],
   "source": [
    "y_reg = np.array(df_obj.loc[:, 'monto_ajustado'])"
   ]
  },
  {
   "cell_type": "code",
   "execution_count": 16,
   "id": "f7c5ab48-adf1-499f-b7e9-dc40a2ed097c",
   "metadata": {},
   "outputs": [],
   "source": [
    "y_cla = np.array(df_obj.loc[:, 'fg_aumentado'])"
   ]
  },
  {
   "cell_type": "code",
   "execution_count": 17,
   "id": "628feaf9-822c-40b2-893f-c1d0a68b3a09",
   "metadata": {},
   "outputs": [],
   "source": [
    "X = df_obj.drop(['monto_ajustado', 'fg_aumentado'], axis=1)"
   ]
  },
  {
   "cell_type": "code",
   "execution_count": 18,
   "id": "5aa7e8ba-4a81-49c5-9b5d-d60a0666d37a",
   "metadata": {},
   "outputs": [],
   "source": [
    "# El conjunto de test se toma usando los datos de los ultimos 2 meses. \n",
    "X_test = X[X['anio_mes_cupon'] >= X['anio_mes_cupon'].max() - 1]\n",
    "X_train = X[X['anio_mes_cupon'] < X['anio_mes_cupon'].max() - 1]\n",
    "\n",
    "y_reg_test = df_obj[df_obj['anio_mes_cupon'] >= df_obj['anio_mes_cupon'].max() - 1]['monto_ajustado']\n",
    "y_reg_train = df_obj[df_obj['anio_mes_cupon'] < df_obj['anio_mes_cupon'].max() - 1]['monto_ajustado']\n",
    "\n",
    "y_cla_test = df_obj[df_obj['anio_mes_cupon'] >= df_obj['anio_mes_cupon'].max() - 1]['fg_aumentado']\n",
    "y_cla_train = df_obj[df_obj['anio_mes_cupon'] < df_obj['anio_mes_cupon'].max() - 1]['fg_aumentado']\n",
    "\n",
    "X_train, X_val, y_reg_train, y_reg_val = train_test_split(X_train, y_reg_train, test_size=0.3, random_state=0, shuffle=False)"
   ]
  },
  {
   "cell_type": "code",
   "execution_count": 19,
   "id": "f7f8f18a-f006-47a3-8219-270822aed4e0",
   "metadata": {},
   "outputs": [
    {
     "name": "stdout",
     "output_type": "stream",
     "text": [
      "Para entrenar modelos de regresión usaremos: ((15958, 31), (15958,))\n",
      "Para validar modelos de regresión usaremos: ((6840, 31), (6840,))\n",
      "Para testear modelos de regresión usaremos: ((410, 31), (410,))\n"
     ]
    }
   ],
   "source": [
    "print(\"Para entrenar modelos de regresión usaremos:\",(X_train.shape, y_reg_train.shape))\n",
    "print(\"Para validar modelos de regresión usaremos:\",(X_val.shape, y_reg_val.shape))\n",
    "print(\"Para testear modelos de regresión usaremos:\",(X_test.shape, y_reg_test.shape))"
   ]
  },
  {
   "cell_type": "code",
   "execution_count": 20,
   "id": "0291151a-2084-47c3-add3-da50d214f3d7",
   "metadata": {},
   "outputs": [
    {
     "name": "stdout",
     "output_type": "stream",
     "text": [
      "Para entrenar modelos de clasificación usaremos: ((15958, 31), (22798,))\n",
      "Para testear modelos de regresión usaremos: ((410, 31), (410,))\n"
     ]
    }
   ],
   "source": [
    "#ESTO QUEDO MAL NO SE PORQUE\n",
    "print(\"Para entrenar modelos de clasificación usaremos:\",(X_train.shape, y_cla_train.shape))\n",
    "#print(\"Para validar modelos de regresión usaremos\",(X_val.shape, y_cla_val.shape))\n",
    "print(\"Para testear modelos de regresión usaremos:\",(X_test.shape, y_cla_test.shape))"
   ]
  },
  {
   "cell_type": "markdown",
   "id": "8c0d4d19-0ada-4c78-8d58-607d1a863bf7",
   "metadata": {},
   "source": [
    "3. Regresión\n",
    "\n",
    "* Se puede explicar el monto de los movimientos en base a la antiguedad del cliente?\n",
    "  - Usar un modelo polinomial.\n",
    "  - Cuál será la función de costo utilizada?\n",
    "  - Grafique las curvas de error en términos del grado del polinomio. \n",
    "  - Seleccione el modelo que mejor funcione, y grafique el modelo conjuntamente con los puntos.\n",
    "\n",
    "* Regresión con más de una variable\n",
    "  - Explicar, Por qué se eligieron dichas variables?\n",
    "  - Grafique las curvas de error en términos del grado del polinomio. \n",
    "  - Se obtuvieron mejores resultados? Por qué?\n",
    "* Evaluar el modelo\n",
    "  - Una vez elegido el mejor modelo. validar con el cojunto evaluación\n",
    "  \n",
    " \n",
    "> Agregar vector de Bias, cuando lo crean pertinente. Cuándo hace falta y cuándo no? Por qué?"
   ]
  },
  {
   "cell_type": "markdown",
   "id": "9cb41ccb-12df-413d-a308-a6e38d5a4a2b",
   "metadata": {},
   "source": [
    "## 3. Regresión "
   ]
  },
  {
   "cell_type": "markdown",
   "id": "15210381-3ad0-4f9e-b807-6e13e79d04ab",
   "metadata": {},
   "source": [
    "### 3.1 Regresión polinominal con la variable antigüedad"
   ]
  },
  {
   "cell_type": "markdown",
   "id": "00ad7d84-a094-4ede-83cb-a3b13b081f30",
   "metadata": {},
   "source": [
    "#### Sin vector de Bias"
   ]
  },
  {
   "cell_type": "markdown",
   "id": "41b8e212-842b-4f4c-8620-ca9b8e155390",
   "metadata": {},
   "source": [
    "Primero visualizamos que tipo de relación puede existir entre la variable monto_ajustado y antigüedad."
   ]
  },
  {
   "cell_type": "code",
   "execution_count": 21,
   "id": "b5fb1575-26f4-4e3a-af8c-2e011fb788e0",
   "metadata": {},
   "outputs": [
    {
     "data": {
      "text/plain": [
       "<AxesSubplot:xlabel='antig_cliente', ylabel='monto_ajustado'>"
      ]
     },
     "execution_count": 21,
     "metadata": {},
     "output_type": "execute_result"
    },
    {
     "data": {
      "image/png": "[encoded data removed]",
      "text/plain": [
       "<Figure size 720x432 with 1 Axes>"
      ]
     },
     "metadata": {
      "needs_background": "light"
     },
     "output_type": "display_data"
    }
   ],
   "source": [
    "plt.figure(figsize=(10,6))\n",
    "sns.scatterplot(data=df_obj, x='antig_cliente', y='monto_ajustado', palette=\"pastel\")"
   ]
  },
  {
   "cell_type": "code",
   "execution_count": 22,
   "id": "59197c18-6129-4672-904e-e49a797fd159",
   "metadata": {},
   "outputs": [
    {
     "data": {
      "text/plain": [
       "((15958, 1), (6840, 1), (410, 1))"
      ]
     },
     "execution_count": 22,
     "metadata": {},
     "output_type": "execute_result"
    }
   ],
   "source": [
    "# Selección del feature antigüedad\n",
    "X_train_antig = (X_train.loc[:, 'antig_cliente'].values).reshape(-1,1)\n",
    "X_val_antig = (X_val.loc[:, 'antig_cliente'].values).reshape(-1,1)\n",
    "X_test_antig = (X_test.loc[:, 'antig_cliente'].values).reshape(-1,1)\n",
    "X_train_antig.shape, X_val_antig.shape, X_test_antig.shape"
   ]
  },
  {
   "cell_type": "code",
   "execution_count": 23,
   "id": "9a83477d-8863-42fc-9e54-3aefed2f4d7a",
   "metadata": {},
   "outputs": [
    {
     "name": "stdout",
     "output_type": "stream",
     "text": [
      "Grado 0: Train error 226267699773.186,Valid error 262858776086.369\n",
      "Grado 1: Train error 225527551586.007,Valid error 261617257621.401\n",
      "Grado 2: Train error 225488571627.946,Valid error 261383572475.194\n",
      "Grado 3: Train error 225366995020.144,Valid error 261964929969.294\n",
      "Grado 4: Train error 225366953615.763,Valid error 261967167967.346\n",
      "Grado 5: Train error 225278690257.027,Valid error 261552564973.663\n",
      "Grado 6: Train error 225012192514.061,Valid error 261019418501.557\n",
      "Grado 7: Train error 230843286777.82,Valid error 264200096183.869\n",
      "Grado 8: Train error 235711699435.987,Valid error 269512944290.995\n",
      "Grado 9: Train error 240260866816.818,Valid error 276631765053.838\n",
      "Grado 10: Train error 244030433222.342,Valid error 283346738810.895\n",
      "Grado 11: Train error 254125601498.464,Valid error 293329685291.402\n",
      "Grado 12: Train error 257645771315.676,Valid error 295492444593.751\n"
     ]
    }
   ],
   "source": [
    "train_errors = []\n",
    "valid_errors = []\n",
    "degrees = [0,1,2,3,4,5,6,7,8,9,10,11,12]\n",
    "for degree in degrees:\n",
    "    # train:\n",
    "    pf = PolynomialFeatures(degree)\n",
    "    lr = LinearRegression(fit_intercept=False)\n",
    "    model = make_pipeline(pf, lr)\n",
    "    model.fit(X_train_antig, y_reg_train)\n",
    "    \n",
    "    # predict:\n",
    "    y_train_pred = model.predict(X_train_antig)\n",
    "    y_valid_pred = model.predict(X_val_antig)\n",
    "    \n",
    "    train_error = mean_squared_error(y_reg_train, y_train_pred)\n",
    "    valid_error = mean_squared_error(y_reg_val, y_valid_pred)\n",
    "    train_errors.append(train_error)\n",
    "    valid_errors.append(valid_error)\n",
    "    print(f'Grado {degree}: Train error {train_error.round(3)},Valid error {valid_error.round(3)}') "
   ]
  },
  {
   "cell_type": "code",
   "execution_count": 24,
   "id": "b607a4ab-5937-497b-9d07-f9e19e1158dd",
   "metadata": {},
   "outputs": [
    {
     "data": {
      "image/png": "[encoded data removed]",
      "text/plain": [
       "<Figure size 432x288 with 1 Axes>"
      ]
     },
     "metadata": {
      "needs_background": "light"
     },
     "output_type": "display_data"
    }
   ],
   "source": [
    "plt.plot(degrees, train_errors, color=\"blue\", label=\"train\")\n",
    "plt.plot(degrees, valid_errors, color=\"red\", label=\"test\")\n",
    "plt.legend()\n",
    "plt.xlabel(\"degree\")\n",
    "plt.ylabel(\"error\")\n",
    "plt.show()"
   ]
  },
  {
   "cell_type": "markdown",
   "id": "44f58f84-b271-4716-a8d8-acbe0378e8a7",
   "metadata": {},
   "source": [
    "Instaciamos el mejor modelo"
   ]
  },
  {
   "cell_type": "code",
   "execution_count": 33,
   "id": "ac95d531-1252-470d-bf35-c494fc825cbb",
   "metadata": {},
   "outputs": [],
   "source": [
    "# sin vector bais primero\n",
    "degree = 6\n",
    "pf = PolynomialFeatures(degree, include_bias=False)\n",
    "lr = LinearRegression(fit_intercept=False)  \n",
    "model = make_pipeline(pf, lr)"
   ]
  },
  {
   "cell_type": "code",
   "execution_count": 34,
   "id": "808fa585-f2d8-4c55-9256-273099bc7dd5",
   "metadata": {},
   "outputs": [
    {
     "data": {
      "text/plain": [
       "Pipeline(steps=[('polynomialfeatures',\n",
       "                 PolynomialFeatures(degree=6, include_bias=False)),\n",
       "                ('linearregression', LinearRegression(fit_intercept=False))])"
      ]
     },
     "execution_count": 34,
     "metadata": {},
     "output_type": "execute_result"
    }
   ],
   "source": [
    "# Entrenamos el modelo\n",
    "model.fit(X_train_antig, y_reg_train)"
   ]
  },
  {
   "cell_type": "code",
   "execution_count": 35,
   "id": "4f8cdfb5-44b0-4ae9-9fdd-61c84cc938d1",
   "metadata": {},
   "outputs": [
    {
     "data": {
      "text/plain": [
       "(array([ 1.94997823e+04, -5.12460693e+02,  5.85642705e+00, -3.21271728e-02,\n",
       "         8.34506407e-05, -8.22161610e-08]),\n",
       " 0.0)"
      ]
     },
     "execution_count": 35,
     "metadata": {},
     "output_type": "execute_result"
    }
   ],
   "source": [
    "# Vemos los parametros\n",
    "lr.coef_ , lr.intercept_"
   ]
  },
  {
   "cell_type": "code",
   "execution_count": 38,
   "id": "1bee4654-c14f-4b3a-8630-982c3ceb00f4",
   "metadata": {},
   "outputs": [],
   "source": [
    "# Predigo\n",
    "y_predic_antig = model.predict(X_val_antig)"
   ]
  },
  {
   "cell_type": "code",
   "execution_count": 39,
   "id": "7a39ceb7-341c-4ba8-adee-79d9a2d1f862",
   "metadata": {},
   "outputs": [
    {
     "data": {
      "image/png": "[encoded data removed]",
      "text/plain": [
       "<Figure size 720x432 with 1 Axes>"
      ]
     },
     "metadata": {
      "needs_background": "light"
     },
     "output_type": "display_data"
    },
    {
     "name": "stdout",
     "output_type": "stream",
     "text": [
      "Train error: 225012192514.060791\n",
      "Valid error: 261019418501.557251\n"
     ]
    }
   ],
   "source": [
    "plt.figure(figsize=(10,6))\n",
    "plt.scatter(X_train_antig, y_reg_train, color=\"dodgerblue\", edgecolor=\"k\", label=\"train\")\n",
    "plt.scatter(X_val_antig, y_reg_val, color=\"white\", edgecolor=\"k\", label=\"valid\")\n",
    "plt.plot(X_val_antig, y_predic_antig, color=\"red\", label=\"model\") \n",
    "plt.legend()\n",
    "plt.show()\n",
    "\n",
    "print(f'Train error: {train_errors[degree]:f}')\n",
    "print(f'Valid error: {valid_errors[degree]:f}')"
   ]
  },
  {
   "cell_type": "markdown",
   "id": "1de0f3ee-e876-4bd8-9fcb-978e7cc06a0e",
   "metadata": {},
   "source": [
    "#### Con vector de Bais"
   ]
  },
  {
   "cell_type": "code",
   "execution_count": 40,
   "id": "805643d0-9fe8-4d2d-a914-1360748b0e2d",
   "metadata": {},
   "outputs": [],
   "source": [
    "# sin vector bais primero\n",
    "degree = 6\n",
    "pf = PolynomialFeatures(degree)\n",
    "lr = LinearRegression(fit_intercept=False)  \n",
    "model = make_pipeline(pf, lr)"
   ]
  },
  {
   "cell_type": "code",
   "execution_count": 41,
   "id": "d362dbfc-eb73-4e94-bb11-ac07bef75108",
   "metadata": {},
   "outputs": [
    {
     "data": {
      "text/plain": [
       "Pipeline(steps=[('polynomialfeatures', PolynomialFeatures(degree=6)),\n",
       "                ('linearregression', LinearRegression(fit_intercept=False))])"
      ]
     },
     "execution_count": 41,
     "metadata": {},
     "output_type": "execute_result"
    }
   ],
   "source": [
    "# Entrenamos el modelo\n",
    "model.fit(X_train_antig, y_reg_train)"
   ]
  },
  {
   "cell_type": "code",
   "execution_count": 42,
   "id": "5b6b693d-ef5e-43f1-86c8-f7ff6bc9fffe",
   "metadata": {},
   "outputs": [
    {
     "data": {
      "text/plain": [
       "(array([ 2.34748515e+05,  2.59765297e+03, -1.24326364e+02,  1.88386735e+00,\n",
       "        -1.20885566e-02,  3.47934739e-05, -3.69109330e-08]),\n",
       " 0.0)"
      ]
     },
     "execution_count": 42,
     "metadata": {},
     "output_type": "execute_result"
    }
   ],
   "source": [
    "# Vemos los parametros\n",
    "lr.coef_ , lr.intercept_"
   ]
  },
  {
   "cell_type": "code",
   "execution_count": 44,
   "id": "a76c4002-309c-416c-8daf-8c6e8b34455b",
   "metadata": {},
   "outputs": [],
   "source": [
    "# Predigo\n",
    "y_predic_antig_2 = model.predict(X_val_antig)"
   ]
  },
  {
   "cell_type": "code",
   "execution_count": 45,
   "id": "3573b7d7-d3af-459d-830f-1c7d69bbb442",
   "metadata": {},
   "outputs": [
    {
     "data": {
      "image/png": "[encoded data removed]",
      "text/plain": [
       "<Figure size 720x432 with 1 Axes>"
      ]
     },
     "metadata": {
      "needs_background": "light"
     },
     "output_type": "display_data"
    },
    {
     "name": "stdout",
     "output_type": "stream",
     "text": [
      "Train error: 225012192514.060791\n",
      "Valid error: 261019418501.557251\n"
     ]
    }
   ],
   "source": [
    "plt.figure(figsize=(10,6))\n",
    "plt.scatter(X_train_antig, y_reg_train, color=\"dodgerblue\", edgecolor=\"k\", label=\"train\")\n",
    "plt.scatter(X_val_antig, y_reg_val, color=\"white\", edgecolor=\"k\", label=\"valid\")\n",
    "plt.plot(X_val_antig, y_predic_antig_2, color=\"red\", label=\"model\") \n",
    "plt.legend()\n",
    "plt.show()\n",
    "\n",
    "print(f'Train error: {train_errors[degree]:f}')\n",
    "print(f'Valid error: {valid_errors[degree]:f}')"
   ]
  },
  {
   "cell_type": "markdown",
   "id": "4f3e9c20-876f-4ff6-8abc-1e42aa7d143e",
   "metadata": {},
   "source": [
    "### Regresion lineal con pca2"
   ]
  },
  {
   "cell_type": "code",
   "execution_count": 58,
   "id": "0585777f-595d-48cd-8762-f11e8471e38a",
   "metadata": {},
   "outputs": [
    {
     "data": {
      "text/plain": [
       "<AxesSubplot:xlabel='pca2', ylabel='monto_ajustado'>"
      ]
     },
     "execution_count": 58,
     "metadata": {},
     "output_type": "execute_result"
    },
    {
     "data": {
      "image/png": "[encoded data removed]",
      "text/plain": [
       "<Figure size 720x432 with 1 Axes>"
      ]
     },
     "metadata": {
      "needs_background": "light"
     },
     "output_type": "display_data"
    }
   ],
   "source": [
    "plt.figure(figsize=(10,6))\n",
    "sns.scatterplot(data=df_obj, x='pca2', y='monto_ajustado', palette=\"pastel\")"
   ]
  },
  {
   "cell_type": "code",
   "execution_count": 53,
   "id": "e08a1cb5-225c-4ac5-9e55-aaad4a571a9d",
   "metadata": {},
   "outputs": [
    {
     "data": {
      "text/plain": [
       "((15958, 1), (6840, 1), (410, 1))"
      ]
     },
     "execution_count": 53,
     "metadata": {},
     "output_type": "execute_result"
    }
   ],
   "source": [
    "# Selección del feature pca2\n",
    "X_train_pca2 = (X_train.loc[:, 'pca2'].values).reshape(-1,1)\n",
    "X_val_pca2 = (X_val.loc[:, 'pca2'].values).reshape(-1,1)\n",
    "X_test_pca2 = (X_test.loc[:, 'pca2'].values).reshape(-1,1)\n",
    "X_train_pca2.shape, X_val_pca2.shape, X_test_pca2.shape"
   ]
  },
  {
   "cell_type": "code",
   "execution_count": 54,
   "id": "21623a78-b828-4d39-b4e8-6bb382698eb5",
   "metadata": {},
   "outputs": [
    {
     "name": "stdout",
     "output_type": "stream",
     "text": [
      "W:(array([484101.31984854]), 264649.44050452916)\n"
     ]
    }
   ],
   "source": [
    "# Entrenamiento\n",
    "reg = LinearRegression()\n",
    "reg.fit(X_train_pca2, y_reg_train)\n",
    "\n",
    "print(f'W:{reg.coef_, reg.intercept_}')"
   ]
  },
  {
   "cell_type": "code",
   "execution_count": 56,
   "id": "a0633bb9-6e07-4b06-9ddf-b2c32165813d",
   "metadata": {},
   "outputs": [
    {
     "name": "stdout",
     "output_type": "stream",
     "text": [
      "Train error: 0.967314\n",
      "Test error: 0.975975\n"
     ]
    }
   ],
   "source": [
    "# Validaciom\n",
    "y_predict=reg.predict(X_val_pca2)\n",
    "print(f'Train error: {reg.score(X_train_pca2,y_reg_train):f}')\n",
    "print(f'Test error: {reg.score(X_val_pca2, y_reg_val):f}')"
   ]
  },
  {
   "cell_type": "code",
   "execution_count": 57,
   "id": "252df789-14ba-439e-be35-7b4b55224b62",
   "metadata": {},
   "outputs": [
    {
     "data": {
      "image/png": "[encoded data removed]",
      "text/plain": [
       "<Figure size 432x288 with 1 Axes>"
      ]
     },
     "metadata": {},
     "output_type": "display_data"
    }
   ],
   "source": [
    "plt.scatter(X_train_pca2, y_reg_train, color=\"dodgerblue\",edgecolor=\"k\", label=\"train\")\n",
    "plt.scatter(X_val_pca2, y_reg_val, color=\"white\", edgecolor=\"k\", label=\"test\")\n",
    "plt.plot(X_val_pca2, y_predict, color='red', linewidth=3)\n",
    "\n",
    "plt.xticks(())\n",
    "plt.yticks(())\n",
    "\n",
    "plt.legend()\n",
    "plt.show()"
   ]
  }
 ],
 "metadata": {
  "kernelspec": {
   "display_name": "Python 3",
   "language": "python",
   "name": "python3"
  },
  "language_info": {
   "codemirror_mode": {
    "name": "ipython",
    "version": 3
   },
   "file_extension": ".py",
   "mimetype": "text/x-python",
   "name": "python",
   "nbconvert_exporter": "python",
   "pygments_lexer": "ipython3",
   "version": "3.9.4"
  }
 },
 "nbformat": 4,
 "nbformat_minor": 5
}
