{
 "cells": [
  {
   "cell_type": "markdown",
   "id": "cd70a37e-5501-42f7-bcb1-10699f4093fd",
   "metadata": {},
   "source": [
    "\n",
    "# Diplomatura en Ciencia de Datos, Aprendizaje Automático y sus Aplicaciones\n",
    "\n",
    "<center>\n",
    "<img \n",
    "     src=\"http://www2.famaf.unc.edu.ar/~efernandez/egeo/img/logos/famaf.jpg\" \n",
    "     alt=\"Drawing\" \n",
    "     style=\"width:30%;\"\n",
    "/>\n",
    "</center>\n",
    "\n",
    "### Universidad Nacional de Córdoba\n",
    "---"
   ]
  },
  {
   "cell_type": "markdown",
   "id": "0d70140f-76a0-4d80-b8e2-2e58f2d56bb3",
   "metadata": {},
   "source": [
    "## Practico\n",
    "### Introduccion al Aprendizaje Automatico\n"
   ]
  },
  {
   "cell_type": "markdown",
   "id": "f92ca6c0-aeb6-4521-93b8-bdf91b20b0c9",
   "metadata": {},
   "source": [
    "Grupo 2: Luciano Mantovani, Juan Ignacio Barrionuevo Galtier, Antonela Sambuceti"
   ]
  },
  {
   "cell_type": "markdown",
   "id": "607498bc-2ba5-4993-9ac5-fb9c6f6eaad2",
   "metadata": {},
   "source": [
    "## 1. Preparación del conjunto de datos"
   ]
  },
  {
   "cell_type": "code",
   "execution_count": 1,
   "id": "c4c31e2a-20a1-4dab-86e5-03d2642784dc",
   "metadata": {},
   "outputs": [],
   "source": [
    "import pyarrow\n",
    "import fastparquet\n",
    "import pandas as pd\n",
    "import numpy as np\n",
    "import seaborn as sns\n",
    "import matplotlib.pyplot as plt\n",
    "from sklearn.model_selection import train_test_split\n",
    "from sklearn.linear_model import LinearRegression\n",
    "from sklearn.preprocessing import PolynomialFeatures\n",
    "from sklearn.pipeline import make_pipeline\n",
    "from sklearn.metrics import mean_squared_error\n",
    "from sklearn.datasets import load_boston\n",
    "from sklearn.linear_model import SGDClassifier\n",
    "from sklearn.model_selection import GridSearchCV\n",
    "from sklearn.linear_model import LogisticRegression\n",
    "from sklearn.pipeline import Pipeline\n",
    "from sklearn.compose import ColumnTransformer\n",
    "from sklearn.preprocessing import StandardScaler\n",
    "from sklearn.metrics import classification_report, confusion_matrix, plot_confusion_matrix\n",
    "from sklearn.tree import DecisionTreeClassifier\n",
    "from sklearn.preprocessing import Normalizer \n",
    "from sklearn.tree import plot_tree"
   ]
  },
  {
   "cell_type": "code",
   "execution_count": 3,
   "id": "89587726-8d74-486e-a931-c354f99062be",
   "metadata": {},
   "outputs": [],
   "source": [
    "df = pd.read_parquet(\"../notebooks_tp2/df_final.parquet\")"
   ]
  },
  {
   "cell_type": "code",
   "execution_count": 4,
   "id": "8e09391f-e5ba-4db1-8678-447585c5dadc",
   "metadata": {},
   "outputs": [
    {
     "data": {
      "text/html": [
       "<div>\n",
       "<style scoped>\n",
       "    .dataframe tbody tr th:only-of-type {\n",
       "        vertical-align: middle;\n",
       "    }\n",
       "\n",
       "    .dataframe tbody tr th {\n",
       "        vertical-align: top;\n",
       "    }\n",
       "\n",
       "    .dataframe thead th {\n",
       "        text-align: right;\n",
       "    }\n",
       "</style>\n",
       "<table border=\"1\" class=\"dataframe\">\n",
       "  <thead>\n",
       "    <tr style=\"text-align: right;\">\n",
       "      <th></th>\n",
       "      <th>dni_titular_movimiento</th>\n",
       "      <th>anio_mes_cupon</th>\n",
       "      <th>edad_cliente</th>\n",
       "      <th>antig_cliente</th>\n",
       "      <th>sexo_descripcion=Hombre</th>\n",
       "      <th>sexo_descripcion=Mujer</th>\n",
       "      <th>sexo_descripcion=Sin Datos</th>\n",
       "      <th>cargo_sector_desc_hist=Sector_Educativo</th>\n",
       "      <th>cargo_sector_desc_hist=Sector_Empleado_Comercio</th>\n",
       "      <th>cargo_sector_desc_hist=Sector_Financiero</th>\n",
       "      <th>...</th>\n",
       "      <th>producto_naranja_movimiento=VI</th>\n",
       "      <th>producto_naranja_movimiento=ZE</th>\n",
       "      <th>tipo_producto_tarjeta_movimiento=0</th>\n",
       "      <th>tipo_producto_tarjeta_movimiento=22</th>\n",
       "      <th>tipo_producto_tarjeta_movimiento=3</th>\n",
       "      <th>tipo_producto_tarjeta_movimiento=32</th>\n",
       "      <th>tipo_producto_tarjeta_movimiento=4</th>\n",
       "      <th>tipo_producto_tarjeta_movimiento=42</th>\n",
       "      <th>pca1</th>\n",
       "      <th>pca2</th>\n",
       "    </tr>\n",
       "  </thead>\n",
       "  <tbody>\n",
       "    <tr>\n",
       "      <th>0</th>\n",
       "      <td>000000b5aea2c9ea7cc155f6ebcef97f826</td>\n",
       "      <td>202008</td>\n",
       "      <td>46.0</td>\n",
       "      <td>225</td>\n",
       "      <td>0.0</td>\n",
       "      <td>1.0</td>\n",
       "      <td>0.0</td>\n",
       "      <td>0.0</td>\n",
       "      <td>0.0</td>\n",
       "      <td>0.0</td>\n",
       "      <td>...</td>\n",
       "      <td>0.0</td>\n",
       "      <td>0.0</td>\n",
       "      <td>2.0</td>\n",
       "      <td>0.0</td>\n",
       "      <td>0.0</td>\n",
       "      <td>0.0</td>\n",
       "      <td>0.0</td>\n",
       "      <td>0.0</td>\n",
       "      <td>0.734640</td>\n",
       "      <td>-0.736791</td>\n",
       "    </tr>\n",
       "    <tr>\n",
       "      <th>1</th>\n",
       "      <td>000000b5aea2c9ea7cc155f6ebcef97f826</td>\n",
       "      <td>202009</td>\n",
       "      <td>47.0</td>\n",
       "      <td>226</td>\n",
       "      <td>0.0</td>\n",
       "      <td>1.0</td>\n",
       "      <td>0.0</td>\n",
       "      <td>0.0</td>\n",
       "      <td>0.0</td>\n",
       "      <td>0.0</td>\n",
       "      <td>...</td>\n",
       "      <td>0.0</td>\n",
       "      <td>0.0</td>\n",
       "      <td>2.0</td>\n",
       "      <td>0.0</td>\n",
       "      <td>0.0</td>\n",
       "      <td>0.0</td>\n",
       "      <td>0.0</td>\n",
       "      <td>0.0</td>\n",
       "      <td>0.788336</td>\n",
       "      <td>-0.758701</td>\n",
       "    </tr>\n",
       "    <tr>\n",
       "      <th>2</th>\n",
       "      <td>000000b5aea2c9ea7cc155f6ebcef97f826</td>\n",
       "      <td>202010</td>\n",
       "      <td>47.0</td>\n",
       "      <td>227</td>\n",
       "      <td>0.0</td>\n",
       "      <td>1.0</td>\n",
       "      <td>0.0</td>\n",
       "      <td>0.0</td>\n",
       "      <td>0.0</td>\n",
       "      <td>0.0</td>\n",
       "      <td>...</td>\n",
       "      <td>0.0</td>\n",
       "      <td>0.0</td>\n",
       "      <td>2.0</td>\n",
       "      <td>0.0</td>\n",
       "      <td>0.0</td>\n",
       "      <td>0.0</td>\n",
       "      <td>0.0</td>\n",
       "      <td>0.0</td>\n",
       "      <td>0.797504</td>\n",
       "      <td>-0.759246</td>\n",
       "    </tr>\n",
       "    <tr>\n",
       "      <th>3</th>\n",
       "      <td>000000b5aea2c9ea7cc155f6ebcef97f826</td>\n",
       "      <td>202011</td>\n",
       "      <td>47.0</td>\n",
       "      <td>228</td>\n",
       "      <td>0.0</td>\n",
       "      <td>1.0</td>\n",
       "      <td>0.0</td>\n",
       "      <td>0.0</td>\n",
       "      <td>0.0</td>\n",
       "      <td>0.0</td>\n",
       "      <td>...</td>\n",
       "      <td>0.0</td>\n",
       "      <td>0.0</td>\n",
       "      <td>2.0</td>\n",
       "      <td>0.0</td>\n",
       "      <td>0.0</td>\n",
       "      <td>0.0</td>\n",
       "      <td>0.0</td>\n",
       "      <td>0.0</td>\n",
       "      <td>0.806672</td>\n",
       "      <td>-0.759794</td>\n",
       "    </tr>\n",
       "    <tr>\n",
       "      <th>4</th>\n",
       "      <td>000000b5aea2c9ea7cc155f6ebcef97f826</td>\n",
       "      <td>202012</td>\n",
       "      <td>47.0</td>\n",
       "      <td>229</td>\n",
       "      <td>0.0</td>\n",
       "      <td>1.0</td>\n",
       "      <td>0.0</td>\n",
       "      <td>0.0</td>\n",
       "      <td>0.0</td>\n",
       "      <td>0.0</td>\n",
       "      <td>...</td>\n",
       "      <td>0.0</td>\n",
       "      <td>0.0</td>\n",
       "      <td>2.0</td>\n",
       "      <td>0.0</td>\n",
       "      <td>0.0</td>\n",
       "      <td>0.0</td>\n",
       "      <td>0.0</td>\n",
       "      <td>0.0</td>\n",
       "      <td>0.815840</td>\n",
       "      <td>-0.760340</td>\n",
       "    </tr>\n",
       "    <tr>\n",
       "      <th>...</th>\n",
       "      <td>...</td>\n",
       "      <td>...</td>\n",
       "      <td>...</td>\n",
       "      <td>...</td>\n",
       "      <td>...</td>\n",
       "      <td>...</td>\n",
       "      <td>...</td>\n",
       "      <td>...</td>\n",
       "      <td>...</td>\n",
       "      <td>...</td>\n",
       "      <td>...</td>\n",
       "      <td>...</td>\n",
       "      <td>...</td>\n",
       "      <td>...</td>\n",
       "      <td>...</td>\n",
       "      <td>...</td>\n",
       "      <td>...</td>\n",
       "      <td>...</td>\n",
       "      <td>...</td>\n",
       "      <td>...</td>\n",
       "      <td>...</td>\n",
       "    </tr>\n",
       "    <tr>\n",
       "      <th>7438</th>\n",
       "      <td>000f0b73ebfa002a79a0642b82e87919904</td>\n",
       "      <td>202101</td>\n",
       "      <td>64.0</td>\n",
       "      <td>21</td>\n",
       "      <td>0.0</td>\n",
       "      <td>1.0</td>\n",
       "      <td>0.0</td>\n",
       "      <td>0.0</td>\n",
       "      <td>0.0</td>\n",
       "      <td>0.0</td>\n",
       "      <td>...</td>\n",
       "      <td>0.0</td>\n",
       "      <td>2.0</td>\n",
       "      <td>4.0</td>\n",
       "      <td>0.0</td>\n",
       "      <td>8.0</td>\n",
       "      <td>0.0</td>\n",
       "      <td>0.0</td>\n",
       "      <td>0.0</td>\n",
       "      <td>-0.141756</td>\n",
       "      <td>-0.298570</td>\n",
       "    </tr>\n",
       "    <tr>\n",
       "      <th>7439</th>\n",
       "      <td>000f0b73ebfa002a79a0642b82e87919904</td>\n",
       "      <td>202102</td>\n",
       "      <td>64.0</td>\n",
       "      <td>22</td>\n",
       "      <td>0.0</td>\n",
       "      <td>1.0</td>\n",
       "      <td>0.0</td>\n",
       "      <td>0.0</td>\n",
       "      <td>0.0</td>\n",
       "      <td>0.0</td>\n",
       "      <td>...</td>\n",
       "      <td>0.0</td>\n",
       "      <td>2.0</td>\n",
       "      <td>4.0</td>\n",
       "      <td>0.0</td>\n",
       "      <td>4.0</td>\n",
       "      <td>0.0</td>\n",
       "      <td>0.0</td>\n",
       "      <td>0.0</td>\n",
       "      <td>-0.116895</td>\n",
       "      <td>-0.241104</td>\n",
       "    </tr>\n",
       "    <tr>\n",
       "      <th>7440</th>\n",
       "      <td>000f0b73ebfa002a79a0642b82e87919904</td>\n",
       "      <td>202103</td>\n",
       "      <td>64.0</td>\n",
       "      <td>23</td>\n",
       "      <td>0.0</td>\n",
       "      <td>1.0</td>\n",
       "      <td>0.0</td>\n",
       "      <td>0.0</td>\n",
       "      <td>0.0</td>\n",
       "      <td>0.0</td>\n",
       "      <td>...</td>\n",
       "      <td>0.0</td>\n",
       "      <td>0.0</td>\n",
       "      <td>4.0</td>\n",
       "      <td>0.0</td>\n",
       "      <td>6.0</td>\n",
       "      <td>0.0</td>\n",
       "      <td>0.0</td>\n",
       "      <td>0.0</td>\n",
       "      <td>-0.271312</td>\n",
       "      <td>-0.846377</td>\n",
       "    </tr>\n",
       "    <tr>\n",
       "      <th>7441</th>\n",
       "      <td>000f0b73ebfa002a79a0642b82e87919904</td>\n",
       "      <td>202104</td>\n",
       "      <td>64.0</td>\n",
       "      <td>24</td>\n",
       "      <td>0.0</td>\n",
       "      <td>1.0</td>\n",
       "      <td>0.0</td>\n",
       "      <td>0.0</td>\n",
       "      <td>0.0</td>\n",
       "      <td>0.0</td>\n",
       "      <td>...</td>\n",
       "      <td>0.0</td>\n",
       "      <td>2.0</td>\n",
       "      <td>4.0</td>\n",
       "      <td>0.0</td>\n",
       "      <td>9.0</td>\n",
       "      <td>0.0</td>\n",
       "      <td>0.0</td>\n",
       "      <td>0.0</td>\n",
       "      <td>-0.220685</td>\n",
       "      <td>-0.693662</td>\n",
       "    </tr>\n",
       "    <tr>\n",
       "      <th>7442</th>\n",
       "      <td>000f0b73ebfa002a79a0642b82e87919904</td>\n",
       "      <td>202105</td>\n",
       "      <td>64.0</td>\n",
       "      <td>25</td>\n",
       "      <td>0.0</td>\n",
       "      <td>1.0</td>\n",
       "      <td>0.0</td>\n",
       "      <td>0.0</td>\n",
       "      <td>0.0</td>\n",
       "      <td>0.0</td>\n",
       "      <td>...</td>\n",
       "      <td>0.0</td>\n",
       "      <td>2.0</td>\n",
       "      <td>0.0</td>\n",
       "      <td>0.0</td>\n",
       "      <td>2.0</td>\n",
       "      <td>0.0</td>\n",
       "      <td>0.0</td>\n",
       "      <td>0.0</td>\n",
       "      <td>-0.262878</td>\n",
       "      <td>-0.884078</td>\n",
       "    </tr>\n",
       "  </tbody>\n",
       "</table>\n",
       "<p>7443 rows × 54 columns</p>\n",
       "</div>"
      ],
      "text/plain": [
       "                   dni_titular_movimiento  anio_mes_cupon  edad_cliente  \\\n",
       "0     000000b5aea2c9ea7cc155f6ebcef97f826          202008          46.0   \n",
       "1     000000b5aea2c9ea7cc155f6ebcef97f826          202009          47.0   \n",
       "2     000000b5aea2c9ea7cc155f6ebcef97f826          202010          47.0   \n",
       "3     000000b5aea2c9ea7cc155f6ebcef97f826          202011          47.0   \n",
       "4     000000b5aea2c9ea7cc155f6ebcef97f826          202012          47.0   \n",
       "...                                   ...             ...           ...   \n",
       "7438  000f0b73ebfa002a79a0642b82e87919904          202101          64.0   \n",
       "7439  000f0b73ebfa002a79a0642b82e87919904          202102          64.0   \n",
       "7440  000f0b73ebfa002a79a0642b82e87919904          202103          64.0   \n",
       "7441  000f0b73ebfa002a79a0642b82e87919904          202104          64.0   \n",
       "7442  000f0b73ebfa002a79a0642b82e87919904          202105          64.0   \n",
       "\n",
       "      antig_cliente  sexo_descripcion=Hombre  sexo_descripcion=Mujer  \\\n",
       "0               225                      0.0                     1.0   \n",
       "1               226                      0.0                     1.0   \n",
       "2               227                      0.0                     1.0   \n",
       "3               228                      0.0                     1.0   \n",
       "4               229                      0.0                     1.0   \n",
       "...             ...                      ...                     ...   \n",
       "7438             21                      0.0                     1.0   \n",
       "7439             22                      0.0                     1.0   \n",
       "7440             23                      0.0                     1.0   \n",
       "7441             24                      0.0                     1.0   \n",
       "7442             25                      0.0                     1.0   \n",
       "\n",
       "      sexo_descripcion=Sin Datos  cargo_sector_desc_hist=Sector_Educativo  \\\n",
       "0                            0.0                                      0.0   \n",
       "1                            0.0                                      0.0   \n",
       "2                            0.0                                      0.0   \n",
       "3                            0.0                                      0.0   \n",
       "4                            0.0                                      0.0   \n",
       "...                          ...                                      ...   \n",
       "7438                         0.0                                      0.0   \n",
       "7439                         0.0                                      0.0   \n",
       "7440                         0.0                                      0.0   \n",
       "7441                         0.0                                      0.0   \n",
       "7442                         0.0                                      0.0   \n",
       "\n",
       "      cargo_sector_desc_hist=Sector_Empleado_Comercio  \\\n",
       "0                                                 0.0   \n",
       "1                                                 0.0   \n",
       "2                                                 0.0   \n",
       "3                                                 0.0   \n",
       "4                                                 0.0   \n",
       "...                                               ...   \n",
       "7438                                              0.0   \n",
       "7439                                              0.0   \n",
       "7440                                              0.0   \n",
       "7441                                              0.0   \n",
       "7442                                              0.0   \n",
       "\n",
       "      cargo_sector_desc_hist=Sector_Financiero  ...  \\\n",
       "0                                          0.0  ...   \n",
       "1                                          0.0  ...   \n",
       "2                                          0.0  ...   \n",
       "3                                          0.0  ...   \n",
       "4                                          0.0  ...   \n",
       "...                                        ...  ...   \n",
       "7438                                       0.0  ...   \n",
       "7439                                       0.0  ...   \n",
       "7440                                       0.0  ...   \n",
       "7441                                       0.0  ...   \n",
       "7442                                       0.0  ...   \n",
       "\n",
       "      producto_naranja_movimiento=VI  producto_naranja_movimiento=ZE  \\\n",
       "0                                0.0                             0.0   \n",
       "1                                0.0                             0.0   \n",
       "2                                0.0                             0.0   \n",
       "3                                0.0                             0.0   \n",
       "4                                0.0                             0.0   \n",
       "...                              ...                             ...   \n",
       "7438                             0.0                             2.0   \n",
       "7439                             0.0                             2.0   \n",
       "7440                             0.0                             0.0   \n",
       "7441                             0.0                             2.0   \n",
       "7442                             0.0                             2.0   \n",
       "\n",
       "      tipo_producto_tarjeta_movimiento=0  tipo_producto_tarjeta_movimiento=22  \\\n",
       "0                                    2.0                                  0.0   \n",
       "1                                    2.0                                  0.0   \n",
       "2                                    2.0                                  0.0   \n",
       "3                                    2.0                                  0.0   \n",
       "4                                    2.0                                  0.0   \n",
       "...                                  ...                                  ...   \n",
       "7438                                 4.0                                  0.0   \n",
       "7439                                 4.0                                  0.0   \n",
       "7440                                 4.0                                  0.0   \n",
       "7441                                 4.0                                  0.0   \n",
       "7442                                 0.0                                  0.0   \n",
       "\n",
       "      tipo_producto_tarjeta_movimiento=3  tipo_producto_tarjeta_movimiento=32  \\\n",
       "0                                    0.0                                  0.0   \n",
       "1                                    0.0                                  0.0   \n",
       "2                                    0.0                                  0.0   \n",
       "3                                    0.0                                  0.0   \n",
       "4                                    0.0                                  0.0   \n",
       "...                                  ...                                  ...   \n",
       "7438                                 8.0                                  0.0   \n",
       "7439                                 4.0                                  0.0   \n",
       "7440                                 6.0                                  0.0   \n",
       "7441                                 9.0                                  0.0   \n",
       "7442                                 2.0                                  0.0   \n",
       "\n",
       "      tipo_producto_tarjeta_movimiento=4  tipo_producto_tarjeta_movimiento=42  \\\n",
       "0                                    0.0                                  0.0   \n",
       "1                                    0.0                                  0.0   \n",
       "2                                    0.0                                  0.0   \n",
       "3                                    0.0                                  0.0   \n",
       "4                                    0.0                                  0.0   \n",
       "...                                  ...                                  ...   \n",
       "7438                                 0.0                                  0.0   \n",
       "7439                                 0.0                                  0.0   \n",
       "7440                                 0.0                                  0.0   \n",
       "7441                                 0.0                                  0.0   \n",
       "7442                                 0.0                                  0.0   \n",
       "\n",
       "          pca1      pca2  \n",
       "0     0.734640 -0.736791  \n",
       "1     0.788336 -0.758701  \n",
       "2     0.797504 -0.759246  \n",
       "3     0.806672 -0.759794  \n",
       "4     0.815840 -0.760340  \n",
       "...        ...       ...  \n",
       "7438 -0.141756 -0.298570  \n",
       "7439 -0.116895 -0.241104  \n",
       "7440 -0.271312 -0.846377  \n",
       "7441 -0.220685 -0.693662  \n",
       "7442 -0.262878 -0.884078  \n",
       "\n",
       "[7443 rows x 54 columns]"
      ]
     },
     "execution_count": 4,
     "metadata": {},
     "output_type": "execute_result"
    }
   ],
   "source": [
    "df"
   ]
  },
  {
   "cell_type": "code",
   "execution_count": 5,
   "id": "3644b23c-f230-4a7c-b537-0f2fb5da9d68",
   "metadata": {},
   "outputs": [
    {
     "data": {
      "text/plain": [
       "(7443, 54)"
      ]
     },
     "execution_count": 5,
     "metadata": {},
     "output_type": "execute_result"
    }
   ],
   "source": [
    "df.shape"
   ]
  },
  {
   "cell_type": "code",
   "execution_count": 6,
   "id": "b338acbf-9640-4421-9f8d-03f4c3622262",
   "metadata": {},
   "outputs": [
    {
     "data": {
      "text/plain": [
       "Index(['dni_titular_movimiento', 'anio_mes_cupon', 'edad_cliente',\n",
       "       'antig_cliente', 'sexo_descripcion=Hombre', 'sexo_descripcion=Mujer',\n",
       "       'sexo_descripcion=Sin Datos', 'cargo_sector_desc_hist=Sector_Educativo',\n",
       "       'cargo_sector_desc_hist=Sector_Empleado_Comercio',\n",
       "       'cargo_sector_desc_hist=Sector_Financiero',\n",
       "       'cargo_sector_desc_hist=Sector_No_Operativo',\n",
       "       'cargo_sector_desc_hist=Sector_Operativo',\n",
       "       'cargo_sector_desc_hist=Sector_Salud',\n",
       "       'cargo_sector_desc_hist=Sector_Seguridad',\n",
       "       'cargo_sector_desc_hist=Sector_Sin_Datos', 'estado_civil_cat=Casado',\n",
       "       'estado_civil_cat=Otros', 'estado_civil_cat=Sin_datos',\n",
       "       'estado_civil_cat=Soltero', 'region=REGION CUYO',\n",
       "       'region=REGION NORDESTE', 'region=REGION NOROESTE',\n",
       "       'region=REGION PAMPEANA', 'region=REGION PATAGONIA', 'region=SIN DATOS',\n",
       "       'monto_ajustado', 'comercio_cat=0', 'comercio_cat=1', 'comercio_cat=2',\n",
       "       'comercio_cat=3', 'comercio_cat=4', 'comercio_cat=5', 'comercio_cat=6',\n",
       "       'comercio_cat=7', 'comercio_cat=8', 'comercio_cat=9',\n",
       "       'producto_naranja_movimiento=AX', 'producto_naranja_movimiento=EX',\n",
       "       'producto_naranja_movimiento=MC', 'producto_naranja_movimiento=PC',\n",
       "       'producto_naranja_movimiento=PL', 'producto_naranja_movimiento=PN',\n",
       "       'producto_naranja_movimiento=PP', 'producto_naranja_movimiento=TA',\n",
       "       'producto_naranja_movimiento=VI', 'producto_naranja_movimiento=ZE',\n",
       "       'tipo_producto_tarjeta_movimiento=0',\n",
       "       'tipo_producto_tarjeta_movimiento=22',\n",
       "       'tipo_producto_tarjeta_movimiento=3',\n",
       "       'tipo_producto_tarjeta_movimiento=32',\n",
       "       'tipo_producto_tarjeta_movimiento=4',\n",
       "       'tipo_producto_tarjeta_movimiento=42', 'pca1', 'pca2'],\n",
       "      dtype='object')"
      ]
     },
     "execution_count": 6,
     "metadata": {},
     "output_type": "execute_result"
    }
   ],
   "source": [
    "df.columns"
   ]
  },
  {
   "cell_type": "markdown",
   "id": "48e9df30-9588-4fbb-b9f5-c4a8721a6402",
   "metadata": {},
   "source": [
    "### 1.1 Selección de columnas"
   ]
  },
  {
   "cell_type": "markdown",
   "id": "af19bcb3-2668-4c5f-bc33-72cd4a8da661",
   "metadata": {},
   "source": [
    "Seleccionamos las columnas con mayor variabilidad en el tiempo en cada dni"
   ]
  },
  {
   "cell_type": "code",
   "execution_count": 7,
   "id": "54055411-94d1-42c9-9eb8-d351a9383381",
   "metadata": {},
   "outputs": [],
   "source": [
    "columnas = [x for x in df.columns if 'dni_titular' in x \n",
    "                       or 'anio_mes' in x \n",
    "                       or 'comercio_cat' in x\n",
    "                       or 'producto_naranja' in x\n",
    "                       or 'tipo_producto' in x\n",
    "                       or 'monto_ajustado' in x\n",
    "                       or 'antig_cliente' in x]"
   ]
  },
  {
   "cell_type": "code",
   "execution_count": 8,
   "id": "d88feca5-7e35-4594-b01b-f7a72e103e04",
   "metadata": {},
   "outputs": [],
   "source": [
    "df_obj = df[columnas].copy()"
   ]
  },
  {
   "cell_type": "code",
   "execution_count": 9,
   "id": "97640fb0-3b4f-4a06-bcc7-5af370b1f6b3",
   "metadata": {},
   "outputs": [
    {
     "data": {
      "text/plain": [
       "(7443, 30)"
      ]
     },
     "execution_count": 9,
     "metadata": {},
     "output_type": "execute_result"
    }
   ],
   "source": [
    "df_obj.shape"
   ]
  },
  {
   "cell_type": "markdown",
   "id": "448a5222-a2d7-497d-aa24-e4190c5c003e",
   "metadata": {},
   "source": [
    "### 1.2 Creación de variable categórica "
   ]
  },
  {
   "cell_type": "markdown",
   "id": "47a79013-aeb2-42dd-a9ae-e349a1b2ce88",
   "metadata": {},
   "source": [
    "Creamos una columna que indica si un cliente ha aumentado su consumo personal mes a mes. El mes inicial para cada cliente se inicializa en 0.\n",
    "\n",
    "Cabe destacar que a la hora de agrupar los movimientos en cada mes, se considera la fecha de cierre de la tarjeta, por lo cual cada mes comprende desde el dia 25 del mes anterior hasta el dia 24 del corriente, inclusive. "
   ]
  },
  {
   "cell_type": "code",
   "execution_count": 10,
   "id": "a44f7f1e-0ea9-4992-898a-81bc33bbfa6e",
   "metadata": {},
   "outputs": [
    {
     "data": {
      "text/html": [
       "<div>\n",
       "<style scoped>\n",
       "    .dataframe tbody tr th:only-of-type {\n",
       "        vertical-align: middle;\n",
       "    }\n",
       "\n",
       "    .dataframe tbody tr th {\n",
       "        vertical-align: top;\n",
       "    }\n",
       "\n",
       "    .dataframe thead th {\n",
       "        text-align: right;\n",
       "    }\n",
       "</style>\n",
       "<table border=\"1\" class=\"dataframe\">\n",
       "  <thead>\n",
       "    <tr style=\"text-align: right;\">\n",
       "      <th></th>\n",
       "      <th>dni_titular_movimiento</th>\n",
       "      <th>anio_mes_cupon</th>\n",
       "      <th>monto_ajustado</th>\n",
       "    </tr>\n",
       "  </thead>\n",
       "  <tbody>\n",
       "    <tr>\n",
       "      <th>0</th>\n",
       "      <td>000000b5aea2c9ea7cc155f6ebcef97f826</td>\n",
       "      <td>202008</td>\n",
       "      <td>-9.44</td>\n",
       "    </tr>\n",
       "    <tr>\n",
       "      <th>1</th>\n",
       "      <td>000000b5aea2c9ea7cc155f6ebcef97f826</td>\n",
       "      <td>202009</td>\n",
       "      <td>-9.22</td>\n",
       "    </tr>\n",
       "    <tr>\n",
       "      <th>2</th>\n",
       "      <td>000000b5aea2c9ea7cc155f6ebcef97f826</td>\n",
       "      <td>202010</td>\n",
       "      <td>-8.92</td>\n",
       "    </tr>\n",
       "    <tr>\n",
       "      <th>3</th>\n",
       "      <td>000000b5aea2c9ea7cc155f6ebcef97f826</td>\n",
       "      <td>202011</td>\n",
       "      <td>-8.68</td>\n",
       "    </tr>\n",
       "    <tr>\n",
       "      <th>4</th>\n",
       "      <td>000000b5aea2c9ea7cc155f6ebcef97f826</td>\n",
       "      <td>202012</td>\n",
       "      <td>-8.42</td>\n",
       "    </tr>\n",
       "    <tr>\n",
       "      <th>...</th>\n",
       "      <td>...</td>\n",
       "      <td>...</td>\n",
       "      <td>...</td>\n",
       "    </tr>\n",
       "    <tr>\n",
       "      <th>7438</th>\n",
       "      <td>000f0b73ebfa002a79a0642b82e87919904</td>\n",
       "      <td>202101</td>\n",
       "      <td>23232.90</td>\n",
       "    </tr>\n",
       "    <tr>\n",
       "      <th>7439</th>\n",
       "      <td>000f0b73ebfa002a79a0642b82e87919904</td>\n",
       "      <td>202102</td>\n",
       "      <td>25133.36</td>\n",
       "    </tr>\n",
       "    <tr>\n",
       "      <th>7440</th>\n",
       "      <td>000f0b73ebfa002a79a0642b82e87919904</td>\n",
       "      <td>202103</td>\n",
       "      <td>5326.16</td>\n",
       "    </tr>\n",
       "    <tr>\n",
       "      <th>7441</th>\n",
       "      <td>000f0b73ebfa002a79a0642b82e87919904</td>\n",
       "      <td>202104</td>\n",
       "      <td>10346.40</td>\n",
       "    </tr>\n",
       "    <tr>\n",
       "      <th>7442</th>\n",
       "      <td>000f0b73ebfa002a79a0642b82e87919904</td>\n",
       "      <td>202105</td>\n",
       "      <td>4127.62</td>\n",
       "    </tr>\n",
       "  </tbody>\n",
       "</table>\n",
       "<p>7443 rows × 3 columns</p>\n",
       "</div>"
      ],
      "text/plain": [
       "                   dni_titular_movimiento  anio_mes_cupon  monto_ajustado\n",
       "0     000000b5aea2c9ea7cc155f6ebcef97f826          202008           -9.44\n",
       "1     000000b5aea2c9ea7cc155f6ebcef97f826          202009           -9.22\n",
       "2     000000b5aea2c9ea7cc155f6ebcef97f826          202010           -8.92\n",
       "3     000000b5aea2c9ea7cc155f6ebcef97f826          202011           -8.68\n",
       "4     000000b5aea2c9ea7cc155f6ebcef97f826          202012           -8.42\n",
       "...                                   ...             ...             ...\n",
       "7438  000f0b73ebfa002a79a0642b82e87919904          202101        23232.90\n",
       "7439  000f0b73ebfa002a79a0642b82e87919904          202102        25133.36\n",
       "7440  000f0b73ebfa002a79a0642b82e87919904          202103         5326.16\n",
       "7441  000f0b73ebfa002a79a0642b82e87919904          202104        10346.40\n",
       "7442  000f0b73ebfa002a79a0642b82e87919904          202105         4127.62\n",
       "\n",
       "[7443 rows x 3 columns]"
      ]
     },
     "execution_count": 10,
     "metadata": {},
     "output_type": "execute_result"
    }
   ],
   "source": [
    "df_dni_mes_mon = df_obj[['dni_titular_movimiento', 'anio_mes_cupon','monto_ajustado']] \\\n",
    "                        .groupby(['dni_titular_movimiento', 'anio_mes_cupon']).sum('monto_ajustado') \\\n",
    "                        .reset_index() \\\n",
    "                        .sort_values(by=['dni_titular_movimiento', 'anio_mes_cupon'])\n",
    "df_dni_mes_mon"
   ]
  },
  {
   "cell_type": "code",
   "execution_count": 11,
   "id": "69919a5a-6830-461b-a222-29225f3041bf",
   "metadata": {},
   "outputs": [],
   "source": [
    "# Agregación de la nueva columna seteada en 0.\n",
    "# En la iteración, se le cambia el valor a 1 en caso de que cumpla con las condiciones preestablecidas.\n",
    "\n",
    "df_dni_mes_mon['fg_aumentado'] = 0\n",
    "for i in range(1,len(df_dni_mes_mon)):\n",
    "    if (df_dni_mes_mon.iloc[i]['dni_titular_movimiento'] == df_dni_mes_mon.iloc[i-1]['dni_titular_movimiento']) \\\n",
    "        & (df_dni_mes_mon.iloc[i]['anio_mes_cupon'] > df_dni_mes_mon.iloc[i-1]['anio_mes_cupon']):\n",
    "            var_mes = df_dni_mes_mon.iloc[i]['monto_ajustado'] - df_dni_mes_mon.iloc[i-1]['monto_ajustado']\n",
    "            if (var_mes > (abs(df_dni_mes_mon.iloc[i-1]['monto_ajustado'])*0.1)):\n",
    "                    df_dni_mes_mon.iloc[i,3] = 1"
   ]
  },
  {
   "cell_type": "code",
   "execution_count": 12,
   "id": "2a723baa-516b-4b13-9856-61dfb058e523",
   "metadata": {},
   "outputs": [
    {
     "data": {
      "text/html": [
       "<div>\n",
       "<style scoped>\n",
       "    .dataframe tbody tr th:only-of-type {\n",
       "        vertical-align: middle;\n",
       "    }\n",
       "\n",
       "    .dataframe tbody tr th {\n",
       "        vertical-align: top;\n",
       "    }\n",
       "\n",
       "    .dataframe thead th {\n",
       "        text-align: right;\n",
       "    }\n",
       "</style>\n",
       "<table border=\"1\" class=\"dataframe\">\n",
       "  <thead>\n",
       "    <tr style=\"text-align: right;\">\n",
       "      <th></th>\n",
       "      <th>dni_titular_movimiento</th>\n",
       "      <th>anio_mes_cupon</th>\n",
       "      <th>monto_ajustado</th>\n",
       "      <th>fg_aumentado</th>\n",
       "    </tr>\n",
       "  </thead>\n",
       "  <tbody>\n",
       "    <tr>\n",
       "      <th>0</th>\n",
       "      <td>000000b5aea2c9ea7cc155f6ebcef97f826</td>\n",
       "      <td>202008</td>\n",
       "      <td>-9.44</td>\n",
       "      <td>0</td>\n",
       "    </tr>\n",
       "    <tr>\n",
       "      <th>1</th>\n",
       "      <td>000000b5aea2c9ea7cc155f6ebcef97f826</td>\n",
       "      <td>202009</td>\n",
       "      <td>-9.22</td>\n",
       "      <td>0</td>\n",
       "    </tr>\n",
       "    <tr>\n",
       "      <th>2</th>\n",
       "      <td>000000b5aea2c9ea7cc155f6ebcef97f826</td>\n",
       "      <td>202010</td>\n",
       "      <td>-8.92</td>\n",
       "      <td>0</td>\n",
       "    </tr>\n",
       "    <tr>\n",
       "      <th>3</th>\n",
       "      <td>000000b5aea2c9ea7cc155f6ebcef97f826</td>\n",
       "      <td>202011</td>\n",
       "      <td>-8.68</td>\n",
       "      <td>0</td>\n",
       "    </tr>\n",
       "    <tr>\n",
       "      <th>4</th>\n",
       "      <td>000000b5aea2c9ea7cc155f6ebcef97f826</td>\n",
       "      <td>202012</td>\n",
       "      <td>-8.42</td>\n",
       "      <td>0</td>\n",
       "    </tr>\n",
       "    <tr>\n",
       "      <th>5</th>\n",
       "      <td>000000b5aea2c9ea7cc155f6ebcef97f826</td>\n",
       "      <td>202101</td>\n",
       "      <td>-8.16</td>\n",
       "      <td>0</td>\n",
       "    </tr>\n",
       "    <tr>\n",
       "      <th>6</th>\n",
       "      <td>000000b5aea2c9ea7cc155f6ebcef97f826</td>\n",
       "      <td>202102</td>\n",
       "      <td>-7.94</td>\n",
       "      <td>0</td>\n",
       "    </tr>\n",
       "    <tr>\n",
       "      <th>7</th>\n",
       "      <td>000000b5aea2c9ea7cc155f6ebcef97f826</td>\n",
       "      <td>202103</td>\n",
       "      <td>-7.66</td>\n",
       "      <td>0</td>\n",
       "    </tr>\n",
       "    <tr>\n",
       "      <th>8</th>\n",
       "      <td>000000b5aea2c9ea7cc155f6ebcef97f826</td>\n",
       "      <td>202104</td>\n",
       "      <td>-7.44</td>\n",
       "      <td>0</td>\n",
       "    </tr>\n",
       "    <tr>\n",
       "      <th>9</th>\n",
       "      <td>000000b5aea2c9ea7cc155f6ebcef97f826</td>\n",
       "      <td>202105</td>\n",
       "      <td>-7.28</td>\n",
       "      <td>0</td>\n",
       "    </tr>\n",
       "    <tr>\n",
       "      <th>10</th>\n",
       "      <td>00000b8415f19846d12e852ebd0d52ec432</td>\n",
       "      <td>202007</td>\n",
       "      <td>19329.70</td>\n",
       "      <td>0</td>\n",
       "    </tr>\n",
       "    <tr>\n",
       "      <th>11</th>\n",
       "      <td>00000b8415f19846d12e852ebd0d52ec432</td>\n",
       "      <td>202008</td>\n",
       "      <td>10511.25</td>\n",
       "      <td>0</td>\n",
       "    </tr>\n",
       "    <tr>\n",
       "      <th>12</th>\n",
       "      <td>00000b8415f19846d12e852ebd0d52ec432</td>\n",
       "      <td>202009</td>\n",
       "      <td>32374.69</td>\n",
       "      <td>1</td>\n",
       "    </tr>\n",
       "    <tr>\n",
       "      <th>13</th>\n",
       "      <td>00000b8415f19846d12e852ebd0d52ec432</td>\n",
       "      <td>202010</td>\n",
       "      <td>20380.05</td>\n",
       "      <td>0</td>\n",
       "    </tr>\n",
       "    <tr>\n",
       "      <th>14</th>\n",
       "      <td>00000b8415f19846d12e852ebd0d52ec432</td>\n",
       "      <td>202011</td>\n",
       "      <td>20393.08</td>\n",
       "      <td>0</td>\n",
       "    </tr>\n",
       "    <tr>\n",
       "      <th>15</th>\n",
       "      <td>00000b8415f19846d12e852ebd0d52ec432</td>\n",
       "      <td>202012</td>\n",
       "      <td>47334.25</td>\n",
       "      <td>1</td>\n",
       "    </tr>\n",
       "    <tr>\n",
       "      <th>16</th>\n",
       "      <td>00000b8415f19846d12e852ebd0d52ec432</td>\n",
       "      <td>202101</td>\n",
       "      <td>57520.98</td>\n",
       "      <td>1</td>\n",
       "    </tr>\n",
       "    <tr>\n",
       "      <th>17</th>\n",
       "      <td>00000b8415f19846d12e852ebd0d52ec432</td>\n",
       "      <td>202102</td>\n",
       "      <td>9365.65</td>\n",
       "      <td>0</td>\n",
       "    </tr>\n",
       "    <tr>\n",
       "      <th>18</th>\n",
       "      <td>00000b8415f19846d12e852ebd0d52ec432</td>\n",
       "      <td>202103</td>\n",
       "      <td>61698.98</td>\n",
       "      <td>1</td>\n",
       "    </tr>\n",
       "    <tr>\n",
       "      <th>19</th>\n",
       "      <td>00000b8415f19846d12e852ebd0d52ec432</td>\n",
       "      <td>202104</td>\n",
       "      <td>41698.38</td>\n",
       "      <td>0</td>\n",
       "    </tr>\n",
       "  </tbody>\n",
       "</table>\n",
       "</div>"
      ],
      "text/plain": [
       "                 dni_titular_movimiento  anio_mes_cupon  monto_ajustado  \\\n",
       "0   000000b5aea2c9ea7cc155f6ebcef97f826          202008           -9.44   \n",
       "1   000000b5aea2c9ea7cc155f6ebcef97f826          202009           -9.22   \n",
       "2   000000b5aea2c9ea7cc155f6ebcef97f826          202010           -8.92   \n",
       "3   000000b5aea2c9ea7cc155f6ebcef97f826          202011           -8.68   \n",
       "4   000000b5aea2c9ea7cc155f6ebcef97f826          202012           -8.42   \n",
       "5   000000b5aea2c9ea7cc155f6ebcef97f826          202101           -8.16   \n",
       "6   000000b5aea2c9ea7cc155f6ebcef97f826          202102           -7.94   \n",
       "7   000000b5aea2c9ea7cc155f6ebcef97f826          202103           -7.66   \n",
       "8   000000b5aea2c9ea7cc155f6ebcef97f826          202104           -7.44   \n",
       "9   000000b5aea2c9ea7cc155f6ebcef97f826          202105           -7.28   \n",
       "10  00000b8415f19846d12e852ebd0d52ec432          202007        19329.70   \n",
       "11  00000b8415f19846d12e852ebd0d52ec432          202008        10511.25   \n",
       "12  00000b8415f19846d12e852ebd0d52ec432          202009        32374.69   \n",
       "13  00000b8415f19846d12e852ebd0d52ec432          202010        20380.05   \n",
       "14  00000b8415f19846d12e852ebd0d52ec432          202011        20393.08   \n",
       "15  00000b8415f19846d12e852ebd0d52ec432          202012        47334.25   \n",
       "16  00000b8415f19846d12e852ebd0d52ec432          202101        57520.98   \n",
       "17  00000b8415f19846d12e852ebd0d52ec432          202102         9365.65   \n",
       "18  00000b8415f19846d12e852ebd0d52ec432          202103        61698.98   \n",
       "19  00000b8415f19846d12e852ebd0d52ec432          202104        41698.38   \n",
       "\n",
       "    fg_aumentado  \n",
       "0              0  \n",
       "1              0  \n",
       "2              0  \n",
       "3              0  \n",
       "4              0  \n",
       "5              0  \n",
       "6              0  \n",
       "7              0  \n",
       "8              0  \n",
       "9              0  \n",
       "10             0  \n",
       "11             0  \n",
       "12             1  \n",
       "13             0  \n",
       "14             0  \n",
       "15             1  \n",
       "16             1  \n",
       "17             0  \n",
       "18             1  \n",
       "19             0  "
      ]
     },
     "execution_count": 12,
     "metadata": {},
     "output_type": "execute_result"
    }
   ],
   "source": [
    "df_dni_mes_mon.head(20)"
   ]
  },
  {
   "cell_type": "code",
   "execution_count": 13,
   "id": "880aad22-65cb-4c8c-a4bb-5127654b950e",
   "metadata": {},
   "outputs": [],
   "source": [
    "df_dni_mes_mon = df_dni_mes_mon.drop(columns=['monto_ajustado'])"
   ]
  },
  {
   "cell_type": "code",
   "execution_count": 14,
   "id": "d6b42898-d0e8-4693-bc94-5ddd5dd6fd25",
   "metadata": {},
   "outputs": [
    {
     "data": {
      "text/html": [
       "<div>\n",
       "<style scoped>\n",
       "    .dataframe tbody tr th:only-of-type {\n",
       "        vertical-align: middle;\n",
       "    }\n",
       "\n",
       "    .dataframe tbody tr th {\n",
       "        vertical-align: top;\n",
       "    }\n",
       "\n",
       "    .dataframe thead th {\n",
       "        text-align: right;\n",
       "    }\n",
       "</style>\n",
       "<table border=\"1\" class=\"dataframe\">\n",
       "  <thead>\n",
       "    <tr style=\"text-align: right;\">\n",
       "      <th></th>\n",
       "      <th>dni_titular_movimiento_c</th>\n",
       "      <th>anio_mes_cupon_c</th>\n",
       "      <th>fg_aumentado</th>\n",
       "    </tr>\n",
       "  </thead>\n",
       "  <tbody>\n",
       "    <tr>\n",
       "      <th>0</th>\n",
       "      <td>000000b5aea2c9ea7cc155f6ebcef97f826</td>\n",
       "      <td>202008</td>\n",
       "      <td>0</td>\n",
       "    </tr>\n",
       "    <tr>\n",
       "      <th>1</th>\n",
       "      <td>000000b5aea2c9ea7cc155f6ebcef97f826</td>\n",
       "      <td>202009</td>\n",
       "      <td>0</td>\n",
       "    </tr>\n",
       "    <tr>\n",
       "      <th>2</th>\n",
       "      <td>000000b5aea2c9ea7cc155f6ebcef97f826</td>\n",
       "      <td>202010</td>\n",
       "      <td>0</td>\n",
       "    </tr>\n",
       "    <tr>\n",
       "      <th>3</th>\n",
       "      <td>000000b5aea2c9ea7cc155f6ebcef97f826</td>\n",
       "      <td>202011</td>\n",
       "      <td>0</td>\n",
       "    </tr>\n",
       "    <tr>\n",
       "      <th>4</th>\n",
       "      <td>000000b5aea2c9ea7cc155f6ebcef97f826</td>\n",
       "      <td>202012</td>\n",
       "      <td>0</td>\n",
       "    </tr>\n",
       "    <tr>\n",
       "      <th>...</th>\n",
       "      <td>...</td>\n",
       "      <td>...</td>\n",
       "      <td>...</td>\n",
       "    </tr>\n",
       "    <tr>\n",
       "      <th>7438</th>\n",
       "      <td>000f0b73ebfa002a79a0642b82e87919904</td>\n",
       "      <td>202101</td>\n",
       "      <td>0</td>\n",
       "    </tr>\n",
       "    <tr>\n",
       "      <th>7439</th>\n",
       "      <td>000f0b73ebfa002a79a0642b82e87919904</td>\n",
       "      <td>202102</td>\n",
       "      <td>0</td>\n",
       "    </tr>\n",
       "    <tr>\n",
       "      <th>7440</th>\n",
       "      <td>000f0b73ebfa002a79a0642b82e87919904</td>\n",
       "      <td>202103</td>\n",
       "      <td>0</td>\n",
       "    </tr>\n",
       "    <tr>\n",
       "      <th>7441</th>\n",
       "      <td>000f0b73ebfa002a79a0642b82e87919904</td>\n",
       "      <td>202104</td>\n",
       "      <td>1</td>\n",
       "    </tr>\n",
       "    <tr>\n",
       "      <th>7442</th>\n",
       "      <td>000f0b73ebfa002a79a0642b82e87919904</td>\n",
       "      <td>202105</td>\n",
       "      <td>0</td>\n",
       "    </tr>\n",
       "  </tbody>\n",
       "</table>\n",
       "<p>7443 rows × 3 columns</p>\n",
       "</div>"
      ],
      "text/plain": [
       "                 dni_titular_movimiento_c  anio_mes_cupon_c  fg_aumentado\n",
       "0     000000b5aea2c9ea7cc155f6ebcef97f826            202008             0\n",
       "1     000000b5aea2c9ea7cc155f6ebcef97f826            202009             0\n",
       "2     000000b5aea2c9ea7cc155f6ebcef97f826            202010             0\n",
       "3     000000b5aea2c9ea7cc155f6ebcef97f826            202011             0\n",
       "4     000000b5aea2c9ea7cc155f6ebcef97f826            202012             0\n",
       "...                                   ...               ...           ...\n",
       "7438  000f0b73ebfa002a79a0642b82e87919904            202101             0\n",
       "7439  000f0b73ebfa002a79a0642b82e87919904            202102             0\n",
       "7440  000f0b73ebfa002a79a0642b82e87919904            202103             0\n",
       "7441  000f0b73ebfa002a79a0642b82e87919904            202104             1\n",
       "7442  000f0b73ebfa002a79a0642b82e87919904            202105             0\n",
       "\n",
       "[7443 rows x 3 columns]"
      ]
     },
     "execution_count": 14,
     "metadata": {},
     "output_type": "execute_result"
    }
   ],
   "source": [
    "df_dni_mes_mon = df_dni_mes_mon.rename(columns={'dni_titular_movimiento': 'dni_titular_movimiento_c', 'anio_mes_cupon': 'anio_mes_cupon_c'})\n",
    "df_dni_mes_mon"
   ]
  },
  {
   "cell_type": "code",
   "execution_count": 15,
   "id": "e83046a7-e8f3-46bf-915b-55d7f40cd431",
   "metadata": {},
   "outputs": [],
   "source": [
    "df_obj = df_obj.merge( df_dni_mes_mon, \n",
    "             left_on=['dni_titular_movimiento', 'anio_mes_cupon'], \n",
    "             right_on=['dni_titular_movimiento_c', 'anio_mes_cupon_c']) \\\n",
    "        .drop(columns= ['dni_titular_movimiento_c','anio_mes_cupon_c'])"
   ]
  },
  {
   "cell_type": "code",
   "execution_count": 16,
   "id": "fffd2a37-aba2-465b-9493-6c86531ed384",
   "metadata": {},
   "outputs": [
    {
     "data": {
      "text/plain": [
       "(7443, 31)"
      ]
     },
     "execution_count": 16,
     "metadata": {},
     "output_type": "execute_result"
    }
   ],
   "source": [
    "df_obj.shape"
   ]
  },
  {
   "cell_type": "markdown",
   "id": "37b4630e-e08d-479f-b21d-f6ace76658f8",
   "metadata": {},
   "source": [
    "### 1.3 Correlación entre las variables"
   ]
  },
  {
   "cell_type": "markdown",
   "id": "d68b1fe3-d1da-422c-9e5f-a994965f4d0d",
   "metadata": {},
   "source": [
    "En el siguiente cuadro, vemos la correlación de las columnas con respecto a monto_ajustado. Podemos ver que el producto 'Plan Largo' y el tipo_producto 'Naranja' estan fuertemente correlacionados con monto_ajustado. Esto es de esperar ya que concentran la mayoria de los casos."
   ]
  },
  {
   "cell_type": "code",
   "execution_count": 17,
   "id": "71ced69a-8fe6-4552-b6e5-57d8029849f6",
   "metadata": {},
   "outputs": [
    {
     "data": {
      "text/html": [
       "<style  type=\"text/css\" >\n",
       "#T_f1dab9d0_15b9_11ec_9c7b_1c36bb26c354row0_col0,#T_f1dab9d0_15b9_11ec_9c7b_1c36bb26c354row0_col1{\n",
       "            background-color:  #023858;\n",
       "            color:  #f1f1f1;\n",
       "        }#T_f1dab9d0_15b9_11ec_9c7b_1c36bb26c354row1_col0{\n",
       "            background-color:  #3790c0;\n",
       "            color:  #000000;\n",
       "        }#T_f1dab9d0_15b9_11ec_9c7b_1c36bb26c354row1_col1{\n",
       "            background-color:  #3d93c2;\n",
       "            color:  #000000;\n",
       "        }#T_f1dab9d0_15b9_11ec_9c7b_1c36bb26c354row2_col0{\n",
       "            background-color:  #509ac6;\n",
       "            color:  #000000;\n",
       "        }#T_f1dab9d0_15b9_11ec_9c7b_1c36bb26c354row2_col1{\n",
       "            background-color:  #569dc8;\n",
       "            color:  #000000;\n",
       "        }#T_f1dab9d0_15b9_11ec_9c7b_1c36bb26c354row3_col0{\n",
       "            background-color:  #8eb3d5;\n",
       "            color:  #000000;\n",
       "        }#T_f1dab9d0_15b9_11ec_9c7b_1c36bb26c354row3_col1{\n",
       "            background-color:  #94b6d7;\n",
       "            color:  #000000;\n",
       "        }#T_f1dab9d0_15b9_11ec_9c7b_1c36bb26c354row4_col0{\n",
       "            background-color:  #99b8d8;\n",
       "            color:  #000000;\n",
       "        }#T_f1dab9d0_15b9_11ec_9c7b_1c36bb26c354row4_col1{\n",
       "            background-color:  #a1bbda;\n",
       "            color:  #000000;\n",
       "        }#T_f1dab9d0_15b9_11ec_9c7b_1c36bb26c354row5_col0{\n",
       "            background-color:  #a5bddb;\n",
       "            color:  #000000;\n",
       "        }#T_f1dab9d0_15b9_11ec_9c7b_1c36bb26c354row5_col1{\n",
       "            background-color:  #abbfdc;\n",
       "            color:  #000000;\n",
       "        }#T_f1dab9d0_15b9_11ec_9c7b_1c36bb26c354row6_col0{\n",
       "            background-color:  #bcc7e1;\n",
       "            color:  #000000;\n",
       "        }#T_f1dab9d0_15b9_11ec_9c7b_1c36bb26c354row6_col1,#T_f1dab9d0_15b9_11ec_9c7b_1c36bb26c354row8_col0,#T_f1dab9d0_15b9_11ec_9c7b_1c36bb26c354row9_col0{\n",
       "            background-color:  #c2cbe2;\n",
       "            color:  #000000;\n",
       "        }#T_f1dab9d0_15b9_11ec_9c7b_1c36bb26c354row7_col0{\n",
       "            background-color:  #bfc9e1;\n",
       "            color:  #000000;\n",
       "        }#T_f1dab9d0_15b9_11ec_9c7b_1c36bb26c354row7_col1{\n",
       "            background-color:  #c6cce3;\n",
       "            color:  #000000;\n",
       "        }#T_f1dab9d0_15b9_11ec_9c7b_1c36bb26c354row8_col1,#T_f1dab9d0_15b9_11ec_9c7b_1c36bb26c354row9_col1{\n",
       "            background-color:  #c9cee4;\n",
       "            color:  #000000;\n",
       "        }#T_f1dab9d0_15b9_11ec_9c7b_1c36bb26c354row10_col0{\n",
       "            background-color:  #c5cce3;\n",
       "            color:  #000000;\n",
       "        }#T_f1dab9d0_15b9_11ec_9c7b_1c36bb26c354row10_col1{\n",
       "            background-color:  #cdd0e5;\n",
       "            color:  #000000;\n",
       "        }#T_f1dab9d0_15b9_11ec_9c7b_1c36bb26c354row11_col0{\n",
       "            background-color:  #d0d1e6;\n",
       "            color:  #000000;\n",
       "        }#T_f1dab9d0_15b9_11ec_9c7b_1c36bb26c354row11_col1{\n",
       "            background-color:  #d5d5e8;\n",
       "            color:  #000000;\n",
       "        }#T_f1dab9d0_15b9_11ec_9c7b_1c36bb26c354row12_col0{\n",
       "            background-color:  #d2d2e7;\n",
       "            color:  #000000;\n",
       "        }#T_f1dab9d0_15b9_11ec_9c7b_1c36bb26c354row12_col1{\n",
       "            background-color:  #d7d6e9;\n",
       "            color:  #000000;\n",
       "        }#T_f1dab9d0_15b9_11ec_9c7b_1c36bb26c354row13_col0{\n",
       "            background-color:  #d9d8ea;\n",
       "            color:  #000000;\n",
       "        }#T_f1dab9d0_15b9_11ec_9c7b_1c36bb26c354row13_col1{\n",
       "            background-color:  #dedcec;\n",
       "            color:  #000000;\n",
       "        }#T_f1dab9d0_15b9_11ec_9c7b_1c36bb26c354row14_col0{\n",
       "            background-color:  #dddbec;\n",
       "            color:  #000000;\n",
       "        }#T_f1dab9d0_15b9_11ec_9c7b_1c36bb26c354row14_col1{\n",
       "            background-color:  #e2dfee;\n",
       "            color:  #000000;\n",
       "        }#T_f1dab9d0_15b9_11ec_9c7b_1c36bb26c354row15_col0{\n",
       "            background-color:  #e3e0ee;\n",
       "            color:  #000000;\n",
       "        }#T_f1dab9d0_15b9_11ec_9c7b_1c36bb26c354row15_col1{\n",
       "            background-color:  #e9e5f1;\n",
       "            color:  #000000;\n",
       "        }#T_f1dab9d0_15b9_11ec_9c7b_1c36bb26c354row16_col0,#T_f1dab9d0_15b9_11ec_9c7b_1c36bb26c354row17_col0{\n",
       "            background-color:  #e6e2ef;\n",
       "            color:  #000000;\n",
       "        }#T_f1dab9d0_15b9_11ec_9c7b_1c36bb26c354row16_col1,#T_f1dab9d0_15b9_11ec_9c7b_1c36bb26c354row17_col1{\n",
       "            background-color:  #ebe6f2;\n",
       "            color:  #000000;\n",
       "        }#T_f1dab9d0_15b9_11ec_9c7b_1c36bb26c354row18_col0{\n",
       "            background-color:  #eae6f1;\n",
       "            color:  #000000;\n",
       "        }#T_f1dab9d0_15b9_11ec_9c7b_1c36bb26c354row18_col1{\n",
       "            background-color:  #eee9f3;\n",
       "            color:  #000000;\n",
       "        }#T_f1dab9d0_15b9_11ec_9c7b_1c36bb26c354row19_col0{\n",
       "            background-color:  #ece7f2;\n",
       "            color:  #000000;\n",
       "        }#T_f1dab9d0_15b9_11ec_9c7b_1c36bb26c354row19_col1{\n",
       "            background-color:  #f0eaf4;\n",
       "            color:  #000000;\n",
       "        }#T_f1dab9d0_15b9_11ec_9c7b_1c36bb26c354row20_col0{\n",
       "            background-color:  #f2ecf5;\n",
       "            color:  #000000;\n",
       "        }#T_f1dab9d0_15b9_11ec_9c7b_1c36bb26c354row20_col1{\n",
       "            background-color:  #f6eff7;\n",
       "            color:  #000000;\n",
       "        }#T_f1dab9d0_15b9_11ec_9c7b_1c36bb26c354row21_col0,#T_f1dab9d0_15b9_11ec_9c7b_1c36bb26c354row22_col0{\n",
       "            background-color:  #f4edf6;\n",
       "            color:  #000000;\n",
       "        }#T_f1dab9d0_15b9_11ec_9c7b_1c36bb26c354row21_col1,#T_f1dab9d0_15b9_11ec_9c7b_1c36bb26c354row22_col1,#T_f1dab9d0_15b9_11ec_9c7b_1c36bb26c354row26_col0{\n",
       "            background-color:  #f8f1f8;\n",
       "            color:  #000000;\n",
       "        }#T_f1dab9d0_15b9_11ec_9c7b_1c36bb26c354row23_col0{\n",
       "            background-color:  #f5eef6;\n",
       "            color:  #000000;\n",
       "        }#T_f1dab9d0_15b9_11ec_9c7b_1c36bb26c354row23_col1{\n",
       "            background-color:  #f9f2f8;\n",
       "            color:  #000000;\n",
       "        }#T_f1dab9d0_15b9_11ec_9c7b_1c36bb26c354row24_col0,#T_f1dab9d0_15b9_11ec_9c7b_1c36bb26c354row28_col1,#T_f1dab9d0_15b9_11ec_9c7b_1c36bb26c354row29_col1{\n",
       "            background-color:  #fff7fb;\n",
       "            color:  #000000;\n",
       "        }#T_f1dab9d0_15b9_11ec_9c7b_1c36bb26c354row24_col1,#T_f1dab9d0_15b9_11ec_9c7b_1c36bb26c354row25_col1,#T_f1dab9d0_15b9_11ec_9c7b_1c36bb26c354row28_col0,#T_f1dab9d0_15b9_11ec_9c7b_1c36bb26c354row29_col0{\n",
       "            background-color:  #fbf3f9;\n",
       "            color:  #000000;\n",
       "        }#T_f1dab9d0_15b9_11ec_9c7b_1c36bb26c354row25_col0{\n",
       "            background-color:  #f7f0f7;\n",
       "            color:  #000000;\n",
       "        }#T_f1dab9d0_15b9_11ec_9c7b_1c36bb26c354row26_col1{\n",
       "            background-color:  #fcf4fa;\n",
       "            color:  #000000;\n",
       "        }#T_f1dab9d0_15b9_11ec_9c7b_1c36bb26c354row27_col0{\n",
       "            background-color:  #faf2f8;\n",
       "            color:  #000000;\n",
       "        }#T_f1dab9d0_15b9_11ec_9c7b_1c36bb26c354row27_col1{\n",
       "            background-color:  #fef6fa;\n",
       "            color:  #000000;\n",
       "        }</style><table id=\"T_f1dab9d0_15b9_11ec_9c7b_1c36bb26c354\" ><thead>    <tr>        <th class=\"blank level0\" ></th>        <th class=\"col_heading level0 col0\" >monto_ajustado</th>        <th class=\"col_heading level0 col1\" >abs_corr</th>    </tr></thead><tbody>\n",
       "                <tr>\n",
       "                        <th id=\"T_f1dab9d0_15b9_11ec_9c7b_1c36bb26c354level0_row0\" class=\"row_heading level0 row0\" >monto_ajustado</th>\n",
       "                        <td id=\"T_f1dab9d0_15b9_11ec_9c7b_1c36bb26c354row0_col0\" class=\"data row0 col0\" >1.000000</td>\n",
       "                        <td id=\"T_f1dab9d0_15b9_11ec_9c7b_1c36bb26c354row0_col1\" class=\"data row0 col1\" >1.000000</td>\n",
       "            </tr>\n",
       "            <tr>\n",
       "                        <th id=\"T_f1dab9d0_15b9_11ec_9c7b_1c36bb26c354level0_row1\" class=\"row_heading level0 row1\" >tipo_producto_tarjeta_movimiento=3</th>\n",
       "                        <td id=\"T_f1dab9d0_15b9_11ec_9c7b_1c36bb26c354row1_col0\" class=\"data row1 col0\" >0.610000</td>\n",
       "                        <td id=\"T_f1dab9d0_15b9_11ec_9c7b_1c36bb26c354row1_col1\" class=\"data row1 col1\" >0.610000</td>\n",
       "            </tr>\n",
       "            <tr>\n",
       "                        <th id=\"T_f1dab9d0_15b9_11ec_9c7b_1c36bb26c354level0_row2\" class=\"row_heading level0 row2\" >producto_naranja_movimiento=PL</th>\n",
       "                        <td id=\"T_f1dab9d0_15b9_11ec_9c7b_1c36bb26c354row2_col0\" class=\"data row2 col0\" >0.560000</td>\n",
       "                        <td id=\"T_f1dab9d0_15b9_11ec_9c7b_1c36bb26c354row2_col1\" class=\"data row2 col1\" >0.560000</td>\n",
       "            </tr>\n",
       "            <tr>\n",
       "                        <th id=\"T_f1dab9d0_15b9_11ec_9c7b_1c36bb26c354level0_row3\" class=\"row_heading level0 row3\" >comercio_cat=1</th>\n",
       "                        <td id=\"T_f1dab9d0_15b9_11ec_9c7b_1c36bb26c354row3_col0\" class=\"data row3 col0\" >0.420000</td>\n",
       "                        <td id=\"T_f1dab9d0_15b9_11ec_9c7b_1c36bb26c354row3_col1\" class=\"data row3 col1\" >0.420000</td>\n",
       "            </tr>\n",
       "            <tr>\n",
       "                        <th id=\"T_f1dab9d0_15b9_11ec_9c7b_1c36bb26c354level0_row4\" class=\"row_heading level0 row4\" >fg_aumentado</th>\n",
       "                        <td id=\"T_f1dab9d0_15b9_11ec_9c7b_1c36bb26c354row4_col0\" class=\"data row4 col0\" >0.390000</td>\n",
       "                        <td id=\"T_f1dab9d0_15b9_11ec_9c7b_1c36bb26c354row4_col1\" class=\"data row4 col1\" >0.390000</td>\n",
       "            </tr>\n",
       "            <tr>\n",
       "                        <th id=\"T_f1dab9d0_15b9_11ec_9c7b_1c36bb26c354level0_row5\" class=\"row_heading level0 row5\" >producto_naranja_movimiento=ZE</th>\n",
       "                        <td id=\"T_f1dab9d0_15b9_11ec_9c7b_1c36bb26c354row5_col0\" class=\"data row5 col0\" >0.360000</td>\n",
       "                        <td id=\"T_f1dab9d0_15b9_11ec_9c7b_1c36bb26c354row5_col1\" class=\"data row5 col1\" >0.360000</td>\n",
       "            </tr>\n",
       "            <tr>\n",
       "                        <th id=\"T_f1dab9d0_15b9_11ec_9c7b_1c36bb26c354level0_row6\" class=\"row_heading level0 row6\" >comercio_cat=5</th>\n",
       "                        <td id=\"T_f1dab9d0_15b9_11ec_9c7b_1c36bb26c354row6_col0\" class=\"data row6 col0\" >0.290000</td>\n",
       "                        <td id=\"T_f1dab9d0_15b9_11ec_9c7b_1c36bb26c354row6_col1\" class=\"data row6 col1\" >0.290000</td>\n",
       "            </tr>\n",
       "            <tr>\n",
       "                        <th id=\"T_f1dab9d0_15b9_11ec_9c7b_1c36bb26c354level0_row7\" class=\"row_heading level0 row7\" >comercio_cat=9</th>\n",
       "                        <td id=\"T_f1dab9d0_15b9_11ec_9c7b_1c36bb26c354row7_col0\" class=\"data row7 col0\" >0.280000</td>\n",
       "                        <td id=\"T_f1dab9d0_15b9_11ec_9c7b_1c36bb26c354row7_col1\" class=\"data row7 col1\" >0.280000</td>\n",
       "            </tr>\n",
       "            <tr>\n",
       "                        <th id=\"T_f1dab9d0_15b9_11ec_9c7b_1c36bb26c354level0_row8\" class=\"row_heading level0 row8\" >producto_naranja_movimiento=VI</th>\n",
       "                        <td id=\"T_f1dab9d0_15b9_11ec_9c7b_1c36bb26c354row8_col0\" class=\"data row8 col0\" >0.270000</td>\n",
       "                        <td id=\"T_f1dab9d0_15b9_11ec_9c7b_1c36bb26c354row8_col1\" class=\"data row8 col1\" >0.270000</td>\n",
       "            </tr>\n",
       "            <tr>\n",
       "                        <th id=\"T_f1dab9d0_15b9_11ec_9c7b_1c36bb26c354level0_row9\" class=\"row_heading level0 row9\" >comercio_cat=0</th>\n",
       "                        <td id=\"T_f1dab9d0_15b9_11ec_9c7b_1c36bb26c354row9_col0\" class=\"data row9 col0\" >0.270000</td>\n",
       "                        <td id=\"T_f1dab9d0_15b9_11ec_9c7b_1c36bb26c354row9_col1\" class=\"data row9 col1\" >0.270000</td>\n",
       "            </tr>\n",
       "            <tr>\n",
       "                        <th id=\"T_f1dab9d0_15b9_11ec_9c7b_1c36bb26c354level0_row10\" class=\"row_heading level0 row10\" >tipo_producto_tarjeta_movimiento=22</th>\n",
       "                        <td id=\"T_f1dab9d0_15b9_11ec_9c7b_1c36bb26c354row10_col0\" class=\"data row10 col0\" >0.260000</td>\n",
       "                        <td id=\"T_f1dab9d0_15b9_11ec_9c7b_1c36bb26c354row10_col1\" class=\"data row10 col1\" >0.260000</td>\n",
       "            </tr>\n",
       "            <tr>\n",
       "                        <th id=\"T_f1dab9d0_15b9_11ec_9c7b_1c36bb26c354level0_row11\" class=\"row_heading level0 row11\" >producto_naranja_movimiento=PC</th>\n",
       "                        <td id=\"T_f1dab9d0_15b9_11ec_9c7b_1c36bb26c354row11_col0\" class=\"data row11 col0\" >0.230000</td>\n",
       "                        <td id=\"T_f1dab9d0_15b9_11ec_9c7b_1c36bb26c354row11_col1\" class=\"data row11 col1\" >0.230000</td>\n",
       "            </tr>\n",
       "            <tr>\n",
       "                        <th id=\"T_f1dab9d0_15b9_11ec_9c7b_1c36bb26c354level0_row12\" class=\"row_heading level0 row12\" >comercio_cat=2</th>\n",
       "                        <td id=\"T_f1dab9d0_15b9_11ec_9c7b_1c36bb26c354row12_col0\" class=\"data row12 col0\" >0.220000</td>\n",
       "                        <td id=\"T_f1dab9d0_15b9_11ec_9c7b_1c36bb26c354row12_col1\" class=\"data row12 col1\" >0.220000</td>\n",
       "            </tr>\n",
       "            <tr>\n",
       "                        <th id=\"T_f1dab9d0_15b9_11ec_9c7b_1c36bb26c354level0_row13\" class=\"row_heading level0 row13\" >comercio_cat=3</th>\n",
       "                        <td id=\"T_f1dab9d0_15b9_11ec_9c7b_1c36bb26c354row13_col0\" class=\"data row13 col0\" >0.190000</td>\n",
       "                        <td id=\"T_f1dab9d0_15b9_11ec_9c7b_1c36bb26c354row13_col1\" class=\"data row13 col1\" >0.190000</td>\n",
       "            </tr>\n",
       "            <tr>\n",
       "                        <th id=\"T_f1dab9d0_15b9_11ec_9c7b_1c36bb26c354level0_row14\" class=\"row_heading level0 row14\" >producto_naranja_movimiento=PN</th>\n",
       "                        <td id=\"T_f1dab9d0_15b9_11ec_9c7b_1c36bb26c354row14_col0\" class=\"data row14 col0\" >0.170000</td>\n",
       "                        <td id=\"T_f1dab9d0_15b9_11ec_9c7b_1c36bb26c354row14_col1\" class=\"data row14 col1\" >0.170000</td>\n",
       "            </tr>\n",
       "            <tr>\n",
       "                        <th id=\"T_f1dab9d0_15b9_11ec_9c7b_1c36bb26c354level0_row15\" class=\"row_heading level0 row15\" >comercio_cat=6</th>\n",
       "                        <td id=\"T_f1dab9d0_15b9_11ec_9c7b_1c36bb26c354row15_col0\" class=\"data row15 col0\" >0.140000</td>\n",
       "                        <td id=\"T_f1dab9d0_15b9_11ec_9c7b_1c36bb26c354row15_col1\" class=\"data row15 col1\" >0.140000</td>\n",
       "            </tr>\n",
       "            <tr>\n",
       "                        <th id=\"T_f1dab9d0_15b9_11ec_9c7b_1c36bb26c354level0_row16\" class=\"row_heading level0 row16\" >antig_cliente</th>\n",
       "                        <td id=\"T_f1dab9d0_15b9_11ec_9c7b_1c36bb26c354row16_col0\" class=\"data row16 col0\" >0.130000</td>\n",
       "                        <td id=\"T_f1dab9d0_15b9_11ec_9c7b_1c36bb26c354row16_col1\" class=\"data row16 col1\" >0.130000</td>\n",
       "            </tr>\n",
       "            <tr>\n",
       "                        <th id=\"T_f1dab9d0_15b9_11ec_9c7b_1c36bb26c354level0_row17\" class=\"row_heading level0 row17\" >tipo_producto_tarjeta_movimiento=0</th>\n",
       "                        <td id=\"T_f1dab9d0_15b9_11ec_9c7b_1c36bb26c354row17_col0\" class=\"data row17 col0\" >0.130000</td>\n",
       "                        <td id=\"T_f1dab9d0_15b9_11ec_9c7b_1c36bb26c354row17_col1\" class=\"data row17 col1\" >0.130000</td>\n",
       "            </tr>\n",
       "            <tr>\n",
       "                        <th id=\"T_f1dab9d0_15b9_11ec_9c7b_1c36bb26c354level0_row18\" class=\"row_heading level0 row18\" >comercio_cat=8</th>\n",
       "                        <td id=\"T_f1dab9d0_15b9_11ec_9c7b_1c36bb26c354row18_col0\" class=\"data row18 col0\" >0.110000</td>\n",
       "                        <td id=\"T_f1dab9d0_15b9_11ec_9c7b_1c36bb26c354row18_col1\" class=\"data row18 col1\" >0.110000</td>\n",
       "            </tr>\n",
       "            <tr>\n",
       "                        <th id=\"T_f1dab9d0_15b9_11ec_9c7b_1c36bb26c354level0_row19\" class=\"row_heading level0 row19\" >comercio_cat=7</th>\n",
       "                        <td id=\"T_f1dab9d0_15b9_11ec_9c7b_1c36bb26c354row19_col0\" class=\"data row19 col0\" >0.100000</td>\n",
       "                        <td id=\"T_f1dab9d0_15b9_11ec_9c7b_1c36bb26c354row19_col1\" class=\"data row19 col1\" >0.100000</td>\n",
       "            </tr>\n",
       "            <tr>\n",
       "                        <th id=\"T_f1dab9d0_15b9_11ec_9c7b_1c36bb26c354level0_row20\" class=\"row_heading level0 row20\" >comercio_cat=4</th>\n",
       "                        <td id=\"T_f1dab9d0_15b9_11ec_9c7b_1c36bb26c354row20_col0\" class=\"data row20 col0\" >0.060000</td>\n",
       "                        <td id=\"T_f1dab9d0_15b9_11ec_9c7b_1c36bb26c354row20_col1\" class=\"data row20 col1\" >0.060000</td>\n",
       "            </tr>\n",
       "            <tr>\n",
       "                        <th id=\"T_f1dab9d0_15b9_11ec_9c7b_1c36bb26c354level0_row21\" class=\"row_heading level0 row21\" >tipo_producto_tarjeta_movimiento=4</th>\n",
       "                        <td id=\"T_f1dab9d0_15b9_11ec_9c7b_1c36bb26c354row21_col0\" class=\"data row21 col0\" >0.050000</td>\n",
       "                        <td id=\"T_f1dab9d0_15b9_11ec_9c7b_1c36bb26c354row21_col1\" class=\"data row21 col1\" >0.050000</td>\n",
       "            </tr>\n",
       "            <tr>\n",
       "                        <th id=\"T_f1dab9d0_15b9_11ec_9c7b_1c36bb26c354level0_row22\" class=\"row_heading level0 row22\" >producto_naranja_movimiento=PP</th>\n",
       "                        <td id=\"T_f1dab9d0_15b9_11ec_9c7b_1c36bb26c354row22_col0\" class=\"data row22 col0\" >0.050000</td>\n",
       "                        <td id=\"T_f1dab9d0_15b9_11ec_9c7b_1c36bb26c354row22_col1\" class=\"data row22 col1\" >0.050000</td>\n",
       "            </tr>\n",
       "            <tr>\n",
       "                        <th id=\"T_f1dab9d0_15b9_11ec_9c7b_1c36bb26c354level0_row23\" class=\"row_heading level0 row23\" >tipo_producto_tarjeta_movimiento=32</th>\n",
       "                        <td id=\"T_f1dab9d0_15b9_11ec_9c7b_1c36bb26c354row23_col0\" class=\"data row23 col0\" >0.040000</td>\n",
       "                        <td id=\"T_f1dab9d0_15b9_11ec_9c7b_1c36bb26c354row23_col1\" class=\"data row23 col1\" >0.040000</td>\n",
       "            </tr>\n",
       "            <tr>\n",
       "                        <th id=\"T_f1dab9d0_15b9_11ec_9c7b_1c36bb26c354level0_row24\" class=\"row_heading level0 row24\" >anio_mes_cupon</th>\n",
       "                        <td id=\"T_f1dab9d0_15b9_11ec_9c7b_1c36bb26c354row24_col0\" class=\"data row24 col0\" >-0.030000</td>\n",
       "                        <td id=\"T_f1dab9d0_15b9_11ec_9c7b_1c36bb26c354row24_col1\" class=\"data row24 col1\" >0.030000</td>\n",
       "            </tr>\n",
       "            <tr>\n",
       "                        <th id=\"T_f1dab9d0_15b9_11ec_9c7b_1c36bb26c354level0_row25\" class=\"row_heading level0 row25\" >producto_naranja_movimiento=MC</th>\n",
       "                        <td id=\"T_f1dab9d0_15b9_11ec_9c7b_1c36bb26c354row25_col0\" class=\"data row25 col0\" >0.030000</td>\n",
       "                        <td id=\"T_f1dab9d0_15b9_11ec_9c7b_1c36bb26c354row25_col1\" class=\"data row25 col1\" >0.030000</td>\n",
       "            </tr>\n",
       "            <tr>\n",
       "                        <th id=\"T_f1dab9d0_15b9_11ec_9c7b_1c36bb26c354level0_row26\" class=\"row_heading level0 row26\" >producto_naranja_movimiento=EX</th>\n",
       "                        <td id=\"T_f1dab9d0_15b9_11ec_9c7b_1c36bb26c354row26_col0\" class=\"data row26 col0\" >0.020000</td>\n",
       "                        <td id=\"T_f1dab9d0_15b9_11ec_9c7b_1c36bb26c354row26_col1\" class=\"data row26 col1\" >0.020000</td>\n",
       "            </tr>\n",
       "            <tr>\n",
       "                        <th id=\"T_f1dab9d0_15b9_11ec_9c7b_1c36bb26c354level0_row27\" class=\"row_heading level0 row27\" >tipo_producto_tarjeta_movimiento=42</th>\n",
       "                        <td id=\"T_f1dab9d0_15b9_11ec_9c7b_1c36bb26c354row27_col0\" class=\"data row27 col0\" >0.010000</td>\n",
       "                        <td id=\"T_f1dab9d0_15b9_11ec_9c7b_1c36bb26c354row27_col1\" class=\"data row27 col1\" >0.010000</td>\n",
       "            </tr>\n",
       "            <tr>\n",
       "                        <th id=\"T_f1dab9d0_15b9_11ec_9c7b_1c36bb26c354level0_row28\" class=\"row_heading level0 row28\" >producto_naranja_movimiento=TA</th>\n",
       "                        <td id=\"T_f1dab9d0_15b9_11ec_9c7b_1c36bb26c354row28_col0\" class=\"data row28 col0\" >0.000000</td>\n",
       "                        <td id=\"T_f1dab9d0_15b9_11ec_9c7b_1c36bb26c354row28_col1\" class=\"data row28 col1\" >0.000000</td>\n",
       "            </tr>\n",
       "            <tr>\n",
       "                        <th id=\"T_f1dab9d0_15b9_11ec_9c7b_1c36bb26c354level0_row29\" class=\"row_heading level0 row29\" >producto_naranja_movimiento=AX</th>\n",
       "                        <td id=\"T_f1dab9d0_15b9_11ec_9c7b_1c36bb26c354row29_col0\" class=\"data row29 col0\" >-0.000000</td>\n",
       "                        <td id=\"T_f1dab9d0_15b9_11ec_9c7b_1c36bb26c354row29_col1\" class=\"data row29 col1\" >0.000000</td>\n",
       "            </tr>\n",
       "    </tbody></table>"
      ],
      "text/plain": [
       "<pandas.io.formats.style.Styler at 0x10708e8d0>"
      ]
     },
     "execution_count": 17,
     "metadata": {},
     "output_type": "execute_result"
    }
   ],
   "source": [
    "corr = df_obj.corr().round(2)\n",
    "corr=corr[['monto_ajustado']]\n",
    "corr.loc[:,'abs_corr']=np.abs(corr['monto_ajustado'])\n",
    "corr.sort_values(by='abs_corr',ascending = False).style.background_gradient()"
   ]
  },
  {
   "cell_type": "markdown",
   "id": "e2d5e34d-7537-40f4-922b-1519bea83057",
   "metadata": {},
   "source": [
    "En la siguiente figura, ilustramos el mapa de calor para visualizar la correlacion de todas las variables y encontrar aquellas columnas que nos aporten informacion redundante, las cuales habria que descartar a la hora de instanciar los modelos."
   ]
  },
  {
   "cell_type": "code",
   "execution_count": 18,
   "id": "84cd39c1-79a9-434c-b738-04c1b2c050e4",
   "metadata": {},
   "outputs": [
    {
     "data": {
      "image/png": "[encoded data removed]",
      "text/plain": [
       "<Figure size 1800x1224 with 2 Axes>"
      ]
     },
     "metadata": {
      "needs_background": "light"
     },
     "output_type": "display_data"
    }
   ],
   "source": [
    "plt.figure(figsize=(25,17))\n",
    "corr = df_obj.corr().round(2)\n",
    "sns.heatmap(corr, xticklabels = corr.columns, yticklabels = corr.columns, annot=True, cmap= 'coolwarm')\n",
    "plt.show()"
   ]
  },
  {
   "cell_type": "markdown",
   "id": "89b4e724-eb15-4848-9334-87e1270a3e1e",
   "metadata": {},
   "source": [
    "La variables que consideramos descartar son aquellas que tienen una relacion fuerte con otra pero dentro del mismo concepto. Es decir, si un producto naranja se relaciona fuertemente con un tipo_producto, es probable que expliquen lo mismo. \n",
    "\n",
    "Por una cuestion de conservar la integridad de los datos, decidimos mantener la categoria 'producto_naranja' por sobre 'tipo_producto_movimiento'. Es decir que, en aquellos casos donde exista una correlacion fuerte entre un producto y un tipo_producto, optamos por eliminar el tipo_producto.\n",
    "\n",
    "Columnas a eliminar:\n",
    "- **tipo_producto_tarjeta_movimiento=22**: Tiene una correlacion lineal cercana a 1 con el producto VISA.\n",
    "- **tipo_producto_tarjeta_movimiento=32**: Tiene una correlacion lineal cercana a 1 con el producto MC.\n",
    "- **tipo_producto_tarjeta_movimiento=42**: Tiene una correlacion lineal cercana a 1 con el producto AX."
   ]
  },
  {
   "cell_type": "code",
   "execution_count": 19,
   "id": "3fed9b8b-b719-4f83-91e6-3e06a893a5eb",
   "metadata": {},
   "outputs": [],
   "source": [
    "df_obj = df_obj.drop(['tipo_producto_tarjeta_movimiento=22', 'tipo_producto_tarjeta_movimiento=32', 'tipo_producto_tarjeta_movimiento=42'], axis=1)"
   ]
  },
  {
   "cell_type": "code",
   "execution_count": 20,
   "id": "dcd2b1c7-a6b3-4d21-90b4-b724ee9700bc",
   "metadata": {},
   "outputs": [
    {
     "data": {
      "text/plain": [
       "(7443, 28)"
      ]
     },
     "execution_count": 20,
     "metadata": {},
     "output_type": "execute_result"
    }
   ],
   "source": [
    "df_obj.shape"
   ]
  },
  {
   "cell_type": "markdown",
   "id": "51cc230b-59f0-4a6f-bd74-929db4d49c18",
   "metadata": {},
   "source": [
    "### 1.4 Normalización de las variables"
   ]
  },
  {
   "cell_type": "markdown",
   "id": "5215d47d-ea56-43f7-9f54-fa03b32947e2",
   "metadata": {},
   "source": [
    "Para los modelos de regresión polinomial, puede ser necesario un escalado de los datos previo al entrenamiento, ya que la variable 'monto_ajustado' varía en rangos más altos que las variables explicativas (variables X's). \n",
    "\n",
    "Por otro lado, para aquellos modelos de clasificación, probaremos por un lado la normalización de tipo L1 que permite eliminar la influencia de los valores atípicos, y por otro lado L2 que permite aumentar la distancia entre los diferentes puntos a clasificar, y de esta forma permite encontrar de manera más eficiente el hiperplano de separación. "
   ]
  },
  {
   "cell_type": "code",
   "execution_count": 21,
   "id": "3374dab0-0a6d-4fc5-bb32-78f5efc7c95c",
   "metadata": {},
   "outputs": [],
   "source": [
    "df_obj.to_parquet('df_preprocesado.parquet')"
   ]
  },
  {
   "cell_type": "markdown",
   "id": "1ef4db81-7306-4e5c-a868-be58e0f66e03",
   "metadata": {},
   "source": [
    "## 2. División del conjunto de datos"
   ]
  },
  {
   "cell_type": "markdown",
   "id": "e5d76669-b57b-43db-b0f6-7842d0551cc1",
   "metadata": {},
   "source": [
    "Debido a que nuestros datos se encuentran ordenados temporalmente, no consideramos pertinente hacer una mezcla aleatoria de los mismos, previo a la división."
   ]
  },
  {
   "cell_type": "code",
   "execution_count": 20,
   "id": "842095e7-6030-42af-85e9-9e5ef78312ba",
   "metadata": {},
   "outputs": [
    {
     "data": {
      "text/html": [
       "<div>\n",
       "<style scoped>\n",
       "    .dataframe tbody tr th:only-of-type {\n",
       "        vertical-align: middle;\n",
       "    }\n",
       "\n",
       "    .dataframe tbody tr th {\n",
       "        vertical-align: top;\n",
       "    }\n",
       "\n",
       "    .dataframe thead th {\n",
       "        text-align: right;\n",
       "    }\n",
       "</style>\n",
       "<table border=\"1\" class=\"dataframe\">\n",
       "  <thead>\n",
       "    <tr style=\"text-align: right;\">\n",
       "      <th></th>\n",
       "      <th>dni_titular_movimiento</th>\n",
       "      <th>antig_cliente</th>\n",
       "      <th>monto_ajustado</th>\n",
       "      <th>comercio_cat=0</th>\n",
       "      <th>comercio_cat=1</th>\n",
       "      <th>comercio_cat=2</th>\n",
       "      <th>comercio_cat=3</th>\n",
       "      <th>comercio_cat=4</th>\n",
       "      <th>comercio_cat=5</th>\n",
       "      <th>comercio_cat=6</th>\n",
       "      <th>...</th>\n",
       "      <th>producto_naranja_movimiento=PL</th>\n",
       "      <th>producto_naranja_movimiento=PN</th>\n",
       "      <th>producto_naranja_movimiento=PP</th>\n",
       "      <th>producto_naranja_movimiento=TA</th>\n",
       "      <th>producto_naranja_movimiento=VI</th>\n",
       "      <th>producto_naranja_movimiento=ZE</th>\n",
       "      <th>tipo_producto_tarjeta_movimiento=0</th>\n",
       "      <th>tipo_producto_tarjeta_movimiento=3</th>\n",
       "      <th>tipo_producto_tarjeta_movimiento=4</th>\n",
       "      <th>fg_aumentado</th>\n",
       "    </tr>\n",
       "    <tr>\n",
       "      <th>anio_mes_cupon</th>\n",
       "      <th></th>\n",
       "      <th></th>\n",
       "      <th></th>\n",
       "      <th></th>\n",
       "      <th></th>\n",
       "      <th></th>\n",
       "      <th></th>\n",
       "      <th></th>\n",
       "      <th></th>\n",
       "      <th></th>\n",
       "      <th></th>\n",
       "      <th></th>\n",
       "      <th></th>\n",
       "      <th></th>\n",
       "      <th></th>\n",
       "      <th></th>\n",
       "      <th></th>\n",
       "      <th></th>\n",
       "      <th></th>\n",
       "      <th></th>\n",
       "      <th></th>\n",
       "    </tr>\n",
       "  </thead>\n",
       "  <tbody>\n",
       "    <tr>\n",
       "      <th>202007</th>\n",
       "      <td>368</td>\n",
       "      <td>368</td>\n",
       "      <td>368</td>\n",
       "      <td>368</td>\n",
       "      <td>368</td>\n",
       "      <td>368</td>\n",
       "      <td>368</td>\n",
       "      <td>368</td>\n",
       "      <td>368</td>\n",
       "      <td>368</td>\n",
       "      <td>...</td>\n",
       "      <td>368</td>\n",
       "      <td>368</td>\n",
       "      <td>368</td>\n",
       "      <td>368</td>\n",
       "      <td>368</td>\n",
       "      <td>368</td>\n",
       "      <td>368</td>\n",
       "      <td>368</td>\n",
       "      <td>368</td>\n",
       "      <td>368</td>\n",
       "    </tr>\n",
       "    <tr>\n",
       "      <th>202008</th>\n",
       "      <td>728</td>\n",
       "      <td>728</td>\n",
       "      <td>728</td>\n",
       "      <td>728</td>\n",
       "      <td>728</td>\n",
       "      <td>728</td>\n",
       "      <td>728</td>\n",
       "      <td>728</td>\n",
       "      <td>728</td>\n",
       "      <td>728</td>\n",
       "      <td>...</td>\n",
       "      <td>728</td>\n",
       "      <td>728</td>\n",
       "      <td>728</td>\n",
       "      <td>728</td>\n",
       "      <td>728</td>\n",
       "      <td>728</td>\n",
       "      <td>728</td>\n",
       "      <td>728</td>\n",
       "      <td>728</td>\n",
       "      <td>728</td>\n",
       "    </tr>\n",
       "    <tr>\n",
       "      <th>202009</th>\n",
       "      <td>725</td>\n",
       "      <td>725</td>\n",
       "      <td>725</td>\n",
       "      <td>725</td>\n",
       "      <td>725</td>\n",
       "      <td>725</td>\n",
       "      <td>725</td>\n",
       "      <td>725</td>\n",
       "      <td>725</td>\n",
       "      <td>725</td>\n",
       "      <td>...</td>\n",
       "      <td>725</td>\n",
       "      <td>725</td>\n",
       "      <td>725</td>\n",
       "      <td>725</td>\n",
       "      <td>725</td>\n",
       "      <td>725</td>\n",
       "      <td>725</td>\n",
       "      <td>725</td>\n",
       "      <td>725</td>\n",
       "      <td>725</td>\n",
       "    </tr>\n",
       "    <tr>\n",
       "      <th>202010</th>\n",
       "      <td>728</td>\n",
       "      <td>728</td>\n",
       "      <td>728</td>\n",
       "      <td>728</td>\n",
       "      <td>728</td>\n",
       "      <td>728</td>\n",
       "      <td>728</td>\n",
       "      <td>728</td>\n",
       "      <td>728</td>\n",
       "      <td>728</td>\n",
       "      <td>...</td>\n",
       "      <td>728</td>\n",
       "      <td>728</td>\n",
       "      <td>728</td>\n",
       "      <td>728</td>\n",
       "      <td>728</td>\n",
       "      <td>728</td>\n",
       "      <td>728</td>\n",
       "      <td>728</td>\n",
       "      <td>728</td>\n",
       "      <td>728</td>\n",
       "    </tr>\n",
       "    <tr>\n",
       "      <th>202011</th>\n",
       "      <td>729</td>\n",
       "      <td>729</td>\n",
       "      <td>729</td>\n",
       "      <td>729</td>\n",
       "      <td>729</td>\n",
       "      <td>729</td>\n",
       "      <td>729</td>\n",
       "      <td>729</td>\n",
       "      <td>729</td>\n",
       "      <td>729</td>\n",
       "      <td>...</td>\n",
       "      <td>729</td>\n",
       "      <td>729</td>\n",
       "      <td>729</td>\n",
       "      <td>729</td>\n",
       "      <td>729</td>\n",
       "      <td>729</td>\n",
       "      <td>729</td>\n",
       "      <td>729</td>\n",
       "      <td>729</td>\n",
       "      <td>729</td>\n",
       "    </tr>\n",
       "    <tr>\n",
       "      <th>202012</th>\n",
       "      <td>741</td>\n",
       "      <td>741</td>\n",
       "      <td>741</td>\n",
       "      <td>741</td>\n",
       "      <td>741</td>\n",
       "      <td>741</td>\n",
       "      <td>741</td>\n",
       "      <td>741</td>\n",
       "      <td>741</td>\n",
       "      <td>741</td>\n",
       "      <td>...</td>\n",
       "      <td>741</td>\n",
       "      <td>741</td>\n",
       "      <td>741</td>\n",
       "      <td>741</td>\n",
       "      <td>741</td>\n",
       "      <td>741</td>\n",
       "      <td>741</td>\n",
       "      <td>741</td>\n",
       "      <td>741</td>\n",
       "      <td>741</td>\n",
       "    </tr>\n",
       "    <tr>\n",
       "      <th>202101</th>\n",
       "      <td>769</td>\n",
       "      <td>769</td>\n",
       "      <td>769</td>\n",
       "      <td>769</td>\n",
       "      <td>769</td>\n",
       "      <td>769</td>\n",
       "      <td>769</td>\n",
       "      <td>769</td>\n",
       "      <td>769</td>\n",
       "      <td>769</td>\n",
       "      <td>...</td>\n",
       "      <td>769</td>\n",
       "      <td>769</td>\n",
       "      <td>769</td>\n",
       "      <td>769</td>\n",
       "      <td>769</td>\n",
       "      <td>769</td>\n",
       "      <td>769</td>\n",
       "      <td>769</td>\n",
       "      <td>769</td>\n",
       "      <td>769</td>\n",
       "    </tr>\n",
       "    <tr>\n",
       "      <th>202102</th>\n",
       "      <td>780</td>\n",
       "      <td>780</td>\n",
       "      <td>780</td>\n",
       "      <td>780</td>\n",
       "      <td>780</td>\n",
       "      <td>780</td>\n",
       "      <td>780</td>\n",
       "      <td>780</td>\n",
       "      <td>780</td>\n",
       "      <td>780</td>\n",
       "      <td>...</td>\n",
       "      <td>780</td>\n",
       "      <td>780</td>\n",
       "      <td>780</td>\n",
       "      <td>780</td>\n",
       "      <td>780</td>\n",
       "      <td>780</td>\n",
       "      <td>780</td>\n",
       "      <td>780</td>\n",
       "      <td>780</td>\n",
       "      <td>780</td>\n",
       "    </tr>\n",
       "    <tr>\n",
       "      <th>202103</th>\n",
       "      <td>772</td>\n",
       "      <td>772</td>\n",
       "      <td>772</td>\n",
       "      <td>772</td>\n",
       "      <td>772</td>\n",
       "      <td>772</td>\n",
       "      <td>772</td>\n",
       "      <td>772</td>\n",
       "      <td>772</td>\n",
       "      <td>772</td>\n",
       "      <td>...</td>\n",
       "      <td>772</td>\n",
       "      <td>772</td>\n",
       "      <td>772</td>\n",
       "      <td>772</td>\n",
       "      <td>772</td>\n",
       "      <td>772</td>\n",
       "      <td>772</td>\n",
       "      <td>772</td>\n",
       "      <td>772</td>\n",
       "      <td>772</td>\n",
       "    </tr>\n",
       "    <tr>\n",
       "      <th>202104</th>\n",
       "      <td>771</td>\n",
       "      <td>771</td>\n",
       "      <td>771</td>\n",
       "      <td>771</td>\n",
       "      <td>771</td>\n",
       "      <td>771</td>\n",
       "      <td>771</td>\n",
       "      <td>771</td>\n",
       "      <td>771</td>\n",
       "      <td>771</td>\n",
       "      <td>...</td>\n",
       "      <td>771</td>\n",
       "      <td>771</td>\n",
       "      <td>771</td>\n",
       "      <td>771</td>\n",
       "      <td>771</td>\n",
       "      <td>771</td>\n",
       "      <td>771</td>\n",
       "      <td>771</td>\n",
       "      <td>771</td>\n",
       "      <td>771</td>\n",
       "    </tr>\n",
       "    <tr>\n",
       "      <th>202105</th>\n",
       "      <td>402</td>\n",
       "      <td>402</td>\n",
       "      <td>402</td>\n",
       "      <td>402</td>\n",
       "      <td>402</td>\n",
       "      <td>402</td>\n",
       "      <td>402</td>\n",
       "      <td>402</td>\n",
       "      <td>402</td>\n",
       "      <td>402</td>\n",
       "      <td>...</td>\n",
       "      <td>402</td>\n",
       "      <td>402</td>\n",
       "      <td>402</td>\n",
       "      <td>402</td>\n",
       "      <td>402</td>\n",
       "      <td>402</td>\n",
       "      <td>402</td>\n",
       "      <td>402</td>\n",
       "      <td>402</td>\n",
       "      <td>402</td>\n",
       "    </tr>\n",
       "    <tr>\n",
       "      <th>202106</th>\n",
       "      <td>1</td>\n",
       "      <td>1</td>\n",
       "      <td>1</td>\n",
       "      <td>1</td>\n",
       "      <td>1</td>\n",
       "      <td>1</td>\n",
       "      <td>1</td>\n",
       "      <td>1</td>\n",
       "      <td>1</td>\n",
       "      <td>1</td>\n",
       "      <td>...</td>\n",
       "      <td>1</td>\n",
       "      <td>1</td>\n",
       "      <td>1</td>\n",
       "      <td>1</td>\n",
       "      <td>1</td>\n",
       "      <td>1</td>\n",
       "      <td>1</td>\n",
       "      <td>1</td>\n",
       "      <td>1</td>\n",
       "      <td>1</td>\n",
       "    </tr>\n",
       "  </tbody>\n",
       "</table>\n",
       "<p>12 rows × 27 columns</p>\n",
       "</div>"
      ],
      "text/plain": [
       "                dni_titular_movimiento  antig_cliente  monto_ajustado  \\\n",
       "anio_mes_cupon                                                          \n",
       "202007                             368            368             368   \n",
       "202008                             728            728             728   \n",
       "202009                             725            725             725   \n",
       "202010                             728            728             728   \n",
       "202011                             729            729             729   \n",
       "202012                             741            741             741   \n",
       "202101                             769            769             769   \n",
       "202102                             780            780             780   \n",
       "202103                             772            772             772   \n",
       "202104                             771            771             771   \n",
       "202105                             402            402             402   \n",
       "202106                               1              1               1   \n",
       "\n",
       "                comercio_cat=0  comercio_cat=1  comercio_cat=2  \\\n",
       "anio_mes_cupon                                                   \n",
       "202007                     368             368             368   \n",
       "202008                     728             728             728   \n",
       "202009                     725             725             725   \n",
       "202010                     728             728             728   \n",
       "202011                     729             729             729   \n",
       "202012                     741             741             741   \n",
       "202101                     769             769             769   \n",
       "202102                     780             780             780   \n",
       "202103                     772             772             772   \n",
       "202104                     771             771             771   \n",
       "202105                     402             402             402   \n",
       "202106                       1               1               1   \n",
       "\n",
       "                comercio_cat=3  comercio_cat=4  comercio_cat=5  \\\n",
       "anio_mes_cupon                                                   \n",
       "202007                     368             368             368   \n",
       "202008                     728             728             728   \n",
       "202009                     725             725             725   \n",
       "202010                     728             728             728   \n",
       "202011                     729             729             729   \n",
       "202012                     741             741             741   \n",
       "202101                     769             769             769   \n",
       "202102                     780             780             780   \n",
       "202103                     772             772             772   \n",
       "202104                     771             771             771   \n",
       "202105                     402             402             402   \n",
       "202106                       1               1               1   \n",
       "\n",
       "                comercio_cat=6  ...  producto_naranja_movimiento=PL  \\\n",
       "anio_mes_cupon                  ...                                   \n",
       "202007                     368  ...                             368   \n",
       "202008                     728  ...                             728   \n",
       "202009                     725  ...                             725   \n",
       "202010                     728  ...                             728   \n",
       "202011                     729  ...                             729   \n",
       "202012                     741  ...                             741   \n",
       "202101                     769  ...                             769   \n",
       "202102                     780  ...                             780   \n",
       "202103                     772  ...                             772   \n",
       "202104                     771  ...                             771   \n",
       "202105                     402  ...                             402   \n",
       "202106                       1  ...                               1   \n",
       "\n",
       "                producto_naranja_movimiento=PN  \\\n",
       "anio_mes_cupon                                   \n",
       "202007                                     368   \n",
       "202008                                     728   \n",
       "202009                                     725   \n",
       "202010                                     728   \n",
       "202011                                     729   \n",
       "202012                                     741   \n",
       "202101                                     769   \n",
       "202102                                     780   \n",
       "202103                                     772   \n",
       "202104                                     771   \n",
       "202105                                     402   \n",
       "202106                                       1   \n",
       "\n",
       "                producto_naranja_movimiento=PP  \\\n",
       "anio_mes_cupon                                   \n",
       "202007                                     368   \n",
       "202008                                     728   \n",
       "202009                                     725   \n",
       "202010                                     728   \n",
       "202011                                     729   \n",
       "202012                                     741   \n",
       "202101                                     769   \n",
       "202102                                     780   \n",
       "202103                                     772   \n",
       "202104                                     771   \n",
       "202105                                     402   \n",
       "202106                                       1   \n",
       "\n",
       "                producto_naranja_movimiento=TA  \\\n",
       "anio_mes_cupon                                   \n",
       "202007                                     368   \n",
       "202008                                     728   \n",
       "202009                                     725   \n",
       "202010                                     728   \n",
       "202011                                     729   \n",
       "202012                                     741   \n",
       "202101                                     769   \n",
       "202102                                     780   \n",
       "202103                                     772   \n",
       "202104                                     771   \n",
       "202105                                     402   \n",
       "202106                                       1   \n",
       "\n",
       "                producto_naranja_movimiento=VI  \\\n",
       "anio_mes_cupon                                   \n",
       "202007                                     368   \n",
       "202008                                     728   \n",
       "202009                                     725   \n",
       "202010                                     728   \n",
       "202011                                     729   \n",
       "202012                                     741   \n",
       "202101                                     769   \n",
       "202102                                     780   \n",
       "202103                                     772   \n",
       "202104                                     771   \n",
       "202105                                     402   \n",
       "202106                                       1   \n",
       "\n",
       "                producto_naranja_movimiento=ZE  \\\n",
       "anio_mes_cupon                                   \n",
       "202007                                     368   \n",
       "202008                                     728   \n",
       "202009                                     725   \n",
       "202010                                     728   \n",
       "202011                                     729   \n",
       "202012                                     741   \n",
       "202101                                     769   \n",
       "202102                                     780   \n",
       "202103                                     772   \n",
       "202104                                     771   \n",
       "202105                                     402   \n",
       "202106                                       1   \n",
       "\n",
       "                tipo_producto_tarjeta_movimiento=0  \\\n",
       "anio_mes_cupon                                       \n",
       "202007                                         368   \n",
       "202008                                         728   \n",
       "202009                                         725   \n",
       "202010                                         728   \n",
       "202011                                         729   \n",
       "202012                                         741   \n",
       "202101                                         769   \n",
       "202102                                         780   \n",
       "202103                                         772   \n",
       "202104                                         771   \n",
       "202105                                         402   \n",
       "202106                                           1   \n",
       "\n",
       "                tipo_producto_tarjeta_movimiento=3  \\\n",
       "anio_mes_cupon                                       \n",
       "202007                                         368   \n",
       "202008                                         728   \n",
       "202009                                         725   \n",
       "202010                                         728   \n",
       "202011                                         729   \n",
       "202012                                         741   \n",
       "202101                                         769   \n",
       "202102                                         780   \n",
       "202103                                         772   \n",
       "202104                                         771   \n",
       "202105                                         402   \n",
       "202106                                           1   \n",
       "\n",
       "                tipo_producto_tarjeta_movimiento=4  fg_aumentado  \n",
       "anio_mes_cupon                                                    \n",
       "202007                                         368           368  \n",
       "202008                                         728           728  \n",
       "202009                                         725           725  \n",
       "202010                                         728           728  \n",
       "202011                                         729           729  \n",
       "202012                                         741           741  \n",
       "202101                                         769           769  \n",
       "202102                                         780           780  \n",
       "202103                                         772           772  \n",
       "202104                                         771           771  \n",
       "202105                                         402           402  \n",
       "202106                                           1             1  \n",
       "\n",
       "[12 rows x 27 columns]"
      ]
     },
     "execution_count": 20,
     "metadata": {},
     "output_type": "execute_result"
    }
   ],
   "source": [
    "df_obj.groupby(['anio_mes_cupon']).count()"
   ]
  },
  {
   "cell_type": "code",
   "execution_count": 21,
   "id": "3907cb8a-fae2-4347-bd2e-37a2620d8905",
   "metadata": {},
   "outputs": [],
   "source": [
    "X = df_obj[df_obj['anio_mes_cupon'] < 202105]"
   ]
  },
  {
   "cell_type": "code",
   "execution_count": 22,
   "id": "d89b40bf-bc9d-4977-80ed-fb00a76bb516",
   "metadata": {},
   "outputs": [],
   "source": [
    "X_r = X.drop(['monto_ajustado'], axis=1)\n",
    "X_c = X.drop(['fg_aumentado', 'monto_ajustado'], axis=1)"
   ]
  },
  {
   "cell_type": "code",
   "execution_count": 23,
   "id": "5aa7e8ba-4a81-49c5-9b5d-d60a0666d37a",
   "metadata": {
    "tags": []
   },
   "outputs": [],
   "source": [
    "# El conjunto de test se toma usando los datos de los ultimos 2 meses. \n",
    "X_test_r = X_r[X_r['anio_mes_cupon'] >= X_r['anio_mes_cupon'].max()]\n",
    "X_train_val_r = X_r[X_r['anio_mes_cupon'] < X_r['anio_mes_cupon'].max()]\n",
    "X_test_c = X_c[X_c['anio_mes_cupon'] >= X_c['anio_mes_cupon'].max()]\n",
    "X_train_val_c = X_c[X_c['anio_mes_cupon'] < X_c['anio_mes_cupon'].max()]\n",
    "\n",
    "y_reg_test = X[X['anio_mes_cupon'] >= X['anio_mes_cupon'].max()]['monto_ajustado']\n",
    "y_reg_train = X[X['anio_mes_cupon'] < X['anio_mes_cupon'].max()]['monto_ajustado']\n",
    "\n",
    "y_cla_test = X[X['anio_mes_cupon'] >= X['anio_mes_cupon'].max()]['fg_aumentado']\n",
    "y_cla_train = X[X['anio_mes_cupon'] < X['anio_mes_cupon'].max()]['fg_aumentado']\n",
    "\n",
    "X_train_r, X_val_r, y_train_r, y_val_r = train_test_split(X_train_val_r, y_reg_train, test_size=0.3, random_state=0, shuffle=False)\n",
    "X_train_c, X_val_c, y_train_c, y_val_c = train_test_split(X_train_val_c, y_cla_train, test_size=0.3, random_state=0, shuffle=False)"
   ]
  },
  {
   "cell_type": "code",
   "execution_count": 24,
   "id": "e3165cc9-c129-43a9-afc9-a77aeab440a6",
   "metadata": {},
   "outputs": [
    {
     "name": "stdout",
     "output_type": "stream",
     "text": [
      "Dimensión de conjunto de entrenamiento para regresión: ((4438, 27), (4438,))\n",
      "Dimensión de conjunto de validación para regresión: ((1902, 27), (1902,))\n",
      "Dimensión de conjunto de test para regresión: ((771, 27), (771,))\n"
     ]
    }
   ],
   "source": [
    "print(\"Dimensión de conjunto de entrenamiento para regresión:\",(X_train_r.shape, y_train_r.shape))\n",
    "print(\"Dimensión de conjunto de validación para regresión:\",(X_val_r.shape, y_val_r.shape))\n",
    "print(\"Dimensión de conjunto de test para regresión:\",(X_test_r.shape, y_reg_test.shape))"
   ]
  },
  {
   "cell_type": "code",
   "execution_count": 25,
   "id": "c51f9685-3fe6-4408-be47-a97085832d91",
   "metadata": {},
   "outputs": [
    {
     "name": "stdout",
     "output_type": "stream",
     "text": [
      "Dimensión de conjunto de entrenamiento para clasificación: ((4438, 26), (4438,))\n",
      "Dimensión de conjunto de validación para clasificación: ((1902, 26), (1902,))\n",
      "Dimensión de conjunto de test para clasificación: ((771, 26), (771,))\n"
     ]
    }
   ],
   "source": [
    "print(\"Dimensión de conjunto de entrenamiento para clasificación:\",(X_train_c.shape, y_train_c.shape))\n",
    "print(\"Dimensión de conjunto de validación para clasificación:\",(X_val_c.shape, y_val_c.shape))\n",
    "print(\"Dimensión de conjunto de test para clasificación:\",(X_test_c.shape, y_cla_test.shape))"
   ]
  },
  {
   "cell_type": "code",
   "execution_count": 26,
   "id": "f805fa0b-74dd-404c-a8b1-b8f78203eca8",
   "metadata": {},
   "outputs": [
    {
     "data": {
      "text/plain": [
       "comercio_cat=0                        1024788.0\n",
       "comercio_cat=1                         482005.0\n",
       "comercio_cat=2                          88349.0\n",
       "comercio_cat=3                          60409.0\n",
       "comercio_cat=4                           4513.0\n",
       "comercio_cat=5                         256571.0\n",
       "comercio_cat=6                          36033.0\n",
       "comercio_cat=7                           9798.0\n",
       "comercio_cat=8                          16428.0\n",
       "comercio_cat=9                         381645.0\n",
       "producto_naranja_movimiento=AX            207.0\n",
       "producto_naranja_movimiento=EX           3657.0\n",
       "producto_naranja_movimiento=MC           7659.0\n",
       "producto_naranja_movimiento=PC          41550.0\n",
       "producto_naranja_movimiento=PL        1850170.0\n",
       "producto_naranja_movimiento=PN           4623.0\n",
       "producto_naranja_movimiento=PP           1620.0\n",
       "producto_naranja_movimiento=TA            207.0\n",
       "producto_naranja_movimiento=VI         358524.0\n",
       "producto_naranja_movimiento=ZE          92322.0\n",
       "tipo_producto_tarjeta_movimiento=0     808465.0\n",
       "tipo_producto_tarjeta_movimiento=3    1112350.0\n",
       "tipo_producto_tarjeta_movimiento=4       6279.0\n",
       "fg_aumentado                             1626.0\n",
       "dtype: float64"
      ]
     },
     "execution_count": 26,
     "metadata": {},
     "output_type": "execute_result"
    }
   ],
   "source": [
    "X_train_r.iloc[:,3:].sum()"
   ]
  },
  {
   "cell_type": "code",
   "execution_count": 27,
   "id": "35d5bde7-9f05-47bc-b3e4-ea7b653e9b99",
   "metadata": {},
   "outputs": [
    {
     "data": {
      "text/plain": [
       "comercio_cat=0                        438975.0\n",
       "comercio_cat=1                        232926.0\n",
       "comercio_cat=2                         36572.0\n",
       "comercio_cat=3                         14015.0\n",
       "comercio_cat=4                          1035.0\n",
       "comercio_cat=5                        103644.0\n",
       "comercio_cat=6                         16034.0\n",
       "comercio_cat=7                           138.0\n",
       "comercio_cat=8                          5175.0\n",
       "comercio_cat=9                        159497.0\n",
       "producto_naranja_movimiento=AX             0.0\n",
       "producto_naranja_movimiento=EX             0.0\n",
       "producto_naranja_movimiento=MC          3036.0\n",
       "producto_naranja_movimiento=PC         19641.0\n",
       "producto_naranja_movimiento=PL        800828.0\n",
       "producto_naranja_movimiento=PN          2139.0\n",
       "producto_naranja_movimiento=PP           759.0\n",
       "producto_naranja_movimiento=TA             0.0\n",
       "producto_naranja_movimiento=VI        142140.0\n",
       "producto_naranja_movimiento=ZE         39468.0\n",
       "tipo_producto_tarjeta_movimiento=0    348097.0\n",
       "tipo_producto_tarjeta_movimiento=3    486237.0\n",
       "tipo_producto_tarjeta_movimiento=4      1173.0\n",
       "fg_aumentado                             724.0\n",
       "dtype: float64"
      ]
     },
     "execution_count": 27,
     "metadata": {},
     "output_type": "execute_result"
    }
   ],
   "source": [
    "X_val_r.iloc[:,3:].sum()"
   ]
  },
  {
   "cell_type": "code",
   "execution_count": 28,
   "id": "6cceb4ca-556e-4f19-96ae-994bac3adc8e",
   "metadata": {},
   "outputs": [
    {
     "data": {
      "text/plain": [
       "comercio_cat=0                        178543.0\n",
       "comercio_cat=1                         74894.0\n",
       "comercio_cat=2                         12620.0\n",
       "comercio_cat=3                          6579.0\n",
       "comercio_cat=4                           207.0\n",
       "comercio_cat=5                         36234.0\n",
       "comercio_cat=6                          4784.0\n",
       "comercio_cat=7                          1794.0\n",
       "comercio_cat=8                          2588.0\n",
       "comercio_cat=9                         47635.0\n",
       "producto_naranja_movimiento=AX             0.0\n",
       "producto_naranja_movimiento=EX           483.0\n",
       "producto_naranja_movimiento=MC           966.0\n",
       "producto_naranja_movimiento=PC          7554.0\n",
       "producto_naranja_movimiento=PL        295327.0\n",
       "producto_naranja_movimiento=PN           552.0\n",
       "producto_naranja_movimiento=PP           414.0\n",
       "producto_naranja_movimiento=TA             0.0\n",
       "producto_naranja_movimiento=VI         44436.0\n",
       "producto_naranja_movimiento=ZE         16146.0\n",
       "tipo_producto_tarjeta_movimiento=0    143624.0\n",
       "tipo_producto_tarjeta_movimiento=3    167844.0\n",
       "tipo_producto_tarjeta_movimiento=4         0.0\n",
       "fg_aumentado                             211.0\n",
       "dtype: float64"
      ]
     },
     "execution_count": 28,
     "metadata": {},
     "output_type": "execute_result"
    }
   ],
   "source": [
    "X_test_r.iloc[:,3:].sum()"
   ]
  },
  {
   "cell_type": "code",
   "execution_count": 29,
   "id": "cb6c6a71-4954-4a00-ba7d-4282cc408442",
   "metadata": {},
   "outputs": [
    {
     "data": {
      "text/html": [
       "<div>\n",
       "<style scoped>\n",
       "    .dataframe tbody tr th:only-of-type {\n",
       "        vertical-align: middle;\n",
       "    }\n",
       "\n",
       "    .dataframe tbody tr th {\n",
       "        vertical-align: top;\n",
       "    }\n",
       "\n",
       "    .dataframe thead th {\n",
       "        text-align: right;\n",
       "    }\n",
       "</style>\n",
       "<table border=\"1\" class=\"dataframe\">\n",
       "  <thead>\n",
       "    <tr style=\"text-align: right;\">\n",
       "      <th></th>\n",
       "      <th>dni_titular_movimiento</th>\n",
       "      <th>anio_mes_cupon</th>\n",
       "      <th>antig_cliente</th>\n",
       "      <th>comercio_cat=0</th>\n",
       "      <th>comercio_cat=1</th>\n",
       "      <th>comercio_cat=2</th>\n",
       "      <th>comercio_cat=3</th>\n",
       "      <th>comercio_cat=4</th>\n",
       "      <th>comercio_cat=5</th>\n",
       "      <th>comercio_cat=6</th>\n",
       "      <th>...</th>\n",
       "      <th>producto_naranja_movimiento=PL</th>\n",
       "      <th>producto_naranja_movimiento=PN</th>\n",
       "      <th>producto_naranja_movimiento=PP</th>\n",
       "      <th>producto_naranja_movimiento=TA</th>\n",
       "      <th>producto_naranja_movimiento=VI</th>\n",
       "      <th>producto_naranja_movimiento=ZE</th>\n",
       "      <th>tipo_producto_tarjeta_movimiento=0</th>\n",
       "      <th>tipo_producto_tarjeta_movimiento=3</th>\n",
       "      <th>tipo_producto_tarjeta_movimiento=4</th>\n",
       "      <th>fg_aumentado</th>\n",
       "    </tr>\n",
       "  </thead>\n",
       "  <tbody>\n",
       "    <tr>\n",
       "      <th>8</th>\n",
       "      <td>000000b5aea2c9ea7cc155f6ebcef97f826</td>\n",
       "      <td>202104</td>\n",
       "      <td>233</td>\n",
       "      <td>69.0</td>\n",
       "      <td>0.0</td>\n",
       "      <td>0.0</td>\n",
       "      <td>0.0</td>\n",
       "      <td>0.0</td>\n",
       "      <td>0.0</td>\n",
       "      <td>0.0</td>\n",
       "      <td>...</td>\n",
       "      <td>69.0</td>\n",
       "      <td>0.0</td>\n",
       "      <td>0.0</td>\n",
       "      <td>0.0</td>\n",
       "      <td>0.0</td>\n",
       "      <td>0.0</td>\n",
       "      <td>69.0</td>\n",
       "      <td>0.0</td>\n",
       "      <td>0.0</td>\n",
       "      <td>0</td>\n",
       "    </tr>\n",
       "    <tr>\n",
       "      <th>19</th>\n",
       "      <td>00000b8415f19846d12e852ebd0d52ec432</td>\n",
       "      <td>202104</td>\n",
       "      <td>114</td>\n",
       "      <td>207.0</td>\n",
       "      <td>69.0</td>\n",
       "      <td>0.0</td>\n",
       "      <td>0.0</td>\n",
       "      <td>0.0</td>\n",
       "      <td>138.0</td>\n",
       "      <td>0.0</td>\n",
       "      <td>...</td>\n",
       "      <td>345.0</td>\n",
       "      <td>0.0</td>\n",
       "      <td>0.0</td>\n",
       "      <td>0.0</td>\n",
       "      <td>69.0</td>\n",
       "      <td>69.0</td>\n",
       "      <td>138.0</td>\n",
       "      <td>276.0</td>\n",
       "      <td>0.0</td>\n",
       "      <td>0</td>\n",
       "    </tr>\n",
       "    <tr>\n",
       "      <th>29</th>\n",
       "      <td>00000d109ca5a0c6b3e76295f0292c38189</td>\n",
       "      <td>202104</td>\n",
       "      <td>76</td>\n",
       "      <td>69.0</td>\n",
       "      <td>0.0</td>\n",
       "      <td>0.0</td>\n",
       "      <td>0.0</td>\n",
       "      <td>0.0</td>\n",
       "      <td>0.0</td>\n",
       "      <td>0.0</td>\n",
       "      <td>...</td>\n",
       "      <td>69.0</td>\n",
       "      <td>0.0</td>\n",
       "      <td>0.0</td>\n",
       "      <td>0.0</td>\n",
       "      <td>0.0</td>\n",
       "      <td>0.0</td>\n",
       "      <td>69.0</td>\n",
       "      <td>0.0</td>\n",
       "      <td>0.0</td>\n",
       "      <td>0</td>\n",
       "    </tr>\n",
       "    <tr>\n",
       "      <th>40</th>\n",
       "      <td>000017309738c042c2ec144d5d3d3632673</td>\n",
       "      <td>202104</td>\n",
       "      <td>63</td>\n",
       "      <td>138.0</td>\n",
       "      <td>0.0</td>\n",
       "      <td>0.0</td>\n",
       "      <td>69.0</td>\n",
       "      <td>0.0</td>\n",
       "      <td>0.0</td>\n",
       "      <td>0.0</td>\n",
       "      <td>...</td>\n",
       "      <td>207.0</td>\n",
       "      <td>0.0</td>\n",
       "      <td>0.0</td>\n",
       "      <td>0.0</td>\n",
       "      <td>138.0</td>\n",
       "      <td>0.0</td>\n",
       "      <td>138.0</td>\n",
       "      <td>69.0</td>\n",
       "      <td>0.0</td>\n",
       "      <td>1</td>\n",
       "    </tr>\n",
       "    <tr>\n",
       "      <th>50</th>\n",
       "      <td>00001b02afa8956b08af05c339039882046</td>\n",
       "      <td>202104</td>\n",
       "      <td>110</td>\n",
       "      <td>207.0</td>\n",
       "      <td>138.0</td>\n",
       "      <td>138.0</td>\n",
       "      <td>0.0</td>\n",
       "      <td>0.0</td>\n",
       "      <td>138.0</td>\n",
       "      <td>0.0</td>\n",
       "      <td>...</td>\n",
       "      <td>621.0</td>\n",
       "      <td>0.0</td>\n",
       "      <td>0.0</td>\n",
       "      <td>0.0</td>\n",
       "      <td>0.0</td>\n",
       "      <td>0.0</td>\n",
       "      <td>621.0</td>\n",
       "      <td>0.0</td>\n",
       "      <td>0.0</td>\n",
       "      <td>0</td>\n",
       "    </tr>\n",
       "    <tr>\n",
       "      <th>...</th>\n",
       "      <td>...</td>\n",
       "      <td>...</td>\n",
       "      <td>...</td>\n",
       "      <td>...</td>\n",
       "      <td>...</td>\n",
       "      <td>...</td>\n",
       "      <td>...</td>\n",
       "      <td>...</td>\n",
       "      <td>...</td>\n",
       "      <td>...</td>\n",
       "      <td>...</td>\n",
       "      <td>...</td>\n",
       "      <td>...</td>\n",
       "      <td>...</td>\n",
       "      <td>...</td>\n",
       "      <td>...</td>\n",
       "      <td>...</td>\n",
       "      <td>...</td>\n",
       "      <td>...</td>\n",
       "      <td>...</td>\n",
       "      <td>...</td>\n",
       "    </tr>\n",
       "    <tr>\n",
       "      <th>7473</th>\n",
       "      <td>000ef071e95351afc1149fa1afe4862a079</td>\n",
       "      <td>202104</td>\n",
       "      <td>66</td>\n",
       "      <td>414.0</td>\n",
       "      <td>69.0</td>\n",
       "      <td>0.0</td>\n",
       "      <td>0.0</td>\n",
       "      <td>0.0</td>\n",
       "      <td>0.0</td>\n",
       "      <td>0.0</td>\n",
       "      <td>...</td>\n",
       "      <td>483.0</td>\n",
       "      <td>0.0</td>\n",
       "      <td>0.0</td>\n",
       "      <td>0.0</td>\n",
       "      <td>0.0</td>\n",
       "      <td>0.0</td>\n",
       "      <td>414.0</td>\n",
       "      <td>69.0</td>\n",
       "      <td>0.0</td>\n",
       "      <td>0</td>\n",
       "    </tr>\n",
       "    <tr>\n",
       "      <th>7483</th>\n",
       "      <td>000ef0bc6859b57ec9cc7db583dd73ca697</td>\n",
       "      <td>202104</td>\n",
       "      <td>42</td>\n",
       "      <td>345.0</td>\n",
       "      <td>0.0</td>\n",
       "      <td>0.0</td>\n",
       "      <td>0.0</td>\n",
       "      <td>0.0</td>\n",
       "      <td>0.0</td>\n",
       "      <td>0.0</td>\n",
       "      <td>...</td>\n",
       "      <td>414.0</td>\n",
       "      <td>0.0</td>\n",
       "      <td>0.0</td>\n",
       "      <td>0.0</td>\n",
       "      <td>0.0</td>\n",
       "      <td>69.0</td>\n",
       "      <td>276.0</td>\n",
       "      <td>207.0</td>\n",
       "      <td>0.0</td>\n",
       "      <td>0</td>\n",
       "    </tr>\n",
       "    <tr>\n",
       "      <th>7493</th>\n",
       "      <td>000ef64a5f2323a3979805450f2e890c495</td>\n",
       "      <td>202104</td>\n",
       "      <td>138</td>\n",
       "      <td>138.0</td>\n",
       "      <td>276.0</td>\n",
       "      <td>0.0</td>\n",
       "      <td>0.0</td>\n",
       "      <td>0.0</td>\n",
       "      <td>69.0</td>\n",
       "      <td>0.0</td>\n",
       "      <td>...</td>\n",
       "      <td>483.0</td>\n",
       "      <td>0.0</td>\n",
       "      <td>0.0</td>\n",
       "      <td>0.0</td>\n",
       "      <td>0.0</td>\n",
       "      <td>0.0</td>\n",
       "      <td>138.0</td>\n",
       "      <td>345.0</td>\n",
       "      <td>0.0</td>\n",
       "      <td>0</td>\n",
       "    </tr>\n",
       "    <tr>\n",
       "      <th>7502</th>\n",
       "      <td>000eff02871f717d5c860eae9e0347a5523</td>\n",
       "      <td>202104</td>\n",
       "      <td>48</td>\n",
       "      <td>433.0</td>\n",
       "      <td>0.0</td>\n",
       "      <td>69.0</td>\n",
       "      <td>0.0</td>\n",
       "      <td>0.0</td>\n",
       "      <td>69.0</td>\n",
       "      <td>0.0</td>\n",
       "      <td>...</td>\n",
       "      <td>502.0</td>\n",
       "      <td>0.0</td>\n",
       "      <td>0.0</td>\n",
       "      <td>0.0</td>\n",
       "      <td>138.0</td>\n",
       "      <td>69.0</td>\n",
       "      <td>138.0</td>\n",
       "      <td>207.0</td>\n",
       "      <td>0.0</td>\n",
       "      <td>1</td>\n",
       "    </tr>\n",
       "    <tr>\n",
       "      <th>7512</th>\n",
       "      <td>000f0b73ebfa002a79a0642b82e87919904</td>\n",
       "      <td>202104</td>\n",
       "      <td>24</td>\n",
       "      <td>276.0</td>\n",
       "      <td>0.0</td>\n",
       "      <td>138.0</td>\n",
       "      <td>0.0</td>\n",
       "      <td>0.0</td>\n",
       "      <td>0.0</td>\n",
       "      <td>0.0</td>\n",
       "      <td>...</td>\n",
       "      <td>345.0</td>\n",
       "      <td>0.0</td>\n",
       "      <td>0.0</td>\n",
       "      <td>0.0</td>\n",
       "      <td>0.0</td>\n",
       "      <td>69.0</td>\n",
       "      <td>138.0</td>\n",
       "      <td>276.0</td>\n",
       "      <td>0.0</td>\n",
       "      <td>1</td>\n",
       "    </tr>\n",
       "  </tbody>\n",
       "</table>\n",
       "<p>771 rows × 27 columns</p>\n",
       "</div>"
      ],
      "text/plain": [
       "                   dni_titular_movimiento  anio_mes_cupon  antig_cliente  \\\n",
       "8     000000b5aea2c9ea7cc155f6ebcef97f826          202104            233   \n",
       "19    00000b8415f19846d12e852ebd0d52ec432          202104            114   \n",
       "29    00000d109ca5a0c6b3e76295f0292c38189          202104             76   \n",
       "40    000017309738c042c2ec144d5d3d3632673          202104             63   \n",
       "50    00001b02afa8956b08af05c339039882046          202104            110   \n",
       "...                                   ...             ...            ...   \n",
       "7473  000ef071e95351afc1149fa1afe4862a079          202104             66   \n",
       "7483  000ef0bc6859b57ec9cc7db583dd73ca697          202104             42   \n",
       "7493  000ef64a5f2323a3979805450f2e890c495          202104            138   \n",
       "7502  000eff02871f717d5c860eae9e0347a5523          202104             48   \n",
       "7512  000f0b73ebfa002a79a0642b82e87919904          202104             24   \n",
       "\n",
       "      comercio_cat=0  comercio_cat=1  comercio_cat=2  comercio_cat=3  \\\n",
       "8               69.0             0.0             0.0             0.0   \n",
       "19             207.0            69.0             0.0             0.0   \n",
       "29              69.0             0.0             0.0             0.0   \n",
       "40             138.0             0.0             0.0            69.0   \n",
       "50             207.0           138.0           138.0             0.0   \n",
       "...              ...             ...             ...             ...   \n",
       "7473           414.0            69.0             0.0             0.0   \n",
       "7483           345.0             0.0             0.0             0.0   \n",
       "7493           138.0           276.0             0.0             0.0   \n",
       "7502           433.0             0.0            69.0             0.0   \n",
       "7512           276.0             0.0           138.0             0.0   \n",
       "\n",
       "      comercio_cat=4  comercio_cat=5  comercio_cat=6  ...  \\\n",
       "8                0.0             0.0             0.0  ...   \n",
       "19               0.0           138.0             0.0  ...   \n",
       "29               0.0             0.0             0.0  ...   \n",
       "40               0.0             0.0             0.0  ...   \n",
       "50               0.0           138.0             0.0  ...   \n",
       "...              ...             ...             ...  ...   \n",
       "7473             0.0             0.0             0.0  ...   \n",
       "7483             0.0             0.0             0.0  ...   \n",
       "7493             0.0            69.0             0.0  ...   \n",
       "7502             0.0            69.0             0.0  ...   \n",
       "7512             0.0             0.0             0.0  ...   \n",
       "\n",
       "      producto_naranja_movimiento=PL  producto_naranja_movimiento=PN  \\\n",
       "8                               69.0                             0.0   \n",
       "19                             345.0                             0.0   \n",
       "29                              69.0                             0.0   \n",
       "40                             207.0                             0.0   \n",
       "50                             621.0                             0.0   \n",
       "...                              ...                             ...   \n",
       "7473                           483.0                             0.0   \n",
       "7483                           414.0                             0.0   \n",
       "7493                           483.0                             0.0   \n",
       "7502                           502.0                             0.0   \n",
       "7512                           345.0                             0.0   \n",
       "\n",
       "      producto_naranja_movimiento=PP  producto_naranja_movimiento=TA  \\\n",
       "8                                0.0                             0.0   \n",
       "19                               0.0                             0.0   \n",
       "29                               0.0                             0.0   \n",
       "40                               0.0                             0.0   \n",
       "50                               0.0                             0.0   \n",
       "...                              ...                             ...   \n",
       "7473                             0.0                             0.0   \n",
       "7483                             0.0                             0.0   \n",
       "7493                             0.0                             0.0   \n",
       "7502                             0.0                             0.0   \n",
       "7512                             0.0                             0.0   \n",
       "\n",
       "      producto_naranja_movimiento=VI  producto_naranja_movimiento=ZE  \\\n",
       "8                                0.0                             0.0   \n",
       "19                              69.0                            69.0   \n",
       "29                               0.0                             0.0   \n",
       "40                             138.0                             0.0   \n",
       "50                               0.0                             0.0   \n",
       "...                              ...                             ...   \n",
       "7473                             0.0                             0.0   \n",
       "7483                             0.0                            69.0   \n",
       "7493                             0.0                             0.0   \n",
       "7502                           138.0                            69.0   \n",
       "7512                             0.0                            69.0   \n",
       "\n",
       "      tipo_producto_tarjeta_movimiento=0  tipo_producto_tarjeta_movimiento=3  \\\n",
       "8                                   69.0                                 0.0   \n",
       "19                                 138.0                               276.0   \n",
       "29                                  69.0                                 0.0   \n",
       "40                                 138.0                                69.0   \n",
       "50                                 621.0                                 0.0   \n",
       "...                                  ...                                 ...   \n",
       "7473                               414.0                                69.0   \n",
       "7483                               276.0                               207.0   \n",
       "7493                               138.0                               345.0   \n",
       "7502                               138.0                               207.0   \n",
       "7512                               138.0                               276.0   \n",
       "\n",
       "      tipo_producto_tarjeta_movimiento=4  fg_aumentado  \n",
       "8                                    0.0             0  \n",
       "19                                   0.0             0  \n",
       "29                                   0.0             0  \n",
       "40                                   0.0             1  \n",
       "50                                   0.0             0  \n",
       "...                                  ...           ...  \n",
       "7473                                 0.0             0  \n",
       "7483                                 0.0             0  \n",
       "7493                                 0.0             0  \n",
       "7502                                 0.0             1  \n",
       "7512                                 0.0             1  \n",
       "\n",
       "[771 rows x 27 columns]"
      ]
     },
     "execution_count": 29,
     "metadata": {},
     "output_type": "execute_result"
    }
   ],
   "source": [
    "X_test_r"
   ]
  },
  {
   "cell_type": "markdown",
   "id": "4ed94e4e-595a-4699-b3fb-36d4db8462d4",
   "metadata": {
    "tags": []
   },
   "source": [
    "## 3. Modelos de regresión "
   ]
  },
  {
   "cell_type": "markdown",
   "id": "15210381-3ad0-4f9e-b807-6e13e79d04ab",
   "metadata": {
    "tags": []
   },
   "source": [
    "### 3.1 Regresión polinominal con la variable antigüedad"
   ]
  },
  {
   "cell_type": "markdown",
   "id": "00ad7d84-a094-4ede-83cb-a3b13b081f30",
   "metadata": {
    "tags": []
   },
   "source": [
    "#### Sin vector de Bias"
   ]
  },
  {
   "cell_type": "markdown",
   "id": "41b8e212-842b-4f4c-8620-ca9b8e155390",
   "metadata": {},
   "source": [
    "En primer lugar, visualizamos que relación existe entre la variable target monto_ajustado y antigüedad."
   ]
  },
  {
   "cell_type": "code",
   "execution_count": 30,
   "id": "b5fb1575-26f4-4e3a-af8c-2e011fb788e0",
   "metadata": {
    "collapsed": true,
    "jupyter": {
     "outputs_hidden": true
    },
    "tags": []
   },
   "outputs": [
    {
     "data": {
      "text/plain": [
       "<AxesSubplot:xlabel='antig_cliente', ylabel='monto_ajustado'>"
      ]
     },
     "execution_count": 30,
     "metadata": {},
     "output_type": "execute_result"
    },
    {
     "data": {
      "image/png": "[encoded data removed]",
      "text/plain": [
       "<Figure size 720x432 with 1 Axes>"
      ]
     },
     "metadata": {
      "needs_background": "light"
     },
     "output_type": "display_data"
    }
   ],
   "source": [
    "plt.figure(figsize=(10,6))\n",
    "sns.scatterplot(data=df_obj, x='antig_cliente', y='monto_ajustado', palette=\"pastel\")"
   ]
  },
  {
   "cell_type": "markdown",
   "id": "3abf4b31-2388-4cec-b0dd-fee18e016175",
   "metadata": {},
   "source": [
    "Observamos que estas variables no tienen una relación concluyente. De igual forma, procedemos a instanciar un modelo de regresión polinomial para las mismas."
   ]
  },
  {
   "cell_type": "code",
   "execution_count": 31,
   "id": "a67bf340-f6a5-42f6-9ab0-7166c1e11105",
   "metadata": {},
   "outputs": [
    {
     "data": {
      "text/plain": [
       "((4438, 1), (1902, 1))"
      ]
     },
     "execution_count": 31,
     "metadata": {},
     "output_type": "execute_result"
    }
   ],
   "source": [
    "# Selección del feature antigüedad\n",
    "X_train_antig = (X_train_r.loc[:, 'antig_cliente'].values.reshape(-1,1))\n",
    "X_val_antig = (X_val_r.loc[:, 'antig_cliente'].values.reshape(-1,1))\n",
    "X_train_antig.shape, X_val_antig.shape"
   ]
  },
  {
   "cell_type": "code",
   "execution_count": 32,
   "id": "9a83477d-8863-42fc-9e54-3aefed2f4d7a",
   "metadata": {
    "collapsed": true,
    "jupyter": {
     "outputs_hidden": true
    },
    "tags": []
   },
   "outputs": [
    {
     "name": "stdout",
     "output_type": "stream",
     "text": [
      "Grado 0: Train error 1089723320495.752,Valid error 1203506287597.062\n",
      "Grado 1: Train error 1069238382861.971,Valid error 1186431826148.888\n",
      "Grado 2: Train error 1069146302542.211,Valid error 1187892018296.054\n",
      "Grado 3: Train error 1065849225297.144,Valid error 1199012492268.136\n",
      "Grado 4: Train error 1065797000007.102,Valid error 1199007614118.519\n",
      "Grado 5: Train error 1065473169794.981,Valid error 1195311670405.388\n",
      "Grado 6: Train error 1062511009591.07,Valid error 1189395675524.402\n",
      "Grado 7: Train error 1118918399487.574,Valid error 1231205289686.93\n",
      "Grado 8: Train error 1167683155865.012,Valid error 1288601392385.453\n",
      "Grado 9: Train error 1213016997237.485,Valid error 1355758021567.03\n",
      "Grado 10: Train error 1303934933953.326,Valid error 1477528625168.119\n",
      "Grado 11: Train error 1345604325399.96,Valid error 1513154853950.478\n",
      "Grado 12: Train error 1385233991278.136,Valid error 1539476267115.792\n"
     ]
    }
   ],
   "source": [
    "train_errors = []\n",
    "valid_errors = []\n",
    "degrees = [0,1,2,3,4,5,6,7,8,9,10,11,12]\n",
    "for degree in degrees:\n",
    "    # train:\n",
    "    pf = PolynomialFeatures(degree)\n",
    "    lr = LinearRegression(fit_intercept=False)\n",
    "    model = make_pipeline(pf, lr)\n",
    "    model.fit(X_train_antig, y_train_r)\n",
    "    \n",
    "    # predict:\n",
    "    y_train_pred = model.predict(X_train_antig)\n",
    "    y_valid_pred = model.predict(X_val_antig)\n",
    "    \n",
    "    train_error = mean_squared_error(y_train_r, y_train_pred)\n",
    "    valid_error = mean_squared_error(y_val_r, y_valid_pred)\n",
    "    train_errors.append(train_error)\n",
    "    valid_errors.append(valid_error)\n",
    "    print(f'Grado {degree}: Train error {train_error.round(3)},Valid error {valid_error.round(3)}') "
   ]
  },
  {
   "cell_type": "code",
   "execution_count": 33,
   "id": "b607a4ab-5937-497b-9d07-f9e19e1158dd",
   "metadata": {},
   "outputs": [
    {
     "data": {
      "image/png": "[encoded data removed]",
      "text/plain": [
       "<Figure size 432x288 with 1 Axes>"
      ]
     },
     "metadata": {
      "needs_background": "light"
     },
     "output_type": "display_data"
    }
   ],
   "source": [
    "plt.plot(degrees, train_errors, color=\"blue\", label=\"Train\")\n",
    "plt.plot(degrees, valid_errors, color=\"red\", label=\"Validation\")\n",
    "plt.legend()\n",
    "plt.xlabel(\"degree\")\n",
    "plt.ylabel(\"error\")\n",
    "plt.show()"
   ]
  },
  {
   "cell_type": "markdown",
   "id": "44f58f84-b271-4716-a8d8-acbe0378e8a7",
   "metadata": {},
   "source": [
    "Observamos que a partir del polinomio de grado 6, se agravan los errores de train y validación. "
   ]
  },
  {
   "cell_type": "code",
   "execution_count": 34,
   "id": "ac95d531-1252-470d-bf35-c494fc825cbb",
   "metadata": {},
   "outputs": [],
   "source": [
    "# sin vector bais primero\n",
    "degree = 6\n",
    "pf = PolynomialFeatures(degree, include_bias=False)\n",
    "lr = LinearRegression(fit_intercept=False)  \n",
    "model = make_pipeline(pf, lr)"
   ]
  },
  {
   "cell_type": "code",
   "execution_count": 35,
   "id": "808fa585-f2d8-4c55-9256-273099bc7dd5",
   "metadata": {},
   "outputs": [
    {
     "data": {
      "text/plain": [
       "Pipeline(steps=[('polynomialfeatures',\n",
       "                 PolynomialFeatures(degree=6, include_bias=False)),\n",
       "                ('linearregression', LinearRegression(fit_intercept=False))])"
      ]
     },
     "execution_count": 35,
     "metadata": {},
     "output_type": "execute_result"
    }
   ],
   "source": [
    "# Entrenamos el modelo\n",
    "model.fit(X_train_antig, y_train_r)"
   ]
  },
  {
   "cell_type": "code",
   "execution_count": 36,
   "id": "4f8cdfb5-44b0-4ae9-9fdd-61c84cc938d1",
   "metadata": {},
   "outputs": [
    {
     "data": {
      "text/plain": [
       "(array([ 5.85937126e+04, -1.53528386e+03,  1.76327757e+01, -9.66257654e-02,\n",
       "         2.50188959e-04, -2.46019357e-07]), 0.0)"
      ]
     },
     "execution_count": 36,
     "metadata": {},
     "output_type": "execute_result"
    }
   ],
   "source": [
    "# Vemos los parametros\n",
    "lr.coef_ , lr.intercept_"
   ]
  },
  {
   "cell_type": "code",
   "execution_count": 37,
   "id": "d7d4d1fd-c1b7-43db-8c75-604d83c4940e",
   "metadata": {},
   "outputs": [
    {
     "data": {
      "text/plain": [
       "(50,)"
      ]
     },
     "execution_count": 37,
     "metadata": {},
     "output_type": "execute_result"
    }
   ],
   "source": [
    "x_start = min(np.min(X_train_antig), np.min(X_val_antig))\n",
    "x_end = max(np.max(X_train_antig), np.max(X_val_antig))\n",
    "x = np.linspace(x_start, x_end).reshape(-1)\n",
    "x.shape"
   ]
  },
  {
   "cell_type": "code",
   "execution_count": 38,
   "id": "4c9ee7e7-a8a0-4861-a0ef-41abe357547c",
   "metadata": {},
   "outputs": [],
   "source": [
    "# Predicción\n",
    "y_predic_antig = model.predict(x.reshape(-1, 1))"
   ]
  },
  {
   "cell_type": "code",
   "execution_count": 39,
   "id": "7a39ceb7-341c-4ba8-adee-79d9a2d1f862",
   "metadata": {
    "collapsed": true,
    "jupyter": {
     "outputs_hidden": true
    },
    "tags": []
   },
   "outputs": [
    {
     "data": {
      "image/png": "[encoded data removed]",
      "text/plain": [
       "<Figure size 720x432 with 1 Axes>"
      ]
     },
     "metadata": {
      "needs_background": "light"
     },
     "output_type": "display_data"
    },
    {
     "name": "stdout",
     "output_type": "stream",
     "text": [
      "Train error: 1062511009591.070068\n",
      "Valid error: 1189395675524.402588\n"
     ]
    }
   ],
   "source": [
    "plt.figure(figsize=(10,6))\n",
    "plt.scatter(X_train_antig, y_train_r, color=\"dodgerblue\", edgecolor=\"k\", label=\"train\")\n",
    "plt.scatter(X_val_antig, y_val_r, color=\"white\", edgecolor=\"k\", label=\"valid\")\n",
    "plt.plot(x, y_predic_antig, color=\"red\", label=\"model\") \n",
    "plt.legend()\n",
    "plt.show()\n",
    "\n",
    "print(f'Train error: {train_errors[degree]:f}')\n",
    "print(f'Valid error: {valid_errors[degree]:f}')"
   ]
  },
  {
   "cell_type": "markdown",
   "id": "1de0f3ee-e876-4bd8-9fcb-978e7cc06a0e",
   "metadata": {},
   "source": [
    "#### Con vector de Bias"
   ]
  },
  {
   "cell_type": "code",
   "execution_count": 40,
   "id": "805643d0-9fe8-4d2d-a914-1360748b0e2d",
   "metadata": {},
   "outputs": [],
   "source": [
    "# con vector bias primero\n",
    "degree = 6\n",
    "pf = PolynomialFeatures(degree)\n",
    "lr = LinearRegression(fit_intercept=False)  \n",
    "model = make_pipeline(pf, lr)"
   ]
  },
  {
   "cell_type": "code",
   "execution_count": 41,
   "id": "d362dbfc-eb73-4e94-bb11-ac07bef75108",
   "metadata": {},
   "outputs": [
    {
     "data": {
      "text/plain": [
       "Pipeline(steps=[('polynomialfeatures', PolynomialFeatures(degree=6)),\n",
       "                ('linearregression', LinearRegression(fit_intercept=False))])"
      ]
     },
     "execution_count": 41,
     "metadata": {},
     "output_type": "execute_result"
    }
   ],
   "source": [
    "# Entrenamos el modelo\n",
    "model.fit(X_train_antig, y_train_r)"
   ]
  },
  {
   "cell_type": "code",
   "execution_count": 42,
   "id": "5b6b693d-ef5e-43f1-86c8-f7ff6bc9fffe",
   "metadata": {},
   "outputs": [
    {
     "data": {
      "text/plain": [
       "(array([ 6.38921279e+05,  1.23007723e+04, -4.66294023e+02,  6.65745922e+00,\n",
       "        -4.11881821e-02,  1.15491558e-04, -1.20505365e-07]), 0.0)"
      ]
     },
     "execution_count": 42,
     "metadata": {},
     "output_type": "execute_result"
    }
   ],
   "source": [
    "# Vemos los parametros\n",
    "lr.coef_ , lr.intercept_"
   ]
  },
  {
   "cell_type": "code",
   "execution_count": 43,
   "id": "4dcc62af-81df-4309-9f32-76bb44f2537b",
   "metadata": {},
   "outputs": [
    {
     "data": {
      "text/plain": [
       "(50,)"
      ]
     },
     "execution_count": 43,
     "metadata": {},
     "output_type": "execute_result"
    }
   ],
   "source": [
    "x_start = min(np.min(X_train_antig), np.min(X_val_antig))\n",
    "x_end = max(np.max(X_train_antig), np.max(X_val_antig))\n",
    "x = np.linspace(x_start, x_end).reshape(-1)\n",
    "x.shape"
   ]
  },
  {
   "cell_type": "code",
   "execution_count": 44,
   "id": "6ed07c22-6bdc-41dc-9d80-ed88e4d3c9f9",
   "metadata": {},
   "outputs": [],
   "source": [
    "# Predicción\n",
    "y_predic_antig_2 = model.predict(x.reshape(-1, 1))"
   ]
  },
  {
   "cell_type": "code",
   "execution_count": 45,
   "id": "3573b7d7-d3af-459d-830f-1c7d69bbb442",
   "metadata": {
    "collapsed": true,
    "jupyter": {
     "outputs_hidden": true
    },
    "tags": []
   },
   "outputs": [
    {
     "data": {
      "image/png": "[encoded data removed]",
      "text/plain": [
       "<Figure size 720x432 with 1 Axes>"
      ]
     },
     "metadata": {
      "needs_background": "light"
     },
     "output_type": "display_data"
    },
    {
     "name": "stdout",
     "output_type": "stream",
     "text": [
      "Train error: 1062511009591.070068\n",
      "Valid error: 1189395675524.402588\n"
     ]
    }
   ],
   "source": [
    "plt.figure(figsize=(10,6))\n",
    "plt.scatter(X_train_antig, y_train_r, color=\"dodgerblue\", edgecolor=\"k\", label=\"train\")\n",
    "plt.scatter(X_val_antig, y_val_r, color=\"white\", edgecolor=\"k\", label=\"valid\")\n",
    "plt.plot(x, y_predic_antig_2, color=\"red\", label=\"model\") \n",
    "plt.legend()\n",
    "plt.show()\n",
    "\n",
    "print(f'Train error: {train_errors[degree]:f}')\n",
    "print(f'Valid error: {valid_errors[degree]:f}')"
   ]
  },
  {
   "cell_type": "markdown",
   "id": "1f112d64-539f-4a03-b3e1-e71f0b5c60b7",
   "metadata": {},
   "source": [
    "### 3.2 Regresion polinomial con varias variables"
   ]
  },
  {
   "cell_type": "code",
   "execution_count": 46,
   "id": "0b93382d-49d3-4c9f-aebe-804644026a4c",
   "metadata": {},
   "outputs": [],
   "source": [
    "from sklearn.preprocessing import MaxAbsScaler\n",
    "scaler = MaxAbsScaler()"
   ]
  },
  {
   "cell_type": "code",
   "execution_count": 47,
   "id": "3fc526a5-16a1-4752-8982-afd48739838f",
   "metadata": {},
   "outputs": [
    {
     "data": {
      "text/html": [
       "<div>\n",
       "<style scoped>\n",
       "    .dataframe tbody tr th:only-of-type {\n",
       "        vertical-align: middle;\n",
       "    }\n",
       "\n",
       "    .dataframe tbody tr th {\n",
       "        vertical-align: top;\n",
       "    }\n",
       "\n",
       "    .dataframe thead th {\n",
       "        text-align: right;\n",
       "    }\n",
       "</style>\n",
       "<table border=\"1\" class=\"dataframe\">\n",
       "  <thead>\n",
       "    <tr style=\"text-align: right;\">\n",
       "      <th></th>\n",
       "      <th>dni_titular_movimiento</th>\n",
       "      <th>anio_mes_cupon</th>\n",
       "      <th>antig_cliente</th>\n",
       "      <th>comercio_cat=0</th>\n",
       "      <th>comercio_cat=1</th>\n",
       "      <th>comercio_cat=2</th>\n",
       "      <th>comercio_cat=3</th>\n",
       "      <th>comercio_cat=4</th>\n",
       "      <th>comercio_cat=5</th>\n",
       "      <th>comercio_cat=6</th>\n",
       "      <th>...</th>\n",
       "      <th>producto_naranja_movimiento=PL</th>\n",
       "      <th>producto_naranja_movimiento=PN</th>\n",
       "      <th>producto_naranja_movimiento=PP</th>\n",
       "      <th>producto_naranja_movimiento=TA</th>\n",
       "      <th>producto_naranja_movimiento=VI</th>\n",
       "      <th>producto_naranja_movimiento=ZE</th>\n",
       "      <th>tipo_producto_tarjeta_movimiento=0</th>\n",
       "      <th>tipo_producto_tarjeta_movimiento=3</th>\n",
       "      <th>tipo_producto_tarjeta_movimiento=4</th>\n",
       "      <th>fg_aumentado</th>\n",
       "    </tr>\n",
       "  </thead>\n",
       "  <tbody>\n",
       "    <tr>\n",
       "      <th>0</th>\n",
       "      <td>000000b5aea2c9ea7cc155f6ebcef97f826</td>\n",
       "      <td>202008</td>\n",
       "      <td>225</td>\n",
       "      <td>69.0</td>\n",
       "      <td>0.0</td>\n",
       "      <td>0.0</td>\n",
       "      <td>0.0</td>\n",
       "      <td>0.0</td>\n",
       "      <td>0.0</td>\n",
       "      <td>0.0</td>\n",
       "      <td>...</td>\n",
       "      <td>69.0</td>\n",
       "      <td>0.0</td>\n",
       "      <td>0.0</td>\n",
       "      <td>0.0</td>\n",
       "      <td>0.0</td>\n",
       "      <td>0.0</td>\n",
       "      <td>69.0</td>\n",
       "      <td>0.0</td>\n",
       "      <td>0.0</td>\n",
       "      <td>0</td>\n",
       "    </tr>\n",
       "    <tr>\n",
       "      <th>1</th>\n",
       "      <td>000000b5aea2c9ea7cc155f6ebcef97f826</td>\n",
       "      <td>202009</td>\n",
       "      <td>226</td>\n",
       "      <td>69.0</td>\n",
       "      <td>0.0</td>\n",
       "      <td>0.0</td>\n",
       "      <td>0.0</td>\n",
       "      <td>0.0</td>\n",
       "      <td>0.0</td>\n",
       "      <td>0.0</td>\n",
       "      <td>...</td>\n",
       "      <td>69.0</td>\n",
       "      <td>0.0</td>\n",
       "      <td>0.0</td>\n",
       "      <td>0.0</td>\n",
       "      <td>0.0</td>\n",
       "      <td>0.0</td>\n",
       "      <td>69.0</td>\n",
       "      <td>0.0</td>\n",
       "      <td>0.0</td>\n",
       "      <td>0</td>\n",
       "    </tr>\n",
       "    <tr>\n",
       "      <th>2</th>\n",
       "      <td>000000b5aea2c9ea7cc155f6ebcef97f826</td>\n",
       "      <td>202010</td>\n",
       "      <td>227</td>\n",
       "      <td>69.0</td>\n",
       "      <td>0.0</td>\n",
       "      <td>0.0</td>\n",
       "      <td>0.0</td>\n",
       "      <td>0.0</td>\n",
       "      <td>0.0</td>\n",
       "      <td>0.0</td>\n",
       "      <td>...</td>\n",
       "      <td>69.0</td>\n",
       "      <td>0.0</td>\n",
       "      <td>0.0</td>\n",
       "      <td>0.0</td>\n",
       "      <td>0.0</td>\n",
       "      <td>0.0</td>\n",
       "      <td>69.0</td>\n",
       "      <td>0.0</td>\n",
       "      <td>0.0</td>\n",
       "      <td>0</td>\n",
       "    </tr>\n",
       "    <tr>\n",
       "      <th>3</th>\n",
       "      <td>000000b5aea2c9ea7cc155f6ebcef97f826</td>\n",
       "      <td>202011</td>\n",
       "      <td>228</td>\n",
       "      <td>69.0</td>\n",
       "      <td>0.0</td>\n",
       "      <td>0.0</td>\n",
       "      <td>0.0</td>\n",
       "      <td>0.0</td>\n",
       "      <td>0.0</td>\n",
       "      <td>0.0</td>\n",
       "      <td>...</td>\n",
       "      <td>69.0</td>\n",
       "      <td>0.0</td>\n",
       "      <td>0.0</td>\n",
       "      <td>0.0</td>\n",
       "      <td>0.0</td>\n",
       "      <td>0.0</td>\n",
       "      <td>69.0</td>\n",
       "      <td>0.0</td>\n",
       "      <td>0.0</td>\n",
       "      <td>0</td>\n",
       "    </tr>\n",
       "    <tr>\n",
       "      <th>4</th>\n",
       "      <td>000000b5aea2c9ea7cc155f6ebcef97f826</td>\n",
       "      <td>202012</td>\n",
       "      <td>229</td>\n",
       "      <td>69.0</td>\n",
       "      <td>0.0</td>\n",
       "      <td>0.0</td>\n",
       "      <td>0.0</td>\n",
       "      <td>0.0</td>\n",
       "      <td>0.0</td>\n",
       "      <td>0.0</td>\n",
       "      <td>...</td>\n",
       "      <td>69.0</td>\n",
       "      <td>0.0</td>\n",
       "      <td>0.0</td>\n",
       "      <td>0.0</td>\n",
       "      <td>0.0</td>\n",
       "      <td>0.0</td>\n",
       "      <td>69.0</td>\n",
       "      <td>0.0</td>\n",
       "      <td>0.0</td>\n",
       "      <td>0</td>\n",
       "    </tr>\n",
       "    <tr>\n",
       "      <th>...</th>\n",
       "      <td>...</td>\n",
       "      <td>...</td>\n",
       "      <td>...</td>\n",
       "      <td>...</td>\n",
       "      <td>...</td>\n",
       "      <td>...</td>\n",
       "      <td>...</td>\n",
       "      <td>...</td>\n",
       "      <td>...</td>\n",
       "      <td>...</td>\n",
       "      <td>...</td>\n",
       "      <td>...</td>\n",
       "      <td>...</td>\n",
       "      <td>...</td>\n",
       "      <td>...</td>\n",
       "      <td>...</td>\n",
       "      <td>...</td>\n",
       "      <td>...</td>\n",
       "      <td>...</td>\n",
       "      <td>...</td>\n",
       "      <td>...</td>\n",
       "    </tr>\n",
       "    <tr>\n",
       "      <th>5253</th>\n",
       "      <td>000ac4ec2b6ddf0ba5800293557f37da945</td>\n",
       "      <td>202008</td>\n",
       "      <td>68</td>\n",
       "      <td>276.0</td>\n",
       "      <td>0.0</td>\n",
       "      <td>0.0</td>\n",
       "      <td>0.0</td>\n",
       "      <td>0.0</td>\n",
       "      <td>0.0</td>\n",
       "      <td>621.0</td>\n",
       "      <td>...</td>\n",
       "      <td>759.0</td>\n",
       "      <td>0.0</td>\n",
       "      <td>0.0</td>\n",
       "      <td>0.0</td>\n",
       "      <td>0.0</td>\n",
       "      <td>138.0</td>\n",
       "      <td>138.0</td>\n",
       "      <td>759.0</td>\n",
       "      <td>0.0</td>\n",
       "      <td>0</td>\n",
       "    </tr>\n",
       "    <tr>\n",
       "      <th>5254</th>\n",
       "      <td>000ac4ec2b6ddf0ba5800293557f37da945</td>\n",
       "      <td>202009</td>\n",
       "      <td>69</td>\n",
       "      <td>138.0</td>\n",
       "      <td>0.0</td>\n",
       "      <td>0.0</td>\n",
       "      <td>0.0</td>\n",
       "      <td>0.0</td>\n",
       "      <td>0.0</td>\n",
       "      <td>552.0</td>\n",
       "      <td>...</td>\n",
       "      <td>690.0</td>\n",
       "      <td>0.0</td>\n",
       "      <td>0.0</td>\n",
       "      <td>0.0</td>\n",
       "      <td>0.0</td>\n",
       "      <td>0.0</td>\n",
       "      <td>138.0</td>\n",
       "      <td>552.0</td>\n",
       "      <td>0.0</td>\n",
       "      <td>0</td>\n",
       "    </tr>\n",
       "    <tr>\n",
       "      <th>5255</th>\n",
       "      <td>000ac4ec2b6ddf0ba5800293557f37da945</td>\n",
       "      <td>202010</td>\n",
       "      <td>70</td>\n",
       "      <td>207.0</td>\n",
       "      <td>0.0</td>\n",
       "      <td>0.0</td>\n",
       "      <td>0.0</td>\n",
       "      <td>0.0</td>\n",
       "      <td>0.0</td>\n",
       "      <td>345.0</td>\n",
       "      <td>...</td>\n",
       "      <td>552.0</td>\n",
       "      <td>0.0</td>\n",
       "      <td>0.0</td>\n",
       "      <td>0.0</td>\n",
       "      <td>0.0</td>\n",
       "      <td>0.0</td>\n",
       "      <td>207.0</td>\n",
       "      <td>345.0</td>\n",
       "      <td>0.0</td>\n",
       "      <td>0</td>\n",
       "    </tr>\n",
       "    <tr>\n",
       "      <th>5256</th>\n",
       "      <td>000ac4ec2b6ddf0ba5800293557f37da945</td>\n",
       "      <td>202011</td>\n",
       "      <td>71</td>\n",
       "      <td>345.0</td>\n",
       "      <td>0.0</td>\n",
       "      <td>0.0</td>\n",
       "      <td>0.0</td>\n",
       "      <td>0.0</td>\n",
       "      <td>0.0</td>\n",
       "      <td>0.0</td>\n",
       "      <td>...</td>\n",
       "      <td>345.0</td>\n",
       "      <td>0.0</td>\n",
       "      <td>0.0</td>\n",
       "      <td>0.0</td>\n",
       "      <td>0.0</td>\n",
       "      <td>0.0</td>\n",
       "      <td>345.0</td>\n",
       "      <td>0.0</td>\n",
       "      <td>0.0</td>\n",
       "      <td>0</td>\n",
       "    </tr>\n",
       "    <tr>\n",
       "      <th>5257</th>\n",
       "      <td>000ac4ec2b6ddf0ba5800293557f37da945</td>\n",
       "      <td>202012</td>\n",
       "      <td>72</td>\n",
       "      <td>276.0</td>\n",
       "      <td>0.0</td>\n",
       "      <td>0.0</td>\n",
       "      <td>0.0</td>\n",
       "      <td>0.0</td>\n",
       "      <td>0.0</td>\n",
       "      <td>0.0</td>\n",
       "      <td>...</td>\n",
       "      <td>276.0</td>\n",
       "      <td>0.0</td>\n",
       "      <td>0.0</td>\n",
       "      <td>0.0</td>\n",
       "      <td>0.0</td>\n",
       "      <td>0.0</td>\n",
       "      <td>276.0</td>\n",
       "      <td>0.0</td>\n",
       "      <td>0.0</td>\n",
       "      <td>0</td>\n",
       "    </tr>\n",
       "  </tbody>\n",
       "</table>\n",
       "<p>4438 rows × 27 columns</p>\n",
       "</div>"
      ],
      "text/plain": [
       "                   dni_titular_movimiento  anio_mes_cupon  antig_cliente  \\\n",
       "0     000000b5aea2c9ea7cc155f6ebcef97f826          202008            225   \n",
       "1     000000b5aea2c9ea7cc155f6ebcef97f826          202009            226   \n",
       "2     000000b5aea2c9ea7cc155f6ebcef97f826          202010            227   \n",
       "3     000000b5aea2c9ea7cc155f6ebcef97f826          202011            228   \n",
       "4     000000b5aea2c9ea7cc155f6ebcef97f826          202012            229   \n",
       "...                                   ...             ...            ...   \n",
       "5253  000ac4ec2b6ddf0ba5800293557f37da945          202008             68   \n",
       "5254  000ac4ec2b6ddf0ba5800293557f37da945          202009             69   \n",
       "5255  000ac4ec2b6ddf0ba5800293557f37da945          202010             70   \n",
       "5256  000ac4ec2b6ddf0ba5800293557f37da945          202011             71   \n",
       "5257  000ac4ec2b6ddf0ba5800293557f37da945          202012             72   \n",
       "\n",
       "      comercio_cat=0  comercio_cat=1  comercio_cat=2  comercio_cat=3  \\\n",
       "0               69.0             0.0             0.0             0.0   \n",
       "1               69.0             0.0             0.0             0.0   \n",
       "2               69.0             0.0             0.0             0.0   \n",
       "3               69.0             0.0             0.0             0.0   \n",
       "4               69.0             0.0             0.0             0.0   \n",
       "...              ...             ...             ...             ...   \n",
       "5253           276.0             0.0             0.0             0.0   \n",
       "5254           138.0             0.0             0.0             0.0   \n",
       "5255           207.0             0.0             0.0             0.0   \n",
       "5256           345.0             0.0             0.0             0.0   \n",
       "5257           276.0             0.0             0.0             0.0   \n",
       "\n",
       "      comercio_cat=4  comercio_cat=5  comercio_cat=6  ...  \\\n",
       "0                0.0             0.0             0.0  ...   \n",
       "1                0.0             0.0             0.0  ...   \n",
       "2                0.0             0.0             0.0  ...   \n",
       "3                0.0             0.0             0.0  ...   \n",
       "4                0.0             0.0             0.0  ...   \n",
       "...              ...             ...             ...  ...   \n",
       "5253             0.0             0.0           621.0  ...   \n",
       "5254             0.0             0.0           552.0  ...   \n",
       "5255             0.0             0.0           345.0  ...   \n",
       "5256             0.0             0.0             0.0  ...   \n",
       "5257             0.0             0.0             0.0  ...   \n",
       "\n",
       "      producto_naranja_movimiento=PL  producto_naranja_movimiento=PN  \\\n",
       "0                               69.0                             0.0   \n",
       "1                               69.0                             0.0   \n",
       "2                               69.0                             0.0   \n",
       "3                               69.0                             0.0   \n",
       "4                               69.0                             0.0   \n",
       "...                              ...                             ...   \n",
       "5253                           759.0                             0.0   \n",
       "5254                           690.0                             0.0   \n",
       "5255                           552.0                             0.0   \n",
       "5256                           345.0                             0.0   \n",
       "5257                           276.0                             0.0   \n",
       "\n",
       "      producto_naranja_movimiento=PP  producto_naranja_movimiento=TA  \\\n",
       "0                                0.0                             0.0   \n",
       "1                                0.0                             0.0   \n",
       "2                                0.0                             0.0   \n",
       "3                                0.0                             0.0   \n",
       "4                                0.0                             0.0   \n",
       "...                              ...                             ...   \n",
       "5253                             0.0                             0.0   \n",
       "5254                             0.0                             0.0   \n",
       "5255                             0.0                             0.0   \n",
       "5256                             0.0                             0.0   \n",
       "5257                             0.0                             0.0   \n",
       "\n",
       "      producto_naranja_movimiento=VI  producto_naranja_movimiento=ZE  \\\n",
       "0                                0.0                             0.0   \n",
       "1                                0.0                             0.0   \n",
       "2                                0.0                             0.0   \n",
       "3                                0.0                             0.0   \n",
       "4                                0.0                             0.0   \n",
       "...                              ...                             ...   \n",
       "5253                             0.0                           138.0   \n",
       "5254                             0.0                             0.0   \n",
       "5255                             0.0                             0.0   \n",
       "5256                             0.0                             0.0   \n",
       "5257                             0.0                             0.0   \n",
       "\n",
       "      tipo_producto_tarjeta_movimiento=0  tipo_producto_tarjeta_movimiento=3  \\\n",
       "0                                   69.0                                 0.0   \n",
       "1                                   69.0                                 0.0   \n",
       "2                                   69.0                                 0.0   \n",
       "3                                   69.0                                 0.0   \n",
       "4                                   69.0                                 0.0   \n",
       "...                                  ...                                 ...   \n",
       "5253                               138.0                               759.0   \n",
       "5254                               138.0                               552.0   \n",
       "5255                               207.0                               345.0   \n",
       "5256                               345.0                                 0.0   \n",
       "5257                               276.0                                 0.0   \n",
       "\n",
       "      tipo_producto_tarjeta_movimiento=4  fg_aumentado  \n",
       "0                                    0.0             0  \n",
       "1                                    0.0             0  \n",
       "2                                    0.0             0  \n",
       "3                                    0.0             0  \n",
       "4                                    0.0             0  \n",
       "...                                  ...           ...  \n",
       "5253                                 0.0             0  \n",
       "5254                                 0.0             0  \n",
       "5255                                 0.0             0  \n",
       "5256                                 0.0             0  \n",
       "5257                                 0.0             0  \n",
       "\n",
       "[4438 rows x 27 columns]"
      ]
     },
     "execution_count": 47,
     "metadata": {},
     "output_type": "execute_result"
    }
   ],
   "source": []
  },
  {
   "cell_type": "code",
   "execution_count": 136,
   "id": "a64d3741-98f0-4da2-9164-a7ff8d28c0f1",
   "metadata": {},
   "outputs": [
    {
     "data": {
      "text/plain": [
       "anio_mes_cupon                          int64\n",
       "antig_cliente                           int64\n",
       "comercio_cat=0                        float64\n",
       "comercio_cat=1                        float64\n",
       "comercio_cat=2                        float64\n",
       "comercio_cat=3                        float64\n",
       "comercio_cat=4                        float64\n",
       "comercio_cat=5                        float64\n",
       "comercio_cat=6                        float64\n",
       "comercio_cat=7                        float64\n",
       "comercio_cat=8                        float64\n",
       "comercio_cat=9                        float64\n",
       "producto_naranja_movimiento=AX        float64\n",
       "producto_naranja_movimiento=EX        float64\n",
       "producto_naranja_movimiento=MC        float64\n",
       "producto_naranja_movimiento=PC        float64\n",
       "producto_naranja_movimiento=PL        float64\n",
       "producto_naranja_movimiento=PN        float64\n",
       "producto_naranja_movimiento=PP        float64\n",
       "producto_naranja_movimiento=TA        float64\n",
       "producto_naranja_movimiento=VI        float64\n",
       "producto_naranja_movimiento=ZE        float64\n",
       "tipo_producto_tarjeta_movimiento=0    float64\n",
       "tipo_producto_tarjeta_movimiento=3    float64\n",
       "tipo_producto_tarjeta_movimiento=4    float64\n",
       "fg_aumentado                            int64\n",
       "dtype: object"
      ]
     },
     "execution_count": 136,
     "metadata": {},
     "output_type": "execute_result"
    }
   ],
   "source": [
    "X_train_r.drop(['dni_titular_movimiento'], axis=1).dtypes"
   ]
  },
  {
   "cell_type": "code",
   "execution_count": 137,
   "id": "cdc9174e-8350-4b6b-abc7-978b7a6140d6",
   "metadata": {},
   "outputs": [],
   "source": [
    "from sklearn.compose import make_column_transformer\n",
    "\n",
    "scaler = MaxAbsScaler() # Mantiene el signo y el 0\n",
    "X_train_vs = scaler.fit_transform(X_train_r.drop(['dni_titular_movimiento'], axis=1))\n",
    "X_val_vs = scaler.transform(X_val_r.drop(['dni_titular_movimiento'], axis=1))\n",
    "\n",
    "y_train_vs = scaler.fit_transform(y_train_r.values.reshape(-1,1))\n",
    "y_val_vs = scaler.transform(y_val_r.values.reshape(-1,1))"
   ]
  },
  {
   "cell_type": "code",
   "execution_count": 143,
   "id": "02ab926c-ff55-4736-9f2f-da3e6ae58b7a",
   "metadata": {},
   "outputs": [
    {
     "name": "stdout",
     "output_type": "stream",
     "text": [
      "Grado 1: Train error 1799440459557.533, Valid error 1883763143449.915\n",
      "Grado 2: Train error 1799440434649.884, Valid error 7150079707033.199\n"
     ]
    }
   ],
   "source": [
    "train_errors_vs = []\n",
    "valid_errors_vs = []\n",
    "degrees = [1,2]\n",
    "for degree in degrees:\n",
    "    # train:\n",
    "    pf = PolynomialFeatures(degree)\n",
    "    lr = LinearRegression(fit_intercept=False)\n",
    "    model = make_pipeline(pf, lr)\n",
    "    model.fit(X_train_vs, y_train_vs)\n",
    "    \n",
    "    # predict:\n",
    "    y_train_pred = model.predict(X_train_vs)\n",
    "    y_valid_pred = model.predict(X_val_vs)\n",
    "    \n",
    "    # evaluate:\n",
    "    train_error = mean_squared_error(y_train_r, y_train_pred)\n",
    "    val_error = mean_squared_error(y_val_r, y_valid_pred)\n",
    "    train_errors_vs.append(train_error)\n",
    "    valid_errors_vs.append(val_error)\n",
    "    print(f'Grado {degree}: Train error {train_error.round(3)}, Valid error {val_error.round(3)}')  "
   ]
  },
  {
   "cell_type": "code",
   "execution_count": null,
   "id": "10b28f04-8bc7-40d3-b721-fc551056b080",
   "metadata": {},
   "outputs": [],
   "source": [
    "plt.plot(degrees, train_errors_vs, color=\"blue\", label=\"Train\")\n",
    "plt.plot(degrees, valid_errors_vs, color=\"red\", label=\"Validation\")\n",
    "plt.legend()\n",
    "plt.xlabel(\"degree\")\n",
    "plt.ylabel(\"error\")\n",
    "plt.show()"
   ]
  },
  {
   "cell_type": "markdown",
   "id": "313e7ccf-f141-4467-bfc4-c0e76246e943",
   "metadata": {},
   "source": [
    "Observamos que a partir del polinomio de grado 3 el modelo comienza a hacer overfiting, es decir si bien el error en train sigue disminuyendo no ocurre lo mismo con el error de validación, el cual se dispara. "
   ]
  },
  {
   "cell_type": "markdown",
   "id": "c798abd4-b712-45c4-b6f2-14d8fefa1624",
   "metadata": {},
   "source": [
    "### 3.3 Elección del mejor modelo de Regresión "
   ]
  },
  {
   "cell_type": "markdown",
   "id": "1a6b9d76-ed84-47f6-9c67-f61f51b647c1",
   "metadata": {},
   "source": [
    "Observamos que el modelo de regresión polinomial multivariado, nos permite obtener mejores resultados que el anterior. Esto es así, debido a que los features escogidos explican mejor el comportamiento de nuestra variable target. Por otro lado, se realizo un escalado previo al entrenamiento. \n",
    "Procedemos a evaluar con los datos de test. "
   ]
  },
  {
   "cell_type": "code",
   "execution_count": 42,
   "id": "9fb229ff-635d-48c9-87f2-013fe9e20a6d",
   "metadata": {},
   "outputs": [],
   "source": [
    "degree = 3\n",
    "pf = PolynomialFeatures(degree)\n",
    "lr = LinearRegression(fit_intercept=False)  \n",
    "model = make_pipeline(pf, lr)"
   ]
  },
  {
   "cell_type": "code",
   "execution_count": 122,
   "id": "ef7ab298-c531-429b-bbfa-1749ca46628c",
   "metadata": {},
   "outputs": [
    {
     "data": {
      "text/plain": [
       "Pipeline(steps=[('polynomialfeatures', PolynomialFeatures(degree=4)),\n",
       "                ('linearregression', LinearRegression(fit_intercept=False))])"
      ]
     },
     "execution_count": 122,
     "metadata": {},
     "output_type": "execute_result"
    }
   ],
   "source": [
    "# Entrenamos el modelo\n",
    "model.fit(X_train_vs, y_train_r_esc)"
   ]
  },
  {
   "cell_type": "code",
   "execution_count": 123,
   "id": "aee065c8-874a-4f11-a54e-06e36f8d5146",
   "metadata": {},
   "outputs": [
    {
     "data": {
      "text/plain": [
       "((771, 7), (771, 1))"
      ]
     },
     "execution_count": 123,
     "metadata": {},
     "output_type": "execute_result"
    }
   ],
   "source": [
    "X_test_vs = scaler.fit_transform(X_test_r.loc[:, columnas ].values)\n",
    "y_test_r_esc = scaler.fit_transform(y_reg_test.values.reshape(-1,1))\n",
    "X_test_vs.shape , y_test_r_esc.shape"
   ]
  },
  {
   "cell_type": "code",
   "execution_count": 124,
   "id": "5a65a41c-0f2b-4812-841f-445c0a448560",
   "metadata": {},
   "outputs": [],
   "source": [
    "# Predicción en test\n",
    "y_train_pred = model.predict(X_train_vs)\n",
    "y_valid_pred = model.predict(X_val_vs)\n",
    "y_test_pred = model.predict(X_test_vs)"
   ]
  },
  {
   "cell_type": "code",
   "execution_count": 125,
   "id": "f1e32d82-6211-4cd6-8ecd-b10bfee38822",
   "metadata": {},
   "outputs": [
    {
     "name": "stdout",
     "output_type": "stream",
     "text": [
      "Train error: 0.005 Validation error: 33.364 Test error: 329.279\n"
     ]
    }
   ],
   "source": [
    "# testing:\n",
    "train_error = mean_squared_error(y_train_r_esc, y_train_pred)\n",
    "val_error = mean_squared_error(y_val_r_esc, y_valid_pred)\n",
    "test_error = mean_squared_error(y_test_r_esc, y_test_pred)\n",
    "print(\"Train error:\", train_error.round(3), \"Validation error:\", val_error.round(3), \"Test error:\", test_error.round(3)) "
   ]
  },
  {
   "cell_type": "markdown",
   "id": "fef3d1f5-29b6-4068-9d67-52fad4624f4d",
   "metadata": {},
   "source": [
    "Observamos que el error en test es considerablemente más alto que el observado en las etapas de entrenamiento y validación. Sin embargo, es el mejor modelo que se puede instanciar con una regresión polinomial. "
   ]
  },
  {
   "cell_type": "markdown",
   "id": "961b3176-5266-4825-b345-960e966cd94d",
   "metadata": {},
   "source": [
    "## 4. Modelos de clasificación"
   ]
  },
  {
   "cell_type": "markdown",
   "id": "5b2521af-eb7c-436d-aa94-7fe84692977b",
   "metadata": {},
   "source": [
    "### 4.1 Distribución de la variable target"
   ]
  },
  {
   "cell_type": "code",
   "execution_count": 178,
   "id": "91f4a6b5-23b9-49bc-b8ab-b018aece3aae",
   "metadata": {},
   "outputs": [
    {
     "data": {
      "text/plain": [
       "0    2812\n",
       "1    1626\n",
       "Name: fg_aumentado, dtype: int64"
      ]
     },
     "execution_count": 178,
     "metadata": {},
     "output_type": "execute_result"
    }
   ],
   "source": [
    "y_train_c.value_counts()"
   ]
  },
  {
   "cell_type": "markdown",
   "id": "bf9ada52-a184-44fb-bd1c-395e9e469faf",
   "metadata": {},
   "source": [
    "La variable target no está balanceado, hay una relación de 2/1 en el conjunto de etiquetas de etiquetas. Esto nos da la pauta que a la métrica a la cual tenemos que darle más importancia es al F1-Score de la etiqueta 1, es decir queremos tener una buena Precisión y Recall para la etiqueta de menor cuantía. "
   ]
  },
  {
   "cell_type": "markdown",
   "id": "b8cc4fc0-f301-4692-a8b6-c17565ee8248",
   "metadata": {},
   "source": [
    "### 4.2 Modelos lineales de clasificación "
   ]
  },
  {
   "cell_type": "markdown",
   "id": "b2bcf5ea-6bd7-4032-b54d-946dd85d04f7",
   "metadata": {},
   "source": [
    "#### 4.2.1 Regresión Logistica"
   ]
  },
  {
   "cell_type": "code",
   "execution_count": 179,
   "id": "c8be6db1-7bda-4dea-b7f7-465651a5ca9b",
   "metadata": {},
   "outputs": [
    {
     "data": {
      "text/plain": [
       "((4438, 26), (4438,))"
      ]
     },
     "execution_count": 179,
     "metadata": {},
     "output_type": "execute_result"
    }
   ],
   "source": [
    "X_train_c.shape, y_train_c.shape"
   ]
  },
  {
   "cell_type": "code",
   "execution_count": 188,
   "id": "b51409c6-4fa0-4e39-a9a0-b87e5e322d2c",
   "metadata": {},
   "outputs": [],
   "source": [
    "num_cols = np.array(['antig_cliente'])\n",
    "cat_cols = np.array(X_train_c.columns[4:])"
   ]
  },
  {
   "cell_type": "code",
   "execution_count": 189,
   "id": "55d66c53-7a6b-4b36-8ffc-71a95f7df5ae",
   "metadata": {},
   "outputs": [
    {
     "data": {
      "text/plain": [
       "Pipeline(steps=[('scaler', StandardScaler()),\n",
       "                ('lreg', LogisticRegression(random_state=0))])"
      ]
     },
     "execution_count": 189,
     "metadata": {},
     "output_type": "execute_result"
    }
   ],
   "source": [
    "X_train_lreg = X_train_c[np.concatenate((num_cols,cat_cols))]\n",
    "X_val_lreg = X_val_c[np.concatenate((num_cols,cat_cols))]\n",
    "\n",
    "pipe = Pipeline([('scaler', StandardScaler()), ('lreg', LogisticRegression(random_state=0))])\n",
    "\n",
    "pipe.fit(X_train_lreg, y_train_c)"
   ]
  },
  {
   "cell_type": "code",
   "execution_count": 190,
   "id": "4c8516ab-2a0a-4c40-81a7-c15f05fcf88e",
   "metadata": {},
   "outputs": [
    {
     "data": {
      "text/plain": [
       "array([0, 1])"
      ]
     },
     "execution_count": 190,
     "metadata": {},
     "output_type": "execute_result"
    }
   ],
   "source": [
    "pipe['lreg'].classes_"
   ]
  },
  {
   "cell_type": "code",
   "execution_count": 191,
   "id": "35edb1b8-6dd2-40de-82eb-f4dd0cdeb429",
   "metadata": {},
   "outputs": [
    {
     "data": {
      "text/plain": [
       "array([[-0.06013254, -0.15366412, -0.09109375, -0.0029165 ,  0.03199361,\n",
       "         0.03426988,  0.06548672,  0.0260232 , -0.00218484, -0.12502322,\n",
       "         0.03338826, -0.03771486,  0.10113351,  0.24656461,  0.04854482,\n",
       "         0.06239834,  0.26103903, -0.02347546,  0.27888236,  0.20238223,\n",
       "         0.27234575,  0.54157173,  0.04818402]])"
      ]
     },
     "execution_count": 191,
     "metadata": {},
     "output_type": "execute_result"
    }
   ],
   "source": [
    "pipe['lreg'].coef_"
   ]
  },
  {
   "cell_type": "code",
   "execution_count": 192,
   "id": "12b51d46-933f-4c34-9ca8-efadd889a06a",
   "metadata": {},
   "outputs": [
    {
     "data": {
      "text/plain": [
       "{'C': 1.0,\n",
       " 'class_weight': None,\n",
       " 'dual': False,\n",
       " 'fit_intercept': True,\n",
       " 'intercept_scaling': 1,\n",
       " 'l1_ratio': None,\n",
       " 'max_iter': 100,\n",
       " 'multi_class': 'auto',\n",
       " 'n_jobs': None,\n",
       " 'penalty': 'l2',\n",
       " 'random_state': 0,\n",
       " 'solver': 'lbfgs',\n",
       " 'tol': 0.0001,\n",
       " 'verbose': 0,\n",
       " 'warm_start': False}"
      ]
     },
     "execution_count": 192,
     "metadata": {},
     "output_type": "execute_result"
    }
   ],
   "source": [
    "pipe['lreg'].get_params()"
   ]
  },
  {
   "cell_type": "code",
   "execution_count": 193,
   "id": "12ea878e-d1e0-45b7-a708-5035e70a7d7c",
   "metadata": {},
   "outputs": [],
   "source": [
    "y_train_pred_lreg = pipe.predict(X_train_lreg)\n",
    "y_val_pred_lreg = pipe.predict(X_val_lreg)"
   ]
  },
  {
   "cell_type": "code",
   "execution_count": 194,
   "id": "cbdf34c3-c543-4bc2-8890-245386afdf7c",
   "metadata": {},
   "outputs": [
    {
     "name": "stdout",
     "output_type": "stream",
     "text": [
      "====================================================================\n",
      "Logistic Regression - Reporte de clasificación del conjunto de train\n",
      "====================================================================\n",
      "              precision    recall  f1-score   support\n",
      "\n",
      "           0       0.69      0.88      0.77      2812\n",
      "           1       0.61      0.33      0.43      1626\n",
      "\n",
      "    accuracy                           0.68      4438\n",
      "   macro avg       0.65      0.60      0.60      4438\n",
      "weighted avg       0.66      0.68      0.65      4438\n",
      "\n"
     ]
    }
   ],
   "source": [
    "# Evaluar train\n",
    "text = \"Logistic Regression - Reporte de clasificación del conjunto de train\" \n",
    "print(len(text)*\"=\")\n",
    "print(text)\n",
    "print(len(text)*\"=\")\n",
    "print(classification_report(y_train_c, y_train_pred_lreg))"
   ]
  },
  {
   "cell_type": "code",
   "execution_count": 195,
   "id": "518ba279-3a27-4da9-935b-9c7955ba095a",
   "metadata": {},
   "outputs": [
    {
     "name": "stdout",
     "output_type": "stream",
     "text": [
      "=========================================================================\n",
      "Logistic Regression - Reporte de clasificación del conjunto de validacion\n",
      "=========================================================================\n",
      "              precision    recall  f1-score   support\n",
      "\n",
      "           0       0.68      0.87      0.76      1178\n",
      "           1       0.60      0.32      0.42       724\n",
      "\n",
      "    accuracy                           0.66      1902\n",
      "   macro avg       0.64      0.59      0.59      1902\n",
      "weighted avg       0.65      0.66      0.63      1902\n",
      "\n"
     ]
    }
   ],
   "source": [
    "# Evaluar validacion\n",
    "text = \"Logistic Regression - Reporte de clasificación del conjunto de validacion\" \n",
    "print(len(text)*\"=\")\n",
    "print(text)\n",
    "print(len(text)*\"=\")\n",
    "print(classification_report(y_val_c, y_val_pred_lreg))"
   ]
  },
  {
   "cell_type": "code",
   "execution_count": 206,
   "id": "efd282ac-8eb4-4e1b-a762-166b0b6d6ac7",
   "metadata": {},
   "outputs": [
    {
     "data": {
      "text/plain": [
       "Text(0.5, 1.0, 'Regresión Logística - Matriz de confusión del conjunto de train sin normalizar\\n')"
      ]
     },
     "execution_count": 206,
     "metadata": {},
     "output_type": "execute_result"
    },
    {
     "data": {
      "text/plain": [
       "<Figure size 432x288 with 0 Axes>"
      ]
     },
     "metadata": {},
     "output_type": "display_data"
    },
    {
     "data": {
      "image/png": "[encoded data removed]",
      "text/plain": [
       "<Figure size 432x288 with 2 Axes>"
      ]
     },
     "metadata": {
      "needs_background": "light"
     },
     "output_type": "display_data"
    }
   ],
   "source": [
    "plt.figure()\n",
    "plot_confusion_matrix(estimator=pipe, X=X_train_lreg, y_true=y_train_c,\n",
    "                      normalize='true', cmap='Blues').ax_ \\\n",
    "                      .set_title('Regresión Logística - Matriz de confusión del conjunto de train sin normalizar\\n')"
   ]
  },
  {
   "cell_type": "code",
   "execution_count": 207,
   "id": "f1d08ce7-94cc-43bd-b21b-0649f5055d23",
   "metadata": {},
   "outputs": [
    {
     "data": {
      "text/plain": [
       "Text(0.5, 1.0, 'Regresión Logística - Matriz de confusión del conjunto de train sin normalizar\\n')"
      ]
     },
     "execution_count": 207,
     "metadata": {},
     "output_type": "execute_result"
    },
    {
     "data": {
      "text/plain": [
       "<Figure size 432x288 with 0 Axes>"
      ]
     },
     "metadata": {},
     "output_type": "display_data"
    },
    {
     "data": {
      "image/png": "[encoded data removed]",
      "text/plain": [
       "<Figure size 432x288 with 2 Axes>"
      ]
     },
     "metadata": {
      "needs_background": "light"
     },
     "output_type": "display_data"
    }
   ],
   "source": [
    "plt.figure()\n",
    "plot_confusion_matrix(estimator=pipe, X=X_val_lreg, y_true=y_val_c,\n",
    "                      normalize='true', cmap='Blues').ax_ \\\n",
    "                      .set_title('Regresión Logística - Matriz de confusión del conjunto de train sin normalizar\\n')"
   ]
  },
  {
   "cell_type": "markdown",
   "id": "df2e728e-c9ff-4e39-806c-a56537dddae8",
   "metadata": {},
   "source": [
    "Los resultados para el modelo de Regresión Logístico, no son del todo buenos, sin embargo nos da una primera referencia de métricas, para poder mejorar en los siguientes modelos. \n",
    "Sin bien se intento normalizar los features, la predicción no era buena (no predecia la etiqueta 0), por lo cual optamos por realizar un escalado de los datos utilizando StandardScaler. "
   ]
  },
  {
   "cell_type": "markdown",
   "id": "4713a831-8599-4a0a-ba6b-49f475ea7dda",
   "metadata": {},
   "source": [
    "#### 4.2.2 SGDClassifier "
   ]
  },
  {
   "cell_type": "code",
   "execution_count": 208,
   "id": "daf5e95d-2cbc-4a18-9177-a5aabd8eec9f",
   "metadata": {},
   "outputs": [
    {
     "data": {
      "text/plain": [
       "((4438, 23), (1902, 23))"
      ]
     },
     "execution_count": 208,
     "metadata": {},
     "output_type": "execute_result"
    }
   ],
   "source": [
    "scaler = StandardScaler()\n",
    "X_train_sgd = scaler.fit_transform(X_train_lreg)\n",
    "X_val_sgd = scaler.fit_transform(X_val_lreg)\n",
    "X_train_sgd.shape, X_val_sgd.shape"
   ]
  },
  {
   "cell_type": "code",
   "execution_count": 209,
   "id": "3c7abfab-c9a5-4d1e-bc07-c504180ad4cd",
   "metadata": {
    "tags": []
   },
   "outputs": [
    {
     "name": "stderr",
     "output_type": "stream",
     "text": [
      "/Users/lucianomantovani/opt/miniconda3/envs/diplodatos-ayvd/lib/python3.6/site-packages/sklearn/linear_model/_stochastic_gradient.py:577: ConvergenceWarning: Maximum number of iteration reached before convergence. Consider increasing max_iter to improve the fit.\n",
      "  ConvergenceWarning)\n",
      "/Users/lucianomantovani/opt/miniconda3/envs/diplodatos-ayvd/lib/python3.6/site-packages/sklearn/linear_model/_stochastic_gradient.py:577: ConvergenceWarning: Maximum number of iteration reached before convergence. Consider increasing max_iter to improve the fit.\n",
      "  ConvergenceWarning)\n",
      "/Users/lucianomantovani/opt/miniconda3/envs/diplodatos-ayvd/lib/python3.6/site-packages/sklearn/linear_model/_stochastic_gradient.py:577: ConvergenceWarning: Maximum number of iteration reached before convergence. Consider increasing max_iter to improve the fit.\n",
      "  ConvergenceWarning)\n",
      "/Users/lucianomantovani/opt/miniconda3/envs/diplodatos-ayvd/lib/python3.6/site-packages/sklearn/linear_model/_stochastic_gradient.py:577: ConvergenceWarning: Maximum number of iteration reached before convergence. Consider increasing max_iter to improve the fit.\n",
      "  ConvergenceWarning)\n",
      "/Users/lucianomantovani/opt/miniconda3/envs/diplodatos-ayvd/lib/python3.6/site-packages/sklearn/linear_model/_stochastic_gradient.py:577: ConvergenceWarning: Maximum number of iteration reached before convergence. Consider increasing max_iter to improve the fit.\n",
      "  ConvergenceWarning)\n",
      "/Users/lucianomantovani/opt/miniconda3/envs/diplodatos-ayvd/lib/python3.6/site-packages/sklearn/linear_model/_stochastic_gradient.py:577: ConvergenceWarning: Maximum number of iteration reached before convergence. Consider increasing max_iter to improve the fit.\n",
      "  ConvergenceWarning)\n",
      "/Users/lucianomantovani/opt/miniconda3/envs/diplodatos-ayvd/lib/python3.6/site-packages/sklearn/linear_model/_stochastic_gradient.py:577: ConvergenceWarning: Maximum number of iteration reached before convergence. Consider increasing max_iter to improve the fit.\n",
      "  ConvergenceWarning)\n",
      "/Users/lucianomantovani/opt/miniconda3/envs/diplodatos-ayvd/lib/python3.6/site-packages/sklearn/linear_model/_stochastic_gradient.py:577: ConvergenceWarning: Maximum number of iteration reached before convergence. Consider increasing max_iter to improve the fit.\n",
      "  ConvergenceWarning)\n",
      "/Users/lucianomantovani/opt/miniconda3/envs/diplodatos-ayvd/lib/python3.6/site-packages/sklearn/linear_model/_stochastic_gradient.py:577: ConvergenceWarning: Maximum number of iteration reached before convergence. Consider increasing max_iter to improve the fit.\n",
      "  ConvergenceWarning)\n",
      "/Users/lucianomantovani/opt/miniconda3/envs/diplodatos-ayvd/lib/python3.6/site-packages/sklearn/linear_model/_stochastic_gradient.py:577: ConvergenceWarning: Maximum number of iteration reached before convergence. Consider increasing max_iter to improve the fit.\n",
      "  ConvergenceWarning)\n",
      "/Users/lucianomantovani/opt/miniconda3/envs/diplodatos-ayvd/lib/python3.6/site-packages/sklearn/linear_model/_stochastic_gradient.py:577: ConvergenceWarning: Maximum number of iteration reached before convergence. Consider increasing max_iter to improve the fit.\n",
      "  ConvergenceWarning)\n",
      "/Users/lucianomantovani/opt/miniconda3/envs/diplodatos-ayvd/lib/python3.6/site-packages/sklearn/linear_model/_stochastic_gradient.py:577: ConvergenceWarning: Maximum number of iteration reached before convergence. Consider increasing max_iter to improve the fit.\n",
      "  ConvergenceWarning)\n",
      "/Users/lucianomantovani/opt/miniconda3/envs/diplodatos-ayvd/lib/python3.6/site-packages/sklearn/linear_model/_stochastic_gradient.py:577: ConvergenceWarning: Maximum number of iteration reached before convergence. Consider increasing max_iter to improve the fit.\n",
      "  ConvergenceWarning)\n",
      "/Users/lucianomantovani/opt/miniconda3/envs/diplodatos-ayvd/lib/python3.6/site-packages/sklearn/linear_model/_stochastic_gradient.py:577: ConvergenceWarning: Maximum number of iteration reached before convergence. Consider increasing max_iter to improve the fit.\n",
      "  ConvergenceWarning)\n",
      "/Users/lucianomantovani/opt/miniconda3/envs/diplodatos-ayvd/lib/python3.6/site-packages/sklearn/linear_model/_stochastic_gradient.py:577: ConvergenceWarning: Maximum number of iteration reached before convergence. Consider increasing max_iter to improve the fit.\n",
      "  ConvergenceWarning)\n",
      "/Users/lucianomantovani/opt/miniconda3/envs/diplodatos-ayvd/lib/python3.6/site-packages/sklearn/linear_model/_stochastic_gradient.py:577: ConvergenceWarning: Maximum number of iteration reached before convergence. Consider increasing max_iter to improve the fit.\n",
      "  ConvergenceWarning)\n",
      "/Users/lucianomantovani/opt/miniconda3/envs/diplodatos-ayvd/lib/python3.6/site-packages/sklearn/linear_model/_stochastic_gradient.py:577: ConvergenceWarning: Maximum number of iteration reached before convergence. Consider increasing max_iter to improve the fit.\n",
      "  ConvergenceWarning)\n",
      "/Users/lucianomantovani/opt/miniconda3/envs/diplodatos-ayvd/lib/python3.6/site-packages/sklearn/linear_model/_stochastic_gradient.py:577: ConvergenceWarning: Maximum number of iteration reached before convergence. Consider increasing max_iter to improve the fit.\n",
      "  ConvergenceWarning)\n",
      "/Users/lucianomantovani/opt/miniconda3/envs/diplodatos-ayvd/lib/python3.6/site-packages/sklearn/linear_model/_stochastic_gradient.py:577: ConvergenceWarning: Maximum number of iteration reached before convergence. Consider increasing max_iter to improve the fit.\n",
      "  ConvergenceWarning)\n",
      "/Users/lucianomantovani/opt/miniconda3/envs/diplodatos-ayvd/lib/python3.6/site-packages/sklearn/linear_model/_stochastic_gradient.py:577: ConvergenceWarning: Maximum number of iteration reached before convergence. Consider increasing max_iter to improve the fit.\n",
      "  ConvergenceWarning)\n",
      "/Users/lucianomantovani/opt/miniconda3/envs/diplodatos-ayvd/lib/python3.6/site-packages/sklearn/linear_model/_stochastic_gradient.py:577: ConvergenceWarning: Maximum number of iteration reached before convergence. Consider increasing max_iter to improve the fit.\n",
      "  ConvergenceWarning)\n",
      "/Users/lucianomantovani/opt/miniconda3/envs/diplodatos-ayvd/lib/python3.6/site-packages/sklearn/linear_model/_stochastic_gradient.py:577: ConvergenceWarning: Maximum number of iteration reached before convergence. Consider increasing max_iter to improve the fit.\n",
      "  ConvergenceWarning)\n",
      "/Users/lucianomantovani/opt/miniconda3/envs/diplodatos-ayvd/lib/python3.6/site-packages/sklearn/linear_model/_stochastic_gradient.py:577: ConvergenceWarning: Maximum number of iteration reached before convergence. Consider increasing max_iter to improve the fit.\n",
      "  ConvergenceWarning)\n",
      "/Users/lucianomantovani/opt/miniconda3/envs/diplodatos-ayvd/lib/python3.6/site-packages/sklearn/linear_model/_stochastic_gradient.py:577: ConvergenceWarning: Maximum number of iteration reached before convergence. Consider increasing max_iter to improve the fit.\n",
      "  ConvergenceWarning)\n",
      "/Users/lucianomantovani/opt/miniconda3/envs/diplodatos-ayvd/lib/python3.6/site-packages/sklearn/linear_model/_stochastic_gradient.py:577: ConvergenceWarning: Maximum number of iteration reached before convergence. Consider increasing max_iter to improve the fit.\n",
      "  ConvergenceWarning)\n",
      "/Users/lucianomantovani/opt/miniconda3/envs/diplodatos-ayvd/lib/python3.6/site-packages/sklearn/linear_model/_stochastic_gradient.py:577: ConvergenceWarning: Maximum number of iteration reached before convergence. Consider increasing max_iter to improve the fit.\n",
      "  ConvergenceWarning)\n",
      "/Users/lucianomantovani/opt/miniconda3/envs/diplodatos-ayvd/lib/python3.6/site-packages/sklearn/linear_model/_stochastic_gradient.py:577: ConvergenceWarning: Maximum number of iteration reached before convergence. Consider increasing max_iter to improve the fit.\n",
      "  ConvergenceWarning)\n",
      "/Users/lucianomantovani/opt/miniconda3/envs/diplodatos-ayvd/lib/python3.6/site-packages/sklearn/linear_model/_stochastic_gradient.py:577: ConvergenceWarning: Maximum number of iteration reached before convergence. Consider increasing max_iter to improve the fit.\n",
      "  ConvergenceWarning)\n",
      "/Users/lucianomantovani/opt/miniconda3/envs/diplodatos-ayvd/lib/python3.6/site-packages/sklearn/linear_model/_stochastic_gradient.py:577: ConvergenceWarning: Maximum number of iteration reached before convergence. Consider increasing max_iter to improve the fit.\n",
      "  ConvergenceWarning)\n",
      "/Users/lucianomantovani/opt/miniconda3/envs/diplodatos-ayvd/lib/python3.6/site-packages/sklearn/linear_model/_stochastic_gradient.py:577: ConvergenceWarning: Maximum number of iteration reached before convergence. Consider increasing max_iter to improve the fit.\n",
      "  ConvergenceWarning)\n",
      "/Users/lucianomantovani/opt/miniconda3/envs/diplodatos-ayvd/lib/python3.6/site-packages/sklearn/linear_model/_stochastic_gradient.py:577: ConvergenceWarning: Maximum number of iteration reached before convergence. Consider increasing max_iter to improve the fit.\n",
      "  ConvergenceWarning)\n",
      "/Users/lucianomantovani/opt/miniconda3/envs/diplodatos-ayvd/lib/python3.6/site-packages/sklearn/linear_model/_stochastic_gradient.py:577: ConvergenceWarning: Maximum number of iteration reached before convergence. Consider increasing max_iter to improve the fit.\n",
      "  ConvergenceWarning)\n",
      "/Users/lucianomantovani/opt/miniconda3/envs/diplodatos-ayvd/lib/python3.6/site-packages/sklearn/linear_model/_stochastic_gradient.py:577: ConvergenceWarning: Maximum number of iteration reached before convergence. Consider increasing max_iter to improve the fit.\n",
      "  ConvergenceWarning)\n",
      "/Users/lucianomantovani/opt/miniconda3/envs/diplodatos-ayvd/lib/python3.6/site-packages/sklearn/linear_model/_stochastic_gradient.py:577: ConvergenceWarning: Maximum number of iteration reached before convergence. Consider increasing max_iter to improve the fit.\n",
      "  ConvergenceWarning)\n",
      "/Users/lucianomantovani/opt/miniconda3/envs/diplodatos-ayvd/lib/python3.6/site-packages/sklearn/linear_model/_stochastic_gradient.py:577: ConvergenceWarning: Maximum number of iteration reached before convergence. Consider increasing max_iter to improve the fit.\n",
      "  ConvergenceWarning)\n",
      "/Users/lucianomantovani/opt/miniconda3/envs/diplodatos-ayvd/lib/python3.6/site-packages/sklearn/linear_model/_stochastic_gradient.py:577: ConvergenceWarning: Maximum number of iteration reached before convergence. Consider increasing max_iter to improve the fit.\n",
      "  ConvergenceWarning)\n",
      "/Users/lucianomantovani/opt/miniconda3/envs/diplodatos-ayvd/lib/python3.6/site-packages/sklearn/linear_model/_stochastic_gradient.py:577: ConvergenceWarning: Maximum number of iteration reached before convergence. Consider increasing max_iter to improve the fit.\n",
      "  ConvergenceWarning)\n",
      "/Users/lucianomantovani/opt/miniconda3/envs/diplodatos-ayvd/lib/python3.6/site-packages/sklearn/linear_model/_stochastic_gradient.py:577: ConvergenceWarning: Maximum number of iteration reached before convergence. Consider increasing max_iter to improve the fit.\n",
      "  ConvergenceWarning)\n",
      "/Users/lucianomantovani/opt/miniconda3/envs/diplodatos-ayvd/lib/python3.6/site-packages/sklearn/linear_model/_stochastic_gradient.py:577: ConvergenceWarning: Maximum number of iteration reached before convergence. Consider increasing max_iter to improve the fit.\n",
      "  ConvergenceWarning)\n",
      "/Users/lucianomantovani/opt/miniconda3/envs/diplodatos-ayvd/lib/python3.6/site-packages/sklearn/linear_model/_stochastic_gradient.py:577: ConvergenceWarning: Maximum number of iteration reached before convergence. Consider increasing max_iter to improve the fit.\n",
      "  ConvergenceWarning)\n",
      "/Users/lucianomantovani/opt/miniconda3/envs/diplodatos-ayvd/lib/python3.6/site-packages/sklearn/linear_model/_stochastic_gradient.py:577: ConvergenceWarning: Maximum number of iteration reached before convergence. Consider increasing max_iter to improve the fit.\n",
      "  ConvergenceWarning)\n",
      "/Users/lucianomantovani/opt/miniconda3/envs/diplodatos-ayvd/lib/python3.6/site-packages/sklearn/linear_model/_stochastic_gradient.py:577: ConvergenceWarning: Maximum number of iteration reached before convergence. Consider increasing max_iter to improve the fit.\n",
      "  ConvergenceWarning)\n",
      "/Users/lucianomantovani/opt/miniconda3/envs/diplodatos-ayvd/lib/python3.6/site-packages/sklearn/linear_model/_stochastic_gradient.py:577: ConvergenceWarning: Maximum number of iteration reached before convergence. Consider increasing max_iter to improve the fit.\n",
      "  ConvergenceWarning)\n",
      "/Users/lucianomantovani/opt/miniconda3/envs/diplodatos-ayvd/lib/python3.6/site-packages/sklearn/linear_model/_stochastic_gradient.py:577: ConvergenceWarning: Maximum number of iteration reached before convergence. Consider increasing max_iter to improve the fit.\n",
      "  ConvergenceWarning)\n",
      "/Users/lucianomantovani/opt/miniconda3/envs/diplodatos-ayvd/lib/python3.6/site-packages/sklearn/linear_model/_stochastic_gradient.py:577: ConvergenceWarning: Maximum number of iteration reached before convergence. Consider increasing max_iter to improve the fit.\n",
      "  ConvergenceWarning)\n",
      "/Users/lucianomantovani/opt/miniconda3/envs/diplodatos-ayvd/lib/python3.6/site-packages/sklearn/linear_model/_stochastic_gradient.py:577: ConvergenceWarning: Maximum number of iteration reached before convergence. Consider increasing max_iter to improve the fit.\n",
      "  ConvergenceWarning)\n",
      "/Users/lucianomantovani/opt/miniconda3/envs/diplodatos-ayvd/lib/python3.6/site-packages/sklearn/linear_model/_stochastic_gradient.py:577: ConvergenceWarning: Maximum number of iteration reached before convergence. Consider increasing max_iter to improve the fit.\n",
      "  ConvergenceWarning)\n",
      "/Users/lucianomantovani/opt/miniconda3/envs/diplodatos-ayvd/lib/python3.6/site-packages/sklearn/linear_model/_stochastic_gradient.py:577: ConvergenceWarning: Maximum number of iteration reached before convergence. Consider increasing max_iter to improve the fit.\n",
      "  ConvergenceWarning)\n",
      "/Users/lucianomantovani/opt/miniconda3/envs/diplodatos-ayvd/lib/python3.6/site-packages/sklearn/linear_model/_stochastic_gradient.py:577: ConvergenceWarning: Maximum number of iteration reached before convergence. Consider increasing max_iter to improve the fit.\n",
      "  ConvergenceWarning)\n",
      "/Users/lucianomantovani/opt/miniconda3/envs/diplodatos-ayvd/lib/python3.6/site-packages/sklearn/linear_model/_stochastic_gradient.py:577: ConvergenceWarning: Maximum number of iteration reached before convergence. Consider increasing max_iter to improve the fit.\n",
      "  ConvergenceWarning)\n",
      "/Users/lucianomantovani/opt/miniconda3/envs/diplodatos-ayvd/lib/python3.6/site-packages/sklearn/linear_model/_stochastic_gradient.py:577: ConvergenceWarning: Maximum number of iteration reached before convergence. Consider increasing max_iter to improve the fit.\n",
      "  ConvergenceWarning)\n",
      "/Users/lucianomantovani/opt/miniconda3/envs/diplodatos-ayvd/lib/python3.6/site-packages/sklearn/linear_model/_stochastic_gradient.py:577: ConvergenceWarning: Maximum number of iteration reached before convergence. Consider increasing max_iter to improve the fit.\n",
      "  ConvergenceWarning)\n",
      "/Users/lucianomantovani/opt/miniconda3/envs/diplodatos-ayvd/lib/python3.6/site-packages/sklearn/linear_model/_stochastic_gradient.py:577: ConvergenceWarning: Maximum number of iteration reached before convergence. Consider increasing max_iter to improve the fit.\n",
      "  ConvergenceWarning)\n",
      "/Users/lucianomantovani/opt/miniconda3/envs/diplodatos-ayvd/lib/python3.6/site-packages/sklearn/linear_model/_stochastic_gradient.py:577: ConvergenceWarning: Maximum number of iteration reached before convergence. Consider increasing max_iter to improve the fit.\n",
      "  ConvergenceWarning)\n",
      "/Users/lucianomantovani/opt/miniconda3/envs/diplodatos-ayvd/lib/python3.6/site-packages/sklearn/linear_model/_stochastic_gradient.py:577: ConvergenceWarning: Maximum number of iteration reached before convergence. Consider increasing max_iter to improve the fit.\n",
      "  ConvergenceWarning)\n",
      "/Users/lucianomantovani/opt/miniconda3/envs/diplodatos-ayvd/lib/python3.6/site-packages/sklearn/linear_model/_stochastic_gradient.py:577: ConvergenceWarning: Maximum number of iteration reached before convergence. Consider increasing max_iter to improve the fit.\n",
      "  ConvergenceWarning)\n",
      "/Users/lucianomantovani/opt/miniconda3/envs/diplodatos-ayvd/lib/python3.6/site-packages/sklearn/linear_model/_stochastic_gradient.py:577: ConvergenceWarning: Maximum number of iteration reached before convergence. Consider increasing max_iter to improve the fit.\n",
      "  ConvergenceWarning)\n",
      "/Users/lucianomantovani/opt/miniconda3/envs/diplodatos-ayvd/lib/python3.6/site-packages/sklearn/linear_model/_stochastic_gradient.py:577: ConvergenceWarning: Maximum number of iteration reached before convergence. Consider increasing max_iter to improve the fit.\n",
      "  ConvergenceWarning)\n",
      "/Users/lucianomantovani/opt/miniconda3/envs/diplodatos-ayvd/lib/python3.6/site-packages/sklearn/linear_model/_stochastic_gradient.py:577: ConvergenceWarning: Maximum number of iteration reached before convergence. Consider increasing max_iter to improve the fit.\n",
      "  ConvergenceWarning)\n",
      "/Users/lucianomantovani/opt/miniconda3/envs/diplodatos-ayvd/lib/python3.6/site-packages/sklearn/linear_model/_stochastic_gradient.py:577: ConvergenceWarning: Maximum number of iteration reached before convergence. Consider increasing max_iter to improve the fit.\n",
      "  ConvergenceWarning)\n",
      "/Users/lucianomantovani/opt/miniconda3/envs/diplodatos-ayvd/lib/python3.6/site-packages/sklearn/linear_model/_stochastic_gradient.py:577: ConvergenceWarning: Maximum number of iteration reached before convergence. Consider increasing max_iter to improve the fit.\n",
      "  ConvergenceWarning)\n",
      "/Users/lucianomantovani/opt/miniconda3/envs/diplodatos-ayvd/lib/python3.6/site-packages/sklearn/linear_model/_stochastic_gradient.py:577: ConvergenceWarning: Maximum number of iteration reached before convergence. Consider increasing max_iter to improve the fit.\n",
      "  ConvergenceWarning)\n",
      "/Users/lucianomantovani/opt/miniconda3/envs/diplodatos-ayvd/lib/python3.6/site-packages/sklearn/linear_model/_stochastic_gradient.py:577: ConvergenceWarning: Maximum number of iteration reached before convergence. Consider increasing max_iter to improve the fit.\n",
      "  ConvergenceWarning)\n",
      "/Users/lucianomantovani/opt/miniconda3/envs/diplodatos-ayvd/lib/python3.6/site-packages/sklearn/linear_model/_stochastic_gradient.py:577: ConvergenceWarning: Maximum number of iteration reached before convergence. Consider increasing max_iter to improve the fit.\n",
      "  ConvergenceWarning)\n",
      "/Users/lucianomantovani/opt/miniconda3/envs/diplodatos-ayvd/lib/python3.6/site-packages/sklearn/linear_model/_stochastic_gradient.py:577: ConvergenceWarning: Maximum number of iteration reached before convergence. Consider increasing max_iter to improve the fit.\n",
      "  ConvergenceWarning)\n",
      "/Users/lucianomantovani/opt/miniconda3/envs/diplodatos-ayvd/lib/python3.6/site-packages/sklearn/linear_model/_stochastic_gradient.py:577: ConvergenceWarning: Maximum number of iteration reached before convergence. Consider increasing max_iter to improve the fit.\n",
      "  ConvergenceWarning)\n",
      "/Users/lucianomantovani/opt/miniconda3/envs/diplodatos-ayvd/lib/python3.6/site-packages/sklearn/linear_model/_stochastic_gradient.py:577: ConvergenceWarning: Maximum number of iteration reached before convergence. Consider increasing max_iter to improve the fit.\n",
      "  ConvergenceWarning)\n",
      "/Users/lucianomantovani/opt/miniconda3/envs/diplodatos-ayvd/lib/python3.6/site-packages/sklearn/linear_model/_stochastic_gradient.py:577: ConvergenceWarning: Maximum number of iteration reached before convergence. Consider increasing max_iter to improve the fit.\n",
      "  ConvergenceWarning)\n",
      "/Users/lucianomantovani/opt/miniconda3/envs/diplodatos-ayvd/lib/python3.6/site-packages/sklearn/linear_model/_stochastic_gradient.py:577: ConvergenceWarning: Maximum number of iteration reached before convergence. Consider increasing max_iter to improve the fit.\n",
      "  ConvergenceWarning)\n",
      "/Users/lucianomantovani/opt/miniconda3/envs/diplodatos-ayvd/lib/python3.6/site-packages/sklearn/linear_model/_stochastic_gradient.py:577: ConvergenceWarning: Maximum number of iteration reached before convergence. Consider increasing max_iter to improve the fit.\n",
      "  ConvergenceWarning)\n",
      "/Users/lucianomantovani/opt/miniconda3/envs/diplodatos-ayvd/lib/python3.6/site-packages/sklearn/linear_model/_stochastic_gradient.py:577: ConvergenceWarning: Maximum number of iteration reached before convergence. Consider increasing max_iter to improve the fit.\n",
      "  ConvergenceWarning)\n",
      "/Users/lucianomantovani/opt/miniconda3/envs/diplodatos-ayvd/lib/python3.6/site-packages/sklearn/linear_model/_stochastic_gradient.py:577: ConvergenceWarning: Maximum number of iteration reached before convergence. Consider increasing max_iter to improve the fit.\n",
      "  ConvergenceWarning)\n"
     ]
    },
    {
     "data": {
      "text/plain": [
       "GridSearchCV(cv=3, estimator=SGDClassifier(random_state=0, shuffle=False),\n",
       "             param_grid={'alpha': [0.001, 0.01, 0.1, 1],\n",
       "                         'eta0': [0.001, 0.0001, 1e-05, 10],\n",
       "                         'learning_rate': ['optimal', 'constant', 'adaptive'],\n",
       "                         'loss': ['hinge', 'log', 'modified_huber',\n",
       "                                  'squared_hinge', 'perceptron'],\n",
       "                         'penalty': ['l2', 'l1']},\n",
       "             scoring='f1')"
      ]
     },
     "execution_count": 209,
     "metadata": {},
     "output_type": "execute_result"
    }
   ],
   "source": [
    "param_grid = {\n",
    "    'loss': ['hinge','log', 'modified_huber', 'squared_hinge', 'perceptron'],\n",
    "    'alpha': [0.001, 0.01, 0.1, 1],\n",
    "    'penalty': ['l2','l1'],\n",
    "    'eta0': [1e-3, 1e-4, 1e-5, 10],\n",
    "    'learning_rate': ['optimal', 'constant', 'adaptive']\n",
    "    #'max_iter': [1000, 2000, 5000]\n",
    "}\n",
    "\n",
    "model = SGDClassifier(random_state= 0, shuffle=False)\n",
    "cv = GridSearchCV(model, param_grid, scoring='f1',cv=3)\n",
    "cv.fit(X_train_sgd, y_train_c)\n",
    "#cv.fit(X, y)\n",
    "\n",
    "#results = cv.cv_results_\n",
    "#params = results['params']"
   ]
  },
  {
   "cell_type": "code",
   "execution_count": 210,
   "id": "f2933da1-8637-49a6-b895-22cc35fe5a87",
   "metadata": {},
   "outputs": [
    {
     "data": {
      "text/plain": [
       "SGDClassifier(alpha=0.1, eta0=0.001, loss='squared_hinge', penalty='l1',\n",
       "              random_state=0, shuffle=False)"
      ]
     },
     "execution_count": 210,
     "metadata": {},
     "output_type": "execute_result"
    }
   ],
   "source": [
    "cv.best_estimator_"
   ]
  },
  {
   "cell_type": "code",
   "execution_count": 211,
   "id": "21481b12-2e6b-45d3-a9bc-608346d8c711",
   "metadata": {},
   "outputs": [],
   "source": [
    "clf_best = cv.best_estimator_\n",
    "y_train_pred = clf_best.predict(X_train_sgd)\n",
    "y_val_pred = clf_best.predict(X_val_sgd)"
   ]
  },
  {
   "cell_type": "code",
   "execution_count": 212,
   "id": "88c54269-86f8-4651-89c4-133ae295c762",
   "metadata": {},
   "outputs": [
    {
     "name": "stdout",
     "output_type": "stream",
     "text": [
      "==============================================================\n",
      "SGDClassifier - Reporte de clasificación del conjunto de train\n",
      "==============================================================\n",
      "              precision    recall  f1-score   support\n",
      "\n",
      "           0       0.73      0.58      0.65      2812\n",
      "           1       0.46      0.62      0.53      1626\n",
      "\n",
      "    accuracy                           0.60      4438\n",
      "   macro avg       0.60      0.60      0.59      4438\n",
      "weighted avg       0.63      0.60      0.61      4438\n",
      "\n"
     ]
    }
   ],
   "source": [
    "# Métricas en train\n",
    "text = \"SGDClassifier - Reporte de clasificación del conjunto de train\" \n",
    "print(len(text)*\"=\")\n",
    "print(text)\n",
    "print(len(text)*\"=\")\n",
    "print(classification_report(y_train_c, y_train_pred))"
   ]
  },
  {
   "cell_type": "code",
   "execution_count": 213,
   "id": "46e5cbfa-bc85-4aab-8815-744bd8ce59be",
   "metadata": {},
   "outputs": [
    {
     "name": "stdout",
     "output_type": "stream",
     "text": [
      "===================================================================\n",
      "SGDClassifier - Reporte de clasificación del conjunto de validación\n",
      "===================================================================\n",
      "              precision    recall  f1-score   support\n",
      "\n",
      "           0       0.69      0.65      0.67      1178\n",
      "           1       0.48      0.53      0.50       724\n",
      "\n",
      "    accuracy                           0.60      1902\n",
      "   macro avg       0.58      0.59      0.59      1902\n",
      "weighted avg       0.61      0.60      0.60      1902\n",
      "\n"
     ]
    }
   ],
   "source": [
    "# Evaluar con datos de validación\n",
    "text = \"SGDClassifier - Reporte de clasificación del conjunto de validación\" \n",
    "print(len(text)*\"=\")\n",
    "print(text)\n",
    "print(len(text)*\"=\")\n",
    "print(classification_report(y_val_c, y_val_pred))"
   ]
  },
  {
   "cell_type": "markdown",
   "id": "bc6eb162-332e-445a-8ac5-3e4c183d0e0a",
   "metadata": {},
   "source": [
    "Observamos que las métricas obtenidas son mejores para el caso de la regresión logística, con parámetros por defecto calculada en primer instancia. A continuación, probaremos un modelo de clasificación no lineal, el árbol de decisión. "
   ]
  },
  {
   "cell_type": "code",
   "execution_count": 214,
   "id": "46f32a8d-901c-4ac0-9653-e0466cf735fa",
   "metadata": {},
   "outputs": [
    {
     "data": {
      "text/plain": [
       "Text(0.5, 1.0, 'SGD - Matriz de confusión del conjunto de train')"
      ]
     },
     "execution_count": 214,
     "metadata": {},
     "output_type": "execute_result"
    },
    {
     "data": {
      "text/plain": [
       "<Figure size 432x288 with 0 Axes>"
      ]
     },
     "metadata": {},
     "output_type": "display_data"
    },
    {
     "data": {
      "image/png": "[encoded data removed]",
      "text/plain": [
       "<Figure size 432x288 with 2 Axes>"
      ]
     },
     "metadata": {
      "needs_background": "light"
     },
     "output_type": "display_data"
    }
   ],
   "source": [
    "plt.figure()\n",
    "plot_confusion_matrix(estimator=clf_best, X=X_train_sgd, y_true=y_train_c,\n",
    "                      normalize='true', cmap='Blues').ax_ \\\n",
    "                      .set_title('SGD - Matriz de confusión del conjunto de train')"
   ]
  },
  {
   "cell_type": "code",
   "execution_count": 215,
   "id": "a5e22b49-bc38-448d-bb2e-1235bc9bd83b",
   "metadata": {},
   "outputs": [
    {
     "data": {
      "text/plain": [
       "Text(0.5, 1.0, 'SGD - Matriz de confusión del conjunto de train sin normalizar\\n')"
      ]
     },
     "execution_count": 215,
     "metadata": {},
     "output_type": "execute_result"
    },
    {
     "data": {
      "text/plain": [
       "<Figure size 432x288 with 0 Axes>"
      ]
     },
     "metadata": {},
     "output_type": "display_data"
    },
    {
     "data": {
      "image/png": "[encoded data removed]",
      "text/plain": [
       "<Figure size 432x288 with 2 Axes>"
      ]
     },
     "metadata": {
      "needs_background": "light"
     },
     "output_type": "display_data"
    }
   ],
   "source": [
    "plt.figure()\n",
    "plot_confusion_matrix(estimator=clf_best, X=X_val_sgd, y_true=y_val_c,\n",
    "                      normalize='true', cmap='Blues').ax_ \\\n",
    "                      .set_title('SGD - Matriz de confusión del conjunto de train sin normalizar\\n')"
   ]
  },
  {
   "cell_type": "markdown",
   "id": "736302d2-819d-45c2-8b25-e34a05073a32",
   "metadata": {},
   "source": [
    "### 4.3 Modelos no lineales de clasificación: Árboles de decisión "
   ]
  },
  {
   "cell_type": "code",
   "execution_count": 216,
   "id": "be73309a-5823-4b68-a63f-a6d6336c78ac",
   "metadata": {},
   "outputs": [],
   "source": [
    "X_train_tree = X_train_sgd\n",
    "X_val_tree = X_val_sgd"
   ]
  },
  {
   "cell_type": "code",
   "execution_count": 224,
   "id": "db1a75d1-0c34-48db-a38c-4ec8f14b8b69",
   "metadata": {},
   "outputs": [
    {
     "data": {
      "text/plain": [
       "GridSearchCV(cv=5, estimator=DecisionTreeClassifier(random_state=0),\n",
       "             param_grid={'criterion': ['gini', 'entropy'],\n",
       "                         'max_depth': [10, 15, 20, 25, 30],\n",
       "                         'min_samples_leaf': [2, 4, 5, 6, 8, 10],\n",
       "                         'min_samples_split': [3, 5, 10, 15, 20, 25, 30]},\n",
       "             scoring='f1')"
      ]
     },
     "execution_count": 224,
     "metadata": {},
     "output_type": "execute_result"
    }
   ],
   "source": [
    "param_grid = {\n",
    "    'max_depth': [10, 15, 20, 25, 30],\n",
    "    'criterion':['gini', 'entropy'],\n",
    "    'min_samples_split': [3,5, 10, 15, 20, 25,30],\n",
    "    'min_samples_leaf':[2, 4, 5, 6, 8, 10]}\n",
    "\n",
    "model_tree = DecisionTreeClassifier(random_state= 0)\n",
    "cv_tree = GridSearchCV(model_tree, param_grid, scoring='f1', cv=5)\n",
    "cv_tree.fit(X_train_tree, y_train_c)\n",
    "#cv.fit(X, y)\n",
    "\n",
    "#results_tree = cv.cv_results_\n",
    "#params_tree = results_tree['params']"
   ]
  },
  {
   "cell_type": "code",
   "execution_count": 227,
   "id": "ef6b02e3-285f-4db6-a0a7-f1b48cc900e6",
   "metadata": {},
   "outputs": [
    {
     "data": {
      "text/plain": [
       "DecisionTreeClassifier(criterion='entropy', max_depth=10, min_samples_leaf=2,\n",
       "                       min_samples_split=3, random_state=0)"
      ]
     },
     "execution_count": 227,
     "metadata": {},
     "output_type": "execute_result"
    }
   ],
   "source": [
    "cv_tree.best_estimator_"
   ]
  },
  {
   "cell_type": "code",
   "execution_count": 226,
   "id": "bcf0d406-e5cc-41c3-a248-f60b77ac605d",
   "metadata": {},
   "outputs": [],
   "source": [
    "clf_best_tree = cv_tree.best_estimator_\n",
    "y_train_pred_tree = clf_best_tree.predict(X_train_tree)\n",
    "y_val_pred_tree = clf_best_tree.predict(X_val_tree)"
   ]
  },
  {
   "cell_type": "code",
   "execution_count": 222,
   "id": "b21107ef-2440-48e0-8053-0731e7d95924",
   "metadata": {},
   "outputs": [
    {
     "name": "stdout",
     "output_type": "stream",
     "text": [
      "======================================================\n",
      "Árbol - Reporte de clasificación del conjunto de train\n",
      "======================================================\n",
      "              precision    recall  f1-score   support\n",
      "\n",
      "           0       0.74      0.83      0.78      2812\n",
      "           1       0.63      0.49      0.55      1626\n",
      "\n",
      "    accuracy                           0.71      4438\n",
      "   macro avg       0.68      0.66      0.67      4438\n",
      "weighted avg       0.70      0.71      0.70      4438\n",
      "\n"
     ]
    }
   ],
   "source": [
    "# Métricas en train\n",
    "text = \"Árbol - Reporte de clasificación del conjunto de train\" \n",
    "print(len(text)*\"=\")\n",
    "print(text)\n",
    "print(len(text)*\"=\")\n",
    "print(classification_report(y_train_c, y_train_pred_tree))"
   ]
  },
  {
   "cell_type": "code",
   "execution_count": 223,
   "id": "13e592e5-5820-45b7-8b72-148d2bf2fad9",
   "metadata": {},
   "outputs": [
    {
     "name": "stdout",
     "output_type": "stream",
     "text": [
      "===========================================================\n",
      "Árbol - Reporte de clasificación del conjunto de validación\n",
      "===========================================================\n",
      "              precision    recall  f1-score   support\n",
      "\n",
      "           0       0.72      0.75      0.73      1178\n",
      "           1       0.56      0.53      0.55       724\n",
      "\n",
      "    accuracy                           0.66      1902\n",
      "   macro avg       0.64      0.64      0.64      1902\n",
      "weighted avg       0.66      0.66      0.66      1902\n",
      "\n"
     ]
    }
   ],
   "source": [
    "# Métricas en validación\n",
    "text = \"Árbol - Reporte de clasificación del conjunto de validación\" \n",
    "print(len(text)*\"=\")\n",
    "print(text)\n",
    "print(len(text)*\"=\")\n",
    "print(classification_report(y_val_c, y_val_pred_tree))"
   ]
  },
  {
   "cell_type": "markdown",
   "id": "9b7c8fa3-7c23-4f03-abfc-01984e5ac60a",
   "metadata": {},
   "source": [
    "En una primera instancia se creo un modelo de árbol de decisión con parametros por defecto, el cual llegaba a una profundidad de 33, realizando overfiting sobre el conjunto de entrenamiento. Sin embargo, esto nos permitió en primer lugar, comprobar que con estos datos es posible la predicción de la variable objetivo utilizando este modelo y por otro lado, tener una serie de parémetros de referencia para poder encontrar el mejor árbol. \n",
    "\n",
    "Se observa que se logran mejores resultados en f1-score con un árbol de decisión, en comparación con los modelos lineales instanciados en el apartado anterior."
   ]
  },
  {
   "cell_type": "code",
   "execution_count": 73,
   "id": "fd2e3e39-22ff-4d07-af8e-ad4502e98d22",
   "metadata": {},
   "outputs": [
    {
     "data": {
      "text/plain": [
       "Text(0.5, 1.0, 'Árbol - Matriz de confusión del conjunto de train')"
      ]
     },
     "execution_count": 73,
     "metadata": {},
     "output_type": "execute_result"
    },
    {
     "data": {
      "text/plain": [
       "<Figure size 432x288 with 0 Axes>"
      ]
     },
     "metadata": {},
     "output_type": "display_data"
    },
    {
     "data": {
      "image/png": "[encoded data removed]",
      "text/plain": [
       "<Figure size 432x288 with 2 Axes>"
      ]
     },
     "metadata": {
      "needs_background": "light"
     },
     "output_type": "display_data"
    }
   ],
   "source": [
    "plt.figure()\n",
    "plot_confusion_matrix(estimator=clf_best_tree, X=X_train_tree, y_true=y_train_c,\n",
    "                      normalize='true', cmap='Blues').ax_ \\\n",
    "                      .set_title('Árbol - Matriz de confusión del conjunto de train')"
   ]
  },
  {
   "cell_type": "code",
   "execution_count": 74,
   "id": "abbba582-9274-4934-90ca-5f6e30cd710a",
   "metadata": {},
   "outputs": [
    {
     "data": {
      "text/plain": [
       "Text(0.5, 1.0, 'Árbol - Matriz de confusión del conjunto de train sin normalizar\\n')"
      ]
     },
     "execution_count": 74,
     "metadata": {},
     "output_type": "execute_result"
    },
    {
     "data": {
      "text/plain": [
       "<Figure size 432x288 with 0 Axes>"
      ]
     },
     "metadata": {},
     "output_type": "display_data"
    },
    {
     "data": {
      "image/png": "[encoded data removed]",
      "text/plain": [
       "<Figure size 432x288 with 2 Axes>"
      ]
     },
     "metadata": {
      "needs_background": "light"
     },
     "output_type": "display_data"
    }
   ],
   "source": [
    "plt.figure()\n",
    "plot_confusion_matrix(estimator=clf_best_tree, X=X_val_tree, y_true=y_val_c,\n",
    "                      normalize='true', cmap='Blues').ax_ \\\n",
    "                      .set_title('Árbol - Matriz de confusión del conjunto de train sin normalizar\\n')"
   ]
  },
  {
   "cell_type": "markdown",
   "id": "e9aff0d7-ee4c-4880-b368-67dec30241c3",
   "metadata": {},
   "source": [
    "### 4.4 Elección del mejor modelo de Clasificación"
   ]
  },
  {
   "cell_type": "code",
   "execution_count": 75,
   "id": "521529a1-64c1-4b93-8fad-1d5448d21011",
   "metadata": {},
   "outputs": [],
   "source": [
    "X_test_c = X_test_c[np.concatenate((num_cols,cat_cols))]\n",
    "X_test_c = scaler.fit_transform(X_test_c)"
   ]
  },
  {
   "cell_type": "code",
   "execution_count": 76,
   "id": "70efe1c4-6e46-4268-8c49-5752b9c926ae",
   "metadata": {},
   "outputs": [
    {
     "data": {
      "text/plain": [
       "DecisionTreeClassifier(criterion='entropy', max_depth=10, min_samples_leaf=5,\n",
       "                       min_samples_split=20, random_state=0)"
      ]
     },
     "execution_count": 76,
     "metadata": {},
     "output_type": "execute_result"
    }
   ],
   "source": [
    "# Entrenamos el modelo\n",
    "clf_best_tree.fit(X_train_tree, y_train_c)"
   ]
  },
  {
   "cell_type": "code",
   "execution_count": 77,
   "id": "e0196383-d51f-419f-b379-64b699f02f9d",
   "metadata": {},
   "outputs": [],
   "source": [
    "# Predicción en val y test\n",
    "y_train_pred_tree = clf_best_tree.predict(X_train_tree)\n",
    "y_val_pred_tree = clf_best_tree.predict(X_val_tree)\n",
    "y_test_pred_tree = clf_best_tree.predict(X_test_c)"
   ]
  },
  {
   "cell_type": "code",
   "execution_count": 78,
   "id": "97e4e6ff-d292-4f17-9f82-a2e313b72ce0",
   "metadata": {},
   "outputs": [
    {
     "name": "stdout",
     "output_type": "stream",
     "text": [
      "======================================================\n",
      "Árbol - Reporte de clasificación del conjunto de train\n",
      "======================================================\n",
      "              precision    recall  f1-score   support\n",
      "\n",
      "           0       0.82      0.83      0.83      3208\n",
      "           1       0.69      0.68      0.68      1769\n",
      "\n",
      "    accuracy                           0.78      4977\n",
      "   macro avg       0.76      0.75      0.75      4977\n",
      "weighted avg       0.78      0.78      0.78      4977\n",
      "\n"
     ]
    }
   ],
   "source": [
    "# Métricas en train\n",
    "text = \"Árbol - Reporte de clasificación del conjunto de train\" \n",
    "print(len(text)*\"=\")\n",
    "print(text)\n",
    "print(len(text)*\"=\")\n",
    "print(classification_report(y_train_c, y_train_pred_tree))"
   ]
  },
  {
   "cell_type": "code",
   "execution_count": 79,
   "id": "597871c9-2169-4f03-b196-945d6eb12d4e",
   "metadata": {},
   "outputs": [
    {
     "name": "stdout",
     "output_type": "stream",
     "text": [
      "===========================================================\n",
      "Árbol - Reporte de clasificación del conjunto de validación\n",
      "===========================================================\n",
      "              precision    recall  f1-score   support\n",
      "\n",
      "           0       0.75      0.77      0.76      1342\n",
      "           1       0.60      0.58      0.59       792\n",
      "\n",
      "    accuracy                           0.70      2134\n",
      "   macro avg       0.67      0.67      0.67      2134\n",
      "weighted avg       0.70      0.70      0.70      2134\n",
      "\n"
     ]
    }
   ],
   "source": [
    "# Métricas en validación\n",
    "text = \"Árbol - Reporte de clasificación del conjunto de validación\" \n",
    "print(len(text)*\"=\")\n",
    "print(text)\n",
    "print(len(text)*\"=\")\n",
    "print(classification_report(y_val_c, y_val_pred_tree))"
   ]
  },
  {
   "cell_type": "code",
   "execution_count": 80,
   "id": "0f122206-a4cb-4af7-b473-cee2534f1f1e",
   "metadata": {},
   "outputs": [
    {
     "name": "stdout",
     "output_type": "stream",
     "text": [
      "===========================================================\n",
      "Árbol - Reporte de clasificación del conjunto de validación\n",
      "===========================================================\n",
      "              precision    recall  f1-score   support\n",
      "\n",
      "           0       0.91      0.79      0.85       337\n",
      "           1       0.36      0.61      0.45        66\n",
      "\n",
      "    accuracy                           0.76       403\n",
      "   macro avg       0.64      0.70      0.65       403\n",
      "weighted avg       0.82      0.76      0.78       403\n",
      "\n"
     ]
    }
   ],
   "source": [
    "# Métricas en test\n",
    "text = \"Árbol - Reporte de clasificación del conjunto de validación\" \n",
    "print(len(text)*\"=\")\n",
    "print(text)\n",
    "print(len(text)*\"=\")\n",
    "print(classification_report(y_cla_test, y_test_pred_tree))"
   ]
  },
  {
   "cell_type": "code",
   "execution_count": 81,
   "id": "57551b42-242d-46c5-bf51-1a3ca54417da",
   "metadata": {},
   "outputs": [
    {
     "data": {
      "text/plain": [
       "Text(0.5, 1.0, 'Árbol - Matriz de confusión del conjunto de test')"
      ]
     },
     "execution_count": 81,
     "metadata": {},
     "output_type": "execute_result"
    },
    {
     "data": {
      "text/plain": [
       "<Figure size 432x288 with 0 Axes>"
      ]
     },
     "metadata": {},
     "output_type": "display_data"
    },
    {
     "data": {
      "image/png": "[encoded data removed]",
      "text/plain": [
       "<Figure size 432x288 with 2 Axes>"
      ]
     },
     "metadata": {
      "needs_background": "light"
     },
     "output_type": "display_data"
    }
   ],
   "source": [
    "plt.figure()\n",
    "plot_confusion_matrix(estimator=clf_best_tree, X=X_test_c, y_true=y_cla_test,\n",
    "                      normalize='true', cmap='Greens').ax_ \\\n",
    "                      .set_title('Árbol - Matriz de confusión del conjunto de test')"
   ]
  }
 ],
 "metadata": {
  "kernelspec": {
   "display_name": "Python 3",
   "language": "python",
   "name": "python3"
  },
  "language_info": {
   "codemirror_mode": {
    "name": "ipython",
    "version": 3
   },
   "file_extension": ".py",
   "mimetype": "text/x-python",
   "name": "python",
   "nbconvert_exporter": "python",
   "pygments_lexer": "ipython3",
   "version": "3.6.13"
  }
 },
 "nbformat": 4,
 "nbformat_minor": 5
}
