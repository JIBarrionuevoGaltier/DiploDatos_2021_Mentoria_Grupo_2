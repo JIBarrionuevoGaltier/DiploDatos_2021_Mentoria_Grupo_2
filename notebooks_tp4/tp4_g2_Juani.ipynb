{
 "cells": [
  {
   "cell_type": "markdown",
   "id": "23fb6811-f919-4985-acd4-32ef787b0129",
   "metadata": {},
   "source": [
    "# Diplomatura en Ciencia de Datos, Aprendizaje Automático y sus Aplicaciones\n",
    "\n",
    "<center>\n",
    "<img \n",
    "     src=\"http://www2.famaf.unc.edu.ar/~efernandez/egeo/img/logos/famaf.jpg\" \n",
    "     alt=\"Drawing\" \n",
    "     style=\"width:30%;\"\n",
    "/>\n",
    "</center>\n",
    "\n",
    "### Universidad Nacional de Córdoba\n",
    "---"
   ]
  },
  {
   "cell_type": "code",
   "execution_count": 1,
   "id": "5ac1a49f-b0f8-4bf7-bb48-b2d7b7dd0582",
   "metadata": {},
   "outputs": [],
   "source": [
    "import warnings\n",
    "import datetime\n",
    "\n",
    "import numpy as np\n",
    "import pandas as pd\n",
    "import seaborn as sns\n",
    "import statsmodels.api as sm\n",
    "import matplotlib.pyplot as plt\n",
    "import math\n",
    "\n",
    "from sklearn.model_selection import train_test_split\n",
    "from sklearn.model_selection import GridSearchCV\n",
    "from sklearn.preprocessing import MaxAbsScaler\n",
    "from sklearn.preprocessing import MinMaxScaler\n",
    "from sklearn.preprocessing import StandardScaler\n",
    "from sklearn.pipeline import make_pipeline\n",
    "from sklearn.metrics import mean_squared_error\n",
    "from sklearn.metrics import mean_absolute_error\n",
    "\n",
    "from scipy import stats\n",
    "from statsmodels.tsa.arima.model import ARIMA\n",
    "from statsmodels.tsa.holtwinters import SimpleExpSmoothing\n",
    "\n",
    "from pandas.plotting import lag_plot\n",
    "\n",
    "import pyarrow\n",
    "import fastparquet\n",
    "\n",
    "import statsmodels"
   ]
  },
  {
   "cell_type": "code",
   "execution_count": 2,
   "id": "32c67db3-7952-448d-a587-963e6595f46e",
   "metadata": {},
   "outputs": [
    {
     "data": {
      "text/html": [
       "<div>\n",
       "<style scoped>\n",
       "    .dataframe tbody tr th:only-of-type {\n",
       "        vertical-align: middle;\n",
       "    }\n",
       "\n",
       "    .dataframe tbody tr th {\n",
       "        vertical-align: top;\n",
       "    }\n",
       "\n",
       "    .dataframe thead th {\n",
       "        text-align: right;\n",
       "    }\n",
       "</style>\n",
       "<table border=\"1\" class=\"dataframe\">\n",
       "  <thead>\n",
       "    <tr style=\"text-align: right;\">\n",
       "      <th></th>\n",
       "      <th>dni_titular_movimiento</th>\n",
       "      <th>anio_mes_cupon</th>\n",
       "      <th>antig_cliente</th>\n",
       "      <th>monto_ajustado</th>\n",
       "      <th>comercio_cat=0</th>\n",
       "      <th>comercio_cat=1</th>\n",
       "      <th>comercio_cat=2</th>\n",
       "      <th>comercio_cat=3</th>\n",
       "      <th>comercio_cat=4</th>\n",
       "      <th>comercio_cat=5</th>\n",
       "      <th>...</th>\n",
       "      <th>producto_naranja_movimiento=PL</th>\n",
       "      <th>producto_naranja_movimiento=PN</th>\n",
       "      <th>producto_naranja_movimiento=PP</th>\n",
       "      <th>producto_naranja_movimiento=TA</th>\n",
       "      <th>producto_naranja_movimiento=VI</th>\n",
       "      <th>producto_naranja_movimiento=ZE</th>\n",
       "      <th>tipo_producto_tarjeta_movimiento=0</th>\n",
       "      <th>tipo_producto_tarjeta_movimiento=3</th>\n",
       "      <th>tipo_producto_tarjeta_movimiento=4</th>\n",
       "      <th>fg_aumentado</th>\n",
       "    </tr>\n",
       "  </thead>\n",
       "  <tbody>\n",
       "    <tr>\n",
       "      <th>0</th>\n",
       "      <td>000000b5aea2c9ea7cc155f6ebcef97f826</td>\n",
       "      <td>202008</td>\n",
       "      <td>225</td>\n",
       "      <td>-325.68</td>\n",
       "      <td>69.0</td>\n",
       "      <td>0.0</td>\n",
       "      <td>0.0</td>\n",
       "      <td>0.0</td>\n",
       "      <td>0.0</td>\n",
       "      <td>0.0</td>\n",
       "      <td>...</td>\n",
       "      <td>69.0</td>\n",
       "      <td>0.0</td>\n",
       "      <td>0.0</td>\n",
       "      <td>0.0</td>\n",
       "      <td>0.0</td>\n",
       "      <td>0.0</td>\n",
       "      <td>69.0</td>\n",
       "      <td>0.0</td>\n",
       "      <td>0.0</td>\n",
       "      <td>0</td>\n",
       "    </tr>\n",
       "    <tr>\n",
       "      <th>1</th>\n",
       "      <td>000000b5aea2c9ea7cc155f6ebcef97f826</td>\n",
       "      <td>202009</td>\n",
       "      <td>226</td>\n",
       "      <td>-318.09</td>\n",
       "      <td>69.0</td>\n",
       "      <td>0.0</td>\n",
       "      <td>0.0</td>\n",
       "      <td>0.0</td>\n",
       "      <td>0.0</td>\n",
       "      <td>0.0</td>\n",
       "      <td>...</td>\n",
       "      <td>69.0</td>\n",
       "      <td>0.0</td>\n",
       "      <td>0.0</td>\n",
       "      <td>0.0</td>\n",
       "      <td>0.0</td>\n",
       "      <td>0.0</td>\n",
       "      <td>69.0</td>\n",
       "      <td>0.0</td>\n",
       "      <td>0.0</td>\n",
       "      <td>0</td>\n",
       "    </tr>\n",
       "    <tr>\n",
       "      <th>2</th>\n",
       "      <td>000000b5aea2c9ea7cc155f6ebcef97f826</td>\n",
       "      <td>202010</td>\n",
       "      <td>227</td>\n",
       "      <td>-307.74</td>\n",
       "      <td>69.0</td>\n",
       "      <td>0.0</td>\n",
       "      <td>0.0</td>\n",
       "      <td>0.0</td>\n",
       "      <td>0.0</td>\n",
       "      <td>0.0</td>\n",
       "      <td>...</td>\n",
       "      <td>69.0</td>\n",
       "      <td>0.0</td>\n",
       "      <td>0.0</td>\n",
       "      <td>0.0</td>\n",
       "      <td>0.0</td>\n",
       "      <td>0.0</td>\n",
       "      <td>69.0</td>\n",
       "      <td>0.0</td>\n",
       "      <td>0.0</td>\n",
       "      <td>0</td>\n",
       "    </tr>\n",
       "    <tr>\n",
       "      <th>3</th>\n",
       "      <td>000000b5aea2c9ea7cc155f6ebcef97f826</td>\n",
       "      <td>202011</td>\n",
       "      <td>228</td>\n",
       "      <td>-299.46</td>\n",
       "      <td>69.0</td>\n",
       "      <td>0.0</td>\n",
       "      <td>0.0</td>\n",
       "      <td>0.0</td>\n",
       "      <td>0.0</td>\n",
       "      <td>0.0</td>\n",
       "      <td>...</td>\n",
       "      <td>69.0</td>\n",
       "      <td>0.0</td>\n",
       "      <td>0.0</td>\n",
       "      <td>0.0</td>\n",
       "      <td>0.0</td>\n",
       "      <td>0.0</td>\n",
       "      <td>69.0</td>\n",
       "      <td>0.0</td>\n",
       "      <td>0.0</td>\n",
       "      <td>0</td>\n",
       "    </tr>\n",
       "    <tr>\n",
       "      <th>4</th>\n",
       "      <td>000000b5aea2c9ea7cc155f6ebcef97f826</td>\n",
       "      <td>202012</td>\n",
       "      <td>229</td>\n",
       "      <td>-290.49</td>\n",
       "      <td>69.0</td>\n",
       "      <td>0.0</td>\n",
       "      <td>0.0</td>\n",
       "      <td>0.0</td>\n",
       "      <td>0.0</td>\n",
       "      <td>0.0</td>\n",
       "      <td>...</td>\n",
       "      <td>69.0</td>\n",
       "      <td>0.0</td>\n",
       "      <td>0.0</td>\n",
       "      <td>0.0</td>\n",
       "      <td>0.0</td>\n",
       "      <td>0.0</td>\n",
       "      <td>69.0</td>\n",
       "      <td>0.0</td>\n",
       "      <td>0.0</td>\n",
       "      <td>0</td>\n",
       "    </tr>\n",
       "    <tr>\n",
       "      <th>...</th>\n",
       "      <td>...</td>\n",
       "      <td>...</td>\n",
       "      <td>...</td>\n",
       "      <td>...</td>\n",
       "      <td>...</td>\n",
       "      <td>...</td>\n",
       "      <td>...</td>\n",
       "      <td>...</td>\n",
       "      <td>...</td>\n",
       "      <td>...</td>\n",
       "      <td>...</td>\n",
       "      <td>...</td>\n",
       "      <td>...</td>\n",
       "      <td>...</td>\n",
       "      <td>...</td>\n",
       "      <td>...</td>\n",
       "      <td>...</td>\n",
       "      <td>...</td>\n",
       "      <td>...</td>\n",
       "      <td>...</td>\n",
       "      <td>...</td>\n",
       "    </tr>\n",
       "    <tr>\n",
       "      <th>7509</th>\n",
       "      <td>000f0b73ebfa002a79a0642b82e87919904</td>\n",
       "      <td>202101</td>\n",
       "      <td>21</td>\n",
       "      <td>801535.05</td>\n",
       "      <td>207.0</td>\n",
       "      <td>69.0</td>\n",
       "      <td>69.0</td>\n",
       "      <td>0.0</td>\n",
       "      <td>0.0</td>\n",
       "      <td>69.0</td>\n",
       "      <td>...</td>\n",
       "      <td>345.0</td>\n",
       "      <td>0.0</td>\n",
       "      <td>0.0</td>\n",
       "      <td>0.0</td>\n",
       "      <td>0.0</td>\n",
       "      <td>69.0</td>\n",
       "      <td>138.0</td>\n",
       "      <td>276.0</td>\n",
       "      <td>0.0</td>\n",
       "      <td>1</td>\n",
       "    </tr>\n",
       "    <tr>\n",
       "      <th>7510</th>\n",
       "      <td>000f0b73ebfa002a79a0642b82e87919904</td>\n",
       "      <td>202102</td>\n",
       "      <td>22</td>\n",
       "      <td>867100.92</td>\n",
       "      <td>207.0</td>\n",
       "      <td>69.0</td>\n",
       "      <td>0.0</td>\n",
       "      <td>0.0</td>\n",
       "      <td>0.0</td>\n",
       "      <td>0.0</td>\n",
       "      <td>...</td>\n",
       "      <td>207.0</td>\n",
       "      <td>0.0</td>\n",
       "      <td>0.0</td>\n",
       "      <td>0.0</td>\n",
       "      <td>0.0</td>\n",
       "      <td>69.0</td>\n",
       "      <td>138.0</td>\n",
       "      <td>138.0</td>\n",
       "      <td>0.0</td>\n",
       "      <td>0</td>\n",
       "    </tr>\n",
       "    <tr>\n",
       "      <th>7511</th>\n",
       "      <td>000f0b73ebfa002a79a0642b82e87919904</td>\n",
       "      <td>202103</td>\n",
       "      <td>23</td>\n",
       "      <td>183752.52</td>\n",
       "      <td>138.0</td>\n",
       "      <td>207.0</td>\n",
       "      <td>0.0</td>\n",
       "      <td>0.0</td>\n",
       "      <td>0.0</td>\n",
       "      <td>0.0</td>\n",
       "      <td>...</td>\n",
       "      <td>345.0</td>\n",
       "      <td>0.0</td>\n",
       "      <td>0.0</td>\n",
       "      <td>0.0</td>\n",
       "      <td>0.0</td>\n",
       "      <td>0.0</td>\n",
       "      <td>138.0</td>\n",
       "      <td>207.0</td>\n",
       "      <td>0.0</td>\n",
       "      <td>0</td>\n",
       "    </tr>\n",
       "    <tr>\n",
       "      <th>7512</th>\n",
       "      <td>000f0b73ebfa002a79a0642b82e87919904</td>\n",
       "      <td>202104</td>\n",
       "      <td>24</td>\n",
       "      <td>323309.16</td>\n",
       "      <td>276.0</td>\n",
       "      <td>0.0</td>\n",
       "      <td>138.0</td>\n",
       "      <td>0.0</td>\n",
       "      <td>0.0</td>\n",
       "      <td>0.0</td>\n",
       "      <td>...</td>\n",
       "      <td>345.0</td>\n",
       "      <td>0.0</td>\n",
       "      <td>0.0</td>\n",
       "      <td>0.0</td>\n",
       "      <td>0.0</td>\n",
       "      <td>69.0</td>\n",
       "      <td>138.0</td>\n",
       "      <td>276.0</td>\n",
       "      <td>0.0</td>\n",
       "      <td>1</td>\n",
       "    </tr>\n",
       "    <tr>\n",
       "      <th>7513</th>\n",
       "      <td>000f0b73ebfa002a79a0642b82e87919904</td>\n",
       "      <td>202105</td>\n",
       "      <td>25</td>\n",
       "      <td>142402.89</td>\n",
       "      <td>69.0</td>\n",
       "      <td>0.0</td>\n",
       "      <td>0.0</td>\n",
       "      <td>0.0</td>\n",
       "      <td>0.0</td>\n",
       "      <td>0.0</td>\n",
       "      <td>...</td>\n",
       "      <td>0.0</td>\n",
       "      <td>0.0</td>\n",
       "      <td>0.0</td>\n",
       "      <td>0.0</td>\n",
       "      <td>0.0</td>\n",
       "      <td>69.0</td>\n",
       "      <td>0.0</td>\n",
       "      <td>69.0</td>\n",
       "      <td>0.0</td>\n",
       "      <td>0</td>\n",
       "    </tr>\n",
       "  </tbody>\n",
       "</table>\n",
       "<p>7514 rows × 28 columns</p>\n",
       "</div>"
      ],
      "text/plain": [
       "                   dni_titular_movimiento  anio_mes_cupon  antig_cliente  \\\n",
       "0     000000b5aea2c9ea7cc155f6ebcef97f826          202008            225   \n",
       "1     000000b5aea2c9ea7cc155f6ebcef97f826          202009            226   \n",
       "2     000000b5aea2c9ea7cc155f6ebcef97f826          202010            227   \n",
       "3     000000b5aea2c9ea7cc155f6ebcef97f826          202011            228   \n",
       "4     000000b5aea2c9ea7cc155f6ebcef97f826          202012            229   \n",
       "...                                   ...             ...            ...   \n",
       "7509  000f0b73ebfa002a79a0642b82e87919904          202101             21   \n",
       "7510  000f0b73ebfa002a79a0642b82e87919904          202102             22   \n",
       "7511  000f0b73ebfa002a79a0642b82e87919904          202103             23   \n",
       "7512  000f0b73ebfa002a79a0642b82e87919904          202104             24   \n",
       "7513  000f0b73ebfa002a79a0642b82e87919904          202105             25   \n",
       "\n",
       "      monto_ajustado  comercio_cat=0  comercio_cat=1  comercio_cat=2  \\\n",
       "0            -325.68            69.0             0.0             0.0   \n",
       "1            -318.09            69.0             0.0             0.0   \n",
       "2            -307.74            69.0             0.0             0.0   \n",
       "3            -299.46            69.0             0.0             0.0   \n",
       "4            -290.49            69.0             0.0             0.0   \n",
       "...              ...             ...             ...             ...   \n",
       "7509       801535.05           207.0            69.0            69.0   \n",
       "7510       867100.92           207.0            69.0             0.0   \n",
       "7511       183752.52           138.0           207.0             0.0   \n",
       "7512       323309.16           276.0             0.0           138.0   \n",
       "7513       142402.89            69.0             0.0             0.0   \n",
       "\n",
       "      comercio_cat=3  comercio_cat=4  comercio_cat=5  ...  \\\n",
       "0                0.0             0.0             0.0  ...   \n",
       "1                0.0             0.0             0.0  ...   \n",
       "2                0.0             0.0             0.0  ...   \n",
       "3                0.0             0.0             0.0  ...   \n",
       "4                0.0             0.0             0.0  ...   \n",
       "...              ...             ...             ...  ...   \n",
       "7509             0.0             0.0            69.0  ...   \n",
       "7510             0.0             0.0             0.0  ...   \n",
       "7511             0.0             0.0             0.0  ...   \n",
       "7512             0.0             0.0             0.0  ...   \n",
       "7513             0.0             0.0             0.0  ...   \n",
       "\n",
       "      producto_naranja_movimiento=PL  producto_naranja_movimiento=PN  \\\n",
       "0                               69.0                             0.0   \n",
       "1                               69.0                             0.0   \n",
       "2                               69.0                             0.0   \n",
       "3                               69.0                             0.0   \n",
       "4                               69.0                             0.0   \n",
       "...                              ...                             ...   \n",
       "7509                           345.0                             0.0   \n",
       "7510                           207.0                             0.0   \n",
       "7511                           345.0                             0.0   \n",
       "7512                           345.0                             0.0   \n",
       "7513                             0.0                             0.0   \n",
       "\n",
       "      producto_naranja_movimiento=PP  producto_naranja_movimiento=TA  \\\n",
       "0                                0.0                             0.0   \n",
       "1                                0.0                             0.0   \n",
       "2                                0.0                             0.0   \n",
       "3                                0.0                             0.0   \n",
       "4                                0.0                             0.0   \n",
       "...                              ...                             ...   \n",
       "7509                             0.0                             0.0   \n",
       "7510                             0.0                             0.0   \n",
       "7511                             0.0                             0.0   \n",
       "7512                             0.0                             0.0   \n",
       "7513                             0.0                             0.0   \n",
       "\n",
       "      producto_naranja_movimiento=VI  producto_naranja_movimiento=ZE  \\\n",
       "0                                0.0                             0.0   \n",
       "1                                0.0                             0.0   \n",
       "2                                0.0                             0.0   \n",
       "3                                0.0                             0.0   \n",
       "4                                0.0                             0.0   \n",
       "...                              ...                             ...   \n",
       "7509                             0.0                            69.0   \n",
       "7510                             0.0                            69.0   \n",
       "7511                             0.0                             0.0   \n",
       "7512                             0.0                            69.0   \n",
       "7513                             0.0                            69.0   \n",
       "\n",
       "      tipo_producto_tarjeta_movimiento=0  tipo_producto_tarjeta_movimiento=3  \\\n",
       "0                                   69.0                                 0.0   \n",
       "1                                   69.0                                 0.0   \n",
       "2                                   69.0                                 0.0   \n",
       "3                                   69.0                                 0.0   \n",
       "4                                   69.0                                 0.0   \n",
       "...                                  ...                                 ...   \n",
       "7509                               138.0                               276.0   \n",
       "7510                               138.0                               138.0   \n",
       "7511                               138.0                               207.0   \n",
       "7512                               138.0                               276.0   \n",
       "7513                                 0.0                                69.0   \n",
       "\n",
       "      tipo_producto_tarjeta_movimiento=4  fg_aumentado  \n",
       "0                                    0.0             0  \n",
       "1                                    0.0             0  \n",
       "2                                    0.0             0  \n",
       "3                                    0.0             0  \n",
       "4                                    0.0             0  \n",
       "...                                  ...           ...  \n",
       "7509                                 0.0             1  \n",
       "7510                                 0.0             0  \n",
       "7511                                 0.0             0  \n",
       "7512                                 0.0             1  \n",
       "7513                                 0.0             0  \n",
       "\n",
       "[7514 rows x 28 columns]"
      ]
     },
     "execution_count": 2,
     "metadata": {},
     "output_type": "execute_result"
    }
   ],
   "source": [
    "df = pd.read_parquet('df_preprocesado.parquet')\n",
    "df"
   ]
  },
  {
   "cell_type": "code",
   "execution_count": 3,
   "id": "d38a02c0-c974-49d1-83c4-c239df55b6b6",
   "metadata": {},
   "outputs": [
    {
     "data": {
      "text/plain": [
       "count       7514.00\n",
       "mean      807589.43\n",
       "std      1025642.13\n",
       "min      -977066.91\n",
       "25%        65113.61\n",
       "50%       427092.40\n",
       "75%      1177538.20\n",
       "max      9249133.98\n",
       "Name: monto_ajustado, dtype: float64"
      ]
     },
     "execution_count": 3,
     "metadata": {},
     "output_type": "execute_result"
    }
   ],
   "source": [
    "df['monto_ajustado'].describe().round(2)"
   ]
  },
  {
   "cell_type": "code",
   "execution_count": 4,
   "id": "c0690cea-d07a-46d6-a6ea-7946a224f0b6",
   "metadata": {},
   "outputs": [],
   "source": [
    "df_sin_docu = df.copy()\n",
    "df_sin_docu.drop(columns=['dni_titular_movimiento','monto_ajustado'], inplace=True)\n",
    "df_sin_docu['monto_ajustado'] = df['monto_ajustado']"
   ]
  },
  {
   "cell_type": "code",
   "execution_count": 5,
   "id": "4ad48fbe-d008-4733-84c0-9139efd1d295",
   "metadata": {},
   "outputs": [
    {
     "data": {
      "text/plain": [
       "array(['anio_mes_cupon', 'antig_cliente', 'comercio_cat=0',\n",
       "       'comercio_cat=1', 'comercio_cat=2', 'comercio_cat=3',\n",
       "       'comercio_cat=4', 'comercio_cat=5', 'comercio_cat=6',\n",
       "       'comercio_cat=7', 'comercio_cat=8', 'comercio_cat=9',\n",
       "       'producto_naranja_movimiento=AX', 'producto_naranja_movimiento=EX',\n",
       "       'producto_naranja_movimiento=MC', 'producto_naranja_movimiento=PC',\n",
       "       'producto_naranja_movimiento=PL', 'producto_naranja_movimiento=PN',\n",
       "       'producto_naranja_movimiento=PP', 'producto_naranja_movimiento=TA',\n",
       "       'producto_naranja_movimiento=VI', 'producto_naranja_movimiento=ZE',\n",
       "       'tipo_producto_tarjeta_movimiento=0',\n",
       "       'tipo_producto_tarjeta_movimiento=3',\n",
       "       'tipo_producto_tarjeta_movimiento=4', 'fg_aumentado'], dtype=object)"
      ]
     },
     "execution_count": 5,
     "metadata": {},
     "output_type": "execute_result"
    }
   ],
   "source": [
    "col_x = df_sin_docu.iloc[:,:-1].columns.values\n",
    "col_x"
   ]
  },
  {
   "cell_type": "markdown",
   "id": "32975a4e-e4f5-4f84-a80b-ace21cec6811",
   "metadata": {},
   "source": [
    "### ScatterPlot de Features y Target"
   ]
  },
  {
   "cell_type": "code",
   "execution_count": 6,
   "id": "b9fddfee-0ac9-4e4e-90d6-b5a9d8ba6d94",
   "metadata": {
    "tags": []
   },
   "outputs": [
    {
     "data": {
      "image/png": "[encoded data removed]",
      "text/plain": [
       "<Figure size 1440x2160 with 27 Axes>"
      ]
     },
     "metadata": {
      "needs_background": "light"
     },
     "output_type": "display_data"
    }
   ],
   "source": [
    "n_cols = 3\n",
    "n_rows = math.ceil(len(col_x)/3)\n",
    "fig, axs = plt.subplots(n_rows, n_cols, figsize=(20, 30))\n",
    "count = 0\n",
    "for i in col_x:    \n",
    "    # Calculamos filas y columnas\n",
    "    row = math.floor(count / n_cols)\n",
    "    col = count % n_cols\n",
    "    # Configuramos visualización\n",
    "    ax = axs[row, col]\n",
    "    # Visualizamos la distribución de variable\n",
    "    sns.scatterplot(data=df_sin_docu, x=i, y='monto_ajustado', ax=ax)\n",
    "    count =count +1\n",
    "\n",
    "axs[n_rows-1,n_cols-1].axis('off')\n",
    "plt.show()"
   ]
  },
  {
   "cell_type": "markdown",
   "id": "502aa08b-7ce7-4670-842e-f9fec17c66af",
   "metadata": {},
   "source": [
    "### División"
   ]
  },
  {
   "cell_type": "markdown",
   "id": "16b05629-34a7-4a6b-8a26-b18d30372379",
   "metadata": {},
   "source": [
    "En primer lugar, separamos nuestros feautures de los variables target para regresión y clasificación. La división entre train y validation se realizará previo a instanciar cada modelo, debido a que cada uno de ellos requiere un escalado distinto (por ejemplo, un escalado del tipo MaxAbsScaler, utiliza el máximo de todos los features para realizar el preprocesamiento). "
   ]
  },
  {
   "cell_type": "code",
   "execution_count": 7,
   "id": "669a96b9-0228-4f4e-b45c-e303ec0a3aee",
   "metadata": {},
   "outputs": [],
   "source": [
    "X = df.drop(['dni_titular_movimiento'], axis=1)\n",
    "\n",
    "X_r = X.drop(['monto_ajustado'], axis=1)\n",
    "X_c = X.drop(['fg_aumentado', 'monto_ajustado'], axis=1)\n",
    "y_r = X['monto_ajustado']\n",
    "y_c = X['fg_aumentado']"
   ]
  },
  {
   "cell_type": "markdown",
   "id": "6c98a9b0-0547-4ae0-8af6-f10f2cc7ccd0",
   "metadata": {
    "tags": []
   },
   "source": [
    "X_train_r, X_val_r, y_train_r, y_val_r = train_test_split(X_r, y_r, test_size=0.3, random_state=0, shuffle=False)\n",
    "X_train_c, X_val_c, y_train_c, y_val_c = train_test_split(X_c, y_c, test_size=0.3, random_state=0, shuffle=False)\n",
    "\n",
    "X_train_r = X_train_r.values\n",
    "X_val_r = X_val_r.values\n",
    "y_train_r = y_train_r.values.reshape(-1,1)\n",
    "y_val_r = y_val_r.values.reshape(-1,1)\n",
    "\n",
    "X_train_c = X_train_c.values\n",
    "X_val_c = X_val_c.values\n",
    "y_train_c = y_train_c.values\n",
    "y_val_c = y_val_c.values"
   ]
  },
  {
   "cell_type": "markdown",
   "id": "9ff19c9a-587a-4ab0-934b-9ef9e39e48f6",
   "metadata": {},
   "source": [
    "## 3. Regresión\n",
    "\n",
    "Una vez finalizada la etapa de preprocesamiento, se propone implementar diferentes modelos \n",
    "de predicción para el `monto_compra_movimiento`, utilizando la librería Scikit-Learn:\n",
    "\n",
    "* LinearSVR ([Doc](https://scikit-learn.org/stable/modules/generated/sklearn.svm.LinearSVR.html#sklearn.svm.LinearSVR))\n",
    "* SGDRegressor ([Doc](https://scikit-learn.org/stable/modules/generated/sklearn.linear_model.SGDRegressor.html#sklearn.linear_model.SGDRegressor))\n",
    "* KNeighborsRegressor ([Doc](https://scikit-learn.org/stable/modules/generated/sklearn.neighbors.KNeighborsRegressor.html#sklearn.neighbors.KNeighborsRegressor))\n",
    "* GaussianProcessRegressor ([Doc](https://scikit-learn.org/stable/modules/generated/sklearn.gaussian_process.GaussianProcessRegressor.html#sklearn.gaussian_process.GaussianProcessRegressor))\n",
    "* VotingRegressor ([Doc](https://scikit-learn.org/stable/modules/generated/sklearn.ensemble.VotingRegressor.html#sklearn.ensemble.VotingRegressor))\n",
    "\n",
    "Y de la libreria XGBoost\n",
    "* XGBRegressor ([Doc](https://xgboost.readthedocs.io/en/latest/python/python_api.html#xgboost.XGBRegressor))\n",
    "\n",
    "De estos tipos de modelos, cuál creen que es el más adecuado para nuestro caso de aplicación?\n",
    "\n",
    "Utilizar el método Grid Search, o de búsqueda exahustiva, con cross-validation para profundizar en la búsqueda y selección de hiperparámetros.\n",
    "\n",
    "Calcular métricas sobre el conjunto de entrenamiento y de evaluación para los mejores parámetros obtenidos:\n",
    "* MSE \n",
    "* MAE \n",
    "* RMSE\n",
    "\n",
    "Comparar las métricas obtenidas en cada modelo y obtener conclusiones.\n",
    "\n",
    "> Una vez encontrado el mejor modelo se validara usando el conjunto de evaluacion dado por el mentor"
   ]
  },
  {
   "cell_type": "markdown",
   "id": "ef8a5b23-4a53-4340-87de-6f462eed8bad",
   "metadata": {},
   "source": [
    "### Linear SVR - Default"
   ]
  },
  {
   "cell_type": "code",
   "execution_count": 8,
   "id": "db223312-3d22-4415-b58b-2cc079337ac3",
   "metadata": {},
   "outputs": [],
   "source": [
    "from sklearn.svm import LinearSVR"
   ]
  },
  {
   "cell_type": "code",
   "execution_count": 9,
   "id": "b069b0a7-4603-4f1c-97f7-370ff7112679",
   "metadata": {},
   "outputs": [],
   "source": [
    "# división train y test\n",
    "X_train_r, X_val_r, y_train_r, y_val_r = train_test_split(X_r, y_r, test_size=0.3, random_state=0, shuffle=False)"
   ]
  },
  {
   "cell_type": "code",
   "execution_count": 10,
   "id": "2bb964cd-03a8-427f-a120-91b687113b68",
   "metadata": {},
   "outputs": [],
   "source": [
    "# escalado de feauteres y target\n",
    "x_scaler = MinMaxScaler() #MaxAbsScaler()\n",
    "y_scaler = MinMaxScaler() #MaxAbsScaler()\n",
    "X_train_r = x_scaler.fit_transform(X_train_r)\n",
    "X_val_r = x_scaler.fit_transform(X_val_r)\n",
    "y_train_r = y_scaler.fit_transform(y_train_r.values.reshape(-1, 1))\n",
    "y_val_r = y_scaler.fit_transform(y_val_r.values.reshape(-1, 1))"
   ]
  },
  {
   "cell_type": "code",
   "execution_count": 11,
   "id": "120814d3-9edb-4b02-8141-e5862dbbe4c5",
   "metadata": {},
   "outputs": [],
   "source": [
    "#standar= StandardScaler()\n",
    "#standar.fit_transform(X_r[['anio_mes_cupon']].values.reshape(-1, 1))"
   ]
  },
  {
   "cell_type": "code",
   "execution_count": 12,
   "id": "b28d0cf3-3048-4d50-a1fc-b54d0e67337c",
   "metadata": {},
   "outputs": [
    {
     "data": {
      "text/html": [
       "<div>\n",
       "<style scoped>\n",
       "    .dataframe tbody tr th:only-of-type {\n",
       "        vertical-align: middle;\n",
       "    }\n",
       "\n",
       "    .dataframe tbody tr th {\n",
       "        vertical-align: top;\n",
       "    }\n",
       "\n",
       "    .dataframe thead th {\n",
       "        text-align: right;\n",
       "    }\n",
       "</style>\n",
       "<table border=\"1\" class=\"dataframe\">\n",
       "  <thead>\n",
       "    <tr style=\"text-align: right;\">\n",
       "      <th></th>\n",
       "      <th>anio_mes_cupon</th>\n",
       "      <th>antig_cliente</th>\n",
       "      <th>comercio_cat=0</th>\n",
       "      <th>comercio_cat=1</th>\n",
       "      <th>comercio_cat=2</th>\n",
       "      <th>comercio_cat=3</th>\n",
       "      <th>comercio_cat=4</th>\n",
       "      <th>comercio_cat=5</th>\n",
       "      <th>comercio_cat=6</th>\n",
       "      <th>comercio_cat=7</th>\n",
       "      <th>...</th>\n",
       "      <th>producto_naranja_movimiento=PL</th>\n",
       "      <th>producto_naranja_movimiento=PN</th>\n",
       "      <th>producto_naranja_movimiento=PP</th>\n",
       "      <th>producto_naranja_movimiento=TA</th>\n",
       "      <th>producto_naranja_movimiento=VI</th>\n",
       "      <th>producto_naranja_movimiento=ZE</th>\n",
       "      <th>tipo_producto_tarjeta_movimiento=0</th>\n",
       "      <th>tipo_producto_tarjeta_movimiento=3</th>\n",
       "      <th>tipo_producto_tarjeta_movimiento=4</th>\n",
       "      <th>fg_aumentado</th>\n",
       "    </tr>\n",
       "  </thead>\n",
       "  <tbody>\n",
       "    <tr>\n",
       "      <th>0</th>\n",
       "      <td>202008</td>\n",
       "      <td>225</td>\n",
       "      <td>69.0</td>\n",
       "      <td>0.0</td>\n",
       "      <td>0.0</td>\n",
       "      <td>0.0</td>\n",
       "      <td>0.0</td>\n",
       "      <td>0.0</td>\n",
       "      <td>0.0</td>\n",
       "      <td>0.0</td>\n",
       "      <td>...</td>\n",
       "      <td>69.0</td>\n",
       "      <td>0.0</td>\n",
       "      <td>0.0</td>\n",
       "      <td>0.0</td>\n",
       "      <td>0.0</td>\n",
       "      <td>0.0</td>\n",
       "      <td>69.0</td>\n",
       "      <td>0.0</td>\n",
       "      <td>0.0</td>\n",
       "      <td>0</td>\n",
       "    </tr>\n",
       "    <tr>\n",
       "      <th>1</th>\n",
       "      <td>202009</td>\n",
       "      <td>226</td>\n",
       "      <td>69.0</td>\n",
       "      <td>0.0</td>\n",
       "      <td>0.0</td>\n",
       "      <td>0.0</td>\n",
       "      <td>0.0</td>\n",
       "      <td>0.0</td>\n",
       "      <td>0.0</td>\n",
       "      <td>0.0</td>\n",
       "      <td>...</td>\n",
       "      <td>69.0</td>\n",
       "      <td>0.0</td>\n",
       "      <td>0.0</td>\n",
       "      <td>0.0</td>\n",
       "      <td>0.0</td>\n",
       "      <td>0.0</td>\n",
       "      <td>69.0</td>\n",
       "      <td>0.0</td>\n",
       "      <td>0.0</td>\n",
       "      <td>0</td>\n",
       "    </tr>\n",
       "    <tr>\n",
       "      <th>2</th>\n",
       "      <td>202010</td>\n",
       "      <td>227</td>\n",
       "      <td>69.0</td>\n",
       "      <td>0.0</td>\n",
       "      <td>0.0</td>\n",
       "      <td>0.0</td>\n",
       "      <td>0.0</td>\n",
       "      <td>0.0</td>\n",
       "      <td>0.0</td>\n",
       "      <td>0.0</td>\n",
       "      <td>...</td>\n",
       "      <td>69.0</td>\n",
       "      <td>0.0</td>\n",
       "      <td>0.0</td>\n",
       "      <td>0.0</td>\n",
       "      <td>0.0</td>\n",
       "      <td>0.0</td>\n",
       "      <td>69.0</td>\n",
       "      <td>0.0</td>\n",
       "      <td>0.0</td>\n",
       "      <td>0</td>\n",
       "    </tr>\n",
       "    <tr>\n",
       "      <th>3</th>\n",
       "      <td>202011</td>\n",
       "      <td>228</td>\n",
       "      <td>69.0</td>\n",
       "      <td>0.0</td>\n",
       "      <td>0.0</td>\n",
       "      <td>0.0</td>\n",
       "      <td>0.0</td>\n",
       "      <td>0.0</td>\n",
       "      <td>0.0</td>\n",
       "      <td>0.0</td>\n",
       "      <td>...</td>\n",
       "      <td>69.0</td>\n",
       "      <td>0.0</td>\n",
       "      <td>0.0</td>\n",
       "      <td>0.0</td>\n",
       "      <td>0.0</td>\n",
       "      <td>0.0</td>\n",
       "      <td>69.0</td>\n",
       "      <td>0.0</td>\n",
       "      <td>0.0</td>\n",
       "      <td>0</td>\n",
       "    </tr>\n",
       "    <tr>\n",
       "      <th>4</th>\n",
       "      <td>202012</td>\n",
       "      <td>229</td>\n",
       "      <td>69.0</td>\n",
       "      <td>0.0</td>\n",
       "      <td>0.0</td>\n",
       "      <td>0.0</td>\n",
       "      <td>0.0</td>\n",
       "      <td>0.0</td>\n",
       "      <td>0.0</td>\n",
       "      <td>0.0</td>\n",
       "      <td>...</td>\n",
       "      <td>69.0</td>\n",
       "      <td>0.0</td>\n",
       "      <td>0.0</td>\n",
       "      <td>0.0</td>\n",
       "      <td>0.0</td>\n",
       "      <td>0.0</td>\n",
       "      <td>69.0</td>\n",
       "      <td>0.0</td>\n",
       "      <td>0.0</td>\n",
       "      <td>0</td>\n",
       "    </tr>\n",
       "    <tr>\n",
       "      <th>5</th>\n",
       "      <td>202101</td>\n",
       "      <td>230</td>\n",
       "      <td>69.0</td>\n",
       "      <td>0.0</td>\n",
       "      <td>0.0</td>\n",
       "      <td>0.0</td>\n",
       "      <td>0.0</td>\n",
       "      <td>0.0</td>\n",
       "      <td>0.0</td>\n",
       "      <td>0.0</td>\n",
       "      <td>...</td>\n",
       "      <td>69.0</td>\n",
       "      <td>0.0</td>\n",
       "      <td>0.0</td>\n",
       "      <td>0.0</td>\n",
       "      <td>0.0</td>\n",
       "      <td>0.0</td>\n",
       "      <td>69.0</td>\n",
       "      <td>0.0</td>\n",
       "      <td>0.0</td>\n",
       "      <td>0</td>\n",
       "    </tr>\n",
       "    <tr>\n",
       "      <th>6</th>\n",
       "      <td>202102</td>\n",
       "      <td>231</td>\n",
       "      <td>69.0</td>\n",
       "      <td>0.0</td>\n",
       "      <td>0.0</td>\n",
       "      <td>0.0</td>\n",
       "      <td>0.0</td>\n",
       "      <td>0.0</td>\n",
       "      <td>0.0</td>\n",
       "      <td>0.0</td>\n",
       "      <td>...</td>\n",
       "      <td>69.0</td>\n",
       "      <td>0.0</td>\n",
       "      <td>0.0</td>\n",
       "      <td>0.0</td>\n",
       "      <td>0.0</td>\n",
       "      <td>0.0</td>\n",
       "      <td>69.0</td>\n",
       "      <td>0.0</td>\n",
       "      <td>0.0</td>\n",
       "      <td>0</td>\n",
       "    </tr>\n",
       "    <tr>\n",
       "      <th>7</th>\n",
       "      <td>202103</td>\n",
       "      <td>232</td>\n",
       "      <td>69.0</td>\n",
       "      <td>0.0</td>\n",
       "      <td>0.0</td>\n",
       "      <td>0.0</td>\n",
       "      <td>0.0</td>\n",
       "      <td>0.0</td>\n",
       "      <td>0.0</td>\n",
       "      <td>0.0</td>\n",
       "      <td>...</td>\n",
       "      <td>69.0</td>\n",
       "      <td>0.0</td>\n",
       "      <td>0.0</td>\n",
       "      <td>0.0</td>\n",
       "      <td>0.0</td>\n",
       "      <td>0.0</td>\n",
       "      <td>69.0</td>\n",
       "      <td>0.0</td>\n",
       "      <td>0.0</td>\n",
       "      <td>0</td>\n",
       "    </tr>\n",
       "    <tr>\n",
       "      <th>8</th>\n",
       "      <td>202104</td>\n",
       "      <td>233</td>\n",
       "      <td>69.0</td>\n",
       "      <td>0.0</td>\n",
       "      <td>0.0</td>\n",
       "      <td>0.0</td>\n",
       "      <td>0.0</td>\n",
       "      <td>0.0</td>\n",
       "      <td>0.0</td>\n",
       "      <td>0.0</td>\n",
       "      <td>...</td>\n",
       "      <td>69.0</td>\n",
       "      <td>0.0</td>\n",
       "      <td>0.0</td>\n",
       "      <td>0.0</td>\n",
       "      <td>0.0</td>\n",
       "      <td>0.0</td>\n",
       "      <td>69.0</td>\n",
       "      <td>0.0</td>\n",
       "      <td>0.0</td>\n",
       "      <td>0</td>\n",
       "    </tr>\n",
       "    <tr>\n",
       "      <th>9</th>\n",
       "      <td>202105</td>\n",
       "      <td>234</td>\n",
       "      <td>69.0</td>\n",
       "      <td>0.0</td>\n",
       "      <td>0.0</td>\n",
       "      <td>0.0</td>\n",
       "      <td>0.0</td>\n",
       "      <td>0.0</td>\n",
       "      <td>0.0</td>\n",
       "      <td>0.0</td>\n",
       "      <td>...</td>\n",
       "      <td>69.0</td>\n",
       "      <td>0.0</td>\n",
       "      <td>0.0</td>\n",
       "      <td>0.0</td>\n",
       "      <td>0.0</td>\n",
       "      <td>0.0</td>\n",
       "      <td>69.0</td>\n",
       "      <td>0.0</td>\n",
       "      <td>0.0</td>\n",
       "      <td>0</td>\n",
       "    </tr>\n",
       "  </tbody>\n",
       "</table>\n",
       "<p>10 rows × 26 columns</p>\n",
       "</div>"
      ],
      "text/plain": [
       "   anio_mes_cupon  antig_cliente  comercio_cat=0  comercio_cat=1  \\\n",
       "0          202008            225            69.0             0.0   \n",
       "1          202009            226            69.0             0.0   \n",
       "2          202010            227            69.0             0.0   \n",
       "3          202011            228            69.0             0.0   \n",
       "4          202012            229            69.0             0.0   \n",
       "5          202101            230            69.0             0.0   \n",
       "6          202102            231            69.0             0.0   \n",
       "7          202103            232            69.0             0.0   \n",
       "8          202104            233            69.0             0.0   \n",
       "9          202105            234            69.0             0.0   \n",
       "\n",
       "   comercio_cat=2  comercio_cat=3  comercio_cat=4  comercio_cat=5  \\\n",
       "0             0.0             0.0             0.0             0.0   \n",
       "1             0.0             0.0             0.0             0.0   \n",
       "2             0.0             0.0             0.0             0.0   \n",
       "3             0.0             0.0             0.0             0.0   \n",
       "4             0.0             0.0             0.0             0.0   \n",
       "5             0.0             0.0             0.0             0.0   \n",
       "6             0.0             0.0             0.0             0.0   \n",
       "7             0.0             0.0             0.0             0.0   \n",
       "8             0.0             0.0             0.0             0.0   \n",
       "9             0.0             0.0             0.0             0.0   \n",
       "\n",
       "   comercio_cat=6  comercio_cat=7  ...  producto_naranja_movimiento=PL  \\\n",
       "0             0.0             0.0  ...                            69.0   \n",
       "1             0.0             0.0  ...                            69.0   \n",
       "2             0.0             0.0  ...                            69.0   \n",
       "3             0.0             0.0  ...                            69.0   \n",
       "4             0.0             0.0  ...                            69.0   \n",
       "5             0.0             0.0  ...                            69.0   \n",
       "6             0.0             0.0  ...                            69.0   \n",
       "7             0.0             0.0  ...                            69.0   \n",
       "8             0.0             0.0  ...                            69.0   \n",
       "9             0.0             0.0  ...                            69.0   \n",
       "\n",
       "   producto_naranja_movimiento=PN  producto_naranja_movimiento=PP  \\\n",
       "0                             0.0                             0.0   \n",
       "1                             0.0                             0.0   \n",
       "2                             0.0                             0.0   \n",
       "3                             0.0                             0.0   \n",
       "4                             0.0                             0.0   \n",
       "5                             0.0                             0.0   \n",
       "6                             0.0                             0.0   \n",
       "7                             0.0                             0.0   \n",
       "8                             0.0                             0.0   \n",
       "9                             0.0                             0.0   \n",
       "\n",
       "   producto_naranja_movimiento=TA  producto_naranja_movimiento=VI  \\\n",
       "0                             0.0                             0.0   \n",
       "1                             0.0                             0.0   \n",
       "2                             0.0                             0.0   \n",
       "3                             0.0                             0.0   \n",
       "4                             0.0                             0.0   \n",
       "5                             0.0                             0.0   \n",
       "6                             0.0                             0.0   \n",
       "7                             0.0                             0.0   \n",
       "8                             0.0                             0.0   \n",
       "9                             0.0                             0.0   \n",
       "\n",
       "   producto_naranja_movimiento=ZE  tipo_producto_tarjeta_movimiento=0  \\\n",
       "0                             0.0                                69.0   \n",
       "1                             0.0                                69.0   \n",
       "2                             0.0                                69.0   \n",
       "3                             0.0                                69.0   \n",
       "4                             0.0                                69.0   \n",
       "5                             0.0                                69.0   \n",
       "6                             0.0                                69.0   \n",
       "7                             0.0                                69.0   \n",
       "8                             0.0                                69.0   \n",
       "9                             0.0                                69.0   \n",
       "\n",
       "   tipo_producto_tarjeta_movimiento=3  tipo_producto_tarjeta_movimiento=4  \\\n",
       "0                                 0.0                                 0.0   \n",
       "1                                 0.0                                 0.0   \n",
       "2                                 0.0                                 0.0   \n",
       "3                                 0.0                                 0.0   \n",
       "4                                 0.0                                 0.0   \n",
       "5                                 0.0                                 0.0   \n",
       "6                                 0.0                                 0.0   \n",
       "7                                 0.0                                 0.0   \n",
       "8                                 0.0                                 0.0   \n",
       "9                                 0.0                                 0.0   \n",
       "\n",
       "   fg_aumentado  \n",
       "0             0  \n",
       "1             0  \n",
       "2             0  \n",
       "3             0  \n",
       "4             0  \n",
       "5             0  \n",
       "6             0  \n",
       "7             0  \n",
       "8             0  \n",
       "9             0  \n",
       "\n",
       "[10 rows x 26 columns]"
      ]
     },
     "execution_count": 12,
     "metadata": {},
     "output_type": "execute_result"
    }
   ],
   "source": [
    "X_r.head(10)"
   ]
  },
  {
   "cell_type": "code",
   "execution_count": 13,
   "id": "ee7a6143-5195-4652-b6a9-0cece8394ac4",
   "metadata": {},
   "outputs": [
    {
     "data": {
      "text/html": [
       "<div>\n",
       "<style scoped>\n",
       "    .dataframe tbody tr th:only-of-type {\n",
       "        vertical-align: middle;\n",
       "    }\n",
       "\n",
       "    .dataframe tbody tr th {\n",
       "        vertical-align: top;\n",
       "    }\n",
       "\n",
       "    .dataframe thead th {\n",
       "        text-align: right;\n",
       "    }\n",
       "</style>\n",
       "<table border=\"1\" class=\"dataframe\">\n",
       "  <thead>\n",
       "    <tr style=\"text-align: right;\">\n",
       "      <th></th>\n",
       "      <th>anio_mes_cupon</th>\n",
       "      <th>antig_cliente</th>\n",
       "      <th>comercio_cat=0</th>\n",
       "      <th>comercio_cat=1</th>\n",
       "      <th>comercio_cat=2</th>\n",
       "      <th>comercio_cat=3</th>\n",
       "      <th>comercio_cat=4</th>\n",
       "      <th>comercio_cat=5</th>\n",
       "      <th>comercio_cat=6</th>\n",
       "      <th>comercio_cat=7</th>\n",
       "      <th>...</th>\n",
       "      <th>producto_naranja_movimiento=PL</th>\n",
       "      <th>producto_naranja_movimiento=PN</th>\n",
       "      <th>producto_naranja_movimiento=PP</th>\n",
       "      <th>producto_naranja_movimiento=TA</th>\n",
       "      <th>producto_naranja_movimiento=VI</th>\n",
       "      <th>producto_naranja_movimiento=ZE</th>\n",
       "      <th>tipo_producto_tarjeta_movimiento=0</th>\n",
       "      <th>tipo_producto_tarjeta_movimiento=3</th>\n",
       "      <th>tipo_producto_tarjeta_movimiento=4</th>\n",
       "      <th>fg_aumentado</th>\n",
       "    </tr>\n",
       "  </thead>\n",
       "  <tbody>\n",
       "    <tr>\n",
       "      <th>0</th>\n",
       "      <td>0.010101</td>\n",
       "      <td>0.625000</td>\n",
       "      <td>0.047619</td>\n",
       "      <td>0.0</td>\n",
       "      <td>0.0</td>\n",
       "      <td>0.0</td>\n",
       "      <td>0.0</td>\n",
       "      <td>0.0</td>\n",
       "      <td>0.0</td>\n",
       "      <td>0.0</td>\n",
       "      <td>...</td>\n",
       "      <td>0.016393</td>\n",
       "      <td>0.0</td>\n",
       "      <td>0.0</td>\n",
       "      <td>0.0</td>\n",
       "      <td>0.0</td>\n",
       "      <td>0.0</td>\n",
       "      <td>0.03125</td>\n",
       "      <td>0.0</td>\n",
       "      <td>0.0</td>\n",
       "      <td>0.0</td>\n",
       "    </tr>\n",
       "    <tr>\n",
       "      <th>1</th>\n",
       "      <td>0.020202</td>\n",
       "      <td>0.627778</td>\n",
       "      <td>0.047619</td>\n",
       "      <td>0.0</td>\n",
       "      <td>0.0</td>\n",
       "      <td>0.0</td>\n",
       "      <td>0.0</td>\n",
       "      <td>0.0</td>\n",
       "      <td>0.0</td>\n",
       "      <td>0.0</td>\n",
       "      <td>...</td>\n",
       "      <td>0.016393</td>\n",
       "      <td>0.0</td>\n",
       "      <td>0.0</td>\n",
       "      <td>0.0</td>\n",
       "      <td>0.0</td>\n",
       "      <td>0.0</td>\n",
       "      <td>0.03125</td>\n",
       "      <td>0.0</td>\n",
       "      <td>0.0</td>\n",
       "      <td>0.0</td>\n",
       "    </tr>\n",
       "    <tr>\n",
       "      <th>2</th>\n",
       "      <td>0.030303</td>\n",
       "      <td>0.630556</td>\n",
       "      <td>0.047619</td>\n",
       "      <td>0.0</td>\n",
       "      <td>0.0</td>\n",
       "      <td>0.0</td>\n",
       "      <td>0.0</td>\n",
       "      <td>0.0</td>\n",
       "      <td>0.0</td>\n",
       "      <td>0.0</td>\n",
       "      <td>...</td>\n",
       "      <td>0.016393</td>\n",
       "      <td>0.0</td>\n",
       "      <td>0.0</td>\n",
       "      <td>0.0</td>\n",
       "      <td>0.0</td>\n",
       "      <td>0.0</td>\n",
       "      <td>0.03125</td>\n",
       "      <td>0.0</td>\n",
       "      <td>0.0</td>\n",
       "      <td>0.0</td>\n",
       "    </tr>\n",
       "    <tr>\n",
       "      <th>3</th>\n",
       "      <td>0.040404</td>\n",
       "      <td>0.633333</td>\n",
       "      <td>0.047619</td>\n",
       "      <td>0.0</td>\n",
       "      <td>0.0</td>\n",
       "      <td>0.0</td>\n",
       "      <td>0.0</td>\n",
       "      <td>0.0</td>\n",
       "      <td>0.0</td>\n",
       "      <td>0.0</td>\n",
       "      <td>...</td>\n",
       "      <td>0.016393</td>\n",
       "      <td>0.0</td>\n",
       "      <td>0.0</td>\n",
       "      <td>0.0</td>\n",
       "      <td>0.0</td>\n",
       "      <td>0.0</td>\n",
       "      <td>0.03125</td>\n",
       "      <td>0.0</td>\n",
       "      <td>0.0</td>\n",
       "      <td>0.0</td>\n",
       "    </tr>\n",
       "    <tr>\n",
       "      <th>4</th>\n",
       "      <td>0.050505</td>\n",
       "      <td>0.636111</td>\n",
       "      <td>0.047619</td>\n",
       "      <td>0.0</td>\n",
       "      <td>0.0</td>\n",
       "      <td>0.0</td>\n",
       "      <td>0.0</td>\n",
       "      <td>0.0</td>\n",
       "      <td>0.0</td>\n",
       "      <td>0.0</td>\n",
       "      <td>...</td>\n",
       "      <td>0.016393</td>\n",
       "      <td>0.0</td>\n",
       "      <td>0.0</td>\n",
       "      <td>0.0</td>\n",
       "      <td>0.0</td>\n",
       "      <td>0.0</td>\n",
       "      <td>0.03125</td>\n",
       "      <td>0.0</td>\n",
       "      <td>0.0</td>\n",
       "      <td>0.0</td>\n",
       "    </tr>\n",
       "    <tr>\n",
       "      <th>5</th>\n",
       "      <td>0.949495</td>\n",
       "      <td>0.638889</td>\n",
       "      <td>0.047619</td>\n",
       "      <td>0.0</td>\n",
       "      <td>0.0</td>\n",
       "      <td>0.0</td>\n",
       "      <td>0.0</td>\n",
       "      <td>0.0</td>\n",
       "      <td>0.0</td>\n",
       "      <td>0.0</td>\n",
       "      <td>...</td>\n",
       "      <td>0.016393</td>\n",
       "      <td>0.0</td>\n",
       "      <td>0.0</td>\n",
       "      <td>0.0</td>\n",
       "      <td>0.0</td>\n",
       "      <td>0.0</td>\n",
       "      <td>0.03125</td>\n",
       "      <td>0.0</td>\n",
       "      <td>0.0</td>\n",
       "      <td>0.0</td>\n",
       "    </tr>\n",
       "    <tr>\n",
       "      <th>6</th>\n",
       "      <td>0.959596</td>\n",
       "      <td>0.641667</td>\n",
       "      <td>0.047619</td>\n",
       "      <td>0.0</td>\n",
       "      <td>0.0</td>\n",
       "      <td>0.0</td>\n",
       "      <td>0.0</td>\n",
       "      <td>0.0</td>\n",
       "      <td>0.0</td>\n",
       "      <td>0.0</td>\n",
       "      <td>...</td>\n",
       "      <td>0.016393</td>\n",
       "      <td>0.0</td>\n",
       "      <td>0.0</td>\n",
       "      <td>0.0</td>\n",
       "      <td>0.0</td>\n",
       "      <td>0.0</td>\n",
       "      <td>0.03125</td>\n",
       "      <td>0.0</td>\n",
       "      <td>0.0</td>\n",
       "      <td>0.0</td>\n",
       "    </tr>\n",
       "    <tr>\n",
       "      <th>7</th>\n",
       "      <td>0.969697</td>\n",
       "      <td>0.644444</td>\n",
       "      <td>0.047619</td>\n",
       "      <td>0.0</td>\n",
       "      <td>0.0</td>\n",
       "      <td>0.0</td>\n",
       "      <td>0.0</td>\n",
       "      <td>0.0</td>\n",
       "      <td>0.0</td>\n",
       "      <td>0.0</td>\n",
       "      <td>...</td>\n",
       "      <td>0.016393</td>\n",
       "      <td>0.0</td>\n",
       "      <td>0.0</td>\n",
       "      <td>0.0</td>\n",
       "      <td>0.0</td>\n",
       "      <td>0.0</td>\n",
       "      <td>0.03125</td>\n",
       "      <td>0.0</td>\n",
       "      <td>0.0</td>\n",
       "      <td>0.0</td>\n",
       "    </tr>\n",
       "    <tr>\n",
       "      <th>8</th>\n",
       "      <td>0.979798</td>\n",
       "      <td>0.647222</td>\n",
       "      <td>0.047619</td>\n",
       "      <td>0.0</td>\n",
       "      <td>0.0</td>\n",
       "      <td>0.0</td>\n",
       "      <td>0.0</td>\n",
       "      <td>0.0</td>\n",
       "      <td>0.0</td>\n",
       "      <td>0.0</td>\n",
       "      <td>...</td>\n",
       "      <td>0.016393</td>\n",
       "      <td>0.0</td>\n",
       "      <td>0.0</td>\n",
       "      <td>0.0</td>\n",
       "      <td>0.0</td>\n",
       "      <td>0.0</td>\n",
       "      <td>0.03125</td>\n",
       "      <td>0.0</td>\n",
       "      <td>0.0</td>\n",
       "      <td>0.0</td>\n",
       "    </tr>\n",
       "    <tr>\n",
       "      <th>9</th>\n",
       "      <td>0.989899</td>\n",
       "      <td>0.650000</td>\n",
       "      <td>0.047619</td>\n",
       "      <td>0.0</td>\n",
       "      <td>0.0</td>\n",
       "      <td>0.0</td>\n",
       "      <td>0.0</td>\n",
       "      <td>0.0</td>\n",
       "      <td>0.0</td>\n",
       "      <td>0.0</td>\n",
       "      <td>...</td>\n",
       "      <td>0.016393</td>\n",
       "      <td>0.0</td>\n",
       "      <td>0.0</td>\n",
       "      <td>0.0</td>\n",
       "      <td>0.0</td>\n",
       "      <td>0.0</td>\n",
       "      <td>0.03125</td>\n",
       "      <td>0.0</td>\n",
       "      <td>0.0</td>\n",
       "      <td>0.0</td>\n",
       "    </tr>\n",
       "  </tbody>\n",
       "</table>\n",
       "<p>10 rows × 26 columns</p>\n",
       "</div>"
      ],
      "text/plain": [
       "   anio_mes_cupon  antig_cliente  comercio_cat=0  comercio_cat=1  \\\n",
       "0        0.010101       0.625000        0.047619             0.0   \n",
       "1        0.020202       0.627778        0.047619             0.0   \n",
       "2        0.030303       0.630556        0.047619             0.0   \n",
       "3        0.040404       0.633333        0.047619             0.0   \n",
       "4        0.050505       0.636111        0.047619             0.0   \n",
       "5        0.949495       0.638889        0.047619             0.0   \n",
       "6        0.959596       0.641667        0.047619             0.0   \n",
       "7        0.969697       0.644444        0.047619             0.0   \n",
       "8        0.979798       0.647222        0.047619             0.0   \n",
       "9        0.989899       0.650000        0.047619             0.0   \n",
       "\n",
       "   comercio_cat=2  comercio_cat=3  comercio_cat=4  comercio_cat=5  \\\n",
       "0             0.0             0.0             0.0             0.0   \n",
       "1             0.0             0.0             0.0             0.0   \n",
       "2             0.0             0.0             0.0             0.0   \n",
       "3             0.0             0.0             0.0             0.0   \n",
       "4             0.0             0.0             0.0             0.0   \n",
       "5             0.0             0.0             0.0             0.0   \n",
       "6             0.0             0.0             0.0             0.0   \n",
       "7             0.0             0.0             0.0             0.0   \n",
       "8             0.0             0.0             0.0             0.0   \n",
       "9             0.0             0.0             0.0             0.0   \n",
       "\n",
       "   comercio_cat=6  comercio_cat=7  ...  producto_naranja_movimiento=PL  \\\n",
       "0             0.0             0.0  ...                        0.016393   \n",
       "1             0.0             0.0  ...                        0.016393   \n",
       "2             0.0             0.0  ...                        0.016393   \n",
       "3             0.0             0.0  ...                        0.016393   \n",
       "4             0.0             0.0  ...                        0.016393   \n",
       "5             0.0             0.0  ...                        0.016393   \n",
       "6             0.0             0.0  ...                        0.016393   \n",
       "7             0.0             0.0  ...                        0.016393   \n",
       "8             0.0             0.0  ...                        0.016393   \n",
       "9             0.0             0.0  ...                        0.016393   \n",
       "\n",
       "   producto_naranja_movimiento=PN  producto_naranja_movimiento=PP  \\\n",
       "0                             0.0                             0.0   \n",
       "1                             0.0                             0.0   \n",
       "2                             0.0                             0.0   \n",
       "3                             0.0                             0.0   \n",
       "4                             0.0                             0.0   \n",
       "5                             0.0                             0.0   \n",
       "6                             0.0                             0.0   \n",
       "7                             0.0                             0.0   \n",
       "8                             0.0                             0.0   \n",
       "9                             0.0                             0.0   \n",
       "\n",
       "   producto_naranja_movimiento=TA  producto_naranja_movimiento=VI  \\\n",
       "0                             0.0                             0.0   \n",
       "1                             0.0                             0.0   \n",
       "2                             0.0                             0.0   \n",
       "3                             0.0                             0.0   \n",
       "4                             0.0                             0.0   \n",
       "5                             0.0                             0.0   \n",
       "6                             0.0                             0.0   \n",
       "7                             0.0                             0.0   \n",
       "8                             0.0                             0.0   \n",
       "9                             0.0                             0.0   \n",
       "\n",
       "   producto_naranja_movimiento=ZE  tipo_producto_tarjeta_movimiento=0  \\\n",
       "0                             0.0                             0.03125   \n",
       "1                             0.0                             0.03125   \n",
       "2                             0.0                             0.03125   \n",
       "3                             0.0                             0.03125   \n",
       "4                             0.0                             0.03125   \n",
       "5                             0.0                             0.03125   \n",
       "6                             0.0                             0.03125   \n",
       "7                             0.0                             0.03125   \n",
       "8                             0.0                             0.03125   \n",
       "9                             0.0                             0.03125   \n",
       "\n",
       "   tipo_producto_tarjeta_movimiento=3  tipo_producto_tarjeta_movimiento=4  \\\n",
       "0                                 0.0                                 0.0   \n",
       "1                                 0.0                                 0.0   \n",
       "2                                 0.0                                 0.0   \n",
       "3                                 0.0                                 0.0   \n",
       "4                                 0.0                                 0.0   \n",
       "5                                 0.0                                 0.0   \n",
       "6                                 0.0                                 0.0   \n",
       "7                                 0.0                                 0.0   \n",
       "8                                 0.0                                 0.0   \n",
       "9                                 0.0                                 0.0   \n",
       "\n",
       "   fg_aumentado  \n",
       "0           0.0  \n",
       "1           0.0  \n",
       "2           0.0  \n",
       "3           0.0  \n",
       "4           0.0  \n",
       "5           0.0  \n",
       "6           0.0  \n",
       "7           0.0  \n",
       "8           0.0  \n",
       "9           0.0  \n",
       "\n",
       "[10 rows x 26 columns]"
      ]
     },
     "execution_count": 13,
     "metadata": {},
     "output_type": "execute_result"
    }
   ],
   "source": [
    "pd.DataFrame(X_train_r, columns=X_r.columns.values).head(10)"
   ]
  },
  {
   "cell_type": "code",
   "execution_count": 14,
   "id": "1139ce43-c348-4ba2-88b5-e6bd5b870b15",
   "metadata": {
    "tags": []
   },
   "outputs": [
    {
     "name": "stderr",
     "output_type": "stream",
     "text": [
      "C:\\Anaconda3\\lib\\site-packages\\sklearn\\utils\\validation.py:63: DataConversionWarning: A column-vector y was passed when a 1d array was expected. Please change the shape of y to (n_samples, ), for example using ravel().\n",
      "  return f(*args, **kwargs)\n",
      "C:\\Anaconda3\\lib\\site-packages\\sklearn\\svm\\_base.py:985: ConvergenceWarning: Liblinear failed to converge, increase the number of iterations.\n",
      "  warnings.warn(\"Liblinear failed to converge, increase \"\n"
     ]
    },
    {
     "data": {
      "text/plain": [
       "LinearSVR(random_state=0)"
      ]
     },
     "execution_count": 14,
     "metadata": {},
     "output_type": "execute_result"
    }
   ],
   "source": [
    "# fit\n",
    "svr = LinearSVR(random_state=0)\n",
    "svr.fit(X_train_r, y_train_r)"
   ]
  },
  {
   "cell_type": "code",
   "execution_count": 15,
   "id": "a299effd-09d3-4a4b-a6c5-7432989a3e8e",
   "metadata": {},
   "outputs": [],
   "source": [
    "# Predict\n",
    "y_train_pred_svr = svr.predict(X_train_r)\n",
    "y_valid_pred_svr = svr.predict(X_val_r)"
   ]
  },
  {
   "cell_type": "code",
   "execution_count": 16,
   "id": "48528589-28af-4c31-8605-2ce317fbb621",
   "metadata": {},
   "outputs": [
    {
     "name": "stdout",
     "output_type": "stream",
     "text": [
      "Train error MSE 0.006, Valid error MSE 0.008\n"
     ]
    }
   ],
   "source": [
    "# evaluate MSE:\n",
    "train_error_svr = mean_squared_error(y_train_r, y_train_pred_svr)\n",
    "val_error_svr = mean_squared_error(y_val_r, y_valid_pred_svr)\n",
    "print(f'Train error MSE {train_error_svr.round(3)}, Valid error MSE {val_error_svr.round(3)}') "
   ]
  },
  {
   "cell_type": "code",
   "execution_count": 17,
   "id": "abd15c75-5649-4cb7-8d3c-86f2ac857e9b",
   "metadata": {},
   "outputs": [
    {
     "name": "stdout",
     "output_type": "stream",
     "text": [
      "Train error MAE 0.042, Valid error MAE 0.063\n"
     ]
    }
   ],
   "source": [
    "# evaluate MAE:\n",
    "train_error_svr = mean_absolute_error(y_train_r, y_train_pred_svr)\n",
    "val_error_svr = mean_absolute_error(y_val_r, y_valid_pred_svr)\n",
    "print(f'Train error MAE {train_error_svr.round(3)}, Valid error MAE {val_error_svr.round(3)}') "
   ]
  },
  {
   "cell_type": "code",
   "execution_count": 18,
   "id": "3d7d2367-5336-4a94-bff4-620767900849",
   "metadata": {},
   "outputs": [
    {
     "name": "stdout",
     "output_type": "stream",
     "text": [
      "Train error RMSE 0.074, Valid error RMSE 0.091\n"
     ]
    }
   ],
   "source": [
    "# evaluate RMSE:\n",
    "train_error_svr = np.sqrt(mean_squared_error(y_train_r, y_train_pred_svr))\n",
    "val_error_svr = np.sqrt(mean_squared_error(y_val_r, y_valid_pred_svr))\n",
    "print(f'Train error RMSE {train_error_svr.round(3)}, Valid error RMSE {val_error_svr.round(3)}') "
   ]
  },
  {
   "cell_type": "markdown",
   "id": "60c604da-8a73-4f75-8ece-225c7b9bcacf",
   "metadata": {},
   "source": [
    "Visualizamos nuestra variable target (real y predicción)"
   ]
  },
  {
   "cell_type": "code",
   "execution_count": 19,
   "id": "5f705278-5e13-4803-8e47-362867ff4ff8",
   "metadata": {},
   "outputs": [
    {
     "data": {
      "text/html": [
       "<div>\n",
       "<style scoped>\n",
       "    .dataframe tbody tr th:only-of-type {\n",
       "        vertical-align: middle;\n",
       "    }\n",
       "\n",
       "    .dataframe tbody tr th {\n",
       "        vertical-align: top;\n",
       "    }\n",
       "\n",
       "    .dataframe thead th {\n",
       "        text-align: right;\n",
       "    }\n",
       "</style>\n",
       "<table border=\"1\" class=\"dataframe\">\n",
       "  <thead>\n",
       "    <tr style=\"text-align: right;\">\n",
       "      <th></th>\n",
       "      <th>val_real</th>\n",
       "    </tr>\n",
       "  </thead>\n",
       "  <tbody>\n",
       "    <tr>\n",
       "      <th>count</th>\n",
       "      <td>2255.00</td>\n",
       "    </tr>\n",
       "    <tr>\n",
       "      <th>mean</th>\n",
       "      <td>797354.70</td>\n",
       "    </tr>\n",
       "    <tr>\n",
       "      <th>std</th>\n",
       "      <td>1058933.73</td>\n",
       "    </tr>\n",
       "    <tr>\n",
       "      <th>min</th>\n",
       "      <td>-977066.91</td>\n",
       "    </tr>\n",
       "    <tr>\n",
       "      <th>25%</th>\n",
       "      <td>59937.88</td>\n",
       "    </tr>\n",
       "    <tr>\n",
       "      <th>50%</th>\n",
       "      <td>397312.35</td>\n",
       "    </tr>\n",
       "    <tr>\n",
       "      <th>75%</th>\n",
       "      <td>1149325.76</td>\n",
       "    </tr>\n",
       "    <tr>\n",
       "      <th>max</th>\n",
       "      <td>9249133.98</td>\n",
       "    </tr>\n",
       "  </tbody>\n",
       "</table>\n",
       "</div>"
      ],
      "text/plain": [
       "         val_real\n",
       "count     2255.00\n",
       "mean    797354.70\n",
       "std    1058933.73\n",
       "min    -977066.91\n",
       "25%      59937.88\n",
       "50%     397312.35\n",
       "75%    1149325.76\n",
       "max    9249133.98"
      ]
     },
     "execution_count": 19,
     "metadata": {},
     "output_type": "execute_result"
    }
   ],
   "source": [
    "pd.DataFrame(y_scaler.inverse_transform(y_val_r), columns=['val_real']).describe().round(2)"
   ]
  },
  {
   "cell_type": "code",
   "execution_count": 20,
   "id": "054b82b5-3331-44cc-ab3b-7215a63e3d39",
   "metadata": {},
   "outputs": [
    {
     "data": {
      "text/html": [
       "<div>\n",
       "<style scoped>\n",
       "    .dataframe tbody tr th:only-of-type {\n",
       "        vertical-align: middle;\n",
       "    }\n",
       "\n",
       "    .dataframe tbody tr th {\n",
       "        vertical-align: top;\n",
       "    }\n",
       "\n",
       "    .dataframe thead th {\n",
       "        text-align: right;\n",
       "    }\n",
       "</style>\n",
       "<table border=\"1\" class=\"dataframe\">\n",
       "  <thead>\n",
       "    <tr style=\"text-align: right;\">\n",
       "      <th></th>\n",
       "      <th>val_pred</th>\n",
       "    </tr>\n",
       "  </thead>\n",
       "  <tbody>\n",
       "    <tr>\n",
       "      <th>count</th>\n",
       "      <td>2255.00</td>\n",
       "    </tr>\n",
       "    <tr>\n",
       "      <th>mean</th>\n",
       "      <td>468173.72</td>\n",
       "    </tr>\n",
       "    <tr>\n",
       "      <th>std</th>\n",
       "      <td>1067813.27</td>\n",
       "    </tr>\n",
       "    <tr>\n",
       "      <th>min</th>\n",
       "      <td>-569085.90</td>\n",
       "    </tr>\n",
       "    <tr>\n",
       "      <th>25%</th>\n",
       "      <td>-316449.93</td>\n",
       "    </tr>\n",
       "    <tr>\n",
       "      <th>50%</th>\n",
       "      <td>148997.95</td>\n",
       "    </tr>\n",
       "    <tr>\n",
       "      <th>75%</th>\n",
       "      <td>886292.37</td>\n",
       "    </tr>\n",
       "    <tr>\n",
       "      <th>max</th>\n",
       "      <td>7175212.34</td>\n",
       "    </tr>\n",
       "  </tbody>\n",
       "</table>\n",
       "</div>"
      ],
      "text/plain": [
       "         val_pred\n",
       "count     2255.00\n",
       "mean    468173.72\n",
       "std    1067813.27\n",
       "min    -569085.90\n",
       "25%    -316449.93\n",
       "50%     148997.95\n",
       "75%     886292.37\n",
       "max    7175212.34"
      ]
     },
     "execution_count": 20,
     "metadata": {},
     "output_type": "execute_result"
    }
   ],
   "source": [
    "pd.DataFrame(y_scaler.inverse_transform(y_valid_pred_svr.reshape(-1,1)), columns=['val_pred']).describe().round(2)"
   ]
  },
  {
   "cell_type": "markdown",
   "id": "4d1317f8-d4b2-42e1-9f65-15e982bd5f0b",
   "metadata": {},
   "source": [
    "### Linear SVR - Juani - Escalado"
   ]
  },
  {
   "cell_type": "code",
   "execution_count": 21,
   "id": "9ecadfd4-a31d-4a21-80be-a840e85f320e",
   "metadata": {},
   "outputs": [],
   "source": [
    "X_train_r, X_val_r, y_train_r, y_val_r = train_test_split(X_r, y_r, test_size=0.3, random_state=0)#, shuffle=False)"
   ]
  },
  {
   "cell_type": "code",
   "execution_count": 22,
   "id": "169d96e5-e748-4770-941b-b5c2e93ea3b7",
   "metadata": {},
   "outputs": [],
   "source": [
    "from sklearn.pipeline import make_pipeline\n",
    "from sklearn.preprocessing import StandardScaler"
   ]
  },
  {
   "cell_type": "code",
   "execution_count": 23,
   "id": "22dd4044-301c-4a87-b28c-1f943d76eb76",
   "metadata": {},
   "outputs": [
    {
     "data": {
      "text/plain": [
       "Pipeline(steps=[('minmaxscaler', MinMaxScaler()),\n",
       "                ('linearsvr', LinearSVR(random_state=0, tol=1e-05))])"
      ]
     },
     "execution_count": 23,
     "metadata": {},
     "output_type": "execute_result"
    }
   ],
   "source": [
    "# escalado de feauteres y target\n",
    "\"\"\"\n",
    "x_scaler = MinMaxScaler() #MaxAbsScaler()\n",
    "y_scaler = MinMaxScaler() #MaxAbsScaler()\n",
    "X_train_r = x_scaler.fit_transform(X_train_r)\n",
    "X_val_r = x_scaler.fit_transform(X_val_r)\n",
    "y_train_r = y_scaler.fit_transform(y_train_r.values.reshape(-1, 1))\n",
    "y_val_r = y_scaler.fit_transform(y_val_r.values.reshape(-1, 1))\n",
    "\"\"\"\n",
    "\n",
    "regr = make_pipeline(MinMaxScaler(), LinearSVR(random_state=0, tol=1e-5))\n",
    "regr.fit(X_train_r,y_train_r)"
   ]
  },
  {
   "cell_type": "code",
   "execution_count": 24,
   "id": "124c32bc-628c-4cf7-9f71-165ddb7009f3",
   "metadata": {},
   "outputs": [
    {
     "name": "stdout",
     "output_type": "stream",
     "text": [
      "-0.63 is the accuracy of the SV Regressor\n"
     ]
    }
   ],
   "source": [
    "print(\"{:.2f} is the accuracy of the SV Regressor\".format(regr.score(X_val_r,y_val_r)))"
   ]
  },
  {
   "cell_type": "markdown",
   "id": "81834307-ab78-42b0-be29-b2f220fa7135",
   "metadata": {
    "tags": []
   },
   "source": [
    "### Linear SVR - Juani - vamos por otro lado"
   ]
  },
  {
   "cell_type": "code",
   "execution_count": 25,
   "id": "2c04d2ca-761c-49e7-91da-769c3cd698e3",
   "metadata": {},
   "outputs": [],
   "source": [
    "X_train_r, X_val_r, y_train_r, y_val_r = train_test_split(X_r, y_r, test_size=0.3, random_state=0)#, shuffle=False)"
   ]
  },
  {
   "cell_type": "code",
   "execution_count": 26,
   "id": "59547c51-c9ae-4798-8137-28eb2a182036",
   "metadata": {},
   "outputs": [],
   "source": [
    "x_scaler = MinMaxScaler() #MaxAbsScaler()\n",
    "y_scaler = MinMaxScaler() #MaxAbsScaler()\n",
    "X_train_r = x_scaler.fit_transform(X_train_r)\n",
    "y_train_r = y_scaler.fit_transform(y_train_r.values.reshape(-1, 1))"
   ]
  },
  {
   "cell_type": "code",
   "execution_count": 27,
   "id": "b125b864-afe1-44fa-a6b1-755b75c40faa",
   "metadata": {
    "tags": []
   },
   "outputs": [
    {
     "name": "stderr",
     "output_type": "stream",
     "text": [
      "C:\\Anaconda3\\lib\\site-packages\\sklearn\\utils\\validation.py:63: DataConversionWarning: A column-vector y was passed when a 1d array was expected. Please change the shape of y to (n_samples, ), for example using ravel().\n",
      "  return f(*args, **kwargs)\n",
      "C:\\Anaconda3\\lib\\site-packages\\sklearn\\svm\\_base.py:985: ConvergenceWarning: Liblinear failed to converge, increase the number of iterations.\n",
      "  warnings.warn(\"Liblinear failed to converge, increase \"\n"
     ]
    },
    {
     "data": {
      "text/plain": [
       "LinearSVR(random_state=0)"
      ]
     },
     "execution_count": 27,
     "metadata": {},
     "output_type": "execute_result"
    }
   ],
   "source": [
    "# fit\n",
    "svr = LinearSVR(random_state=0)\n",
    "svr.fit(X_train_r, y_train_r)"
   ]
  },
  {
   "cell_type": "code",
   "execution_count": 28,
   "id": "4c9dd1b1-bef6-4540-a6b3-1d248b01ab8c",
   "metadata": {},
   "outputs": [],
   "source": [
    "# Predict\n",
    "y_train_pred_svr = svr.predict(X_train_r)\n",
    "y_valid_pred_svr = svr.predict(X_val_r)"
   ]
  },
  {
   "cell_type": "code",
   "execution_count": 29,
   "id": "00fcc77a-4b93-48b5-b85d-5110316241dd",
   "metadata": {},
   "outputs": [
    {
     "name": "stdout",
     "output_type": "stream",
     "text": [
      "Train error MSE 0.005, Valid error MSE 1723092891103.379\n"
     ]
    }
   ],
   "source": [
    "# evaluate MSE:\n",
    "train_error_svr = mean_squared_error(y_train_r, y_train_pred_svr)\n",
    "val_error_svr = mean_squared_error(y_val_r, y_valid_pred_svr)\n",
    "print(f'Train error MSE {train_error_svr.round(3)}, Valid error MSE {val_error_svr.round(3)}') "
   ]
  },
  {
   "cell_type": "code",
   "execution_count": 30,
   "id": "e5b0cd0a-8c4d-4d47-b04d-9bb21afae28b",
   "metadata": {},
   "outputs": [
    {
     "name": "stdout",
     "output_type": "stream",
     "text": [
      "Train error MAE 0.039, Valid error MAE 821541.202\n"
     ]
    }
   ],
   "source": [
    "# evaluate MAE:\n",
    "train_error_svr = mean_absolute_error(y_train_r, y_train_pred_svr)\n",
    "val_error_svr = mean_absolute_error(y_val_r, y_valid_pred_svr)\n",
    "print(f'Train error MAE {train_error_svr.round(3)}, Valid error MAE {val_error_svr.round(3)}') "
   ]
  },
  {
   "cell_type": "code",
   "execution_count": 31,
   "id": "72fab940-5ce8-4eb4-8c5d-cb93d43c6e76",
   "metadata": {},
   "outputs": [
    {
     "name": "stdout",
     "output_type": "stream",
     "text": [
      "Train error RMSE 0.071, Valid error RMSE 1312666.329\n"
     ]
    }
   ],
   "source": [
    "# evaluate RMSE:\n",
    "train_error_svr = np.sqrt(mean_squared_error(y_train_r, y_train_pred_svr))\n",
    "val_error_svr = np.sqrt(mean_squared_error(y_val_r, y_valid_pred_svr))\n",
    "print(f'Train error RMSE {train_error_svr.round(3)}, Valid error RMSE {val_error_svr.round(3)}') "
   ]
  },
  {
   "cell_type": "markdown",
   "id": "96b6dca1-2492-4640-89fe-96b71d1b02e1",
   "metadata": {
    "tags": []
   },
   "source": [
    "### Linear SVR - Juani - sacamos features"
   ]
  },
  {
   "cell_type": "code",
   "execution_count": 32,
   "id": "2fd9c384-b4eb-4c5d-b2b4-0f7c2e37665d",
   "metadata": {},
   "outputs": [
    {
     "data": {
      "text/plain": [
       "array(['anio_mes_cupon', 'antig_cliente', 'comercio_cat=0',\n",
       "       'comercio_cat=1', 'comercio_cat=2', 'comercio_cat=3',\n",
       "       'comercio_cat=4', 'comercio_cat=5', 'comercio_cat=6',\n",
       "       'comercio_cat=7', 'comercio_cat=8', 'comercio_cat=9',\n",
       "       'producto_naranja_movimiento=AX', 'producto_naranja_movimiento=EX',\n",
       "       'producto_naranja_movimiento=MC', 'producto_naranja_movimiento=PC',\n",
       "       'producto_naranja_movimiento=PL', 'producto_naranja_movimiento=PN',\n",
       "       'producto_naranja_movimiento=PP', 'producto_naranja_movimiento=TA',\n",
       "       'producto_naranja_movimiento=VI', 'producto_naranja_movimiento=ZE',\n",
       "       'tipo_producto_tarjeta_movimiento=0',\n",
       "       'tipo_producto_tarjeta_movimiento=3',\n",
       "       'tipo_producto_tarjeta_movimiento=4', 'fg_aumentado'], dtype=object)"
      ]
     },
     "execution_count": 32,
     "metadata": {},
     "output_type": "execute_result"
    }
   ],
   "source": [
    "X_r.columns.values"
   ]
  },
  {
   "cell_type": "code",
   "execution_count": 33,
   "id": "f55323da-2968-420b-aafd-cb4f04ccbca0",
   "metadata": {},
   "outputs": [
    {
     "data": {
      "text/html": [
       "<div>\n",
       "<style scoped>\n",
       "    .dataframe tbody tr th:only-of-type {\n",
       "        vertical-align: middle;\n",
       "    }\n",
       "\n",
       "    .dataframe tbody tr th {\n",
       "        vertical-align: top;\n",
       "    }\n",
       "\n",
       "    .dataframe thead th {\n",
       "        text-align: right;\n",
       "    }\n",
       "</style>\n",
       "<table border=\"1\" class=\"dataframe\">\n",
       "  <thead>\n",
       "    <tr style=\"text-align: right;\">\n",
       "      <th></th>\n",
       "      <th>antig_cliente</th>\n",
       "      <th>comercio_cat=0</th>\n",
       "      <th>comercio_cat=1</th>\n",
       "      <th>comercio_cat=2</th>\n",
       "      <th>comercio_cat=3</th>\n",
       "      <th>comercio_cat=9</th>\n",
       "      <th>producto_naranja_movimiento=PL</th>\n",
       "      <th>producto_naranja_movimiento=VI</th>\n",
       "      <th>tipo_producto_tarjeta_movimiento=0</th>\n",
       "      <th>tipo_producto_tarjeta_movimiento=3</th>\n",
       "    </tr>\n",
       "  </thead>\n",
       "  <tbody>\n",
       "    <tr>\n",
       "      <th>0</th>\n",
       "      <td>225</td>\n",
       "      <td>69.0</td>\n",
       "      <td>0.0</td>\n",
       "      <td>0.0</td>\n",
       "      <td>0.0</td>\n",
       "      <td>0.0</td>\n",
       "      <td>69.0</td>\n",
       "      <td>0.0</td>\n",
       "      <td>69.0</td>\n",
       "      <td>0.0</td>\n",
       "    </tr>\n",
       "    <tr>\n",
       "      <th>1</th>\n",
       "      <td>226</td>\n",
       "      <td>69.0</td>\n",
       "      <td>0.0</td>\n",
       "      <td>0.0</td>\n",
       "      <td>0.0</td>\n",
       "      <td>0.0</td>\n",
       "      <td>69.0</td>\n",
       "      <td>0.0</td>\n",
       "      <td>69.0</td>\n",
       "      <td>0.0</td>\n",
       "    </tr>\n",
       "    <tr>\n",
       "      <th>2</th>\n",
       "      <td>227</td>\n",
       "      <td>69.0</td>\n",
       "      <td>0.0</td>\n",
       "      <td>0.0</td>\n",
       "      <td>0.0</td>\n",
       "      <td>0.0</td>\n",
       "      <td>69.0</td>\n",
       "      <td>0.0</td>\n",
       "      <td>69.0</td>\n",
       "      <td>0.0</td>\n",
       "    </tr>\n",
       "    <tr>\n",
       "      <th>3</th>\n",
       "      <td>228</td>\n",
       "      <td>69.0</td>\n",
       "      <td>0.0</td>\n",
       "      <td>0.0</td>\n",
       "      <td>0.0</td>\n",
       "      <td>0.0</td>\n",
       "      <td>69.0</td>\n",
       "      <td>0.0</td>\n",
       "      <td>69.0</td>\n",
       "      <td>0.0</td>\n",
       "    </tr>\n",
       "    <tr>\n",
       "      <th>4</th>\n",
       "      <td>229</td>\n",
       "      <td>69.0</td>\n",
       "      <td>0.0</td>\n",
       "      <td>0.0</td>\n",
       "      <td>0.0</td>\n",
       "      <td>0.0</td>\n",
       "      <td>69.0</td>\n",
       "      <td>0.0</td>\n",
       "      <td>69.0</td>\n",
       "      <td>0.0</td>\n",
       "    </tr>\n",
       "  </tbody>\n",
       "</table>\n",
       "</div>"
      ],
      "text/plain": [
       "   antig_cliente  comercio_cat=0  comercio_cat=1  comercio_cat=2  \\\n",
       "0            225            69.0             0.0             0.0   \n",
       "1            226            69.0             0.0             0.0   \n",
       "2            227            69.0             0.0             0.0   \n",
       "3            228            69.0             0.0             0.0   \n",
       "4            229            69.0             0.0             0.0   \n",
       "\n",
       "   comercio_cat=3  comercio_cat=9  producto_naranja_movimiento=PL  \\\n",
       "0             0.0             0.0                            69.0   \n",
       "1             0.0             0.0                            69.0   \n",
       "2             0.0             0.0                            69.0   \n",
       "3             0.0             0.0                            69.0   \n",
       "4             0.0             0.0                            69.0   \n",
       "\n",
       "   producto_naranja_movimiento=VI  tipo_producto_tarjeta_movimiento=0  \\\n",
       "0                             0.0                                69.0   \n",
       "1                             0.0                                69.0   \n",
       "2                             0.0                                69.0   \n",
       "3                             0.0                                69.0   \n",
       "4                             0.0                                69.0   \n",
       "\n",
       "   tipo_producto_tarjeta_movimiento=3  \n",
       "0                                 0.0  \n",
       "1                                 0.0  \n",
       "2                                 0.0  \n",
       "3                                 0.0  \n",
       "4                                 0.0  "
      ]
     },
     "execution_count": 33,
     "metadata": {},
     "output_type": "execute_result"
    }
   ],
   "source": [
    "X_svr = X_r[['antig_cliente', 'comercio_cat=0', 'comercio_cat=1', 'comercio_cat=2', 'comercio_cat=3',\n",
    "             'comercio_cat=9', 'producto_naranja_movimiento=PL', 'producto_naranja_movimiento=VI',\n",
    "             'tipo_producto_tarjeta_movimiento=0', 'tipo_producto_tarjeta_movimiento=3']]\n",
    "X_svr.head()"
   ]
  },
  {
   "cell_type": "code",
   "execution_count": 34,
   "id": "3daf360d-a95b-4a4a-b8e6-bdac7dfb233a",
   "metadata": {},
   "outputs": [],
   "source": [
    "X_train_r, X_val_r, y_train_r, y_val_r = train_test_split(X_svr, y_r, test_size=0.3, random_state=0)#, shuffle=False)"
   ]
  },
  {
   "cell_type": "code",
   "execution_count": 35,
   "id": "3980a7ea-507a-43f2-bf3e-c641590c662c",
   "metadata": {},
   "outputs": [],
   "source": [
    "x_scaler = MinMaxScaler() #MaxAbsScaler()\n",
    "y_scaler = MinMaxScaler() #MaxAbsScaler()\n",
    "X_train_r = x_scaler.fit_transform(X_train_r)\n",
    "X_val_r = x_scaler.transform(X_val_r)\n",
    "y_train_r = y_scaler.fit_transform(y_train_r.values.reshape(-1, 1))\n",
    "y_val_r = y_scaler.transform(y_val_r.values.reshape(-1, 1))"
   ]
  },
  {
   "cell_type": "code",
   "execution_count": 36,
   "id": "b490d1b9-8f6b-4c5b-bde2-0822b5bed116",
   "metadata": {
    "tags": []
   },
   "outputs": [
    {
     "name": "stderr",
     "output_type": "stream",
     "text": [
      "C:\\Anaconda3\\lib\\site-packages\\sklearn\\utils\\validation.py:63: DataConversionWarning: A column-vector y was passed when a 1d array was expected. Please change the shape of y to (n_samples, ), for example using ravel().\n",
      "  return f(*args, **kwargs)\n",
      "C:\\Anaconda3\\lib\\site-packages\\sklearn\\svm\\_base.py:985: ConvergenceWarning: Liblinear failed to converge, increase the number of iterations.\n",
      "  warnings.warn(\"Liblinear failed to converge, increase \"\n"
     ]
    },
    {
     "data": {
      "text/plain": [
       "LinearSVR(random_state=0)"
      ]
     },
     "execution_count": 36,
     "metadata": {},
     "output_type": "execute_result"
    }
   ],
   "source": [
    "# fit\n",
    "svr = LinearSVR(random_state=0)\n",
    "svr.fit(X_train_r, y_train_r)"
   ]
  },
  {
   "cell_type": "code",
   "execution_count": 37,
   "id": "2c41a892-59b5-42e3-9c21-ca0db9ac80d8",
   "metadata": {},
   "outputs": [],
   "source": [
    "# Predict\n",
    "y_train_pred_svr = svr.predict(X_train_r)\n",
    "y_valid_pred_svr = svr.predict(X_val_r)"
   ]
  },
  {
   "cell_type": "code",
   "execution_count": 38,
   "id": "27d59b53-e10e-4b07-97af-432656a6788d",
   "metadata": {},
   "outputs": [
    {
     "name": "stdout",
     "output_type": "stream",
     "text": [
      "Train error MSE 0.006, Valid error MSE 0.006\n"
     ]
    }
   ],
   "source": [
    "# evaluate MSE:\n",
    "train_error_svr = mean_squared_error(y_train_r, y_train_pred_svr)\n",
    "val_error_svr = mean_squared_error(y_val_r, y_valid_pred_svr)\n",
    "print(f'Train error MSE {train_error_svr.round(3)}, Valid error MSE {val_error_svr.round(3)}') "
   ]
  },
  {
   "cell_type": "code",
   "execution_count": 39,
   "id": "298a4289-7e00-4ff0-8534-529fdeb1e94d",
   "metadata": {},
   "outputs": [
    {
     "name": "stdout",
     "output_type": "stream",
     "text": [
      "Train error MAE 0.043, Valid error MAE 0.044\n"
     ]
    }
   ],
   "source": [
    "# evaluate MAE:\n",
    "train_error_svr = mean_absolute_error(y_train_r, y_train_pred_svr)\n",
    "val_error_svr = mean_absolute_error(y_val_r, y_valid_pred_svr)\n",
    "print(f'Train error MAE {train_error_svr.round(3)}, Valid error MAE {val_error_svr.round(3)}') "
   ]
  },
  {
   "cell_type": "code",
   "execution_count": 40,
   "id": "aa51c3b0-bf2d-44a6-b07b-6b1060c01584",
   "metadata": {},
   "outputs": [
    {
     "name": "stdout",
     "output_type": "stream",
     "text": [
      "Train error RMSE 0.079, Valid error RMSE 0.078\n"
     ]
    }
   ],
   "source": [
    "# evaluate RMSE:\n",
    "train_error_svr = np.sqrt(mean_squared_error(y_train_r, y_train_pred_svr))\n",
    "val_error_svr = np.sqrt(mean_squared_error(y_val_r, y_valid_pred_svr))\n",
    "print(f'Train error RMSE {train_error_svr.round(3)}, Valid error RMSE {val_error_svr.round(3)}') "
   ]
  },
  {
   "cell_type": "code",
   "execution_count": null,
   "id": "57326811-3c34-468b-8076-2211165bf225",
   "metadata": {},
   "outputs": [],
   "source": []
  },
  {
   "cell_type": "code",
   "execution_count": 41,
   "id": "d94fe2df-15a4-487b-aa26-3e92a998d14f",
   "metadata": {},
   "outputs": [
    {
     "data": {
      "text/plain": [
       "array([[   5153.70923548],\n",
       "       [1358979.68484747],\n",
       "       [  19694.15019502],\n",
       "       ...,\n",
       "       [ 464208.98217574],\n",
       "       [ 685507.78335682],\n",
       "       [ 694379.94694085]])"
      ]
     },
     "execution_count": 41,
     "metadata": {},
     "output_type": "execute_result"
    }
   ],
   "source": [
    "y_scaler.inverse_transform(y_train_pred_svr.reshape(-1,1))"
   ]
  },
  {
   "cell_type": "code",
   "execution_count": null,
   "id": "98c76061-53bf-4657-843c-4346d96ae245",
   "metadata": {},
   "outputs": [],
   "source": []
  },
  {
   "cell_type": "code",
   "execution_count": null,
   "id": "f6c60597-5632-49c3-9909-b313f0727157",
   "metadata": {},
   "outputs": [],
   "source": []
  },
  {
   "cell_type": "code",
   "execution_count": null,
   "id": "7b3bdbfd-abd8-49d4-b299-ce4a09ecffdc",
   "metadata": {},
   "outputs": [],
   "source": []
  },
  {
   "cell_type": "code",
   "execution_count": null,
   "id": "c825343e-ae03-4d95-9662-e44cd74cdc4a",
   "metadata": {},
   "outputs": [],
   "source": []
  },
  {
   "cell_type": "code",
   "execution_count": null,
   "id": "01779883-f880-416d-9841-fdf8e7436043",
   "metadata": {},
   "outputs": [],
   "source": []
  },
  {
   "cell_type": "code",
   "execution_count": null,
   "id": "dc471f5e-4de4-48b1-9c37-bb521b55f9a2",
   "metadata": {},
   "outputs": [],
   "source": []
  },
  {
   "cell_type": "code",
   "execution_count": null,
   "id": "26042786-7fcf-4236-81c1-e47eea826bb1",
   "metadata": {},
   "outputs": [],
   "source": []
  },
  {
   "cell_type": "code",
   "execution_count": null,
   "id": "e62a2363-95ca-40e3-a7ef-1aad8fcfc706",
   "metadata": {},
   "outputs": [],
   "source": []
  },
  {
   "cell_type": "code",
   "execution_count": null,
   "id": "e412bea4-4791-4d63-8769-0887edf7bdf8",
   "metadata": {},
   "outputs": [],
   "source": []
  },
  {
   "cell_type": "markdown",
   "id": "7f99ea6c-2821-4593-aae4-c411ca2ccc90",
   "metadata": {},
   "source": [
    "### Linear SVR - Grid Search"
   ]
  },
  {
   "cell_type": "code",
   "execution_count": null,
   "id": "b6a17fe9-a9f7-4eae-a526-c426cdf43774",
   "metadata": {
    "tags": []
   },
   "outputs": [],
   "source": [
    "param_grid = {\n",
    "    'epsilon': [0.1, 0.01, 0.0001,0.001],\n",
    "    'tol': [1e-3, 1e-4, 1e-5, 1e-6],\n",
    "    'C': [1, 2, 0.01, 0.001],\n",
    "    'loss': ['epsilon_insensitive', 'squared_epsilon_insensitive']\n",
    "}\n",
    "\n",
    "cv_svr = GridSearchCV(svr, param_grid, scoring='neg_mean_squared_error',cv=5)\n",
    "cv_svr.fit(X_train_r, y_train_r)"
   ]
  },
  {
   "cell_type": "code",
   "execution_count": null,
   "id": "0c1e58a1-e4b4-45c8-ab9f-80006e908d99",
   "metadata": {
    "tags": []
   },
   "outputs": [],
   "source": [
    "cv_svr.best_params_"
   ]
  },
  {
   "cell_type": "code",
   "execution_count": null,
   "id": "38d51ad4-94f7-4bc8-808f-344576a17223",
   "metadata": {},
   "outputs": [],
   "source": [
    "cv_svr.best_estimator_"
   ]
  },
  {
   "cell_type": "code",
   "execution_count": null,
   "id": "7a2a9b91-195c-4974-b766-aea5dfec3fea",
   "metadata": {},
   "outputs": [],
   "source": [
    "# Predict\n",
    "y_train_pred_svr = cv_svr.best_estimator_.predict(X_train_r)\n",
    "y_valid_pred_svr = cv_svr.best_estimator_.predict(X_val_r)"
   ]
  },
  {
   "cell_type": "code",
   "execution_count": null,
   "id": "1d9613b5-7043-4d5e-9e92-6b2ba82d17be",
   "metadata": {},
   "outputs": [],
   "source": [
    "# evaluate MSE:\n",
    "train_error_svr = mean_squared_error(y_train_r, y_train_pred_svr)\n",
    "val_error_svr = mean_squared_error(y_val_r, y_valid_pred_svr)\n",
    "print(f'Train error {train_error_svr.round(3)}, Valid error {val_error_svr.round(3)}')  "
   ]
  },
  {
   "cell_type": "code",
   "execution_count": null,
   "id": "0a72f68a-f493-4d1a-a9f0-c48bf012f0f2",
   "metadata": {},
   "outputs": [],
   "source": [
    "# evaluate MAE:\n",
    "train_error_svr = mean_absolute_error(y_train_r, y_train_pred_svr)\n",
    "val_error_svr = mean_absolute_error(y_val_r, y_valid_pred_svr)\n",
    "print(f'Train error MAE {train_error_svr.round(3)}, Valid error MAE {val_error_svr.round(3)}') "
   ]
  },
  {
   "cell_type": "code",
   "execution_count": null,
   "id": "1ee88036-0025-41c5-8786-1f96f59a69d8",
   "metadata": {},
   "outputs": [],
   "source": [
    "# evaluate RMSE:\n",
    "train_error_svr = np.sqrt(mean_squared_error(y_train_r, y_train_pred_svr))\n",
    "val_error_svr = np.sqrt(mean_squared_error(y_val_r, y_valid_pred_svr))\n",
    "print(f'Train error RMSE {train_error_svr.round(3)}, Valid error RMSE {val_error_svr.round(3)}') "
   ]
  },
  {
   "cell_type": "code",
   "execution_count": null,
   "id": "8eed586f-58f2-4d85-8efe-a08f54059f47",
   "metadata": {},
   "outputs": [],
   "source": [
    "pd.DataFrame(y_scaler.inverse_transform(y_val_r), columns=['val_real']).describe().round(2)"
   ]
  },
  {
   "cell_type": "code",
   "execution_count": null,
   "id": "18090440-e350-4588-aa6d-8393136b573e",
   "metadata": {},
   "outputs": [],
   "source": [
    "pd.DataFrame(y_scaler.inverse_transform(y_valid_pred_svr.reshape(-1,1)), columns=['val_pred']).describe().round(2)"
   ]
  },
  {
   "cell_type": "markdown",
   "id": "58e6e522-ef49-4ba9-9cbb-8c83e762efb3",
   "metadata": {},
   "source": [
    "### SGDRegressor - Default"
   ]
  },
  {
   "cell_type": "code",
   "execution_count": null,
   "id": "10f08f86-5b98-4d13-bf29-70200d0defaf",
   "metadata": {},
   "outputs": [],
   "source": [
    "from sklearn.linear_model import SGDRegressor"
   ]
  },
  {
   "cell_type": "markdown",
   "id": "348fa599-cae5-4d35-9a4a-f30e03836fa6",
   "metadata": {},
   "source": [
    "Utilizamos las variables X_train_r, X_val_r, y_train_r, y_val_r debido a que en este modelo utilizamos el mismo escalado que SVM-R. "
   ]
  },
  {
   "cell_type": "code",
   "execution_count": null,
   "id": "4e88c8ca-00d1-4a6f-b9a2-1a3c2162746f",
   "metadata": {
    "tags": []
   },
   "outputs": [],
   "source": [
    "# Fit\n",
    "sgd = SGDRegressor(random_state=0, shuffle=False)\n",
    "sgd.fit(X_train_r, y_train_r)"
   ]
  },
  {
   "cell_type": "code",
   "execution_count": null,
   "id": "d38485c7-bf4d-473a-862a-b4f2270d1a5b",
   "metadata": {},
   "outputs": [],
   "source": [
    "# Predict\n",
    "y_train_pred_sgd = sgd.predict(X_train_r)\n",
    "y_valid_pred_sgd = sgd.predict(X_val_r)"
   ]
  },
  {
   "cell_type": "code",
   "execution_count": null,
   "id": "a125c5ac-f25e-4e05-9ffb-d6d1b43ada3c",
   "metadata": {},
   "outputs": [],
   "source": [
    "# evaluate:\n",
    "train_error_sgd = mean_squared_error(y_train_r, y_train_pred_sgd)\n",
    "val_error_sgd = mean_squared_error(y_val_r, y_valid_pred_sgd)\n",
    "print(f'Train error {train_error_sgd.round(3)}, Valid error {val_error_sgd.round(3)}')  "
   ]
  },
  {
   "cell_type": "code",
   "execution_count": null,
   "id": "3829a3f1-4b74-4db4-8e43-55f9c97e92ad",
   "metadata": {},
   "outputs": [],
   "source": [
    "# evaluate MAE:\n",
    "train_error_sgd = mean_absolute_error(y_train_r, y_train_pred_sgd)\n",
    "val_error_sgd = mean_absolute_error(y_val_r, y_valid_pred_sgd)\n",
    "print(f'Train error MAE {train_error_sgd.round(3)}, Valid error MAE {val_error_sgd.round(3)}') "
   ]
  },
  {
   "cell_type": "code",
   "execution_count": null,
   "id": "5a992d04-498f-468b-b2f7-3c394e41a94b",
   "metadata": {},
   "outputs": [],
   "source": [
    "# evaluate RMSE:\n",
    "train_error_sgd = np.sqrt(mean_squared_error(y_train_r, y_train_pred_sgd))\n",
    "val_error_sgd = np.sqrt(mean_squared_error(y_val_r, y_valid_pred_sgd))\n",
    "print(f'Train error RMSE {train_error_sgd.round(3)}, Valid error RMSE {val_error_sgd.round(3)}') "
   ]
  },
  {
   "cell_type": "markdown",
   "id": "8d9a6b95-6c26-48af-aafd-647890768bd8",
   "metadata": {
    "tags": []
   },
   "source": [
    "Visualizamos nuestra variable target (real y predicción)"
   ]
  },
  {
   "cell_type": "code",
   "execution_count": null,
   "id": "9f4e8216-99a9-4b22-9a4e-d755cef60690",
   "metadata": {},
   "outputs": [],
   "source": [
    "pd.DataFrame(y_scaler.inverse_transform(y_val_r), columns=['val_real']).describe().round(2)"
   ]
  },
  {
   "cell_type": "code",
   "execution_count": null,
   "id": "daa5c795-4c05-41de-bc94-df2b1fb08e26",
   "metadata": {
    "tags": []
   },
   "outputs": [],
   "source": [
    "pd.DataFrame(y_scaler.inverse_transform(y_valid_pred_sgd.reshape(-1,1)), columns=['val_pred']).describe().round(2)"
   ]
  },
  {
   "cell_type": "markdown",
   "id": "96a717c0-b221-42c5-828b-2069e4f1949d",
   "metadata": {},
   "source": [
    "### SGDRegressor- Grid Search"
   ]
  },
  {
   "cell_type": "code",
   "execution_count": null,
   "id": "5dd1bc64-392a-4637-8ddc-7fcd2a2a1f21",
   "metadata": {
    "tags": []
   },
   "outputs": [],
   "source": [
    "param_grid = {\n",
    "    'loss': ['squared_loss','huber','epsilon_insensitive','squared_epsilon_insensitive'],\n",
    "    'penalty': ['l2','l1'],\n",
    "    'alpha': [0.001, 0.01, 0.1, 1],\n",
    "    'epsilon': [0.1, 0.01],\n",
    "    'tol': [1e-3, 1e-4],\n",
    "    'learning_rate': ['optimal', 'constant', 'adaptive','invscaling']\n",
    "    #'max_iter': [1000, 2000, 5000]\n",
    "}\n",
    "\n",
    "cv_sgd = GridSearchCV(sgd, param_grid, scoring='neg_mean_squared_error',cv=5)\n",
    "cv_sgd.fit(X_train_r, y_train_r)"
   ]
  },
  {
   "cell_type": "code",
   "execution_count": null,
   "id": "224798ca-b5d1-48ae-8c01-4996d398aa6c",
   "metadata": {
    "tags": []
   },
   "outputs": [],
   "source": [
    "cv_sgd.best_params_"
   ]
  },
  {
   "cell_type": "code",
   "execution_count": null,
   "id": "7cb667e2-4a97-4d60-848d-961845f0e0bc",
   "metadata": {},
   "outputs": [],
   "source": [
    "cv_sgd.best_estimator_"
   ]
  },
  {
   "cell_type": "code",
   "execution_count": null,
   "id": "1618844d-7a20-4c0a-bd85-7a0689795b25",
   "metadata": {},
   "outputs": [],
   "source": [
    "# Predict\n",
    "y_train_pred_sgd = cv_sgd.best_estimator_.predict(X_train_r)\n",
    "y_valid_pred_sgd = cv_sgd.best_estimator_.predict(X_val_r)"
   ]
  },
  {
   "cell_type": "code",
   "execution_count": null,
   "id": "1b2939c5-9e21-4c0a-a9a6-2d9ea67de9fc",
   "metadata": {},
   "outputs": [],
   "source": [
    "# evaluate MSE:\n",
    "train_error_sgd = mean_squared_error(y_train_r, y_train_pred_sgd)\n",
    "val_error_sgd = mean_squared_error(y_val_r, y_valid_pred_sgd)\n",
    "print(f'Train error {train_error_sgd.round(3)}, Valid error {val_error_sgd.round(3)}')  "
   ]
  },
  {
   "cell_type": "code",
   "execution_count": null,
   "id": "ac8bd002-c9f7-4bcf-bc56-1ed30fb49bec",
   "metadata": {},
   "outputs": [],
   "source": [
    "# evaluate MAE:\n",
    "train_error_sgd = mean_absolute_error(y_train_r, y_train_pred_sgd)\n",
    "val_error_sgd = mean_absolute_error(y_val_r, y_valid_pred_sgd)\n",
    "print(f'Train error MAE {train_error_sgd.round(3)}, Valid error MAE {val_error_sgd.round(3)}') "
   ]
  },
  {
   "cell_type": "code",
   "execution_count": null,
   "id": "9d9d1407-ec48-45de-945f-85d59a08315a",
   "metadata": {},
   "outputs": [],
   "source": [
    "# evaluate RMSE:\n",
    "train_error_sgd = np.sqrt(mean_squared_error(y_train_r, y_train_pred_sgd))\n",
    "val_error_sgd = np.sqrt(mean_squared_error(y_val_r, y_valid_pred_sgd))\n",
    "print(f'Train error RMSE {train_error_sgd.round(3)}, Valid error RMSE {val_error_sgd.round(3)}') "
   ]
  },
  {
   "cell_type": "markdown",
   "id": "1716b81c-dad8-4c30-9c9b-4a3cc8193ca1",
   "metadata": {
    "tags": []
   },
   "source": [
    "Visualizamos nuestra variable target (real y predicción)"
   ]
  },
  {
   "cell_type": "code",
   "execution_count": null,
   "id": "9858655c-9a86-4a1a-9f5f-82edc6d0270c",
   "metadata": {},
   "outputs": [],
   "source": [
    "pd.DataFrame(y_scaler.inverse_transform(y_val_r), columns=['val_real']).describe().round(2)"
   ]
  },
  {
   "cell_type": "code",
   "execution_count": null,
   "id": "43556762-8198-48bb-b2d1-2b8bb4514ae7",
   "metadata": {
    "tags": []
   },
   "outputs": [],
   "source": [
    "pd.DataFrame(y_scaler.inverse_transform(y_valid_pred_sgd.reshape(-1,1)), columns=['val_pred']).describe().round(2)"
   ]
  },
  {
   "cell_type": "markdown",
   "id": "4a6c4007-31e5-4854-b82c-b6bec547bcad",
   "metadata": {},
   "source": [
    "### KNeighborsRegressor - Default"
   ]
  },
  {
   "cell_type": "code",
   "execution_count": null,
   "id": "2316f14b-f509-43cb-aaf7-e9f6769ed679",
   "metadata": {},
   "outputs": [],
   "source": [
    "from sklearn.neighbors import KNeighborsRegressor"
   ]
  },
  {
   "cell_type": "code",
   "execution_count": null,
   "id": "ba64733f-14f8-41e3-bbfa-9321b30505d8",
   "metadata": {},
   "outputs": [],
   "source": [
    "neigh = KNeighborsRegressor(n_neighbors=5)\n",
    "neigh.fit(X_train_r, y_train_r)"
   ]
  },
  {
   "cell_type": "code",
   "execution_count": null,
   "id": "05eed3b9-a45d-4841-9f68-fef5c809b181",
   "metadata": {},
   "outputs": [],
   "source": [
    "# Predict\n",
    "y_train_pred_neigh = neigh.predict(X_train_r)\n",
    "y_valid_pred_neigh = neigh.predict(X_val_r)"
   ]
  },
  {
   "cell_type": "code",
   "execution_count": null,
   "id": "011d926c-7400-4fb4-b2f8-b2a5edc5d51d",
   "metadata": {},
   "outputs": [],
   "source": [
    "# evaluate:\n",
    "train_error_neigh = mean_squared_error(y_train_r, y_train_pred_neigh)\n",
    "val_error_neigh = mean_squared_error(y_val_r, y_valid_pred_neigh)\n",
    "print(f'Train error {train_error_neigh.round(3)}, Valid error {val_error_neigh.round(3)}')"
   ]
  },
  {
   "cell_type": "code",
   "execution_count": null,
   "id": "83fe89db-b2d8-4415-be7e-7f304217ccc6",
   "metadata": {},
   "outputs": [],
   "source": [
    "pd.DataFrame(y_scaler.inverse_transform(y_val_r), columns=['val_real']).describe().round(2)"
   ]
  },
  {
   "cell_type": "code",
   "execution_count": null,
   "id": "059d50f1-d04d-44bf-a7c4-d491f83e3a5b",
   "metadata": {},
   "outputs": [],
   "source": [
    "pd.DataFrame(y_scaler.inverse_transform(y_valid_pred_neigh.reshape(-1,1)), columns=['val_pred']).describe().round(2)"
   ]
  },
  {
   "cell_type": "markdown",
   "id": "c1f6d693-3e5f-405a-b736-8695c0398e45",
   "metadata": {},
   "source": [
    "### KNeighborsRegressor - Grid Search"
   ]
  },
  {
   "cell_type": "code",
   "execution_count": null,
   "id": "f23004d3-c1b4-4797-bb80-e3bc77b9c480",
   "metadata": {
    "tags": []
   },
   "outputs": [],
   "source": [
    "param_grid = {\n",
    "    'n_neighbors': [2, 3, 4, 5],\n",
    "    'weights': ['uniform', 'distance'],\n",
    "    'algorithm': ['auto','ball_tree','kd_tree','brute'],\n",
    "    'p': [1,2]\n",
    "}\n",
    "\n",
    "cv_neigh = GridSearchCV(neigh, param_grid, scoring='neg_mean_squared_error',cv=5)\n",
    "cv_neigh.fit(X_train_r, y_train_r)"
   ]
  },
  {
   "cell_type": "code",
   "execution_count": null,
   "id": "fd360963-bc00-4b7e-b487-528c7ead9f7e",
   "metadata": {
    "tags": []
   },
   "outputs": [],
   "source": [
    "cv_neigh.best_params_"
   ]
  },
  {
   "cell_type": "code",
   "execution_count": null,
   "id": "41ebda87-5579-435b-9988-62cd5b11eb6d",
   "metadata": {},
   "outputs": [],
   "source": [
    "cv_neigh.best_estimator_"
   ]
  },
  {
   "cell_type": "code",
   "execution_count": null,
   "id": "7980f8af-306f-4ae9-84cc-f834c832ba7f",
   "metadata": {},
   "outputs": [],
   "source": [
    "# Predict\n",
    "y_train_pred_neigh = cv_neigh.best_estimator_.predict(X_train_r)\n",
    "y_valid_pred_neigh = cv_neigh.best_estimator_.predict(X_val_r)"
   ]
  },
  {
   "cell_type": "code",
   "execution_count": null,
   "id": "8824099c-ebbd-4f2c-ba46-ef5840a6954c",
   "metadata": {},
   "outputs": [],
   "source": [
    "# evaluate MSE:\n",
    "train_error_neigh = mean_squared_error(y_train_r, y_train_pred_neigh)\n",
    "val_error_neigh = mean_squared_error(y_val_r, y_valid_pred_neigh)\n",
    "print(f'Train error {train_error_neigh.round(3)}, Valid error {val_error_neigh.round(3)}')  "
   ]
  },
  {
   "cell_type": "code",
   "execution_count": null,
   "id": "c8eb9bf1-6231-4c51-94e6-6efb6f08d502",
   "metadata": {},
   "outputs": [],
   "source": [
    "# evaluate MAE:\n",
    "train_error_neigh = mean_absolute_error(y_train_r, y_train_pred_neigh)\n",
    "val_error_neigh = mean_absolute_error(y_val_r, y_valid_pred_neigh)\n",
    "print(f'Train error MAE {train_error_neigh.round(3)}, Valid error MAE {val_error_neigh.round(3)}') "
   ]
  },
  {
   "cell_type": "code",
   "execution_count": null,
   "id": "f1d1e1fc-28df-4f69-825e-913f8bf33596",
   "metadata": {},
   "outputs": [],
   "source": [
    "# evaluate RMSE:\n",
    "train_error_neigh = np.sqrt(mean_squared_error(y_train_r, y_train_pred_neigh))\n",
    "val_error_neigh = np.sqrt(mean_squared_error(y_val_r, y_valid_pred_neigh))\n",
    "print(f'Train error RMSE {train_error_neigh.round(3)}, Valid error RMSE {val_error_neigh.round(3)}') "
   ]
  },
  {
   "cell_type": "markdown",
   "id": "7e3bd3b5-6d26-4d60-9f83-6326c0c46104",
   "metadata": {
    "tags": []
   },
   "source": [
    "Visualizamos nuestra variable target (real y predicción)"
   ]
  },
  {
   "cell_type": "code",
   "execution_count": null,
   "id": "7780123b-181b-47f7-90c4-97dbcb5f20b3",
   "metadata": {},
   "outputs": [],
   "source": [
    "pd.DataFrame(y_scaler.inverse_transform(y_val_r), columns=['val_real']).describe().round(2)"
   ]
  },
  {
   "cell_type": "code",
   "execution_count": null,
   "id": "30389d61-f8ac-4708-83c3-43ac992aadde",
   "metadata": {
    "tags": []
   },
   "outputs": [],
   "source": [
    "pd.DataFrame(y_scaler.inverse_transform(y_valid_pred_neigh.reshape(-1,1)), columns=['val_pred']).describe().round(2)"
   ]
  },
  {
   "cell_type": "markdown",
   "id": "fb289b73-5dd3-457f-bd04-4018a0a0d709",
   "metadata": {},
   "source": [
    "### GaussianProcessRegressor - Default"
   ]
  },
  {
   "cell_type": "code",
   "execution_count": null,
   "id": "befd13e2-8468-4a93-ae43-51f72709a3f9",
   "metadata": {},
   "outputs": [],
   "source": [
    "from sklearn.gaussian_process import GaussianProcessRegressor"
   ]
  },
  {
   "cell_type": "code",
   "execution_count": null,
   "id": "9f4b3aac-1c99-4eee-9d3d-a339cec6be2d",
   "metadata": {},
   "outputs": [],
   "source": [
    "# Toma por parametro un kernel por defecto que probablemente habria que optimizar \n",
    "gpr = GaussianProcessRegressor(random_state=0)\n",
    "gpr.fit(X_train_r, y_train_r)"
   ]
  },
  {
   "cell_type": "code",
   "execution_count": null,
   "id": "c5c21a87-978a-4413-9118-d0fcc40855f6",
   "metadata": {},
   "outputs": [],
   "source": [
    "# Predict\n",
    "y_train_pred_gpr = gpr.predict(X_train_r)\n",
    "y_valid_pred_gpr = gpr.predict(X_val_r)"
   ]
  },
  {
   "cell_type": "code",
   "execution_count": null,
   "id": "c8635b75-09c3-4a4c-a451-458dfd27bc2d",
   "metadata": {
    "tags": []
   },
   "outputs": [],
   "source": [
    "# evaluate MSE:\n",
    "train_error_gpr  = mean_squared_error(y_train_r, y_train_pred_gpr )\n",
    "val_error_gpr  = mean_squared_error(y_val_r, y_valid_pred_gpr )\n",
    "print(f'Train error {train_error_gpr .round(3)}, Valid error {val_error_gpr .round(3)}')  "
   ]
  },
  {
   "cell_type": "code",
   "execution_count": null,
   "id": "e1f6253f-15c1-47d8-bef6-4d97a92e29df",
   "metadata": {},
   "outputs": [],
   "source": [
    "# evaluate MAE:\n",
    "train_error_gpr = mean_absolute_error(y_train_r, y_train_pred_gpr)\n",
    "val_error_gpr = mean_absolute_error(y_val_r, y_valid_pred_gpr)\n",
    "print(f'Train error MAE {train_error_gpr.round(3)}, Valid error MAE {val_error_gpr.round(3)}') "
   ]
  },
  {
   "cell_type": "code",
   "execution_count": null,
   "id": "341c2729-b4cd-4f78-a646-2c53577fdaf6",
   "metadata": {},
   "outputs": [],
   "source": [
    "# evaluate RMSE:\n",
    "train_error_gpr = np.sqrt(mean_squared_error(y_train_r, y_train_pred_gpr))\n",
    "val_error_gpr = np.sqrt(mean_squared_error(y_val_r, y_valid_pred_gpr))\n",
    "print(f'Train error RMSE {train_error_gpr.round(3)}, Valid error RMSE {val_error_gpr.round(3)}') "
   ]
  },
  {
   "cell_type": "code",
   "execution_count": null,
   "id": "59ac0f21-1db5-439a-8cd0-516405eb4608",
   "metadata": {},
   "outputs": [],
   "source": [
    "pd.DataFrame(y_scaler.inverse_transform(y_val_r), columns=['val_real']).describe().round(2)"
   ]
  },
  {
   "cell_type": "code",
   "execution_count": null,
   "id": "d15d557e-1537-4d90-996d-13ec9273648b",
   "metadata": {},
   "outputs": [],
   "source": [
    "pd.DataFrame(y_scaler.inverse_transform(y_valid_pred_gpr.reshape(-1,1)), columns=['val_pred']).describe().round(2)"
   ]
  },
  {
   "cell_type": "markdown",
   "id": "f5a1db4d-fb35-4226-832b-31a05737b949",
   "metadata": {},
   "source": [
    "### GaussianProcessRegressor - Grid Search (FALTAN VER PARAMETROS)"
   ]
  },
  {
   "cell_type": "code",
   "execution_count": null,
   "id": "72ac4a0d-c494-4e62-a70f-86dc6f985386",
   "metadata": {},
   "outputs": [],
   "source": []
  },
  {
   "cell_type": "code",
   "execution_count": null,
   "id": "0ae8edff-b394-4b9e-a552-47fc723b54d3",
   "metadata": {
    "tags": []
   },
   "outputs": [],
   "source": [
    "param_grid = {\n",
    "    'n_neighbors': [2, 3, 4, 5],\n",
    "    'weights': ['uniform', 'distance'],\n",
    "    'algorithm': ['auto','ball_tree','kd_tree','brute'],\n",
    "    'p': [1,2]\n",
    "    #'max_iter': [1000, 2000, 5000]\n",
    "}\n",
    "\n",
    "cv_gpr = GridSearchCV(neigh, param_gpr, scoring='neg_mean_squared_error',cv=5)\n",
    "cv_gpr.fit(X_train_r, y_train_r)"
   ]
  },
  {
   "cell_type": "code",
   "execution_count": null,
   "id": "68279ae6-a68e-46aa-afb7-dc0914329593",
   "metadata": {
    "tags": []
   },
   "outputs": [],
   "source": [
    "cv_gpr.best_params_"
   ]
  },
  {
   "cell_type": "code",
   "execution_count": null,
   "id": "5552e65c-1f89-43dc-b7b4-9052962ec723",
   "metadata": {},
   "outputs": [],
   "source": [
    "cv_gpr.best_estimator_"
   ]
  },
  {
   "cell_type": "code",
   "execution_count": null,
   "id": "63f1c43e-a88c-4efe-bd3e-03c5c7cb38c3",
   "metadata": {},
   "outputs": [],
   "source": [
    "# Predict\n",
    "y_train_pred_gpr = cv_gpr.best_estimator_.predict(X_train_r)\n",
    "y_valid_pred_gpr = cv_gpr.best_estimator_.predict(X_val_r)"
   ]
  },
  {
   "cell_type": "code",
   "execution_count": null,
   "id": "dcd8dd10-806c-445b-8013-d7280ff16b7e",
   "metadata": {},
   "outputs": [],
   "source": [
    "# evaluate MSE:\n",
    "train_error_gpr = mean_squared_error(y_train_r, y_train_pred_gpr)\n",
    "val_error_gpr = mean_squared_error(y_val_r, y_valid_pred_gpr)\n",
    "print(f'Train error {train_error_gpr.round(3)}, Valid error {val_error_gpr.round(3)}')  "
   ]
  },
  {
   "cell_type": "code",
   "execution_count": null,
   "id": "be3eeb09-c028-4f0e-a5e3-0d254da6e77a",
   "metadata": {},
   "outputs": [],
   "source": [
    "# evaluate MAE:\n",
    "train_error_gpr = mean_absolute_error(y_train_r, y_train_pred_gpr)\n",
    "val_error_gpr = mean_absolute_error(y_val_r, y_valid_pred_gpr)\n",
    "print(f'Train error MAE {train_error_gpr.round(3)}, Valid error MAE {val_error_gpr.round(3)}') "
   ]
  },
  {
   "cell_type": "code",
   "execution_count": null,
   "id": "c673a065-cd61-477a-9d70-14c94e34f6da",
   "metadata": {},
   "outputs": [],
   "source": [
    "# evaluate RMSE:\n",
    "train_error_gpr = np.sqrt(mean_squared_error(y_train_r, y_train_pred_gpr))\n",
    "val_error_gpr = np.sqrt(mean_squared_error(y_val_r, y_valid_pred_gpr))\n",
    "print(f'Train error RMSE {train_error_gpr.round(3)}, Valid error RMSE {val_error_gpr.round(3)}') "
   ]
  },
  {
   "cell_type": "markdown",
   "id": "11d6fe90-21d9-4cfa-9a8b-2eaf9bf5075f",
   "metadata": {
    "tags": []
   },
   "source": [
    "Visualizamos nuestra variable target (real y predicción)"
   ]
  },
  {
   "cell_type": "code",
   "execution_count": null,
   "id": "40d48076-7b80-48e6-bb85-db33e510dd0b",
   "metadata": {},
   "outputs": [],
   "source": [
    "pd.DataFrame(y_scaler.inverse_transform(y_val_r), columns=['val_real']).describe().round(2)"
   ]
  },
  {
   "cell_type": "code",
   "execution_count": null,
   "id": "abc29c70-f8c4-4b01-ba35-e1c8c5c28dd5",
   "metadata": {
    "tags": []
   },
   "outputs": [],
   "source": [
    "pd.DataFrame(y_scaler.inverse_transform(y_valid_pred_gpr.reshape(-1,1)), columns=['val_pred']).describe().round(2)"
   ]
  },
  {
   "cell_type": "code",
   "execution_count": null,
   "id": "20cc802f-71ad-4717-83a4-6884c546fd14",
   "metadata": {},
   "outputs": [],
   "source": []
  },
  {
   "cell_type": "code",
   "execution_count": null,
   "id": "48fe0e71-6b0a-46f3-bc28-52d9719598aa",
   "metadata": {},
   "outputs": [],
   "source": []
  },
  {
   "cell_type": "code",
   "execution_count": null,
   "id": "edbf7e7c-49c6-4c24-9af7-c8dbdde2842e",
   "metadata": {},
   "outputs": [],
   "source": []
  },
  {
   "cell_type": "markdown",
   "id": "7802e643-af41-4162-afd0-11890747b244",
   "metadata": {},
   "source": [
    "### VotingRegressor"
   ]
  },
  {
   "cell_type": "code",
   "execution_count": null,
   "id": "f8539ce9-5342-4147-a243-889ca43b34fc",
   "metadata": {},
   "outputs": [],
   "source": [
    "from sklearn.ensemble import VotingRegressor"
   ]
  },
  {
   "cell_type": "code",
   "execution_count": null,
   "id": "354d7137-e796-4ee2-88fb-4affcefcc5a4",
   "metadata": {},
   "outputs": [],
   "source": [
    "vr = VotingRegressor([('svr', svr), ('sgd', sgd), ('neigh', neigh), ('gpr', gpr)])\n",
    "vr.fit(X_train_r, y_train_r)"
   ]
  },
  {
   "cell_type": "code",
   "execution_count": null,
   "id": "4c247f2c-1fc0-48af-b620-502cf5df5182",
   "metadata": {},
   "outputs": [],
   "source": [
    "# Predict\n",
    "y_train_pred = vr.predict(X_train_r)\n",
    "y_valid_pred = vr.predict(X_val_r)"
   ]
  },
  {
   "cell_type": "code",
   "execution_count": null,
   "id": "7c62aa46-12b6-4633-a54f-b0dc17684d4f",
   "metadata": {
    "tags": []
   },
   "outputs": [],
   "source": [
    "# evaluate:\n",
    "train_error = mean_squared_error(y_train_r, y_train_pred)\n",
    "val_error = mean_squared_error(y_val_r, y_valid_pred)\n",
    "print(f'Train error {train_error.round(3)}, Valid error {val_error.round(3)}')"
   ]
  },
  {
   "cell_type": "markdown",
   "id": "2895d35b-afa4-4fdb-9a6c-8aaaecd82099",
   "metadata": {},
   "source": [
    "## 4. Clasificación\n",
    "Una vez finalizada la etapa de preprocesamiento, se propone implementar diferentes modelos \n",
    "de predicción para la variable que indica si el consumo sera mas alto, o menor en el mes siguiente, utilizando la librería Scikit-Learn:\n",
    "\n",
    "* RandomForestClassifier ([Doc](https://scikit-learn.org/stable/modules/generated/sklearn.ensemble.RandomForestClassifier.html))\n",
    "\n",
    "Y de la libreria XGBoost\n",
    "* XGBClassifier ([Doc](https://xgboost.readthedocs.io/en/latest/python/python_api.html#xgboost.XGBClassifier))\n",
    "\n",
    "Comparar \n",
    "* precision\n",
    "* recall  \n",
    "* f1-score\n",
    "* Accuracy\n",
    "\n",
    "Comparar las métricas obtenidas en cada modelo y obtener conclusiones.\n",
    "\n",
    "> Una vez encontrado el mejor modelo se validara usando el conjunto de evaluacion dado por el mentor"
   ]
  },
  {
   "cell_type": "code",
   "execution_count": null,
   "id": "dae13cf4-75aa-4eb0-813d-6e63b9d6630b",
   "metadata": {
    "tags": []
   },
   "outputs": [],
   "source": [
    "X_train_c.shape"
   ]
  },
  {
   "cell_type": "code",
   "execution_count": null,
   "id": "dd125bac-a47f-455c-98ac-ff3022916478",
   "metadata": {},
   "outputs": [],
   "source": [
    "y_train_c.shape"
   ]
  },
  {
   "cell_type": "code",
   "execution_count": null,
   "id": "9bad8c21-e71c-41d1-a929-7d7ec3e868d4",
   "metadata": {},
   "outputs": [],
   "source": [
    "X_val_c.shape"
   ]
  },
  {
   "cell_type": "code",
   "execution_count": null,
   "id": "5624a04b-2505-4fdd-bc7b-be1c6e18e192",
   "metadata": {
    "tags": []
   },
   "outputs": [],
   "source": [
    "y_val_c.shape"
   ]
  },
  {
   "cell_type": "markdown",
   "id": "2d12cb5d-fa48-474f-b767-115d9498c240",
   "metadata": {
    "tags": []
   },
   "source": [
    "### RandomForestClassifier"
   ]
  },
  {
   "cell_type": "code",
   "execution_count": null,
   "id": "cda4a7a2-78d5-4ba7-8178-d1d3026a0a21",
   "metadata": {
    "tags": []
   },
   "outputs": [],
   "source": [
    "from sklearn.ensemble import RandomForestClassifier\n",
    "from sklearn.metrics import classification_report, confusion_matrix, plot_confusion_matrix"
   ]
  },
  {
   "cell_type": "code",
   "execution_count": null,
   "id": "57673ca9-50a8-4395-a370-aa81c3f2361a",
   "metadata": {
    "tags": []
   },
   "outputs": [],
   "source": [
    "# Fit\n",
    "\n",
    "param_grid = {\n",
    "    'max_depth': [10, 15, 20, 25],\n",
    "    'criterion':['gini', 'entropy'],\n",
    "    'min_samples_split': [5, 10, 15, 20, 25],\n",
    "    'min_samples_leaf':[4, 5, 6, 8]}\n",
    "\n",
    "dtc = RandomForestClassifier(random_state= 0)\n",
    "clf = GridSearchCV(dtc, param_grid, scoring='f1', cv=5, verbose=1)\n",
    "clf.fit(X_train_c, y_train_c)"
   ]
  },
  {
   "cell_type": "code",
   "execution_count": null,
   "id": "6ad5bf66-2197-494a-aba0-c1de202c744a",
   "metadata": {
    "tags": []
   },
   "outputs": [],
   "source": [
    "# Predict\n",
    "y_train_pred = clf.predict(X_train_c)\n",
    "y_val_pred = clf.predict(X_val_c)"
   ]
  },
  {
   "cell_type": "code",
   "execution_count": null,
   "id": "a2dc6e65-77a2-47a0-9d1f-866afee58af7",
   "metadata": {
    "tags": []
   },
   "outputs": [],
   "source": [
    "# Evaluate train\n",
    "text = \"RandomForestClassifier - Reporte de clasificación del conjunto de train\" \n",
    "print(len(text)*\"=\")\n",
    "print(text)\n",
    "print(len(text)*\"=\")\n",
    "print(classification_report(y_train_c, y_train_pred))"
   ]
  },
  {
   "cell_type": "code",
   "execution_count": null,
   "id": "7e747cec-0dc5-4cc6-9015-d64b613fd798",
   "metadata": {
    "tags": []
   },
   "outputs": [],
   "source": [
    "# Evaluate val\n",
    "text = \"RandomForestClassifier - Reporte de clasificación del conjunto de validacion\" \n",
    "print(len(text)*\"=\")\n",
    "print(text)\n",
    "print(len(text)*\"=\")\n",
    "print(classification_report(y_val_c, y_val_pred))"
   ]
  },
  {
   "cell_type": "markdown",
   "id": "cfdd9c7d-9c65-418a-b24f-52ed2eb81202",
   "metadata": {
    "tags": []
   },
   "source": [
    "### XGBoost"
   ]
  },
  {
   "cell_type": "code",
   "execution_count": null,
   "id": "54ec5d0f-91dd-484b-81d2-f410d6ee22eb",
   "metadata": {
    "tags": []
   },
   "outputs": [],
   "source": [
    "from xgboost import XGBClassifier"
   ]
  },
  {
   "cell_type": "code",
   "execution_count": null,
   "id": "a76f498e-6246-4871-86b1-6ec64831086f",
   "metadata": {
    "tags": []
   },
   "outputs": [],
   "source": [
    "param_grid = {\n",
    "    'max_depth': [10],\n",
    "    'n_estimators': [5],\n",
    "    'booster':['gbtree', 'gblinear', 'dart'],\n",
    "}\n",
    "\n",
    "xgb = XGBClassifier(random_state= 0)\n",
    "clf = GridSearchCV(xgb, param_grid, scoring='f1', cv=5)\n",
    "clf.fit(X_train_c, y_train_c)"
   ]
  },
  {
   "cell_type": "code",
   "execution_count": null,
   "id": "ba615bb3-1e06-4efb-ba42-e31eb5b0b434",
   "metadata": {
    "tags": []
   },
   "outputs": [],
   "source": [
    "# Predict\n",
    "y_train_pred = clf.predict(X_train_c)\n",
    "y_val_pred = clf.predict(X_val_c)"
   ]
  },
  {
   "cell_type": "code",
   "execution_count": null,
   "id": "84dcebdc-4db7-4406-ae0b-9bc2a12e448f",
   "metadata": {
    "tags": []
   },
   "outputs": [],
   "source": [
    "# Evaluate train\n",
    "text = \"XGBClassifier - Reporte de clasificación del conjunto de train\" \n",
    "print(len(text)*\"=\")\n",
    "print(text)\n",
    "print(len(text)*\"=\")\n",
    "print(classification_report(y_train_c, y_train_pred))"
   ]
  },
  {
   "cell_type": "code",
   "execution_count": null,
   "id": "dd8597a0-e2d0-4f4f-9532-07029ef8e5d2",
   "metadata": {
    "tags": []
   },
   "outputs": [],
   "source": [
    "# Evaluate val\n",
    "text = \"XGBClassifier - Reporte de clasificación del conjunto de validacion\" \n",
    "print(len(text)*\"=\")\n",
    "print(text)\n",
    "print(len(text)*\"=\")\n",
    "print(classification_report(y_val_c, y_val_pred))"
   ]
  },
  {
   "cell_type": "markdown",
   "id": "72e05a26-94c1-4128-a56d-eacad0caf4c4",
   "metadata": {},
   "source": [
    "## 5. Series Temporales (Optativo)\n",
    "* Hacer un forecasting usando Exponential Smoothing\n",
    "\n",
    "En el modelo de Exponential Smoothing, las predicciones son promedios pesados de observaciones pasadas, donde los pesos decaen exponencialmente cuando nos movemos al pasado:\n",
    "$$\n",
    "\\hat{y}_{t + 1} = l_t \\\\\n",
    "l_t = \\alpha y_t + (1 - \\alpha) l_{t - 1}\n",
    "$$\n",
    "\n",
    "Donde:\n",
    "\n",
    "Asumimos que:\n",
    "* $l_0$ está dado\n",
    "* 0 $< \\alpha <$ 1\n",
    "\n",
    "El método se suele usar cuando los datos no tienen patrones de tendencia ni estacional claros.\n"
   ]
  },
  {
   "cell_type": "code",
   "execution_count": null,
   "id": "bc4df3c6-2ea9-4ea8-b59d-e677dc9a2a5b",
   "metadata": {},
   "outputs": [],
   "source": [
    "print(statsmodels.__version__)\n",
    "warnings.filterwarnings('ignore')\n",
    "%matplotlib inline"
   ]
  },
  {
   "cell_type": "code",
   "execution_count": null,
   "id": "8b2f798a-4692-464d-83d0-7c486fd7b7eb",
   "metadata": {},
   "outputs": [],
   "source": [
    "sns.set_style('darkgrid')\n",
    "sns.set(rc={'figure.figsize':(15, 10)})"
   ]
  },
  {
   "cell_type": "markdown",
   "id": "f6fb9759-ba89-4780-8de2-04ac94c5085f",
   "metadata": {},
   "source": [
    "Para cargar el dataset"
   ]
  },
  {
   "cell_type": "code",
   "execution_count": null,
   "id": "02418a91-5fdc-4880-a4b7-76b347baa823",
   "metadata": {},
   "outputs": [],
   "source": [
    "df = pd.read_parquet(\"cupones_ds.parquet\")"
   ]
  },
  {
   "cell_type": "code",
   "execution_count": null,
   "id": "10cd0f3c-2a47-4e8c-a337-9595b2bf840a",
   "metadata": {},
   "outputs": [],
   "source": [
    "df.head(5)"
   ]
  },
  {
   "cell_type": "code",
   "execution_count": null,
   "id": "7be89201-cd07-44aa-b1d6-e9057b38bf5e",
   "metadata": {},
   "outputs": [],
   "source": [
    "cols = ['producto_naranja_movimiento', 'monto_compra_movimiento', 'fecha_cupon_movimiento']"
   ]
  },
  {
   "cell_type": "code",
   "execution_count": null,
   "id": "3718f420-e5e8-42f8-a5b5-937b62569d31",
   "metadata": {},
   "outputs": [],
   "source": [
    "df[cols]"
   ]
  },
  {
   "cell_type": "code",
   "execution_count": null,
   "id": "4f742f78-2634-41c3-877f-5a7ed2b5077c",
   "metadata": {},
   "outputs": [],
   "source": [
    "sf = df[cols][df.producto_naranja_movimiento == 'PL']\n",
    "sf"
   ]
  },
  {
   "cell_type": "code",
   "execution_count": null,
   "id": "aaf9b9e7-39c5-4452-b0e5-d0f3181158da",
   "metadata": {},
   "outputs": [],
   "source": [
    "cols = ['fecha_cupon_movimiento', 'monto_compra_movimiento']\n",
    "sf = sf[cols].groupby(by=['fecha_cupon_movimiento'], dropna=True).sum()"
   ]
  },
  {
   "cell_type": "code",
   "execution_count": null,
   "id": "07f802bc-b7af-4479-bee2-14e3e38d6bf1",
   "metadata": {},
   "outputs": [],
   "source": [
    "sf.reset_index(inplace=True)\n",
    "sf"
   ]
  },
  {
   "cell_type": "code",
   "execution_count": null,
   "id": "e7b9af05-feed-4e0c-8ca6-d7ed89a3d305",
   "metadata": {},
   "outputs": [],
   "source": [
    "print(sf['fecha_cupon_movimiento'].max())\n",
    "print(sf['fecha_cupon_movimiento'].min())"
   ]
  },
  {
   "cell_type": "code",
   "execution_count": null,
   "id": "9b06a893-1120-47df-b632-d57ff0620e30",
   "metadata": {},
   "outputs": [],
   "source": [
    "sf.set_index('fecha_cupon_movimiento', inplace=True)\n",
    "sf"
   ]
  },
  {
   "cell_type": "markdown",
   "id": "1f973a15-a5a4-4930-91c6-ac41da147617",
   "metadata": {},
   "source": [
    "En series temporales se usa Series en lugar de Dataframe"
   ]
  },
  {
   "cell_type": "code",
   "execution_count": null,
   "id": "23398235-77c4-413e-95a0-c004fea0a3df",
   "metadata": {},
   "outputs": [],
   "source": [
    "ss = sf['monto_compra_movimiento']\n",
    "ss"
   ]
  },
  {
   "cell_type": "code",
   "execution_count": null,
   "id": "b7f29fd9-bac2-4c31-9bf3-8d517f01f969",
   "metadata": {},
   "outputs": [],
   "source": [
    "fig = plt.figure(figsize=(18, 6))\n",
    "\n",
    "ax = plt.subplot(1, 1, 1)\n",
    "ss.plot(color='dodgerblue')\n",
    "ax.set_xlabel('Dia')\n",
    "ax.set_ylabel('monto_compra_movimiento')\n",
    "ax.set_title('Comportamiento monto_compra_movimiento para PL')\n",
    "\n",
    "plt.tight_layout()\n",
    "plt.show()"
   ]
  },
  {
   "cell_type": "code",
   "execution_count": null,
   "id": "05d080f8-1cd3-40c4-bc5e-2986398da2db",
   "metadata": {},
   "outputs": [],
   "source": [
    "y_test = sf.monto_compra_movimiento.loc['2021-03-19':]\n",
    "y_train = sf[~sf.monto_compra_movimiento.isin(y_test)].monto_compra_movimiento\n"
   ]
  },
  {
   "cell_type": "code",
   "execution_count": null,
   "id": "c26428d5-4887-4146-adaa-4fbb18ae51d1",
   "metadata": {},
   "outputs": [],
   "source": [
    "print(y_test.index.max())\n",
    "print(y_test.index.min())"
   ]
  },
  {
   "cell_type": "code",
   "execution_count": null,
   "id": "ac0177d2-1822-42b8-b1be-986b64c6e1f9",
   "metadata": {},
   "outputs": [],
   "source": [
    "print(y_train.index.max())\n",
    "print(y_train.index.min())"
   ]
  },
  {
   "cell_type": "markdown",
   "id": "5babac8b-7bc5-4369-8d89-f5810aa00602",
   "metadata": {},
   "source": [
    "## Seasonal Random Walk (Seasonal Naïve)\n",
    "\n",
    "#### Descomposicion\n",
    "\n",
    "Una operación fundamental para entender el comportamiento de una serie de\n",
    " tiempo y poder determinar si se trata de una serie `estacionaria` o no\n",
    "\n",
    "La **descomposición** es una técnica que trata de descomponer una serie de tiempo en su tendencia, su estacionalidad y sus factores residuales\n",
    "\n",
    "Ejemplo de descomposición de serie de tiempo\n",
    "\n",
    "<img \n",
    "src=\"https://i.imgur.com/g0PQASf.png\" />\n"
   ]
  },
  {
   "cell_type": "code",
   "execution_count": null,
   "id": "25de84e1-bd99-408b-9c75-52413afb9f0c",
   "metadata": {},
   "outputs": [],
   "source": [
    "res = sm.tsa.seasonal_decompose(\n",
    "    sf['monto_compra_movimiento'], model='additive', freq=30\n",
    "    )\n",
    "\n",
    "fig, (ax1,ax2,ax3, ax4) = plt.subplots(4,1, figsize=(18, 14))\n",
    "\n",
    "ax1.set_title('Inbound fueatures')\n",
    "sf.monto_compra_movimiento.plot(ax=ax1, color='red')\n",
    "ax1.set_ylabel('Original')\n",
    "\n",
    "res.trend.plot(ax=ax2)\n",
    "ax2.set_ylabel('Fluctuaciones')\n",
    "\n",
    "res.resid.plot(ax=ax3)\n",
    "ax3.set_ylabel('Variaciones Irregulares')\n",
    "\n",
    "res.seasonal.plot(ax=ax4)\n",
    "ax4.set_ylabel('Variaciones Estacionales')\n",
    "plt.tight_layout()\n",
    "plt.show()"
   ]
  },
  {
   "cell_type": "markdown",
   "id": "ea82efd2-1e5e-4733-9193-b24b6b1e174c",
   "metadata": {},
   "source": [
    "## Forecast"
   ]
  },
  {
   "cell_type": "code",
   "execution_count": null,
   "id": "374b02de-4870-42d8-95e4-6fb76d570c0b",
   "metadata": {},
   "outputs": [],
   "source": [
    "model = ARIMA(\n",
    "    endog=y_train, exog=None, order=(0, 0, 1), seasonal_order=(0, 1, 0, 42)\n",
    "    ).fit()\n",
    "    "
   ]
  },
  {
   "cell_type": "code",
   "execution_count": null,
   "id": "1917b542-bf06-4d1f-bb88-c79c3705728a",
   "metadata": {},
   "outputs": [],
   "source": [
    "fig = plt.figure(figsize=(18, 12), dpi=100)\n",
    "\n",
    "ax = plt.subplot(2, 1, 1)\n",
    "y_train.tail(200).plot(ax=ax, label='Train Values', linestyle='-')\n",
    "model.fittedvalues.tail(200).plot(\n",
    "    ax=ax, label='fitted Values', marker='o', linestyle='--')\n",
    "ax.set_title('monto_compra_movimiento')\n",
    "ax.legend()\n",
    "\n",
    "plt.tight_layout()\n",
    "plt.show()"
   ]
  },
  {
   "cell_type": "code",
   "execution_count": null,
   "id": "139c726d-ac03-41a1-ad5f-cd2266622c5f",
   "metadata": {},
   "outputs": [],
   "source": [
    "# Forecast\n",
    "# 95% conf se, conf\n",
    "fc = model.forecast(steps=len(y_test), exog=y_test, alpha=0.05) \n",
    "#Make as pandas series\n",
    "fc_in = fc.reset_index(drop=True)\n",
    "fc_in.index = y_test.index"
   ]
  },
  {
   "cell_type": "code",
   "execution_count": null,
   "id": "0e917604-0d12-4fcf-924a-bb3be5a1b8fb",
   "metadata": {},
   "outputs": [],
   "source": [
    "fig = plt.figure(figsize=(18, 12))\n",
    "\n",
    "ax = plt.subplot(2, 1, 1)\n",
    "y_test.plot(ax=ax, label='actual Test')\n",
    "fc_in.plot(ax=ax, label='forecast', marker='o', linestyle='--')\n",
    "ax.set_title('Forecast vs Actuals for Inbound Features')\n",
    "ax.legend(loc='upper left', fontsize=8)\n",
    "\n",
    "plt.tight_layout()\n",
    "plt.show()"
   ]
  },
  {
   "cell_type": "code",
   "execution_count": null,
   "id": "61fd5ba2-4a4d-40d1-9724-874f80984bc4",
   "metadata": {},
   "outputs": [],
   "source": [
    "table = pd.DataFrame(\n",
    "    [(sm.tools.eval_measures.rmse(y_test, fc_in), \n",
    "      (y_test - fc_in).sem())],\n",
    "      columns=['RMSE','SE']\n",
    "      )\n",
    "table.round(3)"
   ]
  },
  {
   "cell_type": "markdown",
   "id": "eb6bec73-8765-4a88-a290-648f5ed80047",
   "metadata": {},
   "source": []
  }
 ],
 "metadata": {
  "kernelspec": {
   "display_name": "Python 3",
   "language": "python",
   "name": "python3"
  },
  "language_info": {
   "codemirror_mode": {
    "name": "ipython",
    "version": 3
   },
   "file_extension": ".py",
   "mimetype": "text/x-python",
   "name": "python",
   "nbconvert_exporter": "python",
   "pygments_lexer": "ipython3",
   "version": "3.8.8"
  },
  "toc-autonumbering": false,
  "toc-showtags": false
 },
 "nbformat": 4,
 "nbformat_minor": 5
}
