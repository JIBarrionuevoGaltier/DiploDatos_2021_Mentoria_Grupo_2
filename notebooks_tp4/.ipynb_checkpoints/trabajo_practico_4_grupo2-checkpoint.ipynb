{
 "cells": [
  {
   "cell_type": "markdown",
   "id": "23fb6811-f919-4985-acd4-32ef787b0129",
   "metadata": {},
   "source": [
    "# Diplomatura en Ciencia de Datos, Aprendizaje Automático y sus Aplicaciones\n",
    "\n",
    "<center>\n",
    "<img \n",
    "     src=\"http://www2.famaf.unc.edu.ar/~efernandez/egeo/img/logos/famaf.jpg\" \n",
    "     alt=\"Drawing\" \n",
    "     style=\"width:30%;\"\n",
    "/>\n",
    "</center>\n",
    "\n",
    "# Universidad Nacional de Córdoba\n",
    "---"
   ]
  },
  {
   "cell_type": "markdown",
   "id": "3c8c69a1-85b1-4047-a6b9-3254e07714bc",
   "metadata": {},
   "source": [
    "### Importación de librerías"
   ]
  },
  {
   "cell_type": "code",
   "execution_count": 197,
   "id": "723ef3b3-5891-4e7b-894e-023b46ac0b69",
   "metadata": {},
   "outputs": [],
   "source": [
    "import warnings\n",
    "import datetime\n",
    "warnings.filterwarnings('ignore')\n",
    "\n",
    "import numpy as np\n",
    "import pandas as pd\n",
    "import seaborn as sns\n",
    "import statsmodels.api as sm\n",
    "import matplotlib.pyplot as plt\n",
    "import math\n",
    "\n",
    "from sklearn.model_selection import train_test_split\n",
    "from sklearn.model_selection import GridSearchCV\n",
    "from sklearn.model_selection import RandomizedSearchCV\n",
    "from sklearn.feature_selection import SelectFromModel\n",
    "from sklearn.preprocessing import MaxAbsScaler\n",
    "from sklearn.preprocessing import MinMaxScaler\n",
    "from sklearn.preprocessing import StandardScaler\n",
    "from sklearn.preprocessing import OneHotEncoder\n",
    "from sklearn.compose import ColumnTransformer\n",
    "from sklearn.pipeline import make_pipeline\n",
    "from sklearn.pipeline import Pipeline\n",
    "from sklearn.metrics import mean_squared_error\n",
    "from sklearn.metrics import mean_absolute_error\n",
    "from sklearn.neighbors import KNeighborsRegressor\n",
    "from sklearn.ensemble import VotingRegressor\n",
    "from xgboost import XGBClassifier\n",
    "\n",
    "from scipy import stats\n",
    "from statsmodels.tsa.arima.model import ARIMA\n",
    "from statsmodels.tsa.holtwinters import SimpleExpSmoothing\n",
    "from sklearn.linear_model import SGDRegressor\n",
    "from sklearn.ensemble import RandomForestClassifier\n",
    "from sklearn.metrics import classification_report, confusion_matrix, plot_confusion_matrix\n",
    "\n",
    "from xgboost import XGBRegressor\n",
    "from sklearn.ensemble import ExtraTreesClassifier\n",
    "from sklearn.svm import LinearSVR\n",
    "from sklearn.ensemble import RandomForestRegressor\n",
    "from sklearn.gaussian_process import GaussianProcessRegressor\n",
    "from sklearn.gaussian_process.kernels import ConstantKernel, RBF, RationalQuadratic, ExpSineSquared\n",
    "\n",
    "from pandas.plotting import lag_plot\n",
    "\n",
    "import pyarrow\n",
    "import fastparquet\n",
    "\n",
    "import statsmodels"
   ]
  },
  {
   "cell_type": "markdown",
   "id": "702285b3-5dbb-4f9a-9e9f-156566bfcd2a",
   "metadata": {},
   "source": [
    "### Lectura del dataset "
   ]
  },
  {
   "cell_type": "code",
   "execution_count": 28,
   "id": "32c67db3-7952-448d-a587-963e6595f46e",
   "metadata": {},
   "outputs": [
    {
     "data": {
      "text/html": [
       "<div>\n",
       "<style scoped>\n",
       "    .dataframe tbody tr th:only-of-type {\n",
       "        vertical-align: middle;\n",
       "    }\n",
       "\n",
       "    .dataframe tbody tr th {\n",
       "        vertical-align: top;\n",
       "    }\n",
       "\n",
       "    .dataframe thead th {\n",
       "        text-align: right;\n",
       "    }\n",
       "</style>\n",
       "<table border=\"1\" class=\"dataframe\">\n",
       "  <thead>\n",
       "    <tr style=\"text-align: right;\">\n",
       "      <th></th>\n",
       "      <th>dni_titular_movimiento</th>\n",
       "      <th>fecha_cupon_movimiento</th>\n",
       "      <th>moneda_movimiento</th>\n",
       "      <th>producto_naranja_movimiento</th>\n",
       "      <th>tipo_producto_tarjeta_movimiento</th>\n",
       "      <th>anio_mes_cupon</th>\n",
       "      <th>sexo_descripcion</th>\n",
       "      <th>monto_ajustado</th>\n",
       "      <th>cargo_sector_desc_hist</th>\n",
       "      <th>edad_cliente</th>\n",
       "      <th>antig_cliente</th>\n",
       "      <th>comercio_cat</th>\n",
       "      <th>estado_civil_cat</th>\n",
       "      <th>region</th>\n",
       "    </tr>\n",
       "  </thead>\n",
       "  <tbody>\n",
       "    <tr>\n",
       "      <th>0</th>\n",
       "      <td>0001686b52949b5461ffcbc766687e45031</td>\n",
       "      <td>2020-08-25</td>\n",
       "      <td>0</td>\n",
       "      <td>PL</td>\n",
       "      <td>0</td>\n",
       "      <td>202008</td>\n",
       "      <td>Hombre</td>\n",
       "      <td>5.52</td>\n",
       "      <td>Sector_Empleado_Comercio</td>\n",
       "      <td>61.0</td>\n",
       "      <td>92</td>\n",
       "      <td>0</td>\n",
       "      <td>Otros</td>\n",
       "      <td>REGION PAMPEANA</td>\n",
       "    </tr>\n",
       "    <tr>\n",
       "      <th>1</th>\n",
       "      <td>000220fa96ec5af89817894033f8099c547</td>\n",
       "      <td>2020-08-25</td>\n",
       "      <td>0</td>\n",
       "      <td>PL</td>\n",
       "      <td>0</td>\n",
       "      <td>202008</td>\n",
       "      <td>Mujer</td>\n",
       "      <td>15.68</td>\n",
       "      <td>Sector_Sin_Datos</td>\n",
       "      <td>29.0</td>\n",
       "      <td>2</td>\n",
       "      <td>0</td>\n",
       "      <td>Sin_datos</td>\n",
       "      <td>REGION CUYO</td>\n",
       "    </tr>\n",
       "    <tr>\n",
       "      <th>2</th>\n",
       "      <td>0002be202de47dfae9cc2304d91161be595</td>\n",
       "      <td>2020-08-25</td>\n",
       "      <td>0</td>\n",
       "      <td>PL</td>\n",
       "      <td>0</td>\n",
       "      <td>202008</td>\n",
       "      <td>Mujer</td>\n",
       "      <td>5.46</td>\n",
       "      <td>Sector_Sin_Datos</td>\n",
       "      <td>28.0</td>\n",
       "      <td>95</td>\n",
       "      <td>0</td>\n",
       "      <td>Soltero</td>\n",
       "      <td>REGION PAMPEANA</td>\n",
       "    </tr>\n",
       "    <tr>\n",
       "      <th>3</th>\n",
       "      <td>000e137d0af42e193be1ff670c00d4d1506</td>\n",
       "      <td>2020-08-25</td>\n",
       "      <td>0</td>\n",
       "      <td>PL</td>\n",
       "      <td>0</td>\n",
       "      <td>202008</td>\n",
       "      <td>Hombre</td>\n",
       "      <td>2.50</td>\n",
       "      <td>Sector_Empleado_Comercio</td>\n",
       "      <td>40.0</td>\n",
       "      <td>151</td>\n",
       "      <td>0</td>\n",
       "      <td>Soltero</td>\n",
       "      <td>REGION PAMPEANA</td>\n",
       "    </tr>\n",
       "    <tr>\n",
       "      <th>4</th>\n",
       "      <td>0009d010e4faf69552a814a33832b185877</td>\n",
       "      <td>2020-08-25</td>\n",
       "      <td>0</td>\n",
       "      <td>PL</td>\n",
       "      <td>0</td>\n",
       "      <td>202008</td>\n",
       "      <td>Mujer</td>\n",
       "      <td>2.10</td>\n",
       "      <td>Sector_Empleado_Comercio</td>\n",
       "      <td>36.0</td>\n",
       "      <td>87</td>\n",
       "      <td>0</td>\n",
       "      <td>Soltero</td>\n",
       "      <td>REGION PAMPEANA</td>\n",
       "    </tr>\n",
       "    <tr>\n",
       "      <th>...</th>\n",
       "      <td>...</td>\n",
       "      <td>...</td>\n",
       "      <td>...</td>\n",
       "      <td>...</td>\n",
       "      <td>...</td>\n",
       "      <td>...</td>\n",
       "      <td>...</td>\n",
       "      <td>...</td>\n",
       "      <td>...</td>\n",
       "      <td>...</td>\n",
       "      <td>...</td>\n",
       "      <td>...</td>\n",
       "      <td>...</td>\n",
       "      <td>...</td>\n",
       "    </tr>\n",
       "    <tr>\n",
       "      <th>124309</th>\n",
       "      <td>0001f61dd2845a7e653ebfdaf22dab3b373</td>\n",
       "      <td>2021-05-14</td>\n",
       "      <td>0</td>\n",
       "      <td>PC</td>\n",
       "      <td>3</td>\n",
       "      <td>202105</td>\n",
       "      <td>Mujer</td>\n",
       "      <td>20329.24</td>\n",
       "      <td>Sector_Empleado_Comercio</td>\n",
       "      <td>48.0</td>\n",
       "      <td>98</td>\n",
       "      <td>0</td>\n",
       "      <td>Casado</td>\n",
       "      <td>REGION PATAGONIA</td>\n",
       "    </tr>\n",
       "    <tr>\n",
       "      <th>124310</th>\n",
       "      <td>0001f61dd2845a7e653ebfdaf22dab3b373</td>\n",
       "      <td>2021-05-14</td>\n",
       "      <td>0</td>\n",
       "      <td>PC</td>\n",
       "      <td>3</td>\n",
       "      <td>202105</td>\n",
       "      <td>Mujer</td>\n",
       "      <td>20329.24</td>\n",
       "      <td>Sector_Empleado_Comercio</td>\n",
       "      <td>48.0</td>\n",
       "      <td>98</td>\n",
       "      <td>0</td>\n",
       "      <td>Casado</td>\n",
       "      <td>REGION PATAGONIA</td>\n",
       "    </tr>\n",
       "    <tr>\n",
       "      <th>124311</th>\n",
       "      <td>0006c15ca823454b68c189da1344d9d7317</td>\n",
       "      <td>2021-05-14</td>\n",
       "      <td>0</td>\n",
       "      <td>PC</td>\n",
       "      <td>3</td>\n",
       "      <td>202105</td>\n",
       "      <td>Hombre</td>\n",
       "      <td>13210.67</td>\n",
       "      <td>Sector_No_Operativo</td>\n",
       "      <td>66.0</td>\n",
       "      <td>105</td>\n",
       "      <td>0</td>\n",
       "      <td>Casado</td>\n",
       "      <td>REGION NORDESTE</td>\n",
       "    </tr>\n",
       "    <tr>\n",
       "      <th>124312</th>\n",
       "      <td>0000ab27a0ed815f947df8bcb834ff97975</td>\n",
       "      <td>2021-05-03</td>\n",
       "      <td>0</td>\n",
       "      <td>PC</td>\n",
       "      <td>3</td>\n",
       "      <td>202105</td>\n",
       "      <td>Hombre</td>\n",
       "      <td>121.73</td>\n",
       "      <td>Sector_Empleado_Comercio</td>\n",
       "      <td>74.0</td>\n",
       "      <td>140</td>\n",
       "      <td>0</td>\n",
       "      <td>Soltero</td>\n",
       "      <td>REGION NOROESTE</td>\n",
       "    </tr>\n",
       "    <tr>\n",
       "      <th>124313</th>\n",
       "      <td>0000ab27a0ed815f947df8bcb834ff97975</td>\n",
       "      <td>2021-05-03</td>\n",
       "      <td>0</td>\n",
       "      <td>PC</td>\n",
       "      <td>3</td>\n",
       "      <td>202105</td>\n",
       "      <td>Hombre</td>\n",
       "      <td>12284.16</td>\n",
       "      <td>Sector_Empleado_Comercio</td>\n",
       "      <td>74.0</td>\n",
       "      <td>140</td>\n",
       "      <td>0</td>\n",
       "      <td>Soltero</td>\n",
       "      <td>REGION NOROESTE</td>\n",
       "    </tr>\n",
       "  </tbody>\n",
       "</table>\n",
       "<p>114212 rows × 14 columns</p>\n",
       "</div>"
      ],
      "text/plain": [
       "                     dni_titular_movimiento fecha_cupon_movimiento  \\\n",
       "0       0001686b52949b5461ffcbc766687e45031             2020-08-25   \n",
       "1       000220fa96ec5af89817894033f8099c547             2020-08-25   \n",
       "2       0002be202de47dfae9cc2304d91161be595             2020-08-25   \n",
       "3       000e137d0af42e193be1ff670c00d4d1506             2020-08-25   \n",
       "4       0009d010e4faf69552a814a33832b185877             2020-08-25   \n",
       "...                                     ...                    ...   \n",
       "124309  0001f61dd2845a7e653ebfdaf22dab3b373             2021-05-14   \n",
       "124310  0001f61dd2845a7e653ebfdaf22dab3b373             2021-05-14   \n",
       "124311  0006c15ca823454b68c189da1344d9d7317             2021-05-14   \n",
       "124312  0000ab27a0ed815f947df8bcb834ff97975             2021-05-03   \n",
       "124313  0000ab27a0ed815f947df8bcb834ff97975             2021-05-03   \n",
       "\n",
       "        moneda_movimiento producto_naranja_movimiento  \\\n",
       "0                       0                          PL   \n",
       "1                       0                          PL   \n",
       "2                       0                          PL   \n",
       "3                       0                          PL   \n",
       "4                       0                          PL   \n",
       "...                   ...                         ...   \n",
       "124309                  0                          PC   \n",
       "124310                  0                          PC   \n",
       "124311                  0                          PC   \n",
       "124312                  0                          PC   \n",
       "124313                  0                          PC   \n",
       "\n",
       "       tipo_producto_tarjeta_movimiento  anio_mes_cupon sexo_descripcion  \\\n",
       "0                                     0          202008           Hombre   \n",
       "1                                     0          202008            Mujer   \n",
       "2                                     0          202008            Mujer   \n",
       "3                                     0          202008           Hombre   \n",
       "4                                     0          202008            Mujer   \n",
       "...                                 ...             ...              ...   \n",
       "124309                                3          202105            Mujer   \n",
       "124310                                3          202105            Mujer   \n",
       "124311                                3          202105           Hombre   \n",
       "124312                                3          202105           Hombre   \n",
       "124313                                3          202105           Hombre   \n",
       "\n",
       "        monto_ajustado    cargo_sector_desc_hist  edad_cliente  antig_cliente  \\\n",
       "0                 5.52  Sector_Empleado_Comercio          61.0             92   \n",
       "1                15.68          Sector_Sin_Datos          29.0              2   \n",
       "2                 5.46          Sector_Sin_Datos          28.0             95   \n",
       "3                 2.50  Sector_Empleado_Comercio          40.0            151   \n",
       "4                 2.10  Sector_Empleado_Comercio          36.0             87   \n",
       "...                ...                       ...           ...            ...   \n",
       "124309        20329.24  Sector_Empleado_Comercio          48.0             98   \n",
       "124310        20329.24  Sector_Empleado_Comercio          48.0             98   \n",
       "124311        13210.67       Sector_No_Operativo          66.0            105   \n",
       "124312          121.73  Sector_Empleado_Comercio          74.0            140   \n",
       "124313        12284.16  Sector_Empleado_Comercio          74.0            140   \n",
       "\n",
       "       comercio_cat estado_civil_cat            region  \n",
       "0                 0            Otros   REGION PAMPEANA  \n",
       "1                 0        Sin_datos       REGION CUYO  \n",
       "2                 0          Soltero   REGION PAMPEANA  \n",
       "3                 0          Soltero   REGION PAMPEANA  \n",
       "4                 0          Soltero   REGION PAMPEANA  \n",
       "...             ...              ...               ...  \n",
       "124309            0           Casado  REGION PATAGONIA  \n",
       "124310            0           Casado  REGION PATAGONIA  \n",
       "124311            0           Casado   REGION NORDESTE  \n",
       "124312            0          Soltero   REGION NOROESTE  \n",
       "124313            0          Soltero   REGION NOROESTE  \n",
       "\n",
       "[114212 rows x 14 columns]"
      ]
     },
     "execution_count": 28,
     "metadata": {},
     "output_type": "execute_result"
    }
   ],
   "source": [
    "df = pd.read_parquet('sin_codificar.parquet')\n",
    "df"
   ]
  },
  {
   "cell_type": "markdown",
   "id": "d27882da-bdb0-427f-8bd9-dff6bb1a99b2",
   "metadata": {},
   "source": [
    "Ordenamos nuestro conjunto de datos en función a la variable anio_mes_cupon."
   ]
  },
  {
   "cell_type": "code",
   "execution_count": 29,
   "id": "32203dda-afd9-4851-9418-8dbfa16c372a",
   "metadata": {},
   "outputs": [
    {
     "data": {
      "text/plain": [
       "False    54010\n",
       "dtype: int64"
      ]
     },
     "execution_count": 29,
     "metadata": {},
     "output_type": "execute_result"
    }
   ],
   "source": [
    "df = df[~df.duplicated()]\n",
    "df.duplicated().value_counts()"
   ]
  },
  {
   "cell_type": "code",
   "execution_count": 30,
   "id": "2d534e6c-cdfe-408c-9f85-45688b2ddfc5",
   "metadata": {},
   "outputs": [
    {
     "data": {
      "text/html": [
       "<div>\n",
       "<style scoped>\n",
       "    .dataframe tbody tr th:only-of-type {\n",
       "        vertical-align: middle;\n",
       "    }\n",
       "\n",
       "    .dataframe tbody tr th {\n",
       "        vertical-align: top;\n",
       "    }\n",
       "\n",
       "    .dataframe thead th {\n",
       "        text-align: right;\n",
       "    }\n",
       "</style>\n",
       "<table border=\"1\" class=\"dataframe\">\n",
       "  <thead>\n",
       "    <tr style=\"text-align: right;\">\n",
       "      <th></th>\n",
       "      <th>dni_titular_movimiento</th>\n",
       "      <th>fecha_cupon_movimiento</th>\n",
       "      <th>moneda_movimiento</th>\n",
       "      <th>producto_naranja_movimiento</th>\n",
       "      <th>tipo_producto_tarjeta_movimiento</th>\n",
       "      <th>anio_mes_cupon</th>\n",
       "      <th>sexo_descripcion</th>\n",
       "      <th>monto_ajustado</th>\n",
       "      <th>cargo_sector_desc_hist</th>\n",
       "      <th>edad_cliente</th>\n",
       "      <th>antig_cliente</th>\n",
       "      <th>comercio_cat</th>\n",
       "      <th>estado_civil_cat</th>\n",
       "      <th>region</th>\n",
       "    </tr>\n",
       "  </thead>\n",
       "  <tbody>\n",
       "    <tr>\n",
       "      <th>85858</th>\n",
       "      <td>0001a3ea0e2a1394ddba4679b09ca7a1561</td>\n",
       "      <td>2020-07-31</td>\n",
       "      <td>0</td>\n",
       "      <td>PL</td>\n",
       "      <td>3</td>\n",
       "      <td>202007</td>\n",
       "      <td>Hombre</td>\n",
       "      <td>181.16</td>\n",
       "      <td>Sector_Sin_Datos</td>\n",
       "      <td>80.0</td>\n",
       "      <td>19</td>\n",
       "      <td>5</td>\n",
       "      <td>Soltero</td>\n",
       "      <td>REGION NOROESTE</td>\n",
       "    </tr>\n",
       "    <tr>\n",
       "      <th>74714</th>\n",
       "      <td>00037938025ac60849e60d3f3fa42cdc833</td>\n",
       "      <td>2020-07-28</td>\n",
       "      <td>3</td>\n",
       "      <td>PL</td>\n",
       "      <td>3</td>\n",
       "      <td>202007</td>\n",
       "      <td>Mujer</td>\n",
       "      <td>618.52</td>\n",
       "      <td>Sector_Educativo</td>\n",
       "      <td>39.0</td>\n",
       "      <td>124</td>\n",
       "      <td>1</td>\n",
       "      <td>Soltero</td>\n",
       "      <td>REGION PAMPEANA</td>\n",
       "    </tr>\n",
       "    <tr>\n",
       "      <th>74715</th>\n",
       "      <td>00037938025ac60849e60d3f3fa42cdc833</td>\n",
       "      <td>2020-07-26</td>\n",
       "      <td>3</td>\n",
       "      <td>PL</td>\n",
       "      <td>3</td>\n",
       "      <td>202007</td>\n",
       "      <td>Mujer</td>\n",
       "      <td>1350.43</td>\n",
       "      <td>Sector_Educativo</td>\n",
       "      <td>39.0</td>\n",
       "      <td>124</td>\n",
       "      <td>1</td>\n",
       "      <td>Soltero</td>\n",
       "      <td>REGION PAMPEANA</td>\n",
       "    </tr>\n",
       "    <tr>\n",
       "      <th>101268</th>\n",
       "      <td>0003a7e1566088a9a9b1fc374c49ef4e389</td>\n",
       "      <td>2020-07-29</td>\n",
       "      <td>0</td>\n",
       "      <td>VI</td>\n",
       "      <td>22</td>\n",
       "      <td>202007</td>\n",
       "      <td>Hombre</td>\n",
       "      <td>1319.95</td>\n",
       "      <td>Sector_Sin_Datos</td>\n",
       "      <td>50.0</td>\n",
       "      <td>45</td>\n",
       "      <td>9</td>\n",
       "      <td>Casado</td>\n",
       "      <td>REGION PAMPEANA</td>\n",
       "    </tr>\n",
       "    <tr>\n",
       "      <th>101269</th>\n",
       "      <td>0003a7e1566088a9a9b1fc374c49ef4e389</td>\n",
       "      <td>2020-07-25</td>\n",
       "      <td>0</td>\n",
       "      <td>VI</td>\n",
       "      <td>22</td>\n",
       "      <td>202007</td>\n",
       "      <td>Hombre</td>\n",
       "      <td>4619.57</td>\n",
       "      <td>Sector_Sin_Datos</td>\n",
       "      <td>50.0</td>\n",
       "      <td>45</td>\n",
       "      <td>9</td>\n",
       "      <td>Casado</td>\n",
       "      <td>REGION PAMPEANA</td>\n",
       "    </tr>\n",
       "    <tr>\n",
       "      <th>...</th>\n",
       "      <td>...</td>\n",
       "      <td>...</td>\n",
       "      <td>...</td>\n",
       "      <td>...</td>\n",
       "      <td>...</td>\n",
       "      <td>...</td>\n",
       "      <td>...</td>\n",
       "      <td>...</td>\n",
       "      <td>...</td>\n",
       "      <td>...</td>\n",
       "      <td>...</td>\n",
       "      <td>...</td>\n",
       "      <td>...</td>\n",
       "      <td>...</td>\n",
       "    </tr>\n",
       "    <tr>\n",
       "      <th>72398</th>\n",
       "      <td>00068ec69c7a0fef0047dece18e1d905386</td>\n",
       "      <td>2021-05-07</td>\n",
       "      <td>0</td>\n",
       "      <td>ZE</td>\n",
       "      <td>3</td>\n",
       "      <td>202105</td>\n",
       "      <td>Mujer</td>\n",
       "      <td>1968.66</td>\n",
       "      <td>Sector_Sin_Datos</td>\n",
       "      <td>58.0</td>\n",
       "      <td>78</td>\n",
       "      <td>0</td>\n",
       "      <td>Casado</td>\n",
       "      <td>REGION PAMPEANA</td>\n",
       "    </tr>\n",
       "    <tr>\n",
       "      <th>72399</th>\n",
       "      <td>0000e7b72ab4fe0dbdcba6e189bc4bd3190</td>\n",
       "      <td>2021-05-11</td>\n",
       "      <td>0</td>\n",
       "      <td>ZE</td>\n",
       "      <td>3</td>\n",
       "      <td>202105</td>\n",
       "      <td>Mujer</td>\n",
       "      <td>2462.32</td>\n",
       "      <td>Sector_Empleado_Comercio</td>\n",
       "      <td>57.0</td>\n",
       "      <td>121</td>\n",
       "      <td>0</td>\n",
       "      <td>Casado</td>\n",
       "      <td>REGION NOROESTE</td>\n",
       "    </tr>\n",
       "    <tr>\n",
       "      <th>72389</th>\n",
       "      <td>0003dd9ab940e4a4fb953141abbe57aa237</td>\n",
       "      <td>2021-05-10</td>\n",
       "      <td>0</td>\n",
       "      <td>ZE</td>\n",
       "      <td>3</td>\n",
       "      <td>202105</td>\n",
       "      <td>Hombre</td>\n",
       "      <td>2814.60</td>\n",
       "      <td>Sector_Sin_Datos</td>\n",
       "      <td>41.0</td>\n",
       "      <td>3</td>\n",
       "      <td>0</td>\n",
       "      <td>Soltero</td>\n",
       "      <td>REGION NORDESTE</td>\n",
       "    </tr>\n",
       "    <tr>\n",
       "      <th>124313</th>\n",
       "      <td>0000ab27a0ed815f947df8bcb834ff97975</td>\n",
       "      <td>2021-05-03</td>\n",
       "      <td>0</td>\n",
       "      <td>PC</td>\n",
       "      <td>3</td>\n",
       "      <td>202105</td>\n",
       "      <td>Hombre</td>\n",
       "      <td>12284.16</td>\n",
       "      <td>Sector_Empleado_Comercio</td>\n",
       "      <td>74.0</td>\n",
       "      <td>140</td>\n",
       "      <td>0</td>\n",
       "      <td>Soltero</td>\n",
       "      <td>REGION NOROESTE</td>\n",
       "    </tr>\n",
       "    <tr>\n",
       "      <th>11977</th>\n",
       "      <td>0007d3573a085abc49ede83321981a7d760</td>\n",
       "      <td>2021-05-25</td>\n",
       "      <td>1</td>\n",
       "      <td>PL</td>\n",
       "      <td>0</td>\n",
       "      <td>202106</td>\n",
       "      <td>Mujer</td>\n",
       "      <td>-9.00</td>\n",
       "      <td>Sector_Sin_Datos</td>\n",
       "      <td>50.0</td>\n",
       "      <td>181</td>\n",
       "      <td>0</td>\n",
       "      <td>Casado</td>\n",
       "      <td>REGION PAMPEANA</td>\n",
       "    </tr>\n",
       "  </tbody>\n",
       "</table>\n",
       "<p>54010 rows × 14 columns</p>\n",
       "</div>"
      ],
      "text/plain": [
       "                     dni_titular_movimiento fecha_cupon_movimiento  \\\n",
       "85858   0001a3ea0e2a1394ddba4679b09ca7a1561             2020-07-31   \n",
       "74714   00037938025ac60849e60d3f3fa42cdc833             2020-07-28   \n",
       "74715   00037938025ac60849e60d3f3fa42cdc833             2020-07-26   \n",
       "101268  0003a7e1566088a9a9b1fc374c49ef4e389             2020-07-29   \n",
       "101269  0003a7e1566088a9a9b1fc374c49ef4e389             2020-07-25   \n",
       "...                                     ...                    ...   \n",
       "72398   00068ec69c7a0fef0047dece18e1d905386             2021-05-07   \n",
       "72399   0000e7b72ab4fe0dbdcba6e189bc4bd3190             2021-05-11   \n",
       "72389   0003dd9ab940e4a4fb953141abbe57aa237             2021-05-10   \n",
       "124313  0000ab27a0ed815f947df8bcb834ff97975             2021-05-03   \n",
       "11977   0007d3573a085abc49ede83321981a7d760             2021-05-25   \n",
       "\n",
       "        moneda_movimiento producto_naranja_movimiento  \\\n",
       "85858                   0                          PL   \n",
       "74714                   3                          PL   \n",
       "74715                   3                          PL   \n",
       "101268                  0                          VI   \n",
       "101269                  0                          VI   \n",
       "...                   ...                         ...   \n",
       "72398                   0                          ZE   \n",
       "72399                   0                          ZE   \n",
       "72389                   0                          ZE   \n",
       "124313                  0                          PC   \n",
       "11977                   1                          PL   \n",
       "\n",
       "       tipo_producto_tarjeta_movimiento  anio_mes_cupon sexo_descripcion  \\\n",
       "85858                                 3          202007           Hombre   \n",
       "74714                                 3          202007            Mujer   \n",
       "74715                                 3          202007            Mujer   \n",
       "101268                               22          202007           Hombre   \n",
       "101269                               22          202007           Hombre   \n",
       "...                                 ...             ...              ...   \n",
       "72398                                 3          202105            Mujer   \n",
       "72399                                 3          202105            Mujer   \n",
       "72389                                 3          202105           Hombre   \n",
       "124313                                3          202105           Hombre   \n",
       "11977                                 0          202106            Mujer   \n",
       "\n",
       "        monto_ajustado    cargo_sector_desc_hist  edad_cliente  antig_cliente  \\\n",
       "85858           181.16          Sector_Sin_Datos          80.0             19   \n",
       "74714           618.52          Sector_Educativo          39.0            124   \n",
       "74715          1350.43          Sector_Educativo          39.0            124   \n",
       "101268         1319.95          Sector_Sin_Datos          50.0             45   \n",
       "101269         4619.57          Sector_Sin_Datos          50.0             45   \n",
       "...                ...                       ...           ...            ...   \n",
       "72398          1968.66          Sector_Sin_Datos          58.0             78   \n",
       "72399          2462.32  Sector_Empleado_Comercio          57.0            121   \n",
       "72389          2814.60          Sector_Sin_Datos          41.0              3   \n",
       "124313        12284.16  Sector_Empleado_Comercio          74.0            140   \n",
       "11977            -9.00          Sector_Sin_Datos          50.0            181   \n",
       "\n",
       "       comercio_cat estado_civil_cat           region  \n",
       "85858             5          Soltero  REGION NOROESTE  \n",
       "74714             1          Soltero  REGION PAMPEANA  \n",
       "74715             1          Soltero  REGION PAMPEANA  \n",
       "101268            9           Casado  REGION PAMPEANA  \n",
       "101269            9           Casado  REGION PAMPEANA  \n",
       "...             ...              ...              ...  \n",
       "72398             0           Casado  REGION PAMPEANA  \n",
       "72399             0           Casado  REGION NOROESTE  \n",
       "72389             0          Soltero  REGION NORDESTE  \n",
       "124313            0          Soltero  REGION NOROESTE  \n",
       "11977             0           Casado  REGION PAMPEANA  \n",
       "\n",
       "[54010 rows x 14 columns]"
      ]
     },
     "execution_count": 30,
     "metadata": {},
     "output_type": "execute_result"
    }
   ],
   "source": [
    "df = df.sort_values(by = ['anio_mes_cupon'], ascending = True)\n",
    "df"
   ]
  },
  {
   "cell_type": "code",
   "execution_count": 31,
   "id": "d38a02c0-c974-49d1-83c4-c239df55b6b6",
   "metadata": {},
   "outputs": [
    {
     "data": {
      "text/plain": [
       "count    54010.00\n",
       "mean      1626.05\n",
       "std       4172.44\n",
       "min     -35117.69\n",
       "25%         88.42\n",
       "50%        271.75\n",
       "75%       1337.98\n",
       "max      63616.14\n",
       "Name: monto_ajustado, dtype: float64"
      ]
     },
     "execution_count": 31,
     "metadata": {},
     "output_type": "execute_result"
    }
   ],
   "source": [
    "df['monto_ajustado'].describe().round(2)"
   ]
  },
  {
   "cell_type": "markdown",
   "id": "a1f5287f-2173-4b21-8e36-372f01a6cf8d",
   "metadata": {},
   "source": [
    "Distribución de nuestro target respecto a nuestros features"
   ]
  },
  {
   "cell_type": "markdown",
   "id": "e14a3e4e-8744-48c4-8111-ec991a22b267",
   "metadata": {},
   "source": [
    "### ScatterPlot de Features y Target"
   ]
  },
  {
   "cell_type": "code",
   "execution_count": 32,
   "id": "d4ffc713-acbe-4a49-924f-93de12960bf5",
   "metadata": {},
   "outputs": [],
   "source": [
    "df_sin_docu = df.copy()\n",
    "df_sin_docu.drop(columns=['dni_titular_movimiento','monto_ajustado'], inplace=True)\n",
    "df_sin_docu['monto_ajustado'] = df['monto_ajustado']"
   ]
  },
  {
   "cell_type": "code",
   "execution_count": 33,
   "id": "01d0a7fc-df44-4d48-9c24-5759b6809b53",
   "metadata": {},
   "outputs": [
    {
     "data": {
      "text/plain": [
       "array(['fecha_cupon_movimiento', 'moneda_movimiento',\n",
       "       'producto_naranja_movimiento', 'tipo_producto_tarjeta_movimiento',\n",
       "       'anio_mes_cupon', 'sexo_descripcion', 'cargo_sector_desc_hist',\n",
       "       'edad_cliente', 'antig_cliente', 'comercio_cat',\n",
       "       'estado_civil_cat', 'region'], dtype=object)"
      ]
     },
     "execution_count": 33,
     "metadata": {},
     "output_type": "execute_result"
    }
   ],
   "source": [
    "col_x = df_sin_docu.iloc[:,:-1].columns.values\n",
    "col_x"
   ]
  },
  {
   "cell_type": "code",
   "execution_count": 34,
   "id": "c919b388-607d-49e4-8112-3979160b097c",
   "metadata": {
    "tags": []
   },
   "outputs": [
    {
     "data": {
      "image/png": "[encoded data removed]",
      "text/plain": [
       "<Figure size 1440x2160 with 12 Axes>"
      ]
     },
     "metadata": {
      "needs_background": "light"
     },
     "output_type": "display_data"
    }
   ],
   "source": [
    "n_cols = 3\n",
    "n_rows = math.ceil(len(col_x)/3)\n",
    "fig, axs = plt.subplots(n_rows, n_cols, figsize=(20, 30))\n",
    "count = 0\n",
    "for i in col_x:    \n",
    "    # Calculamos filas y columnas\n",
    "    row = math.floor(count / n_cols)\n",
    "    col = count % n_cols\n",
    "    # Configuramos visualización\n",
    "    ax = axs[row, col]\n",
    "    # Visualizamos la distribución de variable\n",
    "    sns.scatterplot(data=df_sin_docu, x=i, y='monto_ajustado', ax=ax)\n",
    "    count =count +1\n",
    "\n",
    "#axs[n_rows-1,n_cols-1].axis('off')\n",
    "plt.show()"
   ]
  },
  {
   "cell_type": "markdown",
   "id": "77957b6c-4055-453b-b038-bbc17d30757f",
   "metadata": {},
   "source": [
    "Analisis de distribucion de monto_ajustado con respecto a los features numericos\n",
    "\n",
    "- **fecha_cupon_movimiento**: No hay una relacion visible. Los puntos estan distribuidos mayoritariamente en el rango entre 0 y 20000 para casi todos los meses presentes con excepcion del primer mes donde la cantidad de casos baja con respecto al resto de los meses.\n",
    "- **edad_cliente**: Similar a fecha, la mayor parte de los montos se concentra entre 0 y 20000. Algo a destacar es que a medida que la edad supera los 60 años, la cantidad de transacciones baja. El grueso de transacciones estan concentradas en edades menores a 70\n",
    "- **antiguedad_cliente**: A partir de la antiguedad 200, se puede observar que la cantidad de transacciones baja, lo cual podria explicarse en base a que hay menos clientes con antiguedad tan alta. Sin embargo, se puede llegar a ver una aplanacion mas paulatina de los casos que en el caso de la edad. Despues de cierta antiguedad la cantidad de transacciones baja pero se mantiene en una meseta, en cambio en el caso de la edad la baja es mas abrupta.\n",
    "\n",
    "El scatterplot de features categoricos nos brinda unicamente informacion sobre la concentracion de casos en cada categoria, pero no podriamos con eso solo proyectar el comportamiento de las regresiones para la prediccion de los montos. "
   ]
  },
  {
   "cell_type": "markdown",
   "id": "1755bec5-a3b6-41e3-9475-de978646e89f",
   "metadata": {},
   "source": [
    "### Seleccion de columnas"
   ]
  },
  {
   "cell_type": "markdown",
   "id": "8c06fc54-a496-4e47-b54f-878383d21b76",
   "metadata": {},
   "source": [
    "Realizamos una separación de las distintas features segun el preproceso necesario. \n",
    "\n",
    "- **Variable ordinal**: DNI identifica univocamente al cliente pero al ser ordinal debe excluirse de los modelos\n",
    "- **target de regresion**: monto_ajustado\n",
    "- **target de clasificacion**: fg_aumentado\n",
    "- **features numericas**: Se les aplicara un normalizador o estandarizador según sea necesario\n",
    "- **features categoricas de la transaccion**: Al momento de agrupar por mes, se sumarizan para convertirlas a numericas\n",
    "- **features categoricas del cliente**: Se mantienen como categoricas para retener la información del cliente"
   ]
  },
  {
   "cell_type": "code",
   "execution_count": 39,
   "id": "e8046ce9-840d-4038-abaf-581592021a61",
   "metadata": {},
   "outputs": [],
   "source": [
    "ordinal_ft = 'dni_titular_movimiento'\n",
    "target = 'monto_ajustado'\n",
    "target_c = 'fg_aumentado'\n",
    "\n",
    "# Features numericas\n",
    "num_features = ['anio_mes_cupon', 'edad_cliente', 'antig_cliente', 'fecha_cupon_movimiento']\n",
    "\n",
    "# Features categoricas de la transaccion\n",
    "trans_ft = ['producto_naranja_movimiento', 'tipo_producto_tarjeta_movimiento', 'moneda_movimiento', 'comercio_cat']\n",
    "\n",
    "# Features categoricas del cliente\n",
    "client_ft = ['sexo_descripcion', 'cargo_sector_desc_hist', 'estado_civil_cat', 'region']"
   ]
  },
  {
   "cell_type": "code",
   "execution_count": 40,
   "id": "0e0e3541-166c-44d7-8a86-c40777dde651",
   "metadata": {
    "tags": []
   },
   "outputs": [],
   "source": [
    "# Ordenamos por fecha\n",
    "df = df.sort_values(by = ['fecha_cupon_movimiento'], ascending = True)\n",
    "# Transformacion de fecha a numerica\n",
    "df['fecha_cupon_movimiento'] = df['fecha_cupon_movimiento'].values.astype(float)/10**11\n",
    "# Transformacion de tipo de moneda a string\n",
    "df['moneda_movimiento'] = df['moneda_movimiento'].astype(str)\n",
    "\n",
    "\n",
    "# Codificación\n",
    "cat_transformer = OneHotEncoder(handle_unknown='ignore')\n",
    "\n",
    "encoder = ColumnTransformer(\n",
    "    transformers=[\n",
    "        ('dni', 'drop', [ordinal_ft]),\n",
    "        ('num', 'passthrough', num_features),\n",
    "        ('trans', cat_transformer, trans_ft),\n",
    "        ('client', cat_transformer, client_ft),\n",
    "        ('target', 'passthrough', [target])])\n",
    "df_enc = encoder.fit_transform(df)\n",
    "cols = encoder.get_feature_names()\n",
    "\n",
    "# Agregar feature ordinal al principio del dataframe\n",
    "\n",
    "dff_enc = pd.DataFrame.sparse.from_spmatrix(df_enc, columns=[cols]).sparse.to_dense()\n",
    "cols_o = np.hstack([[ordinal_ft],cols])\n",
    "df_stack = np.hstack([df[[ordinal_ft]],dff_enc])\n",
    "df_encode = pd.DataFrame(df_stack , columns=cols_o)"
   ]
  },
  {
   "cell_type": "markdown",
   "id": "ffaf8950-66c4-4930-8523-87ee9166a7fa",
   "metadata": {},
   "source": [
    "### Agrupación por Mes"
   ]
  },
  {
   "cell_type": "markdown",
   "id": "17eae6c1-ce37-472c-866a-bd4f5566af4c",
   "metadata": {
    "tags": []
   },
   "source": [
    "Definimos distintas funciones de agregacion segun el tipo de feature definido anteriormente. Las features del cliente se mantienen en todo el dataset para cada cliente, por lo que aplicarles 'max' no significaria una perdida de informacion. Las columnas relacionadas a la transaccion se suman para contabilizar las transacciones para esa categoria en el mes que se va a agrupar."
   ]
  },
  {
   "cell_type": "code",
   "execution_count": 41,
   "id": "7b51265a-34ef-4080-9f73-e644ecdc23f9",
   "metadata": {
    "tags": []
   },
   "outputs": [],
   "source": [
    "# Funciones de agregacion para cada columna\n",
    "aggr = {} \n",
    "aggr.update(dict.fromkeys([x for x in cols if 'client' in x], 'max'))\n",
    "aggr.update(dict.fromkeys([x for x in cols if 'trans' in x], 'sum'))\n",
    "aggr.update({target:'sum'})\n",
    "\n",
    "# Convertimos las columnas categoricas de la transaccion a numericas para poder sumarizarlas\n",
    "df_encode[num_features + [x for x in cols if 'trans' in x]] = \\\n",
    "df_encode[num_features + [x for x in cols if 'trans' in x]].apply(pd.to_numeric)\n",
    "\n",
    "# Agrupamiento\n",
    "group = ['dni_titular_movimiento', 'anio_mes_cupon']\n",
    "\n",
    "df_mes = df_encode.groupby(group).agg(aggr).reset_index() # edad y antiguedad"
   ]
  },
  {
   "cell_type": "code",
   "execution_count": 42,
   "id": "2c0ac72a-2dd4-46b8-9797-441a727aabfe",
   "metadata": {
    "tags": []
   },
   "outputs": [
    {
     "data": {
      "text/html": [
       "<div>\n",
       "<style scoped>\n",
       "    .dataframe tbody tr th:only-of-type {\n",
       "        vertical-align: middle;\n",
       "    }\n",
       "\n",
       "    .dataframe tbody tr th {\n",
       "        vertical-align: top;\n",
       "    }\n",
       "\n",
       "    .dataframe thead th {\n",
       "        text-align: right;\n",
       "    }\n",
       "</style>\n",
       "<table border=\"1\" class=\"dataframe\">\n",
       "  <thead>\n",
       "    <tr style=\"text-align: right;\">\n",
       "      <th></th>\n",
       "      <th>anio_mes_cupon</th>\n",
       "      <th>edad_cliente</th>\n",
       "      <th>antig_cliente</th>\n",
       "      <th>client__x0_Hombre</th>\n",
       "      <th>client__x0_Mujer</th>\n",
       "      <th>client__x0_Sin Datos</th>\n",
       "      <th>client__x1_Sector_Educativo</th>\n",
       "      <th>client__x1_Sector_Empleado_Comercio</th>\n",
       "      <th>client__x1_Sector_Financiero</th>\n",
       "      <th>client__x1_Sector_No_Operativo</th>\n",
       "      <th>...</th>\n",
       "      <th>trans__x3_1</th>\n",
       "      <th>trans__x3_2</th>\n",
       "      <th>trans__x3_3</th>\n",
       "      <th>trans__x3_4</th>\n",
       "      <th>trans__x3_5</th>\n",
       "      <th>trans__x3_6</th>\n",
       "      <th>trans__x3_7</th>\n",
       "      <th>trans__x3_8</th>\n",
       "      <th>trans__x3_9</th>\n",
       "      <th>monto_ajustado</th>\n",
       "    </tr>\n",
       "  </thead>\n",
       "  <tbody>\n",
       "    <tr>\n",
       "      <th>count</th>\n",
       "      <td>7443.000000</td>\n",
       "      <td>7443.000000</td>\n",
       "      <td>7443.000000</td>\n",
       "      <td>7443.000000</td>\n",
       "      <td>7443.000000</td>\n",
       "      <td>7443.000000</td>\n",
       "      <td>7443.000000</td>\n",
       "      <td>7443.000000</td>\n",
       "      <td>7443.000000</td>\n",
       "      <td>7443.000000</td>\n",
       "      <td>...</td>\n",
       "      <td>7443.000000</td>\n",
       "      <td>7443.000000</td>\n",
       "      <td>7443.000000</td>\n",
       "      <td>7443.000000</td>\n",
       "      <td>7443.000000</td>\n",
       "      <td>7443.000000</td>\n",
       "      <td>7443.000000</td>\n",
       "      <td>7443.000000</td>\n",
       "      <td>7443.000000</td>\n",
       "      <td>7443.000000</td>\n",
       "    </tr>\n",
       "    <tr>\n",
       "      <th>mean</th>\n",
       "      <td>202052.953245</td>\n",
       "      <td>49.149536</td>\n",
       "      <td>107.739755</td>\n",
       "      <td>0.460836</td>\n",
       "      <td>0.533118</td>\n",
       "      <td>0.006046</td>\n",
       "      <td>0.058444</td>\n",
       "      <td>0.193202</td>\n",
       "      <td>0.011017</td>\n",
       "      <td>0.084106</td>\n",
       "      <td>...</td>\n",
       "      <td>1.505441</td>\n",
       "      <td>0.264947</td>\n",
       "      <td>0.154776</td>\n",
       "      <td>0.011286</td>\n",
       "      <td>0.759909</td>\n",
       "      <td>0.110574</td>\n",
       "      <td>0.022437</td>\n",
       "      <td>0.047293</td>\n",
       "      <td>1.127099</td>\n",
       "      <td>11799.386270</td>\n",
       "    </tr>\n",
       "    <tr>\n",
       "      <th>std</th>\n",
       "      <td>46.437423</td>\n",
       "      <td>14.954749</td>\n",
       "      <td>76.457279</td>\n",
       "      <td>0.498497</td>\n",
       "      <td>0.498935</td>\n",
       "      <td>0.077526</td>\n",
       "      <td>0.234597</td>\n",
       "      <td>0.394836</td>\n",
       "      <td>0.104389</td>\n",
       "      <td>0.277565</td>\n",
       "      <td>...</td>\n",
       "      <td>2.712571</td>\n",
       "      <td>0.909321</td>\n",
       "      <td>0.913168</td>\n",
       "      <td>0.166800</td>\n",
       "      <td>1.622287</td>\n",
       "      <td>0.710803</td>\n",
       "      <td>0.303002</td>\n",
       "      <td>0.442828</td>\n",
       "      <td>2.920973</td>\n",
       "      <td>14911.904828</td>\n",
       "    </tr>\n",
       "    <tr>\n",
       "      <th>min</th>\n",
       "      <td>202007.000000</td>\n",
       "      <td>24.000000</td>\n",
       "      <td>0.000000</td>\n",
       "      <td>0.000000</td>\n",
       "      <td>0.000000</td>\n",
       "      <td>0.000000</td>\n",
       "      <td>0.000000</td>\n",
       "      <td>0.000000</td>\n",
       "      <td>0.000000</td>\n",
       "      <td>0.000000</td>\n",
       "      <td>...</td>\n",
       "      <td>0.000000</td>\n",
       "      <td>0.000000</td>\n",
       "      <td>0.000000</td>\n",
       "      <td>0.000000</td>\n",
       "      <td>0.000000</td>\n",
       "      <td>0.000000</td>\n",
       "      <td>0.000000</td>\n",
       "      <td>0.000000</td>\n",
       "      <td>0.000000</td>\n",
       "      <td>-14160.390000</td>\n",
       "    </tr>\n",
       "    <tr>\n",
       "      <th>25%</th>\n",
       "      <td>202010.000000</td>\n",
       "      <td>36.000000</td>\n",
       "      <td>45.000000</td>\n",
       "      <td>0.000000</td>\n",
       "      <td>0.000000</td>\n",
       "      <td>0.000000</td>\n",
       "      <td>0.000000</td>\n",
       "      <td>0.000000</td>\n",
       "      <td>0.000000</td>\n",
       "      <td>0.000000</td>\n",
       "      <td>...</td>\n",
       "      <td>0.000000</td>\n",
       "      <td>0.000000</td>\n",
       "      <td>0.000000</td>\n",
       "      <td>0.000000</td>\n",
       "      <td>0.000000</td>\n",
       "      <td>0.000000</td>\n",
       "      <td>0.000000</td>\n",
       "      <td>0.000000</td>\n",
       "      <td>0.000000</td>\n",
       "      <td>958.790000</td>\n",
       "    </tr>\n",
       "    <tr>\n",
       "      <th>50%</th>\n",
       "      <td>202012.000000</td>\n",
       "      <td>47.000000</td>\n",
       "      <td>93.000000</td>\n",
       "      <td>0.000000</td>\n",
       "      <td>1.000000</td>\n",
       "      <td>0.000000</td>\n",
       "      <td>0.000000</td>\n",
       "      <td>0.000000</td>\n",
       "      <td>0.000000</td>\n",
       "      <td>0.000000</td>\n",
       "      <td>...</td>\n",
       "      <td>1.000000</td>\n",
       "      <td>0.000000</td>\n",
       "      <td>0.000000</td>\n",
       "      <td>0.000000</td>\n",
       "      <td>0.000000</td>\n",
       "      <td>0.000000</td>\n",
       "      <td>0.000000</td>\n",
       "      <td>0.000000</td>\n",
       "      <td>0.000000</td>\n",
       "      <td>6339.410000</td>\n",
       "    </tr>\n",
       "    <tr>\n",
       "      <th>75%</th>\n",
       "      <td>202103.000000</td>\n",
       "      <td>61.000000</td>\n",
       "      <td>156.000000</td>\n",
       "      <td>1.000000</td>\n",
       "      <td>1.000000</td>\n",
       "      <td>0.000000</td>\n",
       "      <td>0.000000</td>\n",
       "      <td>0.000000</td>\n",
       "      <td>0.000000</td>\n",
       "      <td>0.000000</td>\n",
       "      <td>...</td>\n",
       "      <td>2.000000</td>\n",
       "      <td>0.000000</td>\n",
       "      <td>0.000000</td>\n",
       "      <td>0.000000</td>\n",
       "      <td>1.000000</td>\n",
       "      <td>0.000000</td>\n",
       "      <td>0.000000</td>\n",
       "      <td>0.000000</td>\n",
       "      <td>1.000000</td>\n",
       "      <td>17236.215000</td>\n",
       "    </tr>\n",
       "    <tr>\n",
       "      <th>max</th>\n",
       "      <td>202106.000000</td>\n",
       "      <td>85.000000</td>\n",
       "      <td>360.000000</td>\n",
       "      <td>1.000000</td>\n",
       "      <td>1.000000</td>\n",
       "      <td>1.000000</td>\n",
       "      <td>1.000000</td>\n",
       "      <td>1.000000</td>\n",
       "      <td>1.000000</td>\n",
       "      <td>1.000000</td>\n",
       "      <td>...</td>\n",
       "      <td>35.000000</td>\n",
       "      <td>18.000000</td>\n",
       "      <td>17.000000</td>\n",
       "      <td>7.000000</td>\n",
       "      <td>50.000000</td>\n",
       "      <td>27.000000</td>\n",
       "      <td>14.000000</td>\n",
       "      <td>12.000000</td>\n",
       "      <td>60.000000</td>\n",
       "      <td>134045.420000</td>\n",
       "    </tr>\n",
       "  </tbody>\n",
       "</table>\n",
       "<p>8 rows × 54 columns</p>\n",
       "</div>"
      ],
      "text/plain": [
       "       anio_mes_cupon  edad_cliente  antig_cliente  client__x0_Hombre  \\\n",
       "count     7443.000000   7443.000000    7443.000000        7443.000000   \n",
       "mean    202052.953245     49.149536     107.739755           0.460836   \n",
       "std         46.437423     14.954749      76.457279           0.498497   \n",
       "min     202007.000000     24.000000       0.000000           0.000000   \n",
       "25%     202010.000000     36.000000      45.000000           0.000000   \n",
       "50%     202012.000000     47.000000      93.000000           0.000000   \n",
       "75%     202103.000000     61.000000     156.000000           1.000000   \n",
       "max     202106.000000     85.000000     360.000000           1.000000   \n",
       "\n",
       "       client__x0_Mujer  client__x0_Sin Datos  client__x1_Sector_Educativo  \\\n",
       "count       7443.000000           7443.000000                  7443.000000   \n",
       "mean           0.533118              0.006046                     0.058444   \n",
       "std            0.498935              0.077526                     0.234597   \n",
       "min            0.000000              0.000000                     0.000000   \n",
       "25%            0.000000              0.000000                     0.000000   \n",
       "50%            1.000000              0.000000                     0.000000   \n",
       "75%            1.000000              0.000000                     0.000000   \n",
       "max            1.000000              1.000000                     1.000000   \n",
       "\n",
       "       client__x1_Sector_Empleado_Comercio  client__x1_Sector_Financiero  \\\n",
       "count                          7443.000000                   7443.000000   \n",
       "mean                              0.193202                      0.011017   \n",
       "std                               0.394836                      0.104389   \n",
       "min                               0.000000                      0.000000   \n",
       "25%                               0.000000                      0.000000   \n",
       "50%                               0.000000                      0.000000   \n",
       "75%                               0.000000                      0.000000   \n",
       "max                               1.000000                      1.000000   \n",
       "\n",
       "       client__x1_Sector_No_Operativo  ...  trans__x3_1  trans__x3_2  \\\n",
       "count                     7443.000000  ...  7443.000000  7443.000000   \n",
       "mean                         0.084106  ...     1.505441     0.264947   \n",
       "std                          0.277565  ...     2.712571     0.909321   \n",
       "min                          0.000000  ...     0.000000     0.000000   \n",
       "25%                          0.000000  ...     0.000000     0.000000   \n",
       "50%                          0.000000  ...     1.000000     0.000000   \n",
       "75%                          0.000000  ...     2.000000     0.000000   \n",
       "max                          1.000000  ...    35.000000    18.000000   \n",
       "\n",
       "       trans__x3_3  trans__x3_4  trans__x3_5  trans__x3_6  trans__x3_7  \\\n",
       "count  7443.000000  7443.000000  7443.000000  7443.000000  7443.000000   \n",
       "mean      0.154776     0.011286     0.759909     0.110574     0.022437   \n",
       "std       0.913168     0.166800     1.622287     0.710803     0.303002   \n",
       "min       0.000000     0.000000     0.000000     0.000000     0.000000   \n",
       "25%       0.000000     0.000000     0.000000     0.000000     0.000000   \n",
       "50%       0.000000     0.000000     0.000000     0.000000     0.000000   \n",
       "75%       0.000000     0.000000     1.000000     0.000000     0.000000   \n",
       "max      17.000000     7.000000    50.000000    27.000000    14.000000   \n",
       "\n",
       "       trans__x3_8  trans__x3_9  monto_ajustado  \n",
       "count  7443.000000  7443.000000     7443.000000  \n",
       "mean      0.047293     1.127099    11799.386270  \n",
       "std       0.442828     2.920973    14911.904828  \n",
       "min       0.000000     0.000000   -14160.390000  \n",
       "25%       0.000000     0.000000      958.790000  \n",
       "50%       0.000000     0.000000     6339.410000  \n",
       "75%       0.000000     1.000000    17236.215000  \n",
       "max      12.000000    60.000000   134045.420000  \n",
       "\n",
       "[8 rows x 54 columns]"
      ]
     },
     "execution_count": 42,
     "metadata": {},
     "output_type": "execute_result"
    }
   ],
   "source": [
    "df_mes.describe()"
   ]
  },
  {
   "cell_type": "markdown",
   "id": "bafa478d-606d-49ab-b267-8da6fbd1c385",
   "metadata": {},
   "source": [
    "## TENEMOS DNIs CON 1 SOLO UN MES DE MOVIMIENTO. VER LUEGO"
   ]
  },
  {
   "cell_type": "code",
   "execution_count": 93,
   "id": "758a0a4e-b87d-46e4-84c2-7b7910301dc9",
   "metadata": {},
   "outputs": [
    {
     "data": {
      "text/html": [
       "<div>\n",
       "<style scoped>\n",
       "    .dataframe tbody tr th:only-of-type {\n",
       "        vertical-align: middle;\n",
       "    }\n",
       "\n",
       "    .dataframe tbody tr th {\n",
       "        vertical-align: top;\n",
       "    }\n",
       "\n",
       "    .dataframe thead th {\n",
       "        text-align: right;\n",
       "    }\n",
       "</style>\n",
       "<table border=\"1\" class=\"dataframe\">\n",
       "  <thead>\n",
       "    <tr style=\"text-align: right;\">\n",
       "      <th></th>\n",
       "      <th>dni_titular_movimiento</th>\n",
       "      <th>anio_mes_cupon</th>\n",
       "      <th>edad_cliente</th>\n",
       "      <th>antig_cliente</th>\n",
       "      <th>client__x0_Hombre</th>\n",
       "      <th>client__x0_Mujer</th>\n",
       "      <th>client__x0_Sin Datos</th>\n",
       "      <th>client__x1_Sector_Educativo</th>\n",
       "      <th>client__x1_Sector_Empleado_Comercio</th>\n",
       "      <th>client__x1_Sector_Financiero</th>\n",
       "      <th>...</th>\n",
       "      <th>trans__x3_1</th>\n",
       "      <th>trans__x3_2</th>\n",
       "      <th>trans__x3_3</th>\n",
       "      <th>trans__x3_4</th>\n",
       "      <th>trans__x3_5</th>\n",
       "      <th>trans__x3_6</th>\n",
       "      <th>trans__x3_7</th>\n",
       "      <th>trans__x3_8</th>\n",
       "      <th>trans__x3_9</th>\n",
       "      <th>monto_ajustado</th>\n",
       "    </tr>\n",
       "  </thead>\n",
       "  <tbody>\n",
       "    <tr>\n",
       "      <th>5962</th>\n",
       "      <td>000c428be17ead5d2e0bea5db86a67f7203</td>\n",
       "      <td>202104.0</td>\n",
       "      <td>41.0</td>\n",
       "      <td>1.0</td>\n",
       "      <td>0.0</td>\n",
       "      <td>1.0</td>\n",
       "      <td>0.0</td>\n",
       "      <td>0.0</td>\n",
       "      <td>0.0</td>\n",
       "      <td>0.0</td>\n",
       "      <td>...</td>\n",
       "      <td>7.0</td>\n",
       "      <td>0.0</td>\n",
       "      <td>0.0</td>\n",
       "      <td>0.0</td>\n",
       "      <td>0.0</td>\n",
       "      <td>0.0</td>\n",
       "      <td>0.0</td>\n",
       "      <td>0.0</td>\n",
       "      <td>0.0</td>\n",
       "      <td>16782.35</td>\n",
       "    </tr>\n",
       "  </tbody>\n",
       "</table>\n",
       "<p>1 rows × 55 columns</p>\n",
       "</div>"
      ],
      "text/plain": [
       "                   dni_titular_movimiento  anio_mes_cupon  edad_cliente  \\\n",
       "5962  000c428be17ead5d2e0bea5db86a67f7203        202104.0          41.0   \n",
       "\n",
       "      antig_cliente  client__x0_Hombre  client__x0_Mujer  \\\n",
       "5962            1.0                0.0               1.0   \n",
       "\n",
       "      client__x0_Sin Datos  client__x1_Sector_Educativo  \\\n",
       "5962                   0.0                          0.0   \n",
       "\n",
       "      client__x1_Sector_Empleado_Comercio  client__x1_Sector_Financiero  ...  \\\n",
       "5962                                  0.0                           0.0  ...   \n",
       "\n",
       "      trans__x3_1  trans__x3_2  trans__x3_3  trans__x3_4  trans__x3_5  \\\n",
       "5962          7.0          0.0          0.0          0.0          0.0   \n",
       "\n",
       "      trans__x3_6  trans__x3_7  trans__x3_8  trans__x3_9  monto_ajustado  \n",
       "5962          0.0          0.0          0.0          0.0        16782.35  \n",
       "\n",
       "[1 rows x 55 columns]"
      ]
     },
     "execution_count": 93,
     "metadata": {},
     "output_type": "execute_result"
    }
   ],
   "source": [
    "df_copy = df_mes.copy()\n",
    "cols = df_copy.columns.values\n",
    "cols_trans = [x for x in cols if 'trans' in x]\n",
    "\n",
    "df_copy[df_copy['dni_titular_movimiento']=='000c428be17ead5d2e0bea5db86a67f7203'][cols_trans]=0\n",
    "df_copy[df_copy['dni_titular_movimiento']=='000c428be17ead5d2e0bea5db86a67f7203']"
   ]
  },
  {
   "cell_type": "code",
   "execution_count": 94,
   "id": "17a9f665-c536-46b1-b887-0be31a28e1c4",
   "metadata": {},
   "outputs": [],
   "source": [
    "array_mes = df_mes.anio_mes_cupon.unique()\n",
    "array_dni = df_mes.dni_titular_movimiento.unique()"
   ]
  },
  {
   "cell_type": "code",
   "execution_count": 95,
   "id": "761acc7c-1784-4398-a3f6-752869d4f864",
   "metadata": {},
   "outputs": [
    {
     "data": {
      "text/html": [
       "<div>\n",
       "<style scoped>\n",
       "    .dataframe tbody tr th:only-of-type {\n",
       "        vertical-align: middle;\n",
       "    }\n",
       "\n",
       "    .dataframe tbody tr th {\n",
       "        vertical-align: top;\n",
       "    }\n",
       "\n",
       "    .dataframe thead th {\n",
       "        text-align: right;\n",
       "    }\n",
       "</style>\n",
       "<table border=\"1\" class=\"dataframe\">\n",
       "  <thead>\n",
       "    <tr style=\"text-align: right;\">\n",
       "      <th></th>\n",
       "      <th>dni_titular_movimiento</th>\n",
       "      <th>anio_mes_cupon</th>\n",
       "    </tr>\n",
       "  </thead>\n",
       "  <tbody>\n",
       "    <tr>\n",
       "      <th>0</th>\n",
       "      <td>000000b5aea2c9ea7cc155f6ebcef97f826</td>\n",
       "      <td>202008.0</td>\n",
       "    </tr>\n",
       "    <tr>\n",
       "      <th>1</th>\n",
       "      <td>000000b5aea2c9ea7cc155f6ebcef97f826</td>\n",
       "      <td>202009.0</td>\n",
       "    </tr>\n",
       "    <tr>\n",
       "      <th>2</th>\n",
       "      <td>000000b5aea2c9ea7cc155f6ebcef97f826</td>\n",
       "      <td>202010.0</td>\n",
       "    </tr>\n",
       "    <tr>\n",
       "      <th>3</th>\n",
       "      <td>000000b5aea2c9ea7cc155f6ebcef97f826</td>\n",
       "      <td>202011.0</td>\n",
       "    </tr>\n",
       "    <tr>\n",
       "      <th>4</th>\n",
       "      <td>000000b5aea2c9ea7cc155f6ebcef97f826</td>\n",
       "      <td>202012.0</td>\n",
       "    </tr>\n",
       "  </tbody>\n",
       "</table>\n",
       "</div>"
      ],
      "text/plain": [
       "                dni_titular_movimiento  anio_mes_cupon\n",
       "0  000000b5aea2c9ea7cc155f6ebcef97f826        202008.0\n",
       "1  000000b5aea2c9ea7cc155f6ebcef97f826        202009.0\n",
       "2  000000b5aea2c9ea7cc155f6ebcef97f826        202010.0\n",
       "3  000000b5aea2c9ea7cc155f6ebcef97f826        202011.0\n",
       "4  000000b5aea2c9ea7cc155f6ebcef97f826        202012.0"
      ]
     },
     "execution_count": 95,
     "metadata": {},
     "output_type": "execute_result"
    }
   ],
   "source": [
    "dic = {'dni_titular_movimiento': [],\n",
    "       'anio_mes_cupon': []}\n",
    "for dni in array_dni:\n",
    "    for mes in array_mes:\n",
    "        dic['dni_titular_movimiento'].append(dni)\n",
    "        dic['anio_mes_cupon'].append(mes)\n",
    "df_dni_mes = pd.DataFrame(dic)\n",
    "df_dni_mes.head()"
   ]
  },
  {
   "cell_type": "code",
   "execution_count": 100,
   "id": "c7db1b0d-92cb-4cd1-bb43-9a04de14a7a8",
   "metadata": {},
   "outputs": [
    {
     "data": {
      "text/plain": [
       "(17343, 55)"
      ]
     },
     "execution_count": 100,
     "metadata": {},
     "output_type": "execute_result"
    }
   ],
   "source": [
    "prueba = pd.concat([df_copy,df_dni_mes])\n",
    "prueba.shape"
   ]
  },
  {
   "cell_type": "code",
   "execution_count": 101,
   "id": "3c6a21cb-9030-4d14-b751-7e15dd360035",
   "metadata": {},
   "outputs": [
    {
     "data": {
      "text/html": [
       "<div>\n",
       "<style scoped>\n",
       "    .dataframe tbody tr th:only-of-type {\n",
       "        vertical-align: middle;\n",
       "    }\n",
       "\n",
       "    .dataframe tbody tr th {\n",
       "        vertical-align: top;\n",
       "    }\n",
       "\n",
       "    .dataframe thead th {\n",
       "        text-align: right;\n",
       "    }\n",
       "</style>\n",
       "<table border=\"1\" class=\"dataframe\">\n",
       "  <thead>\n",
       "    <tr style=\"text-align: right;\">\n",
       "      <th></th>\n",
       "      <th>dni_titular_movimiento</th>\n",
       "      <th>anio_mes_cupon</th>\n",
       "      <th>edad_cliente</th>\n",
       "      <th>antig_cliente</th>\n",
       "      <th>client__x0_Hombre</th>\n",
       "      <th>client__x0_Mujer</th>\n",
       "      <th>client__x0_Sin Datos</th>\n",
       "      <th>client__x1_Sector_Educativo</th>\n",
       "      <th>client__x1_Sector_Empleado_Comercio</th>\n",
       "      <th>client__x1_Sector_Financiero</th>\n",
       "      <th>...</th>\n",
       "      <th>trans__x3_1</th>\n",
       "      <th>trans__x3_2</th>\n",
       "      <th>trans__x3_3</th>\n",
       "      <th>trans__x3_4</th>\n",
       "      <th>trans__x3_5</th>\n",
       "      <th>trans__x3_6</th>\n",
       "      <th>trans__x3_7</th>\n",
       "      <th>trans__x3_8</th>\n",
       "      <th>trans__x3_9</th>\n",
       "      <th>monto_ajustado</th>\n",
       "    </tr>\n",
       "  </thead>\n",
       "  <tbody>\n",
       "    <tr>\n",
       "      <th>5962</th>\n",
       "      <td>000c428be17ead5d2e0bea5db86a67f7203</td>\n",
       "      <td>202104.0</td>\n",
       "      <td>41.0</td>\n",
       "      <td>1.0</td>\n",
       "      <td>0.0</td>\n",
       "      <td>1.0</td>\n",
       "      <td>0.0</td>\n",
       "      <td>0.0</td>\n",
       "      <td>0.0</td>\n",
       "      <td>0.0</td>\n",
       "      <td>...</td>\n",
       "      <td>7.0</td>\n",
       "      <td>0.0</td>\n",
       "      <td>0.0</td>\n",
       "      <td>0.0</td>\n",
       "      <td>0.0</td>\n",
       "      <td>0.0</td>\n",
       "      <td>0.0</td>\n",
       "      <td>0.0</td>\n",
       "      <td>0.0</td>\n",
       "      <td>16782.35</td>\n",
       "    </tr>\n",
       "    <tr>\n",
       "      <th>7860</th>\n",
       "      <td>000c428be17ead5d2e0bea5db86a67f7203</td>\n",
       "      <td>202008.0</td>\n",
       "      <td>NaN</td>\n",
       "      <td>NaN</td>\n",
       "      <td>NaN</td>\n",
       "      <td>NaN</td>\n",
       "      <td>NaN</td>\n",
       "      <td>NaN</td>\n",
       "      <td>NaN</td>\n",
       "      <td>NaN</td>\n",
       "      <td>...</td>\n",
       "      <td>NaN</td>\n",
       "      <td>NaN</td>\n",
       "      <td>NaN</td>\n",
       "      <td>NaN</td>\n",
       "      <td>NaN</td>\n",
       "      <td>NaN</td>\n",
       "      <td>NaN</td>\n",
       "      <td>NaN</td>\n",
       "      <td>NaN</td>\n",
       "      <td>NaN</td>\n",
       "    </tr>\n",
       "    <tr>\n",
       "      <th>7861</th>\n",
       "      <td>000c428be17ead5d2e0bea5db86a67f7203</td>\n",
       "      <td>202009.0</td>\n",
       "      <td>NaN</td>\n",
       "      <td>NaN</td>\n",
       "      <td>NaN</td>\n",
       "      <td>NaN</td>\n",
       "      <td>NaN</td>\n",
       "      <td>NaN</td>\n",
       "      <td>NaN</td>\n",
       "      <td>NaN</td>\n",
       "      <td>...</td>\n",
       "      <td>NaN</td>\n",
       "      <td>NaN</td>\n",
       "      <td>NaN</td>\n",
       "      <td>NaN</td>\n",
       "      <td>NaN</td>\n",
       "      <td>NaN</td>\n",
       "      <td>NaN</td>\n",
       "      <td>NaN</td>\n",
       "      <td>NaN</td>\n",
       "      <td>NaN</td>\n",
       "    </tr>\n",
       "    <tr>\n",
       "      <th>7862</th>\n",
       "      <td>000c428be17ead5d2e0bea5db86a67f7203</td>\n",
       "      <td>202010.0</td>\n",
       "      <td>NaN</td>\n",
       "      <td>NaN</td>\n",
       "      <td>NaN</td>\n",
       "      <td>NaN</td>\n",
       "      <td>NaN</td>\n",
       "      <td>NaN</td>\n",
       "      <td>NaN</td>\n",
       "      <td>NaN</td>\n",
       "      <td>...</td>\n",
       "      <td>NaN</td>\n",
       "      <td>NaN</td>\n",
       "      <td>NaN</td>\n",
       "      <td>NaN</td>\n",
       "      <td>NaN</td>\n",
       "      <td>NaN</td>\n",
       "      <td>NaN</td>\n",
       "      <td>NaN</td>\n",
       "      <td>NaN</td>\n",
       "      <td>NaN</td>\n",
       "    </tr>\n",
       "    <tr>\n",
       "      <th>7863</th>\n",
       "      <td>000c428be17ead5d2e0bea5db86a67f7203</td>\n",
       "      <td>202011.0</td>\n",
       "      <td>NaN</td>\n",
       "      <td>NaN</td>\n",
       "      <td>NaN</td>\n",
       "      <td>NaN</td>\n",
       "      <td>NaN</td>\n",
       "      <td>NaN</td>\n",
       "      <td>NaN</td>\n",
       "      <td>NaN</td>\n",
       "      <td>...</td>\n",
       "      <td>NaN</td>\n",
       "      <td>NaN</td>\n",
       "      <td>NaN</td>\n",
       "      <td>NaN</td>\n",
       "      <td>NaN</td>\n",
       "      <td>NaN</td>\n",
       "      <td>NaN</td>\n",
       "      <td>NaN</td>\n",
       "      <td>NaN</td>\n",
       "      <td>NaN</td>\n",
       "    </tr>\n",
       "    <tr>\n",
       "      <th>7864</th>\n",
       "      <td>000c428be17ead5d2e0bea5db86a67f7203</td>\n",
       "      <td>202012.0</td>\n",
       "      <td>NaN</td>\n",
       "      <td>NaN</td>\n",
       "      <td>NaN</td>\n",
       "      <td>NaN</td>\n",
       "      <td>NaN</td>\n",
       "      <td>NaN</td>\n",
       "      <td>NaN</td>\n",
       "      <td>NaN</td>\n",
       "      <td>...</td>\n",
       "      <td>NaN</td>\n",
       "      <td>NaN</td>\n",
       "      <td>NaN</td>\n",
       "      <td>NaN</td>\n",
       "      <td>NaN</td>\n",
       "      <td>NaN</td>\n",
       "      <td>NaN</td>\n",
       "      <td>NaN</td>\n",
       "      <td>NaN</td>\n",
       "      <td>NaN</td>\n",
       "    </tr>\n",
       "    <tr>\n",
       "      <th>7865</th>\n",
       "      <td>000c428be17ead5d2e0bea5db86a67f7203</td>\n",
       "      <td>202101.0</td>\n",
       "      <td>NaN</td>\n",
       "      <td>NaN</td>\n",
       "      <td>NaN</td>\n",
       "      <td>NaN</td>\n",
       "      <td>NaN</td>\n",
       "      <td>NaN</td>\n",
       "      <td>NaN</td>\n",
       "      <td>NaN</td>\n",
       "      <td>...</td>\n",
       "      <td>NaN</td>\n",
       "      <td>NaN</td>\n",
       "      <td>NaN</td>\n",
       "      <td>NaN</td>\n",
       "      <td>NaN</td>\n",
       "      <td>NaN</td>\n",
       "      <td>NaN</td>\n",
       "      <td>NaN</td>\n",
       "      <td>NaN</td>\n",
       "      <td>NaN</td>\n",
       "    </tr>\n",
       "    <tr>\n",
       "      <th>7866</th>\n",
       "      <td>000c428be17ead5d2e0bea5db86a67f7203</td>\n",
       "      <td>202102.0</td>\n",
       "      <td>NaN</td>\n",
       "      <td>NaN</td>\n",
       "      <td>NaN</td>\n",
       "      <td>NaN</td>\n",
       "      <td>NaN</td>\n",
       "      <td>NaN</td>\n",
       "      <td>NaN</td>\n",
       "      <td>NaN</td>\n",
       "      <td>...</td>\n",
       "      <td>NaN</td>\n",
       "      <td>NaN</td>\n",
       "      <td>NaN</td>\n",
       "      <td>NaN</td>\n",
       "      <td>NaN</td>\n",
       "      <td>NaN</td>\n",
       "      <td>NaN</td>\n",
       "      <td>NaN</td>\n",
       "      <td>NaN</td>\n",
       "      <td>NaN</td>\n",
       "    </tr>\n",
       "    <tr>\n",
       "      <th>7867</th>\n",
       "      <td>000c428be17ead5d2e0bea5db86a67f7203</td>\n",
       "      <td>202103.0</td>\n",
       "      <td>NaN</td>\n",
       "      <td>NaN</td>\n",
       "      <td>NaN</td>\n",
       "      <td>NaN</td>\n",
       "      <td>NaN</td>\n",
       "      <td>NaN</td>\n",
       "      <td>NaN</td>\n",
       "      <td>NaN</td>\n",
       "      <td>...</td>\n",
       "      <td>NaN</td>\n",
       "      <td>NaN</td>\n",
       "      <td>NaN</td>\n",
       "      <td>NaN</td>\n",
       "      <td>NaN</td>\n",
       "      <td>NaN</td>\n",
       "      <td>NaN</td>\n",
       "      <td>NaN</td>\n",
       "      <td>NaN</td>\n",
       "      <td>NaN</td>\n",
       "    </tr>\n",
       "    <tr>\n",
       "      <th>7868</th>\n",
       "      <td>000c428be17ead5d2e0bea5db86a67f7203</td>\n",
       "      <td>202104.0</td>\n",
       "      <td>NaN</td>\n",
       "      <td>NaN</td>\n",
       "      <td>NaN</td>\n",
       "      <td>NaN</td>\n",
       "      <td>NaN</td>\n",
       "      <td>NaN</td>\n",
       "      <td>NaN</td>\n",
       "      <td>NaN</td>\n",
       "      <td>...</td>\n",
       "      <td>NaN</td>\n",
       "      <td>NaN</td>\n",
       "      <td>NaN</td>\n",
       "      <td>NaN</td>\n",
       "      <td>NaN</td>\n",
       "      <td>NaN</td>\n",
       "      <td>NaN</td>\n",
       "      <td>NaN</td>\n",
       "      <td>NaN</td>\n",
       "      <td>NaN</td>\n",
       "    </tr>\n",
       "    <tr>\n",
       "      <th>7869</th>\n",
       "      <td>000c428be17ead5d2e0bea5db86a67f7203</td>\n",
       "      <td>202105.0</td>\n",
       "      <td>NaN</td>\n",
       "      <td>NaN</td>\n",
       "      <td>NaN</td>\n",
       "      <td>NaN</td>\n",
       "      <td>NaN</td>\n",
       "      <td>NaN</td>\n",
       "      <td>NaN</td>\n",
       "      <td>NaN</td>\n",
       "      <td>...</td>\n",
       "      <td>NaN</td>\n",
       "      <td>NaN</td>\n",
       "      <td>NaN</td>\n",
       "      <td>NaN</td>\n",
       "      <td>NaN</td>\n",
       "      <td>NaN</td>\n",
       "      <td>NaN</td>\n",
       "      <td>NaN</td>\n",
       "      <td>NaN</td>\n",
       "      <td>NaN</td>\n",
       "    </tr>\n",
       "    <tr>\n",
       "      <th>7870</th>\n",
       "      <td>000c428be17ead5d2e0bea5db86a67f7203</td>\n",
       "      <td>202007.0</td>\n",
       "      <td>NaN</td>\n",
       "      <td>NaN</td>\n",
       "      <td>NaN</td>\n",
       "      <td>NaN</td>\n",
       "      <td>NaN</td>\n",
       "      <td>NaN</td>\n",
       "      <td>NaN</td>\n",
       "      <td>NaN</td>\n",
       "      <td>...</td>\n",
       "      <td>NaN</td>\n",
       "      <td>NaN</td>\n",
       "      <td>NaN</td>\n",
       "      <td>NaN</td>\n",
       "      <td>NaN</td>\n",
       "      <td>NaN</td>\n",
       "      <td>NaN</td>\n",
       "      <td>NaN</td>\n",
       "      <td>NaN</td>\n",
       "      <td>NaN</td>\n",
       "    </tr>\n",
       "    <tr>\n",
       "      <th>7871</th>\n",
       "      <td>000c428be17ead5d2e0bea5db86a67f7203</td>\n",
       "      <td>202106.0</td>\n",
       "      <td>NaN</td>\n",
       "      <td>NaN</td>\n",
       "      <td>NaN</td>\n",
       "      <td>NaN</td>\n",
       "      <td>NaN</td>\n",
       "      <td>NaN</td>\n",
       "      <td>NaN</td>\n",
       "      <td>NaN</td>\n",
       "      <td>...</td>\n",
       "      <td>NaN</td>\n",
       "      <td>NaN</td>\n",
       "      <td>NaN</td>\n",
       "      <td>NaN</td>\n",
       "      <td>NaN</td>\n",
       "      <td>NaN</td>\n",
       "      <td>NaN</td>\n",
       "      <td>NaN</td>\n",
       "      <td>NaN</td>\n",
       "      <td>NaN</td>\n",
       "    </tr>\n",
       "  </tbody>\n",
       "</table>\n",
       "<p>13 rows × 55 columns</p>\n",
       "</div>"
      ],
      "text/plain": [
       "                   dni_titular_movimiento  anio_mes_cupon  edad_cliente  \\\n",
       "5962  000c428be17ead5d2e0bea5db86a67f7203        202104.0          41.0   \n",
       "7860  000c428be17ead5d2e0bea5db86a67f7203        202008.0           NaN   \n",
       "7861  000c428be17ead5d2e0bea5db86a67f7203        202009.0           NaN   \n",
       "7862  000c428be17ead5d2e0bea5db86a67f7203        202010.0           NaN   \n",
       "7863  000c428be17ead5d2e0bea5db86a67f7203        202011.0           NaN   \n",
       "7864  000c428be17ead5d2e0bea5db86a67f7203        202012.0           NaN   \n",
       "7865  000c428be17ead5d2e0bea5db86a67f7203        202101.0           NaN   \n",
       "7866  000c428be17ead5d2e0bea5db86a67f7203        202102.0           NaN   \n",
       "7867  000c428be17ead5d2e0bea5db86a67f7203        202103.0           NaN   \n",
       "7868  000c428be17ead5d2e0bea5db86a67f7203        202104.0           NaN   \n",
       "7869  000c428be17ead5d2e0bea5db86a67f7203        202105.0           NaN   \n",
       "7870  000c428be17ead5d2e0bea5db86a67f7203        202007.0           NaN   \n",
       "7871  000c428be17ead5d2e0bea5db86a67f7203        202106.0           NaN   \n",
       "\n",
       "      antig_cliente  client__x0_Hombre  client__x0_Mujer  \\\n",
       "5962            1.0                0.0               1.0   \n",
       "7860            NaN                NaN               NaN   \n",
       "7861            NaN                NaN               NaN   \n",
       "7862            NaN                NaN               NaN   \n",
       "7863            NaN                NaN               NaN   \n",
       "7864            NaN                NaN               NaN   \n",
       "7865            NaN                NaN               NaN   \n",
       "7866            NaN                NaN               NaN   \n",
       "7867            NaN                NaN               NaN   \n",
       "7868            NaN                NaN               NaN   \n",
       "7869            NaN                NaN               NaN   \n",
       "7870            NaN                NaN               NaN   \n",
       "7871            NaN                NaN               NaN   \n",
       "\n",
       "      client__x0_Sin Datos  client__x1_Sector_Educativo  \\\n",
       "5962                   0.0                          0.0   \n",
       "7860                   NaN                          NaN   \n",
       "7861                   NaN                          NaN   \n",
       "7862                   NaN                          NaN   \n",
       "7863                   NaN                          NaN   \n",
       "7864                   NaN                          NaN   \n",
       "7865                   NaN                          NaN   \n",
       "7866                   NaN                          NaN   \n",
       "7867                   NaN                          NaN   \n",
       "7868                   NaN                          NaN   \n",
       "7869                   NaN                          NaN   \n",
       "7870                   NaN                          NaN   \n",
       "7871                   NaN                          NaN   \n",
       "\n",
       "      client__x1_Sector_Empleado_Comercio  client__x1_Sector_Financiero  ...  \\\n",
       "5962                                  0.0                           0.0  ...   \n",
       "7860                                  NaN                           NaN  ...   \n",
       "7861                                  NaN                           NaN  ...   \n",
       "7862                                  NaN                           NaN  ...   \n",
       "7863                                  NaN                           NaN  ...   \n",
       "7864                                  NaN                           NaN  ...   \n",
       "7865                                  NaN                           NaN  ...   \n",
       "7866                                  NaN                           NaN  ...   \n",
       "7867                                  NaN                           NaN  ...   \n",
       "7868                                  NaN                           NaN  ...   \n",
       "7869                                  NaN                           NaN  ...   \n",
       "7870                                  NaN                           NaN  ...   \n",
       "7871                                  NaN                           NaN  ...   \n",
       "\n",
       "      trans__x3_1  trans__x3_2  trans__x3_3  trans__x3_4  trans__x3_5  \\\n",
       "5962          7.0          0.0          0.0          0.0          0.0   \n",
       "7860          NaN          NaN          NaN          NaN          NaN   \n",
       "7861          NaN          NaN          NaN          NaN          NaN   \n",
       "7862          NaN          NaN          NaN          NaN          NaN   \n",
       "7863          NaN          NaN          NaN          NaN          NaN   \n",
       "7864          NaN          NaN          NaN          NaN          NaN   \n",
       "7865          NaN          NaN          NaN          NaN          NaN   \n",
       "7866          NaN          NaN          NaN          NaN          NaN   \n",
       "7867          NaN          NaN          NaN          NaN          NaN   \n",
       "7868          NaN          NaN          NaN          NaN          NaN   \n",
       "7869          NaN          NaN          NaN          NaN          NaN   \n",
       "7870          NaN          NaN          NaN          NaN          NaN   \n",
       "7871          NaN          NaN          NaN          NaN          NaN   \n",
       "\n",
       "      trans__x3_6  trans__x3_7  trans__x3_8  trans__x3_9  monto_ajustado  \n",
       "5962          0.0          0.0          0.0          0.0        16782.35  \n",
       "7860          NaN          NaN          NaN          NaN             NaN  \n",
       "7861          NaN          NaN          NaN          NaN             NaN  \n",
       "7862          NaN          NaN          NaN          NaN             NaN  \n",
       "7863          NaN          NaN          NaN          NaN             NaN  \n",
       "7864          NaN          NaN          NaN          NaN             NaN  \n",
       "7865          NaN          NaN          NaN          NaN             NaN  \n",
       "7866          NaN          NaN          NaN          NaN             NaN  \n",
       "7867          NaN          NaN          NaN          NaN             NaN  \n",
       "7868          NaN          NaN          NaN          NaN             NaN  \n",
       "7869          NaN          NaN          NaN          NaN             NaN  \n",
       "7870          NaN          NaN          NaN          NaN             NaN  \n",
       "7871          NaN          NaN          NaN          NaN             NaN  \n",
       "\n",
       "[13 rows x 55 columns]"
      ]
     },
     "execution_count": 101,
     "metadata": {},
     "output_type": "execute_result"
    }
   ],
   "source": [
    "prueba[prueba['dni_titular_movimiento']=='000c428be17ead5d2e0bea5db86a67f7203']"
   ]
  },
  {
   "cell_type": "code",
   "execution_count": 89,
   "id": "104de220-ca21-4d18-b680-8af1e239db05",
   "metadata": {
    "tags": []
   },
   "outputs": [
    {
     "ename": "NotImplementedError",
     "evalue": "isna is not defined for MultiIndex",
     "output_type": "error",
     "traceback": [
      "\u001b[1;31m---------------------------------------------------------------------------\u001b[0m",
      "\u001b[1;31mNotImplementedError\u001b[0m                       Traceback (most recent call last)",
      "\u001b[1;32m~\\AppData\\Local\\Temp/ipykernel_8956/584654135.py\u001b[0m in \u001b[0;36m<module>\u001b[1;34m\u001b[0m\n\u001b[1;32m----> 1\u001b[1;33m pd.MultiIndex.from_product([df_copy.index.unique()],\n\u001b[0m\u001b[0;32m      2\u001b[0m                            names=['dni','mes']).reset_index(level=1)\n",
      "\u001b[1;32m~\\AppData\\Roaming\\Python\\Python39\\site-packages\\pandas\\core\\indexes\\multi.py\u001b[0m in \u001b[0;36mfrom_product\u001b[1;34m(cls, iterables, sortorder, names)\u001b[0m\n\u001b[0;32m    613\u001b[0m             \u001b[0miterables\u001b[0m \u001b[1;33m=\u001b[0m \u001b[0mlist\u001b[0m\u001b[1;33m(\u001b[0m\u001b[0miterables\u001b[0m\u001b[1;33m)\u001b[0m\u001b[1;33m\u001b[0m\u001b[1;33m\u001b[0m\u001b[0m\n\u001b[0;32m    614\u001b[0m \u001b[1;33m\u001b[0m\u001b[0m\n\u001b[1;32m--> 615\u001b[1;33m         \u001b[0mcodes\u001b[0m\u001b[1;33m,\u001b[0m \u001b[0mlevels\u001b[0m \u001b[1;33m=\u001b[0m \u001b[0mfactorize_from_iterables\u001b[0m\u001b[1;33m(\u001b[0m\u001b[0miterables\u001b[0m\u001b[1;33m)\u001b[0m\u001b[1;33m\u001b[0m\u001b[1;33m\u001b[0m\u001b[0m\n\u001b[0m\u001b[0;32m    616\u001b[0m         \u001b[1;32mif\u001b[0m \u001b[0mnames\u001b[0m \u001b[1;32mis\u001b[0m \u001b[0mlib\u001b[0m\u001b[1;33m.\u001b[0m\u001b[0mno_default\u001b[0m\u001b[1;33m:\u001b[0m\u001b[1;33m\u001b[0m\u001b[1;33m\u001b[0m\u001b[0m\n\u001b[0;32m    617\u001b[0m             \u001b[0mnames\u001b[0m \u001b[1;33m=\u001b[0m \u001b[1;33m[\u001b[0m\u001b[0mgetattr\u001b[0m\u001b[1;33m(\u001b[0m\u001b[0mit\u001b[0m\u001b[1;33m,\u001b[0m \u001b[1;34m\"name\"\u001b[0m\u001b[1;33m,\u001b[0m \u001b[1;32mNone\u001b[0m\u001b[1;33m)\u001b[0m \u001b[1;32mfor\u001b[0m \u001b[0mit\u001b[0m \u001b[1;32min\u001b[0m \u001b[0miterables\u001b[0m\u001b[1;33m]\u001b[0m\u001b[1;33m\u001b[0m\u001b[1;33m\u001b[0m\u001b[0m\n",
      "\u001b[1;32m~\\AppData\\Roaming\\Python\\Python39\\site-packages\\pandas\\core\\arrays\\categorical.py\u001b[0m in \u001b[0;36mfactorize_from_iterables\u001b[1;34m(iterables)\u001b[0m\n\u001b[0;32m   2779\u001b[0m         \u001b[1;32mreturn\u001b[0m \u001b[1;33m[\u001b[0m\u001b[1;33m]\u001b[0m\u001b[1;33m,\u001b[0m \u001b[1;33m[\u001b[0m\u001b[1;33m]\u001b[0m\u001b[1;33m\u001b[0m\u001b[1;33m\u001b[0m\u001b[0m\n\u001b[0;32m   2780\u001b[0m \u001b[1;33m\u001b[0m\u001b[0m\n\u001b[1;32m-> 2781\u001b[1;33m     \u001b[0mcodes\u001b[0m\u001b[1;33m,\u001b[0m \u001b[0mcategories\u001b[0m \u001b[1;33m=\u001b[0m \u001b[0mzip\u001b[0m\u001b[1;33m(\u001b[0m\u001b[1;33m*\u001b[0m\u001b[1;33m(\u001b[0m\u001b[0mfactorize_from_iterable\u001b[0m\u001b[1;33m(\u001b[0m\u001b[0mit\u001b[0m\u001b[1;33m)\u001b[0m \u001b[1;32mfor\u001b[0m \u001b[0mit\u001b[0m \u001b[1;32min\u001b[0m \u001b[0miterables\u001b[0m\u001b[1;33m)\u001b[0m\u001b[1;33m)\u001b[0m\u001b[1;33m\u001b[0m\u001b[1;33m\u001b[0m\u001b[0m\n\u001b[0m\u001b[0;32m   2782\u001b[0m     \u001b[1;32mreturn\u001b[0m \u001b[0mlist\u001b[0m\u001b[1;33m(\u001b[0m\u001b[0mcodes\u001b[0m\u001b[1;33m)\u001b[0m\u001b[1;33m,\u001b[0m \u001b[0mlist\u001b[0m\u001b[1;33m(\u001b[0m\u001b[0mcategories\u001b[0m\u001b[1;33m)\u001b[0m\u001b[1;33m\u001b[0m\u001b[1;33m\u001b[0m\u001b[0m\n",
      "\u001b[1;32m~\\AppData\\Roaming\\Python\\Python39\\site-packages\\pandas\\core\\arrays\\categorical.py\u001b[0m in \u001b[0;36m<genexpr>\u001b[1;34m(.0)\u001b[0m\n\u001b[0;32m   2779\u001b[0m         \u001b[1;32mreturn\u001b[0m \u001b[1;33m[\u001b[0m\u001b[1;33m]\u001b[0m\u001b[1;33m,\u001b[0m \u001b[1;33m[\u001b[0m\u001b[1;33m]\u001b[0m\u001b[1;33m\u001b[0m\u001b[1;33m\u001b[0m\u001b[0m\n\u001b[0;32m   2780\u001b[0m \u001b[1;33m\u001b[0m\u001b[0m\n\u001b[1;32m-> 2781\u001b[1;33m     \u001b[0mcodes\u001b[0m\u001b[1;33m,\u001b[0m \u001b[0mcategories\u001b[0m \u001b[1;33m=\u001b[0m \u001b[0mzip\u001b[0m\u001b[1;33m(\u001b[0m\u001b[1;33m*\u001b[0m\u001b[1;33m(\u001b[0m\u001b[0mfactorize_from_iterable\u001b[0m\u001b[1;33m(\u001b[0m\u001b[0mit\u001b[0m\u001b[1;33m)\u001b[0m \u001b[1;32mfor\u001b[0m \u001b[0mit\u001b[0m \u001b[1;32min\u001b[0m \u001b[0miterables\u001b[0m\u001b[1;33m)\u001b[0m\u001b[1;33m)\u001b[0m\u001b[1;33m\u001b[0m\u001b[1;33m\u001b[0m\u001b[0m\n\u001b[0m\u001b[0;32m   2782\u001b[0m     \u001b[1;32mreturn\u001b[0m \u001b[0mlist\u001b[0m\u001b[1;33m(\u001b[0m\u001b[0mcodes\u001b[0m\u001b[1;33m)\u001b[0m\u001b[1;33m,\u001b[0m \u001b[0mlist\u001b[0m\u001b[1;33m(\u001b[0m\u001b[0mcategories\u001b[0m\u001b[1;33m)\u001b[0m\u001b[1;33m\u001b[0m\u001b[1;33m\u001b[0m\u001b[0m\n",
      "\u001b[1;32m~\\AppData\\Roaming\\Python\\Python39\\site-packages\\pandas\\core\\arrays\\categorical.py\u001b[0m in \u001b[0;36mfactorize_from_iterable\u001b[1;34m(values)\u001b[0m\n\u001b[0;32m   2752\u001b[0m         \u001b[1;31m# but only the resulting categories, the order of which is independent\u001b[0m\u001b[1;33m\u001b[0m\u001b[1;33m\u001b[0m\u001b[1;33m\u001b[0m\u001b[0m\n\u001b[0;32m   2753\u001b[0m         \u001b[1;31m# from ordered. Set ordered to False as default. See GH #15457\u001b[0m\u001b[1;33m\u001b[0m\u001b[1;33m\u001b[0m\u001b[1;33m\u001b[0m\u001b[0m\n\u001b[1;32m-> 2754\u001b[1;33m         \u001b[0mcat\u001b[0m \u001b[1;33m=\u001b[0m \u001b[0mCategorical\u001b[0m\u001b[1;33m(\u001b[0m\u001b[0mvalues\u001b[0m\u001b[1;33m,\u001b[0m \u001b[0mordered\u001b[0m\u001b[1;33m=\u001b[0m\u001b[1;32mFalse\u001b[0m\u001b[1;33m)\u001b[0m\u001b[1;33m\u001b[0m\u001b[1;33m\u001b[0m\u001b[0m\n\u001b[0m\u001b[0;32m   2755\u001b[0m         \u001b[0mcategories\u001b[0m \u001b[1;33m=\u001b[0m \u001b[0mcat\u001b[0m\u001b[1;33m.\u001b[0m\u001b[0mcategories\u001b[0m\u001b[1;33m\u001b[0m\u001b[1;33m\u001b[0m\u001b[0m\n\u001b[0;32m   2756\u001b[0m         \u001b[0mcodes\u001b[0m \u001b[1;33m=\u001b[0m \u001b[0mcat\u001b[0m\u001b[1;33m.\u001b[0m\u001b[0mcodes\u001b[0m\u001b[1;33m\u001b[0m\u001b[1;33m\u001b[0m\u001b[0m\n",
      "\u001b[1;32m~\\AppData\\Roaming\\Python\\Python39\\site-packages\\pandas\\core\\arrays\\categorical.py\u001b[0m in \u001b[0;36m__init__\u001b[1;34m(self, values, categories, ordered, dtype, fastpath, copy)\u001b[0m\n\u001b[0;32m    442\u001b[0m \u001b[1;33m\u001b[0m\u001b[0m\n\u001b[0;32m    443\u001b[0m             \u001b[1;31m# we're inferring from values\u001b[0m\u001b[1;33m\u001b[0m\u001b[1;33m\u001b[0m\u001b[1;33m\u001b[0m\u001b[0m\n\u001b[1;32m--> 444\u001b[1;33m             \u001b[0mdtype\u001b[0m \u001b[1;33m=\u001b[0m \u001b[0mCategoricalDtype\u001b[0m\u001b[1;33m(\u001b[0m\u001b[0mcategories\u001b[0m\u001b[1;33m,\u001b[0m \u001b[0mdtype\u001b[0m\u001b[1;33m.\u001b[0m\u001b[0mordered\u001b[0m\u001b[1;33m)\u001b[0m\u001b[1;33m\u001b[0m\u001b[1;33m\u001b[0m\u001b[0m\n\u001b[0m\u001b[0;32m    445\u001b[0m \u001b[1;33m\u001b[0m\u001b[0m\n\u001b[0;32m    446\u001b[0m         \u001b[1;32melif\u001b[0m \u001b[0mis_categorical_dtype\u001b[0m\u001b[1;33m(\u001b[0m\u001b[0mvalues\u001b[0m\u001b[1;33m.\u001b[0m\u001b[0mdtype\u001b[0m\u001b[1;33m)\u001b[0m\u001b[1;33m:\u001b[0m\u001b[1;33m\u001b[0m\u001b[1;33m\u001b[0m\u001b[0m\n",
      "\u001b[1;32m~\\AppData\\Roaming\\Python\\Python39\\site-packages\\pandas\\core\\dtypes\\dtypes.py\u001b[0m in \u001b[0;36m__init__\u001b[1;34m(self, categories, ordered)\u001b[0m\n\u001b[0;32m    181\u001b[0m \u001b[1;33m\u001b[0m\u001b[0m\n\u001b[0;32m    182\u001b[0m     \u001b[1;32mdef\u001b[0m \u001b[0m__init__\u001b[0m\u001b[1;33m(\u001b[0m\u001b[0mself\u001b[0m\u001b[1;33m,\u001b[0m \u001b[0mcategories\u001b[0m\u001b[1;33m=\u001b[0m\u001b[1;32mNone\u001b[0m\u001b[1;33m,\u001b[0m \u001b[0mordered\u001b[0m\u001b[1;33m:\u001b[0m \u001b[0mOrdered\u001b[0m \u001b[1;33m=\u001b[0m \u001b[1;32mFalse\u001b[0m\u001b[1;33m)\u001b[0m\u001b[1;33m:\u001b[0m\u001b[1;33m\u001b[0m\u001b[1;33m\u001b[0m\u001b[0m\n\u001b[1;32m--> 183\u001b[1;33m         \u001b[0mself\u001b[0m\u001b[1;33m.\u001b[0m\u001b[0m_finalize\u001b[0m\u001b[1;33m(\u001b[0m\u001b[0mcategories\u001b[0m\u001b[1;33m,\u001b[0m \u001b[0mordered\u001b[0m\u001b[1;33m,\u001b[0m \u001b[0mfastpath\u001b[0m\u001b[1;33m=\u001b[0m\u001b[1;32mFalse\u001b[0m\u001b[1;33m)\u001b[0m\u001b[1;33m\u001b[0m\u001b[1;33m\u001b[0m\u001b[0m\n\u001b[0m\u001b[0;32m    184\u001b[0m \u001b[1;33m\u001b[0m\u001b[0m\n\u001b[0;32m    185\u001b[0m     \u001b[1;33m@\u001b[0m\u001b[0mclassmethod\u001b[0m\u001b[1;33m\u001b[0m\u001b[1;33m\u001b[0m\u001b[0m\n",
      "\u001b[1;32m~\\AppData\\Roaming\\Python\\Python39\\site-packages\\pandas\\core\\dtypes\\dtypes.py\u001b[0m in \u001b[0;36m_finalize\u001b[1;34m(self, categories, ordered, fastpath)\u001b[0m\n\u001b[0;32m    335\u001b[0m \u001b[1;33m\u001b[0m\u001b[0m\n\u001b[0;32m    336\u001b[0m         \u001b[1;32mif\u001b[0m \u001b[0mcategories\u001b[0m \u001b[1;32mis\u001b[0m \u001b[1;32mnot\u001b[0m \u001b[1;32mNone\u001b[0m\u001b[1;33m:\u001b[0m\u001b[1;33m\u001b[0m\u001b[1;33m\u001b[0m\u001b[0m\n\u001b[1;32m--> 337\u001b[1;33m             \u001b[0mcategories\u001b[0m \u001b[1;33m=\u001b[0m \u001b[0mself\u001b[0m\u001b[1;33m.\u001b[0m\u001b[0mvalidate_categories\u001b[0m\u001b[1;33m(\u001b[0m\u001b[0mcategories\u001b[0m\u001b[1;33m,\u001b[0m \u001b[0mfastpath\u001b[0m\u001b[1;33m=\u001b[0m\u001b[0mfastpath\u001b[0m\u001b[1;33m)\u001b[0m\u001b[1;33m\u001b[0m\u001b[1;33m\u001b[0m\u001b[0m\n\u001b[0m\u001b[0;32m    338\u001b[0m \u001b[1;33m\u001b[0m\u001b[0m\n\u001b[0;32m    339\u001b[0m         \u001b[0mself\u001b[0m\u001b[1;33m.\u001b[0m\u001b[0m_categories\u001b[0m \u001b[1;33m=\u001b[0m \u001b[0mcategories\u001b[0m\u001b[1;33m\u001b[0m\u001b[1;33m\u001b[0m\u001b[0m\n",
      "\u001b[1;32m~\\AppData\\Roaming\\Python\\Python39\\site-packages\\pandas\\core\\dtypes\\dtypes.py\u001b[0m in \u001b[0;36mvalidate_categories\u001b[1;34m(categories, fastpath)\u001b[0m\n\u001b[0;32m    534\u001b[0m         \u001b[1;32mif\u001b[0m \u001b[1;32mnot\u001b[0m \u001b[0mfastpath\u001b[0m\u001b[1;33m:\u001b[0m\u001b[1;33m\u001b[0m\u001b[1;33m\u001b[0m\u001b[0m\n\u001b[0;32m    535\u001b[0m \u001b[1;33m\u001b[0m\u001b[0m\n\u001b[1;32m--> 536\u001b[1;33m             \u001b[1;32mif\u001b[0m \u001b[0mcategories\u001b[0m\u001b[1;33m.\u001b[0m\u001b[0mhasnans\u001b[0m\u001b[1;33m:\u001b[0m\u001b[1;33m\u001b[0m\u001b[1;33m\u001b[0m\u001b[0m\n\u001b[0m\u001b[0;32m    537\u001b[0m                 \u001b[1;32mraise\u001b[0m \u001b[0mValueError\u001b[0m\u001b[1;33m(\u001b[0m\u001b[1;34m\"Categorical categories cannot be null\"\u001b[0m\u001b[1;33m)\u001b[0m\u001b[1;33m\u001b[0m\u001b[1;33m\u001b[0m\u001b[0m\n\u001b[0;32m    538\u001b[0m \u001b[1;33m\u001b[0m\u001b[0m\n",
      "\u001b[1;32m~\\AppData\\Roaming\\Python\\Python39\\site-packages\\pandas\\_libs\\properties.pyx\u001b[0m in \u001b[0;36mpandas._libs.properties.CachedProperty.__get__\u001b[1;34m()\u001b[0m\n",
      "\u001b[1;32m~\\AppData\\Roaming\\Python\\Python39\\site-packages\\pandas\\core\\indexes\\base.py\u001b[0m in \u001b[0;36mhasnans\u001b[1;34m(self)\u001b[0m\n\u001b[0;32m   2448\u001b[0m         \"\"\"\n\u001b[0;32m   2449\u001b[0m         \u001b[1;32mif\u001b[0m \u001b[0mself\u001b[0m\u001b[1;33m.\u001b[0m\u001b[0m_can_hold_na\u001b[0m\u001b[1;33m:\u001b[0m\u001b[1;33m\u001b[0m\u001b[1;33m\u001b[0m\u001b[0m\n\u001b[1;32m-> 2450\u001b[1;33m             \u001b[1;32mreturn\u001b[0m \u001b[0mbool\u001b[0m\u001b[1;33m(\u001b[0m\u001b[0mself\u001b[0m\u001b[1;33m.\u001b[0m\u001b[0m_isnan\u001b[0m\u001b[1;33m.\u001b[0m\u001b[0many\u001b[0m\u001b[1;33m(\u001b[0m\u001b[1;33m)\u001b[0m\u001b[1;33m)\u001b[0m\u001b[1;33m\u001b[0m\u001b[1;33m\u001b[0m\u001b[0m\n\u001b[0m\u001b[0;32m   2451\u001b[0m         \u001b[1;32melse\u001b[0m\u001b[1;33m:\u001b[0m\u001b[1;33m\u001b[0m\u001b[1;33m\u001b[0m\u001b[0m\n\u001b[0;32m   2452\u001b[0m             \u001b[1;32mreturn\u001b[0m \u001b[1;32mFalse\u001b[0m\u001b[1;33m\u001b[0m\u001b[1;33m\u001b[0m\u001b[0m\n",
      "\u001b[1;32m~\\AppData\\Roaming\\Python\\Python39\\site-packages\\pandas\\_libs\\properties.pyx\u001b[0m in \u001b[0;36mpandas._libs.properties.CachedProperty.__get__\u001b[1;34m()\u001b[0m\n",
      "\u001b[1;32m~\\AppData\\Roaming\\Python\\Python39\\site-packages\\pandas\\core\\indexes\\base.py\u001b[0m in \u001b[0;36m_isnan\u001b[1;34m(self)\u001b[0m\n\u001b[0;32m   2435\u001b[0m         \"\"\"\n\u001b[0;32m   2436\u001b[0m         \u001b[1;32mif\u001b[0m \u001b[0mself\u001b[0m\u001b[1;33m.\u001b[0m\u001b[0m_can_hold_na\u001b[0m\u001b[1;33m:\u001b[0m\u001b[1;33m\u001b[0m\u001b[1;33m\u001b[0m\u001b[0m\n\u001b[1;32m-> 2437\u001b[1;33m             \u001b[1;32mreturn\u001b[0m \u001b[0misna\u001b[0m\u001b[1;33m(\u001b[0m\u001b[0mself\u001b[0m\u001b[1;33m)\u001b[0m\u001b[1;33m\u001b[0m\u001b[1;33m\u001b[0m\u001b[0m\n\u001b[0m\u001b[0;32m   2438\u001b[0m         \u001b[1;32melse\u001b[0m\u001b[1;33m:\u001b[0m\u001b[1;33m\u001b[0m\u001b[1;33m\u001b[0m\u001b[0m\n\u001b[0;32m   2439\u001b[0m             \u001b[1;31m# shouldn't reach to this condition by checking hasnans beforehand\u001b[0m\u001b[1;33m\u001b[0m\u001b[1;33m\u001b[0m\u001b[1;33m\u001b[0m\u001b[0m\n",
      "\u001b[1;32m~\\AppData\\Roaming\\Python\\Python39\\site-packages\\pandas\\core\\dtypes\\missing.py\u001b[0m in \u001b[0;36misna\u001b[1;34m(obj)\u001b[0m\n\u001b[0;32m    136\u001b[0m     \u001b[0mName\u001b[0m\u001b[1;33m:\u001b[0m \u001b[1;36m1\u001b[0m\u001b[1;33m,\u001b[0m \u001b[0mdtype\u001b[0m\u001b[1;33m:\u001b[0m \u001b[0mbool\u001b[0m\u001b[1;33m\u001b[0m\u001b[1;33m\u001b[0m\u001b[0m\n\u001b[0;32m    137\u001b[0m     \"\"\"\n\u001b[1;32m--> 138\u001b[1;33m     \u001b[1;32mreturn\u001b[0m \u001b[0m_isna\u001b[0m\u001b[1;33m(\u001b[0m\u001b[0mobj\u001b[0m\u001b[1;33m)\u001b[0m\u001b[1;33m\u001b[0m\u001b[1;33m\u001b[0m\u001b[0m\n\u001b[0m\u001b[0;32m    139\u001b[0m \u001b[1;33m\u001b[0m\u001b[0m\n\u001b[0;32m    140\u001b[0m \u001b[1;33m\u001b[0m\u001b[0m\n",
      "\u001b[1;32m~\\AppData\\Roaming\\Python\\Python39\\site-packages\\pandas\\core\\dtypes\\missing.py\u001b[0m in \u001b[0;36m_isna\u001b[1;34m(obj, inf_as_na)\u001b[0m\n\u001b[0;32m    165\u001b[0m     \u001b[1;31m# hack (for now) because MI registers as ndarray\u001b[0m\u001b[1;33m\u001b[0m\u001b[1;33m\u001b[0m\u001b[1;33m\u001b[0m\u001b[0m\n\u001b[0;32m    166\u001b[0m     \u001b[1;32melif\u001b[0m \u001b[0misinstance\u001b[0m\u001b[1;33m(\u001b[0m\u001b[0mobj\u001b[0m\u001b[1;33m,\u001b[0m \u001b[0mABCMultiIndex\u001b[0m\u001b[1;33m)\u001b[0m\u001b[1;33m:\u001b[0m\u001b[1;33m\u001b[0m\u001b[1;33m\u001b[0m\u001b[0m\n\u001b[1;32m--> 167\u001b[1;33m         \u001b[1;32mraise\u001b[0m \u001b[0mNotImplementedError\u001b[0m\u001b[1;33m(\u001b[0m\u001b[1;34m\"isna is not defined for MultiIndex\"\u001b[0m\u001b[1;33m)\u001b[0m\u001b[1;33m\u001b[0m\u001b[1;33m\u001b[0m\u001b[0m\n\u001b[0m\u001b[0;32m    168\u001b[0m     \u001b[1;32melif\u001b[0m \u001b[0misinstance\u001b[0m\u001b[1;33m(\u001b[0m\u001b[0mobj\u001b[0m\u001b[1;33m,\u001b[0m \u001b[0mtype\u001b[0m\u001b[1;33m)\u001b[0m\u001b[1;33m:\u001b[0m\u001b[1;33m\u001b[0m\u001b[1;33m\u001b[0m\u001b[0m\n\u001b[0;32m    169\u001b[0m         \u001b[1;32mreturn\u001b[0m \u001b[1;32mFalse\u001b[0m\u001b[1;33m\u001b[0m\u001b[1;33m\u001b[0m\u001b[0m\n",
      "\u001b[1;31mNotImplementedError\u001b[0m: isna is not defined for MultiIndex"
     ]
    }
   ],
   "source": [
    "pd.MultiIndex.from_product([df_copy.index.unique()],\n",
    "                           names=['dni','mes']).reset_index(level=1)"
   ]
  },
  {
   "cell_type": "code",
   "execution_count": 83,
   "id": "e74c5e18-8d55-460f-b4b3-04811ca16de0",
   "metadata": {},
   "outputs": [
    {
     "data": {
      "text/plain": [
       "MultiIndex([('000000b5aea2c9ea7cc155f6ebcef97f826', 202008.0),\n",
       "            ('000000b5aea2c9ea7cc155f6ebcef97f826', 202009.0),\n",
       "            ('000000b5aea2c9ea7cc155f6ebcef97f826', 202010.0),\n",
       "            ('000000b5aea2c9ea7cc155f6ebcef97f826', 202011.0),\n",
       "            ('000000b5aea2c9ea7cc155f6ebcef97f826', 202012.0),\n",
       "            ('000000b5aea2c9ea7cc155f6ebcef97f826', 202101.0),\n",
       "            ('000000b5aea2c9ea7cc155f6ebcef97f826', 202102.0),\n",
       "            ('000000b5aea2c9ea7cc155f6ebcef97f826', 202103.0),\n",
       "            ('000000b5aea2c9ea7cc155f6ebcef97f826', 202104.0),\n",
       "            ('000000b5aea2c9ea7cc155f6ebcef97f826', 202105.0),\n",
       "            ...\n",
       "            ('000f0b73ebfa002a79a0642b82e87919904', 202008.0),\n",
       "            ('000f0b73ebfa002a79a0642b82e87919904', 202009.0),\n",
       "            ('000f0b73ebfa002a79a0642b82e87919904', 202010.0),\n",
       "            ('000f0b73ebfa002a79a0642b82e87919904', 202011.0),\n",
       "            ('000f0b73ebfa002a79a0642b82e87919904', 202012.0),\n",
       "            ('000f0b73ebfa002a79a0642b82e87919904', 202101.0),\n",
       "            ('000f0b73ebfa002a79a0642b82e87919904', 202102.0),\n",
       "            ('000f0b73ebfa002a79a0642b82e87919904', 202103.0),\n",
       "            ('000f0b73ebfa002a79a0642b82e87919904', 202104.0),\n",
       "            ('000f0b73ebfa002a79a0642b82e87919904', 202105.0)],\n",
       "           names=['dni_titular_movimiento', 'anio_mes_cupon'], length=7443)"
      ]
     },
     "execution_count": 83,
     "metadata": {},
     "output_type": "execute_result"
    }
   ],
   "source": [
    "df_copy.index.unique()"
   ]
  },
  {
   "cell_type": "code",
   "execution_count": null,
   "id": "11ccfbc6-6e2a-4994-ad1b-4b147a31e6bc",
   "metadata": {},
   "outputs": [],
   "source": []
  },
  {
   "cell_type": "code",
   "execution_count": 46,
   "id": "bc12d51e-6423-4b08-9edb-e128a64e57c0",
   "metadata": {},
   "outputs": [
    {
     "data": {
      "text/plain": [
       "array([202008., 202009., 202010., 202011., 202012., 202101., 202102.,\n",
       "       202103., 202104., 202105., 202007., 202106.])"
      ]
     },
     "execution_count": 46,
     "metadata": {},
     "output_type": "execute_result"
    }
   ],
   "source": [
    "array_mes"
   ]
  },
  {
   "cell_type": "code",
   "execution_count": 38,
   "id": "61bd2a28-c675-433f-bbd7-f784d745a88f",
   "metadata": {},
   "outputs": [],
   "source": [
    "prueba = df_copy.set_index('anio_mes_cupon',append=True)"
   ]
  },
  {
   "cell_type": "code",
   "execution_count": 52,
   "id": "bf099bb5-ec5c-423d-986b-b55baf7a3e95",
   "metadata": {},
   "outputs": [
    {
     "ename": "ModuleNotFoundError",
     "evalue": "No module named 'RandomOverSampler'",
     "output_type": "error",
     "traceback": [
      "\u001b[1;31m---------------------------------------------------------------------------\u001b[0m",
      "\u001b[1;31mModuleNotFoundError\u001b[0m                       Traceback (most recent call last)",
      "\u001b[1;32m~\\AppData\\Local\\Temp/ipykernel_8956/1003759861.py\u001b[0m in \u001b[0;36m<module>\u001b[1;34m\u001b[0m\n\u001b[1;32m----> 1\u001b[1;33m \u001b[1;32mimport\u001b[0m \u001b[0mRandomOverSampler\u001b[0m\u001b[1;33m\u001b[0m\u001b[1;33m\u001b[0m\u001b[0m\n\u001b[0m",
      "\u001b[1;31mModuleNotFoundError\u001b[0m: No module named 'RandomOverSampler'"
     ]
    }
   ],
   "source": [
    "import RandomOverSampler"
   ]
  },
  {
   "cell_type": "code",
   "execution_count": null,
   "id": "90cbd9aa-618f-4707-be07-54f33f3acf64",
   "metadata": {},
   "outputs": [],
   "source": []
  },
  {
   "cell_type": "code",
   "execution_count": null,
   "id": "70dda3bf-21c0-4672-b191-7170e87cc15a",
   "metadata": {},
   "outputs": [],
   "source": []
  },
  {
   "cell_type": "code",
   "execution_count": null,
   "id": "0e32a411-d0c5-40c7-ad52-d24801b3e892",
   "metadata": {},
   "outputs": [],
   "source": []
  },
  {
   "cell_type": "code",
   "execution_count": null,
   "id": "8727f842-5e9d-4fe9-8f67-b2ea02dc7520",
   "metadata": {},
   "outputs": [],
   "source": []
  },
  {
   "cell_type": "code",
   "execution_count": null,
   "id": "5815aefe-94a5-4d18-b3d9-bcfdfcf6cdee",
   "metadata": {},
   "outputs": [],
   "source": []
  },
  {
   "cell_type": "code",
   "execution_count": null,
   "id": "c025959e-347f-428e-8799-1c8ed17607dd",
   "metadata": {},
   "outputs": [],
   "source": []
  },
  {
   "cell_type": "code",
   "execution_count": null,
   "id": "1400cec9-fcad-47ec-ba26-0c981260998b",
   "metadata": {},
   "outputs": [],
   "source": []
  },
  {
   "cell_type": "code",
   "execution_count": null,
   "id": "7b049fc2-ccc3-4be6-aafe-f024853b5637",
   "metadata": {},
   "outputs": [],
   "source": []
  },
  {
   "cell_type": "code",
   "execution_count": null,
   "id": "6313ff7e-da9c-429f-84d9-cb8fc4482567",
   "metadata": {},
   "outputs": [],
   "source": []
  },
  {
   "cell_type": "markdown",
   "id": "6797bef0-37c8-44dd-acf1-1d9271803ccb",
   "metadata": {},
   "source": [
    "# Modelos de Regresión - Predicción de consumo"
   ]
  },
  {
   "cell_type": "markdown",
   "id": "d3efd855-b9c5-4ded-b3ff-ccacd2965c70",
   "metadata": {},
   "source": [
    "## Linear SVR - Default"
   ]
  },
  {
   "cell_type": "markdown",
   "id": "14f75a2b-bcdc-423c-ba65-da13c3242691",
   "metadata": {},
   "source": [
    "LinerSVR es un modelo lineal. Teniendo en cuenta las visualizaciones al principio del practico donde observamos que las features numericas no se relacionan de forma lineal con el objetivo, no podriamos esperar mucho de este modelo o cualquier modelo lineal dado el caso.\n",
    "\n",
    "Elegimos MinMaxScaler para escalar las features numericas porque conserva el signo, y tenemos transacciones en negativo para la variable objetivo.\n",
    "\n",
    "Usamos _SelectFromModel()_ para reducir el numero de features del dataset, y de esa manera intentar mejorar las predicciones con un costo de computo menor al que si usaramos todas las features. Para seleccionar las columnas usamos _RandomForestRegressor_"
   ]
  },
  {
   "cell_type": "code",
   "execution_count": 116,
   "id": "007baf06-685f-40e9-8477-15777dd0cb68",
   "metadata": {},
   "outputs": [],
   "source": [
    "# Preproceso 1 para SGDRegressor - Default, RMSE 3395.724\n",
    "df = df_mes.copy()\n",
    "scaler = MinMaxScaler()\n",
    "ft_selector = RandomForestRegressor(random_state=0)\n",
    "model_ = LinearSVR(random_state=0)"
   ]
  },
  {
   "cell_type": "code",
   "execution_count": 117,
   "id": "d527f12c-27c7-4c01-9260-101a8f165793",
   "metadata": {},
   "outputs": [],
   "source": [
    "# Features and target\n",
    "X = df.drop([ordinal_ft, target], axis=1)\n",
    "y = df[target]"
   ]
  },
  {
   "cell_type": "code",
   "execution_count": 118,
   "id": "e81bbf73-af59-4c82-8fee-2f3eb1b422a1",
   "metadata": {},
   "outputs": [],
   "source": [
    "# Train and validation\n",
    "X_train, X_val, y_train, y_val = train_test_split(X, y, test_size=0.35, random_state=0, shuffle=False)"
   ]
  },
  {
   "cell_type": "markdown",
   "id": "af6e0da2-d58a-439b-84c2-fdded874943f",
   "metadata": {},
   "source": [
    "Elegimos una relacion entre train y test de un 35% para test. Esto lo hicimos en base a que en pruebas anteriores tuvimos casos donde el MSE para el conjunto de validacion era menor que en de train. Investigando sobre esto, dimos con que este problema se denomina under-fitting. Al tratarse de un modelo lineal tratando de predecir datos no lineales, este problema es esperable. Modificamos la cantidad de datos en train y test para prevenir la sobre simplificacion del modelo sobre los datos  e intentar reducir este problema. "
   ]
  },
  {
   "cell_type": "markdown",
   "id": "66f516bc-97a6-449f-b6fc-bd1c796d5d32",
   "metadata": {},
   "source": [
    "#### Preproceso y ajuste"
   ]
  },
  {
   "cell_type": "code",
   "execution_count": 119,
   "id": "39a0a267-0412-405e-9d22-39f3cd355902",
   "metadata": {},
   "outputs": [],
   "source": [
    "# Preprocessing\n",
    "num_transformer = scaler\n",
    "cat_transformer = 'passthrough'\n",
    "\n",
    "num_features = [g for g in X.columns if 'client' not in g]\n",
    "cat_features = [g for g in X.columns if 'client' in g]\n",
    "\n",
    "preprocessor = ColumnTransformer(\n",
    "    transformers=[\n",
    "        ('num', num_transformer, num_features),\n",
    "        ('cat', cat_transformer, cat_features)])"
   ]
  },
  {
   "cell_type": "code",
   "execution_count": 120,
   "id": "623fdb76-008e-4459-bb07-b0108d832cdf",
   "metadata": {},
   "outputs": [],
   "source": [
    "# Fit\n",
    "model = Pipeline([\n",
    "  ('preprocessor', preprocessor),\n",
    "  ('feature_selection', SelectFromModel(ft_selector)),\n",
    "  ('regressor', model_)\n",
    "])\n",
    "\n",
    "model.fit(X_train, y_train)\n",
    "svr = model"
   ]
  },
  {
   "cell_type": "code",
   "execution_count": 121,
   "id": "07abd386-68b4-4bfb-82b0-db6d6b438003",
   "metadata": {},
   "outputs": [],
   "source": [
    "# Predict\n",
    "y_train_pred = model.predict(X_train)\n",
    "y_valid_pred = model.predict(X_val)"
   ]
  },
  {
   "cell_type": "markdown",
   "id": "631bfa6a-2d0a-4cb6-9d91-c5716f15489d",
   "metadata": {},
   "source": [
    "#### Evaluacion de predicciones"
   ]
  },
  {
   "cell_type": "code",
   "execution_count": 122,
   "id": "80350f59-fbdb-44d3-9ff7-f0ac8d7b42c8",
   "metadata": {
    "tags": []
   },
   "outputs": [
    {
     "name": "stdout",
     "output_type": "stream",
     "text": [
      "Train error 239292160.419, Valid error 257003326.978\n"
     ]
    }
   ],
   "source": [
    "# evaluate MSE:\n",
    "train_error = mean_squared_error(y_train, y_train_pred)\n",
    "val_error = mean_squared_error(y_val, y_valid_pred)\n",
    "print(f'Train error {train_error.round(3)}, Valid error {val_error.round(3)}')  "
   ]
  },
  {
   "cell_type": "code",
   "execution_count": 123,
   "id": "4f09771b-4b03-443f-99b2-af34db8d7ecb",
   "metadata": {
    "tags": []
   },
   "outputs": [
    {
     "name": "stdout",
     "output_type": "stream",
     "text": [
      "Train error RMSE 15469.071, Valid error RMSE 16031.323\n"
     ]
    }
   ],
   "source": [
    "# evaluate RMSE:\n",
    "train_error = np.sqrt(mean_squared_error(y_train, y_train_pred))\n",
    "val_error = np.sqrt(mean_squared_error(y_val, y_valid_pred))\n",
    "print(f'Train error RMSE {train_error.round(3)}, Valid error RMSE {val_error.round(3)}')  "
   ]
  },
  {
   "cell_type": "code",
   "execution_count": 124,
   "id": "1e8e198a-c58f-41ee-9a82-cf8ff54318d1",
   "metadata": {
    "tags": []
   },
   "outputs": [
    {
     "name": "stdout",
     "output_type": "stream",
     "text": [
      "Train error MAE 9998.47, Valid error MAE 10213.994\n"
     ]
    }
   ],
   "source": [
    "# evaluate MAE:\n",
    "train_error = mean_absolute_error(y_train, y_train_pred)\n",
    "val_error = mean_absolute_error(y_val, y_valid_pred)\n",
    "print(f'Train error MAE {train_error.round(3)}, Valid error MAE {val_error.round(3)}')  "
   ]
  },
  {
   "cell_type": "markdown",
   "id": "4f59124c-f6f7-4049-8ade-cb14d703f45e",
   "metadata": {
    "tags": []
   },
   "source": [
    "Visualizamos nuestra variable target (real y predicción)"
   ]
  },
  {
   "cell_type": "code",
   "execution_count": 52,
   "id": "5c988edc-4bb3-4c25-b275-2621d2d9be4a",
   "metadata": {},
   "outputs": [
    {
     "data": {
      "text/html": [
       "<div>\n",
       "<style scoped>\n",
       "    .dataframe tbody tr th:only-of-type {\n",
       "        vertical-align: middle;\n",
       "    }\n",
       "\n",
       "    .dataframe tbody tr th {\n",
       "        vertical-align: top;\n",
       "    }\n",
       "\n",
       "    .dataframe thead th {\n",
       "        text-align: right;\n",
       "    }\n",
       "</style>\n",
       "<table border=\"1\" class=\"dataframe\">\n",
       "  <thead>\n",
       "    <tr style=\"text-align: right;\">\n",
       "      <th></th>\n",
       "      <th>val_real</th>\n",
       "    </tr>\n",
       "  </thead>\n",
       "  <tbody>\n",
       "    <tr>\n",
       "      <th>count</th>\n",
       "      <td>2606.00</td>\n",
       "    </tr>\n",
       "    <tr>\n",
       "      <th>mean</th>\n",
       "      <td>11570.39</td>\n",
       "    </tr>\n",
       "    <tr>\n",
       "      <th>std</th>\n",
       "      <td>15249.64</td>\n",
       "    </tr>\n",
       "    <tr>\n",
       "      <th>min</th>\n",
       "      <td>-14160.00</td>\n",
       "    </tr>\n",
       "    <tr>\n",
       "      <th>25%</th>\n",
       "      <td>785.50</td>\n",
       "    </tr>\n",
       "    <tr>\n",
       "      <th>50%</th>\n",
       "      <td>5932.50</td>\n",
       "    </tr>\n",
       "    <tr>\n",
       "      <th>75%</th>\n",
       "      <td>16798.50</td>\n",
       "    </tr>\n",
       "    <tr>\n",
       "      <th>max</th>\n",
       "      <td>134045.00</td>\n",
       "    </tr>\n",
       "  </tbody>\n",
       "</table>\n",
       "</div>"
      ],
      "text/plain": [
       "        val_real\n",
       "count    2606.00\n",
       "mean    11570.39\n",
       "std     15249.64\n",
       "min    -14160.00\n",
       "25%       785.50\n",
       "50%      5932.50\n",
       "75%     16798.50\n",
       "max    134045.00"
      ]
     },
     "execution_count": 52,
     "metadata": {},
     "output_type": "execute_result"
    }
   ],
   "source": [
    "pd.DataFrame(y_val.values.astype(int), columns=['val_real']).describe().round(2)"
   ]
  },
  {
   "cell_type": "code",
   "execution_count": 53,
   "id": "6e3a69c0-1d07-4ae8-980e-d293ff3b933e",
   "metadata": {},
   "outputs": [
    {
     "data": {
      "text/html": [
       "<div>\n",
       "<style scoped>\n",
       "    .dataframe tbody tr th:only-of-type {\n",
       "        vertical-align: middle;\n",
       "    }\n",
       "\n",
       "    .dataframe tbody tr th {\n",
       "        vertical-align: top;\n",
       "    }\n",
       "\n",
       "    .dataframe thead th {\n",
       "        text-align: right;\n",
       "    }\n",
       "</style>\n",
       "<table border=\"1\" class=\"dataframe\">\n",
       "  <thead>\n",
       "    <tr style=\"text-align: right;\">\n",
       "      <th></th>\n",
       "      <th>val_pred</th>\n",
       "    </tr>\n",
       "  </thead>\n",
       "  <tbody>\n",
       "    <tr>\n",
       "      <th>count</th>\n",
       "      <td>2606.00</td>\n",
       "    </tr>\n",
       "    <tr>\n",
       "      <th>mean</th>\n",
       "      <td>3112.67</td>\n",
       "    </tr>\n",
       "    <tr>\n",
       "      <th>std</th>\n",
       "      <td>673.63</td>\n",
       "    </tr>\n",
       "    <tr>\n",
       "      <th>min</th>\n",
       "      <td>1419.99</td>\n",
       "    </tr>\n",
       "    <tr>\n",
       "      <th>25%</th>\n",
       "      <td>2614.46</td>\n",
       "    </tr>\n",
       "    <tr>\n",
       "      <th>50%</th>\n",
       "      <td>3105.96</td>\n",
       "    </tr>\n",
       "    <tr>\n",
       "      <th>75%</th>\n",
       "      <td>3604.59</td>\n",
       "    </tr>\n",
       "    <tr>\n",
       "      <th>max</th>\n",
       "      <td>4994.45</td>\n",
       "    </tr>\n",
       "  </tbody>\n",
       "</table>\n",
       "</div>"
      ],
      "text/plain": [
       "       val_pred\n",
       "count   2606.00\n",
       "mean    3112.67\n",
       "std      673.63\n",
       "min     1419.99\n",
       "25%     2614.46\n",
       "50%     3105.96\n",
       "75%     3604.59\n",
       "max     4994.45"
      ]
     },
     "execution_count": 53,
     "metadata": {},
     "output_type": "execute_result"
    }
   ],
   "source": [
    "pd.DataFrame(y_valid_pred, columns=['val_pred']).describe().round(2)"
   ]
  },
  {
   "cell_type": "markdown",
   "id": "7f99ea6c-2821-4593-aae4-c411ca2ccc90",
   "metadata": {},
   "source": [
    "## Linear SVR - Grid Search"
   ]
  },
  {
   "cell_type": "code",
   "execution_count": 125,
   "id": "5b4a0e1e-254e-45ad-832f-284ca4163960",
   "metadata": {
    "tags": []
   },
   "outputs": [],
   "source": [
    "param_grid = {\n",
    "    'regressor__epsilon': [0.1, 0.01, 0.0001,0.001],\n",
    "    'regressor__tol': [1e-3, 1e-4, 1e-5, 1e-6],\n",
    "    'regressor__C': [1, 2, 0.01, 0.001],\n",
    "    'regressor__loss': ['epsilon_insensitive', 'squared_epsilon_insensitive']\n",
    "}"
   ]
  },
  {
   "cell_type": "code",
   "execution_count": 55,
   "id": "4dc651da-281a-41c9-a72f-2ba94c0db6fd",
   "metadata": {},
   "outputs": [],
   "source": [
    "# Preproceso 1 para SGDRegressor - GridSearch\n",
    "df = df_mes.copy()\n",
    "scaler = MinMaxScaler()\n",
    "#ft_selector = LinearSVR(random_state=0)\n",
    "model_ = LinearSVR(random_state=0)"
   ]
  },
  {
   "cell_type": "code",
   "execution_count": 56,
   "id": "fff12bb1-0ff0-40c7-8293-0883129f22e1",
   "metadata": {},
   "outputs": [],
   "source": [
    "# Features and target\n",
    "X = df.drop([ordinal_ft, target], axis=1)\n",
    "y = df[target]"
   ]
  },
  {
   "cell_type": "code",
   "execution_count": 57,
   "id": "4bafe4a4-8821-49cf-976e-908be22c91f0",
   "metadata": {},
   "outputs": [],
   "source": [
    "# Train and validation\n",
    "X_train, X_val, y_train, y_val = train_test_split(X, y, test_size=0.3, random_state=0, shuffle=False)"
   ]
  },
  {
   "cell_type": "markdown",
   "id": "83523c43-161f-47e6-a86f-56a665c521d7",
   "metadata": {},
   "source": [
    "#### Preproceso y ajuste"
   ]
  },
  {
   "cell_type": "code",
   "execution_count": 58,
   "id": "0e3d0451-44fb-4385-9f9a-f09549448c4c",
   "metadata": {},
   "outputs": [],
   "source": [
    "# Preprocessing\n",
    "num_transformer = scaler\n",
    "cat_transformer = 'passthrough'\n",
    "\n",
    "num_features = [g for g in X.columns if 'client' not in g]\n",
    "cat_features = [g for g in X.columns if 'client' in g]\n",
    "\n",
    "preprocessor = ColumnTransformer(\n",
    "    transformers=[\n",
    "        ('num', num_transformer, num_features),\n",
    "        ('cat', cat_transformer, cat_features)])"
   ]
  },
  {
   "cell_type": "code",
   "execution_count": 59,
   "id": "775e7356-f989-4600-b846-d8ad2b13d146",
   "metadata": {
    "tags": []
   },
   "outputs": [],
   "source": [
    "# Fit\n",
    "pipe = Pipeline([\n",
    "  ('preprocessor', preprocessor),\n",
    "#  ('feature_selection', SelectFromModel(ft_selector)),\n",
    "  ('regressor', model_)\n",
    "])\n",
    "\n",
    "model = RandomizedSearchCV(pipe, param_grid, scoring='neg_mean_squared_error',cv=5, n_iter=40)\n",
    "\n",
    "model.fit(X_train, y_train)\n",
    "svr_cv = model"
   ]
  },
  {
   "cell_type": "code",
   "execution_count": 60,
   "id": "bafb831e-115f-4d56-a6ac-3272c10c4d19",
   "metadata": {
    "tags": []
   },
   "outputs": [
    {
     "data": {
      "text/plain": [
       "{'regressor__tol': 0.001,\n",
       " 'regressor__loss': 'squared_epsilon_insensitive',\n",
       " 'regressor__epsilon': 0.0001,\n",
       " 'regressor__C': 0.01}"
      ]
     },
     "execution_count": 60,
     "metadata": {},
     "output_type": "execute_result"
    }
   ],
   "source": [
    "model.best_params_"
   ]
  },
  {
   "cell_type": "code",
   "execution_count": 61,
   "id": "2d939c08-6e68-4f49-961c-3c462ef1cd9a",
   "metadata": {},
   "outputs": [],
   "source": [
    "# Predict\n",
    "y_train_pred = model.predict(X_train)\n",
    "y_valid_pred = model.predict(X_val)"
   ]
  },
  {
   "cell_type": "markdown",
   "id": "459aeb91-e975-47cd-9586-72953b77d786",
   "metadata": {},
   "source": [
    "#### Evaluacion de predicciones"
   ]
  },
  {
   "cell_type": "code",
   "execution_count": 62,
   "id": "d1a316cf-b2ac-47ce-a0ac-eba8f4d54de4",
   "metadata": {
    "tags": []
   },
   "outputs": [
    {
     "name": "stdout",
     "output_type": "stream",
     "text": [
      "Train error 116561350.044, Valid error 135760481.582\n"
     ]
    }
   ],
   "source": [
    "# evaluate MSE:\n",
    "train_error = mean_squared_error(y_train, y_train_pred)\n",
    "val_error = mean_squared_error(y_val, y_valid_pred)\n",
    "print(f'Train error {train_error.round(3)}, Valid error {val_error.round(3)}')  "
   ]
  },
  {
   "cell_type": "code",
   "execution_count": 63,
   "id": "e4990ae6-1fd7-4fc5-bbb4-c6ec47476cdf",
   "metadata": {
    "tags": []
   },
   "outputs": [
    {
     "name": "stdout",
     "output_type": "stream",
     "text": [
      "Train error RMSE 10796.358, Valid error RMSE 11651.63\n"
     ]
    }
   ],
   "source": [
    "# evaluate RMSE:\n",
    "train_error = np.sqrt(mean_squared_error(y_train, y_train_pred))\n",
    "val_error = np.sqrt(mean_squared_error(y_val, y_valid_pred))\n",
    "print(f'Train error RMSE {train_error.round(3)}, Valid error RMSE {val_error.round(3)}')  "
   ]
  },
  {
   "cell_type": "code",
   "execution_count": 64,
   "id": "b4d80d99-7aa4-46d2-95f6-4e1ac2d894ae",
   "metadata": {
    "tags": []
   },
   "outputs": [
    {
     "name": "stdout",
     "output_type": "stream",
     "text": [
      "Train error MAE 7171.465, Valid error MAE 7466.199\n"
     ]
    }
   ],
   "source": [
    "# evaluate MAE:\n",
    "train_error = mean_absolute_error(y_train, y_train_pred)\n",
    "val_error = mean_absolute_error(y_val, y_valid_pred)\n",
    "print(f'Train error MAE {train_error.round(3)}, Valid error MAE {val_error.round(3)}')  "
   ]
  },
  {
   "cell_type": "markdown",
   "id": "a70a28ac-3109-4e80-b1e9-a44216e527ce",
   "metadata": {
    "tags": []
   },
   "source": [
    "Visualizamos nuestra variable target (real y predicción)"
   ]
  },
  {
   "cell_type": "code",
   "execution_count": 65,
   "id": "1f44b194-19d3-4d3e-8b77-3d4e17ff5d6e",
   "metadata": {},
   "outputs": [
    {
     "data": {
      "text/html": [
       "<div>\n",
       "<style scoped>\n",
       "    .dataframe tbody tr th:only-of-type {\n",
       "        vertical-align: middle;\n",
       "    }\n",
       "\n",
       "    .dataframe tbody tr th {\n",
       "        vertical-align: top;\n",
       "    }\n",
       "\n",
       "    .dataframe thead th {\n",
       "        text-align: right;\n",
       "    }\n",
       "</style>\n",
       "<table border=\"1\" class=\"dataframe\">\n",
       "  <thead>\n",
       "    <tr style=\"text-align: right;\">\n",
       "      <th></th>\n",
       "      <th>val_real</th>\n",
       "    </tr>\n",
       "  </thead>\n",
       "  <tbody>\n",
       "    <tr>\n",
       "      <th>count</th>\n",
       "      <td>2233.00</td>\n",
       "    </tr>\n",
       "    <tr>\n",
       "      <th>mean</th>\n",
       "      <td>11556.58</td>\n",
       "    </tr>\n",
       "    <tr>\n",
       "      <th>std</th>\n",
       "      <td>15358.95</td>\n",
       "    </tr>\n",
       "    <tr>\n",
       "      <th>min</th>\n",
       "      <td>-14160.00</td>\n",
       "    </tr>\n",
       "    <tr>\n",
       "      <th>25%</th>\n",
       "      <td>860.00</td>\n",
       "    </tr>\n",
       "    <tr>\n",
       "      <th>50%</th>\n",
       "      <td>5740.00</td>\n",
       "    </tr>\n",
       "    <tr>\n",
       "      <th>75%</th>\n",
       "      <td>16782.00</td>\n",
       "    </tr>\n",
       "    <tr>\n",
       "      <th>max</th>\n",
       "      <td>134045.00</td>\n",
       "    </tr>\n",
       "  </tbody>\n",
       "</table>\n",
       "</div>"
      ],
      "text/plain": [
       "        val_real\n",
       "count    2233.00\n",
       "mean    11556.58\n",
       "std     15358.95\n",
       "min    -14160.00\n",
       "25%       860.00\n",
       "50%      5740.00\n",
       "75%     16782.00\n",
       "max    134045.00"
      ]
     },
     "execution_count": 65,
     "metadata": {},
     "output_type": "execute_result"
    }
   ],
   "source": [
    "pd.DataFrame(y_val.values.astype(int), columns=['val_real']).describe().round(2)"
   ]
  },
  {
   "cell_type": "code",
   "execution_count": 66,
   "id": "71a03a48-c6ae-481a-b12e-00ba64756537",
   "metadata": {},
   "outputs": [
    {
     "data": {
      "text/html": [
       "<div>\n",
       "<style scoped>\n",
       "    .dataframe tbody tr th:only-of-type {\n",
       "        vertical-align: middle;\n",
       "    }\n",
       "\n",
       "    .dataframe tbody tr th {\n",
       "        vertical-align: top;\n",
       "    }\n",
       "\n",
       "    .dataframe thead th {\n",
       "        text-align: right;\n",
       "    }\n",
       "</style>\n",
       "<table border=\"1\" class=\"dataframe\">\n",
       "  <thead>\n",
       "    <tr style=\"text-align: right;\">\n",
       "      <th></th>\n",
       "      <th>val_pred</th>\n",
       "    </tr>\n",
       "  </thead>\n",
       "  <tbody>\n",
       "    <tr>\n",
       "      <th>count</th>\n",
       "      <td>2233.00</td>\n",
       "    </tr>\n",
       "    <tr>\n",
       "      <th>mean</th>\n",
       "      <td>11414.73</td>\n",
       "    </tr>\n",
       "    <tr>\n",
       "      <th>std</th>\n",
       "      <td>8218.79</td>\n",
       "    </tr>\n",
       "    <tr>\n",
       "      <th>min</th>\n",
       "      <td>-708.86</td>\n",
       "    </tr>\n",
       "    <tr>\n",
       "      <th>25%</th>\n",
       "      <td>5262.31</td>\n",
       "    </tr>\n",
       "    <tr>\n",
       "      <th>50%</th>\n",
       "      <td>9382.17</td>\n",
       "    </tr>\n",
       "    <tr>\n",
       "      <th>75%</th>\n",
       "      <td>15741.21</td>\n",
       "    </tr>\n",
       "    <tr>\n",
       "      <th>max</th>\n",
       "      <td>64915.29</td>\n",
       "    </tr>\n",
       "  </tbody>\n",
       "</table>\n",
       "</div>"
      ],
      "text/plain": [
       "       val_pred\n",
       "count   2233.00\n",
       "mean   11414.73\n",
       "std     8218.79\n",
       "min     -708.86\n",
       "25%     5262.31\n",
       "50%     9382.17\n",
       "75%    15741.21\n",
       "max    64915.29"
      ]
     },
     "execution_count": 66,
     "metadata": {},
     "output_type": "execute_result"
    }
   ],
   "source": [
    "pd.DataFrame(y_valid_pred, columns=['val_pred']).describe().round(2)"
   ]
  },
  {
   "cell_type": "markdown",
   "id": "58e6e522-ef49-4ba9-9cbb-8c83e762efb3",
   "metadata": {},
   "source": [
    "## SGDRegressor - Default"
   ]
  },
  {
   "cell_type": "code",
   "execution_count": 67,
   "id": "b0369c52-609e-4583-8649-19330510c68a",
   "metadata": {},
   "outputs": [],
   "source": [
    "# Preproceso 1 para SGDRegressor - Default, RMSE 3395.724\n",
    "df = df_mes.copy()\n",
    "scaler = MinMaxScaler()\n",
    "ft_selector = LinearSVR(random_state=0)\n",
    "model_ = SGDRegressor(random_state=0, shuffle=False)"
   ]
  },
  {
   "cell_type": "code",
   "execution_count": 68,
   "id": "1ab50ab1-9349-40a3-84d0-7b64ff2cd614",
   "metadata": {},
   "outputs": [],
   "source": [
    "# Features and target\n",
    "X = df.drop([ordinal_ft, target], axis=1)\n",
    "y = df[target]"
   ]
  },
  {
   "cell_type": "code",
   "execution_count": 69,
   "id": "9c694396-6e80-40a3-8686-819366062fb2",
   "metadata": {},
   "outputs": [],
   "source": [
    "# Train and validation\n",
    "X_train, X_val, y_train, y_val = train_test_split(X, y, test_size=0.30, random_state=0, shuffle=False)"
   ]
  },
  {
   "cell_type": "markdown",
   "id": "742f8cd3-3d3a-4515-b8ce-ed769d9f5700",
   "metadata": {},
   "source": [
    "#### Preproceso y ajuste"
   ]
  },
  {
   "cell_type": "code",
   "execution_count": 70,
   "id": "d5661721-b4c6-4164-b590-e1678af1f06f",
   "metadata": {},
   "outputs": [],
   "source": [
    "# Preprocessing\n",
    "num_transformer = scaler\n",
    "cat_transformer = 'passthrough'\n",
    "\n",
    "num_features = [g for g in X.columns if 'client' not in g]\n",
    "cat_features = [g for g in X.columns if 'client' in g]\n",
    "\n",
    "preprocessor = ColumnTransformer(\n",
    "    transformers=[\n",
    "        ('num', num_transformer, num_features),\n",
    "        ('cat', cat_transformer, cat_features)])"
   ]
  },
  {
   "cell_type": "code",
   "execution_count": 71,
   "id": "6309e79e-8e36-4d3d-a763-6aa996bff286",
   "metadata": {},
   "outputs": [],
   "source": [
    "# Fit\n",
    "model = Pipeline([\n",
    "  ('preprocessor', preprocessor),\n",
    "  ('feature_selection', SelectFromModel(ft_selector)),\n",
    "  ('regressor', model_)\n",
    "])\n",
    "\n",
    "model.fit(X_train, y_train)\n",
    "sgd = model"
   ]
  },
  {
   "cell_type": "code",
   "execution_count": 72,
   "id": "d38485c7-bf4d-473a-862a-b4f2270d1a5b",
   "metadata": {},
   "outputs": [],
   "source": [
    "# Predict\n",
    "y_train_pred = model.predict(X_train)\n",
    "y_valid_pred = model.predict(X_val)"
   ]
  },
  {
   "cell_type": "markdown",
   "id": "0e72050f-083a-4bfb-a28e-dd0fbcf524c6",
   "metadata": {},
   "source": [
    "#### Evaluacion de predicciones"
   ]
  },
  {
   "cell_type": "code",
   "execution_count": 73,
   "id": "dcd06370-c4a3-483a-a8a4-23a266818c4c",
   "metadata": {
    "tags": []
   },
   "outputs": [
    {
     "name": "stdout",
     "output_type": "stream",
     "text": [
      "Train error 110013126.226, Valid error 126905950.859\n"
     ]
    }
   ],
   "source": [
    "# evaluate MSE:\n",
    "train_error = mean_squared_error(y_train, y_train_pred)\n",
    "val_error = mean_squared_error(y_val, y_valid_pred)\n",
    "print(f'Train error {train_error.round(3)}, Valid error {val_error.round(3)}')  "
   ]
  },
  {
   "cell_type": "code",
   "execution_count": 74,
   "id": "9a23b643-d24b-410a-9d46-18f73c845d7d",
   "metadata": {
    "tags": []
   },
   "outputs": [
    {
     "name": "stdout",
     "output_type": "stream",
     "text": [
      "Train error RMSE 10488.714, Valid error RMSE 11265.254\n"
     ]
    }
   ],
   "source": [
    "# evaluate RMSE:\n",
    "train_error = np.sqrt(mean_squared_error(y_train, y_train_pred))\n",
    "val_error = np.sqrt(mean_squared_error(y_val, y_valid_pred))\n",
    "print(f'Train error RMSE {train_error.round(3)}, Valid error RMSE {val_error.round(3)}')  "
   ]
  },
  {
   "cell_type": "code",
   "execution_count": 75,
   "id": "58f1d898-6336-4193-8180-6374cf59aabb",
   "metadata": {
    "tags": []
   },
   "outputs": [
    {
     "name": "stdout",
     "output_type": "stream",
     "text": [
      "Train error MAE 6620.926, Valid error MAE 6866.711\n"
     ]
    }
   ],
   "source": [
    "# evaluate MAE:\n",
    "train_error = mean_absolute_error(y_train, y_train_pred)\n",
    "val_error = mean_absolute_error(y_val, y_valid_pred)\n",
    "print(f'Train error MAE {train_error.round(3)}, Valid error MAE {val_error.round(3)}')  "
   ]
  },
  {
   "cell_type": "markdown",
   "id": "8d9a6b95-6c26-48af-aafd-647890768bd8",
   "metadata": {
    "tags": []
   },
   "source": [
    "Visualizamos nuestra variable target (real y predicción)"
   ]
  },
  {
   "cell_type": "code",
   "execution_count": 76,
   "id": "7a446baf-8ba4-48b3-9bc8-7b9b835f0d22",
   "metadata": {},
   "outputs": [
    {
     "data": {
      "text/html": [
       "<div>\n",
       "<style scoped>\n",
       "    .dataframe tbody tr th:only-of-type {\n",
       "        vertical-align: middle;\n",
       "    }\n",
       "\n",
       "    .dataframe tbody tr th {\n",
       "        vertical-align: top;\n",
       "    }\n",
       "\n",
       "    .dataframe thead th {\n",
       "        text-align: right;\n",
       "    }\n",
       "</style>\n",
       "<table border=\"1\" class=\"dataframe\">\n",
       "  <thead>\n",
       "    <tr style=\"text-align: right;\">\n",
       "      <th></th>\n",
       "      <th>val_real</th>\n",
       "    </tr>\n",
       "  </thead>\n",
       "  <tbody>\n",
       "    <tr>\n",
       "      <th>count</th>\n",
       "      <td>2233.00</td>\n",
       "    </tr>\n",
       "    <tr>\n",
       "      <th>mean</th>\n",
       "      <td>11556.58</td>\n",
       "    </tr>\n",
       "    <tr>\n",
       "      <th>std</th>\n",
       "      <td>15358.95</td>\n",
       "    </tr>\n",
       "    <tr>\n",
       "      <th>min</th>\n",
       "      <td>-14160.00</td>\n",
       "    </tr>\n",
       "    <tr>\n",
       "      <th>25%</th>\n",
       "      <td>860.00</td>\n",
       "    </tr>\n",
       "    <tr>\n",
       "      <th>50%</th>\n",
       "      <td>5740.00</td>\n",
       "    </tr>\n",
       "    <tr>\n",
       "      <th>75%</th>\n",
       "      <td>16782.00</td>\n",
       "    </tr>\n",
       "    <tr>\n",
       "      <th>max</th>\n",
       "      <td>134045.00</td>\n",
       "    </tr>\n",
       "  </tbody>\n",
       "</table>\n",
       "</div>"
      ],
      "text/plain": [
       "        val_real\n",
       "count    2233.00\n",
       "mean    11556.58\n",
       "std     15358.95\n",
       "min    -14160.00\n",
       "25%       860.00\n",
       "50%      5740.00\n",
       "75%     16782.00\n",
       "max    134045.00"
      ]
     },
     "execution_count": 76,
     "metadata": {},
     "output_type": "execute_result"
    }
   ],
   "source": [
    "pd.DataFrame(y_val.values.astype(int), columns=['val_real']).describe().round(2)"
   ]
  },
  {
   "cell_type": "code",
   "execution_count": 77,
   "id": "a217b7ad-1061-475f-b4f5-b77bf0e64be5",
   "metadata": {},
   "outputs": [
    {
     "data": {
      "text/html": [
       "<div>\n",
       "<style scoped>\n",
       "    .dataframe tbody tr th:only-of-type {\n",
       "        vertical-align: middle;\n",
       "    }\n",
       "\n",
       "    .dataframe tbody tr th {\n",
       "        vertical-align: top;\n",
       "    }\n",
       "\n",
       "    .dataframe thead th {\n",
       "        text-align: right;\n",
       "    }\n",
       "</style>\n",
       "<table border=\"1\" class=\"dataframe\">\n",
       "  <thead>\n",
       "    <tr style=\"text-align: right;\">\n",
       "      <th></th>\n",
       "      <th>val_pred</th>\n",
       "    </tr>\n",
       "  </thead>\n",
       "  <tbody>\n",
       "    <tr>\n",
       "      <th>count</th>\n",
       "      <td>2233.00</td>\n",
       "    </tr>\n",
       "    <tr>\n",
       "      <th>mean</th>\n",
       "      <td>11579.65</td>\n",
       "    </tr>\n",
       "    <tr>\n",
       "      <th>std</th>\n",
       "      <td>10714.44</td>\n",
       "    </tr>\n",
       "    <tr>\n",
       "      <th>min</th>\n",
       "      <td>-114.09</td>\n",
       "    </tr>\n",
       "    <tr>\n",
       "      <th>25%</th>\n",
       "      <td>3690.73</td>\n",
       "    </tr>\n",
       "    <tr>\n",
       "      <th>50%</th>\n",
       "      <td>8696.98</td>\n",
       "    </tr>\n",
       "    <tr>\n",
       "      <th>75%</th>\n",
       "      <td>16416.31</td>\n",
       "    </tr>\n",
       "    <tr>\n",
       "      <th>max</th>\n",
       "      <td>90026.32</td>\n",
       "    </tr>\n",
       "  </tbody>\n",
       "</table>\n",
       "</div>"
      ],
      "text/plain": [
       "       val_pred\n",
       "count   2233.00\n",
       "mean   11579.65\n",
       "std    10714.44\n",
       "min     -114.09\n",
       "25%     3690.73\n",
       "50%     8696.98\n",
       "75%    16416.31\n",
       "max    90026.32"
      ]
     },
     "execution_count": 77,
     "metadata": {},
     "output_type": "execute_result"
    }
   ],
   "source": [
    "pd.DataFrame(y_valid_pred, columns=['val_pred']).describe().round(2)"
   ]
  },
  {
   "cell_type": "markdown",
   "id": "96a717c0-b221-42c5-828b-2069e4f1949d",
   "metadata": {},
   "source": [
    "## SGDRegressor- Grid Search"
   ]
  },
  {
   "cell_type": "code",
   "execution_count": 78,
   "id": "5c3ed709-e99d-478c-8687-57d911ac213f",
   "metadata": {
    "tags": []
   },
   "outputs": [],
   "source": [
    "param_grid = {\n",
    "    'regressor__loss': ['squared_loss','huber','epsilon_insensitive','squared_epsilon_insensitive'],\n",
    "    'regressor__penalty': ['l2','l1'],\n",
    "    'regressor__alpha': [0.01, 0.1, 1],\n",
    "    'regressor__epsilon': [0.1, 0.01],\n",
    "    'regressor__tol': [1e-3, 1e-4],\n",
    "    'regressor__learning_rate': ['optimal', 'adaptive', 'invscaling', 'constant']\n",
    "    #'max_iter': [1000, 2000, 5000]\n",
    "}"
   ]
  },
  {
   "cell_type": "code",
   "execution_count": 79,
   "id": "f4a89ccc-c405-494a-859d-97e4916f0160",
   "metadata": {},
   "outputs": [],
   "source": [
    "# Preproceso 1 para SGDRegressor - GridSearch\n",
    "df = df_mes.copy()\n",
    "scaler = MinMaxScaler()\n",
    "ft_selector = LinearSVR(random_state=0)\n",
    "model_ = SGDRegressor(random_state=0, shuffle=False)"
   ]
  },
  {
   "cell_type": "code",
   "execution_count": 80,
   "id": "8ac76039-77df-4fba-b0ca-23e184eda258",
   "metadata": {},
   "outputs": [],
   "source": [
    "# Features and target\n",
    "X = df.drop([ordinal_ft, target], axis=1)\n",
    "y = df[target]"
   ]
  },
  {
   "cell_type": "code",
   "execution_count": 81,
   "id": "894ec868-11d3-49df-a47a-07324002f3b1",
   "metadata": {},
   "outputs": [],
   "source": [
    "# Train and validation\n",
    "X_train, X_val, y_train, y_val = train_test_split(X, y, test_size=0.3, random_state=0, shuffle=False)"
   ]
  },
  {
   "cell_type": "markdown",
   "id": "e1af8d35-f12a-4aee-88bd-2ee194a93e53",
   "metadata": {},
   "source": [
    "#### Preproceso y ajuste"
   ]
  },
  {
   "cell_type": "code",
   "execution_count": 82,
   "id": "08ed9552-c39e-40bc-8139-68b72ce456a1",
   "metadata": {},
   "outputs": [],
   "source": [
    "# Preprocessing\n",
    "num_transformer = scaler\n",
    "cat_transformer = 'passthrough'\n",
    "\n",
    "num_features = [g for g in X.columns if 'client' not in g]\n",
    "cat_features = [g for g in X.columns if 'client' in g]\n",
    "\n",
    "preprocessor = ColumnTransformer(\n",
    "    transformers=[\n",
    "        ('num', num_transformer, num_features),\n",
    "        ('cat', cat_transformer, cat_features)])"
   ]
  },
  {
   "cell_type": "code",
   "execution_count": 83,
   "id": "30219658-c0c0-4f57-b3d5-1a00c4ca3328",
   "metadata": {
    "tags": []
   },
   "outputs": [],
   "source": [
    "# Fit\n",
    "pipe = Pipeline([\n",
    "  ('preprocessor', preprocessor),\n",
    "  ('feature_selection', SelectFromModel(ft_selector)),\n",
    "  ('regressor', model_)\n",
    "])\n",
    "\n",
    "model = RandomizedSearchCV(pipe, param_grid, scoring='neg_mean_squared_error',cv=5, n_iter=20)\n",
    "\n",
    "model.fit(X_train, y_train)\n",
    "sgd_cv = model"
   ]
  },
  {
   "cell_type": "code",
   "execution_count": 60,
   "id": "fc8b1695-a7c3-4cbb-84c2-cb3ea4a3b780",
   "metadata": {
    "tags": []
   },
   "outputs": [
    {
     "data": {
      "text/plain": [
       "{'regressor__tol': 0.001,\n",
       " 'regressor__loss': 'squared_epsilon_insensitive',\n",
       " 'regressor__epsilon': 0.0001,\n",
       " 'regressor__C': 0.01}"
      ]
     },
     "execution_count": 60,
     "metadata": {},
     "output_type": "execute_result"
    }
   ],
   "source": [
    "model.best_params_"
   ]
  },
  {
   "cell_type": "code",
   "execution_count": 84,
   "id": "0087b2f3-2aaf-4550-b86c-f43840dd51da",
   "metadata": {},
   "outputs": [],
   "source": [
    "# Predict\n",
    "y_train_pred = model.predict(X_train)\n",
    "y_valid_pred = model.predict(X_val)"
   ]
  },
  {
   "cell_type": "markdown",
   "id": "043a272e-825b-4126-8f89-79e703e81d0d",
   "metadata": {},
   "source": [
    "#### Evaluacion de predicciones"
   ]
  },
  {
   "cell_type": "code",
   "execution_count": 85,
   "id": "382c4bb5-2402-48a6-97e7-7cce6e164715",
   "metadata": {
    "tags": []
   },
   "outputs": [
    {
     "name": "stdout",
     "output_type": "stream",
     "text": [
      "Train error 225534060.326, Valid error 240605109.817\n"
     ]
    }
   ],
   "source": [
    "# evaluate MSE:\n",
    "train_error = mean_squared_error(y_train, y_train_pred)\n",
    "val_error = mean_squared_error(y_val, y_valid_pred)\n",
    "print(f'Train error {train_error.round(3)}, Valid error {val_error.round(3)}')  "
   ]
  },
  {
   "cell_type": "code",
   "execution_count": 86,
   "id": "d73e3ee7-4af5-40ea-8f14-443326026a3a",
   "metadata": {
    "tags": []
   },
   "outputs": [
    {
     "name": "stdout",
     "output_type": "stream",
     "text": [
      "Train error RMSE 15017.791, Valid error RMSE 15511.451\n"
     ]
    }
   ],
   "source": [
    "# evaluate RMSE:\n",
    "train_error = np.sqrt(mean_squared_error(y_train, y_train_pred))\n",
    "val_error = np.sqrt(mean_squared_error(y_val, y_valid_pred))\n",
    "print(f'Train error RMSE {train_error.round(3)}, Valid error RMSE {val_error.round(3)}')  "
   ]
  },
  {
   "cell_type": "code",
   "execution_count": 87,
   "id": "5d4af2f8-c0d0-4e05-a665-f8a71a39af47",
   "metadata": {
    "tags": []
   },
   "outputs": [
    {
     "name": "stdout",
     "output_type": "stream",
     "text": [
      "Train error MAE 9260.566, Valid error MAE 9204.421\n"
     ]
    }
   ],
   "source": [
    "# evaluate MAE:\n",
    "train_error = mean_absolute_error(y_train, y_train_pred)\n",
    "val_error = mean_absolute_error(y_val, y_valid_pred)\n",
    "print(f'Train error MAE {train_error.round(3)}, Valid error MAE {val_error.round(3)}')  "
   ]
  },
  {
   "cell_type": "markdown",
   "id": "a134efc7-3096-42c1-82a3-790b88fb02c1",
   "metadata": {
    "tags": []
   },
   "source": [
    "Visualizamos nuestra variable target (real y predicción)"
   ]
  },
  {
   "cell_type": "code",
   "execution_count": 88,
   "id": "c18ca62b-1911-4fd6-b039-5c851b11c6f6",
   "metadata": {},
   "outputs": [
    {
     "data": {
      "text/html": [
       "<div>\n",
       "<style scoped>\n",
       "    .dataframe tbody tr th:only-of-type {\n",
       "        vertical-align: middle;\n",
       "    }\n",
       "\n",
       "    .dataframe tbody tr th {\n",
       "        vertical-align: top;\n",
       "    }\n",
       "\n",
       "    .dataframe thead th {\n",
       "        text-align: right;\n",
       "    }\n",
       "</style>\n",
       "<table border=\"1\" class=\"dataframe\">\n",
       "  <thead>\n",
       "    <tr style=\"text-align: right;\">\n",
       "      <th></th>\n",
       "      <th>val_real</th>\n",
       "    </tr>\n",
       "  </thead>\n",
       "  <tbody>\n",
       "    <tr>\n",
       "      <th>count</th>\n",
       "      <td>2233.00</td>\n",
       "    </tr>\n",
       "    <tr>\n",
       "      <th>mean</th>\n",
       "      <td>11556.58</td>\n",
       "    </tr>\n",
       "    <tr>\n",
       "      <th>std</th>\n",
       "      <td>15358.95</td>\n",
       "    </tr>\n",
       "    <tr>\n",
       "      <th>min</th>\n",
       "      <td>-14160.00</td>\n",
       "    </tr>\n",
       "    <tr>\n",
       "      <th>25%</th>\n",
       "      <td>860.00</td>\n",
       "    </tr>\n",
       "    <tr>\n",
       "      <th>50%</th>\n",
       "      <td>5740.00</td>\n",
       "    </tr>\n",
       "    <tr>\n",
       "      <th>75%</th>\n",
       "      <td>16782.00</td>\n",
       "    </tr>\n",
       "    <tr>\n",
       "      <th>max</th>\n",
       "      <td>134045.00</td>\n",
       "    </tr>\n",
       "  </tbody>\n",
       "</table>\n",
       "</div>"
      ],
      "text/plain": [
       "        val_real\n",
       "count    2233.00\n",
       "mean    11556.58\n",
       "std     15358.95\n",
       "min    -14160.00\n",
       "25%       860.00\n",
       "50%      5740.00\n",
       "75%     16782.00\n",
       "max    134045.00"
      ]
     },
     "execution_count": 88,
     "metadata": {},
     "output_type": "execute_result"
    }
   ],
   "source": [
    "pd.DataFrame(y_val.values.astype(int), columns=['val_real']).describe().round(2)"
   ]
  },
  {
   "cell_type": "code",
   "execution_count": 89,
   "id": "8f641261-2a3d-402f-9a9f-683b7b9088cd",
   "metadata": {},
   "outputs": [
    {
     "data": {
      "text/html": [
       "<div>\n",
       "<style scoped>\n",
       "    .dataframe tbody tr th:only-of-type {\n",
       "        vertical-align: middle;\n",
       "    }\n",
       "\n",
       "    .dataframe tbody tr th {\n",
       "        vertical-align: top;\n",
       "    }\n",
       "\n",
       "    .dataframe thead th {\n",
       "        text-align: right;\n",
       "    }\n",
       "</style>\n",
       "<table border=\"1\" class=\"dataframe\">\n",
       "  <thead>\n",
       "    <tr style=\"text-align: right;\">\n",
       "      <th></th>\n",
       "      <th>val_pred</th>\n",
       "    </tr>\n",
       "  </thead>\n",
       "  <tbody>\n",
       "    <tr>\n",
       "      <th>count</th>\n",
       "      <td>2233.00</td>\n",
       "    </tr>\n",
       "    <tr>\n",
       "      <th>mean</th>\n",
       "      <td>6212.90</td>\n",
       "    </tr>\n",
       "    <tr>\n",
       "      <th>std</th>\n",
       "      <td>1693.33</td>\n",
       "    </tr>\n",
       "    <tr>\n",
       "      <th>min</th>\n",
       "      <td>3707.48</td>\n",
       "    </tr>\n",
       "    <tr>\n",
       "      <th>25%</th>\n",
       "      <td>4881.20</td>\n",
       "    </tr>\n",
       "    <tr>\n",
       "      <th>50%</th>\n",
       "      <td>5698.22</td>\n",
       "    </tr>\n",
       "    <tr>\n",
       "      <th>75%</th>\n",
       "      <td>7451.70</td>\n",
       "    </tr>\n",
       "    <tr>\n",
       "      <th>max</th>\n",
       "      <td>12826.56</td>\n",
       "    </tr>\n",
       "  </tbody>\n",
       "</table>\n",
       "</div>"
      ],
      "text/plain": [
       "       val_pred\n",
       "count   2233.00\n",
       "mean    6212.90\n",
       "std     1693.33\n",
       "min     3707.48\n",
       "25%     4881.20\n",
       "50%     5698.22\n",
       "75%     7451.70\n",
       "max    12826.56"
      ]
     },
     "execution_count": 89,
     "metadata": {},
     "output_type": "execute_result"
    }
   ],
   "source": [
    "pd.DataFrame(y_valid_pred, columns=['val_pred']).describe().round(2)"
   ]
  },
  {
   "cell_type": "markdown",
   "id": "4a6c4007-31e5-4854-b82c-b6bec547bcad",
   "metadata": {},
   "source": [
    "## KNeighborsRegressor - Default"
   ]
  },
  {
   "cell_type": "code",
   "execution_count": 90,
   "id": "b81908fc-ea73-4248-b8b5-d7155541bf23",
   "metadata": {},
   "outputs": [],
   "source": [
    "# Preproceso 1 para SGDRegressor - GridSearch, RMSE 3778.109\n",
    "df = df_mes.copy()\n",
    "scaler = MinMaxScaler()\n",
    "ft_selector = LinearSVR(random_state=0)\n",
    "model_ = KNeighborsRegressor()"
   ]
  },
  {
   "cell_type": "code",
   "execution_count": 91,
   "id": "15b6638b-dafc-44c4-9faa-d0d8489c00b2",
   "metadata": {},
   "outputs": [],
   "source": [
    "# Features and target\n",
    "X = df.drop([ordinal_ft, target], axis=1)\n",
    "y = df[target]"
   ]
  },
  {
   "cell_type": "code",
   "execution_count": 92,
   "id": "9bc1ff72-b165-441e-bce5-da93cb162cc3",
   "metadata": {},
   "outputs": [],
   "source": [
    "# Train and validation\n",
    "X_train, X_val, y_train, y_val = train_test_split(X, y, test_size=0.3, random_state=0, shuffle=False)"
   ]
  },
  {
   "cell_type": "code",
   "execution_count": 93,
   "id": "2d10605e-4b66-4fe1-a328-cb02b62b0d8b",
   "metadata": {},
   "outputs": [
    {
     "data": {
      "text/plain": [
       "(5210, 53)"
      ]
     },
     "execution_count": 93,
     "metadata": {},
     "output_type": "execute_result"
    }
   ],
   "source": [
    "X_train.shape"
   ]
  },
  {
   "cell_type": "code",
   "execution_count": 94,
   "id": "770d8634-2fb2-44b3-8d5a-06be91dabcdf",
   "metadata": {},
   "outputs": [
    {
     "data": {
      "text/plain": [
       "(2233, 53)"
      ]
     },
     "execution_count": 94,
     "metadata": {},
     "output_type": "execute_result"
    }
   ],
   "source": [
    "X_val.shape"
   ]
  },
  {
   "cell_type": "markdown",
   "id": "2dd195be-2f4c-417c-bef1-2a6adc9825c8",
   "metadata": {},
   "source": [
    "#### Preproceso y ajuste"
   ]
  },
  {
   "cell_type": "code",
   "execution_count": 95,
   "id": "176dd5cb-9d56-4cd7-b7b2-522551bbe183",
   "metadata": {},
   "outputs": [],
   "source": [
    "# Preprocessing\n",
    "num_transformer = scaler\n",
    "cat_transformer = 'passthrough'\n",
    "\n",
    "num_features = [g for g in X.columns if 'client' not in g]\n",
    "cat_features = [g for g in X.columns if 'client' in g]\n",
    "\n",
    "preprocessor = ColumnTransformer(\n",
    "    transformers=[\n",
    "        ('num', num_transformer, num_features),\n",
    "        ('cat', cat_transformer, cat_features)])"
   ]
  },
  {
   "cell_type": "code",
   "execution_count": 96,
   "id": "95bb2e35-953a-4d90-a2d2-688b2482ee85",
   "metadata": {
    "tags": []
   },
   "outputs": [],
   "source": [
    "# Fit\n",
    "model = Pipeline([\n",
    "  ('preprocessor', preprocessor),\n",
    "  ('feature_selection', SelectFromModel(ft_selector)),\n",
    "  ('regressor', model_)\n",
    "])\n",
    "\n",
    "model.fit(X_train, y_train)\n",
    "knn = model"
   ]
  },
  {
   "cell_type": "code",
   "execution_count": 97,
   "id": "785aec58-471f-4db4-9e6a-156002178a69",
   "metadata": {},
   "outputs": [],
   "source": [
    "# Predict\n",
    "y_train_pred = model.predict(X_train)\n",
    "y_valid_pred = model.predict(X_val)"
   ]
  },
  {
   "cell_type": "markdown",
   "id": "8d9be68d-6bb8-4d90-9a0e-88a7f3795894",
   "metadata": {},
   "source": [
    "#### Evaluacion de predicciones"
   ]
  },
  {
   "cell_type": "code",
   "execution_count": 98,
   "id": "30879b34-599e-4548-9dbd-4250308a80c2",
   "metadata": {
    "tags": []
   },
   "outputs": [
    {
     "name": "stdout",
     "output_type": "stream",
     "text": [
      "Train error 73063078.761, Valid error 174264083.239\n"
     ]
    }
   ],
   "source": [
    "# evaluate MSE:\n",
    "train_error = mean_squared_error(y_train, y_train_pred)\n",
    "val_error = mean_squared_error(y_val, y_valid_pred)\n",
    "print(f'Train error {train_error.round(3)}, Valid error {val_error.round(3)}')  "
   ]
  },
  {
   "cell_type": "code",
   "execution_count": 99,
   "id": "b3f4538c-d91a-4275-a40c-e8761163d83f",
   "metadata": {
    "tags": []
   },
   "outputs": [
    {
     "name": "stdout",
     "output_type": "stream",
     "text": [
      "Train error RMSE 8547.694, Valid error RMSE 13200.912\n"
     ]
    }
   ],
   "source": [
    "# evaluate RMSE:\n",
    "train_error = np.sqrt(mean_squared_error(y_train, y_train_pred))\n",
    "val_error = np.sqrt(mean_squared_error(y_val, y_valid_pred))\n",
    "print(f'Train error RMSE {train_error.round(3)}, Valid error RMSE {val_error.round(3)}')  "
   ]
  },
  {
   "cell_type": "code",
   "execution_count": 100,
   "id": "ae9ca593-b290-4729-b92f-a1f19f654e2c",
   "metadata": {
    "tags": []
   },
   "outputs": [
    {
     "name": "stdout",
     "output_type": "stream",
     "text": [
      "Train error MAE 5119.237, Valid error MAE 7767.42\n"
     ]
    }
   ],
   "source": [
    "# evaluate MAE:\n",
    "train_error = mean_absolute_error(y_train, y_train_pred)\n",
    "val_error = mean_absolute_error(y_val, y_valid_pred)\n",
    "print(f'Train error MAE {train_error.round(3)}, Valid error MAE {val_error.round(3)}')  "
   ]
  },
  {
   "cell_type": "markdown",
   "id": "1eca9a0b-affb-499b-981b-9944265babf2",
   "metadata": {
    "tags": []
   },
   "source": [
    "Visualizamos nuestra variable target (real y predicción)"
   ]
  },
  {
   "cell_type": "code",
   "execution_count": 101,
   "id": "582e2012-41da-4e94-b8c8-2697257541d0",
   "metadata": {},
   "outputs": [
    {
     "data": {
      "text/html": [
       "<div>\n",
       "<style scoped>\n",
       "    .dataframe tbody tr th:only-of-type {\n",
       "        vertical-align: middle;\n",
       "    }\n",
       "\n",
       "    .dataframe tbody tr th {\n",
       "        vertical-align: top;\n",
       "    }\n",
       "\n",
       "    .dataframe thead th {\n",
       "        text-align: right;\n",
       "    }\n",
       "</style>\n",
       "<table border=\"1\" class=\"dataframe\">\n",
       "  <thead>\n",
       "    <tr style=\"text-align: right;\">\n",
       "      <th></th>\n",
       "      <th>val_real</th>\n",
       "    </tr>\n",
       "  </thead>\n",
       "  <tbody>\n",
       "    <tr>\n",
       "      <th>count</th>\n",
       "      <td>2233.00</td>\n",
       "    </tr>\n",
       "    <tr>\n",
       "      <th>mean</th>\n",
       "      <td>11556.58</td>\n",
       "    </tr>\n",
       "    <tr>\n",
       "      <th>std</th>\n",
       "      <td>15358.95</td>\n",
       "    </tr>\n",
       "    <tr>\n",
       "      <th>min</th>\n",
       "      <td>-14160.00</td>\n",
       "    </tr>\n",
       "    <tr>\n",
       "      <th>25%</th>\n",
       "      <td>860.00</td>\n",
       "    </tr>\n",
       "    <tr>\n",
       "      <th>50%</th>\n",
       "      <td>5740.00</td>\n",
       "    </tr>\n",
       "    <tr>\n",
       "      <th>75%</th>\n",
       "      <td>16782.00</td>\n",
       "    </tr>\n",
       "    <tr>\n",
       "      <th>max</th>\n",
       "      <td>134045.00</td>\n",
       "    </tr>\n",
       "  </tbody>\n",
       "</table>\n",
       "</div>"
      ],
      "text/plain": [
       "        val_real\n",
       "count    2233.00\n",
       "mean    11556.58\n",
       "std     15358.95\n",
       "min    -14160.00\n",
       "25%       860.00\n",
       "50%      5740.00\n",
       "75%     16782.00\n",
       "max    134045.00"
      ]
     },
     "execution_count": 101,
     "metadata": {},
     "output_type": "execute_result"
    }
   ],
   "source": [
    "pd.DataFrame(y_val.values.astype(int), columns=['val_real']).describe().round(2)"
   ]
  },
  {
   "cell_type": "code",
   "execution_count": 102,
   "id": "a13c9ccf-f18c-4fbe-a27b-21f121b5308b",
   "metadata": {},
   "outputs": [
    {
     "data": {
      "text/html": [
       "<div>\n",
       "<style scoped>\n",
       "    .dataframe tbody tr th:only-of-type {\n",
       "        vertical-align: middle;\n",
       "    }\n",
       "\n",
       "    .dataframe tbody tr th {\n",
       "        vertical-align: top;\n",
       "    }\n",
       "\n",
       "    .dataframe thead th {\n",
       "        text-align: right;\n",
       "    }\n",
       "</style>\n",
       "<table border=\"1\" class=\"dataframe\">\n",
       "  <thead>\n",
       "    <tr style=\"text-align: right;\">\n",
       "      <th></th>\n",
       "      <th>val_pred</th>\n",
       "    </tr>\n",
       "  </thead>\n",
       "  <tbody>\n",
       "    <tr>\n",
       "      <th>count</th>\n",
       "      <td>2233.00</td>\n",
       "    </tr>\n",
       "    <tr>\n",
       "      <th>mean</th>\n",
       "      <td>9940.77</td>\n",
       "    </tr>\n",
       "    <tr>\n",
       "      <th>std</th>\n",
       "      <td>9474.78</td>\n",
       "    </tr>\n",
       "    <tr>\n",
       "      <th>min</th>\n",
       "      <td>-608.00</td>\n",
       "    </tr>\n",
       "    <tr>\n",
       "      <th>25%</th>\n",
       "      <td>1690.00</td>\n",
       "    </tr>\n",
       "    <tr>\n",
       "      <th>50%</th>\n",
       "      <td>7862.00</td>\n",
       "    </tr>\n",
       "    <tr>\n",
       "      <th>75%</th>\n",
       "      <td>15513.00</td>\n",
       "    </tr>\n",
       "    <tr>\n",
       "      <th>max</th>\n",
       "      <td>63892.00</td>\n",
       "    </tr>\n",
       "  </tbody>\n",
       "</table>\n",
       "</div>"
      ],
      "text/plain": [
       "       val_pred\n",
       "count   2233.00\n",
       "mean    9940.77\n",
       "std     9474.78\n",
       "min     -608.00\n",
       "25%     1690.00\n",
       "50%     7862.00\n",
       "75%    15513.00\n",
       "max    63892.00"
      ]
     },
     "execution_count": 102,
     "metadata": {},
     "output_type": "execute_result"
    }
   ],
   "source": [
    "pd.DataFrame(y_valid_pred.astype(int), columns=['val_pred']).describe().round(2)"
   ]
  },
  {
   "cell_type": "markdown",
   "id": "c1f6d693-3e5f-405a-b736-8695c0398e45",
   "metadata": {},
   "source": [
    "## KNeighborsRegressor - Grid Search"
   ]
  },
  {
   "cell_type": "code",
   "execution_count": 103,
   "id": "0bd7bf51-d0c2-42f2-a210-13df99cab572",
   "metadata": {},
   "outputs": [],
   "source": [
    "# Preproceso 1 para KNeighborsRegressor - GridSearch\n",
    "df = df_mes.copy()\n",
    "scaler = MinMaxScaler()\n",
    "ft_selector = LinearSVR(random_state=0)\n",
    "model_ = KNeighborsRegressor()"
   ]
  },
  {
   "cell_type": "code",
   "execution_count": 104,
   "id": "004008df-1137-4589-a494-769f44058833",
   "metadata": {
    "tags": []
   },
   "outputs": [],
   "source": [
    "param_grid = {\n",
    "    'regressor__n_neighbors': [20,25,30,35],\n",
    "    'regressor__weights': ['uniform', 'distance'],\n",
    "    'regressor__algorithm': ['auto','ball_tree','kd_tree','brute'],\n",
    "    'regressor__p': [1,2]\n",
    "}"
   ]
  },
  {
   "cell_type": "markdown",
   "id": "e9303370-be7b-4768-a5ea-4e979c81029c",
   "metadata": {
    "tags": []
   },
   "source": [
    "Elegimos valores altos de K, porque?"
   ]
  },
  {
   "cell_type": "code",
   "execution_count": 105,
   "id": "e7b262ab-8371-4b45-8680-b49e8de7dc56",
   "metadata": {},
   "outputs": [],
   "source": [
    "# Features and target\n",
    "X = df.drop([ordinal_ft, target], axis=1)\n",
    "y = df[target]"
   ]
  },
  {
   "cell_type": "code",
   "execution_count": 106,
   "id": "9815825a-67d2-4be6-890f-ed810b6f432a",
   "metadata": {},
   "outputs": [],
   "source": [
    "# Train and validation\n",
    "X_train, X_val, y_train, y_val = train_test_split(X, y, test_size=0.3, random_state=0, shuffle=False)"
   ]
  },
  {
   "cell_type": "markdown",
   "id": "c4185bd9-5708-4834-b33a-7c3c61794b5c",
   "metadata": {},
   "source": [
    "#### Preproceso y ajuste"
   ]
  },
  {
   "cell_type": "code",
   "execution_count": 107,
   "id": "56badb3b-af88-451d-b369-d692e9ec2243",
   "metadata": {},
   "outputs": [],
   "source": [
    "# Preprocessing\n",
    "num_transformer = scaler\n",
    "cat_transformer = 'passthrough'\n",
    "\n",
    "num_features = [g for g in X.columns if 'client' not in g]\n",
    "cat_features = [g for g in X.columns if 'client' in g]\n",
    "\n",
    "preprocessor = ColumnTransformer(\n",
    "    transformers=[\n",
    "        ('num', num_transformer, num_features),\n",
    "        ('cat', cat_transformer, cat_features)])"
   ]
  },
  {
   "cell_type": "code",
   "execution_count": 108,
   "id": "b2884e53-da92-4bc6-8c34-a335d408f4f8",
   "metadata": {
    "tags": []
   },
   "outputs": [],
   "source": [
    "# Fit\n",
    "pipe = Pipeline([\n",
    "  ('preprocessor', preprocessor),\n",
    "  ('feature_selection', SelectFromModel(ft_selector)),\n",
    "  ('regressor', model_)\n",
    "])\n",
    "\n",
    "model = GridSearchCV(pipe, param_grid, scoring='neg_mean_squared_error',cv=5)\n",
    "\n",
    "model.fit(X_train, y_train)\n",
    "knn_cv = model"
   ]
  },
  {
   "cell_type": "code",
   "execution_count": 109,
   "id": "25c2d39b-bf9f-423c-895a-3b6c84d50501",
   "metadata": {},
   "outputs": [
    {
     "data": {
      "text/plain": [
       "{'regressor__algorithm': 'ball_tree',\n",
       " 'regressor__n_neighbors': 35,\n",
       " 'regressor__p': 1,\n",
       " 'regressor__weights': 'distance'}"
      ]
     },
     "execution_count": 109,
     "metadata": {},
     "output_type": "execute_result"
    }
   ],
   "source": [
    "model.best_params_"
   ]
  },
  {
   "cell_type": "code",
   "execution_count": 110,
   "id": "1f5f6d94-f46f-4a44-954c-95b47439cee5",
   "metadata": {},
   "outputs": [],
   "source": [
    "# Predict\n",
    "y_train_pred = model.predict(X_train)\n",
    "y_valid_pred = model.predict(X_val)"
   ]
  },
  {
   "cell_type": "markdown",
   "id": "7d2429c2-392d-4756-af3d-1f846fb5e6f7",
   "metadata": {},
   "source": [
    "#### Evaluacion de predicciones"
   ]
  },
  {
   "cell_type": "code",
   "execution_count": 111,
   "id": "f88f2513-6cb8-4943-b941-b92466d75468",
   "metadata": {
    "tags": []
   },
   "outputs": [
    {
     "name": "stdout",
     "output_type": "stream",
     "text": [
      "Train error 5230396.772, Valid error 171988275.278\n"
     ]
    }
   ],
   "source": [
    "# evaluate MSE:\n",
    "train_error = mean_squared_error(y_train, y_train_pred)\n",
    "val_error = mean_squared_error(y_val, y_valid_pred)\n",
    "print(f'Train error {train_error.round(3)}, Valid error {val_error.round(3)}')  "
   ]
  },
  {
   "cell_type": "code",
   "execution_count": 112,
   "id": "7d0ce3d2-4e7f-461c-aaeb-a1ff8f6ecd9e",
   "metadata": {
    "tags": []
   },
   "outputs": [
    {
     "name": "stdout",
     "output_type": "stream",
     "text": [
      "Train error RMSE 2287.006, Valid error RMSE 13114.43\n"
     ]
    }
   ],
   "source": [
    "# evaluate RMSE:\n",
    "train_error = np.sqrt(mean_squared_error(y_train, y_train_pred))\n",
    "val_error = np.sqrt(mean_squared_error(y_val, y_valid_pred))\n",
    "print(f'Train error RMSE {train_error.round(3)}, Valid error RMSE {val_error.round(3)}')  "
   ]
  },
  {
   "cell_type": "code",
   "execution_count": 113,
   "id": "128bd560-5cc0-4a98-af3f-330b6847073d",
   "metadata": {
    "tags": []
   },
   "outputs": [
    {
     "name": "stdout",
     "output_type": "stream",
     "text": [
      "Train error MAE 592.43, Valid error MAE 7412.593\n"
     ]
    }
   ],
   "source": [
    "# evaluate MAE:\n",
    "train_error = mean_absolute_error(y_train, y_train_pred)\n",
    "val_error = mean_absolute_error(y_val, y_valid_pred)\n",
    "print(f'Train error MAE {train_error.round(3)}, Valid error MAE {val_error.round(3)}')  "
   ]
  },
  {
   "cell_type": "markdown",
   "id": "61bb3c8e-1cb2-48e1-b866-bd8b71d15372",
   "metadata": {
    "tags": []
   },
   "source": [
    "Visualizamos nuestra variable target (real y predicción)"
   ]
  },
  {
   "cell_type": "code",
   "execution_count": 114,
   "id": "f719e8cb-2c95-4fa7-b5fc-d97048c545fa",
   "metadata": {},
   "outputs": [
    {
     "data": {
      "text/html": [
       "<div>\n",
       "<style scoped>\n",
       "    .dataframe tbody tr th:only-of-type {\n",
       "        vertical-align: middle;\n",
       "    }\n",
       "\n",
       "    .dataframe tbody tr th {\n",
       "        vertical-align: top;\n",
       "    }\n",
       "\n",
       "    .dataframe thead th {\n",
       "        text-align: right;\n",
       "    }\n",
       "</style>\n",
       "<table border=\"1\" class=\"dataframe\">\n",
       "  <thead>\n",
       "    <tr style=\"text-align: right;\">\n",
       "      <th></th>\n",
       "      <th>val_real</th>\n",
       "    </tr>\n",
       "  </thead>\n",
       "  <tbody>\n",
       "    <tr>\n",
       "      <th>count</th>\n",
       "      <td>2233.00</td>\n",
       "    </tr>\n",
       "    <tr>\n",
       "      <th>mean</th>\n",
       "      <td>11556.58</td>\n",
       "    </tr>\n",
       "    <tr>\n",
       "      <th>std</th>\n",
       "      <td>15358.95</td>\n",
       "    </tr>\n",
       "    <tr>\n",
       "      <th>min</th>\n",
       "      <td>-14160.00</td>\n",
       "    </tr>\n",
       "    <tr>\n",
       "      <th>25%</th>\n",
       "      <td>860.00</td>\n",
       "    </tr>\n",
       "    <tr>\n",
       "      <th>50%</th>\n",
       "      <td>5740.00</td>\n",
       "    </tr>\n",
       "    <tr>\n",
       "      <th>75%</th>\n",
       "      <td>16782.00</td>\n",
       "    </tr>\n",
       "    <tr>\n",
       "      <th>max</th>\n",
       "      <td>134045.00</td>\n",
       "    </tr>\n",
       "  </tbody>\n",
       "</table>\n",
       "</div>"
      ],
      "text/plain": [
       "        val_real\n",
       "count    2233.00\n",
       "mean    11556.58\n",
       "std     15358.95\n",
       "min    -14160.00\n",
       "25%       860.00\n",
       "50%      5740.00\n",
       "75%     16782.00\n",
       "max    134045.00"
      ]
     },
     "execution_count": 114,
     "metadata": {},
     "output_type": "execute_result"
    }
   ],
   "source": [
    "pd.DataFrame(y_val.values.astype(int), columns=['val_real']).describe().round(2)"
   ]
  },
  {
   "cell_type": "code",
   "execution_count": 115,
   "id": "8bab165e-6313-43af-8883-b838befd0b53",
   "metadata": {},
   "outputs": [
    {
     "data": {
      "text/html": [
       "<div>\n",
       "<style scoped>\n",
       "    .dataframe tbody tr th:only-of-type {\n",
       "        vertical-align: middle;\n",
       "    }\n",
       "\n",
       "    .dataframe tbody tr th {\n",
       "        vertical-align: top;\n",
       "    }\n",
       "\n",
       "    .dataframe thead th {\n",
       "        text-align: right;\n",
       "    }\n",
       "</style>\n",
       "<table border=\"1\" class=\"dataframe\">\n",
       "  <thead>\n",
       "    <tr style=\"text-align: right;\">\n",
       "      <th></th>\n",
       "      <th>val_pred</th>\n",
       "    </tr>\n",
       "  </thead>\n",
       "  <tbody>\n",
       "    <tr>\n",
       "      <th>count</th>\n",
       "      <td>2233.00</td>\n",
       "    </tr>\n",
       "    <tr>\n",
       "      <th>mean</th>\n",
       "      <td>8999.17</td>\n",
       "    </tr>\n",
       "    <tr>\n",
       "      <th>std</th>\n",
       "      <td>8134.47</td>\n",
       "    </tr>\n",
       "    <tr>\n",
       "      <th>min</th>\n",
       "      <td>-3445.56</td>\n",
       "    </tr>\n",
       "    <tr>\n",
       "      <th>25%</th>\n",
       "      <td>2253.81</td>\n",
       "    </tr>\n",
       "    <tr>\n",
       "      <th>50%</th>\n",
       "      <td>6917.40</td>\n",
       "    </tr>\n",
       "    <tr>\n",
       "      <th>75%</th>\n",
       "      <td>14195.31</td>\n",
       "    </tr>\n",
       "    <tr>\n",
       "      <th>max</th>\n",
       "      <td>51630.43</td>\n",
       "    </tr>\n",
       "  </tbody>\n",
       "</table>\n",
       "</div>"
      ],
      "text/plain": [
       "       val_pred\n",
       "count   2233.00\n",
       "mean    8999.17\n",
       "std     8134.47\n",
       "min    -3445.56\n",
       "25%     2253.81\n",
       "50%     6917.40\n",
       "75%    14195.31\n",
       "max    51630.43"
      ]
     },
     "execution_count": 115,
     "metadata": {},
     "output_type": "execute_result"
    }
   ],
   "source": [
    "pd.DataFrame(y_valid_pred, columns=['val_pred']).describe().round(2)"
   ]
  },
  {
   "cell_type": "markdown",
   "id": "0be9d74c-0f8f-46cc-a61c-a2ecc3a59e53",
   "metadata": {},
   "source": [
    "## GaussianProcessRegressor - Default"
   ]
  },
  {
   "cell_type": "code",
   "execution_count": 126,
   "id": "a3919d59-06d0-437d-a72f-d1f8c88fe541",
   "metadata": {},
   "outputs": [],
   "source": [
    "# Preproceso 1 para GaussianProcessRegressor - Default\n",
    "df = df_mes.copy()\n",
    "scaler = StandardScaler()\n",
    "ft_selector = RandomForestRegressor(random_state=0)\n",
    "model_ = GaussianProcessRegressor(random_state=0) # Kernel?"
   ]
  },
  {
   "cell_type": "code",
   "execution_count": 127,
   "id": "a48a2f27-52aa-4902-899e-537641dccc5c",
   "metadata": {},
   "outputs": [],
   "source": [
    "# Features and target\n",
    "X = df.drop([ordinal_ft, target], axis=1)\n",
    "y = df[target]"
   ]
  },
  {
   "cell_type": "code",
   "execution_count": 128,
   "id": "e188e279-198f-491a-88bf-59d2a2a93135",
   "metadata": {},
   "outputs": [],
   "source": [
    "# Train and validation\n",
    "X_train, X_val, y_train, y_val = train_test_split(X, y, test_size=0.3, random_state=0, shuffle=False)"
   ]
  },
  {
   "cell_type": "markdown",
   "id": "a2c7864f-6bb3-48ef-afec-c0478a0b9a70",
   "metadata": {},
   "source": [
    "#### Preproceso y ajuste"
   ]
  },
  {
   "cell_type": "code",
   "execution_count": 129,
   "id": "ab4be6b8-2123-4755-a019-f06e9ddaa319",
   "metadata": {},
   "outputs": [],
   "source": [
    "# Preprocessing\n",
    "num_transformer = scaler\n",
    "cat_transformer = 'passthrough'\n",
    "\n",
    "num_features = [g for g in X.columns if 'client' not in g]\n",
    "cat_features = [g for g in X.columns if 'client' in g]\n",
    "\n",
    "preprocessor = ColumnTransformer(\n",
    "    transformers=[\n",
    "        ('num', num_transformer, num_features),\n",
    "        ('cat', cat_transformer, cat_features)])"
   ]
  },
  {
   "cell_type": "code",
   "execution_count": 130,
   "id": "e64c75ac-5fd1-4a12-bef9-b079ce84bd66",
   "metadata": {},
   "outputs": [],
   "source": [
    "# Fit\n",
    "model = Pipeline([\n",
    "  ('preprocessor', preprocessor),\n",
    "  ('feature_selection', SelectFromModel(ft_selector)),\n",
    "  ('regressor', model_)\n",
    "])\n",
    "\n",
    "model.fit(X_train, y_train)\n",
    "gpr = model"
   ]
  },
  {
   "cell_type": "code",
   "execution_count": 131,
   "id": "7c48deca-36ad-4c43-9385-9bca58c77339",
   "metadata": {},
   "outputs": [],
   "source": [
    "# Predict\n",
    "y_train_pred = model.predict(X_train)\n",
    "y_valid_pred = model.predict(X_val)"
   ]
  },
  {
   "cell_type": "markdown",
   "id": "b329b646-3ff3-42f5-892b-fa087f2e10dc",
   "metadata": {},
   "source": [
    "#### Evaluacion de predicciones"
   ]
  },
  {
   "cell_type": "code",
   "execution_count": 132,
   "id": "ff3820be-d10d-4dfd-be43-33306efa3341",
   "metadata": {
    "tags": []
   },
   "outputs": [
    {
     "name": "stdout",
     "output_type": "stream",
     "text": [
      "Train error 16976.859, Valid error 360282760.625\n"
     ]
    }
   ],
   "source": [
    "# evaluate MSE:\n",
    "train_error = mean_squared_error(y_train, y_train_pred)\n",
    "val_error = mean_squared_error(y_val, y_valid_pred)\n",
    "print(f'Train error {train_error.round(3)}, Valid error {val_error.round(3)}')  "
   ]
  },
  {
   "cell_type": "code",
   "execution_count": 133,
   "id": "1be41911-ef50-4565-90ba-5d05130869f2",
   "metadata": {
    "tags": []
   },
   "outputs": [
    {
     "name": "stdout",
     "output_type": "stream",
     "text": [
      "Train error RMSE 130.295, Valid error RMSE 18981.116\n"
     ]
    }
   ],
   "source": [
    "# evaluate RMSE:\n",
    "train_error = np.sqrt(mean_squared_error(y_train, y_train_pred))\n",
    "val_error = np.sqrt(mean_squared_error(y_val, y_valid_pred))\n",
    "print(f'Train error RMSE {train_error.round(3)}, Valid error RMSE {val_error.round(3)}')  "
   ]
  },
  {
   "cell_type": "code",
   "execution_count": 134,
   "id": "4148e460-28a3-4789-af03-87ab9733896e",
   "metadata": {
    "tags": []
   },
   "outputs": [
    {
     "name": "stdout",
     "output_type": "stream",
     "text": [
      "Train error MAE 3.605, Valid error MAE 11383.121\n"
     ]
    }
   ],
   "source": [
    "# evaluate MAE:\n",
    "train_error = mean_absolute_error(y_train, y_train_pred)\n",
    "val_error = mean_absolute_error(y_val, y_valid_pred)\n",
    "print(f'Train error MAE {train_error.round(3)}, Valid error MAE {val_error.round(3)}')  "
   ]
  },
  {
   "cell_type": "markdown",
   "id": "4dbe56b9-9d49-48c6-85aa-2b7aee426944",
   "metadata": {
    "tags": []
   },
   "source": [
    "Visualizamos nuestra variable target (real y predicción)"
   ]
  },
  {
   "cell_type": "code",
   "execution_count": 135,
   "id": "0a02ebed-13a0-4c02-a299-c81501415e05",
   "metadata": {},
   "outputs": [
    {
     "data": {
      "text/html": [
       "<div>\n",
       "<style scoped>\n",
       "    .dataframe tbody tr th:only-of-type {\n",
       "        vertical-align: middle;\n",
       "    }\n",
       "\n",
       "    .dataframe tbody tr th {\n",
       "        vertical-align: top;\n",
       "    }\n",
       "\n",
       "    .dataframe thead th {\n",
       "        text-align: right;\n",
       "    }\n",
       "</style>\n",
       "<table border=\"1\" class=\"dataframe\">\n",
       "  <thead>\n",
       "    <tr style=\"text-align: right;\">\n",
       "      <th></th>\n",
       "      <th>val_real</th>\n",
       "    </tr>\n",
       "  </thead>\n",
       "  <tbody>\n",
       "    <tr>\n",
       "      <th>count</th>\n",
       "      <td>2233.00</td>\n",
       "    </tr>\n",
       "    <tr>\n",
       "      <th>mean</th>\n",
       "      <td>11556.58</td>\n",
       "    </tr>\n",
       "    <tr>\n",
       "      <th>std</th>\n",
       "      <td>15358.95</td>\n",
       "    </tr>\n",
       "    <tr>\n",
       "      <th>min</th>\n",
       "      <td>-14160.00</td>\n",
       "    </tr>\n",
       "    <tr>\n",
       "      <th>25%</th>\n",
       "      <td>860.00</td>\n",
       "    </tr>\n",
       "    <tr>\n",
       "      <th>50%</th>\n",
       "      <td>5740.00</td>\n",
       "    </tr>\n",
       "    <tr>\n",
       "      <th>75%</th>\n",
       "      <td>16782.00</td>\n",
       "    </tr>\n",
       "    <tr>\n",
       "      <th>max</th>\n",
       "      <td>134045.00</td>\n",
       "    </tr>\n",
       "  </tbody>\n",
       "</table>\n",
       "</div>"
      ],
      "text/plain": [
       "        val_real\n",
       "count    2233.00\n",
       "mean    11556.58\n",
       "std     15358.95\n",
       "min    -14160.00\n",
       "25%       860.00\n",
       "50%      5740.00\n",
       "75%     16782.00\n",
       "max    134045.00"
      ]
     },
     "execution_count": 135,
     "metadata": {},
     "output_type": "execute_result"
    }
   ],
   "source": [
    "pd.DataFrame(y_val.values.astype(int), columns=['val_real']).describe().round(2)"
   ]
  },
  {
   "cell_type": "code",
   "execution_count": 136,
   "id": "5911c7c9-68a9-441a-81c5-0bd94005f2a5",
   "metadata": {},
   "outputs": [
    {
     "data": {
      "text/html": [
       "<div>\n",
       "<style scoped>\n",
       "    .dataframe tbody tr th:only-of-type {\n",
       "        vertical-align: middle;\n",
       "    }\n",
       "\n",
       "    .dataframe tbody tr th {\n",
       "        vertical-align: top;\n",
       "    }\n",
       "\n",
       "    .dataframe thead th {\n",
       "        text-align: right;\n",
       "    }\n",
       "</style>\n",
       "<table border=\"1\" class=\"dataframe\">\n",
       "  <thead>\n",
       "    <tr style=\"text-align: right;\">\n",
       "      <th></th>\n",
       "      <th>val_pred</th>\n",
       "    </tr>\n",
       "  </thead>\n",
       "  <tbody>\n",
       "    <tr>\n",
       "      <th>count</th>\n",
       "      <td>2233.00</td>\n",
       "    </tr>\n",
       "    <tr>\n",
       "      <th>mean</th>\n",
       "      <td>778.71</td>\n",
       "    </tr>\n",
       "    <tr>\n",
       "      <th>std</th>\n",
       "      <td>1952.61</td>\n",
       "    </tr>\n",
       "    <tr>\n",
       "      <th>min</th>\n",
       "      <td>-6809.03</td>\n",
       "    </tr>\n",
       "    <tr>\n",
       "      <th>25%</th>\n",
       "      <td>5.89</td>\n",
       "    </tr>\n",
       "    <tr>\n",
       "      <th>50%</th>\n",
       "      <td>143.35</td>\n",
       "    </tr>\n",
       "    <tr>\n",
       "      <th>75%</th>\n",
       "      <td>663.18</td>\n",
       "    </tr>\n",
       "    <tr>\n",
       "      <th>max</th>\n",
       "      <td>30327.68</td>\n",
       "    </tr>\n",
       "  </tbody>\n",
       "</table>\n",
       "</div>"
      ],
      "text/plain": [
       "       val_pred\n",
       "count   2233.00\n",
       "mean     778.71\n",
       "std     1952.61\n",
       "min    -6809.03\n",
       "25%        5.89\n",
       "50%      143.35\n",
       "75%      663.18\n",
       "max    30327.68"
      ]
     },
     "execution_count": 136,
     "metadata": {},
     "output_type": "execute_result"
    }
   ],
   "source": [
    "pd.DataFrame(y_valid_pred, columns=['val_pred']).describe().round(2)"
   ]
  },
  {
   "cell_type": "markdown",
   "id": "f5a1db4d-fb35-4226-832b-31a05737b949",
   "metadata": {},
   "source": [
    "## GaussianProcessRegressor - Grid Search "
   ]
  },
  {
   "cell_type": "code",
   "execution_count": 143,
   "id": "0ae8edff-b394-4b9e-a552-47fc723b54d3",
   "metadata": {
    "tags": []
   },
   "outputs": [],
   "source": [
    "ker_rbf = ConstantKernel(1.0, constant_value_bounds=\"fixed\") * RBF(1.0, length_scale_bounds=\"fixed\")\n",
    "ker_rq = ConstantKernel(1.0, constant_value_bounds=\"fixed\") * RationalQuadratic(alpha=0.1, length_scale=1)\n",
    "ker_expsine = ConstantKernel(1.0, constant_value_bounds=\"fixed\") * ExpSineSquared(1.0, 5.0, periodicity_bounds=(1e-2, 1e1))\n",
    "\n",
    "kernel_list = [ker_rbf, ker_rq, ker_expsine]\n",
    "\n",
    "param_grid = {\"regressor__kernel\": kernel_list,\n",
    "              \"regressor__alpha\": [0.1]}"
   ]
  },
  {
   "cell_type": "code",
   "execution_count": 144,
   "id": "5419dfc7-2741-42b8-bfcf-648493fd9b1e",
   "metadata": {},
   "outputs": [],
   "source": [
    "# Preproceso 1 para GaussianProcessRegressor - GridSearch\n",
    "df = df_mes.copy()\n",
    "scaler = StandardScaler()\n",
    "#ft_selector = RandomForestRegressor(random_state=0)\n",
    "model_ = GaussianProcessRegressor(random_state=0) # Kernel?"
   ]
  },
  {
   "cell_type": "code",
   "execution_count": 145,
   "id": "c0947a6a-2a31-4b22-ab7a-e0bcc2679124",
   "metadata": {},
   "outputs": [],
   "source": [
    "# Features and target\n",
    "X = df.drop([ordinal_ft, target], axis=1)\n",
    "y = df[target]"
   ]
  },
  {
   "cell_type": "code",
   "execution_count": 146,
   "id": "90098b40-b2a9-4e47-b111-f98394bb454b",
   "metadata": {},
   "outputs": [],
   "source": [
    "# Train and validation\n",
    "X_train, X_val, y_train, y_val = train_test_split(X, y, test_size=0.3, random_state=0, shuffle=False)"
   ]
  },
  {
   "cell_type": "markdown",
   "id": "87f26d09-36cf-42d8-a9f2-5a9f68e9ede4",
   "metadata": {},
   "source": [
    "#### Preproceso y ajuste"
   ]
  },
  {
   "cell_type": "code",
   "execution_count": 147,
   "id": "7b3ab720-bcd6-4c34-8a3d-a1d387687208",
   "metadata": {},
   "outputs": [],
   "source": [
    "# Preprocessing\n",
    "num_transformer = scaler\n",
    "cat_transformer = 'passthrough'\n",
    "\n",
    "num_features = [g for g in X.columns if 'client' not in g]\n",
    "cat_features = [g for g in X.columns if 'client' in g]\n",
    "\n",
    "preprocessor = ColumnTransformer(\n",
    "    transformers=[\n",
    "        ('num', num_transformer, num_features),\n",
    "        ('cat', cat_transformer, cat_features)])"
   ]
  },
  {
   "cell_type": "code",
   "execution_count": 148,
   "id": "b9feaad4-189a-49e3-8629-62af135a52a6",
   "metadata": {
    "tags": []
   },
   "outputs": [
    {
     "name": "stdout",
     "output_type": "stream",
     "text": [
      "Fitting 5 folds for each of 3 candidates, totalling 15 fits\n",
      "[CV] END regressor__alpha=0.1, regressor__kernel=1**2 * RBF(length_scale=1); total time=  13.3s\n",
      "[CV] END regressor__alpha=0.1, regressor__kernel=1**2 * RBF(length_scale=1); total time=  14.1s\n",
      "[CV] END regressor__alpha=0.1, regressor__kernel=1**2 * RBF(length_scale=1); total time=  13.4s\n",
      "[CV] END regressor__alpha=0.1, regressor__kernel=1**2 * RBF(length_scale=1); total time=  13.3s\n",
      "[CV] END regressor__alpha=0.1, regressor__kernel=1**2 * RBF(length_scale=1); total time=  13.9s\n",
      "[CV] END regressor__alpha=0.1, regressor__kernel=1**2 * RationalQuadratic(alpha=0.1, length_scale=1); total time= 2.4min\n",
      "[CV] END regressor__alpha=0.1, regressor__kernel=1**2 * RationalQuadratic(alpha=0.1, length_scale=1); total time= 2.3min\n",
      "[CV] END regressor__alpha=0.1, regressor__kernel=1**2 * RationalQuadratic(alpha=0.1, length_scale=1); total time= 2.7min\n",
      "[CV] END regressor__alpha=0.1, regressor__kernel=1**2 * RationalQuadratic(alpha=0.1, length_scale=1); total time= 2.4min\n",
      "[CV] END regressor__alpha=0.1, regressor__kernel=1**2 * RationalQuadratic(alpha=0.1, length_scale=1); total time= 2.2min\n",
      "[CV] END regressor__alpha=0.1, regressor__kernel=1**2 * ExpSineSquared(length_scale=1, periodicity=5); total time=   9.5s\n",
      "[CV] END regressor__alpha=0.1, regressor__kernel=1**2 * ExpSineSquared(length_scale=1, periodicity=5); total time=   8.7s\n",
      "[CV] END regressor__alpha=0.1, regressor__kernel=1**2 * ExpSineSquared(length_scale=1, periodicity=5); total time=   9.1s\n",
      "[CV] END regressor__alpha=0.1, regressor__kernel=1**2 * ExpSineSquared(length_scale=1, periodicity=5); total time=   8.7s\n",
      "[CV] END regressor__alpha=0.1, regressor__kernel=1**2 * ExpSineSquared(length_scale=1, periodicity=5); total time=   8.4s\n"
     ]
    }
   ],
   "source": [
    "# Fit\n",
    "pipe = Pipeline([\n",
    "  ('preprocessor', preprocessor),\n",
    "#  ('feature_selection', SelectFromModel(ft_selector)),\n",
    "  ('regressor', model_)\n",
    "])\n",
    "\n",
    "model = GridSearchCV(pipe, param_grid, scoring='neg_mean_squared_error',cv=5, verbose=2)\n",
    "\n",
    "model.fit(X_train, y_train)\n",
    "gpr_cv = model"
   ]
  },
  {
   "cell_type": "code",
   "execution_count": 149,
   "id": "851cc8a8-a2b1-4c89-bd61-c9720380edbf",
   "metadata": {},
   "outputs": [
    {
     "data": {
      "text/plain": [
       "{'regressor__alpha': 0.1,\n",
       " 'regressor__kernel': 1**2 * RationalQuadratic(alpha=0.1, length_scale=1)}"
      ]
     },
     "execution_count": 149,
     "metadata": {},
     "output_type": "execute_result"
    }
   ],
   "source": [
    "model.best_params_"
   ]
  },
  {
   "cell_type": "code",
   "execution_count": 150,
   "id": "f43664c1-8bea-40f7-a72e-dc2a8451fa9c",
   "metadata": {},
   "outputs": [],
   "source": [
    "# Predict\n",
    "y_train_pred = model.predict(X_train)\n",
    "y_valid_pred = model.predict(X_val)"
   ]
  },
  {
   "cell_type": "markdown",
   "id": "a7ae2bf0-b390-4716-b59e-1163b6f36bf0",
   "metadata": {},
   "source": [
    "#### Evaluacion de predicciones"
   ]
  },
  {
   "cell_type": "code",
   "execution_count": 151,
   "id": "76a35523-90a6-48ea-a43c-3278cbdf893b",
   "metadata": {
    "tags": []
   },
   "outputs": [
    {
     "name": "stdout",
     "output_type": "stream",
     "text": [
      "Train error 1365929.338, Valid error 179531721.684\n"
     ]
    }
   ],
   "source": [
    "# evaluate MSE:\n",
    "train_error = mean_squared_error(y_train, y_train_pred)\n",
    "val_error = mean_squared_error(y_val, y_valid_pred)\n",
    "print(f'Train error {train_error.round(3)}, Valid error {val_error.round(3)}')  "
   ]
  },
  {
   "cell_type": "code",
   "execution_count": 152,
   "id": "67c429f1-1411-4e21-9e7b-b636072d304c",
   "metadata": {
    "tags": []
   },
   "outputs": [
    {
     "name": "stdout",
     "output_type": "stream",
     "text": [
      "Train error RMSE 1168.73, Valid error RMSE 13398.945\n"
     ]
    }
   ],
   "source": [
    "# evaluate RMSE:\n",
    "train_error = np.sqrt(mean_squared_error(y_train, y_train_pred))\n",
    "val_error = np.sqrt(mean_squared_error(y_val, y_valid_pred))\n",
    "print(f'Train error RMSE {train_error.round(3)}, Valid error RMSE {val_error.round(3)}')  "
   ]
  },
  {
   "cell_type": "code",
   "execution_count": 153,
   "id": "f5b84615-d407-4784-b315-6cf32eb05445",
   "metadata": {
    "tags": []
   },
   "outputs": [
    {
     "name": "stdout",
     "output_type": "stream",
     "text": [
      "Train error MAE 772.509, Valid error MAE 9282.836\n"
     ]
    }
   ],
   "source": [
    "# evaluate MAE:\n",
    "train_error = mean_absolute_error(y_train, y_train_pred)\n",
    "val_error = mean_absolute_error(y_val, y_valid_pred)\n",
    "print(f'Train error MAE {train_error.round(3)}, Valid error MAE {val_error.round(3)}')  "
   ]
  },
  {
   "cell_type": "markdown",
   "id": "7d08673f-8733-40ba-8970-7f341069097e",
   "metadata": {
    "tags": []
   },
   "source": [
    "Visualizamos nuestra variable target (real y predicción)"
   ]
  },
  {
   "cell_type": "code",
   "execution_count": 154,
   "id": "8442e239-bd33-4197-b053-cc1ea4a1dfe6",
   "metadata": {},
   "outputs": [
    {
     "data": {
      "text/html": [
       "<div>\n",
       "<style scoped>\n",
       "    .dataframe tbody tr th:only-of-type {\n",
       "        vertical-align: middle;\n",
       "    }\n",
       "\n",
       "    .dataframe tbody tr th {\n",
       "        vertical-align: top;\n",
       "    }\n",
       "\n",
       "    .dataframe thead th {\n",
       "        text-align: right;\n",
       "    }\n",
       "</style>\n",
       "<table border=\"1\" class=\"dataframe\">\n",
       "  <thead>\n",
       "    <tr style=\"text-align: right;\">\n",
       "      <th></th>\n",
       "      <th>val_real</th>\n",
       "    </tr>\n",
       "  </thead>\n",
       "  <tbody>\n",
       "    <tr>\n",
       "      <th>count</th>\n",
       "      <td>2233.00</td>\n",
       "    </tr>\n",
       "    <tr>\n",
       "      <th>mean</th>\n",
       "      <td>11556.58</td>\n",
       "    </tr>\n",
       "    <tr>\n",
       "      <th>std</th>\n",
       "      <td>15358.95</td>\n",
       "    </tr>\n",
       "    <tr>\n",
       "      <th>min</th>\n",
       "      <td>-14160.00</td>\n",
       "    </tr>\n",
       "    <tr>\n",
       "      <th>25%</th>\n",
       "      <td>860.00</td>\n",
       "    </tr>\n",
       "    <tr>\n",
       "      <th>50%</th>\n",
       "      <td>5740.00</td>\n",
       "    </tr>\n",
       "    <tr>\n",
       "      <th>75%</th>\n",
       "      <td>16782.00</td>\n",
       "    </tr>\n",
       "    <tr>\n",
       "      <th>max</th>\n",
       "      <td>134045.00</td>\n",
       "    </tr>\n",
       "  </tbody>\n",
       "</table>\n",
       "</div>"
      ],
      "text/plain": [
       "        val_real\n",
       "count    2233.00\n",
       "mean    11556.58\n",
       "std     15358.95\n",
       "min    -14160.00\n",
       "25%       860.00\n",
       "50%      5740.00\n",
       "75%     16782.00\n",
       "max    134045.00"
      ]
     },
     "execution_count": 154,
     "metadata": {},
     "output_type": "execute_result"
    }
   ],
   "source": [
    "pd.DataFrame(y_val.values.astype(int), columns=['val_real']).describe().round(2)"
   ]
  },
  {
   "cell_type": "code",
   "execution_count": 155,
   "id": "7d4b1873-49ca-4a11-92df-e8063e53ff03",
   "metadata": {},
   "outputs": [
    {
     "data": {
      "text/html": [
       "<div>\n",
       "<style scoped>\n",
       "    .dataframe tbody tr th:only-of-type {\n",
       "        vertical-align: middle;\n",
       "    }\n",
       "\n",
       "    .dataframe tbody tr th {\n",
       "        vertical-align: top;\n",
       "    }\n",
       "\n",
       "    .dataframe thead th {\n",
       "        text-align: right;\n",
       "    }\n",
       "</style>\n",
       "<table border=\"1\" class=\"dataframe\">\n",
       "  <thead>\n",
       "    <tr style=\"text-align: right;\">\n",
       "      <th></th>\n",
       "      <th>val_pred</th>\n",
       "    </tr>\n",
       "  </thead>\n",
       "  <tbody>\n",
       "    <tr>\n",
       "      <th>count</th>\n",
       "      <td>2233.00</td>\n",
       "    </tr>\n",
       "    <tr>\n",
       "      <th>mean</th>\n",
       "      <td>12080.70</td>\n",
       "    </tr>\n",
       "    <tr>\n",
       "      <th>std</th>\n",
       "      <td>5466.87</td>\n",
       "    </tr>\n",
       "    <tr>\n",
       "      <th>min</th>\n",
       "      <td>189.17</td>\n",
       "    </tr>\n",
       "    <tr>\n",
       "      <th>25%</th>\n",
       "      <td>8057.07</td>\n",
       "    </tr>\n",
       "    <tr>\n",
       "      <th>50%</th>\n",
       "      <td>11342.96</td>\n",
       "    </tr>\n",
       "    <tr>\n",
       "      <th>75%</th>\n",
       "      <td>15707.30</td>\n",
       "    </tr>\n",
       "    <tr>\n",
       "      <th>max</th>\n",
       "      <td>32269.24</td>\n",
       "    </tr>\n",
       "  </tbody>\n",
       "</table>\n",
       "</div>"
      ],
      "text/plain": [
       "       val_pred\n",
       "count   2233.00\n",
       "mean   12080.70\n",
       "std     5466.87\n",
       "min      189.17\n",
       "25%     8057.07\n",
       "50%    11342.96\n",
       "75%    15707.30\n",
       "max    32269.24"
      ]
     },
     "execution_count": 155,
     "metadata": {},
     "output_type": "execute_result"
    }
   ],
   "source": [
    "pd.DataFrame(y_valid_pred, columns=['val_pred']).describe().round(2)"
   ]
  },
  {
   "cell_type": "markdown",
   "id": "64e2e60e-2e86-4049-bdc3-3182287cc8bb",
   "metadata": {},
   "source": [
    "## XGBRegressor - Default"
   ]
  },
  {
   "cell_type": "code",
   "execution_count": 156,
   "id": "4cf507cf-9bb0-4631-b1f8-955ed461ca8e",
   "metadata": {},
   "outputs": [],
   "source": [
    "# Preproceso 1 para XGBRegressor - Default\n",
    "df = df_encode.copy()\n",
    "scaler = MinMaxScaler()\n",
    "ft_selector = RandomForestRegressor(random_state=0)\n",
    "model_ = XGBRegressor(random_state=0, verbosity=2)"
   ]
  },
  {
   "cell_type": "code",
   "execution_count": 157,
   "id": "671675b0-a8e3-452f-93a5-164f799f3d50",
   "metadata": {},
   "outputs": [],
   "source": [
    "# Features and target\n",
    "X = df.drop([ordinal_ft, target], axis=1)\n",
    "y = df[target]"
   ]
  },
  {
   "cell_type": "code",
   "execution_count": 158,
   "id": "da5e74d8-ea06-44c0-bc28-fa784e3a000a",
   "metadata": {},
   "outputs": [],
   "source": [
    "# Train and validation\n",
    "X_train, X_val, y_train, y_val = train_test_split(X, y, test_size=0.2, random_state=0, shuffle=True)"
   ]
  },
  {
   "cell_type": "markdown",
   "id": "f33f0e58-9f67-417e-ad70-844ec230c839",
   "metadata": {},
   "source": [
    "#### Preproceso y ajuste"
   ]
  },
  {
   "cell_type": "code",
   "execution_count": 159,
   "id": "8aed69fc-ac6b-439f-a5f5-91750bb8f8d0",
   "metadata": {},
   "outputs": [],
   "source": [
    "# Preprocessing\n",
    "num_transformer = scaler\n",
    "cat_transformer = 'passthrough'\n",
    "\n",
    "num_features = [g for g in X.columns if 'client' not in g]\n",
    "cat_features = [g for g in X.columns if 'client' in g]\n",
    "\n",
    "preprocessor = ColumnTransformer(\n",
    "    transformers=[\n",
    "        ('num', num_transformer, num_features),\n",
    "        ('cat', cat_transformer, cat_features)])"
   ]
  },
  {
   "cell_type": "code",
   "execution_count": 160,
   "id": "84128bdf-8b16-4dfc-87a2-494cd2ecc8d6",
   "metadata": {},
   "outputs": [],
   "source": [
    "# Fit\n",
    "model = Pipeline([\n",
    "  ('preprocessor', preprocessor),\n",
    "  ('feature_selection', SelectFromModel(ft_selector)),\n",
    "  ('regressor', model_)\n",
    "])\n",
    "\n",
    "model.fit(X_train, y_train)\n",
    "xgb = model"
   ]
  },
  {
   "cell_type": "code",
   "execution_count": 161,
   "id": "9ac73d80-9ffa-48d9-9780-5b3fd757f7fa",
   "metadata": {},
   "outputs": [],
   "source": [
    "# Predict\n",
    "y_train_pred = model.predict(X_train)\n",
    "y_valid_pred = model.predict(X_val)"
   ]
  },
  {
   "cell_type": "code",
   "execution_count": 301,
   "id": "f9073251-e641-40f9-aad8-0fb0f34a49d8",
   "metadata": {},
   "outputs": [
    {
     "data": {
      "text/plain": [
       "Pipeline(steps=[('preprocessor',\n",
       "                 ColumnTransformer(transformers=[('num', MinMaxScaler(),\n",
       "                                                  ['anio_mes_cupon',\n",
       "                                                   'fecha_cupon_movimiento',\n",
       "                                                   'trans__x0_AX',\n",
       "                                                   'trans__x0_EX',\n",
       "                                                   'trans__x0_MC',\n",
       "                                                   'trans__x0_PC',\n",
       "                                                   'trans__x0_PL',\n",
       "                                                   'trans__x0_PN',\n",
       "                                                   'trans__x0_PP',\n",
       "                                                   'trans__x0_TA',\n",
       "                                                   'trans__x0_VI',\n",
       "                                                   'trans__x0_ZE',\n",
       "                                                   'trans__x1_0',\n",
       "                                                   'trans__x1_22',\n",
       "                                                   'trans__x1_3',\n",
       "                                                   'trans__x1_32',\n",
       "                                                   'trans__x1_4'...\n",
       "                              colsample_bytree=1, gamma=0, gpu_id=-1,\n",
       "                              importance_type='gain',\n",
       "                              interaction_constraints='',\n",
       "                              learning_rate=0.300000012, max_delta_step=0,\n",
       "                              max_depth=6, min_child_weight=1, missing=nan,\n",
       "                              monotone_constraints='()', n_estimators=100,\n",
       "                              n_jobs=4, num_parallel_tree=1, random_state=0,\n",
       "                              reg_alpha=0, reg_lambda=1, scale_pos_weight=1,\n",
       "                              subsample=1, tree_method='exact',\n",
       "                              validate_parameters=1, verbosity=None))])"
      ]
     },
     "execution_count": 301,
     "metadata": {},
     "output_type": "execute_result"
    }
   ],
   "source": [
    "xgb"
   ]
  },
  {
   "cell_type": "markdown",
   "id": "ab402581-745a-4100-9299-98252734481b",
   "metadata": {},
   "source": [
    "#### Evaluacion de predicciones"
   ]
  },
  {
   "cell_type": "code",
   "execution_count": 162,
   "id": "23be29cc-4fbc-43bd-b680-6ec24c5be331",
   "metadata": {
    "tags": []
   },
   "outputs": [
    {
     "name": "stdout",
     "output_type": "stream",
     "text": [
      "Train error 9386150.397, Valid error 12803482.985\n"
     ]
    }
   ],
   "source": [
    "# evaluate MSE:\n",
    "train_error = mean_squared_error(y_train, y_train_pred)\n",
    "val_error = mean_squared_error(y_val, y_valid_pred)\n",
    "print(f'Train error {train_error.round(3)}, Valid error {val_error.round(3)}')  "
   ]
  },
  {
   "cell_type": "code",
   "execution_count": 163,
   "id": "73bcb24b-d9d6-45d0-920b-370efd705fc1",
   "metadata": {
    "tags": []
   },
   "outputs": [
    {
     "name": "stdout",
     "output_type": "stream",
     "text": [
      "Train error RMSE 3063.682, Valid error RMSE 3578.195\n"
     ]
    }
   ],
   "source": [
    "# evaluate RMSE:\n",
    "train_error = np.sqrt(mean_squared_error(y_train, y_train_pred))\n",
    "val_error = np.sqrt(mean_squared_error(y_val, y_valid_pred))\n",
    "print(f'Train error RMSE {train_error.round(3)}, Valid error RMSE {val_error.round(3)}')  "
   ]
  },
  {
   "cell_type": "code",
   "execution_count": 164,
   "id": "821b09a4-7f9b-4407-9d8c-fb0ef99796f2",
   "metadata": {
    "tags": []
   },
   "outputs": [
    {
     "name": "stdout",
     "output_type": "stream",
     "text": [
      "Train error MAE 1334.337, Valid error MAE 1527.815\n"
     ]
    }
   ],
   "source": [
    "# evaluate MAE:\n",
    "train_error = mean_absolute_error(y_train, y_train_pred)\n",
    "val_error = mean_absolute_error(y_val, y_valid_pred)\n",
    "print(f'Train error MAE {train_error.round(3)}, Valid error MAE {val_error.round(3)}')  "
   ]
  },
  {
   "cell_type": "markdown",
   "id": "df15acb0-401d-47ff-9fbd-dcd7ae6d9506",
   "metadata": {
    "tags": []
   },
   "source": [
    "Visualizamos nuestra variable target (real y predicción)"
   ]
  },
  {
   "cell_type": "code",
   "execution_count": 165,
   "id": "fe26d948-48d4-49f1-b871-311703fe3325",
   "metadata": {},
   "outputs": [
    {
     "data": {
      "text/html": [
       "<div>\n",
       "<style scoped>\n",
       "    .dataframe tbody tr th:only-of-type {\n",
       "        vertical-align: middle;\n",
       "    }\n",
       "\n",
       "    .dataframe tbody tr th {\n",
       "        vertical-align: top;\n",
       "    }\n",
       "\n",
       "    .dataframe thead th {\n",
       "        text-align: right;\n",
       "    }\n",
       "</style>\n",
       "<table border=\"1\" class=\"dataframe\">\n",
       "  <thead>\n",
       "    <tr style=\"text-align: right;\">\n",
       "      <th></th>\n",
       "      <th>val_real</th>\n",
       "    </tr>\n",
       "  </thead>\n",
       "  <tbody>\n",
       "    <tr>\n",
       "      <th>count</th>\n",
       "      <td>10802.00</td>\n",
       "    </tr>\n",
       "    <tr>\n",
       "      <th>mean</th>\n",
       "      <td>1549.12</td>\n",
       "    </tr>\n",
       "    <tr>\n",
       "      <th>std</th>\n",
       "      <td>3902.70</td>\n",
       "    </tr>\n",
       "    <tr>\n",
       "      <th>min</th>\n",
       "      <td>-19121.00</td>\n",
       "    </tr>\n",
       "    <tr>\n",
       "      <th>25%</th>\n",
       "      <td>85.00</td>\n",
       "    </tr>\n",
       "    <tr>\n",
       "      <th>50%</th>\n",
       "      <td>266.00</td>\n",
       "    </tr>\n",
       "    <tr>\n",
       "      <th>75%</th>\n",
       "      <td>1299.00</td>\n",
       "    </tr>\n",
       "    <tr>\n",
       "      <th>max</th>\n",
       "      <td>62261.00</td>\n",
       "    </tr>\n",
       "  </tbody>\n",
       "</table>\n",
       "</div>"
      ],
      "text/plain": [
       "       val_real\n",
       "count  10802.00\n",
       "mean    1549.12\n",
       "std     3902.70\n",
       "min   -19121.00\n",
       "25%       85.00\n",
       "50%      266.00\n",
       "75%     1299.00\n",
       "max    62261.00"
      ]
     },
     "execution_count": 165,
     "metadata": {},
     "output_type": "execute_result"
    }
   ],
   "source": [
    "pd.DataFrame(y_val.values.astype(int), columns=['val_real']).describe().round(2)"
   ]
  },
  {
   "cell_type": "code",
   "execution_count": 166,
   "id": "cc91b679-8864-47ee-ae99-fe0517002953",
   "metadata": {},
   "outputs": [
    {
     "data": {
      "text/html": [
       "<div>\n",
       "<style scoped>\n",
       "    .dataframe tbody tr th:only-of-type {\n",
       "        vertical-align: middle;\n",
       "    }\n",
       "\n",
       "    .dataframe tbody tr th {\n",
       "        vertical-align: top;\n",
       "    }\n",
       "\n",
       "    .dataframe thead th {\n",
       "        text-align: right;\n",
       "    }\n",
       "</style>\n",
       "<table border=\"1\" class=\"dataframe\">\n",
       "  <thead>\n",
       "    <tr style=\"text-align: right;\">\n",
       "      <th></th>\n",
       "      <th>val_pred</th>\n",
       "    </tr>\n",
       "  </thead>\n",
       "  <tbody>\n",
       "    <tr>\n",
       "      <th>count</th>\n",
       "      <td>10802.00</td>\n",
       "    </tr>\n",
       "    <tr>\n",
       "      <th>mean</th>\n",
       "      <td>1631.00</td>\n",
       "    </tr>\n",
       "    <tr>\n",
       "      <th>std</th>\n",
       "      <td>2404.04</td>\n",
       "    </tr>\n",
       "    <tr>\n",
       "      <th>min</th>\n",
       "      <td>-4087.07</td>\n",
       "    </tr>\n",
       "    <tr>\n",
       "      <th>25%</th>\n",
       "      <td>226.64</td>\n",
       "    </tr>\n",
       "    <tr>\n",
       "      <th>50%</th>\n",
       "      <td>1066.93</td>\n",
       "    </tr>\n",
       "    <tr>\n",
       "      <th>75%</th>\n",
       "      <td>2104.46</td>\n",
       "    </tr>\n",
       "    <tr>\n",
       "      <th>max</th>\n",
       "      <td>34911.57</td>\n",
       "    </tr>\n",
       "  </tbody>\n",
       "</table>\n",
       "</div>"
      ],
      "text/plain": [
       "       val_pred\n",
       "count  10802.00\n",
       "mean    1631.00\n",
       "std     2404.04\n",
       "min    -4087.07\n",
       "25%      226.64\n",
       "50%     1066.93\n",
       "75%     2104.46\n",
       "max    34911.57"
      ]
     },
     "execution_count": 166,
     "metadata": {},
     "output_type": "execute_result"
    }
   ],
   "source": [
    "pd.DataFrame(y_valid_pred, columns=['val_pred']).describe().round(2)"
   ]
  },
  {
   "cell_type": "markdown",
   "id": "2c131c49-cec2-43e7-bdc3-fe2982d753de",
   "metadata": {},
   "source": [
    "## XGBRegressor - Grid Search"
   ]
  },
  {
   "cell_type": "code",
   "execution_count": 302,
   "id": "2c02666d-f2ca-4261-9a50-b7892f6ce74c",
   "metadata": {},
   "outputs": [],
   "source": [
    "# Preproceso 1 para KNeighborsRegressor - GridSearch\n",
    "df = df_mes.copy()\n",
    "scaler = MinMaxScaler()\n",
    "#ft_selector = RandomForestRegressor(random_state=0)\n",
    "model_ = XGBRegressor(random_state=0)"
   ]
  },
  {
   "cell_type": "code",
   "execution_count": 303,
   "id": "5b3cb3ad-6855-4820-b97a-18b37817faf1",
   "metadata": {
    "tags": []
   },
   "outputs": [],
   "source": [
    "param_grid = {'regressor__n_estimators': [90,100,110],\n",
    "              'regressor__reg_alpha': [0, 5, 10],\n",
    "              'regressor__booster' : ['gbtree', 'gblinear','dart']}\n",
    "    "
   ]
  },
  {
   "cell_type": "code",
   "execution_count": 304,
   "id": "fe143b0d-e394-4312-a1ad-35ea31aa20f9",
   "metadata": {},
   "outputs": [],
   "source": [
    "# Features and target\n",
    "X = df.drop([ordinal_ft, target], axis=1)\n",
    "y = df[target]"
   ]
  },
  {
   "cell_type": "code",
   "execution_count": 305,
   "id": "2bb7dfe0-6642-44ff-aa64-2f240470cedc",
   "metadata": {},
   "outputs": [],
   "source": [
    "# Train and validation\n",
    "X_train, X_val, y_train, y_val = train_test_split(X, y, test_size=0.3, random_state=0, shuffle=False)"
   ]
  },
  {
   "cell_type": "markdown",
   "id": "e3973750-cb4b-4ae8-bc4d-e49ae388858b",
   "metadata": {},
   "source": [
    "#### Preproceso y ajuste"
   ]
  },
  {
   "cell_type": "code",
   "execution_count": 306,
   "id": "213e08e7-108d-4fba-9fcd-16b028a765e8",
   "metadata": {},
   "outputs": [],
   "source": [
    "# Preprocessing\n",
    "num_transformer = scaler\n",
    "cat_transformer = 'passthrough'\n",
    "\n",
    "num_features = [g for g in X.columns if 'client' not in g]\n",
    "cat_features = [g for g in X.columns if 'client' in g]\n",
    "\n",
    "preprocessor = ColumnTransformer(\n",
    "    transformers=[\n",
    "        ('num', num_transformer, num_features),\n",
    "        ('cat', cat_transformer, cat_features)])"
   ]
  },
  {
   "cell_type": "code",
   "execution_count": 307,
   "id": "a8e109bc-01fc-467d-9621-ae3f2163c8a7",
   "metadata": {
    "tags": []
   },
   "outputs": [
    {
     "name": "stdout",
     "output_type": "stream",
     "text": [
      "Fitting 5 folds for each of 27 candidates, totalling 135 fits\n"
     ]
    }
   ],
   "source": [
    "# Fit\n",
    "pipe = Pipeline([\n",
    "  ('preprocessor', preprocessor),\n",
    "#  ('feature_selection', SelectFromModel(ft_selector)),\n",
    "  ('regressor', model_)\n",
    "])\n",
    "\n",
    "model = GridSearchCV(pipe, param_grid, scoring='neg_mean_squared_error',cv=5, verbose=1)\n",
    "\n",
    "model.fit(X_train, y_train)\n",
    "xgb_cv = model"
   ]
  },
  {
   "cell_type": "code",
   "execution_count": 308,
   "id": "f693d8c7-70c0-4851-8489-f546a75ef162",
   "metadata": {},
   "outputs": [
    {
     "data": {
      "text/plain": [
       "{'regressor__booster': 'gblinear',\n",
       " 'regressor__n_estimators': 100,\n",
       " 'regressor__reg_alpha': 10}"
      ]
     },
     "execution_count": 308,
     "metadata": {},
     "output_type": "execute_result"
    }
   ],
   "source": [
    "model.best_params_"
   ]
  },
  {
   "cell_type": "code",
   "execution_count": 309,
   "id": "243529d1-616f-4962-a5ca-eee19a1bf9ea",
   "metadata": {},
   "outputs": [],
   "source": [
    "# Predict\n",
    "y_train_pred = model.predict(X_train)\n",
    "y_valid_pred = model.predict(X_val)"
   ]
  },
  {
   "cell_type": "markdown",
   "id": "b8ff9b64-fba7-4a51-bef8-5737fd1822a0",
   "metadata": {},
   "source": [
    "#### Evaluacion de predicciones"
   ]
  },
  {
   "cell_type": "code",
   "execution_count": 310,
   "id": "eb16636b-8791-410e-8d6e-b23b48a628fc",
   "metadata": {
    "tags": []
   },
   "outputs": [
    {
     "name": "stdout",
     "output_type": "stream",
     "text": [
      "Train error 103006935.314, Valid error 126785868.101\n"
     ]
    }
   ],
   "source": [
    "# evaluate MSE:\n",
    "train_error = mean_squared_error(y_train, y_train_pred)\n",
    "val_error = mean_squared_error(y_val, y_valid_pred)\n",
    "print(f'Train error {train_error.round(3)}, Valid error {val_error.round(3)}')  "
   ]
  },
  {
   "cell_type": "code",
   "execution_count": 311,
   "id": "6e13feab-69cc-4f01-832e-4a666eacb62b",
   "metadata": {
    "tags": []
   },
   "outputs": [
    {
     "name": "stdout",
     "output_type": "stream",
     "text": [
      "Train error RMSE 10149.233, Valid error RMSE 11259.923\n"
     ]
    }
   ],
   "source": [
    "# evaluate RMSE:\n",
    "train_error = np.sqrt(mean_squared_error(y_train, y_train_pred))\n",
    "val_error = np.sqrt(mean_squared_error(y_val, y_valid_pred))\n",
    "print(f'Train error RMSE {train_error.round(3)}, Valid error RMSE {val_error.round(3)}')  "
   ]
  },
  {
   "cell_type": "code",
   "execution_count": 312,
   "id": "410e2a8a-3023-4d38-8f19-bfd8c0081454",
   "metadata": {
    "tags": []
   },
   "outputs": [
    {
     "name": "stdout",
     "output_type": "stream",
     "text": [
      "Train error MAE 6516.922, Valid error MAE 6954.226\n"
     ]
    }
   ],
   "source": [
    "# evaluate MAE:\n",
    "train_error = mean_absolute_error(y_train, y_train_pred)\n",
    "val_error = mean_absolute_error(y_val, y_valid_pred)\n",
    "print(f'Train error MAE {train_error.round(3)}, Valid error MAE {val_error.round(3)}')  "
   ]
  },
  {
   "cell_type": "markdown",
   "id": "7e791b04-8bbc-4483-bdea-bf77b5ca06cb",
   "metadata": {
    "tags": []
   },
   "source": [
    "Visualizamos nuestra variable target (real y predicción)"
   ]
  },
  {
   "cell_type": "code",
   "execution_count": 190,
   "id": "d300f36c-060c-4960-a750-8410424d62fb",
   "metadata": {},
   "outputs": [
    {
     "data": {
      "text/html": [
       "<div>\n",
       "<style scoped>\n",
       "    .dataframe tbody tr th:only-of-type {\n",
       "        vertical-align: middle;\n",
       "    }\n",
       "\n",
       "    .dataframe tbody tr th {\n",
       "        vertical-align: top;\n",
       "    }\n",
       "\n",
       "    .dataframe thead th {\n",
       "        text-align: right;\n",
       "    }\n",
       "</style>\n",
       "<table border=\"1\" class=\"dataframe\">\n",
       "  <thead>\n",
       "    <tr style=\"text-align: right;\">\n",
       "      <th></th>\n",
       "      <th>val_real</th>\n",
       "    </tr>\n",
       "  </thead>\n",
       "  <tbody>\n",
       "    <tr>\n",
       "      <th>count</th>\n",
       "      <td>2233.00</td>\n",
       "    </tr>\n",
       "    <tr>\n",
       "      <th>mean</th>\n",
       "      <td>11556.58</td>\n",
       "    </tr>\n",
       "    <tr>\n",
       "      <th>std</th>\n",
       "      <td>15358.95</td>\n",
       "    </tr>\n",
       "    <tr>\n",
       "      <th>min</th>\n",
       "      <td>-14160.00</td>\n",
       "    </tr>\n",
       "    <tr>\n",
       "      <th>25%</th>\n",
       "      <td>860.00</td>\n",
       "    </tr>\n",
       "    <tr>\n",
       "      <th>50%</th>\n",
       "      <td>5740.00</td>\n",
       "    </tr>\n",
       "    <tr>\n",
       "      <th>75%</th>\n",
       "      <td>16782.00</td>\n",
       "    </tr>\n",
       "    <tr>\n",
       "      <th>max</th>\n",
       "      <td>134045.00</td>\n",
       "    </tr>\n",
       "  </tbody>\n",
       "</table>\n",
       "</div>"
      ],
      "text/plain": [
       "        val_real\n",
       "count    2233.00\n",
       "mean    11556.58\n",
       "std     15358.95\n",
       "min    -14160.00\n",
       "25%       860.00\n",
       "50%      5740.00\n",
       "75%     16782.00\n",
       "max    134045.00"
      ]
     },
     "execution_count": 190,
     "metadata": {},
     "output_type": "execute_result"
    }
   ],
   "source": [
    "pd.DataFrame(y_val.values.astype(int), columns=['val_real']).describe().round(2)"
   ]
  },
  {
   "cell_type": "code",
   "execution_count": 191,
   "id": "84bcf1d8-a659-437b-a08f-25c9e9831047",
   "metadata": {},
   "outputs": [
    {
     "data": {
      "text/html": [
       "<div>\n",
       "<style scoped>\n",
       "    .dataframe tbody tr th:only-of-type {\n",
       "        vertical-align: middle;\n",
       "    }\n",
       "\n",
       "    .dataframe tbody tr th {\n",
       "        vertical-align: top;\n",
       "    }\n",
       "\n",
       "    .dataframe thead th {\n",
       "        text-align: right;\n",
       "    }\n",
       "</style>\n",
       "<table border=\"1\" class=\"dataframe\">\n",
       "  <thead>\n",
       "    <tr style=\"text-align: right;\">\n",
       "      <th></th>\n",
       "      <th>val_pred</th>\n",
       "    </tr>\n",
       "  </thead>\n",
       "  <tbody>\n",
       "    <tr>\n",
       "      <th>count</th>\n",
       "      <td>2233.00</td>\n",
       "    </tr>\n",
       "    <tr>\n",
       "      <th>mean</th>\n",
       "      <td>11726.95</td>\n",
       "    </tr>\n",
       "    <tr>\n",
       "      <th>std</th>\n",
       "      <td>10296.11</td>\n",
       "    </tr>\n",
       "    <tr>\n",
       "      <th>min</th>\n",
       "      <td>-1469.61</td>\n",
       "    </tr>\n",
       "    <tr>\n",
       "      <th>25%</th>\n",
       "      <td>4047.28</td>\n",
       "    </tr>\n",
       "    <tr>\n",
       "      <th>50%</th>\n",
       "      <td>8805.49</td>\n",
       "    </tr>\n",
       "    <tr>\n",
       "      <th>75%</th>\n",
       "      <td>16367.67</td>\n",
       "    </tr>\n",
       "    <tr>\n",
       "      <th>max</th>\n",
       "      <td>83913.07</td>\n",
       "    </tr>\n",
       "  </tbody>\n",
       "</table>\n",
       "</div>"
      ],
      "text/plain": [
       "       val_pred\n",
       "count   2233.00\n",
       "mean   11726.95\n",
       "std    10296.11\n",
       "min    -1469.61\n",
       "25%     4047.28\n",
       "50%     8805.49\n",
       "75%    16367.67\n",
       "max    83913.07"
      ]
     },
     "execution_count": 191,
     "metadata": {},
     "output_type": "execute_result"
    }
   ],
   "source": [
    "pd.DataFrame(y_valid_pred, columns=['val_pred']).describe().round(2)"
   ]
  },
  {
   "cell_type": "markdown",
   "id": "9e807604-ba85-4796-a557-83d052da6429",
   "metadata": {},
   "source": [
    "## VotingRegressor"
   ]
  },
  {
   "cell_type": "code",
   "execution_count": 290,
   "id": "277879da-8046-4334-8d7a-151bbc8fa1fd",
   "metadata": {},
   "outputs": [],
   "source": [
    "# Preproceso 1 para GaussianProcessRegressor - GridSearch\n",
    "df = df_mes.copy()\n",
    "scaler = MinMaxScaler()\n",
    "ft_selector = RandomForestRegressor(random_state=0)\n",
    "model_ = VotingRegressor([#('svr', svr['regressor']),\n",
    "                      #    ('sgd', sgd['regressor']),\n",
    "                          ('knn', knn['regressor']),\n",
    "                          ('gpr', gpr['regressor']),\n",
    "                          ('xgb', xgb['regressor']),\n",
    "                          ('knn_cv', knn_cv.best_estimator_['regressor']),\n",
    "                          ('gpr_cv', gpr_cv.best_estimator_['regressor']),\n",
    "                          ('xgb_cv', xgb_cv.best_estimator_['regressor'])], verbose=True)"
   ]
  },
  {
   "cell_type": "code",
   "execution_count": 291,
   "id": "be32edfb-edd7-4927-b74a-ef4dbbf9c559",
   "metadata": {},
   "outputs": [],
   "source": [
    "# Features and target\n",
    "X = df.drop([ordinal_ft, target], axis=1)\n",
    "y = df[target]"
   ]
  },
  {
   "cell_type": "code",
   "execution_count": 292,
   "id": "b8a1e67f-0378-424f-9090-4f36e7472b18",
   "metadata": {},
   "outputs": [],
   "source": [
    "# Train and validation\n",
    "X_train, X_val, y_train, y_val = train_test_split(X, y, test_size=0.3, random_state=0, shuffle=False)"
   ]
  },
  {
   "cell_type": "markdown",
   "id": "d0ee4d68-b6f1-4dc2-88fa-2f03b053a6fe",
   "metadata": {},
   "source": [
    "#### Preproceso y ajuste"
   ]
  },
  {
   "cell_type": "code",
   "execution_count": 293,
   "id": "5c42d127-7493-4b27-b641-7a3c814ac007",
   "metadata": {},
   "outputs": [],
   "source": [
    "# Preprocessing\n",
    "num_transformer = scaler\n",
    "cat_transformer = 'passthrough'\n",
    "\n",
    "num_features = [g for g in X.columns if 'client' not in g]\n",
    "cat_features = [g for g in X.columns if 'client' in g]\n",
    "\n",
    "preprocessor = ColumnTransformer(\n",
    "    transformers=[\n",
    "        ('num', num_transformer, num_features),\n",
    "        ('cat', cat_transformer, cat_features)])"
   ]
  },
  {
   "cell_type": "code",
   "execution_count": 294,
   "id": "e6309551-ecbd-45f4-8eef-f4a4c4095924",
   "metadata": {
    "tags": []
   },
   "outputs": [
    {
     "name": "stdout",
     "output_type": "stream",
     "text": [
      "[Voting] ...................... (1 of 6) Processing knn, total=   0.0s\n",
      "[Voting] ...................... (2 of 6) Processing gpr, total=  20.5s\n",
      "[Voting] ...................... (3 of 6) Processing xgb, total=   1.9s\n",
      "[Voting] ................... (4 of 6) Processing knn_cv, total=   0.0s\n",
      "[Voting] ................... (5 of 6) Processing gpr_cv, total=  45.4s\n",
      "[Voting] ................... (6 of 6) Processing xgb_cv, total=   0.1s\n"
     ]
    },
    {
     "data": {
      "text/plain": [
       "Pipeline(steps=[('preprocessor',\n",
       "                 ColumnTransformer(transformers=[('num', MinMaxScaler(),\n",
       "                                                  ['anio_mes_cupon',\n",
       "                                                   'trans__x0_AX',\n",
       "                                                   'trans__x0_EX',\n",
       "                                                   'trans__x0_MC',\n",
       "                                                   'trans__x0_PC',\n",
       "                                                   'trans__x0_PL',\n",
       "                                                   'trans__x0_PN',\n",
       "                                                   'trans__x0_PP',\n",
       "                                                   'trans__x0_TA',\n",
       "                                                   'trans__x0_VI',\n",
       "                                                   'trans__x0_ZE',\n",
       "                                                   'trans__x1_0',\n",
       "                                                   'trans__x1_22',\n",
       "                                                   'trans__x1_3',\n",
       "                                                   'trans__x1_32',\n",
       "                                                   'trans__x1_4',\n",
       "                                                   'trans__x1_42',\n",
       "                                                   'trans__x...\n",
       "                                                           importance_type='gain',\n",
       "                                                           interaction_constraints=None,\n",
       "                                                           learning_rate=0.5,\n",
       "                                                           max_delta_step=None,\n",
       "                                                           max_depth=None,\n",
       "                                                           min_child_weight=None,\n",
       "                                                           missing=nan,\n",
       "                                                           monotone_constraints=None,\n",
       "                                                           n_estimators=20,\n",
       "                                                           n_jobs=4,\n",
       "                                                           num_parallel_tree=None,\n",
       "                                                           random_state=0,\n",
       "                                                           reg_alpha=15,\n",
       "                                                           reg_lambda=0,\n",
       "                                                           scale_pos_weight=1,\n",
       "                                                           subsample=None,\n",
       "                                                           tree_method=None,\n",
       "                                                           validate_parameters=1,\n",
       "                                                           verbosity=None))],\n",
       "                                 verbose=True))])"
      ]
     },
     "execution_count": 294,
     "metadata": {},
     "output_type": "execute_result"
    }
   ],
   "source": [
    "# Fit\n",
    "model = Pipeline([\n",
    "  ('preprocessor', preprocessor),\n",
    "#  ('feature_selection', SelectFromModel(ft_selector)),\n",
    "  ('regressor', model_)\n",
    "])\n",
    "\n",
    "model.fit(X_train, y_train)"
   ]
  },
  {
   "cell_type": "markdown",
   "id": "33a36482-dc58-45b2-b972-4b3cc3319fa5",
   "metadata": {},
   "source": [
    "#### Evaluacion de predicciones"
   ]
  },
  {
   "cell_type": "code",
   "execution_count": 295,
   "id": "96f00b97-b7ee-496c-b622-e9080a4dc73c",
   "metadata": {},
   "outputs": [],
   "source": [
    "# Predict\n",
    "y_train_pred = model.predict(X_train)\n",
    "y_valid_pred = model.predict(X_val)"
   ]
  },
  {
   "cell_type": "code",
   "execution_count": 296,
   "id": "400f9932-fa5f-4867-8fcd-cc1d1fa7b717",
   "metadata": {
    "tags": []
   },
   "outputs": [
    {
     "name": "stdout",
     "output_type": "stream",
     "text": [
      "Train error 13287362.944, Valid error 189100654.35\n"
     ]
    }
   ],
   "source": [
    "# evaluate MSE:\n",
    "train_error = mean_squared_error(y_train, y_train_pred)\n",
    "val_error = mean_squared_error(y_val, y_valid_pred)\n",
    "print(f'Train error {train_error.round(3)}, Valid error {val_error.round(3)}')  "
   ]
  },
  {
   "cell_type": "code",
   "execution_count": 297,
   "id": "c7d5e88a-e147-4e1a-9864-94c726cd932a",
   "metadata": {
    "tags": []
   },
   "outputs": [
    {
     "name": "stdout",
     "output_type": "stream",
     "text": [
      "Train error RMSE 3645.184, Valid error RMSE 13751.387\n"
     ]
    }
   ],
   "source": [
    "# evaluate RMSE:\n",
    "train_error = np.sqrt(mean_squared_error(y_train, y_train_pred))\n",
    "val_error = np.sqrt(mean_squared_error(y_val, y_valid_pred))\n",
    "print(f'Train error RMSE {train_error.round(3)}, Valid error RMSE {val_error.round(3)}')  "
   ]
  },
  {
   "cell_type": "code",
   "execution_count": 298,
   "id": "93d87e8d-d200-4659-a641-e3a742eb8049",
   "metadata": {
    "tags": []
   },
   "outputs": [
    {
     "name": "stdout",
     "output_type": "stream",
     "text": [
      "Train error MAE 2346.096, Valid error MAE 8198.295\n"
     ]
    }
   ],
   "source": [
    "# evaluate MAE:\n",
    "train_error = mean_absolute_error(y_train, y_train_pred)\n",
    "val_error = mean_absolute_error(y_val, y_valid_pred)\n",
    "print(f'Train error MAE {train_error.round(3)}, Valid error MAE {val_error.round(3)}')  "
   ]
  },
  {
   "cell_type": "markdown",
   "id": "6b75da91-871a-4910-9e9e-17f3005d8242",
   "metadata": {
    "tags": []
   },
   "source": [
    "Visualizamos nuestra variable target (real y predicción)"
   ]
  },
  {
   "cell_type": "code",
   "execution_count": 299,
   "id": "bcecd007-7655-4d6c-8991-c70b026b55bf",
   "metadata": {},
   "outputs": [
    {
     "data": {
      "text/html": [
       "<div>\n",
       "<style scoped>\n",
       "    .dataframe tbody tr th:only-of-type {\n",
       "        vertical-align: middle;\n",
       "    }\n",
       "\n",
       "    .dataframe tbody tr th {\n",
       "        vertical-align: top;\n",
       "    }\n",
       "\n",
       "    .dataframe thead th {\n",
       "        text-align: right;\n",
       "    }\n",
       "</style>\n",
       "<table border=\"1\" class=\"dataframe\">\n",
       "  <thead>\n",
       "    <tr style=\"text-align: right;\">\n",
       "      <th></th>\n",
       "      <th>val_real</th>\n",
       "    </tr>\n",
       "  </thead>\n",
       "  <tbody>\n",
       "    <tr>\n",
       "      <th>count</th>\n",
       "      <td>2233.00</td>\n",
       "    </tr>\n",
       "    <tr>\n",
       "      <th>mean</th>\n",
       "      <td>11556.58</td>\n",
       "    </tr>\n",
       "    <tr>\n",
       "      <th>std</th>\n",
       "      <td>15358.95</td>\n",
       "    </tr>\n",
       "    <tr>\n",
       "      <th>min</th>\n",
       "      <td>-14160.00</td>\n",
       "    </tr>\n",
       "    <tr>\n",
       "      <th>25%</th>\n",
       "      <td>860.00</td>\n",
       "    </tr>\n",
       "    <tr>\n",
       "      <th>50%</th>\n",
       "      <td>5740.00</td>\n",
       "    </tr>\n",
       "    <tr>\n",
       "      <th>75%</th>\n",
       "      <td>16782.00</td>\n",
       "    </tr>\n",
       "    <tr>\n",
       "      <th>max</th>\n",
       "      <td>134045.00</td>\n",
       "    </tr>\n",
       "  </tbody>\n",
       "</table>\n",
       "</div>"
      ],
      "text/plain": [
       "        val_real\n",
       "count    2233.00\n",
       "mean    11556.58\n",
       "std     15358.95\n",
       "min    -14160.00\n",
       "25%       860.00\n",
       "50%      5740.00\n",
       "75%     16782.00\n",
       "max    134045.00"
      ]
     },
     "execution_count": 299,
     "metadata": {},
     "output_type": "execute_result"
    }
   ],
   "source": [
    "pd.DataFrame(y_val.values.astype(int), columns=['val_real']).describe().round(2)"
   ]
  },
  {
   "cell_type": "code",
   "execution_count": 300,
   "id": "df2d4fb0-0a97-4ff0-95af-264f5b2ae016",
   "metadata": {},
   "outputs": [
    {
     "data": {
      "text/html": [
       "<div>\n",
       "<style scoped>\n",
       "    .dataframe tbody tr th:only-of-type {\n",
       "        vertical-align: middle;\n",
       "    }\n",
       "\n",
       "    .dataframe tbody tr th {\n",
       "        vertical-align: top;\n",
       "    }\n",
       "\n",
       "    .dataframe thead th {\n",
       "        text-align: right;\n",
       "    }\n",
       "</style>\n",
       "<table border=\"1\" class=\"dataframe\">\n",
       "  <thead>\n",
       "    <tr style=\"text-align: right;\">\n",
       "      <th></th>\n",
       "      <th>val_pred</th>\n",
       "    </tr>\n",
       "  </thead>\n",
       "  <tbody>\n",
       "    <tr>\n",
       "      <th>count</th>\n",
       "      <td>2233.00</td>\n",
       "    </tr>\n",
       "    <tr>\n",
       "      <th>mean</th>\n",
       "      <td>7857.30</td>\n",
       "    </tr>\n",
       "    <tr>\n",
       "      <th>std</th>\n",
       "      <td>4512.05</td>\n",
       "    </tr>\n",
       "    <tr>\n",
       "      <th>min</th>\n",
       "      <td>515.39</td>\n",
       "    </tr>\n",
       "    <tr>\n",
       "      <th>25%</th>\n",
       "      <td>4526.68</td>\n",
       "    </tr>\n",
       "    <tr>\n",
       "      <th>50%</th>\n",
       "      <td>6985.40</td>\n",
       "    </tr>\n",
       "    <tr>\n",
       "      <th>75%</th>\n",
       "      <td>10392.71</td>\n",
       "    </tr>\n",
       "    <tr>\n",
       "      <th>max</th>\n",
       "      <td>34245.38</td>\n",
       "    </tr>\n",
       "  </tbody>\n",
       "</table>\n",
       "</div>"
      ],
      "text/plain": [
       "       val_pred\n",
       "count   2233.00\n",
       "mean    7857.30\n",
       "std     4512.05\n",
       "min      515.39\n",
       "25%     4526.68\n",
       "50%     6985.40\n",
       "75%    10392.71\n",
       "max    34245.38"
      ]
     },
     "execution_count": 300,
     "metadata": {},
     "output_type": "execute_result"
    }
   ],
   "source": [
    "pd.DataFrame(y_valid_pred, columns=['val_pred']).describe().round(2)"
   ]
  },
  {
   "cell_type": "markdown",
   "id": "3dbff1c8-a168-40f1-9e57-136315efbbca",
   "metadata": {},
   "source": [
    "# Modelos de Clasificacion - Predecir aumento de gasto mensual"
   ]
  },
  {
   "cell_type": "markdown",
   "id": "c19ee0f8-743e-404b-95ec-7cec103f37a6",
   "metadata": {},
   "source": [
    "## Preprocesamiento"
   ]
  },
  {
   "cell_type": "markdown",
   "id": "edf32da5-5eae-415a-b8eb-e138fc0a6dec",
   "metadata": {},
   "source": [
    "### 1.2 Creación de variable categórica "
   ]
  },
  {
   "cell_type": "markdown",
   "id": "0c5084f3-1725-42e8-b0aa-51ee1e695ae6",
   "metadata": {},
   "source": [
    "Creamos una columna que indica si un cliente ha aumentado su consumo personal mes a mes. El mes inicial para cada cliente se inicializa en 0.\n",
    "\n",
    "Cabe destacar que a la hora de agrupar los movimientos en cada mes, se considera la fecha de cierre de la tarjeta, por lo cual cada mes comprende desde el dia 25 del mes anterior hasta el dia 24 del corriente, inclusive. "
   ]
  },
  {
   "cell_type": "code",
   "execution_count": 142,
   "id": "c8a617f0-8254-4edf-9e3f-bf81ea682b1c",
   "metadata": {},
   "outputs": [
    {
     "data": {
      "text/html": [
       "<div>\n",
       "<style scoped>\n",
       "    .dataframe tbody tr th:only-of-type {\n",
       "        vertical-align: middle;\n",
       "    }\n",
       "\n",
       "    .dataframe tbody tr th {\n",
       "        vertical-align: top;\n",
       "    }\n",
       "\n",
       "    .dataframe thead th {\n",
       "        text-align: right;\n",
       "    }\n",
       "</style>\n",
       "<table border=\"1\" class=\"dataframe\">\n",
       "  <thead>\n",
       "    <tr style=\"text-align: right;\">\n",
       "      <th></th>\n",
       "      <th>dni_titular_movimiento</th>\n",
       "      <th>anio_mes_cupon</th>\n",
       "      <th>edad_cliente</th>\n",
       "      <th>antig_cliente</th>\n",
       "      <th>client__x0_Hombre</th>\n",
       "      <th>client__x0_Mujer</th>\n",
       "      <th>client__x0_Sin Datos</th>\n",
       "      <th>client__x1_Sector_Educativo</th>\n",
       "      <th>client__x1_Sector_Empleado_Comercio</th>\n",
       "      <th>client__x1_Sector_Financiero</th>\n",
       "      <th>...</th>\n",
       "      <th>trans__x3_1</th>\n",
       "      <th>trans__x3_2</th>\n",
       "      <th>trans__x3_3</th>\n",
       "      <th>trans__x3_4</th>\n",
       "      <th>trans__x3_5</th>\n",
       "      <th>trans__x3_6</th>\n",
       "      <th>trans__x3_7</th>\n",
       "      <th>trans__x3_8</th>\n",
       "      <th>trans__x3_9</th>\n",
       "      <th>monto_ajustado</th>\n",
       "    </tr>\n",
       "  </thead>\n",
       "  <tbody>\n",
       "    <tr>\n",
       "      <th>0</th>\n",
       "      <td>000000b5aea2c9ea7cc155f6ebcef97f826</td>\n",
       "      <td>202008.0</td>\n",
       "      <td>46.0</td>\n",
       "      <td>225.0</td>\n",
       "      <td>0.0</td>\n",
       "      <td>1.0</td>\n",
       "      <td>0.0</td>\n",
       "      <td>0.0</td>\n",
       "      <td>0.0</td>\n",
       "      <td>0.0</td>\n",
       "      <td>...</td>\n",
       "      <td>0.0</td>\n",
       "      <td>0.0</td>\n",
       "      <td>0.0</td>\n",
       "      <td>0.0</td>\n",
       "      <td>0.0</td>\n",
       "      <td>0.0</td>\n",
       "      <td>0.0</td>\n",
       "      <td>0.0</td>\n",
       "      <td>0.0</td>\n",
       "      <td>-4.72</td>\n",
       "    </tr>\n",
       "    <tr>\n",
       "      <th>1</th>\n",
       "      <td>000000b5aea2c9ea7cc155f6ebcef97f826</td>\n",
       "      <td>202009.0</td>\n",
       "      <td>47.0</td>\n",
       "      <td>226.0</td>\n",
       "      <td>0.0</td>\n",
       "      <td>1.0</td>\n",
       "      <td>0.0</td>\n",
       "      <td>0.0</td>\n",
       "      <td>0.0</td>\n",
       "      <td>0.0</td>\n",
       "      <td>...</td>\n",
       "      <td>0.0</td>\n",
       "      <td>0.0</td>\n",
       "      <td>0.0</td>\n",
       "      <td>0.0</td>\n",
       "      <td>0.0</td>\n",
       "      <td>0.0</td>\n",
       "      <td>0.0</td>\n",
       "      <td>0.0</td>\n",
       "      <td>0.0</td>\n",
       "      <td>-4.61</td>\n",
       "    </tr>\n",
       "    <tr>\n",
       "      <th>2</th>\n",
       "      <td>000000b5aea2c9ea7cc155f6ebcef97f826</td>\n",
       "      <td>202010.0</td>\n",
       "      <td>47.0</td>\n",
       "      <td>227.0</td>\n",
       "      <td>0.0</td>\n",
       "      <td>1.0</td>\n",
       "      <td>0.0</td>\n",
       "      <td>0.0</td>\n",
       "      <td>0.0</td>\n",
       "      <td>0.0</td>\n",
       "      <td>...</td>\n",
       "      <td>0.0</td>\n",
       "      <td>0.0</td>\n",
       "      <td>0.0</td>\n",
       "      <td>0.0</td>\n",
       "      <td>0.0</td>\n",
       "      <td>0.0</td>\n",
       "      <td>0.0</td>\n",
       "      <td>0.0</td>\n",
       "      <td>0.0</td>\n",
       "      <td>-4.46</td>\n",
       "    </tr>\n",
       "    <tr>\n",
       "      <th>3</th>\n",
       "      <td>000000b5aea2c9ea7cc155f6ebcef97f826</td>\n",
       "      <td>202011.0</td>\n",
       "      <td>47.0</td>\n",
       "      <td>228.0</td>\n",
       "      <td>0.0</td>\n",
       "      <td>1.0</td>\n",
       "      <td>0.0</td>\n",
       "      <td>0.0</td>\n",
       "      <td>0.0</td>\n",
       "      <td>0.0</td>\n",
       "      <td>...</td>\n",
       "      <td>0.0</td>\n",
       "      <td>0.0</td>\n",
       "      <td>0.0</td>\n",
       "      <td>0.0</td>\n",
       "      <td>0.0</td>\n",
       "      <td>0.0</td>\n",
       "      <td>0.0</td>\n",
       "      <td>0.0</td>\n",
       "      <td>0.0</td>\n",
       "      <td>-4.34</td>\n",
       "    </tr>\n",
       "    <tr>\n",
       "      <th>4</th>\n",
       "      <td>000000b5aea2c9ea7cc155f6ebcef97f826</td>\n",
       "      <td>202012.0</td>\n",
       "      <td>47.0</td>\n",
       "      <td>229.0</td>\n",
       "      <td>0.0</td>\n",
       "      <td>1.0</td>\n",
       "      <td>0.0</td>\n",
       "      <td>0.0</td>\n",
       "      <td>0.0</td>\n",
       "      <td>0.0</td>\n",
       "      <td>...</td>\n",
       "      <td>0.0</td>\n",
       "      <td>0.0</td>\n",
       "      <td>0.0</td>\n",
       "      <td>0.0</td>\n",
       "      <td>0.0</td>\n",
       "      <td>0.0</td>\n",
       "      <td>0.0</td>\n",
       "      <td>0.0</td>\n",
       "      <td>0.0</td>\n",
       "      <td>-4.21</td>\n",
       "    </tr>\n",
       "    <tr>\n",
       "      <th>...</th>\n",
       "      <td>...</td>\n",
       "      <td>...</td>\n",
       "      <td>...</td>\n",
       "      <td>...</td>\n",
       "      <td>...</td>\n",
       "      <td>...</td>\n",
       "      <td>...</td>\n",
       "      <td>...</td>\n",
       "      <td>...</td>\n",
       "      <td>...</td>\n",
       "      <td>...</td>\n",
       "      <td>...</td>\n",
       "      <td>...</td>\n",
       "      <td>...</td>\n",
       "      <td>...</td>\n",
       "      <td>...</td>\n",
       "      <td>...</td>\n",
       "      <td>...</td>\n",
       "      <td>...</td>\n",
       "      <td>...</td>\n",
       "      <td>...</td>\n",
       "    </tr>\n",
       "    <tr>\n",
       "      <th>7438</th>\n",
       "      <td>000f0b73ebfa002a79a0642b82e87919904</td>\n",
       "      <td>202101.0</td>\n",
       "      <td>64.0</td>\n",
       "      <td>21.0</td>\n",
       "      <td>0.0</td>\n",
       "      <td>1.0</td>\n",
       "      <td>0.0</td>\n",
       "      <td>0.0</td>\n",
       "      <td>0.0</td>\n",
       "      <td>0.0</td>\n",
       "      <td>...</td>\n",
       "      <td>1.0</td>\n",
       "      <td>1.0</td>\n",
       "      <td>0.0</td>\n",
       "      <td>0.0</td>\n",
       "      <td>1.0</td>\n",
       "      <td>0.0</td>\n",
       "      <td>0.0</td>\n",
       "      <td>0.0</td>\n",
       "      <td>0.0</td>\n",
       "      <td>11616.45</td>\n",
       "    </tr>\n",
       "    <tr>\n",
       "      <th>7439</th>\n",
       "      <td>000f0b73ebfa002a79a0642b82e87919904</td>\n",
       "      <td>202102.0</td>\n",
       "      <td>64.0</td>\n",
       "      <td>22.0</td>\n",
       "      <td>0.0</td>\n",
       "      <td>1.0</td>\n",
       "      <td>0.0</td>\n",
       "      <td>0.0</td>\n",
       "      <td>0.0</td>\n",
       "      <td>0.0</td>\n",
       "      <td>...</td>\n",
       "      <td>1.0</td>\n",
       "      <td>0.0</td>\n",
       "      <td>0.0</td>\n",
       "      <td>0.0</td>\n",
       "      <td>0.0</td>\n",
       "      <td>0.0</td>\n",
       "      <td>0.0</td>\n",
       "      <td>0.0</td>\n",
       "      <td>0.0</td>\n",
       "      <td>12566.68</td>\n",
       "    </tr>\n",
       "    <tr>\n",
       "      <th>7440</th>\n",
       "      <td>000f0b73ebfa002a79a0642b82e87919904</td>\n",
       "      <td>202103.0</td>\n",
       "      <td>64.0</td>\n",
       "      <td>23.0</td>\n",
       "      <td>0.0</td>\n",
       "      <td>1.0</td>\n",
       "      <td>0.0</td>\n",
       "      <td>0.0</td>\n",
       "      <td>0.0</td>\n",
       "      <td>0.0</td>\n",
       "      <td>...</td>\n",
       "      <td>3.0</td>\n",
       "      <td>0.0</td>\n",
       "      <td>0.0</td>\n",
       "      <td>0.0</td>\n",
       "      <td>0.0</td>\n",
       "      <td>0.0</td>\n",
       "      <td>0.0</td>\n",
       "      <td>0.0</td>\n",
       "      <td>0.0</td>\n",
       "      <td>2663.08</td>\n",
       "    </tr>\n",
       "    <tr>\n",
       "      <th>7441</th>\n",
       "      <td>000f0b73ebfa002a79a0642b82e87919904</td>\n",
       "      <td>202104.0</td>\n",
       "      <td>64.0</td>\n",
       "      <td>24.0</td>\n",
       "      <td>0.0</td>\n",
       "      <td>1.0</td>\n",
       "      <td>0.0</td>\n",
       "      <td>0.0</td>\n",
       "      <td>0.0</td>\n",
       "      <td>0.0</td>\n",
       "      <td>...</td>\n",
       "      <td>0.0</td>\n",
       "      <td>2.0</td>\n",
       "      <td>0.0</td>\n",
       "      <td>0.0</td>\n",
       "      <td>0.0</td>\n",
       "      <td>0.0</td>\n",
       "      <td>0.0</td>\n",
       "      <td>0.0</td>\n",
       "      <td>0.0</td>\n",
       "      <td>4685.64</td>\n",
       "    </tr>\n",
       "    <tr>\n",
       "      <th>7442</th>\n",
       "      <td>000f0b73ebfa002a79a0642b82e87919904</td>\n",
       "      <td>202105.0</td>\n",
       "      <td>64.0</td>\n",
       "      <td>25.0</td>\n",
       "      <td>0.0</td>\n",
       "      <td>1.0</td>\n",
       "      <td>0.0</td>\n",
       "      <td>0.0</td>\n",
       "      <td>0.0</td>\n",
       "      <td>0.0</td>\n",
       "      <td>...</td>\n",
       "      <td>0.0</td>\n",
       "      <td>0.0</td>\n",
       "      <td>0.0</td>\n",
       "      <td>0.0</td>\n",
       "      <td>0.0</td>\n",
       "      <td>0.0</td>\n",
       "      <td>0.0</td>\n",
       "      <td>0.0</td>\n",
       "      <td>0.0</td>\n",
       "      <td>2063.81</td>\n",
       "    </tr>\n",
       "  </tbody>\n",
       "</table>\n",
       "<p>7443 rows × 55 columns</p>\n",
       "</div>"
      ],
      "text/plain": [
       "                   dni_titular_movimiento  anio_mes_cupon  edad_cliente  \\\n",
       "0     000000b5aea2c9ea7cc155f6ebcef97f826        202008.0          46.0   \n",
       "1     000000b5aea2c9ea7cc155f6ebcef97f826        202009.0          47.0   \n",
       "2     000000b5aea2c9ea7cc155f6ebcef97f826        202010.0          47.0   \n",
       "3     000000b5aea2c9ea7cc155f6ebcef97f826        202011.0          47.0   \n",
       "4     000000b5aea2c9ea7cc155f6ebcef97f826        202012.0          47.0   \n",
       "...                                   ...             ...           ...   \n",
       "7438  000f0b73ebfa002a79a0642b82e87919904        202101.0          64.0   \n",
       "7439  000f0b73ebfa002a79a0642b82e87919904        202102.0          64.0   \n",
       "7440  000f0b73ebfa002a79a0642b82e87919904        202103.0          64.0   \n",
       "7441  000f0b73ebfa002a79a0642b82e87919904        202104.0          64.0   \n",
       "7442  000f0b73ebfa002a79a0642b82e87919904        202105.0          64.0   \n",
       "\n",
       "      antig_cliente  client__x0_Hombre  client__x0_Mujer  \\\n",
       "0             225.0                0.0               1.0   \n",
       "1             226.0                0.0               1.0   \n",
       "2             227.0                0.0               1.0   \n",
       "3             228.0                0.0               1.0   \n",
       "4             229.0                0.0               1.0   \n",
       "...             ...                ...               ...   \n",
       "7438           21.0                0.0               1.0   \n",
       "7439           22.0                0.0               1.0   \n",
       "7440           23.0                0.0               1.0   \n",
       "7441           24.0                0.0               1.0   \n",
       "7442           25.0                0.0               1.0   \n",
       "\n",
       "      client__x0_Sin Datos  client__x1_Sector_Educativo  \\\n",
       "0                      0.0                          0.0   \n",
       "1                      0.0                          0.0   \n",
       "2                      0.0                          0.0   \n",
       "3                      0.0                          0.0   \n",
       "4                      0.0                          0.0   \n",
       "...                    ...                          ...   \n",
       "7438                   0.0                          0.0   \n",
       "7439                   0.0                          0.0   \n",
       "7440                   0.0                          0.0   \n",
       "7441                   0.0                          0.0   \n",
       "7442                   0.0                          0.0   \n",
       "\n",
       "      client__x1_Sector_Empleado_Comercio  client__x1_Sector_Financiero  ...  \\\n",
       "0                                     0.0                           0.0  ...   \n",
       "1                                     0.0                           0.0  ...   \n",
       "2                                     0.0                           0.0  ...   \n",
       "3                                     0.0                           0.0  ...   \n",
       "4                                     0.0                           0.0  ...   \n",
       "...                                   ...                           ...  ...   \n",
       "7438                                  0.0                           0.0  ...   \n",
       "7439                                  0.0                           0.0  ...   \n",
       "7440                                  0.0                           0.0  ...   \n",
       "7441                                  0.0                           0.0  ...   \n",
       "7442                                  0.0                           0.0  ...   \n",
       "\n",
       "      trans__x3_1  trans__x3_2  trans__x3_3  trans__x3_4  trans__x3_5  \\\n",
       "0             0.0          0.0          0.0          0.0          0.0   \n",
       "1             0.0          0.0          0.0          0.0          0.0   \n",
       "2             0.0          0.0          0.0          0.0          0.0   \n",
       "3             0.0          0.0          0.0          0.0          0.0   \n",
       "4             0.0          0.0          0.0          0.0          0.0   \n",
       "...           ...          ...          ...          ...          ...   \n",
       "7438          1.0          1.0          0.0          0.0          1.0   \n",
       "7439          1.0          0.0          0.0          0.0          0.0   \n",
       "7440          3.0          0.0          0.0          0.0          0.0   \n",
       "7441          0.0          2.0          0.0          0.0          0.0   \n",
       "7442          0.0          0.0          0.0          0.0          0.0   \n",
       "\n",
       "      trans__x3_6  trans__x3_7  trans__x3_8  trans__x3_9  monto_ajustado  \n",
       "0             0.0          0.0          0.0          0.0           -4.72  \n",
       "1             0.0          0.0          0.0          0.0           -4.61  \n",
       "2             0.0          0.0          0.0          0.0           -4.46  \n",
       "3             0.0          0.0          0.0          0.0           -4.34  \n",
       "4             0.0          0.0          0.0          0.0           -4.21  \n",
       "...           ...          ...          ...          ...             ...  \n",
       "7438          0.0          0.0          0.0          0.0        11616.45  \n",
       "7439          0.0          0.0          0.0          0.0        12566.68  \n",
       "7440          0.0          0.0          0.0          0.0         2663.08  \n",
       "7441          0.0          0.0          0.0          0.0         4685.64  \n",
       "7442          0.0          0.0          0.0          0.0         2063.81  \n",
       "\n",
       "[7443 rows x 55 columns]"
      ]
     },
     "execution_count": 142,
     "metadata": {},
     "output_type": "execute_result"
    }
   ],
   "source": [
    "df_mes"
   ]
  },
  {
   "cell_type": "code",
   "execution_count": 143,
   "id": "f959c18c-80f8-4eb4-be34-1ddbd4475ed5",
   "metadata": {},
   "outputs": [],
   "source": [
    "# Agregación de la nueva columna seteada en 0.\n",
    "# En la iteración, se le cambia el valor a 1 en caso de que cumpla con las condiciones preestablecidas.\n",
    "\n",
    "df_mes['fg_aumentado'] = 0\n",
    "for i in range(1,len(df_mes)):\n",
    "    if (df_mes.iloc[i]['dni_titular_movimiento'] == df_mes.iloc[i-1]['dni_titular_movimiento']) \\\n",
    "        & (df_mes.iloc[i]['anio_mes_cupon'] > df_mes.iloc[i-1]['anio_mes_cupon']):\n",
    "            var_mes = df_mes.iloc[i]['monto_ajustado'] - df_mes.iloc[i-1]['monto_ajustado']\n",
    "            if (var_mes > (abs(df_mes.iloc[i-1]['monto_ajustado'])*0.1)):\n",
    "                df_mes.loc[i,'fg_aumentado'] = 1"
   ]
  },
  {
   "cell_type": "code",
   "execution_count": 144,
   "id": "2d1f4d37-b23c-4a8c-8a7b-5a7affe08aa4",
   "metadata": {},
   "outputs": [
    {
     "data": {
      "text/html": [
       "<div>\n",
       "<style scoped>\n",
       "    .dataframe tbody tr th:only-of-type {\n",
       "        vertical-align: middle;\n",
       "    }\n",
       "\n",
       "    .dataframe tbody tr th {\n",
       "        vertical-align: top;\n",
       "    }\n",
       "\n",
       "    .dataframe thead th {\n",
       "        text-align: right;\n",
       "    }\n",
       "</style>\n",
       "<table border=\"1\" class=\"dataframe\">\n",
       "  <thead>\n",
       "    <tr style=\"text-align: right;\">\n",
       "      <th></th>\n",
       "      <th>dni_titular_movimiento</th>\n",
       "      <th>anio_mes_cupon</th>\n",
       "      <th>edad_cliente</th>\n",
       "      <th>antig_cliente</th>\n",
       "      <th>client__x0_Hombre</th>\n",
       "      <th>client__x0_Mujer</th>\n",
       "      <th>client__x0_Sin Datos</th>\n",
       "      <th>client__x1_Sector_Educativo</th>\n",
       "      <th>client__x1_Sector_Empleado_Comercio</th>\n",
       "      <th>client__x1_Sector_Financiero</th>\n",
       "      <th>...</th>\n",
       "      <th>trans__x3_2</th>\n",
       "      <th>trans__x3_3</th>\n",
       "      <th>trans__x3_4</th>\n",
       "      <th>trans__x3_5</th>\n",
       "      <th>trans__x3_6</th>\n",
       "      <th>trans__x3_7</th>\n",
       "      <th>trans__x3_8</th>\n",
       "      <th>trans__x3_9</th>\n",
       "      <th>monto_ajustado</th>\n",
       "      <th>fg_aumentado</th>\n",
       "    </tr>\n",
       "  </thead>\n",
       "  <tbody>\n",
       "    <tr>\n",
       "      <th>0</th>\n",
       "      <td>000000b5aea2c9ea7cc155f6ebcef97f826</td>\n",
       "      <td>202008.0</td>\n",
       "      <td>46.0</td>\n",
       "      <td>225.0</td>\n",
       "      <td>0.0</td>\n",
       "      <td>1.0</td>\n",
       "      <td>0.0</td>\n",
       "      <td>0.0</td>\n",
       "      <td>0.0</td>\n",
       "      <td>0.0</td>\n",
       "      <td>...</td>\n",
       "      <td>0.0</td>\n",
       "      <td>0.0</td>\n",
       "      <td>0.0</td>\n",
       "      <td>0.0</td>\n",
       "      <td>0.0</td>\n",
       "      <td>0.0</td>\n",
       "      <td>0.0</td>\n",
       "      <td>0.0</td>\n",
       "      <td>-4.72</td>\n",
       "      <td>0</td>\n",
       "    </tr>\n",
       "    <tr>\n",
       "      <th>1</th>\n",
       "      <td>000000b5aea2c9ea7cc155f6ebcef97f826</td>\n",
       "      <td>202009.0</td>\n",
       "      <td>47.0</td>\n",
       "      <td>226.0</td>\n",
       "      <td>0.0</td>\n",
       "      <td>1.0</td>\n",
       "      <td>0.0</td>\n",
       "      <td>0.0</td>\n",
       "      <td>0.0</td>\n",
       "      <td>0.0</td>\n",
       "      <td>...</td>\n",
       "      <td>0.0</td>\n",
       "      <td>0.0</td>\n",
       "      <td>0.0</td>\n",
       "      <td>0.0</td>\n",
       "      <td>0.0</td>\n",
       "      <td>0.0</td>\n",
       "      <td>0.0</td>\n",
       "      <td>0.0</td>\n",
       "      <td>-4.61</td>\n",
       "      <td>0</td>\n",
       "    </tr>\n",
       "    <tr>\n",
       "      <th>2</th>\n",
       "      <td>000000b5aea2c9ea7cc155f6ebcef97f826</td>\n",
       "      <td>202010.0</td>\n",
       "      <td>47.0</td>\n",
       "      <td>227.0</td>\n",
       "      <td>0.0</td>\n",
       "      <td>1.0</td>\n",
       "      <td>0.0</td>\n",
       "      <td>0.0</td>\n",
       "      <td>0.0</td>\n",
       "      <td>0.0</td>\n",
       "      <td>...</td>\n",
       "      <td>0.0</td>\n",
       "      <td>0.0</td>\n",
       "      <td>0.0</td>\n",
       "      <td>0.0</td>\n",
       "      <td>0.0</td>\n",
       "      <td>0.0</td>\n",
       "      <td>0.0</td>\n",
       "      <td>0.0</td>\n",
       "      <td>-4.46</td>\n",
       "      <td>0</td>\n",
       "    </tr>\n",
       "    <tr>\n",
       "      <th>3</th>\n",
       "      <td>000000b5aea2c9ea7cc155f6ebcef97f826</td>\n",
       "      <td>202011.0</td>\n",
       "      <td>47.0</td>\n",
       "      <td>228.0</td>\n",
       "      <td>0.0</td>\n",
       "      <td>1.0</td>\n",
       "      <td>0.0</td>\n",
       "      <td>0.0</td>\n",
       "      <td>0.0</td>\n",
       "      <td>0.0</td>\n",
       "      <td>...</td>\n",
       "      <td>0.0</td>\n",
       "      <td>0.0</td>\n",
       "      <td>0.0</td>\n",
       "      <td>0.0</td>\n",
       "      <td>0.0</td>\n",
       "      <td>0.0</td>\n",
       "      <td>0.0</td>\n",
       "      <td>0.0</td>\n",
       "      <td>-4.34</td>\n",
       "      <td>0</td>\n",
       "    </tr>\n",
       "    <tr>\n",
       "      <th>4</th>\n",
       "      <td>000000b5aea2c9ea7cc155f6ebcef97f826</td>\n",
       "      <td>202012.0</td>\n",
       "      <td>47.0</td>\n",
       "      <td>229.0</td>\n",
       "      <td>0.0</td>\n",
       "      <td>1.0</td>\n",
       "      <td>0.0</td>\n",
       "      <td>0.0</td>\n",
       "      <td>0.0</td>\n",
       "      <td>0.0</td>\n",
       "      <td>...</td>\n",
       "      <td>0.0</td>\n",
       "      <td>0.0</td>\n",
       "      <td>0.0</td>\n",
       "      <td>0.0</td>\n",
       "      <td>0.0</td>\n",
       "      <td>0.0</td>\n",
       "      <td>0.0</td>\n",
       "      <td>0.0</td>\n",
       "      <td>-4.21</td>\n",
       "      <td>0</td>\n",
       "    </tr>\n",
       "    <tr>\n",
       "      <th>5</th>\n",
       "      <td>000000b5aea2c9ea7cc155f6ebcef97f826</td>\n",
       "      <td>202101.0</td>\n",
       "      <td>47.0</td>\n",
       "      <td>230.0</td>\n",
       "      <td>0.0</td>\n",
       "      <td>1.0</td>\n",
       "      <td>0.0</td>\n",
       "      <td>0.0</td>\n",
       "      <td>0.0</td>\n",
       "      <td>0.0</td>\n",
       "      <td>...</td>\n",
       "      <td>0.0</td>\n",
       "      <td>0.0</td>\n",
       "      <td>0.0</td>\n",
       "      <td>0.0</td>\n",
       "      <td>0.0</td>\n",
       "      <td>0.0</td>\n",
       "      <td>0.0</td>\n",
       "      <td>0.0</td>\n",
       "      <td>-4.08</td>\n",
       "      <td>0</td>\n",
       "    </tr>\n",
       "    <tr>\n",
       "      <th>6</th>\n",
       "      <td>000000b5aea2c9ea7cc155f6ebcef97f826</td>\n",
       "      <td>202102.0</td>\n",
       "      <td>47.0</td>\n",
       "      <td>231.0</td>\n",
       "      <td>0.0</td>\n",
       "      <td>1.0</td>\n",
       "      <td>0.0</td>\n",
       "      <td>0.0</td>\n",
       "      <td>0.0</td>\n",
       "      <td>0.0</td>\n",
       "      <td>...</td>\n",
       "      <td>0.0</td>\n",
       "      <td>0.0</td>\n",
       "      <td>0.0</td>\n",
       "      <td>0.0</td>\n",
       "      <td>0.0</td>\n",
       "      <td>0.0</td>\n",
       "      <td>0.0</td>\n",
       "      <td>0.0</td>\n",
       "      <td>-3.97</td>\n",
       "      <td>0</td>\n",
       "    </tr>\n",
       "    <tr>\n",
       "      <th>7</th>\n",
       "      <td>000000b5aea2c9ea7cc155f6ebcef97f826</td>\n",
       "      <td>202103.0</td>\n",
       "      <td>47.0</td>\n",
       "      <td>232.0</td>\n",
       "      <td>0.0</td>\n",
       "      <td>1.0</td>\n",
       "      <td>0.0</td>\n",
       "      <td>0.0</td>\n",
       "      <td>0.0</td>\n",
       "      <td>0.0</td>\n",
       "      <td>...</td>\n",
       "      <td>0.0</td>\n",
       "      <td>0.0</td>\n",
       "      <td>0.0</td>\n",
       "      <td>0.0</td>\n",
       "      <td>0.0</td>\n",
       "      <td>0.0</td>\n",
       "      <td>0.0</td>\n",
       "      <td>0.0</td>\n",
       "      <td>-3.83</td>\n",
       "      <td>0</td>\n",
       "    </tr>\n",
       "    <tr>\n",
       "      <th>8</th>\n",
       "      <td>000000b5aea2c9ea7cc155f6ebcef97f826</td>\n",
       "      <td>202104.0</td>\n",
       "      <td>47.0</td>\n",
       "      <td>233.0</td>\n",
       "      <td>0.0</td>\n",
       "      <td>1.0</td>\n",
       "      <td>0.0</td>\n",
       "      <td>0.0</td>\n",
       "      <td>0.0</td>\n",
       "      <td>0.0</td>\n",
       "      <td>...</td>\n",
       "      <td>0.0</td>\n",
       "      <td>0.0</td>\n",
       "      <td>0.0</td>\n",
       "      <td>0.0</td>\n",
       "      <td>0.0</td>\n",
       "      <td>0.0</td>\n",
       "      <td>0.0</td>\n",
       "      <td>0.0</td>\n",
       "      <td>-3.72</td>\n",
       "      <td>0</td>\n",
       "    </tr>\n",
       "    <tr>\n",
       "      <th>9</th>\n",
       "      <td>000000b5aea2c9ea7cc155f6ebcef97f826</td>\n",
       "      <td>202105.0</td>\n",
       "      <td>47.0</td>\n",
       "      <td>234.0</td>\n",
       "      <td>0.0</td>\n",
       "      <td>1.0</td>\n",
       "      <td>0.0</td>\n",
       "      <td>0.0</td>\n",
       "      <td>0.0</td>\n",
       "      <td>0.0</td>\n",
       "      <td>...</td>\n",
       "      <td>0.0</td>\n",
       "      <td>0.0</td>\n",
       "      <td>0.0</td>\n",
       "      <td>0.0</td>\n",
       "      <td>0.0</td>\n",
       "      <td>0.0</td>\n",
       "      <td>0.0</td>\n",
       "      <td>0.0</td>\n",
       "      <td>-3.64</td>\n",
       "      <td>0</td>\n",
       "    </tr>\n",
       "    <tr>\n",
       "      <th>10</th>\n",
       "      <td>00000b8415f19846d12e852ebd0d52ec432</td>\n",
       "      <td>202007.0</td>\n",
       "      <td>34.0</td>\n",
       "      <td>105.0</td>\n",
       "      <td>1.0</td>\n",
       "      <td>0.0</td>\n",
       "      <td>0.0</td>\n",
       "      <td>0.0</td>\n",
       "      <td>0.0</td>\n",
       "      <td>0.0</td>\n",
       "      <td>...</td>\n",
       "      <td>0.0</td>\n",
       "      <td>0.0</td>\n",
       "      <td>0.0</td>\n",
       "      <td>1.0</td>\n",
       "      <td>0.0</td>\n",
       "      <td>0.0</td>\n",
       "      <td>0.0</td>\n",
       "      <td>0.0</td>\n",
       "      <td>15552.53</td>\n",
       "      <td>0</td>\n",
       "    </tr>\n",
       "    <tr>\n",
       "      <th>11</th>\n",
       "      <td>00000b8415f19846d12e852ebd0d52ec432</td>\n",
       "      <td>202008.0</td>\n",
       "      <td>34.0</td>\n",
       "      <td>106.0</td>\n",
       "      <td>1.0</td>\n",
       "      <td>0.0</td>\n",
       "      <td>0.0</td>\n",
       "      <td>0.0</td>\n",
       "      <td>0.0</td>\n",
       "      <td>0.0</td>\n",
       "      <td>...</td>\n",
       "      <td>0.0</td>\n",
       "      <td>0.0</td>\n",
       "      <td>0.0</td>\n",
       "      <td>1.0</td>\n",
       "      <td>0.0</td>\n",
       "      <td>0.0</td>\n",
       "      <td>0.0</td>\n",
       "      <td>0.0</td>\n",
       "      <td>5278.17</td>\n",
       "      <td>0</td>\n",
       "    </tr>\n",
       "    <tr>\n",
       "      <th>12</th>\n",
       "      <td>00000b8415f19846d12e852ebd0d52ec432</td>\n",
       "      <td>202009.0</td>\n",
       "      <td>34.0</td>\n",
       "      <td>107.0</td>\n",
       "      <td>1.0</td>\n",
       "      <td>0.0</td>\n",
       "      <td>0.0</td>\n",
       "      <td>0.0</td>\n",
       "      <td>0.0</td>\n",
       "      <td>0.0</td>\n",
       "      <td>...</td>\n",
       "      <td>0.0</td>\n",
       "      <td>0.0</td>\n",
       "      <td>0.0</td>\n",
       "      <td>2.0</td>\n",
       "      <td>0.0</td>\n",
       "      <td>0.0</td>\n",
       "      <td>0.0</td>\n",
       "      <td>0.0</td>\n",
       "      <td>28853.87</td>\n",
       "      <td>1</td>\n",
       "    </tr>\n",
       "    <tr>\n",
       "      <th>13</th>\n",
       "      <td>00000b8415f19846d12e852ebd0d52ec432</td>\n",
       "      <td>202010.0</td>\n",
       "      <td>34.0</td>\n",
       "      <td>108.0</td>\n",
       "      <td>1.0</td>\n",
       "      <td>0.0</td>\n",
       "      <td>0.0</td>\n",
       "      <td>0.0</td>\n",
       "      <td>0.0</td>\n",
       "      <td>0.0</td>\n",
       "      <td>...</td>\n",
       "      <td>0.0</td>\n",
       "      <td>0.0</td>\n",
       "      <td>0.0</td>\n",
       "      <td>2.0</td>\n",
       "      <td>0.0</td>\n",
       "      <td>0.0</td>\n",
       "      <td>0.0</td>\n",
       "      <td>0.0</td>\n",
       "      <td>10110.66</td>\n",
       "      <td>0</td>\n",
       "    </tr>\n",
       "    <tr>\n",
       "      <th>14</th>\n",
       "      <td>00000b8415f19846d12e852ebd0d52ec432</td>\n",
       "      <td>202011.0</td>\n",
       "      <td>34.0</td>\n",
       "      <td>109.0</td>\n",
       "      <td>1.0</td>\n",
       "      <td>0.0</td>\n",
       "      <td>0.0</td>\n",
       "      <td>0.0</td>\n",
       "      <td>0.0</td>\n",
       "      <td>0.0</td>\n",
       "      <td>...</td>\n",
       "      <td>0.0</td>\n",
       "      <td>0.0</td>\n",
       "      <td>0.0</td>\n",
       "      <td>1.0</td>\n",
       "      <td>0.0</td>\n",
       "      <td>0.0</td>\n",
       "      <td>0.0</td>\n",
       "      <td>0.0</td>\n",
       "      <td>10094.83</td>\n",
       "      <td>0</td>\n",
       "    </tr>\n",
       "    <tr>\n",
       "      <th>15</th>\n",
       "      <td>00000b8415f19846d12e852ebd0d52ec432</td>\n",
       "      <td>202012.0</td>\n",
       "      <td>34.0</td>\n",
       "      <td>110.0</td>\n",
       "      <td>1.0</td>\n",
       "      <td>0.0</td>\n",
       "      <td>0.0</td>\n",
       "      <td>0.0</td>\n",
       "      <td>0.0</td>\n",
       "      <td>0.0</td>\n",
       "      <td>...</td>\n",
       "      <td>0.0</td>\n",
       "      <td>0.0</td>\n",
       "      <td>0.0</td>\n",
       "      <td>2.0</td>\n",
       "      <td>0.0</td>\n",
       "      <td>0.0</td>\n",
       "      <td>0.0</td>\n",
       "      <td>0.0</td>\n",
       "      <td>23512.78</td>\n",
       "      <td>1</td>\n",
       "    </tr>\n",
       "    <tr>\n",
       "      <th>16</th>\n",
       "      <td>00000b8415f19846d12e852ebd0d52ec432</td>\n",
       "      <td>202101.0</td>\n",
       "      <td>35.0</td>\n",
       "      <td>111.0</td>\n",
       "      <td>1.0</td>\n",
       "      <td>0.0</td>\n",
       "      <td>0.0</td>\n",
       "      <td>0.0</td>\n",
       "      <td>0.0</td>\n",
       "      <td>0.0</td>\n",
       "      <td>...</td>\n",
       "      <td>0.0</td>\n",
       "      <td>0.0</td>\n",
       "      <td>0.0</td>\n",
       "      <td>1.0</td>\n",
       "      <td>0.0</td>\n",
       "      <td>0.0</td>\n",
       "      <td>0.0</td>\n",
       "      <td>0.0</td>\n",
       "      <td>28610.98</td>\n",
       "      <td>1</td>\n",
       "    </tr>\n",
       "    <tr>\n",
       "      <th>17</th>\n",
       "      <td>00000b8415f19846d12e852ebd0d52ec432</td>\n",
       "      <td>202102.0</td>\n",
       "      <td>35.0</td>\n",
       "      <td>112.0</td>\n",
       "      <td>1.0</td>\n",
       "      <td>0.0</td>\n",
       "      <td>0.0</td>\n",
       "      <td>0.0</td>\n",
       "      <td>0.0</td>\n",
       "      <td>0.0</td>\n",
       "      <td>...</td>\n",
       "      <td>0.0</td>\n",
       "      <td>0.0</td>\n",
       "      <td>0.0</td>\n",
       "      <td>2.0</td>\n",
       "      <td>0.0</td>\n",
       "      <td>0.0</td>\n",
       "      <td>0.0</td>\n",
       "      <td>0.0</td>\n",
       "      <td>4537.63</td>\n",
       "      <td>0</td>\n",
       "    </tr>\n",
       "    <tr>\n",
       "      <th>18</th>\n",
       "      <td>00000b8415f19846d12e852ebd0d52ec432</td>\n",
       "      <td>202103.0</td>\n",
       "      <td>35.0</td>\n",
       "      <td>113.0</td>\n",
       "      <td>1.0</td>\n",
       "      <td>0.0</td>\n",
       "      <td>0.0</td>\n",
       "      <td>0.0</td>\n",
       "      <td>0.0</td>\n",
       "      <td>0.0</td>\n",
       "      <td>...</td>\n",
       "      <td>0.0</td>\n",
       "      <td>0.0</td>\n",
       "      <td>0.0</td>\n",
       "      <td>3.0</td>\n",
       "      <td>0.0</td>\n",
       "      <td>0.0</td>\n",
       "      <td>0.0</td>\n",
       "      <td>0.0</td>\n",
       "      <td>30708.99</td>\n",
       "      <td>1</td>\n",
       "    </tr>\n",
       "    <tr>\n",
       "      <th>19</th>\n",
       "      <td>00000b8415f19846d12e852ebd0d52ec432</td>\n",
       "      <td>202104.0</td>\n",
       "      <td>35.0</td>\n",
       "      <td>114.0</td>\n",
       "      <td>1.0</td>\n",
       "      <td>0.0</td>\n",
       "      <td>0.0</td>\n",
       "      <td>0.0</td>\n",
       "      <td>0.0</td>\n",
       "      <td>0.0</td>\n",
       "      <td>...</td>\n",
       "      <td>0.0</td>\n",
       "      <td>0.0</td>\n",
       "      <td>0.0</td>\n",
       "      <td>2.0</td>\n",
       "      <td>0.0</td>\n",
       "      <td>0.0</td>\n",
       "      <td>0.0</td>\n",
       "      <td>1.0</td>\n",
       "      <td>20695.28</td>\n",
       "      <td>0</td>\n",
       "    </tr>\n",
       "  </tbody>\n",
       "</table>\n",
       "<p>20 rows × 56 columns</p>\n",
       "</div>"
      ],
      "text/plain": [
       "                 dni_titular_movimiento  anio_mes_cupon  edad_cliente  \\\n",
       "0   000000b5aea2c9ea7cc155f6ebcef97f826        202008.0          46.0   \n",
       "1   000000b5aea2c9ea7cc155f6ebcef97f826        202009.0          47.0   \n",
       "2   000000b5aea2c9ea7cc155f6ebcef97f826        202010.0          47.0   \n",
       "3   000000b5aea2c9ea7cc155f6ebcef97f826        202011.0          47.0   \n",
       "4   000000b5aea2c9ea7cc155f6ebcef97f826        202012.0          47.0   \n",
       "5   000000b5aea2c9ea7cc155f6ebcef97f826        202101.0          47.0   \n",
       "6   000000b5aea2c9ea7cc155f6ebcef97f826        202102.0          47.0   \n",
       "7   000000b5aea2c9ea7cc155f6ebcef97f826        202103.0          47.0   \n",
       "8   000000b5aea2c9ea7cc155f6ebcef97f826        202104.0          47.0   \n",
       "9   000000b5aea2c9ea7cc155f6ebcef97f826        202105.0          47.0   \n",
       "10  00000b8415f19846d12e852ebd0d52ec432        202007.0          34.0   \n",
       "11  00000b8415f19846d12e852ebd0d52ec432        202008.0          34.0   \n",
       "12  00000b8415f19846d12e852ebd0d52ec432        202009.0          34.0   \n",
       "13  00000b8415f19846d12e852ebd0d52ec432        202010.0          34.0   \n",
       "14  00000b8415f19846d12e852ebd0d52ec432        202011.0          34.0   \n",
       "15  00000b8415f19846d12e852ebd0d52ec432        202012.0          34.0   \n",
       "16  00000b8415f19846d12e852ebd0d52ec432        202101.0          35.0   \n",
       "17  00000b8415f19846d12e852ebd0d52ec432        202102.0          35.0   \n",
       "18  00000b8415f19846d12e852ebd0d52ec432        202103.0          35.0   \n",
       "19  00000b8415f19846d12e852ebd0d52ec432        202104.0          35.0   \n",
       "\n",
       "    antig_cliente  client__x0_Hombre  client__x0_Mujer  client__x0_Sin Datos  \\\n",
       "0           225.0                0.0               1.0                   0.0   \n",
       "1           226.0                0.0               1.0                   0.0   \n",
       "2           227.0                0.0               1.0                   0.0   \n",
       "3           228.0                0.0               1.0                   0.0   \n",
       "4           229.0                0.0               1.0                   0.0   \n",
       "5           230.0                0.0               1.0                   0.0   \n",
       "6           231.0                0.0               1.0                   0.0   \n",
       "7           232.0                0.0               1.0                   0.0   \n",
       "8           233.0                0.0               1.0                   0.0   \n",
       "9           234.0                0.0               1.0                   0.0   \n",
       "10          105.0                1.0               0.0                   0.0   \n",
       "11          106.0                1.0               0.0                   0.0   \n",
       "12          107.0                1.0               0.0                   0.0   \n",
       "13          108.0                1.0               0.0                   0.0   \n",
       "14          109.0                1.0               0.0                   0.0   \n",
       "15          110.0                1.0               0.0                   0.0   \n",
       "16          111.0                1.0               0.0                   0.0   \n",
       "17          112.0                1.0               0.0                   0.0   \n",
       "18          113.0                1.0               0.0                   0.0   \n",
       "19          114.0                1.0               0.0                   0.0   \n",
       "\n",
       "    client__x1_Sector_Educativo  client__x1_Sector_Empleado_Comercio  \\\n",
       "0                           0.0                                  0.0   \n",
       "1                           0.0                                  0.0   \n",
       "2                           0.0                                  0.0   \n",
       "3                           0.0                                  0.0   \n",
       "4                           0.0                                  0.0   \n",
       "5                           0.0                                  0.0   \n",
       "6                           0.0                                  0.0   \n",
       "7                           0.0                                  0.0   \n",
       "8                           0.0                                  0.0   \n",
       "9                           0.0                                  0.0   \n",
       "10                          0.0                                  0.0   \n",
       "11                          0.0                                  0.0   \n",
       "12                          0.0                                  0.0   \n",
       "13                          0.0                                  0.0   \n",
       "14                          0.0                                  0.0   \n",
       "15                          0.0                                  0.0   \n",
       "16                          0.0                                  0.0   \n",
       "17                          0.0                                  0.0   \n",
       "18                          0.0                                  0.0   \n",
       "19                          0.0                                  0.0   \n",
       "\n",
       "    client__x1_Sector_Financiero  ...  trans__x3_2  trans__x3_3  trans__x3_4  \\\n",
       "0                            0.0  ...          0.0          0.0          0.0   \n",
       "1                            0.0  ...          0.0          0.0          0.0   \n",
       "2                            0.0  ...          0.0          0.0          0.0   \n",
       "3                            0.0  ...          0.0          0.0          0.0   \n",
       "4                            0.0  ...          0.0          0.0          0.0   \n",
       "5                            0.0  ...          0.0          0.0          0.0   \n",
       "6                            0.0  ...          0.0          0.0          0.0   \n",
       "7                            0.0  ...          0.0          0.0          0.0   \n",
       "8                            0.0  ...          0.0          0.0          0.0   \n",
       "9                            0.0  ...          0.0          0.0          0.0   \n",
       "10                           0.0  ...          0.0          0.0          0.0   \n",
       "11                           0.0  ...          0.0          0.0          0.0   \n",
       "12                           0.0  ...          0.0          0.0          0.0   \n",
       "13                           0.0  ...          0.0          0.0          0.0   \n",
       "14                           0.0  ...          0.0          0.0          0.0   \n",
       "15                           0.0  ...          0.0          0.0          0.0   \n",
       "16                           0.0  ...          0.0          0.0          0.0   \n",
       "17                           0.0  ...          0.0          0.0          0.0   \n",
       "18                           0.0  ...          0.0          0.0          0.0   \n",
       "19                           0.0  ...          0.0          0.0          0.0   \n",
       "\n",
       "    trans__x3_5  trans__x3_6  trans__x3_7  trans__x3_8  trans__x3_9  \\\n",
       "0           0.0          0.0          0.0          0.0          0.0   \n",
       "1           0.0          0.0          0.0          0.0          0.0   \n",
       "2           0.0          0.0          0.0          0.0          0.0   \n",
       "3           0.0          0.0          0.0          0.0          0.0   \n",
       "4           0.0          0.0          0.0          0.0          0.0   \n",
       "5           0.0          0.0          0.0          0.0          0.0   \n",
       "6           0.0          0.0          0.0          0.0          0.0   \n",
       "7           0.0          0.0          0.0          0.0          0.0   \n",
       "8           0.0          0.0          0.0          0.0          0.0   \n",
       "9           0.0          0.0          0.0          0.0          0.0   \n",
       "10          1.0          0.0          0.0          0.0          0.0   \n",
       "11          1.0          0.0          0.0          0.0          0.0   \n",
       "12          2.0          0.0          0.0          0.0          0.0   \n",
       "13          2.0          0.0          0.0          0.0          0.0   \n",
       "14          1.0          0.0          0.0          0.0          0.0   \n",
       "15          2.0          0.0          0.0          0.0          0.0   \n",
       "16          1.0          0.0          0.0          0.0          0.0   \n",
       "17          2.0          0.0          0.0          0.0          0.0   \n",
       "18          3.0          0.0          0.0          0.0          0.0   \n",
       "19          2.0          0.0          0.0          0.0          1.0   \n",
       "\n",
       "    monto_ajustado  fg_aumentado  \n",
       "0            -4.72             0  \n",
       "1            -4.61             0  \n",
       "2            -4.46             0  \n",
       "3            -4.34             0  \n",
       "4            -4.21             0  \n",
       "5            -4.08             0  \n",
       "6            -3.97             0  \n",
       "7            -3.83             0  \n",
       "8            -3.72             0  \n",
       "9            -3.64             0  \n",
       "10        15552.53             0  \n",
       "11         5278.17             0  \n",
       "12        28853.87             1  \n",
       "13        10110.66             0  \n",
       "14        10094.83             0  \n",
       "15        23512.78             1  \n",
       "16        28610.98             1  \n",
       "17         4537.63             0  \n",
       "18        30708.99             1  \n",
       "19        20695.28             0  \n",
       "\n",
       "[20 rows x 56 columns]"
      ]
     },
     "execution_count": 144,
     "metadata": {},
     "output_type": "execute_result"
    }
   ],
   "source": [
    "df_mes.head(20)"
   ]
  },
  {
   "cell_type": "code",
   "execution_count": 145,
   "id": "83d0d993-bf48-44ea-b235-1e1726674150",
   "metadata": {
    "tags": []
   },
   "outputs": [],
   "source": [
    "df = df_mes.copy() # Usamos siempre df_mes para clasificar"
   ]
  },
  {
   "cell_type": "markdown",
   "id": "950a81a5-ea16-47a8-98f2-770ca138b0f8",
   "metadata": {
    "tags": []
   },
   "source": [
    "## RandomForestClassifier - Default"
   ]
  },
  {
   "cell_type": "code",
   "execution_count": 146,
   "id": "0542cf84-4079-4f67-9521-076a4653172d",
   "metadata": {},
   "outputs": [],
   "source": [
    "# Preproceso 1 para SGDRegressor - Default\n",
    "scaler = MinMaxScaler()\n",
    "ft_selector = RandomForestClassifier(random_state=0)\n",
    "model_ = RandomForestClassifier(random_state= 0, max_depth=20, min_samples_split=20)"
   ]
  },
  {
   "cell_type": "code",
   "execution_count": 147,
   "id": "d409d6f5-5885-4457-85b9-a5834621fc82",
   "metadata": {},
   "outputs": [],
   "source": [
    "# Features and target\n",
    "X = df.drop([ordinal_ft, target_c], axis=1)\n",
    "y = df[target_c]"
   ]
  },
  {
   "cell_type": "code",
   "execution_count": 148,
   "id": "d6009e55-6b48-4ebb-84c7-11b248767c7a",
   "metadata": {},
   "outputs": [],
   "source": [
    "# Train and validation\n",
    "X_train, X_val, y_train, y_val = train_test_split(X, y, test_size=0.30, random_state=0, shuffle=False)"
   ]
  },
  {
   "cell_type": "markdown",
   "id": "b2e8f85d-0c80-48ed-831c-0f86492b7945",
   "metadata": {},
   "source": [
    "#### Preproceso y ajuste"
   ]
  },
  {
   "cell_type": "code",
   "execution_count": 149,
   "id": "d46a3504-93c4-49a6-9706-b3f6ca215af6",
   "metadata": {},
   "outputs": [],
   "source": [
    "# Preprocessing\n",
    "num_transformer = scaler\n",
    "cat_transformer = 'passthrough'\n",
    "\n",
    "num_features = [g for g in X.columns if 'client' not in g]\n",
    "cat_features = [g for g in X.columns if 'client' in g]\n",
    "\n",
    "preprocessor = ColumnTransformer(\n",
    "    transformers=[\n",
    "        ('num', num_transformer, num_features),\n",
    "        ('cat', cat_transformer, cat_features)])"
   ]
  },
  {
   "cell_type": "code",
   "execution_count": 150,
   "id": "c24f63ca-13e7-4d60-b5d6-e7a5f429e989",
   "metadata": {},
   "outputs": [],
   "source": [
    "# Fit\n",
    "model = Pipeline([\n",
    "  ('preprocessor', preprocessor),\n",
    "  ('feature_selection', SelectFromModel(ft_selector)),\n",
    "  ('cla', model_)\n",
    "])\n",
    "\n",
    "model.fit(X_train, y_train)\n",
    "rfc = model"
   ]
  },
  {
   "cell_type": "code",
   "execution_count": 151,
   "id": "fa7ea5f2-8252-4072-9891-a4369352daad",
   "metadata": {},
   "outputs": [],
   "source": [
    "# Predict\n",
    "y_train_pred = model.predict(X_train)\n",
    "y_valid_pred = model.predict(X_val)"
   ]
  },
  {
   "cell_type": "code",
   "execution_count": 152,
   "id": "701d60a2-7c90-4f0a-8038-2cb864896694",
   "metadata": {},
   "outputs": [
    {
     "data": {
      "text/plain": [
       "{'memory': None,\n",
       " 'steps': [('preprocessor',\n",
       "   ColumnTransformer(transformers=[('num', MinMaxScaler(),\n",
       "                                    ['anio_mes_cupon', 'trans__x0_AX',\n",
       "                                     'trans__x0_EX', 'trans__x0_MC',\n",
       "                                     'trans__x0_PC', 'trans__x0_PL',\n",
       "                                     'trans__x0_PN', 'trans__x0_PP',\n",
       "                                     'trans__x0_TA', 'trans__x0_VI',\n",
       "                                     'trans__x0_ZE', 'trans__x1_0', 'trans__x1_22',\n",
       "                                     'trans__x1_3', 'trans__x1_32', 'trans__x1_4',\n",
       "                                     'trans__x1_42', 'trans__x2_0', 'trans__x2_1',\n",
       "                                     'trans__x2_3'...\n",
       "                                     'client__x1_Sector_Operativo',\n",
       "                                     'client__x1_Sector_Salud',\n",
       "                                     'client__x1_Sector_Seguridad',\n",
       "                                     'client__x1_Sector_Sin_Datos',\n",
       "                                     'client__x2_Casado', 'client__x2_Otros',\n",
       "                                     'client__x2_Sin_datos', 'client__x2_Soltero',\n",
       "                                     'client__x3_REGION CUYO',\n",
       "                                     'client__x3_REGION NORDESTE',\n",
       "                                     'client__x3_REGION NOROESTE',\n",
       "                                     'client__x3_REGION PAMPEANA',\n",
       "                                     'client__x3_REGION PATAGONIA',\n",
       "                                     'client__x3_SIN DATOS'])])),\n",
       "  ('feature_selection',\n",
       "   SelectFromModel(estimator=RandomForestClassifier(random_state=0))),\n",
       "  ('cla',\n",
       "   RandomForestClassifier(max_depth=20, min_samples_split=20, random_state=0))],\n",
       " 'verbose': False,\n",
       " 'preprocessor': ColumnTransformer(transformers=[('num', MinMaxScaler(),\n",
       "                                  ['anio_mes_cupon', 'trans__x0_AX',\n",
       "                                   'trans__x0_EX', 'trans__x0_MC',\n",
       "                                   'trans__x0_PC', 'trans__x0_PL',\n",
       "                                   'trans__x0_PN', 'trans__x0_PP',\n",
       "                                   'trans__x0_TA', 'trans__x0_VI',\n",
       "                                   'trans__x0_ZE', 'trans__x1_0', 'trans__x1_22',\n",
       "                                   'trans__x1_3', 'trans__x1_32', 'trans__x1_4',\n",
       "                                   'trans__x1_42', 'trans__x2_0', 'trans__x2_1',\n",
       "                                   'trans__x2_3'...\n",
       "                                   'client__x1_Sector_Operativo',\n",
       "                                   'client__x1_Sector_Salud',\n",
       "                                   'client__x1_Sector_Seguridad',\n",
       "                                   'client__x1_Sector_Sin_Datos',\n",
       "                                   'client__x2_Casado', 'client__x2_Otros',\n",
       "                                   'client__x2_Sin_datos', 'client__x2_Soltero',\n",
       "                                   'client__x3_REGION CUYO',\n",
       "                                   'client__x3_REGION NORDESTE',\n",
       "                                   'client__x3_REGION NOROESTE',\n",
       "                                   'client__x3_REGION PAMPEANA',\n",
       "                                   'client__x3_REGION PATAGONIA',\n",
       "                                   'client__x3_SIN DATOS'])]),\n",
       " 'feature_selection': SelectFromModel(estimator=RandomForestClassifier(random_state=0)),\n",
       " 'cla': RandomForestClassifier(max_depth=20, min_samples_split=20, random_state=0),\n",
       " 'preprocessor__n_jobs': None,\n",
       " 'preprocessor__remainder': 'drop',\n",
       " 'preprocessor__sparse_threshold': 0.3,\n",
       " 'preprocessor__transformer_weights': None,\n",
       " 'preprocessor__transformers': [('num',\n",
       "   MinMaxScaler(),\n",
       "   ['anio_mes_cupon',\n",
       "    'trans__x0_AX',\n",
       "    'trans__x0_EX',\n",
       "    'trans__x0_MC',\n",
       "    'trans__x0_PC',\n",
       "    'trans__x0_PL',\n",
       "    'trans__x0_PN',\n",
       "    'trans__x0_PP',\n",
       "    'trans__x0_TA',\n",
       "    'trans__x0_VI',\n",
       "    'trans__x0_ZE',\n",
       "    'trans__x1_0',\n",
       "    'trans__x1_22',\n",
       "    'trans__x1_3',\n",
       "    'trans__x1_32',\n",
       "    'trans__x1_4',\n",
       "    'trans__x1_42',\n",
       "    'trans__x2_0',\n",
       "    'trans__x2_1',\n",
       "    'trans__x2_3',\n",
       "    'trans__x3_0',\n",
       "    'trans__x3_1',\n",
       "    'trans__x3_2',\n",
       "    'trans__x3_3',\n",
       "    'trans__x3_4',\n",
       "    'trans__x3_5',\n",
       "    'trans__x3_6',\n",
       "    'trans__x3_7',\n",
       "    'trans__x3_8',\n",
       "    'trans__x3_9',\n",
       "    'monto_ajustado']),\n",
       "  ('cat',\n",
       "   'passthrough',\n",
       "   ['edad_cliente',\n",
       "    'antig_cliente',\n",
       "    'client__x0_Hombre',\n",
       "    'client__x0_Mujer',\n",
       "    'client__x0_Sin Datos',\n",
       "    'client__x1_Sector_Educativo',\n",
       "    'client__x1_Sector_Empleado_Comercio',\n",
       "    'client__x1_Sector_Financiero',\n",
       "    'client__x1_Sector_No_Operativo',\n",
       "    'client__x1_Sector_Operativo',\n",
       "    'client__x1_Sector_Salud',\n",
       "    'client__x1_Sector_Seguridad',\n",
       "    'client__x1_Sector_Sin_Datos',\n",
       "    'client__x2_Casado',\n",
       "    'client__x2_Otros',\n",
       "    'client__x2_Sin_datos',\n",
       "    'client__x2_Soltero',\n",
       "    'client__x3_REGION CUYO',\n",
       "    'client__x3_REGION NORDESTE',\n",
       "    'client__x3_REGION NOROESTE',\n",
       "    'client__x3_REGION PAMPEANA',\n",
       "    'client__x3_REGION PATAGONIA',\n",
       "    'client__x3_SIN DATOS'])],\n",
       " 'preprocessor__verbose': False,\n",
       " 'preprocessor__num': MinMaxScaler(),\n",
       " 'preprocessor__cat': 'passthrough',\n",
       " 'preprocessor__num__clip': False,\n",
       " 'preprocessor__num__copy': True,\n",
       " 'preprocessor__num__feature_range': (0, 1),\n",
       " 'feature_selection__estimator__bootstrap': True,\n",
       " 'feature_selection__estimator__ccp_alpha': 0.0,\n",
       " 'feature_selection__estimator__class_weight': None,\n",
       " 'feature_selection__estimator__criterion': 'gini',\n",
       " 'feature_selection__estimator__max_depth': None,\n",
       " 'feature_selection__estimator__max_features': 'auto',\n",
       " 'feature_selection__estimator__max_leaf_nodes': None,\n",
       " 'feature_selection__estimator__max_samples': None,\n",
       " 'feature_selection__estimator__min_impurity_decrease': 0.0,\n",
       " 'feature_selection__estimator__min_impurity_split': None,\n",
       " 'feature_selection__estimator__min_samples_leaf': 1,\n",
       " 'feature_selection__estimator__min_samples_split': 2,\n",
       " 'feature_selection__estimator__min_weight_fraction_leaf': 0.0,\n",
       " 'feature_selection__estimator__n_estimators': 100,\n",
       " 'feature_selection__estimator__n_jobs': None,\n",
       " 'feature_selection__estimator__oob_score': False,\n",
       " 'feature_selection__estimator__random_state': 0,\n",
       " 'feature_selection__estimator__verbose': 0,\n",
       " 'feature_selection__estimator__warm_start': False,\n",
       " 'feature_selection__estimator': RandomForestClassifier(random_state=0),\n",
       " 'feature_selection__importance_getter': 'auto',\n",
       " 'feature_selection__max_features': None,\n",
       " 'feature_selection__norm_order': 1,\n",
       " 'feature_selection__prefit': False,\n",
       " 'feature_selection__threshold': None,\n",
       " 'cla__bootstrap': True,\n",
       " 'cla__ccp_alpha': 0.0,\n",
       " 'cla__class_weight': None,\n",
       " 'cla__criterion': 'gini',\n",
       " 'cla__max_depth': 20,\n",
       " 'cla__max_features': 'auto',\n",
       " 'cla__max_leaf_nodes': None,\n",
       " 'cla__max_samples': None,\n",
       " 'cla__min_impurity_decrease': 0.0,\n",
       " 'cla__min_impurity_split': None,\n",
       " 'cla__min_samples_leaf': 1,\n",
       " 'cla__min_samples_split': 20,\n",
       " 'cla__min_weight_fraction_leaf': 0.0,\n",
       " 'cla__n_estimators': 100,\n",
       " 'cla__n_jobs': None,\n",
       " 'cla__oob_score': False,\n",
       " 'cla__random_state': 0,\n",
       " 'cla__verbose': 0,\n",
       " 'cla__warm_start': False}"
      ]
     },
     "execution_count": 152,
     "metadata": {},
     "output_type": "execute_result"
    }
   ],
   "source": [
    "model.get_params()"
   ]
  },
  {
   "cell_type": "markdown",
   "id": "8df91cfd-4aa6-4dc4-98f3-6fbbeb029449",
   "metadata": {},
   "source": [
    "#### Evaluacion de predicciones"
   ]
  },
  {
   "cell_type": "code",
   "execution_count": 153,
   "id": "d8ccffaa-3a99-494f-a328-542fb82e4718",
   "metadata": {
    "tags": []
   },
   "outputs": [
    {
     "name": "stdout",
     "output_type": "stream",
     "text": [
      "=======================================================================\n",
      "RandomForestClassifier - Reporte de clasificación del conjunto de train\n",
      "=======================================================================\n",
      "              precision    recall  f1-score   support\n",
      "\n",
      "           0       0.89      0.95      0.92      3402\n",
      "           1       0.89      0.78      0.83      1808\n",
      "\n",
      "    accuracy                           0.89      5210\n",
      "   macro avg       0.89      0.87      0.88      5210\n",
      "weighted avg       0.89      0.89      0.89      5210\n",
      "\n"
     ]
    }
   ],
   "source": [
    "# Evaluate train\n",
    "text = \"RandomForestClassifier - Reporte de clasificación del conjunto de train\" \n",
    "print(len(text)*\"=\")\n",
    "print(text)\n",
    "print(len(text)*\"=\")\n",
    "print(classification_report(y_train, y_train_pred))"
   ]
  },
  {
   "cell_type": "code",
   "execution_count": 154,
   "id": "42061fe7-7dae-4edb-bb3e-0ea426c6df3a",
   "metadata": {
    "tags": []
   },
   "outputs": [
    {
     "name": "stdout",
     "output_type": "stream",
     "text": [
      "============================================================================\n",
      "RandomForestClassifier - Reporte de clasificación del conjunto de validacion\n",
      "============================================================================\n",
      "              precision    recall  f1-score   support\n",
      "\n",
      "           0       0.77      0.82      0.79      1433\n",
      "           1       0.64      0.56      0.60       800\n",
      "\n",
      "    accuracy                           0.73      2233\n",
      "   macro avg       0.70      0.69      0.70      2233\n",
      "weighted avg       0.72      0.73      0.72      2233\n",
      "\n"
     ]
    }
   ],
   "source": [
    "# Evaluate val\n",
    "text = \"RandomForestClassifier - Reporte de clasificación del conjunto de validacion\" \n",
    "print(len(text)*\"=\")\n",
    "print(text)\n",
    "print(len(text)*\"=\")\n",
    "print(classification_report(y_val, y_valid_pred))"
   ]
  },
  {
   "cell_type": "code",
   "execution_count": 155,
   "id": "a092c262-e453-4a9f-99b9-d77e1e758789",
   "metadata": {},
   "outputs": [
    {
     "data": {
      "text/plain": [
       "Text(0.5, 1.0, 'Random Forest - Matriz de confusión del conjunto de train sin normalizar\\n')"
      ]
     },
     "execution_count": 155,
     "metadata": {},
     "output_type": "execute_result"
    },
    {
     "data": {
      "text/plain": [
       "<Figure size 432x288 with 0 Axes>"
      ]
     },
     "metadata": {},
     "output_type": "display_data"
    },
    {
     "data": {
      "image/png": "[encoded data removed]",
      "text/plain": [
       "<Figure size 432x288 with 2 Axes>"
      ]
     },
     "metadata": {
      "needs_background": "light"
     },
     "output_type": "display_data"
    }
   ],
   "source": [
    "plt.figure()\n",
    "plot_confusion_matrix(estimator= model, X=X_train, y_true=y_train,\n",
    "                      normalize='true', cmap='Blues').ax_ \\\n",
    "                      .set_title('Random Forest - Matriz de confusión del conjunto de train sin normalizar\\n')"
   ]
  },
  {
   "cell_type": "code",
   "execution_count": 156,
   "id": "fd778d1f-86fd-4033-a46b-68aab50e89bf",
   "metadata": {},
   "outputs": [
    {
     "data": {
      "text/plain": [
       "Text(0.5, 1.0, 'Random Forest - Matriz de confusión del conjunto de validation sin normalizar\\n')"
      ]
     },
     "execution_count": 156,
     "metadata": {},
     "output_type": "execute_result"
    },
    {
     "data": {
      "text/plain": [
       "<Figure size 432x288 with 0 Axes>"
      ]
     },
     "metadata": {},
     "output_type": "display_data"
    },
    {
     "data": {
      "image/png": "[encoded data removed]",
      "text/plain": [
       "<Figure size 432x288 with 2 Axes>"
      ]
     },
     "metadata": {
      "needs_background": "light"
     },
     "output_type": "display_data"
    }
   ],
   "source": [
    "plt.figure()\n",
    "plot_confusion_matrix(estimator= model, X=X_val, y_true=y_val,\n",
    "                      normalize='true', cmap='Blues').ax_ \\\n",
    "                      .set_title('Random Forest - Matriz de confusión del conjunto de validation sin normalizar\\n')"
   ]
  },
  {
   "cell_type": "markdown",
   "id": "2d12cb5d-fa48-474f-b767-115d9498c240",
   "metadata": {
    "tags": []
   },
   "source": [
    "## RandomForestClassifier - Grid Search"
   ]
  },
  {
   "cell_type": "code",
   "execution_count": 157,
   "id": "a5ebea9e-3929-4211-bb9d-0b94746d6eed",
   "metadata": {},
   "outputs": [],
   "source": [
    "# Preproceso 1 para SGDRegressor - Default\n",
    "scaler = MinMaxScaler()\n",
    "#ft_selector = LinearSVR(random_state=0)\n",
    "model_ = RandomForestClassifier(random_state= 0)"
   ]
  },
  {
   "cell_type": "code",
   "execution_count": 158,
   "id": "cfe9054b-5055-46ab-ae0b-cb8b5b688d8c",
   "metadata": {
    "tags": []
   },
   "outputs": [],
   "source": [
    "param_grid = {'cla__n_estimators' : [75, 100],\n",
    "                'cla__criterion':['gini', 'entropy'],\n",
    "                'cla__max_depth': [20, 25],\n",
    "                'cla__min_samples_split': [20, 25],\n",
    "                'cla__min_samples_leaf':[5, 6, 8],\n",
    "                'cla__max_features':[0.5, 0.7, 0.8]}"
   ]
  },
  {
   "cell_type": "code",
   "execution_count": 159,
   "id": "0a2f02e7-56b0-4293-8dfd-f8e463da073f",
   "metadata": {},
   "outputs": [],
   "source": [
    "# Features and target\n",
    "X = df.drop([ordinal_ft, target_c], axis=1)\n",
    "y = df[target_c]"
   ]
  },
  {
   "cell_type": "code",
   "execution_count": 160,
   "id": "f12be47f-9b6a-492a-8183-6deaabc8fa5e",
   "metadata": {},
   "outputs": [],
   "source": [
    "# Train and validation\n",
    "X_train, X_val, y_train, y_val = train_test_split(X, y, test_size=0.30, random_state=0, shuffle=False)"
   ]
  },
  {
   "cell_type": "markdown",
   "id": "81e40421-b3fc-4c9a-b4c2-6f99e2b23abe",
   "metadata": {},
   "source": [
    "#### Preproceso y ajuste"
   ]
  },
  {
   "cell_type": "code",
   "execution_count": 161,
   "id": "c8e2348e-8b8b-42f1-905f-a044ec753aa6",
   "metadata": {},
   "outputs": [],
   "source": [
    "# Preprocessing\n",
    "num_transformer = scaler\n",
    "cat_transformer = 'passthrough'\n",
    "\n",
    "num_features = [g for g in X.columns if 'client' not in g]\n",
    "cat_features = [g for g in X.columns if 'client' in g]\n",
    "\n",
    "preprocessor = ColumnTransformer(\n",
    "    transformers=[\n",
    "        ('num', num_transformer, num_features),\n",
    "        ('cat', cat_transformer, cat_features)])"
   ]
  },
  {
   "cell_type": "code",
   "execution_count": 162,
   "id": "a42f3d01-906a-4fd5-8cbf-0d365c16007f",
   "metadata": {
    "tags": []
   },
   "outputs": [
    {
     "name": "stdout",
     "output_type": "stream",
     "text": [
      "Fitting 5 folds for each of 10 candidates, totalling 50 fits\n"
     ]
    }
   ],
   "source": [
    "# Fit\n",
    "pipe = Pipeline([\n",
    "  ('preprocessor', preprocessor),\n",
    "#  ('feature_selection', SelectFromModel(ft_selector)),\n",
    "  ('cla', model_)\n",
    "])\n",
    "\n",
    "model = RandomizedSearchCV(pipe, param_grid, scoring='f1', cv=5, verbose=1)\n",
    "\n",
    "model.fit(X_train, y_train)\n",
    "rfc_cv = model"
   ]
  },
  {
   "cell_type": "code",
   "execution_count": 163,
   "id": "2c4354d1-d00e-433e-8b50-018d7b5f6612",
   "metadata": {},
   "outputs": [
    {
     "data": {
      "text/plain": [
       "{'cla__n_estimators': 100,\n",
       " 'cla__min_samples_split': 20,\n",
       " 'cla__min_samples_leaf': 6,\n",
       " 'cla__max_features': 0.5,\n",
       " 'cla__max_depth': 25,\n",
       " 'cla__criterion': 'entropy'}"
      ]
     },
     "execution_count": 163,
     "metadata": {},
     "output_type": "execute_result"
    }
   ],
   "source": [
    "model.best_params_"
   ]
  },
  {
   "cell_type": "code",
   "execution_count": 164,
   "id": "6ad5bf66-2197-494a-aba0-c1de202c744a",
   "metadata": {
    "tags": []
   },
   "outputs": [],
   "source": [
    "# Predict\n",
    "y_train_pred = model.predict(X_train)\n",
    "y_val_pred = model.predict(X_val)"
   ]
  },
  {
   "cell_type": "markdown",
   "id": "40c9248d-1ecb-4fe5-8ab6-bb7ca5c18035",
   "metadata": {},
   "source": [
    "#### Evaluacion de predicciones"
   ]
  },
  {
   "cell_type": "code",
   "execution_count": 165,
   "id": "9b7707db-a1da-46fd-b93d-1a75c243242d",
   "metadata": {
    "tags": []
   },
   "outputs": [
    {
     "name": "stdout",
     "output_type": "stream",
     "text": [
      "=======================================================================\n",
      "RandomForestClassifier - Reporte de clasificación del conjunto de train\n",
      "=======================================================================\n",
      "              precision    recall  f1-score   support\n",
      "\n",
      "           0       0.89      0.95      0.92      3402\n",
      "           1       0.89      0.78      0.83      1808\n",
      "\n",
      "    accuracy                           0.89      5210\n",
      "   macro avg       0.89      0.86      0.87      5210\n",
      "weighted avg       0.89      0.89      0.89      5210\n",
      "\n"
     ]
    }
   ],
   "source": [
    "# Evaluate train\n",
    "text = \"RandomForestClassifier - Reporte de clasificación del conjunto de train\" \n",
    "print(len(text)*\"=\")\n",
    "print(text)\n",
    "print(len(text)*\"=\")\n",
    "print(classification_report(y_train, y_train_pred))"
   ]
  },
  {
   "cell_type": "code",
   "execution_count": 166,
   "id": "f6510f90-86e7-4fab-91f2-e62ec8a767f3",
   "metadata": {
    "tags": []
   },
   "outputs": [
    {
     "name": "stdout",
     "output_type": "stream",
     "text": [
      "============================================================================\n",
      "RandomForestClassifier - Reporte de clasificación del conjunto de validacion\n",
      "============================================================================\n",
      "              precision    recall  f1-score   support\n",
      "\n",
      "           0       0.77      0.82      0.79      1433\n",
      "           1       0.64      0.56      0.60       800\n",
      "\n",
      "    accuracy                           0.73      2233\n",
      "   macro avg       0.70      0.69      0.70      2233\n",
      "weighted avg       0.72      0.73      0.72      2233\n",
      "\n"
     ]
    }
   ],
   "source": [
    "# Evaluate val\n",
    "text = \"RandomForestClassifier - Reporte de clasificación del conjunto de validacion\" \n",
    "print(len(text)*\"=\")\n",
    "print(text)\n",
    "print(len(text)*\"=\")\n",
    "print(classification_report(y_val, y_valid_pred))"
   ]
  },
  {
   "cell_type": "code",
   "execution_count": 167,
   "id": "5a907d37-53b2-4a62-9b1e-281e59e86734",
   "metadata": {},
   "outputs": [
    {
     "data": {
      "text/plain": [
       "Text(0.5, 1.0, 'Random Forest - Matriz de confusión del conjunto de train sin normalizar\\n')"
      ]
     },
     "execution_count": 167,
     "metadata": {},
     "output_type": "execute_result"
    },
    {
     "data": {
      "text/plain": [
       "<Figure size 432x288 with 0 Axes>"
      ]
     },
     "metadata": {},
     "output_type": "display_data"
    },
    {
     "data": {
      "image/png": "[encoded data removed]",
      "text/plain": [
       "<Figure size 432x288 with 2 Axes>"
      ]
     },
     "metadata": {
      "needs_background": "light"
     },
     "output_type": "display_data"
    }
   ],
   "source": [
    "plt.figure()\n",
    "plot_confusion_matrix(estimator= model, X=X_train, y_true=y_train,\n",
    "                      normalize='true', cmap='Blues').ax_ \\\n",
    "                      .set_title('Random Forest - Matriz de confusión del conjunto de train sin normalizar\\n')"
   ]
  },
  {
   "cell_type": "code",
   "execution_count": 168,
   "id": "0fd6b2d3-2345-49f3-8b4a-de59b41a8e73",
   "metadata": {},
   "outputs": [
    {
     "data": {
      "text/plain": [
       "Text(0.5, 1.0, 'Random Forest - Matriz de confusión del conjunto de validation sin normalizar\\n')"
      ]
     },
     "execution_count": 168,
     "metadata": {},
     "output_type": "execute_result"
    },
    {
     "data": {
      "text/plain": [
       "<Figure size 432x288 with 0 Axes>"
      ]
     },
     "metadata": {},
     "output_type": "display_data"
    },
    {
     "data": {
      "image/png": "[encoded data removed]",
      "text/plain": [
       "<Figure size 432x288 with 2 Axes>"
      ]
     },
     "metadata": {
      "needs_background": "light"
     },
     "output_type": "display_data"
    }
   ],
   "source": [
    "plt.figure()\n",
    "plot_confusion_matrix(estimator= model, X=X_val, y_true=y_val,\n",
    "                      normalize='true', cmap='Blues').ax_ \\\n",
    "                      .set_title('Random Forest - Matriz de confusión del conjunto de validation sin normalizar\\n')"
   ]
  },
  {
   "cell_type": "markdown",
   "id": "9afa31d8-f02f-40f9-9fec-f494bfddc88a",
   "metadata": {},
   "source": [
    "## XGBoost - Default"
   ]
  },
  {
   "cell_type": "code",
   "execution_count": 169,
   "id": "fa2aa235-98de-4c9d-ba74-4c02778611d2",
   "metadata": {},
   "outputs": [],
   "source": [
    "# Preproceso 1 para XGBClassifier - Default\n",
    "scaler = MaxAbsScaler()\n",
    "ft_selector = LinearSVR(random_state=0)\n",
    "model_ = XGBClassifier(random_state= 0)"
   ]
  },
  {
   "cell_type": "code",
   "execution_count": 170,
   "id": "22c72805-ff6b-4d0f-a530-748a080b9ade",
   "metadata": {},
   "outputs": [],
   "source": [
    "# Features and target\n",
    "X = df.drop([ordinal_ft, target_c], axis=1)\n",
    "y = df[target_c]"
   ]
  },
  {
   "cell_type": "code",
   "execution_count": 171,
   "id": "e03b453c-7408-4c54-9919-bb2e7359c04d",
   "metadata": {},
   "outputs": [],
   "source": [
    "# Train and validation\n",
    "X_train, X_val, y_train, y_val = train_test_split(X, y, test_size=0.30, random_state=0, shuffle=False)"
   ]
  },
  {
   "cell_type": "markdown",
   "id": "74667400-afd0-4ab0-ba23-6954c3aa0a38",
   "metadata": {},
   "source": [
    "#### Preproceso y ajuste"
   ]
  },
  {
   "cell_type": "code",
   "execution_count": 172,
   "id": "b3099f40-1e24-4b0a-a27b-aefdfb303bac",
   "metadata": {},
   "outputs": [],
   "source": [
    "# Preprocessing\n",
    "num_transformer = scaler\n",
    "cat_transformer = 'passthrough'\n",
    "\n",
    "num_features = [g for g in X.columns if 'client' not in g]\n",
    "cat_features = [g for g in X.columns if 'client' in g]\n",
    "\n",
    "preprocessor = ColumnTransformer(\n",
    "    transformers=[\n",
    "        ('num', num_transformer, num_features),\n",
    "        ('cat', cat_transformer, cat_features)])"
   ]
  },
  {
   "cell_type": "code",
   "execution_count": 173,
   "id": "8bba2b4c-9c07-44e1-a8a8-9869c0ae2aeb",
   "metadata": {},
   "outputs": [
    {
     "name": "stderr",
     "output_type": "stream",
     "text": [
      "C:\\Anaconda3\\lib\\site-packages\\sklearn\\svm\\_base.py:985: ConvergenceWarning: Liblinear failed to converge, increase the number of iterations.\n",
      "  warnings.warn(\"Liblinear failed to converge, increase \"\n",
      "C:\\Users\\Yasha\\AppData\\Roaming\\Python\\Python38\\site-packages\\xgboost\\sklearn.py:1146: UserWarning: The use of label encoder in XGBClassifier is deprecated and will be removed in a future release. To remove this warning, do the following: 1) Pass option use_label_encoder=False when constructing XGBClassifier object; and 2) Encode your labels (y) as integers starting with 0, i.e. 0, 1, 2, ..., [num_class - 1].\n",
      "  warnings.warn(label_encoder_deprecation_msg, UserWarning)\n"
     ]
    },
    {
     "name": "stdout",
     "output_type": "stream",
     "text": [
      "[23:09:26] WARNING: C:/Users/Administrator/workspace/xgboost-win64_release_1.4.0/src/learner.cc:1095: Starting in XGBoost 1.3.0, the default evaluation metric used with the objective 'binary:logistic' was changed from 'error' to 'logloss'. Explicitly set eval_metric if you'd like to restore the old behavior.\n"
     ]
    }
   ],
   "source": [
    "# Fit\n",
    "model = Pipeline([\n",
    "  ('preprocessor', preprocessor),\n",
    "  ('feature_selection', SelectFromModel(ft_selector)),\n",
    "  ('cla', model_)\n",
    "])\n",
    "\n",
    "model.fit(X_train, y_train)\n",
    "xgbc = model"
   ]
  },
  {
   "cell_type": "code",
   "execution_count": 174,
   "id": "9466da76-5af4-4c81-85f7-d3a8b1f4d2a1",
   "metadata": {},
   "outputs": [],
   "source": [
    "# Predict\n",
    "y_train_pred = model.predict(X_train)\n",
    "y_valid_pred = model.predict(X_val)"
   ]
  },
  {
   "cell_type": "markdown",
   "id": "fe9caa03-dcb1-4d20-92b2-52d3337ec5ae",
   "metadata": {},
   "source": [
    "#### Evaluacion de predicciones"
   ]
  },
  {
   "cell_type": "code",
   "execution_count": 175,
   "id": "2f65c88c-c70f-400c-a41e-290297891a9f",
   "metadata": {
    "tags": []
   },
   "outputs": [
    {
     "name": "stdout",
     "output_type": "stream",
     "text": [
      "=======================================================================\n",
      "RandomForestClassifier - Reporte de clasificación del conjunto de train\n",
      "=======================================================================\n",
      "              precision    recall  f1-score   support\n",
      "\n",
      "           0       0.89      0.95      0.92      3402\n",
      "           1       0.89      0.78      0.83      1808\n",
      "\n",
      "    accuracy                           0.89      5210\n",
      "   macro avg       0.89      0.86      0.87      5210\n",
      "weighted avg       0.89      0.89      0.89      5210\n",
      "\n"
     ]
    }
   ],
   "source": [
    "# Evaluate train\n",
    "text = \"RandomForestClassifier - Reporte de clasificación del conjunto de train\" \n",
    "print(len(text)*\"=\")\n",
    "print(text)\n",
    "print(len(text)*\"=\")\n",
    "print(classification_report(y_train, y_train_pred))"
   ]
  },
  {
   "cell_type": "code",
   "execution_count": 176,
   "id": "2c9c5844-23a2-4f07-be8b-79a4d6ce4cfa",
   "metadata": {
    "tags": []
   },
   "outputs": [
    {
     "name": "stdout",
     "output_type": "stream",
     "text": [
      "============================================================================\n",
      "RandomForestClassifier - Reporte de clasificación del conjunto de validacion\n",
      "============================================================================\n",
      "              precision    recall  f1-score   support\n",
      "\n",
      "           0       0.76      0.80      0.78      1433\n",
      "           1       0.60      0.54      0.57       800\n",
      "\n",
      "    accuracy                           0.71      2233\n",
      "   macro avg       0.68      0.67      0.67      2233\n",
      "weighted avg       0.70      0.71      0.70      2233\n",
      "\n"
     ]
    }
   ],
   "source": [
    "# Evaluate val\n",
    "text = \"RandomForestClassifier - Reporte de clasificación del conjunto de validacion\" \n",
    "print(len(text)*\"=\")\n",
    "print(text)\n",
    "print(len(text)*\"=\")\n",
    "print(classification_report(y_val, y_valid_pred))"
   ]
  },
  {
   "cell_type": "code",
   "execution_count": 177,
   "id": "e1453d92-c194-4e6c-a5f1-412bee7f366e",
   "metadata": {},
   "outputs": [
    {
     "data": {
      "text/plain": [
       "Text(0.5, 1.0, 'Random Forest - Matriz de confusión del conjunto de train sin normalizar\\n')"
      ]
     },
     "execution_count": 177,
     "metadata": {},
     "output_type": "execute_result"
    },
    {
     "data": {
      "text/plain": [
       "<Figure size 432x288 with 0 Axes>"
      ]
     },
     "metadata": {},
     "output_type": "display_data"
    },
    {
     "data": {
      "image/png": "[encoded data removed]",
      "text/plain": [
       "<Figure size 432x288 with 2 Axes>"
      ]
     },
     "metadata": {
      "needs_background": "light"
     },
     "output_type": "display_data"
    }
   ],
   "source": [
    "plt.figure()\n",
    "plot_confusion_matrix(estimator= model, X=X_train, y_true=y_train,\n",
    "                      normalize='true', cmap='Blues').ax_ \\\n",
    "                      .set_title('Random Forest - Matriz de confusión del conjunto de train sin normalizar\\n')"
   ]
  },
  {
   "cell_type": "code",
   "execution_count": 178,
   "id": "50b6b6d4-20e1-47c5-b44a-b491baeaad95",
   "metadata": {},
   "outputs": [
    {
     "data": {
      "text/plain": [
       "Text(0.5, 1.0, 'Random Forest - Matriz de confusión del conjunto de validation sin normalizar\\n')"
      ]
     },
     "execution_count": 178,
     "metadata": {},
     "output_type": "execute_result"
    },
    {
     "data": {
      "text/plain": [
       "<Figure size 432x288 with 0 Axes>"
      ]
     },
     "metadata": {},
     "output_type": "display_data"
    },
    {
     "data": {
      "image/png": "[encoded data removed]",
      "text/plain": [
       "<Figure size 432x288 with 2 Axes>"
      ]
     },
     "metadata": {
      "needs_background": "light"
     },
     "output_type": "display_data"
    }
   ],
   "source": [
    "plt.figure()\n",
    "plot_confusion_matrix(estimator= model, X=X_val, y_true=y_val,\n",
    "                      normalize='true', cmap='Blues').ax_ \\\n",
    "                      .set_title('Random Forest - Matriz de confusión del conjunto de validation sin normalizar\\n')"
   ]
  },
  {
   "cell_type": "markdown",
   "id": "cfdd9c7d-9c65-418a-b24f-52ed2eb81202",
   "metadata": {
    "tags": []
   },
   "source": [
    "## XGBoost - Grid Search"
   ]
  },
  {
   "cell_type": "code",
   "execution_count": 179,
   "id": "b866d7ac-fdc6-4247-a611-63757fdd8081",
   "metadata": {},
   "outputs": [],
   "source": [
    "# Preproceso 1 para SGDRegressor - Default\n",
    "scaler = MaxAbsScaler()\n",
    "#ft_selector = LinearSVR(random_state=0)\n",
    "model_ = XGBClassifier(random_state= 0, use_label_encoder=False)"
   ]
  },
  {
   "cell_type": "code",
   "execution_count": 180,
   "id": "ba3a164b-8f0b-480b-a0e1-f259694c9e1f",
   "metadata": {
    "tags": []
   },
   "outputs": [],
   "source": [
    "param_grid = {\n",
    "    'cla__alpha' : [0.01, 0.42, 0.30],\n",
    "    'cla__max_depth': [8, 16, 32],\n",
    "    'cla__n_estimators': [5, 10, 15],\n",
    "    'cla__booster':['gbtree', 'dart'],\n",
    "    'cla__eval_metric': ['mlogloss']\n",
    "}"
   ]
  },
  {
   "cell_type": "code",
   "execution_count": 181,
   "id": "9f12f87d-3373-457e-a86b-b8927bdefdad",
   "metadata": {},
   "outputs": [],
   "source": [
    "# Features and target\n",
    "X = df.drop([ordinal_ft, target_c], axis=1)\n",
    "y = df[target_c]"
   ]
  },
  {
   "cell_type": "code",
   "execution_count": 182,
   "id": "f785c4c0-b7a4-4e39-974a-77083f6a40ff",
   "metadata": {},
   "outputs": [],
   "source": [
    "# Train and validation\n",
    "X_train, X_val, y_train, y_val = train_test_split(X, y, test_size=0.30, random_state=0, shuffle=False)"
   ]
  },
  {
   "cell_type": "markdown",
   "id": "2250286c-c7d6-4347-b1c9-df29553e3776",
   "metadata": {},
   "source": [
    "#### Preproceso y ajuste"
   ]
  },
  {
   "cell_type": "code",
   "execution_count": 183,
   "id": "1483a354-40e6-4fa2-97a0-457dde6c5a59",
   "metadata": {},
   "outputs": [],
   "source": [
    "# Preprocessing\n",
    "num_transformer = scaler\n",
    "cat_transformer = 'passthrough'\n",
    "\n",
    "num_features = [g for g in X.columns if 'client' not in g]\n",
    "cat_features = [g for g in X.columns if 'client' in g]\n",
    "\n",
    "preprocessor = ColumnTransformer(\n",
    "    transformers=[\n",
    "        ('num', num_transformer, num_features),\n",
    "        ('cat', cat_transformer, cat_features)])"
   ]
  },
  {
   "cell_type": "code",
   "execution_count": 184,
   "id": "9962ff0b-28e8-4770-b839-70f3f86feacd",
   "metadata": {
    "tags": []
   },
   "outputs": [
    {
     "name": "stdout",
     "output_type": "stream",
     "text": [
      "Fitting 5 folds for each of 54 candidates, totalling 270 fits\n"
     ]
    }
   ],
   "source": [
    "# Fit\n",
    "pipe = Pipeline([\n",
    "  ('preprocessor', preprocessor),\n",
    "#  ('feature_selection', SelectFromModel(ft_selector)),\n",
    "  ('cla', model_)\n",
    "])\n",
    "\n",
    "model = GridSearchCV(pipe, param_grid, scoring='f1', cv=5, verbose=1)\n",
    "\n",
    "model.fit(X_train, y_train)\n",
    "xgbc_cv = model"
   ]
  },
  {
   "cell_type": "code",
   "execution_count": 185,
   "id": "31a3adfa-3c2d-4b64-b2af-5a9ac5866257",
   "metadata": {},
   "outputs": [
    {
     "data": {
      "text/plain": [
       "{'cla__alpha': 0.42,\n",
       " 'cla__booster': 'gbtree',\n",
       " 'cla__eval_metric': 'mlogloss',\n",
       " 'cla__max_depth': 8,\n",
       " 'cla__n_estimators': 10}"
      ]
     },
     "execution_count": 185,
     "metadata": {},
     "output_type": "execute_result"
    }
   ],
   "source": [
    "model.best_params_"
   ]
  },
  {
   "cell_type": "code",
   "execution_count": 186,
   "id": "e2651b58-9119-488b-9aa1-0e6d13a1f180",
   "metadata": {
    "tags": []
   },
   "outputs": [],
   "source": [
    "# Predict\n",
    "y_train_pred = model.predict(X_train)\n",
    "y_val_pred = model.predict(X_val)"
   ]
  },
  {
   "cell_type": "markdown",
   "id": "015bb077-aeaf-49ac-bb75-27a837b57221",
   "metadata": {},
   "source": [
    "#### Evaluacion de predicciones"
   ]
  },
  {
   "cell_type": "code",
   "execution_count": 187,
   "id": "126eef1e-b76a-4920-b070-4e638e5d59de",
   "metadata": {
    "tags": []
   },
   "outputs": [
    {
     "name": "stdout",
     "output_type": "stream",
     "text": [
      "=======================================================================\n",
      "RandomForestClassifier - Reporte de clasificación del conjunto de train\n",
      "=======================================================================\n",
      "              precision    recall  f1-score   support\n",
      "\n",
      "           0       0.87      0.90      0.89      3402\n",
      "           1       0.80      0.75      0.77      1808\n",
      "\n",
      "    accuracy                           0.85      5210\n",
      "   macro avg       0.84      0.83      0.83      5210\n",
      "weighted avg       0.85      0.85      0.85      5210\n",
      "\n"
     ]
    }
   ],
   "source": [
    "# Evaluate train\n",
    "text = \"RandomForestClassifier - Reporte de clasificación del conjunto de train\" \n",
    "print(len(text)*\"=\")\n",
    "print(text)\n",
    "print(len(text)*\"=\")\n",
    "print(classification_report(y_train, y_train_pred))"
   ]
  },
  {
   "cell_type": "code",
   "execution_count": 188,
   "id": "b25220e5-3b3b-4b06-a05d-fef3560239d1",
   "metadata": {
    "tags": []
   },
   "outputs": [
    {
     "name": "stdout",
     "output_type": "stream",
     "text": [
      "============================================================================\n",
      "RandomForestClassifier - Reporte de clasificación del conjunto de validacion\n",
      "============================================================================\n",
      "              precision    recall  f1-score   support\n",
      "\n",
      "           0       0.76      0.80      0.78      1433\n",
      "           1       0.60      0.54      0.57       800\n",
      "\n",
      "    accuracy                           0.71      2233\n",
      "   macro avg       0.68      0.67      0.67      2233\n",
      "weighted avg       0.70      0.71      0.70      2233\n",
      "\n"
     ]
    }
   ],
   "source": [
    "# Evaluate val\n",
    "text = \"RandomForestClassifier - Reporte de clasificación del conjunto de validacion\" \n",
    "print(len(text)*\"=\")\n",
    "print(text)\n",
    "print(len(text)*\"=\")\n",
    "print(classification_report(y_val, y_valid_pred))"
   ]
  },
  {
   "cell_type": "code",
   "execution_count": 189,
   "id": "697a5fa5-d603-4910-8564-2d67fc36454f",
   "metadata": {},
   "outputs": [
    {
     "data": {
      "text/plain": [
       "Text(0.5, 1.0, 'Random Forest - Matriz de confusión del conjunto de train sin normalizar\\n')"
      ]
     },
     "execution_count": 189,
     "metadata": {},
     "output_type": "execute_result"
    },
    {
     "data": {
      "text/plain": [
       "<Figure size 432x288 with 0 Axes>"
      ]
     },
     "metadata": {},
     "output_type": "display_data"
    },
    {
     "data": {
      "image/png": "[encoded data removed]",
      "text/plain": [
       "<Figure size 432x288 with 2 Axes>"
      ]
     },
     "metadata": {
      "needs_background": "light"
     },
     "output_type": "display_data"
    }
   ],
   "source": [
    "plt.figure()\n",
    "plot_confusion_matrix(estimator= model, X=X_train, y_true=y_train,\n",
    "                      normalize='true', cmap='Blues').ax_ \\\n",
    "                      .set_title('Random Forest - Matriz de confusión del conjunto de train sin normalizar\\n')"
   ]
  },
  {
   "cell_type": "code",
   "execution_count": 190,
   "id": "51bfdf35-f7ce-43d2-be53-0e80eb7541ad",
   "metadata": {},
   "outputs": [
    {
     "data": {
      "text/plain": [
       "Text(0.5, 1.0, 'Random Forest - Matriz de confusión del conjunto de validation sin normalizar\\n')"
      ]
     },
     "execution_count": 190,
     "metadata": {},
     "output_type": "execute_result"
    },
    {
     "data": {
      "text/plain": [
       "<Figure size 432x288 with 0 Axes>"
      ]
     },
     "metadata": {},
     "output_type": "display_data"
    },
    {
     "data": {
      "image/png": "[encoded data removed]",
      "text/plain": [
       "<Figure size 432x288 with 2 Axes>"
      ]
     },
     "metadata": {
      "needs_background": "light"
     },
     "output_type": "display_data"
    }
   ],
   "source": [
    "plt.figure()\n",
    "plot_confusion_matrix(estimator= model, X=X_val, y_true=y_val,\n",
    "                      normalize='true', cmap='Blues').ax_ \\\n",
    "                      .set_title('Random Forest - Matriz de confusión del conjunto de validation sin normalizar\\n')"
   ]
  },
  {
   "cell_type": "markdown",
   "id": "72e05a26-94c1-4128-a56d-eacad0caf4c4",
   "metadata": {},
   "source": [
    "## 5. Series Temporales (Optativo)\n",
    "* Hacer un forecasting usando Exponential Smoothing\n",
    "\n",
    "En el modelo de Exponential Smoothing, las predicciones son promedios pesados de observaciones pasadas, donde los pesos decaen exponencialmente cuando nos movemos al pasado:\n",
    "$$\n",
    "\\hat{y}_{t + 1} = l_t \\\\\n",
    "l_t = \\alpha y_t + (1 - \\alpha) l_{t - 1}\n",
    "$$\n",
    "\n",
    "Donde:\n",
    "\n",
    "Asumimos que:\n",
    "* $l_0$ está dado\n",
    "* 0 $< \\alpha <$ 1\n",
    "\n",
    "El método se suele usar cuando los datos no tienen patrones de tendencia ni estacional claros.\n"
   ]
  },
  {
   "cell_type": "code",
   "execution_count": null,
   "id": "bc4df3c6-2ea9-4ea8-b59d-e677dc9a2a5b",
   "metadata": {},
   "outputs": [],
   "source": [
    "print(statsmodels.__version__)\n",
    "warnings.filterwarnings('ignore')\n",
    "%matplotlib inline"
   ]
  },
  {
   "cell_type": "code",
   "execution_count": null,
   "id": "8b2f798a-4692-464d-83d0-7c486fd7b7eb",
   "metadata": {},
   "outputs": [],
   "source": [
    "sns.set_style('darkgrid')\n",
    "sns.set(rc={'figure.figsize':(15, 10)})"
   ]
  },
  {
   "cell_type": "markdown",
   "id": "f6fb9759-ba89-4780-8de2-04ac94c5085f",
   "metadata": {},
   "source": [
    "Para cargar el dataset"
   ]
  },
  {
   "cell_type": "code",
   "execution_count": null,
   "id": "02418a91-5fdc-4880-a4b7-76b347baa823",
   "metadata": {},
   "outputs": [],
   "source": [
    "df = pd.read_parquet(\"cupones_ds.parquet\")"
   ]
  },
  {
   "cell_type": "code",
   "execution_count": null,
   "id": "10cd0f3c-2a47-4e8c-a337-9595b2bf840a",
   "metadata": {},
   "outputs": [],
   "source": [
    "df.head(5)"
   ]
  },
  {
   "cell_type": "code",
   "execution_count": null,
   "id": "7be89201-cd07-44aa-b1d6-e9057b38bf5e",
   "metadata": {},
   "outputs": [],
   "source": [
    "cols = ['producto_naranja_movimiento', 'monto_compra_movimiento', 'fecha_cupon_movimiento']"
   ]
  },
  {
   "cell_type": "code",
   "execution_count": null,
   "id": "3718f420-e5e8-42f8-a5b5-937b62569d31",
   "metadata": {},
   "outputs": [],
   "source": [
    "df[cols]"
   ]
  },
  {
   "cell_type": "code",
   "execution_count": null,
   "id": "4f742f78-2634-41c3-877f-5a7ed2b5077c",
   "metadata": {},
   "outputs": [],
   "source": [
    "sf = df[cols][df.producto_naranja_movimiento == 'PL']\n",
    "sf"
   ]
  },
  {
   "cell_type": "code",
   "execution_count": null,
   "id": "aaf9b9e7-39c5-4452-b0e5-d0f3181158da",
   "metadata": {},
   "outputs": [],
   "source": [
    "cols = ['fecha_cupon_movimiento', 'monto_compra_movimiento']\n",
    "sf = sf[cols].groupby(by=['fecha_cupon_movimiento'], dropna=True).sum()"
   ]
  },
  {
   "cell_type": "code",
   "execution_count": null,
   "id": "07f802bc-b7af-4479-bee2-14e3e38d6bf1",
   "metadata": {},
   "outputs": [],
   "source": [
    "sf.reset_index(inplace=True)\n",
    "sf"
   ]
  },
  {
   "cell_type": "code",
   "execution_count": null,
   "id": "e7b9af05-feed-4e0c-8ca6-d7ed89a3d305",
   "metadata": {},
   "outputs": [],
   "source": [
    "print(sf['fecha_cupon_movimiento'].max())\n",
    "print(sf['fecha_cupon_movimiento'].min())"
   ]
  },
  {
   "cell_type": "code",
   "execution_count": null,
   "id": "9b06a893-1120-47df-b632-d57ff0620e30",
   "metadata": {},
   "outputs": [],
   "source": [
    "sf.set_index('fecha_cupon_movimiento', inplace=True)\n",
    "sf"
   ]
  },
  {
   "cell_type": "markdown",
   "id": "1f973a15-a5a4-4930-91c6-ac41da147617",
   "metadata": {},
   "source": [
    "En series temporales se usa Series en lugar de Dataframe"
   ]
  },
  {
   "cell_type": "code",
   "execution_count": null,
   "id": "23398235-77c4-413e-95a0-c004fea0a3df",
   "metadata": {},
   "outputs": [],
   "source": [
    "ss = sf['monto_compra_movimiento']\n",
    "ss"
   ]
  },
  {
   "cell_type": "code",
   "execution_count": null,
   "id": "b7f29fd9-bac2-4c31-9bf3-8d517f01f969",
   "metadata": {},
   "outputs": [],
   "source": [
    "fig = plt.figure(figsize=(18, 6))\n",
    "\n",
    "ax = plt.subplot(1, 1, 1)\n",
    "ss.plot(color='dodgerblue')\n",
    "ax.set_xlabel('Dia')\n",
    "ax.set_ylabel('monto_compra_movimiento')\n",
    "ax.set_title('Comportamiento monto_compra_movimiento para PL')\n",
    "\n",
    "plt.tight_layout()\n",
    "plt.show()"
   ]
  },
  {
   "cell_type": "code",
   "execution_count": null,
   "id": "05d080f8-1cd3-40c4-bc5e-2986398da2db",
   "metadata": {},
   "outputs": [],
   "source": [
    "y_test = sf.monto_compra_movimiento.loc['2021-03-19':]\n",
    "y_train = sf[~sf.monto_compra_movimiento.isin(y_test)].monto_compra_movimiento\n"
   ]
  },
  {
   "cell_type": "code",
   "execution_count": null,
   "id": "c26428d5-4887-4146-adaa-4fbb18ae51d1",
   "metadata": {},
   "outputs": [],
   "source": [
    "print(y_test.index.max())\n",
    "print(y_test.index.min())"
   ]
  },
  {
   "cell_type": "code",
   "execution_count": null,
   "id": "ac0177d2-1822-42b8-b1be-986b64c6e1f9",
   "metadata": {},
   "outputs": [],
   "source": [
    "print(y_train.index.max())\n",
    "print(y_train.index.min())"
   ]
  },
  {
   "cell_type": "markdown",
   "id": "5babac8b-7bc5-4369-8d89-f5810aa00602",
   "metadata": {},
   "source": [
    "## Seasonal Random Walk (Seasonal Naïve)\n",
    "\n",
    "#### Descomposicion\n",
    "\n",
    "Una operación fundamental para entender el comportamiento de una serie de\n",
    " tiempo y poder determinar si se trata de una serie `estacionaria` o no\n",
    "\n",
    "La **descomposición** es una técnica que trata de descomponer una serie de tiempo en su tendencia, su estacionalidad y sus factores residuales\n",
    "\n",
    "Ejemplo de descomposición de serie de tiempo\n",
    "\n",
    "<img \n",
    "src=\"https://i.imgur.com/g0PQASf.png\" />\n"
   ]
  },
  {
   "cell_type": "code",
   "execution_count": null,
   "id": "25de84e1-bd99-408b-9c75-52413afb9f0c",
   "metadata": {},
   "outputs": [],
   "source": [
    "res = sm.tsa.seasonal_decompose(\n",
    "    sf['monto_compra_movimiento'], model='additive', freq=30\n",
    "    )\n",
    "\n",
    "fig, (ax1,ax2,ax3, ax4) = plt.subplots(4,1, figsize=(18, 14))\n",
    "\n",
    "ax1.set_title('Inbound fueatures')\n",
    "sf.monto_compra_movimiento.plot(ax=ax1, color='red')\n",
    "ax1.set_ylabel('Original')\n",
    "\n",
    "res.trend.plot(ax=ax2)\n",
    "ax2.set_ylabel('Fluctuaciones')\n",
    "\n",
    "res.resid.plot(ax=ax3)\n",
    "ax3.set_ylabel('Variaciones Irregulares')\n",
    "\n",
    "res.seasonal.plot(ax=ax4)\n",
    "ax4.set_ylabel('Variaciones Estacionales')\n",
    "plt.tight_layout()\n",
    "plt.show()"
   ]
  },
  {
   "cell_type": "markdown",
   "id": "ea82efd2-1e5e-4733-9193-b24b6b1e174c",
   "metadata": {},
   "source": [
    "## Forecast"
   ]
  },
  {
   "cell_type": "code",
   "execution_count": null,
   "id": "374b02de-4870-42d8-95e4-6fb76d570c0b",
   "metadata": {},
   "outputs": [],
   "source": [
    "model = ARIMA(\n",
    "    endog=y_train, exog=None, order=(0, 0, 1), seasonal_order=(0, 1, 0, 42)\n",
    "    ).fit()\n",
    "    "
   ]
  },
  {
   "cell_type": "code",
   "execution_count": null,
   "id": "1917b542-bf06-4d1f-bb88-c79c3705728a",
   "metadata": {},
   "outputs": [],
   "source": [
    "fig = plt.figure(figsize=(18, 12), dpi=100)\n",
    "\n",
    "ax = plt.subplot(2, 1, 1)\n",
    "y_train.tail(200).plot(ax=ax, label='Train Values', linestyle='-')\n",
    "model.fittedvalues.tail(200).plot(\n",
    "    ax=ax, label='fitted Values', marker='o', linestyle='--')\n",
    "ax.set_title('monto_compra_movimiento')\n",
    "ax.legend()\n",
    "\n",
    "plt.tight_layout()\n",
    "plt.show()"
   ]
  },
  {
   "cell_type": "code",
   "execution_count": null,
   "id": "139c726d-ac03-41a1-ad5f-cd2266622c5f",
   "metadata": {},
   "outputs": [],
   "source": [
    "# Forecast\n",
    "# 95% conf se, conf\n",
    "fc = model.forecast(steps=len(y_test), exog=y_test, alpha=0.05) \n",
    "#Make as pandas series\n",
    "fc_in = fc.reset_index(drop=True)\n",
    "fc_in.index = y_test.index"
   ]
  },
  {
   "cell_type": "code",
   "execution_count": null,
   "id": "0e917604-0d12-4fcf-924a-bb3be5a1b8fb",
   "metadata": {},
   "outputs": [],
   "source": [
    "fig = plt.figure(figsize=(18, 12))\n",
    "\n",
    "ax = plt.subplot(2, 1, 1)\n",
    "y_test.plot(ax=ax, label='actual Test')\n",
    "fc_in.plot(ax=ax, label='forecast', marker='o', linestyle='--')\n",
    "ax.set_title('Forecast vs Actuals for Inbound Features')\n",
    "ax.legend(loc='upper left', fontsize=8)\n",
    "\n",
    "plt.tight_layout()\n",
    "plt.show()"
   ]
  },
  {
   "cell_type": "code",
   "execution_count": null,
   "id": "61fd5ba2-4a4d-40d1-9724-874f80984bc4",
   "metadata": {},
   "outputs": [],
   "source": [
    "table = pd.DataFrame(\n",
    "    [(sm.tools.eval_measures.rmse(y_test, fc_in), \n",
    "      (y_test - fc_in).sem())],\n",
    "      columns=['RMSE','SE']\n",
    "      )\n",
    "table.round(3)"
   ]
  },
  {
   "cell_type": "markdown",
   "id": "eb6bec73-8765-4a88-a290-648f5ed80047",
   "metadata": {},
   "source": []
  }
 ],
 "metadata": {
  "kernelspec": {
   "display_name": "Python 3",
   "language": "python",
   "name": "python3"
  },
  "language_info": {
   "codemirror_mode": {
    "name": "ipython",
    "version": 3
   },
   "file_extension": ".py",
   "mimetype": "text/x-python",
   "name": "python",
   "nbconvert_exporter": "python",
   "pygments_lexer": "ipython3",
   "version": "3.6.13"
  }
 },
 "nbformat": 4,
 "nbformat_minor": 5
}
