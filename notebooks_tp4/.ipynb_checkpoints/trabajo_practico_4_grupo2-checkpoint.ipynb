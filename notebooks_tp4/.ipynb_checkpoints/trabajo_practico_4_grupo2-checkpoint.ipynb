{
 "cells": [
  {
   "cell_type": "markdown",
   "id": "23fb6811-f919-4985-acd4-32ef787b0129",
   "metadata": {},
   "source": [
    "# Diplomatura en Ciencia de Datos, Aprendizaje Automático y sus Aplicaciones\n",
    "\n",
    "<center>\n",
    "<img \n",
    "     src=\"http://www2.famaf.unc.edu.ar/~efernandez/egeo/img/logos/famaf.jpg\" \n",
    "     alt=\"Drawing\" \n",
    "     style=\"width:30%;\"\n",
    "/>\n",
    "</center>\n",
    "\n",
    "# Universidad Nacional de Córdoba\n",
    "---"
   ]
  },
  {
   "cell_type": "markdown",
   "id": "3c8c69a1-85b1-4047-a6b9-3254e07714bc",
   "metadata": {},
   "source": [
    "### Importación de librerías"
   ]
  },
  {
   "cell_type": "code",
   "execution_count": null,
   "id": "723ef3b3-5891-4e7b-894e-023b46ac0b69",
   "metadata": {},
   "outputs": [],
   "source": [
    "import warnings\n",
    "import datetime\n",
    "warnings.filterwarnings('ignore')\n",
    "\n",
    "import numpy as np\n",
    "import pandas as pd\n",
    "import seaborn as sns\n",
    "import statsmodels.api as sm\n",
    "import matplotlib.pyplot as plt\n",
    "import math\n",
    "\n",
    "from sklearn.model_selection import train_test_split\n",
    "from sklearn.model_selection import GridSearchCV\n",
    "from sklearn.model_selection import RandomizedSearchCV\n",
    "from sklearn.feature_selection import SelectFromModel\n",
    "from sklearn.preprocessing import MaxAbsScaler\n",
    "from sklearn.preprocessing import MinMaxScaler\n",
    "from sklearn.preprocessing import StandardScaler\n",
    "from sklearn.preprocessing import OneHotEncoder\n",
    "from sklearn.compose import ColumnTransformer\n",
    "from sklearn.pipeline import make_pipeline\n",
    "from sklearn.pipeline import Pipeline\n",
    "from sklearn.metrics import mean_squared_error\n",
    "from sklearn.metrics import mean_absolute_error\n",
    "from sklearn.neighbors import KNeighborsRegressor\n",
    "from sklearn.ensemble import VotingRegressor\n",
    "from xgboost import XGBClassifier\n",
    "\n",
    "from scipy import stats\n",
    "from statsmodels.tsa.arima.model import ARIMA\n",
    "from statsmodels.tsa.holtwinters import SimpleExpSmoothing\n",
    "from sklearn.linear_model import SGDRegressor\n",
    "from sklearn.ensemble import RandomForestClassifier\n",
    "from sklearn.metrics import classification_report, confusion_matrix, plot_confusion_matrix\n",
    "\n",
    "from xgboost import XGBRegressor\n",
    "from sklearn.ensemble import ExtraTreesClassifier\n",
    "from sklearn.svm import LinearSVR\n",
    "from sklearn.ensemble import RandomForestRegressor\n",
    "from sklearn.gaussian_process import GaussianProcessRegressor\n",
    "from sklearn.gaussian_process.kernels import ConstantKernel, RBF, RationalQuadratic, ExpSineSquared\n",
    "from sklearn.impute import SimpleImputer\n",
    "\n",
    "from pandas.plotting import lag_plot\n",
    "\n",
    "import pyarrow\n",
    "import fastparquet\n",
    "\n",
    "import statsmodels"
   ]
  },
  {
   "cell_type": "markdown",
   "id": "702285b3-5dbb-4f9a-9e9f-156566bfcd2a",
   "metadata": {},
   "source": [
    "### Lectura del dataset "
   ]
  },
  {
   "cell_type": "code",
   "execution_count": null,
   "id": "00bb6b04-3e09-4fad-b11d-7a0f0592435b",
   "metadata": {},
   "outputs": [],
   "source": [
    "df = pd.read_parquet('df_supervisado_agrupado.parquet')\n",
    "df"
   ]
  },
  {
   "cell_type": "markdown",
   "id": "d27882da-bdb0-427f-8bd9-dff6bb1a99b2",
   "metadata": {},
   "source": [
    "Ordenamos nuestro conjunto de datos en función a la variable anio_mes_cupon."
   ]
  },
  {
   "cell_type": "code",
   "execution_count": null,
   "id": "2d534e6c-cdfe-408c-9f85-45688b2ddfc5",
   "metadata": {},
   "outputs": [],
   "source": [
    "df = df.sort_values(by = ['anio_mes_cupon'], ascending = True)"
   ]
  },
  {
   "cell_type": "code",
   "execution_count": null,
   "id": "d38a02c0-c974-49d1-83c4-c239df55b6b6",
   "metadata": {},
   "outputs": [],
   "source": [
    "df['monto_ajustado'].describe().round(2)"
   ]
  },
  {
   "cell_type": "markdown",
   "id": "a1f5287f-2173-4b21-8e36-372f01a6cf8d",
   "metadata": {},
   "source": [
    "Distribución de nuestro target respecto a nuestros features"
   ]
  },
  {
   "cell_type": "markdown",
   "id": "e14a3e4e-8744-48c4-8111-ec991a22b267",
   "metadata": {},
   "source": [
    "### Distribución de features numericas con respecto al target, monto_ajustado"
   ]
  },
  {
   "cell_type": "code",
   "execution_count": null,
   "id": "850c53ca-6077-4052-acc2-972f64c2be39",
   "metadata": {
    "tags": []
   },
   "outputs": [],
   "source": [
    "# Visualizamos solo las numericas y las transaccionales sumarizadas\n",
    "cols = [x for x in df.columns.values if 'client__x' not in x]\n",
    "cols.remove('dni_titular_movimiento')\n",
    "cols.remove('anio_mes_cupon')\n",
    "cols.remove('monto_ajustado')\n",
    "\n",
    "# plot\n",
    "n_cols = 4\n",
    "n_rows = math.ceil(len(cols)/n_cols)\n",
    "fig, axs = plt.subplots(n_rows, n_cols, figsize=(20, 35))\n",
    "count = 0\n",
    "for i in cols:    \n",
    "    row = math.floor(count / n_cols)\n",
    "    col = count % n_cols\n",
    "    ax = axs[row, col]\n",
    "    sns.scatterplot(data=df, x=i, y='monto_ajustado', ax=ax)\n",
    "    count =count +1\n",
    "\n",
    "plt.show()"
   ]
  },
  {
   "cell_type": "markdown",
   "id": "77957b6c-4055-453b-b038-bbc17d30757f",
   "metadata": {},
   "source": [
    "Analisis de distribucion de monto_ajustado con respecto a los features numericos\n",
    "\n",
    "- **fecha_cupon_movimiento**: No hay una relacion visible. Los puntos estan distribuidos mayoritariamente en el rango entre 0 y 20000 para casi todos los meses presentes con excepcion del primer mes donde la cantidad de casos baja con respecto al resto de los meses.\n",
    "- **edad_cliente**: Similar a fecha, la mayor parte de los montos se concentra entre 0 y 20000. Algo a destacar es que a medida que la edad supera los 60 años, la cantidad de transacciones baja. El grueso de transacciones estan concentradas en edades menores a 70\n",
    "- **antiguedad_cliente**: A partir de la antiguedad 200, se puede observar que la cantidad de transacciones baja, lo cual podria explicarse en base a que hay menos clientes con antiguedad tan alta. Sin embargo, se puede llegar a ver una aplanacion mas paulatina de los casos que en el caso de la edad. Despues de cierta antiguedad la cantidad de transacciones baja pero se mantiene en una meseta, en cambio en el caso de la edad la baja es mas abrupta.\n",
    "\n",
    "El scatterplot de features categoricos nos brinda unicamente informacion sobre la concentracion de casos en cada categoria, pero no podriamos con eso solo proyectar el comportamiento de las regresiones para la prediccion de los montos. "
   ]
  },
  {
   "cell_type": "markdown",
   "id": "99868af3-75bb-40e3-91dd-3ec0e4a25bbd",
   "metadata": {},
   "source": [
    "### Balanceo de DataFrame"
   ]
  },
  {
   "cell_type": "markdown",
   "id": "fa57dcb8-0579-4f01-a396-7e2e086d2f79",
   "metadata": {},
   "source": [
    "La cantidad de filas debería ser igual para cada mes. Cada cliente dentro del dataset debería tener al menos una transacción dentro de cada mes, y si no la tiene entonces debería tener una con todos 0 en las variables de transaccion. Con esto tendriamos un dataset balanceado. "
   ]
  },
  {
   "cell_type": "code",
   "execution_count": null,
   "id": "095e9550-0030-4c38-8890-923caebc8c01",
   "metadata": {},
   "outputs": [],
   "source": [
    "df['dni_titular_movimiento'].nunique() * df['anio_mes_cupon'].nunique() # dnis x cantidad de meses"
   ]
  },
  {
   "cell_type": "markdown",
   "id": "d85fe40e-6a65-45c4-bd7d-045a0d2759bd",
   "metadata": {},
   "source": [
    "Corroboramos aquellos titulares que no tienen movimientos en todos los meses"
   ]
  },
  {
   "cell_type": "code",
   "execution_count": null,
   "id": "6e857216-3917-417f-ada5-8e92722b9d84",
   "metadata": {},
   "outputs": [],
   "source": [
    "df[['dni_titular_movimiento','anio_mes_cupon']].drop_duplicates().groupby(['dni_titular_movimiento']).size().reset_index(name='counts').sort_values(by='counts')"
   ]
  },
  {
   "cell_type": "code",
   "execution_count": null,
   "id": "9e115cc3-99c5-4778-9475-371f9a3bd32c",
   "metadata": {},
   "outputs": [],
   "source": [
    "array_mes = df.anio_mes_cupon.sort_values().unique()\n",
    "array_dni = df.dni_titular_movimiento.unique()\n",
    "\n",
    "dic = {'dni': [], 'mes': []}\n",
    "for dni in array_dni:\n",
    "    for mes in array_mes:\n",
    "        dic['dni'].append(dni)\n",
    "        dic['mes'].append(mes)\n",
    "\n",
    "df_mes_imp = pd.merge(pd.DataFrame(dic), \n",
    "                      df, \n",
    "                      left_on=['dni','mes'], \n",
    "                      right_on=['dni_titular_movimiento','anio_mes_cupon'], \n",
    "                      how='left') \\\n",
    "                .drop(columns=['dni_titular_movimiento','anio_mes_cupon'])\n",
    "df_mes_imp = df_mes_imp.rename(columns={'dni': 'dni_titular_movimiento','mes': 'anio_mes_cupon'})\n",
    "df_mes_imp"
   ]
  },
  {
   "cell_type": "code",
   "execution_count": null,
   "id": "dc093888-9a39-4529-80ce-2c3cee17c1ef",
   "metadata": {},
   "outputs": [],
   "source": [
    "# Imputamos 0 en las columnas de la transacción que tienen nan\n",
    "cols = df_mes_imp.columns.values\n",
    "cols_zero = [x for x in cols if 'trans' in x]\n",
    "cols_zero.append('monto_ajustado')\n",
    "df_mes_imp[cols_zero] = df_mes_imp[cols_zero].fillna(0)\n",
    "\n",
    "# Imputamos lo valores propios del cliente\n",
    "imputer = SimpleImputer(missing_values=np.NaN, strategy='most_frequent')\n",
    "cols_client = [x for x in cols if ('client_' in x) & ('antig' not in x) & ('edad' not in x)]\n",
    "df_mes_imp[cols_client] = imputer.fit_transform(df_mes_imp[cols_client].values)\n",
    "\n",
    "#Ordenamos por dni y mes\n",
    "df_mes_imp = df_mes_imp.sort_values(by=['dni_titular_movimiento','anio_mes_cupon']).reset_index().drop(columns=['index'])\n",
    "\n",
    "# Imputamos antigüedad\n",
    "for dni in array_dni:\n",
    "    min_mes = df_mes_imp[(df_mes_imp['dni_titular_movimiento'] == dni) & (~df_mes_imp.client__antig.isna())]['anio_mes_cupon'].min()\n",
    "    min_ant = df_mes_imp[(df_mes_imp['dni_titular_movimiento'] == dni) & (~df_mes_imp.client__antig.isna())]['client__antig'].min()\n",
    "    for mes in array_mes:\n",
    "        num_res = array_mes.tolist().index(mes) - array_mes.tolist().index(min_mes)\n",
    "        antig_cli = min_ant + num_res\n",
    "        if antig_cli < 0:\n",
    "            df_mes_imp.loc[((df_mes_imp['dni_titular_movimiento'] == dni) & (df_mes_imp['anio_mes_cupon'] == mes)), 'client__antig'] = 0\n",
    "        else:\n",
    "            df_mes_imp.loc[((df_mes_imp['dni_titular_movimiento'] == dni) & (df_mes_imp['anio_mes_cupon'] == mes)), 'client__antig'] = antig_cli"
   ]
  },
  {
   "cell_type": "code",
   "execution_count": null,
   "id": "64fec657-2788-44ac-9fdc-444da78636a9",
   "metadata": {},
   "outputs": [],
   "source": [
    "# Imputación Edad\n",
    "df_mes_imp_eb = df_mes_imp[['dni_titular_movimiento', 'anio_mes_cupon', 'client__edad']].copy()\n",
    "for dni in array_dni:\n",
    "    edad = df_mes_imp_eb[df_mes_imp['dni_titular_movimiento'] == dni]['client__edad'].fillna(method='backfill')\n",
    "    df_mes_imp_eb.loc[((df_mes_imp['dni_titular_movimiento'] == dni) & (df_mes_imp['client__edad'].isna())), 'client__edad'] = edad\n",
    "df_mes_imp_eb = df_mes_imp_eb.rename(columns={'client__edad': 'edad_b'})\n",
    "\n",
    "df_mes_imp_ef = df_mes_imp[['dni_titular_movimiento', 'anio_mes_cupon', 'client__edad']].copy()\n",
    "for dni in array_dni:\n",
    "    edad = df_mes_imp_ef[df_mes_imp['dni_titular_movimiento'] == dni]['client__edad'].fillna(method='ffill')\n",
    "    df_mes_imp_ef.loc[((df_mes_imp['dni_titular_movimiento'] == dni) & (df_mes_imp['client__edad'].isna())), 'client__edad'] = edad\n",
    "df_mes_imp_ef = df_mes_imp_ef.rename(columns={'client__edad': 'edad_f'})\n",
    "\n",
    "df_mes_imp = df_mes_imp.merge(df_mes_imp_eb,\n",
    "                             left_on=['dni_titular_movimiento', 'anio_mes_cupon'],\n",
    "                             right_on=['dni_titular_movimiento', 'anio_mes_cupon']\n",
    "                            )\n",
    "df_mes_imp = df_mes_imp.merge(df_mes_imp_ef,\n",
    "                             left_on=['dni_titular_movimiento', 'anio_mes_cupon'],\n",
    "                             right_on=['dni_titular_movimiento', 'anio_mes_cupon']\n",
    "                            )\n",
    "df_mes_imp.loc[df_mes_imp['client__edad'].isna(), 'client__edad'] = df_mes_imp['edad_b']\n",
    "df_mes_imp.loc[df_mes_imp['client__edad'].isna(), 'client__edad'] = df_mes_imp['edad_f']\n",
    "\n",
    "df_mes_imp.drop(columns=['edad_b','edad_f'], inplace=True)"
   ]
  },
  {
   "cell_type": "code",
   "execution_count": null,
   "id": "8ef088f2-ab02-4124-8591-10854b1e2328",
   "metadata": {},
   "outputs": [],
   "source": [
    "df_mes = df_mes_imp.copy()"
   ]
  },
  {
   "cell_type": "code",
   "execution_count": null,
   "id": "8c62a159-308e-4bec-91ef-a3572ea7f1ba",
   "metadata": {},
   "outputs": [],
   "source": [
    "ordinal_ft = 'dni_titular_movimiento'\n",
    "target = 'monto_ajustado'"
   ]
  },
  {
   "cell_type": "markdown",
   "id": "6797bef0-37c8-44dd-acf1-1d9271803ccb",
   "metadata": {},
   "source": [
    "# Modelos de Regresión - Predicción de consumo"
   ]
  },
  {
   "cell_type": "markdown",
   "id": "d3efd855-b9c5-4ded-b3ff-ccacd2965c70",
   "metadata": {},
   "source": [
    "## Linear SVR - Default"
   ]
  },
  {
   "cell_type": "markdown",
   "id": "14f75a2b-bcdc-423c-ba65-da13c3242691",
   "metadata": {},
   "source": [
    "LinerSVR es un modelo lineal. Teniendo en cuenta las visualizaciones al principio del practico donde observamos que las features numericas no se relacionan de forma lineal con el objetivo, no podriamos esperar mucho de este modelo o cualquier modelo lineal dado el caso.\n",
    "\n",
    "Elegimos MinMaxScaler para escalar las features numericas porque conserva el signo, y tenemos transacciones en negativo para la variable objetivo.\n",
    "\n",
    "Usamos _SelectFromModel()_ para reducir el numero de features del dataset, y de esa manera intentar mejorar las predicciones con un costo de computo menor al que si usaramos todas las features. Para seleccionar las columnas usamos _RandomForestRegressor_"
   ]
  },
  {
   "cell_type": "code",
   "execution_count": null,
   "id": "007baf06-685f-40e9-8477-15777dd0cb68",
   "metadata": {},
   "outputs": [],
   "source": [
    "# Preproceso 1 para SGDRegressor - Default, RMSE 3395.724\n",
    "df = df_mes.copy()\n",
    "scaler = MinMaxScaler()\n",
    "ft_selector = RandomForestRegressor(random_state=0)\n",
    "model_ = LinearSVR(random_state=0)"
   ]
  },
  {
   "cell_type": "code",
   "execution_count": null,
   "id": "d527f12c-27c7-4c01-9260-101a8f165793",
   "metadata": {},
   "outputs": [],
   "source": [
    "# Features and target\n",
    "X = df.drop([ordinal_ft, target], axis=1)\n",
    "y = df[target]"
   ]
  },
  {
   "cell_type": "code",
   "execution_count": null,
   "id": "e81bbf73-af59-4c82-8fee-2f3eb1b422a1",
   "metadata": {},
   "outputs": [],
   "source": [
    "# Train and validation\n",
    "X_train, X_val, y_train, y_val = train_test_split(X, y, test_size=0.35, random_state=0, shuffle=False)"
   ]
  },
  {
   "cell_type": "markdown",
   "id": "af6e0da2-d58a-439b-84c2-fdded874943f",
   "metadata": {},
   "source": [
    "Elegimos una relacion entre train y test de un 35% para test. Esto lo hicimos en base a que en pruebas anteriores tuvimos casos donde el MSE para el conjunto de validacion era menor que en de train. Investigando sobre esto, dimos con que este problema se denomina under-fitting. Al tratarse de un modelo lineal tratando de predecir datos no lineales, este problema es esperable. Modificamos la cantidad de datos en train y test para prevenir la sobre simplificacion del modelo sobre los datos  e intentar reducir este problema. "
   ]
  },
  {
   "cell_type": "markdown",
   "id": "66f516bc-97a6-449f-b6fc-bd1c796d5d32",
   "metadata": {},
   "source": [
    "#### Preproceso y ajuste"
   ]
  },
  {
   "cell_type": "code",
   "execution_count": null,
   "id": "39a0a267-0412-405e-9d22-39f3cd355902",
   "metadata": {},
   "outputs": [],
   "source": [
    "# Preprocessing\n",
    "num_transformer = scaler\n",
    "cat_transformer = 'passthrough'\n",
    "\n",
    "num_features = [g for g in X.columns if 'client__' not in g]\n",
    "cat_features = [g for g in X.columns if 'client__' in g]\n",
    "\n",
    "preprocessor = ColumnTransformer(\n",
    "    transformers=[\n",
    "        ('num', num_transformer, num_features),\n",
    "        ('cat', cat_transformer, cat_features)])"
   ]
  },
  {
   "cell_type": "code",
   "execution_count": null,
   "id": "8dc38eda-aed6-4308-bc2e-1f4029b26863",
   "metadata": {},
   "outputs": [],
   "source": [
    "# Fit\n",
    "model = Pipeline([\n",
    "  ('preprocessor', preprocessor),\n",
    "  ('feature_selection', SelectFromModel(ft_selector)),\n",
    "  ('regressor', model_)\n",
    "])\n",
    "\n",
    "model.fit(X_train, y_train)\n",
    "svr = model"
   ]
  },
  {
   "cell_type": "code",
   "execution_count": null,
   "id": "07abd386-68b4-4bfb-82b0-db6d6b438003",
   "metadata": {},
   "outputs": [],
   "source": [
    "# Predict\n",
    "y_train_pred = model.predict(X_train)\n",
    "y_valid_pred = model.predict(X_val)"
   ]
  },
  {
   "cell_type": "markdown",
   "id": "631bfa6a-2d0a-4cb6-9d91-c5716f15489d",
   "metadata": {},
   "source": [
    "#### Evaluacion de predicciones"
   ]
  },
  {
   "cell_type": "code",
   "execution_count": null,
   "id": "80350f59-fbdb-44d3-9ff7-f0ac8d7b42c8",
   "metadata": {
    "tags": []
   },
   "outputs": [],
   "source": [
    "# evaluate MSE:\n",
    "train_error = mean_squared_error(y_train, y_train_pred)\n",
    "val_error = mean_squared_error(y_val, y_valid_pred)\n",
    "print(f'Train error {train_error.round(3)}, Valid error {val_error.round(3)}')  "
   ]
  },
  {
   "cell_type": "code",
   "execution_count": null,
   "id": "4f09771b-4b03-443f-99b2-af34db8d7ecb",
   "metadata": {
    "tags": []
   },
   "outputs": [],
   "source": [
    "# evaluate RMSE:\n",
    "train_error = np.sqrt(mean_squared_error(y_train, y_train_pred))\n",
    "val_error = np.sqrt(mean_squared_error(y_val, y_valid_pred))\n",
    "print(f'Train error RMSE {train_error.round(3)}, Valid error RMSE {val_error.round(3)}')  "
   ]
  },
  {
   "cell_type": "code",
   "execution_count": null,
   "id": "1e8e198a-c58f-41ee-9a82-cf8ff54318d1",
   "metadata": {
    "tags": []
   },
   "outputs": [],
   "source": [
    "# evaluate MAE:\n",
    "train_error = mean_absolute_error(y_train, y_train_pred)\n",
    "val_error = mean_absolute_error(y_val, y_valid_pred)\n",
    "print(f'Train error MAE {train_error.round(3)}, Valid error MAE {val_error.round(3)}')  "
   ]
  },
  {
   "cell_type": "markdown",
   "id": "4f59124c-f6f7-4049-8ade-cb14d703f45e",
   "metadata": {
    "tags": []
   },
   "source": [
    "Visualizamos nuestra variable target (real y predicción)"
   ]
  },
  {
   "cell_type": "code",
   "execution_count": null,
   "id": "5c988edc-4bb3-4c25-b275-2621d2d9be4a",
   "metadata": {},
   "outputs": [],
   "source": [
    "pd.DataFrame(y_val.values.astype(int), columns=['val_real']).describe().round(2)"
   ]
  },
  {
   "cell_type": "code",
   "execution_count": null,
   "id": "6e3a69c0-1d07-4ae8-980e-d293ff3b933e",
   "metadata": {},
   "outputs": [],
   "source": [
    "pd.DataFrame(y_valid_pred, columns=['val_pred']).describe().round(2)"
   ]
  },
  {
   "cell_type": "markdown",
   "id": "7f99ea6c-2821-4593-aae4-c411ca2ccc90",
   "metadata": {},
   "source": [
    "## Linear SVR - Grid Search"
   ]
  },
  {
   "cell_type": "code",
   "execution_count": null,
   "id": "5b4a0e1e-254e-45ad-832f-284ca4163960",
   "metadata": {
    "tags": []
   },
   "outputs": [],
   "source": [
    "param_grid = {\n",
    "    'regressor__epsilon': [0.1, 0.01, 0.0001,0.001],\n",
    "    'regressor__tol': [1e-3, 1e-4, 1e-5, 1e-6],\n",
    "    'regressor__C': [1, 2, 0.01, 0.001],\n",
    "    'regressor__loss': ['epsilon_insensitive', 'squared_epsilon_insensitive']\n",
    "}"
   ]
  },
  {
   "cell_type": "code",
   "execution_count": null,
   "id": "4dc651da-281a-41c9-a72f-2ba94c0db6fd",
   "metadata": {},
   "outputs": [],
   "source": [
    "# Preproceso 1 para SGDRegressor - GridSearch\n",
    "df = df_mes.copy()\n",
    "scaler = MinMaxScaler()\n",
    "#ft_selector = LinearSVR(random_state=0)\n",
    "model_ = LinearSVR(random_state=0)"
   ]
  },
  {
   "cell_type": "code",
   "execution_count": null,
   "id": "fff12bb1-0ff0-40c7-8293-0883129f22e1",
   "metadata": {},
   "outputs": [],
   "source": [
    "# Features and target\n",
    "X = df.drop([ordinal_ft, target], axis=1)\n",
    "y = df[target]"
   ]
  },
  {
   "cell_type": "code",
   "execution_count": null,
   "id": "4bafe4a4-8821-49cf-976e-908be22c91f0",
   "metadata": {},
   "outputs": [],
   "source": [
    "# Train and validation\n",
    "X_train, X_val, y_train, y_val = train_test_split(X, y, test_size=0.3, random_state=0, shuffle=False)"
   ]
  },
  {
   "cell_type": "markdown",
   "id": "83523c43-161f-47e6-a86f-56a665c521d7",
   "metadata": {},
   "source": [
    "#### Preproceso y ajuste"
   ]
  },
  {
   "cell_type": "code",
   "execution_count": null,
   "id": "775e7356-f989-4600-b846-d8ad2b13d146",
   "metadata": {
    "tags": []
   },
   "outputs": [],
   "source": [
    "# Fit\n",
    "pipe = Pipeline([\n",
    "  ('preprocessor', preprocessor),\n",
    "#  ('feature_selection', SelectFromModel(ft_selector)),\n",
    "  ('regressor', model_)\n",
    "])\n",
    "\n",
    "model = RandomizedSearchCV(pipe, param_grid, scoring='neg_mean_squared_error',cv=5, n_iter=40)\n",
    "\n",
    "model.fit(X_train, y_train)\n",
    "svr_cv = model"
   ]
  },
  {
   "cell_type": "code",
   "execution_count": null,
   "id": "bafb831e-115f-4d56-a6ac-3272c10c4d19",
   "metadata": {
    "tags": []
   },
   "outputs": [],
   "source": [
    "model.best_params_"
   ]
  },
  {
   "cell_type": "code",
   "execution_count": null,
   "id": "2d939c08-6e68-4f49-961c-3c462ef1cd9a",
   "metadata": {},
   "outputs": [],
   "source": [
    "# Predict\n",
    "y_train_pred = model.predict(X_train)\n",
    "y_valid_pred = model.predict(X_val)"
   ]
  },
  {
   "cell_type": "markdown",
   "id": "459aeb91-e975-47cd-9586-72953b77d786",
   "metadata": {},
   "source": [
    "#### Evaluacion de predicciones"
   ]
  },
  {
   "cell_type": "code",
   "execution_count": null,
   "id": "d1a316cf-b2ac-47ce-a0ac-eba8f4d54de4",
   "metadata": {
    "tags": []
   },
   "outputs": [],
   "source": [
    "# evaluate MSE:\n",
    "train_error = mean_squared_error(y_train, y_train_pred)\n",
    "val_error = mean_squared_error(y_val, y_valid_pred)\n",
    "print(f'Train error {train_error.round(3)}, Valid error {val_error.round(3)}')  "
   ]
  },
  {
   "cell_type": "code",
   "execution_count": null,
   "id": "e4990ae6-1fd7-4fc5-bbb4-c6ec47476cdf",
   "metadata": {
    "tags": []
   },
   "outputs": [],
   "source": [
    "# evaluate RMSE:\n",
    "train_error = np.sqrt(mean_squared_error(y_train, y_train_pred))\n",
    "val_error = np.sqrt(mean_squared_error(y_val, y_valid_pred))\n",
    "print(f'Train error RMSE {train_error.round(3)}, Valid error RMSE {val_error.round(3)}')  "
   ]
  },
  {
   "cell_type": "code",
   "execution_count": null,
   "id": "b4d80d99-7aa4-46d2-95f6-4e1ac2d894ae",
   "metadata": {
    "tags": []
   },
   "outputs": [],
   "source": [
    "# evaluate MAE:\n",
    "train_error = mean_absolute_error(y_train, y_train_pred)\n",
    "val_error = mean_absolute_error(y_val, y_valid_pred)\n",
    "print(f'Train error MAE {train_error.round(3)}, Valid error MAE {val_error.round(3)}')  "
   ]
  },
  {
   "cell_type": "markdown",
   "id": "a70a28ac-3109-4e80-b1e9-a44216e527ce",
   "metadata": {
    "tags": []
   },
   "source": [
    "Visualizamos nuestra variable target (real y predicción)"
   ]
  },
  {
   "cell_type": "code",
   "execution_count": null,
   "id": "1f44b194-19d3-4d3e-8b77-3d4e17ff5d6e",
   "metadata": {},
   "outputs": [],
   "source": [
    "pd.DataFrame(y_val.values.astype(int), columns=['val_real']).describe().round(2)"
   ]
  },
  {
   "cell_type": "code",
   "execution_count": null,
   "id": "71a03a48-c6ae-481a-b12e-00ba64756537",
   "metadata": {},
   "outputs": [],
   "source": [
    "pd.DataFrame(y_valid_pred, columns=['val_pred']).describe().round(2)"
   ]
  },
  {
   "cell_type": "markdown",
   "id": "58e6e522-ef49-4ba9-9cbb-8c83e762efb3",
   "metadata": {},
   "source": [
    "## SGDRegressor - Default"
   ]
  },
  {
   "cell_type": "code",
   "execution_count": null,
   "id": "b0369c52-609e-4583-8649-19330510c68a",
   "metadata": {},
   "outputs": [],
   "source": [
    "# Preproceso 1 para SGDRegressor - Default, RMSE 3395.724\n",
    "df = df_mes.copy()\n",
    "scaler = MinMaxScaler()\n",
    "ft_selector = LinearSVR(random_state=0)\n",
    "model_ = SGDRegressor(random_state=0, shuffle=False)"
   ]
  },
  {
   "cell_type": "code",
   "execution_count": null,
   "id": "1ab50ab1-9349-40a3-84d0-7b64ff2cd614",
   "metadata": {},
   "outputs": [],
   "source": [
    "# Features and target\n",
    "X = df.drop([ordinal_ft, target], axis=1)\n",
    "y = df[target]"
   ]
  },
  {
   "cell_type": "code",
   "execution_count": null,
   "id": "9c694396-6e80-40a3-8686-819366062fb2",
   "metadata": {},
   "outputs": [],
   "source": [
    "# Train and validation\n",
    "X_train, X_val, y_train, y_val = train_test_split(X, y, test_size=0.30, random_state=0, shuffle=False)"
   ]
  },
  {
   "cell_type": "markdown",
   "id": "742f8cd3-3d3a-4515-b8ce-ed769d9f5700",
   "metadata": {},
   "source": [
    "#### Preproceso y ajuste"
   ]
  },
  {
   "cell_type": "code",
   "execution_count": null,
   "id": "d5661721-b4c6-4164-b590-e1678af1f06f",
   "metadata": {},
   "outputs": [],
   "source": [
    "# Preprocessing\n",
    "num_transformer = scaler\n",
    "cat_transformer = 'passthrough'\n",
    "\n",
    "num_features = [g for g in X.columns if 'client__' not in g]\n",
    "cat_features = [g for g in X.columns if 'client__' in g]\n",
    "\n",
    "preprocessor = ColumnTransformer(\n",
    "    transformers=[\n",
    "        ('num', num_transformer, num_features),\n",
    "        ('cat', cat_transformer, cat_features)])"
   ]
  },
  {
   "cell_type": "code",
   "execution_count": null,
   "id": "6309e79e-8e36-4d3d-a763-6aa996bff286",
   "metadata": {},
   "outputs": [],
   "source": [
    "# Fit\n",
    "model = Pipeline([\n",
    "  ('preprocessor', preprocessor),\n",
    "  ('feature_selection', SelectFromModel(ft_selector)),\n",
    "  ('regressor', model_)\n",
    "])\n",
    "\n",
    "model.fit(X_train, y_train)\n",
    "sgd = model"
   ]
  },
  {
   "cell_type": "code",
   "execution_count": null,
   "id": "d38485c7-bf4d-473a-862a-b4f2270d1a5b",
   "metadata": {},
   "outputs": [],
   "source": [
    "# Predict\n",
    "y_train_pred = model.predict(X_train)\n",
    "y_valid_pred = model.predict(X_val)"
   ]
  },
  {
   "cell_type": "markdown",
   "id": "0e72050f-083a-4bfb-a28e-dd0fbcf524c6",
   "metadata": {},
   "source": [
    "#### Evaluacion de predicciones"
   ]
  },
  {
   "cell_type": "code",
   "execution_count": null,
   "id": "dcd06370-c4a3-483a-a8a4-23a266818c4c",
   "metadata": {
    "tags": []
   },
   "outputs": [],
   "source": [
    "# evaluate MSE:\n",
    "train_error = mean_squared_error(y_train, y_train_pred)\n",
    "val_error = mean_squared_error(y_val, y_valid_pred)\n",
    "print(f'Train error {train_error.round(3)}, Valid error {val_error.round(3)}')  "
   ]
  },
  {
   "cell_type": "code",
   "execution_count": null,
   "id": "9a23b643-d24b-410a-9d46-18f73c845d7d",
   "metadata": {
    "tags": []
   },
   "outputs": [],
   "source": [
    "# evaluate RMSE:\n",
    "train_error = np.sqrt(mean_squared_error(y_train, y_train_pred))\n",
    "val_error = np.sqrt(mean_squared_error(y_val, y_valid_pred))\n",
    "print(f'Train error RMSE {train_error.round(3)}, Valid error RMSE {val_error.round(3)}')  "
   ]
  },
  {
   "cell_type": "code",
   "execution_count": null,
   "id": "58f1d898-6336-4193-8180-6374cf59aabb",
   "metadata": {
    "tags": []
   },
   "outputs": [],
   "source": [
    "# evaluate MAE:\n",
    "train_error = mean_absolute_error(y_train, y_train_pred)\n",
    "val_error = mean_absolute_error(y_val, y_valid_pred)\n",
    "print(f'Train error MAE {train_error.round(3)}, Valid error MAE {val_error.round(3)}')  "
   ]
  },
  {
   "cell_type": "markdown",
   "id": "8d9a6b95-6c26-48af-aafd-647890768bd8",
   "metadata": {
    "tags": []
   },
   "source": [
    "Visualizamos nuestra variable target (real y predicción)"
   ]
  },
  {
   "cell_type": "code",
   "execution_count": null,
   "id": "7a446baf-8ba4-48b3-9bc8-7b9b835f0d22",
   "metadata": {},
   "outputs": [],
   "source": [
    "pd.DataFrame(y_val.values.astype(int), columns=['val_real']).describe().round(2)"
   ]
  },
  {
   "cell_type": "code",
   "execution_count": null,
   "id": "a217b7ad-1061-475f-b4f5-b77bf0e64be5",
   "metadata": {},
   "outputs": [],
   "source": [
    "pd.DataFrame(y_valid_pred, columns=['val_pred']).describe().round(2)"
   ]
  },
  {
   "cell_type": "markdown",
   "id": "96a717c0-b221-42c5-828b-2069e4f1949d",
   "metadata": {},
   "source": [
    "## SGDRegressor- Grid Search"
   ]
  },
  {
   "cell_type": "code",
   "execution_count": null,
   "id": "5c3ed709-e99d-478c-8687-57d911ac213f",
   "metadata": {
    "tags": []
   },
   "outputs": [],
   "source": [
    "param_grid = {\n",
    "    'regressor__loss': ['squared_loss','huber','epsilon_insensitive','squared_epsilon_insensitive'],\n",
    "    'regressor__penalty': ['l2','l1'],\n",
    "    'regressor__alpha': [0.01, 0.1, 1],\n",
    "    'regressor__epsilon': [0.1, 0.01],\n",
    "    'regressor__tol': [1e-3, 1e-4],\n",
    "    'regressor__learning_rate': ['optimal', 'adaptive', 'invscaling', 'constant']\n",
    "    #'max_iter': [1000, 2000, 5000]\n",
    "}"
   ]
  },
  {
   "cell_type": "code",
   "execution_count": null,
   "id": "f4a89ccc-c405-494a-859d-97e4916f0160",
   "metadata": {},
   "outputs": [],
   "source": [
    "# Preproceso 1 para SGDRegressor - GridSearch\n",
    "df = df_mes.copy()\n",
    "scaler = MinMaxScaler()\n",
    "ft_selector = LinearSVR(random_state=0)\n",
    "model_ = SGDRegressor(random_state=0, shuffle=False)"
   ]
  },
  {
   "cell_type": "code",
   "execution_count": null,
   "id": "8ac76039-77df-4fba-b0ca-23e184eda258",
   "metadata": {},
   "outputs": [],
   "source": [
    "# Features and target\n",
    "X = df.drop([ordinal_ft, target], axis=1)\n",
    "y = df[target]"
   ]
  },
  {
   "cell_type": "code",
   "execution_count": null,
   "id": "894ec868-11d3-49df-a47a-07324002f3b1",
   "metadata": {},
   "outputs": [],
   "source": [
    "# Train and validation\n",
    "X_train, X_val, y_train, y_val = train_test_split(X, y, test_size=0.3, random_state=0, shuffle=False)"
   ]
  },
  {
   "cell_type": "markdown",
   "id": "e1af8d35-f12a-4aee-88bd-2ee194a93e53",
   "metadata": {},
   "source": [
    "#### Preproceso y ajuste"
   ]
  },
  {
   "cell_type": "code",
   "execution_count": null,
   "id": "08ed9552-c39e-40bc-8139-68b72ce456a1",
   "metadata": {},
   "outputs": [],
   "source": [
    "# Preprocessing\n",
    "num_transformer = scaler\n",
    "cat_transformer = 'passthrough'\n",
    "\n",
    "num_features = [g for g in X.columns if 'client__' not in g]\n",
    "cat_features = [g for g in X.columns if 'client__' in g]\n",
    "\n",
    "preprocessor = ColumnTransformer(\n",
    "    transformers=[\n",
    "        ('num', num_transformer, num_features),\n",
    "        ('cat', cat_transformer, cat_features)])"
   ]
  },
  {
   "cell_type": "code",
   "execution_count": null,
   "id": "30219658-c0c0-4f57-b3d5-1a00c4ca3328",
   "metadata": {
    "tags": []
   },
   "outputs": [],
   "source": [
    "# Fit\n",
    "pipe = Pipeline([\n",
    "  ('preprocessor', preprocessor),\n",
    "  ('feature_selection', SelectFromModel(ft_selector)),\n",
    "  ('regressor', model_)\n",
    "])\n",
    "\n",
    "model = RandomizedSearchCV(pipe, param_grid, scoring='neg_mean_squared_error',cv=5, n_iter=20)\n",
    "\n",
    "model.fit(X_train, y_train)\n",
    "sgd_cv = model"
   ]
  },
  {
   "cell_type": "code",
   "execution_count": null,
   "id": "fc8b1695-a7c3-4cbb-84c2-cb3ea4a3b780",
   "metadata": {
    "tags": []
   },
   "outputs": [],
   "source": [
    "model.best_params_"
   ]
  },
  {
   "cell_type": "code",
   "execution_count": null,
   "id": "0087b2f3-2aaf-4550-b86c-f43840dd51da",
   "metadata": {},
   "outputs": [],
   "source": [
    "# Predict\n",
    "y_train_pred = model.predict(X_train)\n",
    "y_valid_pred = model.predict(X_val)"
   ]
  },
  {
   "cell_type": "markdown",
   "id": "043a272e-825b-4126-8f89-79e703e81d0d",
   "metadata": {},
   "source": [
    "#### Evaluacion de predicciones"
   ]
  },
  {
   "cell_type": "code",
   "execution_count": null,
   "id": "382c4bb5-2402-48a6-97e7-7cce6e164715",
   "metadata": {
    "tags": []
   },
   "outputs": [],
   "source": [
    "# evaluate MSE:\n",
    "train_error = mean_squared_error(y_train, y_train_pred)\n",
    "val_error = mean_squared_error(y_val, y_valid_pred)\n",
    "print(f'Train error {train_error.round(3)}, Valid error {val_error.round(3)}')  "
   ]
  },
  {
   "cell_type": "code",
   "execution_count": null,
   "id": "d73e3ee7-4af5-40ea-8f14-443326026a3a",
   "metadata": {
    "tags": []
   },
   "outputs": [],
   "source": [
    "# evaluate RMSE:\n",
    "train_error = np.sqrt(mean_squared_error(y_train, y_train_pred))\n",
    "val_error = np.sqrt(mean_squared_error(y_val, y_valid_pred))\n",
    "print(f'Train error RMSE {train_error.round(3)}, Valid error RMSE {val_error.round(3)}')  "
   ]
  },
  {
   "cell_type": "code",
   "execution_count": null,
   "id": "5d4af2f8-c0d0-4e05-a665-f8a71a39af47",
   "metadata": {
    "tags": []
   },
   "outputs": [],
   "source": [
    "# evaluate MAE:\n",
    "train_error = mean_absolute_error(y_train, y_train_pred)\n",
    "val_error = mean_absolute_error(y_val, y_valid_pred)\n",
    "print(f'Train error MAE {train_error.round(3)}, Valid error MAE {val_error.round(3)}')  "
   ]
  },
  {
   "cell_type": "markdown",
   "id": "a134efc7-3096-42c1-82a3-790b88fb02c1",
   "metadata": {
    "tags": []
   },
   "source": [
    "Visualizamos nuestra variable target (real y predicción)"
   ]
  },
  {
   "cell_type": "code",
   "execution_count": null,
   "id": "c18ca62b-1911-4fd6-b039-5c851b11c6f6",
   "metadata": {},
   "outputs": [],
   "source": [
    "pd.DataFrame(y_val.values.astype(int), columns=['val_real']).describe().round(2)"
   ]
  },
  {
   "cell_type": "code",
   "execution_count": null,
   "id": "8f641261-2a3d-402f-9a9f-683b7b9088cd",
   "metadata": {},
   "outputs": [],
   "source": [
    "pd.DataFrame(y_valid_pred, columns=['val_pred']).describe().round(2)"
   ]
  },
  {
   "cell_type": "markdown",
   "id": "4a6c4007-31e5-4854-b82c-b6bec547bcad",
   "metadata": {},
   "source": [
    "## KNeighborsRegressor - Default"
   ]
  },
  {
   "cell_type": "code",
   "execution_count": null,
   "id": "b81908fc-ea73-4248-b8b5-d7155541bf23",
   "metadata": {},
   "outputs": [],
   "source": [
    "# Preproceso 1 para SGDRegressor - GridSearch, RMSE 3778.109\n",
    "df = df_mes.copy()\n",
    "scaler = MinMaxScaler()\n",
    "ft_selector = LinearSVR(random_state=0)\n",
    "model_ = KNeighborsRegressor()"
   ]
  },
  {
   "cell_type": "code",
   "execution_count": null,
   "id": "15b6638b-dafc-44c4-9faa-d0d8489c00b2",
   "metadata": {},
   "outputs": [],
   "source": [
    "# Features and target\n",
    "X = df.drop([ordinal_ft, target], axis=1)\n",
    "y = df[target]"
   ]
  },
  {
   "cell_type": "code",
   "execution_count": null,
   "id": "9bc1ff72-b165-441e-bce5-da93cb162cc3",
   "metadata": {},
   "outputs": [],
   "source": [
    "# Train and validation\n",
    "X_train, X_val, y_train, y_val = train_test_split(X, y, test_size=0.3, random_state=0, shuffle=False)"
   ]
  },
  {
   "cell_type": "code",
   "execution_count": null,
   "id": "2d10605e-4b66-4fe1-a328-cb02b62b0d8b",
   "metadata": {},
   "outputs": [],
   "source": [
    "X_train.shape"
   ]
  },
  {
   "cell_type": "code",
   "execution_count": null,
   "id": "770d8634-2fb2-44b3-8d5a-06be91dabcdf",
   "metadata": {},
   "outputs": [],
   "source": [
    "X_val.shape"
   ]
  },
  {
   "cell_type": "markdown",
   "id": "2dd195be-2f4c-417c-bef1-2a6adc9825c8",
   "metadata": {},
   "source": [
    "#### Preproceso y ajuste"
   ]
  },
  {
   "cell_type": "code",
   "execution_count": null,
   "id": "176dd5cb-9d56-4cd7-b7b2-522551bbe183",
   "metadata": {},
   "outputs": [],
   "source": [
    "# Preprocessing\n",
    "num_transformer = scaler\n",
    "cat_transformer = 'passthrough'\n",
    "\n",
    "num_features = [g for g in X.columns if 'client__' not in g]\n",
    "cat_features = [g for g in X.columns if 'client__' in g]\n",
    "\n",
    "preprocessor = ColumnTransformer(\n",
    "    transformers=[\n",
    "        ('num', num_transformer, num_features),\n",
    "        ('cat', cat_transformer, cat_features)])"
   ]
  },
  {
   "cell_type": "code",
   "execution_count": null,
   "id": "95bb2e35-953a-4d90-a2d2-688b2482ee85",
   "metadata": {
    "tags": []
   },
   "outputs": [],
   "source": [
    "# Fit\n",
    "model = Pipeline([\n",
    "  ('preprocessor', preprocessor),\n",
    "  ('feature_selection', SelectFromModel(ft_selector)),\n",
    "  ('regressor', model_)\n",
    "])\n",
    "\n",
    "model.fit(X_train, y_train)\n",
    "knn = model"
   ]
  },
  {
   "cell_type": "code",
   "execution_count": null,
   "id": "785aec58-471f-4db4-9e6a-156002178a69",
   "metadata": {},
   "outputs": [],
   "source": [
    "# Predict\n",
    "y_train_pred = model.predict(X_train)\n",
    "y_valid_pred = model.predict(X_val)"
   ]
  },
  {
   "cell_type": "markdown",
   "id": "8d9be68d-6bb8-4d90-9a0e-88a7f3795894",
   "metadata": {},
   "source": [
    "#### Evaluacion de predicciones"
   ]
  },
  {
   "cell_type": "code",
   "execution_count": null,
   "id": "30879b34-599e-4548-9dbd-4250308a80c2",
   "metadata": {
    "tags": []
   },
   "outputs": [],
   "source": [
    "# evaluate MSE:\n",
    "train_error = mean_squared_error(y_train, y_train_pred)\n",
    "val_error = mean_squared_error(y_val, y_valid_pred)\n",
    "print(f'Train error {train_error.round(3)}, Valid error {val_error.round(3)}')  "
   ]
  },
  {
   "cell_type": "code",
   "execution_count": null,
   "id": "b3f4538c-d91a-4275-a40c-e8761163d83f",
   "metadata": {
    "tags": []
   },
   "outputs": [],
   "source": [
    "# evaluate RMSE:\n",
    "train_error = np.sqrt(mean_squared_error(y_train, y_train_pred))\n",
    "val_error = np.sqrt(mean_squared_error(y_val, y_valid_pred))\n",
    "print(f'Train error RMSE {train_error.round(3)}, Valid error RMSE {val_error.round(3)}')  "
   ]
  },
  {
   "cell_type": "code",
   "execution_count": null,
   "id": "ae9ca593-b290-4729-b92f-a1f19f654e2c",
   "metadata": {
    "tags": []
   },
   "outputs": [],
   "source": [
    "# evaluate MAE:\n",
    "train_error = mean_absolute_error(y_train, y_train_pred)\n",
    "val_error = mean_absolute_error(y_val, y_valid_pred)\n",
    "print(f'Train error MAE {train_error.round(3)}, Valid error MAE {val_error.round(3)}')  "
   ]
  },
  {
   "cell_type": "markdown",
   "id": "1eca9a0b-affb-499b-981b-9944265babf2",
   "metadata": {
    "tags": []
   },
   "source": [
    "Visualizamos nuestra variable target (real y predicción)"
   ]
  },
  {
   "cell_type": "code",
   "execution_count": null,
   "id": "582e2012-41da-4e94-b8c8-2697257541d0",
   "metadata": {},
   "outputs": [],
   "source": [
    "pd.DataFrame(y_val.values.astype(int), columns=['val_real']).describe().round(2)"
   ]
  },
  {
   "cell_type": "code",
   "execution_count": null,
   "id": "a13c9ccf-f18c-4fbe-a27b-21f121b5308b",
   "metadata": {},
   "outputs": [],
   "source": [
    "pd.DataFrame(y_valid_pred.astype(int), columns=['val_pred']).describe().round(2)"
   ]
  },
  {
   "cell_type": "markdown",
   "id": "c1f6d693-3e5f-405a-b736-8695c0398e45",
   "metadata": {},
   "source": [
    "## KNeighborsRegressor - Grid Search"
   ]
  },
  {
   "cell_type": "code",
   "execution_count": null,
   "id": "0bd7bf51-d0c2-42f2-a210-13df99cab572",
   "metadata": {},
   "outputs": [],
   "source": [
    "# Preproceso 1 para KNeighborsRegressor - GridSearch\n",
    "df = df_mes.copy()\n",
    "scaler = MinMaxScaler()\n",
    "ft_selector = LinearSVR(random_state=0)\n",
    "model_ = KNeighborsRegressor()"
   ]
  },
  {
   "cell_type": "code",
   "execution_count": null,
   "id": "004008df-1137-4589-a494-769f44058833",
   "metadata": {
    "tags": []
   },
   "outputs": [],
   "source": [
    "param_grid = {\n",
    "    'regressor__n_neighbors': [20,25,30,35],\n",
    "    'regressor__weights': ['uniform', 'distance'],\n",
    "    'regressor__algorithm': ['auto','ball_tree','kd_tree','brute'],\n",
    "    'regressor__p': [1,2]\n",
    "}"
   ]
  },
  {
   "cell_type": "markdown",
   "id": "e9303370-be7b-4768-a5ea-4e979c81029c",
   "metadata": {
    "tags": []
   },
   "source": [
    "Elegimos valores altos de K, porque?"
   ]
  },
  {
   "cell_type": "code",
   "execution_count": null,
   "id": "e7b262ab-8371-4b45-8680-b49e8de7dc56",
   "metadata": {},
   "outputs": [],
   "source": [
    "# Features and target\n",
    "X = df.drop([ordinal_ft, target], axis=1)\n",
    "y = df[target]"
   ]
  },
  {
   "cell_type": "code",
   "execution_count": null,
   "id": "9815825a-67d2-4be6-890f-ed810b6f432a",
   "metadata": {},
   "outputs": [],
   "source": [
    "# Train and validation\n",
    "X_train, X_val, y_train, y_val = train_test_split(X, y, test_size=0.3, random_state=0, shuffle=False)"
   ]
  },
  {
   "cell_type": "markdown",
   "id": "c4185bd9-5708-4834-b33a-7c3c61794b5c",
   "metadata": {},
   "source": [
    "#### Preproceso y ajuste"
   ]
  },
  {
   "cell_type": "code",
   "execution_count": null,
   "id": "56badb3b-af88-451d-b369-d692e9ec2243",
   "metadata": {},
   "outputs": [],
   "source": [
    "# Preprocessing\n",
    "num_transformer = scaler\n",
    "cat_transformer = 'passthrough'\n",
    "\n",
    "num_features = [g for g in X.columns if 'client__' not in g]\n",
    "cat_features = [g for g in X.columns if 'client__' in g]\n",
    "\n",
    "preprocessor = ColumnTransformer(\n",
    "    transformers=[\n",
    "        ('num', num_transformer, num_features),\n",
    "        ('cat', cat_transformer, cat_features)])"
   ]
  },
  {
   "cell_type": "code",
   "execution_count": null,
   "id": "b2884e53-da92-4bc6-8c34-a335d408f4f8",
   "metadata": {
    "tags": []
   },
   "outputs": [],
   "source": [
    "# Fit\n",
    "pipe = Pipeline([\n",
    "  ('preprocessor', preprocessor),\n",
    "  ('feature_selection', SelectFromModel(ft_selector)),\n",
    "  ('regressor', model_)\n",
    "])\n",
    "\n",
    "model = GridSearchCV(pipe, param_grid, scoring='neg_mean_squared_error',cv=5)\n",
    "\n",
    "model.fit(X_train, y_train)\n",
    "knn_cv = model"
   ]
  },
  {
   "cell_type": "code",
   "execution_count": null,
   "id": "25c2d39b-bf9f-423c-895a-3b6c84d50501",
   "metadata": {},
   "outputs": [],
   "source": [
    "model.best_params_"
   ]
  },
  {
   "cell_type": "code",
   "execution_count": null,
   "id": "1f5f6d94-f46f-4a44-954c-95b47439cee5",
   "metadata": {},
   "outputs": [],
   "source": [
    "# Predict\n",
    "y_train_pred = model.predict(X_train)\n",
    "y_valid_pred = model.predict(X_val)"
   ]
  },
  {
   "cell_type": "markdown",
   "id": "7d2429c2-392d-4756-af3d-1f846fb5e6f7",
   "metadata": {},
   "source": [
    "#### Evaluacion de predicciones"
   ]
  },
  {
   "cell_type": "code",
   "execution_count": null,
   "id": "f88f2513-6cb8-4943-b941-b92466d75468",
   "metadata": {
    "tags": []
   },
   "outputs": [],
   "source": [
    "# evaluate MSE:\n",
    "train_error = mean_squared_error(y_train, y_train_pred)\n",
    "val_error = mean_squared_error(y_val, y_valid_pred)\n",
    "print(f'Train error {train_error.round(3)}, Valid error {val_error.round(3)}')  "
   ]
  },
  {
   "cell_type": "code",
   "execution_count": null,
   "id": "7d0ce3d2-4e7f-461c-aaeb-a1ff8f6ecd9e",
   "metadata": {
    "tags": []
   },
   "outputs": [],
   "source": [
    "# evaluate RMSE:\n",
    "train_error = np.sqrt(mean_squared_error(y_train, y_train_pred))\n",
    "val_error = np.sqrt(mean_squared_error(y_val, y_valid_pred))\n",
    "print(f'Train error RMSE {train_error.round(3)}, Valid error RMSE {val_error.round(3)}')  "
   ]
  },
  {
   "cell_type": "code",
   "execution_count": null,
   "id": "128bd560-5cc0-4a98-af3f-330b6847073d",
   "metadata": {
    "tags": []
   },
   "outputs": [],
   "source": [
    "# evaluate MAE:\n",
    "train_error = mean_absolute_error(y_train, y_train_pred)\n",
    "val_error = mean_absolute_error(y_val, y_valid_pred)\n",
    "print(f'Train error MAE {train_error.round(3)}, Valid error MAE {val_error.round(3)}')  "
   ]
  },
  {
   "cell_type": "markdown",
   "id": "61bb3c8e-1cb2-48e1-b866-bd8b71d15372",
   "metadata": {
    "tags": []
   },
   "source": [
    "Visualizamos nuestra variable target (real y predicción)"
   ]
  },
  {
   "cell_type": "code",
   "execution_count": null,
   "id": "f719e8cb-2c95-4fa7-b5fc-d97048c545fa",
   "metadata": {},
   "outputs": [],
   "source": [
    "pd.DataFrame(y_val.values.astype(int), columns=['val_real']).describe().round(2)"
   ]
  },
  {
   "cell_type": "code",
   "execution_count": null,
   "id": "8bab165e-6313-43af-8883-b838befd0b53",
   "metadata": {},
   "outputs": [],
   "source": [
    "pd.DataFrame(y_valid_pred, columns=['val_pred']).describe().round(2)"
   ]
  },
  {
   "cell_type": "markdown",
   "id": "0be9d74c-0f8f-46cc-a61c-a2ecc3a59e53",
   "metadata": {},
   "source": [
    "## GaussianProcessRegressor - Default"
   ]
  },
  {
   "cell_type": "code",
   "execution_count": null,
   "id": "a3919d59-06d0-437d-a72f-d1f8c88fe541",
   "metadata": {},
   "outputs": [],
   "source": [
    "# Preproceso 1 para GaussianProcessRegressor - Default\n",
    "df = df_mes.copy()\n",
    "scaler = StandardScaler()\n",
    "#ft_selector = RandomForestRegressor(random_state=0)\n",
    "model_ = GaussianProcessRegressor(random_state=0) # Kernel?"
   ]
  },
  {
   "cell_type": "code",
   "execution_count": null,
   "id": "a48a2f27-52aa-4902-899e-537641dccc5c",
   "metadata": {},
   "outputs": [],
   "source": [
    "# Features and target\n",
    "X = df.drop([ordinal_ft, target], axis=1)\n",
    "y = df[target]"
   ]
  },
  {
   "cell_type": "code",
   "execution_count": null,
   "id": "e188e279-198f-491a-88bf-59d2a2a93135",
   "metadata": {},
   "outputs": [],
   "source": [
    "# Train and validation\n",
    "X_train, X_val, y_train, y_val = train_test_split(X, y, test_size=0.3, random_state=0, shuffle=False)"
   ]
  },
  {
   "cell_type": "markdown",
   "id": "a2c7864f-6bb3-48ef-afec-c0478a0b9a70",
   "metadata": {},
   "source": [
    "#### Preproceso y ajuste"
   ]
  },
  {
   "cell_type": "code",
   "execution_count": null,
   "id": "ab4be6b8-2123-4755-a019-f06e9ddaa319",
   "metadata": {},
   "outputs": [],
   "source": [
    "# Preprocessing\n",
    "num_transformer = scaler\n",
    "cat_transformer = 'passthrough'\n",
    "\n",
    "num_features = [g for g in X.columns if 'client__' not in g]\n",
    "cat_features = [g for g in X.columns if 'client__' in g]\n",
    "\n",
    "preprocessor = ColumnTransformer(\n",
    "    transformers=[\n",
    "        ('num', num_transformer, num_features),\n",
    "        ('cat', cat_transformer, cat_features)])"
   ]
  },
  {
   "cell_type": "code",
   "execution_count": null,
   "id": "e64c75ac-5fd1-4a12-bef9-b079ce84bd66",
   "metadata": {},
   "outputs": [],
   "source": [
    "# Fit\n",
    "model = Pipeline([\n",
    "  ('preprocessor', preprocessor),\n",
    "#  ('feature_selection', SelectFromModel(ft_selector)),\n",
    "  ('regressor', model_)\n",
    "])\n",
    "\n",
    "model.fit(X_train, y_train)\n",
    "gpr = model"
   ]
  },
  {
   "cell_type": "code",
   "execution_count": null,
   "id": "7c48deca-36ad-4c43-9385-9bca58c77339",
   "metadata": {},
   "outputs": [],
   "source": [
    "# Predict\n",
    "y_train_pred = model.predict(X_train)\n",
    "y_valid_pred = model.predict(X_val)"
   ]
  },
  {
   "cell_type": "markdown",
   "id": "b329b646-3ff3-42f5-892b-fa087f2e10dc",
   "metadata": {},
   "source": [
    "#### Evaluacion de predicciones"
   ]
  },
  {
   "cell_type": "code",
   "execution_count": null,
   "id": "ff3820be-d10d-4dfd-be43-33306efa3341",
   "metadata": {
    "tags": []
   },
   "outputs": [],
   "source": [
    "# evaluate MSE:\n",
    "train_error = mean_squared_error(y_train, y_train_pred)\n",
    "val_error = mean_squared_error(y_val, y_valid_pred)\n",
    "print(f'Train error {train_error.round(3)}, Valid error {val_error.round(3)}')  "
   ]
  },
  {
   "cell_type": "code",
   "execution_count": null,
   "id": "1be41911-ef50-4565-90ba-5d05130869f2",
   "metadata": {
    "tags": []
   },
   "outputs": [],
   "source": [
    "# evaluate RMSE:\n",
    "train_error = np.sqrt(mean_squared_error(y_train, y_train_pred))\n",
    "val_error = np.sqrt(mean_squared_error(y_val, y_valid_pred))\n",
    "print(f'Train error RMSE {train_error.round(3)}, Valid error RMSE {val_error.round(3)}')  "
   ]
  },
  {
   "cell_type": "code",
   "execution_count": null,
   "id": "4148e460-28a3-4789-af03-87ab9733896e",
   "metadata": {
    "tags": []
   },
   "outputs": [],
   "source": [
    "# evaluate MAE:\n",
    "train_error = mean_absolute_error(y_train, y_train_pred)\n",
    "val_error = mean_absolute_error(y_val, y_valid_pred)\n",
    "print(f'Train error MAE {train_error.round(3)}, Valid error MAE {val_error.round(3)}')  "
   ]
  },
  {
   "cell_type": "markdown",
   "id": "4dbe56b9-9d49-48c6-85aa-2b7aee426944",
   "metadata": {
    "tags": []
   },
   "source": [
    "Visualizamos nuestra variable target (real y predicción)"
   ]
  },
  {
   "cell_type": "code",
   "execution_count": null,
   "id": "0a02ebed-13a0-4c02-a299-c81501415e05",
   "metadata": {},
   "outputs": [],
   "source": [
    "pd.DataFrame(y_val.values.astype(int), columns=['val_real']).describe().round(2)"
   ]
  },
  {
   "cell_type": "code",
   "execution_count": null,
   "id": "5911c7c9-68a9-441a-81c5-0bd94005f2a5",
   "metadata": {},
   "outputs": [],
   "source": [
    "pd.DataFrame(y_valid_pred, columns=['val_pred']).describe().round(2)"
   ]
  },
  {
   "cell_type": "markdown",
   "id": "f5a1db4d-fb35-4226-832b-31a05737b949",
   "metadata": {},
   "source": [
    "## GaussianProcessRegressor - Grid Search "
   ]
  },
  {
   "cell_type": "code",
   "execution_count": null,
   "id": "0ae8edff-b394-4b9e-a552-47fc723b54d3",
   "metadata": {
    "tags": []
   },
   "outputs": [],
   "source": [
    "ker_rbf = ConstantKernel(1.0, constant_value_bounds=\"fixed\") * RBF(1.0, length_scale_bounds=\"fixed\")\n",
    "ker_rq = ConstantKernel(1.0, constant_value_bounds=\"fixed\") * RationalQuadratic(alpha=0.1, length_scale=1)\n",
    "ker_expsine = ConstantKernel(1.0, constant_value_bounds=\"fixed\") * ExpSineSquared(1.0, 5.0, periodicity_bounds=(1e-2, 1e1))\n",
    "\n",
    "kernel_list = [ker_rbf, ker_rq, ker_expsine]\n",
    "\n",
    "param_grid = {\"regressor__kernel\": kernel_list,\n",
    "              \"regressor__alpha\": [0.1]}"
   ]
  },
  {
   "cell_type": "code",
   "execution_count": null,
   "id": "5419dfc7-2741-42b8-bfcf-648493fd9b1e",
   "metadata": {},
   "outputs": [],
   "source": [
    "# Preproceso 1 para GaussianProcessRegressor - GridSearch\n",
    "df = df_mes.copy()\n",
    "scaler = StandardScaler()\n",
    "#ft_selector = RandomForestRegressor(random_state=0)\n",
    "model_ = GaussianProcessRegressor(random_state=0) # Kernel?"
   ]
  },
  {
   "cell_type": "code",
   "execution_count": null,
   "id": "c0947a6a-2a31-4b22-ab7a-e0bcc2679124",
   "metadata": {},
   "outputs": [],
   "source": [
    "# Features and target\n",
    "X = df.drop([ordinal_ft, target], axis=1)\n",
    "y = df[target]"
   ]
  },
  {
   "cell_type": "code",
   "execution_count": null,
   "id": "90098b40-b2a9-4e47-b111-f98394bb454b",
   "metadata": {},
   "outputs": [],
   "source": [
    "# Train and validation\n",
    "X_train, X_val, y_train, y_val = train_test_split(X, y, test_size=0.3, random_state=0, shuffle=False)"
   ]
  },
  {
   "cell_type": "markdown",
   "id": "87f26d09-36cf-42d8-a9f2-5a9f68e9ede4",
   "metadata": {},
   "source": [
    "#### Preproceso y ajuste"
   ]
  },
  {
   "cell_type": "code",
   "execution_count": null,
   "id": "7b3ab720-bcd6-4c34-8a3d-a1d387687208",
   "metadata": {},
   "outputs": [],
   "source": [
    "# Preprocessing\n",
    "num_transformer = scaler\n",
    "cat_transformer = 'passthrough'\n",
    "\n",
    "num_features = [g for g in X.columns if 'client' not in g]\n",
    "cat_features = [g for g in X.columns if 'client' in g]\n",
    "\n",
    "preprocessor = ColumnTransformer(\n",
    "    transformers=[\n",
    "        ('num', num_transformer, num_features),\n",
    "        ('cat', cat_transformer, cat_features)])"
   ]
  },
  {
   "cell_type": "code",
   "execution_count": null,
   "id": "b9feaad4-189a-49e3-8629-62af135a52a6",
   "metadata": {
    "tags": []
   },
   "outputs": [],
   "source": [
    "# Fit\n",
    "pipe = Pipeline([\n",
    "  ('preprocessor', preprocessor),\n",
    "#  ('feature_selection', SelectFromModel(ft_selector)),\n",
    "  ('regressor', model_)\n",
    "])\n",
    "\n",
    "model = GridSearchCV(pipe, param_grid, scoring='neg_mean_squared_error',cv=5, verbose=2)\n",
    "\n",
    "model.fit(X_train, y_train)\n",
    "gpr_cv = model"
   ]
  },
  {
   "cell_type": "code",
   "execution_count": null,
   "id": "851cc8a8-a2b1-4c89-bd61-c9720380edbf",
   "metadata": {},
   "outputs": [],
   "source": [
    "model.best_params_"
   ]
  },
  {
   "cell_type": "code",
   "execution_count": null,
   "id": "f43664c1-8bea-40f7-a72e-dc2a8451fa9c",
   "metadata": {},
   "outputs": [],
   "source": [
    "# Predict\n",
    "y_train_pred = model.predict(X_train)\n",
    "y_valid_pred = model.predict(X_val)"
   ]
  },
  {
   "cell_type": "markdown",
   "id": "a7ae2bf0-b390-4716-b59e-1163b6f36bf0",
   "metadata": {},
   "source": [
    "#### Evaluacion de predicciones"
   ]
  },
  {
   "cell_type": "code",
   "execution_count": null,
   "id": "76a35523-90a6-48ea-a43c-3278cbdf893b",
   "metadata": {
    "tags": []
   },
   "outputs": [],
   "source": [
    "# evaluate MSE:\n",
    "train_error = mean_squared_error(y_train, y_train_pred)\n",
    "val_error = mean_squared_error(y_val, y_valid_pred)\n",
    "print(f'Train error {train_error.round(3)}, Valid error {val_error.round(3)}')  "
   ]
  },
  {
   "cell_type": "code",
   "execution_count": null,
   "id": "67c429f1-1411-4e21-9e7b-b636072d304c",
   "metadata": {
    "tags": []
   },
   "outputs": [],
   "source": [
    "# evaluate RMSE:\n",
    "train_error = np.sqrt(mean_squared_error(y_train, y_train_pred))\n",
    "val_error = np.sqrt(mean_squared_error(y_val, y_valid_pred))\n",
    "print(f'Train error RMSE {train_error.round(3)}, Valid error RMSE {val_error.round(3)}')  "
   ]
  },
  {
   "cell_type": "code",
   "execution_count": null,
   "id": "f5b84615-d407-4784-b315-6cf32eb05445",
   "metadata": {
    "tags": []
   },
   "outputs": [],
   "source": [
    "# evaluate MAE:\n",
    "train_error = mean_absolute_error(y_train, y_train_pred)\n",
    "val_error = mean_absolute_error(y_val, y_valid_pred)\n",
    "print(f'Train error MAE {train_error.round(3)}, Valid error MAE {val_error.round(3)}')  "
   ]
  },
  {
   "cell_type": "markdown",
   "id": "7d08673f-8733-40ba-8970-7f341069097e",
   "metadata": {
    "tags": []
   },
   "source": [
    "Visualizamos nuestra variable target (real y predicción)"
   ]
  },
  {
   "cell_type": "code",
   "execution_count": null,
   "id": "8442e239-bd33-4197-b053-cc1ea4a1dfe6",
   "metadata": {},
   "outputs": [],
   "source": [
    "pd.DataFrame(y_val.values.astype(int), columns=['val_real']).describe().round(2)"
   ]
  },
  {
   "cell_type": "code",
   "execution_count": null,
   "id": "7d4b1873-49ca-4a11-92df-e8063e53ff03",
   "metadata": {},
   "outputs": [],
   "source": [
    "pd.DataFrame(y_valid_pred, columns=['val_pred']).describe().round(2)"
   ]
  },
  {
   "cell_type": "markdown",
   "id": "64e2e60e-2e86-4049-bdc3-3182287cc8bb",
   "metadata": {},
   "source": [
    "## XGBRegressor - Default"
   ]
  },
  {
   "cell_type": "code",
   "execution_count": null,
   "id": "4cf507cf-9bb0-4631-b1f8-955ed461ca8e",
   "metadata": {},
   "outputs": [],
   "source": [
    "# Preproceso 1 para XGBRegressor - Default\n",
    "df = df_mes.copy()\n",
    "scaler = MinMaxScaler()\n",
    "#ft_selector = RandomForestRegressor(random_state=0)\n",
    "model_ = XGBRegressor(random_state=0, verbosity=1)"
   ]
  },
  {
   "cell_type": "code",
   "execution_count": null,
   "id": "671675b0-a8e3-452f-93a5-164f799f3d50",
   "metadata": {},
   "outputs": [],
   "source": [
    "# Features and target\n",
    "X = df.drop([ordinal_ft, target], axis=1)\n",
    "y = df[target]"
   ]
  },
  {
   "cell_type": "code",
   "execution_count": null,
   "id": "da5e74d8-ea06-44c0-bc28-fa784e3a000a",
   "metadata": {},
   "outputs": [],
   "source": [
    "# Train and validation\n",
    "X_train, X_val, y_train, y_val = train_test_split(X, y, test_size=0.2, random_state=0, shuffle=True)"
   ]
  },
  {
   "cell_type": "markdown",
   "id": "f33f0e58-9f67-417e-ad70-844ec230c839",
   "metadata": {},
   "source": [
    "#### Preproceso y ajuste"
   ]
  },
  {
   "cell_type": "code",
   "execution_count": null,
   "id": "8aed69fc-ac6b-439f-a5f5-91750bb8f8d0",
   "metadata": {},
   "outputs": [],
   "source": [
    "# Preprocessing\n",
    "num_transformer = scaler\n",
    "cat_transformer = 'passthrough'\n",
    "\n",
    "num_features = [g for g in X.columns if 'client__' not in g]\n",
    "cat_features = [g for g in X.columns if 'client__' in g]\n",
    "\n",
    "preprocessor = ColumnTransformer(\n",
    "    transformers=[\n",
    "        ('num', num_transformer, num_features),\n",
    "        ('cat', cat_transformer, cat_features)])"
   ]
  },
  {
   "cell_type": "code",
   "execution_count": null,
   "id": "ae9fa7ff-5223-4261-9386-9199fa336be1",
   "metadata": {},
   "outputs": [],
   "source": [
    "# Fit\n",
    "model = Pipeline([\n",
    "  ('preprocessor', preprocessor),\n",
    "  ('feature_selection', SelectFromModel(ft_selector)),\n",
    "  ('regressor', model_)\n",
    "])\n",
    "\n",
    "model.fit(X_train, y_train)\n",
    "xgb = model"
   ]
  },
  {
   "cell_type": "code",
   "execution_count": null,
   "id": "9ac73d80-9ffa-48d9-9780-5b3fd757f7fa",
   "metadata": {},
   "outputs": [],
   "source": [
    "# Predict\n",
    "y_train_pred = model.predict(X_train)\n",
    "y_valid_pred = model.predict(X_val)"
   ]
  },
  {
   "cell_type": "markdown",
   "id": "ab402581-745a-4100-9299-98252734481b",
   "metadata": {},
   "source": [
    "#### Evaluacion de predicciones"
   ]
  },
  {
   "cell_type": "code",
   "execution_count": null,
   "id": "23be29cc-4fbc-43bd-b680-6ec24c5be331",
   "metadata": {
    "tags": []
   },
   "outputs": [],
   "source": [
    "# evaluate MSE:\n",
    "train_error = mean_squared_error(y_train, y_train_pred)\n",
    "val_error = mean_squared_error(y_val, y_valid_pred)\n",
    "print(f'Train error {train_error.round(3)}, Valid error {val_error.round(3)}')  "
   ]
  },
  {
   "cell_type": "code",
   "execution_count": null,
   "id": "73bcb24b-d9d6-45d0-920b-370efd705fc1",
   "metadata": {
    "tags": []
   },
   "outputs": [],
   "source": [
    "# evaluate RMSE:\n",
    "train_error = np.sqrt(mean_squared_error(y_train, y_train_pred))\n",
    "val_error = np.sqrt(mean_squared_error(y_val, y_valid_pred))\n",
    "print(f'Train error RMSE {train_error.round(3)}, Valid error RMSE {val_error.round(3)}')  "
   ]
  },
  {
   "cell_type": "code",
   "execution_count": null,
   "id": "821b09a4-7f9b-4407-9d8c-fb0ef99796f2",
   "metadata": {
    "tags": []
   },
   "outputs": [],
   "source": [
    "# evaluate MAE:\n",
    "train_error = mean_absolute_error(y_train, y_train_pred)\n",
    "val_error = mean_absolute_error(y_val, y_valid_pred)\n",
    "print(f'Train error MAE {train_error.round(3)}, Valid error MAE {val_error.round(3)}')  "
   ]
  },
  {
   "cell_type": "markdown",
   "id": "df15acb0-401d-47ff-9fbd-dcd7ae6d9506",
   "metadata": {
    "tags": []
   },
   "source": [
    "Visualizamos nuestra variable target (real y predicción)"
   ]
  },
  {
   "cell_type": "code",
   "execution_count": null,
   "id": "fe26d948-48d4-49f1-b871-311703fe3325",
   "metadata": {},
   "outputs": [],
   "source": [
    "pd.DataFrame(y_val.values.astype(int), columns=['val_real']).describe().round(2)"
   ]
  },
  {
   "cell_type": "code",
   "execution_count": null,
   "id": "cc91b679-8864-47ee-ae99-fe0517002953",
   "metadata": {},
   "outputs": [],
   "source": [
    "pd.DataFrame(y_valid_pred, columns=['val_pred']).describe().round(2)"
   ]
  },
  {
   "cell_type": "markdown",
   "id": "2c131c49-cec2-43e7-bdc3-fe2982d753de",
   "metadata": {},
   "source": [
    "## XGBRegressor - Grid Search"
   ]
  },
  {
   "cell_type": "code",
   "execution_count": null,
   "id": "2c02666d-f2ca-4261-9a50-b7892f6ce74c",
   "metadata": {},
   "outputs": [],
   "source": [
    "# Preproceso 1 para KNeighborsRegressor - GridSearch\n",
    "df = df_mes.copy()\n",
    "scaler = MinMaxScaler()\n",
    "model_ = XGBRegressor(random_state=0)#, booster='gbtree')"
   ]
  },
  {
   "cell_type": "markdown",
   "id": "6a5d8233-c8ff-4267-97a8-44e81a783aa1",
   "metadata": {
    "tags": []
   },
   "source": [
    "La combinacion de hiperparametros es mas densa en este modelo porque fue el que mejor resultados dio en cuanto a RMSE"
   ]
  },
  {
   "cell_type": "code",
   "execution_count": null,
   "id": "01208924-9cd8-44ba-95c3-33d6e5d5c43e",
   "metadata": {
    "tags": []
   },
   "outputs": [],
   "source": [
    "#param_grid = {'regressor__max_depth': [None]}\n",
    "#              'regressor__eta': [0.15, 0.1, 0.08],\n",
    "           #   'regressor__subsample': [None],\n",
    "           #   'regressor__colsample_bytree': [None]}\n",
    "param_grid = {}    "
   ]
  },
  {
   "cell_type": "code",
   "execution_count": null,
   "id": "fe143b0d-e394-4312-a1ad-35ea31aa20f9",
   "metadata": {},
   "outputs": [],
   "source": [
    "# Features and target\n",
    "X = df.drop([ordinal_ft, target], axis=1)\n",
    "y = df[target]"
   ]
  },
  {
   "cell_type": "code",
   "execution_count": null,
   "id": "2bb7dfe0-6642-44ff-aa64-2f240470cedc",
   "metadata": {},
   "outputs": [],
   "source": [
    "# Train and validation\n",
    "X_train, X_val, y_train, y_val = train_test_split(X, y, test_size=0.2, random_state=0, shuffle=False)"
   ]
  },
  {
   "cell_type": "markdown",
   "id": "e3973750-cb4b-4ae8-bc4d-e49ae388858b",
   "metadata": {},
   "source": [
    "#### Preproceso y ajuste"
   ]
  },
  {
   "cell_type": "code",
   "execution_count": null,
   "id": "57d15b82-f3f5-40c3-b347-009d338a8b1c",
   "metadata": {},
   "outputs": [],
   "source": [
    "# Preprocessing\n",
    "num_transformer = scaler\n",
    "cat_transformer = 'passthrough'\n",
    "\n",
    "num_features = [g for g in X.columns if 'client__' not in g]\n",
    "cat_features = [g for g in X.columns if 'client__' in g]\n",
    "\n",
    "preprocessor = ColumnTransformer(\n",
    "    transformers=[\n",
    "        ('num', num_transformer, num_features),\n",
    "        ('cat', cat_transformer, cat_features)])"
   ]
  },
  {
   "cell_type": "code",
   "execution_count": null,
   "id": "a8e109bc-01fc-467d-9621-ae3f2163c8a7",
   "metadata": {
    "tags": []
   },
   "outputs": [],
   "source": [
    "# Fit\n",
    "pipe = Pipeline([\n",
    "  ('preprocessor', preprocessor),\n",
    "#  ('feature_selection', SelectFromModel(ft_selector)),\n",
    "  ('regressor', model_)\n",
    "])\n",
    "\n",
    "model = GridSearchCV(pipe, param_grid, scoring='neg_mean_squared_error',cv=5, verbose=1)\n",
    "\n",
    "model.fit(X_train, y_train)\n",
    "xgb_cv = model"
   ]
  },
  {
   "cell_type": "code",
   "execution_count": null,
   "id": "f693d8c7-70c0-4851-8489-f546a75ef162",
   "metadata": {},
   "outputs": [],
   "source": [
    "model.best_params_"
   ]
  },
  {
   "cell_type": "code",
   "execution_count": null,
   "id": "243529d1-616f-4962-a5ca-eee19a1bf9ea",
   "metadata": {},
   "outputs": [],
   "source": [
    "# Predict\n",
    "y_train_pred = model.predict(X_train)\n",
    "y_valid_pred = model.predict(X_val)"
   ]
  },
  {
   "cell_type": "markdown",
   "id": "b8ff9b64-fba7-4a51-bef8-5737fd1822a0",
   "metadata": {},
   "source": [
    "#### Evaluacion de predicciones"
   ]
  },
  {
   "cell_type": "code",
   "execution_count": null,
   "id": "eb16636b-8791-410e-8d6e-b23b48a628fc",
   "metadata": {
    "tags": []
   },
   "outputs": [],
   "source": [
    "# evaluate MSE:\n",
    "train_error = mean_squared_error(y_train, y_train_pred)\n",
    "val_error = mean_squared_error(y_val, y_valid_pred)\n",
    "print(f'Train error {train_error.round(3)}, Valid error {val_error.round(3)}')  "
   ]
  },
  {
   "cell_type": "code",
   "execution_count": null,
   "id": "6e13feab-69cc-4f01-832e-4a666eacb62b",
   "metadata": {
    "tags": []
   },
   "outputs": [],
   "source": [
    "# evaluate RMSE:\n",
    "train_error = np.sqrt(mean_squared_error(y_train, y_train_pred))\n",
    "val_error = np.sqrt(mean_squared_error(y_val, y_valid_pred))\n",
    "print(f'Train error RMSE {train_error.round(3)}, Valid error RMSE {val_error.round(3)}')  "
   ]
  },
  {
   "cell_type": "code",
   "execution_count": null,
   "id": "410e2a8a-3023-4d38-8f19-bfd8c0081454",
   "metadata": {
    "tags": []
   },
   "outputs": [],
   "source": [
    "# evaluate MAE:\n",
    "train_error = mean_absolute_error(y_train, y_train_pred)\n",
    "val_error = mean_absolute_error(y_val, y_valid_pred)\n",
    "print(f'Train error MAE {train_error.round(3)}, Valid error MAE {val_error.round(3)}')  "
   ]
  },
  {
   "cell_type": "markdown",
   "id": "7e791b04-8bbc-4483-bdea-bf77b5ca06cb",
   "metadata": {
    "tags": []
   },
   "source": [
    "Visualizamos nuestra variable target (real y predicción)"
   ]
  },
  {
   "cell_type": "code",
   "execution_count": null,
   "id": "d300f36c-060c-4960-a750-8410424d62fb",
   "metadata": {},
   "outputs": [],
   "source": [
    "pd.DataFrame(y_val.values.astype(int), columns=['val_real']).describe().round(2)"
   ]
  },
  {
   "cell_type": "code",
   "execution_count": null,
   "id": "84bcf1d8-a659-437b-a08f-25c9e9831047",
   "metadata": {},
   "outputs": [],
   "source": [
    "pd.DataFrame(y_valid_pred, columns=['val_pred']).describe().round(2)"
   ]
  },
  {
   "cell_type": "markdown",
   "id": "9e807604-ba85-4796-a557-83d052da6429",
   "metadata": {},
   "source": [
    "## VotingRegressor"
   ]
  },
  {
   "cell_type": "code",
   "execution_count": null,
   "id": "277879da-8046-4334-8d7a-151bbc8fa1fd",
   "metadata": {},
   "outputs": [],
   "source": [
    "# Preproceso 1 para GaussianProcessRegressor - GridSearch\n",
    "df = df_mes.copy()\n",
    "scaler = MinMaxScaler()\n",
    "ft_selector = RandomForestRegressor(random_state=0)\n",
    "model_ = VotingRegressor([#('svr', svr['regressor']),\n",
    "                      #    ('sgd', sgd['regressor']),\n",
    "                          ('knn', knn['regressor']),\n",
    "                          ('gpr', gpr['regressor']),\n",
    "                          ('xgb', xgb['regressor']),\n",
    "                          ('knn_cv', knn_cv.best_estimator_['regressor']),\n",
    "                          ('gpr_cv', gpr_cv.best_estimator_['regressor']),\n",
    "                          ('xgb_cv', xgb_cv.best_estimator_['regressor'])], verbose=True)"
   ]
  },
  {
   "cell_type": "code",
   "execution_count": null,
   "id": "be32edfb-edd7-4927-b74a-ef4dbbf9c559",
   "metadata": {},
   "outputs": [],
   "source": [
    "# Features and target\n",
    "X = df.drop([ordinal_ft, target], axis=1)\n",
    "y = df[target]"
   ]
  },
  {
   "cell_type": "code",
   "execution_count": null,
   "id": "b8a1e67f-0378-424f-9090-4f36e7472b18",
   "metadata": {},
   "outputs": [],
   "source": [
    "# Train and validation\n",
    "X_train, X_val, y_train, y_val = train_test_split(X, y, test_size=0.3, random_state=0, shuffle=False)"
   ]
  },
  {
   "cell_type": "markdown",
   "id": "d0ee4d68-b6f1-4dc2-88fa-2f03b053a6fe",
   "metadata": {},
   "source": [
    "#### Preproceso y ajuste"
   ]
  },
  {
   "cell_type": "code",
   "execution_count": null,
   "id": "5c42d127-7493-4b27-b641-7a3c814ac007",
   "metadata": {},
   "outputs": [],
   "source": [
    "# Preprocessing\n",
    "num_transformer = scaler\n",
    "cat_transformer = 'passthrough'\n",
    "\n",
    "num_features = [g for g in X.columns if 'client' not in g]\n",
    "cat_features = [g for g in X.columns if 'client' in g]\n",
    "\n",
    "preprocessor = ColumnTransformer(\n",
    "    transformers=[\n",
    "        ('num', num_transformer, num_features),\n",
    "        ('cat', cat_transformer, cat_features)])"
   ]
  },
  {
   "cell_type": "code",
   "execution_count": null,
   "id": "e6309551-ecbd-45f4-8eef-f4a4c4095924",
   "metadata": {
    "tags": []
   },
   "outputs": [],
   "source": [
    "# Fit\n",
    "model = Pipeline([\n",
    "  ('preprocessor', preprocessor),\n",
    "#  ('feature_selection', SelectFromModel(ft_selector)),\n",
    "  ('regressor', model_)\n",
    "])\n",
    "\n",
    "model.fit(X_train, y_train)"
   ]
  },
  {
   "cell_type": "markdown",
   "id": "33a36482-dc58-45b2-b972-4b3cc3319fa5",
   "metadata": {},
   "source": [
    "#### Evaluacion de predicciones"
   ]
  },
  {
   "cell_type": "code",
   "execution_count": null,
   "id": "96f00b97-b7ee-496c-b622-e9080a4dc73c",
   "metadata": {},
   "outputs": [],
   "source": [
    "# Predict\n",
    "y_train_pred = model.predict(X_train)\n",
    "y_valid_pred = model.predict(X_val)"
   ]
  },
  {
   "cell_type": "code",
   "execution_count": null,
   "id": "400f9932-fa5f-4867-8fcd-cc1d1fa7b717",
   "metadata": {
    "tags": []
   },
   "outputs": [],
   "source": [
    "# evaluate MSE:\n",
    "train_error = mean_squared_error(y_train, y_train_pred)\n",
    "val_error = mean_squared_error(y_val, y_valid_pred)\n",
    "print(f'Train error {train_error.round(3)}, Valid error {val_error.round(3)}')  "
   ]
  },
  {
   "cell_type": "code",
   "execution_count": null,
   "id": "c7d5e88a-e147-4e1a-9864-94c726cd932a",
   "metadata": {
    "tags": []
   },
   "outputs": [],
   "source": [
    "# evaluate RMSE:\n",
    "train_error = np.sqrt(mean_squared_error(y_train, y_train_pred))\n",
    "val_error = np.sqrt(mean_squared_error(y_val, y_valid_pred))\n",
    "print(f'Train error RMSE {train_error.round(3)}, Valid error RMSE {val_error.round(3)}')  "
   ]
  },
  {
   "cell_type": "code",
   "execution_count": null,
   "id": "93d87e8d-d200-4659-a641-e3a742eb8049",
   "metadata": {
    "tags": []
   },
   "outputs": [],
   "source": [
    "# evaluate MAE:\n",
    "train_error = mean_absolute_error(y_train, y_train_pred)\n",
    "val_error = mean_absolute_error(y_val, y_valid_pred)\n",
    "print(f'Train error MAE {train_error.round(3)}, Valid error MAE {val_error.round(3)}')  "
   ]
  },
  {
   "cell_type": "markdown",
   "id": "6b75da91-871a-4910-9e9e-17f3005d8242",
   "metadata": {
    "tags": []
   },
   "source": [
    "Visualizamos nuestra variable target (real y predicción)"
   ]
  },
  {
   "cell_type": "code",
   "execution_count": null,
   "id": "bcecd007-7655-4d6c-8991-c70b026b55bf",
   "metadata": {},
   "outputs": [],
   "source": [
    "pd.DataFrame(y_val.values.astype(int), columns=['val_real']).describe().round(2)"
   ]
  },
  {
   "cell_type": "code",
   "execution_count": null,
   "id": "df2d4fb0-0a97-4ff0-95af-264f5b2ae016",
   "metadata": {},
   "outputs": [],
   "source": [
    "pd.DataFrame(y_valid_pred, columns=['val_pred']).describe().round(2)"
   ]
  },
  {
   "cell_type": "markdown",
   "id": "3dbff1c8-a168-40f1-9e57-136315efbbca",
   "metadata": {},
   "source": [
    "# Modelos de Clasificacion - Predecir aumento de gasto mensual"
   ]
  },
  {
   "cell_type": "markdown",
   "id": "c19ee0f8-743e-404b-95ec-7cec103f37a6",
   "metadata": {},
   "source": [
    "## Preprocesamiento"
   ]
  },
  {
   "cell_type": "markdown",
   "id": "edf32da5-5eae-415a-b8eb-e138fc0a6dec",
   "metadata": {},
   "source": [
    "### 1.2 Creación de variable categórica "
   ]
  },
  {
   "cell_type": "markdown",
   "id": "0c5084f3-1725-42e8-b0aa-51ee1e695ae6",
   "metadata": {},
   "source": [
    "Creamos una columna que indica si un cliente ha aumentado su consumo personal mes a mes. El mes inicial para cada cliente se inicializa en 0.\n",
    "\n",
    "Cabe destacar que a la hora de agrupar los movimientos en cada mes, se considera la fecha de cierre de la tarjeta, por lo cual cada mes comprende desde el dia 25 del mes anterior hasta el dia 24 del corriente, inclusive. "
   ]
  },
  {
   "cell_type": "code",
   "execution_count": null,
   "id": "c8a617f0-8254-4edf-9e3f-bf81ea682b1c",
   "metadata": {},
   "outputs": [],
   "source": [
    "df_mes"
   ]
  },
  {
   "cell_type": "code",
   "execution_count": null,
   "id": "f959c18c-80f8-4eb4-be34-1ddbd4475ed5",
   "metadata": {},
   "outputs": [],
   "source": [
    "# Agregación de la nueva columna seteada en 0.\n",
    "# En la iteración, se le cambia el valor a 1 en caso de que cumpla con las condiciones preestablecidas.\n",
    "\n",
    "df_mes['fg_aumentado'] = 0\n",
    "for i in range(1,len(df_mes)):\n",
    "    if (df_mes.iloc[i]['dni_titular_movimiento'] == df_mes.iloc[i-1]['dni_titular_movimiento']) \\\n",
    "        & (df_mes.iloc[i]['anio_mes_cupon'] > df_mes.iloc[i-1]['anio_mes_cupon']):\n",
    "            var_mes = df_mes.iloc[i]['monto_ajustado'] - df_mes.iloc[i-1]['monto_ajustado']\n",
    "            if (var_mes > (abs(df_mes.iloc[i-1]['monto_ajustado'])*0.1)):\n",
    "                df_mes.loc[i,'fg_aumentado'] = 1"
   ]
  },
  {
   "cell_type": "code",
   "execution_count": null,
   "id": "2d1f4d37-b23c-4a8c-8a7b-5a7affe08aa4",
   "metadata": {},
   "outputs": [],
   "source": [
    "df_mes.head(20)"
   ]
  },
  {
   "cell_type": "code",
   "execution_count": null,
   "id": "83d0d993-bf48-44ea-b235-1e1726674150",
   "metadata": {
    "tags": []
   },
   "outputs": [],
   "source": [
    "df = df_mes.copy() # Usamos siempre df_mes para clasificar"
   ]
  },
  {
   "cell_type": "markdown",
   "id": "950a81a5-ea16-47a8-98f2-770ca138b0f8",
   "metadata": {
    "tags": []
   },
   "source": [
    "## RandomForestClassifier - Default"
   ]
  },
  {
   "cell_type": "code",
   "execution_count": null,
   "id": "0542cf84-4079-4f67-9521-076a4653172d",
   "metadata": {},
   "outputs": [],
   "source": [
    "# Preproceso 1 para SGDRegressor - Default\n",
    "scaler = MinMaxScaler()\n",
    "ft_selector = RandomForestClassifier(random_state=0)\n",
    "model_ = RandomForestClassifier(random_state= 0, max_depth=20, min_samples_split=20)"
   ]
  },
  {
   "cell_type": "code",
   "execution_count": null,
   "id": "d409d6f5-5885-4457-85b9-a5834621fc82",
   "metadata": {},
   "outputs": [],
   "source": [
    "# Features and target\n",
    "X = df.drop([ordinal_ft, target_c], axis=1)\n",
    "y = df[target_c]"
   ]
  },
  {
   "cell_type": "code",
   "execution_count": null,
   "id": "d6009e55-6b48-4ebb-84c7-11b248767c7a",
   "metadata": {},
   "outputs": [],
   "source": [
    "# Train and validation\n",
    "X_train, X_val, y_train, y_val = train_test_split(X, y, test_size=0.30, random_state=0, shuffle=False)"
   ]
  },
  {
   "cell_type": "markdown",
   "id": "b2e8f85d-0c80-48ed-831c-0f86492b7945",
   "metadata": {},
   "source": [
    "#### Preproceso y ajuste"
   ]
  },
  {
   "cell_type": "code",
   "execution_count": null,
   "id": "d46a3504-93c4-49a6-9706-b3f6ca215af6",
   "metadata": {},
   "outputs": [],
   "source": [
    "# Preprocessing\n",
    "num_transformer = scaler\n",
    "cat_transformer = 'passthrough'\n",
    "\n",
    "num_features = [g for g in X.columns if 'client' not in g]\n",
    "cat_features = [g for g in X.columns if 'client' in g]\n",
    "\n",
    "preprocessor = ColumnTransformer(\n",
    "    transformers=[\n",
    "        ('num', num_transformer, num_features),\n",
    "        ('cat', cat_transformer, cat_features)])"
   ]
  },
  {
   "cell_type": "code",
   "execution_count": null,
   "id": "c24f63ca-13e7-4d60-b5d6-e7a5f429e989",
   "metadata": {},
   "outputs": [],
   "source": [
    "# Fit\n",
    "model = Pipeline([\n",
    "  ('preprocessor', preprocessor),\n",
    "  ('feature_selection', SelectFromModel(ft_selector)),\n",
    "  ('cla', model_)\n",
    "])\n",
    "\n",
    "model.fit(X_train, y_train)\n",
    "rfc = model"
   ]
  },
  {
   "cell_type": "code",
   "execution_count": null,
   "id": "fa7ea5f2-8252-4072-9891-a4369352daad",
   "metadata": {},
   "outputs": [],
   "source": [
    "# Predict\n",
    "y_train_pred = model.predict(X_train)\n",
    "y_valid_pred = model.predict(X_val)"
   ]
  },
  {
   "cell_type": "code",
   "execution_count": null,
   "id": "701d60a2-7c90-4f0a-8038-2cb864896694",
   "metadata": {},
   "outputs": [],
   "source": [
    "model.get_params()"
   ]
  },
  {
   "cell_type": "markdown",
   "id": "8df91cfd-4aa6-4dc4-98f3-6fbbeb029449",
   "metadata": {},
   "source": [
    "#### Evaluacion de predicciones"
   ]
  },
  {
   "cell_type": "code",
   "execution_count": null,
   "id": "d8ccffaa-3a99-494f-a328-542fb82e4718",
   "metadata": {
    "tags": []
   },
   "outputs": [],
   "source": [
    "# Evaluate train\n",
    "text = \"RandomForestClassifier - Reporte de clasificación del conjunto de train\" \n",
    "print(len(text)*\"=\")\n",
    "print(text)\n",
    "print(len(text)*\"=\")\n",
    "print(classification_report(y_train, y_train_pred))"
   ]
  },
  {
   "cell_type": "code",
   "execution_count": null,
   "id": "42061fe7-7dae-4edb-bb3e-0ea426c6df3a",
   "metadata": {
    "tags": []
   },
   "outputs": [],
   "source": [
    "# Evaluate val\n",
    "text = \"RandomForestClassifier - Reporte de clasificación del conjunto de validacion\" \n",
    "print(len(text)*\"=\")\n",
    "print(text)\n",
    "print(len(text)*\"=\")\n",
    "print(classification_report(y_val, y_valid_pred))"
   ]
  },
  {
   "cell_type": "code",
   "execution_count": null,
   "id": "a092c262-e453-4a9f-99b9-d77e1e758789",
   "metadata": {},
   "outputs": [],
   "source": [
    "plt.figure()\n",
    "plot_confusion_matrix(estimator= model, X=X_train, y_true=y_train,\n",
    "                      normalize='true', cmap='Blues').ax_ \\\n",
    "                      .set_title('Random Forest - Matriz de confusión del conjunto de train sin normalizar\\n')"
   ]
  },
  {
   "cell_type": "code",
   "execution_count": null,
   "id": "fd778d1f-86fd-4033-a46b-68aab50e89bf",
   "metadata": {},
   "outputs": [],
   "source": [
    "plt.figure()\n",
    "plot_confusion_matrix(estimator= model, X=X_val, y_true=y_val,\n",
    "                      normalize='true', cmap='Blues').ax_ \\\n",
    "                      .set_title('Random Forest - Matriz de confusión del conjunto de validation sin normalizar\\n')"
   ]
  },
  {
   "cell_type": "markdown",
   "id": "2d12cb5d-fa48-474f-b767-115d9498c240",
   "metadata": {
    "tags": []
   },
   "source": [
    "## RandomForestClassifier - Grid Search"
   ]
  },
  {
   "cell_type": "code",
   "execution_count": null,
   "id": "a5ebea9e-3929-4211-bb9d-0b94746d6eed",
   "metadata": {},
   "outputs": [],
   "source": [
    "# Preproceso 1 para SGDRegressor - Default\n",
    "scaler = MinMaxScaler()\n",
    "#ft_selector = LinearSVR(random_state=0)\n",
    "model_ = RandomForestClassifier(random_state= 0)"
   ]
  },
  {
   "cell_type": "code",
   "execution_count": null,
   "id": "cfe9054b-5055-46ab-ae0b-cb8b5b688d8c",
   "metadata": {
    "tags": []
   },
   "outputs": [],
   "source": [
    "param_grid = {'cla__n_estimators' : [75, 100],\n",
    "                'cla__criterion':['gini', 'entropy'],\n",
    "                'cla__max_depth': [20, 25],\n",
    "                'cla__min_samples_split': [20, 25],\n",
    "                'cla__min_samples_leaf':[5, 6, 8],\n",
    "                'cla__max_features':[0.5, 0.7, 0.8]}"
   ]
  },
  {
   "cell_type": "code",
   "execution_count": null,
   "id": "0a2f02e7-56b0-4293-8dfd-f8e463da073f",
   "metadata": {},
   "outputs": [],
   "source": [
    "# Features and target\n",
    "X = df.drop([ordinal_ft, target_c], axis=1)\n",
    "y = df[target_c]"
   ]
  },
  {
   "cell_type": "code",
   "execution_count": null,
   "id": "f12be47f-9b6a-492a-8183-6deaabc8fa5e",
   "metadata": {},
   "outputs": [],
   "source": [
    "# Train and validation\n",
    "X_train, X_val, y_train, y_val = train_test_split(X, y, test_size=0.30, random_state=0, shuffle=False)"
   ]
  },
  {
   "cell_type": "markdown",
   "id": "81e40421-b3fc-4c9a-b4c2-6f99e2b23abe",
   "metadata": {},
   "source": [
    "#### Preproceso y ajuste"
   ]
  },
  {
   "cell_type": "code",
   "execution_count": null,
   "id": "c8e2348e-8b8b-42f1-905f-a044ec753aa6",
   "metadata": {},
   "outputs": [],
   "source": [
    "# Preprocessing\n",
    "num_transformer = scaler\n",
    "cat_transformer = 'passthrough'\n",
    "\n",
    "num_features = [g for g in X.columns if 'client' not in g]\n",
    "cat_features = [g for g in X.columns if 'client' in g]\n",
    "\n",
    "preprocessor = ColumnTransformer(\n",
    "    transformers=[\n",
    "        ('num', num_transformer, num_features),\n",
    "        ('cat', cat_transformer, cat_features)])"
   ]
  },
  {
   "cell_type": "code",
   "execution_count": null,
   "id": "a42f3d01-906a-4fd5-8cbf-0d365c16007f",
   "metadata": {
    "tags": []
   },
   "outputs": [],
   "source": [
    "# Fit\n",
    "pipe = Pipeline([\n",
    "  ('preprocessor', preprocessor),\n",
    "#  ('feature_selection', SelectFromModel(ft_selector)),\n",
    "  ('cla', model_)\n",
    "])\n",
    "\n",
    "model = RandomizedSearchCV(pipe, param_grid, scoring='f1', cv=5, verbose=1)\n",
    "\n",
    "model.fit(X_train, y_train)\n",
    "rfc_cv = model"
   ]
  },
  {
   "cell_type": "code",
   "execution_count": null,
   "id": "2c4354d1-d00e-433e-8b50-018d7b5f6612",
   "metadata": {},
   "outputs": [],
   "source": [
    "model.best_params_"
   ]
  },
  {
   "cell_type": "code",
   "execution_count": null,
   "id": "6ad5bf66-2197-494a-aba0-c1de202c744a",
   "metadata": {
    "tags": []
   },
   "outputs": [],
   "source": [
    "# Predict\n",
    "y_train_pred = model.predict(X_train)\n",
    "y_val_pred = model.predict(X_val)"
   ]
  },
  {
   "cell_type": "markdown",
   "id": "40c9248d-1ecb-4fe5-8ab6-bb7ca5c18035",
   "metadata": {},
   "source": [
    "#### Evaluacion de predicciones"
   ]
  },
  {
   "cell_type": "code",
   "execution_count": null,
   "id": "9b7707db-a1da-46fd-b93d-1a75c243242d",
   "metadata": {
    "tags": []
   },
   "outputs": [],
   "source": [
    "# Evaluate train\n",
    "text = \"RandomForestClassifier - Reporte de clasificación del conjunto de train\" \n",
    "print(len(text)*\"=\")\n",
    "print(text)\n",
    "print(len(text)*\"=\")\n",
    "print(classification_report(y_train, y_train_pred))"
   ]
  },
  {
   "cell_type": "code",
   "execution_count": null,
   "id": "f6510f90-86e7-4fab-91f2-e62ec8a767f3",
   "metadata": {
    "tags": []
   },
   "outputs": [],
   "source": [
    "# Evaluate val\n",
    "text = \"RandomForestClassifier - Reporte de clasificación del conjunto de validacion\" \n",
    "print(len(text)*\"=\")\n",
    "print(text)\n",
    "print(len(text)*\"=\")\n",
    "print(classification_report(y_val, y_valid_pred))"
   ]
  },
  {
   "cell_type": "code",
   "execution_count": null,
   "id": "5a907d37-53b2-4a62-9b1e-281e59e86734",
   "metadata": {},
   "outputs": [],
   "source": [
    "plt.figure()\n",
    "plot_confusion_matrix(estimator= model, X=X_train, y_true=y_train,\n",
    "                      normalize='true', cmap='Blues').ax_ \\\n",
    "                      .set_title('Random Forest - Matriz de confusión del conjunto de train sin normalizar\\n')"
   ]
  },
  {
   "cell_type": "code",
   "execution_count": null,
   "id": "0fd6b2d3-2345-49f3-8b4a-de59b41a8e73",
   "metadata": {},
   "outputs": [],
   "source": [
    "plt.figure()\n",
    "plot_confusion_matrix(estimator= model, X=X_val, y_true=y_val,\n",
    "                      normalize='true', cmap='Blues').ax_ \\\n",
    "                      .set_title('Random Forest - Matriz de confusión del conjunto de validation sin normalizar\\n')"
   ]
  },
  {
   "cell_type": "markdown",
   "id": "9afa31d8-f02f-40f9-9fec-f494bfddc88a",
   "metadata": {},
   "source": [
    "## XGBoost - Default"
   ]
  },
  {
   "cell_type": "code",
   "execution_count": null,
   "id": "fa2aa235-98de-4c9d-ba74-4c02778611d2",
   "metadata": {},
   "outputs": [],
   "source": [
    "# Preproceso 1 para XGBClassifier - Default\n",
    "scaler = MaxAbsScaler()\n",
    "ft_selector = LinearSVR(random_state=0)\n",
    "model_ = XGBClassifier(random_state= 0)"
   ]
  },
  {
   "cell_type": "code",
   "execution_count": null,
   "id": "22c72805-ff6b-4d0f-a530-748a080b9ade",
   "metadata": {},
   "outputs": [],
   "source": [
    "# Features and target\n",
    "X = df.drop([ordinal_ft, target_c], axis=1)\n",
    "y = df[target_c]"
   ]
  },
  {
   "cell_type": "code",
   "execution_count": null,
   "id": "e03b453c-7408-4c54-9919-bb2e7359c04d",
   "metadata": {},
   "outputs": [],
   "source": [
    "# Train and validation\n",
    "X_train, X_val, y_train, y_val = train_test_split(X, y, test_size=0.30, random_state=0, shuffle=False)"
   ]
  },
  {
   "cell_type": "markdown",
   "id": "74667400-afd0-4ab0-ba23-6954c3aa0a38",
   "metadata": {},
   "source": [
    "#### Preproceso y ajuste"
   ]
  },
  {
   "cell_type": "code",
   "execution_count": null,
   "id": "b3099f40-1e24-4b0a-a27b-aefdfb303bac",
   "metadata": {},
   "outputs": [],
   "source": [
    "# Preprocessing\n",
    "num_transformer = scaler\n",
    "cat_transformer = 'passthrough'\n",
    "\n",
    "num_features = [g for g in X.columns if 'client' not in g]\n",
    "cat_features = [g for g in X.columns if 'client' in g]\n",
    "\n",
    "preprocessor = ColumnTransformer(\n",
    "    transformers=[\n",
    "        ('num', num_transformer, num_features),\n",
    "        ('cat', cat_transformer, cat_features)])"
   ]
  },
  {
   "cell_type": "code",
   "execution_count": null,
   "id": "8bba2b4c-9c07-44e1-a8a8-9869c0ae2aeb",
   "metadata": {},
   "outputs": [],
   "source": [
    "# Fit\n",
    "model = Pipeline([\n",
    "  ('preprocessor', preprocessor),\n",
    "  ('feature_selection', SelectFromModel(ft_selector)),\n",
    "  ('cla', model_)\n",
    "])\n",
    "\n",
    "model.fit(X_train, y_train)\n",
    "xgbc = model"
   ]
  },
  {
   "cell_type": "code",
   "execution_count": null,
   "id": "9466da76-5af4-4c81-85f7-d3a8b1f4d2a1",
   "metadata": {},
   "outputs": [],
   "source": [
    "# Predict\n",
    "y_train_pred = model.predict(X_train)\n",
    "y_valid_pred = model.predict(X_val)"
   ]
  },
  {
   "cell_type": "markdown",
   "id": "fe9caa03-dcb1-4d20-92b2-52d3337ec5ae",
   "metadata": {},
   "source": [
    "#### Evaluacion de predicciones"
   ]
  },
  {
   "cell_type": "code",
   "execution_count": null,
   "id": "2f65c88c-c70f-400c-a41e-290297891a9f",
   "metadata": {
    "tags": []
   },
   "outputs": [],
   "source": [
    "# Evaluate train\n",
    "text = \"RandomForestClassifier - Reporte de clasificación del conjunto de train\" \n",
    "print(len(text)*\"=\")\n",
    "print(text)\n",
    "print(len(text)*\"=\")\n",
    "print(classification_report(y_train, y_train_pred))"
   ]
  },
  {
   "cell_type": "code",
   "execution_count": null,
   "id": "2c9c5844-23a2-4f07-be8b-79a4d6ce4cfa",
   "metadata": {
    "tags": []
   },
   "outputs": [],
   "source": [
    "# Evaluate val\n",
    "text = \"RandomForestClassifier - Reporte de clasificación del conjunto de validacion\" \n",
    "print(len(text)*\"=\")\n",
    "print(text)\n",
    "print(len(text)*\"=\")\n",
    "print(classification_report(y_val, y_valid_pred))"
   ]
  },
  {
   "cell_type": "code",
   "execution_count": null,
   "id": "e1453d92-c194-4e6c-a5f1-412bee7f366e",
   "metadata": {},
   "outputs": [],
   "source": [
    "plt.figure()\n",
    "plot_confusion_matrix(estimator= model, X=X_train, y_true=y_train,\n",
    "                      normalize='true', cmap='Blues').ax_ \\\n",
    "                      .set_title('Random Forest - Matriz de confusión del conjunto de train sin normalizar\\n')"
   ]
  },
  {
   "cell_type": "code",
   "execution_count": null,
   "id": "50b6b6d4-20e1-47c5-b44a-b491baeaad95",
   "metadata": {},
   "outputs": [],
   "source": [
    "plt.figure()\n",
    "plot_confusion_matrix(estimator= model, X=X_val, y_true=y_val,\n",
    "                      normalize='true', cmap='Blues').ax_ \\\n",
    "                      .set_title('Random Forest - Matriz de confusión del conjunto de validation sin normalizar\\n')"
   ]
  },
  {
   "cell_type": "markdown",
   "id": "cfdd9c7d-9c65-418a-b24f-52ed2eb81202",
   "metadata": {
    "tags": []
   },
   "source": [
    "## XGBoost - Grid Search"
   ]
  },
  {
   "cell_type": "code",
   "execution_count": null,
   "id": "b866d7ac-fdc6-4247-a611-63757fdd8081",
   "metadata": {},
   "outputs": [],
   "source": [
    "# Preproceso 1 para SGDRegressor - Default\n",
    "scaler = MaxAbsScaler()\n",
    "#ft_selector = LinearSVR(random_state=0)\n",
    "model_ = XGBClassifier(random_state= 0, use_label_encoder=False)"
   ]
  },
  {
   "cell_type": "code",
   "execution_count": null,
   "id": "ba3a164b-8f0b-480b-a0e1-f259694c9e1f",
   "metadata": {
    "tags": []
   },
   "outputs": [],
   "source": [
    "param_grid = {\n",
    "    'cla__alpha' : [0.01, 0.42, 0.30],\n",
    "    'cla__max_depth': [8, 16, 32],\n",
    "    'cla__n_estimators': [5, 10, 15],\n",
    "    'cla__booster':['gbtree', 'dart'],\n",
    "    'cla__eval_metric': ['mlogloss']\n",
    "}"
   ]
  },
  {
   "cell_type": "code",
   "execution_count": null,
   "id": "9f12f87d-3373-457e-a86b-b8927bdefdad",
   "metadata": {},
   "outputs": [],
   "source": [
    "# Features and target\n",
    "X = df.drop([ordinal_ft, target_c], axis=1)\n",
    "y = df[target_c]"
   ]
  },
  {
   "cell_type": "code",
   "execution_count": null,
   "id": "f785c4c0-b7a4-4e39-974a-77083f6a40ff",
   "metadata": {},
   "outputs": [],
   "source": [
    "# Train and validation\n",
    "X_train, X_val, y_train, y_val = train_test_split(X, y, test_size=0.30, random_state=0, shuffle=False)"
   ]
  },
  {
   "cell_type": "markdown",
   "id": "2250286c-c7d6-4347-b1c9-df29553e3776",
   "metadata": {},
   "source": [
    "#### Preproceso y ajuste"
   ]
  },
  {
   "cell_type": "code",
   "execution_count": null,
   "id": "1483a354-40e6-4fa2-97a0-457dde6c5a59",
   "metadata": {},
   "outputs": [],
   "source": [
    "# Preprocessing\n",
    "num_transformer = scaler\n",
    "cat_transformer = 'passthrough'\n",
    "\n",
    "num_features = [g for g in X.columns if 'client' not in g]\n",
    "cat_features = [g for g in X.columns if 'client' in g]\n",
    "\n",
    "preprocessor = ColumnTransformer(\n",
    "    transformers=[\n",
    "        ('num', num_transformer, num_features),\n",
    "        ('cat', cat_transformer, cat_features)])"
   ]
  },
  {
   "cell_type": "code",
   "execution_count": null,
   "id": "9962ff0b-28e8-4770-b839-70f3f86feacd",
   "metadata": {
    "tags": []
   },
   "outputs": [],
   "source": [
    "# Fit\n",
    "pipe = Pipeline([\n",
    "  ('preprocessor', preprocessor),\n",
    "#  ('feature_selection', SelectFromModel(ft_selector)),\n",
    "  ('cla', model_)\n",
    "])\n",
    "\n",
    "model = GridSearchCV(pipe, param_grid, scoring='f1', cv=5, verbose=1)\n",
    "\n",
    "model.fit(X_train, y_train)\n",
    "xgbc_cv = model"
   ]
  },
  {
   "cell_type": "code",
   "execution_count": null,
   "id": "31a3adfa-3c2d-4b64-b2af-5a9ac5866257",
   "metadata": {},
   "outputs": [],
   "source": [
    "model.best_params_"
   ]
  },
  {
   "cell_type": "code",
   "execution_count": null,
   "id": "e2651b58-9119-488b-9aa1-0e6d13a1f180",
   "metadata": {
    "tags": []
   },
   "outputs": [],
   "source": [
    "# Predict\n",
    "y_train_pred = model.predict(X_train)\n",
    "y_val_pred = model.predict(X_val)"
   ]
  },
  {
   "cell_type": "markdown",
   "id": "015bb077-aeaf-49ac-bb75-27a837b57221",
   "metadata": {},
   "source": [
    "#### Evaluacion de predicciones"
   ]
  },
  {
   "cell_type": "code",
   "execution_count": null,
   "id": "126eef1e-b76a-4920-b070-4e638e5d59de",
   "metadata": {
    "tags": []
   },
   "outputs": [],
   "source": [
    "# Evaluate train\n",
    "text = \"RandomForestClassifier - Reporte de clasificación del conjunto de train\" \n",
    "print(len(text)*\"=\")\n",
    "print(text)\n",
    "print(len(text)*\"=\")\n",
    "print(classification_report(y_train, y_train_pred))"
   ]
  },
  {
   "cell_type": "code",
   "execution_count": null,
   "id": "b25220e5-3b3b-4b06-a05d-fef3560239d1",
   "metadata": {
    "tags": []
   },
   "outputs": [],
   "source": [
    "# Evaluate val\n",
    "text = \"RandomForestClassifier - Reporte de clasificación del conjunto de validacion\" \n",
    "print(len(text)*\"=\")\n",
    "print(text)\n",
    "print(len(text)*\"=\")\n",
    "print(classification_report(y_val, y_valid_pred))"
   ]
  },
  {
   "cell_type": "code",
   "execution_count": null,
   "id": "697a5fa5-d603-4910-8564-2d67fc36454f",
   "metadata": {},
   "outputs": [],
   "source": [
    "plt.figure()\n",
    "plot_confusion_matrix(estimator= model, X=X_train, y_true=y_train,\n",
    "                      normalize='true', cmap='Blues').ax_ \\\n",
    "                      .set_title('Random Forest - Matriz de confusión del conjunto de train sin normalizar\\n')"
   ]
  },
  {
   "cell_type": "code",
   "execution_count": null,
   "id": "51bfdf35-f7ce-43d2-be53-0e80eb7541ad",
   "metadata": {},
   "outputs": [],
   "source": [
    "plt.figure()\n",
    "plot_confusion_matrix(estimator= model, X=X_val, y_true=y_val,\n",
    "                      normalize='true', cmap='Blues').ax_ \\\n",
    "                      .set_title('Random Forest - Matriz de confusión del conjunto de validation sin normalizar\\n')"
   ]
  },
  {
   "cell_type": "markdown",
   "id": "72e05a26-94c1-4128-a56d-eacad0caf4c4",
   "metadata": {},
   "source": [
    "## 5. Series Temporales (Optativo)\n",
    "* Hacer un forecasting usando Exponential Smoothing\n",
    "\n",
    "En el modelo de Exponential Smoothing, las predicciones son promedios pesados de observaciones pasadas, donde los pesos decaen exponencialmente cuando nos movemos al pasado:\n",
    "$$\n",
    "\\hat{y}_{t + 1} = l_t \\\\\n",
    "l_t = \\alpha y_t + (1 - \\alpha) l_{t - 1}\n",
    "$$\n",
    "\n",
    "Donde:\n",
    "\n",
    "Asumimos que:\n",
    "* $l_0$ está dado\n",
    "* 0 $< \\alpha <$ 1\n",
    "\n",
    "El método se suele usar cuando los datos no tienen patrones de tendencia ni estacional claros.\n"
   ]
  },
  {
   "cell_type": "code",
   "execution_count": null,
   "id": "bc4df3c6-2ea9-4ea8-b59d-e677dc9a2a5b",
   "metadata": {},
   "outputs": [],
   "source": [
    "print(statsmodels.__version__)\n",
    "warnings.filterwarnings('ignore')\n",
    "%matplotlib inline"
   ]
  },
  {
   "cell_type": "code",
   "execution_count": null,
   "id": "8b2f798a-4692-464d-83d0-7c486fd7b7eb",
   "metadata": {},
   "outputs": [],
   "source": [
    "sns.set_style('darkgrid')\n",
    "sns.set(rc={'figure.figsize':(15, 10)})"
   ]
  },
  {
   "cell_type": "code",
   "execution_count": null,
   "id": "9ba32c9e-c862-4a2a-b65b-56b6285aee1d",
   "metadata": {},
   "outputs": [],
   "source": [
    "df_encode.columns"
   ]
  },
  {
   "cell_type": "code",
   "execution_count": null,
   "id": "95c88ae0-157c-47a9-8fbd-9f408dd064c6",
   "metadata": {},
   "outputs": [],
   "source": [
    "sf1 = df_encode[['fecha_cupon_movimiento', 'monto_ajustado', 'trans__x0_PL']]\n",
    "sf2 = df_encode[['fecha_cupon_movimiento', 'monto_ajustado', 'trans__x0_VI']]"
   ]
  },
  {
   "cell_type": "code",
   "execution_count": null,
   "id": "aaf9b9e7-39c5-4452-b0e5-d0f3181158da",
   "metadata": {},
   "outputs": [],
   "source": [
    "# Agrupa por fecha todos los montos para Plan Largo\n",
    "cols = ['fecha_cupon_movimiento', 'monto']\n",
    "sf = sf[cols].groupby(by=['fecha_cupon_movimiento'], dropna=True).sum()"
   ]
  },
  {
   "cell_type": "code",
   "execution_count": null,
   "id": "07f802bc-b7af-4479-bee2-14e3e38d6bf1",
   "metadata": {},
   "outputs": [],
   "source": [
    "sf.reset_index(inplace=True)\n",
    "sf"
   ]
  },
  {
   "cell_type": "code",
   "execution_count": null,
   "id": "e7b9af05-feed-4e0c-8ca6-d7ed89a3d305",
   "metadata": {},
   "outputs": [],
   "source": [
    "print(sf['fecha_cupon_movimiento'].max())\n",
    "print(sf['fecha_cupon_movimiento'].min())"
   ]
  },
  {
   "cell_type": "code",
   "execution_count": null,
   "id": "9b06a893-1120-47df-b632-d57ff0620e30",
   "metadata": {},
   "outputs": [],
   "source": [
    "sf.set_index('fecha_cupon_movimiento', inplace=True)\n",
    "sf"
   ]
  },
  {
   "cell_type": "markdown",
   "id": "1f973a15-a5a4-4930-91c6-ac41da147617",
   "metadata": {},
   "source": [
    "En series temporales se usa Series en lugar de Dataframe"
   ]
  },
  {
   "cell_type": "code",
   "execution_count": null,
   "id": "23398235-77c4-413e-95a0-c004fea0a3df",
   "metadata": {},
   "outputs": [],
   "source": [
    "ss = sf['monto_compra_movimiento']\n",
    "ss"
   ]
  },
  {
   "cell_type": "code",
   "execution_count": null,
   "id": "b7f29fd9-bac2-4c31-9bf3-8d517f01f969",
   "metadata": {},
   "outputs": [],
   "source": [
    "fig = plt.figure(figsize=(18, 6))\n",
    "\n",
    "ax = plt.subplot(1, 1, 1)\n",
    "ss.plot(color='dodgerblue')\n",
    "ax.set_xlabel('Dia')\n",
    "ax.set_ylabel('monto_compra_movimiento')\n",
    "ax.set_title('Comportamiento monto_compra_movimiento para PL')\n",
    "\n",
    "plt.tight_layout()\n",
    "plt.show()"
   ]
  },
  {
   "cell_type": "code",
   "execution_count": null,
   "id": "05d080f8-1cd3-40c4-bc5e-2986398da2db",
   "metadata": {},
   "outputs": [],
   "source": [
    "y_test = sf.monto_compra_movimiento.loc['2021-03-19':]\n",
    "y_train = sf[~sf.monto_compra_movimiento.isin(y_test)].monto_compra_movimiento\n"
   ]
  },
  {
   "cell_type": "code",
   "execution_count": null,
   "id": "c26428d5-4887-4146-adaa-4fbb18ae51d1",
   "metadata": {},
   "outputs": [],
   "source": [
    "print(y_test.index.max())\n",
    "print(y_test.index.min())"
   ]
  },
  {
   "cell_type": "code",
   "execution_count": null,
   "id": "ac0177d2-1822-42b8-b1be-986b64c6e1f9",
   "metadata": {},
   "outputs": [],
   "source": [
    "print(y_train.index.max())\n",
    "print(y_train.index.min())"
   ]
  },
  {
   "cell_type": "markdown",
   "id": "5babac8b-7bc5-4369-8d89-f5810aa00602",
   "metadata": {},
   "source": [
    "## Seasonal Random Walk (Seasonal Naïve)\n",
    "\n",
    "#### Descomposicion\n",
    "\n",
    "Una operación fundamental para entender el comportamiento de una serie de\n",
    " tiempo y poder determinar si se trata de una serie `estacionaria` o no\n",
    "\n",
    "La **descomposición** es una técnica que trata de descomponer una serie de tiempo en su tendencia, su estacionalidad y sus factores residuales\n",
    "\n",
    "Ejemplo de descomposición de serie de tiempo\n",
    "\n",
    "<img \n",
    "src=\"https://i.imgur.com/g0PQASf.png\" />\n"
   ]
  },
  {
   "cell_type": "code",
   "execution_count": null,
   "id": "25de84e1-bd99-408b-9c75-52413afb9f0c",
   "metadata": {},
   "outputs": [],
   "source": [
    "res = sm.tsa.seasonal_decompose(\n",
    "    sf['monto_compra_movimiento'], model='additive', freq=30\n",
    "    )\n",
    "\n",
    "fig, (ax1,ax2,ax3, ax4) = plt.subplots(4,1, figsize=(18, 14))\n",
    "\n",
    "ax1.set_title('Inbound fueatures')\n",
    "sf.monto_compra_movimiento.plot(ax=ax1, color='red')\n",
    "ax1.set_ylabel('Original')\n",
    "\n",
    "res.trend.plot(ax=ax2)\n",
    "ax2.set_ylabel('Fluctuaciones')\n",
    "\n",
    "res.resid.plot(ax=ax3)\n",
    "ax3.set_ylabel('Variaciones Irregulares')\n",
    "\n",
    "res.seasonal.plot(ax=ax4)\n",
    "ax4.set_ylabel('Variaciones Estacionales')\n",
    "plt.tight_layout()\n",
    "plt.show()"
   ]
  },
  {
   "cell_type": "markdown",
   "id": "ea82efd2-1e5e-4733-9193-b24b6b1e174c",
   "metadata": {},
   "source": [
    "## Forecast"
   ]
  },
  {
   "cell_type": "code",
   "execution_count": null,
   "id": "374b02de-4870-42d8-95e4-6fb76d570c0b",
   "metadata": {},
   "outputs": [],
   "source": [
    "model = ARIMA(\n",
    "    endog=y_train, exog=None, order=(0, 0, 1), seasonal_order=(0, 1, 0, 42)\n",
    "    ).fit()\n",
    "    "
   ]
  },
  {
   "cell_type": "code",
   "execution_count": null,
   "id": "1917b542-bf06-4d1f-bb88-c79c3705728a",
   "metadata": {},
   "outputs": [],
   "source": [
    "fig = plt.figure(figsize=(18, 12), dpi=100)\n",
    "\n",
    "ax = plt.subplot(2, 1, 1)\n",
    "y_train.tail(200).plot(ax=ax, label='Train Values', linestyle='-')\n",
    "model.fittedvalues.tail(200).plot(\n",
    "    ax=ax, label='fitted Values', marker='o', linestyle='--')\n",
    "ax.set_title('monto_compra_movimiento')\n",
    "ax.legend()\n",
    "\n",
    "plt.tight_layout()\n",
    "plt.show()"
   ]
  },
  {
   "cell_type": "code",
   "execution_count": null,
   "id": "139c726d-ac03-41a1-ad5f-cd2266622c5f",
   "metadata": {},
   "outputs": [],
   "source": [
    "# Forecast\n",
    "# 95% conf se, conf\n",
    "fc = model.forecast(steps=len(y_test), exog=y_test, alpha=0.05) \n",
    "#Make as pandas series\n",
    "fc_in = fc.reset_index(drop=True)\n",
    "fc_in.index = y_test.index"
   ]
  },
  {
   "cell_type": "code",
   "execution_count": null,
   "id": "0e917604-0d12-4fcf-924a-bb3be5a1b8fb",
   "metadata": {},
   "outputs": [],
   "source": [
    "fig = plt.figure(figsize=(18, 12))\n",
    "\n",
    "ax = plt.subplot(2, 1, 1)\n",
    "y_test.plot(ax=ax, label='actual Test')\n",
    "fc_in.plot(ax=ax, label='forecast', marker='o', linestyle='--')\n",
    "ax.set_title('Forecast vs Actuals for Inbound Features')\n",
    "ax.legend(loc='upper left', fontsize=8)\n",
    "\n",
    "plt.tight_layout()\n",
    "plt.show()"
   ]
  },
  {
   "cell_type": "code",
   "execution_count": null,
   "id": "61fd5ba2-4a4d-40d1-9724-874f80984bc4",
   "metadata": {},
   "outputs": [],
   "source": [
    "table = pd.DataFrame(\n",
    "    [(sm.tools.eval_measures.rmse(y_test, fc_in), \n",
    "      (y_test - fc_in).sem())],\n",
    "      columns=['RMSE','SE']\n",
    "      )\n",
    "table.round(3)"
   ]
  },
  {
   "cell_type": "code",
   "execution_count": null,
   "id": "79c204bc-1b57-4608-91a4-6543034408d5",
   "metadata": {},
   "outputs": [],
   "source": []
  }
 ],
 "metadata": {
  "kernelspec": {
   "display_name": "Python 3",
   "language": "python",
   "name": "python3"
  },
  "language_info": {
   "codemirror_mode": {
    "name": "ipython",
    "version": 3
   },
   "file_extension": ".py",
   "mimetype": "text/x-python",
   "name": "python",
   "nbconvert_exporter": "python",
   "pygments_lexer": "ipython3",
   "version": "3.8.8"
  }
 },
 "nbformat": 4,
 "nbformat_minor": 5
}
