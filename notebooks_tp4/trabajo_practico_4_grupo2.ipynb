{
 "cells": [
  {
   "cell_type": "markdown",
   "id": "23fb6811-f919-4985-acd4-32ef787b0129",
   "metadata": {},
   "source": [
    "# Diplomatura en Ciencia de Datos, Aprendizaje Automático y sus Aplicaciones\n",
    "\n",
    "<center>\n",
    "<img \n",
    "     src=\"http://www2.famaf.unc.edu.ar/~efernandez/egeo/img/logos/famaf.jpg\" \n",
    "     alt=\"Drawing\" \n",
    "     style=\"width:30%;\"\n",
    "/>\n",
    "</center>\n",
    "\n",
    "# Universidad Nacional de Córdoba\n",
    "---"
   ]
  },
  {
   "cell_type": "markdown",
   "id": "3c8c69a1-85b1-4047-a6b9-3254e07714bc",
   "metadata": {},
   "source": [
    "### Importación de librerías"
   ]
  },
  {
   "cell_type": "code",
   "execution_count": 1,
   "id": "723ef3b3-5891-4e7b-894e-023b46ac0b69",
   "metadata": {},
   "outputs": [],
   "source": [
    "import warnings\n",
    "import datetime\n",
    "warnings.filterwarnings('ignore')\n",
    "\n",
    "import numpy as np\n",
    "import pandas as pd\n",
    "import seaborn as sns\n",
    "import statsmodels.api as sm\n",
    "import matplotlib.pyplot as plt\n",
    "import math\n",
    "\n",
    "from sklearn.model_selection import train_test_split\n",
    "from sklearn.model_selection import GridSearchCV\n",
    "from sklearn.model_selection import RandomizedSearchCV\n",
    "from sklearn.feature_selection import SelectFromModel\n",
    "from sklearn.preprocessing import MaxAbsScaler\n",
    "from sklearn.preprocessing import MinMaxScaler\n",
    "from sklearn.preprocessing import StandardScaler\n",
    "from sklearn.preprocessing import OneHotEncoder\n",
    "from sklearn.compose import ColumnTransformer\n",
    "from sklearn.pipeline import make_pipeline\n",
    "from sklearn.pipeline import Pipeline\n",
    "from sklearn.metrics import mean_squared_error\n",
    "from sklearn.metrics import mean_absolute_error\n",
    "from sklearn.neighbors import KNeighborsRegressor\n",
    "from sklearn.ensemble import VotingRegressor\n",
    "from xgboost import XGBClassifier\n",
    "\n",
    "from scipy import stats\n",
    "from statsmodels.tsa.arima.model import ARIMA\n",
    "from statsmodels.tsa.holtwinters import SimpleExpSmoothing\n",
    "from sklearn.linear_model import SGDRegressor\n",
    "from sklearn.ensemble import RandomForestClassifier\n",
    "from sklearn.metrics import classification_report, confusion_matrix, plot_confusion_matrix\n",
    "\n",
    "from xgboost import XGBRegressor\n",
    "from sklearn.ensemble import ExtraTreesClassifier\n",
    "from sklearn.svm import LinearSVR\n",
    "from sklearn.ensemble import RandomForestRegressor\n",
    "from sklearn.gaussian_process import GaussianProcessRegressor\n",
    "from sklearn.gaussian_process.kernels import ConstantKernel, RBF, RationalQuadratic, ExpSineSquared\n",
    "from sklearn.impute import SimpleImputer\n",
    "\n",
    "from pandas.plotting import lag_plot\n",
    "\n",
    "import pyarrow\n",
    "import fastparquet\n",
    "\n",
    "import statsmodels"
   ]
  },
  {
   "cell_type": "markdown",
   "id": "702285b3-5dbb-4f9a-9e9f-156566bfcd2a",
   "metadata": {},
   "source": [
    "### Lectura del dataset "
   ]
  },
  {
   "cell_type": "code",
   "execution_count": 4,
   "id": "00bb6b04-3e09-4fad-b11d-7a0f0592435b",
   "metadata": {},
   "outputs": [
    {
     "data": {
      "text/html": [
       "<div>\n",
       "<style scoped>\n",
       "    .dataframe tbody tr th:only-of-type {\n",
       "        vertical-align: middle;\n",
       "    }\n",
       "\n",
       "    .dataframe tbody tr th {\n",
       "        vertical-align: top;\n",
       "    }\n",
       "\n",
       "    .dataframe thead th {\n",
       "        text-align: right;\n",
       "    }\n",
       "</style>\n",
       "<table border=\"1\" class=\"dataframe\">\n",
       "  <thead>\n",
       "    <tr style=\"text-align: right;\">\n",
       "      <th></th>\n",
       "      <th>dni_titular_movimiento</th>\n",
       "      <th>anio_mes_cupon</th>\n",
       "      <th>client__edad</th>\n",
       "      <th>client__antig</th>\n",
       "      <th>client__x0_Hombre</th>\n",
       "      <th>client__x0_Mujer</th>\n",
       "      <th>client__x0_Sin Datos</th>\n",
       "      <th>client__x1_Sector_Educativo</th>\n",
       "      <th>client__x1_Sector_Empleado_Comercio</th>\n",
       "      <th>client__x1_Sector_Financiero</th>\n",
       "      <th>...</th>\n",
       "      <th>trans__x3_1</th>\n",
       "      <th>trans__x3_2</th>\n",
       "      <th>trans__x3_3</th>\n",
       "      <th>trans__x3_4</th>\n",
       "      <th>trans__x3_5</th>\n",
       "      <th>trans__x3_6</th>\n",
       "      <th>trans__x3_7</th>\n",
       "      <th>trans__x3_8</th>\n",
       "      <th>trans__x3_9</th>\n",
       "      <th>monto_ajustado</th>\n",
       "    </tr>\n",
       "  </thead>\n",
       "  <tbody>\n",
       "    <tr>\n",
       "      <th>0</th>\n",
       "      <td>000000b5aea2c9ea7cc155f6ebcef97f826</td>\n",
       "      <td>202008.0</td>\n",
       "      <td>46.0</td>\n",
       "      <td>225.0</td>\n",
       "      <td>0.0</td>\n",
       "      <td>1.0</td>\n",
       "      <td>0.0</td>\n",
       "      <td>0.0</td>\n",
       "      <td>0.0</td>\n",
       "      <td>0.0</td>\n",
       "      <td>...</td>\n",
       "      <td>0.0</td>\n",
       "      <td>0.0</td>\n",
       "      <td>0.0</td>\n",
       "      <td>0.0</td>\n",
       "      <td>0.0</td>\n",
       "      <td>0.0</td>\n",
       "      <td>0.0</td>\n",
       "      <td>0.0</td>\n",
       "      <td>0.0</td>\n",
       "      <td>-4.72</td>\n",
       "    </tr>\n",
       "    <tr>\n",
       "      <th>1</th>\n",
       "      <td>000000b5aea2c9ea7cc155f6ebcef97f826</td>\n",
       "      <td>202009.0</td>\n",
       "      <td>47.0</td>\n",
       "      <td>226.0</td>\n",
       "      <td>0.0</td>\n",
       "      <td>1.0</td>\n",
       "      <td>0.0</td>\n",
       "      <td>0.0</td>\n",
       "      <td>0.0</td>\n",
       "      <td>0.0</td>\n",
       "      <td>...</td>\n",
       "      <td>0.0</td>\n",
       "      <td>0.0</td>\n",
       "      <td>0.0</td>\n",
       "      <td>0.0</td>\n",
       "      <td>0.0</td>\n",
       "      <td>0.0</td>\n",
       "      <td>0.0</td>\n",
       "      <td>0.0</td>\n",
       "      <td>0.0</td>\n",
       "      <td>-4.61</td>\n",
       "    </tr>\n",
       "    <tr>\n",
       "      <th>2</th>\n",
       "      <td>000000b5aea2c9ea7cc155f6ebcef97f826</td>\n",
       "      <td>202010.0</td>\n",
       "      <td>47.0</td>\n",
       "      <td>227.0</td>\n",
       "      <td>0.0</td>\n",
       "      <td>1.0</td>\n",
       "      <td>0.0</td>\n",
       "      <td>0.0</td>\n",
       "      <td>0.0</td>\n",
       "      <td>0.0</td>\n",
       "      <td>...</td>\n",
       "      <td>0.0</td>\n",
       "      <td>0.0</td>\n",
       "      <td>0.0</td>\n",
       "      <td>0.0</td>\n",
       "      <td>0.0</td>\n",
       "      <td>0.0</td>\n",
       "      <td>0.0</td>\n",
       "      <td>0.0</td>\n",
       "      <td>0.0</td>\n",
       "      <td>-4.46</td>\n",
       "    </tr>\n",
       "    <tr>\n",
       "      <th>3</th>\n",
       "      <td>000000b5aea2c9ea7cc155f6ebcef97f826</td>\n",
       "      <td>202011.0</td>\n",
       "      <td>47.0</td>\n",
       "      <td>228.0</td>\n",
       "      <td>0.0</td>\n",
       "      <td>1.0</td>\n",
       "      <td>0.0</td>\n",
       "      <td>0.0</td>\n",
       "      <td>0.0</td>\n",
       "      <td>0.0</td>\n",
       "      <td>...</td>\n",
       "      <td>0.0</td>\n",
       "      <td>0.0</td>\n",
       "      <td>0.0</td>\n",
       "      <td>0.0</td>\n",
       "      <td>0.0</td>\n",
       "      <td>0.0</td>\n",
       "      <td>0.0</td>\n",
       "      <td>0.0</td>\n",
       "      <td>0.0</td>\n",
       "      <td>-4.34</td>\n",
       "    </tr>\n",
       "    <tr>\n",
       "      <th>4</th>\n",
       "      <td>000000b5aea2c9ea7cc155f6ebcef97f826</td>\n",
       "      <td>202012.0</td>\n",
       "      <td>47.0</td>\n",
       "      <td>229.0</td>\n",
       "      <td>0.0</td>\n",
       "      <td>1.0</td>\n",
       "      <td>0.0</td>\n",
       "      <td>0.0</td>\n",
       "      <td>0.0</td>\n",
       "      <td>0.0</td>\n",
       "      <td>...</td>\n",
       "      <td>0.0</td>\n",
       "      <td>0.0</td>\n",
       "      <td>0.0</td>\n",
       "      <td>0.0</td>\n",
       "      <td>0.0</td>\n",
       "      <td>0.0</td>\n",
       "      <td>0.0</td>\n",
       "      <td>0.0</td>\n",
       "      <td>0.0</td>\n",
       "      <td>-4.21</td>\n",
       "    </tr>\n",
       "    <tr>\n",
       "      <th>...</th>\n",
       "      <td>...</td>\n",
       "      <td>...</td>\n",
       "      <td>...</td>\n",
       "      <td>...</td>\n",
       "      <td>...</td>\n",
       "      <td>...</td>\n",
       "      <td>...</td>\n",
       "      <td>...</td>\n",
       "      <td>...</td>\n",
       "      <td>...</td>\n",
       "      <td>...</td>\n",
       "      <td>...</td>\n",
       "      <td>...</td>\n",
       "      <td>...</td>\n",
       "      <td>...</td>\n",
       "      <td>...</td>\n",
       "      <td>...</td>\n",
       "      <td>...</td>\n",
       "      <td>...</td>\n",
       "      <td>...</td>\n",
       "      <td>...</td>\n",
       "    </tr>\n",
       "    <tr>\n",
       "      <th>7405</th>\n",
       "      <td>000f0b73ebfa002a79a0642b82e87919904</td>\n",
       "      <td>202101.0</td>\n",
       "      <td>64.0</td>\n",
       "      <td>21.0</td>\n",
       "      <td>0.0</td>\n",
       "      <td>1.0</td>\n",
       "      <td>0.0</td>\n",
       "      <td>0.0</td>\n",
       "      <td>0.0</td>\n",
       "      <td>0.0</td>\n",
       "      <td>...</td>\n",
       "      <td>1.0</td>\n",
       "      <td>1.0</td>\n",
       "      <td>0.0</td>\n",
       "      <td>0.0</td>\n",
       "      <td>1.0</td>\n",
       "      <td>0.0</td>\n",
       "      <td>0.0</td>\n",
       "      <td>0.0</td>\n",
       "      <td>0.0</td>\n",
       "      <td>11616.45</td>\n",
       "    </tr>\n",
       "    <tr>\n",
       "      <th>7406</th>\n",
       "      <td>000f0b73ebfa002a79a0642b82e87919904</td>\n",
       "      <td>202102.0</td>\n",
       "      <td>64.0</td>\n",
       "      <td>22.0</td>\n",
       "      <td>0.0</td>\n",
       "      <td>1.0</td>\n",
       "      <td>0.0</td>\n",
       "      <td>0.0</td>\n",
       "      <td>0.0</td>\n",
       "      <td>0.0</td>\n",
       "      <td>...</td>\n",
       "      <td>1.0</td>\n",
       "      <td>0.0</td>\n",
       "      <td>0.0</td>\n",
       "      <td>0.0</td>\n",
       "      <td>0.0</td>\n",
       "      <td>0.0</td>\n",
       "      <td>0.0</td>\n",
       "      <td>0.0</td>\n",
       "      <td>0.0</td>\n",
       "      <td>12566.68</td>\n",
       "    </tr>\n",
       "    <tr>\n",
       "      <th>7407</th>\n",
       "      <td>000f0b73ebfa002a79a0642b82e87919904</td>\n",
       "      <td>202103.0</td>\n",
       "      <td>64.0</td>\n",
       "      <td>23.0</td>\n",
       "      <td>0.0</td>\n",
       "      <td>1.0</td>\n",
       "      <td>0.0</td>\n",
       "      <td>0.0</td>\n",
       "      <td>0.0</td>\n",
       "      <td>0.0</td>\n",
       "      <td>...</td>\n",
       "      <td>3.0</td>\n",
       "      <td>0.0</td>\n",
       "      <td>0.0</td>\n",
       "      <td>0.0</td>\n",
       "      <td>0.0</td>\n",
       "      <td>0.0</td>\n",
       "      <td>0.0</td>\n",
       "      <td>0.0</td>\n",
       "      <td>0.0</td>\n",
       "      <td>2663.08</td>\n",
       "    </tr>\n",
       "    <tr>\n",
       "      <th>7408</th>\n",
       "      <td>000f0b73ebfa002a79a0642b82e87919904</td>\n",
       "      <td>202104.0</td>\n",
       "      <td>64.0</td>\n",
       "      <td>24.0</td>\n",
       "      <td>0.0</td>\n",
       "      <td>1.0</td>\n",
       "      <td>0.0</td>\n",
       "      <td>0.0</td>\n",
       "      <td>0.0</td>\n",
       "      <td>0.0</td>\n",
       "      <td>...</td>\n",
       "      <td>0.0</td>\n",
       "      <td>2.0</td>\n",
       "      <td>0.0</td>\n",
       "      <td>0.0</td>\n",
       "      <td>0.0</td>\n",
       "      <td>0.0</td>\n",
       "      <td>0.0</td>\n",
       "      <td>0.0</td>\n",
       "      <td>0.0</td>\n",
       "      <td>4685.64</td>\n",
       "    </tr>\n",
       "    <tr>\n",
       "      <th>7409</th>\n",
       "      <td>000f0b73ebfa002a79a0642b82e87919904</td>\n",
       "      <td>202105.0</td>\n",
       "      <td>64.0</td>\n",
       "      <td>25.0</td>\n",
       "      <td>0.0</td>\n",
       "      <td>1.0</td>\n",
       "      <td>0.0</td>\n",
       "      <td>0.0</td>\n",
       "      <td>0.0</td>\n",
       "      <td>0.0</td>\n",
       "      <td>...</td>\n",
       "      <td>0.0</td>\n",
       "      <td>0.0</td>\n",
       "      <td>0.0</td>\n",
       "      <td>0.0</td>\n",
       "      <td>0.0</td>\n",
       "      <td>0.0</td>\n",
       "      <td>0.0</td>\n",
       "      <td>0.0</td>\n",
       "      <td>0.0</td>\n",
       "      <td>2063.81</td>\n",
       "    </tr>\n",
       "  </tbody>\n",
       "</table>\n",
       "<p>7410 rows × 55 columns</p>\n",
       "</div>"
      ],
      "text/plain": [
       "                   dni_titular_movimiento  anio_mes_cupon  client__edad  \\\n",
       "0     000000b5aea2c9ea7cc155f6ebcef97f826        202008.0          46.0   \n",
       "1     000000b5aea2c9ea7cc155f6ebcef97f826        202009.0          47.0   \n",
       "2     000000b5aea2c9ea7cc155f6ebcef97f826        202010.0          47.0   \n",
       "3     000000b5aea2c9ea7cc155f6ebcef97f826        202011.0          47.0   \n",
       "4     000000b5aea2c9ea7cc155f6ebcef97f826        202012.0          47.0   \n",
       "...                                   ...             ...           ...   \n",
       "7405  000f0b73ebfa002a79a0642b82e87919904        202101.0          64.0   \n",
       "7406  000f0b73ebfa002a79a0642b82e87919904        202102.0          64.0   \n",
       "7407  000f0b73ebfa002a79a0642b82e87919904        202103.0          64.0   \n",
       "7408  000f0b73ebfa002a79a0642b82e87919904        202104.0          64.0   \n",
       "7409  000f0b73ebfa002a79a0642b82e87919904        202105.0          64.0   \n",
       "\n",
       "      client__antig  client__x0_Hombre  client__x0_Mujer  \\\n",
       "0             225.0                0.0               1.0   \n",
       "1             226.0                0.0               1.0   \n",
       "2             227.0                0.0               1.0   \n",
       "3             228.0                0.0               1.0   \n",
       "4             229.0                0.0               1.0   \n",
       "...             ...                ...               ...   \n",
       "7405           21.0                0.0               1.0   \n",
       "7406           22.0                0.0               1.0   \n",
       "7407           23.0                0.0               1.0   \n",
       "7408           24.0                0.0               1.0   \n",
       "7409           25.0                0.0               1.0   \n",
       "\n",
       "      client__x0_Sin Datos  client__x1_Sector_Educativo  \\\n",
       "0                      0.0                          0.0   \n",
       "1                      0.0                          0.0   \n",
       "2                      0.0                          0.0   \n",
       "3                      0.0                          0.0   \n",
       "4                      0.0                          0.0   \n",
       "...                    ...                          ...   \n",
       "7405                   0.0                          0.0   \n",
       "7406                   0.0                          0.0   \n",
       "7407                   0.0                          0.0   \n",
       "7408                   0.0                          0.0   \n",
       "7409                   0.0                          0.0   \n",
       "\n",
       "      client__x1_Sector_Empleado_Comercio  client__x1_Sector_Financiero  ...  \\\n",
       "0                                     0.0                           0.0  ...   \n",
       "1                                     0.0                           0.0  ...   \n",
       "2                                     0.0                           0.0  ...   \n",
       "3                                     0.0                           0.0  ...   \n",
       "4                                     0.0                           0.0  ...   \n",
       "...                                   ...                           ...  ...   \n",
       "7405                                  0.0                           0.0  ...   \n",
       "7406                                  0.0                           0.0  ...   \n",
       "7407                                  0.0                           0.0  ...   \n",
       "7408                                  0.0                           0.0  ...   \n",
       "7409                                  0.0                           0.0  ...   \n",
       "\n",
       "      trans__x3_1  trans__x3_2  trans__x3_3  trans__x3_4  trans__x3_5  \\\n",
       "0             0.0          0.0          0.0          0.0          0.0   \n",
       "1             0.0          0.0          0.0          0.0          0.0   \n",
       "2             0.0          0.0          0.0          0.0          0.0   \n",
       "3             0.0          0.0          0.0          0.0          0.0   \n",
       "4             0.0          0.0          0.0          0.0          0.0   \n",
       "...           ...          ...          ...          ...          ...   \n",
       "7405          1.0          1.0          0.0          0.0          1.0   \n",
       "7406          1.0          0.0          0.0          0.0          0.0   \n",
       "7407          3.0          0.0          0.0          0.0          0.0   \n",
       "7408          0.0          2.0          0.0          0.0          0.0   \n",
       "7409          0.0          0.0          0.0          0.0          0.0   \n",
       "\n",
       "      trans__x3_6  trans__x3_7  trans__x3_8  trans__x3_9  monto_ajustado  \n",
       "0             0.0          0.0          0.0          0.0           -4.72  \n",
       "1             0.0          0.0          0.0          0.0           -4.61  \n",
       "2             0.0          0.0          0.0          0.0           -4.46  \n",
       "3             0.0          0.0          0.0          0.0           -4.34  \n",
       "4             0.0          0.0          0.0          0.0           -4.21  \n",
       "...           ...          ...          ...          ...             ...  \n",
       "7405          0.0          0.0          0.0          0.0        11616.45  \n",
       "7406          0.0          0.0          0.0          0.0        12566.68  \n",
       "7407          0.0          0.0          0.0          0.0         2663.08  \n",
       "7408          0.0          0.0          0.0          0.0         4685.64  \n",
       "7409          0.0          0.0          0.0          0.0         2063.81  \n",
       "\n",
       "[7410 rows x 55 columns]"
      ]
     },
     "execution_count": 4,
     "metadata": {},
     "output_type": "execute_result"
    }
   ],
   "source": [
    "df = pd.read_parquet('df_supervisado_agrupado.parquet')\n",
    "df"
   ]
  },
  {
   "cell_type": "markdown",
   "id": "d27882da-bdb0-427f-8bd9-dff6bb1a99b2",
   "metadata": {},
   "source": [
    "Ordenamos nuestro conjunto de datos en función a la variable anio_mes_cupon."
   ]
  },
  {
   "cell_type": "code",
   "execution_count": 27,
   "id": "2d534e6c-cdfe-408c-9f85-45688b2ddfc5",
   "metadata": {},
   "outputs": [],
   "source": [
    "df = df.sort_values(by = ['anio_mes_cupon'], ascending = True)"
   ]
  },
  {
   "cell_type": "code",
   "execution_count": 6,
   "id": "d38a02c0-c974-49d1-83c4-c239df55b6b6",
   "metadata": {},
   "outputs": [
    {
     "data": {
      "text/plain": [
       "count      7410.00\n",
       "mean      11808.44\n",
       "std       14823.98\n",
       "min      -14160.39\n",
       "25%         987.78\n",
       "50%        6373.59\n",
       "75%       17248.53\n",
       "max      134045.42\n",
       "Name: monto_ajustado, dtype: float64"
      ]
     },
     "execution_count": 6,
     "metadata": {},
     "output_type": "execute_result"
    }
   ],
   "source": [
    "df['monto_ajustado'].describe().round(2)"
   ]
  },
  {
   "cell_type": "markdown",
   "id": "a1f5287f-2173-4b21-8e36-372f01a6cf8d",
   "metadata": {},
   "source": [
    "Distribución de nuestro target respecto a nuestros features"
   ]
  },
  {
   "cell_type": "markdown",
   "id": "e14a3e4e-8744-48c4-8111-ec991a22b267",
   "metadata": {},
   "source": [
    "### Distribución de features numericas con respecto al target, monto_ajustado"
   ]
  },
  {
   "cell_type": "code",
   "execution_count": 26,
   "id": "850c53ca-6077-4052-acc2-972f64c2be39",
   "metadata": {
    "tags": []
   },
   "outputs": [
    {
     "data": {
      "image/png": "[encoded data removed]",
      "text/plain": [
       "<Figure size 1440x2520 with 32 Axes>"
      ]
     },
     "metadata": {
      "needs_background": "light"
     },
     "output_type": "display_data"
    }
   ],
   "source": [
    "# Visualizamos solo las numericas y las transaccionales sumarizadas\n",
    "cols = [x for x in df.columns.values if 'client__x' not in x]\n",
    "cols.remove('dni_titular_movimiento')\n",
    "cols.remove('anio_mes_cupon')\n",
    "cols.remove('monto_ajustado')\n",
    "\n",
    "# plot\n",
    "n_cols = 4\n",
    "n_rows = math.ceil(len(cols)/n_cols)\n",
    "fig, axs = plt.subplots(n_rows, n_cols, figsize=(20, 35))\n",
    "count = 0\n",
    "for i in cols:    \n",
    "    row = math.floor(count / n_cols)\n",
    "    col = count % n_cols\n",
    "    ax = axs[row, col]\n",
    "    sns.scatterplot(data=df, x=i, y='monto_ajustado', ax=ax)\n",
    "    count =count +1\n",
    "\n",
    "plt.show()"
   ]
  },
  {
   "cell_type": "markdown",
   "id": "77957b6c-4055-453b-b038-bbc17d30757f",
   "metadata": {},
   "source": [
    "Analisis de distribucion de monto_ajustado con respecto a los features numericos\n",
    "\n",
    "- **fecha_cupon_movimiento**: No hay una relacion visible. Los puntos estan distribuidos mayoritariamente en el rango entre 0 y 20000 para casi todos los meses presentes con excepcion del primer mes donde la cantidad de casos baja con respecto al resto de los meses.\n",
    "- **edad_cliente**: Similar a fecha, la mayor parte de los montos se concentra entre 0 y 20000. Algo a destacar es que a medida que la edad supera los 60 años, la cantidad de transacciones baja. El grueso de transacciones estan concentradas en edades menores a 70\n",
    "- **antiguedad_cliente**: A partir de la antiguedad 200, se puede observar que la cantidad de transacciones baja, lo cual podria explicarse en base a que hay menos clientes con antiguedad tan alta. Sin embargo, se puede llegar a ver una aplanacion mas paulatina de los casos que en el caso de la edad. Despues de cierta antiguedad la cantidad de transacciones baja pero se mantiene en una meseta, en cambio en el caso de la edad la baja es mas abrupta.\n",
    "\n",
    "El scatterplot de features categoricos nos brinda unicamente informacion sobre la concentracion de casos en cada categoria, pero no podriamos con eso solo proyectar el comportamiento de las regresiones para la prediccion de los montos. "
   ]
  },
  {
   "cell_type": "markdown",
   "id": "99868af3-75bb-40e3-91dd-3ec0e4a25bbd",
   "metadata": {},
   "source": [
    "### Balanceo de DataFrame"
   ]
  },
  {
   "cell_type": "markdown",
   "id": "fa57dcb8-0579-4f01-a396-7e2e086d2f79",
   "metadata": {},
   "source": [
    "La cantidad de filas deberia ser igual para cada mes. Cada cliente dentro del dataset deberia tener al menos una transaccion dentro de cada mes, y si no la tiene entonces deberia tener una con todos 0 en las variables de transaccion. Con esto tendriamos un dataset balanceado. "
   ]
  },
  {
   "cell_type": "code",
   "execution_count": 35,
   "id": "095e9550-0030-4c38-8890-923caebc8c01",
   "metadata": {},
   "outputs": [
    {
     "data": {
      "text/plain": [
       "9852"
      ]
     },
     "execution_count": 35,
     "metadata": {},
     "output_type": "execute_result"
    }
   ],
   "source": [
    "df['dni_titular_movimiento'].nunique() * df['anio_mes_cupon'].nunique() # dnis x cantidad de meses"
   ]
  },
  {
   "cell_type": "markdown",
   "id": "d85fe40e-6a65-45c4-bd7d-045a0d2759bd",
   "metadata": {},
   "source": [
    "Corroboramos aquellos titulares que no tienen movimientos en todos los meses"
   ]
  },
  {
   "cell_type": "code",
   "execution_count": 37,
   "id": "6e857216-3917-417f-ada5-8e92722b9d84",
   "metadata": {},
   "outputs": [
    {
     "data": {
      "text/html": [
       "<div>\n",
       "<style scoped>\n",
       "    .dataframe tbody tr th:only-of-type {\n",
       "        vertical-align: middle;\n",
       "    }\n",
       "\n",
       "    .dataframe tbody tr th {\n",
       "        vertical-align: top;\n",
       "    }\n",
       "\n",
       "    .dataframe thead th {\n",
       "        text-align: right;\n",
       "    }\n",
       "</style>\n",
       "<table border=\"1\" class=\"dataframe\">\n",
       "  <thead>\n",
       "    <tr style=\"text-align: right;\">\n",
       "      <th></th>\n",
       "      <th>dni_titular_movimiento</th>\n",
       "      <th>counts</th>\n",
       "    </tr>\n",
       "  </thead>\n",
       "  <tbody>\n",
       "    <tr>\n",
       "      <th>354</th>\n",
       "      <td>0006b827182be3790f4983851eae6a72301</td>\n",
       "      <td>1</td>\n",
       "    </tr>\n",
       "    <tr>\n",
       "      <th>27</th>\n",
       "      <td>000071f1f7541835440a7b95e8280add842</td>\n",
       "      <td>1</td>\n",
       "    </tr>\n",
       "    <tr>\n",
       "      <th>703</th>\n",
       "      <td>000ce0a075eb02ff2decefb5d5d477b6069</td>\n",
       "      <td>1</td>\n",
       "    </tr>\n",
       "    <tr>\n",
       "      <th>487</th>\n",
       "      <td>00092d5c893e1a689d88d96ab217ae12832</td>\n",
       "      <td>1</td>\n",
       "    </tr>\n",
       "    <tr>\n",
       "      <th>744</th>\n",
       "      <td>000d825001c54cde70e79c2c0c2ca144103</td>\n",
       "      <td>1</td>\n",
       "    </tr>\n",
       "    <tr>\n",
       "      <th>...</th>\n",
       "      <td>...</td>\n",
       "      <td>...</td>\n",
       "    </tr>\n",
       "    <tr>\n",
       "      <th>371</th>\n",
       "      <td>00070a4981542ed6aaca3e1187ba82a0293</td>\n",
       "      <td>11</td>\n",
       "    </tr>\n",
       "    <tr>\n",
       "      <th>675</th>\n",
       "      <td>000c871be99df761652d9c7e531e05cb027</td>\n",
       "      <td>11</td>\n",
       "    </tr>\n",
       "    <tr>\n",
       "      <th>177</th>\n",
       "      <td>0002ec99c87c40ea558370277c2af620206</td>\n",
       "      <td>11</td>\n",
       "    </tr>\n",
       "    <tr>\n",
       "      <th>522</th>\n",
       "      <td>0009d755757673758d8a50f3e0a7d346850</td>\n",
       "      <td>11</td>\n",
       "    </tr>\n",
       "    <tr>\n",
       "      <th>447</th>\n",
       "      <td>00086cb10762a98b9e89b071ce7f841c563</td>\n",
       "      <td>11</td>\n",
       "    </tr>\n",
       "  </tbody>\n",
       "</table>\n",
       "<p>821 rows × 2 columns</p>\n",
       "</div>"
      ],
      "text/plain": [
       "                  dni_titular_movimiento  counts\n",
       "354  0006b827182be3790f4983851eae6a72301       1\n",
       "27   000071f1f7541835440a7b95e8280add842       1\n",
       "703  000ce0a075eb02ff2decefb5d5d477b6069       1\n",
       "487  00092d5c893e1a689d88d96ab217ae12832       1\n",
       "744  000d825001c54cde70e79c2c0c2ca144103       1\n",
       "..                                   ...     ...\n",
       "371  00070a4981542ed6aaca3e1187ba82a0293      11\n",
       "675  000c871be99df761652d9c7e531e05cb027      11\n",
       "177  0002ec99c87c40ea558370277c2af620206      11\n",
       "522  0009d755757673758d8a50f3e0a7d346850      11\n",
       "447  00086cb10762a98b9e89b071ce7f841c563      11\n",
       "\n",
       "[821 rows x 2 columns]"
      ]
     },
     "execution_count": 37,
     "metadata": {},
     "output_type": "execute_result"
    }
   ],
   "source": [
    "df[['dni_titular_movimiento','anio_mes_cupon']].drop_duplicates().groupby(['dni_titular_movimiento']).size().reset_index(name='counts').sort_values(by='counts')"
   ]
  },
  {
   "cell_type": "code",
   "execution_count": 38,
   "id": "9e115cc3-99c5-4778-9475-371f9a3bd32c",
   "metadata": {},
   "outputs": [
    {
     "data": {
      "text/html": [
       "<div>\n",
       "<style scoped>\n",
       "    .dataframe tbody tr th:only-of-type {\n",
       "        vertical-align: middle;\n",
       "    }\n",
       "\n",
       "    .dataframe tbody tr th {\n",
       "        vertical-align: top;\n",
       "    }\n",
       "\n",
       "    .dataframe thead th {\n",
       "        text-align: right;\n",
       "    }\n",
       "</style>\n",
       "<table border=\"1\" class=\"dataframe\">\n",
       "  <thead>\n",
       "    <tr style=\"text-align: right;\">\n",
       "      <th></th>\n",
       "      <th>dni_titular_movimiento</th>\n",
       "      <th>anio_mes_cupon</th>\n",
       "      <th>client__edad</th>\n",
       "      <th>client__antig</th>\n",
       "      <th>client__x0_Hombre</th>\n",
       "      <th>client__x0_Mujer</th>\n",
       "      <th>client__x0_Sin Datos</th>\n",
       "      <th>client__x1_Sector_Educativo</th>\n",
       "      <th>client__x1_Sector_Empleado_Comercio</th>\n",
       "      <th>client__x1_Sector_Financiero</th>\n",
       "      <th>...</th>\n",
       "      <th>trans__x3_1</th>\n",
       "      <th>trans__x3_2</th>\n",
       "      <th>trans__x3_3</th>\n",
       "      <th>trans__x3_4</th>\n",
       "      <th>trans__x3_5</th>\n",
       "      <th>trans__x3_6</th>\n",
       "      <th>trans__x3_7</th>\n",
       "      <th>trans__x3_8</th>\n",
       "      <th>trans__x3_9</th>\n",
       "      <th>monto_ajustado</th>\n",
       "    </tr>\n",
       "  </thead>\n",
       "  <tbody>\n",
       "    <tr>\n",
       "      <th>0</th>\n",
       "      <td>0001ad171f1562c43ff9d73795e851be920</td>\n",
       "      <td>202007.0</td>\n",
       "      <td>40.0</td>\n",
       "      <td>41.0</td>\n",
       "      <td>0.0</td>\n",
       "      <td>1.0</td>\n",
       "      <td>0.0</td>\n",
       "      <td>0.0</td>\n",
       "      <td>0.0</td>\n",
       "      <td>0.0</td>\n",
       "      <td>...</td>\n",
       "      <td>0.0</td>\n",
       "      <td>2.0</td>\n",
       "      <td>0.0</td>\n",
       "      <td>0.0</td>\n",
       "      <td>1.0</td>\n",
       "      <td>0.0</td>\n",
       "      <td>0.0</td>\n",
       "      <td>0.0</td>\n",
       "      <td>0.0</td>\n",
       "      <td>4521.11</td>\n",
       "    </tr>\n",
       "    <tr>\n",
       "      <th>1</th>\n",
       "      <td>0001ad171f1562c43ff9d73795e851be920</td>\n",
       "      <td>202008.0</td>\n",
       "      <td>40.0</td>\n",
       "      <td>42.0</td>\n",
       "      <td>0.0</td>\n",
       "      <td>1.0</td>\n",
       "      <td>0.0</td>\n",
       "      <td>0.0</td>\n",
       "      <td>0.0</td>\n",
       "      <td>0.0</td>\n",
       "      <td>...</td>\n",
       "      <td>3.0</td>\n",
       "      <td>2.0</td>\n",
       "      <td>0.0</td>\n",
       "      <td>0.0</td>\n",
       "      <td>0.0</td>\n",
       "      <td>0.0</td>\n",
       "      <td>0.0</td>\n",
       "      <td>0.0</td>\n",
       "      <td>1.0</td>\n",
       "      <td>3361.68</td>\n",
       "    </tr>\n",
       "    <tr>\n",
       "      <th>2</th>\n",
       "      <td>0001ad171f1562c43ff9d73795e851be920</td>\n",
       "      <td>202009.0</td>\n",
       "      <td>40.0</td>\n",
       "      <td>43.0</td>\n",
       "      <td>0.0</td>\n",
       "      <td>1.0</td>\n",
       "      <td>0.0</td>\n",
       "      <td>0.0</td>\n",
       "      <td>0.0</td>\n",
       "      <td>0.0</td>\n",
       "      <td>...</td>\n",
       "      <td>3.0</td>\n",
       "      <td>1.0</td>\n",
       "      <td>0.0</td>\n",
       "      <td>0.0</td>\n",
       "      <td>0.0</td>\n",
       "      <td>0.0</td>\n",
       "      <td>0.0</td>\n",
       "      <td>0.0</td>\n",
       "      <td>2.0</td>\n",
       "      <td>4432.64</td>\n",
       "    </tr>\n",
       "    <tr>\n",
       "      <th>3</th>\n",
       "      <td>0001ad171f1562c43ff9d73795e851be920</td>\n",
       "      <td>202010.0</td>\n",
       "      <td>40.0</td>\n",
       "      <td>44.0</td>\n",
       "      <td>0.0</td>\n",
       "      <td>1.0</td>\n",
       "      <td>0.0</td>\n",
       "      <td>0.0</td>\n",
       "      <td>0.0</td>\n",
       "      <td>0.0</td>\n",
       "      <td>...</td>\n",
       "      <td>3.0</td>\n",
       "      <td>2.0</td>\n",
       "      <td>0.0</td>\n",
       "      <td>0.0</td>\n",
       "      <td>2.0</td>\n",
       "      <td>0.0</td>\n",
       "      <td>0.0</td>\n",
       "      <td>0.0</td>\n",
       "      <td>2.0</td>\n",
       "      <td>8452.73</td>\n",
       "    </tr>\n",
       "    <tr>\n",
       "      <th>4</th>\n",
       "      <td>0001ad171f1562c43ff9d73795e851be920</td>\n",
       "      <td>202011.0</td>\n",
       "      <td>40.0</td>\n",
       "      <td>45.0</td>\n",
       "      <td>0.0</td>\n",
       "      <td>1.0</td>\n",
       "      <td>0.0</td>\n",
       "      <td>0.0</td>\n",
       "      <td>0.0</td>\n",
       "      <td>0.0</td>\n",
       "      <td>...</td>\n",
       "      <td>7.0</td>\n",
       "      <td>1.0</td>\n",
       "      <td>0.0</td>\n",
       "      <td>0.0</td>\n",
       "      <td>0.0</td>\n",
       "      <td>0.0</td>\n",
       "      <td>0.0</td>\n",
       "      <td>0.0</td>\n",
       "      <td>1.0</td>\n",
       "      <td>12923.95</td>\n",
       "    </tr>\n",
       "    <tr>\n",
       "      <th>...</th>\n",
       "      <td>...</td>\n",
       "      <td>...</td>\n",
       "      <td>...</td>\n",
       "      <td>...</td>\n",
       "      <td>...</td>\n",
       "      <td>...</td>\n",
       "      <td>...</td>\n",
       "      <td>...</td>\n",
       "      <td>...</td>\n",
       "      <td>...</td>\n",
       "      <td>...</td>\n",
       "      <td>...</td>\n",
       "      <td>...</td>\n",
       "      <td>...</td>\n",
       "      <td>...</td>\n",
       "      <td>...</td>\n",
       "      <td>...</td>\n",
       "      <td>...</td>\n",
       "      <td>...</td>\n",
       "      <td>...</td>\n",
       "      <td>...</td>\n",
       "    </tr>\n",
       "    <tr>\n",
       "      <th>9847</th>\n",
       "      <td>0009a4bc8fa0602c8c05d09e26008a19599</td>\n",
       "      <td>202102.0</td>\n",
       "      <td>NaN</td>\n",
       "      <td>NaN</td>\n",
       "      <td>NaN</td>\n",
       "      <td>NaN</td>\n",
       "      <td>NaN</td>\n",
       "      <td>NaN</td>\n",
       "      <td>NaN</td>\n",
       "      <td>NaN</td>\n",
       "      <td>...</td>\n",
       "      <td>NaN</td>\n",
       "      <td>NaN</td>\n",
       "      <td>NaN</td>\n",
       "      <td>NaN</td>\n",
       "      <td>NaN</td>\n",
       "      <td>NaN</td>\n",
       "      <td>NaN</td>\n",
       "      <td>NaN</td>\n",
       "      <td>NaN</td>\n",
       "      <td>NaN</td>\n",
       "    </tr>\n",
       "    <tr>\n",
       "      <th>9848</th>\n",
       "      <td>0009a4bc8fa0602c8c05d09e26008a19599</td>\n",
       "      <td>202103.0</td>\n",
       "      <td>NaN</td>\n",
       "      <td>NaN</td>\n",
       "      <td>NaN</td>\n",
       "      <td>NaN</td>\n",
       "      <td>NaN</td>\n",
       "      <td>NaN</td>\n",
       "      <td>NaN</td>\n",
       "      <td>NaN</td>\n",
       "      <td>...</td>\n",
       "      <td>NaN</td>\n",
       "      <td>NaN</td>\n",
       "      <td>NaN</td>\n",
       "      <td>NaN</td>\n",
       "      <td>NaN</td>\n",
       "      <td>NaN</td>\n",
       "      <td>NaN</td>\n",
       "      <td>NaN</td>\n",
       "      <td>NaN</td>\n",
       "      <td>NaN</td>\n",
       "    </tr>\n",
       "    <tr>\n",
       "      <th>9849</th>\n",
       "      <td>0009a4bc8fa0602c8c05d09e26008a19599</td>\n",
       "      <td>202104.0</td>\n",
       "      <td>24.0</td>\n",
       "      <td>3.0</td>\n",
       "      <td>1.0</td>\n",
       "      <td>0.0</td>\n",
       "      <td>0.0</td>\n",
       "      <td>0.0</td>\n",
       "      <td>0.0</td>\n",
       "      <td>0.0</td>\n",
       "      <td>...</td>\n",
       "      <td>1.0</td>\n",
       "      <td>0.0</td>\n",
       "      <td>0.0</td>\n",
       "      <td>0.0</td>\n",
       "      <td>0.0</td>\n",
       "      <td>0.0</td>\n",
       "      <td>0.0</td>\n",
       "      <td>0.0</td>\n",
       "      <td>0.0</td>\n",
       "      <td>130.29</td>\n",
       "    </tr>\n",
       "    <tr>\n",
       "      <th>9850</th>\n",
       "      <td>0009a4bc8fa0602c8c05d09e26008a19599</td>\n",
       "      <td>202105.0</td>\n",
       "      <td>NaN</td>\n",
       "      <td>NaN</td>\n",
       "      <td>NaN</td>\n",
       "      <td>NaN</td>\n",
       "      <td>NaN</td>\n",
       "      <td>NaN</td>\n",
       "      <td>NaN</td>\n",
       "      <td>NaN</td>\n",
       "      <td>...</td>\n",
       "      <td>NaN</td>\n",
       "      <td>NaN</td>\n",
       "      <td>NaN</td>\n",
       "      <td>NaN</td>\n",
       "      <td>NaN</td>\n",
       "      <td>NaN</td>\n",
       "      <td>NaN</td>\n",
       "      <td>NaN</td>\n",
       "      <td>NaN</td>\n",
       "      <td>NaN</td>\n",
       "    </tr>\n",
       "    <tr>\n",
       "      <th>9851</th>\n",
       "      <td>0009a4bc8fa0602c8c05d09e26008a19599</td>\n",
       "      <td>202106.0</td>\n",
       "      <td>NaN</td>\n",
       "      <td>NaN</td>\n",
       "      <td>NaN</td>\n",
       "      <td>NaN</td>\n",
       "      <td>NaN</td>\n",
       "      <td>NaN</td>\n",
       "      <td>NaN</td>\n",
       "      <td>NaN</td>\n",
       "      <td>...</td>\n",
       "      <td>NaN</td>\n",
       "      <td>NaN</td>\n",
       "      <td>NaN</td>\n",
       "      <td>NaN</td>\n",
       "      <td>NaN</td>\n",
       "      <td>NaN</td>\n",
       "      <td>NaN</td>\n",
       "      <td>NaN</td>\n",
       "      <td>NaN</td>\n",
       "      <td>NaN</td>\n",
       "    </tr>\n",
       "  </tbody>\n",
       "</table>\n",
       "<p>9852 rows × 55 columns</p>\n",
       "</div>"
      ],
      "text/plain": [
       "                   dni_titular_movimiento  anio_mes_cupon  client__edad  \\\n",
       "0     0001ad171f1562c43ff9d73795e851be920        202007.0          40.0   \n",
       "1     0001ad171f1562c43ff9d73795e851be920        202008.0          40.0   \n",
       "2     0001ad171f1562c43ff9d73795e851be920        202009.0          40.0   \n",
       "3     0001ad171f1562c43ff9d73795e851be920        202010.0          40.0   \n",
       "4     0001ad171f1562c43ff9d73795e851be920        202011.0          40.0   \n",
       "...                                   ...             ...           ...   \n",
       "9847  0009a4bc8fa0602c8c05d09e26008a19599        202102.0           NaN   \n",
       "9848  0009a4bc8fa0602c8c05d09e26008a19599        202103.0           NaN   \n",
       "9849  0009a4bc8fa0602c8c05d09e26008a19599        202104.0          24.0   \n",
       "9850  0009a4bc8fa0602c8c05d09e26008a19599        202105.0           NaN   \n",
       "9851  0009a4bc8fa0602c8c05d09e26008a19599        202106.0           NaN   \n",
       "\n",
       "      client__antig  client__x0_Hombre  client__x0_Mujer  \\\n",
       "0              41.0                0.0               1.0   \n",
       "1              42.0                0.0               1.0   \n",
       "2              43.0                0.0               1.0   \n",
       "3              44.0                0.0               1.0   \n",
       "4              45.0                0.0               1.0   \n",
       "...             ...                ...               ...   \n",
       "9847            NaN                NaN               NaN   \n",
       "9848            NaN                NaN               NaN   \n",
       "9849            3.0                1.0               0.0   \n",
       "9850            NaN                NaN               NaN   \n",
       "9851            NaN                NaN               NaN   \n",
       "\n",
       "      client__x0_Sin Datos  client__x1_Sector_Educativo  \\\n",
       "0                      0.0                          0.0   \n",
       "1                      0.0                          0.0   \n",
       "2                      0.0                          0.0   \n",
       "3                      0.0                          0.0   \n",
       "4                      0.0                          0.0   \n",
       "...                    ...                          ...   \n",
       "9847                   NaN                          NaN   \n",
       "9848                   NaN                          NaN   \n",
       "9849                   0.0                          0.0   \n",
       "9850                   NaN                          NaN   \n",
       "9851                   NaN                          NaN   \n",
       "\n",
       "      client__x1_Sector_Empleado_Comercio  client__x1_Sector_Financiero  ...  \\\n",
       "0                                     0.0                           0.0  ...   \n",
       "1                                     0.0                           0.0  ...   \n",
       "2                                     0.0                           0.0  ...   \n",
       "3                                     0.0                           0.0  ...   \n",
       "4                                     0.0                           0.0  ...   \n",
       "...                                   ...                           ...  ...   \n",
       "9847                                  NaN                           NaN  ...   \n",
       "9848                                  NaN                           NaN  ...   \n",
       "9849                                  0.0                           0.0  ...   \n",
       "9850                                  NaN                           NaN  ...   \n",
       "9851                                  NaN                           NaN  ...   \n",
       "\n",
       "      trans__x3_1  trans__x3_2  trans__x3_3  trans__x3_4  trans__x3_5  \\\n",
       "0             0.0          2.0          0.0          0.0          1.0   \n",
       "1             3.0          2.0          0.0          0.0          0.0   \n",
       "2             3.0          1.0          0.0          0.0          0.0   \n",
       "3             3.0          2.0          0.0          0.0          2.0   \n",
       "4             7.0          1.0          0.0          0.0          0.0   \n",
       "...           ...          ...          ...          ...          ...   \n",
       "9847          NaN          NaN          NaN          NaN          NaN   \n",
       "9848          NaN          NaN          NaN          NaN          NaN   \n",
       "9849          1.0          0.0          0.0          0.0          0.0   \n",
       "9850          NaN          NaN          NaN          NaN          NaN   \n",
       "9851          NaN          NaN          NaN          NaN          NaN   \n",
       "\n",
       "      trans__x3_6  trans__x3_7  trans__x3_8  trans__x3_9  monto_ajustado  \n",
       "0             0.0          0.0          0.0          0.0         4521.11  \n",
       "1             0.0          0.0          0.0          1.0         3361.68  \n",
       "2             0.0          0.0          0.0          2.0         4432.64  \n",
       "3             0.0          0.0          0.0          2.0         8452.73  \n",
       "4             0.0          0.0          0.0          1.0        12923.95  \n",
       "...           ...          ...          ...          ...             ...  \n",
       "9847          NaN          NaN          NaN          NaN             NaN  \n",
       "9848          NaN          NaN          NaN          NaN             NaN  \n",
       "9849          0.0          0.0          0.0          0.0          130.29  \n",
       "9850          NaN          NaN          NaN          NaN             NaN  \n",
       "9851          NaN          NaN          NaN          NaN             NaN  \n",
       "\n",
       "[9852 rows x 55 columns]"
      ]
     },
     "execution_count": 38,
     "metadata": {},
     "output_type": "execute_result"
    }
   ],
   "source": [
    "array_mes = df.anio_mes_cupon.sort_values().unique()\n",
    "array_dni = df.dni_titular_movimiento.unique()\n",
    "\n",
    "dic = {'dni': [], 'mes': []}\n",
    "for dni in array_dni:\n",
    "    for mes in array_mes:\n",
    "        dic['dni'].append(dni)\n",
    "        dic['mes'].append(mes)\n",
    "\n",
    "df_mes_imp = pd.merge(pd.DataFrame(dic), \n",
    "                      df, \n",
    "                      left_on=['dni','mes'], \n",
    "                      right_on=['dni_titular_movimiento','anio_mes_cupon'], \n",
    "                      how='left') \\\n",
    "                .drop(columns=['dni_titular_movimiento','anio_mes_cupon'])\n",
    "df_mes_imp = df_mes_imp.rename(columns={'dni': 'dni_titular_movimiento','mes': 'anio_mes_cupon'})\n",
    "df_mes_imp"
   ]
  },
  {
   "cell_type": "code",
   "execution_count": 39,
   "id": "7e645894-12d9-4325-9a40-b686f746f08c",
   "metadata": {},
   "outputs": [
    {
     "ename": "ValueError",
     "evalue": "Must have equal len keys and value when setting with an iterable",
     "output_type": "error",
     "traceback": [
      "\u001b[0;31m---------------------------------------------------------------------------\u001b[0m",
      "\u001b[0;31mValueError\u001b[0m                                Traceback (most recent call last)",
      "\u001b[0;32m<ipython-input-39-a65ac9ddf3f0>\u001b[0m in \u001b[0;36m<module>\u001b[0;34m()\u001b[0m\n\u001b[1;32m     29\u001b[0m \u001b[0;32mfor\u001b[0m \u001b[0mdni\u001b[0m \u001b[0;32min\u001b[0m \u001b[0marray_dni\u001b[0m\u001b[0;34m:\u001b[0m\u001b[0;34m\u001b[0m\u001b[0;34m\u001b[0m\u001b[0m\n\u001b[1;32m     30\u001b[0m     \u001b[0medad\u001b[0m \u001b[0;34m=\u001b[0m \u001b[0mdf_mes_imp_eb\u001b[0m\u001b[0;34m[\u001b[0m\u001b[0mdf_mes_imp\u001b[0m\u001b[0;34m[\u001b[0m\u001b[0;34m'dni_titular_movimiento'\u001b[0m\u001b[0;34m]\u001b[0m \u001b[0;34m==\u001b[0m \u001b[0mdni\u001b[0m\u001b[0;34m]\u001b[0m\u001b[0;34m[\u001b[0m\u001b[0;34m'client__edad'\u001b[0m\u001b[0;34m]\u001b[0m\u001b[0;34m.\u001b[0m\u001b[0mfillna\u001b[0m\u001b[0;34m(\u001b[0m\u001b[0mmethod\u001b[0m\u001b[0;34m=\u001b[0m\u001b[0;34m'backfill'\u001b[0m\u001b[0;34m)\u001b[0m\u001b[0;34m\u001b[0m\u001b[0;34m\u001b[0m\u001b[0m\n\u001b[0;32m---> 31\u001b[0;31m     \u001b[0mdf_mes_imp_eb\u001b[0m\u001b[0;34m.\u001b[0m\u001b[0mloc\u001b[0m\u001b[0;34m[\u001b[0m\u001b[0;34m(\u001b[0m\u001b[0;34m(\u001b[0m\u001b[0mdf_mes_imp\u001b[0m\u001b[0;34m[\u001b[0m\u001b[0;34m'dni_titular_movimiento'\u001b[0m\u001b[0;34m]\u001b[0m \u001b[0;34m==\u001b[0m \u001b[0mdni\u001b[0m\u001b[0;34m)\u001b[0m \u001b[0;34m&\u001b[0m \u001b[0;34m(\u001b[0m\u001b[0mdf_mes_imp\u001b[0m\u001b[0;34m[\u001b[0m\u001b[0;34m'client__edad'\u001b[0m\u001b[0;34m]\u001b[0m\u001b[0;34m.\u001b[0m\u001b[0misna\u001b[0m\u001b[0;34m(\u001b[0m\u001b[0;34m)\u001b[0m\u001b[0;34m)\u001b[0m\u001b[0;34m)\u001b[0m\u001b[0;34m,\u001b[0m \u001b[0;34m'client__edad'\u001b[0m\u001b[0;34m]\u001b[0m \u001b[0;34m=\u001b[0m \u001b[0medad\u001b[0m\u001b[0;34m\u001b[0m\u001b[0;34m\u001b[0m\u001b[0m\n\u001b[0m\u001b[1;32m     32\u001b[0m \u001b[0mdf_mes_imp_eb\u001b[0m \u001b[0;34m=\u001b[0m \u001b[0mdf_mes_imp_eb\u001b[0m\u001b[0;34m.\u001b[0m\u001b[0mrename\u001b[0m\u001b[0;34m(\u001b[0m\u001b[0mcolumns\u001b[0m\u001b[0;34m=\u001b[0m\u001b[0;34m{\u001b[0m\u001b[0;34m'client__edad'\u001b[0m\u001b[0;34m:\u001b[0m \u001b[0;34m'edad_b'\u001b[0m\u001b[0;34m}\u001b[0m\u001b[0;34m)\u001b[0m\u001b[0;34m\u001b[0m\u001b[0;34m\u001b[0m\u001b[0m\n\u001b[1;32m     33\u001b[0m \u001b[0;34m\u001b[0m\u001b[0m\n",
      "\u001b[0;32m/Users/lucianomantovani/opt/miniconda3/envs/diplodatos-ayvd/lib/python3.6/site-packages/pandas/core/indexing.py\u001b[0m in \u001b[0;36m__setitem__\u001b[0;34m(self, key, value)\u001b[0m\n\u001b[1;32m    668\u001b[0m \u001b[0;34m\u001b[0m\u001b[0m\n\u001b[1;32m    669\u001b[0m         \u001b[0miloc\u001b[0m \u001b[0;34m=\u001b[0m \u001b[0mself\u001b[0m \u001b[0;32mif\u001b[0m \u001b[0mself\u001b[0m\u001b[0;34m.\u001b[0m\u001b[0mname\u001b[0m \u001b[0;34m==\u001b[0m \u001b[0;34m\"iloc\"\u001b[0m \u001b[0;32melse\u001b[0m \u001b[0mself\u001b[0m\u001b[0;34m.\u001b[0m\u001b[0mobj\u001b[0m\u001b[0;34m.\u001b[0m\u001b[0miloc\u001b[0m\u001b[0;34m\u001b[0m\u001b[0;34m\u001b[0m\u001b[0m\n\u001b[0;32m--> 670\u001b[0;31m         \u001b[0miloc\u001b[0m\u001b[0;34m.\u001b[0m\u001b[0m_setitem_with_indexer\u001b[0m\u001b[0;34m(\u001b[0m\u001b[0mindexer\u001b[0m\u001b[0;34m,\u001b[0m \u001b[0mvalue\u001b[0m\u001b[0;34m)\u001b[0m\u001b[0;34m\u001b[0m\u001b[0;34m\u001b[0m\u001b[0m\n\u001b[0m\u001b[1;32m    671\u001b[0m \u001b[0;34m\u001b[0m\u001b[0m\n\u001b[1;32m    672\u001b[0m     \u001b[0;32mdef\u001b[0m \u001b[0m_validate_key\u001b[0m\u001b[0;34m(\u001b[0m\u001b[0mself\u001b[0m\u001b[0;34m,\u001b[0m \u001b[0mkey\u001b[0m\u001b[0;34m,\u001b[0m \u001b[0maxis\u001b[0m\u001b[0;34m:\u001b[0m \u001b[0mint\u001b[0m\u001b[0;34m)\u001b[0m\u001b[0;34m:\u001b[0m\u001b[0;34m\u001b[0m\u001b[0;34m\u001b[0m\u001b[0m\n",
      "\u001b[0;32m/Users/lucianomantovani/opt/miniconda3/envs/diplodatos-ayvd/lib/python3.6/site-packages/pandas/core/indexing.py\u001b[0m in \u001b[0;36m_setitem_with_indexer\u001b[0;34m(self, indexer, value)\u001b[0m\n\u001b[1;32m   1753\u001b[0m                     \u001b[0;32mif\u001b[0m \u001b[0mlen\u001b[0m\u001b[0;34m(\u001b[0m\u001b[0milocs\u001b[0m\u001b[0;34m)\u001b[0m \u001b[0;34m!=\u001b[0m \u001b[0mlen\u001b[0m\u001b[0;34m(\u001b[0m\u001b[0mvalue\u001b[0m\u001b[0;34m)\u001b[0m\u001b[0;34m:\u001b[0m\u001b[0;34m\u001b[0m\u001b[0;34m\u001b[0m\u001b[0m\n\u001b[1;32m   1754\u001b[0m                         raise ValueError(\n\u001b[0;32m-> 1755\u001b[0;31m                             \u001b[0;34m\"Must have equal len keys and value \"\u001b[0m\u001b[0;34m\u001b[0m\u001b[0;34m\u001b[0m\u001b[0m\n\u001b[0m\u001b[1;32m   1756\u001b[0m                             \u001b[0;34m\"when setting with an iterable\"\u001b[0m\u001b[0;34m\u001b[0m\u001b[0;34m\u001b[0m\u001b[0m\n\u001b[1;32m   1757\u001b[0m                         )\n",
      "\u001b[0;31mValueError\u001b[0m: Must have equal len keys and value when setting with an iterable"
     ]
    }
   ],
   "source": [
    "# Imputamos 0 en las columnas de la transacción que tienen nan\n",
    "cols = df_mes_imp.columns.values\n",
    "cols_zero = [x for x in cols if 'trans' in x]\n",
    "cols_zero.append('monto_ajustado')\n",
    "df_mes_imp[cols_zero] = df_mes_imp[cols_zero].fillna(0)\n",
    "\n",
    "# Imputamos lo valores propios del cliente\n",
    "imputer = SimpleImputer(missing_values=np.NaN, strategy='most_frequent')\n",
    "cols_client = [x for x in cols if 'client_' in x]\n",
    "df_mes_imp[cols_client] = imputer.fit_transform(df_mes_imp[cols_client].values)\n",
    "\n",
    "#Ordenamos por dni y mes\n",
    "df_mes_imp = df_mes_imp.sort_values(by=['dni_titular_movimiento','anio_mes_cupon']).reset_index().drop(columns=['index'])\n",
    "\n",
    "# Imputamos antigüedad\n",
    "for dni in array_dni:\n",
    "    min_mes = df_mes_imp[(df_mes_imp['dni_titular_movimiento'] == dni) & (~df_mes_imp.client__antig.isna())]['anio_mes_cupon'].min()\n",
    "    min_ant = df_mes_imp[(df_mes_imp['dni_titular_movimiento'] == dni) & (~df_mes_imp.client__antig.isna())]['client__antig'].min()\n",
    "    for mes in array_mes:\n",
    "        num_res = array_mes.tolist().index(mes) - array_mes.tolist().index(min_mes)\n",
    "        antig_cli = min_ant + num_res\n",
    "        if antig_cli < 0:\n",
    "            df_mes_imp.loc[((df_mes_imp['dni_titular_movimiento'] == dni) & (df_mes_imp['anio_mes_cupon'] == mes)), 'client__antig'] = 0\n",
    "        else:\n",
    "            df_mes_imp.loc[((df_mes_imp['dni_titular_movimiento'] == dni) & (df_mes_imp['anio_mes_cupon'] == mes)), 'client__antig'] = antig_cli\n",
    "\n",
    "# Imputación Edad\n",
    "df_mes_imp_eb = df_mes_imp[['dni_titular_movimiento', 'anio_mes_cupon', 'client__edad']].copy()\n",
    "for dni in array_dni:\n",
    "    edad = df_mes_imp_eb[df_mes_imp['dni_titular_movimiento'] == dni]['client__edad'].fillna(method='backfill')\n",
    "    df_mes_imp_eb.loc[((df_mes_imp['dni_titular_movimiento'] == dni) & (df_mes_imp['client__edad'].isna())), 'client__edad'] = edad\n",
    "df_mes_imp_eb = df_mes_imp_eb.rename(columns={'client__edad': 'edad_b'})\n",
    "\n",
    "df_mes_imp_ef = df_mes_imp[['dni_titular_movimiento', 'anio_mes_cupon', 'client__edad']].copy()\n",
    "for dni in array_dni:\n",
    "    edad = df_mes_imp_ef[df_mes_imp['dni_titular_movimiento'] == dni]['client__edad'].fillna(method='ffill')\n",
    "    df_mes_imp_ef.loc[((df_mes_imp['dni_titular_movimiento'] == dni) & (df_mes_imp['client__edad'].isna())), 'client__edad'] = edad\n",
    "df_mes_imp_ef = df_mes_imp_ef.rename(columns={'client__edad': 'edad_f'})\n",
    "\n",
    "df_mes_imp = df_mes_imp.merge(df_mes_imp_eb,\n",
    "                             left_on=['dni_titular_movimiento', 'anio_mes_cupon'],\n",
    "                             right_on=['dni_titular_movimiento', 'anio_mes_cupon']\n",
    "                            )\n",
    "df_mes_imp = df_mes_imp.merge(df_mes_imp_ef,\n",
    "                             left_on=['dni_titular_movimiento', 'anio_mes_cupon'],\n",
    "                             right_on=['dni_titular_movimiento', 'anio_mes_cupon']\n",
    "                            )\n",
    "df_mes_imp.loc[df_mes_imp['client__edad'].isna(), 'client__edad'] = df_mes_imp['edad_b']\n",
    "df_mes_imp.loc[df_mes_imp['client__edad'].isna(), 'client__edad'] = df_mes_imp['edad_f']\n",
    "\n",
    "df_mes_imp.drop(columns=['edad_b','edad_f'], inplace=True)"
   ]
  },
  {
   "cell_type": "code",
   "execution_count": 17,
   "id": "8ef088f2-ab02-4124-8591-10854b1e2328",
   "metadata": {},
   "outputs": [],
   "source": [
    "df_mes = df_mes_imp.copy()"
   ]
  },
  {
   "cell_type": "markdown",
   "id": "6797bef0-37c8-44dd-acf1-1d9271803ccb",
   "metadata": {},
   "source": [
    "# Modelos de Regresión - Predicción de consumo"
   ]
  },
  {
   "cell_type": "markdown",
   "id": "d3efd855-b9c5-4ded-b3ff-ccacd2965c70",
   "metadata": {},
   "source": [
    "## Linear SVR - Default"
   ]
  },
  {
   "cell_type": "markdown",
   "id": "14f75a2b-bcdc-423c-ba65-da13c3242691",
   "metadata": {},
   "source": [
    "LinerSVR es un modelo lineal. Teniendo en cuenta las visualizaciones al principio del practico donde observamos que las features numericas no se relacionan de forma lineal con el objetivo, no podriamos esperar mucho de este modelo o cualquier modelo lineal dado el caso.\n",
    "\n",
    "Elegimos MinMaxScaler para escalar las features numericas porque conserva el signo, y tenemos transacciones en negativo para la variable objetivo.\n",
    "\n",
    "Usamos _SelectFromModel()_ para reducir el numero de features del dataset, y de esa manera intentar mejorar las predicciones con un costo de computo menor al que si usaramos todas las features. Para seleccionar las columnas usamos _RandomForestRegressor_"
   ]
  },
  {
   "cell_type": "code",
   "execution_count": 18,
   "id": "007baf06-685f-40e9-8477-15777dd0cb68",
   "metadata": {},
   "outputs": [],
   "source": [
    "# Preproceso 1 para SGDRegressor - Default, RMSE 3395.724\n",
    "df = df_mes.copy()\n",
    "scaler = MinMaxScaler()\n",
    "ft_selector = RandomForestRegressor(random_state=0)\n",
    "model_ = LinearSVR(random_state=0)"
   ]
  },
  {
   "cell_type": "code",
   "execution_count": 19,
   "id": "d527f12c-27c7-4c01-9260-101a8f165793",
   "metadata": {},
   "outputs": [],
   "source": [
    "# Features and target\n",
    "X = df.drop([ordinal_ft, target], axis=1)\n",
    "y = df[target]"
   ]
  },
  {
   "cell_type": "code",
   "execution_count": 20,
   "id": "e81bbf73-af59-4c82-8fee-2f3eb1b422a1",
   "metadata": {},
   "outputs": [],
   "source": [
    "# Train and validation\n",
    "X_train, X_val, y_train, y_val = train_test_split(X, y, test_size=0.35, random_state=0, shuffle=False)"
   ]
  },
  {
   "cell_type": "markdown",
   "id": "af6e0da2-d58a-439b-84c2-fdded874943f",
   "metadata": {},
   "source": [
    "Elegimos una relacion entre train y test de un 35% para test. Esto lo hicimos en base a que en pruebas anteriores tuvimos casos donde el MSE para el conjunto de validacion era menor que en de train. Investigando sobre esto, dimos con que este problema se denomina under-fitting. Al tratarse de un modelo lineal tratando de predecir datos no lineales, este problema es esperable. Modificamos la cantidad de datos en train y test para prevenir la sobre simplificacion del modelo sobre los datos  e intentar reducir este problema. "
   ]
  },
  {
   "cell_type": "markdown",
   "id": "66f516bc-97a6-449f-b6fc-bd1c796d5d32",
   "metadata": {},
   "source": [
    "#### Preproceso y ajuste"
   ]
  },
  {
   "cell_type": "code",
   "execution_count": 21,
   "id": "39a0a267-0412-405e-9d22-39f3cd355902",
   "metadata": {},
   "outputs": [],
   "source": [
    "# Preprocessing\n",
    "num_transformer = scaler\n",
    "cat_transformer = 'passthrough'\n",
    "\n",
    "num_features = [g for g in X.columns if 'client__' not in g]\n",
    "cat_features = [g for g in X.columns if 'client__' in g]\n",
    "\n",
    "preprocessor = ColumnTransformer(\n",
    "    transformers=[\n",
    "        ('num', num_transformer, num_features),\n",
    "        ('cat', cat_transformer, cat_features)])"
   ]
  },
  {
   "cell_type": "code",
   "execution_count": 22,
   "id": "8dc38eda-aed6-4308-bc2e-1f4029b26863",
   "metadata": {},
   "outputs": [],
   "source": [
    "# Fit\n",
    "model = Pipeline([\n",
    "  ('preprocessor', preprocessor),\n",
    "  ('feature_selection', SelectFromModel(ft_selector)),\n",
    "  ('regressor', model_)\n",
    "])\n",
    "\n",
    "model.fit(X_train, y_train)\n",
    "svr = model"
   ]
  },
  {
   "cell_type": "code",
   "execution_count": 23,
   "id": "07abd386-68b4-4bfb-82b0-db6d6b438003",
   "metadata": {},
   "outputs": [],
   "source": [
    "# Predict\n",
    "y_train_pred = model.predict(X_train)\n",
    "y_valid_pred = model.predict(X_val)"
   ]
  },
  {
   "cell_type": "markdown",
   "id": "631bfa6a-2d0a-4cb6-9d91-c5716f15489d",
   "metadata": {},
   "source": [
    "#### Evaluacion de predicciones"
   ]
  },
  {
   "cell_type": "code",
   "execution_count": 24,
   "id": "80350f59-fbdb-44d3-9ff7-f0ac8d7b42c8",
   "metadata": {
    "tags": []
   },
   "outputs": [
    {
     "name": "stdout",
     "output_type": "stream",
     "text": [
      "Train error 251251004.716, Valid error 244958534.354\n"
     ]
    }
   ],
   "source": [
    "# evaluate MSE:\n",
    "train_error = mean_squared_error(y_train, y_train_pred)\n",
    "val_error = mean_squared_error(y_val, y_valid_pred)\n",
    "print(f'Train error {train_error.round(3)}, Valid error {val_error.round(3)}')  "
   ]
  },
  {
   "cell_type": "code",
   "execution_count": 25,
   "id": "4f09771b-4b03-443f-99b2-af34db8d7ecb",
   "metadata": {
    "tags": []
   },
   "outputs": [
    {
     "name": "stdout",
     "output_type": "stream",
     "text": [
      "Train error RMSE 15850.899, Valid error RMSE 15651.151\n"
     ]
    }
   ],
   "source": [
    "# evaluate RMSE:\n",
    "train_error = np.sqrt(mean_squared_error(y_train, y_train_pred))\n",
    "val_error = np.sqrt(mean_squared_error(y_val, y_valid_pred))\n",
    "print(f'Train error RMSE {train_error.round(3)}, Valid error RMSE {val_error.round(3)}')  "
   ]
  },
  {
   "cell_type": "code",
   "execution_count": 26,
   "id": "1e8e198a-c58f-41ee-9a82-cf8ff54318d1",
   "metadata": {
    "tags": []
   },
   "outputs": [
    {
     "name": "stdout",
     "output_type": "stream",
     "text": [
      "Train error MAE 8776.434, Valid error MAE 8237.191\n"
     ]
    }
   ],
   "source": [
    "# evaluate MAE:\n",
    "train_error = mean_absolute_error(y_train, y_train_pred)\n",
    "val_error = mean_absolute_error(y_val, y_valid_pred)\n",
    "print(f'Train error MAE {train_error.round(3)}, Valid error MAE {val_error.round(3)}')  "
   ]
  },
  {
   "cell_type": "markdown",
   "id": "4f59124c-f6f7-4049-8ade-cb14d703f45e",
   "metadata": {
    "tags": []
   },
   "source": [
    "Visualizamos nuestra variable target (real y predicción)"
   ]
  },
  {
   "cell_type": "code",
   "execution_count": 27,
   "id": "5c988edc-4bb3-4c25-b275-2621d2d9be4a",
   "metadata": {},
   "outputs": [
    {
     "data": {
      "text/html": [
       "<div>\n",
       "<style scoped>\n",
       "    .dataframe tbody tr th:only-of-type {\n",
       "        vertical-align: middle;\n",
       "    }\n",
       "\n",
       "    .dataframe tbody tr th {\n",
       "        vertical-align: top;\n",
       "    }\n",
       "\n",
       "    .dataframe thead th {\n",
       "        text-align: right;\n",
       "    }\n",
       "</style>\n",
       "<table border=\"1\" class=\"dataframe\">\n",
       "  <thead>\n",
       "    <tr style=\"text-align: right;\">\n",
       "      <th></th>\n",
       "      <th>val_real</th>\n",
       "    </tr>\n",
       "  </thead>\n",
       "  <tbody>\n",
       "    <tr>\n",
       "      <th>count</th>\n",
       "      <td>3465.00</td>\n",
       "    </tr>\n",
       "    <tr>\n",
       "      <th>mean</th>\n",
       "      <td>8442.94</td>\n",
       "    </tr>\n",
       "    <tr>\n",
       "      <th>std</th>\n",
       "      <td>13978.99</td>\n",
       "    </tr>\n",
       "    <tr>\n",
       "      <th>min</th>\n",
       "      <td>-14160.00</td>\n",
       "    </tr>\n",
       "    <tr>\n",
       "      <th>25%</th>\n",
       "      <td>0.00</td>\n",
       "    </tr>\n",
       "    <tr>\n",
       "      <th>50%</th>\n",
       "      <td>1929.00</td>\n",
       "    </tr>\n",
       "    <tr>\n",
       "      <th>75%</th>\n",
       "      <td>11802.00</td>\n",
       "    </tr>\n",
       "    <tr>\n",
       "      <th>max</th>\n",
       "      <td>134045.00</td>\n",
       "    </tr>\n",
       "  </tbody>\n",
       "</table>\n",
       "</div>"
      ],
      "text/plain": [
       "        val_real\n",
       "count    3465.00\n",
       "mean     8442.94\n",
       "std     13978.99\n",
       "min    -14160.00\n",
       "25%         0.00\n",
       "50%      1929.00\n",
       "75%     11802.00\n",
       "max    134045.00"
      ]
     },
     "execution_count": 27,
     "metadata": {},
     "output_type": "execute_result"
    }
   ],
   "source": [
    "pd.DataFrame(y_val.values.astype(int), columns=['val_real']).describe().round(2)"
   ]
  },
  {
   "cell_type": "code",
   "execution_count": 28,
   "id": "6e3a69c0-1d07-4ae8-980e-d293ff3b933e",
   "metadata": {},
   "outputs": [
    {
     "data": {
      "text/html": [
       "<div>\n",
       "<style scoped>\n",
       "    .dataframe tbody tr th:only-of-type {\n",
       "        vertical-align: middle;\n",
       "    }\n",
       "\n",
       "    .dataframe tbody tr th {\n",
       "        vertical-align: top;\n",
       "    }\n",
       "\n",
       "    .dataframe thead th {\n",
       "        text-align: right;\n",
       "    }\n",
       "</style>\n",
       "<table border=\"1\" class=\"dataframe\">\n",
       "  <thead>\n",
       "    <tr style=\"text-align: right;\">\n",
       "      <th></th>\n",
       "      <th>val_pred</th>\n",
       "    </tr>\n",
       "  </thead>\n",
       "  <tbody>\n",
       "    <tr>\n",
       "      <th>count</th>\n",
       "      <td>3465.00</td>\n",
       "    </tr>\n",
       "    <tr>\n",
       "      <th>mean</th>\n",
       "      <td>1213.52</td>\n",
       "    </tr>\n",
       "    <tr>\n",
       "      <th>std</th>\n",
       "      <td>220.42</td>\n",
       "    </tr>\n",
       "    <tr>\n",
       "      <th>min</th>\n",
       "      <td>797.00</td>\n",
       "    </tr>\n",
       "    <tr>\n",
       "      <th>25%</th>\n",
       "      <td>1052.56</td>\n",
       "    </tr>\n",
       "    <tr>\n",
       "      <th>50%</th>\n",
       "      <td>1187.18</td>\n",
       "    </tr>\n",
       "    <tr>\n",
       "      <th>75%</th>\n",
       "      <td>1338.93</td>\n",
       "    </tr>\n",
       "    <tr>\n",
       "      <th>max</th>\n",
       "      <td>2565.63</td>\n",
       "    </tr>\n",
       "  </tbody>\n",
       "</table>\n",
       "</div>"
      ],
      "text/plain": [
       "       val_pred\n",
       "count   3465.00\n",
       "mean    1213.52\n",
       "std      220.42\n",
       "min      797.00\n",
       "25%     1052.56\n",
       "50%     1187.18\n",
       "75%     1338.93\n",
       "max     2565.63"
      ]
     },
     "execution_count": 28,
     "metadata": {},
     "output_type": "execute_result"
    }
   ],
   "source": [
    "pd.DataFrame(y_valid_pred, columns=['val_pred']).describe().round(2)"
   ]
  },
  {
   "cell_type": "markdown",
   "id": "7f99ea6c-2821-4593-aae4-c411ca2ccc90",
   "metadata": {},
   "source": [
    "## Linear SVR - Grid Search"
   ]
  },
  {
   "cell_type": "code",
   "execution_count": 29,
   "id": "5b4a0e1e-254e-45ad-832f-284ca4163960",
   "metadata": {
    "tags": []
   },
   "outputs": [],
   "source": [
    "param_grid = {\n",
    "    'regressor__epsilon': [0.1, 0.01, 0.0001,0.001],\n",
    "    'regressor__tol': [1e-3, 1e-4, 1e-5, 1e-6],\n",
    "    'regressor__C': [1, 2, 0.01, 0.001],\n",
    "    'regressor__loss': ['epsilon_insensitive', 'squared_epsilon_insensitive']\n",
    "}"
   ]
  },
  {
   "cell_type": "code",
   "execution_count": 30,
   "id": "4dc651da-281a-41c9-a72f-2ba94c0db6fd",
   "metadata": {},
   "outputs": [],
   "source": [
    "# Preproceso 1 para SGDRegressor - GridSearch\n",
    "df = df_mes.copy()\n",
    "scaler = MinMaxScaler()\n",
    "#ft_selector = LinearSVR(random_state=0)\n",
    "model_ = LinearSVR(random_state=0)"
   ]
  },
  {
   "cell_type": "code",
   "execution_count": 31,
   "id": "fff12bb1-0ff0-40c7-8293-0883129f22e1",
   "metadata": {},
   "outputs": [],
   "source": [
    "# Features and target\n",
    "X = df.drop([ordinal_ft, target], axis=1)\n",
    "y = df[target]"
   ]
  },
  {
   "cell_type": "code",
   "execution_count": 32,
   "id": "4bafe4a4-8821-49cf-976e-908be22c91f0",
   "metadata": {},
   "outputs": [],
   "source": [
    "# Train and validation\n",
    "X_train, X_val, y_train, y_val = train_test_split(X, y, test_size=0.3, random_state=0, shuffle=False)"
   ]
  },
  {
   "cell_type": "markdown",
   "id": "83523c43-161f-47e6-a86f-56a665c521d7",
   "metadata": {},
   "source": [
    "#### Preproceso y ajuste"
   ]
  },
  {
   "cell_type": "code",
   "execution_count": 33,
   "id": "775e7356-f989-4600-b846-d8ad2b13d146",
   "metadata": {
    "tags": []
   },
   "outputs": [],
   "source": [
    "# Fit\n",
    "pipe = Pipeline([\n",
    "  ('preprocessor', preprocessor),\n",
    "#  ('feature_selection', SelectFromModel(ft_selector)),\n",
    "  ('regressor', model_)\n",
    "])\n",
    "\n",
    "model = RandomizedSearchCV(pipe, param_grid, scoring='neg_mean_squared_error',cv=5, n_iter=40)\n",
    "\n",
    "model.fit(X_train, y_train)\n",
    "svr_cv = model"
   ]
  },
  {
   "cell_type": "code",
   "execution_count": 34,
   "id": "bafb831e-115f-4d56-a6ac-3272c10c4d19",
   "metadata": {
    "tags": []
   },
   "outputs": [
    {
     "data": {
      "text/plain": [
       "{'regressor__tol': 1e-05,\n",
       " 'regressor__loss': 'squared_epsilon_insensitive',\n",
       " 'regressor__epsilon': 0.0001,\n",
       " 'regressor__C': 1}"
      ]
     },
     "execution_count": 34,
     "metadata": {},
     "output_type": "execute_result"
    }
   ],
   "source": [
    "model.best_params_"
   ]
  },
  {
   "cell_type": "code",
   "execution_count": 35,
   "id": "2d939c08-6e68-4f49-961c-3c462ef1cd9a",
   "metadata": {},
   "outputs": [],
   "source": [
    "# Predict\n",
    "y_train_pred = model.predict(X_train)\n",
    "y_valid_pred = model.predict(X_val)"
   ]
  },
  {
   "cell_type": "markdown",
   "id": "459aeb91-e975-47cd-9586-72953b77d786",
   "metadata": {},
   "source": [
    "#### Evaluacion de predicciones"
   ]
  },
  {
   "cell_type": "code",
   "execution_count": 36,
   "id": "d1a316cf-b2ac-47ce-a0ac-eba8f4d54de4",
   "metadata": {
    "tags": []
   },
   "outputs": [
    {
     "name": "stdout",
     "output_type": "stream",
     "text": [
      "Train error 76540089.113, Valid error 96927896.761\n"
     ]
    }
   ],
   "source": [
    "# evaluate MSE:\n",
    "train_error = mean_squared_error(y_train, y_train_pred)\n",
    "val_error = mean_squared_error(y_val, y_valid_pred)\n",
    "print(f'Train error {train_error.round(3)}, Valid error {val_error.round(3)}')  "
   ]
  },
  {
   "cell_type": "code",
   "execution_count": 37,
   "id": "e4990ae6-1fd7-4fc5-bbb4-c6ec47476cdf",
   "metadata": {
    "tags": []
   },
   "outputs": [
    {
     "name": "stdout",
     "output_type": "stream",
     "text": [
      "Train error RMSE 8748.719, Valid error RMSE 9845.197\n"
     ]
    }
   ],
   "source": [
    "# evaluate RMSE:\n",
    "train_error = np.sqrt(mean_squared_error(y_train, y_train_pred))\n",
    "val_error = np.sqrt(mean_squared_error(y_val, y_valid_pred))\n",
    "print(f'Train error RMSE {train_error.round(3)}, Valid error RMSE {val_error.round(3)}')  "
   ]
  },
  {
   "cell_type": "code",
   "execution_count": 38,
   "id": "b4d80d99-7aa4-46d2-95f6-4e1ac2d894ae",
   "metadata": {
    "tags": []
   },
   "outputs": [
    {
     "name": "stdout",
     "output_type": "stream",
     "text": [
      "Train error MAE 4940.752, Valid error MAE 5311.332\n"
     ]
    }
   ],
   "source": [
    "# evaluate MAE:\n",
    "train_error = mean_absolute_error(y_train, y_train_pred)\n",
    "val_error = mean_absolute_error(y_val, y_valid_pred)\n",
    "print(f'Train error MAE {train_error.round(3)}, Valid error MAE {val_error.round(3)}')  "
   ]
  },
  {
   "cell_type": "markdown",
   "id": "a70a28ac-3109-4e80-b1e9-a44216e527ce",
   "metadata": {
    "tags": []
   },
   "source": [
    "Visualizamos nuestra variable target (real y predicción)"
   ]
  },
  {
   "cell_type": "code",
   "execution_count": 39,
   "id": "1f44b194-19d3-4d3e-8b77-3d4e17ff5d6e",
   "metadata": {},
   "outputs": [
    {
     "data": {
      "text/html": [
       "<div>\n",
       "<style scoped>\n",
       "    .dataframe tbody tr th:only-of-type {\n",
       "        vertical-align: middle;\n",
       "    }\n",
       "\n",
       "    .dataframe tbody tr th {\n",
       "        vertical-align: top;\n",
       "    }\n",
       "\n",
       "    .dataframe thead th {\n",
       "        text-align: right;\n",
       "    }\n",
       "</style>\n",
       "<table border=\"1\" class=\"dataframe\">\n",
       "  <thead>\n",
       "    <tr style=\"text-align: right;\">\n",
       "      <th></th>\n",
       "      <th>val_real</th>\n",
       "    </tr>\n",
       "  </thead>\n",
       "  <tbody>\n",
       "    <tr>\n",
       "      <th>count</th>\n",
       "      <td>2970.00</td>\n",
       "    </tr>\n",
       "    <tr>\n",
       "      <th>mean</th>\n",
       "      <td>8658.18</td>\n",
       "    </tr>\n",
       "    <tr>\n",
       "      <th>std</th>\n",
       "      <td>14232.20</td>\n",
       "    </tr>\n",
       "    <tr>\n",
       "      <th>min</th>\n",
       "      <td>-14160.00</td>\n",
       "    </tr>\n",
       "    <tr>\n",
       "      <th>25%</th>\n",
       "      <td>0.00</td>\n",
       "    </tr>\n",
       "    <tr>\n",
       "      <th>50%</th>\n",
       "      <td>2096.00</td>\n",
       "    </tr>\n",
       "    <tr>\n",
       "      <th>75%</th>\n",
       "      <td>12011.50</td>\n",
       "    </tr>\n",
       "    <tr>\n",
       "      <th>max</th>\n",
       "      <td>134045.00</td>\n",
       "    </tr>\n",
       "  </tbody>\n",
       "</table>\n",
       "</div>"
      ],
      "text/plain": [
       "        val_real\n",
       "count    2970.00\n",
       "mean     8658.18\n",
       "std     14232.20\n",
       "min    -14160.00\n",
       "25%         0.00\n",
       "50%      2096.00\n",
       "75%     12011.50\n",
       "max    134045.00"
      ]
     },
     "execution_count": 39,
     "metadata": {},
     "output_type": "execute_result"
    }
   ],
   "source": [
    "pd.DataFrame(y_val.values.astype(int), columns=['val_real']).describe().round(2)"
   ]
  },
  {
   "cell_type": "code",
   "execution_count": 40,
   "id": "71a03a48-c6ae-481a-b12e-00ba64756537",
   "metadata": {},
   "outputs": [
    {
     "data": {
      "text/html": [
       "<div>\n",
       "<style scoped>\n",
       "    .dataframe tbody tr th:only-of-type {\n",
       "        vertical-align: middle;\n",
       "    }\n",
       "\n",
       "    .dataframe tbody tr th {\n",
       "        vertical-align: top;\n",
       "    }\n",
       "\n",
       "    .dataframe thead th {\n",
       "        text-align: right;\n",
       "    }\n",
       "</style>\n",
       "<table border=\"1\" class=\"dataframe\">\n",
       "  <thead>\n",
       "    <tr style=\"text-align: right;\">\n",
       "      <th></th>\n",
       "      <th>val_pred</th>\n",
       "    </tr>\n",
       "  </thead>\n",
       "  <tbody>\n",
       "    <tr>\n",
       "      <th>count</th>\n",
       "      <td>2970.00</td>\n",
       "    </tr>\n",
       "    <tr>\n",
       "      <th>mean</th>\n",
       "      <td>8738.09</td>\n",
       "    </tr>\n",
       "    <tr>\n",
       "      <th>std</th>\n",
       "      <td>10408.02</td>\n",
       "    </tr>\n",
       "    <tr>\n",
       "      <th>min</th>\n",
       "      <td>-3033.19</td>\n",
       "    </tr>\n",
       "    <tr>\n",
       "      <th>25%</th>\n",
       "      <td>641.58</td>\n",
       "    </tr>\n",
       "    <tr>\n",
       "      <th>50%</th>\n",
       "      <td>5242.83</td>\n",
       "    </tr>\n",
       "    <tr>\n",
       "      <th>75%</th>\n",
       "      <td>13450.83</td>\n",
       "    </tr>\n",
       "    <tr>\n",
       "      <th>max</th>\n",
       "      <td>81639.75</td>\n",
       "    </tr>\n",
       "  </tbody>\n",
       "</table>\n",
       "</div>"
      ],
      "text/plain": [
       "       val_pred\n",
       "count   2970.00\n",
       "mean    8738.09\n",
       "std    10408.02\n",
       "min    -3033.19\n",
       "25%      641.58\n",
       "50%     5242.83\n",
       "75%    13450.83\n",
       "max    81639.75"
      ]
     },
     "execution_count": 40,
     "metadata": {},
     "output_type": "execute_result"
    }
   ],
   "source": [
    "pd.DataFrame(y_valid_pred, columns=['val_pred']).describe().round(2)"
   ]
  },
  {
   "cell_type": "markdown",
   "id": "58e6e522-ef49-4ba9-9cbb-8c83e762efb3",
   "metadata": {},
   "source": [
    "## SGDRegressor - Default"
   ]
  },
  {
   "cell_type": "code",
   "execution_count": 41,
   "id": "b0369c52-609e-4583-8649-19330510c68a",
   "metadata": {},
   "outputs": [],
   "source": [
    "# Preproceso 1 para SGDRegressor - Default, RMSE 3395.724\n",
    "df = df_mes.copy()\n",
    "scaler = MinMaxScaler()\n",
    "ft_selector = LinearSVR(random_state=0)\n",
    "model_ = SGDRegressor(random_state=0, shuffle=False)"
   ]
  },
  {
   "cell_type": "code",
   "execution_count": 42,
   "id": "1ab50ab1-9349-40a3-84d0-7b64ff2cd614",
   "metadata": {},
   "outputs": [],
   "source": [
    "# Features and target\n",
    "X = df.drop([ordinal_ft, target], axis=1)\n",
    "y = df[target]"
   ]
  },
  {
   "cell_type": "code",
   "execution_count": 43,
   "id": "9c694396-6e80-40a3-8686-819366062fb2",
   "metadata": {},
   "outputs": [],
   "source": [
    "# Train and validation\n",
    "X_train, X_val, y_train, y_val = train_test_split(X, y, test_size=0.30, random_state=0, shuffle=False)"
   ]
  },
  {
   "cell_type": "markdown",
   "id": "742f8cd3-3d3a-4515-b8ce-ed769d9f5700",
   "metadata": {},
   "source": [
    "#### Preproceso y ajuste"
   ]
  },
  {
   "cell_type": "code",
   "execution_count": 44,
   "id": "d5661721-b4c6-4164-b590-e1678af1f06f",
   "metadata": {},
   "outputs": [],
   "source": [
    "# Preprocessing\n",
    "num_transformer = scaler\n",
    "cat_transformer = 'passthrough'\n",
    "\n",
    "num_features = [g for g in X.columns if 'client__' not in g]\n",
    "cat_features = [g for g in X.columns if 'client__' in g]\n",
    "\n",
    "preprocessor = ColumnTransformer(\n",
    "    transformers=[\n",
    "        ('num', num_transformer, num_features),\n",
    "        ('cat', cat_transformer, cat_features)])"
   ]
  },
  {
   "cell_type": "code",
   "execution_count": 45,
   "id": "6309e79e-8e36-4d3d-a763-6aa996bff286",
   "metadata": {},
   "outputs": [],
   "source": [
    "# Fit\n",
    "model = Pipeline([\n",
    "  ('preprocessor', preprocessor),\n",
    "  ('feature_selection', SelectFromModel(ft_selector)),\n",
    "  ('regressor', model_)\n",
    "])\n",
    "\n",
    "model.fit(X_train, y_train)\n",
    "sgd = model"
   ]
  },
  {
   "cell_type": "code",
   "execution_count": 46,
   "id": "d38485c7-bf4d-473a-862a-b4f2270d1a5b",
   "metadata": {},
   "outputs": [],
   "source": [
    "# Predict\n",
    "y_train_pred = model.predict(X_train)\n",
    "y_valid_pred = model.predict(X_val)"
   ]
  },
  {
   "cell_type": "markdown",
   "id": "0e72050f-083a-4bfb-a28e-dd0fbcf524c6",
   "metadata": {},
   "source": [
    "#### Evaluacion de predicciones"
   ]
  },
  {
   "cell_type": "code",
   "execution_count": 47,
   "id": "dcd06370-c4a3-483a-a8a4-23a266818c4c",
   "metadata": {
    "tags": []
   },
   "outputs": [
    {
     "name": "stdout",
     "output_type": "stream",
     "text": [
      "Train error 81680815.702, Valid error 95237063.684\n"
     ]
    }
   ],
   "source": [
    "# evaluate MSE:\n",
    "train_error = mean_squared_error(y_train, y_train_pred)\n",
    "val_error = mean_squared_error(y_val, y_valid_pred)\n",
    "print(f'Train error {train_error.round(3)}, Valid error {val_error.round(3)}')  "
   ]
  },
  {
   "cell_type": "code",
   "execution_count": 48,
   "id": "9a23b643-d24b-410a-9d46-18f73c845d7d",
   "metadata": {
    "tags": []
   },
   "outputs": [
    {
     "name": "stdout",
     "output_type": "stream",
     "text": [
      "Train error RMSE 9037.744, Valid error RMSE 9758.948\n"
     ]
    }
   ],
   "source": [
    "# evaluate RMSE:\n",
    "train_error = np.sqrt(mean_squared_error(y_train, y_train_pred))\n",
    "val_error = np.sqrt(mean_squared_error(y_val, y_valid_pred))\n",
    "print(f'Train error RMSE {train_error.round(3)}, Valid error RMSE {val_error.round(3)}')  "
   ]
  },
  {
   "cell_type": "code",
   "execution_count": 49,
   "id": "58f1d898-6336-4193-8180-6374cf59aabb",
   "metadata": {
    "tags": []
   },
   "outputs": [
    {
     "name": "stdout",
     "output_type": "stream",
     "text": [
      "Train error MAE 5070.505, Valid error MAE 5262.135\n"
     ]
    }
   ],
   "source": [
    "# evaluate MAE:\n",
    "train_error = mean_absolute_error(y_train, y_train_pred)\n",
    "val_error = mean_absolute_error(y_val, y_valid_pred)\n",
    "print(f'Train error MAE {train_error.round(3)}, Valid error MAE {val_error.round(3)}')  "
   ]
  },
  {
   "cell_type": "markdown",
   "id": "8d9a6b95-6c26-48af-aafd-647890768bd8",
   "metadata": {
    "tags": []
   },
   "source": [
    "Visualizamos nuestra variable target (real y predicción)"
   ]
  },
  {
   "cell_type": "code",
   "execution_count": 50,
   "id": "7a446baf-8ba4-48b3-9bc8-7b9b835f0d22",
   "metadata": {},
   "outputs": [
    {
     "data": {
      "text/html": [
       "<div>\n",
       "<style scoped>\n",
       "    .dataframe tbody tr th:only-of-type {\n",
       "        vertical-align: middle;\n",
       "    }\n",
       "\n",
       "    .dataframe tbody tr th {\n",
       "        vertical-align: top;\n",
       "    }\n",
       "\n",
       "    .dataframe thead th {\n",
       "        text-align: right;\n",
       "    }\n",
       "</style>\n",
       "<table border=\"1\" class=\"dataframe\">\n",
       "  <thead>\n",
       "    <tr style=\"text-align: right;\">\n",
       "      <th></th>\n",
       "      <th>val_real</th>\n",
       "    </tr>\n",
       "  </thead>\n",
       "  <tbody>\n",
       "    <tr>\n",
       "      <th>count</th>\n",
       "      <td>2970.00</td>\n",
       "    </tr>\n",
       "    <tr>\n",
       "      <th>mean</th>\n",
       "      <td>8658.18</td>\n",
       "    </tr>\n",
       "    <tr>\n",
       "      <th>std</th>\n",
       "      <td>14232.20</td>\n",
       "    </tr>\n",
       "    <tr>\n",
       "      <th>min</th>\n",
       "      <td>-14160.00</td>\n",
       "    </tr>\n",
       "    <tr>\n",
       "      <th>25%</th>\n",
       "      <td>0.00</td>\n",
       "    </tr>\n",
       "    <tr>\n",
       "      <th>50%</th>\n",
       "      <td>2096.00</td>\n",
       "    </tr>\n",
       "    <tr>\n",
       "      <th>75%</th>\n",
       "      <td>12011.50</td>\n",
       "    </tr>\n",
       "    <tr>\n",
       "      <th>max</th>\n",
       "      <td>134045.00</td>\n",
       "    </tr>\n",
       "  </tbody>\n",
       "</table>\n",
       "</div>"
      ],
      "text/plain": [
       "        val_real\n",
       "count    2970.00\n",
       "mean     8658.18\n",
       "std     14232.20\n",
       "min    -14160.00\n",
       "25%         0.00\n",
       "50%      2096.00\n",
       "75%     12011.50\n",
       "max    134045.00"
      ]
     },
     "execution_count": 50,
     "metadata": {},
     "output_type": "execute_result"
    }
   ],
   "source": [
    "pd.DataFrame(y_val.values.astype(int), columns=['val_real']).describe().round(2)"
   ]
  },
  {
   "cell_type": "code",
   "execution_count": 51,
   "id": "a217b7ad-1061-475f-b4f5-b77bf0e64be5",
   "metadata": {},
   "outputs": [
    {
     "data": {
      "text/html": [
       "<div>\n",
       "<style scoped>\n",
       "    .dataframe tbody tr th:only-of-type {\n",
       "        vertical-align: middle;\n",
       "    }\n",
       "\n",
       "    .dataframe tbody tr th {\n",
       "        vertical-align: top;\n",
       "    }\n",
       "\n",
       "    .dataframe thead th {\n",
       "        text-align: right;\n",
       "    }\n",
       "</style>\n",
       "<table border=\"1\" class=\"dataframe\">\n",
       "  <thead>\n",
       "    <tr style=\"text-align: right;\">\n",
       "      <th></th>\n",
       "      <th>val_pred</th>\n",
       "    </tr>\n",
       "  </thead>\n",
       "  <tbody>\n",
       "    <tr>\n",
       "      <th>count</th>\n",
       "      <td>2970.00</td>\n",
       "    </tr>\n",
       "    <tr>\n",
       "      <th>mean</th>\n",
       "      <td>8561.38</td>\n",
       "    </tr>\n",
       "    <tr>\n",
       "      <th>std</th>\n",
       "      <td>10530.32</td>\n",
       "    </tr>\n",
       "    <tr>\n",
       "      <th>min</th>\n",
       "      <td>-1172.40</td>\n",
       "    </tr>\n",
       "    <tr>\n",
       "      <th>25%</th>\n",
       "      <td>352.70</td>\n",
       "    </tr>\n",
       "    <tr>\n",
       "      <th>50%</th>\n",
       "      <td>5209.23</td>\n",
       "    </tr>\n",
       "    <tr>\n",
       "      <th>75%</th>\n",
       "      <td>13259.47</td>\n",
       "    </tr>\n",
       "    <tr>\n",
       "      <th>max</th>\n",
       "      <td>87576.29</td>\n",
       "    </tr>\n",
       "  </tbody>\n",
       "</table>\n",
       "</div>"
      ],
      "text/plain": [
       "       val_pred\n",
       "count   2970.00\n",
       "mean    8561.38\n",
       "std    10530.32\n",
       "min    -1172.40\n",
       "25%      352.70\n",
       "50%     5209.23\n",
       "75%    13259.47\n",
       "max    87576.29"
      ]
     },
     "execution_count": 51,
     "metadata": {},
     "output_type": "execute_result"
    }
   ],
   "source": [
    "pd.DataFrame(y_valid_pred, columns=['val_pred']).describe().round(2)"
   ]
  },
  {
   "cell_type": "markdown",
   "id": "96a717c0-b221-42c5-828b-2069e4f1949d",
   "metadata": {},
   "source": [
    "## SGDRegressor- Grid Search"
   ]
  },
  {
   "cell_type": "code",
   "execution_count": 52,
   "id": "5c3ed709-e99d-478c-8687-57d911ac213f",
   "metadata": {
    "tags": []
   },
   "outputs": [],
   "source": [
    "param_grid = {\n",
    "    'regressor__loss': ['squared_loss','huber','epsilon_insensitive','squared_epsilon_insensitive'],\n",
    "    'regressor__penalty': ['l2','l1'],\n",
    "    'regressor__alpha': [0.01, 0.1, 1],\n",
    "    'regressor__epsilon': [0.1, 0.01],\n",
    "    'regressor__tol': [1e-3, 1e-4],\n",
    "    'regressor__learning_rate': ['optimal', 'adaptive', 'invscaling', 'constant']\n",
    "    #'max_iter': [1000, 2000, 5000]\n",
    "}"
   ]
  },
  {
   "cell_type": "code",
   "execution_count": 53,
   "id": "f4a89ccc-c405-494a-859d-97e4916f0160",
   "metadata": {},
   "outputs": [],
   "source": [
    "# Preproceso 1 para SGDRegressor - GridSearch\n",
    "df = df_mes.copy()\n",
    "scaler = MinMaxScaler()\n",
    "ft_selector = LinearSVR(random_state=0)\n",
    "model_ = SGDRegressor(random_state=0, shuffle=False)"
   ]
  },
  {
   "cell_type": "code",
   "execution_count": 54,
   "id": "8ac76039-77df-4fba-b0ca-23e184eda258",
   "metadata": {},
   "outputs": [],
   "source": [
    "# Features and target\n",
    "X = df.drop([ordinal_ft, target], axis=1)\n",
    "y = df[target]"
   ]
  },
  {
   "cell_type": "code",
   "execution_count": 55,
   "id": "894ec868-11d3-49df-a47a-07324002f3b1",
   "metadata": {},
   "outputs": [],
   "source": [
    "# Train and validation\n",
    "X_train, X_val, y_train, y_val = train_test_split(X, y, test_size=0.3, random_state=0, shuffle=False)"
   ]
  },
  {
   "cell_type": "markdown",
   "id": "e1af8d35-f12a-4aee-88bd-2ee194a93e53",
   "metadata": {},
   "source": [
    "#### Preproceso y ajuste"
   ]
  },
  {
   "cell_type": "code",
   "execution_count": 56,
   "id": "08ed9552-c39e-40bc-8139-68b72ce456a1",
   "metadata": {},
   "outputs": [],
   "source": [
    "# Preprocessing\n",
    "num_transformer = scaler\n",
    "cat_transformer = 'passthrough'\n",
    "\n",
    "num_features = [g for g in X.columns if 'client__' not in g]\n",
    "cat_features = [g for g in X.columns if 'client__' in g]\n",
    "\n",
    "preprocessor = ColumnTransformer(\n",
    "    transformers=[\n",
    "        ('num', num_transformer, num_features),\n",
    "        ('cat', cat_transformer, cat_features)])"
   ]
  },
  {
   "cell_type": "code",
   "execution_count": 57,
   "id": "30219658-c0c0-4f57-b3d5-1a00c4ca3328",
   "metadata": {
    "tags": []
   },
   "outputs": [],
   "source": [
    "# Fit\n",
    "pipe = Pipeline([\n",
    "  ('preprocessor', preprocessor),\n",
    "  ('feature_selection', SelectFromModel(ft_selector)),\n",
    "  ('regressor', model_)\n",
    "])\n",
    "\n",
    "model = RandomizedSearchCV(pipe, param_grid, scoring='neg_mean_squared_error',cv=5, n_iter=20)\n",
    "\n",
    "model.fit(X_train, y_train)\n",
    "sgd_cv = model"
   ]
  },
  {
   "cell_type": "code",
   "execution_count": 58,
   "id": "fc8b1695-a7c3-4cbb-84c2-cb3ea4a3b780",
   "metadata": {
    "tags": []
   },
   "outputs": [
    {
     "data": {
      "text/plain": [
       "{'regressor__tol': 0.0001,\n",
       " 'regressor__penalty': 'l1',\n",
       " 'regressor__loss': 'squared_epsilon_insensitive',\n",
       " 'regressor__learning_rate': 'invscaling',\n",
       " 'regressor__epsilon': 0.01,\n",
       " 'regressor__alpha': 0.01}"
      ]
     },
     "execution_count": 58,
     "metadata": {},
     "output_type": "execute_result"
    }
   ],
   "source": [
    "model.best_params_"
   ]
  },
  {
   "cell_type": "code",
   "execution_count": 59,
   "id": "0087b2f3-2aaf-4550-b86c-f43840dd51da",
   "metadata": {},
   "outputs": [],
   "source": [
    "# Predict\n",
    "y_train_pred = model.predict(X_train)\n",
    "y_valid_pred = model.predict(X_val)"
   ]
  },
  {
   "cell_type": "markdown",
   "id": "043a272e-825b-4126-8f89-79e703e81d0d",
   "metadata": {},
   "source": [
    "#### Evaluacion de predicciones"
   ]
  },
  {
   "cell_type": "code",
   "execution_count": 60,
   "id": "382c4bb5-2402-48a6-97e7-7cce6e164715",
   "metadata": {
    "tags": []
   },
   "outputs": [
    {
     "name": "stdout",
     "output_type": "stream",
     "text": [
      "Train error 81779213.128, Valid error 95239119.802\n"
     ]
    }
   ],
   "source": [
    "# evaluate MSE:\n",
    "train_error = mean_squared_error(y_train, y_train_pred)\n",
    "val_error = mean_squared_error(y_val, y_valid_pred)\n",
    "print(f'Train error {train_error.round(3)}, Valid error {val_error.round(3)}')  "
   ]
  },
  {
   "cell_type": "code",
   "execution_count": 61,
   "id": "d73e3ee7-4af5-40ea-8f14-443326026a3a",
   "metadata": {
    "tags": []
   },
   "outputs": [
    {
     "name": "stdout",
     "output_type": "stream",
     "text": [
      "Train error RMSE 9043.186, Valid error RMSE 9759.053\n"
     ]
    }
   ],
   "source": [
    "# evaluate RMSE:\n",
    "train_error = np.sqrt(mean_squared_error(y_train, y_train_pred))\n",
    "val_error = np.sqrt(mean_squared_error(y_val, y_valid_pred))\n",
    "print(f'Train error RMSE {train_error.round(3)}, Valid error RMSE {val_error.round(3)}')  "
   ]
  },
  {
   "cell_type": "code",
   "execution_count": 62,
   "id": "5d4af2f8-c0d0-4e05-a665-f8a71a39af47",
   "metadata": {
    "tags": []
   },
   "outputs": [
    {
     "name": "stdout",
     "output_type": "stream",
     "text": [
      "Train error MAE 5008.069, Valid error MAE 5193.708\n"
     ]
    }
   ],
   "source": [
    "# evaluate MAE:\n",
    "train_error = mean_absolute_error(y_train, y_train_pred)\n",
    "val_error = mean_absolute_error(y_val, y_valid_pred)\n",
    "print(f'Train error MAE {train_error.round(3)}, Valid error MAE {val_error.round(3)}')  "
   ]
  },
  {
   "cell_type": "markdown",
   "id": "a134efc7-3096-42c1-82a3-790b88fb02c1",
   "metadata": {
    "tags": []
   },
   "source": [
    "Visualizamos nuestra variable target (real y predicción)"
   ]
  },
  {
   "cell_type": "code",
   "execution_count": 63,
   "id": "c18ca62b-1911-4fd6-b039-5c851b11c6f6",
   "metadata": {},
   "outputs": [
    {
     "data": {
      "text/html": [
       "<div>\n",
       "<style scoped>\n",
       "    .dataframe tbody tr th:only-of-type {\n",
       "        vertical-align: middle;\n",
       "    }\n",
       "\n",
       "    .dataframe tbody tr th {\n",
       "        vertical-align: top;\n",
       "    }\n",
       "\n",
       "    .dataframe thead th {\n",
       "        text-align: right;\n",
       "    }\n",
       "</style>\n",
       "<table border=\"1\" class=\"dataframe\">\n",
       "  <thead>\n",
       "    <tr style=\"text-align: right;\">\n",
       "      <th></th>\n",
       "      <th>val_real</th>\n",
       "    </tr>\n",
       "  </thead>\n",
       "  <tbody>\n",
       "    <tr>\n",
       "      <th>count</th>\n",
       "      <td>2970.00</td>\n",
       "    </tr>\n",
       "    <tr>\n",
       "      <th>mean</th>\n",
       "      <td>8658.18</td>\n",
       "    </tr>\n",
       "    <tr>\n",
       "      <th>std</th>\n",
       "      <td>14232.20</td>\n",
       "    </tr>\n",
       "    <tr>\n",
       "      <th>min</th>\n",
       "      <td>-14160.00</td>\n",
       "    </tr>\n",
       "    <tr>\n",
       "      <th>25%</th>\n",
       "      <td>0.00</td>\n",
       "    </tr>\n",
       "    <tr>\n",
       "      <th>50%</th>\n",
       "      <td>2096.00</td>\n",
       "    </tr>\n",
       "    <tr>\n",
       "      <th>75%</th>\n",
       "      <td>12011.50</td>\n",
       "    </tr>\n",
       "    <tr>\n",
       "      <th>max</th>\n",
       "      <td>134045.00</td>\n",
       "    </tr>\n",
       "  </tbody>\n",
       "</table>\n",
       "</div>"
      ],
      "text/plain": [
       "        val_real\n",
       "count    2970.00\n",
       "mean     8658.18\n",
       "std     14232.20\n",
       "min    -14160.00\n",
       "25%         0.00\n",
       "50%      2096.00\n",
       "75%     12011.50\n",
       "max    134045.00"
      ]
     },
     "execution_count": 63,
     "metadata": {},
     "output_type": "execute_result"
    }
   ],
   "source": [
    "pd.DataFrame(y_val.values.astype(int), columns=['val_real']).describe().round(2)"
   ]
  },
  {
   "cell_type": "code",
   "execution_count": 64,
   "id": "8f641261-2a3d-402f-9a9f-683b7b9088cd",
   "metadata": {},
   "outputs": [
    {
     "data": {
      "text/html": [
       "<div>\n",
       "<style scoped>\n",
       "    .dataframe tbody tr th:only-of-type {\n",
       "        vertical-align: middle;\n",
       "    }\n",
       "\n",
       "    .dataframe tbody tr th {\n",
       "        vertical-align: top;\n",
       "    }\n",
       "\n",
       "    .dataframe thead th {\n",
       "        text-align: right;\n",
       "    }\n",
       "</style>\n",
       "<table border=\"1\" class=\"dataframe\">\n",
       "  <thead>\n",
       "    <tr style=\"text-align: right;\">\n",
       "      <th></th>\n",
       "      <th>val_pred</th>\n",
       "    </tr>\n",
       "  </thead>\n",
       "  <tbody>\n",
       "    <tr>\n",
       "      <th>count</th>\n",
       "      <td>2970.00</td>\n",
       "    </tr>\n",
       "    <tr>\n",
       "      <th>mean</th>\n",
       "      <td>8242.27</td>\n",
       "    </tr>\n",
       "    <tr>\n",
       "      <th>std</th>\n",
       "      <td>10546.48</td>\n",
       "    </tr>\n",
       "    <tr>\n",
       "      <th>min</th>\n",
       "      <td>-1449.77</td>\n",
       "    </tr>\n",
       "    <tr>\n",
       "      <th>25%</th>\n",
       "      <td>65.30</td>\n",
       "    </tr>\n",
       "    <tr>\n",
       "      <th>50%</th>\n",
       "      <td>4689.96</td>\n",
       "    </tr>\n",
       "    <tr>\n",
       "      <th>75%</th>\n",
       "      <td>12961.60</td>\n",
       "    </tr>\n",
       "    <tr>\n",
       "      <th>max</th>\n",
       "      <td>87210.98</td>\n",
       "    </tr>\n",
       "  </tbody>\n",
       "</table>\n",
       "</div>"
      ],
      "text/plain": [
       "       val_pred\n",
       "count   2970.00\n",
       "mean    8242.27\n",
       "std    10546.48\n",
       "min    -1449.77\n",
       "25%       65.30\n",
       "50%     4689.96\n",
       "75%    12961.60\n",
       "max    87210.98"
      ]
     },
     "execution_count": 64,
     "metadata": {},
     "output_type": "execute_result"
    }
   ],
   "source": [
    "pd.DataFrame(y_valid_pred, columns=['val_pred']).describe().round(2)"
   ]
  },
  {
   "cell_type": "markdown",
   "id": "4a6c4007-31e5-4854-b82c-b6bec547bcad",
   "metadata": {},
   "source": [
    "## KNeighborsRegressor - Default"
   ]
  },
  {
   "cell_type": "code",
   "execution_count": 65,
   "id": "b81908fc-ea73-4248-b8b5-d7155541bf23",
   "metadata": {},
   "outputs": [],
   "source": [
    "# Preproceso 1 para SGDRegressor - GridSearch, RMSE 3778.109\n",
    "df = df_mes.copy()\n",
    "scaler = MinMaxScaler()\n",
    "ft_selector = LinearSVR(random_state=0)\n",
    "model_ = KNeighborsRegressor()"
   ]
  },
  {
   "cell_type": "code",
   "execution_count": 66,
   "id": "15b6638b-dafc-44c4-9faa-d0d8489c00b2",
   "metadata": {},
   "outputs": [],
   "source": [
    "# Features and target\n",
    "X = df.drop([ordinal_ft, target], axis=1)\n",
    "y = df[target]"
   ]
  },
  {
   "cell_type": "code",
   "execution_count": 67,
   "id": "9bc1ff72-b165-441e-bce5-da93cb162cc3",
   "metadata": {},
   "outputs": [],
   "source": [
    "# Train and validation\n",
    "X_train, X_val, y_train, y_val = train_test_split(X, y, test_size=0.3, random_state=0, shuffle=False)"
   ]
  },
  {
   "cell_type": "code",
   "execution_count": 68,
   "id": "2d10605e-4b66-4fe1-a328-cb02b62b0d8b",
   "metadata": {},
   "outputs": [
    {
     "data": {
      "text/plain": [
       "(6930, 53)"
      ]
     },
     "execution_count": 68,
     "metadata": {},
     "output_type": "execute_result"
    }
   ],
   "source": [
    "X_train.shape"
   ]
  },
  {
   "cell_type": "code",
   "execution_count": 69,
   "id": "770d8634-2fb2-44b3-8d5a-06be91dabcdf",
   "metadata": {},
   "outputs": [
    {
     "data": {
      "text/plain": [
       "(2970, 53)"
      ]
     },
     "execution_count": 69,
     "metadata": {},
     "output_type": "execute_result"
    }
   ],
   "source": [
    "X_val.shape"
   ]
  },
  {
   "cell_type": "markdown",
   "id": "2dd195be-2f4c-417c-bef1-2a6adc9825c8",
   "metadata": {},
   "source": [
    "#### Preproceso y ajuste"
   ]
  },
  {
   "cell_type": "code",
   "execution_count": 70,
   "id": "176dd5cb-9d56-4cd7-b7b2-522551bbe183",
   "metadata": {},
   "outputs": [],
   "source": [
    "# Preprocessing\n",
    "num_transformer = scaler\n",
    "cat_transformer = 'passthrough'\n",
    "\n",
    "num_features = [g for g in X.columns if 'client__' not in g]\n",
    "cat_features = [g for g in X.columns if 'client__' in g]\n",
    "\n",
    "preprocessor = ColumnTransformer(\n",
    "    transformers=[\n",
    "        ('num', num_transformer, num_features),\n",
    "        ('cat', cat_transformer, cat_features)])"
   ]
  },
  {
   "cell_type": "code",
   "execution_count": 71,
   "id": "95bb2e35-953a-4d90-a2d2-688b2482ee85",
   "metadata": {
    "tags": []
   },
   "outputs": [],
   "source": [
    "# Fit\n",
    "model = Pipeline([\n",
    "  ('preprocessor', preprocessor),\n",
    "  ('feature_selection', SelectFromModel(ft_selector)),\n",
    "  ('regressor', model_)\n",
    "])\n",
    "\n",
    "model.fit(X_train, y_train)\n",
    "knn = model"
   ]
  },
  {
   "cell_type": "code",
   "execution_count": 72,
   "id": "785aec58-471f-4db4-9e6a-156002178a69",
   "metadata": {},
   "outputs": [],
   "source": [
    "# Predict\n",
    "y_train_pred = model.predict(X_train)\n",
    "y_valid_pred = model.predict(X_val)"
   ]
  },
  {
   "cell_type": "markdown",
   "id": "8d9be68d-6bb8-4d90-9a0e-88a7f3795894",
   "metadata": {},
   "source": [
    "#### Evaluacion de predicciones"
   ]
  },
  {
   "cell_type": "code",
   "execution_count": 73,
   "id": "30879b34-599e-4548-9dbd-4250308a80c2",
   "metadata": {
    "tags": []
   },
   "outputs": [
    {
     "name": "stdout",
     "output_type": "stream",
     "text": [
      "Train error 53964134.806, Valid error 156940891.4\n"
     ]
    }
   ],
   "source": [
    "# evaluate MSE:\n",
    "train_error = mean_squared_error(y_train, y_train_pred)\n",
    "val_error = mean_squared_error(y_val, y_valid_pred)\n",
    "print(f'Train error {train_error.round(3)}, Valid error {val_error.round(3)}')  "
   ]
  },
  {
   "cell_type": "code",
   "execution_count": 74,
   "id": "b3f4538c-d91a-4275-a40c-e8761163d83f",
   "metadata": {
    "tags": []
   },
   "outputs": [
    {
     "name": "stdout",
     "output_type": "stream",
     "text": [
      "Train error RMSE 7346.029, Valid error RMSE 12527.605\n"
     ]
    }
   ],
   "source": [
    "# evaluate RMSE:\n",
    "train_error = np.sqrt(mean_squared_error(y_train, y_train_pred))\n",
    "val_error = np.sqrt(mean_squared_error(y_val, y_valid_pred))\n",
    "print(f'Train error RMSE {train_error.round(3)}, Valid error RMSE {val_error.round(3)}')  "
   ]
  },
  {
   "cell_type": "code",
   "execution_count": 75,
   "id": "ae9ca593-b290-4729-b92f-a1f19f654e2c",
   "metadata": {
    "tags": []
   },
   "outputs": [
    {
     "name": "stdout",
     "output_type": "stream",
     "text": [
      "Train error MAE 3850.873, Valid error MAE 6754.51\n"
     ]
    }
   ],
   "source": [
    "# evaluate MAE:\n",
    "train_error = mean_absolute_error(y_train, y_train_pred)\n",
    "val_error = mean_absolute_error(y_val, y_valid_pred)\n",
    "print(f'Train error MAE {train_error.round(3)}, Valid error MAE {val_error.round(3)}')  "
   ]
  },
  {
   "cell_type": "markdown",
   "id": "1eca9a0b-affb-499b-981b-9944265babf2",
   "metadata": {
    "tags": []
   },
   "source": [
    "Visualizamos nuestra variable target (real y predicción)"
   ]
  },
  {
   "cell_type": "code",
   "execution_count": 76,
   "id": "582e2012-41da-4e94-b8c8-2697257541d0",
   "metadata": {},
   "outputs": [
    {
     "data": {
      "text/html": [
       "<div>\n",
       "<style scoped>\n",
       "    .dataframe tbody tr th:only-of-type {\n",
       "        vertical-align: middle;\n",
       "    }\n",
       "\n",
       "    .dataframe tbody tr th {\n",
       "        vertical-align: top;\n",
       "    }\n",
       "\n",
       "    .dataframe thead th {\n",
       "        text-align: right;\n",
       "    }\n",
       "</style>\n",
       "<table border=\"1\" class=\"dataframe\">\n",
       "  <thead>\n",
       "    <tr style=\"text-align: right;\">\n",
       "      <th></th>\n",
       "      <th>val_real</th>\n",
       "    </tr>\n",
       "  </thead>\n",
       "  <tbody>\n",
       "    <tr>\n",
       "      <th>count</th>\n",
       "      <td>2970.00</td>\n",
       "    </tr>\n",
       "    <tr>\n",
       "      <th>mean</th>\n",
       "      <td>8658.18</td>\n",
       "    </tr>\n",
       "    <tr>\n",
       "      <th>std</th>\n",
       "      <td>14232.20</td>\n",
       "    </tr>\n",
       "    <tr>\n",
       "      <th>min</th>\n",
       "      <td>-14160.00</td>\n",
       "    </tr>\n",
       "    <tr>\n",
       "      <th>25%</th>\n",
       "      <td>0.00</td>\n",
       "    </tr>\n",
       "    <tr>\n",
       "      <th>50%</th>\n",
       "      <td>2096.00</td>\n",
       "    </tr>\n",
       "    <tr>\n",
       "      <th>75%</th>\n",
       "      <td>12011.50</td>\n",
       "    </tr>\n",
       "    <tr>\n",
       "      <th>max</th>\n",
       "      <td>134045.00</td>\n",
       "    </tr>\n",
       "  </tbody>\n",
       "</table>\n",
       "</div>"
      ],
      "text/plain": [
       "        val_real\n",
       "count    2970.00\n",
       "mean     8658.18\n",
       "std     14232.20\n",
       "min    -14160.00\n",
       "25%         0.00\n",
       "50%      2096.00\n",
       "75%     12011.50\n",
       "max    134045.00"
      ]
     },
     "execution_count": 76,
     "metadata": {},
     "output_type": "execute_result"
    }
   ],
   "source": [
    "pd.DataFrame(y_val.values.astype(int), columns=['val_real']).describe().round(2)"
   ]
  },
  {
   "cell_type": "code",
   "execution_count": 77,
   "id": "a13c9ccf-f18c-4fbe-a27b-21f121b5308b",
   "metadata": {},
   "outputs": [
    {
     "data": {
      "text/html": [
       "<div>\n",
       "<style scoped>\n",
       "    .dataframe tbody tr th:only-of-type {\n",
       "        vertical-align: middle;\n",
       "    }\n",
       "\n",
       "    .dataframe tbody tr th {\n",
       "        vertical-align: top;\n",
       "    }\n",
       "\n",
       "    .dataframe thead th {\n",
       "        text-align: right;\n",
       "    }\n",
       "</style>\n",
       "<table border=\"1\" class=\"dataframe\">\n",
       "  <thead>\n",
       "    <tr style=\"text-align: right;\">\n",
       "      <th></th>\n",
       "      <th>val_pred</th>\n",
       "    </tr>\n",
       "  </thead>\n",
       "  <tbody>\n",
       "    <tr>\n",
       "      <th>count</th>\n",
       "      <td>2970.00</td>\n",
       "    </tr>\n",
       "    <tr>\n",
       "      <th>mean</th>\n",
       "      <td>7489.15</td>\n",
       "    </tr>\n",
       "    <tr>\n",
       "      <th>std</th>\n",
       "      <td>9278.33</td>\n",
       "    </tr>\n",
       "    <tr>\n",
       "      <th>min</th>\n",
       "      <td>-765.00</td>\n",
       "    </tr>\n",
       "    <tr>\n",
       "      <th>25%</th>\n",
       "      <td>0.00</td>\n",
       "    </tr>\n",
       "    <tr>\n",
       "      <th>50%</th>\n",
       "      <td>3432.00</td>\n",
       "    </tr>\n",
       "    <tr>\n",
       "      <th>75%</th>\n",
       "      <td>12661.25</td>\n",
       "    </tr>\n",
       "    <tr>\n",
       "      <th>max</th>\n",
       "      <td>59707.00</td>\n",
       "    </tr>\n",
       "  </tbody>\n",
       "</table>\n",
       "</div>"
      ],
      "text/plain": [
       "       val_pred\n",
       "count   2970.00\n",
       "mean    7489.15\n",
       "std     9278.33\n",
       "min     -765.00\n",
       "25%        0.00\n",
       "50%     3432.00\n",
       "75%    12661.25\n",
       "max    59707.00"
      ]
     },
     "execution_count": 77,
     "metadata": {},
     "output_type": "execute_result"
    }
   ],
   "source": [
    "pd.DataFrame(y_valid_pred.astype(int), columns=['val_pred']).describe().round(2)"
   ]
  },
  {
   "cell_type": "markdown",
   "id": "c1f6d693-3e5f-405a-b736-8695c0398e45",
   "metadata": {},
   "source": [
    "## KNeighborsRegressor - Grid Search"
   ]
  },
  {
   "cell_type": "code",
   "execution_count": 78,
   "id": "0bd7bf51-d0c2-42f2-a210-13df99cab572",
   "metadata": {},
   "outputs": [],
   "source": [
    "# Preproceso 1 para KNeighborsRegressor - GridSearch\n",
    "df = df_mes.copy()\n",
    "scaler = MinMaxScaler()\n",
    "ft_selector = LinearSVR(random_state=0)\n",
    "model_ = KNeighborsRegressor()"
   ]
  },
  {
   "cell_type": "code",
   "execution_count": 79,
   "id": "004008df-1137-4589-a494-769f44058833",
   "metadata": {
    "tags": []
   },
   "outputs": [],
   "source": [
    "param_grid = {\n",
    "    'regressor__n_neighbors': [20,25,30,35],\n",
    "    'regressor__weights': ['uniform', 'distance'],\n",
    "    'regressor__algorithm': ['auto','ball_tree','kd_tree','brute'],\n",
    "    'regressor__p': [1,2]\n",
    "}"
   ]
  },
  {
   "cell_type": "markdown",
   "id": "e9303370-be7b-4768-a5ea-4e979c81029c",
   "metadata": {
    "tags": []
   },
   "source": [
    "Elegimos valores altos de K, porque?"
   ]
  },
  {
   "cell_type": "code",
   "execution_count": 80,
   "id": "e7b262ab-8371-4b45-8680-b49e8de7dc56",
   "metadata": {},
   "outputs": [],
   "source": [
    "# Features and target\n",
    "X = df.drop([ordinal_ft, target], axis=1)\n",
    "y = df[target]"
   ]
  },
  {
   "cell_type": "code",
   "execution_count": 81,
   "id": "9815825a-67d2-4be6-890f-ed810b6f432a",
   "metadata": {},
   "outputs": [],
   "source": [
    "# Train and validation\n",
    "X_train, X_val, y_train, y_val = train_test_split(X, y, test_size=0.3, random_state=0, shuffle=False)"
   ]
  },
  {
   "cell_type": "markdown",
   "id": "c4185bd9-5708-4834-b33a-7c3c61794b5c",
   "metadata": {},
   "source": [
    "#### Preproceso y ajuste"
   ]
  },
  {
   "cell_type": "code",
   "execution_count": 82,
   "id": "56badb3b-af88-451d-b369-d692e9ec2243",
   "metadata": {},
   "outputs": [],
   "source": [
    "# Preprocessing\n",
    "num_transformer = scaler\n",
    "cat_transformer = 'passthrough'\n",
    "\n",
    "num_features = [g for g in X.columns if 'client__' not in g]\n",
    "cat_features = [g for g in X.columns if 'client__' in g]\n",
    "\n",
    "preprocessor = ColumnTransformer(\n",
    "    transformers=[\n",
    "        ('num', num_transformer, num_features),\n",
    "        ('cat', cat_transformer, cat_features)])"
   ]
  },
  {
   "cell_type": "code",
   "execution_count": 83,
   "id": "b2884e53-da92-4bc6-8c34-a335d408f4f8",
   "metadata": {
    "tags": []
   },
   "outputs": [],
   "source": [
    "# Fit\n",
    "pipe = Pipeline([\n",
    "  ('preprocessor', preprocessor),\n",
    "  ('feature_selection', SelectFromModel(ft_selector)),\n",
    "  ('regressor', model_)\n",
    "])\n",
    "\n",
    "model = GridSearchCV(pipe, param_grid, scoring='neg_mean_squared_error',cv=5)\n",
    "\n",
    "model.fit(X_train, y_train)\n",
    "knn_cv = model"
   ]
  },
  {
   "cell_type": "code",
   "execution_count": 84,
   "id": "25c2d39b-bf9f-423c-895a-3b6c84d50501",
   "metadata": {},
   "outputs": [
    {
     "data": {
      "text/plain": [
       "{'regressor__algorithm': 'auto',\n",
       " 'regressor__n_neighbors': 30,\n",
       " 'regressor__p': 1,\n",
       " 'regressor__weights': 'distance'}"
      ]
     },
     "execution_count": 84,
     "metadata": {},
     "output_type": "execute_result"
    }
   ],
   "source": [
    "model.best_params_"
   ]
  },
  {
   "cell_type": "code",
   "execution_count": 85,
   "id": "1f5f6d94-f46f-4a44-954c-95b47439cee5",
   "metadata": {},
   "outputs": [],
   "source": [
    "# Predict\n",
    "y_train_pred = model.predict(X_train)\n",
    "y_valid_pred = model.predict(X_val)"
   ]
  },
  {
   "cell_type": "markdown",
   "id": "7d2429c2-392d-4756-af3d-1f846fb5e6f7",
   "metadata": {},
   "source": [
    "#### Evaluacion de predicciones"
   ]
  },
  {
   "cell_type": "code",
   "execution_count": 86,
   "id": "f88f2513-6cb8-4943-b941-b92466d75468",
   "metadata": {
    "tags": []
   },
   "outputs": [
    {
     "name": "stdout",
     "output_type": "stream",
     "text": [
      "Train error 232.648, Valid error 139993929.011\n"
     ]
    }
   ],
   "source": [
    "# evaluate MSE:\n",
    "train_error = mean_squared_error(y_train, y_train_pred)\n",
    "val_error = mean_squared_error(y_val, y_valid_pred)\n",
    "print(f'Train error {train_error.round(3)}, Valid error {val_error.round(3)}')  "
   ]
  },
  {
   "cell_type": "code",
   "execution_count": 87,
   "id": "7d0ce3d2-4e7f-461c-aaeb-a1ff8f6ecd9e",
   "metadata": {
    "tags": []
   },
   "outputs": [
    {
     "name": "stdout",
     "output_type": "stream",
     "text": [
      "Train error RMSE 15.253, Valid error RMSE 11831.903\n"
     ]
    }
   ],
   "source": [
    "# evaluate RMSE:\n",
    "train_error = np.sqrt(mean_squared_error(y_train, y_train_pred))\n",
    "val_error = np.sqrt(mean_squared_error(y_val, y_valid_pred))\n",
    "print(f'Train error RMSE {train_error.round(3)}, Valid error RMSE {val_error.round(3)}')  "
   ]
  },
  {
   "cell_type": "code",
   "execution_count": 88,
   "id": "128bd560-5cc0-4a98-af3f-330b6847073d",
   "metadata": {
    "tags": []
   },
   "outputs": [
    {
     "name": "stdout",
     "output_type": "stream",
     "text": [
      "Train error MAE 0.297, Valid error MAE 6219.773\n"
     ]
    }
   ],
   "source": [
    "# evaluate MAE:\n",
    "train_error = mean_absolute_error(y_train, y_train_pred)\n",
    "val_error = mean_absolute_error(y_val, y_valid_pred)\n",
    "print(f'Train error MAE {train_error.round(3)}, Valid error MAE {val_error.round(3)}')  "
   ]
  },
  {
   "cell_type": "markdown",
   "id": "61bb3c8e-1cb2-48e1-b866-bd8b71d15372",
   "metadata": {
    "tags": []
   },
   "source": [
    "Visualizamos nuestra variable target (real y predicción)"
   ]
  },
  {
   "cell_type": "code",
   "execution_count": 89,
   "id": "f719e8cb-2c95-4fa7-b5fc-d97048c545fa",
   "metadata": {},
   "outputs": [
    {
     "data": {
      "text/html": [
       "<div>\n",
       "<style scoped>\n",
       "    .dataframe tbody tr th:only-of-type {\n",
       "        vertical-align: middle;\n",
       "    }\n",
       "\n",
       "    .dataframe tbody tr th {\n",
       "        vertical-align: top;\n",
       "    }\n",
       "\n",
       "    .dataframe thead th {\n",
       "        text-align: right;\n",
       "    }\n",
       "</style>\n",
       "<table border=\"1\" class=\"dataframe\">\n",
       "  <thead>\n",
       "    <tr style=\"text-align: right;\">\n",
       "      <th></th>\n",
       "      <th>val_real</th>\n",
       "    </tr>\n",
       "  </thead>\n",
       "  <tbody>\n",
       "    <tr>\n",
       "      <th>count</th>\n",
       "      <td>2970.00</td>\n",
       "    </tr>\n",
       "    <tr>\n",
       "      <th>mean</th>\n",
       "      <td>8658.18</td>\n",
       "    </tr>\n",
       "    <tr>\n",
       "      <th>std</th>\n",
       "      <td>14232.20</td>\n",
       "    </tr>\n",
       "    <tr>\n",
       "      <th>min</th>\n",
       "      <td>-14160.00</td>\n",
       "    </tr>\n",
       "    <tr>\n",
       "      <th>25%</th>\n",
       "      <td>0.00</td>\n",
       "    </tr>\n",
       "    <tr>\n",
       "      <th>50%</th>\n",
       "      <td>2096.00</td>\n",
       "    </tr>\n",
       "    <tr>\n",
       "      <th>75%</th>\n",
       "      <td>12011.50</td>\n",
       "    </tr>\n",
       "    <tr>\n",
       "      <th>max</th>\n",
       "      <td>134045.00</td>\n",
       "    </tr>\n",
       "  </tbody>\n",
       "</table>\n",
       "</div>"
      ],
      "text/plain": [
       "        val_real\n",
       "count    2970.00\n",
       "mean     8658.18\n",
       "std     14232.20\n",
       "min    -14160.00\n",
       "25%         0.00\n",
       "50%      2096.00\n",
       "75%     12011.50\n",
       "max    134045.00"
      ]
     },
     "execution_count": 89,
     "metadata": {},
     "output_type": "execute_result"
    }
   ],
   "source": [
    "pd.DataFrame(y_val.values.astype(int), columns=['val_real']).describe().round(2)"
   ]
  },
  {
   "cell_type": "code",
   "execution_count": 90,
   "id": "8bab165e-6313-43af-8883-b838befd0b53",
   "metadata": {},
   "outputs": [
    {
     "data": {
      "text/html": [
       "<div>\n",
       "<style scoped>\n",
       "    .dataframe tbody tr th:only-of-type {\n",
       "        vertical-align: middle;\n",
       "    }\n",
       "\n",
       "    .dataframe tbody tr th {\n",
       "        vertical-align: top;\n",
       "    }\n",
       "\n",
       "    .dataframe thead th {\n",
       "        text-align: right;\n",
       "    }\n",
       "</style>\n",
       "<table border=\"1\" class=\"dataframe\">\n",
       "  <thead>\n",
       "    <tr style=\"text-align: right;\">\n",
       "      <th></th>\n",
       "      <th>val_pred</th>\n",
       "    </tr>\n",
       "  </thead>\n",
       "  <tbody>\n",
       "    <tr>\n",
       "      <th>count</th>\n",
       "      <td>2970.00</td>\n",
       "    </tr>\n",
       "    <tr>\n",
       "      <th>mean</th>\n",
       "      <td>6761.95</td>\n",
       "    </tr>\n",
       "    <tr>\n",
       "      <th>std</th>\n",
       "      <td>6871.15</td>\n",
       "    </tr>\n",
       "    <tr>\n",
       "      <th>min</th>\n",
       "      <td>-191.80</td>\n",
       "    </tr>\n",
       "    <tr>\n",
       "      <th>25%</th>\n",
       "      <td>0.00</td>\n",
       "    </tr>\n",
       "    <tr>\n",
       "      <th>50%</th>\n",
       "      <td>5162.38</td>\n",
       "    </tr>\n",
       "    <tr>\n",
       "      <th>75%</th>\n",
       "      <td>11226.97</td>\n",
       "    </tr>\n",
       "    <tr>\n",
       "      <th>max</th>\n",
       "      <td>38752.70</td>\n",
       "    </tr>\n",
       "  </tbody>\n",
       "</table>\n",
       "</div>"
      ],
      "text/plain": [
       "       val_pred\n",
       "count   2970.00\n",
       "mean    6761.95\n",
       "std     6871.15\n",
       "min     -191.80\n",
       "25%        0.00\n",
       "50%     5162.38\n",
       "75%    11226.97\n",
       "max    38752.70"
      ]
     },
     "execution_count": 90,
     "metadata": {},
     "output_type": "execute_result"
    }
   ],
   "source": [
    "pd.DataFrame(y_valid_pred, columns=['val_pred']).describe().round(2)"
   ]
  },
  {
   "cell_type": "markdown",
   "id": "0be9d74c-0f8f-46cc-a61c-a2ecc3a59e53",
   "metadata": {},
   "source": [
    "## GaussianProcessRegressor - Default"
   ]
  },
  {
   "cell_type": "code",
   "execution_count": 91,
   "id": "a3919d59-06d0-437d-a72f-d1f8c88fe541",
   "metadata": {},
   "outputs": [],
   "source": [
    "# Preproceso 1 para GaussianProcessRegressor - Default\n",
    "df = df_mes.copy()\n",
    "scaler = StandardScaler()\n",
    "#ft_selector = RandomForestRegressor(random_state=0)\n",
    "model_ = GaussianProcessRegressor(random_state=0) # Kernel?"
   ]
  },
  {
   "cell_type": "code",
   "execution_count": 92,
   "id": "a48a2f27-52aa-4902-899e-537641dccc5c",
   "metadata": {},
   "outputs": [],
   "source": [
    "# Features and target\n",
    "X = df.drop([ordinal_ft, target], axis=1)\n",
    "y = df[target]"
   ]
  },
  {
   "cell_type": "code",
   "execution_count": 93,
   "id": "e188e279-198f-491a-88bf-59d2a2a93135",
   "metadata": {},
   "outputs": [],
   "source": [
    "# Train and validation\n",
    "X_train, X_val, y_train, y_val = train_test_split(X, y, test_size=0.3, random_state=0, shuffle=False)"
   ]
  },
  {
   "cell_type": "markdown",
   "id": "a2c7864f-6bb3-48ef-afec-c0478a0b9a70",
   "metadata": {},
   "source": [
    "#### Preproceso y ajuste"
   ]
  },
  {
   "cell_type": "code",
   "execution_count": 94,
   "id": "ab4be6b8-2123-4755-a019-f06e9ddaa319",
   "metadata": {},
   "outputs": [],
   "source": [
    "# Preprocessing\n",
    "num_transformer = scaler\n",
    "cat_transformer = 'passthrough'\n",
    "\n",
    "num_features = [g for g in X.columns if 'client__' not in g]\n",
    "cat_features = [g for g in X.columns if 'client__' in g]\n",
    "\n",
    "preprocessor = ColumnTransformer(\n",
    "    transformers=[\n",
    "        ('num', num_transformer, num_features),\n",
    "        ('cat', cat_transformer, cat_features)])"
   ]
  },
  {
   "cell_type": "code",
   "execution_count": 95,
   "id": "e64c75ac-5fd1-4a12-bef9-b079ce84bd66",
   "metadata": {},
   "outputs": [],
   "source": [
    "# Fit\n",
    "model = Pipeline([\n",
    "  ('preprocessor', preprocessor),\n",
    "#  ('feature_selection', SelectFromModel(ft_selector)),\n",
    "  ('regressor', model_)\n",
    "])\n",
    "\n",
    "model.fit(X_train, y_train)\n",
    "gpr = model"
   ]
  },
  {
   "cell_type": "code",
   "execution_count": 96,
   "id": "7c48deca-36ad-4c43-9385-9bca58c77339",
   "metadata": {},
   "outputs": [],
   "source": [
    "# Predict\n",
    "y_train_pred = model.predict(X_train)\n",
    "y_valid_pred = model.predict(X_val)"
   ]
  },
  {
   "cell_type": "markdown",
   "id": "b329b646-3ff3-42f5-892b-fa087f2e10dc",
   "metadata": {},
   "source": [
    "#### Evaluacion de predicciones"
   ]
  },
  {
   "cell_type": "code",
   "execution_count": 97,
   "id": "ff3820be-d10d-4dfd-be43-33306efa3341",
   "metadata": {
    "tags": []
   },
   "outputs": [
    {
     "name": "stdout",
     "output_type": "stream",
     "text": [
      "Train error 29.962, Valid error 5277584424.974\n"
     ]
    }
   ],
   "source": [
    "# evaluate MSE:\n",
    "train_error = mean_squared_error(y_train, y_train_pred)\n",
    "val_error = mean_squared_error(y_val, y_valid_pred)\n",
    "print(f'Train error {train_error.round(3)}, Valid error {val_error.round(3)}')  "
   ]
  },
  {
   "cell_type": "code",
   "execution_count": 98,
   "id": "1be41911-ef50-4565-90ba-5d05130869f2",
   "metadata": {
    "tags": []
   },
   "outputs": [
    {
     "name": "stdout",
     "output_type": "stream",
     "text": [
      "Train error RMSE 5.474, Valid error RMSE 72646.985\n"
     ]
    }
   ],
   "source": [
    "# evaluate RMSE:\n",
    "train_error = np.sqrt(mean_squared_error(y_train, y_train_pred))\n",
    "val_error = np.sqrt(mean_squared_error(y_val, y_valid_pred))\n",
    "print(f'Train error RMSE {train_error.round(3)}, Valid error RMSE {val_error.round(3)}')  "
   ]
  },
  {
   "cell_type": "code",
   "execution_count": 99,
   "id": "4148e460-28a3-4789-af03-87ab9733896e",
   "metadata": {
    "tags": []
   },
   "outputs": [
    {
     "name": "stdout",
     "output_type": "stream",
     "text": [
      "Train error MAE 0.28, Valid error MAE 19906.453\n"
     ]
    }
   ],
   "source": [
    "# evaluate MAE:\n",
    "train_error = mean_absolute_error(y_train, y_train_pred)\n",
    "val_error = mean_absolute_error(y_val, y_valid_pred)\n",
    "print(f'Train error MAE {train_error.round(3)}, Valid error MAE {val_error.round(3)}')  "
   ]
  },
  {
   "cell_type": "markdown",
   "id": "4dbe56b9-9d49-48c6-85aa-2b7aee426944",
   "metadata": {
    "tags": []
   },
   "source": [
    "Visualizamos nuestra variable target (real y predicción)"
   ]
  },
  {
   "cell_type": "code",
   "execution_count": 100,
   "id": "0a02ebed-13a0-4c02-a299-c81501415e05",
   "metadata": {},
   "outputs": [
    {
     "data": {
      "text/html": [
       "<div>\n",
       "<style scoped>\n",
       "    .dataframe tbody tr th:only-of-type {\n",
       "        vertical-align: middle;\n",
       "    }\n",
       "\n",
       "    .dataframe tbody tr th {\n",
       "        vertical-align: top;\n",
       "    }\n",
       "\n",
       "    .dataframe thead th {\n",
       "        text-align: right;\n",
       "    }\n",
       "</style>\n",
       "<table border=\"1\" class=\"dataframe\">\n",
       "  <thead>\n",
       "    <tr style=\"text-align: right;\">\n",
       "      <th></th>\n",
       "      <th>val_real</th>\n",
       "    </tr>\n",
       "  </thead>\n",
       "  <tbody>\n",
       "    <tr>\n",
       "      <th>count</th>\n",
       "      <td>2970.00</td>\n",
       "    </tr>\n",
       "    <tr>\n",
       "      <th>mean</th>\n",
       "      <td>8658.18</td>\n",
       "    </tr>\n",
       "    <tr>\n",
       "      <th>std</th>\n",
       "      <td>14232.20</td>\n",
       "    </tr>\n",
       "    <tr>\n",
       "      <th>min</th>\n",
       "      <td>-14160.00</td>\n",
       "    </tr>\n",
       "    <tr>\n",
       "      <th>25%</th>\n",
       "      <td>0.00</td>\n",
       "    </tr>\n",
       "    <tr>\n",
       "      <th>50%</th>\n",
       "      <td>2096.00</td>\n",
       "    </tr>\n",
       "    <tr>\n",
       "      <th>75%</th>\n",
       "      <td>12011.50</td>\n",
       "    </tr>\n",
       "    <tr>\n",
       "      <th>max</th>\n",
       "      <td>134045.00</td>\n",
       "    </tr>\n",
       "  </tbody>\n",
       "</table>\n",
       "</div>"
      ],
      "text/plain": [
       "        val_real\n",
       "count    2970.00\n",
       "mean     8658.18\n",
       "std     14232.20\n",
       "min    -14160.00\n",
       "25%         0.00\n",
       "50%      2096.00\n",
       "75%     12011.50\n",
       "max    134045.00"
      ]
     },
     "execution_count": 100,
     "metadata": {},
     "output_type": "execute_result"
    }
   ],
   "source": [
    "pd.DataFrame(y_val.values.astype(int), columns=['val_real']).describe().round(2)"
   ]
  },
  {
   "cell_type": "code",
   "execution_count": 101,
   "id": "5911c7c9-68a9-441a-81c5-0bd94005f2a5",
   "metadata": {},
   "outputs": [
    {
     "data": {
      "text/html": [
       "<div>\n",
       "<style scoped>\n",
       "    .dataframe tbody tr th:only-of-type {\n",
       "        vertical-align: middle;\n",
       "    }\n",
       "\n",
       "    .dataframe tbody tr th {\n",
       "        vertical-align: top;\n",
       "    }\n",
       "\n",
       "    .dataframe thead th {\n",
       "        text-align: right;\n",
       "    }\n",
       "</style>\n",
       "<table border=\"1\" class=\"dataframe\">\n",
       "  <thead>\n",
       "    <tr style=\"text-align: right;\">\n",
       "      <th></th>\n",
       "      <th>val_pred</th>\n",
       "    </tr>\n",
       "  </thead>\n",
       "  <tbody>\n",
       "    <tr>\n",
       "      <th>count</th>\n",
       "      <td>2970.00</td>\n",
       "    </tr>\n",
       "    <tr>\n",
       "      <th>mean</th>\n",
       "      <td>2741.01</td>\n",
       "    </tr>\n",
       "    <tr>\n",
       "      <th>std</th>\n",
       "      <td>71333.54</td>\n",
       "    </tr>\n",
       "    <tr>\n",
       "      <th>min</th>\n",
       "      <td>-1476833.42</td>\n",
       "    </tr>\n",
       "    <tr>\n",
       "      <th>25%</th>\n",
       "      <td>-0.00</td>\n",
       "    </tr>\n",
       "    <tr>\n",
       "      <th>50%</th>\n",
       "      <td>120.14</td>\n",
       "    </tr>\n",
       "    <tr>\n",
       "      <th>75%</th>\n",
       "      <td>4687.12</td>\n",
       "    </tr>\n",
       "    <tr>\n",
       "      <th>max</th>\n",
       "      <td>1085712.51</td>\n",
       "    </tr>\n",
       "  </tbody>\n",
       "</table>\n",
       "</div>"
      ],
      "text/plain": [
       "         val_pred\n",
       "count     2970.00\n",
       "mean      2741.01\n",
       "std      71333.54\n",
       "min   -1476833.42\n",
       "25%         -0.00\n",
       "50%        120.14\n",
       "75%       4687.12\n",
       "max    1085712.51"
      ]
     },
     "execution_count": 101,
     "metadata": {},
     "output_type": "execute_result"
    }
   ],
   "source": [
    "pd.DataFrame(y_valid_pred, columns=['val_pred']).describe().round(2)"
   ]
  },
  {
   "cell_type": "markdown",
   "id": "f5a1db4d-fb35-4226-832b-31a05737b949",
   "metadata": {},
   "source": [
    "## GaussianProcessRegressor - Grid Search "
   ]
  },
  {
   "cell_type": "code",
   "execution_count": 102,
   "id": "0ae8edff-b394-4b9e-a552-47fc723b54d3",
   "metadata": {
    "tags": []
   },
   "outputs": [],
   "source": [
    "ker_rbf = ConstantKernel(1.0, constant_value_bounds=\"fixed\") * RBF(1.0, length_scale_bounds=\"fixed\")\n",
    "ker_rq = ConstantKernel(1.0, constant_value_bounds=\"fixed\") * RationalQuadratic(alpha=0.1, length_scale=1)\n",
    "ker_expsine = ConstantKernel(1.0, constant_value_bounds=\"fixed\") * ExpSineSquared(1.0, 5.0, periodicity_bounds=(1e-2, 1e1))\n",
    "\n",
    "kernel_list = [ker_rbf, ker_rq, ker_expsine]\n",
    "\n",
    "param_grid = {\"regressor__kernel\": kernel_list,\n",
    "              \"regressor__alpha\": [0.1]}"
   ]
  },
  {
   "cell_type": "code",
   "execution_count": 103,
   "id": "5419dfc7-2741-42b8-bfcf-648493fd9b1e",
   "metadata": {},
   "outputs": [],
   "source": [
    "# Preproceso 1 para GaussianProcessRegressor - GridSearch\n",
    "df = df_mes.copy()\n",
    "scaler = StandardScaler()\n",
    "#ft_selector = RandomForestRegressor(random_state=0)\n",
    "model_ = GaussianProcessRegressor(random_state=0) # Kernel?"
   ]
  },
  {
   "cell_type": "code",
   "execution_count": 104,
   "id": "c0947a6a-2a31-4b22-ab7a-e0bcc2679124",
   "metadata": {},
   "outputs": [],
   "source": [
    "# Features and target\n",
    "X = df.drop([ordinal_ft, target], axis=1)\n",
    "y = df[target]"
   ]
  },
  {
   "cell_type": "code",
   "execution_count": 105,
   "id": "90098b40-b2a9-4e47-b111-f98394bb454b",
   "metadata": {},
   "outputs": [],
   "source": [
    "# Train and validation\n",
    "X_train, X_val, y_train, y_val = train_test_split(X, y, test_size=0.3, random_state=0, shuffle=False)"
   ]
  },
  {
   "cell_type": "markdown",
   "id": "87f26d09-36cf-42d8-a9f2-5a9f68e9ede4",
   "metadata": {},
   "source": [
    "#### Preproceso y ajuste"
   ]
  },
  {
   "cell_type": "code",
   "execution_count": 106,
   "id": "7b3ab720-bcd6-4c34-8a3d-a1d387687208",
   "metadata": {},
   "outputs": [],
   "source": [
    "# Preprocessing\n",
    "num_transformer = scaler\n",
    "cat_transformer = 'passthrough'\n",
    "\n",
    "num_features = [g for g in X.columns if 'client' not in g]\n",
    "cat_features = [g for g in X.columns if 'client' in g]\n",
    "\n",
    "preprocessor = ColumnTransformer(\n",
    "    transformers=[\n",
    "        ('num', num_transformer, num_features),\n",
    "        ('cat', cat_transformer, cat_features)])"
   ]
  },
  {
   "cell_type": "code",
   "execution_count": 107,
   "id": "b9feaad4-189a-49e3-8629-62af135a52a6",
   "metadata": {
    "tags": []
   },
   "outputs": [
    {
     "name": "stdout",
     "output_type": "stream",
     "text": [
      "Fitting 5 folds for each of 3 candidates, totalling 15 fits\n",
      "[CV] END regressor__alpha=0.1, regressor__kernel=1**2 * RBF(length_scale=1); total time=  14.7s\n",
      "[CV] END regressor__alpha=0.1, regressor__kernel=1**2 * RBF(length_scale=1); total time=  16.6s\n",
      "[CV] END regressor__alpha=0.1, regressor__kernel=1**2 * RBF(length_scale=1); total time=  15.5s\n",
      "[CV] END regressor__alpha=0.1, regressor__kernel=1**2 * RBF(length_scale=1); total time=  15.0s\n",
      "[CV] END regressor__alpha=0.1, regressor__kernel=1**2 * RBF(length_scale=1); total time=  14.7s\n",
      "[CV] END regressor__alpha=0.1, regressor__kernel=1**2 * RationalQuadratic(alpha=0.1, length_scale=1); total time= 2.5min\n",
      "[CV] END regressor__alpha=0.1, regressor__kernel=1**2 * RationalQuadratic(alpha=0.1, length_scale=1); total time= 2.4min\n",
      "[CV] END regressor__alpha=0.1, regressor__kernel=1**2 * RationalQuadratic(alpha=0.1, length_scale=1); total time= 2.6min\n",
      "[CV] END regressor__alpha=0.1, regressor__kernel=1**2 * RationalQuadratic(alpha=0.1, length_scale=1); total time= 2.6min\n",
      "[CV] END regressor__alpha=0.1, regressor__kernel=1**2 * RationalQuadratic(alpha=0.1, length_scale=1); total time= 2.6min\n",
      "[CV] END regressor__alpha=0.1, regressor__kernel=1**2 * ExpSineSquared(length_scale=1, periodicity=5); total time=   9.5s\n",
      "[CV] END regressor__alpha=0.1, regressor__kernel=1**2 * ExpSineSquared(length_scale=1, periodicity=5); total time=   9.5s\n",
      "[CV] END regressor__alpha=0.1, regressor__kernel=1**2 * ExpSineSquared(length_scale=1, periodicity=5); total time=   9.6s\n",
      "[CV] END regressor__alpha=0.1, regressor__kernel=1**2 * ExpSineSquared(length_scale=1, periodicity=5); total time=   9.7s\n",
      "[CV] END regressor__alpha=0.1, regressor__kernel=1**2 * ExpSineSquared(length_scale=1, periodicity=5); total time=   9.7s\n"
     ]
    }
   ],
   "source": [
    "# Fit\n",
    "pipe = Pipeline([\n",
    "  ('preprocessor', preprocessor),\n",
    "#  ('feature_selection', SelectFromModel(ft_selector)),\n",
    "  ('regressor', model_)\n",
    "])\n",
    "\n",
    "model = GridSearchCV(pipe, param_grid, scoring='neg_mean_squared_error',cv=5, verbose=2)\n",
    "\n",
    "model.fit(X_train, y_train)\n",
    "gpr_cv = model"
   ]
  },
  {
   "cell_type": "code",
   "execution_count": 108,
   "id": "851cc8a8-a2b1-4c89-bd61-c9720380edbf",
   "metadata": {},
   "outputs": [
    {
     "data": {
      "text/plain": [
       "{'regressor__alpha': 0.1,\n",
       " 'regressor__kernel': 1**2 * RationalQuadratic(alpha=0.1, length_scale=1)}"
      ]
     },
     "execution_count": 108,
     "metadata": {},
     "output_type": "execute_result"
    }
   ],
   "source": [
    "model.best_params_"
   ]
  },
  {
   "cell_type": "code",
   "execution_count": 109,
   "id": "f43664c1-8bea-40f7-a72e-dc2a8451fa9c",
   "metadata": {},
   "outputs": [],
   "source": [
    "# Predict\n",
    "y_train_pred = model.predict(X_train)\n",
    "y_valid_pred = model.predict(X_val)"
   ]
  },
  {
   "cell_type": "markdown",
   "id": "a7ae2bf0-b390-4716-b59e-1163b6f36bf0",
   "metadata": {},
   "source": [
    "#### Evaluacion de predicciones"
   ]
  },
  {
   "cell_type": "code",
   "execution_count": 110,
   "id": "76a35523-90a6-48ea-a43c-3278cbdf893b",
   "metadata": {
    "tags": []
   },
   "outputs": [
    {
     "name": "stdout",
     "output_type": "stream",
     "text": [
      "Train error 1061423.911, Valid error 129867263.893\n"
     ]
    }
   ],
   "source": [
    "# evaluate MSE:\n",
    "train_error = mean_squared_error(y_train, y_train_pred)\n",
    "val_error = mean_squared_error(y_val, y_valid_pred)\n",
    "print(f'Train error {train_error.round(3)}, Valid error {val_error.round(3)}')  "
   ]
  },
  {
   "cell_type": "code",
   "execution_count": 111,
   "id": "67c429f1-1411-4e21-9e7b-b636072d304c",
   "metadata": {
    "tags": []
   },
   "outputs": [
    {
     "name": "stdout",
     "output_type": "stream",
     "text": [
      "Train error RMSE 1030.254, Valid error RMSE 11395.932\n"
     ]
    }
   ],
   "source": [
    "# evaluate RMSE:\n",
    "train_error = np.sqrt(mean_squared_error(y_train, y_train_pred))\n",
    "val_error = np.sqrt(mean_squared_error(y_val, y_valid_pred))\n",
    "print(f'Train error RMSE {train_error.round(3)}, Valid error RMSE {val_error.round(3)}')  "
   ]
  },
  {
   "cell_type": "code",
   "execution_count": 112,
   "id": "f5b84615-d407-4784-b315-6cf32eb05445",
   "metadata": {
    "tags": []
   },
   "outputs": [
    {
     "name": "stdout",
     "output_type": "stream",
     "text": [
      "Train error MAE 609.792, Valid error MAE 7014.545\n"
     ]
    }
   ],
   "source": [
    "# evaluate MAE:\n",
    "train_error = mean_absolute_error(y_train, y_train_pred)\n",
    "val_error = mean_absolute_error(y_val, y_valid_pred)\n",
    "print(f'Train error MAE {train_error.round(3)}, Valid error MAE {val_error.round(3)}')  "
   ]
  },
  {
   "cell_type": "markdown",
   "id": "7d08673f-8733-40ba-8970-7f341069097e",
   "metadata": {
    "tags": []
   },
   "source": [
    "Visualizamos nuestra variable target (real y predicción)"
   ]
  },
  {
   "cell_type": "code",
   "execution_count": 113,
   "id": "8442e239-bd33-4197-b053-cc1ea4a1dfe6",
   "metadata": {},
   "outputs": [
    {
     "data": {
      "text/html": [
       "<div>\n",
       "<style scoped>\n",
       "    .dataframe tbody tr th:only-of-type {\n",
       "        vertical-align: middle;\n",
       "    }\n",
       "\n",
       "    .dataframe tbody tr th {\n",
       "        vertical-align: top;\n",
       "    }\n",
       "\n",
       "    .dataframe thead th {\n",
       "        text-align: right;\n",
       "    }\n",
       "</style>\n",
       "<table border=\"1\" class=\"dataframe\">\n",
       "  <thead>\n",
       "    <tr style=\"text-align: right;\">\n",
       "      <th></th>\n",
       "      <th>val_real</th>\n",
       "    </tr>\n",
       "  </thead>\n",
       "  <tbody>\n",
       "    <tr>\n",
       "      <th>count</th>\n",
       "      <td>2970.00</td>\n",
       "    </tr>\n",
       "    <tr>\n",
       "      <th>mean</th>\n",
       "      <td>8658.18</td>\n",
       "    </tr>\n",
       "    <tr>\n",
       "      <th>std</th>\n",
       "      <td>14232.20</td>\n",
       "    </tr>\n",
       "    <tr>\n",
       "      <th>min</th>\n",
       "      <td>-14160.00</td>\n",
       "    </tr>\n",
       "    <tr>\n",
       "      <th>25%</th>\n",
       "      <td>0.00</td>\n",
       "    </tr>\n",
       "    <tr>\n",
       "      <th>50%</th>\n",
       "      <td>2096.00</td>\n",
       "    </tr>\n",
       "    <tr>\n",
       "      <th>75%</th>\n",
       "      <td>12011.50</td>\n",
       "    </tr>\n",
       "    <tr>\n",
       "      <th>max</th>\n",
       "      <td>134045.00</td>\n",
       "    </tr>\n",
       "  </tbody>\n",
       "</table>\n",
       "</div>"
      ],
      "text/plain": [
       "        val_real\n",
       "count    2970.00\n",
       "mean     8658.18\n",
       "std     14232.20\n",
       "min    -14160.00\n",
       "25%         0.00\n",
       "50%      2096.00\n",
       "75%     12011.50\n",
       "max    134045.00"
      ]
     },
     "execution_count": 113,
     "metadata": {},
     "output_type": "execute_result"
    }
   ],
   "source": [
    "pd.DataFrame(y_val.values.astype(int), columns=['val_real']).describe().round(2)"
   ]
  },
  {
   "cell_type": "code",
   "execution_count": 114,
   "id": "7d4b1873-49ca-4a11-92df-e8063e53ff03",
   "metadata": {},
   "outputs": [
    {
     "data": {
      "text/html": [
       "<div>\n",
       "<style scoped>\n",
       "    .dataframe tbody tr th:only-of-type {\n",
       "        vertical-align: middle;\n",
       "    }\n",
       "\n",
       "    .dataframe tbody tr th {\n",
       "        vertical-align: top;\n",
       "    }\n",
       "\n",
       "    .dataframe thead th {\n",
       "        text-align: right;\n",
       "    }\n",
       "</style>\n",
       "<table border=\"1\" class=\"dataframe\">\n",
       "  <thead>\n",
       "    <tr style=\"text-align: right;\">\n",
       "      <th></th>\n",
       "      <th>val_pred</th>\n",
       "    </tr>\n",
       "  </thead>\n",
       "  <tbody>\n",
       "    <tr>\n",
       "      <th>count</th>\n",
       "      <td>2970.00</td>\n",
       "    </tr>\n",
       "    <tr>\n",
       "      <th>mean</th>\n",
       "      <td>8899.20</td>\n",
       "    </tr>\n",
       "    <tr>\n",
       "      <th>std</th>\n",
       "      <td>6505.11</td>\n",
       "    </tr>\n",
       "    <tr>\n",
       "      <th>min</th>\n",
       "      <td>-54.73</td>\n",
       "    </tr>\n",
       "    <tr>\n",
       "      <th>25%</th>\n",
       "      <td>3509.94</td>\n",
       "    </tr>\n",
       "    <tr>\n",
       "      <th>50%</th>\n",
       "      <td>7846.35</td>\n",
       "    </tr>\n",
       "    <tr>\n",
       "      <th>75%</th>\n",
       "      <td>13283.11</td>\n",
       "    </tr>\n",
       "    <tr>\n",
       "      <th>max</th>\n",
       "      <td>32259.33</td>\n",
       "    </tr>\n",
       "  </tbody>\n",
       "</table>\n",
       "</div>"
      ],
      "text/plain": [
       "       val_pred\n",
       "count   2970.00\n",
       "mean    8899.20\n",
       "std     6505.11\n",
       "min      -54.73\n",
       "25%     3509.94\n",
       "50%     7846.35\n",
       "75%    13283.11\n",
       "max    32259.33"
      ]
     },
     "execution_count": 114,
     "metadata": {},
     "output_type": "execute_result"
    }
   ],
   "source": [
    "pd.DataFrame(y_valid_pred, columns=['val_pred']).describe().round(2)"
   ]
  },
  {
   "cell_type": "markdown",
   "id": "64e2e60e-2e86-4049-bdc3-3182287cc8bb",
   "metadata": {},
   "source": [
    "## XGBRegressor - Default"
   ]
  },
  {
   "cell_type": "code",
   "execution_count": 115,
   "id": "4cf507cf-9bb0-4631-b1f8-955ed461ca8e",
   "metadata": {},
   "outputs": [],
   "source": [
    "# Preproceso 1 para XGBRegressor - Default\n",
    "df = df_mes.copy()\n",
    "scaler = MinMaxScaler()\n",
    "#ft_selector = RandomForestRegressor(random_state=0)\n",
    "model_ = XGBRegressor(random_state=0, verbosity=1)"
   ]
  },
  {
   "cell_type": "code",
   "execution_count": 116,
   "id": "671675b0-a8e3-452f-93a5-164f799f3d50",
   "metadata": {},
   "outputs": [],
   "source": [
    "# Features and target\n",
    "X = df.drop([ordinal_ft, target], axis=1)\n",
    "y = df[target]"
   ]
  },
  {
   "cell_type": "code",
   "execution_count": 117,
   "id": "da5e74d8-ea06-44c0-bc28-fa784e3a000a",
   "metadata": {},
   "outputs": [],
   "source": [
    "# Train and validation\n",
    "X_train, X_val, y_train, y_val = train_test_split(X, y, test_size=0.2, random_state=0, shuffle=True)"
   ]
  },
  {
   "cell_type": "markdown",
   "id": "f33f0e58-9f67-417e-ad70-844ec230c839",
   "metadata": {},
   "source": [
    "#### Preproceso y ajuste"
   ]
  },
  {
   "cell_type": "code",
   "execution_count": 118,
   "id": "8aed69fc-ac6b-439f-a5f5-91750bb8f8d0",
   "metadata": {},
   "outputs": [],
   "source": [
    "# Preprocessing\n",
    "num_transformer = scaler\n",
    "cat_transformer = 'passthrough'\n",
    "\n",
    "num_features = [g for g in X.columns if 'client__' not in g]\n",
    "cat_features = [g for g in X.columns if 'client__' in g]\n",
    "\n",
    "preprocessor = ColumnTransformer(\n",
    "    transformers=[\n",
    "        ('num', num_transformer, num_features),\n",
    "        ('cat', cat_transformer, cat_features)])"
   ]
  },
  {
   "cell_type": "code",
   "execution_count": 119,
   "id": "ae9fa7ff-5223-4261-9386-9199fa336be1",
   "metadata": {},
   "outputs": [],
   "source": [
    "# Fit\n",
    "model = Pipeline([\n",
    "  ('preprocessor', preprocessor),\n",
    "  ('feature_selection', SelectFromModel(ft_selector)),\n",
    "  ('regressor', model_)\n",
    "])\n",
    "\n",
    "model.fit(X_train, y_train)\n",
    "xgb = model"
   ]
  },
  {
   "cell_type": "code",
   "execution_count": 120,
   "id": "9ac73d80-9ffa-48d9-9780-5b3fd757f7fa",
   "metadata": {},
   "outputs": [],
   "source": [
    "# Predict\n",
    "y_train_pred = model.predict(X_train)\n",
    "y_valid_pred = model.predict(X_val)"
   ]
  },
  {
   "cell_type": "markdown",
   "id": "ab402581-745a-4100-9299-98252734481b",
   "metadata": {},
   "source": [
    "#### Evaluacion de predicciones"
   ]
  },
  {
   "cell_type": "code",
   "execution_count": 121,
   "id": "23be29cc-4fbc-43bd-b680-6ec24c5be331",
   "metadata": {
    "tags": []
   },
   "outputs": [
    {
     "name": "stdout",
     "output_type": "stream",
     "text": [
      "Train error 17984699.36, Valid error 78504150.227\n"
     ]
    }
   ],
   "source": [
    "# evaluate MSE:\n",
    "train_error = mean_squared_error(y_train, y_train_pred)\n",
    "val_error = mean_squared_error(y_val, y_valid_pred)\n",
    "print(f'Train error {train_error.round(3)}, Valid error {val_error.round(3)}')  "
   ]
  },
  {
   "cell_type": "code",
   "execution_count": 122,
   "id": "73bcb24b-d9d6-45d0-920b-370efd705fc1",
   "metadata": {
    "tags": []
   },
   "outputs": [
    {
     "name": "stdout",
     "output_type": "stream",
     "text": [
      "Train error RMSE 4240.837, Valid error RMSE 8860.257\n"
     ]
    }
   ],
   "source": [
    "# evaluate RMSE:\n",
    "train_error = np.sqrt(mean_squared_error(y_train, y_train_pred))\n",
    "val_error = np.sqrt(mean_squared_error(y_val, y_valid_pred))\n",
    "print(f'Train error RMSE {train_error.round(3)}, Valid error RMSE {val_error.round(3)}')  "
   ]
  },
  {
   "cell_type": "code",
   "execution_count": 123,
   "id": "821b09a4-7f9b-4407-9d8c-fb0ef99796f2",
   "metadata": {
    "tags": []
   },
   "outputs": [
    {
     "name": "stdout",
     "output_type": "stream",
     "text": [
      "Train error MAE 2308.55, Valid error MAE 4763.252\n"
     ]
    }
   ],
   "source": [
    "# evaluate MAE:\n",
    "train_error = mean_absolute_error(y_train, y_train_pred)\n",
    "val_error = mean_absolute_error(y_val, y_valid_pred)\n",
    "print(f'Train error MAE {train_error.round(3)}, Valid error MAE {val_error.round(3)}')  "
   ]
  },
  {
   "cell_type": "markdown",
   "id": "df15acb0-401d-47ff-9fbd-dcd7ae6d9506",
   "metadata": {
    "tags": []
   },
   "source": [
    "Visualizamos nuestra variable target (real y predicción)"
   ]
  },
  {
   "cell_type": "code",
   "execution_count": 124,
   "id": "fe26d948-48d4-49f1-b871-311703fe3325",
   "metadata": {},
   "outputs": [
    {
     "data": {
      "text/html": [
       "<div>\n",
       "<style scoped>\n",
       "    .dataframe tbody tr th:only-of-type {\n",
       "        vertical-align: middle;\n",
       "    }\n",
       "\n",
       "    .dataframe tbody tr th {\n",
       "        vertical-align: top;\n",
       "    }\n",
       "\n",
       "    .dataframe thead th {\n",
       "        text-align: right;\n",
       "    }\n",
       "</style>\n",
       "<table border=\"1\" class=\"dataframe\">\n",
       "  <thead>\n",
       "    <tr style=\"text-align: right;\">\n",
       "      <th></th>\n",
       "      <th>val_real</th>\n",
       "    </tr>\n",
       "  </thead>\n",
       "  <tbody>\n",
       "    <tr>\n",
       "      <th>count</th>\n",
       "      <td>1980.00</td>\n",
       "    </tr>\n",
       "    <tr>\n",
       "      <th>mean</th>\n",
       "      <td>8565.37</td>\n",
       "    </tr>\n",
       "    <tr>\n",
       "      <th>std</th>\n",
       "      <td>13034.44</td>\n",
       "    </tr>\n",
       "    <tr>\n",
       "      <th>min</th>\n",
       "      <td>-4336.00</td>\n",
       "    </tr>\n",
       "    <tr>\n",
       "      <th>25%</th>\n",
       "      <td>0.00</td>\n",
       "    </tr>\n",
       "    <tr>\n",
       "      <th>50%</th>\n",
       "      <td>2729.00</td>\n",
       "    </tr>\n",
       "    <tr>\n",
       "      <th>75%</th>\n",
       "      <td>12201.00</td>\n",
       "    </tr>\n",
       "    <tr>\n",
       "      <th>max</th>\n",
       "      <td>112210.00</td>\n",
       "    </tr>\n",
       "  </tbody>\n",
       "</table>\n",
       "</div>"
      ],
      "text/plain": [
       "        val_real\n",
       "count    1980.00\n",
       "mean     8565.37\n",
       "std     13034.44\n",
       "min     -4336.00\n",
       "25%         0.00\n",
       "50%      2729.00\n",
       "75%     12201.00\n",
       "max    112210.00"
      ]
     },
     "execution_count": 124,
     "metadata": {},
     "output_type": "execute_result"
    }
   ],
   "source": [
    "pd.DataFrame(y_val.values.astype(int), columns=['val_real']).describe().round(2)"
   ]
  },
  {
   "cell_type": "code",
   "execution_count": 125,
   "id": "cc91b679-8864-47ee-ae99-fe0517002953",
   "metadata": {},
   "outputs": [
    {
     "data": {
      "text/html": [
       "<div>\n",
       "<style scoped>\n",
       "    .dataframe tbody tr th:only-of-type {\n",
       "        vertical-align: middle;\n",
       "    }\n",
       "\n",
       "    .dataframe tbody tr th {\n",
       "        vertical-align: top;\n",
       "    }\n",
       "\n",
       "    .dataframe thead th {\n",
       "        text-align: right;\n",
       "    }\n",
       "</style>\n",
       "<table border=\"1\" class=\"dataframe\">\n",
       "  <thead>\n",
       "    <tr style=\"text-align: right;\">\n",
       "      <th></th>\n",
       "      <th>val_pred</th>\n",
       "    </tr>\n",
       "  </thead>\n",
       "  <tbody>\n",
       "    <tr>\n",
       "      <th>count</th>\n",
       "      <td>1980.00</td>\n",
       "    </tr>\n",
       "    <tr>\n",
       "      <th>mean</th>\n",
       "      <td>8648.66</td>\n",
       "    </tr>\n",
       "    <tr>\n",
       "      <th>std</th>\n",
       "      <td>11232.93</td>\n",
       "    </tr>\n",
       "    <tr>\n",
       "      <th>min</th>\n",
       "      <td>-3479.48</td>\n",
       "    </tr>\n",
       "    <tr>\n",
       "      <th>25%</th>\n",
       "      <td>74.37</td>\n",
       "    </tr>\n",
       "    <tr>\n",
       "      <th>50%</th>\n",
       "      <td>5258.69</td>\n",
       "    </tr>\n",
       "    <tr>\n",
       "      <th>75%</th>\n",
       "      <td>13419.54</td>\n",
       "    </tr>\n",
       "    <tr>\n",
       "      <th>max</th>\n",
       "      <td>92375.75</td>\n",
       "    </tr>\n",
       "  </tbody>\n",
       "</table>\n",
       "</div>"
      ],
      "text/plain": [
       "       val_pred\n",
       "count   1980.00\n",
       "mean    8648.66\n",
       "std    11232.93\n",
       "min    -3479.48\n",
       "25%       74.37\n",
       "50%     5258.69\n",
       "75%    13419.54\n",
       "max    92375.75"
      ]
     },
     "execution_count": 125,
     "metadata": {},
     "output_type": "execute_result"
    }
   ],
   "source": [
    "pd.DataFrame(y_valid_pred, columns=['val_pred']).describe().round(2)"
   ]
  },
  {
   "cell_type": "markdown",
   "id": "2c131c49-cec2-43e7-bdc3-fe2982d753de",
   "metadata": {},
   "source": [
    "## XGBRegressor - Grid Search"
   ]
  },
  {
   "cell_type": "code",
   "execution_count": 126,
   "id": "2c02666d-f2ca-4261-9a50-b7892f6ce74c",
   "metadata": {},
   "outputs": [],
   "source": [
    "# Preproceso 1 para KNeighborsRegressor - GridSearch\n",
    "df = df_mes.copy()\n",
    "scaler = MinMaxScaler()\n",
    "model_ = XGBRegressor(random_state=0)#, booster='gbtree')"
   ]
  },
  {
   "cell_type": "markdown",
   "id": "6a5d8233-c8ff-4267-97a8-44e81a783aa1",
   "metadata": {
    "tags": []
   },
   "source": [
    "La combinacion de hiperparametros es mas densa en este modelo porque fue el que mejor resultados dio en cuanto a RMSE"
   ]
  },
  {
   "cell_type": "code",
   "execution_count": 127,
   "id": "01208924-9cd8-44ba-95c3-33d6e5d5c43e",
   "metadata": {
    "tags": []
   },
   "outputs": [],
   "source": [
    "#param_grid = {'regressor__max_depth': [None]}\n",
    "#              'regressor__eta': [0.15, 0.1, 0.08],\n",
    "           #   'regressor__subsample': [None],\n",
    "           #   'regressor__colsample_bytree': [None]}\n",
    "param_grid = {}    "
   ]
  },
  {
   "cell_type": "code",
   "execution_count": 128,
   "id": "fe143b0d-e394-4312-a1ad-35ea31aa20f9",
   "metadata": {},
   "outputs": [],
   "source": [
    "# Features and target\n",
    "X = df.drop([ordinal_ft, target], axis=1)\n",
    "y = df[target]"
   ]
  },
  {
   "cell_type": "code",
   "execution_count": 129,
   "id": "2bb7dfe0-6642-44ff-aa64-2f240470cedc",
   "metadata": {},
   "outputs": [],
   "source": [
    "# Train and validation\n",
    "X_train, X_val, y_train, y_val = train_test_split(X, y, test_size=0.2, random_state=0, shuffle=False)"
   ]
  },
  {
   "cell_type": "markdown",
   "id": "e3973750-cb4b-4ae8-bc4d-e49ae388858b",
   "metadata": {},
   "source": [
    "#### Preproceso y ajuste"
   ]
  },
  {
   "cell_type": "code",
   "execution_count": 130,
   "id": "57d15b82-f3f5-40c3-b347-009d338a8b1c",
   "metadata": {},
   "outputs": [],
   "source": [
    "# Preprocessing\n",
    "num_transformer = scaler\n",
    "cat_transformer = 'passthrough'\n",
    "\n",
    "num_features = [g for g in X.columns if 'client__' not in g]\n",
    "cat_features = [g for g in X.columns if 'client__' in g]\n",
    "\n",
    "preprocessor = ColumnTransformer(\n",
    "    transformers=[\n",
    "        ('num', num_transformer, num_features),\n",
    "        ('cat', cat_transformer, cat_features)])"
   ]
  },
  {
   "cell_type": "code",
   "execution_count": 131,
   "id": "a8e109bc-01fc-467d-9621-ae3f2163c8a7",
   "metadata": {
    "tags": []
   },
   "outputs": [
    {
     "name": "stdout",
     "output_type": "stream",
     "text": [
      "Fitting 5 folds for each of 1 candidates, totalling 5 fits\n"
     ]
    }
   ],
   "source": [
    "# Fit\n",
    "pipe = Pipeline([\n",
    "  ('preprocessor', preprocessor),\n",
    "#  ('feature_selection', SelectFromModel(ft_selector)),\n",
    "  ('regressor', model_)\n",
    "])\n",
    "\n",
    "model = GridSearchCV(pipe, param_grid, scoring='neg_mean_squared_error',cv=5, verbose=1)\n",
    "\n",
    "model.fit(X_train, y_train)\n",
    "xgb_cv = model"
   ]
  },
  {
   "cell_type": "code",
   "execution_count": 132,
   "id": "f693d8c7-70c0-4851-8489-f546a75ef162",
   "metadata": {},
   "outputs": [
    {
     "data": {
      "text/plain": [
       "{}"
      ]
     },
     "execution_count": 132,
     "metadata": {},
     "output_type": "execute_result"
    }
   ],
   "source": [
    "model.best_params_"
   ]
  },
  {
   "cell_type": "code",
   "execution_count": 133,
   "id": "243529d1-616f-4962-a5ca-eee19a1bf9ea",
   "metadata": {},
   "outputs": [],
   "source": [
    "# Predict\n",
    "y_train_pred = model.predict(X_train)\n",
    "y_valid_pred = model.predict(X_val)"
   ]
  },
  {
   "cell_type": "markdown",
   "id": "b8ff9b64-fba7-4a51-bef8-5737fd1822a0",
   "metadata": {},
   "source": [
    "#### Evaluacion de predicciones"
   ]
  },
  {
   "cell_type": "code",
   "execution_count": 134,
   "id": "eb16636b-8791-410e-8d6e-b23b48a628fc",
   "metadata": {
    "tags": []
   },
   "outputs": [
    {
     "name": "stdout",
     "output_type": "stream",
     "text": [
      "Train error 16196722.767, Valid error 95903237.544\n"
     ]
    }
   ],
   "source": [
    "# evaluate MSE:\n",
    "train_error = mean_squared_error(y_train, y_train_pred)\n",
    "val_error = mean_squared_error(y_val, y_valid_pred)\n",
    "print(f'Train error {train_error.round(3)}, Valid error {val_error.round(3)}')  "
   ]
  },
  {
   "cell_type": "code",
   "execution_count": 135,
   "id": "6e13feab-69cc-4f01-832e-4a666eacb62b",
   "metadata": {
    "tags": []
   },
   "outputs": [
    {
     "name": "stdout",
     "output_type": "stream",
     "text": [
      "Train error RMSE 4024.515, Valid error RMSE 9793.02\n"
     ]
    }
   ],
   "source": [
    "# evaluate RMSE:\n",
    "train_error = np.sqrt(mean_squared_error(y_train, y_train_pred))\n",
    "val_error = np.sqrt(mean_squared_error(y_val, y_valid_pred))\n",
    "print(f'Train error RMSE {train_error.round(3)}, Valid error RMSE {val_error.round(3)}')  "
   ]
  },
  {
   "cell_type": "code",
   "execution_count": 136,
   "id": "410e2a8a-3023-4d38-8f19-bfd8c0081454",
   "metadata": {
    "tags": []
   },
   "outputs": [
    {
     "name": "stdout",
     "output_type": "stream",
     "text": [
      "Train error MAE 2203.089, Valid error MAE 5164.403\n"
     ]
    }
   ],
   "source": [
    "# evaluate MAE:\n",
    "train_error = mean_absolute_error(y_train, y_train_pred)\n",
    "val_error = mean_absolute_error(y_val, y_valid_pred)\n",
    "print(f'Train error MAE {train_error.round(3)}, Valid error MAE {val_error.round(3)}')  "
   ]
  },
  {
   "cell_type": "markdown",
   "id": "7e791b04-8bbc-4483-bdea-bf77b5ca06cb",
   "metadata": {
    "tags": []
   },
   "source": [
    "Visualizamos nuestra variable target (real y predicción)"
   ]
  },
  {
   "cell_type": "code",
   "execution_count": 137,
   "id": "d300f36c-060c-4960-a750-8410424d62fb",
   "metadata": {},
   "outputs": [
    {
     "data": {
      "text/html": [
       "<div>\n",
       "<style scoped>\n",
       "    .dataframe tbody tr th:only-of-type {\n",
       "        vertical-align: middle;\n",
       "    }\n",
       "\n",
       "    .dataframe tbody tr th {\n",
       "        vertical-align: top;\n",
       "    }\n",
       "\n",
       "    .dataframe thead th {\n",
       "        text-align: right;\n",
       "    }\n",
       "</style>\n",
       "<table border=\"1\" class=\"dataframe\">\n",
       "  <thead>\n",
       "    <tr style=\"text-align: right;\">\n",
       "      <th></th>\n",
       "      <th>val_real</th>\n",
       "    </tr>\n",
       "  </thead>\n",
       "  <tbody>\n",
       "    <tr>\n",
       "      <th>count</th>\n",
       "      <td>1980.00</td>\n",
       "    </tr>\n",
       "    <tr>\n",
       "      <th>mean</th>\n",
       "      <td>8271.04</td>\n",
       "    </tr>\n",
       "    <tr>\n",
       "      <th>std</th>\n",
       "      <td>13998.37</td>\n",
       "    </tr>\n",
       "    <tr>\n",
       "      <th>min</th>\n",
       "      <td>-14160.00</td>\n",
       "    </tr>\n",
       "    <tr>\n",
       "      <th>25%</th>\n",
       "      <td>0.00</td>\n",
       "    </tr>\n",
       "    <tr>\n",
       "      <th>50%</th>\n",
       "      <td>1968.00</td>\n",
       "    </tr>\n",
       "    <tr>\n",
       "      <th>75%</th>\n",
       "      <td>11221.75</td>\n",
       "    </tr>\n",
       "    <tr>\n",
       "      <th>max</th>\n",
       "      <td>133577.00</td>\n",
       "    </tr>\n",
       "  </tbody>\n",
       "</table>\n",
       "</div>"
      ],
      "text/plain": [
       "        val_real\n",
       "count    1980.00\n",
       "mean     8271.04\n",
       "std     13998.37\n",
       "min    -14160.00\n",
       "25%         0.00\n",
       "50%      1968.00\n",
       "75%     11221.75\n",
       "max    133577.00"
      ]
     },
     "execution_count": 137,
     "metadata": {},
     "output_type": "execute_result"
    }
   ],
   "source": [
    "pd.DataFrame(y_val.values.astype(int), columns=['val_real']).describe().round(2)"
   ]
  },
  {
   "cell_type": "code",
   "execution_count": 138,
   "id": "84bcf1d8-a659-437b-a08f-25c9e9831047",
   "metadata": {},
   "outputs": [
    {
     "data": {
      "text/html": [
       "<div>\n",
       "<style scoped>\n",
       "    .dataframe tbody tr th:only-of-type {\n",
       "        vertical-align: middle;\n",
       "    }\n",
       "\n",
       "    .dataframe tbody tr th {\n",
       "        vertical-align: top;\n",
       "    }\n",
       "\n",
       "    .dataframe thead th {\n",
       "        text-align: right;\n",
       "    }\n",
       "</style>\n",
       "<table border=\"1\" class=\"dataframe\">\n",
       "  <thead>\n",
       "    <tr style=\"text-align: right;\">\n",
       "      <th></th>\n",
       "      <th>val_pred</th>\n",
       "    </tr>\n",
       "  </thead>\n",
       "  <tbody>\n",
       "    <tr>\n",
       "      <th>count</th>\n",
       "      <td>1980.00</td>\n",
       "    </tr>\n",
       "    <tr>\n",
       "      <th>mean</th>\n",
       "      <td>8807.13</td>\n",
       "    </tr>\n",
       "    <tr>\n",
       "      <th>std</th>\n",
       "      <td>11381.15</td>\n",
       "    </tr>\n",
       "    <tr>\n",
       "      <th>min</th>\n",
       "      <td>-2909.39</td>\n",
       "    </tr>\n",
       "    <tr>\n",
       "      <th>25%</th>\n",
       "      <td>85.44</td>\n",
       "    </tr>\n",
       "    <tr>\n",
       "      <th>50%</th>\n",
       "      <td>4953.10</td>\n",
       "    </tr>\n",
       "    <tr>\n",
       "      <th>75%</th>\n",
       "      <td>13873.22</td>\n",
       "    </tr>\n",
       "    <tr>\n",
       "      <th>max</th>\n",
       "      <td>66031.52</td>\n",
       "    </tr>\n",
       "  </tbody>\n",
       "</table>\n",
       "</div>"
      ],
      "text/plain": [
       "       val_pred\n",
       "count   1980.00\n",
       "mean    8807.13\n",
       "std    11381.15\n",
       "min    -2909.39\n",
       "25%       85.44\n",
       "50%     4953.10\n",
       "75%    13873.22\n",
       "max    66031.52"
      ]
     },
     "execution_count": 138,
     "metadata": {},
     "output_type": "execute_result"
    }
   ],
   "source": [
    "pd.DataFrame(y_valid_pred, columns=['val_pred']).describe().round(2)"
   ]
  },
  {
   "cell_type": "markdown",
   "id": "9e807604-ba85-4796-a557-83d052da6429",
   "metadata": {},
   "source": [
    "## VotingRegressor"
   ]
  },
  {
   "cell_type": "code",
   "execution_count": 139,
   "id": "277879da-8046-4334-8d7a-151bbc8fa1fd",
   "metadata": {},
   "outputs": [],
   "source": [
    "# Preproceso 1 para GaussianProcessRegressor - GridSearch\n",
    "df = df_mes.copy()\n",
    "scaler = MinMaxScaler()\n",
    "ft_selector = RandomForestRegressor(random_state=0)\n",
    "model_ = VotingRegressor([#('svr', svr['regressor']),\n",
    "                      #    ('sgd', sgd['regressor']),\n",
    "                          ('knn', knn['regressor']),\n",
    "                          ('gpr', gpr['regressor']),\n",
    "                          ('xgb', xgb['regressor']),\n",
    "                          ('knn_cv', knn_cv.best_estimator_['regressor']),\n",
    "                          ('gpr_cv', gpr_cv.best_estimator_['regressor']),\n",
    "                          ('xgb_cv', xgb_cv.best_estimator_['regressor'])], verbose=True)"
   ]
  },
  {
   "cell_type": "code",
   "execution_count": 140,
   "id": "be32edfb-edd7-4927-b74a-ef4dbbf9c559",
   "metadata": {},
   "outputs": [],
   "source": [
    "# Features and target\n",
    "X = df.drop([ordinal_ft, target], axis=1)\n",
    "y = df[target]"
   ]
  },
  {
   "cell_type": "code",
   "execution_count": 141,
   "id": "b8a1e67f-0378-424f-9090-4f36e7472b18",
   "metadata": {},
   "outputs": [],
   "source": [
    "# Train and validation\n",
    "X_train, X_val, y_train, y_val = train_test_split(X, y, test_size=0.3, random_state=0, shuffle=False)"
   ]
  },
  {
   "cell_type": "markdown",
   "id": "d0ee4d68-b6f1-4dc2-88fa-2f03b053a6fe",
   "metadata": {},
   "source": [
    "#### Preproceso y ajuste"
   ]
  },
  {
   "cell_type": "code",
   "execution_count": 142,
   "id": "5c42d127-7493-4b27-b641-7a3c814ac007",
   "metadata": {},
   "outputs": [],
   "source": [
    "# Preprocessing\n",
    "num_transformer = scaler\n",
    "cat_transformer = 'passthrough'\n",
    "\n",
    "num_features = [g for g in X.columns if 'client' not in g]\n",
    "cat_features = [g for g in X.columns if 'client' in g]\n",
    "\n",
    "preprocessor = ColumnTransformer(\n",
    "    transformers=[\n",
    "        ('num', num_transformer, num_features),\n",
    "        ('cat', cat_transformer, cat_features)])"
   ]
  },
  {
   "cell_type": "code",
   "execution_count": 143,
   "id": "e6309551-ecbd-45f4-8eef-f4a4c4095924",
   "metadata": {
    "tags": []
   },
   "outputs": [
    {
     "name": "stdout",
     "output_type": "stream",
     "text": [
      "[Voting] ...................... (1 of 6) Processing knn, total=   0.0s\n",
      "[Voting] ...................... (2 of 6) Processing gpr, total=  17.1s\n",
      "[Voting] ...................... (3 of 6) Processing xgb, total=   0.6s\n",
      "[Voting] ................... (4 of 6) Processing knn_cv, total=   0.0s\n",
      "[Voting] ................... (5 of 6) Processing gpr_cv, total=  54.2s\n",
      "[Voting] ................... (6 of 6) Processing xgb_cv, total=   0.7s\n"
     ]
    },
    {
     "data": {
      "text/plain": [
       "Pipeline(steps=[('preprocessor',\n",
       "                 ColumnTransformer(transformers=[('num', MinMaxScaler(),\n",
       "                                                  ['anio_mes_cupon',\n",
       "                                                   'trans__x0_AX',\n",
       "                                                   'trans__x0_EX',\n",
       "                                                   'trans__x0_MC',\n",
       "                                                   'trans__x0_PC',\n",
       "                                                   'trans__x0_PL',\n",
       "                                                   'trans__x0_PN',\n",
       "                                                   'trans__x0_PP',\n",
       "                                                   'trans__x0_TA',\n",
       "                                                   'trans__x0_VI',\n",
       "                                                   'trans__x0_ZE',\n",
       "                                                   'trans__x1_0',\n",
       "                                                   'trans__x1_22',\n",
       "                                                   'trans__x1_3',\n",
       "                                                   'trans__x1_32',\n",
       "                                                   'trans__x1_4',\n",
       "                                                   'trans__x1_42',\n",
       "                                                   'trans__x...\n",
       "                                                           importance_type='gain',\n",
       "                                                           interaction_constraints='',\n",
       "                                                           learning_rate=0.300000012,\n",
       "                                                           max_delta_step=0,\n",
       "                                                           max_depth=6,\n",
       "                                                           min_child_weight=1,\n",
       "                                                           missing=nan,\n",
       "                                                           monotone_constraints='()',\n",
       "                                                           n_estimators=100,\n",
       "                                                           n_jobs=8,\n",
       "                                                           num_parallel_tree=1,\n",
       "                                                           random_state=0,\n",
       "                                                           reg_alpha=0,\n",
       "                                                           reg_lambda=1,\n",
       "                                                           scale_pos_weight=1,\n",
       "                                                           subsample=1,\n",
       "                                                           tree_method='exact',\n",
       "                                                           validate_parameters=1,\n",
       "                                                           verbosity=None))],\n",
       "                                 verbose=True))])"
      ]
     },
     "execution_count": 143,
     "metadata": {},
     "output_type": "execute_result"
    }
   ],
   "source": [
    "# Fit\n",
    "model = Pipeline([\n",
    "  ('preprocessor', preprocessor),\n",
    "#  ('feature_selection', SelectFromModel(ft_selector)),\n",
    "  ('regressor', model_)\n",
    "])\n",
    "\n",
    "model.fit(X_train, y_train)"
   ]
  },
  {
   "cell_type": "markdown",
   "id": "33a36482-dc58-45b2-b972-4b3cc3319fa5",
   "metadata": {},
   "source": [
    "#### Evaluacion de predicciones"
   ]
  },
  {
   "cell_type": "code",
   "execution_count": 144,
   "id": "96f00b97-b7ee-496c-b622-e9080a4dc73c",
   "metadata": {},
   "outputs": [],
   "source": [
    "# Predict\n",
    "y_train_pred = model.predict(X_train)\n",
    "y_valid_pred = model.predict(X_val)"
   ]
  },
  {
   "cell_type": "code",
   "execution_count": 145,
   "id": "400f9932-fa5f-4867-8fcd-cc1d1fa7b717",
   "metadata": {
    "tags": []
   },
   "outputs": [
    {
     "name": "stdout",
     "output_type": "stream",
     "text": [
      "Train error 6018552.189, Valid error 148335957.971\n"
     ]
    }
   ],
   "source": [
    "# evaluate MSE:\n",
    "train_error = mean_squared_error(y_train, y_train_pred)\n",
    "val_error = mean_squared_error(y_val, y_valid_pred)\n",
    "print(f'Train error {train_error.round(3)}, Valid error {val_error.round(3)}')  "
   ]
  },
  {
   "cell_type": "code",
   "execution_count": 146,
   "id": "c7d5e88a-e147-4e1a-9864-94c726cd932a",
   "metadata": {
    "tags": []
   },
   "outputs": [
    {
     "name": "stdout",
     "output_type": "stream",
     "text": [
      "Train error RMSE 2453.274, Valid error RMSE 12179.325\n"
     ]
    }
   ],
   "source": [
    "# evaluate RMSE:\n",
    "train_error = np.sqrt(mean_squared_error(y_train, y_train_pred))\n",
    "val_error = np.sqrt(mean_squared_error(y_val, y_valid_pred))\n",
    "print(f'Train error RMSE {train_error.round(3)}, Valid error RMSE {val_error.round(3)}')  "
   ]
  },
  {
   "cell_type": "code",
   "execution_count": 147,
   "id": "93d87e8d-d200-4659-a641-e3a742eb8049",
   "metadata": {
    "tags": []
   },
   "outputs": [
    {
     "name": "stdout",
     "output_type": "stream",
     "text": [
      "Train error MAE 1449.339, Valid error MAE 6431.128\n"
     ]
    }
   ],
   "source": [
    "# evaluate MAE:\n",
    "train_error = mean_absolute_error(y_train, y_train_pred)\n",
    "val_error = mean_absolute_error(y_val, y_valid_pred)\n",
    "print(f'Train error MAE {train_error.round(3)}, Valid error MAE {val_error.round(3)}')  "
   ]
  },
  {
   "cell_type": "markdown",
   "id": "6b75da91-871a-4910-9e9e-17f3005d8242",
   "metadata": {
    "tags": []
   },
   "source": [
    "Visualizamos nuestra variable target (real y predicción)"
   ]
  },
  {
   "cell_type": "code",
   "execution_count": 148,
   "id": "bcecd007-7655-4d6c-8991-c70b026b55bf",
   "metadata": {},
   "outputs": [
    {
     "data": {
      "text/html": [
       "<div>\n",
       "<style scoped>\n",
       "    .dataframe tbody tr th:only-of-type {\n",
       "        vertical-align: middle;\n",
       "    }\n",
       "\n",
       "    .dataframe tbody tr th {\n",
       "        vertical-align: top;\n",
       "    }\n",
       "\n",
       "    .dataframe thead th {\n",
       "        text-align: right;\n",
       "    }\n",
       "</style>\n",
       "<table border=\"1\" class=\"dataframe\">\n",
       "  <thead>\n",
       "    <tr style=\"text-align: right;\">\n",
       "      <th></th>\n",
       "      <th>val_real</th>\n",
       "    </tr>\n",
       "  </thead>\n",
       "  <tbody>\n",
       "    <tr>\n",
       "      <th>count</th>\n",
       "      <td>2970.00</td>\n",
       "    </tr>\n",
       "    <tr>\n",
       "      <th>mean</th>\n",
       "      <td>8658.18</td>\n",
       "    </tr>\n",
       "    <tr>\n",
       "      <th>std</th>\n",
       "      <td>14232.20</td>\n",
       "    </tr>\n",
       "    <tr>\n",
       "      <th>min</th>\n",
       "      <td>-14160.00</td>\n",
       "    </tr>\n",
       "    <tr>\n",
       "      <th>25%</th>\n",
       "      <td>0.00</td>\n",
       "    </tr>\n",
       "    <tr>\n",
       "      <th>50%</th>\n",
       "      <td>2096.00</td>\n",
       "    </tr>\n",
       "    <tr>\n",
       "      <th>75%</th>\n",
       "      <td>12011.50</td>\n",
       "    </tr>\n",
       "    <tr>\n",
       "      <th>max</th>\n",
       "      <td>134045.00</td>\n",
       "    </tr>\n",
       "  </tbody>\n",
       "</table>\n",
       "</div>"
      ],
      "text/plain": [
       "        val_real\n",
       "count    2970.00\n",
       "mean     8658.18\n",
       "std     14232.20\n",
       "min    -14160.00\n",
       "25%         0.00\n",
       "50%      2096.00\n",
       "75%     12011.50\n",
       "max    134045.00"
      ]
     },
     "execution_count": 148,
     "metadata": {},
     "output_type": "execute_result"
    }
   ],
   "source": [
    "pd.DataFrame(y_val.values.astype(int), columns=['val_real']).describe().round(2)"
   ]
  },
  {
   "cell_type": "code",
   "execution_count": 149,
   "id": "df2d4fb0-0a97-4ff0-95af-264f5b2ae016",
   "metadata": {},
   "outputs": [
    {
     "data": {
      "text/html": [
       "<div>\n",
       "<style scoped>\n",
       "    .dataframe tbody tr th:only-of-type {\n",
       "        vertical-align: middle;\n",
       "    }\n",
       "\n",
       "    .dataframe tbody tr th {\n",
       "        vertical-align: top;\n",
       "    }\n",
       "\n",
       "    .dataframe thead th {\n",
       "        text-align: right;\n",
       "    }\n",
       "</style>\n",
       "<table border=\"1\" class=\"dataframe\">\n",
       "  <thead>\n",
       "    <tr style=\"text-align: right;\">\n",
       "      <th></th>\n",
       "      <th>val_pred</th>\n",
       "    </tr>\n",
       "  </thead>\n",
       "  <tbody>\n",
       "    <tr>\n",
       "      <th>count</th>\n",
       "      <td>2970.00</td>\n",
       "    </tr>\n",
       "    <tr>\n",
       "      <th>mean</th>\n",
       "      <td>5571.68</td>\n",
       "    </tr>\n",
       "    <tr>\n",
       "      <th>std</th>\n",
       "      <td>4826.18</td>\n",
       "    </tr>\n",
       "    <tr>\n",
       "      <th>min</th>\n",
       "      <td>-753.57</td>\n",
       "    </tr>\n",
       "    <tr>\n",
       "      <th>25%</th>\n",
       "      <td>1860.69</td>\n",
       "    </tr>\n",
       "    <tr>\n",
       "      <th>50%</th>\n",
       "      <td>4389.05</td>\n",
       "    </tr>\n",
       "    <tr>\n",
       "      <th>75%</th>\n",
       "      <td>8127.75</td>\n",
       "    </tr>\n",
       "    <tr>\n",
       "      <th>max</th>\n",
       "      <td>36807.75</td>\n",
       "    </tr>\n",
       "  </tbody>\n",
       "</table>\n",
       "</div>"
      ],
      "text/plain": [
       "       val_pred\n",
       "count   2970.00\n",
       "mean    5571.68\n",
       "std     4826.18\n",
       "min     -753.57\n",
       "25%     1860.69\n",
       "50%     4389.05\n",
       "75%     8127.75\n",
       "max    36807.75"
      ]
     },
     "execution_count": 149,
     "metadata": {},
     "output_type": "execute_result"
    }
   ],
   "source": [
    "pd.DataFrame(y_valid_pred, columns=['val_pred']).describe().round(2)"
   ]
  },
  {
   "cell_type": "markdown",
   "id": "3dbff1c8-a168-40f1-9e57-136315efbbca",
   "metadata": {},
   "source": [
    "# Modelos de Clasificacion - Predecir aumento de gasto mensual"
   ]
  },
  {
   "cell_type": "markdown",
   "id": "c19ee0f8-743e-404b-95ec-7cec103f37a6",
   "metadata": {},
   "source": [
    "## Preprocesamiento"
   ]
  },
  {
   "cell_type": "markdown",
   "id": "edf32da5-5eae-415a-b8eb-e138fc0a6dec",
   "metadata": {},
   "source": [
    "### 1.2 Creación de variable categórica "
   ]
  },
  {
   "cell_type": "markdown",
   "id": "0c5084f3-1725-42e8-b0aa-51ee1e695ae6",
   "metadata": {},
   "source": [
    "Creamos una columna que indica si un cliente ha aumentado su consumo personal mes a mes. El mes inicial para cada cliente se inicializa en 0.\n",
    "\n",
    "Cabe destacar que a la hora de agrupar los movimientos en cada mes, se considera la fecha de cierre de la tarjeta, por lo cual cada mes comprende desde el dia 25 del mes anterior hasta el dia 24 del corriente, inclusive. "
   ]
  },
  {
   "cell_type": "code",
   "execution_count": 150,
   "id": "c8a617f0-8254-4edf-9e3f-bf81ea682b1c",
   "metadata": {},
   "outputs": [
    {
     "data": {
      "text/html": [
       "<div>\n",
       "<style scoped>\n",
       "    .dataframe tbody tr th:only-of-type {\n",
       "        vertical-align: middle;\n",
       "    }\n",
       "\n",
       "    .dataframe tbody tr th {\n",
       "        vertical-align: top;\n",
       "    }\n",
       "\n",
       "    .dataframe thead th {\n",
       "        text-align: right;\n",
       "    }\n",
       "</style>\n",
       "<table border=\"1\" class=\"dataframe\">\n",
       "  <thead>\n",
       "    <tr style=\"text-align: right;\">\n",
       "      <th></th>\n",
       "      <th>dni_titular_movimiento</th>\n",
       "      <th>anio_mes_cupon</th>\n",
       "      <th>edad_cliente</th>\n",
       "      <th>antig_cliente</th>\n",
       "      <th>client__x0_Hombre</th>\n",
       "      <th>client__x0_Mujer</th>\n",
       "      <th>client__x0_Sin Datos</th>\n",
       "      <th>client__x1_Sector_Educativo</th>\n",
       "      <th>client__x1_Sector_Empleado_Comercio</th>\n",
       "      <th>client__x1_Sector_Financiero</th>\n",
       "      <th>...</th>\n",
       "      <th>trans__x3_1</th>\n",
       "      <th>trans__x3_2</th>\n",
       "      <th>trans__x3_3</th>\n",
       "      <th>trans__x3_4</th>\n",
       "      <th>trans__x3_5</th>\n",
       "      <th>trans__x3_6</th>\n",
       "      <th>trans__x3_7</th>\n",
       "      <th>trans__x3_8</th>\n",
       "      <th>trans__x3_9</th>\n",
       "      <th>monto_ajustado</th>\n",
       "    </tr>\n",
       "  </thead>\n",
       "  <tbody>\n",
       "    <tr>\n",
       "      <th>0</th>\n",
       "      <td>000000b5aea2c9ea7cc155f6ebcef97f826</td>\n",
       "      <td>202007.0</td>\n",
       "      <td>46.0</td>\n",
       "      <td>224.0</td>\n",
       "      <td>0.0</td>\n",
       "      <td>1.0</td>\n",
       "      <td>0.0</td>\n",
       "      <td>0.0</td>\n",
       "      <td>0.0</td>\n",
       "      <td>0.0</td>\n",
       "      <td>...</td>\n",
       "      <td>0.0</td>\n",
       "      <td>0.0</td>\n",
       "      <td>0.0</td>\n",
       "      <td>0.0</td>\n",
       "      <td>0.0</td>\n",
       "      <td>0.0</td>\n",
       "      <td>0.0</td>\n",
       "      <td>0.0</td>\n",
       "      <td>0.0</td>\n",
       "      <td>0.00</td>\n",
       "    </tr>\n",
       "    <tr>\n",
       "      <th>1</th>\n",
       "      <td>000000b5aea2c9ea7cc155f6ebcef97f826</td>\n",
       "      <td>202008.0</td>\n",
       "      <td>46.0</td>\n",
       "      <td>225.0</td>\n",
       "      <td>0.0</td>\n",
       "      <td>1.0</td>\n",
       "      <td>0.0</td>\n",
       "      <td>0.0</td>\n",
       "      <td>0.0</td>\n",
       "      <td>0.0</td>\n",
       "      <td>...</td>\n",
       "      <td>0.0</td>\n",
       "      <td>0.0</td>\n",
       "      <td>0.0</td>\n",
       "      <td>0.0</td>\n",
       "      <td>0.0</td>\n",
       "      <td>0.0</td>\n",
       "      <td>0.0</td>\n",
       "      <td>0.0</td>\n",
       "      <td>0.0</td>\n",
       "      <td>-4.72</td>\n",
       "    </tr>\n",
       "    <tr>\n",
       "      <th>2</th>\n",
       "      <td>000000b5aea2c9ea7cc155f6ebcef97f826</td>\n",
       "      <td>202009.0</td>\n",
       "      <td>47.0</td>\n",
       "      <td>226.0</td>\n",
       "      <td>0.0</td>\n",
       "      <td>1.0</td>\n",
       "      <td>0.0</td>\n",
       "      <td>0.0</td>\n",
       "      <td>0.0</td>\n",
       "      <td>0.0</td>\n",
       "      <td>...</td>\n",
       "      <td>0.0</td>\n",
       "      <td>0.0</td>\n",
       "      <td>0.0</td>\n",
       "      <td>0.0</td>\n",
       "      <td>0.0</td>\n",
       "      <td>0.0</td>\n",
       "      <td>0.0</td>\n",
       "      <td>0.0</td>\n",
       "      <td>0.0</td>\n",
       "      <td>-4.61</td>\n",
       "    </tr>\n",
       "    <tr>\n",
       "      <th>3</th>\n",
       "      <td>000000b5aea2c9ea7cc155f6ebcef97f826</td>\n",
       "      <td>202010.0</td>\n",
       "      <td>47.0</td>\n",
       "      <td>227.0</td>\n",
       "      <td>0.0</td>\n",
       "      <td>1.0</td>\n",
       "      <td>0.0</td>\n",
       "      <td>0.0</td>\n",
       "      <td>0.0</td>\n",
       "      <td>0.0</td>\n",
       "      <td>...</td>\n",
       "      <td>0.0</td>\n",
       "      <td>0.0</td>\n",
       "      <td>0.0</td>\n",
       "      <td>0.0</td>\n",
       "      <td>0.0</td>\n",
       "      <td>0.0</td>\n",
       "      <td>0.0</td>\n",
       "      <td>0.0</td>\n",
       "      <td>0.0</td>\n",
       "      <td>-4.46</td>\n",
       "    </tr>\n",
       "    <tr>\n",
       "      <th>4</th>\n",
       "      <td>000000b5aea2c9ea7cc155f6ebcef97f826</td>\n",
       "      <td>202011.0</td>\n",
       "      <td>47.0</td>\n",
       "      <td>228.0</td>\n",
       "      <td>0.0</td>\n",
       "      <td>1.0</td>\n",
       "      <td>0.0</td>\n",
       "      <td>0.0</td>\n",
       "      <td>0.0</td>\n",
       "      <td>0.0</td>\n",
       "      <td>...</td>\n",
       "      <td>0.0</td>\n",
       "      <td>0.0</td>\n",
       "      <td>0.0</td>\n",
       "      <td>0.0</td>\n",
       "      <td>0.0</td>\n",
       "      <td>0.0</td>\n",
       "      <td>0.0</td>\n",
       "      <td>0.0</td>\n",
       "      <td>0.0</td>\n",
       "      <td>-4.34</td>\n",
       "    </tr>\n",
       "    <tr>\n",
       "      <th>...</th>\n",
       "      <td>...</td>\n",
       "      <td>...</td>\n",
       "      <td>...</td>\n",
       "      <td>...</td>\n",
       "      <td>...</td>\n",
       "      <td>...</td>\n",
       "      <td>...</td>\n",
       "      <td>...</td>\n",
       "      <td>...</td>\n",
       "      <td>...</td>\n",
       "      <td>...</td>\n",
       "      <td>...</td>\n",
       "      <td>...</td>\n",
       "      <td>...</td>\n",
       "      <td>...</td>\n",
       "      <td>...</td>\n",
       "      <td>...</td>\n",
       "      <td>...</td>\n",
       "      <td>...</td>\n",
       "      <td>...</td>\n",
       "      <td>...</td>\n",
       "    </tr>\n",
       "    <tr>\n",
       "      <th>9895</th>\n",
       "      <td>000f0b73ebfa002a79a0642b82e87919904</td>\n",
       "      <td>202102.0</td>\n",
       "      <td>64.0</td>\n",
       "      <td>22.0</td>\n",
       "      <td>0.0</td>\n",
       "      <td>1.0</td>\n",
       "      <td>0.0</td>\n",
       "      <td>0.0</td>\n",
       "      <td>0.0</td>\n",
       "      <td>0.0</td>\n",
       "      <td>...</td>\n",
       "      <td>1.0</td>\n",
       "      <td>0.0</td>\n",
       "      <td>0.0</td>\n",
       "      <td>0.0</td>\n",
       "      <td>0.0</td>\n",
       "      <td>0.0</td>\n",
       "      <td>0.0</td>\n",
       "      <td>0.0</td>\n",
       "      <td>0.0</td>\n",
       "      <td>12566.68</td>\n",
       "    </tr>\n",
       "    <tr>\n",
       "      <th>9896</th>\n",
       "      <td>000f0b73ebfa002a79a0642b82e87919904</td>\n",
       "      <td>202103.0</td>\n",
       "      <td>64.0</td>\n",
       "      <td>23.0</td>\n",
       "      <td>0.0</td>\n",
       "      <td>1.0</td>\n",
       "      <td>0.0</td>\n",
       "      <td>0.0</td>\n",
       "      <td>0.0</td>\n",
       "      <td>0.0</td>\n",
       "      <td>...</td>\n",
       "      <td>3.0</td>\n",
       "      <td>0.0</td>\n",
       "      <td>0.0</td>\n",
       "      <td>0.0</td>\n",
       "      <td>0.0</td>\n",
       "      <td>0.0</td>\n",
       "      <td>0.0</td>\n",
       "      <td>0.0</td>\n",
       "      <td>0.0</td>\n",
       "      <td>2663.08</td>\n",
       "    </tr>\n",
       "    <tr>\n",
       "      <th>9897</th>\n",
       "      <td>000f0b73ebfa002a79a0642b82e87919904</td>\n",
       "      <td>202104.0</td>\n",
       "      <td>64.0</td>\n",
       "      <td>24.0</td>\n",
       "      <td>0.0</td>\n",
       "      <td>1.0</td>\n",
       "      <td>0.0</td>\n",
       "      <td>0.0</td>\n",
       "      <td>0.0</td>\n",
       "      <td>0.0</td>\n",
       "      <td>...</td>\n",
       "      <td>0.0</td>\n",
       "      <td>2.0</td>\n",
       "      <td>0.0</td>\n",
       "      <td>0.0</td>\n",
       "      <td>0.0</td>\n",
       "      <td>0.0</td>\n",
       "      <td>0.0</td>\n",
       "      <td>0.0</td>\n",
       "      <td>0.0</td>\n",
       "      <td>4685.64</td>\n",
       "    </tr>\n",
       "    <tr>\n",
       "      <th>9898</th>\n",
       "      <td>000f0b73ebfa002a79a0642b82e87919904</td>\n",
       "      <td>202105.0</td>\n",
       "      <td>64.0</td>\n",
       "      <td>25.0</td>\n",
       "      <td>0.0</td>\n",
       "      <td>1.0</td>\n",
       "      <td>0.0</td>\n",
       "      <td>0.0</td>\n",
       "      <td>0.0</td>\n",
       "      <td>0.0</td>\n",
       "      <td>...</td>\n",
       "      <td>0.0</td>\n",
       "      <td>0.0</td>\n",
       "      <td>0.0</td>\n",
       "      <td>0.0</td>\n",
       "      <td>0.0</td>\n",
       "      <td>0.0</td>\n",
       "      <td>0.0</td>\n",
       "      <td>0.0</td>\n",
       "      <td>0.0</td>\n",
       "      <td>2063.81</td>\n",
       "    </tr>\n",
       "    <tr>\n",
       "      <th>9899</th>\n",
       "      <td>000f0b73ebfa002a79a0642b82e87919904</td>\n",
       "      <td>202106.0</td>\n",
       "      <td>64.0</td>\n",
       "      <td>26.0</td>\n",
       "      <td>0.0</td>\n",
       "      <td>1.0</td>\n",
       "      <td>0.0</td>\n",
       "      <td>0.0</td>\n",
       "      <td>0.0</td>\n",
       "      <td>0.0</td>\n",
       "      <td>...</td>\n",
       "      <td>0.0</td>\n",
       "      <td>0.0</td>\n",
       "      <td>0.0</td>\n",
       "      <td>0.0</td>\n",
       "      <td>0.0</td>\n",
       "      <td>0.0</td>\n",
       "      <td>0.0</td>\n",
       "      <td>0.0</td>\n",
       "      <td>0.0</td>\n",
       "      <td>0.00</td>\n",
       "    </tr>\n",
       "  </tbody>\n",
       "</table>\n",
       "<p>9900 rows × 55 columns</p>\n",
       "</div>"
      ],
      "text/plain": [
       "                   dni_titular_movimiento  anio_mes_cupon  edad_cliente  \\\n",
       "0     000000b5aea2c9ea7cc155f6ebcef97f826        202007.0          46.0   \n",
       "1     000000b5aea2c9ea7cc155f6ebcef97f826        202008.0          46.0   \n",
       "2     000000b5aea2c9ea7cc155f6ebcef97f826        202009.0          47.0   \n",
       "3     000000b5aea2c9ea7cc155f6ebcef97f826        202010.0          47.0   \n",
       "4     000000b5aea2c9ea7cc155f6ebcef97f826        202011.0          47.0   \n",
       "...                                   ...             ...           ...   \n",
       "9895  000f0b73ebfa002a79a0642b82e87919904        202102.0          64.0   \n",
       "9896  000f0b73ebfa002a79a0642b82e87919904        202103.0          64.0   \n",
       "9897  000f0b73ebfa002a79a0642b82e87919904        202104.0          64.0   \n",
       "9898  000f0b73ebfa002a79a0642b82e87919904        202105.0          64.0   \n",
       "9899  000f0b73ebfa002a79a0642b82e87919904        202106.0          64.0   \n",
       "\n",
       "      antig_cliente  client__x0_Hombre  client__x0_Mujer  \\\n",
       "0             224.0                0.0               1.0   \n",
       "1             225.0                0.0               1.0   \n",
       "2             226.0                0.0               1.0   \n",
       "3             227.0                0.0               1.0   \n",
       "4             228.0                0.0               1.0   \n",
       "...             ...                ...               ...   \n",
       "9895           22.0                0.0               1.0   \n",
       "9896           23.0                0.0               1.0   \n",
       "9897           24.0                0.0               1.0   \n",
       "9898           25.0                0.0               1.0   \n",
       "9899           26.0                0.0               1.0   \n",
       "\n",
       "      client__x0_Sin Datos  client__x1_Sector_Educativo  \\\n",
       "0                      0.0                          0.0   \n",
       "1                      0.0                          0.0   \n",
       "2                      0.0                          0.0   \n",
       "3                      0.0                          0.0   \n",
       "4                      0.0                          0.0   \n",
       "...                    ...                          ...   \n",
       "9895                   0.0                          0.0   \n",
       "9896                   0.0                          0.0   \n",
       "9897                   0.0                          0.0   \n",
       "9898                   0.0                          0.0   \n",
       "9899                   0.0                          0.0   \n",
       "\n",
       "      client__x1_Sector_Empleado_Comercio  client__x1_Sector_Financiero  ...  \\\n",
       "0                                     0.0                           0.0  ...   \n",
       "1                                     0.0                           0.0  ...   \n",
       "2                                     0.0                           0.0  ...   \n",
       "3                                     0.0                           0.0  ...   \n",
       "4                                     0.0                           0.0  ...   \n",
       "...                                   ...                           ...  ...   \n",
       "9895                                  0.0                           0.0  ...   \n",
       "9896                                  0.0                           0.0  ...   \n",
       "9897                                  0.0                           0.0  ...   \n",
       "9898                                  0.0                           0.0  ...   \n",
       "9899                                  0.0                           0.0  ...   \n",
       "\n",
       "      trans__x3_1  trans__x3_2  trans__x3_3  trans__x3_4  trans__x3_5  \\\n",
       "0             0.0          0.0          0.0          0.0          0.0   \n",
       "1             0.0          0.0          0.0          0.0          0.0   \n",
       "2             0.0          0.0          0.0          0.0          0.0   \n",
       "3             0.0          0.0          0.0          0.0          0.0   \n",
       "4             0.0          0.0          0.0          0.0          0.0   \n",
       "...           ...          ...          ...          ...          ...   \n",
       "9895          1.0          0.0          0.0          0.0          0.0   \n",
       "9896          3.0          0.0          0.0          0.0          0.0   \n",
       "9897          0.0          2.0          0.0          0.0          0.0   \n",
       "9898          0.0          0.0          0.0          0.0          0.0   \n",
       "9899          0.0          0.0          0.0          0.0          0.0   \n",
       "\n",
       "      trans__x3_6  trans__x3_7  trans__x3_8  trans__x3_9  monto_ajustado  \n",
       "0             0.0          0.0          0.0          0.0            0.00  \n",
       "1             0.0          0.0          0.0          0.0           -4.72  \n",
       "2             0.0          0.0          0.0          0.0           -4.61  \n",
       "3             0.0          0.0          0.0          0.0           -4.46  \n",
       "4             0.0          0.0          0.0          0.0           -4.34  \n",
       "...           ...          ...          ...          ...             ...  \n",
       "9895          0.0          0.0          0.0          0.0        12566.68  \n",
       "9896          0.0          0.0          0.0          0.0         2663.08  \n",
       "9897          0.0          0.0          0.0          0.0         4685.64  \n",
       "9898          0.0          0.0          0.0          0.0         2063.81  \n",
       "9899          0.0          0.0          0.0          0.0            0.00  \n",
       "\n",
       "[9900 rows x 55 columns]"
      ]
     },
     "execution_count": 150,
     "metadata": {},
     "output_type": "execute_result"
    }
   ],
   "source": [
    "df_mes"
   ]
  },
  {
   "cell_type": "code",
   "execution_count": 151,
   "id": "f959c18c-80f8-4eb4-be34-1ddbd4475ed5",
   "metadata": {},
   "outputs": [],
   "source": [
    "# Agregación de la nueva columna seteada en 0.\n",
    "# En la iteración, se le cambia el valor a 1 en caso de que cumpla con las condiciones preestablecidas.\n",
    "\n",
    "df_mes['fg_aumentado'] = 0\n",
    "for i in range(1,len(df_mes)):\n",
    "    if (df_mes.iloc[i]['dni_titular_movimiento'] == df_mes.iloc[i-1]['dni_titular_movimiento']) \\\n",
    "        & (df_mes.iloc[i]['anio_mes_cupon'] > df_mes.iloc[i-1]['anio_mes_cupon']):\n",
    "            var_mes = df_mes.iloc[i]['monto_ajustado'] - df_mes.iloc[i-1]['monto_ajustado']\n",
    "            if (var_mes > (abs(df_mes.iloc[i-1]['monto_ajustado'])*0.1)):\n",
    "                df_mes.loc[i,'fg_aumentado'] = 1"
   ]
  },
  {
   "cell_type": "code",
   "execution_count": 152,
   "id": "2d1f4d37-b23c-4a8c-8a7b-5a7affe08aa4",
   "metadata": {},
   "outputs": [
    {
     "data": {
      "text/html": [
       "<div>\n",
       "<style scoped>\n",
       "    .dataframe tbody tr th:only-of-type {\n",
       "        vertical-align: middle;\n",
       "    }\n",
       "\n",
       "    .dataframe tbody tr th {\n",
       "        vertical-align: top;\n",
       "    }\n",
       "\n",
       "    .dataframe thead th {\n",
       "        text-align: right;\n",
       "    }\n",
       "</style>\n",
       "<table border=\"1\" class=\"dataframe\">\n",
       "  <thead>\n",
       "    <tr style=\"text-align: right;\">\n",
       "      <th></th>\n",
       "      <th>dni_titular_movimiento</th>\n",
       "      <th>anio_mes_cupon</th>\n",
       "      <th>edad_cliente</th>\n",
       "      <th>antig_cliente</th>\n",
       "      <th>client__x0_Hombre</th>\n",
       "      <th>client__x0_Mujer</th>\n",
       "      <th>client__x0_Sin Datos</th>\n",
       "      <th>client__x1_Sector_Educativo</th>\n",
       "      <th>client__x1_Sector_Empleado_Comercio</th>\n",
       "      <th>client__x1_Sector_Financiero</th>\n",
       "      <th>...</th>\n",
       "      <th>trans__x3_2</th>\n",
       "      <th>trans__x3_3</th>\n",
       "      <th>trans__x3_4</th>\n",
       "      <th>trans__x3_5</th>\n",
       "      <th>trans__x3_6</th>\n",
       "      <th>trans__x3_7</th>\n",
       "      <th>trans__x3_8</th>\n",
       "      <th>trans__x3_9</th>\n",
       "      <th>monto_ajustado</th>\n",
       "      <th>fg_aumentado</th>\n",
       "    </tr>\n",
       "  </thead>\n",
       "  <tbody>\n",
       "    <tr>\n",
       "      <th>0</th>\n",
       "      <td>000000b5aea2c9ea7cc155f6ebcef97f826</td>\n",
       "      <td>202007.0</td>\n",
       "      <td>46.0</td>\n",
       "      <td>224.0</td>\n",
       "      <td>0.0</td>\n",
       "      <td>1.0</td>\n",
       "      <td>0.0</td>\n",
       "      <td>0.0</td>\n",
       "      <td>0.0</td>\n",
       "      <td>0.0</td>\n",
       "      <td>...</td>\n",
       "      <td>0.0</td>\n",
       "      <td>0.0</td>\n",
       "      <td>0.0</td>\n",
       "      <td>0.0</td>\n",
       "      <td>0.0</td>\n",
       "      <td>0.0</td>\n",
       "      <td>0.0</td>\n",
       "      <td>0.0</td>\n",
       "      <td>0.00</td>\n",
       "      <td>0</td>\n",
       "    </tr>\n",
       "    <tr>\n",
       "      <th>1</th>\n",
       "      <td>000000b5aea2c9ea7cc155f6ebcef97f826</td>\n",
       "      <td>202008.0</td>\n",
       "      <td>46.0</td>\n",
       "      <td>225.0</td>\n",
       "      <td>0.0</td>\n",
       "      <td>1.0</td>\n",
       "      <td>0.0</td>\n",
       "      <td>0.0</td>\n",
       "      <td>0.0</td>\n",
       "      <td>0.0</td>\n",
       "      <td>...</td>\n",
       "      <td>0.0</td>\n",
       "      <td>0.0</td>\n",
       "      <td>0.0</td>\n",
       "      <td>0.0</td>\n",
       "      <td>0.0</td>\n",
       "      <td>0.0</td>\n",
       "      <td>0.0</td>\n",
       "      <td>0.0</td>\n",
       "      <td>-4.72</td>\n",
       "      <td>0</td>\n",
       "    </tr>\n",
       "    <tr>\n",
       "      <th>2</th>\n",
       "      <td>000000b5aea2c9ea7cc155f6ebcef97f826</td>\n",
       "      <td>202009.0</td>\n",
       "      <td>47.0</td>\n",
       "      <td>226.0</td>\n",
       "      <td>0.0</td>\n",
       "      <td>1.0</td>\n",
       "      <td>0.0</td>\n",
       "      <td>0.0</td>\n",
       "      <td>0.0</td>\n",
       "      <td>0.0</td>\n",
       "      <td>...</td>\n",
       "      <td>0.0</td>\n",
       "      <td>0.0</td>\n",
       "      <td>0.0</td>\n",
       "      <td>0.0</td>\n",
       "      <td>0.0</td>\n",
       "      <td>0.0</td>\n",
       "      <td>0.0</td>\n",
       "      <td>0.0</td>\n",
       "      <td>-4.61</td>\n",
       "      <td>0</td>\n",
       "    </tr>\n",
       "    <tr>\n",
       "      <th>3</th>\n",
       "      <td>000000b5aea2c9ea7cc155f6ebcef97f826</td>\n",
       "      <td>202010.0</td>\n",
       "      <td>47.0</td>\n",
       "      <td>227.0</td>\n",
       "      <td>0.0</td>\n",
       "      <td>1.0</td>\n",
       "      <td>0.0</td>\n",
       "      <td>0.0</td>\n",
       "      <td>0.0</td>\n",
       "      <td>0.0</td>\n",
       "      <td>...</td>\n",
       "      <td>0.0</td>\n",
       "      <td>0.0</td>\n",
       "      <td>0.0</td>\n",
       "      <td>0.0</td>\n",
       "      <td>0.0</td>\n",
       "      <td>0.0</td>\n",
       "      <td>0.0</td>\n",
       "      <td>0.0</td>\n",
       "      <td>-4.46</td>\n",
       "      <td>0</td>\n",
       "    </tr>\n",
       "    <tr>\n",
       "      <th>4</th>\n",
       "      <td>000000b5aea2c9ea7cc155f6ebcef97f826</td>\n",
       "      <td>202011.0</td>\n",
       "      <td>47.0</td>\n",
       "      <td>228.0</td>\n",
       "      <td>0.0</td>\n",
       "      <td>1.0</td>\n",
       "      <td>0.0</td>\n",
       "      <td>0.0</td>\n",
       "      <td>0.0</td>\n",
       "      <td>0.0</td>\n",
       "      <td>...</td>\n",
       "      <td>0.0</td>\n",
       "      <td>0.0</td>\n",
       "      <td>0.0</td>\n",
       "      <td>0.0</td>\n",
       "      <td>0.0</td>\n",
       "      <td>0.0</td>\n",
       "      <td>0.0</td>\n",
       "      <td>0.0</td>\n",
       "      <td>-4.34</td>\n",
       "      <td>0</td>\n",
       "    </tr>\n",
       "    <tr>\n",
       "      <th>5</th>\n",
       "      <td>000000b5aea2c9ea7cc155f6ebcef97f826</td>\n",
       "      <td>202012.0</td>\n",
       "      <td>47.0</td>\n",
       "      <td>229.0</td>\n",
       "      <td>0.0</td>\n",
       "      <td>1.0</td>\n",
       "      <td>0.0</td>\n",
       "      <td>0.0</td>\n",
       "      <td>0.0</td>\n",
       "      <td>0.0</td>\n",
       "      <td>...</td>\n",
       "      <td>0.0</td>\n",
       "      <td>0.0</td>\n",
       "      <td>0.0</td>\n",
       "      <td>0.0</td>\n",
       "      <td>0.0</td>\n",
       "      <td>0.0</td>\n",
       "      <td>0.0</td>\n",
       "      <td>0.0</td>\n",
       "      <td>-4.21</td>\n",
       "      <td>0</td>\n",
       "    </tr>\n",
       "    <tr>\n",
       "      <th>6</th>\n",
       "      <td>000000b5aea2c9ea7cc155f6ebcef97f826</td>\n",
       "      <td>202101.0</td>\n",
       "      <td>47.0</td>\n",
       "      <td>230.0</td>\n",
       "      <td>0.0</td>\n",
       "      <td>1.0</td>\n",
       "      <td>0.0</td>\n",
       "      <td>0.0</td>\n",
       "      <td>0.0</td>\n",
       "      <td>0.0</td>\n",
       "      <td>...</td>\n",
       "      <td>0.0</td>\n",
       "      <td>0.0</td>\n",
       "      <td>0.0</td>\n",
       "      <td>0.0</td>\n",
       "      <td>0.0</td>\n",
       "      <td>0.0</td>\n",
       "      <td>0.0</td>\n",
       "      <td>0.0</td>\n",
       "      <td>-4.08</td>\n",
       "      <td>0</td>\n",
       "    </tr>\n",
       "    <tr>\n",
       "      <th>7</th>\n",
       "      <td>000000b5aea2c9ea7cc155f6ebcef97f826</td>\n",
       "      <td>202102.0</td>\n",
       "      <td>47.0</td>\n",
       "      <td>231.0</td>\n",
       "      <td>0.0</td>\n",
       "      <td>1.0</td>\n",
       "      <td>0.0</td>\n",
       "      <td>0.0</td>\n",
       "      <td>0.0</td>\n",
       "      <td>0.0</td>\n",
       "      <td>...</td>\n",
       "      <td>0.0</td>\n",
       "      <td>0.0</td>\n",
       "      <td>0.0</td>\n",
       "      <td>0.0</td>\n",
       "      <td>0.0</td>\n",
       "      <td>0.0</td>\n",
       "      <td>0.0</td>\n",
       "      <td>0.0</td>\n",
       "      <td>-3.97</td>\n",
       "      <td>0</td>\n",
       "    </tr>\n",
       "    <tr>\n",
       "      <th>8</th>\n",
       "      <td>000000b5aea2c9ea7cc155f6ebcef97f826</td>\n",
       "      <td>202103.0</td>\n",
       "      <td>47.0</td>\n",
       "      <td>232.0</td>\n",
       "      <td>0.0</td>\n",
       "      <td>1.0</td>\n",
       "      <td>0.0</td>\n",
       "      <td>0.0</td>\n",
       "      <td>0.0</td>\n",
       "      <td>0.0</td>\n",
       "      <td>...</td>\n",
       "      <td>0.0</td>\n",
       "      <td>0.0</td>\n",
       "      <td>0.0</td>\n",
       "      <td>0.0</td>\n",
       "      <td>0.0</td>\n",
       "      <td>0.0</td>\n",
       "      <td>0.0</td>\n",
       "      <td>0.0</td>\n",
       "      <td>-3.83</td>\n",
       "      <td>0</td>\n",
       "    </tr>\n",
       "    <tr>\n",
       "      <th>9</th>\n",
       "      <td>000000b5aea2c9ea7cc155f6ebcef97f826</td>\n",
       "      <td>202104.0</td>\n",
       "      <td>47.0</td>\n",
       "      <td>233.0</td>\n",
       "      <td>0.0</td>\n",
       "      <td>1.0</td>\n",
       "      <td>0.0</td>\n",
       "      <td>0.0</td>\n",
       "      <td>0.0</td>\n",
       "      <td>0.0</td>\n",
       "      <td>...</td>\n",
       "      <td>0.0</td>\n",
       "      <td>0.0</td>\n",
       "      <td>0.0</td>\n",
       "      <td>0.0</td>\n",
       "      <td>0.0</td>\n",
       "      <td>0.0</td>\n",
       "      <td>0.0</td>\n",
       "      <td>0.0</td>\n",
       "      <td>-3.72</td>\n",
       "      <td>0</td>\n",
       "    </tr>\n",
       "    <tr>\n",
       "      <th>10</th>\n",
       "      <td>000000b5aea2c9ea7cc155f6ebcef97f826</td>\n",
       "      <td>202105.0</td>\n",
       "      <td>47.0</td>\n",
       "      <td>234.0</td>\n",
       "      <td>0.0</td>\n",
       "      <td>1.0</td>\n",
       "      <td>0.0</td>\n",
       "      <td>0.0</td>\n",
       "      <td>0.0</td>\n",
       "      <td>0.0</td>\n",
       "      <td>...</td>\n",
       "      <td>0.0</td>\n",
       "      <td>0.0</td>\n",
       "      <td>0.0</td>\n",
       "      <td>0.0</td>\n",
       "      <td>0.0</td>\n",
       "      <td>0.0</td>\n",
       "      <td>0.0</td>\n",
       "      <td>0.0</td>\n",
       "      <td>-3.64</td>\n",
       "      <td>0</td>\n",
       "    </tr>\n",
       "    <tr>\n",
       "      <th>11</th>\n",
       "      <td>000000b5aea2c9ea7cc155f6ebcef97f826</td>\n",
       "      <td>202106.0</td>\n",
       "      <td>47.0</td>\n",
       "      <td>235.0</td>\n",
       "      <td>0.0</td>\n",
       "      <td>1.0</td>\n",
       "      <td>0.0</td>\n",
       "      <td>0.0</td>\n",
       "      <td>0.0</td>\n",
       "      <td>0.0</td>\n",
       "      <td>...</td>\n",
       "      <td>0.0</td>\n",
       "      <td>0.0</td>\n",
       "      <td>0.0</td>\n",
       "      <td>0.0</td>\n",
       "      <td>0.0</td>\n",
       "      <td>0.0</td>\n",
       "      <td>0.0</td>\n",
       "      <td>0.0</td>\n",
       "      <td>0.00</td>\n",
       "      <td>1</td>\n",
       "    </tr>\n",
       "    <tr>\n",
       "      <th>12</th>\n",
       "      <td>00000b8415f19846d12e852ebd0d52ec432</td>\n",
       "      <td>202007.0</td>\n",
       "      <td>34.0</td>\n",
       "      <td>105.0</td>\n",
       "      <td>1.0</td>\n",
       "      <td>0.0</td>\n",
       "      <td>0.0</td>\n",
       "      <td>0.0</td>\n",
       "      <td>0.0</td>\n",
       "      <td>0.0</td>\n",
       "      <td>...</td>\n",
       "      <td>0.0</td>\n",
       "      <td>0.0</td>\n",
       "      <td>0.0</td>\n",
       "      <td>1.0</td>\n",
       "      <td>0.0</td>\n",
       "      <td>0.0</td>\n",
       "      <td>0.0</td>\n",
       "      <td>0.0</td>\n",
       "      <td>15552.53</td>\n",
       "      <td>0</td>\n",
       "    </tr>\n",
       "    <tr>\n",
       "      <th>13</th>\n",
       "      <td>00000b8415f19846d12e852ebd0d52ec432</td>\n",
       "      <td>202008.0</td>\n",
       "      <td>34.0</td>\n",
       "      <td>106.0</td>\n",
       "      <td>1.0</td>\n",
       "      <td>0.0</td>\n",
       "      <td>0.0</td>\n",
       "      <td>0.0</td>\n",
       "      <td>0.0</td>\n",
       "      <td>0.0</td>\n",
       "      <td>...</td>\n",
       "      <td>0.0</td>\n",
       "      <td>0.0</td>\n",
       "      <td>0.0</td>\n",
       "      <td>1.0</td>\n",
       "      <td>0.0</td>\n",
       "      <td>0.0</td>\n",
       "      <td>0.0</td>\n",
       "      <td>0.0</td>\n",
       "      <td>5278.17</td>\n",
       "      <td>0</td>\n",
       "    </tr>\n",
       "    <tr>\n",
       "      <th>14</th>\n",
       "      <td>00000b8415f19846d12e852ebd0d52ec432</td>\n",
       "      <td>202009.0</td>\n",
       "      <td>34.0</td>\n",
       "      <td>107.0</td>\n",
       "      <td>1.0</td>\n",
       "      <td>0.0</td>\n",
       "      <td>0.0</td>\n",
       "      <td>0.0</td>\n",
       "      <td>0.0</td>\n",
       "      <td>0.0</td>\n",
       "      <td>...</td>\n",
       "      <td>0.0</td>\n",
       "      <td>0.0</td>\n",
       "      <td>0.0</td>\n",
       "      <td>2.0</td>\n",
       "      <td>0.0</td>\n",
       "      <td>0.0</td>\n",
       "      <td>0.0</td>\n",
       "      <td>0.0</td>\n",
       "      <td>28853.87</td>\n",
       "      <td>1</td>\n",
       "    </tr>\n",
       "    <tr>\n",
       "      <th>15</th>\n",
       "      <td>00000b8415f19846d12e852ebd0d52ec432</td>\n",
       "      <td>202010.0</td>\n",
       "      <td>34.0</td>\n",
       "      <td>108.0</td>\n",
       "      <td>1.0</td>\n",
       "      <td>0.0</td>\n",
       "      <td>0.0</td>\n",
       "      <td>0.0</td>\n",
       "      <td>0.0</td>\n",
       "      <td>0.0</td>\n",
       "      <td>...</td>\n",
       "      <td>0.0</td>\n",
       "      <td>0.0</td>\n",
       "      <td>0.0</td>\n",
       "      <td>2.0</td>\n",
       "      <td>0.0</td>\n",
       "      <td>0.0</td>\n",
       "      <td>0.0</td>\n",
       "      <td>0.0</td>\n",
       "      <td>10110.66</td>\n",
       "      <td>0</td>\n",
       "    </tr>\n",
       "    <tr>\n",
       "      <th>16</th>\n",
       "      <td>00000b8415f19846d12e852ebd0d52ec432</td>\n",
       "      <td>202011.0</td>\n",
       "      <td>34.0</td>\n",
       "      <td>109.0</td>\n",
       "      <td>1.0</td>\n",
       "      <td>0.0</td>\n",
       "      <td>0.0</td>\n",
       "      <td>0.0</td>\n",
       "      <td>0.0</td>\n",
       "      <td>0.0</td>\n",
       "      <td>...</td>\n",
       "      <td>0.0</td>\n",
       "      <td>0.0</td>\n",
       "      <td>0.0</td>\n",
       "      <td>1.0</td>\n",
       "      <td>0.0</td>\n",
       "      <td>0.0</td>\n",
       "      <td>0.0</td>\n",
       "      <td>0.0</td>\n",
       "      <td>10094.83</td>\n",
       "      <td>0</td>\n",
       "    </tr>\n",
       "    <tr>\n",
       "      <th>17</th>\n",
       "      <td>00000b8415f19846d12e852ebd0d52ec432</td>\n",
       "      <td>202012.0</td>\n",
       "      <td>34.0</td>\n",
       "      <td>110.0</td>\n",
       "      <td>1.0</td>\n",
       "      <td>0.0</td>\n",
       "      <td>0.0</td>\n",
       "      <td>0.0</td>\n",
       "      <td>0.0</td>\n",
       "      <td>0.0</td>\n",
       "      <td>...</td>\n",
       "      <td>0.0</td>\n",
       "      <td>0.0</td>\n",
       "      <td>0.0</td>\n",
       "      <td>2.0</td>\n",
       "      <td>0.0</td>\n",
       "      <td>0.0</td>\n",
       "      <td>0.0</td>\n",
       "      <td>0.0</td>\n",
       "      <td>23512.78</td>\n",
       "      <td>1</td>\n",
       "    </tr>\n",
       "    <tr>\n",
       "      <th>18</th>\n",
       "      <td>00000b8415f19846d12e852ebd0d52ec432</td>\n",
       "      <td>202101.0</td>\n",
       "      <td>35.0</td>\n",
       "      <td>111.0</td>\n",
       "      <td>1.0</td>\n",
       "      <td>0.0</td>\n",
       "      <td>0.0</td>\n",
       "      <td>0.0</td>\n",
       "      <td>0.0</td>\n",
       "      <td>0.0</td>\n",
       "      <td>...</td>\n",
       "      <td>0.0</td>\n",
       "      <td>0.0</td>\n",
       "      <td>0.0</td>\n",
       "      <td>1.0</td>\n",
       "      <td>0.0</td>\n",
       "      <td>0.0</td>\n",
       "      <td>0.0</td>\n",
       "      <td>0.0</td>\n",
       "      <td>28610.98</td>\n",
       "      <td>1</td>\n",
       "    </tr>\n",
       "    <tr>\n",
       "      <th>19</th>\n",
       "      <td>00000b8415f19846d12e852ebd0d52ec432</td>\n",
       "      <td>202102.0</td>\n",
       "      <td>35.0</td>\n",
       "      <td>112.0</td>\n",
       "      <td>1.0</td>\n",
       "      <td>0.0</td>\n",
       "      <td>0.0</td>\n",
       "      <td>0.0</td>\n",
       "      <td>0.0</td>\n",
       "      <td>0.0</td>\n",
       "      <td>...</td>\n",
       "      <td>0.0</td>\n",
       "      <td>0.0</td>\n",
       "      <td>0.0</td>\n",
       "      <td>2.0</td>\n",
       "      <td>0.0</td>\n",
       "      <td>0.0</td>\n",
       "      <td>0.0</td>\n",
       "      <td>0.0</td>\n",
       "      <td>4537.63</td>\n",
       "      <td>0</td>\n",
       "    </tr>\n",
       "  </tbody>\n",
       "</table>\n",
       "<p>20 rows × 56 columns</p>\n",
       "</div>"
      ],
      "text/plain": [
       "                 dni_titular_movimiento  anio_mes_cupon  edad_cliente  \\\n",
       "0   000000b5aea2c9ea7cc155f6ebcef97f826        202007.0          46.0   \n",
       "1   000000b5aea2c9ea7cc155f6ebcef97f826        202008.0          46.0   \n",
       "2   000000b5aea2c9ea7cc155f6ebcef97f826        202009.0          47.0   \n",
       "3   000000b5aea2c9ea7cc155f6ebcef97f826        202010.0          47.0   \n",
       "4   000000b5aea2c9ea7cc155f6ebcef97f826        202011.0          47.0   \n",
       "5   000000b5aea2c9ea7cc155f6ebcef97f826        202012.0          47.0   \n",
       "6   000000b5aea2c9ea7cc155f6ebcef97f826        202101.0          47.0   \n",
       "7   000000b5aea2c9ea7cc155f6ebcef97f826        202102.0          47.0   \n",
       "8   000000b5aea2c9ea7cc155f6ebcef97f826        202103.0          47.0   \n",
       "9   000000b5aea2c9ea7cc155f6ebcef97f826        202104.0          47.0   \n",
       "10  000000b5aea2c9ea7cc155f6ebcef97f826        202105.0          47.0   \n",
       "11  000000b5aea2c9ea7cc155f6ebcef97f826        202106.0          47.0   \n",
       "12  00000b8415f19846d12e852ebd0d52ec432        202007.0          34.0   \n",
       "13  00000b8415f19846d12e852ebd0d52ec432        202008.0          34.0   \n",
       "14  00000b8415f19846d12e852ebd0d52ec432        202009.0          34.0   \n",
       "15  00000b8415f19846d12e852ebd0d52ec432        202010.0          34.0   \n",
       "16  00000b8415f19846d12e852ebd0d52ec432        202011.0          34.0   \n",
       "17  00000b8415f19846d12e852ebd0d52ec432        202012.0          34.0   \n",
       "18  00000b8415f19846d12e852ebd0d52ec432        202101.0          35.0   \n",
       "19  00000b8415f19846d12e852ebd0d52ec432        202102.0          35.0   \n",
       "\n",
       "    antig_cliente  client__x0_Hombre  client__x0_Mujer  client__x0_Sin Datos  \\\n",
       "0           224.0                0.0               1.0                   0.0   \n",
       "1           225.0                0.0               1.0                   0.0   \n",
       "2           226.0                0.0               1.0                   0.0   \n",
       "3           227.0                0.0               1.0                   0.0   \n",
       "4           228.0                0.0               1.0                   0.0   \n",
       "5           229.0                0.0               1.0                   0.0   \n",
       "6           230.0                0.0               1.0                   0.0   \n",
       "7           231.0                0.0               1.0                   0.0   \n",
       "8           232.0                0.0               1.0                   0.0   \n",
       "9           233.0                0.0               1.0                   0.0   \n",
       "10          234.0                0.0               1.0                   0.0   \n",
       "11          235.0                0.0               1.0                   0.0   \n",
       "12          105.0                1.0               0.0                   0.0   \n",
       "13          106.0                1.0               0.0                   0.0   \n",
       "14          107.0                1.0               0.0                   0.0   \n",
       "15          108.0                1.0               0.0                   0.0   \n",
       "16          109.0                1.0               0.0                   0.0   \n",
       "17          110.0                1.0               0.0                   0.0   \n",
       "18          111.0                1.0               0.0                   0.0   \n",
       "19          112.0                1.0               0.0                   0.0   \n",
       "\n",
       "    client__x1_Sector_Educativo  client__x1_Sector_Empleado_Comercio  \\\n",
       "0                           0.0                                  0.0   \n",
       "1                           0.0                                  0.0   \n",
       "2                           0.0                                  0.0   \n",
       "3                           0.0                                  0.0   \n",
       "4                           0.0                                  0.0   \n",
       "5                           0.0                                  0.0   \n",
       "6                           0.0                                  0.0   \n",
       "7                           0.0                                  0.0   \n",
       "8                           0.0                                  0.0   \n",
       "9                           0.0                                  0.0   \n",
       "10                          0.0                                  0.0   \n",
       "11                          0.0                                  0.0   \n",
       "12                          0.0                                  0.0   \n",
       "13                          0.0                                  0.0   \n",
       "14                          0.0                                  0.0   \n",
       "15                          0.0                                  0.0   \n",
       "16                          0.0                                  0.0   \n",
       "17                          0.0                                  0.0   \n",
       "18                          0.0                                  0.0   \n",
       "19                          0.0                                  0.0   \n",
       "\n",
       "    client__x1_Sector_Financiero  ...  trans__x3_2  trans__x3_3  trans__x3_4  \\\n",
       "0                            0.0  ...          0.0          0.0          0.0   \n",
       "1                            0.0  ...          0.0          0.0          0.0   \n",
       "2                            0.0  ...          0.0          0.0          0.0   \n",
       "3                            0.0  ...          0.0          0.0          0.0   \n",
       "4                            0.0  ...          0.0          0.0          0.0   \n",
       "5                            0.0  ...          0.0          0.0          0.0   \n",
       "6                            0.0  ...          0.0          0.0          0.0   \n",
       "7                            0.0  ...          0.0          0.0          0.0   \n",
       "8                            0.0  ...          0.0          0.0          0.0   \n",
       "9                            0.0  ...          0.0          0.0          0.0   \n",
       "10                           0.0  ...          0.0          0.0          0.0   \n",
       "11                           0.0  ...          0.0          0.0          0.0   \n",
       "12                           0.0  ...          0.0          0.0          0.0   \n",
       "13                           0.0  ...          0.0          0.0          0.0   \n",
       "14                           0.0  ...          0.0          0.0          0.0   \n",
       "15                           0.0  ...          0.0          0.0          0.0   \n",
       "16                           0.0  ...          0.0          0.0          0.0   \n",
       "17                           0.0  ...          0.0          0.0          0.0   \n",
       "18                           0.0  ...          0.0          0.0          0.0   \n",
       "19                           0.0  ...          0.0          0.0          0.0   \n",
       "\n",
       "    trans__x3_5  trans__x3_6  trans__x3_7  trans__x3_8  trans__x3_9  \\\n",
       "0           0.0          0.0          0.0          0.0          0.0   \n",
       "1           0.0          0.0          0.0          0.0          0.0   \n",
       "2           0.0          0.0          0.0          0.0          0.0   \n",
       "3           0.0          0.0          0.0          0.0          0.0   \n",
       "4           0.0          0.0          0.0          0.0          0.0   \n",
       "5           0.0          0.0          0.0          0.0          0.0   \n",
       "6           0.0          0.0          0.0          0.0          0.0   \n",
       "7           0.0          0.0          0.0          0.0          0.0   \n",
       "8           0.0          0.0          0.0          0.0          0.0   \n",
       "9           0.0          0.0          0.0          0.0          0.0   \n",
       "10          0.0          0.0          0.0          0.0          0.0   \n",
       "11          0.0          0.0          0.0          0.0          0.0   \n",
       "12          1.0          0.0          0.0          0.0          0.0   \n",
       "13          1.0          0.0          0.0          0.0          0.0   \n",
       "14          2.0          0.0          0.0          0.0          0.0   \n",
       "15          2.0          0.0          0.0          0.0          0.0   \n",
       "16          1.0          0.0          0.0          0.0          0.0   \n",
       "17          2.0          0.0          0.0          0.0          0.0   \n",
       "18          1.0          0.0          0.0          0.0          0.0   \n",
       "19          2.0          0.0          0.0          0.0          0.0   \n",
       "\n",
       "    monto_ajustado  fg_aumentado  \n",
       "0             0.00             0  \n",
       "1            -4.72             0  \n",
       "2            -4.61             0  \n",
       "3            -4.46             0  \n",
       "4            -4.34             0  \n",
       "5            -4.21             0  \n",
       "6            -4.08             0  \n",
       "7            -3.97             0  \n",
       "8            -3.83             0  \n",
       "9            -3.72             0  \n",
       "10           -3.64             0  \n",
       "11            0.00             1  \n",
       "12        15552.53             0  \n",
       "13         5278.17             0  \n",
       "14        28853.87             1  \n",
       "15        10110.66             0  \n",
       "16        10094.83             0  \n",
       "17        23512.78             1  \n",
       "18        28610.98             1  \n",
       "19         4537.63             0  \n",
       "\n",
       "[20 rows x 56 columns]"
      ]
     },
     "execution_count": 152,
     "metadata": {},
     "output_type": "execute_result"
    }
   ],
   "source": [
    "df_mes.head(20)"
   ]
  },
  {
   "cell_type": "code",
   "execution_count": 153,
   "id": "83d0d993-bf48-44ea-b235-1e1726674150",
   "metadata": {
    "tags": []
   },
   "outputs": [],
   "source": [
    "df = df_mes.copy() # Usamos siempre df_mes para clasificar"
   ]
  },
  {
   "cell_type": "markdown",
   "id": "950a81a5-ea16-47a8-98f2-770ca138b0f8",
   "metadata": {
    "tags": []
   },
   "source": [
    "## RandomForestClassifier - Default"
   ]
  },
  {
   "cell_type": "code",
   "execution_count": 154,
   "id": "0542cf84-4079-4f67-9521-076a4653172d",
   "metadata": {},
   "outputs": [],
   "source": [
    "# Preproceso 1 para SGDRegressor - Default\n",
    "scaler = MinMaxScaler()\n",
    "ft_selector = RandomForestClassifier(random_state=0)\n",
    "model_ = RandomForestClassifier(random_state= 0, max_depth=20, min_samples_split=20)"
   ]
  },
  {
   "cell_type": "code",
   "execution_count": 155,
   "id": "d409d6f5-5885-4457-85b9-a5834621fc82",
   "metadata": {},
   "outputs": [],
   "source": [
    "# Features and target\n",
    "X = df.drop([ordinal_ft, target_c], axis=1)\n",
    "y = df[target_c]"
   ]
  },
  {
   "cell_type": "code",
   "execution_count": 156,
   "id": "d6009e55-6b48-4ebb-84c7-11b248767c7a",
   "metadata": {},
   "outputs": [],
   "source": [
    "# Train and validation\n",
    "X_train, X_val, y_train, y_val = train_test_split(X, y, test_size=0.30, random_state=0, shuffle=False)"
   ]
  },
  {
   "cell_type": "markdown",
   "id": "b2e8f85d-0c80-48ed-831c-0f86492b7945",
   "metadata": {},
   "source": [
    "#### Preproceso y ajuste"
   ]
  },
  {
   "cell_type": "code",
   "execution_count": 157,
   "id": "d46a3504-93c4-49a6-9706-b3f6ca215af6",
   "metadata": {},
   "outputs": [],
   "source": [
    "# Preprocessing\n",
    "num_transformer = scaler\n",
    "cat_transformer = 'passthrough'\n",
    "\n",
    "num_features = [g for g in X.columns if 'client' not in g]\n",
    "cat_features = [g for g in X.columns if 'client' in g]\n",
    "\n",
    "preprocessor = ColumnTransformer(\n",
    "    transformers=[\n",
    "        ('num', num_transformer, num_features),\n",
    "        ('cat', cat_transformer, cat_features)])"
   ]
  },
  {
   "cell_type": "code",
   "execution_count": 158,
   "id": "c24f63ca-13e7-4d60-b5d6-e7a5f429e989",
   "metadata": {},
   "outputs": [],
   "source": [
    "# Fit\n",
    "model = Pipeline([\n",
    "  ('preprocessor', preprocessor),\n",
    "  ('feature_selection', SelectFromModel(ft_selector)),\n",
    "  ('cla', model_)\n",
    "])\n",
    "\n",
    "model.fit(X_train, y_train)\n",
    "rfc = model"
   ]
  },
  {
   "cell_type": "code",
   "execution_count": 159,
   "id": "fa7ea5f2-8252-4072-9891-a4369352daad",
   "metadata": {},
   "outputs": [],
   "source": [
    "# Predict\n",
    "y_train_pred = model.predict(X_train)\n",
    "y_valid_pred = model.predict(X_val)"
   ]
  },
  {
   "cell_type": "code",
   "execution_count": 160,
   "id": "701d60a2-7c90-4f0a-8038-2cb864896694",
   "metadata": {},
   "outputs": [
    {
     "data": {
      "text/plain": [
       "{'memory': None,\n",
       " 'steps': [('preprocessor',\n",
       "   ColumnTransformer(transformers=[('num', MinMaxScaler(),\n",
       "                                    ['anio_mes_cupon', 'trans__x0_AX',\n",
       "                                     'trans__x0_EX', 'trans__x0_MC',\n",
       "                                     'trans__x0_PC', 'trans__x0_PL',\n",
       "                                     'trans__x0_PN', 'trans__x0_PP',\n",
       "                                     'trans__x0_TA', 'trans__x0_VI',\n",
       "                                     'trans__x0_ZE', 'trans__x1_0', 'trans__x1_22',\n",
       "                                     'trans__x1_3', 'trans__x1_32', 'trans__x1_4',\n",
       "                                     'trans__x1_42', 'trans__x2_0', 'trans__x2_1',\n",
       "                                     'trans__x2_3'...\n",
       "                                     'client__x1_Sector_Operativo',\n",
       "                                     'client__x1_Sector_Salud',\n",
       "                                     'client__x1_Sector_Seguridad',\n",
       "                                     'client__x1_Sector_Sin_Datos',\n",
       "                                     'client__x2_Casado', 'client__x2_Otros',\n",
       "                                     'client__x2_Sin_datos', 'client__x2_Soltero',\n",
       "                                     'client__x3_REGION CUYO',\n",
       "                                     'client__x3_REGION NORDESTE',\n",
       "                                     'client__x3_REGION NOROESTE',\n",
       "                                     'client__x3_REGION PAMPEANA',\n",
       "                                     'client__x3_REGION PATAGONIA',\n",
       "                                     'client__x3_SIN DATOS'])])),\n",
       "  ('feature_selection',\n",
       "   SelectFromModel(estimator=RandomForestClassifier(random_state=0))),\n",
       "  ('cla',\n",
       "   RandomForestClassifier(max_depth=20, min_samples_split=20, random_state=0))],\n",
       " 'verbose': False,\n",
       " 'preprocessor': ColumnTransformer(transformers=[('num', MinMaxScaler(),\n",
       "                                  ['anio_mes_cupon', 'trans__x0_AX',\n",
       "                                   'trans__x0_EX', 'trans__x0_MC',\n",
       "                                   'trans__x0_PC', 'trans__x0_PL',\n",
       "                                   'trans__x0_PN', 'trans__x0_PP',\n",
       "                                   'trans__x0_TA', 'trans__x0_VI',\n",
       "                                   'trans__x0_ZE', 'trans__x1_0', 'trans__x1_22',\n",
       "                                   'trans__x1_3', 'trans__x1_32', 'trans__x1_4',\n",
       "                                   'trans__x1_42', 'trans__x2_0', 'trans__x2_1',\n",
       "                                   'trans__x2_3'...\n",
       "                                   'client__x1_Sector_Operativo',\n",
       "                                   'client__x1_Sector_Salud',\n",
       "                                   'client__x1_Sector_Seguridad',\n",
       "                                   'client__x1_Sector_Sin_Datos',\n",
       "                                   'client__x2_Casado', 'client__x2_Otros',\n",
       "                                   'client__x2_Sin_datos', 'client__x2_Soltero',\n",
       "                                   'client__x3_REGION CUYO',\n",
       "                                   'client__x3_REGION NORDESTE',\n",
       "                                   'client__x3_REGION NOROESTE',\n",
       "                                   'client__x3_REGION PAMPEANA',\n",
       "                                   'client__x3_REGION PATAGONIA',\n",
       "                                   'client__x3_SIN DATOS'])]),\n",
       " 'feature_selection': SelectFromModel(estimator=RandomForestClassifier(random_state=0)),\n",
       " 'cla': RandomForestClassifier(max_depth=20, min_samples_split=20, random_state=0),\n",
       " 'preprocessor__n_jobs': None,\n",
       " 'preprocessor__remainder': 'drop',\n",
       " 'preprocessor__sparse_threshold': 0.3,\n",
       " 'preprocessor__transformer_weights': None,\n",
       " 'preprocessor__transformers': [('num',\n",
       "   MinMaxScaler(),\n",
       "   ['anio_mes_cupon',\n",
       "    'trans__x0_AX',\n",
       "    'trans__x0_EX',\n",
       "    'trans__x0_MC',\n",
       "    'trans__x0_PC',\n",
       "    'trans__x0_PL',\n",
       "    'trans__x0_PN',\n",
       "    'trans__x0_PP',\n",
       "    'trans__x0_TA',\n",
       "    'trans__x0_VI',\n",
       "    'trans__x0_ZE',\n",
       "    'trans__x1_0',\n",
       "    'trans__x1_22',\n",
       "    'trans__x1_3',\n",
       "    'trans__x1_32',\n",
       "    'trans__x1_4',\n",
       "    'trans__x1_42',\n",
       "    'trans__x2_0',\n",
       "    'trans__x2_1',\n",
       "    'trans__x2_3',\n",
       "    'trans__x3_0',\n",
       "    'trans__x3_1',\n",
       "    'trans__x3_2',\n",
       "    'trans__x3_3',\n",
       "    'trans__x3_4',\n",
       "    'trans__x3_5',\n",
       "    'trans__x3_6',\n",
       "    'trans__x3_7',\n",
       "    'trans__x3_8',\n",
       "    'trans__x3_9',\n",
       "    'monto_ajustado']),\n",
       "  ('cat',\n",
       "   'passthrough',\n",
       "   ['edad_cliente',\n",
       "    'antig_cliente',\n",
       "    'client__x0_Hombre',\n",
       "    'client__x0_Mujer',\n",
       "    'client__x0_Sin Datos',\n",
       "    'client__x1_Sector_Educativo',\n",
       "    'client__x1_Sector_Empleado_Comercio',\n",
       "    'client__x1_Sector_Financiero',\n",
       "    'client__x1_Sector_No_Operativo',\n",
       "    'client__x1_Sector_Operativo',\n",
       "    'client__x1_Sector_Salud',\n",
       "    'client__x1_Sector_Seguridad',\n",
       "    'client__x1_Sector_Sin_Datos',\n",
       "    'client__x2_Casado',\n",
       "    'client__x2_Otros',\n",
       "    'client__x2_Sin_datos',\n",
       "    'client__x2_Soltero',\n",
       "    'client__x3_REGION CUYO',\n",
       "    'client__x3_REGION NORDESTE',\n",
       "    'client__x3_REGION NOROESTE',\n",
       "    'client__x3_REGION PAMPEANA',\n",
       "    'client__x3_REGION PATAGONIA',\n",
       "    'client__x3_SIN DATOS'])],\n",
       " 'preprocessor__verbose': False,\n",
       " 'preprocessor__num': MinMaxScaler(),\n",
       " 'preprocessor__cat': 'passthrough',\n",
       " 'preprocessor__num__clip': False,\n",
       " 'preprocessor__num__copy': True,\n",
       " 'preprocessor__num__feature_range': (0, 1),\n",
       " 'feature_selection__estimator__bootstrap': True,\n",
       " 'feature_selection__estimator__ccp_alpha': 0.0,\n",
       " 'feature_selection__estimator__class_weight': None,\n",
       " 'feature_selection__estimator__criterion': 'gini',\n",
       " 'feature_selection__estimator__max_depth': None,\n",
       " 'feature_selection__estimator__max_features': 'auto',\n",
       " 'feature_selection__estimator__max_leaf_nodes': None,\n",
       " 'feature_selection__estimator__max_samples': None,\n",
       " 'feature_selection__estimator__min_impurity_decrease': 0.0,\n",
       " 'feature_selection__estimator__min_impurity_split': None,\n",
       " 'feature_selection__estimator__min_samples_leaf': 1,\n",
       " 'feature_selection__estimator__min_samples_split': 2,\n",
       " 'feature_selection__estimator__min_weight_fraction_leaf': 0.0,\n",
       " 'feature_selection__estimator__n_estimators': 100,\n",
       " 'feature_selection__estimator__n_jobs': None,\n",
       " 'feature_selection__estimator__oob_score': False,\n",
       " 'feature_selection__estimator__random_state': 0,\n",
       " 'feature_selection__estimator__verbose': 0,\n",
       " 'feature_selection__estimator__warm_start': False,\n",
       " 'feature_selection__estimator': RandomForestClassifier(random_state=0),\n",
       " 'feature_selection__importance_getter': 'auto',\n",
       " 'feature_selection__max_features': None,\n",
       " 'feature_selection__norm_order': 1,\n",
       " 'feature_selection__prefit': False,\n",
       " 'feature_selection__threshold': None,\n",
       " 'cla__bootstrap': True,\n",
       " 'cla__ccp_alpha': 0.0,\n",
       " 'cla__class_weight': None,\n",
       " 'cla__criterion': 'gini',\n",
       " 'cla__max_depth': 20,\n",
       " 'cla__max_features': 'auto',\n",
       " 'cla__max_leaf_nodes': None,\n",
       " 'cla__max_samples': None,\n",
       " 'cla__min_impurity_decrease': 0.0,\n",
       " 'cla__min_impurity_split': None,\n",
       " 'cla__min_samples_leaf': 1,\n",
       " 'cla__min_samples_split': 20,\n",
       " 'cla__min_weight_fraction_leaf': 0.0,\n",
       " 'cla__n_estimators': 100,\n",
       " 'cla__n_jobs': None,\n",
       " 'cla__oob_score': False,\n",
       " 'cla__random_state': 0,\n",
       " 'cla__verbose': 0,\n",
       " 'cla__warm_start': False}"
      ]
     },
     "execution_count": 160,
     "metadata": {},
     "output_type": "execute_result"
    }
   ],
   "source": [
    "model.get_params()"
   ]
  },
  {
   "cell_type": "markdown",
   "id": "8df91cfd-4aa6-4dc4-98f3-6fbbeb029449",
   "metadata": {},
   "source": [
    "#### Evaluacion de predicciones"
   ]
  },
  {
   "cell_type": "code",
   "execution_count": 161,
   "id": "d8ccffaa-3a99-494f-a328-542fb82e4718",
   "metadata": {
    "tags": []
   },
   "outputs": [
    {
     "name": "stdout",
     "output_type": "stream",
     "text": [
      "=======================================================================\n",
      "RandomForestClassifier - Reporte de clasificación del conjunto de train\n",
      "=======================================================================\n",
      "              precision    recall  f1-score   support\n",
      "\n",
      "           0       0.92      0.95      0.93      4795\n",
      "           1       0.88      0.80      0.84      2135\n",
      "\n",
      "    accuracy                           0.91      6930\n",
      "   macro avg       0.90      0.88      0.89      6930\n",
      "weighted avg       0.90      0.91      0.90      6930\n",
      "\n"
     ]
    }
   ],
   "source": [
    "# Evaluate train\n",
    "text = \"RandomForestClassifier - Reporte de clasificación del conjunto de train\" \n",
    "print(len(text)*\"=\")\n",
    "print(text)\n",
    "print(len(text)*\"=\")\n",
    "print(classification_report(y_train, y_train_pred))"
   ]
  },
  {
   "cell_type": "code",
   "execution_count": 162,
   "id": "42061fe7-7dae-4edb-bb3e-0ea426c6df3a",
   "metadata": {
    "tags": []
   },
   "outputs": [
    {
     "name": "stdout",
     "output_type": "stream",
     "text": [
      "============================================================================\n",
      "RandomForestClassifier - Reporte de clasificación del conjunto de validacion\n",
      "============================================================================\n",
      "              precision    recall  f1-score   support\n",
      "\n",
      "           0       0.84      0.88      0.86      2024\n",
      "           1       0.71      0.64      0.68       946\n",
      "\n",
      "    accuracy                           0.80      2970\n",
      "   macro avg       0.78      0.76      0.77      2970\n",
      "weighted avg       0.80      0.80      0.80      2970\n",
      "\n"
     ]
    }
   ],
   "source": [
    "# Evaluate val\n",
    "text = \"RandomForestClassifier - Reporte de clasificación del conjunto de validacion\" \n",
    "print(len(text)*\"=\")\n",
    "print(text)\n",
    "print(len(text)*\"=\")\n",
    "print(classification_report(y_val, y_valid_pred))"
   ]
  },
  {
   "cell_type": "code",
   "execution_count": 163,
   "id": "a092c262-e453-4a9f-99b9-d77e1e758789",
   "metadata": {},
   "outputs": [
    {
     "data": {
      "text/plain": [
       "Text(0.5, 1.0, 'Random Forest - Matriz de confusión del conjunto de train sin normalizar\\n')"
      ]
     },
     "execution_count": 163,
     "metadata": {},
     "output_type": "execute_result"
    },
    {
     "data": {
      "text/plain": [
       "<Figure size 432x288 with 0 Axes>"
      ]
     },
     "metadata": {},
     "output_type": "display_data"
    },
    {
     "data": {
      "image/png": "[encoded data removed]",
      "text/plain": [
       "<Figure size 432x288 with 2 Axes>"
      ]
     },
     "metadata": {
      "needs_background": "light"
     },
     "output_type": "display_data"
    }
   ],
   "source": [
    "plt.figure()\n",
    "plot_confusion_matrix(estimator= model, X=X_train, y_true=y_train,\n",
    "                      normalize='true', cmap='Blues').ax_ \\\n",
    "                      .set_title('Random Forest - Matriz de confusión del conjunto de train sin normalizar\\n')"
   ]
  },
  {
   "cell_type": "code",
   "execution_count": 164,
   "id": "fd778d1f-86fd-4033-a46b-68aab50e89bf",
   "metadata": {},
   "outputs": [
    {
     "data": {
      "text/plain": [
       "Text(0.5, 1.0, 'Random Forest - Matriz de confusión del conjunto de validation sin normalizar\\n')"
      ]
     },
     "execution_count": 164,
     "metadata": {},
     "output_type": "execute_result"
    },
    {
     "data": {
      "text/plain": [
       "<Figure size 432x288 with 0 Axes>"
      ]
     },
     "metadata": {},
     "output_type": "display_data"
    },
    {
     "data": {
      "image/png": "[encoded data removed]",
      "text/plain": [
       "<Figure size 432x288 with 2 Axes>"
      ]
     },
     "metadata": {
      "needs_background": "light"
     },
     "output_type": "display_data"
    }
   ],
   "source": [
    "plt.figure()\n",
    "plot_confusion_matrix(estimator= model, X=X_val, y_true=y_val,\n",
    "                      normalize='true', cmap='Blues').ax_ \\\n",
    "                      .set_title('Random Forest - Matriz de confusión del conjunto de validation sin normalizar\\n')"
   ]
  },
  {
   "cell_type": "markdown",
   "id": "2d12cb5d-fa48-474f-b767-115d9498c240",
   "metadata": {
    "tags": []
   },
   "source": [
    "## RandomForestClassifier - Grid Search"
   ]
  },
  {
   "cell_type": "code",
   "execution_count": 165,
   "id": "a5ebea9e-3929-4211-bb9d-0b94746d6eed",
   "metadata": {},
   "outputs": [],
   "source": [
    "# Preproceso 1 para SGDRegressor - Default\n",
    "scaler = MinMaxScaler()\n",
    "#ft_selector = LinearSVR(random_state=0)\n",
    "model_ = RandomForestClassifier(random_state= 0)"
   ]
  },
  {
   "cell_type": "code",
   "execution_count": 166,
   "id": "cfe9054b-5055-46ab-ae0b-cb8b5b688d8c",
   "metadata": {
    "tags": []
   },
   "outputs": [],
   "source": [
    "param_grid = {'cla__n_estimators' : [75, 100],\n",
    "                'cla__criterion':['gini', 'entropy'],\n",
    "                'cla__max_depth': [20, 25],\n",
    "                'cla__min_samples_split': [20, 25],\n",
    "                'cla__min_samples_leaf':[5, 6, 8],\n",
    "                'cla__max_features':[0.5, 0.7, 0.8]}"
   ]
  },
  {
   "cell_type": "code",
   "execution_count": 167,
   "id": "0a2f02e7-56b0-4293-8dfd-f8e463da073f",
   "metadata": {},
   "outputs": [],
   "source": [
    "# Features and target\n",
    "X = df.drop([ordinal_ft, target_c], axis=1)\n",
    "y = df[target_c]"
   ]
  },
  {
   "cell_type": "code",
   "execution_count": 168,
   "id": "f12be47f-9b6a-492a-8183-6deaabc8fa5e",
   "metadata": {},
   "outputs": [],
   "source": [
    "# Train and validation\n",
    "X_train, X_val, y_train, y_val = train_test_split(X, y, test_size=0.30, random_state=0, shuffle=False)"
   ]
  },
  {
   "cell_type": "markdown",
   "id": "81e40421-b3fc-4c9a-b4c2-6f99e2b23abe",
   "metadata": {},
   "source": [
    "#### Preproceso y ajuste"
   ]
  },
  {
   "cell_type": "code",
   "execution_count": 169,
   "id": "c8e2348e-8b8b-42f1-905f-a044ec753aa6",
   "metadata": {},
   "outputs": [],
   "source": [
    "# Preprocessing\n",
    "num_transformer = scaler\n",
    "cat_transformer = 'passthrough'\n",
    "\n",
    "num_features = [g for g in X.columns if 'client' not in g]\n",
    "cat_features = [g for g in X.columns if 'client' in g]\n",
    "\n",
    "preprocessor = ColumnTransformer(\n",
    "    transformers=[\n",
    "        ('num', num_transformer, num_features),\n",
    "        ('cat', cat_transformer, cat_features)])"
   ]
  },
  {
   "cell_type": "code",
   "execution_count": 170,
   "id": "a42f3d01-906a-4fd5-8cbf-0d365c16007f",
   "metadata": {
    "tags": []
   },
   "outputs": [
    {
     "name": "stdout",
     "output_type": "stream",
     "text": [
      "Fitting 5 folds for each of 10 candidates, totalling 50 fits\n"
     ]
    }
   ],
   "source": [
    "# Fit\n",
    "pipe = Pipeline([\n",
    "  ('preprocessor', preprocessor),\n",
    "#  ('feature_selection', SelectFromModel(ft_selector)),\n",
    "  ('cla', model_)\n",
    "])\n",
    "\n",
    "model = RandomizedSearchCV(pipe, param_grid, scoring='f1', cv=5, verbose=1)\n",
    "\n",
    "model.fit(X_train, y_train)\n",
    "rfc_cv = model"
   ]
  },
  {
   "cell_type": "code",
   "execution_count": 171,
   "id": "2c4354d1-d00e-433e-8b50-018d7b5f6612",
   "metadata": {},
   "outputs": [
    {
     "data": {
      "text/plain": [
       "{'cla__n_estimators': 75,\n",
       " 'cla__min_samples_split': 20,\n",
       " 'cla__min_samples_leaf': 8,\n",
       " 'cla__max_features': 0.5,\n",
       " 'cla__max_depth': 25,\n",
       " 'cla__criterion': 'entropy'}"
      ]
     },
     "execution_count": 171,
     "metadata": {},
     "output_type": "execute_result"
    }
   ],
   "source": [
    "model.best_params_"
   ]
  },
  {
   "cell_type": "code",
   "execution_count": 172,
   "id": "6ad5bf66-2197-494a-aba0-c1de202c744a",
   "metadata": {
    "tags": []
   },
   "outputs": [],
   "source": [
    "# Predict\n",
    "y_train_pred = model.predict(X_train)\n",
    "y_val_pred = model.predict(X_val)"
   ]
  },
  {
   "cell_type": "markdown",
   "id": "40c9248d-1ecb-4fe5-8ab6-bb7ca5c18035",
   "metadata": {},
   "source": [
    "#### Evaluacion de predicciones"
   ]
  },
  {
   "cell_type": "code",
   "execution_count": 173,
   "id": "9b7707db-a1da-46fd-b93d-1a75c243242d",
   "metadata": {
    "tags": []
   },
   "outputs": [
    {
     "name": "stdout",
     "output_type": "stream",
     "text": [
      "=======================================================================\n",
      "RandomForestClassifier - Reporte de clasificación del conjunto de train\n",
      "=======================================================================\n",
      "              precision    recall  f1-score   support\n",
      "\n",
      "           0       0.90      0.94      0.92      4795\n",
      "           1       0.86      0.77      0.81      2135\n",
      "\n",
      "    accuracy                           0.89      6930\n",
      "   macro avg       0.88      0.86      0.87      6930\n",
      "weighted avg       0.89      0.89      0.89      6930\n",
      "\n"
     ]
    }
   ],
   "source": [
    "# Evaluate train\n",
    "text = \"RandomForestClassifier - Reporte de clasificación del conjunto de train\" \n",
    "print(len(text)*\"=\")\n",
    "print(text)\n",
    "print(len(text)*\"=\")\n",
    "print(classification_report(y_train, y_train_pred))"
   ]
  },
  {
   "cell_type": "code",
   "execution_count": 174,
   "id": "f6510f90-86e7-4fab-91f2-e62ec8a767f3",
   "metadata": {
    "tags": []
   },
   "outputs": [
    {
     "name": "stdout",
     "output_type": "stream",
     "text": [
      "============================================================================\n",
      "RandomForestClassifier - Reporte de clasificación del conjunto de validacion\n",
      "============================================================================\n",
      "              precision    recall  f1-score   support\n",
      "\n",
      "           0       0.84      0.88      0.86      2024\n",
      "           1       0.71      0.64      0.68       946\n",
      "\n",
      "    accuracy                           0.80      2970\n",
      "   macro avg       0.78      0.76      0.77      2970\n",
      "weighted avg       0.80      0.80      0.80      2970\n",
      "\n"
     ]
    }
   ],
   "source": [
    "# Evaluate val\n",
    "text = \"RandomForestClassifier - Reporte de clasificación del conjunto de validacion\" \n",
    "print(len(text)*\"=\")\n",
    "print(text)\n",
    "print(len(text)*\"=\")\n",
    "print(classification_report(y_val, y_valid_pred))"
   ]
  },
  {
   "cell_type": "code",
   "execution_count": 175,
   "id": "5a907d37-53b2-4a62-9b1e-281e59e86734",
   "metadata": {},
   "outputs": [
    {
     "data": {
      "text/plain": [
       "Text(0.5, 1.0, 'Random Forest - Matriz de confusión del conjunto de train sin normalizar\\n')"
      ]
     },
     "execution_count": 175,
     "metadata": {},
     "output_type": "execute_result"
    },
    {
     "data": {
      "text/plain": [
       "<Figure size 432x288 with 0 Axes>"
      ]
     },
     "metadata": {},
     "output_type": "display_data"
    },
    {
     "data": {
      "image/png": "[encoded data removed]",
      "text/plain": [
       "<Figure size 432x288 with 2 Axes>"
      ]
     },
     "metadata": {
      "needs_background": "light"
     },
     "output_type": "display_data"
    }
   ],
   "source": [
    "plt.figure()\n",
    "plot_confusion_matrix(estimator= model, X=X_train, y_true=y_train,\n",
    "                      normalize='true', cmap='Blues').ax_ \\\n",
    "                      .set_title('Random Forest - Matriz de confusión del conjunto de train sin normalizar\\n')"
   ]
  },
  {
   "cell_type": "code",
   "execution_count": 176,
   "id": "0fd6b2d3-2345-49f3-8b4a-de59b41a8e73",
   "metadata": {},
   "outputs": [
    {
     "data": {
      "text/plain": [
       "Text(0.5, 1.0, 'Random Forest - Matriz de confusión del conjunto de validation sin normalizar\\n')"
      ]
     },
     "execution_count": 176,
     "metadata": {},
     "output_type": "execute_result"
    },
    {
     "data": {
      "text/plain": [
       "<Figure size 432x288 with 0 Axes>"
      ]
     },
     "metadata": {},
     "output_type": "display_data"
    },
    {
     "data": {
      "image/png": "[encoded data removed]",
      "text/plain": [
       "<Figure size 432x288 with 2 Axes>"
      ]
     },
     "metadata": {
      "needs_background": "light"
     },
     "output_type": "display_data"
    }
   ],
   "source": [
    "plt.figure()\n",
    "plot_confusion_matrix(estimator= model, X=X_val, y_true=y_val,\n",
    "                      normalize='true', cmap='Blues').ax_ \\\n",
    "                      .set_title('Random Forest - Matriz de confusión del conjunto de validation sin normalizar\\n')"
   ]
  },
  {
   "cell_type": "markdown",
   "id": "9afa31d8-f02f-40f9-9fec-f494bfddc88a",
   "metadata": {},
   "source": [
    "## XGBoost - Default"
   ]
  },
  {
   "cell_type": "code",
   "execution_count": 177,
   "id": "fa2aa235-98de-4c9d-ba74-4c02778611d2",
   "metadata": {},
   "outputs": [],
   "source": [
    "# Preproceso 1 para XGBClassifier - Default\n",
    "scaler = MaxAbsScaler()\n",
    "ft_selector = LinearSVR(random_state=0)\n",
    "model_ = XGBClassifier(random_state= 0)"
   ]
  },
  {
   "cell_type": "code",
   "execution_count": 178,
   "id": "22c72805-ff6b-4d0f-a530-748a080b9ade",
   "metadata": {},
   "outputs": [],
   "source": [
    "# Features and target\n",
    "X = df.drop([ordinal_ft, target_c], axis=1)\n",
    "y = df[target_c]"
   ]
  },
  {
   "cell_type": "code",
   "execution_count": 179,
   "id": "e03b453c-7408-4c54-9919-bb2e7359c04d",
   "metadata": {},
   "outputs": [],
   "source": [
    "# Train and validation\n",
    "X_train, X_val, y_train, y_val = train_test_split(X, y, test_size=0.30, random_state=0, shuffle=False)"
   ]
  },
  {
   "cell_type": "markdown",
   "id": "74667400-afd0-4ab0-ba23-6954c3aa0a38",
   "metadata": {},
   "source": [
    "#### Preproceso y ajuste"
   ]
  },
  {
   "cell_type": "code",
   "execution_count": 180,
   "id": "b3099f40-1e24-4b0a-a27b-aefdfb303bac",
   "metadata": {},
   "outputs": [],
   "source": [
    "# Preprocessing\n",
    "num_transformer = scaler\n",
    "cat_transformer = 'passthrough'\n",
    "\n",
    "num_features = [g for g in X.columns if 'client' not in g]\n",
    "cat_features = [g for g in X.columns if 'client' in g]\n",
    "\n",
    "preprocessor = ColumnTransformer(\n",
    "    transformers=[\n",
    "        ('num', num_transformer, num_features),\n",
    "        ('cat', cat_transformer, cat_features)])"
   ]
  },
  {
   "cell_type": "code",
   "execution_count": 181,
   "id": "8bba2b4c-9c07-44e1-a8a8-9869c0ae2aeb",
   "metadata": {},
   "outputs": [
    {
     "name": "stdout",
     "output_type": "stream",
     "text": [
      "[20:48:10] WARNING: C:/Users/Administrator/workspace/xgboost-win64_release_1.4.0/src/learner.cc:1095: Starting in XGBoost 1.3.0, the default evaluation metric used with the objective 'binary:logistic' was changed from 'error' to 'logloss'. Explicitly set eval_metric if you'd like to restore the old behavior.\n"
     ]
    }
   ],
   "source": [
    "# Fit\n",
    "model = Pipeline([\n",
    "  ('preprocessor', preprocessor),\n",
    "  ('feature_selection', SelectFromModel(ft_selector)),\n",
    "  ('cla', model_)\n",
    "])\n",
    "\n",
    "model.fit(X_train, y_train)\n",
    "xgbc = model"
   ]
  },
  {
   "cell_type": "code",
   "execution_count": 182,
   "id": "9466da76-5af4-4c81-85f7-d3a8b1f4d2a1",
   "metadata": {},
   "outputs": [],
   "source": [
    "# Predict\n",
    "y_train_pred = model.predict(X_train)\n",
    "y_valid_pred = model.predict(X_val)"
   ]
  },
  {
   "cell_type": "markdown",
   "id": "fe9caa03-dcb1-4d20-92b2-52d3337ec5ae",
   "metadata": {},
   "source": [
    "#### Evaluacion de predicciones"
   ]
  },
  {
   "cell_type": "code",
   "execution_count": 183,
   "id": "2f65c88c-c70f-400c-a41e-290297891a9f",
   "metadata": {
    "tags": []
   },
   "outputs": [
    {
     "name": "stdout",
     "output_type": "stream",
     "text": [
      "=======================================================================\n",
      "RandomForestClassifier - Reporte de clasificación del conjunto de train\n",
      "=======================================================================\n",
      "              precision    recall  f1-score   support\n",
      "\n",
      "           0       0.90      0.96      0.93      4795\n",
      "           1       0.89      0.76      0.82      2135\n",
      "\n",
      "    accuracy                           0.90      6930\n",
      "   macro avg       0.90      0.86      0.88      6930\n",
      "weighted avg       0.90      0.90      0.90      6930\n",
      "\n"
     ]
    }
   ],
   "source": [
    "# Evaluate train\n",
    "text = \"RandomForestClassifier - Reporte de clasificación del conjunto de train\" \n",
    "print(len(text)*\"=\")\n",
    "print(text)\n",
    "print(len(text)*\"=\")\n",
    "print(classification_report(y_train, y_train_pred))"
   ]
  },
  {
   "cell_type": "code",
   "execution_count": 184,
   "id": "2c9c5844-23a2-4f07-be8b-79a4d6ce4cfa",
   "metadata": {
    "tags": []
   },
   "outputs": [
    {
     "name": "stdout",
     "output_type": "stream",
     "text": [
      "============================================================================\n",
      "RandomForestClassifier - Reporte de clasificación del conjunto de validacion\n",
      "============================================================================\n",
      "              precision    recall  f1-score   support\n",
      "\n",
      "           0       0.79      0.85      0.82      2024\n",
      "           1       0.63      0.52      0.57       946\n",
      "\n",
      "    accuracy                           0.75      2970\n",
      "   macro avg       0.71      0.69      0.70      2970\n",
      "weighted avg       0.74      0.75      0.74      2970\n",
      "\n"
     ]
    }
   ],
   "source": [
    "# Evaluate val\n",
    "text = \"RandomForestClassifier - Reporte de clasificación del conjunto de validacion\" \n",
    "print(len(text)*\"=\")\n",
    "print(text)\n",
    "print(len(text)*\"=\")\n",
    "print(classification_report(y_val, y_valid_pred))"
   ]
  },
  {
   "cell_type": "code",
   "execution_count": 185,
   "id": "e1453d92-c194-4e6c-a5f1-412bee7f366e",
   "metadata": {},
   "outputs": [
    {
     "data": {
      "text/plain": [
       "Text(0.5, 1.0, 'Random Forest - Matriz de confusión del conjunto de train sin normalizar\\n')"
      ]
     },
     "execution_count": 185,
     "metadata": {},
     "output_type": "execute_result"
    },
    {
     "data": {
      "text/plain": [
       "<Figure size 432x288 with 0 Axes>"
      ]
     },
     "metadata": {},
     "output_type": "display_data"
    },
    {
     "data": {
      "image/png": "[encoded data removed]",
      "text/plain": [
       "<Figure size 432x288 with 2 Axes>"
      ]
     },
     "metadata": {
      "needs_background": "light"
     },
     "output_type": "display_data"
    }
   ],
   "source": [
    "plt.figure()\n",
    "plot_confusion_matrix(estimator= model, X=X_train, y_true=y_train,\n",
    "                      normalize='true', cmap='Blues').ax_ \\\n",
    "                      .set_title('Random Forest - Matriz de confusión del conjunto de train sin normalizar\\n')"
   ]
  },
  {
   "cell_type": "code",
   "execution_count": 186,
   "id": "50b6b6d4-20e1-47c5-b44a-b491baeaad95",
   "metadata": {},
   "outputs": [
    {
     "data": {
      "text/plain": [
       "Text(0.5, 1.0, 'Random Forest - Matriz de confusión del conjunto de validation sin normalizar\\n')"
      ]
     },
     "execution_count": 186,
     "metadata": {},
     "output_type": "execute_result"
    },
    {
     "data": {
      "text/plain": [
       "<Figure size 432x288 with 0 Axes>"
      ]
     },
     "metadata": {},
     "output_type": "display_data"
    },
    {
     "data": {
      "image/png": "[encoded data removed]",
      "text/plain": [
       "<Figure size 432x288 with 2 Axes>"
      ]
     },
     "metadata": {
      "needs_background": "light"
     },
     "output_type": "display_data"
    }
   ],
   "source": [
    "plt.figure()\n",
    "plot_confusion_matrix(estimator= model, X=X_val, y_true=y_val,\n",
    "                      normalize='true', cmap='Blues').ax_ \\\n",
    "                      .set_title('Random Forest - Matriz de confusión del conjunto de validation sin normalizar\\n')"
   ]
  },
  {
   "cell_type": "markdown",
   "id": "cfdd9c7d-9c65-418a-b24f-52ed2eb81202",
   "metadata": {
    "tags": []
   },
   "source": [
    "## XGBoost - Grid Search"
   ]
  },
  {
   "cell_type": "code",
   "execution_count": 187,
   "id": "b866d7ac-fdc6-4247-a611-63757fdd8081",
   "metadata": {},
   "outputs": [],
   "source": [
    "# Preproceso 1 para SGDRegressor - Default\n",
    "scaler = MaxAbsScaler()\n",
    "#ft_selector = LinearSVR(random_state=0)\n",
    "model_ = XGBClassifier(random_state= 0, use_label_encoder=False)"
   ]
  },
  {
   "cell_type": "code",
   "execution_count": 188,
   "id": "ba3a164b-8f0b-480b-a0e1-f259694c9e1f",
   "metadata": {
    "tags": []
   },
   "outputs": [],
   "source": [
    "param_grid = {\n",
    "    'cla__alpha' : [0.01, 0.42, 0.30],\n",
    "    'cla__max_depth': [8, 16, 32],\n",
    "    'cla__n_estimators': [5, 10, 15],\n",
    "    'cla__booster':['gbtree', 'dart'],\n",
    "    'cla__eval_metric': ['mlogloss']\n",
    "}"
   ]
  },
  {
   "cell_type": "code",
   "execution_count": 189,
   "id": "9f12f87d-3373-457e-a86b-b8927bdefdad",
   "metadata": {},
   "outputs": [],
   "source": [
    "# Features and target\n",
    "X = df.drop([ordinal_ft, target_c], axis=1)\n",
    "y = df[target_c]"
   ]
  },
  {
   "cell_type": "code",
   "execution_count": 190,
   "id": "f785c4c0-b7a4-4e39-974a-77083f6a40ff",
   "metadata": {},
   "outputs": [],
   "source": [
    "# Train and validation\n",
    "X_train, X_val, y_train, y_val = train_test_split(X, y, test_size=0.30, random_state=0, shuffle=False)"
   ]
  },
  {
   "cell_type": "markdown",
   "id": "2250286c-c7d6-4347-b1c9-df29553e3776",
   "metadata": {},
   "source": [
    "#### Preproceso y ajuste"
   ]
  },
  {
   "cell_type": "code",
   "execution_count": 191,
   "id": "1483a354-40e6-4fa2-97a0-457dde6c5a59",
   "metadata": {},
   "outputs": [],
   "source": [
    "# Preprocessing\n",
    "num_transformer = scaler\n",
    "cat_transformer = 'passthrough'\n",
    "\n",
    "num_features = [g for g in X.columns if 'client' not in g]\n",
    "cat_features = [g for g in X.columns if 'client' in g]\n",
    "\n",
    "preprocessor = ColumnTransformer(\n",
    "    transformers=[\n",
    "        ('num', num_transformer, num_features),\n",
    "        ('cat', cat_transformer, cat_features)])"
   ]
  },
  {
   "cell_type": "code",
   "execution_count": 192,
   "id": "9962ff0b-28e8-4770-b839-70f3f86feacd",
   "metadata": {
    "tags": []
   },
   "outputs": [
    {
     "name": "stdout",
     "output_type": "stream",
     "text": [
      "Fitting 5 folds for each of 54 candidates, totalling 270 fits\n"
     ]
    }
   ],
   "source": [
    "# Fit\n",
    "pipe = Pipeline([\n",
    "  ('preprocessor', preprocessor),\n",
    "#  ('feature_selection', SelectFromModel(ft_selector)),\n",
    "  ('cla', model_)\n",
    "])\n",
    "\n",
    "model = GridSearchCV(pipe, param_grid, scoring='f1', cv=5, verbose=1)\n",
    "\n",
    "model.fit(X_train, y_train)\n",
    "xgbc_cv = model"
   ]
  },
  {
   "cell_type": "code",
   "execution_count": 193,
   "id": "31a3adfa-3c2d-4b64-b2af-5a9ac5866257",
   "metadata": {},
   "outputs": [
    {
     "data": {
      "text/plain": [
       "{'cla__alpha': 0.42,\n",
       " 'cla__booster': 'gbtree',\n",
       " 'cla__eval_metric': 'mlogloss',\n",
       " 'cla__max_depth': 8,\n",
       " 'cla__n_estimators': 10}"
      ]
     },
     "execution_count": 193,
     "metadata": {},
     "output_type": "execute_result"
    }
   ],
   "source": [
    "model.best_params_"
   ]
  },
  {
   "cell_type": "code",
   "execution_count": 194,
   "id": "e2651b58-9119-488b-9aa1-0e6d13a1f180",
   "metadata": {
    "tags": []
   },
   "outputs": [],
   "source": [
    "# Predict\n",
    "y_train_pred = model.predict(X_train)\n",
    "y_val_pred = model.predict(X_val)"
   ]
  },
  {
   "cell_type": "markdown",
   "id": "015bb077-aeaf-49ac-bb75-27a837b57221",
   "metadata": {},
   "source": [
    "#### Evaluacion de predicciones"
   ]
  },
  {
   "cell_type": "code",
   "execution_count": 195,
   "id": "126eef1e-b76a-4920-b070-4e638e5d59de",
   "metadata": {
    "tags": []
   },
   "outputs": [
    {
     "name": "stdout",
     "output_type": "stream",
     "text": [
      "=======================================================================\n",
      "RandomForestClassifier - Reporte de clasificación del conjunto de train\n",
      "=======================================================================\n",
      "              precision    recall  f1-score   support\n",
      "\n",
      "           0       0.89      0.92      0.90      4795\n",
      "           1       0.81      0.73      0.77      2135\n",
      "\n",
      "    accuracy                           0.86      6930\n",
      "   macro avg       0.85      0.83      0.84      6930\n",
      "weighted avg       0.86      0.86      0.86      6930\n",
      "\n"
     ]
    }
   ],
   "source": [
    "# Evaluate train\n",
    "text = \"RandomForestClassifier - Reporte de clasificación del conjunto de train\" \n",
    "print(len(text)*\"=\")\n",
    "print(text)\n",
    "print(len(text)*\"=\")\n",
    "print(classification_report(y_train, y_train_pred))"
   ]
  },
  {
   "cell_type": "code",
   "execution_count": 196,
   "id": "b25220e5-3b3b-4b06-a05d-fef3560239d1",
   "metadata": {
    "tags": []
   },
   "outputs": [
    {
     "name": "stdout",
     "output_type": "stream",
     "text": [
      "============================================================================\n",
      "RandomForestClassifier - Reporte de clasificación del conjunto de validacion\n",
      "============================================================================\n",
      "              precision    recall  f1-score   support\n",
      "\n",
      "           0       0.79      0.85      0.82      2024\n",
      "           1       0.63      0.52      0.57       946\n",
      "\n",
      "    accuracy                           0.75      2970\n",
      "   macro avg       0.71      0.69      0.70      2970\n",
      "weighted avg       0.74      0.75      0.74      2970\n",
      "\n"
     ]
    }
   ],
   "source": [
    "# Evaluate val\n",
    "text = \"RandomForestClassifier - Reporte de clasificación del conjunto de validacion\" \n",
    "print(len(text)*\"=\")\n",
    "print(text)\n",
    "print(len(text)*\"=\")\n",
    "print(classification_report(y_val, y_valid_pred))"
   ]
  },
  {
   "cell_type": "code",
   "execution_count": 197,
   "id": "697a5fa5-d603-4910-8564-2d67fc36454f",
   "metadata": {},
   "outputs": [
    {
     "data": {
      "text/plain": [
       "Text(0.5, 1.0, 'Random Forest - Matriz de confusión del conjunto de train sin normalizar\\n')"
      ]
     },
     "execution_count": 197,
     "metadata": {},
     "output_type": "execute_result"
    },
    {
     "data": {
      "text/plain": [
       "<Figure size 432x288 with 0 Axes>"
      ]
     },
     "metadata": {},
     "output_type": "display_data"
    },
    {
     "data": {
      "image/png": "[encoded data removed]",
      "text/plain": [
       "<Figure size 432x288 with 2 Axes>"
      ]
     },
     "metadata": {
      "needs_background": "light"
     },
     "output_type": "display_data"
    }
   ],
   "source": [
    "plt.figure()\n",
    "plot_confusion_matrix(estimator= model, X=X_train, y_true=y_train,\n",
    "                      normalize='true', cmap='Blues').ax_ \\\n",
    "                      .set_title('Random Forest - Matriz de confusión del conjunto de train sin normalizar\\n')"
   ]
  },
  {
   "cell_type": "code",
   "execution_count": 198,
   "id": "51bfdf35-f7ce-43d2-be53-0e80eb7541ad",
   "metadata": {},
   "outputs": [
    {
     "data": {
      "text/plain": [
       "Text(0.5, 1.0, 'Random Forest - Matriz de confusión del conjunto de validation sin normalizar\\n')"
      ]
     },
     "execution_count": 198,
     "metadata": {},
     "output_type": "execute_result"
    },
    {
     "data": {
      "text/plain": [
       "<Figure size 432x288 with 0 Axes>"
      ]
     },
     "metadata": {},
     "output_type": "display_data"
    },
    {
     "data": {
      "image/png": "[encoded data removed]",
      "text/plain": [
       "<Figure size 432x288 with 2 Axes>"
      ]
     },
     "metadata": {
      "needs_background": "light"
     },
     "output_type": "display_data"
    }
   ],
   "source": [
    "plt.figure()\n",
    "plot_confusion_matrix(estimator= model, X=X_val, y_true=y_val,\n",
    "                      normalize='true', cmap='Blues').ax_ \\\n",
    "                      .set_title('Random Forest - Matriz de confusión del conjunto de validation sin normalizar\\n')"
   ]
  },
  {
   "cell_type": "markdown",
   "id": "72e05a26-94c1-4128-a56d-eacad0caf4c4",
   "metadata": {},
   "source": [
    "## 5. Series Temporales (Optativo)\n",
    "* Hacer un forecasting usando Exponential Smoothing\n",
    "\n",
    "En el modelo de Exponential Smoothing, las predicciones son promedios pesados de observaciones pasadas, donde los pesos decaen exponencialmente cuando nos movemos al pasado:\n",
    "$$\n",
    "\\hat{y}_{t + 1} = l_t \\\\\n",
    "l_t = \\alpha y_t + (1 - \\alpha) l_{t - 1}\n",
    "$$\n",
    "\n",
    "Donde:\n",
    "\n",
    "Asumimos que:\n",
    "* $l_0$ está dado\n",
    "* 0 $< \\alpha <$ 1\n",
    "\n",
    "El método se suele usar cuando los datos no tienen patrones de tendencia ni estacional claros.\n"
   ]
  },
  {
   "cell_type": "code",
   "execution_count": 199,
   "id": "bc4df3c6-2ea9-4ea8-b59d-e677dc9a2a5b",
   "metadata": {},
   "outputs": [
    {
     "name": "stdout",
     "output_type": "stream",
     "text": [
      "0.12.2\n"
     ]
    }
   ],
   "source": [
    "print(statsmodels.__version__)\n",
    "warnings.filterwarnings('ignore')\n",
    "%matplotlib inline"
   ]
  },
  {
   "cell_type": "code",
   "execution_count": 200,
   "id": "8b2f798a-4692-464d-83d0-7c486fd7b7eb",
   "metadata": {},
   "outputs": [],
   "source": [
    "sns.set_style('darkgrid')\n",
    "sns.set(rc={'figure.figsize':(15, 10)})"
   ]
  },
  {
   "cell_type": "code",
   "execution_count": 201,
   "id": "9ba32c9e-c862-4a2a-b65b-56b6285aee1d",
   "metadata": {},
   "outputs": [
    {
     "data": {
      "text/plain": [
       "Index(['dni_titular_movimiento', 'anio_mes_cupon', 'edad_cliente',\n",
       "       'antig_cliente', 'fecha_cupon_movimiento', 'trans__x0_AX',\n",
       "       'trans__x0_EX', 'trans__x0_MC', 'trans__x0_PC', 'trans__x0_PL',\n",
       "       'trans__x0_PN', 'trans__x0_PP', 'trans__x0_TA', 'trans__x0_VI',\n",
       "       'trans__x0_ZE', 'trans__x1_0', 'trans__x1_22', 'trans__x1_3',\n",
       "       'trans__x1_32', 'trans__x1_4', 'trans__x1_42', 'trans__x2_0',\n",
       "       'trans__x2_1', 'trans__x2_3', 'trans__x3_0', 'trans__x3_1',\n",
       "       'trans__x3_2', 'trans__x3_3', 'trans__x3_4', 'trans__x3_5',\n",
       "       'trans__x3_6', 'trans__x3_7', 'trans__x3_8', 'trans__x3_9',\n",
       "       'client__x0_Hombre', 'client__x0_Mujer', 'client__x0_Sin Datos',\n",
       "       'client__x1_Sector_Educativo', 'client__x1_Sector_Empleado_Comercio',\n",
       "       'client__x1_Sector_Financiero', 'client__x1_Sector_No_Operativo',\n",
       "       'client__x1_Sector_Operativo', 'client__x1_Sector_Salud',\n",
       "       'client__x1_Sector_Seguridad', 'client__x1_Sector_Sin_Datos',\n",
       "       'client__x2_Casado', 'client__x2_Otros', 'client__x2_Sin_datos',\n",
       "       'client__x2_Soltero', 'client__x3_REGION CUYO',\n",
       "       'client__x3_REGION NORDESTE', 'client__x3_REGION NOROESTE',\n",
       "       'client__x3_REGION PAMPEANA', 'client__x3_REGION PATAGONIA',\n",
       "       'client__x3_SIN DATOS', 'monto_ajustado'],\n",
       "      dtype='object')"
      ]
     },
     "execution_count": 201,
     "metadata": {},
     "output_type": "execute_result"
    }
   ],
   "source": [
    "df_encode.columns"
   ]
  },
  {
   "cell_type": "code",
   "execution_count": 202,
   "id": "95c88ae0-157c-47a9-8fbd-9f408dd064c6",
   "metadata": {},
   "outputs": [],
   "source": [
    "sf1 = df_encode[['fecha_cupon_movimiento', 'monto_ajustado', 'trans__x0_PL']]\n",
    "sf2 = df_encode[['fecha_cupon_movimiento', 'monto_ajustado', 'trans__x0_VI']]"
   ]
  },
  {
   "cell_type": "code",
   "execution_count": 203,
   "id": "aaf9b9e7-39c5-4452-b0e5-d0f3181158da",
   "metadata": {},
   "outputs": [
    {
     "ename": "NameError",
     "evalue": "name 'sf' is not defined",
     "output_type": "error",
     "traceback": [
      "\u001b[1;31m---------------------------------------------------------------------------\u001b[0m",
      "\u001b[1;31mNameError\u001b[0m                                 Traceback (most recent call last)",
      "\u001b[1;32m<ipython-input-203-d80639ea02b1>\u001b[0m in \u001b[0;36m<module>\u001b[1;34m\u001b[0m\n\u001b[0;32m      1\u001b[0m \u001b[1;31m# Agrupa por fecha todos los montos para Plan Largo\u001b[0m\u001b[1;33m\u001b[0m\u001b[1;33m\u001b[0m\u001b[1;33m\u001b[0m\u001b[0m\n\u001b[0;32m      2\u001b[0m \u001b[0mcols\u001b[0m \u001b[1;33m=\u001b[0m \u001b[1;33m[\u001b[0m\u001b[1;34m'fecha_cupon_movimiento'\u001b[0m\u001b[1;33m,\u001b[0m \u001b[1;34m'monto'\u001b[0m\u001b[1;33m]\u001b[0m\u001b[1;33m\u001b[0m\u001b[1;33m\u001b[0m\u001b[0m\n\u001b[1;32m----> 3\u001b[1;33m \u001b[0msf\u001b[0m \u001b[1;33m=\u001b[0m \u001b[0msf\u001b[0m\u001b[1;33m[\u001b[0m\u001b[0mcols\u001b[0m\u001b[1;33m]\u001b[0m\u001b[1;33m.\u001b[0m\u001b[0mgroupby\u001b[0m\u001b[1;33m(\u001b[0m\u001b[0mby\u001b[0m\u001b[1;33m=\u001b[0m\u001b[1;33m[\u001b[0m\u001b[1;34m'fecha_cupon_movimiento'\u001b[0m\u001b[1;33m]\u001b[0m\u001b[1;33m,\u001b[0m \u001b[0mdropna\u001b[0m\u001b[1;33m=\u001b[0m\u001b[1;32mTrue\u001b[0m\u001b[1;33m)\u001b[0m\u001b[1;33m.\u001b[0m\u001b[0msum\u001b[0m\u001b[1;33m(\u001b[0m\u001b[1;33m)\u001b[0m\u001b[1;33m\u001b[0m\u001b[1;33m\u001b[0m\u001b[0m\n\u001b[0m",
      "\u001b[1;31mNameError\u001b[0m: name 'sf' is not defined"
     ]
    }
   ],
   "source": [
    "# Agrupa por fecha todos los montos para Plan Largo\n",
    "cols = ['fecha_cupon_movimiento', 'monto']\n",
    "sf = sf[cols].groupby(by=['fecha_cupon_movimiento'], dropna=True).sum()"
   ]
  },
  {
   "cell_type": "code",
   "execution_count": null,
   "id": "07f802bc-b7af-4479-bee2-14e3e38d6bf1",
   "metadata": {},
   "outputs": [],
   "source": [
    "sf.reset_index(inplace=True)\n",
    "sf"
   ]
  },
  {
   "cell_type": "code",
   "execution_count": null,
   "id": "e7b9af05-feed-4e0c-8ca6-d7ed89a3d305",
   "metadata": {},
   "outputs": [],
   "source": [
    "print(sf['fecha_cupon_movimiento'].max())\n",
    "print(sf['fecha_cupon_movimiento'].min())"
   ]
  },
  {
   "cell_type": "code",
   "execution_count": null,
   "id": "9b06a893-1120-47df-b632-d57ff0620e30",
   "metadata": {},
   "outputs": [],
   "source": [
    "sf.set_index('fecha_cupon_movimiento', inplace=True)\n",
    "sf"
   ]
  },
  {
   "cell_type": "markdown",
   "id": "1f973a15-a5a4-4930-91c6-ac41da147617",
   "metadata": {},
   "source": [
    "En series temporales se usa Series en lugar de Dataframe"
   ]
  },
  {
   "cell_type": "code",
   "execution_count": null,
   "id": "23398235-77c4-413e-95a0-c004fea0a3df",
   "metadata": {},
   "outputs": [],
   "source": [
    "ss = sf['monto_compra_movimiento']\n",
    "ss"
   ]
  },
  {
   "cell_type": "code",
   "execution_count": null,
   "id": "b7f29fd9-bac2-4c31-9bf3-8d517f01f969",
   "metadata": {},
   "outputs": [],
   "source": [
    "fig = plt.figure(figsize=(18, 6))\n",
    "\n",
    "ax = plt.subplot(1, 1, 1)\n",
    "ss.plot(color='dodgerblue')\n",
    "ax.set_xlabel('Dia')\n",
    "ax.set_ylabel('monto_compra_movimiento')\n",
    "ax.set_title('Comportamiento monto_compra_movimiento para PL')\n",
    "\n",
    "plt.tight_layout()\n",
    "plt.show()"
   ]
  },
  {
   "cell_type": "code",
   "execution_count": null,
   "id": "05d080f8-1cd3-40c4-bc5e-2986398da2db",
   "metadata": {},
   "outputs": [],
   "source": [
    "y_test = sf.monto_compra_movimiento.loc['2021-03-19':]\n",
    "y_train = sf[~sf.monto_compra_movimiento.isin(y_test)].monto_compra_movimiento\n"
   ]
  },
  {
   "cell_type": "code",
   "execution_count": null,
   "id": "c26428d5-4887-4146-adaa-4fbb18ae51d1",
   "metadata": {},
   "outputs": [],
   "source": [
    "print(y_test.index.max())\n",
    "print(y_test.index.min())"
   ]
  },
  {
   "cell_type": "code",
   "execution_count": null,
   "id": "ac0177d2-1822-42b8-b1be-986b64c6e1f9",
   "metadata": {},
   "outputs": [],
   "source": [
    "print(y_train.index.max())\n",
    "print(y_train.index.min())"
   ]
  },
  {
   "cell_type": "markdown",
   "id": "5babac8b-7bc5-4369-8d89-f5810aa00602",
   "metadata": {},
   "source": [
    "## Seasonal Random Walk (Seasonal Naïve)\n",
    "\n",
    "#### Descomposicion\n",
    "\n",
    "Una operación fundamental para entender el comportamiento de una serie de\n",
    " tiempo y poder determinar si se trata de una serie `estacionaria` o no\n",
    "\n",
    "La **descomposición** es una técnica que trata de descomponer una serie de tiempo en su tendencia, su estacionalidad y sus factores residuales\n",
    "\n",
    "Ejemplo de descomposición de serie de tiempo\n",
    "\n",
    "<img \n",
    "src=\"https://i.imgur.com/g0PQASf.png\" />\n"
   ]
  },
  {
   "cell_type": "code",
   "execution_count": null,
   "id": "25de84e1-bd99-408b-9c75-52413afb9f0c",
   "metadata": {},
   "outputs": [],
   "source": [
    "res = sm.tsa.seasonal_decompose(\n",
    "    sf['monto_compra_movimiento'], model='additive', freq=30\n",
    "    )\n",
    "\n",
    "fig, (ax1,ax2,ax3, ax4) = plt.subplots(4,1, figsize=(18, 14))\n",
    "\n",
    "ax1.set_title('Inbound fueatures')\n",
    "sf.monto_compra_movimiento.plot(ax=ax1, color='red')\n",
    "ax1.set_ylabel('Original')\n",
    "\n",
    "res.trend.plot(ax=ax2)\n",
    "ax2.set_ylabel('Fluctuaciones')\n",
    "\n",
    "res.resid.plot(ax=ax3)\n",
    "ax3.set_ylabel('Variaciones Irregulares')\n",
    "\n",
    "res.seasonal.plot(ax=ax4)\n",
    "ax4.set_ylabel('Variaciones Estacionales')\n",
    "plt.tight_layout()\n",
    "plt.show()"
   ]
  },
  {
   "cell_type": "markdown",
   "id": "ea82efd2-1e5e-4733-9193-b24b6b1e174c",
   "metadata": {},
   "source": [
    "## Forecast"
   ]
  },
  {
   "cell_type": "code",
   "execution_count": null,
   "id": "374b02de-4870-42d8-95e4-6fb76d570c0b",
   "metadata": {},
   "outputs": [],
   "source": [
    "model = ARIMA(\n",
    "    endog=y_train, exog=None, order=(0, 0, 1), seasonal_order=(0, 1, 0, 42)\n",
    "    ).fit()\n",
    "    "
   ]
  },
  {
   "cell_type": "code",
   "execution_count": null,
   "id": "1917b542-bf06-4d1f-bb88-c79c3705728a",
   "metadata": {},
   "outputs": [],
   "source": [
    "fig = plt.figure(figsize=(18, 12), dpi=100)\n",
    "\n",
    "ax = plt.subplot(2, 1, 1)\n",
    "y_train.tail(200).plot(ax=ax, label='Train Values', linestyle='-')\n",
    "model.fittedvalues.tail(200).plot(\n",
    "    ax=ax, label='fitted Values', marker='o', linestyle='--')\n",
    "ax.set_title('monto_compra_movimiento')\n",
    "ax.legend()\n",
    "\n",
    "plt.tight_layout()\n",
    "plt.show()"
   ]
  },
  {
   "cell_type": "code",
   "execution_count": null,
   "id": "139c726d-ac03-41a1-ad5f-cd2266622c5f",
   "metadata": {},
   "outputs": [],
   "source": [
    "# Forecast\n",
    "# 95% conf se, conf\n",
    "fc = model.forecast(steps=len(y_test), exog=y_test, alpha=0.05) \n",
    "#Make as pandas series\n",
    "fc_in = fc.reset_index(drop=True)\n",
    "fc_in.index = y_test.index"
   ]
  },
  {
   "cell_type": "code",
   "execution_count": null,
   "id": "0e917604-0d12-4fcf-924a-bb3be5a1b8fb",
   "metadata": {},
   "outputs": [],
   "source": [
    "fig = plt.figure(figsize=(18, 12))\n",
    "\n",
    "ax = plt.subplot(2, 1, 1)\n",
    "y_test.plot(ax=ax, label='actual Test')\n",
    "fc_in.plot(ax=ax, label='forecast', marker='o', linestyle='--')\n",
    "ax.set_title('Forecast vs Actuals for Inbound Features')\n",
    "ax.legend(loc='upper left', fontsize=8)\n",
    "\n",
    "plt.tight_layout()\n",
    "plt.show()"
   ]
  },
  {
   "cell_type": "code",
   "execution_count": null,
   "id": "61fd5ba2-4a4d-40d1-9724-874f80984bc4",
   "metadata": {},
   "outputs": [],
   "source": [
    "table = pd.DataFrame(\n",
    "    [(sm.tools.eval_measures.rmse(y_test, fc_in), \n",
    "      (y_test - fc_in).sem())],\n",
    "      columns=['RMSE','SE']\n",
    "      )\n",
    "table.round(3)"
   ]
  },
  {
   "cell_type": "code",
   "execution_count": null,
   "id": "79c204bc-1b57-4608-91a4-6543034408d5",
   "metadata": {},
   "outputs": [],
   "source": []
  }
 ],
 "metadata": {
  "kernelspec": {
   "display_name": "Python 3",
   "language": "python",
   "name": "python3"
  },
  "language_info": {
   "codemirror_mode": {
    "name": "ipython",
    "version": 3
   },
   "file_extension": ".py",
   "mimetype": "text/x-python",
   "name": "python",
   "nbconvert_exporter": "python",
   "pygments_lexer": "ipython3",
   "version": "3.6.13"
  }
 },
 "nbformat": 4,
 "nbformat_minor": 5
}
