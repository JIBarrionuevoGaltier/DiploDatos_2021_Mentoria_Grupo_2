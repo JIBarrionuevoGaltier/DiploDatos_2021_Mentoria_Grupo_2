{
 "cells": [
  {
   "cell_type": "markdown",
   "id": "23fb6811-f919-4985-acd4-32ef787b0129",
   "metadata": {},
   "source": [
    "# Diplomatura en Ciencia de Datos, Aprendizaje Automático y sus Aplicaciones\n",
    "\n",
    "<center>\n",
    "<img \n",
    "     src=\"http://www2.famaf.unc.edu.ar/~efernandez/egeo/img/logos/famaf.jpg\" \n",
    "     alt=\"Drawing\" \n",
    "     style=\"width:30%;\"\n",
    "/>\n",
    "</center>\n",
    "\n",
    "# Universidad Nacional de Córdoba\n",
    "---"
   ]
  },
  {
   "cell_type": "markdown",
   "id": "3c8c69a1-85b1-4047-a6b9-3254e07714bc",
   "metadata": {},
   "source": [
    "### Importación de librerías"
   ]
  },
  {
   "cell_type": "code",
   "execution_count": 1,
   "id": "723ef3b3-5891-4e7b-894e-023b46ac0b69",
   "metadata": {},
   "outputs": [],
   "source": [
    "import warnings\n",
    "import datetime\n",
    "\n",
    "import numpy as np\n",
    "import pandas as pd\n",
    "import seaborn as sns\n",
    "import statsmodels.api as sm\n",
    "import matplotlib.pyplot as plt\n",
    "import math\n",
    "\n",
    "from sklearn.model_selection import train_test_split\n",
    "from sklearn.model_selection import GridSearchCV\n",
    "from sklearn.feature_selection import SelectFromModel\n",
    "from sklearn.preprocessing import MaxAbsScaler\n",
    "from sklearn.preprocessing import MinMaxScaler\n",
    "from sklearn.preprocessing import StandardScaler\n",
    "from sklearn.preprocessing import OneHotEncoder\n",
    "from sklearn.compose import ColumnTransformer\n",
    "from sklearn.pipeline import make_pipeline\n",
    "from sklearn.pipeline import Pipeline\n",
    "from sklearn.metrics import mean_squared_error\n",
    "from sklearn.metrics import mean_absolute_error\n",
    "\n",
    "from scipy import stats\n",
    "from statsmodels.tsa.arima.model import ARIMA\n",
    "from statsmodels.tsa.holtwinters import SimpleExpSmoothing\n",
    "\n",
    "from xgboost import XGBRegressor\n",
    "from sklearn.ensemble import ExtraTreesClassifier\n",
    "from sklearn.svm import LinearSVR\n",
    "\n",
    "from pandas.plotting import lag_plot\n",
    "\n",
    "import pyarrow\n",
    "import fastparquet\n",
    "\n",
    "import statsmodels"
   ]
  },
  {
   "cell_type": "markdown",
   "id": "702285b3-5dbb-4f9a-9e9f-156566bfcd2a",
   "metadata": {},
   "source": [
    "### Lectura del dataset "
   ]
  },
  {
   "cell_type": "code",
   "execution_count": 2,
   "id": "32c67db3-7952-448d-a587-963e6595f46e",
   "metadata": {},
   "outputs": [
    {
     "data": {
      "text/html": [
       "<div>\n",
       "<style scoped>\n",
       "    .dataframe tbody tr th:only-of-type {\n",
       "        vertical-align: middle;\n",
       "    }\n",
       "\n",
       "    .dataframe tbody tr th {\n",
       "        vertical-align: top;\n",
       "    }\n",
       "\n",
       "    .dataframe thead th {\n",
       "        text-align: right;\n",
       "    }\n",
       "</style>\n",
       "<table border=\"1\" class=\"dataframe\">\n",
       "  <thead>\n",
       "    <tr style=\"text-align: right;\">\n",
       "      <th></th>\n",
       "      <th>dni_titular_movimiento</th>\n",
       "      <th>fecha_cupon_movimiento</th>\n",
       "      <th>moneda_movimiento</th>\n",
       "      <th>producto_naranja_movimiento</th>\n",
       "      <th>tipo_producto_tarjeta_movimiento</th>\n",
       "      <th>anio_mes_cupon</th>\n",
       "      <th>sexo_descripcion</th>\n",
       "      <th>monto_ajustado</th>\n",
       "      <th>cargo_sector_desc_hist</th>\n",
       "      <th>edad_cliente</th>\n",
       "      <th>antig_cliente</th>\n",
       "      <th>comercio_cat</th>\n",
       "      <th>estado_civil_cat</th>\n",
       "      <th>region</th>\n",
       "    </tr>\n",
       "  </thead>\n",
       "  <tbody>\n",
       "    <tr>\n",
       "      <th>0</th>\n",
       "      <td>0001686b52949b5461ffcbc766687e45031</td>\n",
       "      <td>2020-08-25</td>\n",
       "      <td>0</td>\n",
       "      <td>PL</td>\n",
       "      <td>0</td>\n",
       "      <td>202008</td>\n",
       "      <td>Hombre</td>\n",
       "      <td>5.52</td>\n",
       "      <td>Sector_Empleado_Comercio</td>\n",
       "      <td>61.0</td>\n",
       "      <td>92</td>\n",
       "      <td>0</td>\n",
       "      <td>Otros</td>\n",
       "      <td>REGION PAMPEANA</td>\n",
       "    </tr>\n",
       "    <tr>\n",
       "      <th>1</th>\n",
       "      <td>000220fa96ec5af89817894033f8099c547</td>\n",
       "      <td>2020-08-25</td>\n",
       "      <td>0</td>\n",
       "      <td>PL</td>\n",
       "      <td>0</td>\n",
       "      <td>202008</td>\n",
       "      <td>Mujer</td>\n",
       "      <td>15.68</td>\n",
       "      <td>Sector_Sin_Datos</td>\n",
       "      <td>29.0</td>\n",
       "      <td>2</td>\n",
       "      <td>0</td>\n",
       "      <td>Sin_datos</td>\n",
       "      <td>REGION CUYO</td>\n",
       "    </tr>\n",
       "    <tr>\n",
       "      <th>2</th>\n",
       "      <td>0002be202de47dfae9cc2304d91161be595</td>\n",
       "      <td>2020-08-25</td>\n",
       "      <td>0</td>\n",
       "      <td>PL</td>\n",
       "      <td>0</td>\n",
       "      <td>202008</td>\n",
       "      <td>Mujer</td>\n",
       "      <td>5.46</td>\n",
       "      <td>Sector_Sin_Datos</td>\n",
       "      <td>28.0</td>\n",
       "      <td>95</td>\n",
       "      <td>0</td>\n",
       "      <td>Soltero</td>\n",
       "      <td>REGION PAMPEANA</td>\n",
       "    </tr>\n",
       "    <tr>\n",
       "      <th>3</th>\n",
       "      <td>000e137d0af42e193be1ff670c00d4d1506</td>\n",
       "      <td>2020-08-25</td>\n",
       "      <td>0</td>\n",
       "      <td>PL</td>\n",
       "      <td>0</td>\n",
       "      <td>202008</td>\n",
       "      <td>Hombre</td>\n",
       "      <td>2.50</td>\n",
       "      <td>Sector_Empleado_Comercio</td>\n",
       "      <td>40.0</td>\n",
       "      <td>151</td>\n",
       "      <td>0</td>\n",
       "      <td>Soltero</td>\n",
       "      <td>REGION PAMPEANA</td>\n",
       "    </tr>\n",
       "    <tr>\n",
       "      <th>4</th>\n",
       "      <td>0009d010e4faf69552a814a33832b185877</td>\n",
       "      <td>2020-08-25</td>\n",
       "      <td>0</td>\n",
       "      <td>PL</td>\n",
       "      <td>0</td>\n",
       "      <td>202008</td>\n",
       "      <td>Mujer</td>\n",
       "      <td>2.10</td>\n",
       "      <td>Sector_Empleado_Comercio</td>\n",
       "      <td>36.0</td>\n",
       "      <td>87</td>\n",
       "      <td>0</td>\n",
       "      <td>Soltero</td>\n",
       "      <td>REGION PAMPEANA</td>\n",
       "    </tr>\n",
       "    <tr>\n",
       "      <th>...</th>\n",
       "      <td>...</td>\n",
       "      <td>...</td>\n",
       "      <td>...</td>\n",
       "      <td>...</td>\n",
       "      <td>...</td>\n",
       "      <td>...</td>\n",
       "      <td>...</td>\n",
       "      <td>...</td>\n",
       "      <td>...</td>\n",
       "      <td>...</td>\n",
       "      <td>...</td>\n",
       "      <td>...</td>\n",
       "      <td>...</td>\n",
       "      <td>...</td>\n",
       "    </tr>\n",
       "    <tr>\n",
       "      <th>124309</th>\n",
       "      <td>0001f61dd2845a7e653ebfdaf22dab3b373</td>\n",
       "      <td>2021-05-14</td>\n",
       "      <td>0</td>\n",
       "      <td>PC</td>\n",
       "      <td>3</td>\n",
       "      <td>202105</td>\n",
       "      <td>Mujer</td>\n",
       "      <td>20329.24</td>\n",
       "      <td>Sector_Empleado_Comercio</td>\n",
       "      <td>48.0</td>\n",
       "      <td>98</td>\n",
       "      <td>0</td>\n",
       "      <td>Casado</td>\n",
       "      <td>REGION PATAGONIA</td>\n",
       "    </tr>\n",
       "    <tr>\n",
       "      <th>124310</th>\n",
       "      <td>0001f61dd2845a7e653ebfdaf22dab3b373</td>\n",
       "      <td>2021-05-14</td>\n",
       "      <td>0</td>\n",
       "      <td>PC</td>\n",
       "      <td>3</td>\n",
       "      <td>202105</td>\n",
       "      <td>Mujer</td>\n",
       "      <td>20329.24</td>\n",
       "      <td>Sector_Empleado_Comercio</td>\n",
       "      <td>48.0</td>\n",
       "      <td>98</td>\n",
       "      <td>0</td>\n",
       "      <td>Casado</td>\n",
       "      <td>REGION PATAGONIA</td>\n",
       "    </tr>\n",
       "    <tr>\n",
       "      <th>124311</th>\n",
       "      <td>0006c15ca823454b68c189da1344d9d7317</td>\n",
       "      <td>2021-05-14</td>\n",
       "      <td>0</td>\n",
       "      <td>PC</td>\n",
       "      <td>3</td>\n",
       "      <td>202105</td>\n",
       "      <td>Hombre</td>\n",
       "      <td>13210.67</td>\n",
       "      <td>Sector_No_Operativo</td>\n",
       "      <td>66.0</td>\n",
       "      <td>105</td>\n",
       "      <td>0</td>\n",
       "      <td>Casado</td>\n",
       "      <td>REGION NORDESTE</td>\n",
       "    </tr>\n",
       "    <tr>\n",
       "      <th>124312</th>\n",
       "      <td>0000ab27a0ed815f947df8bcb834ff97975</td>\n",
       "      <td>2021-05-03</td>\n",
       "      <td>0</td>\n",
       "      <td>PC</td>\n",
       "      <td>3</td>\n",
       "      <td>202105</td>\n",
       "      <td>Hombre</td>\n",
       "      <td>121.73</td>\n",
       "      <td>Sector_Empleado_Comercio</td>\n",
       "      <td>74.0</td>\n",
       "      <td>140</td>\n",
       "      <td>0</td>\n",
       "      <td>Soltero</td>\n",
       "      <td>REGION NOROESTE</td>\n",
       "    </tr>\n",
       "    <tr>\n",
       "      <th>124313</th>\n",
       "      <td>0000ab27a0ed815f947df8bcb834ff97975</td>\n",
       "      <td>2021-05-03</td>\n",
       "      <td>0</td>\n",
       "      <td>PC</td>\n",
       "      <td>3</td>\n",
       "      <td>202105</td>\n",
       "      <td>Hombre</td>\n",
       "      <td>12284.16</td>\n",
       "      <td>Sector_Empleado_Comercio</td>\n",
       "      <td>74.0</td>\n",
       "      <td>140</td>\n",
       "      <td>0</td>\n",
       "      <td>Soltero</td>\n",
       "      <td>REGION NOROESTE</td>\n",
       "    </tr>\n",
       "  </tbody>\n",
       "</table>\n",
       "<p>114212 rows × 14 columns</p>\n",
       "</div>"
      ],
      "text/plain": [
       "                     dni_titular_movimiento fecha_cupon_movimiento  \\\n",
       "0       0001686b52949b5461ffcbc766687e45031             2020-08-25   \n",
       "1       000220fa96ec5af89817894033f8099c547             2020-08-25   \n",
       "2       0002be202de47dfae9cc2304d91161be595             2020-08-25   \n",
       "3       000e137d0af42e193be1ff670c00d4d1506             2020-08-25   \n",
       "4       0009d010e4faf69552a814a33832b185877             2020-08-25   \n",
       "...                                     ...                    ...   \n",
       "124309  0001f61dd2845a7e653ebfdaf22dab3b373             2021-05-14   \n",
       "124310  0001f61dd2845a7e653ebfdaf22dab3b373             2021-05-14   \n",
       "124311  0006c15ca823454b68c189da1344d9d7317             2021-05-14   \n",
       "124312  0000ab27a0ed815f947df8bcb834ff97975             2021-05-03   \n",
       "124313  0000ab27a0ed815f947df8bcb834ff97975             2021-05-03   \n",
       "\n",
       "        moneda_movimiento producto_naranja_movimiento  \\\n",
       "0                       0                          PL   \n",
       "1                       0                          PL   \n",
       "2                       0                          PL   \n",
       "3                       0                          PL   \n",
       "4                       0                          PL   \n",
       "...                   ...                         ...   \n",
       "124309                  0                          PC   \n",
       "124310                  0                          PC   \n",
       "124311                  0                          PC   \n",
       "124312                  0                          PC   \n",
       "124313                  0                          PC   \n",
       "\n",
       "       tipo_producto_tarjeta_movimiento  anio_mes_cupon sexo_descripcion  \\\n",
       "0                                     0          202008           Hombre   \n",
       "1                                     0          202008            Mujer   \n",
       "2                                     0          202008            Mujer   \n",
       "3                                     0          202008           Hombre   \n",
       "4                                     0          202008            Mujer   \n",
       "...                                 ...             ...              ...   \n",
       "124309                                3          202105            Mujer   \n",
       "124310                                3          202105            Mujer   \n",
       "124311                                3          202105           Hombre   \n",
       "124312                                3          202105           Hombre   \n",
       "124313                                3          202105           Hombre   \n",
       "\n",
       "        monto_ajustado    cargo_sector_desc_hist  edad_cliente  antig_cliente  \\\n",
       "0                 5.52  Sector_Empleado_Comercio          61.0             92   \n",
       "1                15.68          Sector_Sin_Datos          29.0              2   \n",
       "2                 5.46          Sector_Sin_Datos          28.0             95   \n",
       "3                 2.50  Sector_Empleado_Comercio          40.0            151   \n",
       "4                 2.10  Sector_Empleado_Comercio          36.0             87   \n",
       "...                ...                       ...           ...            ...   \n",
       "124309        20329.24  Sector_Empleado_Comercio          48.0             98   \n",
       "124310        20329.24  Sector_Empleado_Comercio          48.0             98   \n",
       "124311        13210.67       Sector_No_Operativo          66.0            105   \n",
       "124312          121.73  Sector_Empleado_Comercio          74.0            140   \n",
       "124313        12284.16  Sector_Empleado_Comercio          74.0            140   \n",
       "\n",
       "       comercio_cat estado_civil_cat            region  \n",
       "0                 0            Otros   REGION PAMPEANA  \n",
       "1                 0        Sin_datos       REGION CUYO  \n",
       "2                 0          Soltero   REGION PAMPEANA  \n",
       "3                 0          Soltero   REGION PAMPEANA  \n",
       "4                 0          Soltero   REGION PAMPEANA  \n",
       "...             ...              ...               ...  \n",
       "124309            0           Casado  REGION PATAGONIA  \n",
       "124310            0           Casado  REGION PATAGONIA  \n",
       "124311            0           Casado   REGION NORDESTE  \n",
       "124312            0          Soltero   REGION NOROESTE  \n",
       "124313            0          Soltero   REGION NOROESTE  \n",
       "\n",
       "[114212 rows x 14 columns]"
      ]
     },
     "execution_count": 2,
     "metadata": {},
     "output_type": "execute_result"
    }
   ],
   "source": [
    "df = pd.read_parquet('../notebooks_tp2/sin_codificar.parquet')\n",
    "df"
   ]
  },
  {
   "cell_type": "markdown",
   "id": "d27882da-bdb0-427f-8bd9-dff6bb1a99b2",
   "metadata": {},
   "source": [
    "Ordenamos nuestro conjunto de datos en función a la variable anio_mes_cupon."
   ]
  },
  {
   "cell_type": "code",
   "execution_count": 3,
   "id": "d2452f54-95cf-425b-bee8-95176fad9b4b",
   "metadata": {},
   "outputs": [
    {
     "data": {
      "text/html": [
       "<div>\n",
       "<style scoped>\n",
       "    .dataframe tbody tr th:only-of-type {\n",
       "        vertical-align: middle;\n",
       "    }\n",
       "\n",
       "    .dataframe tbody tr th {\n",
       "        vertical-align: top;\n",
       "    }\n",
       "\n",
       "    .dataframe thead th {\n",
       "        text-align: right;\n",
       "    }\n",
       "</style>\n",
       "<table border=\"1\" class=\"dataframe\">\n",
       "  <thead>\n",
       "    <tr style=\"text-align: right;\">\n",
       "      <th></th>\n",
       "      <th>dni_titular_movimiento</th>\n",
       "      <th>fecha_cupon_movimiento</th>\n",
       "      <th>moneda_movimiento</th>\n",
       "      <th>producto_naranja_movimiento</th>\n",
       "      <th>tipo_producto_tarjeta_movimiento</th>\n",
       "      <th>anio_mes_cupon</th>\n",
       "      <th>sexo_descripcion</th>\n",
       "      <th>monto_ajustado</th>\n",
       "      <th>cargo_sector_desc_hist</th>\n",
       "      <th>edad_cliente</th>\n",
       "      <th>antig_cliente</th>\n",
       "      <th>comercio_cat</th>\n",
       "      <th>estado_civil_cat</th>\n",
       "      <th>region</th>\n",
       "    </tr>\n",
       "  </thead>\n",
       "  <tbody>\n",
       "    <tr>\n",
       "      <th>105152</th>\n",
       "      <td>000821b0a8bdb0450e97298899adc5a3652</td>\n",
       "      <td>2020-07-30</td>\n",
       "      <td>3</td>\n",
       "      <td>PL</td>\n",
       "      <td>3</td>\n",
       "      <td>202007</td>\n",
       "      <td>Hombre</td>\n",
       "      <td>28.99</td>\n",
       "      <td>Sector_Empleado_Comercio</td>\n",
       "      <td>36.0</td>\n",
       "      <td>122</td>\n",
       "      <td>6</td>\n",
       "      <td>Soltero</td>\n",
       "      <td>REGION NOROESTE</td>\n",
       "    </tr>\n",
       "    <tr>\n",
       "      <th>101268</th>\n",
       "      <td>0003a7e1566088a9a9b1fc374c49ef4e389</td>\n",
       "      <td>2020-07-29</td>\n",
       "      <td>0</td>\n",
       "      <td>VI</td>\n",
       "      <td>22</td>\n",
       "      <td>202007</td>\n",
       "      <td>Hombre</td>\n",
       "      <td>1319.95</td>\n",
       "      <td>Sector_Sin_Datos</td>\n",
       "      <td>50.0</td>\n",
       "      <td>45</td>\n",
       "      <td>9</td>\n",
       "      <td>Casado</td>\n",
       "      <td>REGION PAMPEANA</td>\n",
       "    </tr>\n",
       "    <tr>\n",
       "      <th>101267</th>\n",
       "      <td>000802e16e0ea151e8c748d14042412c907</td>\n",
       "      <td>2020-07-23</td>\n",
       "      <td>0</td>\n",
       "      <td>VI</td>\n",
       "      <td>22</td>\n",
       "      <td>202007</td>\n",
       "      <td>Mujer</td>\n",
       "      <td>1304.35</td>\n",
       "      <td>Sector_Empleado_Comercio</td>\n",
       "      <td>52.0</td>\n",
       "      <td>241</td>\n",
       "      <td>9</td>\n",
       "      <td>Casado</td>\n",
       "      <td>REGION PATAGONIA</td>\n",
       "    </tr>\n",
       "    <tr>\n",
       "      <th>101266</th>\n",
       "      <td>0000df1c1ff76e859bdc85a831744d84018</td>\n",
       "      <td>2020-07-29</td>\n",
       "      <td>0</td>\n",
       "      <td>VI</td>\n",
       "      <td>22</td>\n",
       "      <td>202007</td>\n",
       "      <td>Mujer</td>\n",
       "      <td>2925.72</td>\n",
       "      <td>Sector_Sin_Datos</td>\n",
       "      <td>52.0</td>\n",
       "      <td>44</td>\n",
       "      <td>9</td>\n",
       "      <td>Casado</td>\n",
       "      <td>REGION PAMPEANA</td>\n",
       "    </tr>\n",
       "    <tr>\n",
       "      <th>101265</th>\n",
       "      <td>00076b06d9e78dbf994474315801d3a0296</td>\n",
       "      <td>2020-07-31</td>\n",
       "      <td>0</td>\n",
       "      <td>VI</td>\n",
       "      <td>22</td>\n",
       "      <td>202007</td>\n",
       "      <td>Mujer</td>\n",
       "      <td>2880.43</td>\n",
       "      <td>Sector_Empleado_Comercio</td>\n",
       "      <td>57.0</td>\n",
       "      <td>93</td>\n",
       "      <td>9</td>\n",
       "      <td>Casado</td>\n",
       "      <td>REGION PAMPEANA</td>\n",
       "    </tr>\n",
       "    <tr>\n",
       "      <th>...</th>\n",
       "      <td>...</td>\n",
       "      <td>...</td>\n",
       "      <td>...</td>\n",
       "      <td>...</td>\n",
       "      <td>...</td>\n",
       "      <td>...</td>\n",
       "      <td>...</td>\n",
       "      <td>...</td>\n",
       "      <td>...</td>\n",
       "      <td>...</td>\n",
       "      <td>...</td>\n",
       "      <td>...</td>\n",
       "      <td>...</td>\n",
       "      <td>...</td>\n",
       "    </tr>\n",
       "    <tr>\n",
       "      <th>6100</th>\n",
       "      <td>000a9fa6856d6d70da80b3320cbb7a58581</td>\n",
       "      <td>2021-05-25</td>\n",
       "      <td>0</td>\n",
       "      <td>PL</td>\n",
       "      <td>0</td>\n",
       "      <td>202105</td>\n",
       "      <td>Hombre</td>\n",
       "      <td>2660.35</td>\n",
       "      <td>Sector_Sin_Datos</td>\n",
       "      <td>33.0</td>\n",
       "      <td>5</td>\n",
       "      <td>0</td>\n",
       "      <td>Soltero</td>\n",
       "      <td>REGION NOROESTE</td>\n",
       "    </tr>\n",
       "    <tr>\n",
       "      <th>112579</th>\n",
       "      <td>000048290a3054197cc33ba82633d7c3628</td>\n",
       "      <td>2021-05-05</td>\n",
       "      <td>0</td>\n",
       "      <td>PC</td>\n",
       "      <td>3</td>\n",
       "      <td>202105</td>\n",
       "      <td>Hombre</td>\n",
       "      <td>17117.80</td>\n",
       "      <td>Sector_No_Operativo</td>\n",
       "      <td>80.0</td>\n",
       "      <td>91</td>\n",
       "      <td>0</td>\n",
       "      <td>Soltero</td>\n",
       "      <td>REGION PAMPEANA</td>\n",
       "    </tr>\n",
       "    <tr>\n",
       "      <th>124313</th>\n",
       "      <td>0000ab27a0ed815f947df8bcb834ff97975</td>\n",
       "      <td>2021-05-03</td>\n",
       "      <td>0</td>\n",
       "      <td>PC</td>\n",
       "      <td>3</td>\n",
       "      <td>202105</td>\n",
       "      <td>Hombre</td>\n",
       "      <td>12284.16</td>\n",
       "      <td>Sector_Empleado_Comercio</td>\n",
       "      <td>74.0</td>\n",
       "      <td>140</td>\n",
       "      <td>0</td>\n",
       "      <td>Soltero</td>\n",
       "      <td>REGION NOROESTE</td>\n",
       "    </tr>\n",
       "    <tr>\n",
       "      <th>11978</th>\n",
       "      <td>0007d3573a085abc49ede83321981a7d760</td>\n",
       "      <td>2021-05-25</td>\n",
       "      <td>1</td>\n",
       "      <td>PL</td>\n",
       "      <td>0</td>\n",
       "      <td>202106</td>\n",
       "      <td>Mujer</td>\n",
       "      <td>-9.00</td>\n",
       "      <td>Sector_Sin_Datos</td>\n",
       "      <td>50.0</td>\n",
       "      <td>181</td>\n",
       "      <td>0</td>\n",
       "      <td>Casado</td>\n",
       "      <td>REGION PAMPEANA</td>\n",
       "    </tr>\n",
       "    <tr>\n",
       "      <th>11977</th>\n",
       "      <td>0007d3573a085abc49ede83321981a7d760</td>\n",
       "      <td>2021-05-25</td>\n",
       "      <td>1</td>\n",
       "      <td>PL</td>\n",
       "      <td>0</td>\n",
       "      <td>202106</td>\n",
       "      <td>Mujer</td>\n",
       "      <td>-9.00</td>\n",
       "      <td>Sector_Sin_Datos</td>\n",
       "      <td>50.0</td>\n",
       "      <td>181</td>\n",
       "      <td>0</td>\n",
       "      <td>Casado</td>\n",
       "      <td>REGION PAMPEANA</td>\n",
       "    </tr>\n",
       "  </tbody>\n",
       "</table>\n",
       "<p>114212 rows × 14 columns</p>\n",
       "</div>"
      ],
      "text/plain": [
       "                     dni_titular_movimiento fecha_cupon_movimiento  \\\n",
       "105152  000821b0a8bdb0450e97298899adc5a3652             2020-07-30   \n",
       "101268  0003a7e1566088a9a9b1fc374c49ef4e389             2020-07-29   \n",
       "101267  000802e16e0ea151e8c748d14042412c907             2020-07-23   \n",
       "101266  0000df1c1ff76e859bdc85a831744d84018             2020-07-29   \n",
       "101265  00076b06d9e78dbf994474315801d3a0296             2020-07-31   \n",
       "...                                     ...                    ...   \n",
       "6100    000a9fa6856d6d70da80b3320cbb7a58581             2021-05-25   \n",
       "112579  000048290a3054197cc33ba82633d7c3628             2021-05-05   \n",
       "124313  0000ab27a0ed815f947df8bcb834ff97975             2021-05-03   \n",
       "11978   0007d3573a085abc49ede83321981a7d760             2021-05-25   \n",
       "11977   0007d3573a085abc49ede83321981a7d760             2021-05-25   \n",
       "\n",
       "        moneda_movimiento producto_naranja_movimiento  \\\n",
       "105152                  3                          PL   \n",
       "101268                  0                          VI   \n",
       "101267                  0                          VI   \n",
       "101266                  0                          VI   \n",
       "101265                  0                          VI   \n",
       "...                   ...                         ...   \n",
       "6100                    0                          PL   \n",
       "112579                  0                          PC   \n",
       "124313                  0                          PC   \n",
       "11978                   1                          PL   \n",
       "11977                   1                          PL   \n",
       "\n",
       "       tipo_producto_tarjeta_movimiento  anio_mes_cupon sexo_descripcion  \\\n",
       "105152                                3          202007           Hombre   \n",
       "101268                               22          202007           Hombre   \n",
       "101267                               22          202007            Mujer   \n",
       "101266                               22          202007            Mujer   \n",
       "101265                               22          202007            Mujer   \n",
       "...                                 ...             ...              ...   \n",
       "6100                                  0          202105           Hombre   \n",
       "112579                                3          202105           Hombre   \n",
       "124313                                3          202105           Hombre   \n",
       "11978                                 0          202106            Mujer   \n",
       "11977                                 0          202106            Mujer   \n",
       "\n",
       "        monto_ajustado    cargo_sector_desc_hist  edad_cliente  antig_cliente  \\\n",
       "105152           28.99  Sector_Empleado_Comercio          36.0            122   \n",
       "101268         1319.95          Sector_Sin_Datos          50.0             45   \n",
       "101267         1304.35  Sector_Empleado_Comercio          52.0            241   \n",
       "101266         2925.72          Sector_Sin_Datos          52.0             44   \n",
       "101265         2880.43  Sector_Empleado_Comercio          57.0             93   \n",
       "...                ...                       ...           ...            ...   \n",
       "6100           2660.35          Sector_Sin_Datos          33.0              5   \n",
       "112579        17117.80       Sector_No_Operativo          80.0             91   \n",
       "124313        12284.16  Sector_Empleado_Comercio          74.0            140   \n",
       "11978            -9.00          Sector_Sin_Datos          50.0            181   \n",
       "11977            -9.00          Sector_Sin_Datos          50.0            181   \n",
       "\n",
       "       comercio_cat estado_civil_cat            region  \n",
       "105152            6          Soltero   REGION NOROESTE  \n",
       "101268            9           Casado   REGION PAMPEANA  \n",
       "101267            9           Casado  REGION PATAGONIA  \n",
       "101266            9           Casado   REGION PAMPEANA  \n",
       "101265            9           Casado   REGION PAMPEANA  \n",
       "...             ...              ...               ...  \n",
       "6100              0          Soltero   REGION NOROESTE  \n",
       "112579            0          Soltero   REGION PAMPEANA  \n",
       "124313            0          Soltero   REGION NOROESTE  \n",
       "11978             0           Casado   REGION PAMPEANA  \n",
       "11977             0           Casado   REGION PAMPEANA  \n",
       "\n",
       "[114212 rows x 14 columns]"
      ]
     },
     "execution_count": 3,
     "metadata": {},
     "output_type": "execute_result"
    }
   ],
   "source": [
    "df = df.sort_values(by = ['anio_mes_cupon'], ascending = True)\n",
    "df"
   ]
  },
  {
   "cell_type": "code",
   "execution_count": 4,
   "id": "d38a02c0-c974-49d1-83c4-c239df55b6b6",
   "metadata": {},
   "outputs": [
    {
     "data": {
      "text/plain": [
       "count    114212.00\n",
       "mean       1576.89\n",
       "std        4119.05\n",
       "min      -35117.69\n",
       "25%          83.89\n",
       "50%         266.39\n",
       "75%        1261.19\n",
       "max       63616.14\n",
       "Name: monto_ajustado, dtype: float64"
      ]
     },
     "execution_count": 4,
     "metadata": {},
     "output_type": "execute_result"
    }
   ],
   "source": [
    "df['monto_ajustado'].describe().round(2)"
   ]
  },
  {
   "cell_type": "markdown",
   "id": "a1f5287f-2173-4b21-8e36-372f01a6cf8d",
   "metadata": {},
   "source": [
    "Distribución de nuestro target respecto a nuestros features"
   ]
  },
  {
   "cell_type": "markdown",
   "id": "e14a3e4e-8744-48c4-8111-ec991a22b267",
   "metadata": {},
   "source": [
    "### ScatterPlot de Features y Target"
   ]
  },
  {
   "cell_type": "code",
   "execution_count": 5,
   "id": "d4ffc713-acbe-4a49-924f-93de12960bf5",
   "metadata": {},
   "outputs": [],
   "source": [
    "df_sin_docu = df.copy()\n",
    "df_sin_docu.drop(columns=['dni_titular_movimiento','monto_ajustado'], inplace=True)\n",
    "df_sin_docu['monto_ajustado'] = df['monto_ajustado']"
   ]
  },
  {
   "cell_type": "code",
   "execution_count": 6,
   "id": "01d0a7fc-df44-4d48-9c24-5759b6809b53",
   "metadata": {},
   "outputs": [
    {
     "data": {
      "text/plain": [
       "array(['fecha_cupon_movimiento', 'moneda_movimiento',\n",
       "       'producto_naranja_movimiento', 'tipo_producto_tarjeta_movimiento',\n",
       "       'anio_mes_cupon', 'sexo_descripcion', 'cargo_sector_desc_hist',\n",
       "       'edad_cliente', 'antig_cliente', 'comercio_cat',\n",
       "       'estado_civil_cat', 'region'], dtype=object)"
      ]
     },
     "execution_count": 6,
     "metadata": {},
     "output_type": "execute_result"
    }
   ],
   "source": [
    "col_x = df_sin_docu.iloc[:,:-1].columns.values\n",
    "col_x"
   ]
  },
  {
   "cell_type": "code",
   "execution_count": 7,
   "id": "c919b388-607d-49e4-8112-3979160b097c",
   "metadata": {
    "tags": []
   },
   "outputs": [
    {
     "data": {
      "image/png": "[encoded data removed]",
      "text/plain": [
       "<Figure size 1440x2160 with 12 Axes>"
      ]
     },
     "metadata": {
      "needs_background": "light"
     },
     "output_type": "display_data"
    }
   ],
   "source": [
    "n_cols = 3\n",
    "n_rows = math.ceil(len(col_x)/3)\n",
    "fig, axs = plt.subplots(n_rows, n_cols, figsize=(20, 30))\n",
    "count = 0\n",
    "for i in col_x:    \n",
    "    # Calculamos filas y columnas\n",
    "    row = math.floor(count / n_cols)\n",
    "    col = count % n_cols\n",
    "    # Configuramos visualización\n",
    "    ax = axs[row, col]\n",
    "    # Visualizamos la distribución de variable\n",
    "    sns.scatterplot(data=df_sin_docu, x=i, y='monto_ajustado', ax=ax)\n",
    "    count =count +1\n",
    "\n",
    "axs[n_rows-1,n_cols-1].axis('off')\n",
    "plt.show()"
   ]
  },
  {
   "cell_type": "markdown",
   "id": "c9dd4789-87d5-4a7b-9e58-777d598bfe42",
   "metadata": {},
   "source": [
    "### Agrupación por Fecha y por Mes"
   ]
  },
  {
   "cell_type": "code",
   "execution_count": 8,
   "id": "b4ccca51-c3c2-47ad-b241-401a9963d60d",
   "metadata": {},
   "outputs": [],
   "source": [
    "# df.loc[:,'fecha_cupon_movimiento'] = pd.to_datetime(df['fecha_cupon_movimiento']).astype(int)/10**11  >> Me daba error \"Juani\"\n",
    "df.loc[:,'fecha_cupon_movimiento'] = df['fecha_cupon_movimiento'].values.astype(float)/10**11"
   ]
  },
  {
   "cell_type": "code",
   "execution_count": 9,
   "id": "0a257f9d-149e-45d2-9fda-474b91e0533a",
   "metadata": {},
   "outputs": [],
   "source": [
    "df.loc[:, 'moneda_movimiento'] = df['moneda_movimiento'].astype(str)"
   ]
  },
  {
   "cell_type": "code",
   "execution_count": 10,
   "id": "a2f34d4f-c9bb-48d0-9a32-d6ef03cc2ea0",
   "metadata": {},
   "outputs": [
    {
     "data": {
      "text/plain": [
       "dni_titular_movimiento               object\n",
       "fecha_cupon_movimiento              float64\n",
       "moneda_movimiento                    object\n",
       "producto_naranja_movimiento          object\n",
       "tipo_producto_tarjeta_movimiento     object\n",
       "anio_mes_cupon                        int64\n",
       "sexo_descripcion                     object\n",
       "monto_ajustado                      float64\n",
       "cargo_sector_desc_hist               object\n",
       "edad_cliente                        float64\n",
       "antig_cliente                         int64\n",
       "comercio_cat                         object\n",
       "estado_civil_cat                     object\n",
       "region                               object\n",
       "dtype: object"
      ]
     },
     "execution_count": 10,
     "metadata": {},
     "output_type": "execute_result"
    }
   ],
   "source": [
    "df.dtypes"
   ]
  },
  {
   "cell_type": "code",
   "execution_count": 11,
   "id": "35571a81-bfe0-4d5a-bbfd-98574d2f940d",
   "metadata": {},
   "outputs": [],
   "source": [
    "ordinal_ft = 'dni_titular_movimiento'\n",
    "target = 'monto_ajustado'\n",
    "\n",
    "# Features numericas\n",
    "num_features = ['anio_mes_cupon', 'edad_cliente', 'antig_cliente', 'fecha_cupon_movimiento']\n",
    "\n",
    "# Features categoricas de la transaccion\n",
    "trans_ft = ['producto_naranja_movimiento', 'tipo_producto_tarjeta_movimiento', 'moneda_movimiento', 'comercio_cat']\n",
    "\n",
    "# Features categoricas del cliente\n",
    "client_ft = ['sexo_descripcion', 'cargo_sector_desc_hist', 'estado_civil_cat', 'region']"
   ]
  },
  {
   "cell_type": "code",
   "execution_count": 12,
   "id": "16c84cf4-caec-4394-9251-16f529a3bf7d",
   "metadata": {},
   "outputs": [
    {
     "data": {
      "text/plain": [
       "(114212, 55)"
      ]
     },
     "execution_count": 12,
     "metadata": {},
     "output_type": "execute_result"
    }
   ],
   "source": [
    "df = df.sort_values(by = ['fecha_cupon_movimiento'], ascending = True)\n",
    "\n",
    "cat_transformer = OneHotEncoder(handle_unknown='ignore')\n",
    "\n",
    "encoder = ColumnTransformer(\n",
    "    transformers=[\n",
    "        ('dni', 'drop', [ordinal_ft]),\n",
    "        ('num', 'passthrough', num_features),\n",
    "        ('trans', cat_transformer, trans_ft),\n",
    "        ('client', cat_transformer, client_ft),\n",
    "        ('target', 'passthrough', [target])])\n",
    "df_enc = encoder.fit_transform(df)\n",
    "cols = encoder.get_feature_names()\n",
    "\n",
    "df_enc.shape"
   ]
  },
  {
   "cell_type": "code",
   "execution_count": 13,
   "id": "f2340430-228e-4131-84ba-924934b770b8",
   "metadata": {},
   "outputs": [],
   "source": [
    "df_enc = pd.DataFrame.sparse.from_spmatrix(df_enc, columns=[cols]).sparse.to_dense()"
   ]
  },
  {
   "cell_type": "code",
   "execution_count": 14,
   "id": "f67c76a8-f268-4b63-bbb4-74b656d5d9b0",
   "metadata": {
    "tags": []
   },
   "outputs": [],
   "source": [
    "# Agregar feature ordinal al principio del dataframe\n",
    "cols_o = np.hstack([[ordinal_ft],cols])\n",
    "df_stack = np.hstack([df[[ordinal_ft]],df_enc])\n",
    "df_encode = pd.DataFrame(df_stack , columns=cols_o)\n",
    "\n",
    "# Funciones de agregacion para cada columna\n",
    "aggr = {} \n",
    "aggr.update(dict.fromkeys([x for x in cols if 'client' in x], 'max'))\n",
    "aggr.update(dict.fromkeys([x for x in cols if 'trans' in x], 'sum'))\n",
    "aggr.update({target:'sum'})"
   ]
  },
  {
   "cell_type": "markdown",
   "id": "fb7d7329-b064-4f19-af9b-93d1c30927e3",
   "metadata": {},
   "source": [
    "### Agrupación x Mes"
   ]
  },
  {
   "cell_type": "code",
   "execution_count": 15,
   "id": "f2dda9c8-f17f-44a3-85d6-8565d6eadecb",
   "metadata": {
    "tags": []
   },
   "outputs": [],
   "source": [
    "# Agrupamiento por mes\n",
    "group = ['dni_titular_movimiento', 'anio_mes_cupon']\n",
    "\n",
    "df_mes = df_encode.groupby(group).agg(aggr).reset_index() # edad y antiguedad"
   ]
  },
  {
   "cell_type": "markdown",
   "id": "120af3e6-5a4c-42fa-af54-69b1c7d21afc",
   "metadata": {},
   "source": [
    "### Agrupación x Fecha"
   ]
  },
  {
   "cell_type": "code",
   "execution_count": 16,
   "id": "c34bd2f1-a928-435f-97b4-f376bd2b0445",
   "metadata": {
    "tags": []
   },
   "outputs": [],
   "source": [
    "# Agrupamiento por fecha\n",
    "group = ['dni_titular_movimiento', 'fecha_cupon_movimiento']\n",
    "\n",
    "df_fecha = df_encode.groupby(group).agg(aggr).reset_index() # edad y antiguedad"
   ]
  },
  {
   "cell_type": "code",
   "execution_count": 17,
   "id": "07967f35-2bc4-4368-ae73-4e4a6d50a1d2",
   "metadata": {
    "tags": []
   },
   "outputs": [
    {
     "data": {
      "text/plain": [
       "array([['00017c577769060500211670502411b5913', 202007.0, 62.0, ..., 0.0,\n",
       "        0.0, -3445.56],\n",
       "       ['00017c577769060500211670502411b5913', 202007.0, 62.0, ..., 0.0,\n",
       "        0.0, -3445.56],\n",
       "       ['0000c20705a45563f2ec6a53088c2a30090', 202007.0, 80.0, ..., 0.0,\n",
       "        0.0, -707.0],\n",
       "       ...,\n",
       "       ['00035974dec6a645cba119b126c40ed4652', 202105.0, 38.0, ..., 0.0,\n",
       "        0.0, -4.69],\n",
       "       ['0001b49c252907291ca16195773ef104079', 202105.0, 49.0, ..., 0.0,\n",
       "        0.0, 82.64],\n",
       "       ['0007d3573a085abc49ede83321981a7d760', 202106.0, 50.0, ..., 0.0,\n",
       "        0.0, -9.0]], dtype=object)"
      ]
     },
     "execution_count": 17,
     "metadata": {},
     "output_type": "execute_result"
    }
   ],
   "source": [
    "df_encode.values"
   ]
  },
  {
   "cell_type": "code",
   "execution_count": 18,
   "id": "ce176af6-2c0a-45d0-91b8-e240566dfb62",
   "metadata": {
    "tags": []
   },
   "outputs": [
    {
     "data": {
      "text/html": [
       "<div>\n",
       "<style scoped>\n",
       "    .dataframe tbody tr th:only-of-type {\n",
       "        vertical-align: middle;\n",
       "    }\n",
       "\n",
       "    .dataframe tbody tr th {\n",
       "        vertical-align: top;\n",
       "    }\n",
       "\n",
       "    .dataframe thead th {\n",
       "        text-align: right;\n",
       "    }\n",
       "</style>\n",
       "<table border=\"1\" class=\"dataframe\">\n",
       "  <thead>\n",
       "    <tr style=\"text-align: right;\">\n",
       "      <th></th>\n",
       "      <th>anio_mes_cupon</th>\n",
       "      <th>edad_cliente</th>\n",
       "      <th>antig_cliente</th>\n",
       "      <th>client__x0_Hombre</th>\n",
       "      <th>client__x0_Mujer</th>\n",
       "      <th>client__x0_Sin Datos</th>\n",
       "      <th>client__x1_Sector_Educativo</th>\n",
       "      <th>client__x1_Sector_Empleado_Comercio</th>\n",
       "      <th>client__x1_Sector_Financiero</th>\n",
       "      <th>client__x1_Sector_No_Operativo</th>\n",
       "      <th>...</th>\n",
       "      <th>trans__x3_1</th>\n",
       "      <th>trans__x3_2</th>\n",
       "      <th>trans__x3_3</th>\n",
       "      <th>trans__x3_4</th>\n",
       "      <th>trans__x3_5</th>\n",
       "      <th>trans__x3_6</th>\n",
       "      <th>trans__x3_7</th>\n",
       "      <th>trans__x3_8</th>\n",
       "      <th>trans__x3_9</th>\n",
       "      <th>monto_ajustado</th>\n",
       "    </tr>\n",
       "  </thead>\n",
       "  <tbody>\n",
       "    <tr>\n",
       "      <th>count</th>\n",
       "      <td>7443.000000</td>\n",
       "      <td>7443.000000</td>\n",
       "      <td>7443.000000</td>\n",
       "      <td>7443.000000</td>\n",
       "      <td>7443.000000</td>\n",
       "      <td>7443.000000</td>\n",
       "      <td>7443.000000</td>\n",
       "      <td>7443.000000</td>\n",
       "      <td>7443.000000</td>\n",
       "      <td>7443.000000</td>\n",
       "      <td>...</td>\n",
       "      <td>7443.000000</td>\n",
       "      <td>7443.000000</td>\n",
       "      <td>7443.000000</td>\n",
       "      <td>7443.000000</td>\n",
       "      <td>7443.000000</td>\n",
       "      <td>7443.000000</td>\n",
       "      <td>7443.000000</td>\n",
       "      <td>7443.000000</td>\n",
       "      <td>7443.000000</td>\n",
       "      <td>7443.000000</td>\n",
       "    </tr>\n",
       "    <tr>\n",
       "      <th>mean</th>\n",
       "      <td>202052.953245</td>\n",
       "      <td>49.149536</td>\n",
       "      <td>107.739755</td>\n",
       "      <td>0.460836</td>\n",
       "      <td>0.533118</td>\n",
       "      <td>0.006046</td>\n",
       "      <td>0.058444</td>\n",
       "      <td>0.193202</td>\n",
       "      <td>0.011017</td>\n",
       "      <td>0.084106</td>\n",
       "      <td>...</td>\n",
       "      <td>3.602177</td>\n",
       "      <td>0.547226</td>\n",
       "      <td>0.324735</td>\n",
       "      <td>0.022975</td>\n",
       "      <td>1.703345</td>\n",
       "      <td>0.235658</td>\n",
       "      <td>0.046621</td>\n",
       "      <td>0.099019</td>\n",
       "      <td>2.288728</td>\n",
       "      <td>24197.194262</td>\n",
       "    </tr>\n",
       "    <tr>\n",
       "      <th>std</th>\n",
       "      <td>46.437423</td>\n",
       "      <td>14.954749</td>\n",
       "      <td>76.457279</td>\n",
       "      <td>0.498497</td>\n",
       "      <td>0.498935</td>\n",
       "      <td>0.077526</td>\n",
       "      <td>0.234597</td>\n",
       "      <td>0.394836</td>\n",
       "      <td>0.104389</td>\n",
       "      <td>0.277565</td>\n",
       "      <td>...</td>\n",
       "      <td>6.045837</td>\n",
       "      <td>1.874314</td>\n",
       "      <td>1.924541</td>\n",
       "      <td>0.336978</td>\n",
       "      <td>3.562076</td>\n",
       "      <td>1.683610</td>\n",
       "      <td>0.628194</td>\n",
       "      <td>0.929670</td>\n",
       "      <td>5.939887</td>\n",
       "      <td>31009.223800</td>\n",
       "    </tr>\n",
       "    <tr>\n",
       "      <th>min</th>\n",
       "      <td>202007.000000</td>\n",
       "      <td>24.000000</td>\n",
       "      <td>0.000000</td>\n",
       "      <td>0.000000</td>\n",
       "      <td>0.000000</td>\n",
       "      <td>0.000000</td>\n",
       "      <td>0.000000</td>\n",
       "      <td>0.000000</td>\n",
       "      <td>0.000000</td>\n",
       "      <td>0.000000</td>\n",
       "      <td>...</td>\n",
       "      <td>0.000000</td>\n",
       "      <td>0.000000</td>\n",
       "      <td>0.000000</td>\n",
       "      <td>0.000000</td>\n",
       "      <td>0.000000</td>\n",
       "      <td>0.000000</td>\n",
       "      <td>0.000000</td>\n",
       "      <td>0.000000</td>\n",
       "      <td>0.000000</td>\n",
       "      <td>-27864.760000</td>\n",
       "    </tr>\n",
       "    <tr>\n",
       "      <th>25%</th>\n",
       "      <td>202010.000000</td>\n",
       "      <td>36.000000</td>\n",
       "      <td>45.000000</td>\n",
       "      <td>0.000000</td>\n",
       "      <td>0.000000</td>\n",
       "      <td>0.000000</td>\n",
       "      <td>0.000000</td>\n",
       "      <td>0.000000</td>\n",
       "      <td>0.000000</td>\n",
       "      <td>0.000000</td>\n",
       "      <td>...</td>\n",
       "      <td>0.000000</td>\n",
       "      <td>0.000000</td>\n",
       "      <td>0.000000</td>\n",
       "      <td>0.000000</td>\n",
       "      <td>0.000000</td>\n",
       "      <td>0.000000</td>\n",
       "      <td>0.000000</td>\n",
       "      <td>0.000000</td>\n",
       "      <td>0.000000</td>\n",
       "      <td>2029.270000</td>\n",
       "    </tr>\n",
       "    <tr>\n",
       "      <th>50%</th>\n",
       "      <td>202012.000000</td>\n",
       "      <td>47.000000</td>\n",
       "      <td>93.000000</td>\n",
       "      <td>0.000000</td>\n",
       "      <td>1.000000</td>\n",
       "      <td>0.000000</td>\n",
       "      <td>0.000000</td>\n",
       "      <td>0.000000</td>\n",
       "      <td>0.000000</td>\n",
       "      <td>0.000000</td>\n",
       "      <td>...</td>\n",
       "      <td>2.000000</td>\n",
       "      <td>0.000000</td>\n",
       "      <td>0.000000</td>\n",
       "      <td>0.000000</td>\n",
       "      <td>0.000000</td>\n",
       "      <td>0.000000</td>\n",
       "      <td>0.000000</td>\n",
       "      <td>0.000000</td>\n",
       "      <td>0.000000</td>\n",
       "      <td>12700.540000</td>\n",
       "    </tr>\n",
       "    <tr>\n",
       "      <th>75%</th>\n",
       "      <td>202103.000000</td>\n",
       "      <td>61.000000</td>\n",
       "      <td>156.000000</td>\n",
       "      <td>1.000000</td>\n",
       "      <td>1.000000</td>\n",
       "      <td>0.000000</td>\n",
       "      <td>0.000000</td>\n",
       "      <td>0.000000</td>\n",
       "      <td>0.000000</td>\n",
       "      <td>0.000000</td>\n",
       "      <td>...</td>\n",
       "      <td>5.000000</td>\n",
       "      <td>0.000000</td>\n",
       "      <td>0.000000</td>\n",
       "      <td>0.000000</td>\n",
       "      <td>2.000000</td>\n",
       "      <td>0.000000</td>\n",
       "      <td>0.000000</td>\n",
       "      <td>0.000000</td>\n",
       "      <td>2.000000</td>\n",
       "      <td>35199.635000</td>\n",
       "    </tr>\n",
       "    <tr>\n",
       "      <th>max</th>\n",
       "      <td>202106.000000</td>\n",
       "      <td>85.000000</td>\n",
       "      <td>360.000000</td>\n",
       "      <td>1.000000</td>\n",
       "      <td>1.000000</td>\n",
       "      <td>1.000000</td>\n",
       "      <td>1.000000</td>\n",
       "      <td>1.000000</td>\n",
       "      <td>1.000000</td>\n",
       "      <td>1.000000</td>\n",
       "      <td>...</td>\n",
       "      <td>72.000000</td>\n",
       "      <td>36.000000</td>\n",
       "      <td>34.000000</td>\n",
       "      <td>14.000000</td>\n",
       "      <td>112.000000</td>\n",
       "      <td>81.000000</td>\n",
       "      <td>28.000000</td>\n",
       "      <td>25.000000</td>\n",
       "      <td>126.000000</td>\n",
       "      <td>300740.420000</td>\n",
       "    </tr>\n",
       "  </tbody>\n",
       "</table>\n",
       "<p>8 rows × 54 columns</p>\n",
       "</div>"
      ],
      "text/plain": [
       "       anio_mes_cupon  edad_cliente  antig_cliente  client__x0_Hombre  \\\n",
       "count     7443.000000   7443.000000    7443.000000        7443.000000   \n",
       "mean    202052.953245     49.149536     107.739755           0.460836   \n",
       "std         46.437423     14.954749      76.457279           0.498497   \n",
       "min     202007.000000     24.000000       0.000000           0.000000   \n",
       "25%     202010.000000     36.000000      45.000000           0.000000   \n",
       "50%     202012.000000     47.000000      93.000000           0.000000   \n",
       "75%     202103.000000     61.000000     156.000000           1.000000   \n",
       "max     202106.000000     85.000000     360.000000           1.000000   \n",
       "\n",
       "       client__x0_Mujer  client__x0_Sin Datos  client__x1_Sector_Educativo  \\\n",
       "count       7443.000000           7443.000000                  7443.000000   \n",
       "mean           0.533118              0.006046                     0.058444   \n",
       "std            0.498935              0.077526                     0.234597   \n",
       "min            0.000000              0.000000                     0.000000   \n",
       "25%            0.000000              0.000000                     0.000000   \n",
       "50%            1.000000              0.000000                     0.000000   \n",
       "75%            1.000000              0.000000                     0.000000   \n",
       "max            1.000000              1.000000                     1.000000   \n",
       "\n",
       "       client__x1_Sector_Empleado_Comercio  client__x1_Sector_Financiero  \\\n",
       "count                          7443.000000                   7443.000000   \n",
       "mean                              0.193202                      0.011017   \n",
       "std                               0.394836                      0.104389   \n",
       "min                               0.000000                      0.000000   \n",
       "25%                               0.000000                      0.000000   \n",
       "50%                               0.000000                      0.000000   \n",
       "75%                               0.000000                      0.000000   \n",
       "max                               1.000000                      1.000000   \n",
       "\n",
       "       client__x1_Sector_No_Operativo  ...  trans__x3_1  trans__x3_2  \\\n",
       "count                     7443.000000  ...  7443.000000  7443.000000   \n",
       "mean                         0.084106  ...     3.602177     0.547226   \n",
       "std                          0.277565  ...     6.045837     1.874314   \n",
       "min                          0.000000  ...     0.000000     0.000000   \n",
       "25%                          0.000000  ...     0.000000     0.000000   \n",
       "50%                          0.000000  ...     2.000000     0.000000   \n",
       "75%                          0.000000  ...     5.000000     0.000000   \n",
       "max                          1.000000  ...    72.000000    36.000000   \n",
       "\n",
       "       trans__x3_3  trans__x3_4  trans__x3_5  trans__x3_6  trans__x3_7  \\\n",
       "count  7443.000000  7443.000000  7443.000000  7443.000000  7443.000000   \n",
       "mean      0.324735     0.022975     1.703345     0.235658     0.046621   \n",
       "std       1.924541     0.336978     3.562076     1.683610     0.628194   \n",
       "min       0.000000     0.000000     0.000000     0.000000     0.000000   \n",
       "25%       0.000000     0.000000     0.000000     0.000000     0.000000   \n",
       "50%       0.000000     0.000000     0.000000     0.000000     0.000000   \n",
       "75%       0.000000     0.000000     2.000000     0.000000     0.000000   \n",
       "max      34.000000    14.000000   112.000000    81.000000    28.000000   \n",
       "\n",
       "       trans__x3_8  trans__x3_9  monto_ajustado  \n",
       "count  7443.000000  7443.000000     7443.000000  \n",
       "mean      0.099019     2.288728    24197.194262  \n",
       "std       0.929670     5.939887    31009.223800  \n",
       "min       0.000000     0.000000   -27864.760000  \n",
       "25%       0.000000     0.000000     2029.270000  \n",
       "50%       0.000000     0.000000    12700.540000  \n",
       "75%       0.000000     2.000000    35199.635000  \n",
       "max      25.000000   126.000000   300740.420000  \n",
       "\n",
       "[8 rows x 54 columns]"
      ]
     },
     "execution_count": 18,
     "metadata": {},
     "output_type": "execute_result"
    }
   ],
   "source": [
    "df_mes.describe()"
   ]
  },
  {
   "cell_type": "code",
   "execution_count": 19,
   "id": "915df7cd-66e5-422b-a066-1d6451b51cc4",
   "metadata": {
    "tags": []
   },
   "outputs": [
    {
     "data": {
      "text/html": [
       "<div>\n",
       "<style scoped>\n",
       "    .dataframe tbody tr th:only-of-type {\n",
       "        vertical-align: middle;\n",
       "    }\n",
       "\n",
       "    .dataframe tbody tr th {\n",
       "        vertical-align: top;\n",
       "    }\n",
       "\n",
       "    .dataframe thead th {\n",
       "        text-align: right;\n",
       "    }\n",
       "</style>\n",
       "<table border=\"1\" class=\"dataframe\">\n",
       "  <thead>\n",
       "    <tr style=\"text-align: right;\">\n",
       "      <th></th>\n",
       "      <th>fecha_cupon_movimiento</th>\n",
       "      <th>edad_cliente</th>\n",
       "      <th>antig_cliente</th>\n",
       "      <th>client__x0_Hombre</th>\n",
       "      <th>client__x0_Mujer</th>\n",
       "      <th>client__x0_Sin Datos</th>\n",
       "      <th>client__x1_Sector_Educativo</th>\n",
       "      <th>client__x1_Sector_Empleado_Comercio</th>\n",
       "      <th>client__x1_Sector_Financiero</th>\n",
       "      <th>client__x1_Sector_No_Operativo</th>\n",
       "      <th>...</th>\n",
       "      <th>trans__x3_1</th>\n",
       "      <th>trans__x3_2</th>\n",
       "      <th>trans__x3_3</th>\n",
       "      <th>trans__x3_4</th>\n",
       "      <th>trans__x3_5</th>\n",
       "      <th>trans__x3_6</th>\n",
       "      <th>trans__x3_7</th>\n",
       "      <th>trans__x3_8</th>\n",
       "      <th>trans__x3_9</th>\n",
       "      <th>monto_ajustado</th>\n",
       "    </tr>\n",
       "  </thead>\n",
       "  <tbody>\n",
       "    <tr>\n",
       "      <th>count</th>\n",
       "      <td>3.198100e+04</td>\n",
       "      <td>31981.000000</td>\n",
       "      <td>31981.000000</td>\n",
       "      <td>31981.000000</td>\n",
       "      <td>31981.000000</td>\n",
       "      <td>31981.000000</td>\n",
       "      <td>31981.000000</td>\n",
       "      <td>31981.000000</td>\n",
       "      <td>31981.000000</td>\n",
       "      <td>31981.000000</td>\n",
       "      <td>...</td>\n",
       "      <td>31981.000000</td>\n",
       "      <td>31981.000000</td>\n",
       "      <td>31981.000000</td>\n",
       "      <td>31981.000000</td>\n",
       "      <td>31981.000000</td>\n",
       "      <td>31981.000000</td>\n",
       "      <td>31981.000000</td>\n",
       "      <td>31981.000000</td>\n",
       "      <td>31981.000000</td>\n",
       "      <td>31981.000000</td>\n",
       "    </tr>\n",
       "    <tr>\n",
       "      <th>mean</th>\n",
       "      <td>1.608104e+07</td>\n",
       "      <td>49.380664</td>\n",
       "      <td>112.753604</td>\n",
       "      <td>0.466527</td>\n",
       "      <td>0.527688</td>\n",
       "      <td>0.005785</td>\n",
       "      <td>0.073606</td>\n",
       "      <td>0.207592</td>\n",
       "      <td>0.016791</td>\n",
       "      <td>0.079766</td>\n",
       "      <td>...</td>\n",
       "      <td>0.838342</td>\n",
       "      <td>0.127357</td>\n",
       "      <td>0.075576</td>\n",
       "      <td>0.005347</td>\n",
       "      <td>0.396423</td>\n",
       "      <td>0.054845</td>\n",
       "      <td>0.010850</td>\n",
       "      <td>0.023045</td>\n",
       "      <td>0.532660</td>\n",
       "      <td>5631.459832</td>\n",
       "    </tr>\n",
       "    <tr>\n",
       "      <th>std</th>\n",
       "      <td>6.941602e+04</td>\n",
       "      <td>14.749501</td>\n",
       "      <td>78.827104</td>\n",
       "      <td>0.498886</td>\n",
       "      <td>0.499241</td>\n",
       "      <td>0.075838</td>\n",
       "      <td>0.261133</td>\n",
       "      <td>0.405589</td>\n",
       "      <td>0.128490</td>\n",
       "      <td>0.270935</td>\n",
       "      <td>...</td>\n",
       "      <td>1.886742</td>\n",
       "      <td>0.621691</td>\n",
       "      <td>0.512762</td>\n",
       "      <td>0.115156</td>\n",
       "      <td>1.036756</td>\n",
       "      <td>0.415228</td>\n",
       "      <td>0.176587</td>\n",
       "      <td>0.255766</td>\n",
       "      <td>1.164827</td>\n",
       "      <td>11325.153935</td>\n",
       "    </tr>\n",
       "    <tr>\n",
       "      <th>min</th>\n",
       "      <td>1.593734e+07</td>\n",
       "      <td>24.000000</td>\n",
       "      <td>0.000000</td>\n",
       "      <td>0.000000</td>\n",
       "      <td>0.000000</td>\n",
       "      <td>0.000000</td>\n",
       "      <td>0.000000</td>\n",
       "      <td>0.000000</td>\n",
       "      <td>0.000000</td>\n",
       "      <td>0.000000</td>\n",
       "      <td>...</td>\n",
       "      <td>0.000000</td>\n",
       "      <td>0.000000</td>\n",
       "      <td>0.000000</td>\n",
       "      <td>0.000000</td>\n",
       "      <td>0.000000</td>\n",
       "      <td>0.000000</td>\n",
       "      <td>0.000000</td>\n",
       "      <td>0.000000</td>\n",
       "      <td>0.000000</td>\n",
       "      <td>-39645.540000</td>\n",
       "    </tr>\n",
       "    <tr>\n",
       "      <th>25%</th>\n",
       "      <td>1.602115e+07</td>\n",
       "      <td>37.000000</td>\n",
       "      <td>46.000000</td>\n",
       "      <td>0.000000</td>\n",
       "      <td>0.000000</td>\n",
       "      <td>0.000000</td>\n",
       "      <td>0.000000</td>\n",
       "      <td>0.000000</td>\n",
       "      <td>0.000000</td>\n",
       "      <td>0.000000</td>\n",
       "      <td>...</td>\n",
       "      <td>0.000000</td>\n",
       "      <td>0.000000</td>\n",
       "      <td>0.000000</td>\n",
       "      <td>0.000000</td>\n",
       "      <td>0.000000</td>\n",
       "      <td>0.000000</td>\n",
       "      <td>0.000000</td>\n",
       "      <td>0.000000</td>\n",
       "      <td>0.000000</td>\n",
       "      <td>566.060000</td>\n",
       "    </tr>\n",
       "    <tr>\n",
       "      <th>50%</th>\n",
       "      <td>1.608509e+07</td>\n",
       "      <td>47.000000</td>\n",
       "      <td>98.000000</td>\n",
       "      <td>0.000000</td>\n",
       "      <td>1.000000</td>\n",
       "      <td>0.000000</td>\n",
       "      <td>0.000000</td>\n",
       "      <td>0.000000</td>\n",
       "      <td>0.000000</td>\n",
       "      <td>0.000000</td>\n",
       "      <td>...</td>\n",
       "      <td>0.000000</td>\n",
       "      <td>0.000000</td>\n",
       "      <td>0.000000</td>\n",
       "      <td>0.000000</td>\n",
       "      <td>0.000000</td>\n",
       "      <td>0.000000</td>\n",
       "      <td>0.000000</td>\n",
       "      <td>0.000000</td>\n",
       "      <td>0.000000</td>\n",
       "      <td>1670.840000</td>\n",
       "    </tr>\n",
       "    <tr>\n",
       "      <th>75%</th>\n",
       "      <td>1.614211e+07</td>\n",
       "      <td>61.000000</td>\n",
       "      <td>170.000000</td>\n",
       "      <td>1.000000</td>\n",
       "      <td>1.000000</td>\n",
       "      <td>0.000000</td>\n",
       "      <td>0.000000</td>\n",
       "      <td>0.000000</td>\n",
       "      <td>0.000000</td>\n",
       "      <td>0.000000</td>\n",
       "      <td>...</td>\n",
       "      <td>2.000000</td>\n",
       "      <td>0.000000</td>\n",
       "      <td>0.000000</td>\n",
       "      <td>0.000000</td>\n",
       "      <td>0.000000</td>\n",
       "      <td>0.000000</td>\n",
       "      <td>0.000000</td>\n",
       "      <td>0.000000</td>\n",
       "      <td>0.000000</td>\n",
       "      <td>5502.680000</td>\n",
       "    </tr>\n",
       "    <tr>\n",
       "      <th>max</th>\n",
       "      <td>1.621901e+07</td>\n",
       "      <td>85.000000</td>\n",
       "      <td>360.000000</td>\n",
       "      <td>1.000000</td>\n",
       "      <td>1.000000</td>\n",
       "      <td>1.000000</td>\n",
       "      <td>1.000000</td>\n",
       "      <td>1.000000</td>\n",
       "      <td>1.000000</td>\n",
       "      <td>1.000000</td>\n",
       "      <td>...</td>\n",
       "      <td>35.000000</td>\n",
       "      <td>16.000000</td>\n",
       "      <td>14.000000</td>\n",
       "      <td>5.000000</td>\n",
       "      <td>18.000000</td>\n",
       "      <td>16.000000</td>\n",
       "      <td>10.000000</td>\n",
       "      <td>10.000000</td>\n",
       "      <td>14.000000</td>\n",
       "      <td>180632.220000</td>\n",
       "    </tr>\n",
       "  </tbody>\n",
       "</table>\n",
       "<p>8 rows × 54 columns</p>\n",
       "</div>"
      ],
      "text/plain": [
       "       fecha_cupon_movimiento  edad_cliente  antig_cliente  client__x0_Hombre  \\\n",
       "count            3.198100e+04  31981.000000   31981.000000       31981.000000   \n",
       "mean             1.608104e+07     49.380664     112.753604           0.466527   \n",
       "std              6.941602e+04     14.749501      78.827104           0.498886   \n",
       "min              1.593734e+07     24.000000       0.000000           0.000000   \n",
       "25%              1.602115e+07     37.000000      46.000000           0.000000   \n",
       "50%              1.608509e+07     47.000000      98.000000           0.000000   \n",
       "75%              1.614211e+07     61.000000     170.000000           1.000000   \n",
       "max              1.621901e+07     85.000000     360.000000           1.000000   \n",
       "\n",
       "       client__x0_Mujer  client__x0_Sin Datos  client__x1_Sector_Educativo  \\\n",
       "count      31981.000000          31981.000000                 31981.000000   \n",
       "mean           0.527688              0.005785                     0.073606   \n",
       "std            0.499241              0.075838                     0.261133   \n",
       "min            0.000000              0.000000                     0.000000   \n",
       "25%            0.000000              0.000000                     0.000000   \n",
       "50%            1.000000              0.000000                     0.000000   \n",
       "75%            1.000000              0.000000                     0.000000   \n",
       "max            1.000000              1.000000                     1.000000   \n",
       "\n",
       "       client__x1_Sector_Empleado_Comercio  client__x1_Sector_Financiero  \\\n",
       "count                         31981.000000                  31981.000000   \n",
       "mean                              0.207592                      0.016791   \n",
       "std                               0.405589                      0.128490   \n",
       "min                               0.000000                      0.000000   \n",
       "25%                               0.000000                      0.000000   \n",
       "50%                               0.000000                      0.000000   \n",
       "75%                               0.000000                      0.000000   \n",
       "max                               1.000000                      1.000000   \n",
       "\n",
       "       client__x1_Sector_No_Operativo  ...   trans__x3_1   trans__x3_2  \\\n",
       "count                    31981.000000  ...  31981.000000  31981.000000   \n",
       "mean                         0.079766  ...      0.838342      0.127357   \n",
       "std                          0.270935  ...      1.886742      0.621691   \n",
       "min                          0.000000  ...      0.000000      0.000000   \n",
       "25%                          0.000000  ...      0.000000      0.000000   \n",
       "50%                          0.000000  ...      0.000000      0.000000   \n",
       "75%                          0.000000  ...      2.000000      0.000000   \n",
       "max                          1.000000  ...     35.000000     16.000000   \n",
       "\n",
       "        trans__x3_3   trans__x3_4   trans__x3_5   trans__x3_6   trans__x3_7  \\\n",
       "count  31981.000000  31981.000000  31981.000000  31981.000000  31981.000000   \n",
       "mean       0.075576      0.005347      0.396423      0.054845      0.010850   \n",
       "std        0.512762      0.115156      1.036756      0.415228      0.176587   \n",
       "min        0.000000      0.000000      0.000000      0.000000      0.000000   \n",
       "25%        0.000000      0.000000      0.000000      0.000000      0.000000   \n",
       "50%        0.000000      0.000000      0.000000      0.000000      0.000000   \n",
       "75%        0.000000      0.000000      0.000000      0.000000      0.000000   \n",
       "max       14.000000      5.000000     18.000000     16.000000     10.000000   \n",
       "\n",
       "        trans__x3_8   trans__x3_9  monto_ajustado  \n",
       "count  31981.000000  31981.000000    31981.000000  \n",
       "mean       0.023045      0.532660     5631.459832  \n",
       "std        0.255766      1.164827    11325.153935  \n",
       "min        0.000000      0.000000   -39645.540000  \n",
       "25%        0.000000      0.000000      566.060000  \n",
       "50%        0.000000      0.000000     1670.840000  \n",
       "75%        0.000000      0.000000     5502.680000  \n",
       "max       10.000000     14.000000   180632.220000  \n",
       "\n",
       "[8 rows x 54 columns]"
      ]
     },
     "execution_count": 19,
     "metadata": {},
     "output_type": "execute_result"
    }
   ],
   "source": [
    "df_fecha.describe()"
   ]
  },
  {
   "cell_type": "markdown",
   "id": "9ff19c9a-587a-4ab0-934b-9ef9e39e48f6",
   "metadata": {},
   "source": [
    "## 3. Regresión\n",
    "\n",
    "Una vez finalizada la etapa de preprocesamiento, se propone implementar diferentes modelos \n",
    "de predicción para el `monto_compra_movimiento`, utilizando la librería Scikit-Learn:\n",
    "\n",
    "* LinearSVR ([Doc](https://scikit-learn.org/stable/modules/generated/sklearn.svm.LinearSVR.html#sklearn.svm.LinearSVR))\n",
    "* SGDRegressor ([Doc](https://scikit-learn.org/stable/modules/generated/sklearn.linear_model.SGDRegressor.html#sklearn.linear_model.SGDRegressor))\n",
    "* KNeighborsRegressor ([Doc](https://scikit-learn.org/stable/modules/generated/sklearn.neighbors.KNeighborsRegressor.html#sklearn.neighbors.KNeighborsRegressor))\n",
    "* GaussianProcessRegressor ([Doc](https://scikit-learn.org/stable/modules/generated/sklearn.gaussian_process.GaussianProcessRegressor.html#sklearn.gaussian_process.GaussianProcessRegressor))\n",
    "* VotingRegressor ([Doc](https://scikit-learn.org/stable/modules/generated/sklearn.ensemble.VotingRegressor.html#sklearn.ensemble.VotingRegressor))\n",
    "\n",
    "Y de la libreria XGBoost\n",
    "* XGBRegressor ([Doc](https://xgboost.readthedocs.io/en/latest/python/python_api.html#xgboost.XGBRegressor))\n",
    "\n",
    "De estos tipos de modelos, cuál creen que es el más adecuado para nuestro caso de aplicación?\n",
    "\n",
    "Utilizar el método Grid Search, o de búsqueda exahustiva, con cross-validation para profundizar en la búsqueda y selección de hiperparámetros.\n",
    "\n",
    "Calcular métricas sobre el conjunto de entrenamiento y de evaluación para los mejores parámetros obtenidos:\n",
    "* MSE \n",
    "* MAE \n",
    "* RMSE\n",
    "\n",
    "Comparar las métricas obtenidas en cada modelo y obtener conclusiones.\n",
    "\n",
    "> Una vez encontrado el mejor modelo se validara usando el conjunto de evaluacion dado por el mentor"
   ]
  },
  {
   "cell_type": "markdown",
   "id": "74c0058a-7843-460f-b326-169a04d3f675",
   "metadata": {},
   "source": [
    "### Función de modelo (Default)"
   ]
  },
  {
   "cell_type": "code",
   "execution_count": null,
   "id": "321af250-679a-4610-ae91-ec587fc45738",
   "metadata": {},
   "outputs": [],
   "source": [
    "def run_model(data, ordinal_ft, target, model_, num_transformer = StandardScaler() ):\n",
    "    # Separar features de target\n",
    "    X = data.drop([ordinal_ft, target], axis=1)\n",
    "    y = data[target]\n",
    "\n",
    "    # Separar en train y validacion\n",
    "    X_train, X_val, y_train, y_val = train_test_split(X, y, test_size=0.3, random_state=0, shuffle=False)\n",
    "\n",
    "    # Escalar\n",
    "    num_transformer = num_transformer\n",
    "    cat_transformer = 'passthrough'\n",
    "\n",
    "    num_features = [g for g in X.columns if 'client' not in g]\n",
    "    cat_features = [g for g in X.columns if 'client' in g]\n",
    "\n",
    "    preprocessor = ColumnTransformer(\n",
    "        transformers=[\n",
    "            ('num', num_transformer, num_features),\n",
    "            ('cat', cat_transformer, cat_features)])\n",
    "\n",
    "    # Modelo\n",
    "    model = Pipeline([\n",
    "      ('preprocessor', preprocessor),\n",
    "      ('feature_selection', SelectFromModel(model_)),\n",
    "      ('regressor', model_)\n",
    "    ])\n",
    "\n",
    "    model.fit(X_train, y_train)\n",
    "\n",
    "    # Predict\n",
    "    y_train_pred = model.predict(X_train)\n",
    "    y_valid_pred = model.predict(X_val)\n",
    "    \n",
    "    return X_train, X_val, y_train, y_val, y_train_pred, y_valid_pred"
   ]
  },
  {
   "cell_type": "markdown",
   "id": "ef8a5b23-4a53-4340-87de-6f462eed8bad",
   "metadata": {},
   "source": [
    "### Linear SVR - Default"
   ]
  },
  {
   "cell_type": "markdown",
   "id": "95169918-7410-4767-87ea-e102e718b602",
   "metadata": {},
   "source": [
    "Realizamos una copia de nuestro dataset codificado para no tocar el mismo."
   ]
  },
  {
   "cell_type": "code",
   "execution_count": 28,
   "id": "f3406ca6-baf0-4586-8da6-6c42fdabfb18",
   "metadata": {},
   "outputs": [],
   "source": [
    "dff = df_encode.copy()"
   ]
  },
  {
   "cell_type": "markdown",
   "id": "84d41026-a0a5-4629-9b98-e516ec543c43",
   "metadata": {},
   "source": [
    "Instanciamos nuestro modelo de Linear SVR por defecto"
   ]
  },
  {
   "cell_type": "code",
   "execution_count": 35,
   "id": "9b62167c-e133-4e37-b75b-eda3c275c7dc",
   "metadata": {},
   "outputs": [],
   "source": [
    "model = LinearSVR(random_state=0)"
   ]
  },
  {
   "cell_type": "markdown",
   "id": "bccc1353-05d2-4656-97b0-888f57619749",
   "metadata": {},
   "source": [
    "Corremos nuestra función **run_model** para nuestro conjunto de datos"
   ]
  },
  {
   "cell_type": "code",
   "execution_count": 29,
   "id": "1ece3375-43b1-4c84-9f07-cec3a12502c1",
   "metadata": {},
   "outputs": [
    {
     "name": "stderr",
     "output_type": "stream",
     "text": [
      "C:\\Anaconda3\\lib\\site-packages\\sklearn\\svm\\_base.py:985: ConvergenceWarning: Liblinear failed to converge, increase the number of iterations.\n",
      "  warnings.warn(\"Liblinear failed to converge, increase \"\n"
     ]
    }
   ],
   "source": [
    "X_train, X_val, y_train, y_val, y_train_pred, y_valid_pred = run_model(dff, ordinal_ft, target, model)"
   ]
  },
  {
   "cell_type": "code",
   "execution_count": 30,
   "id": "0415d034-254e-4220-9a1a-a591a8bef53c",
   "metadata": {
    "tags": []
   },
   "outputs": [
    {
     "name": "stdout",
     "output_type": "stream",
     "text": [
      "Train error 15154718.865, Valid error 12569048.264\n"
     ]
    }
   ],
   "source": [
    "# evaluate MSE:\n",
    "train_error = mean_squared_error(y_train, y_train_pred)\n",
    "val_error = mean_squared_error(y_val, y_valid_pred)\n",
    "print(f'Train error {train_error.round(3)}, Valid error {val_error.round(3)}')  "
   ]
  },
  {
   "cell_type": "code",
   "execution_count": 31,
   "id": "8a14eccb-1cc0-477f-9f85-7efc7baae5fc",
   "metadata": {
    "tags": []
   },
   "outputs": [
    {
     "name": "stdout",
     "output_type": "stream",
     "text": [
      "Train error RMSE 3892.906, Valid error RMSE 3545.285\n"
     ]
    }
   ],
   "source": [
    "# evaluate RMSE:\n",
    "train_error = np.sqrt(mean_squared_error(y_train, y_train_pred))\n",
    "val_error = np.sqrt(mean_squared_error(y_val, y_valid_pred))\n",
    "print(f'Train error RMSE {train_error.round(3)}, Valid error RMSE {val_error.round(3)}')  "
   ]
  },
  {
   "cell_type": "code",
   "execution_count": 32,
   "id": "8165b7e7-c527-4570-b8be-454a58faba72",
   "metadata": {
    "tags": []
   },
   "outputs": [
    {
     "name": "stdout",
     "output_type": "stream",
     "text": [
      "Train error MAE 1292.816, Valid error MAE 1184.446\n"
     ]
    }
   ],
   "source": [
    "# evaluate MAE:\n",
    "train_error = mean_absolute_error(y_train, y_train_pred)\n",
    "val_error = mean_absolute_error(y_val, y_valid_pred)\n",
    "print(f'Train error MAE {train_error.round(3)}, Valid error MAE {val_error.round(3)}')  "
   ]
  },
  {
   "cell_type": "markdown",
   "id": "de58068d-92ca-463a-8cff-e41760b45fdf",
   "metadata": {},
   "source": [
    "Visualizamos nuestra variable target (real y predicción)"
   ]
  },
  {
   "cell_type": "code",
   "execution_count": 36,
   "id": "557994b7-470c-48a0-8005-b9d9bea81f00",
   "metadata": {},
   "outputs": [
    {
     "data": {
      "text/plain": [
       "array([2005.94, 10252.6, 5310.55, ..., -4.69, 82.64, -9.0], dtype=object)"
      ]
     },
     "execution_count": 36,
     "metadata": {},
     "output_type": "execute_result"
    }
   ],
   "source": [
    "y_val.values"
   ]
  },
  {
   "cell_type": "code",
   "execution_count": 37,
   "id": "8640b787-f0ef-4c39-9e0d-691b12be1609",
   "metadata": {},
   "outputs": [
    {
     "data": {
      "text/html": [
       "<div>\n",
       "<style scoped>\n",
       "    .dataframe tbody tr th:only-of-type {\n",
       "        vertical-align: middle;\n",
       "    }\n",
       "\n",
       "    .dataframe tbody tr th {\n",
       "        vertical-align: top;\n",
       "    }\n",
       "\n",
       "    .dataframe thead th {\n",
       "        text-align: right;\n",
       "    }\n",
       "</style>\n",
       "<table border=\"1\" class=\"dataframe\">\n",
       "  <thead>\n",
       "    <tr style=\"text-align: right;\">\n",
       "      <th></th>\n",
       "      <th>val_real</th>\n",
       "    </tr>\n",
       "  </thead>\n",
       "  <tbody>\n",
       "    <tr>\n",
       "      <th>count</th>\n",
       "      <td>34264.00</td>\n",
       "    </tr>\n",
       "    <tr>\n",
       "      <th>mean</th>\n",
       "      <td>1507.19</td>\n",
       "    </tr>\n",
       "    <tr>\n",
       "      <th>std</th>\n",
       "      <td>3965.95</td>\n",
       "    </tr>\n",
       "    <tr>\n",
       "      <th>min</th>\n",
       "      <td>-25775.00</td>\n",
       "    </tr>\n",
       "    <tr>\n",
       "      <th>25%</th>\n",
       "      <td>87.00</td>\n",
       "    </tr>\n",
       "    <tr>\n",
       "      <th>50%</th>\n",
       "      <td>254.00</td>\n",
       "    </tr>\n",
       "    <tr>\n",
       "      <th>75%</th>\n",
       "      <td>1081.00</td>\n",
       "    </tr>\n",
       "    <tr>\n",
       "      <th>max</th>\n",
       "      <td>58939.00</td>\n",
       "    </tr>\n",
       "  </tbody>\n",
       "</table>\n",
       "</div>"
      ],
      "text/plain": [
       "       val_real\n",
       "count  34264.00\n",
       "mean    1507.19\n",
       "std     3965.95\n",
       "min   -25775.00\n",
       "25%       87.00\n",
       "50%      254.00\n",
       "75%     1081.00\n",
       "max    58939.00"
      ]
     },
     "execution_count": 37,
     "metadata": {},
     "output_type": "execute_result"
    }
   ],
   "source": [
    "pd.DataFrame(y_val.values.astype(int), columns=['val_real']).describe().round(2)"
   ]
  },
  {
   "cell_type": "code",
   "execution_count": 38,
   "id": "7a1e0ee5-5b65-449e-8eb4-6dceeb534423",
   "metadata": {},
   "outputs": [
    {
     "data": {
      "text/html": [
       "<div>\n",
       "<style scoped>\n",
       "    .dataframe tbody tr th:only-of-type {\n",
       "        vertical-align: middle;\n",
       "    }\n",
       "\n",
       "    .dataframe tbody tr th {\n",
       "        vertical-align: top;\n",
       "    }\n",
       "\n",
       "    .dataframe thead th {\n",
       "        text-align: right;\n",
       "    }\n",
       "</style>\n",
       "<table border=\"1\" class=\"dataframe\">\n",
       "  <thead>\n",
       "    <tr style=\"text-align: right;\">\n",
       "      <th></th>\n",
       "      <th>val_pred</th>\n",
       "    </tr>\n",
       "  </thead>\n",
       "  <tbody>\n",
       "    <tr>\n",
       "      <th>count</th>\n",
       "      <td>34264.00</td>\n",
       "    </tr>\n",
       "    <tr>\n",
       "      <th>mean</th>\n",
       "      <td>765.86</td>\n",
       "    </tr>\n",
       "    <tr>\n",
       "      <th>std</th>\n",
       "      <td>1247.54</td>\n",
       "    </tr>\n",
       "    <tr>\n",
       "      <th>min</th>\n",
       "      <td>-477.20</td>\n",
       "    </tr>\n",
       "    <tr>\n",
       "      <th>25%</th>\n",
       "      <td>81.34</td>\n",
       "    </tr>\n",
       "    <tr>\n",
       "      <th>50%</th>\n",
       "      <td>333.71</td>\n",
       "    </tr>\n",
       "    <tr>\n",
       "      <th>75%</th>\n",
       "      <td>812.15</td>\n",
       "    </tr>\n",
       "    <tr>\n",
       "      <th>max</th>\n",
       "      <td>7882.65</td>\n",
       "    </tr>\n",
       "  </tbody>\n",
       "</table>\n",
       "</div>"
      ],
      "text/plain": [
       "       val_pred\n",
       "count  34264.00\n",
       "mean     765.86\n",
       "std     1247.54\n",
       "min     -477.20\n",
       "25%       81.34\n",
       "50%      333.71\n",
       "75%      812.15\n",
       "max     7882.65"
      ]
     },
     "execution_count": 38,
     "metadata": {},
     "output_type": "execute_result"
    }
   ],
   "source": [
    "pd.DataFrame(y_valid_pred, columns=['val_pred']).describe().round(2)"
   ]
  },
  {
   "cell_type": "markdown",
   "id": "7f99ea6c-2821-4593-aae4-c411ca2ccc90",
   "metadata": {},
   "source": [
    "### Linear SVR - Grid Search"
   ]
  },
  {
   "cell_type": "code",
   "execution_count": 40,
   "id": "f11807dc-fbfe-4e87-92cc-ba4a072239c4",
   "metadata": {},
   "outputs": [],
   "source": [
    "svr = LinearSVR(random_state=0)\n",
    "\n",
    "param_grid = {\n",
    "    'epsilon': [0.1, 0.01, 0.0001,0.001],\n",
    "    'tol': [1e-3, 1e-4, 1e-5, 1e-6],\n",
    "    'C': [1, 2, 0.01, 0.001],\n",
    "    'loss': ['epsilon_insensitive', 'squared_epsilon_insensitive']\n",
    "}\n",
    "\n",
    "cv_svr = GridSearchCV(svr, param_grid, scoring='neg_mean_squared_error',cv=5)\n",
    "#cv_svr.fit(X_train_r, y_train_r.ravel())"
   ]
  },
  {
   "cell_type": "code",
   "execution_count": 41,
   "id": "752e9c9e-2092-4dcd-8724-3977bbd501c1",
   "metadata": {
    "collapsed": true,
    "jupyter": {
     "outputs_hidden": true
    },
    "tags": []
   },
   "outputs": [
    {
     "name": "stderr",
     "output_type": "stream",
     "text": [
      "C:\\Anaconda3\\lib\\site-packages\\sklearn\\svm\\_base.py:985: ConvergenceWarning: Liblinear failed to converge, increase the number of iterations.\n",
      "  warnings.warn(\"Liblinear failed to converge, increase \"\n",
      "C:\\Anaconda3\\lib\\site-packages\\sklearn\\svm\\_base.py:985: ConvergenceWarning: Liblinear failed to converge, increase the number of iterations.\n",
      "  warnings.warn(\"Liblinear failed to converge, increase \"\n",
      "C:\\Anaconda3\\lib\\site-packages\\sklearn\\svm\\_base.py:985: ConvergenceWarning: Liblinear failed to converge, increase the number of iterations.\n",
      "  warnings.warn(\"Liblinear failed to converge, increase \"\n",
      "C:\\Anaconda3\\lib\\site-packages\\sklearn\\svm\\_base.py:985: ConvergenceWarning: Liblinear failed to converge, increase the number of iterations.\n",
      "  warnings.warn(\"Liblinear failed to converge, increase \"\n",
      "C:\\Anaconda3\\lib\\site-packages\\sklearn\\svm\\_base.py:985: ConvergenceWarning: Liblinear failed to converge, increase the number of iterations.\n",
      "  warnings.warn(\"Liblinear failed to converge, increase \"\n",
      "C:\\Anaconda3\\lib\\site-packages\\sklearn\\svm\\_base.py:985: ConvergenceWarning: Liblinear failed to converge, increase the number of iterations.\n",
      "  warnings.warn(\"Liblinear failed to converge, increase \"\n",
      "C:\\Anaconda3\\lib\\site-packages\\sklearn\\svm\\_base.py:985: ConvergenceWarning: Liblinear failed to converge, increase the number of iterations.\n",
      "  warnings.warn(\"Liblinear failed to converge, increase \"\n",
      "C:\\Anaconda3\\lib\\site-packages\\sklearn\\svm\\_base.py:985: ConvergenceWarning: Liblinear failed to converge, increase the number of iterations.\n",
      "  warnings.warn(\"Liblinear failed to converge, increase \"\n",
      "C:\\Anaconda3\\lib\\site-packages\\sklearn\\svm\\_base.py:985: ConvergenceWarning: Liblinear failed to converge, increase the number of iterations.\n",
      "  warnings.warn(\"Liblinear failed to converge, increase \"\n",
      "C:\\Anaconda3\\lib\\site-packages\\sklearn\\svm\\_base.py:985: ConvergenceWarning: Liblinear failed to converge, increase the number of iterations.\n",
      "  warnings.warn(\"Liblinear failed to converge, increase \"\n",
      "C:\\Anaconda3\\lib\\site-packages\\sklearn\\svm\\_base.py:985: ConvergenceWarning: Liblinear failed to converge, increase the number of iterations.\n",
      "  warnings.warn(\"Liblinear failed to converge, increase \"\n",
      "C:\\Anaconda3\\lib\\site-packages\\sklearn\\svm\\_base.py:985: ConvergenceWarning: Liblinear failed to converge, increase the number of iterations.\n",
      "  warnings.warn(\"Liblinear failed to converge, increase \"\n",
      "C:\\Anaconda3\\lib\\site-packages\\sklearn\\svm\\_base.py:985: ConvergenceWarning: Liblinear failed to converge, increase the number of iterations.\n",
      "  warnings.warn(\"Liblinear failed to converge, increase \"\n",
      "C:\\Anaconda3\\lib\\site-packages\\sklearn\\svm\\_base.py:985: ConvergenceWarning: Liblinear failed to converge, increase the number of iterations.\n",
      "  warnings.warn(\"Liblinear failed to converge, increase \"\n",
      "C:\\Anaconda3\\lib\\site-packages\\sklearn\\svm\\_base.py:985: ConvergenceWarning: Liblinear failed to converge, increase the number of iterations.\n",
      "  warnings.warn(\"Liblinear failed to converge, increase \"\n",
      "C:\\Anaconda3\\lib\\site-packages\\sklearn\\svm\\_base.py:985: ConvergenceWarning: Liblinear failed to converge, increase the number of iterations.\n",
      "  warnings.warn(\"Liblinear failed to converge, increase \"\n",
      "C:\\Anaconda3\\lib\\site-packages\\sklearn\\svm\\_base.py:985: ConvergenceWarning: Liblinear failed to converge, increase the number of iterations.\n",
      "  warnings.warn(\"Liblinear failed to converge, increase \"\n",
      "C:\\Anaconda3\\lib\\site-packages\\sklearn\\svm\\_base.py:985: ConvergenceWarning: Liblinear failed to converge, increase the number of iterations.\n",
      "  warnings.warn(\"Liblinear failed to converge, increase \"\n",
      "C:\\Anaconda3\\lib\\site-packages\\sklearn\\svm\\_base.py:985: ConvergenceWarning: Liblinear failed to converge, increase the number of iterations.\n",
      "  warnings.warn(\"Liblinear failed to converge, increase \"\n",
      "C:\\Anaconda3\\lib\\site-packages\\sklearn\\svm\\_base.py:985: ConvergenceWarning: Liblinear failed to converge, increase the number of iterations.\n",
      "  warnings.warn(\"Liblinear failed to converge, increase \"\n",
      "C:\\Anaconda3\\lib\\site-packages\\sklearn\\svm\\_base.py:985: ConvergenceWarning: Liblinear failed to converge, increase the number of iterations.\n",
      "  warnings.warn(\"Liblinear failed to converge, increase \"\n",
      "C:\\Anaconda3\\lib\\site-packages\\sklearn\\svm\\_base.py:985: ConvergenceWarning: Liblinear failed to converge, increase the number of iterations.\n",
      "  warnings.warn(\"Liblinear failed to converge, increase \"\n",
      "C:\\Anaconda3\\lib\\site-packages\\sklearn\\svm\\_base.py:985: ConvergenceWarning: Liblinear failed to converge, increase the number of iterations.\n",
      "  warnings.warn(\"Liblinear failed to converge, increase \"\n",
      "C:\\Anaconda3\\lib\\site-packages\\sklearn\\svm\\_base.py:985: ConvergenceWarning: Liblinear failed to converge, increase the number of iterations.\n",
      "  warnings.warn(\"Liblinear failed to converge, increase \"\n",
      "C:\\Anaconda3\\lib\\site-packages\\sklearn\\svm\\_base.py:985: ConvergenceWarning: Liblinear failed to converge, increase the number of iterations.\n",
      "  warnings.warn(\"Liblinear failed to converge, increase \"\n",
      "C:\\Anaconda3\\lib\\site-packages\\sklearn\\svm\\_base.py:985: ConvergenceWarning: Liblinear failed to converge, increase the number of iterations.\n",
      "  warnings.warn(\"Liblinear failed to converge, increase \"\n",
      "C:\\Anaconda3\\lib\\site-packages\\sklearn\\svm\\_base.py:985: ConvergenceWarning: Liblinear failed to converge, increase the number of iterations.\n",
      "  warnings.warn(\"Liblinear failed to converge, increase \"\n",
      "C:\\Anaconda3\\lib\\site-packages\\sklearn\\svm\\_base.py:985: ConvergenceWarning: Liblinear failed to converge, increase the number of iterations.\n",
      "  warnings.warn(\"Liblinear failed to converge, increase \"\n",
      "C:\\Anaconda3\\lib\\site-packages\\sklearn\\svm\\_base.py:985: ConvergenceWarning: Liblinear failed to converge, increase the number of iterations.\n",
      "  warnings.warn(\"Liblinear failed to converge, increase \"\n",
      "C:\\Anaconda3\\lib\\site-packages\\sklearn\\svm\\_base.py:985: ConvergenceWarning: Liblinear failed to converge, increase the number of iterations.\n",
      "  warnings.warn(\"Liblinear failed to converge, increase \"\n",
      "C:\\Anaconda3\\lib\\site-packages\\sklearn\\svm\\_base.py:985: ConvergenceWarning: Liblinear failed to converge, increase the number of iterations.\n",
      "  warnings.warn(\"Liblinear failed to converge, increase \"\n",
      "C:\\Anaconda3\\lib\\site-packages\\sklearn\\svm\\_base.py:985: ConvergenceWarning: Liblinear failed to converge, increase the number of iterations.\n",
      "  warnings.warn(\"Liblinear failed to converge, increase \"\n",
      "C:\\Anaconda3\\lib\\site-packages\\sklearn\\svm\\_base.py:985: ConvergenceWarning: Liblinear failed to converge, increase the number of iterations.\n",
      "  warnings.warn(\"Liblinear failed to converge, increase \"\n",
      "C:\\Anaconda3\\lib\\site-packages\\sklearn\\svm\\_base.py:985: ConvergenceWarning: Liblinear failed to converge, increase the number of iterations.\n",
      "  warnings.warn(\"Liblinear failed to converge, increase \"\n",
      "C:\\Anaconda3\\lib\\site-packages\\sklearn\\svm\\_base.py:985: ConvergenceWarning: Liblinear failed to converge, increase the number of iterations.\n",
      "  warnings.warn(\"Liblinear failed to converge, increase \"\n",
      "C:\\Anaconda3\\lib\\site-packages\\sklearn\\svm\\_base.py:985: ConvergenceWarning: Liblinear failed to converge, increase the number of iterations.\n",
      "  warnings.warn(\"Liblinear failed to converge, increase \"\n",
      "C:\\Anaconda3\\lib\\site-packages\\sklearn\\svm\\_base.py:985: ConvergenceWarning: Liblinear failed to converge, increase the number of iterations.\n",
      "  warnings.warn(\"Liblinear failed to converge, increase \"\n",
      "C:\\Anaconda3\\lib\\site-packages\\sklearn\\svm\\_base.py:985: ConvergenceWarning: Liblinear failed to converge, increase the number of iterations.\n",
      "  warnings.warn(\"Liblinear failed to converge, increase \"\n",
      "C:\\Anaconda3\\lib\\site-packages\\sklearn\\svm\\_base.py:985: ConvergenceWarning: Liblinear failed to converge, increase the number of iterations.\n",
      "  warnings.warn(\"Liblinear failed to converge, increase \"\n",
      "C:\\Anaconda3\\lib\\site-packages\\sklearn\\svm\\_base.py:985: ConvergenceWarning: Liblinear failed to converge, increase the number of iterations.\n",
      "  warnings.warn(\"Liblinear failed to converge, increase \"\n",
      "C:\\Anaconda3\\lib\\site-packages\\sklearn\\svm\\_base.py:985: ConvergenceWarning: Liblinear failed to converge, increase the number of iterations.\n",
      "  warnings.warn(\"Liblinear failed to converge, increase \"\n",
      "C:\\Anaconda3\\lib\\site-packages\\sklearn\\svm\\_base.py:985: ConvergenceWarning: Liblinear failed to converge, increase the number of iterations.\n",
      "  warnings.warn(\"Liblinear failed to converge, increase \"\n",
      "C:\\Anaconda3\\lib\\site-packages\\sklearn\\svm\\_base.py:985: ConvergenceWarning: Liblinear failed to converge, increase the number of iterations.\n",
      "  warnings.warn(\"Liblinear failed to converge, increase \"\n",
      "C:\\Anaconda3\\lib\\site-packages\\sklearn\\svm\\_base.py:985: ConvergenceWarning: Liblinear failed to converge, increase the number of iterations.\n",
      "  warnings.warn(\"Liblinear failed to converge, increase \"\n",
      "C:\\Anaconda3\\lib\\site-packages\\sklearn\\svm\\_base.py:985: ConvergenceWarning: Liblinear failed to converge, increase the number of iterations.\n",
      "  warnings.warn(\"Liblinear failed to converge, increase \"\n",
      "C:\\Anaconda3\\lib\\site-packages\\sklearn\\svm\\_base.py:985: ConvergenceWarning: Liblinear failed to converge, increase the number of iterations.\n",
      "  warnings.warn(\"Liblinear failed to converge, increase \"\n",
      "C:\\Anaconda3\\lib\\site-packages\\sklearn\\svm\\_base.py:985: ConvergenceWarning: Liblinear failed to converge, increase the number of iterations.\n",
      "  warnings.warn(\"Liblinear failed to converge, increase \"\n",
      "C:\\Anaconda3\\lib\\site-packages\\sklearn\\svm\\_base.py:985: ConvergenceWarning: Liblinear failed to converge, increase the number of iterations.\n",
      "  warnings.warn(\"Liblinear failed to converge, increase \"\n",
      "C:\\Anaconda3\\lib\\site-packages\\sklearn\\svm\\_base.py:985: ConvergenceWarning: Liblinear failed to converge, increase the number of iterations.\n",
      "  warnings.warn(\"Liblinear failed to converge, increase \"\n",
      "C:\\Anaconda3\\lib\\site-packages\\sklearn\\svm\\_base.py:985: ConvergenceWarning: Liblinear failed to converge, increase the number of iterations.\n",
      "  warnings.warn(\"Liblinear failed to converge, increase \"\n",
      "C:\\Anaconda3\\lib\\site-packages\\sklearn\\svm\\_base.py:985: ConvergenceWarning: Liblinear failed to converge, increase the number of iterations.\n",
      "  warnings.warn(\"Liblinear failed to converge, increase \"\n",
      "C:\\Anaconda3\\lib\\site-packages\\sklearn\\svm\\_base.py:985: ConvergenceWarning: Liblinear failed to converge, increase the number of iterations.\n",
      "  warnings.warn(\"Liblinear failed to converge, increase \"\n",
      "C:\\Anaconda3\\lib\\site-packages\\sklearn\\svm\\_base.py:985: ConvergenceWarning: Liblinear failed to converge, increase the number of iterations.\n",
      "  warnings.warn(\"Liblinear failed to converge, increase \"\n",
      "C:\\Anaconda3\\lib\\site-packages\\sklearn\\svm\\_base.py:985: ConvergenceWarning: Liblinear failed to converge, increase the number of iterations.\n",
      "  warnings.warn(\"Liblinear failed to converge, increase \"\n",
      "C:\\Anaconda3\\lib\\site-packages\\sklearn\\svm\\_base.py:985: ConvergenceWarning: Liblinear failed to converge, increase the number of iterations.\n",
      "  warnings.warn(\"Liblinear failed to converge, increase \"\n",
      "C:\\Anaconda3\\lib\\site-packages\\sklearn\\svm\\_base.py:985: ConvergenceWarning: Liblinear failed to converge, increase the number of iterations.\n",
      "  warnings.warn(\"Liblinear failed to converge, increase \"\n",
      "C:\\Anaconda3\\lib\\site-packages\\sklearn\\svm\\_base.py:985: ConvergenceWarning: Liblinear failed to converge, increase the number of iterations.\n",
      "  warnings.warn(\"Liblinear failed to converge, increase \"\n",
      "C:\\Anaconda3\\lib\\site-packages\\sklearn\\svm\\_base.py:985: ConvergenceWarning: Liblinear failed to converge, increase the number of iterations.\n",
      "  warnings.warn(\"Liblinear failed to converge, increase \"\n",
      "C:\\Anaconda3\\lib\\site-packages\\sklearn\\svm\\_base.py:985: ConvergenceWarning: Liblinear failed to converge, increase the number of iterations.\n",
      "  warnings.warn(\"Liblinear failed to converge, increase \"\n",
      "C:\\Anaconda3\\lib\\site-packages\\sklearn\\svm\\_base.py:985: ConvergenceWarning: Liblinear failed to converge, increase the number of iterations.\n",
      "  warnings.warn(\"Liblinear failed to converge, increase \"\n",
      "C:\\Anaconda3\\lib\\site-packages\\sklearn\\svm\\_base.py:985: ConvergenceWarning: Liblinear failed to converge, increase the number of iterations.\n",
      "  warnings.warn(\"Liblinear failed to converge, increase \"\n",
      "C:\\Anaconda3\\lib\\site-packages\\sklearn\\svm\\_base.py:985: ConvergenceWarning: Liblinear failed to converge, increase the number of iterations.\n",
      "  warnings.warn(\"Liblinear failed to converge, increase \"\n",
      "C:\\Anaconda3\\lib\\site-packages\\sklearn\\svm\\_base.py:985: ConvergenceWarning: Liblinear failed to converge, increase the number of iterations.\n",
      "  warnings.warn(\"Liblinear failed to converge, increase \"\n",
      "C:\\Anaconda3\\lib\\site-packages\\sklearn\\svm\\_base.py:985: ConvergenceWarning: Liblinear failed to converge, increase the number of iterations.\n",
      "  warnings.warn(\"Liblinear failed to converge, increase \"\n",
      "C:\\Anaconda3\\lib\\site-packages\\sklearn\\svm\\_base.py:985: ConvergenceWarning: Liblinear failed to converge, increase the number of iterations.\n",
      "  warnings.warn(\"Liblinear failed to converge, increase \"\n",
      "C:\\Anaconda3\\lib\\site-packages\\sklearn\\svm\\_base.py:985: ConvergenceWarning: Liblinear failed to converge, increase the number of iterations.\n",
      "  warnings.warn(\"Liblinear failed to converge, increase \"\n"
     ]
    },
    {
     "ename": "KeyboardInterrupt",
     "evalue": "",
     "output_type": "error",
     "traceback": [
      "\u001b[1;31m---------------------------------------------------------------------------\u001b[0m",
      "\u001b[1;31mKeyboardInterrupt\u001b[0m                         Traceback (most recent call last)",
      "\u001b[1;32m<ipython-input-41-9cbcac0b3075>\u001b[0m in \u001b[0;36m<module>\u001b[1;34m\u001b[0m\n\u001b[1;32m----> 1\u001b[1;33m \u001b[0mX_train\u001b[0m\u001b[1;33m,\u001b[0m \u001b[0mX_val\u001b[0m\u001b[1;33m,\u001b[0m \u001b[0my_train\u001b[0m\u001b[1;33m,\u001b[0m \u001b[0my_val\u001b[0m\u001b[1;33m,\u001b[0m \u001b[0my_train_pred\u001b[0m\u001b[1;33m,\u001b[0m \u001b[0my_valid_pred\u001b[0m \u001b[1;33m=\u001b[0m \u001b[0mrun_model\u001b[0m\u001b[1;33m(\u001b[0m\u001b[0mdff\u001b[0m\u001b[1;33m,\u001b[0m \u001b[0mordinal_ft\u001b[0m\u001b[1;33m,\u001b[0m \u001b[0mtarget\u001b[0m\u001b[1;33m,\u001b[0m \u001b[0mcv_svr\u001b[0m\u001b[1;33m)\u001b[0m\u001b[1;33m\u001b[0m\u001b[1;33m\u001b[0m\u001b[0m\n\u001b[0m",
      "\u001b[1;32m<ipython-input-27-052c97207eda>\u001b[0m in \u001b[0;36mrun_model\u001b[1;34m(data, ordinal_ft, target, model_)\u001b[0m\n\u001b[0;32m     26\u001b[0m     ])\n\u001b[0;32m     27\u001b[0m \u001b[1;33m\u001b[0m\u001b[0m\n\u001b[1;32m---> 28\u001b[1;33m     \u001b[0mmodel\u001b[0m\u001b[1;33m.\u001b[0m\u001b[0mfit\u001b[0m\u001b[1;33m(\u001b[0m\u001b[0mX_train\u001b[0m\u001b[1;33m,\u001b[0m \u001b[0my_train\u001b[0m\u001b[1;33m)\u001b[0m\u001b[1;33m\u001b[0m\u001b[1;33m\u001b[0m\u001b[0m\n\u001b[0m\u001b[0;32m     29\u001b[0m \u001b[1;33m\u001b[0m\u001b[0m\n\u001b[0;32m     30\u001b[0m     \u001b[1;31m# Predict\u001b[0m\u001b[1;33m\u001b[0m\u001b[1;33m\u001b[0m\u001b[1;33m\u001b[0m\u001b[0m\n",
      "\u001b[1;32mC:\\Anaconda3\\lib\\site-packages\\sklearn\\pipeline.py\u001b[0m in \u001b[0;36mfit\u001b[1;34m(self, X, y, **fit_params)\u001b[0m\n\u001b[0;32m    339\u001b[0m         \"\"\"\n\u001b[0;32m    340\u001b[0m         \u001b[0mfit_params_steps\u001b[0m \u001b[1;33m=\u001b[0m \u001b[0mself\u001b[0m\u001b[1;33m.\u001b[0m\u001b[0m_check_fit_params\u001b[0m\u001b[1;33m(\u001b[0m\u001b[1;33m**\u001b[0m\u001b[0mfit_params\u001b[0m\u001b[1;33m)\u001b[0m\u001b[1;33m\u001b[0m\u001b[1;33m\u001b[0m\u001b[0m\n\u001b[1;32m--> 341\u001b[1;33m         \u001b[0mXt\u001b[0m \u001b[1;33m=\u001b[0m \u001b[0mself\u001b[0m\u001b[1;33m.\u001b[0m\u001b[0m_fit\u001b[0m\u001b[1;33m(\u001b[0m\u001b[0mX\u001b[0m\u001b[1;33m,\u001b[0m \u001b[0my\u001b[0m\u001b[1;33m,\u001b[0m \u001b[1;33m**\u001b[0m\u001b[0mfit_params_steps\u001b[0m\u001b[1;33m)\u001b[0m\u001b[1;33m\u001b[0m\u001b[1;33m\u001b[0m\u001b[0m\n\u001b[0m\u001b[0;32m    342\u001b[0m         with _print_elapsed_time('Pipeline',\n\u001b[0;32m    343\u001b[0m                                  self._log_message(len(self.steps) - 1)):\n",
      "\u001b[1;32mC:\\Anaconda3\\lib\\site-packages\\sklearn\\pipeline.py\u001b[0m in \u001b[0;36m_fit\u001b[1;34m(self, X, y, **fit_params_steps)\u001b[0m\n\u001b[0;32m    301\u001b[0m                 \u001b[0mcloned_transformer\u001b[0m \u001b[1;33m=\u001b[0m \u001b[0mclone\u001b[0m\u001b[1;33m(\u001b[0m\u001b[0mtransformer\u001b[0m\u001b[1;33m)\u001b[0m\u001b[1;33m\u001b[0m\u001b[1;33m\u001b[0m\u001b[0m\n\u001b[0;32m    302\u001b[0m             \u001b[1;31m# Fit or load from cache the current transformer\u001b[0m\u001b[1;33m\u001b[0m\u001b[1;33m\u001b[0m\u001b[1;33m\u001b[0m\u001b[0m\n\u001b[1;32m--> 303\u001b[1;33m             X, fitted_transformer = fit_transform_one_cached(\n\u001b[0m\u001b[0;32m    304\u001b[0m                 \u001b[0mcloned_transformer\u001b[0m\u001b[1;33m,\u001b[0m \u001b[0mX\u001b[0m\u001b[1;33m,\u001b[0m \u001b[0my\u001b[0m\u001b[1;33m,\u001b[0m \u001b[1;32mNone\u001b[0m\u001b[1;33m,\u001b[0m\u001b[1;33m\u001b[0m\u001b[1;33m\u001b[0m\u001b[0m\n\u001b[0;32m    305\u001b[0m                 \u001b[0mmessage_clsname\u001b[0m\u001b[1;33m=\u001b[0m\u001b[1;34m'Pipeline'\u001b[0m\u001b[1;33m,\u001b[0m\u001b[1;33m\u001b[0m\u001b[1;33m\u001b[0m\u001b[0m\n",
      "\u001b[1;32mC:\\Anaconda3\\lib\\site-packages\\joblib\\memory.py\u001b[0m in \u001b[0;36m__call__\u001b[1;34m(self, *args, **kwargs)\u001b[0m\n\u001b[0;32m    350\u001b[0m \u001b[1;33m\u001b[0m\u001b[0m\n\u001b[0;32m    351\u001b[0m     \u001b[1;32mdef\u001b[0m \u001b[0m__call__\u001b[0m\u001b[1;33m(\u001b[0m\u001b[0mself\u001b[0m\u001b[1;33m,\u001b[0m \u001b[1;33m*\u001b[0m\u001b[0margs\u001b[0m\u001b[1;33m,\u001b[0m \u001b[1;33m**\u001b[0m\u001b[0mkwargs\u001b[0m\u001b[1;33m)\u001b[0m\u001b[1;33m:\u001b[0m\u001b[1;33m\u001b[0m\u001b[1;33m\u001b[0m\u001b[0m\n\u001b[1;32m--> 352\u001b[1;33m         \u001b[1;32mreturn\u001b[0m \u001b[0mself\u001b[0m\u001b[1;33m.\u001b[0m\u001b[0mfunc\u001b[0m\u001b[1;33m(\u001b[0m\u001b[1;33m*\u001b[0m\u001b[0margs\u001b[0m\u001b[1;33m,\u001b[0m \u001b[1;33m**\u001b[0m\u001b[0mkwargs\u001b[0m\u001b[1;33m)\u001b[0m\u001b[1;33m\u001b[0m\u001b[1;33m\u001b[0m\u001b[0m\n\u001b[0m\u001b[0;32m    353\u001b[0m \u001b[1;33m\u001b[0m\u001b[0m\n\u001b[0;32m    354\u001b[0m     \u001b[1;32mdef\u001b[0m \u001b[0mcall_and_shelve\u001b[0m\u001b[1;33m(\u001b[0m\u001b[0mself\u001b[0m\u001b[1;33m,\u001b[0m \u001b[1;33m*\u001b[0m\u001b[0margs\u001b[0m\u001b[1;33m,\u001b[0m \u001b[1;33m**\u001b[0m\u001b[0mkwargs\u001b[0m\u001b[1;33m)\u001b[0m\u001b[1;33m:\u001b[0m\u001b[1;33m\u001b[0m\u001b[1;33m\u001b[0m\u001b[0m\n",
      "\u001b[1;32mC:\\Anaconda3\\lib\\site-packages\\sklearn\\pipeline.py\u001b[0m in \u001b[0;36m_fit_transform_one\u001b[1;34m(transformer, X, y, weight, message_clsname, message, **fit_params)\u001b[0m\n\u001b[0;32m    752\u001b[0m     \u001b[1;32mwith\u001b[0m \u001b[0m_print_elapsed_time\u001b[0m\u001b[1;33m(\u001b[0m\u001b[0mmessage_clsname\u001b[0m\u001b[1;33m,\u001b[0m \u001b[0mmessage\u001b[0m\u001b[1;33m)\u001b[0m\u001b[1;33m:\u001b[0m\u001b[1;33m\u001b[0m\u001b[1;33m\u001b[0m\u001b[0m\n\u001b[0;32m    753\u001b[0m         \u001b[1;32mif\u001b[0m \u001b[0mhasattr\u001b[0m\u001b[1;33m(\u001b[0m\u001b[0mtransformer\u001b[0m\u001b[1;33m,\u001b[0m \u001b[1;34m'fit_transform'\u001b[0m\u001b[1;33m)\u001b[0m\u001b[1;33m:\u001b[0m\u001b[1;33m\u001b[0m\u001b[1;33m\u001b[0m\u001b[0m\n\u001b[1;32m--> 754\u001b[1;33m             \u001b[0mres\u001b[0m \u001b[1;33m=\u001b[0m \u001b[0mtransformer\u001b[0m\u001b[1;33m.\u001b[0m\u001b[0mfit_transform\u001b[0m\u001b[1;33m(\u001b[0m\u001b[0mX\u001b[0m\u001b[1;33m,\u001b[0m \u001b[0my\u001b[0m\u001b[1;33m,\u001b[0m \u001b[1;33m**\u001b[0m\u001b[0mfit_params\u001b[0m\u001b[1;33m)\u001b[0m\u001b[1;33m\u001b[0m\u001b[1;33m\u001b[0m\u001b[0m\n\u001b[0m\u001b[0;32m    755\u001b[0m         \u001b[1;32melse\u001b[0m\u001b[1;33m:\u001b[0m\u001b[1;33m\u001b[0m\u001b[1;33m\u001b[0m\u001b[0m\n\u001b[0;32m    756\u001b[0m             \u001b[0mres\u001b[0m \u001b[1;33m=\u001b[0m \u001b[0mtransformer\u001b[0m\u001b[1;33m.\u001b[0m\u001b[0mfit\u001b[0m\u001b[1;33m(\u001b[0m\u001b[0mX\u001b[0m\u001b[1;33m,\u001b[0m \u001b[0my\u001b[0m\u001b[1;33m,\u001b[0m \u001b[1;33m**\u001b[0m\u001b[0mfit_params\u001b[0m\u001b[1;33m)\u001b[0m\u001b[1;33m.\u001b[0m\u001b[0mtransform\u001b[0m\u001b[1;33m(\u001b[0m\u001b[0mX\u001b[0m\u001b[1;33m)\u001b[0m\u001b[1;33m\u001b[0m\u001b[1;33m\u001b[0m\u001b[0m\n",
      "\u001b[1;32mC:\\Anaconda3\\lib\\site-packages\\sklearn\\base.py\u001b[0m in \u001b[0;36mfit_transform\u001b[1;34m(self, X, y, **fit_params)\u001b[0m\n\u001b[0;32m    700\u001b[0m         \u001b[1;32melse\u001b[0m\u001b[1;33m:\u001b[0m\u001b[1;33m\u001b[0m\u001b[1;33m\u001b[0m\u001b[0m\n\u001b[0;32m    701\u001b[0m             \u001b[1;31m# fit method of arity 2 (supervised transformation)\u001b[0m\u001b[1;33m\u001b[0m\u001b[1;33m\u001b[0m\u001b[1;33m\u001b[0m\u001b[0m\n\u001b[1;32m--> 702\u001b[1;33m             \u001b[1;32mreturn\u001b[0m \u001b[0mself\u001b[0m\u001b[1;33m.\u001b[0m\u001b[0mfit\u001b[0m\u001b[1;33m(\u001b[0m\u001b[0mX\u001b[0m\u001b[1;33m,\u001b[0m \u001b[0my\u001b[0m\u001b[1;33m,\u001b[0m \u001b[1;33m**\u001b[0m\u001b[0mfit_params\u001b[0m\u001b[1;33m)\u001b[0m\u001b[1;33m.\u001b[0m\u001b[0mtransform\u001b[0m\u001b[1;33m(\u001b[0m\u001b[0mX\u001b[0m\u001b[1;33m)\u001b[0m\u001b[1;33m\u001b[0m\u001b[1;33m\u001b[0m\u001b[0m\n\u001b[0m\u001b[0;32m    703\u001b[0m \u001b[1;33m\u001b[0m\u001b[0m\n\u001b[0;32m    704\u001b[0m \u001b[1;33m\u001b[0m\u001b[0m\n",
      "\u001b[1;32mC:\\Anaconda3\\lib\\site-packages\\sklearn\\feature_selection\\_from_model.py\u001b[0m in \u001b[0;36mfit\u001b[1;34m(self, X, y, **fit_params)\u001b[0m\n\u001b[0;32m    232\u001b[0m                 \"Since 'prefit=True', call transform directly\")\n\u001b[0;32m    233\u001b[0m         \u001b[0mself\u001b[0m\u001b[1;33m.\u001b[0m\u001b[0mestimator_\u001b[0m \u001b[1;33m=\u001b[0m \u001b[0mclone\u001b[0m\u001b[1;33m(\u001b[0m\u001b[0mself\u001b[0m\u001b[1;33m.\u001b[0m\u001b[0mestimator\u001b[0m\u001b[1;33m)\u001b[0m\u001b[1;33m\u001b[0m\u001b[1;33m\u001b[0m\u001b[0m\n\u001b[1;32m--> 234\u001b[1;33m         \u001b[0mself\u001b[0m\u001b[1;33m.\u001b[0m\u001b[0mestimator_\u001b[0m\u001b[1;33m.\u001b[0m\u001b[0mfit\u001b[0m\u001b[1;33m(\u001b[0m\u001b[0mX\u001b[0m\u001b[1;33m,\u001b[0m \u001b[0my\u001b[0m\u001b[1;33m,\u001b[0m \u001b[1;33m**\u001b[0m\u001b[0mfit_params\u001b[0m\u001b[1;33m)\u001b[0m\u001b[1;33m\u001b[0m\u001b[1;33m\u001b[0m\u001b[0m\n\u001b[0m\u001b[0;32m    235\u001b[0m         \u001b[1;32mreturn\u001b[0m \u001b[0mself\u001b[0m\u001b[1;33m\u001b[0m\u001b[1;33m\u001b[0m\u001b[0m\n\u001b[0;32m    236\u001b[0m \u001b[1;33m\u001b[0m\u001b[0m\n",
      "\u001b[1;32mC:\\Anaconda3\\lib\\site-packages\\sklearn\\utils\\validation.py\u001b[0m in \u001b[0;36minner_f\u001b[1;34m(*args, **kwargs)\u001b[0m\n\u001b[0;32m     61\u001b[0m             \u001b[0mextra_args\u001b[0m \u001b[1;33m=\u001b[0m \u001b[0mlen\u001b[0m\u001b[1;33m(\u001b[0m\u001b[0margs\u001b[0m\u001b[1;33m)\u001b[0m \u001b[1;33m-\u001b[0m \u001b[0mlen\u001b[0m\u001b[1;33m(\u001b[0m\u001b[0mall_args\u001b[0m\u001b[1;33m)\u001b[0m\u001b[1;33m\u001b[0m\u001b[1;33m\u001b[0m\u001b[0m\n\u001b[0;32m     62\u001b[0m             \u001b[1;32mif\u001b[0m \u001b[0mextra_args\u001b[0m \u001b[1;33m<=\u001b[0m \u001b[1;36m0\u001b[0m\u001b[1;33m:\u001b[0m\u001b[1;33m\u001b[0m\u001b[1;33m\u001b[0m\u001b[0m\n\u001b[1;32m---> 63\u001b[1;33m                 \u001b[1;32mreturn\u001b[0m \u001b[0mf\u001b[0m\u001b[1;33m(\u001b[0m\u001b[1;33m*\u001b[0m\u001b[0margs\u001b[0m\u001b[1;33m,\u001b[0m \u001b[1;33m**\u001b[0m\u001b[0mkwargs\u001b[0m\u001b[1;33m)\u001b[0m\u001b[1;33m\u001b[0m\u001b[1;33m\u001b[0m\u001b[0m\n\u001b[0m\u001b[0;32m     64\u001b[0m \u001b[1;33m\u001b[0m\u001b[0m\n\u001b[0;32m     65\u001b[0m             \u001b[1;31m# extra_args > 0\u001b[0m\u001b[1;33m\u001b[0m\u001b[1;33m\u001b[0m\u001b[1;33m\u001b[0m\u001b[0m\n",
      "\u001b[1;32mC:\\Anaconda3\\lib\\site-packages\\sklearn\\model_selection\\_search.py\u001b[0m in \u001b[0;36mfit\u001b[1;34m(self, X, y, groups, **fit_params)\u001b[0m\n\u001b[0;32m    839\u001b[0m                 \u001b[1;32mreturn\u001b[0m \u001b[0mresults\u001b[0m\u001b[1;33m\u001b[0m\u001b[1;33m\u001b[0m\u001b[0m\n\u001b[0;32m    840\u001b[0m \u001b[1;33m\u001b[0m\u001b[0m\n\u001b[1;32m--> 841\u001b[1;33m             \u001b[0mself\u001b[0m\u001b[1;33m.\u001b[0m\u001b[0m_run_search\u001b[0m\u001b[1;33m(\u001b[0m\u001b[0mevaluate_candidates\u001b[0m\u001b[1;33m)\u001b[0m\u001b[1;33m\u001b[0m\u001b[1;33m\u001b[0m\u001b[0m\n\u001b[0m\u001b[0;32m    842\u001b[0m \u001b[1;33m\u001b[0m\u001b[0m\n\u001b[0;32m    843\u001b[0m             \u001b[1;31m# multimetric is determined here because in the case of a callable\u001b[0m\u001b[1;33m\u001b[0m\u001b[1;33m\u001b[0m\u001b[1;33m\u001b[0m\u001b[0m\n",
      "\u001b[1;32mC:\\Anaconda3\\lib\\site-packages\\sklearn\\model_selection\\_search.py\u001b[0m in \u001b[0;36m_run_search\u001b[1;34m(self, evaluate_candidates)\u001b[0m\n\u001b[0;32m   1286\u001b[0m     \u001b[1;32mdef\u001b[0m \u001b[0m_run_search\u001b[0m\u001b[1;33m(\u001b[0m\u001b[0mself\u001b[0m\u001b[1;33m,\u001b[0m \u001b[0mevaluate_candidates\u001b[0m\u001b[1;33m)\u001b[0m\u001b[1;33m:\u001b[0m\u001b[1;33m\u001b[0m\u001b[1;33m\u001b[0m\u001b[0m\n\u001b[0;32m   1287\u001b[0m         \u001b[1;34m\"\"\"Search all candidates in param_grid\"\"\"\u001b[0m\u001b[1;33m\u001b[0m\u001b[1;33m\u001b[0m\u001b[0m\n\u001b[1;32m-> 1288\u001b[1;33m         \u001b[0mevaluate_candidates\u001b[0m\u001b[1;33m(\u001b[0m\u001b[0mParameterGrid\u001b[0m\u001b[1;33m(\u001b[0m\u001b[0mself\u001b[0m\u001b[1;33m.\u001b[0m\u001b[0mparam_grid\u001b[0m\u001b[1;33m)\u001b[0m\u001b[1;33m)\u001b[0m\u001b[1;33m\u001b[0m\u001b[1;33m\u001b[0m\u001b[0m\n\u001b[0m\u001b[0;32m   1289\u001b[0m \u001b[1;33m\u001b[0m\u001b[0m\n\u001b[0;32m   1290\u001b[0m \u001b[1;33m\u001b[0m\u001b[0m\n",
      "\u001b[1;32mC:\\Anaconda3\\lib\\site-packages\\sklearn\\model_selection\\_search.py\u001b[0m in \u001b[0;36mevaluate_candidates\u001b[1;34m(candidate_params, cv, more_results)\u001b[0m\n\u001b[0;32m    793\u001b[0m                               n_splits, n_candidates, n_candidates * n_splits))\n\u001b[0;32m    794\u001b[0m \u001b[1;33m\u001b[0m\u001b[0m\n\u001b[1;32m--> 795\u001b[1;33m                 out = parallel(delayed(_fit_and_score)(clone(base_estimator),\n\u001b[0m\u001b[0;32m    796\u001b[0m                                                        \u001b[0mX\u001b[0m\u001b[1;33m,\u001b[0m \u001b[0my\u001b[0m\u001b[1;33m,\u001b[0m\u001b[1;33m\u001b[0m\u001b[1;33m\u001b[0m\u001b[0m\n\u001b[0;32m    797\u001b[0m                                                        \u001b[0mtrain\u001b[0m\u001b[1;33m=\u001b[0m\u001b[0mtrain\u001b[0m\u001b[1;33m,\u001b[0m \u001b[0mtest\u001b[0m\u001b[1;33m=\u001b[0m\u001b[0mtest\u001b[0m\u001b[1;33m,\u001b[0m\u001b[1;33m\u001b[0m\u001b[1;33m\u001b[0m\u001b[0m\n",
      "\u001b[1;32mC:\\Anaconda3\\lib\\site-packages\\joblib\\parallel.py\u001b[0m in \u001b[0;36m__call__\u001b[1;34m(self, iterable)\u001b[0m\n\u001b[0;32m   1042\u001b[0m                 \u001b[0mself\u001b[0m\u001b[1;33m.\u001b[0m\u001b[0m_iterating\u001b[0m \u001b[1;33m=\u001b[0m \u001b[0mself\u001b[0m\u001b[1;33m.\u001b[0m\u001b[0m_original_iterator\u001b[0m \u001b[1;32mis\u001b[0m \u001b[1;32mnot\u001b[0m \u001b[1;32mNone\u001b[0m\u001b[1;33m\u001b[0m\u001b[1;33m\u001b[0m\u001b[0m\n\u001b[0;32m   1043\u001b[0m \u001b[1;33m\u001b[0m\u001b[0m\n\u001b[1;32m-> 1044\u001b[1;33m             \u001b[1;32mwhile\u001b[0m \u001b[0mself\u001b[0m\u001b[1;33m.\u001b[0m\u001b[0mdispatch_one_batch\u001b[0m\u001b[1;33m(\u001b[0m\u001b[0miterator\u001b[0m\u001b[1;33m)\u001b[0m\u001b[1;33m:\u001b[0m\u001b[1;33m\u001b[0m\u001b[1;33m\u001b[0m\u001b[0m\n\u001b[0m\u001b[0;32m   1045\u001b[0m                 \u001b[1;32mpass\u001b[0m\u001b[1;33m\u001b[0m\u001b[1;33m\u001b[0m\u001b[0m\n\u001b[0;32m   1046\u001b[0m \u001b[1;33m\u001b[0m\u001b[0m\n",
      "\u001b[1;32mC:\\Anaconda3\\lib\\site-packages\\joblib\\parallel.py\u001b[0m in \u001b[0;36mdispatch_one_batch\u001b[1;34m(self, iterator)\u001b[0m\n\u001b[0;32m    857\u001b[0m                 \u001b[1;32mreturn\u001b[0m \u001b[1;32mFalse\u001b[0m\u001b[1;33m\u001b[0m\u001b[1;33m\u001b[0m\u001b[0m\n\u001b[0;32m    858\u001b[0m             \u001b[1;32melse\u001b[0m\u001b[1;33m:\u001b[0m\u001b[1;33m\u001b[0m\u001b[1;33m\u001b[0m\u001b[0m\n\u001b[1;32m--> 859\u001b[1;33m                 \u001b[0mself\u001b[0m\u001b[1;33m.\u001b[0m\u001b[0m_dispatch\u001b[0m\u001b[1;33m(\u001b[0m\u001b[0mtasks\u001b[0m\u001b[1;33m)\u001b[0m\u001b[1;33m\u001b[0m\u001b[1;33m\u001b[0m\u001b[0m\n\u001b[0m\u001b[0;32m    860\u001b[0m                 \u001b[1;32mreturn\u001b[0m \u001b[1;32mTrue\u001b[0m\u001b[1;33m\u001b[0m\u001b[1;33m\u001b[0m\u001b[0m\n\u001b[0;32m    861\u001b[0m \u001b[1;33m\u001b[0m\u001b[0m\n",
      "\u001b[1;32mC:\\Anaconda3\\lib\\site-packages\\joblib\\parallel.py\u001b[0m in \u001b[0;36m_dispatch\u001b[1;34m(self, batch)\u001b[0m\n\u001b[0;32m    775\u001b[0m         \u001b[1;32mwith\u001b[0m \u001b[0mself\u001b[0m\u001b[1;33m.\u001b[0m\u001b[0m_lock\u001b[0m\u001b[1;33m:\u001b[0m\u001b[1;33m\u001b[0m\u001b[1;33m\u001b[0m\u001b[0m\n\u001b[0;32m    776\u001b[0m             \u001b[0mjob_idx\u001b[0m \u001b[1;33m=\u001b[0m \u001b[0mlen\u001b[0m\u001b[1;33m(\u001b[0m\u001b[0mself\u001b[0m\u001b[1;33m.\u001b[0m\u001b[0m_jobs\u001b[0m\u001b[1;33m)\u001b[0m\u001b[1;33m\u001b[0m\u001b[1;33m\u001b[0m\u001b[0m\n\u001b[1;32m--> 777\u001b[1;33m             \u001b[0mjob\u001b[0m \u001b[1;33m=\u001b[0m \u001b[0mself\u001b[0m\u001b[1;33m.\u001b[0m\u001b[0m_backend\u001b[0m\u001b[1;33m.\u001b[0m\u001b[0mapply_async\u001b[0m\u001b[1;33m(\u001b[0m\u001b[0mbatch\u001b[0m\u001b[1;33m,\u001b[0m \u001b[0mcallback\u001b[0m\u001b[1;33m=\u001b[0m\u001b[0mcb\u001b[0m\u001b[1;33m)\u001b[0m\u001b[1;33m\u001b[0m\u001b[1;33m\u001b[0m\u001b[0m\n\u001b[0m\u001b[0;32m    778\u001b[0m             \u001b[1;31m# A job can complete so quickly than its callback is\u001b[0m\u001b[1;33m\u001b[0m\u001b[1;33m\u001b[0m\u001b[1;33m\u001b[0m\u001b[0m\n\u001b[0;32m    779\u001b[0m             \u001b[1;31m# called before we get here, causing self._jobs to\u001b[0m\u001b[1;33m\u001b[0m\u001b[1;33m\u001b[0m\u001b[1;33m\u001b[0m\u001b[0m\n",
      "\u001b[1;32mC:\\Anaconda3\\lib\\site-packages\\joblib\\_parallel_backends.py\u001b[0m in \u001b[0;36mapply_async\u001b[1;34m(self, func, callback)\u001b[0m\n\u001b[0;32m    206\u001b[0m     \u001b[1;32mdef\u001b[0m \u001b[0mapply_async\u001b[0m\u001b[1;33m(\u001b[0m\u001b[0mself\u001b[0m\u001b[1;33m,\u001b[0m \u001b[0mfunc\u001b[0m\u001b[1;33m,\u001b[0m \u001b[0mcallback\u001b[0m\u001b[1;33m=\u001b[0m\u001b[1;32mNone\u001b[0m\u001b[1;33m)\u001b[0m\u001b[1;33m:\u001b[0m\u001b[1;33m\u001b[0m\u001b[1;33m\u001b[0m\u001b[0m\n\u001b[0;32m    207\u001b[0m         \u001b[1;34m\"\"\"Schedule a func to be run\"\"\"\u001b[0m\u001b[1;33m\u001b[0m\u001b[1;33m\u001b[0m\u001b[0m\n\u001b[1;32m--> 208\u001b[1;33m         \u001b[0mresult\u001b[0m \u001b[1;33m=\u001b[0m \u001b[0mImmediateResult\u001b[0m\u001b[1;33m(\u001b[0m\u001b[0mfunc\u001b[0m\u001b[1;33m)\u001b[0m\u001b[1;33m\u001b[0m\u001b[1;33m\u001b[0m\u001b[0m\n\u001b[0m\u001b[0;32m    209\u001b[0m         \u001b[1;32mif\u001b[0m \u001b[0mcallback\u001b[0m\u001b[1;33m:\u001b[0m\u001b[1;33m\u001b[0m\u001b[1;33m\u001b[0m\u001b[0m\n\u001b[0;32m    210\u001b[0m             \u001b[0mcallback\u001b[0m\u001b[1;33m(\u001b[0m\u001b[0mresult\u001b[0m\u001b[1;33m)\u001b[0m\u001b[1;33m\u001b[0m\u001b[1;33m\u001b[0m\u001b[0m\n",
      "\u001b[1;32mC:\\Anaconda3\\lib\\site-packages\\joblib\\_parallel_backends.py\u001b[0m in \u001b[0;36m__init__\u001b[1;34m(self, batch)\u001b[0m\n\u001b[0;32m    570\u001b[0m         \u001b[1;31m# Don't delay the application, to avoid keeping the input\u001b[0m\u001b[1;33m\u001b[0m\u001b[1;33m\u001b[0m\u001b[1;33m\u001b[0m\u001b[0m\n\u001b[0;32m    571\u001b[0m         \u001b[1;31m# arguments in memory\u001b[0m\u001b[1;33m\u001b[0m\u001b[1;33m\u001b[0m\u001b[1;33m\u001b[0m\u001b[0m\n\u001b[1;32m--> 572\u001b[1;33m         \u001b[0mself\u001b[0m\u001b[1;33m.\u001b[0m\u001b[0mresults\u001b[0m \u001b[1;33m=\u001b[0m \u001b[0mbatch\u001b[0m\u001b[1;33m(\u001b[0m\u001b[1;33m)\u001b[0m\u001b[1;33m\u001b[0m\u001b[1;33m\u001b[0m\u001b[0m\n\u001b[0m\u001b[0;32m    573\u001b[0m \u001b[1;33m\u001b[0m\u001b[0m\n\u001b[0;32m    574\u001b[0m     \u001b[1;32mdef\u001b[0m \u001b[0mget\u001b[0m\u001b[1;33m(\u001b[0m\u001b[0mself\u001b[0m\u001b[1;33m)\u001b[0m\u001b[1;33m:\u001b[0m\u001b[1;33m\u001b[0m\u001b[1;33m\u001b[0m\u001b[0m\n",
      "\u001b[1;32mC:\\Anaconda3\\lib\\site-packages\\joblib\\parallel.py\u001b[0m in \u001b[0;36m__call__\u001b[1;34m(self)\u001b[0m\n\u001b[0;32m    260\u001b[0m         \u001b[1;31m# change the default number of processes to -1\u001b[0m\u001b[1;33m\u001b[0m\u001b[1;33m\u001b[0m\u001b[1;33m\u001b[0m\u001b[0m\n\u001b[0;32m    261\u001b[0m         \u001b[1;32mwith\u001b[0m \u001b[0mparallel_backend\u001b[0m\u001b[1;33m(\u001b[0m\u001b[0mself\u001b[0m\u001b[1;33m.\u001b[0m\u001b[0m_backend\u001b[0m\u001b[1;33m,\u001b[0m \u001b[0mn_jobs\u001b[0m\u001b[1;33m=\u001b[0m\u001b[0mself\u001b[0m\u001b[1;33m.\u001b[0m\u001b[0m_n_jobs\u001b[0m\u001b[1;33m)\u001b[0m\u001b[1;33m:\u001b[0m\u001b[1;33m\u001b[0m\u001b[1;33m\u001b[0m\u001b[0m\n\u001b[1;32m--> 262\u001b[1;33m             return [func(*args, **kwargs)\n\u001b[0m\u001b[0;32m    263\u001b[0m                     for func, args, kwargs in self.items]\n\u001b[0;32m    264\u001b[0m \u001b[1;33m\u001b[0m\u001b[0m\n",
      "\u001b[1;32mC:\\Anaconda3\\lib\\site-packages\\joblib\\parallel.py\u001b[0m in \u001b[0;36m<listcomp>\u001b[1;34m(.0)\u001b[0m\n\u001b[0;32m    260\u001b[0m         \u001b[1;31m# change the default number of processes to -1\u001b[0m\u001b[1;33m\u001b[0m\u001b[1;33m\u001b[0m\u001b[1;33m\u001b[0m\u001b[0m\n\u001b[0;32m    261\u001b[0m         \u001b[1;32mwith\u001b[0m \u001b[0mparallel_backend\u001b[0m\u001b[1;33m(\u001b[0m\u001b[0mself\u001b[0m\u001b[1;33m.\u001b[0m\u001b[0m_backend\u001b[0m\u001b[1;33m,\u001b[0m \u001b[0mn_jobs\u001b[0m\u001b[1;33m=\u001b[0m\u001b[0mself\u001b[0m\u001b[1;33m.\u001b[0m\u001b[0m_n_jobs\u001b[0m\u001b[1;33m)\u001b[0m\u001b[1;33m:\u001b[0m\u001b[1;33m\u001b[0m\u001b[1;33m\u001b[0m\u001b[0m\n\u001b[1;32m--> 262\u001b[1;33m             return [func(*args, **kwargs)\n\u001b[0m\u001b[0;32m    263\u001b[0m                     for func, args, kwargs in self.items]\n\u001b[0;32m    264\u001b[0m \u001b[1;33m\u001b[0m\u001b[0m\n",
      "\u001b[1;32mC:\\Anaconda3\\lib\\site-packages\\sklearn\\utils\\fixes.py\u001b[0m in \u001b[0;36m__call__\u001b[1;34m(self, *args, **kwargs)\u001b[0m\n\u001b[0;32m    220\u001b[0m     \u001b[1;32mdef\u001b[0m \u001b[0m__call__\u001b[0m\u001b[1;33m(\u001b[0m\u001b[0mself\u001b[0m\u001b[1;33m,\u001b[0m \u001b[1;33m*\u001b[0m\u001b[0margs\u001b[0m\u001b[1;33m,\u001b[0m \u001b[1;33m**\u001b[0m\u001b[0mkwargs\u001b[0m\u001b[1;33m)\u001b[0m\u001b[1;33m:\u001b[0m\u001b[1;33m\u001b[0m\u001b[1;33m\u001b[0m\u001b[0m\n\u001b[0;32m    221\u001b[0m         \u001b[1;32mwith\u001b[0m \u001b[0mconfig_context\u001b[0m\u001b[1;33m(\u001b[0m\u001b[1;33m**\u001b[0m\u001b[0mself\u001b[0m\u001b[1;33m.\u001b[0m\u001b[0mconfig\u001b[0m\u001b[1;33m)\u001b[0m\u001b[1;33m:\u001b[0m\u001b[1;33m\u001b[0m\u001b[1;33m\u001b[0m\u001b[0m\n\u001b[1;32m--> 222\u001b[1;33m             \u001b[1;32mreturn\u001b[0m \u001b[0mself\u001b[0m\u001b[1;33m.\u001b[0m\u001b[0mfunction\u001b[0m\u001b[1;33m(\u001b[0m\u001b[1;33m*\u001b[0m\u001b[0margs\u001b[0m\u001b[1;33m,\u001b[0m \u001b[1;33m**\u001b[0m\u001b[0mkwargs\u001b[0m\u001b[1;33m)\u001b[0m\u001b[1;33m\u001b[0m\u001b[1;33m\u001b[0m\u001b[0m\n\u001b[0m",
      "\u001b[1;32mC:\\Anaconda3\\lib\\site-packages\\sklearn\\model_selection\\_validation.py\u001b[0m in \u001b[0;36m_fit_and_score\u001b[1;34m(estimator, X, y, scorer, train, test, verbose, parameters, fit_params, return_train_score, return_parameters, return_n_test_samples, return_times, return_estimator, split_progress, candidate_progress, error_score)\u001b[0m\n\u001b[0;32m    591\u001b[0m             \u001b[0mestimator\u001b[0m\u001b[1;33m.\u001b[0m\u001b[0mfit\u001b[0m\u001b[1;33m(\u001b[0m\u001b[0mX_train\u001b[0m\u001b[1;33m,\u001b[0m \u001b[1;33m**\u001b[0m\u001b[0mfit_params\u001b[0m\u001b[1;33m)\u001b[0m\u001b[1;33m\u001b[0m\u001b[1;33m\u001b[0m\u001b[0m\n\u001b[0;32m    592\u001b[0m         \u001b[1;32melse\u001b[0m\u001b[1;33m:\u001b[0m\u001b[1;33m\u001b[0m\u001b[1;33m\u001b[0m\u001b[0m\n\u001b[1;32m--> 593\u001b[1;33m             \u001b[0mestimator\u001b[0m\u001b[1;33m.\u001b[0m\u001b[0mfit\u001b[0m\u001b[1;33m(\u001b[0m\u001b[0mX_train\u001b[0m\u001b[1;33m,\u001b[0m \u001b[0my_train\u001b[0m\u001b[1;33m,\u001b[0m \u001b[1;33m**\u001b[0m\u001b[0mfit_params\u001b[0m\u001b[1;33m)\u001b[0m\u001b[1;33m\u001b[0m\u001b[1;33m\u001b[0m\u001b[0m\n\u001b[0m\u001b[0;32m    594\u001b[0m \u001b[1;33m\u001b[0m\u001b[0m\n\u001b[0;32m    595\u001b[0m     \u001b[1;32mexcept\u001b[0m \u001b[0mException\u001b[0m \u001b[1;32mas\u001b[0m \u001b[0me\u001b[0m\u001b[1;33m:\u001b[0m\u001b[1;33m\u001b[0m\u001b[1;33m\u001b[0m\u001b[0m\n",
      "\u001b[1;32mC:\\Anaconda3\\lib\\site-packages\\sklearn\\svm\\_classes.py\u001b[0m in \u001b[0;36mfit\u001b[1;34m(self, X, y, sample_weight)\u001b[0m\n\u001b[0;32m    423\u001b[0m                                    accept_large_sparse=False)\n\u001b[0;32m    424\u001b[0m         \u001b[0mpenalty\u001b[0m \u001b[1;33m=\u001b[0m \u001b[1;34m'l2'\u001b[0m  \u001b[1;31m# SVR only accepts l2 penalty\u001b[0m\u001b[1;33m\u001b[0m\u001b[1;33m\u001b[0m\u001b[0m\n\u001b[1;32m--> 425\u001b[1;33m         self.coef_, self.intercept_, self.n_iter_ = _fit_liblinear(\n\u001b[0m\u001b[0;32m    426\u001b[0m             \u001b[0mX\u001b[0m\u001b[1;33m,\u001b[0m \u001b[0my\u001b[0m\u001b[1;33m,\u001b[0m \u001b[0mself\u001b[0m\u001b[1;33m.\u001b[0m\u001b[0mC\u001b[0m\u001b[1;33m,\u001b[0m \u001b[0mself\u001b[0m\u001b[1;33m.\u001b[0m\u001b[0mfit_intercept\u001b[0m\u001b[1;33m,\u001b[0m \u001b[0mself\u001b[0m\u001b[1;33m.\u001b[0m\u001b[0mintercept_scaling\u001b[0m\u001b[1;33m,\u001b[0m\u001b[1;33m\u001b[0m\u001b[1;33m\u001b[0m\u001b[0m\n\u001b[0;32m    427\u001b[0m             \u001b[1;32mNone\u001b[0m\u001b[1;33m,\u001b[0m \u001b[0mpenalty\u001b[0m\u001b[1;33m,\u001b[0m \u001b[0mself\u001b[0m\u001b[1;33m.\u001b[0m\u001b[0mdual\u001b[0m\u001b[1;33m,\u001b[0m \u001b[0mself\u001b[0m\u001b[1;33m.\u001b[0m\u001b[0mverbose\u001b[0m\u001b[1;33m,\u001b[0m\u001b[1;33m\u001b[0m\u001b[1;33m\u001b[0m\u001b[0m\n",
      "\u001b[1;32mC:\\Anaconda3\\lib\\site-packages\\sklearn\\svm\\_base.py\u001b[0m in \u001b[0;36m_fit_liblinear\u001b[1;34m(X, y, C, fit_intercept, intercept_scaling, class_weight, penalty, dual, verbose, max_iter, tol, random_state, multi_class, loss, epsilon, sample_weight)\u001b[0m\n\u001b[0;32m    973\u001b[0m \u001b[1;33m\u001b[0m\u001b[0m\n\u001b[0;32m    974\u001b[0m     \u001b[0msolver_type\u001b[0m \u001b[1;33m=\u001b[0m \u001b[0m_get_liblinear_solver_type\u001b[0m\u001b[1;33m(\u001b[0m\u001b[0mmulti_class\u001b[0m\u001b[1;33m,\u001b[0m \u001b[0mpenalty\u001b[0m\u001b[1;33m,\u001b[0m \u001b[0mloss\u001b[0m\u001b[1;33m,\u001b[0m \u001b[0mdual\u001b[0m\u001b[1;33m)\u001b[0m\u001b[1;33m\u001b[0m\u001b[1;33m\u001b[0m\u001b[0m\n\u001b[1;32m--> 975\u001b[1;33m     raw_coef_, n_iter_ = liblinear.train_wrap(\n\u001b[0m\u001b[0;32m    976\u001b[0m         \u001b[0mX\u001b[0m\u001b[1;33m,\u001b[0m \u001b[0my_ind\u001b[0m\u001b[1;33m,\u001b[0m \u001b[0msp\u001b[0m\u001b[1;33m.\u001b[0m\u001b[0misspmatrix\u001b[0m\u001b[1;33m(\u001b[0m\u001b[0mX\u001b[0m\u001b[1;33m)\u001b[0m\u001b[1;33m,\u001b[0m \u001b[0msolver_type\u001b[0m\u001b[1;33m,\u001b[0m \u001b[0mtol\u001b[0m\u001b[1;33m,\u001b[0m \u001b[0mbias\u001b[0m\u001b[1;33m,\u001b[0m \u001b[0mC\u001b[0m\u001b[1;33m,\u001b[0m\u001b[1;33m\u001b[0m\u001b[1;33m\u001b[0m\u001b[0m\n\u001b[0;32m    977\u001b[0m         \u001b[0mclass_weight_\u001b[0m\u001b[1;33m,\u001b[0m \u001b[0mmax_iter\u001b[0m\u001b[1;33m,\u001b[0m \u001b[0mrnd\u001b[0m\u001b[1;33m.\u001b[0m\u001b[0mrandint\u001b[0m\u001b[1;33m(\u001b[0m\u001b[0mnp\u001b[0m\u001b[1;33m.\u001b[0m\u001b[0miinfo\u001b[0m\u001b[1;33m(\u001b[0m\u001b[1;34m'i'\u001b[0m\u001b[1;33m)\u001b[0m\u001b[1;33m.\u001b[0m\u001b[0mmax\u001b[0m\u001b[1;33m)\u001b[0m\u001b[1;33m,\u001b[0m\u001b[1;33m\u001b[0m\u001b[1;33m\u001b[0m\u001b[0m\n",
      "\u001b[1;31mKeyboardInterrupt\u001b[0m: "
     ]
    }
   ],
   "source": [
    "X_train, X_val, y_train, y_val, y_train_pred, y_valid_pred = run_model(dff, ordinal_ft, target, cv_svr)"
   ]
  },
  {
   "cell_type": "code",
   "execution_count": null,
   "id": "1301055f-9407-448e-a85b-9a375107ae14",
   "metadata": {},
   "outputs": [],
   "source": []
  },
  {
   "cell_type": "code",
   "execution_count": null,
   "id": "0c1e58a1-e4b4-45c8-ab9f-80006e908d99",
   "metadata": {
    "tags": []
   },
   "outputs": [],
   "source": [
    "cv_svr.best_params_"
   ]
  },
  {
   "cell_type": "code",
   "execution_count": null,
   "id": "38d51ad4-94f7-4bc8-808f-344576a17223",
   "metadata": {},
   "outputs": [],
   "source": [
    "cv_svr.best_estimator_"
   ]
  },
  {
   "cell_type": "code",
   "execution_count": null,
   "id": "7a2a9b91-195c-4974-b766-aea5dfec3fea",
   "metadata": {},
   "outputs": [],
   "source": [
    "# Predict\n",
    "y_train_pred_svr = cv_svr.best_estimator_.predict(X_train_r)\n",
    "y_valid_pred_svr = cv_svr.best_estimator_.predict(X_val_r)"
   ]
  },
  {
   "cell_type": "code",
   "execution_count": null,
   "id": "1d9613b5-7043-4d5e-9e92-6b2ba82d17be",
   "metadata": {},
   "outputs": [],
   "source": [
    "# evaluate MSE:\n",
    "train_error_svr = mean_squared_error(y_scaler.inverse_transform(y_train_r.reshape(-1,1)), y_scaler.inverse_transform(y_train_pred_svr.reshape(-1,1)))\n",
    "val_error_svr = mean_squared_error(y_scaler.inverse_transform(y_val_r.reshape(-1,1)), y_scaler.inverse_transform(y_valid_pred_svr.reshape(-1,1)))\n",
    "print(f'Train error MSE {train_error_svr.round(3)}, Valid error MSE {val_error_svr.round(3)}') "
   ]
  },
  {
   "cell_type": "code",
   "execution_count": null,
   "id": "0a72f68a-f493-4d1a-a9f0-c48bf012f0f2",
   "metadata": {},
   "outputs": [],
   "source": [
    "# evaluate MAE:\n",
    "train_error_svr = mean_absolute_error(y_scaler.inverse_transform(y_train_r.reshape(-1,1)), y_scaler.inverse_transform(y_train_pred_svr.reshape(-1,1)))\n",
    "val_error_svr = mean_absolute_error(y_scaler.inverse_transform(y_val_r.reshape(-1,1)), y_scaler.inverse_transform(y_valid_pred_svr.reshape(-1,1)))\n",
    "print(f'Train error MAE {train_error_svr.round(3)}, Valid error MAE {val_error_svr.round(3)}') "
   ]
  },
  {
   "cell_type": "code",
   "execution_count": null,
   "id": "1ee88036-0025-41c5-8786-1f96f59a69d8",
   "metadata": {},
   "outputs": [],
   "source": [
    "# evaluate RMSE:\n",
    "train_error_svr = np.sqrt(mean_squared_error(y_scaler.inverse_transform(y_train_r.reshape(-1,1)), y_scaler.inverse_transform(y_train_pred_svr.reshape(-1,1))))\n",
    "val_error_svr = np.sqrt(mean_squared_error(y_scaler.inverse_transform(y_val_r.reshape(-1,1)), y_scaler.inverse_transform(y_valid_pred_svr.reshape(-1,1))))\n",
    "print(f'Train error RMSE {train_error_svr.round(3)}, Valid error RMSE {val_error_svr.round(3)}') "
   ]
  },
  {
   "cell_type": "code",
   "execution_count": null,
   "id": "8eed586f-58f2-4d85-8efe-a08f54059f47",
   "metadata": {},
   "outputs": [],
   "source": [
    "pd.DataFrame(y_scaler.inverse_transform(y_val_r), columns=['val_real']).describe().round(2)"
   ]
  },
  {
   "cell_type": "code",
   "execution_count": null,
   "id": "18090440-e350-4588-aa6d-8393136b573e",
   "metadata": {},
   "outputs": [],
   "source": [
    "pd.DataFrame(y_scaler.inverse_transform(y_valid_pred_svr.reshape(-1,1)), columns=['val_pred']).describe().round(2)"
   ]
  },
  {
   "cell_type": "markdown",
   "id": "58e6e522-ef49-4ba9-9cbb-8c83e762efb3",
   "metadata": {},
   "source": [
    "### SGDRegressor - Default"
   ]
  },
  {
   "cell_type": "code",
   "execution_count": null,
   "id": "10f08f86-5b98-4d13-bf29-70200d0defaf",
   "metadata": {},
   "outputs": [],
   "source": [
    "from sklearn.linear_model import SGDRegressor"
   ]
  },
  {
   "cell_type": "markdown",
   "id": "348fa599-cae5-4d35-9a4a-f30e03836fa6",
   "metadata": {},
   "source": [
    "Utilizamos las variables X_train_r, X_val_r, y_train_r, y_val_r debido a que en este modelo utilizamos el mismo escalado que SVM-R. "
   ]
  },
  {
   "cell_type": "code",
   "execution_count": null,
   "id": "4e88c8ca-00d1-4a6f-b9a2-1a3c2162746f",
   "metadata": {
    "tags": []
   },
   "outputs": [],
   "source": [
    "# Fit\n",
    "sgd = SGDRegressor(random_state=0, shuffle=False)\n",
    "sgd.fit(X_train_r, y_train_r.ravel())"
   ]
  },
  {
   "cell_type": "code",
   "execution_count": null,
   "id": "d38485c7-bf4d-473a-862a-b4f2270d1a5b",
   "metadata": {},
   "outputs": [],
   "source": [
    "# Predict\n",
    "y_train_pred_sgd = sgd.predict(X_train_r)\n",
    "y_valid_pred_sgd = sgd.predict(X_val_r)"
   ]
  },
  {
   "cell_type": "code",
   "execution_count": null,
   "id": "a125c5ac-f25e-4e05-9ffb-d6d1b43ada3c",
   "metadata": {},
   "outputs": [],
   "source": [
    "# evaluate:\n",
    "train_error_sgd = mean_squared_error(y_scaler.inverse_transform(y_train_r.reshape(-1,1)), y_scaler.inverse_transform(y_train_pred_sgd.reshape(-1,1)))\n",
    "val_error_sgd = mean_squared_error(y_scaler.inverse_transform(y_val_r.reshape(-1,1)), y_scaler.inverse_transform(y_valid_pred_sgd.reshape(-1,1)))\n",
    "print(f'Train error {train_error_sgd.round(3)}, Valid error {val_error_sgd.round(3)}')  "
   ]
  },
  {
   "cell_type": "code",
   "execution_count": null,
   "id": "3829a3f1-4b74-4db4-8e43-55f9c97e92ad",
   "metadata": {},
   "outputs": [],
   "source": [
    "# evaluate MAE:\n",
    "train_error_sgd = mean_absolute_error(y_scaler.inverse_transform(y_train_r.reshape(-1,1)), y_scaler.inverse_transform(y_train_pred_sgd.reshape(-1,1)))\n",
    "val_error_sgd = mean_absolute_error(y_scaler.inverse_transform(y_val_r.reshape(-1,1)), y_scaler.inverse_transform(y_valid_pred_sgd.reshape(-1,1)))\n",
    "print(f'Train error MAE {train_error_sgd.round(3)}, Valid error MAE {val_error_sgd.round(3)}') "
   ]
  },
  {
   "cell_type": "code",
   "execution_count": null,
   "id": "5a992d04-498f-468b-b2f7-3c394e41a94b",
   "metadata": {},
   "outputs": [],
   "source": [
    "# evaluate RMSE:\n",
    "train_error_sgd = np.sqrt(mean_squared_error(y_scaler.inverse_transform(y_train_r.reshape(-1,1)), y_scaler.inverse_transform(y_train_pred_sgd.reshape(-1,1))))\n",
    "val_error_sgd = np.sqrt(mean_squared_error(y_scaler.inverse_transform(y_val_r.reshape(-1,1)), y_scaler.inverse_transform(y_valid_pred_sgd.reshape(-1,1))))\n",
    "print(f'Train error RMSE {train_error_sgd.round(3)}, Valid error RMSE {val_error_sgd.round(3)}') "
   ]
  },
  {
   "cell_type": "markdown",
   "id": "8d9a6b95-6c26-48af-aafd-647890768bd8",
   "metadata": {
    "tags": []
   },
   "source": [
    "Visualizamos nuestra variable target (real y predicción)"
   ]
  },
  {
   "cell_type": "code",
   "execution_count": null,
   "id": "9f4e8216-99a9-4b22-9a4e-d755cef60690",
   "metadata": {},
   "outputs": [],
   "source": [
    "pd.DataFrame(y_scaler.inverse_transform(y_val_r), columns=['val_real']).describe().round(2)"
   ]
  },
  {
   "cell_type": "code",
   "execution_count": null,
   "id": "daa5c795-4c05-41de-bc94-df2b1fb08e26",
   "metadata": {
    "tags": []
   },
   "outputs": [],
   "source": [
    "pd.DataFrame(y_scaler.inverse_transform(y_valid_pred_sgd.reshape(-1,1)), columns=['val_pred']).describe().round(2)"
   ]
  },
  {
   "cell_type": "markdown",
   "id": "96a717c0-b221-42c5-828b-2069e4f1949d",
   "metadata": {},
   "source": [
    "### SGDRegressor- Grid Search"
   ]
  },
  {
   "cell_type": "code",
   "execution_count": null,
   "id": "45a99cad-9c9b-45bd-9606-e0baf4836a83",
   "metadata": {
    "tags": []
   },
   "outputs": [],
   "source": [
    "y_train_r"
   ]
  },
  {
   "cell_type": "code",
   "execution_count": null,
   "id": "c0012b88-88d1-4da7-b073-8e4f44b4206f",
   "metadata": {
    "tags": []
   },
   "outputs": [],
   "source": [
    "param_grid = {\n",
    "    'loss': ['squared_loss','huber','epsilon_insensitive','squared_epsilon_insensitive'],\n",
    "    'penalty': ['l2','l1'],\n",
    "    'alpha': [0.001, 0.01, 0.1, 1],\n",
    "    'epsilon': [0.1, 0.01],\n",
    "    'tol': [1e-3, 1e-4],\n",
    "    'learning_rate': ['optimal', 'constant', 'adaptive','invscaling']\n",
    "    #'max_iter': [1000, 2000, 5000]\n",
    "}\n",
    "\n",
    "cv_sgd = GridSearchCV(sgd, param_grid, scoring='neg_mean_squared_error',cv=5)\n",
    "cv_sgd.fit(X_train_r, y_train_r.ravel())"
   ]
  },
  {
   "cell_type": "code",
   "execution_count": null,
   "id": "224798ca-b5d1-48ae-8c01-4996d398aa6c",
   "metadata": {
    "tags": []
   },
   "outputs": [],
   "source": [
    "cv_sgd.best_params_"
   ]
  },
  {
   "cell_type": "code",
   "execution_count": null,
   "id": "7cb667e2-4a97-4d60-848d-961845f0e0bc",
   "metadata": {},
   "outputs": [],
   "source": [
    "cv_sgd.best_estimator_"
   ]
  },
  {
   "cell_type": "code",
   "execution_count": null,
   "id": "1618844d-7a20-4c0a-bd85-7a0689795b25",
   "metadata": {},
   "outputs": [],
   "source": [
    "# Predict\n",
    "y_train_pred_sgd = cv_sgd.best_estimator_.predict(X_train_r)\n",
    "y_valid_pred_sgd = cv_sgd.best_estimator_.predict(X_val_r)"
   ]
  },
  {
   "cell_type": "code",
   "execution_count": null,
   "id": "1b2939c5-9e21-4c0a-a9a6-2d9ea67de9fc",
   "metadata": {},
   "outputs": [],
   "source": [
    "# evaluate MSE:\n",
    "train_error_sgd = mean_squared_error(y_scaler.inverse_transform(y_train_r.reshape(-1,1)), y_scaler.inverse_transform(y_train_pred_sgd.reshape(-1,1)))\n",
    "val_error_sgd = mean_squared_error(y_scaler.inverse_transform(y_val_r.reshape(-1,1)), y_scaler.inverse_transform(y_valid_pred_sgd.reshape(-1,1)))\n",
    "print(f'Train error {train_error_sgd.round(3)}, Valid error {val_error_sgd.round(3)}')   "
   ]
  },
  {
   "cell_type": "code",
   "execution_count": null,
   "id": "ac8bd002-c9f7-4bcf-bc56-1ed30fb49bec",
   "metadata": {},
   "outputs": [],
   "source": [
    "# evaluate MAE:\n",
    "train_error_sgd = mean_absolute_error(y_scaler.inverse_transform(y_train_r.reshape(-1,1)), y_scaler.inverse_transform(y_train_pred_sgd.reshape(-1,1)))\n",
    "val_error_sgd = mean_absolute_error(y_scaler.inverse_transform(y_val_r.reshape(-1,1)), y_scaler.inverse_transform(y_valid_pred_sgd.reshape(-1,1)))\n",
    "print(f'Train error MAE {train_error_sgd.round(3)}, Valid error MAE {val_error_sgd.round(3)}') "
   ]
  },
  {
   "cell_type": "code",
   "execution_count": null,
   "id": "9d9d1407-ec48-45de-945f-85d59a08315a",
   "metadata": {},
   "outputs": [],
   "source": [
    "# evaluate RMSE:\n",
    "train_error_sgd = np.sqrt(mean_squared_error(y_scaler.inverse_transform(y_train_r.reshape(-1,1)), y_scaler.inverse_transform(y_train_pred_sgd.reshape(-1,1))))\n",
    "val_error_sgd = np.sqrt(mean_squared_error(y_scaler.inverse_transform(y_val_r.reshape(-1,1)), y_scaler.inverse_transform(y_valid_pred_sgd.reshape(-1,1))))\n",
    "print(f'Train error RMSE {train_error_sgd.round(3)}, Valid error RMSE {val_error_sgd.round(3)}') "
   ]
  },
  {
   "cell_type": "markdown",
   "id": "1716b81c-dad8-4c30-9c9b-4a3cc8193ca1",
   "metadata": {
    "tags": []
   },
   "source": [
    "Visualizamos nuestra variable target (real y predicción)"
   ]
  },
  {
   "cell_type": "code",
   "execution_count": null,
   "id": "9858655c-9a86-4a1a-9f5f-82edc6d0270c",
   "metadata": {},
   "outputs": [],
   "source": [
    "pd.DataFrame(y_scaler.inverse_transform(y_val_r), columns=['val_real']).describe().round(2)"
   ]
  },
  {
   "cell_type": "code",
   "execution_count": null,
   "id": "43556762-8198-48bb-b2d1-2b8bb4514ae7",
   "metadata": {
    "tags": []
   },
   "outputs": [],
   "source": [
    "pd.DataFrame(y_scaler.inverse_transform(y_valid_pred_sgd.reshape(-1,1)), columns=['val_pred']).describe().round(2)"
   ]
  },
  {
   "cell_type": "markdown",
   "id": "4a6c4007-31e5-4854-b82c-b6bec547bcad",
   "metadata": {},
   "source": [
    "### KNeighborsRegressor - Default"
   ]
  },
  {
   "cell_type": "code",
   "execution_count": null,
   "id": "2316f14b-f509-43cb-aaf7-e9f6769ed679",
   "metadata": {},
   "outputs": [],
   "source": [
    "from sklearn.neighbors import KNeighborsRegressor"
   ]
  },
  {
   "cell_type": "code",
   "execution_count": null,
   "id": "ba64733f-14f8-41e3-bbfa-9321b30505d8",
   "metadata": {
    "tags": []
   },
   "outputs": [],
   "source": [
    "neigh = KNeighborsRegressor()\n",
    "neigh.fit(X_train_r, y_train_r.ravel())"
   ]
  },
  {
   "cell_type": "code",
   "execution_count": null,
   "id": "05eed3b9-a45d-4841-9f68-fef5c809b181",
   "metadata": {},
   "outputs": [],
   "source": [
    "# Predict\n",
    "y_train_pred_neigh = neigh.predict(X_train_r)\n",
    "y_valid_pred_neigh = neigh.predict(X_val_r)"
   ]
  },
  {
   "cell_type": "code",
   "execution_count": null,
   "id": "011d926c-7400-4fb4-b2f8-b2a5edc5d51d",
   "metadata": {},
   "outputs": [],
   "source": [
    "# evaluate MSE:\n",
    "train_error_neigh = mean_squared_error(y_scaler.inverse_transform(y_train_r.reshape(-1,1)), y_scaler.inverse_transform(y_train_pred_neigh.reshape(-1,1)))\n",
    "val_error_neigh = mean_squared_error(y_scaler.inverse_transform(y_val_r.reshape(-1,1)), y_scaler.inverse_transform(y_valid_pred_neigh.reshape(-1,1)))\n",
    "print(f'Train error {train_error_neigh.round(3)}, Valid error {val_error_neigh.round(3)}')   "
   ]
  },
  {
   "cell_type": "code",
   "execution_count": null,
   "id": "14eefa65-0e5d-4b86-8d26-533287db94cc",
   "metadata": {},
   "outputs": [],
   "source": [
    "# evaluate MAE:\n",
    "train_error_neigh = mean_absolute_error(y_scaler.inverse_transform(y_train_r.reshape(-1,1)), y_scaler.inverse_transform(y_train_pred_neigh.reshape(-1,1)))\n",
    "val_error_neigh = mean_absolute_error(y_scaler.inverse_transform(y_val_r.reshape(-1,1)), y_scaler.inverse_transform(y_valid_pred_neigh.reshape(-1,1)))\n",
    "print(f'Train error {train_error_neigh.round(3)}, Valid error {val_error_neigh.round(3)}')   "
   ]
  },
  {
   "cell_type": "code",
   "execution_count": null,
   "id": "86443b43-fd8a-4833-ba5b-e448ef9ff4cd",
   "metadata": {},
   "outputs": [],
   "source": [
    "# evaluate RMSE:\n",
    "train_error_neigh = np.sqrt(mean_squared_error(y_scaler.inverse_transform(y_train_r.reshape(-1,1)), y_scaler.inverse_transform(y_train_pred_neigh.reshape(-1,1))))\n",
    "val_error_neigh = np.sqrt(mean_squared_error(y_scaler.inverse_transform(y_val_r.reshape(-1,1)), y_scaler.inverse_transform(y_valid_pred_neigh.reshape(-1,1))))\n",
    "print(f'Train error {train_error_neigh.round(3)}, Valid error {val_error_neigh.round(3)}') "
   ]
  },
  {
   "cell_type": "code",
   "execution_count": null,
   "id": "83fe89db-b2d8-4415-be7e-7f304217ccc6",
   "metadata": {},
   "outputs": [],
   "source": [
    "pd.DataFrame(y_scaler.inverse_transform(y_val_r), columns=['val_real']).describe().round(2)"
   ]
  },
  {
   "cell_type": "code",
   "execution_count": null,
   "id": "059d50f1-d04d-44bf-a7c4-d491f83e3a5b",
   "metadata": {},
   "outputs": [],
   "source": [
    "pd.DataFrame(y_scaler.inverse_transform(y_valid_pred_neigh.reshape(-1,1)), columns=['val_pred']).describe().round(2)"
   ]
  },
  {
   "cell_type": "markdown",
   "id": "c1f6d693-3e5f-405a-b736-8695c0398e45",
   "metadata": {},
   "source": [
    "### KNeighborsRegressor - Grid Search"
   ]
  },
  {
   "cell_type": "code",
   "execution_count": null,
   "id": "f23004d3-c1b4-4797-bb80-e3bc77b9c480",
   "metadata": {
    "tags": []
   },
   "outputs": [],
   "source": [
    "param_grid = {\n",
    "    'n_neighbors': [2, 3, 4, 5],\n",
    "    'weights': ['uniform', 'distance'],\n",
    "    'algorithm': ['auto','ball_tree','kd_tree','brute'],\n",
    "    'p': [1,2]\n",
    "}\n",
    "cv_neigh = GridSearchCV(neigh, param_grid, scoring='neg_mean_squared_error',cv=5)\n",
    "cv_neigh.fit(X_train_r, y_train_r.ravel())"
   ]
  },
  {
   "cell_type": "code",
   "execution_count": null,
   "id": "fd360963-bc00-4b7e-b487-528c7ead9f7e",
   "metadata": {
    "tags": []
   },
   "outputs": [],
   "source": [
    "cv_neigh.best_params_"
   ]
  },
  {
   "cell_type": "code",
   "execution_count": null,
   "id": "41ebda87-5579-435b-9988-62cd5b11eb6d",
   "metadata": {},
   "outputs": [],
   "source": [
    "cv_neigh.best_estimator_"
   ]
  },
  {
   "cell_type": "code",
   "execution_count": null,
   "id": "7980f8af-306f-4ae9-84cc-f834c832ba7f",
   "metadata": {},
   "outputs": [],
   "source": [
    "# Predict\n",
    "y_train_pred_neigh = cv_neigh.best_estimator_.predict(X_train_r)\n",
    "y_valid_pred_neigh = cv_neigh.best_estimator_.predict(X_val_r)"
   ]
  },
  {
   "cell_type": "code",
   "execution_count": null,
   "id": "74732bba-4676-4cb8-8b35-1335c21534ac",
   "metadata": {},
   "outputs": [],
   "source": [
    "# evaluate MSE:\n",
    "train_error_neigh = mean_squared_error(y_scaler.inverse_transform(y_train_r.reshape(-1,1)), y_scaler.inverse_transform(y_train_pred_neigh.reshape(-1,1)))\n",
    "val_error_neigh = mean_squared_error(y_scaler.inverse_transform(y_val_r.reshape(-1,1)), y_scaler.inverse_transform(y_valid_pred_neigh.reshape(-1,1)))\n",
    "print(f'Train error {train_error_neigh.round(3)}, Valid error {val_error_neigh.round(3)}')   "
   ]
  },
  {
   "cell_type": "code",
   "execution_count": null,
   "id": "4faf236c-1a5d-474f-8919-abeac5f2eeba",
   "metadata": {},
   "outputs": [],
   "source": [
    "# evaluate MAE:\n",
    "train_error_neigh = mean_absolute_error(y_scaler.inverse_transform(y_train_r.reshape(-1,1)), y_scaler.inverse_transform(y_train_pred_neigh.reshape(-1,1)))\n",
    "val_error_neigh = mean_absolute_error(y_scaler.inverse_transform(y_val_r.reshape(-1,1)), y_scaler.inverse_transform(y_valid_pred_neigh.reshape(-1,1)))\n",
    "print(f'Train error {train_error_neigh.round(3)}, Valid error {val_error_neigh.round(3)}')   "
   ]
  },
  {
   "cell_type": "code",
   "execution_count": null,
   "id": "b6e88ec6-0230-4d1c-af1a-4b8ffb8686cb",
   "metadata": {},
   "outputs": [],
   "source": [
    "# evaluate RMSE:\n",
    "train_error_neigh = np.sqrt(mean_squared_error(y_scaler.inverse_transform(y_train_r.reshape(-1,1)), y_scaler.inverse_transform(y_train_pred_neigh.reshape(-1,1))))\n",
    "val_error_neigh = np.sqrt(mean_squared_error(y_scaler.inverse_transform(y_val_r.reshape(-1,1)), y_scaler.inverse_transform(y_valid_pred_neigh.reshape(-1,1))))\n",
    "print(f'Train error {train_error_neigh.round(3)}, Valid error {val_error_neigh.round(3)}') "
   ]
  },
  {
   "cell_type": "markdown",
   "id": "7e3bd3b5-6d26-4d60-9f83-6326c0c46104",
   "metadata": {
    "tags": []
   },
   "source": [
    "Visualizamos nuestra variable target (real y predicción)"
   ]
  },
  {
   "cell_type": "code",
   "execution_count": null,
   "id": "7780123b-181b-47f7-90c4-97dbcb5f20b3",
   "metadata": {},
   "outputs": [],
   "source": [
    "pd.DataFrame(y_scaler.inverse_transform(y_val_r), columns=['val_real']).describe().round(2)"
   ]
  },
  {
   "cell_type": "code",
   "execution_count": null,
   "id": "30389d61-f8ac-4708-83c3-43ac992aadde",
   "metadata": {
    "tags": []
   },
   "outputs": [],
   "source": [
    "pd.DataFrame(y_scaler.inverse_transform(y_valid_pred_neigh.reshape(-1,1)), columns=['val_pred']).describe().round(2)"
   ]
  },
  {
   "cell_type": "markdown",
   "id": "fb289b73-5dd3-457f-bd04-4018a0a0d709",
   "metadata": {},
   "source": [
    "### GaussianProcessRegressor - Default"
   ]
  },
  {
   "cell_type": "code",
   "execution_count": null,
   "id": "befd13e2-8468-4a93-ae43-51f72709a3f9",
   "metadata": {},
   "outputs": [],
   "source": [
    "from sklearn.gaussian_process import GaussianProcessRegressor"
   ]
  },
  {
   "cell_type": "code",
   "execution_count": null,
   "id": "9f4b3aac-1c99-4eee-9d3d-a339cec6be2d",
   "metadata": {},
   "outputs": [],
   "source": [
    "# Toma por parametro un kernel por defecto que probablemente habria que optimizar \n",
    "gpr = GaussianProcessRegressor(random_state=0)\n",
    "gpr.fit(X_train_r, y_train_r.ravel())"
   ]
  },
  {
   "cell_type": "code",
   "execution_count": null,
   "id": "c5c21a87-978a-4413-9118-d0fcc40855f6",
   "metadata": {},
   "outputs": [],
   "source": [
    "# Predict\n",
    "y_train_pred_gpr = gpr.predict(X_train_r)\n",
    "y_valid_pred_gpr = gpr.predict(X_val_r)"
   ]
  },
  {
   "cell_type": "code",
   "execution_count": null,
   "id": "c8635b75-09c3-4a4c-a451-458dfd27bc2d",
   "metadata": {
    "tags": []
   },
   "outputs": [],
   "source": [
    "# evaluate MSE:\n",
    "train_error_gpr  = mean_squared_error(y_scaler.inverse_transform(y_train_r.reshape(-1,1)), y_scaler.inverse_transform(y_train_pred_gpr.reshape(-1,1)))\n",
    "val_error_gpr  = mean_squared_error(y_scaler.inverse_transform(y_val_r.reshape(-1,1)), y_scaler.inverse_transform(y_valid_pred_gpr.reshape(-1,1)) )\n",
    "print(f'Train error {train_error_gpr .round(3)}, Valid error {val_error_gpr .round(3)}')  "
   ]
  },
  {
   "cell_type": "code",
   "execution_count": null,
   "id": "49704231-9816-4b6f-b2f1-313c7249ed08",
   "metadata": {},
   "outputs": [],
   "source": [
    "# evaluate MAE:\n",
    "train_error_gpr  = mean_absolute_error(y_scaler.inverse_transform(y_train_r.reshape(-1,1)), y_scaler.inverse_transform(y_train_pred_gpr.reshape(-1,1)) )\n",
    "val_error_gpr  = mean_absolute_error(y_scaler.inverse_transform(y_val_r.reshape(-1,1)), y_scaler.inverse_transform(y_valid_pred_gpr.reshape(-1,1)) )\n",
    "print(f'Train error {train_error_gpr .round(3)}, Valid error {val_error_gpr .round(3)}')  "
   ]
  },
  {
   "cell_type": "code",
   "execution_count": null,
   "id": "341c2729-b4cd-4f78-a646-2c53577fdaf6",
   "metadata": {},
   "outputs": [],
   "source": [
    "# evaluate RMSE:\n",
    "train_error_gpr = np.sqrt(mean_squared_error(y_scaler.inverse_transform(y_train_r.reshape(-1,1)), y_scaler.inverse_transform(y_train_pred_gpr.reshape(-1,1))))\n",
    "val_error_gpr = np.sqrt(mean_squared_error(y_scaler.inverse_transform(y_val_r.reshape(-1,1)), y_scaler.inverse_transform(y_valid_pred_gpr.reshape(-1,1))))\n",
    "print(f'Train error RMSE {train_error_gpr.round(3)}, Valid error RMSE {val_error_gpr.round(3)}') "
   ]
  },
  {
   "cell_type": "code",
   "execution_count": null,
   "id": "59ac0f21-1db5-439a-8cd0-516405eb4608",
   "metadata": {},
   "outputs": [],
   "source": [
    "pd.DataFrame(y_scaler.inverse_transform(y_val_r), columns=['val_real']).describe().round(2)"
   ]
  },
  {
   "cell_type": "code",
   "execution_count": null,
   "id": "d15d557e-1537-4d90-996d-13ec9273648b",
   "metadata": {},
   "outputs": [],
   "source": [
    "pd.DataFrame(y_scaler.inverse_transform(y_valid_pred_gpr.reshape(-1,1)), columns=['val_pred']).describe().round()"
   ]
  },
  {
   "cell_type": "markdown",
   "id": "f5a1db4d-fb35-4226-832b-31a05737b949",
   "metadata": {},
   "source": [
    "### GaussianProcessRegressor - Grid Search "
   ]
  },
  {
   "cell_type": "code",
   "execution_count": null,
   "id": "c9790838-5840-4a8b-80ff-eedc04b0e0ac",
   "metadata": {},
   "outputs": [],
   "source": [
    "from sklearn.gaussian_process.kernels import ConstantKernel, RBF, RationalQuadratic, ExpSineSquared"
   ]
  },
  {
   "cell_type": "code",
   "execution_count": null,
   "id": "0ae8edff-b394-4b9e-a552-47fc723b54d3",
   "metadata": {
    "tags": []
   },
   "outputs": [],
   "source": [
    "ker_rbf = ConstantKernel(1.0, constant_value_bounds=\"fixed\") * RBF(1.0, length_scale_bounds=\"fixed\")\n",
    "ker_rq = ConstantKernel(1.0, constant_value_bounds=\"fixed\") * RationalQuadratic(alpha=0.1, length_scale=1)\n",
    "ker_expsine = ConstantKernel(1.0, constant_value_bounds=\"fixed\") * ExpSineSquared(1.0, 5.0, periodicity_bounds=(1e-2, 1e1))\n",
    "\n",
    "kernel_list = [ker_rbf, ker_rq, ker_expsine]\n",
    "\n",
    "param_grid = {\"kernel\": kernel_list,\n",
    "              \"alpha\": [1e1]}\n",
    "              \n",
    "            \n",
    "    \n",
    "    #'max_iter': [1000, 2000, 5000]\n",
    "\n",
    "\n",
    "cv_gpr = GridSearchCV(gpr, param_grid, scoring='neg_mean_squared_error',cv=5)\n",
    "cv_gpr.fit(X_train_r, y_train_r.ravel())"
   ]
  },
  {
   "cell_type": "code",
   "execution_count": null,
   "id": "68279ae6-a68e-46aa-afb7-dc0914329593",
   "metadata": {
    "tags": []
   },
   "outputs": [],
   "source": [
    "cv_gpr.best_params_"
   ]
  },
  {
   "cell_type": "code",
   "execution_count": null,
   "id": "5552e65c-1f89-43dc-b7b4-9052962ec723",
   "metadata": {},
   "outputs": [],
   "source": [
    "cv_gpr.best_estimator_"
   ]
  },
  {
   "cell_type": "code",
   "execution_count": null,
   "id": "63f1c43e-a88c-4efe-bd3e-03c5c7cb38c3",
   "metadata": {},
   "outputs": [],
   "source": [
    "# Predict\n",
    "y_train_pred_gpr = cv_gpr.best_estimator_.predict(X_train_r)\n",
    "y_valid_pred_gpr = cv_gpr.best_estimator_.predict(X_val_r)"
   ]
  },
  {
   "cell_type": "code",
   "execution_count": null,
   "id": "dcd8dd10-806c-445b-8013-d7280ff16b7e",
   "metadata": {},
   "outputs": [],
   "source": [
    "# evaluate MSE:\n",
    "train_error_gpr = mean_squared_error(y_scaler.inverse_transform(y_train_r.reshape(-1,1)), y_scaler.inverse_transform(y_train_pred_gpr.reshape(-1,1)))\n",
    "val_error_gpr = mean_squared_error(y_scaler.inverse_transform(y_val_r.reshape(-1,1)), y_scaler.inverse_transform(y_valid_pred_gpr.reshape(-1,1)))\n",
    "print(f'Train error {train_error_gpr.round(3)}, Valid error {val_error_gpr.round(3)}')  "
   ]
  },
  {
   "cell_type": "code",
   "execution_count": null,
   "id": "be3eeb09-c028-4f0e-a5e3-0d254da6e77a",
   "metadata": {
    "tags": []
   },
   "outputs": [],
   "source": [
    "# evaluate MAE:\n",
    "train_error_gpr = mean_absolute_error(y_scaler.inverse_transform(y_train_r.reshape(-1,1)), y_scaler.inverse_transform(y_train_pred_gpr.reshape(-1,1)))\n",
    "val_error_gpr = mean_absolute_error(y_scaler.inverse_transform(y_val_r.reshape(-1,1)), y_scaler.inverse_transform(y_valid_pred_gpr.reshape(-1,1)))\n",
    "print(f'Train error MAE {train_error_gpr.round(3)}, Valid error MAE {val_error_gpr.round(3)}') "
   ]
  },
  {
   "cell_type": "code",
   "execution_count": null,
   "id": "c673a065-cd61-477a-9d70-14c94e34f6da",
   "metadata": {},
   "outputs": [],
   "source": [
    "# evaluate RMSE:\n",
    "train_error_gpr = np.sqrt(mean_squared_error(y_scaler.inverse_transform(y_train_r.reshape(-1,1)), y_scaler.inverse_transform(y_train_pred_gpr.reshape(-1,1))))\n",
    "val_error_gpr = np.sqrt(mean_squared_error(y_scaler.inverse_transform(y_val_r.reshape(-1,1)), y_scaler.inverse_transform(y_valid_pred_gpr.reshape(-1,1))))\n",
    "print(f'Train error RMSE {train_error_gpr.round(3)}, Valid error RMSE {val_error_gpr.round(3)}') "
   ]
  },
  {
   "cell_type": "markdown",
   "id": "11d6fe90-21d9-4cfa-9a8b-2eaf9bf5075f",
   "metadata": {
    "tags": []
   },
   "source": [
    "Visualizamos nuestra variable target (real y predicción)"
   ]
  },
  {
   "cell_type": "code",
   "execution_count": null,
   "id": "40d48076-7b80-48e6-bb85-db33e510dd0b",
   "metadata": {},
   "outputs": [],
   "source": [
    "pd.DataFrame(y_scaler.inverse_transform(y_val_r), columns=['val_real']).describe().round(2)"
   ]
  },
  {
   "cell_type": "code",
   "execution_count": null,
   "id": "abc29c70-f8c4-4b01-ba35-e1c8c5c28dd5",
   "metadata": {
    "tags": []
   },
   "outputs": [],
   "source": [
    "pd.DataFrame(y_scaler.inverse_transform(y_valid_pred_gpr.reshape(-1,1)), columns=['val_pred']).describe().round(2)"
   ]
  },
  {
   "cell_type": "markdown",
   "id": "7802e643-af41-4162-afd0-11890747b244",
   "metadata": {},
   "source": [
    "### VotingRegressor"
   ]
  },
  {
   "cell_type": "code",
   "execution_count": null,
   "id": "f8539ce9-5342-4147-a243-889ca43b34fc",
   "metadata": {},
   "outputs": [],
   "source": [
    "from sklearn.ensemble import VotingRegressor"
   ]
  },
  {
   "cell_type": "code",
   "execution_count": null,
   "id": "354d7137-e796-4ee2-88fb-4affcefcc5a4",
   "metadata": {
    "tags": []
   },
   "outputs": [],
   "source": [
    "#('gpr', cv_gpr.best_estimator_)\n",
    "vr = VotingRegressor([('svr', cv_svr.best_estimator_), ('sgd', cv_sgd.best_estimator_), ('neigh', cv_neigh.best_estimator_),('gpr', cv_gpr.best_estimator_)])\n",
    "vr.fit(X_train_r, y_train_r.ravel())"
   ]
  },
  {
   "cell_type": "code",
   "execution_count": null,
   "id": "4c247f2c-1fc0-48af-b620-502cf5df5182",
   "metadata": {},
   "outputs": [],
   "source": [
    "# Predict\n",
    "y_train_pred_vr = vr.predict(X_train_r)\n",
    "y_valid_pred_vr = vr.predict(X_val_r)"
   ]
  },
  {
   "cell_type": "code",
   "execution_count": null,
   "id": "7c62aa46-12b6-4633-a54f-b0dc17684d4f",
   "metadata": {
    "tags": []
   },
   "outputs": [],
   "source": [
    "# evaluate MSE:\n",
    "train_error_vr = mean_squared_error(y_scaler.inverse_transform(y_train_r.reshape(-1,1)), y_scaler.inverse_transform(y_train_pred_vr.reshape(-1,1)))\n",
    "val_error_vr = mean_squared_error(y_scaler.inverse_transform(y_val_r.reshape(-1,1)), y_scaler.inverse_transform(y_valid_pred_vr.reshape(-1,1)))\n",
    "print(f'Train error {train_error_vr.round(3)}, Valid error {val_error_vr.round(3)}')"
   ]
  },
  {
   "cell_type": "code",
   "execution_count": null,
   "id": "277c891e-82f1-450e-b0d3-aaccdd6f392b",
   "metadata": {},
   "outputs": [],
   "source": [
    "# evaluate MAE:\n",
    "train_error_vr = mean_absolute_error(y_scaler.inverse_transform(y_train_r.reshape(-1,1)), y_scaler.inverse_transform(y_train_pred_vr.reshape(-1,1)))\n",
    "val_error_vr = mean_absolute_error(y_scaler.inverse_transform(y_val_r.reshape(-1,1)), y_scaler.inverse_transform(y_valid_pred_vr.reshape(-1,1)))\n",
    "print(f'Train error MAE {train_error_vr.round(3)}, Valid error MAE {val_error_vr.round(3)}') "
   ]
  },
  {
   "cell_type": "code",
   "execution_count": null,
   "id": "b52c13be-76c4-4032-9122-46f469ef0c31",
   "metadata": {},
   "outputs": [],
   "source": [
    "# evaluate RMSE:\n",
    "train_error_vr = np.sqrt(mean_squared_error(y_scaler.inverse_transform(y_train_r.reshape(-1,1)), y_scaler.inverse_transform(y_train_pred_vr.reshape(-1,1))))\n",
    "val_error_vr = np.sqrt(mean_squared_error(y_scaler.inverse_transform(y_val_r.reshape(-1,1)), y_scaler.inverse_transform(y_valid_pred_vr.reshape(-1,1))))\n",
    "print(f'Train error RMSE {train_error_vr.round(3)}, Valid error RMSE {val_error_vr.round(3)}') "
   ]
  },
  {
   "cell_type": "code",
   "execution_count": null,
   "id": "b2386faa-dc1b-4f2e-9bb8-698413ee3163",
   "metadata": {},
   "outputs": [],
   "source": [
    "pd.DataFrame(y_scaler.inverse_transform(y_val_r), columns=['val_real']).describe().round(2)"
   ]
  },
  {
   "cell_type": "code",
   "execution_count": null,
   "id": "3fc78cc5-6b0d-4100-82c3-51520e70c2a0",
   "metadata": {},
   "outputs": [],
   "source": [
    "pd.DataFrame(y_scaler.inverse_transform(y_valid_pred_vr.reshape(-1,1)), columns=['val_pred']).describe().round(2)"
   ]
  },
  {
   "cell_type": "markdown",
   "id": "64e2e60e-2e86-4049-bdc3-3182287cc8bb",
   "metadata": {},
   "source": [
    "### XGBRegressor - Default"
   ]
  },
  {
   "cell_type": "code",
   "execution_count": null,
   "id": "72111ef5-be0a-43e1-9dc1-dc7fff2f21f9",
   "metadata": {},
   "outputs": [],
   "source": [
    "from xgboost import XGBRegressor"
   ]
  },
  {
   "cell_type": "code",
   "execution_count": null,
   "id": "7561717a-6424-4a10-b34c-75fb5c1d53ee",
   "metadata": {},
   "outputs": [],
   "source": [
    "# Toma por parametro un kernel por defecto que probablemente habria que optimizar \n",
    "xgb = XGBRegressor(random_state=0)\n",
    "xgb.fit(X_train_r, y_train_r.ravel())"
   ]
  },
  {
   "cell_type": "code",
   "execution_count": null,
   "id": "5ca0e22e-8bb5-4c9e-97de-3c4bdb0c9072",
   "metadata": {},
   "outputs": [],
   "source": [
    "# Predict\n",
    "y_train_pred_xgb = xgb.predict(X_train_r)\n",
    "y_valid_pred_xgb = xgb.predict(X_val_r)"
   ]
  },
  {
   "cell_type": "code",
   "execution_count": null,
   "id": "cc55a4fd-76bf-450e-98b4-ae1ffb93d964",
   "metadata": {
    "tags": []
   },
   "outputs": [],
   "source": [
    "# evaluate MSE:\n",
    "train_error_xgb  = mean_squared_error(y_scaler.inverse_transform(y_train_r.reshape(-1,1)), y_scaler.inverse_transform(y_train_pred_xgb.reshape(-1,1)))\n",
    "val_error_xgb  = mean_squared_error(y_scaler.inverse_transform(y_val_r.reshape(-1,1)), y_scaler.inverse_transform(y_valid_pred_xgb.reshape(-1,1)))\n",
    "print(f'Train error {train_error_xgb.round(3)}, Valid error {val_error_xgb.round(3)}')  "
   ]
  },
  {
   "cell_type": "code",
   "execution_count": null,
   "id": "0203a9cc-5e3e-4189-ad31-85196805e5ca",
   "metadata": {},
   "outputs": [],
   "source": [
    "# evaluate MAE:\n",
    "train_error_xgb = mean_absolute_error(y_scaler.inverse_transform(y_train_r.reshape(-1,1)), y_scaler.inverse_transform(y_train_pred_xgb.reshape(-1,1)))\n",
    "val_error_xgb = mean_absolute_error(y_scaler.inverse_transform(y_val_r.reshape(-1,1)), y_scaler.inverse_transform(y_valid_pred_xgb.reshape(-1,1)))\n",
    "print(f'Train error MAE {train_error_xgb.round(3)}, Valid error MAE {val_error_xgb.round(3)}') "
   ]
  },
  {
   "cell_type": "code",
   "execution_count": null,
   "id": "8de57eee-161d-4c21-adae-786adf4be11a",
   "metadata": {},
   "outputs": [],
   "source": [
    "# evaluate RMSE:\n",
    "train_error_xgb = np.sqrt(mean_squared_error(y_scaler.inverse_transform(y_train_r.reshape(-1,1)), y_scaler.inverse_transform(y_train_pred_xgb.reshape(-1,1))))\n",
    "val_error_xgb = np.sqrt(mean_squared_error(y_scaler.inverse_transform(y_val_r.reshape(-1,1)), y_scaler.inverse_transform(y_valid_pred_xgb.reshape(-1,1))))\n",
    "print(f'Train error RMSE {train_error_xgb.round(3)}, Valid error RMSE {val_error_xgb.round(3)}') "
   ]
  },
  {
   "cell_type": "code",
   "execution_count": null,
   "id": "dd8325b7-2d6d-47c9-a8ab-ac7e77be7091",
   "metadata": {},
   "outputs": [],
   "source": [
    "pd.DataFrame(y_scaler.inverse_transform(y_val_r), columns=['val_real']).describe().round(2)"
   ]
  },
  {
   "cell_type": "code",
   "execution_count": null,
   "id": "dad7b631-ba5e-44d0-947c-742a9e902a9e",
   "metadata": {},
   "outputs": [],
   "source": [
    "pd.DataFrame(y_scaler.inverse_transform(y_valid_pred_xgb.reshape(-1,1)), columns=['val_pred']).describe().round(2)"
   ]
  },
  {
   "cell_type": "markdown",
   "id": "2c131c49-cec2-43e7-bdc3-fe2982d753de",
   "metadata": {},
   "source": [
    "### XGBRegressor - Grid Search"
   ]
  },
  {
   "cell_type": "code",
   "execution_count": null,
   "id": "5b3cb3ad-6855-4820-b97a-18b37817faf1",
   "metadata": {
    "tags": []
   },
   "outputs": [],
   "source": [
    "param_grid = {'n_estimators': [8,10,15,20],\n",
    "              'reg_alpha': [5, 10, 15],\n",
    "              'max_depth': [20, 25, 30, 35],\n",
    "              'booster' : ['gbtree', 'gblinear','dart']\n",
    "    \n",
    "    #'max_iter': [1000, 2000, 5000]\n",
    "}\n",
    "\n",
    "cv_xgb = GridSearchCV(xgb, param_grid, scoring='neg_mean_squared_error',cv=5)\n",
    "cv_xgb.fit(X_train_r, y_train_r.ravel())"
   ]
  },
  {
   "cell_type": "code",
   "execution_count": null,
   "id": "addd5dcd-afce-4698-96fe-31a2065c65bd",
   "metadata": {
    "tags": []
   },
   "outputs": [],
   "source": [
    "cv_xgb.best_params_"
   ]
  },
  {
   "cell_type": "code",
   "execution_count": null,
   "id": "3dee3757-41e3-4bc9-ba30-7fb4db481fe0",
   "metadata": {},
   "outputs": [],
   "source": [
    "cv_xgb.best_estimator_"
   ]
  },
  {
   "cell_type": "code",
   "execution_count": null,
   "id": "429eb576-419c-4e62-91d8-6e1e01b88be2",
   "metadata": {},
   "outputs": [],
   "source": [
    "# Predict\n",
    "y_train_pred_xgb = cv_xgb.best_estimator_.predict(X_train_r)\n",
    "y_valid_pred_xgb = cv_xgb.best_estimator_.predict(X_val_r)"
   ]
  },
  {
   "cell_type": "code",
   "execution_count": null,
   "id": "04397f7d-305e-4e0b-b09d-bee3deac0a08",
   "metadata": {
    "tags": []
   },
   "outputs": [],
   "source": [
    "# evaluate MSE:\n",
    "train_error_xgb  = mean_squared_error(y_scaler.inverse_transform(y_train_r.reshape(-1,1)), y_scaler.inverse_transform(y_train_pred_xgb.reshape(-1,1)))\n",
    "val_error_xgb  = mean_squared_error(y_scaler.inverse_transform(y_val_r.reshape(-1,1)), y_scaler.inverse_transform(y_valid_pred_xgb.reshape(-1,1)))\n",
    "print(f'Train error {train_error_xgb.round(3)}, Valid error {val_error_xgb.round(3)}')  "
   ]
  },
  {
   "cell_type": "code",
   "execution_count": null,
   "id": "555ccdb0-8aba-429d-8a42-14b9ade6f2ce",
   "metadata": {},
   "outputs": [],
   "source": [
    "# evaluate MAE:\n",
    "train_error_xgb = mean_absolute_error(y_scaler.inverse_transform(y_train_r.reshape(-1,1)), y_scaler.inverse_transform(y_train_pred_xgb.reshape(-1,1)))\n",
    "val_error_xgb = mean_absolute_error(y_scaler.inverse_transform(y_val_r.reshape(-1,1)), y_scaler.inverse_transform(y_valid_pred_xgb.reshape(-1,1)))\n",
    "print(f'Train error MAE {train_error_xgb.round(3)}, Valid error MAE {val_error_xgb.round(3)}') "
   ]
  },
  {
   "cell_type": "code",
   "execution_count": null,
   "id": "dbbf0b54-8846-4215-95d9-7a935b483c5a",
   "metadata": {},
   "outputs": [],
   "source": [
    "# evaluate RMSE:\n",
    "train_error_xgb = np.sqrt(mean_squared_error(y_scaler.inverse_transform(y_train_r.reshape(-1,1)), y_scaler.inverse_transform(y_train_pred_xgb.reshape(-1,1))))\n",
    "val_error_xgb = np.sqrt(mean_squared_error(y_scaler.inverse_transform(y_val_r.reshape(-1,1)), y_scaler.inverse_transform(y_valid_pred_xgb.reshape(-1,1))))\n",
    "print(f'Train error RMSE {train_error_xgb.round(3)}, Valid error RMSE {val_error_xgb.round(3)}') "
   ]
  },
  {
   "cell_type": "markdown",
   "id": "3f7d4b0c-44e5-495d-becc-6144847e3c01",
   "metadata": {
    "tags": []
   },
   "source": [
    "Visualizamos nuestra variable target (real y predicción)"
   ]
  },
  {
   "cell_type": "code",
   "execution_count": null,
   "id": "f1fd3661-00b4-4d62-a9e0-5dd5daa15ee0",
   "metadata": {},
   "outputs": [],
   "source": [
    "pd.DataFrame(y_scaler.inverse_transform(y_val_r), columns=['val_real']).describe().round(2)"
   ]
  },
  {
   "cell_type": "code",
   "execution_count": null,
   "id": "2ee2c289-670c-42a4-9a01-ca72a6fe3a61",
   "metadata": {
    "tags": []
   },
   "outputs": [],
   "source": [
    "pd.DataFrame(y_scaler.inverse_transform(y_valid_pred_xgb.reshape(-1,1)), columns=['val_pred']).describe().round(2)"
   ]
  },
  {
   "cell_type": "markdown",
   "id": "1e5cc77b-9a0c-4857-9660-531253974c2d",
   "metadata": {},
   "source": [
    "## 4. Clasificación\n",
    "Una vez finalizada la etapa de preprocesamiento, se propone implementar diferentes modelos \n",
    "de predicción para la variable que indica si el consumo sera mas alto, o menor en el mes siguiente, utilizando la librería Scikit-Learn:\n",
    "\n",
    "* RandomForestClassifier ([Doc](https://scikit-learn.org/stable/modules/generated/sklearn.ensemble.RandomForestClassifier.html))\n",
    "\n",
    "Y de la libreria XGBoost\n",
    "* XGBClassifier ([Doc](https://xgboost.readthedocs.io/en/latest/python/python_api.html#xgboost.XGBClassifier))\n",
    "\n",
    "Comparar \n",
    "* precision\n",
    "* recall  \n",
    "* f1-score\n",
    "* Accuracy\n",
    "\n",
    "Comparar las métricas obtenidas en cada modelo y obtener conclusiones.\n",
    "\n",
    "> Una vez encontrado el mejor modelo se validara usando el conjunto de evaluacion dado por el mentor"
   ]
  },
  {
   "cell_type": "code",
   "execution_count": null,
   "id": "463825af-1492-452a-b5d3-a4b7bbd6c90c",
   "metadata": {
    "tags": []
   },
   "outputs": [],
   "source": [
    "# división train y test\n",
    "X_train_c, X_val_c, y_train_c, y_val_c = train_test_split(X_c, y_c, test_size=0.3, random_state=0, shuffle=False)"
   ]
  },
  {
   "cell_type": "code",
   "execution_count": null,
   "id": "dae13cf4-75aa-4eb0-813d-6e63b9d6630b",
   "metadata": {
    "tags": []
   },
   "outputs": [],
   "source": [
    "X_train_c.shape"
   ]
  },
  {
   "cell_type": "code",
   "execution_count": null,
   "id": "dd125bac-a47f-455c-98ac-ff3022916478",
   "metadata": {},
   "outputs": [],
   "source": [
    "y_train_c.shape"
   ]
  },
  {
   "cell_type": "code",
   "execution_count": null,
   "id": "9bad8c21-e71c-41d1-a929-7d7ec3e868d4",
   "metadata": {},
   "outputs": [],
   "source": [
    "X_val_c.shape"
   ]
  },
  {
   "cell_type": "code",
   "execution_count": null,
   "id": "5624a04b-2505-4fdd-bc7b-be1c6e18e192",
   "metadata": {
    "tags": []
   },
   "outputs": [],
   "source": [
    "y_val_c.shape"
   ]
  },
  {
   "cell_type": "markdown",
   "id": "2d12cb5d-fa48-474f-b767-115d9498c240",
   "metadata": {
    "tags": []
   },
   "source": [
    "### RandomForestClassifier - Grid Search"
   ]
  },
  {
   "cell_type": "code",
   "execution_count": null,
   "id": "cda4a7a2-78d5-4ba7-8178-d1d3026a0a21",
   "metadata": {
    "tags": []
   },
   "outputs": [],
   "source": [
    "from sklearn.ensemble import RandomForestClassifier\n",
    "from sklearn.metrics import classification_report, confusion_matrix, plot_confusion_matrix"
   ]
  },
  {
   "cell_type": "code",
   "execution_count": null,
   "id": "73cd524c-be4c-45dc-b247-29db940e7813",
   "metadata": {
    "tags": []
   },
   "outputs": [],
   "source": [
    "# escalado de feauteres y target\n",
    "#x_scaler = MinMaxScaler() #MaxAbsScaler()\n",
    "#X_train_c = x_scaler.fit_transform(X_train_c)\n",
    "#X_val_c = x_scaler.transform(X_val_c)"
   ]
  },
  {
   "cell_type": "code",
   "execution_count": null,
   "id": "57673ca9-50a8-4395-a370-aa81c3f2361a",
   "metadata": {
    "tags": []
   },
   "outputs": [],
   "source": [
    "# Fit\n",
    "param_grid = {'n_estimators' : [5, 7, 10, 15],\n",
    "    'criterion':['gini', 'entropy'],\n",
    "    'min_samples_split': [5, 10, 15, 20, 25],\n",
    "    'min_samples_leaf':[4, 5, 6, 8],\n",
    "    'max_features':[0.5, 0.7, 0.8]}\n",
    "\n",
    "ranf = RandomForestClassifier(random_state= 0)\n",
    "cv_ranf = GridSearchCV(ranf, param_grid, scoring='f1', cv=5, verbose=1)\n",
    "cv_ranf.fit(X_train_c, y_train_c)"
   ]
  },
  {
   "cell_type": "code",
   "execution_count": null,
   "id": "fdf0500a-4b22-4a12-bb51-49e571f233fe",
   "metadata": {},
   "outputs": [],
   "source": [
    "cv_ranf.best_params_"
   ]
  },
  {
   "cell_type": "code",
   "execution_count": null,
   "id": "e9229915-6cc3-4a25-9b62-b864e71b3239",
   "metadata": {},
   "outputs": [],
   "source": [
    "cv_ranf.best_estimator_"
   ]
  },
  {
   "cell_type": "code",
   "execution_count": null,
   "id": "6ad5bf66-2197-494a-aba0-c1de202c744a",
   "metadata": {
    "tags": []
   },
   "outputs": [],
   "source": [
    "# Predict\n",
    "y_train_pred_ranf = cv_ranf.best_estimator_.predict(X_train_c)\n",
    "y_val_pred_ranf = cv_ranf.best_estimator_.predict(X_val_c)"
   ]
  },
  {
   "cell_type": "code",
   "execution_count": null,
   "id": "a2dc6e65-77a2-47a0-9d1f-866afee58af7",
   "metadata": {
    "tags": []
   },
   "outputs": [],
   "source": [
    "# Evaluate train\n",
    "text = \"RandomForestClassifier - Reporte de clasificación del conjunto de train\" \n",
    "print(len(text)*\"=\")\n",
    "print(text)\n",
    "print(len(text)*\"=\")\n",
    "print(classification_report(y_train_c, y_train_pred_ranf))"
   ]
  },
  {
   "cell_type": "code",
   "execution_count": null,
   "id": "7e747cec-0dc5-4cc6-9015-d64b613fd798",
   "metadata": {
    "tags": []
   },
   "outputs": [],
   "source": [
    "# Evaluate val\n",
    "text = \"RandomForestClassifier - Reporte de clasificación del conjunto de validacion\" \n",
    "print(len(text)*\"=\")\n",
    "print(text)\n",
    "print(len(text)*\"=\")\n",
    "print(classification_report(y_val_c, y_val_pred_ranf))"
   ]
  },
  {
   "cell_type": "code",
   "execution_count": null,
   "id": "c09bb884-ad33-4e8c-865d-a2d3c16a611d",
   "metadata": {},
   "outputs": [],
   "source": [
    "plt.figure()\n",
    "plot_confusion_matrix(estimator= cv_ranf, X=X_train_c, y_true=y_train_c,\n",
    "                      normalize='true', cmap='Blues').ax_ \\\n",
    "                      .set_title('Random Forest - Matriz de confusión del conjunto de train sin normalizar\\n')"
   ]
  },
  {
   "cell_type": "code",
   "execution_count": null,
   "id": "62f2aaa0-e73f-4061-9f2a-bd64923e8032",
   "metadata": {},
   "outputs": [],
   "source": [
    "plt.figure()\n",
    "plot_confusion_matrix(estimator= cv_ranf, X=X_val_c, y_true=y_val_c,\n",
    "                      normalize='true', cmap='Blues').ax_ \\\n",
    "                      .set_title('Random Forest - Matriz de confusión del conjunto de validation sin normalizar\\n')"
   ]
  },
  {
   "cell_type": "markdown",
   "id": "9afa31d8-f02f-40f9-9fec-f494bfddc88a",
   "metadata": {},
   "source": [
    "### XGBoost - Default"
   ]
  },
  {
   "cell_type": "code",
   "execution_count": null,
   "id": "9ac692a8-1e6b-4b61-9992-4d7755a90362",
   "metadata": {},
   "outputs": [],
   "source": [
    "from xgboost import XGBClassifier"
   ]
  },
  {
   "cell_type": "code",
   "execution_count": null,
   "id": "447b963d-56f0-4f80-a618-ded6e834fc9b",
   "metadata": {
    "tags": []
   },
   "outputs": [],
   "source": [
    "xgb = XGBClassifier(random_state= 0)\n",
    "xgb.fit(X_train_c, y_train_c)"
   ]
  },
  {
   "cell_type": "code",
   "execution_count": null,
   "id": "95926d45-790e-42c6-af4a-ed7a3c91caeb",
   "metadata": {},
   "outputs": [],
   "source": [
    "# Predict\n",
    "y_train_pred_xgb = xgb.predict(X_train_c)\n",
    "y_val_pred_xgb = xgb.predict(X_val_c)"
   ]
  },
  {
   "cell_type": "code",
   "execution_count": null,
   "id": "9d5f346d-d7e6-4d4b-8825-233c1e0b70be",
   "metadata": {
    "tags": []
   },
   "outputs": [],
   "source": [
    "# Evaluate train\n",
    "text = \"XGBClassifier - Reporte de clasificación del conjunto de train\" \n",
    "print(len(text)*\"=\")\n",
    "print(text)\n",
    "print(len(text)*\"=\")\n",
    "print(classification_report(y_train_c, y_train_pred_xgb))"
   ]
  },
  {
   "cell_type": "code",
   "execution_count": null,
   "id": "1b497742-a835-459c-be16-b7ae3c13a23e",
   "metadata": {
    "tags": []
   },
   "outputs": [],
   "source": [
    "# Evaluate val\n",
    "text = \"XGBClassifier - Reporte de clasificación del conjunto de validacion\" \n",
    "print(len(text)*\"=\")\n",
    "print(text)\n",
    "print(len(text)*\"=\")\n",
    "print(classification_report(y_val_c, y_val_pred_xgb))"
   ]
  },
  {
   "cell_type": "code",
   "execution_count": null,
   "id": "1152fe79-e143-463f-b8b5-c0b50ea71d9d",
   "metadata": {},
   "outputs": [],
   "source": [
    "plt.figure()\n",
    "plot_confusion_matrix(estimator= xgb, X=X_train_c, y_true=y_train_c,\n",
    "                      normalize='true', cmap='Blues').ax_ \\\n",
    "                      .set_title('XGBClassifier - Matriz de confusión del conjunto de train sin normalizar\\n')"
   ]
  },
  {
   "cell_type": "code",
   "execution_count": null,
   "id": "d7917f34-f5ff-4cf9-835b-fbda5ede6c84",
   "metadata": {},
   "outputs": [],
   "source": [
    "plt.figure()\n",
    "plot_confusion_matrix(estimator= xgb, X=X_val_c, y_true=y_val_c,\n",
    "                      normalize='true', cmap='Blues').ax_ \\\n",
    "                      .set_title('XGBClassifier - Matriz de confusión del conjunto de validation sin normalizar\\n')"
   ]
  },
  {
   "cell_type": "markdown",
   "id": "cfdd9c7d-9c65-418a-b24f-52ed2eb81202",
   "metadata": {
    "tags": []
   },
   "source": [
    "### XGBoost - Grid Search"
   ]
  },
  {
   "cell_type": "code",
   "execution_count": null,
   "id": "a76f498e-6246-4871-86b1-6ec64831086f",
   "metadata": {
    "tags": []
   },
   "outputs": [],
   "source": [
    "param_grid = {\n",
    "    'alpha' : [0.01, 0.42, 0.30],\n",
    "    'max_depth': [8, 16, 32],\n",
    "    'n_estimators': [5, 10, 15],\n",
    "    'booster':['gbtree', 'gblinear', 'dart'],\n",
    "}\n",
    "\n",
    "xgb = XGBClassifier(random_state= 0)\n",
    "cv_xgb = GridSearchCV(xgb, param_grid, scoring='f1', cv=5)\n",
    "cv_xgb.fit(X_train_c, y_train_c)"
   ]
  },
  {
   "cell_type": "code",
   "execution_count": null,
   "id": "23ef0a10-151d-4cd7-a44e-2bfb9bf6a046",
   "metadata": {},
   "outputs": [],
   "source": [
    "cv_xgb.best_params_"
   ]
  },
  {
   "cell_type": "code",
   "execution_count": null,
   "id": "c02d437d-ff1f-4a8b-90af-c765ebd30627",
   "metadata": {},
   "outputs": [],
   "source": [
    "cv_xgb.best_estimator_"
   ]
  },
  {
   "cell_type": "code",
   "execution_count": null,
   "id": "64d8471f-5815-47a8-bad3-816f5c01eb19",
   "metadata": {
    "tags": []
   },
   "outputs": [],
   "source": [
    "# Predict\n",
    "y_train_pred_xgb = cv_xgb.best_estimator_.predict(X_train_c)\n",
    "y_val_pred_xgb = cv_xgb.best_estimator_.predict(X_val_c)"
   ]
  },
  {
   "cell_type": "code",
   "execution_count": null,
   "id": "84dcebdc-4db7-4406-ae0b-9bc2a12e448f",
   "metadata": {
    "tags": []
   },
   "outputs": [],
   "source": [
    "# Evaluate train\n",
    "text = \"XGBClassifier - Reporte de clasificación del conjunto de train\" \n",
    "print(len(text)*\"=\")\n",
    "print(text)\n",
    "print(len(text)*\"=\")\n",
    "print(classification_report(y_train_c, y_train_pred_xgb))"
   ]
  },
  {
   "cell_type": "code",
   "execution_count": null,
   "id": "dd8597a0-e2d0-4f4f-9532-07029ef8e5d2",
   "metadata": {
    "tags": []
   },
   "outputs": [],
   "source": [
    "# Evaluate val\n",
    "text = \"XGBClassifier - Reporte de clasificación del conjunto de validacion\" \n",
    "print(len(text)*\"=\")\n",
    "print(text)\n",
    "print(len(text)*\"=\")\n",
    "print(classification_report(y_val_c, y_val_pred_xgb))"
   ]
  },
  {
   "cell_type": "code",
   "execution_count": null,
   "id": "8df89ba0-1f39-4ca3-bcd0-b0a4c3d13a5a",
   "metadata": {},
   "outputs": [],
   "source": [
    "plt.figure()\n",
    "plot_confusion_matrix(estimator= cv_xgb, X=X_train_c, y_true=y_train_c,\n",
    "                      normalize='true', cmap='Blues').ax_ \\\n",
    "                      .set_title('XGBClassifier - Matriz de confusión del conjunto de train sin normalizar\\n')"
   ]
  },
  {
   "cell_type": "code",
   "execution_count": null,
   "id": "69db229d-bd4b-4d7b-b167-4f3bed8afd4e",
   "metadata": {},
   "outputs": [],
   "source": [
    "plt.figure()\n",
    "plot_confusion_matrix(estimator= cv_xgb, X=X_val_c, y_true=y_val_c,\n",
    "                      normalize='true', cmap='Blues').ax_ \\\n",
    "                      .set_title('XGBClassifier - Matriz de confusión del conjunto de validation sin normalizar\\n')"
   ]
  },
  {
   "cell_type": "markdown",
   "id": "72e05a26-94c1-4128-a56d-eacad0caf4c4",
   "metadata": {},
   "source": [
    "## 5. Series Temporales (Optativo)\n",
    "* Hacer un forecasting usando Exponential Smoothing\n",
    "\n",
    "En el modelo de Exponential Smoothing, las predicciones son promedios pesados de observaciones pasadas, donde los pesos decaen exponencialmente cuando nos movemos al pasado:\n",
    "$$\n",
    "\\hat{y}_{t + 1} = l_t \\\\\n",
    "l_t = \\alpha y_t + (1 - \\alpha) l_{t - 1}\n",
    "$$\n",
    "\n",
    "Donde:\n",
    "\n",
    "Asumimos que:\n",
    "* $l_0$ está dado\n",
    "* 0 $< \\alpha <$ 1\n",
    "\n",
    "El método se suele usar cuando los datos no tienen patrones de tendencia ni estacional claros.\n"
   ]
  },
  {
   "cell_type": "code",
   "execution_count": null,
   "id": "bc4df3c6-2ea9-4ea8-b59d-e677dc9a2a5b",
   "metadata": {},
   "outputs": [],
   "source": [
    "print(statsmodels.__version__)\n",
    "warnings.filterwarnings('ignore')\n",
    "%matplotlib inline"
   ]
  },
  {
   "cell_type": "code",
   "execution_count": null,
   "id": "8b2f798a-4692-464d-83d0-7c486fd7b7eb",
   "metadata": {},
   "outputs": [],
   "source": [
    "sns.set_style('darkgrid')\n",
    "sns.set(rc={'figure.figsize':(15, 10)})"
   ]
  },
  {
   "cell_type": "markdown",
   "id": "f6fb9759-ba89-4780-8de2-04ac94c5085f",
   "metadata": {},
   "source": [
    "Para cargar el dataset"
   ]
  },
  {
   "cell_type": "code",
   "execution_count": null,
   "id": "02418a91-5fdc-4880-a4b7-76b347baa823",
   "metadata": {},
   "outputs": [],
   "source": [
    "df = pd.read_parquet(\"cupones_ds.parquet\")"
   ]
  },
  {
   "cell_type": "code",
   "execution_count": null,
   "id": "10cd0f3c-2a47-4e8c-a337-9595b2bf840a",
   "metadata": {},
   "outputs": [],
   "source": [
    "df.head(5)"
   ]
  },
  {
   "cell_type": "code",
   "execution_count": null,
   "id": "7be89201-cd07-44aa-b1d6-e9057b38bf5e",
   "metadata": {},
   "outputs": [],
   "source": [
    "cols = ['producto_naranja_movimiento', 'monto_compra_movimiento', 'fecha_cupon_movimiento']"
   ]
  },
  {
   "cell_type": "code",
   "execution_count": null,
   "id": "3718f420-e5e8-42f8-a5b5-937b62569d31",
   "metadata": {},
   "outputs": [],
   "source": [
    "df[cols]"
   ]
  },
  {
   "cell_type": "code",
   "execution_count": null,
   "id": "4f742f78-2634-41c3-877f-5a7ed2b5077c",
   "metadata": {},
   "outputs": [],
   "source": [
    "sf = df[cols][df.producto_naranja_movimiento == 'PL']\n",
    "sf"
   ]
  },
  {
   "cell_type": "code",
   "execution_count": null,
   "id": "aaf9b9e7-39c5-4452-b0e5-d0f3181158da",
   "metadata": {},
   "outputs": [],
   "source": [
    "cols = ['fecha_cupon_movimiento', 'monto_compra_movimiento']\n",
    "sf = sf[cols].groupby(by=['fecha_cupon_movimiento'], dropna=True).sum()"
   ]
  },
  {
   "cell_type": "code",
   "execution_count": null,
   "id": "07f802bc-b7af-4479-bee2-14e3e38d6bf1",
   "metadata": {},
   "outputs": [],
   "source": [
    "sf.reset_index(inplace=True)\n",
    "sf"
   ]
  },
  {
   "cell_type": "code",
   "execution_count": null,
   "id": "e7b9af05-feed-4e0c-8ca6-d7ed89a3d305",
   "metadata": {},
   "outputs": [],
   "source": [
    "print(sf['fecha_cupon_movimiento'].max())\n",
    "print(sf['fecha_cupon_movimiento'].min())"
   ]
  },
  {
   "cell_type": "code",
   "execution_count": null,
   "id": "9b06a893-1120-47df-b632-d57ff0620e30",
   "metadata": {},
   "outputs": [],
   "source": [
    "sf.set_index('fecha_cupon_movimiento', inplace=True)\n",
    "sf"
   ]
  },
  {
   "cell_type": "markdown",
   "id": "1f973a15-a5a4-4930-91c6-ac41da147617",
   "metadata": {},
   "source": [
    "En series temporales se usa Series en lugar de Dataframe"
   ]
  },
  {
   "cell_type": "code",
   "execution_count": null,
   "id": "23398235-77c4-413e-95a0-c004fea0a3df",
   "metadata": {},
   "outputs": [],
   "source": [
    "ss = sf['monto_compra_movimiento']\n",
    "ss"
   ]
  },
  {
   "cell_type": "code",
   "execution_count": null,
   "id": "b7f29fd9-bac2-4c31-9bf3-8d517f01f969",
   "metadata": {},
   "outputs": [],
   "source": [
    "fig = plt.figure(figsize=(18, 6))\n",
    "\n",
    "ax = plt.subplot(1, 1, 1)\n",
    "ss.plot(color='dodgerblue')\n",
    "ax.set_xlabel('Dia')\n",
    "ax.set_ylabel('monto_compra_movimiento')\n",
    "ax.set_title('Comportamiento monto_compra_movimiento para PL')\n",
    "\n",
    "plt.tight_layout()\n",
    "plt.show()"
   ]
  },
  {
   "cell_type": "code",
   "execution_count": null,
   "id": "05d080f8-1cd3-40c4-bc5e-2986398da2db",
   "metadata": {},
   "outputs": [],
   "source": [
    "y_test = sf.monto_compra_movimiento.loc['2021-03-19':]\n",
    "y_train = sf[~sf.monto_compra_movimiento.isin(y_test)].monto_compra_movimiento\n"
   ]
  },
  {
   "cell_type": "code",
   "execution_count": null,
   "id": "c26428d5-4887-4146-adaa-4fbb18ae51d1",
   "metadata": {},
   "outputs": [],
   "source": [
    "print(y_test.index.max())\n",
    "print(y_test.index.min())"
   ]
  },
  {
   "cell_type": "code",
   "execution_count": null,
   "id": "ac0177d2-1822-42b8-b1be-986b64c6e1f9",
   "metadata": {},
   "outputs": [],
   "source": [
    "print(y_train.index.max())\n",
    "print(y_train.index.min())"
   ]
  },
  {
   "cell_type": "markdown",
   "id": "5babac8b-7bc5-4369-8d89-f5810aa00602",
   "metadata": {},
   "source": [
    "## Seasonal Random Walk (Seasonal Naïve)\n",
    "\n",
    "#### Descomposicion\n",
    "\n",
    "Una operación fundamental para entender el comportamiento de una serie de\n",
    " tiempo y poder determinar si se trata de una serie `estacionaria` o no\n",
    "\n",
    "La **descomposición** es una técnica que trata de descomponer una serie de tiempo en su tendencia, su estacionalidad y sus factores residuales\n",
    "\n",
    "Ejemplo de descomposición de serie de tiempo\n",
    "\n",
    "<img \n",
    "src=\"https://i.imgur.com/g0PQASf.png\" />\n"
   ]
  },
  {
   "cell_type": "code",
   "execution_count": null,
   "id": "25de84e1-bd99-408b-9c75-52413afb9f0c",
   "metadata": {},
   "outputs": [],
   "source": [
    "res = sm.tsa.seasonal_decompose(\n",
    "    sf['monto_compra_movimiento'], model='additive', freq=30\n",
    "    )\n",
    "\n",
    "fig, (ax1,ax2,ax3, ax4) = plt.subplots(4,1, figsize=(18, 14))\n",
    "\n",
    "ax1.set_title('Inbound fueatures')\n",
    "sf.monto_compra_movimiento.plot(ax=ax1, color='red')\n",
    "ax1.set_ylabel('Original')\n",
    "\n",
    "res.trend.plot(ax=ax2)\n",
    "ax2.set_ylabel('Fluctuaciones')\n",
    "\n",
    "res.resid.plot(ax=ax3)\n",
    "ax3.set_ylabel('Variaciones Irregulares')\n",
    "\n",
    "res.seasonal.plot(ax=ax4)\n",
    "ax4.set_ylabel('Variaciones Estacionales')\n",
    "plt.tight_layout()\n",
    "plt.show()"
   ]
  },
  {
   "cell_type": "markdown",
   "id": "ea82efd2-1e5e-4733-9193-b24b6b1e174c",
   "metadata": {},
   "source": [
    "## Forecast"
   ]
  },
  {
   "cell_type": "code",
   "execution_count": null,
   "id": "374b02de-4870-42d8-95e4-6fb76d570c0b",
   "metadata": {},
   "outputs": [],
   "source": [
    "model = ARIMA(\n",
    "    endog=y_train, exog=None, order=(0, 0, 1), seasonal_order=(0, 1, 0, 42)\n",
    "    ).fit()\n",
    "    "
   ]
  },
  {
   "cell_type": "code",
   "execution_count": null,
   "id": "1917b542-bf06-4d1f-bb88-c79c3705728a",
   "metadata": {},
   "outputs": [],
   "source": [
    "fig = plt.figure(figsize=(18, 12), dpi=100)\n",
    "\n",
    "ax = plt.subplot(2, 1, 1)\n",
    "y_train.tail(200).plot(ax=ax, label='Train Values', linestyle='-')\n",
    "model.fittedvalues.tail(200).plot(\n",
    "    ax=ax, label='fitted Values', marker='o', linestyle='--')\n",
    "ax.set_title('monto_compra_movimiento')\n",
    "ax.legend()\n",
    "\n",
    "plt.tight_layout()\n",
    "plt.show()"
   ]
  },
  {
   "cell_type": "code",
   "execution_count": null,
   "id": "139c726d-ac03-41a1-ad5f-cd2266622c5f",
   "metadata": {},
   "outputs": [],
   "source": [
    "# Forecast\n",
    "# 95% conf se, conf\n",
    "fc = model.forecast(steps=len(y_test), exog=y_test, alpha=0.05) \n",
    "#Make as pandas series\n",
    "fc_in = fc.reset_index(drop=True)\n",
    "fc_in.index = y_test.index"
   ]
  },
  {
   "cell_type": "code",
   "execution_count": null,
   "id": "0e917604-0d12-4fcf-924a-bb3be5a1b8fb",
   "metadata": {},
   "outputs": [],
   "source": [
    "fig = plt.figure(figsize=(18, 12))\n",
    "\n",
    "ax = plt.subplot(2, 1, 1)\n",
    "y_test.plot(ax=ax, label='actual Test')\n",
    "fc_in.plot(ax=ax, label='forecast', marker='o', linestyle='--')\n",
    "ax.set_title('Forecast vs Actuals for Inbound Features')\n",
    "ax.legend(loc='upper left', fontsize=8)\n",
    "\n",
    "plt.tight_layout()\n",
    "plt.show()"
   ]
  },
  {
   "cell_type": "code",
   "execution_count": null,
   "id": "61fd5ba2-4a4d-40d1-9724-874f80984bc4",
   "metadata": {},
   "outputs": [],
   "source": [
    "table = pd.DataFrame(\n",
    "    [(sm.tools.eval_measures.rmse(y_test, fc_in), \n",
    "      (y_test - fc_in).sem())],\n",
    "      columns=['RMSE','SE']\n",
    "      )\n",
    "table.round(3)"
   ]
  },
  {
   "cell_type": "markdown",
   "id": "eb6bec73-8765-4a88-a290-648f5ed80047",
   "metadata": {},
   "source": []
  }
 ],
 "metadata": {
  "kernelspec": {
   "display_name": "Python 3",
   "language": "python",
   "name": "python3"
  },
  "language_info": {
   "codemirror_mode": {
    "name": "ipython",
    "version": 3
   },
   "file_extension": ".py",
   "mimetype": "text/x-python",
   "name": "python",
   "nbconvert_exporter": "python",
   "pygments_lexer": "ipython3",
   "version": "3.8.8"
  }
 },
 "nbformat": 4,
 "nbformat_minor": 5
}
