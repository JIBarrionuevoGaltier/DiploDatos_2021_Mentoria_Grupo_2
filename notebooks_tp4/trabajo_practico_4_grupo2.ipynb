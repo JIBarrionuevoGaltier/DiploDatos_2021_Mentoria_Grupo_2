{
 "cells": [
  {
   "cell_type": "markdown",
   "id": "23fb6811-f919-4985-acd4-32ef787b0129",
   "metadata": {},
   "source": [
    "# Diplomatura en Ciencia de Datos, Aprendizaje Automático y sus Aplicaciones\n",
    "\n",
    "<center>\n",
    "<img \n",
    "     src=\"http://www2.famaf.unc.edu.ar/~efernandez/egeo/img/logos/famaf.jpg\" \n",
    "     alt=\"Drawing\" \n",
    "     style=\"width:30%;\"\n",
    "/>\n",
    "</center>\n",
    "\n",
    "# Universidad Nacional de Córdoba\n",
    "---"
   ]
  },
  {
   "cell_type": "markdown",
   "id": "3c8c69a1-85b1-4047-a6b9-3254e07714bc",
   "metadata": {},
   "source": [
    "### Importación de librerías"
   ]
  },
  {
   "cell_type": "code",
   "execution_count": 105,
   "id": "723ef3b3-5891-4e7b-894e-023b46ac0b69",
   "metadata": {},
   "outputs": [],
   "source": [
    "import warnings\n",
    "import datetime\n",
    "warnings.filterwarnings('ignore')\n",
    "\n",
    "import numpy as np\n",
    "import pandas as pd\n",
    "import seaborn as sns\n",
    "import statsmodels.api as sm\n",
    "import matplotlib.pyplot as plt\n",
    "import math\n",
    "\n",
    "from sklearn.model_selection import train_test_split\n",
    "from sklearn.model_selection import GridSearchCV\n",
    "from sklearn.model_selection import RandomizedSearchCV\n",
    "from sklearn.feature_selection import SelectFromModel\n",
    "from sklearn.preprocessing import MaxAbsScaler\n",
    "from sklearn.preprocessing import MinMaxScaler\n",
    "from sklearn.preprocessing import StandardScaler\n",
    "from sklearn.preprocessing import OneHotEncoder\n",
    "from sklearn.compose import ColumnTransformer\n",
    "from sklearn.pipeline import make_pipeline\n",
    "from sklearn.pipeline import Pipeline\n",
    "from sklearn.metrics import mean_squared_error\n",
    "from sklearn.metrics import mean_absolute_error\n",
    "from sklearn.neighbors import KNeighborsRegressor\n",
    "from sklearn.ensemble import VotingRegressor\n",
    "from xgboost import XGBClassifier\n",
    "\n",
    "from scipy import stats\n",
    "from statsmodels.tsa.arima.model import ARIMA\n",
    "from statsmodels.tsa.holtwinters import SimpleExpSmoothing\n",
    "from sklearn.linear_model import SGDRegressor\n",
    "from sklearn.ensemble import RandomForestClassifier\n",
    "from sklearn.metrics import classification_report, confusion_matrix, plot_confusion_matrix\n",
    "\n",
    "from xgboost import XGBRegressor\n",
    "from sklearn.ensemble import ExtraTreesClassifier\n",
    "from sklearn.svm import LinearSVR\n",
    "from sklearn.ensemble import RandomForestRegressor\n",
    "from sklearn.gaussian_process import GaussianProcessRegressor\n",
    "from sklearn.gaussian_process.kernels import ConstantKernel, RBF, RationalQuadratic, ExpSineSquared\n",
    "from sklearn.impute import SimpleImputer\n",
    "\n",
    "from pandas.plotting import lag_plot\n",
    "\n",
    "import pyarrow\n",
    "import fastparquet\n",
    "\n",
    "import statsmodels"
   ]
  },
  {
   "cell_type": "markdown",
   "id": "702285b3-5dbb-4f9a-9e9f-156566bfcd2a",
   "metadata": {},
   "source": [
    "### Lectura del dataset "
   ]
  },
  {
   "cell_type": "code",
   "execution_count": 106,
   "id": "00bb6b04-3e09-4fad-b11d-7a0f0592435b",
   "metadata": {},
   "outputs": [
    {
     "data": {
      "text/html": [
       "<div>\n",
       "<style scoped>\n",
       "    .dataframe tbody tr th:only-of-type {\n",
       "        vertical-align: middle;\n",
       "    }\n",
       "\n",
       "    .dataframe tbody tr th {\n",
       "        vertical-align: top;\n",
       "    }\n",
       "\n",
       "    .dataframe thead th {\n",
       "        text-align: right;\n",
       "    }\n",
       "</style>\n",
       "<table border=\"1\" class=\"dataframe\">\n",
       "  <thead>\n",
       "    <tr style=\"text-align: right;\">\n",
       "      <th></th>\n",
       "      <th>dni_titular_movimiento</th>\n",
       "      <th>anio_mes_cupon</th>\n",
       "      <th>client__edad</th>\n",
       "      <th>client__antig</th>\n",
       "      <th>client__x0_Hombre</th>\n",
       "      <th>client__x0_Mujer</th>\n",
       "      <th>client__x0_Sin Datos</th>\n",
       "      <th>client__x1_Sector_Educativo</th>\n",
       "      <th>client__x1_Sector_Empleado_Comercio</th>\n",
       "      <th>client__x1_Sector_Financiero</th>\n",
       "      <th>...</th>\n",
       "      <th>trans__x3_1</th>\n",
       "      <th>trans__x3_2</th>\n",
       "      <th>trans__x3_3</th>\n",
       "      <th>trans__x3_4</th>\n",
       "      <th>trans__x3_5</th>\n",
       "      <th>trans__x3_6</th>\n",
       "      <th>trans__x3_7</th>\n",
       "      <th>trans__x3_8</th>\n",
       "      <th>trans__x3_9</th>\n",
       "      <th>monto_ajustado</th>\n",
       "    </tr>\n",
       "  </thead>\n",
       "  <tbody>\n",
       "    <tr>\n",
       "      <th>0</th>\n",
       "      <td>000000b5aea2c9ea7cc155f6ebcef97f826</td>\n",
       "      <td>202008.0</td>\n",
       "      <td>46.0</td>\n",
       "      <td>225.0</td>\n",
       "      <td>0.0</td>\n",
       "      <td>1.0</td>\n",
       "      <td>0.0</td>\n",
       "      <td>0.0</td>\n",
       "      <td>0.0</td>\n",
       "      <td>0.0</td>\n",
       "      <td>...</td>\n",
       "      <td>0.0</td>\n",
       "      <td>0.0</td>\n",
       "      <td>0.0</td>\n",
       "      <td>0.0</td>\n",
       "      <td>0.0</td>\n",
       "      <td>0.0</td>\n",
       "      <td>0.0</td>\n",
       "      <td>0.0</td>\n",
       "      <td>0.0</td>\n",
       "      <td>-4.72</td>\n",
       "    </tr>\n",
       "    <tr>\n",
       "      <th>1</th>\n",
       "      <td>000000b5aea2c9ea7cc155f6ebcef97f826</td>\n",
       "      <td>202009.0</td>\n",
       "      <td>47.0</td>\n",
       "      <td>226.0</td>\n",
       "      <td>0.0</td>\n",
       "      <td>1.0</td>\n",
       "      <td>0.0</td>\n",
       "      <td>0.0</td>\n",
       "      <td>0.0</td>\n",
       "      <td>0.0</td>\n",
       "      <td>...</td>\n",
       "      <td>0.0</td>\n",
       "      <td>0.0</td>\n",
       "      <td>0.0</td>\n",
       "      <td>0.0</td>\n",
       "      <td>0.0</td>\n",
       "      <td>0.0</td>\n",
       "      <td>0.0</td>\n",
       "      <td>0.0</td>\n",
       "      <td>0.0</td>\n",
       "      <td>-4.61</td>\n",
       "    </tr>\n",
       "    <tr>\n",
       "      <th>2</th>\n",
       "      <td>000000b5aea2c9ea7cc155f6ebcef97f826</td>\n",
       "      <td>202010.0</td>\n",
       "      <td>47.0</td>\n",
       "      <td>227.0</td>\n",
       "      <td>0.0</td>\n",
       "      <td>1.0</td>\n",
       "      <td>0.0</td>\n",
       "      <td>0.0</td>\n",
       "      <td>0.0</td>\n",
       "      <td>0.0</td>\n",
       "      <td>...</td>\n",
       "      <td>0.0</td>\n",
       "      <td>0.0</td>\n",
       "      <td>0.0</td>\n",
       "      <td>0.0</td>\n",
       "      <td>0.0</td>\n",
       "      <td>0.0</td>\n",
       "      <td>0.0</td>\n",
       "      <td>0.0</td>\n",
       "      <td>0.0</td>\n",
       "      <td>-4.46</td>\n",
       "    </tr>\n",
       "    <tr>\n",
       "      <th>3</th>\n",
       "      <td>000000b5aea2c9ea7cc155f6ebcef97f826</td>\n",
       "      <td>202011.0</td>\n",
       "      <td>47.0</td>\n",
       "      <td>228.0</td>\n",
       "      <td>0.0</td>\n",
       "      <td>1.0</td>\n",
       "      <td>0.0</td>\n",
       "      <td>0.0</td>\n",
       "      <td>0.0</td>\n",
       "      <td>0.0</td>\n",
       "      <td>...</td>\n",
       "      <td>0.0</td>\n",
       "      <td>0.0</td>\n",
       "      <td>0.0</td>\n",
       "      <td>0.0</td>\n",
       "      <td>0.0</td>\n",
       "      <td>0.0</td>\n",
       "      <td>0.0</td>\n",
       "      <td>0.0</td>\n",
       "      <td>0.0</td>\n",
       "      <td>-4.34</td>\n",
       "    </tr>\n",
       "    <tr>\n",
       "      <th>4</th>\n",
       "      <td>000000b5aea2c9ea7cc155f6ebcef97f826</td>\n",
       "      <td>202012.0</td>\n",
       "      <td>47.0</td>\n",
       "      <td>229.0</td>\n",
       "      <td>0.0</td>\n",
       "      <td>1.0</td>\n",
       "      <td>0.0</td>\n",
       "      <td>0.0</td>\n",
       "      <td>0.0</td>\n",
       "      <td>0.0</td>\n",
       "      <td>...</td>\n",
       "      <td>0.0</td>\n",
       "      <td>0.0</td>\n",
       "      <td>0.0</td>\n",
       "      <td>0.0</td>\n",
       "      <td>0.0</td>\n",
       "      <td>0.0</td>\n",
       "      <td>0.0</td>\n",
       "      <td>0.0</td>\n",
       "      <td>0.0</td>\n",
       "      <td>-4.21</td>\n",
       "    </tr>\n",
       "    <tr>\n",
       "      <th>...</th>\n",
       "      <td>...</td>\n",
       "      <td>...</td>\n",
       "      <td>...</td>\n",
       "      <td>...</td>\n",
       "      <td>...</td>\n",
       "      <td>...</td>\n",
       "      <td>...</td>\n",
       "      <td>...</td>\n",
       "      <td>...</td>\n",
       "      <td>...</td>\n",
       "      <td>...</td>\n",
       "      <td>...</td>\n",
       "      <td>...</td>\n",
       "      <td>...</td>\n",
       "      <td>...</td>\n",
       "      <td>...</td>\n",
       "      <td>...</td>\n",
       "      <td>...</td>\n",
       "      <td>...</td>\n",
       "      <td>...</td>\n",
       "      <td>...</td>\n",
       "    </tr>\n",
       "    <tr>\n",
       "      <th>7405</th>\n",
       "      <td>000f0b73ebfa002a79a0642b82e87919904</td>\n",
       "      <td>202101.0</td>\n",
       "      <td>64.0</td>\n",
       "      <td>21.0</td>\n",
       "      <td>0.0</td>\n",
       "      <td>1.0</td>\n",
       "      <td>0.0</td>\n",
       "      <td>0.0</td>\n",
       "      <td>0.0</td>\n",
       "      <td>0.0</td>\n",
       "      <td>...</td>\n",
       "      <td>1.0</td>\n",
       "      <td>1.0</td>\n",
       "      <td>0.0</td>\n",
       "      <td>0.0</td>\n",
       "      <td>1.0</td>\n",
       "      <td>0.0</td>\n",
       "      <td>0.0</td>\n",
       "      <td>0.0</td>\n",
       "      <td>0.0</td>\n",
       "      <td>11616.45</td>\n",
       "    </tr>\n",
       "    <tr>\n",
       "      <th>7406</th>\n",
       "      <td>000f0b73ebfa002a79a0642b82e87919904</td>\n",
       "      <td>202102.0</td>\n",
       "      <td>64.0</td>\n",
       "      <td>22.0</td>\n",
       "      <td>0.0</td>\n",
       "      <td>1.0</td>\n",
       "      <td>0.0</td>\n",
       "      <td>0.0</td>\n",
       "      <td>0.0</td>\n",
       "      <td>0.0</td>\n",
       "      <td>...</td>\n",
       "      <td>1.0</td>\n",
       "      <td>0.0</td>\n",
       "      <td>0.0</td>\n",
       "      <td>0.0</td>\n",
       "      <td>0.0</td>\n",
       "      <td>0.0</td>\n",
       "      <td>0.0</td>\n",
       "      <td>0.0</td>\n",
       "      <td>0.0</td>\n",
       "      <td>12566.68</td>\n",
       "    </tr>\n",
       "    <tr>\n",
       "      <th>7407</th>\n",
       "      <td>000f0b73ebfa002a79a0642b82e87919904</td>\n",
       "      <td>202103.0</td>\n",
       "      <td>64.0</td>\n",
       "      <td>23.0</td>\n",
       "      <td>0.0</td>\n",
       "      <td>1.0</td>\n",
       "      <td>0.0</td>\n",
       "      <td>0.0</td>\n",
       "      <td>0.0</td>\n",
       "      <td>0.0</td>\n",
       "      <td>...</td>\n",
       "      <td>3.0</td>\n",
       "      <td>0.0</td>\n",
       "      <td>0.0</td>\n",
       "      <td>0.0</td>\n",
       "      <td>0.0</td>\n",
       "      <td>0.0</td>\n",
       "      <td>0.0</td>\n",
       "      <td>0.0</td>\n",
       "      <td>0.0</td>\n",
       "      <td>2663.08</td>\n",
       "    </tr>\n",
       "    <tr>\n",
       "      <th>7408</th>\n",
       "      <td>000f0b73ebfa002a79a0642b82e87919904</td>\n",
       "      <td>202104.0</td>\n",
       "      <td>64.0</td>\n",
       "      <td>24.0</td>\n",
       "      <td>0.0</td>\n",
       "      <td>1.0</td>\n",
       "      <td>0.0</td>\n",
       "      <td>0.0</td>\n",
       "      <td>0.0</td>\n",
       "      <td>0.0</td>\n",
       "      <td>...</td>\n",
       "      <td>0.0</td>\n",
       "      <td>2.0</td>\n",
       "      <td>0.0</td>\n",
       "      <td>0.0</td>\n",
       "      <td>0.0</td>\n",
       "      <td>0.0</td>\n",
       "      <td>0.0</td>\n",
       "      <td>0.0</td>\n",
       "      <td>0.0</td>\n",
       "      <td>4685.64</td>\n",
       "    </tr>\n",
       "    <tr>\n",
       "      <th>7409</th>\n",
       "      <td>000f0b73ebfa002a79a0642b82e87919904</td>\n",
       "      <td>202105.0</td>\n",
       "      <td>64.0</td>\n",
       "      <td>25.0</td>\n",
       "      <td>0.0</td>\n",
       "      <td>1.0</td>\n",
       "      <td>0.0</td>\n",
       "      <td>0.0</td>\n",
       "      <td>0.0</td>\n",
       "      <td>0.0</td>\n",
       "      <td>...</td>\n",
       "      <td>0.0</td>\n",
       "      <td>0.0</td>\n",
       "      <td>0.0</td>\n",
       "      <td>0.0</td>\n",
       "      <td>0.0</td>\n",
       "      <td>0.0</td>\n",
       "      <td>0.0</td>\n",
       "      <td>0.0</td>\n",
       "      <td>0.0</td>\n",
       "      <td>2063.81</td>\n",
       "    </tr>\n",
       "  </tbody>\n",
       "</table>\n",
       "<p>7410 rows × 55 columns</p>\n",
       "</div>"
      ],
      "text/plain": [
       "                   dni_titular_movimiento  anio_mes_cupon  client__edad  \\\n",
       "0     000000b5aea2c9ea7cc155f6ebcef97f826        202008.0          46.0   \n",
       "1     000000b5aea2c9ea7cc155f6ebcef97f826        202009.0          47.0   \n",
       "2     000000b5aea2c9ea7cc155f6ebcef97f826        202010.0          47.0   \n",
       "3     000000b5aea2c9ea7cc155f6ebcef97f826        202011.0          47.0   \n",
       "4     000000b5aea2c9ea7cc155f6ebcef97f826        202012.0          47.0   \n",
       "...                                   ...             ...           ...   \n",
       "7405  000f0b73ebfa002a79a0642b82e87919904        202101.0          64.0   \n",
       "7406  000f0b73ebfa002a79a0642b82e87919904        202102.0          64.0   \n",
       "7407  000f0b73ebfa002a79a0642b82e87919904        202103.0          64.0   \n",
       "7408  000f0b73ebfa002a79a0642b82e87919904        202104.0          64.0   \n",
       "7409  000f0b73ebfa002a79a0642b82e87919904        202105.0          64.0   \n",
       "\n",
       "      client__antig  client__x0_Hombre  client__x0_Mujer  \\\n",
       "0             225.0                0.0               1.0   \n",
       "1             226.0                0.0               1.0   \n",
       "2             227.0                0.0               1.0   \n",
       "3             228.0                0.0               1.0   \n",
       "4             229.0                0.0               1.0   \n",
       "...             ...                ...               ...   \n",
       "7405           21.0                0.0               1.0   \n",
       "7406           22.0                0.0               1.0   \n",
       "7407           23.0                0.0               1.0   \n",
       "7408           24.0                0.0               1.0   \n",
       "7409           25.0                0.0               1.0   \n",
       "\n",
       "      client__x0_Sin Datos  client__x1_Sector_Educativo  \\\n",
       "0                      0.0                          0.0   \n",
       "1                      0.0                          0.0   \n",
       "2                      0.0                          0.0   \n",
       "3                      0.0                          0.0   \n",
       "4                      0.0                          0.0   \n",
       "...                    ...                          ...   \n",
       "7405                   0.0                          0.0   \n",
       "7406                   0.0                          0.0   \n",
       "7407                   0.0                          0.0   \n",
       "7408                   0.0                          0.0   \n",
       "7409                   0.0                          0.0   \n",
       "\n",
       "      client__x1_Sector_Empleado_Comercio  client__x1_Sector_Financiero  ...  \\\n",
       "0                                     0.0                           0.0  ...   \n",
       "1                                     0.0                           0.0  ...   \n",
       "2                                     0.0                           0.0  ...   \n",
       "3                                     0.0                           0.0  ...   \n",
       "4                                     0.0                           0.0  ...   \n",
       "...                                   ...                           ...  ...   \n",
       "7405                                  0.0                           0.0  ...   \n",
       "7406                                  0.0                           0.0  ...   \n",
       "7407                                  0.0                           0.0  ...   \n",
       "7408                                  0.0                           0.0  ...   \n",
       "7409                                  0.0                           0.0  ...   \n",
       "\n",
       "      trans__x3_1  trans__x3_2  trans__x3_3  trans__x3_4  trans__x3_5  \\\n",
       "0             0.0          0.0          0.0          0.0          0.0   \n",
       "1             0.0          0.0          0.0          0.0          0.0   \n",
       "2             0.0          0.0          0.0          0.0          0.0   \n",
       "3             0.0          0.0          0.0          0.0          0.0   \n",
       "4             0.0          0.0          0.0          0.0          0.0   \n",
       "...           ...          ...          ...          ...          ...   \n",
       "7405          1.0          1.0          0.0          0.0          1.0   \n",
       "7406          1.0          0.0          0.0          0.0          0.0   \n",
       "7407          3.0          0.0          0.0          0.0          0.0   \n",
       "7408          0.0          2.0          0.0          0.0          0.0   \n",
       "7409          0.0          0.0          0.0          0.0          0.0   \n",
       "\n",
       "      trans__x3_6  trans__x3_7  trans__x3_8  trans__x3_9  monto_ajustado  \n",
       "0             0.0          0.0          0.0          0.0           -4.72  \n",
       "1             0.0          0.0          0.0          0.0           -4.61  \n",
       "2             0.0          0.0          0.0          0.0           -4.46  \n",
       "3             0.0          0.0          0.0          0.0           -4.34  \n",
       "4             0.0          0.0          0.0          0.0           -4.21  \n",
       "...           ...          ...          ...          ...             ...  \n",
       "7405          0.0          0.0          0.0          0.0        11616.45  \n",
       "7406          0.0          0.0          0.0          0.0        12566.68  \n",
       "7407          0.0          0.0          0.0          0.0         2663.08  \n",
       "7408          0.0          0.0          0.0          0.0         4685.64  \n",
       "7409          0.0          0.0          0.0          0.0         2063.81  \n",
       "\n",
       "[7410 rows x 55 columns]"
      ]
     },
     "execution_count": 106,
     "metadata": {},
     "output_type": "execute_result"
    }
   ],
   "source": [
    "df = pd.read_parquet('df_supervisado_agrupado.parquet')\n",
    "df"
   ]
  },
  {
   "cell_type": "code",
   "execution_count": 108,
   "id": "f0d92339-f8ec-407d-bd77-3ce057e6468a",
   "metadata": {},
   "outputs": [
    {
     "data": {
      "text/plain": [
       "Index(['dni_titular_movimiento', 'anio_mes_cupon', 'client__edad',\n",
       "       'client__antig', 'client__x0_Hombre', 'client__x0_Mujer',\n",
       "       'client__x0_Sin Datos', 'client__x1_Sector_Educativo',\n",
       "       'client__x1_Sector_Empleado_Comercio', 'client__x1_Sector_Financiero',\n",
       "       'client__x1_Sector_No_Operativo', 'client__x1_Sector_Operativo',\n",
       "       'client__x1_Sector_Salud', 'client__x1_Sector_Seguridad',\n",
       "       'client__x1_Sector_Sin_Datos', 'client__x2_Casado', 'client__x2_Otros',\n",
       "       'client__x2_Sin_datos', 'client__x2_Soltero', 'client__x3_REGION_CUYO',\n",
       "       'client__x3_REGION_NORDESTE', 'client__x3_REGION_NOROESTE',\n",
       "       'client__x3_REGION_PAMPEANA', 'client__x3_REGION_PATAGONIA',\n",
       "       'client__x3_SIN_DATOS', 'trans__x0_AX', 'trans__x0_EX', 'trans__x0_MC',\n",
       "       'trans__x0_PC', 'trans__x0_PL', 'trans__x0_PN', 'trans__x0_PP',\n",
       "       'trans__x0_TA', 'trans__x0_VI', 'trans__x0_ZE',\n",
       "       'trans__x1_American_express', 'trans__x1_Clasica',\n",
       "       'trans__x1_Master_internacional', 'trans__x1_Naranja',\n",
       "       'trans__x1_Naranja_virtual', 'trans__x1_Visa_internacional',\n",
       "       'trans__x2_Dolares', 'trans__x2_Pesos', 'trans__x2_Zeta', 'trans__x3_0',\n",
       "       'trans__x3_1', 'trans__x3_2', 'trans__x3_3', 'trans__x3_4',\n",
       "       'trans__x3_5', 'trans__x3_6', 'trans__x3_7', 'trans__x3_8',\n",
       "       'trans__x3_9', 'monto_ajustado'],\n",
       "      dtype='object')"
      ]
     },
     "execution_count": 108,
     "metadata": {},
     "output_type": "execute_result"
    }
   ],
   "source": [
    "df.columns"
   ]
  },
  {
   "cell_type": "markdown",
   "id": "18c4b009-e108-41a2-aceb-b7c777c0b2b8",
   "metadata": {},
   "source": [
    "Ordenamos nuestro conjunto de datos en función a la variable anio_mes_cupon."
   ]
  },
  {
   "cell_type": "code",
   "execution_count": 3,
   "id": "5dec6f71-ba7e-4698-9fd3-61d6bb158335",
   "metadata": {},
   "outputs": [
    {
     "data": {
      "text/plain": [
       "count      7410.00\n",
       "mean      11808.44\n",
       "std       14823.98\n",
       "min      -14160.39\n",
       "25%         987.78\n",
       "50%        6373.59\n",
       "75%       17248.53\n",
       "max      134045.42\n",
       "Name: monto_ajustado, dtype: float64"
      ]
     },
     "execution_count": 3,
     "metadata": {},
     "output_type": "execute_result"
    }
   ],
   "source": [
    "df = df.sort_values(by = ['anio_mes_cupon'], ascending = True)\n",
    "df['o_mes'] = df.anio_mes_cupon.astype('category').cat.codes\n",
    "\n",
    "df['monto_ajustado'].describe().round(2)"
   ]
  },
  {
   "cell_type": "markdown",
   "id": "e14a3e4e-8744-48c4-8111-ec991a22b267",
   "metadata": {
    "tags": []
   },
   "source": [
    "### Distribución de features numericas con respecto al target, monto_ajustado"
   ]
  },
  {
   "cell_type": "code",
   "execution_count": 4,
   "id": "850c53ca-6077-4052-acc2-972f64c2be39",
   "metadata": {
    "tags": []
   },
   "outputs": [
    {
     "data": {
      "image/png": "[encoded data removed]",
      "text/plain": [
       "<Figure size 1440x2520 with 32 Axes>"
      ]
     },
     "metadata": {
      "needs_background": "light"
     },
     "output_type": "display_data"
    }
   ],
   "source": [
    "# Visualizamos solo las numericas y las transaccionales sumarizadas\n",
    "cols = [x for x in df.columns.values if 'client__x' not in x]\n",
    "cols.remove('dni_titular_movimiento')\n",
    "cols.remove('anio_mes_cupon')\n",
    "cols.remove('monto_ajustado')\n",
    "\n",
    "# plot\n",
    "n_cols = 4\n",
    "n_rows = math.ceil(len(cols)/n_cols)\n",
    "fig, axs = plt.subplots(n_rows, n_cols, figsize=(20, 35))\n",
    "count = 0\n",
    "for i in cols:    \n",
    "    row = math.floor(count / n_cols)\n",
    "    col = count % n_cols\n",
    "    ax = axs[row, col]\n",
    "    sns.scatterplot(data=df, x=i, y='monto_ajustado', ax=ax)\n",
    "    count =count +1\n",
    "\n",
    "plt.show()"
   ]
  },
  {
   "cell_type": "markdown",
   "id": "77957b6c-4055-453b-b038-bbc17d30757f",
   "metadata": {},
   "source": [
    "### Distribuciones de monto_ajustado con respecto a otras variables numericas discretas\n",
    "\n",
    "En el orden en que se ven en el grafico anterior, comenzando por el primero arriba a la izquierda\n",
    "\n",
    "#### Datos del cliente\n",
    "- *client__edad* (edad del cliente): La distribucion se asemeja a una uniforme, con un rango de montos mayoritariamente entre 0 y 50000. Hay una pendiente ascendente pronunciada entre 0 y 30 años y una descendente y menos pronunciada entre 65 y 100 aproximadamente. Esto nos indica que hay un rango etario mas chico a edades mas tempranas donde los gastos crecen, y un rango mas grande a edades mas tardias donde los gastos decrecen.\n",
    "- *client__antig* (Antiguedad del cliente): Similar a edad, la distribucion se asemeja a una uniforme con un rango de montos mayoritariamente entre 0 y 50000. Este rango de montos se mantiene constante para casi todas las antiguedades presentes, excepto un rango entre 200 y 250 aproximadamente donde se puede observar una leve baja en el rango de montos. Es interesante de estudiar, ya que no habria una razon inmediata para pensar que ese particular rango de antiguedades deberia gastar menos que los otros. No deberiamos descartar tambien la posibilidad de que haya cierto sesgo.\n",
    "\n",
    "#### Datos de la transacción\n",
    "Para cada variable, el eje horizontal representa la cantidad de transacciones en esa categoria, para un solo mes. \n",
    "##### Producto Naranja\n",
    "- *trans__x0_AX* (American Express): La mayoria de los clientes se concentran en 0 ya que es un producto muy poco usado. \n",
    "- *trans__x0_EX* (Extraccion cajeros Nac.): Mismo caso que AX, con algunos casos con mas frecuencia de uso en un solo mes. \n",
    "- *trans__x0_MC* (Master Card): Mismo caso que EX\n",
    "- *trans_x0_PC* (Plan de Cuotas): Si bien muchos casos estan en 0, existe una mayor distribucion para 1, 2, y 3. Al tratarse de un plan de cuotas seria esperable que muchos clientes usen este producto en varios meses. \n",
    "- *trans_x0_PL* (Plan Largo): Es uno de los productos mas usados en el dataset. Se extiende mayoritariamente entre 0 y 30 usos mensuales. Entre 0 y 20 usos la distribucion parece ser uniforme, con un rango de gastos entre 0 y 60000. Puede verse una cierta tendencia a aumentar los gastos a medida que aumenta PL.\n",
    "- *trans__x0_PN* (Prestamos Personales PN): La mayoria de los casos estan en 0, disminuyendo en cantidad para mayor PN.\n",
    "- *trans__x0_PP* (Plan de Pago Propuesto): Similar a PN\n",
    "- *trans__x0_TA* (Transfer Naranja Arg): Similar a PP\n",
    "- *trans__x0_VI* (Visa): Similar a PL, reune un gran numero de transacciones del dataset, sin embargo no se distribuyen parecido. El mayor rango de montos se concentra cerca de 0 para VI, y a medida que este ultimo aumenta, el rango se acorta y queda aprox entre 0 y 40000 para un valor de ~12 para VI. Se podria decir que los montos tienden a disminuir para mayor cantidad de gastos en este producto. \n",
    "- *trans__x0_ZE* (Zeta Optada): Hay una cantidad similar de casos para 0 y 1, disminuyendo para 2.\n",
    "\n",
    "##### Tipo Producto Naranja\n",
    "- *trans__x1_American_express*: La mayoria de los dnis no tiene gastos con este tipo de producto\n",
    "- *trans__x1_Clasica*: El rango de montos va entre 0 y 80000 aprox, con una pendiente corta pero abrupta entre 0 y ~3 y descendiendo a partir de ese valor, acortando el rango de montos. \n",
    "- *trans__x1_Master_Internacional*: Se puede ver una distribucion con un contorno parecido al caso de 'Clasica' pero con mayoria de casos concentrados en 0.\n",
    "- *trans__x1_Naranja*: Es de los tipos de producto mas usados, con una distribucion parecida al producto PL. Esto nos dice que probablemente se comportan parecido y son parte de las mismas transacciones en muchos casos. \n",
    "- *trans__x1_Naranja_virtual*: Mayoria de casos en 0, disminuyendo para 1 y 2. \n",
    "- *trans__x1_Visa_internacional*: Se distribuye de manera parecida al producto VI. Similar al caso del tipo 'Naranja' y PL, podriamos estar viendo las mismas transacciones. \n",
    "\n",
    "##### Tipo de moneda\n",
    "- *trans__x2_Dolares*: Las transacciones en dolares tienen su rango mas grande para las cantidades bajas de transacciones, y luego disminuye tanto en rango como en valor a medida que aumentan. \n",
    "- *trans__x3_Pesos*: Se puede ver una distribucion medianamente uniforme para un rango entre 0 y 60000 pesos, de 0 a 20 transacciones mensuales. Para valores mas grandes habria mayor dispersion tanto en montos como en cantidad de transacciones. Se distribuye de una manera similar a PL, esto se explica por la cantidad de gastos hechos en pesos y en producto PL, que son la mayoria. \n",
    "- *trans__x2_Zeta*: Si bien hay menos transacciones que en pesos, se puede observar como el rango de monto disminuye en tamaño pero estabilizandose en valores altos, mayores a 20000, para mas de 10 transacciones en moneda Zeta. \n",
    "- *trans__x3_0 (Comercios 0)*: Se distribuye similar a tipo producto 'Clasica' pero con una forma levemente mas alargada. Tiene una pendiente inicial, un pico, y luego un descenso de los gastos mas paulatino. El rango de los montos siempre con un piso en 0, cubriendo toda el area debajo del contorno de manera uniforme. \n",
    "- *trans__x3_1 (Comercios 1)*: Se distribuye similar a tipo producto 'Visa internacional', pero con una forma de 'piramide acostada' mas definida. El rango comienza entre 0 y ~90000 y disminuye con tendencia a estabilizarse cerca de 50000 para mayor cantidad de gastos en estos comercios. La distribucion de puntos es mas densa para valores entre 0 y ~13 en el eje horizontal.\n",
    "- *trans__x3_2 (Comercios 2)*: Si bien hay menor cantidad de casos y la mayoria se concentran en 0, se puede decir que tiene una forma similar al caso de comercios 1.\n",
    "- *trans__x3_3 (Comercios 3)*: Similar a Comercios 2 con una menor concentracion sobre el lado izquierdo del grafico. \n",
    "- *trans__x3_4 (Comercios 4)*: La mayoria de los casos se concentran en 0\n",
    "- *trans__x3_5 (Comercios 5)*: Similar a otras distribuciones ya vistas, hay un rango grande de montos para casos cercanos a 0, y se forma una especie de 'piramide acostada', cercana a estabilizar el rango centrandose cerca de 20000 para mas frecuencia de gastos en este comercio.\n",
    "- *trans__x3_6 (Comercios 6)*: Similar a Comercio 5, sin embargo la mayoria de los casos se concentran en numeros bajos de cantidad de gastos mensuales.\n",
    "- *trans__x3_7 (Comercios 7)*: Similar a Comercio 6, con alta concentración en 0. \n",
    "- *trans__x3_8 (Comercios 8)*: Igual que el caso anterior, solo que con mayor distribucion para el rango entre 2 y 8 casos mensuales, pero concentrando la mayoria en 0. \n",
    "- *trans__x3_9 (Comercios 9)*: Junto con Comercio 5 y Comercio 1, parece concentrar la mayoria de casos. La distribucion tambien es, como en otros casos, similar a una piramide acostada, con la punta estabilizando valores de montos un poco por debajo de 20000, para un rango entre 0 y 20 casos mensuales. \n",
    "##### Nº de mes\n",
    "- *o_mes*: de 0 a 10 representa los meses Julio-2020 - Junio-2021. Se distribuye de una manera cercana a la uniforme, pero descendiendo para los meses en las puntas, y aumentando para los meses en el medio. Si tenemos en cuenta que las puntas son invierno y entre los meses 4 y 6 es verano, esta distribucion se explica ya que la gente tiende a gastar mas a fin de año.\n"
   ]
  },
  {
   "cell_type": "markdown",
   "id": "99868af3-75bb-40e3-91dd-3ec0e4a25bbd",
   "metadata": {},
   "source": [
    "### Balanceo de DataFrame"
   ]
  },
  {
   "cell_type": "markdown",
   "id": "fa57dcb8-0579-4f01-a396-7e2e086d2f79",
   "metadata": {},
   "source": [
    "Para el balanceo de datos, aseguramos que cada cliente tenga al menos una transacción dentro de cada mes, colocando monto cero en meses donde no haya consumos."
   ]
  },
  {
   "cell_type": "code",
   "execution_count": 5,
   "id": "095e9550-0030-4c38-8890-923caebc8c01",
   "metadata": {},
   "outputs": [
    {
     "data": {
      "text/plain": [
       "9852"
      ]
     },
     "execution_count": 5,
     "metadata": {},
     "output_type": "execute_result"
    }
   ],
   "source": [
    "df['dni_titular_movimiento'].nunique() * df['anio_mes_cupon'].nunique() # dnis x cantidad de meses"
   ]
  },
  {
   "cell_type": "code",
   "execution_count": 6,
   "id": "7be79044-51cc-4671-aaab-62ca2d6a08d7",
   "metadata": {},
   "outputs": [
    {
     "name": "stdout",
     "output_type": "stream",
     "text": [
      "Cantidad de Meses por Titular (Final): 9852\n",
      "Shape Dataframe: (7410, 56)\n"
     ]
    }
   ],
   "source": [
    "print('Cantidad de Meses por Titular (Final):',df['dni_titular_movimiento'].nunique() * df['anio_mes_cupon'].nunique())\n",
    "print('Shape Dataframe:', df.shape)"
   ]
  },
  {
   "cell_type": "markdown",
   "id": "d85fe40e-6a65-45c4-bd7d-045a0d2759bd",
   "metadata": {},
   "source": [
    "Corroboramos aquellos titulares que no tienen movimientos en todos los meses"
   ]
  },
  {
   "cell_type": "code",
   "execution_count": 7,
   "id": "6e857216-3917-417f-ada5-8e92722b9d84",
   "metadata": {},
   "outputs": [
    {
     "data": {
      "text/html": [
       "<div>\n",
       "<style scoped>\n",
       "    .dataframe tbody tr th:only-of-type {\n",
       "        vertical-align: middle;\n",
       "    }\n",
       "\n",
       "    .dataframe tbody tr th {\n",
       "        vertical-align: top;\n",
       "    }\n",
       "\n",
       "    .dataframe thead th {\n",
       "        text-align: right;\n",
       "    }\n",
       "</style>\n",
       "<table border=\"1\" class=\"dataframe\">\n",
       "  <thead>\n",
       "    <tr style=\"text-align: right;\">\n",
       "      <th></th>\n",
       "      <th>dni_titular_movimiento</th>\n",
       "      <th>counts</th>\n",
       "    </tr>\n",
       "  </thead>\n",
       "  <tbody>\n",
       "    <tr>\n",
       "      <th>354</th>\n",
       "      <td>0006b827182be3790f4983851eae6a72301</td>\n",
       "      <td>1</td>\n",
       "    </tr>\n",
       "    <tr>\n",
       "      <th>27</th>\n",
       "      <td>000071f1f7541835440a7b95e8280add842</td>\n",
       "      <td>1</td>\n",
       "    </tr>\n",
       "    <tr>\n",
       "      <th>703</th>\n",
       "      <td>000ce0a075eb02ff2decefb5d5d477b6069</td>\n",
       "      <td>1</td>\n",
       "    </tr>\n",
       "    <tr>\n",
       "      <th>487</th>\n",
       "      <td>00092d5c893e1a689d88d96ab217ae12832</td>\n",
       "      <td>1</td>\n",
       "    </tr>\n",
       "    <tr>\n",
       "      <th>744</th>\n",
       "      <td>000d825001c54cde70e79c2c0c2ca144103</td>\n",
       "      <td>1</td>\n",
       "    </tr>\n",
       "    <tr>\n",
       "      <th>...</th>\n",
       "      <td>...</td>\n",
       "      <td>...</td>\n",
       "    </tr>\n",
       "    <tr>\n",
       "      <th>371</th>\n",
       "      <td>00070a4981542ed6aaca3e1187ba82a0293</td>\n",
       "      <td>11</td>\n",
       "    </tr>\n",
       "    <tr>\n",
       "      <th>675</th>\n",
       "      <td>000c871be99df761652d9c7e531e05cb027</td>\n",
       "      <td>11</td>\n",
       "    </tr>\n",
       "    <tr>\n",
       "      <th>177</th>\n",
       "      <td>0002ec99c87c40ea558370277c2af620206</td>\n",
       "      <td>11</td>\n",
       "    </tr>\n",
       "    <tr>\n",
       "      <th>522</th>\n",
       "      <td>0009d755757673758d8a50f3e0a7d346850</td>\n",
       "      <td>11</td>\n",
       "    </tr>\n",
       "    <tr>\n",
       "      <th>447</th>\n",
       "      <td>00086cb10762a98b9e89b071ce7f841c563</td>\n",
       "      <td>11</td>\n",
       "    </tr>\n",
       "  </tbody>\n",
       "</table>\n",
       "<p>821 rows × 2 columns</p>\n",
       "</div>"
      ],
      "text/plain": [
       "                  dni_titular_movimiento  counts\n",
       "354  0006b827182be3790f4983851eae6a72301       1\n",
       "27   000071f1f7541835440a7b95e8280add842       1\n",
       "703  000ce0a075eb02ff2decefb5d5d477b6069       1\n",
       "487  00092d5c893e1a689d88d96ab217ae12832       1\n",
       "744  000d825001c54cde70e79c2c0c2ca144103       1\n",
       "..                                   ...     ...\n",
       "371  00070a4981542ed6aaca3e1187ba82a0293      11\n",
       "675  000c871be99df761652d9c7e531e05cb027      11\n",
       "177  0002ec99c87c40ea558370277c2af620206      11\n",
       "522  0009d755757673758d8a50f3e0a7d346850      11\n",
       "447  00086cb10762a98b9e89b071ce7f841c563      11\n",
       "\n",
       "[821 rows x 2 columns]"
      ]
     },
     "execution_count": 7,
     "metadata": {},
     "output_type": "execute_result"
    }
   ],
   "source": [
    "df[['dni_titular_movimiento','anio_mes_cupon']].drop_duplicates().groupby(['dni_titular_movimiento']).size().reset_index(name='counts').sort_values(by='counts')"
   ]
  },
  {
   "cell_type": "code",
   "execution_count": 8,
   "id": "9e115cc3-99c5-4778-9475-371f9a3bd32c",
   "metadata": {},
   "outputs": [
    {
     "data": {
      "text/html": [
       "<div>\n",
       "<style scoped>\n",
       "    .dataframe tbody tr th:only-of-type {\n",
       "        vertical-align: middle;\n",
       "    }\n",
       "\n",
       "    .dataframe tbody tr th {\n",
       "        vertical-align: top;\n",
       "    }\n",
       "\n",
       "    .dataframe thead th {\n",
       "        text-align: right;\n",
       "    }\n",
       "</style>\n",
       "<table border=\"1\" class=\"dataframe\">\n",
       "  <thead>\n",
       "    <tr style=\"text-align: right;\">\n",
       "      <th></th>\n",
       "      <th>dni_titular_movimiento</th>\n",
       "      <th>anio_mes_cupon</th>\n",
       "      <th>client__edad</th>\n",
       "      <th>client__antig</th>\n",
       "      <th>client__x0_Hombre</th>\n",
       "      <th>client__x0_Mujer</th>\n",
       "      <th>client__x0_Sin Datos</th>\n",
       "      <th>client__x1_Sector_Educativo</th>\n",
       "      <th>client__x1_Sector_Empleado_Comercio</th>\n",
       "      <th>client__x1_Sector_Financiero</th>\n",
       "      <th>...</th>\n",
       "      <th>trans__x3_2</th>\n",
       "      <th>trans__x3_3</th>\n",
       "      <th>trans__x3_4</th>\n",
       "      <th>trans__x3_5</th>\n",
       "      <th>trans__x3_6</th>\n",
       "      <th>trans__x3_7</th>\n",
       "      <th>trans__x3_8</th>\n",
       "      <th>trans__x3_9</th>\n",
       "      <th>monto_ajustado</th>\n",
       "      <th>o_mes</th>\n",
       "    </tr>\n",
       "  </thead>\n",
       "  <tbody>\n",
       "    <tr>\n",
       "      <th>0</th>\n",
       "      <td>0001ad171f1562c43ff9d73795e851be920</td>\n",
       "      <td>202007.0</td>\n",
       "      <td>40.0</td>\n",
       "      <td>41.0</td>\n",
       "      <td>0.0</td>\n",
       "      <td>1.0</td>\n",
       "      <td>0.0</td>\n",
       "      <td>0.0</td>\n",
       "      <td>0.0</td>\n",
       "      <td>0.0</td>\n",
       "      <td>...</td>\n",
       "      <td>2.0</td>\n",
       "      <td>0.0</td>\n",
       "      <td>0.0</td>\n",
       "      <td>1.0</td>\n",
       "      <td>0.0</td>\n",
       "      <td>0.0</td>\n",
       "      <td>0.0</td>\n",
       "      <td>0.0</td>\n",
       "      <td>4521.11</td>\n",
       "      <td>0.0</td>\n",
       "    </tr>\n",
       "    <tr>\n",
       "      <th>1</th>\n",
       "      <td>0001ad171f1562c43ff9d73795e851be920</td>\n",
       "      <td>202008.0</td>\n",
       "      <td>40.0</td>\n",
       "      <td>42.0</td>\n",
       "      <td>0.0</td>\n",
       "      <td>1.0</td>\n",
       "      <td>0.0</td>\n",
       "      <td>0.0</td>\n",
       "      <td>0.0</td>\n",
       "      <td>0.0</td>\n",
       "      <td>...</td>\n",
       "      <td>2.0</td>\n",
       "      <td>0.0</td>\n",
       "      <td>0.0</td>\n",
       "      <td>0.0</td>\n",
       "      <td>0.0</td>\n",
       "      <td>0.0</td>\n",
       "      <td>0.0</td>\n",
       "      <td>1.0</td>\n",
       "      <td>3361.68</td>\n",
       "      <td>1.0</td>\n",
       "    </tr>\n",
       "    <tr>\n",
       "      <th>2</th>\n",
       "      <td>0001ad171f1562c43ff9d73795e851be920</td>\n",
       "      <td>202009.0</td>\n",
       "      <td>40.0</td>\n",
       "      <td>43.0</td>\n",
       "      <td>0.0</td>\n",
       "      <td>1.0</td>\n",
       "      <td>0.0</td>\n",
       "      <td>0.0</td>\n",
       "      <td>0.0</td>\n",
       "      <td>0.0</td>\n",
       "      <td>...</td>\n",
       "      <td>1.0</td>\n",
       "      <td>0.0</td>\n",
       "      <td>0.0</td>\n",
       "      <td>0.0</td>\n",
       "      <td>0.0</td>\n",
       "      <td>0.0</td>\n",
       "      <td>0.0</td>\n",
       "      <td>2.0</td>\n",
       "      <td>4432.64</td>\n",
       "      <td>2.0</td>\n",
       "    </tr>\n",
       "    <tr>\n",
       "      <th>3</th>\n",
       "      <td>0001ad171f1562c43ff9d73795e851be920</td>\n",
       "      <td>202010.0</td>\n",
       "      <td>40.0</td>\n",
       "      <td>44.0</td>\n",
       "      <td>0.0</td>\n",
       "      <td>1.0</td>\n",
       "      <td>0.0</td>\n",
       "      <td>0.0</td>\n",
       "      <td>0.0</td>\n",
       "      <td>0.0</td>\n",
       "      <td>...</td>\n",
       "      <td>2.0</td>\n",
       "      <td>0.0</td>\n",
       "      <td>0.0</td>\n",
       "      <td>2.0</td>\n",
       "      <td>0.0</td>\n",
       "      <td>0.0</td>\n",
       "      <td>0.0</td>\n",
       "      <td>2.0</td>\n",
       "      <td>8452.73</td>\n",
       "      <td>3.0</td>\n",
       "    </tr>\n",
       "    <tr>\n",
       "      <th>4</th>\n",
       "      <td>0001ad171f1562c43ff9d73795e851be920</td>\n",
       "      <td>202011.0</td>\n",
       "      <td>40.0</td>\n",
       "      <td>45.0</td>\n",
       "      <td>0.0</td>\n",
       "      <td>1.0</td>\n",
       "      <td>0.0</td>\n",
       "      <td>0.0</td>\n",
       "      <td>0.0</td>\n",
       "      <td>0.0</td>\n",
       "      <td>...</td>\n",
       "      <td>1.0</td>\n",
       "      <td>0.0</td>\n",
       "      <td>0.0</td>\n",
       "      <td>0.0</td>\n",
       "      <td>0.0</td>\n",
       "      <td>0.0</td>\n",
       "      <td>0.0</td>\n",
       "      <td>1.0</td>\n",
       "      <td>12923.95</td>\n",
       "      <td>4.0</td>\n",
       "    </tr>\n",
       "    <tr>\n",
       "      <th>...</th>\n",
       "      <td>...</td>\n",
       "      <td>...</td>\n",
       "      <td>...</td>\n",
       "      <td>...</td>\n",
       "      <td>...</td>\n",
       "      <td>...</td>\n",
       "      <td>...</td>\n",
       "      <td>...</td>\n",
       "      <td>...</td>\n",
       "      <td>...</td>\n",
       "      <td>...</td>\n",
       "      <td>...</td>\n",
       "      <td>...</td>\n",
       "      <td>...</td>\n",
       "      <td>...</td>\n",
       "      <td>...</td>\n",
       "      <td>...</td>\n",
       "      <td>...</td>\n",
       "      <td>...</td>\n",
       "      <td>...</td>\n",
       "      <td>...</td>\n",
       "    </tr>\n",
       "    <tr>\n",
       "      <th>9847</th>\n",
       "      <td>00073e893b40d39e8be8bf7e74c51737985</td>\n",
       "      <td>202102.0</td>\n",
       "      <td>NaN</td>\n",
       "      <td>NaN</td>\n",
       "      <td>NaN</td>\n",
       "      <td>NaN</td>\n",
       "      <td>NaN</td>\n",
       "      <td>NaN</td>\n",
       "      <td>NaN</td>\n",
       "      <td>NaN</td>\n",
       "      <td>...</td>\n",
       "      <td>NaN</td>\n",
       "      <td>NaN</td>\n",
       "      <td>NaN</td>\n",
       "      <td>NaN</td>\n",
       "      <td>NaN</td>\n",
       "      <td>NaN</td>\n",
       "      <td>NaN</td>\n",
       "      <td>NaN</td>\n",
       "      <td>NaN</td>\n",
       "      <td>NaN</td>\n",
       "    </tr>\n",
       "    <tr>\n",
       "      <th>9848</th>\n",
       "      <td>00073e893b40d39e8be8bf7e74c51737985</td>\n",
       "      <td>202103.0</td>\n",
       "      <td>NaN</td>\n",
       "      <td>NaN</td>\n",
       "      <td>NaN</td>\n",
       "      <td>NaN</td>\n",
       "      <td>NaN</td>\n",
       "      <td>NaN</td>\n",
       "      <td>NaN</td>\n",
       "      <td>NaN</td>\n",
       "      <td>...</td>\n",
       "      <td>NaN</td>\n",
       "      <td>NaN</td>\n",
       "      <td>NaN</td>\n",
       "      <td>NaN</td>\n",
       "      <td>NaN</td>\n",
       "      <td>NaN</td>\n",
       "      <td>NaN</td>\n",
       "      <td>NaN</td>\n",
       "      <td>NaN</td>\n",
       "      <td>NaN</td>\n",
       "    </tr>\n",
       "    <tr>\n",
       "      <th>9849</th>\n",
       "      <td>00073e893b40d39e8be8bf7e74c51737985</td>\n",
       "      <td>202104.0</td>\n",
       "      <td>36.0</td>\n",
       "      <td>0.0</td>\n",
       "      <td>0.0</td>\n",
       "      <td>1.0</td>\n",
       "      <td>0.0</td>\n",
       "      <td>0.0</td>\n",
       "      <td>0.0</td>\n",
       "      <td>0.0</td>\n",
       "      <td>...</td>\n",
       "      <td>0.0</td>\n",
       "      <td>0.0</td>\n",
       "      <td>0.0</td>\n",
       "      <td>1.0</td>\n",
       "      <td>0.0</td>\n",
       "      <td>0.0</td>\n",
       "      <td>0.0</td>\n",
       "      <td>0.0</td>\n",
       "      <td>1363.44</td>\n",
       "      <td>9.0</td>\n",
       "    </tr>\n",
       "    <tr>\n",
       "      <th>9850</th>\n",
       "      <td>00073e893b40d39e8be8bf7e74c51737985</td>\n",
       "      <td>202105.0</td>\n",
       "      <td>NaN</td>\n",
       "      <td>NaN</td>\n",
       "      <td>NaN</td>\n",
       "      <td>NaN</td>\n",
       "      <td>NaN</td>\n",
       "      <td>NaN</td>\n",
       "      <td>NaN</td>\n",
       "      <td>NaN</td>\n",
       "      <td>...</td>\n",
       "      <td>NaN</td>\n",
       "      <td>NaN</td>\n",
       "      <td>NaN</td>\n",
       "      <td>NaN</td>\n",
       "      <td>NaN</td>\n",
       "      <td>NaN</td>\n",
       "      <td>NaN</td>\n",
       "      <td>NaN</td>\n",
       "      <td>NaN</td>\n",
       "      <td>NaN</td>\n",
       "    </tr>\n",
       "    <tr>\n",
       "      <th>9851</th>\n",
       "      <td>00073e893b40d39e8be8bf7e74c51737985</td>\n",
       "      <td>202106.0</td>\n",
       "      <td>NaN</td>\n",
       "      <td>NaN</td>\n",
       "      <td>NaN</td>\n",
       "      <td>NaN</td>\n",
       "      <td>NaN</td>\n",
       "      <td>NaN</td>\n",
       "      <td>NaN</td>\n",
       "      <td>NaN</td>\n",
       "      <td>...</td>\n",
       "      <td>NaN</td>\n",
       "      <td>NaN</td>\n",
       "      <td>NaN</td>\n",
       "      <td>NaN</td>\n",
       "      <td>NaN</td>\n",
       "      <td>NaN</td>\n",
       "      <td>NaN</td>\n",
       "      <td>NaN</td>\n",
       "      <td>NaN</td>\n",
       "      <td>NaN</td>\n",
       "    </tr>\n",
       "  </tbody>\n",
       "</table>\n",
       "<p>9852 rows × 56 columns</p>\n",
       "</div>"
      ],
      "text/plain": [
       "                   dni_titular_movimiento  anio_mes_cupon  client__edad  \\\n",
       "0     0001ad171f1562c43ff9d73795e851be920        202007.0          40.0   \n",
       "1     0001ad171f1562c43ff9d73795e851be920        202008.0          40.0   \n",
       "2     0001ad171f1562c43ff9d73795e851be920        202009.0          40.0   \n",
       "3     0001ad171f1562c43ff9d73795e851be920        202010.0          40.0   \n",
       "4     0001ad171f1562c43ff9d73795e851be920        202011.0          40.0   \n",
       "...                                   ...             ...           ...   \n",
       "9847  00073e893b40d39e8be8bf7e74c51737985        202102.0           NaN   \n",
       "9848  00073e893b40d39e8be8bf7e74c51737985        202103.0           NaN   \n",
       "9849  00073e893b40d39e8be8bf7e74c51737985        202104.0          36.0   \n",
       "9850  00073e893b40d39e8be8bf7e74c51737985        202105.0           NaN   \n",
       "9851  00073e893b40d39e8be8bf7e74c51737985        202106.0           NaN   \n",
       "\n",
       "      client__antig  client__x0_Hombre  client__x0_Mujer  \\\n",
       "0              41.0                0.0               1.0   \n",
       "1              42.0                0.0               1.0   \n",
       "2              43.0                0.0               1.0   \n",
       "3              44.0                0.0               1.0   \n",
       "4              45.0                0.0               1.0   \n",
       "...             ...                ...               ...   \n",
       "9847            NaN                NaN               NaN   \n",
       "9848            NaN                NaN               NaN   \n",
       "9849            0.0                0.0               1.0   \n",
       "9850            NaN                NaN               NaN   \n",
       "9851            NaN                NaN               NaN   \n",
       "\n",
       "      client__x0_Sin Datos  client__x1_Sector_Educativo  \\\n",
       "0                      0.0                          0.0   \n",
       "1                      0.0                          0.0   \n",
       "2                      0.0                          0.0   \n",
       "3                      0.0                          0.0   \n",
       "4                      0.0                          0.0   \n",
       "...                    ...                          ...   \n",
       "9847                   NaN                          NaN   \n",
       "9848                   NaN                          NaN   \n",
       "9849                   0.0                          0.0   \n",
       "9850                   NaN                          NaN   \n",
       "9851                   NaN                          NaN   \n",
       "\n",
       "      client__x1_Sector_Empleado_Comercio  client__x1_Sector_Financiero  ...  \\\n",
       "0                                     0.0                           0.0  ...   \n",
       "1                                     0.0                           0.0  ...   \n",
       "2                                     0.0                           0.0  ...   \n",
       "3                                     0.0                           0.0  ...   \n",
       "4                                     0.0                           0.0  ...   \n",
       "...                                   ...                           ...  ...   \n",
       "9847                                  NaN                           NaN  ...   \n",
       "9848                                  NaN                           NaN  ...   \n",
       "9849                                  0.0                           0.0  ...   \n",
       "9850                                  NaN                           NaN  ...   \n",
       "9851                                  NaN                           NaN  ...   \n",
       "\n",
       "      trans__x3_2  trans__x3_3  trans__x3_4  trans__x3_5  trans__x3_6  \\\n",
       "0             2.0          0.0          0.0          1.0          0.0   \n",
       "1             2.0          0.0          0.0          0.0          0.0   \n",
       "2             1.0          0.0          0.0          0.0          0.0   \n",
       "3             2.0          0.0          0.0          2.0          0.0   \n",
       "4             1.0          0.0          0.0          0.0          0.0   \n",
       "...           ...          ...          ...          ...          ...   \n",
       "9847          NaN          NaN          NaN          NaN          NaN   \n",
       "9848          NaN          NaN          NaN          NaN          NaN   \n",
       "9849          0.0          0.0          0.0          1.0          0.0   \n",
       "9850          NaN          NaN          NaN          NaN          NaN   \n",
       "9851          NaN          NaN          NaN          NaN          NaN   \n",
       "\n",
       "      trans__x3_7  trans__x3_8  trans__x3_9  monto_ajustado  o_mes  \n",
       "0             0.0          0.0          0.0         4521.11    0.0  \n",
       "1             0.0          0.0          1.0         3361.68    1.0  \n",
       "2             0.0          0.0          2.0         4432.64    2.0  \n",
       "3             0.0          0.0          2.0         8452.73    3.0  \n",
       "4             0.0          0.0          1.0        12923.95    4.0  \n",
       "...           ...          ...          ...             ...    ...  \n",
       "9847          NaN          NaN          NaN             NaN    NaN  \n",
       "9848          NaN          NaN          NaN             NaN    NaN  \n",
       "9849          0.0          0.0          0.0         1363.44    9.0  \n",
       "9850          NaN          NaN          NaN             NaN    NaN  \n",
       "9851          NaN          NaN          NaN             NaN    NaN  \n",
       "\n",
       "[9852 rows x 56 columns]"
      ]
     },
     "execution_count": 8,
     "metadata": {},
     "output_type": "execute_result"
    }
   ],
   "source": [
    "array_mes = df.anio_mes_cupon.sort_values().unique()\n",
    "array_dni = df.dni_titular_movimiento.unique()\n",
    "\n",
    "dic = {'dni': [], 'mes': []}\n",
    "for dni in array_dni:\n",
    "    for mes in array_mes:\n",
    "        dic['dni'].append(dni)\n",
    "        dic['mes'].append(mes)\n",
    "\n",
    "df_mes_imp = pd.merge(pd.DataFrame(dic), \n",
    "                      df, \n",
    "                      left_on=['dni','mes'], \n",
    "                      right_on=['dni_titular_movimiento','anio_mes_cupon'], \n",
    "                      how='left') \\\n",
    "                .drop(columns=['dni_titular_movimiento','anio_mes_cupon'])\n",
    "df_mes_imp = df_mes_imp.rename(columns={'dni': 'dni_titular_movimiento','mes': 'anio_mes_cupon'})\n",
    "df_mes_imp"
   ]
  },
  {
   "cell_type": "code",
   "execution_count": 9,
   "id": "dc093888-9a39-4529-80ce-2c3cee17c1ef",
   "metadata": {},
   "outputs": [],
   "source": [
    "# Imputamos 0 en las columnas de la transacción que tienen nan\n",
    "cols = df_mes_imp.columns.values\n",
    "cols_zero = [x for x in cols if 'trans' in x]\n",
    "cols_zero.append('monto_ajustado')\n",
    "df_mes_imp[cols_zero] = df_mes_imp[cols_zero].fillna(0)\n",
    "\n",
    "# Imputamos lo valores propios del cliente\n",
    "cols_client = [x for x in cols if ('client_' in x) & ('antig' not in x) & ('edad' not in x)]\n",
    "cols_client_imp = cols_client.copy()\n",
    "cols_client_imp.append('dni_titular_movimiento')\n",
    "\n",
    "data_mes = df_mes_imp[cols_client_imp].dropna().drop_duplicates().reset_index().drop(columns='index')\n",
    "df_imputer = df_mes_imp.drop(columns=cols_client).copy()\n",
    "\n",
    "# Imputamos los datos del cliente y ordenamos\n",
    "df_mes_imp = df_imputer.merge(data_mes, on='dni_titular_movimiento')[cols].sort_values(by=['dni_titular_movimiento', 'anio_mes_cupon']).reset_index().drop(columns=['index'])\n",
    "\n",
    "# Imputamos antigüedad\n",
    "for dni in array_dni:\n",
    "    min_mes = df_mes_imp[(df_mes_imp['dni_titular_movimiento'] == dni) & (~df_mes_imp.client__antig.isna())]['anio_mes_cupon'].min()\n",
    "    min_ant = df_mes_imp[(df_mes_imp['dni_titular_movimiento'] == dni) & (~df_mes_imp.client__antig.isna())]['client__antig'].min()\n",
    "    for mes in array_mes:\n",
    "        num_res = array_mes.tolist().index(mes) - array_mes.tolist().index(min_mes)\n",
    "        antig_cli = min_ant + num_res\n",
    "        if antig_cli < 0:\n",
    "            df_mes_imp.loc[((df_mes_imp['dni_titular_movimiento'] == dni) & (df_mes_imp['anio_mes_cupon'] == mes)), 'client__antig'] = 0\n",
    "        else:\n",
    "            df_mes_imp.loc[((df_mes_imp['dni_titular_movimiento'] == dni) & (df_mes_imp['anio_mes_cupon'] == mes)), 'client__antig'] = antig_cli"
   ]
  },
  {
   "cell_type": "code",
   "execution_count": 10,
   "id": "64fec657-2788-44ac-9fdc-444da78636a9",
   "metadata": {},
   "outputs": [],
   "source": [
    "# Imputación Edad\n",
    "df_mes_imp_eb = df_mes_imp[['dni_titular_movimiento', 'anio_mes_cupon', 'client__edad']].copy()\n",
    "for dni in array_dni:\n",
    "    edad = df_mes_imp_eb[df_mes_imp['dni_titular_movimiento'] == dni]['client__edad'].fillna(method='backfill')\n",
    "    df_mes_imp_eb.loc[((df_mes_imp['dni_titular_movimiento'] == dni) & (df_mes_imp['client__edad'].isna())), 'client__edad'] = edad\n",
    "df_mes_imp_eb = df_mes_imp_eb.rename(columns={'client__edad': 'edad_b'})\n",
    "\n",
    "df_mes_imp_ef = df_mes_imp[['dni_titular_movimiento', 'anio_mes_cupon', 'client__edad']].copy()\n",
    "for dni in array_dni:\n",
    "    edad = df_mes_imp_ef[df_mes_imp['dni_titular_movimiento'] == dni]['client__edad'].fillna(method='ffill')\n",
    "    df_mes_imp_ef.loc[((df_mes_imp['dni_titular_movimiento'] == dni) & (df_mes_imp['client__edad'].isna())), 'client__edad'] = edad\n",
    "df_mes_imp_ef = df_mes_imp_ef.rename(columns={'client__edad': 'edad_f'})\n",
    "\n",
    "df_mes_imp = df_mes_imp.merge(df_mes_imp_eb,\n",
    "                             left_on=['dni_titular_movimiento', 'anio_mes_cupon'],\n",
    "                             right_on=['dni_titular_movimiento', 'anio_mes_cupon']\n",
    "                            )\n",
    "df_mes_imp = df_mes_imp.merge(df_mes_imp_ef,\n",
    "                             left_on=['dni_titular_movimiento', 'anio_mes_cupon'],\n",
    "                             right_on=['dni_titular_movimiento', 'anio_mes_cupon']\n",
    "                            )\n",
    "df_mes_imp.loc[df_mes_imp['client__edad'].isna(), 'client__edad'] = df_mes_imp['edad_b']\n",
    "df_mes_imp.loc[df_mes_imp['client__edad'].isna(), 'client__edad'] = df_mes_imp['edad_f']\n",
    "\n",
    "df_mes_imp.drop(columns=['edad_b','edad_f'], inplace=True)"
   ]
  },
  {
   "cell_type": "code",
   "execution_count": 11,
   "id": "8ef088f2-ab02-4124-8591-10854b1e2328",
   "metadata": {},
   "outputs": [],
   "source": [
    "df_mes = df_mes_imp.copy()"
   ]
  },
  {
   "cell_type": "code",
   "execution_count": 12,
   "id": "8c62a159-308e-4bec-91ef-a3572ea7f1ba",
   "metadata": {},
   "outputs": [],
   "source": [
    "ordinal_ft = 'dni_titular_movimiento'\n",
    "target = 'monto_ajustado'"
   ]
  },
  {
   "cell_type": "code",
   "execution_count": 13,
   "id": "af0c633e-e18c-4e87-9cce-9fab0d2b5d9d",
   "metadata": {},
   "outputs": [],
   "source": [
    "df_mes['o_mes'] = df_mes.anio_mes_cupon.astype('category').cat.codes"
   ]
  },
  {
   "cell_type": "markdown",
   "id": "b2b92ed3-3c48-4d39-97ec-2c7bc2e98300",
   "metadata": {},
   "source": [
    "# Modelos de Regresión - Predicción de consumo"
   ]
  },
  {
   "cell_type": "code",
   "execution_count": 15,
   "id": "febbe571-368c-4747-a0b3-d7c283c490b7",
   "metadata": {},
   "outputs": [],
   "source": [
    "# Features and target\n",
    "X = df.drop([ordinal_ft, target, 'anio_mes_cupon'], axis=1)\n",
    "y = df[target]"
   ]
  },
  {
   "cell_type": "code",
   "execution_count": 16,
   "id": "f7efdcfc-f15d-47e4-a05e-4d94e1c816bf",
   "metadata": {},
   "outputs": [
    {
     "data": {
      "text/plain": [
       "53"
      ]
     },
     "execution_count": 16,
     "metadata": {},
     "output_type": "execute_result"
    }
   ],
   "source": [
    "len(X.columns)"
   ]
  },
  {
   "cell_type": "code",
   "execution_count": 17,
   "id": "2ff538f4-ba6b-4333-b9eb-1a596d9c7914",
   "metadata": {},
   "outputs": [],
   "source": [
    "num_features = [g for g in X.columns if 'client__x' not in g]\n",
    "cat_features = [g for g in X.columns if 'client__x' in g]"
   ]
  },
  {
   "cell_type": "code",
   "execution_count": 18,
   "id": "b7581129-2f31-45ad-8388-07ea0658041d",
   "metadata": {},
   "outputs": [
    {
     "data": {
      "text/plain": [
       "0"
      ]
     },
     "execution_count": 18,
     "metadata": {},
     "output_type": "execute_result"
    }
   ],
   "source": [
    "len(X.columns) - len(num_features + cat_features)"
   ]
  },
  {
   "cell_type": "markdown",
   "id": "109de8f6-993d-4301-a6d4-cb6cce7717ab",
   "metadata": {},
   "source": [
    "Matriz de resultados"
   ]
  },
  {
   "cell_type": "code",
   "execution_count": 19,
   "id": "b0dd1a0b-7160-45ee-bbea-b72738d6caeb",
   "metadata": {},
   "outputs": [],
   "source": [
    "results = pd.DataFrame(index=['MSE Train', 'MSE Valid', 'RMSE Train', 'RMSE Valid', 'MAE Train', 'MAE Valid'])"
   ]
  },
  {
   "cell_type": "markdown",
   "id": "d3efd855-b9c5-4ded-b3ff-ccacd2965c70",
   "metadata": {},
   "source": [
    "## Linear SVR - Default"
   ]
  },
  {
   "cell_type": "markdown",
   "id": "14f75a2b-bcdc-423c-ba65-da13c3242691",
   "metadata": {},
   "source": [
    "LinerSVR es un modelo lineal. Teniendo en cuenta las visualizaciones al principio del practico donde observamos que las features númericas no se relacionan de forma lineal con el objetivo, no podríamos esperar mucho de este modelo o cualquier modelo lineal dado el caso.\n",
    "\n",
    "Elegimos MinMaxScaler para escalar las features númericas, para conservar el signo de las transacciones en negativo.\n",
    "\n",
    "Usamos _SelectFromModel()_ para reducir el numero de features del dataset, y de esa manera intentar mejorar las predicciones con un costo de computo menor al que si usaramos todas las features. Para seleccionar las columnas usamos _RandomForestRegressor_"
   ]
  },
  {
   "cell_type": "code",
   "execution_count": 20,
   "id": "e1b2f3eb-bff6-4a8e-94ac-2ca89d8f3703",
   "metadata": {},
   "outputs": [],
   "source": [
    "# Preproceso 1 para SGDRegressor - Default, RMSE 3395.724\n",
    "df = df_mes.copy()\n",
    "scaler = MinMaxScaler()\n",
    "ft_selector = RandomForestRegressor(random_state=0)\n",
    "model_ = LinearSVR(random_state=0)\n",
    "\n",
    "# Train and validation\n",
    "X_train, X_val, y_train, y_val = train_test_split(X, y, test_size=0.35, random_state=0, shuffle=False)"
   ]
  },
  {
   "cell_type": "markdown",
   "id": "af6e0da2-d58a-439b-84c2-fdded874943f",
   "metadata": {},
   "source": [
    "Elegimos una relacion entre train y validación de un 35% para validación. Esto lo hicimos en base a que en pruebas anteriores tuvimos casos donde el MSE para el conjunto de validacion era menor que en de train. Investigando sobre esto, dimos con que este problema se denomina under-fitting. Al tratarse de un modelo lineal tratando de predecir datos no lineales, este problema es esperable. Modificamos la cantidad de datos en train y validación para prevenir la sobre simplificacion del modelo sobre los datos e intentar reducir este problema. "
   ]
  },
  {
   "cell_type": "markdown",
   "id": "6c23ce04-0f6d-4399-a62a-d4423b74dca9",
   "metadata": {},
   "source": [
    "#### Linear SVR - Preproceso y ajuste"
   ]
  },
  {
   "cell_type": "code",
   "execution_count": 22,
   "id": "a0a3adf2-b796-4e14-9d7d-acb198b7ea87",
   "metadata": {},
   "outputs": [],
   "source": [
    "# Preprocessing\n",
    "num_transformer = scaler\n",
    "cat_transformer = 'passthrough'\n",
    "\n",
    "preprocessor = ColumnTransformer(\n",
    "    transformers=[\n",
    "        ('num', num_transformer, num_features),\n",
    "        ('cat', cat_transformer, cat_features)])"
   ]
  },
  {
   "cell_type": "code",
   "execution_count": 23,
   "id": "6ea5d7bc-78ae-433c-9b60-e0b7a9649abc",
   "metadata": {},
   "outputs": [],
   "source": [
    "# Fit\n",
    "model = Pipeline([\n",
    "  ('preprocessor', preprocessor),\n",
    "  ('feature_selection', SelectFromModel(ft_selector)),\n",
    "  ('regressor', model_)\n",
    "])\n",
    "\n",
    "model.fit(X_train, y_train)\n",
    "svr = model"
   ]
  },
  {
   "cell_type": "code",
   "execution_count": 24,
   "id": "07abd386-68b4-4bfb-82b0-db6d6b438003",
   "metadata": {},
   "outputs": [],
   "source": [
    "# Predict\n",
    "y_train_pred = model.predict(X_train)\n",
    "y_valid_pred = model.predict(X_val)"
   ]
  },
  {
   "cell_type": "markdown",
   "id": "631bfa6a-2d0a-4cb6-9d91-c5716f15489d",
   "metadata": {},
   "source": [
    "#### Linear SVR -  Evaluación de predicciones"
   ]
  },
  {
   "cell_type": "code",
   "execution_count": 25,
   "id": "80350f59-fbdb-44d3-9ff7-f0ac8d7b42c8",
   "metadata": {
    "tags": []
   },
   "outputs": [
    {
     "name": "stdout",
     "output_type": "stream",
     "text": [
      "Train error 321353086, Valid error 252003365\n"
     ]
    }
   ],
   "source": [
    "# evaluate MSE:\n",
    "train_error_mse = int(mean_squared_error(y_train, y_train_pred))\n",
    "val_error_mse = int(mean_squared_error(y_val, y_valid_pred))\n",
    "print(f'Train error {train_error_mse}, Valid error {val_error_mse}')  "
   ]
  },
  {
   "cell_type": "code",
   "execution_count": 26,
   "id": "4f09771b-4b03-443f-99b2-af34db8d7ecb",
   "metadata": {
    "tags": []
   },
   "outputs": [
    {
     "name": "stdout",
     "output_type": "stream",
     "text": [
      "Train error RMSE 17926, Valid error RMSE 15875\n"
     ]
    }
   ],
   "source": [
    "# evaluate RMSE:\n",
    "train_error_rmse = int(np.sqrt(mean_squared_error(y_train, y_train_pred)))\n",
    "val_error_rmse = int(np.sqrt(mean_squared_error(y_val, y_valid_pred)).round(0))\n",
    "print(f'Train error RMSE {train_error_rmse}, Valid error RMSE {val_error_rmse}')  "
   ]
  },
  {
   "cell_type": "code",
   "execution_count": 27,
   "id": "1e8e198a-c58f-41ee-9a82-cf8ff54318d1",
   "metadata": {
    "tags": []
   },
   "outputs": [
    {
     "name": "stdout",
     "output_type": "stream",
     "text": [
      "Train error MAE 10799, Valid error MAE 9836\n"
     ]
    }
   ],
   "source": [
    "# evaluate MAE:\n",
    "train_error_mae = int(mean_absolute_error(y_train, y_train_pred).round(0))\n",
    "val_error_mae = int(mean_absolute_error(y_val, y_valid_pred).round(0))\n",
    "print(f'Train error MAE {train_error_mae}, Valid error MAE {val_error_mae}')  "
   ]
  },
  {
   "cell_type": "markdown",
   "id": "57289166-d5f9-45fb-9542-c4054417d6f3",
   "metadata": {
    "tags": []
   },
   "source": [
    "Cargamos matriz de resultados"
   ]
  },
  {
   "cell_type": "code",
   "execution_count": 28,
   "id": "c799369c-cc83-4453-9a10-43f35db6f7c3",
   "metadata": {
    "tags": []
   },
   "outputs": [],
   "source": [
    "results['LinearSVR'] = [train_error_mse,val_error_mse, train_error_rmse, val_error_rmse, train_error_mae, val_error_mae]"
   ]
  },
  {
   "cell_type": "markdown",
   "id": "708c19ef-f8fc-4a40-89d5-4b4abb8d5bbe",
   "metadata": {
    "tags": []
   },
   "source": [
    "Visualizamos nuestra variable target (real y predicción)"
   ]
  },
  {
   "cell_type": "code",
   "execution_count": 29,
   "id": "5c988edc-4bb3-4c25-b275-2621d2d9be4a",
   "metadata": {},
   "outputs": [
    {
     "data": {
      "text/html": [
       "<div>\n",
       "<style scoped>\n",
       "    .dataframe tbody tr th:only-of-type {\n",
       "        vertical-align: middle;\n",
       "    }\n",
       "\n",
       "    .dataframe tbody tr th {\n",
       "        vertical-align: top;\n",
       "    }\n",
       "\n",
       "    .dataframe thead th {\n",
       "        text-align: right;\n",
       "    }\n",
       "</style>\n",
       "<table border=\"1\" class=\"dataframe\">\n",
       "  <thead>\n",
       "    <tr style=\"text-align: right;\">\n",
       "      <th></th>\n",
       "      <th>val_real</th>\n",
       "    </tr>\n",
       "  </thead>\n",
       "  <tbody>\n",
       "    <tr>\n",
       "      <th>count</th>\n",
       "      <td>2594.00</td>\n",
       "    </tr>\n",
       "    <tr>\n",
       "      <th>mean</th>\n",
       "      <td>11119.73</td>\n",
       "    </tr>\n",
       "    <tr>\n",
       "      <th>std</th>\n",
       "      <td>13846.11</td>\n",
       "    </tr>\n",
       "    <tr>\n",
       "      <th>min</th>\n",
       "      <td>-14160.00</td>\n",
       "    </tr>\n",
       "    <tr>\n",
       "      <th>25%</th>\n",
       "      <td>705.25</td>\n",
       "    </tr>\n",
       "    <tr>\n",
       "      <th>50%</th>\n",
       "      <td>6152.50</td>\n",
       "    </tr>\n",
       "    <tr>\n",
       "      <th>75%</th>\n",
       "      <td>16570.75</td>\n",
       "    </tr>\n",
       "    <tr>\n",
       "      <th>max</th>\n",
       "      <td>113759.00</td>\n",
       "    </tr>\n",
       "  </tbody>\n",
       "</table>\n",
       "</div>"
      ],
      "text/plain": [
       "        val_real\n",
       "count    2594.00\n",
       "mean    11119.73\n",
       "std     13846.11\n",
       "min    -14160.00\n",
       "25%       705.25\n",
       "50%      6152.50\n",
       "75%     16570.75\n",
       "max    113759.00"
      ]
     },
     "execution_count": 29,
     "metadata": {},
     "output_type": "execute_result"
    }
   ],
   "source": [
    "pd.DataFrame(y_val.values.astype(int), columns=['val_real']).describe().round(2)"
   ]
  },
  {
   "cell_type": "code",
   "execution_count": 30,
   "id": "6e3a69c0-1d07-4ae8-980e-d293ff3b933e",
   "metadata": {},
   "outputs": [
    {
     "data": {
      "text/html": [
       "<div>\n",
       "<style scoped>\n",
       "    .dataframe tbody tr th:only-of-type {\n",
       "        vertical-align: middle;\n",
       "    }\n",
       "\n",
       "    .dataframe tbody tr th {\n",
       "        vertical-align: top;\n",
       "    }\n",
       "\n",
       "    .dataframe thead th {\n",
       "        text-align: right;\n",
       "    }\n",
       "</style>\n",
       "<table border=\"1\" class=\"dataframe\">\n",
       "  <thead>\n",
       "    <tr style=\"text-align: right;\">\n",
       "      <th></th>\n",
       "      <th>val_pred</th>\n",
       "    </tr>\n",
       "  </thead>\n",
       "  <tbody>\n",
       "    <tr>\n",
       "      <th>count</th>\n",
       "      <td>2594.00</td>\n",
       "    </tr>\n",
       "    <tr>\n",
       "      <th>mean</th>\n",
       "      <td>3235.21</td>\n",
       "    </tr>\n",
       "    <tr>\n",
       "      <th>std</th>\n",
       "      <td>303.83</td>\n",
       "    </tr>\n",
       "    <tr>\n",
       "      <th>min</th>\n",
       "      <td>2541.82</td>\n",
       "    </tr>\n",
       "    <tr>\n",
       "      <th>25%</th>\n",
       "      <td>3003.12</td>\n",
       "    </tr>\n",
       "    <tr>\n",
       "      <th>50%</th>\n",
       "      <td>3209.87</td>\n",
       "    </tr>\n",
       "    <tr>\n",
       "      <th>75%</th>\n",
       "      <td>3438.96</td>\n",
       "    </tr>\n",
       "    <tr>\n",
       "      <th>max</th>\n",
       "      <td>4372.55</td>\n",
       "    </tr>\n",
       "  </tbody>\n",
       "</table>\n",
       "</div>"
      ],
      "text/plain": [
       "       val_pred\n",
       "count   2594.00\n",
       "mean    3235.21\n",
       "std      303.83\n",
       "min     2541.82\n",
       "25%     3003.12\n",
       "50%     3209.87\n",
       "75%     3438.96\n",
       "max     4372.55"
      ]
     },
     "execution_count": 30,
     "metadata": {},
     "output_type": "execute_result"
    }
   ],
   "source": [
    "pd.DataFrame(y_valid_pred, columns=['val_pred']).describe().round(2)"
   ]
  },
  {
   "cell_type": "markdown",
   "id": "ad865bbf-e122-4f78-90aa-0bb5b4175de7",
   "metadata": {},
   "source": [
    "## Linear SVR - Grid Search"
   ]
  },
  {
   "cell_type": "code",
   "execution_count": 38,
   "id": "1472893e-5fad-490b-a013-9072c60af4c1",
   "metadata": {
    "tags": []
   },
   "outputs": [],
   "source": [
    "param_grid = {\n",
    "    'regressor__epsilon': [0.1, 0.01, 0.0001,0.001],\n",
    "    'regressor__tol': [1e-3, 1e-4, 1e-5, 1e-6],\n",
    "    'regressor__C': [1, 2, 0.01, 0.001],\n",
    "    'regressor__loss': ['epsilon_insensitive', 'squared_epsilon_insensitive']\n",
    "}\n",
    "\n",
    "# Preproceso 1 para SGDRegressor - GridSearch\n",
    "df = df_mes.copy()\n",
    "scaler = MinMaxScaler()\n",
    "ft_selector = RandomForestRegressor(random_state=0)\n",
    "model_ = LinearSVR(random_state=0)\n",
    "\n",
    "# Train and validation\n",
    "X_train, X_val, y_train, y_val = train_test_split(X, y, test_size=0.3, random_state=0, shuffle=False)"
   ]
  },
  {
   "cell_type": "markdown",
   "id": "83523c43-161f-47e6-a86f-56a665c521d7",
   "metadata": {},
   "source": [
    "#### Linear SVR(GSCV) Preproceso y ajuste"
   ]
  },
  {
   "cell_type": "code",
   "execution_count": 39,
   "id": "775e7356-f989-4600-b846-d8ad2b13d146",
   "metadata": {
    "tags": []
   },
   "outputs": [],
   "source": [
    "# Fit\n",
    "pipe = Pipeline([\n",
    "  ('preprocessor', preprocessor),\n",
    "#  ('feature_selection', SelectFromModel(ft_selector)),\n",
    "  ('regressor', model_)\n",
    "])\n",
    "\n",
    "model = RandomizedSearchCV(pipe, param_grid, scoring='neg_mean_squared_error',cv=5, n_iter=40)\n",
    "\n",
    "model.fit(X_train, y_train)\n",
    "svr_cv = model"
   ]
  },
  {
   "cell_type": "code",
   "execution_count": 40,
   "id": "bafb831e-115f-4d56-a6ac-3272c10c4d19",
   "metadata": {
    "tags": []
   },
   "outputs": [
    {
     "data": {
      "text/plain": [
       "{'regressor__tol': 1e-06,\n",
       " 'regressor__loss': 'squared_epsilon_insensitive',\n",
       " 'regressor__epsilon': 0.0001,\n",
       " 'regressor__C': 1}"
      ]
     },
     "execution_count": 40,
     "metadata": {},
     "output_type": "execute_result"
    }
   ],
   "source": [
    "model.best_params_"
   ]
  },
  {
   "cell_type": "code",
   "execution_count": 41,
   "id": "2d939c08-6e68-4f49-961c-3c462ef1cd9a",
   "metadata": {},
   "outputs": [],
   "source": [
    "# Predict\n",
    "y_train_pred = model.predict(X_train)\n",
    "y_valid_pred = model.predict(X_val)"
   ]
  },
  {
   "cell_type": "markdown",
   "id": "459aeb91-e975-47cd-9586-72953b77d786",
   "metadata": {},
   "source": [
    "#### Linear SVR(GSCV) - Evaluacion de predicciones"
   ]
  },
  {
   "cell_type": "code",
   "execution_count": 42,
   "id": "f02e1743-82fc-4f22-ae99-e0cf2510c8a8",
   "metadata": {
    "tags": []
   },
   "outputs": [
    {
     "name": "stdout",
     "output_type": "stream",
     "text": [
      "Train error 77540462, Valid error 92669473\n"
     ]
    }
   ],
   "source": [
    "# evaluate MSE:\n",
    "train_error_mse = int(mean_squared_error(y_train, y_train_pred))\n",
    "val_error_mse = int(mean_squared_error(y_val, y_valid_pred))\n",
    "print(f'Train error {train_error_mse}, Valid error {val_error_mse}')  "
   ]
  },
  {
   "cell_type": "code",
   "execution_count": 43,
   "id": "0955f611-ded6-4e9e-a79b-64714b23261b",
   "metadata": {
    "tags": []
   },
   "outputs": [
    {
     "name": "stdout",
     "output_type": "stream",
     "text": [
      "Train error RMSE 8805, Valid error RMSE 9626\n"
     ]
    }
   ],
   "source": [
    "# evaluate RMSE:\n",
    "train_error_rmse = int(np.sqrt(mean_squared_error(y_train, y_train_pred)))\n",
    "val_error_rmse = int(np.sqrt(mean_squared_error(y_val, y_valid_pred)).round(0))\n",
    "print(f'Train error RMSE {train_error_rmse}, Valid error RMSE {val_error_rmse}')  "
   ]
  },
  {
   "cell_type": "code",
   "execution_count": 44,
   "id": "0012c584-b715-4d1b-888f-6cafad242363",
   "metadata": {
    "tags": []
   },
   "outputs": [
    {
     "name": "stdout",
     "output_type": "stream",
     "text": [
      "Train error MAE 5049, Valid error MAE 5342\n"
     ]
    }
   ],
   "source": [
    "# evaluate MAE:\n",
    "train_error_mae = int(mean_absolute_error(y_train, y_train_pred).round(0))\n",
    "val_error_mae = int(mean_absolute_error(y_val, y_valid_pred).round(0))\n",
    "print(f'Train error MAE {train_error_mae}, Valid error MAE {val_error_mae}')  "
   ]
  },
  {
   "cell_type": "markdown",
   "id": "4d3e793c-9a63-45ed-8dcf-05bb4fe35d9a",
   "metadata": {
    "tags": []
   },
   "source": [
    "Cargamos matriz de resultados"
   ]
  },
  {
   "cell_type": "code",
   "execution_count": 45,
   "id": "6b03ab82-e886-499e-9bd4-6a236d23c9cd",
   "metadata": {
    "tags": []
   },
   "outputs": [],
   "source": [
    "results['LinearSVR - GSCV'] = [train_error_mse,val_error_mse, train_error_rmse, val_error_rmse, train_error_mae, val_error_mae]"
   ]
  },
  {
   "cell_type": "markdown",
   "id": "a70a28ac-3109-4e80-b1e9-a44216e527ce",
   "metadata": {
    "tags": []
   },
   "source": [
    "Visualizamos nuestra variable target (real y predicción)"
   ]
  },
  {
   "cell_type": "code",
   "execution_count": 46,
   "id": "1f44b194-19d3-4d3e-8b77-3d4e17ff5d6e",
   "metadata": {},
   "outputs": [
    {
     "data": {
      "text/html": [
       "<div>\n",
       "<style scoped>\n",
       "    .dataframe tbody tr th:only-of-type {\n",
       "        vertical-align: middle;\n",
       "    }\n",
       "\n",
       "    .dataframe tbody tr th {\n",
       "        vertical-align: top;\n",
       "    }\n",
       "\n",
       "    .dataframe thead th {\n",
       "        text-align: right;\n",
       "    }\n",
       "</style>\n",
       "<table border=\"1\" class=\"dataframe\">\n",
       "  <thead>\n",
       "    <tr style=\"text-align: right;\">\n",
       "      <th></th>\n",
       "      <th>val_real</th>\n",
       "    </tr>\n",
       "  </thead>\n",
       "  <tbody>\n",
       "    <tr>\n",
       "      <th>count</th>\n",
       "      <td>2956.00</td>\n",
       "    </tr>\n",
       "    <tr>\n",
       "      <th>mean</th>\n",
       "      <td>8594.33</td>\n",
       "    </tr>\n",
       "    <tr>\n",
       "      <th>std</th>\n",
       "      <td>13961.94</td>\n",
       "    </tr>\n",
       "    <tr>\n",
       "      <th>min</th>\n",
       "      <td>-14160.00</td>\n",
       "    </tr>\n",
       "    <tr>\n",
       "      <th>25%</th>\n",
       "      <td>0.00</td>\n",
       "    </tr>\n",
       "    <tr>\n",
       "      <th>50%</th>\n",
       "      <td>2101.50</td>\n",
       "    </tr>\n",
       "    <tr>\n",
       "      <th>75%</th>\n",
       "      <td>11986.50</td>\n",
       "    </tr>\n",
       "    <tr>\n",
       "      <th>max</th>\n",
       "      <td>134045.00</td>\n",
       "    </tr>\n",
       "  </tbody>\n",
       "</table>\n",
       "</div>"
      ],
      "text/plain": [
       "        val_real\n",
       "count    2956.00\n",
       "mean     8594.33\n",
       "std     13961.94\n",
       "min    -14160.00\n",
       "25%         0.00\n",
       "50%      2101.50\n",
       "75%     11986.50\n",
       "max    134045.00"
      ]
     },
     "execution_count": 46,
     "metadata": {},
     "output_type": "execute_result"
    }
   ],
   "source": [
    "pd.DataFrame(y_val.values.astype(int), columns=['val_real']).describe().round(2)"
   ]
  },
  {
   "cell_type": "code",
   "execution_count": 47,
   "id": "71a03a48-c6ae-481a-b12e-00ba64756537",
   "metadata": {},
   "outputs": [
    {
     "data": {
      "text/html": [
       "<div>\n",
       "<style scoped>\n",
       "    .dataframe tbody tr th:only-of-type {\n",
       "        vertical-align: middle;\n",
       "    }\n",
       "\n",
       "    .dataframe tbody tr th {\n",
       "        vertical-align: top;\n",
       "    }\n",
       "\n",
       "    .dataframe thead th {\n",
       "        text-align: right;\n",
       "    }\n",
       "</style>\n",
       "<table border=\"1\" class=\"dataframe\">\n",
       "  <thead>\n",
       "    <tr style=\"text-align: right;\">\n",
       "      <th></th>\n",
       "      <th>val_pred</th>\n",
       "    </tr>\n",
       "  </thead>\n",
       "  <tbody>\n",
       "    <tr>\n",
       "      <th>count</th>\n",
       "      <td>2956.00</td>\n",
       "    </tr>\n",
       "    <tr>\n",
       "      <th>mean</th>\n",
       "      <td>8770.34</td>\n",
       "    </tr>\n",
       "    <tr>\n",
       "      <th>std</th>\n",
       "      <td>10409.83</td>\n",
       "    </tr>\n",
       "    <tr>\n",
       "      <th>min</th>\n",
       "      <td>-2715.78</td>\n",
       "    </tr>\n",
       "    <tr>\n",
       "      <th>25%</th>\n",
       "      <td>1228.38</td>\n",
       "    </tr>\n",
       "    <tr>\n",
       "      <th>50%</th>\n",
       "      <td>4809.77</td>\n",
       "    </tr>\n",
       "    <tr>\n",
       "      <th>75%</th>\n",
       "      <td>13378.46</td>\n",
       "    </tr>\n",
       "    <tr>\n",
       "      <th>max</th>\n",
       "      <td>82143.48</td>\n",
       "    </tr>\n",
       "  </tbody>\n",
       "</table>\n",
       "</div>"
      ],
      "text/plain": [
       "       val_pred\n",
       "count   2956.00\n",
       "mean    8770.34\n",
       "std    10409.83\n",
       "min    -2715.78\n",
       "25%     1228.38\n",
       "50%     4809.77\n",
       "75%    13378.46\n",
       "max    82143.48"
      ]
     },
     "execution_count": 47,
     "metadata": {},
     "output_type": "execute_result"
    }
   ],
   "source": [
    "pd.DataFrame(y_valid_pred, columns=['val_pred']).describe().round(2)"
   ]
  },
  {
   "cell_type": "markdown",
   "id": "591e0dcd-7184-47b1-a9a8-1c29e08d1d0f",
   "metadata": {},
   "source": [
    "### LinearSVR - Conclusiones \n",
    "\n",
    "Si bien no es esperable que un modelo lineal de buenos resultados, se puede usar como base para comparar con el resto de modelos."
   ]
  },
  {
   "cell_type": "markdown",
   "id": "16f759bf-05d6-41b8-bf2b-f45bde0202d3",
   "metadata": {},
   "source": [
    "---"
   ]
  },
  {
   "cell_type": "markdown",
   "id": "58e6e522-ef49-4ba9-9cbb-8c83e762efb3",
   "metadata": {},
   "source": [
    "## SGDRegressor - Default"
   ]
  },
  {
   "cell_type": "markdown",
   "id": "ebe5c435-148d-4fa0-8ab8-254c9d0c9863",
   "metadata": {},
   "source": [
    "SGDRegressor usa modelos lineales y optimiza con descenso por gradiente. Podríamos considerarlo como una generalización de los modelos lineales.\n",
    "\n",
    "Elegimos MinMaxScaler para escalar las features númericas, para conservar el signo de las transacciones en negativo.\n",
    "\n",
    "Usamos _SelectFromModel()_ para reducir el numero de features del dataset, y de esa manera intentar mejorar las predicciones con un costo de computo menor al que si usaramos todas las features. Para seleccionar las columnas usamos _LinearSVR_"
   ]
  },
  {
   "cell_type": "code",
   "execution_count": 47,
   "id": "ef1a9ddd-d82a-4a13-9b07-a505d8536408",
   "metadata": {},
   "outputs": [],
   "source": [
    "# Preproceso 1 para SGDRegressor - Default, RMSE 3395.724\n",
    "df = df_mes.copy()\n",
    "scaler = MinMaxScaler()\n",
    "ft_selector = LinearSVR(random_state=0)\n",
    "model_ = SGDRegressor(random_state=0, shuffle=False)\n",
    "\n",
    "# Train and validation\n",
    "X_train, X_val, y_train, y_val = train_test_split(X, y, test_size=0.30, random_state=0, shuffle=False)"
   ]
  },
  {
   "cell_type": "markdown",
   "id": "742f8cd3-3d3a-4515-b8ce-ed769d9f5700",
   "metadata": {},
   "source": [
    "#### SGD - Preproceso y ajuste"
   ]
  },
  {
   "cell_type": "code",
   "execution_count": 48,
   "id": "daec9c5f-17f4-4fee-b30a-47068590bab4",
   "metadata": {},
   "outputs": [],
   "source": [
    "# Preprocessing\n",
    "num_transformer = scaler\n",
    "cat_transformer = 'passthrough'\n",
    "\n",
    "preprocessor = ColumnTransformer(\n",
    "    transformers=[\n",
    "        ('num', num_transformer, num_features),\n",
    "        ('cat', cat_transformer, cat_features)])\n",
    "\n",
    "# Fit\n",
    "model = Pipeline([\n",
    "  ('preprocessor', preprocessor),\n",
    "  ('feature_selection', SelectFromModel(ft_selector)),\n",
    "  ('regressor', model_)\n",
    "])\n",
    "\n",
    "model.fit(X_train, y_train)\n",
    "sgd = model"
   ]
  },
  {
   "cell_type": "code",
   "execution_count": 49,
   "id": "d38485c7-bf4d-473a-862a-b4f2270d1a5b",
   "metadata": {},
   "outputs": [],
   "source": [
    "# Predict\n",
    "y_train_pred = model.predict(X_train)\n",
    "y_valid_pred = model.predict(X_val)"
   ]
  },
  {
   "cell_type": "markdown",
   "id": "0e72050f-083a-4bfb-a28e-dd0fbcf524c6",
   "metadata": {},
   "source": [
    "#### SGD - Evaluacion de predicciones"
   ]
  },
  {
   "cell_type": "code",
   "execution_count": 50,
   "id": "c9ece643-4741-406f-80ff-94ad31796901",
   "metadata": {
    "tags": []
   },
   "outputs": [
    {
     "name": "stdout",
     "output_type": "stream",
     "text": [
      "Train error 129191303, Valid error 104952540\n"
     ]
    }
   ],
   "source": [
    "# evaluate MSE:\n",
    "train_error_mse = int(mean_squared_error(y_train, y_train_pred))\n",
    "val_error_mse = int(mean_squared_error(y_val, y_valid_pred))\n",
    "print(f'Train error {train_error_mse}, Valid error {val_error_mse}')  "
   ]
  },
  {
   "cell_type": "code",
   "execution_count": 51,
   "id": "04dffb8b-d99b-4352-9a48-70a2710f26f3",
   "metadata": {
    "tags": []
   },
   "outputs": [
    {
     "name": "stdout",
     "output_type": "stream",
     "text": [
      "Train error RMSE 11366, Valid error RMSE 10245\n"
     ]
    }
   ],
   "source": [
    "# evaluate RMSE:\n",
    "train_error_rmse = int(np.sqrt(mean_squared_error(y_train, y_train_pred)))\n",
    "val_error_rmse = int(np.sqrt(mean_squared_error(y_val, y_valid_pred)).round(0))\n",
    "print(f'Train error RMSE {train_error_rmse}, Valid error RMSE {val_error_rmse}')  "
   ]
  },
  {
   "cell_type": "code",
   "execution_count": 52,
   "id": "7190474e-f98e-4c30-be61-385b9ea92dda",
   "metadata": {
    "tags": []
   },
   "outputs": [
    {
     "name": "stdout",
     "output_type": "stream",
     "text": [
      "Train error MAE 7346, Valid error MAE 7104\n"
     ]
    }
   ],
   "source": [
    "# evaluate MAE:\n",
    "train_error_mae = int(mean_absolute_error(y_train, y_train_pred).round(0))\n",
    "val_error_mae = int(mean_absolute_error(y_val, y_valid_pred).round(0))\n",
    "print(f'Train error MAE {train_error_mae}, Valid error MAE {val_error_mae}')  "
   ]
  },
  {
   "cell_type": "markdown",
   "id": "b15d5265-7dcc-44cb-8328-fb1ec28d35ac",
   "metadata": {
    "tags": []
   },
   "source": [
    "Cargamos matriz de resultados"
   ]
  },
  {
   "cell_type": "code",
   "execution_count": 53,
   "id": "f2bd6db5-9b49-4fe8-9f40-9d4407e75d26",
   "metadata": {
    "tags": []
   },
   "outputs": [],
   "source": [
    "results['SGD'] = [train_error_mse,val_error_mse, train_error_rmse, val_error_rmse, train_error_mae, val_error_mae]"
   ]
  },
  {
   "cell_type": "markdown",
   "id": "8d9a6b95-6c26-48af-aafd-647890768bd8",
   "metadata": {
    "tags": []
   },
   "source": [
    "Visualizamos nuestra variable target (real y predicción)"
   ]
  },
  {
   "cell_type": "code",
   "execution_count": 54,
   "id": "7a446baf-8ba4-48b3-9bc8-7b9b835f0d22",
   "metadata": {},
   "outputs": [
    {
     "data": {
      "text/html": [
       "<div>\n",
       "<style scoped>\n",
       "    .dataframe tbody tr th:only-of-type {\n",
       "        vertical-align: middle;\n",
       "    }\n",
       "\n",
       "    .dataframe tbody tr th {\n",
       "        vertical-align: top;\n",
       "    }\n",
       "\n",
       "    .dataframe thead th {\n",
       "        text-align: right;\n",
       "    }\n",
       "</style>\n",
       "<table border=\"1\" class=\"dataframe\">\n",
       "  <thead>\n",
       "    <tr style=\"text-align: right;\">\n",
       "      <th></th>\n",
       "      <th>val_real</th>\n",
       "    </tr>\n",
       "  </thead>\n",
       "  <tbody>\n",
       "    <tr>\n",
       "      <th>count</th>\n",
       "      <td>2223.00</td>\n",
       "    </tr>\n",
       "    <tr>\n",
       "      <th>mean</th>\n",
       "      <td>10963.67</td>\n",
       "    </tr>\n",
       "    <tr>\n",
       "      <th>std</th>\n",
       "      <td>13383.32</td>\n",
       "    </tr>\n",
       "    <tr>\n",
       "      <th>min</th>\n",
       "      <td>-14160.00</td>\n",
       "    </tr>\n",
       "    <tr>\n",
       "      <th>25%</th>\n",
       "      <td>815.50</td>\n",
       "    </tr>\n",
       "    <tr>\n",
       "      <th>50%</th>\n",
       "      <td>6304.00</td>\n",
       "    </tr>\n",
       "    <tr>\n",
       "      <th>75%</th>\n",
       "      <td>16108.50</td>\n",
       "    </tr>\n",
       "    <tr>\n",
       "      <th>max</th>\n",
       "      <td>113759.00</td>\n",
       "    </tr>\n",
       "  </tbody>\n",
       "</table>\n",
       "</div>"
      ],
      "text/plain": [
       "        val_real\n",
       "count    2223.00\n",
       "mean    10963.67\n",
       "std     13383.32\n",
       "min    -14160.00\n",
       "25%       815.50\n",
       "50%      6304.00\n",
       "75%     16108.50\n",
       "max    113759.00"
      ]
     },
     "execution_count": 54,
     "metadata": {},
     "output_type": "execute_result"
    }
   ],
   "source": [
    "pd.DataFrame(y_val.values.astype(int), columns=['val_real']).describe().round(2)"
   ]
  },
  {
   "cell_type": "code",
   "execution_count": 55,
   "id": "a217b7ad-1061-475f-b4f5-b77bf0e64be5",
   "metadata": {},
   "outputs": [
    {
     "data": {
      "text/html": [
       "<div>\n",
       "<style scoped>\n",
       "    .dataframe tbody tr th:only-of-type {\n",
       "        vertical-align: middle;\n",
       "    }\n",
       "\n",
       "    .dataframe tbody tr th {\n",
       "        vertical-align: top;\n",
       "    }\n",
       "\n",
       "    .dataframe thead th {\n",
       "        text-align: right;\n",
       "    }\n",
       "</style>\n",
       "<table border=\"1\" class=\"dataframe\">\n",
       "  <thead>\n",
       "    <tr style=\"text-align: right;\">\n",
       "      <th></th>\n",
       "      <th>val_pred</th>\n",
       "    </tr>\n",
       "  </thead>\n",
       "  <tbody>\n",
       "    <tr>\n",
       "      <th>count</th>\n",
       "      <td>2223.00</td>\n",
       "    </tr>\n",
       "    <tr>\n",
       "      <th>mean</th>\n",
       "      <td>11548.91</td>\n",
       "    </tr>\n",
       "    <tr>\n",
       "      <th>std</th>\n",
       "      <td>9246.27</td>\n",
       "    </tr>\n",
       "    <tr>\n",
       "      <th>min</th>\n",
       "      <td>-1483.54</td>\n",
       "    </tr>\n",
       "    <tr>\n",
       "      <th>25%</th>\n",
       "      <td>4975.07</td>\n",
       "    </tr>\n",
       "    <tr>\n",
       "      <th>50%</th>\n",
       "      <td>9321.83</td>\n",
       "    </tr>\n",
       "    <tr>\n",
       "      <th>75%</th>\n",
       "      <td>15600.26</td>\n",
       "    </tr>\n",
       "    <tr>\n",
       "      <th>max</th>\n",
       "      <td>89445.84</td>\n",
       "    </tr>\n",
       "  </tbody>\n",
       "</table>\n",
       "</div>"
      ],
      "text/plain": [
       "       val_pred\n",
       "count   2223.00\n",
       "mean   11548.91\n",
       "std     9246.27\n",
       "min    -1483.54\n",
       "25%     4975.07\n",
       "50%     9321.83\n",
       "75%    15600.26\n",
       "max    89445.84"
      ]
     },
     "execution_count": 55,
     "metadata": {},
     "output_type": "execute_result"
    }
   ],
   "source": [
    "pd.DataFrame(y_valid_pred, columns=['val_pred']).describe().round(2)"
   ]
  },
  {
   "cell_type": "markdown",
   "id": "96a717c0-b221-42c5-828b-2069e4f1949d",
   "metadata": {},
   "source": [
    "## SGDRegressor- Grid Search"
   ]
  },
  {
   "cell_type": "code",
   "execution_count": 20,
   "id": "a1ce05e1-f995-4934-8d92-c77a21a45fd8",
   "metadata": {},
   "outputs": [],
   "source": [
    "param_grid = {\n",
    "    'regressor__loss': ['squared_loss','huber','epsilon_insensitive','squared_epsilon_insensitive'],\n",
    "    'regressor__penalty': ['l2','l1'],\n",
    "    'regressor__alpha': [0.01, 0.1, 1],\n",
    "    'regressor__epsilon': [0.1, 0.01],\n",
    "    'regressor__tol': [1e-3, 1e-4],\n",
    "    'regressor__learning_rate': ['optimal', 'adaptive', 'invscaling', 'constant']\n",
    "    #'max_iter': [1000, 2000, 5000]\n",
    "}\n",
    "\n",
    "# Preproceso 1 para SGDRegressor - GridSearch\n",
    "df = df_mes.copy()\n",
    "scaler = MinMaxScaler()\n",
    "ft_selector = LinearSVR(random_state=0)\n",
    "model_ = SGDRegressor(random_state=0, shuffle=False)\n",
    "\n",
    "# Train and validation\n",
    "X_train, X_val, y_train, y_val = train_test_split(X, y, test_size=0.3, random_state=0, shuffle=False)"
   ]
  },
  {
   "cell_type": "markdown",
   "id": "e1af8d35-f12a-4aee-88bd-2ee194a93e53",
   "metadata": {},
   "source": [
    "#### SGD(GSCV) - Preproceso y ajuste"
   ]
  },
  {
   "cell_type": "code",
   "execution_count": 21,
   "id": "0c4ba11d-6a63-402a-a943-aa0eb1b22a93",
   "metadata": {},
   "outputs": [],
   "source": [
    "# Preprocessing\n",
    "num_transformer = scaler\n",
    "cat_transformer = 'passthrough'\n",
    "\n",
    "preprocessor = ColumnTransformer(\n",
    "    transformers=[\n",
    "        ('num', num_transformer, num_features),\n",
    "        ('cat', cat_transformer, cat_features)])"
   ]
  },
  {
   "cell_type": "code",
   "execution_count": 22,
   "id": "30219658-c0c0-4f57-b3d5-1a00c4ca3328",
   "metadata": {
    "tags": []
   },
   "outputs": [],
   "source": [
    "# Fit\n",
    "pipe = Pipeline([\n",
    "  ('preprocessor', preprocessor),\n",
    "#  ('feature_selection', SelectFromModel(ft_selector)),\n",
    "  ('regressor', model_)\n",
    "])\n",
    "\n",
    "model = RandomizedSearchCV(pipe, param_grid, scoring='neg_mean_squared_error',cv=5, n_iter=20)\n",
    "\n",
    "model.fit(X_train, y_train)\n",
    "sgd_cv = model"
   ]
  },
  {
   "cell_type": "code",
   "execution_count": 23,
   "id": "fc8b1695-a7c3-4cbb-84c2-cb3ea4a3b780",
   "metadata": {
    "tags": []
   },
   "outputs": [
    {
     "data": {
      "text/plain": [
       "{'regressor__tol': 0.001,\n",
       " 'regressor__penalty': 'l1',\n",
       " 'regressor__loss': 'squared_epsilon_insensitive',\n",
       " 'regressor__learning_rate': 'adaptive',\n",
       " 'regressor__epsilon': 0.01,\n",
       " 'regressor__alpha': 0.01}"
      ]
     },
     "execution_count": 23,
     "metadata": {},
     "output_type": "execute_result"
    }
   ],
   "source": [
    "model.best_params_"
   ]
  },
  {
   "cell_type": "code",
   "execution_count": 24,
   "id": "0087b2f3-2aaf-4550-b86c-f43840dd51da",
   "metadata": {},
   "outputs": [],
   "source": [
    "# Predict\n",
    "y_train_pred = model.predict(X_train)\n",
    "y_valid_pred = model.predict(X_val)"
   ]
  },
  {
   "cell_type": "markdown",
   "id": "043a272e-825b-4126-8f89-79e703e81d0d",
   "metadata": {},
   "source": [
    "#### SGD(GSCV) Evaluacion de predicciones"
   ]
  },
  {
   "cell_type": "code",
   "execution_count": 25,
   "id": "2b6ba009-d7a9-4cf3-9828-3277857092a5",
   "metadata": {
    "tags": []
   },
   "outputs": [
    {
     "name": "stdout",
     "output_type": "stream",
     "text": [
      "Train error 77702634, Valid error 92795587\n"
     ]
    }
   ],
   "source": [
    "# evaluate MSE:\n",
    "train_error_mse = int(mean_squared_error(y_train, y_train_pred))\n",
    "val_error_mse = int(mean_squared_error(y_val, y_valid_pred))\n",
    "print(f'Train error {train_error_mse}, Valid error {val_error_mse}')  "
   ]
  },
  {
   "cell_type": "code",
   "execution_count": 26,
   "id": "4a6c4982-d0c9-46be-9c42-fa29b224076f",
   "metadata": {
    "tags": []
   },
   "outputs": [
    {
     "name": "stdout",
     "output_type": "stream",
     "text": [
      "Train error RMSE 8814, Valid error RMSE 9633\n"
     ]
    }
   ],
   "source": [
    "# evaluate RMSE:\n",
    "train_error_rmse = int(np.sqrt(mean_squared_error(y_train, y_train_pred)))\n",
    "val_error_rmse = int(np.sqrt(mean_squared_error(y_val, y_valid_pred)).round(0))\n",
    "print(f'Train error RMSE {train_error_rmse}, Valid error RMSE {val_error_rmse}')  "
   ]
  },
  {
   "cell_type": "code",
   "execution_count": 27,
   "id": "12eeff1d-c5f0-44cd-b6c4-e07d91d1bfb0",
   "metadata": {
    "tags": []
   },
   "outputs": [
    {
     "name": "stdout",
     "output_type": "stream",
     "text": [
      "Train error MAE 5017, Valid error MAE 5322\n"
     ]
    }
   ],
   "source": [
    "# evaluate MAE:\n",
    "train_error_mae = int(mean_absolute_error(y_train, y_train_pred).round(0))\n",
    "val_error_mae = int(mean_absolute_error(y_val, y_valid_pred).round(0))\n",
    "print(f'Train error MAE {train_error_mae}, Valid error MAE {val_error_mae}')  "
   ]
  },
  {
   "cell_type": "markdown",
   "id": "c4e14c0d-a681-463a-b056-2ad73a15be15",
   "metadata": {
    "tags": []
   },
   "source": [
    "Cargamos matriz de resultados"
   ]
  },
  {
   "cell_type": "code",
   "execution_count": 28,
   "id": "bb5d6741-374f-45fe-b0db-dbe394f8b9e2",
   "metadata": {
    "tags": []
   },
   "outputs": [],
   "source": [
    "results['SGD - GSCV'] = [train_error_mse,val_error_mse, train_error_rmse, val_error_rmse, train_error_mae, val_error_mae]"
   ]
  },
  {
   "cell_type": "markdown",
   "id": "a134efc7-3096-42c1-82a3-790b88fb02c1",
   "metadata": {
    "tags": []
   },
   "source": [
    "Visualizamos nuestra variable target (real y predicción)"
   ]
  },
  {
   "cell_type": "code",
   "execution_count": 66,
   "id": "c18ca62b-1911-4fd6-b039-5c851b11c6f6",
   "metadata": {},
   "outputs": [
    {
     "data": {
      "text/html": [
       "<div>\n",
       "<style scoped>\n",
       "    .dataframe tbody tr th:only-of-type {\n",
       "        vertical-align: middle;\n",
       "    }\n",
       "\n",
       "    .dataframe tbody tr th {\n",
       "        vertical-align: top;\n",
       "    }\n",
       "\n",
       "    .dataframe thead th {\n",
       "        text-align: right;\n",
       "    }\n",
       "</style>\n",
       "<table border=\"1\" class=\"dataframe\">\n",
       "  <thead>\n",
       "    <tr style=\"text-align: right;\">\n",
       "      <th></th>\n",
       "      <th>val_real</th>\n",
       "    </tr>\n",
       "  </thead>\n",
       "  <tbody>\n",
       "    <tr>\n",
       "      <th>count</th>\n",
       "      <td>2223.00</td>\n",
       "    </tr>\n",
       "    <tr>\n",
       "      <th>mean</th>\n",
       "      <td>10963.67</td>\n",
       "    </tr>\n",
       "    <tr>\n",
       "      <th>std</th>\n",
       "      <td>13383.32</td>\n",
       "    </tr>\n",
       "    <tr>\n",
       "      <th>min</th>\n",
       "      <td>-14160.00</td>\n",
       "    </tr>\n",
       "    <tr>\n",
       "      <th>25%</th>\n",
       "      <td>815.50</td>\n",
       "    </tr>\n",
       "    <tr>\n",
       "      <th>50%</th>\n",
       "      <td>6304.00</td>\n",
       "    </tr>\n",
       "    <tr>\n",
       "      <th>75%</th>\n",
       "      <td>16108.50</td>\n",
       "    </tr>\n",
       "    <tr>\n",
       "      <th>max</th>\n",
       "      <td>113759.00</td>\n",
       "    </tr>\n",
       "  </tbody>\n",
       "</table>\n",
       "</div>"
      ],
      "text/plain": [
       "        val_real\n",
       "count    2223.00\n",
       "mean    10963.67\n",
       "std     13383.32\n",
       "min    -14160.00\n",
       "25%       815.50\n",
       "50%      6304.00\n",
       "75%     16108.50\n",
       "max    113759.00"
      ]
     },
     "execution_count": 66,
     "metadata": {},
     "output_type": "execute_result"
    }
   ],
   "source": [
    "pd.DataFrame(y_val.values.astype(int), columns=['val_real']).describe().round(2)"
   ]
  },
  {
   "cell_type": "code",
   "execution_count": 67,
   "id": "8f641261-2a3d-402f-9a9f-683b7b9088cd",
   "metadata": {},
   "outputs": [
    {
     "data": {
      "text/html": [
       "<div>\n",
       "<style scoped>\n",
       "    .dataframe tbody tr th:only-of-type {\n",
       "        vertical-align: middle;\n",
       "    }\n",
       "\n",
       "    .dataframe tbody tr th {\n",
       "        vertical-align: top;\n",
       "    }\n",
       "\n",
       "    .dataframe thead th {\n",
       "        text-align: right;\n",
       "    }\n",
       "</style>\n",
       "<table border=\"1\" class=\"dataframe\">\n",
       "  <thead>\n",
       "    <tr style=\"text-align: right;\">\n",
       "      <th></th>\n",
       "      <th>val_pred</th>\n",
       "    </tr>\n",
       "  </thead>\n",
       "  <tbody>\n",
       "    <tr>\n",
       "      <th>count</th>\n",
       "      <td>2223.00</td>\n",
       "    </tr>\n",
       "    <tr>\n",
       "      <th>mean</th>\n",
       "      <td>12116.89</td>\n",
       "    </tr>\n",
       "    <tr>\n",
       "      <th>std</th>\n",
       "      <td>10032.84</td>\n",
       "    </tr>\n",
       "    <tr>\n",
       "      <th>min</th>\n",
       "      <td>-1049.32</td>\n",
       "    </tr>\n",
       "    <tr>\n",
       "      <th>25%</th>\n",
       "      <td>4434.23</td>\n",
       "    </tr>\n",
       "    <tr>\n",
       "      <th>50%</th>\n",
       "      <td>10124.97</td>\n",
       "    </tr>\n",
       "    <tr>\n",
       "      <th>75%</th>\n",
       "      <td>16369.48</td>\n",
       "    </tr>\n",
       "    <tr>\n",
       "      <th>max</th>\n",
       "      <td>97208.26</td>\n",
       "    </tr>\n",
       "  </tbody>\n",
       "</table>\n",
       "</div>"
      ],
      "text/plain": [
       "       val_pred\n",
       "count   2223.00\n",
       "mean   12116.89\n",
       "std    10032.84\n",
       "min    -1049.32\n",
       "25%     4434.23\n",
       "50%    10124.97\n",
       "75%    16369.48\n",
       "max    97208.26"
      ]
     },
     "execution_count": 67,
     "metadata": {},
     "output_type": "execute_result"
    }
   ],
   "source": [
    "pd.DataFrame(y_valid_pred, columns=['val_pred']).describe().round(2)"
   ]
  },
  {
   "cell_type": "markdown",
   "id": "035a0e99-2bcb-4afd-b2cd-c87e2eca884e",
   "metadata": {},
   "source": [
    "### SGDRegressor - Conclusiones \n",
    "\n",
    "Este modelo, tampoco dió buenos resultados. Creemos que por las mismas razones que explicamos en el LinerSVR, que al ser modelos lineales, los resultados no son óptimos."
   ]
  },
  {
   "cell_type": "markdown",
   "id": "f5c81304-9150-46f4-9cf6-d977254b9ee3",
   "metadata": {},
   "source": [
    "---"
   ]
  },
  {
   "cell_type": "markdown",
   "id": "4a6c4007-31e5-4854-b82c-b6bec547bcad",
   "metadata": {},
   "source": [
    "## KNeighborsRegressor - Default"
   ]
  },
  {
   "cell_type": "code",
   "execution_count": 69,
   "id": "974e30a4-354c-4525-90f1-e41713ed29b8",
   "metadata": {},
   "outputs": [
    {
     "data": {
      "text/plain": [
       "((5187, 53), (2223, 53))"
      ]
     },
     "execution_count": 69,
     "metadata": {},
     "output_type": "execute_result"
    }
   ],
   "source": [
    "# Preproceso 1 para SGDRegressor - GridSearch, RMSE 3778.109\n",
    "df = df_mes.copy()\n",
    "scaler = MinMaxScaler()\n",
    "ft_selector = LinearSVR(random_state=0)\n",
    "model_ = KNeighborsRegressor()\n",
    "\n",
    "# Train and validation\n",
    "X_train, X_val, y_train, y_val = train_test_split(X, y, test_size=0.3, random_state=0, shuffle=False)\n",
    "\n",
    "X_train.shape, X_val.shape"
   ]
  },
  {
   "cell_type": "markdown",
   "id": "2dd195be-2f4c-417c-bef1-2a6adc9825c8",
   "metadata": {},
   "source": [
    "#### KNN - Preproceso y ajuste"
   ]
  },
  {
   "cell_type": "code",
   "execution_count": 70,
   "id": "2ecd1288-db77-437c-8cd5-c46e9552345a",
   "metadata": {
    "tags": []
   },
   "outputs": [],
   "source": [
    "# Preprocessing\n",
    "num_transformer = scaler\n",
    "cat_transformer = 'passthrough'\n",
    "\n",
    "preprocessor = ColumnTransformer(\n",
    "    transformers=[\n",
    "        ('num', num_transformer, num_features),\n",
    "        ('cat', cat_transformer, cat_features)])\n",
    "\n",
    "# Fit\n",
    "model = Pipeline([\n",
    "  ('preprocessor', preprocessor),\n",
    "  ('feature_selection', SelectFromModel(ft_selector)),\n",
    "  ('regressor', model_)\n",
    "])\n",
    "\n",
    "model.fit(X_train, y_train)\n",
    "knn = model"
   ]
  },
  {
   "cell_type": "code",
   "execution_count": 71,
   "id": "785aec58-471f-4db4-9e6a-156002178a69",
   "metadata": {},
   "outputs": [],
   "source": [
    "# Predict\n",
    "y_train_pred = model.predict(X_train)\n",
    "y_valid_pred = model.predict(X_val)"
   ]
  },
  {
   "cell_type": "markdown",
   "id": "8d9be68d-6bb8-4d90-9a0e-88a7f3795894",
   "metadata": {},
   "source": [
    "#### KNN - Evaluacion de predicciones"
   ]
  },
  {
   "cell_type": "code",
   "execution_count": 72,
   "id": "3f119035-cb55-49fe-932c-bb7c720b3334",
   "metadata": {
    "tags": []
   },
   "outputs": [
    {
     "name": "stdout",
     "output_type": "stream",
     "text": [
      "Train error 100763970, Valid error 147029423\n"
     ]
    }
   ],
   "source": [
    "# evaluate MSE:\n",
    "train_error_mse = int(mean_squared_error(y_train, y_train_pred))\n",
    "val_error_mse = int(mean_squared_error(y_val, y_valid_pred))\n",
    "print(f'Train error {train_error_mse}, Valid error {val_error_mse}')  "
   ]
  },
  {
   "cell_type": "code",
   "execution_count": 73,
   "id": "911a2a0a-faa3-4c85-9c94-2940a856a166",
   "metadata": {
    "tags": []
   },
   "outputs": [
    {
     "name": "stdout",
     "output_type": "stream",
     "text": [
      "Train error RMSE 10038, Valid error RMSE 12126\n"
     ]
    }
   ],
   "source": [
    "# evaluate RMSE:\n",
    "train_error_rmse = int(np.sqrt(mean_squared_error(y_train, y_train_pred)))\n",
    "val_error_rmse = int(np.sqrt(mean_squared_error(y_val, y_valid_pred)).round(0))\n",
    "print(f'Train error RMSE {train_error_rmse}, Valid error RMSE {val_error_rmse}')  "
   ]
  },
  {
   "cell_type": "code",
   "execution_count": 74,
   "id": "ad0f7a54-fda6-462f-ab6b-1cf9d8c5df46",
   "metadata": {
    "tags": []
   },
   "outputs": [
    {
     "name": "stdout",
     "output_type": "stream",
     "text": [
      "Train error MAE 6440, Valid error MAE 8436\n"
     ]
    }
   ],
   "source": [
    "# evaluate MAE:\n",
    "train_error_mae = int(mean_absolute_error(y_train, y_train_pred).round(0))\n",
    "val_error_mae = int(mean_absolute_error(y_val, y_valid_pred).round(0))\n",
    "print(f'Train error MAE {train_error_mae}, Valid error MAE {val_error_mae}')  "
   ]
  },
  {
   "cell_type": "markdown",
   "id": "f3c97841-e840-41a8-97c9-c99cd2644ce0",
   "metadata": {
    "tags": []
   },
   "source": [
    "Cargamos matriz de resultados"
   ]
  },
  {
   "cell_type": "code",
   "execution_count": 75,
   "id": "5b89d544-ef50-4dc7-9699-05e98a99c626",
   "metadata": {
    "tags": []
   },
   "outputs": [],
   "source": [
    "results['KNN'] = [train_error_mse,val_error_mse, train_error_rmse, val_error_rmse, train_error_mae, val_error_mae]"
   ]
  },
  {
   "cell_type": "markdown",
   "id": "1eca9a0b-affb-499b-981b-9944265babf2",
   "metadata": {
    "tags": []
   },
   "source": [
    "Visualizamos nuestra variable target (real y predicción)"
   ]
  },
  {
   "cell_type": "code",
   "execution_count": 76,
   "id": "582e2012-41da-4e94-b8c8-2697257541d0",
   "metadata": {},
   "outputs": [
    {
     "data": {
      "text/html": [
       "<div>\n",
       "<style scoped>\n",
       "    .dataframe tbody tr th:only-of-type {\n",
       "        vertical-align: middle;\n",
       "    }\n",
       "\n",
       "    .dataframe tbody tr th {\n",
       "        vertical-align: top;\n",
       "    }\n",
       "\n",
       "    .dataframe thead th {\n",
       "        text-align: right;\n",
       "    }\n",
       "</style>\n",
       "<table border=\"1\" class=\"dataframe\">\n",
       "  <thead>\n",
       "    <tr style=\"text-align: right;\">\n",
       "      <th></th>\n",
       "      <th>val_real</th>\n",
       "    </tr>\n",
       "  </thead>\n",
       "  <tbody>\n",
       "    <tr>\n",
       "      <th>count</th>\n",
       "      <td>2223.00</td>\n",
       "    </tr>\n",
       "    <tr>\n",
       "      <th>mean</th>\n",
       "      <td>10963.67</td>\n",
       "    </tr>\n",
       "    <tr>\n",
       "      <th>std</th>\n",
       "      <td>13383.32</td>\n",
       "    </tr>\n",
       "    <tr>\n",
       "      <th>min</th>\n",
       "      <td>-14160.00</td>\n",
       "    </tr>\n",
       "    <tr>\n",
       "      <th>25%</th>\n",
       "      <td>815.50</td>\n",
       "    </tr>\n",
       "    <tr>\n",
       "      <th>50%</th>\n",
       "      <td>6304.00</td>\n",
       "    </tr>\n",
       "    <tr>\n",
       "      <th>75%</th>\n",
       "      <td>16108.50</td>\n",
       "    </tr>\n",
       "    <tr>\n",
       "      <th>max</th>\n",
       "      <td>113759.00</td>\n",
       "    </tr>\n",
       "  </tbody>\n",
       "</table>\n",
       "</div>"
      ],
      "text/plain": [
       "        val_real\n",
       "count    2223.00\n",
       "mean    10963.67\n",
       "std     13383.32\n",
       "min    -14160.00\n",
       "25%       815.50\n",
       "50%      6304.00\n",
       "75%     16108.50\n",
       "max    113759.00"
      ]
     },
     "execution_count": 76,
     "metadata": {},
     "output_type": "execute_result"
    }
   ],
   "source": [
    "pd.DataFrame(y_val.values.astype(int), columns=['val_real']).describe().round(2)"
   ]
  },
  {
   "cell_type": "code",
   "execution_count": 77,
   "id": "a13c9ccf-f18c-4fbe-a27b-21f121b5308b",
   "metadata": {},
   "outputs": [
    {
     "data": {
      "text/html": [
       "<div>\n",
       "<style scoped>\n",
       "    .dataframe tbody tr th:only-of-type {\n",
       "        vertical-align: middle;\n",
       "    }\n",
       "\n",
       "    .dataframe tbody tr th {\n",
       "        vertical-align: top;\n",
       "    }\n",
       "\n",
       "    .dataframe thead th {\n",
       "        text-align: right;\n",
       "    }\n",
       "</style>\n",
       "<table border=\"1\" class=\"dataframe\">\n",
       "  <thead>\n",
       "    <tr style=\"text-align: right;\">\n",
       "      <th></th>\n",
       "      <th>val_pred</th>\n",
       "    </tr>\n",
       "  </thead>\n",
       "  <tbody>\n",
       "    <tr>\n",
       "      <th>count</th>\n",
       "      <td>2223.00</td>\n",
       "    </tr>\n",
       "    <tr>\n",
       "      <th>mean</th>\n",
       "      <td>11698.26</td>\n",
       "    </tr>\n",
       "    <tr>\n",
       "      <th>std</th>\n",
       "      <td>10098.17</td>\n",
       "    </tr>\n",
       "    <tr>\n",
       "      <th>min</th>\n",
       "      <td>-1327.00</td>\n",
       "    </tr>\n",
       "    <tr>\n",
       "      <th>25%</th>\n",
       "      <td>4108.00</td>\n",
       "    </tr>\n",
       "    <tr>\n",
       "      <th>50%</th>\n",
       "      <td>9274.00</td>\n",
       "    </tr>\n",
       "    <tr>\n",
       "      <th>75%</th>\n",
       "      <td>16799.00</td>\n",
       "    </tr>\n",
       "    <tr>\n",
       "      <th>max</th>\n",
       "      <td>68961.00</td>\n",
       "    </tr>\n",
       "  </tbody>\n",
       "</table>\n",
       "</div>"
      ],
      "text/plain": [
       "       val_pred\n",
       "count   2223.00\n",
       "mean   11698.26\n",
       "std    10098.17\n",
       "min    -1327.00\n",
       "25%     4108.00\n",
       "50%     9274.00\n",
       "75%    16799.00\n",
       "max    68961.00"
      ]
     },
     "execution_count": 77,
     "metadata": {},
     "output_type": "execute_result"
    }
   ],
   "source": [
    "pd.DataFrame(y_valid_pred.astype(int), columns=['val_pred']).describe().round(2)"
   ]
  },
  {
   "cell_type": "markdown",
   "id": "c1f6d693-3e5f-405a-b736-8695c0398e45",
   "metadata": {},
   "source": [
    "## KNeighborsRegressor - Grid Search"
   ]
  },
  {
   "cell_type": "code",
   "execution_count": 78,
   "id": "a150d247-a004-45d3-8143-9a64b0f3afcc",
   "metadata": {},
   "outputs": [],
   "source": [
    "# Preproceso 1 para KNeighborsRegressor - GridSearch\n",
    "df = df_mes.copy()\n",
    "scaler = MinMaxScaler()\n",
    "ft_selector = LinearSVR(random_state=0)\n",
    "model_ = KNeighborsRegressor()\n",
    "\n",
    "param_grid = {\n",
    "    'regressor__n_neighbors': [3,4,5,6],\n",
    "    'regressor__weights': ['uniform', 'distance'],\n",
    "    'regressor__algorithm': ['auto','ball_tree','kd_tree','brute'],\n",
    "    'regressor__p': [1,2]\n",
    "}\n",
    "\n",
    "# Train and validation\n",
    "X_train, X_val, y_train, y_val = train_test_split(X, y, test_size=0.3, random_state=0, shuffle=False)"
   ]
  },
  {
   "cell_type": "markdown",
   "id": "c4185bd9-5708-4834-b33a-7c3c61794b5c",
   "metadata": {},
   "source": [
    "#### KNN(GSCV) - Preproceso y ajuste"
   ]
  },
  {
   "cell_type": "code",
   "execution_count": 79,
   "id": "56badb3b-af88-451d-b369-d692e9ec2243",
   "metadata": {},
   "outputs": [],
   "source": [
    "# Preprocessing\n",
    "num_transformer = scaler\n",
    "cat_transformer = 'passthrough'\n",
    "\n",
    "preprocessor = ColumnTransformer(\n",
    "    transformers=[\n",
    "        ('num', num_transformer, num_features),\n",
    "        ('cat', cat_transformer, cat_features)])"
   ]
  },
  {
   "cell_type": "code",
   "execution_count": 80,
   "id": "b2884e53-da92-4bc6-8c34-a335d408f4f8",
   "metadata": {
    "tags": []
   },
   "outputs": [],
   "source": [
    "# Fit\n",
    "pipe = Pipeline([\n",
    "  ('preprocessor', preprocessor),\n",
    " # ('feature_selection', SelectFromModel(ft_selector)),\n",
    "  ('regressor', model_)\n",
    "])\n",
    "\n",
    "model = GridSearchCV(pipe, param_grid, scoring='neg_mean_squared_error',cv=5)\n",
    "\n",
    "model.fit(X_train, y_train)\n",
    "knn_cv = model"
   ]
  },
  {
   "cell_type": "code",
   "execution_count": 81,
   "id": "25c2d39b-bf9f-423c-895a-3b6c84d50501",
   "metadata": {},
   "outputs": [
    {
     "data": {
      "text/plain": [
       "{'regressor__algorithm': 'auto',\n",
       " 'regressor__n_neighbors': 6,\n",
       " 'regressor__p': 1,\n",
       " 'regressor__weights': 'distance'}"
      ]
     },
     "execution_count": 81,
     "metadata": {},
     "output_type": "execute_result"
    }
   ],
   "source": [
    "model.best_params_"
   ]
  },
  {
   "cell_type": "code",
   "execution_count": 82,
   "id": "1f5f6d94-f46f-4a44-954c-95b47439cee5",
   "metadata": {},
   "outputs": [],
   "source": [
    "# Predict\n",
    "y_train_pred = model.predict(X_train)\n",
    "y_valid_pred = model.predict(X_val)"
   ]
  },
  {
   "cell_type": "markdown",
   "id": "7d2429c2-392d-4756-af3d-1f846fb5e6f7",
   "metadata": {},
   "source": [
    "#### KNN(GSCV) - Evaluacion de predicciones"
   ]
  },
  {
   "cell_type": "code",
   "execution_count": 83,
   "id": "bc561f7d-9f34-4629-9c64-c71895194a00",
   "metadata": {
    "tags": []
   },
   "outputs": [
    {
     "name": "stdout",
     "output_type": "stream",
     "text": [
      "Train error 0, Valid error 104103681\n"
     ]
    }
   ],
   "source": [
    "# evaluate MSE:\n",
    "train_error_mse = int(mean_squared_error(y_train, y_train_pred))\n",
    "val_error_mse = int(mean_squared_error(y_val, y_valid_pred))\n",
    "print(f'Train error {train_error_mse}, Valid error {val_error_mse}')  "
   ]
  },
  {
   "cell_type": "code",
   "execution_count": 84,
   "id": "8b23171f-396c-4b1b-a2af-9929545e2e74",
   "metadata": {
    "tags": []
   },
   "outputs": [
    {
     "name": "stdout",
     "output_type": "stream",
     "text": [
      "Train error RMSE 0, Valid error RMSE 10203\n"
     ]
    }
   ],
   "source": [
    "# evaluate RMSE:\n",
    "train_error_rmse = int(np.sqrt(mean_squared_error(y_train, y_train_pred)))\n",
    "val_error_rmse = int(np.sqrt(mean_squared_error(y_val, y_valid_pred)).round(0))\n",
    "print(f'Train error RMSE {train_error_rmse}, Valid error RMSE {val_error_rmse}')  "
   ]
  },
  {
   "cell_type": "code",
   "execution_count": 85,
   "id": "300fcec6-6a35-40f4-8a5e-b24c1927fd33",
   "metadata": {
    "tags": []
   },
   "outputs": [
    {
     "name": "stdout",
     "output_type": "stream",
     "text": [
      "Train error MAE 0, Valid error MAE 6415\n"
     ]
    }
   ],
   "source": [
    "# evaluate MAE:\n",
    "train_error_mae = int(mean_absolute_error(y_train, y_train_pred).round(0))\n",
    "val_error_mae = int(mean_absolute_error(y_val, y_valid_pred).round(0))\n",
    "print(f'Train error MAE {train_error_mae}, Valid error MAE {val_error_mae}')  "
   ]
  },
  {
   "cell_type": "markdown",
   "id": "070fd93c-f075-4b83-87af-a760a55080ac",
   "metadata": {
    "tags": []
   },
   "source": [
    "Cargamos matriz de resultados"
   ]
  },
  {
   "cell_type": "code",
   "execution_count": 86,
   "id": "4a136fe5-770b-4966-a416-20ac29701770",
   "metadata": {
    "tags": []
   },
   "outputs": [],
   "source": [
    "results['KNN - GSCV'] = [train_error_mse,val_error_mse, train_error_rmse, val_error_rmse, train_error_mae, val_error_mae]"
   ]
  },
  {
   "cell_type": "markdown",
   "id": "61bb3c8e-1cb2-48e1-b866-bd8b71d15372",
   "metadata": {
    "tags": []
   },
   "source": [
    "Visualizamos nuestra variable target (real y predicción)"
   ]
  },
  {
   "cell_type": "code",
   "execution_count": 87,
   "id": "f719e8cb-2c95-4fa7-b5fc-d97048c545fa",
   "metadata": {},
   "outputs": [
    {
     "data": {
      "text/html": [
       "<div>\n",
       "<style scoped>\n",
       "    .dataframe tbody tr th:only-of-type {\n",
       "        vertical-align: middle;\n",
       "    }\n",
       "\n",
       "    .dataframe tbody tr th {\n",
       "        vertical-align: top;\n",
       "    }\n",
       "\n",
       "    .dataframe thead th {\n",
       "        text-align: right;\n",
       "    }\n",
       "</style>\n",
       "<table border=\"1\" class=\"dataframe\">\n",
       "  <thead>\n",
       "    <tr style=\"text-align: right;\">\n",
       "      <th></th>\n",
       "      <th>val_real</th>\n",
       "    </tr>\n",
       "  </thead>\n",
       "  <tbody>\n",
       "    <tr>\n",
       "      <th>count</th>\n",
       "      <td>2223.00</td>\n",
       "    </tr>\n",
       "    <tr>\n",
       "      <th>mean</th>\n",
       "      <td>10963.67</td>\n",
       "    </tr>\n",
       "    <tr>\n",
       "      <th>std</th>\n",
       "      <td>13383.32</td>\n",
       "    </tr>\n",
       "    <tr>\n",
       "      <th>min</th>\n",
       "      <td>-14160.00</td>\n",
       "    </tr>\n",
       "    <tr>\n",
       "      <th>25%</th>\n",
       "      <td>815.50</td>\n",
       "    </tr>\n",
       "    <tr>\n",
       "      <th>50%</th>\n",
       "      <td>6304.00</td>\n",
       "    </tr>\n",
       "    <tr>\n",
       "      <th>75%</th>\n",
       "      <td>16108.50</td>\n",
       "    </tr>\n",
       "    <tr>\n",
       "      <th>max</th>\n",
       "      <td>113759.00</td>\n",
       "    </tr>\n",
       "  </tbody>\n",
       "</table>\n",
       "</div>"
      ],
      "text/plain": [
       "        val_real\n",
       "count    2223.00\n",
       "mean    10963.67\n",
       "std     13383.32\n",
       "min    -14160.00\n",
       "25%       815.50\n",
       "50%      6304.00\n",
       "75%     16108.50\n",
       "max    113759.00"
      ]
     },
     "execution_count": 87,
     "metadata": {},
     "output_type": "execute_result"
    }
   ],
   "source": [
    "pd.DataFrame(y_val.values.astype(int), columns=['val_real']).describe().round(2)"
   ]
  },
  {
   "cell_type": "code",
   "execution_count": 88,
   "id": "8bab165e-6313-43af-8883-b838befd0b53",
   "metadata": {},
   "outputs": [
    {
     "data": {
      "text/html": [
       "<div>\n",
       "<style scoped>\n",
       "    .dataframe tbody tr th:only-of-type {\n",
       "        vertical-align: middle;\n",
       "    }\n",
       "\n",
       "    .dataframe tbody tr th {\n",
       "        vertical-align: top;\n",
       "    }\n",
       "\n",
       "    .dataframe thead th {\n",
       "        text-align: right;\n",
       "    }\n",
       "</style>\n",
       "<table border=\"1\" class=\"dataframe\">\n",
       "  <thead>\n",
       "    <tr style=\"text-align: right;\">\n",
       "      <th></th>\n",
       "      <th>val_pred</th>\n",
       "    </tr>\n",
       "  </thead>\n",
       "  <tbody>\n",
       "    <tr>\n",
       "      <th>count</th>\n",
       "      <td>2223.00</td>\n",
       "    </tr>\n",
       "    <tr>\n",
       "      <th>mean</th>\n",
       "      <td>10035.30</td>\n",
       "    </tr>\n",
       "    <tr>\n",
       "      <th>std</th>\n",
       "      <td>10449.81</td>\n",
       "    </tr>\n",
       "    <tr>\n",
       "      <th>min</th>\n",
       "      <td>-1918.11</td>\n",
       "    </tr>\n",
       "    <tr>\n",
       "      <th>25%</th>\n",
       "      <td>1936.52</td>\n",
       "    </tr>\n",
       "    <tr>\n",
       "      <th>50%</th>\n",
       "      <td>7270.03</td>\n",
       "    </tr>\n",
       "    <tr>\n",
       "      <th>75%</th>\n",
       "      <td>14443.14</td>\n",
       "    </tr>\n",
       "    <tr>\n",
       "      <th>max</th>\n",
       "      <td>66683.44</td>\n",
       "    </tr>\n",
       "  </tbody>\n",
       "</table>\n",
       "</div>"
      ],
      "text/plain": [
       "       val_pred\n",
       "count   2223.00\n",
       "mean   10035.30\n",
       "std    10449.81\n",
       "min    -1918.11\n",
       "25%     1936.52\n",
       "50%     7270.03\n",
       "75%    14443.14\n",
       "max    66683.44"
      ]
     },
     "execution_count": 88,
     "metadata": {},
     "output_type": "execute_result"
    }
   ],
   "source": [
    "pd.DataFrame(y_valid_pred, columns=['val_pred']).describe().round(2)"
   ]
  },
  {
   "cell_type": "markdown",
   "id": "69eb83c5-44e4-452f-bb19-a4bdba7eefc8",
   "metadata": {},
   "source": [
    "### KNN - Conclusiones \n",
    "\n",
    "Este modelo presentó overffiting tanto en su versión por default como añadiendo la busqueda de hiperparámetros por GridSearchCV. Esto nos indica que este no es un buen modelo que se ajuste a nuestro set de datos."
   ]
  },
  {
   "cell_type": "markdown",
   "id": "113ef653-ad7f-414d-b8cd-33bef802fdd5",
   "metadata": {},
   "source": [
    "---"
   ]
  },
  {
   "cell_type": "markdown",
   "id": "0be9d74c-0f8f-46cc-a61c-a2ecc3a59e53",
   "metadata": {},
   "source": [
    "## GaussianProcessRegressor - Default"
   ]
  },
  {
   "cell_type": "code",
   "execution_count": 62,
   "id": "bd20b73c-af4a-4cc0-943c-7265af4081a1",
   "metadata": {},
   "outputs": [],
   "source": [
    "# Preproceso 1 para GaussianProcessRegressor - Default\n",
    "df = df_mes.copy()\n",
    "scaler = StandardScaler()\n",
    "#ft_selector = LinearSVR(random_state=0)\n",
    "model_ = GaussianProcessRegressor(random_state=0) # Kernel?\n",
    "\n",
    "# Features and target\n",
    "X = df.drop([ordinal_ft, target], axis=1)\n",
    "y = df[target]\n",
    "\n",
    "# Train and validation\n",
    "X_train, X_val, y_train, y_val = train_test_split(X, y, test_size=0.3, random_state=0, shuffle=False)"
   ]
  },
  {
   "cell_type": "markdown",
   "id": "a2c7864f-6bb3-48ef-afec-c0478a0b9a70",
   "metadata": {},
   "source": [
    "#### GPR - Preproceso y ajuste"
   ]
  },
  {
   "cell_type": "code",
   "execution_count": 65,
   "id": "165b7626-3a3b-4716-996c-65ae4e350a34",
   "metadata": {},
   "outputs": [],
   "source": [
    "# Preprocessing\n",
    "num_transformer = scaler\n",
    "cat_transformer = 'passthrough'\n",
    "\n",
    "preprocessor = ColumnTransformer(\n",
    "    transformers=[\n",
    "        ('num', num_transformer, num_features),\n",
    "        ('cat', cat_transformer, cat_features)])\n",
    "\n",
    "# Fit\n",
    "model = Pipeline([\n",
    "  ('preprocessor', preprocessor),\n",
    "#  ('feature_selection', SelectFromModel(ft_selector)),\n",
    "  ('regressor', model_)\n",
    "])\n",
    "\n",
    "model.fit(X_train, y_train)\n",
    "gpr = model\n",
    "\n",
    "# Predict\n",
    "y_train_pred = model.predict(X_train)\n",
    "y_valid_pred = model.predict(X_val)"
   ]
  },
  {
   "cell_type": "markdown",
   "id": "b329b646-3ff3-42f5-892b-fa087f2e10dc",
   "metadata": {},
   "source": [
    "#### GPR - Evaluacion de predicciones"
   ]
  },
  {
   "cell_type": "code",
   "execution_count": 66,
   "id": "82b7a352-5fc3-4762-afb4-28fde246321c",
   "metadata": {
    "tags": []
   },
   "outputs": [
    {
     "name": "stdout",
     "output_type": "stream",
     "text": [
      "Train error 0, Valid error 239825060\n"
     ]
    }
   ],
   "source": [
    "# evaluate MSE:\n",
    "train_error_mse = int(mean_squared_error(y_train, y_train_pred))\n",
    "val_error_mse = int(mean_squared_error(y_val, y_valid_pred))\n",
    "print(f'Train error {train_error_mse}, Valid error {val_error_mse}')  "
   ]
  },
  {
   "cell_type": "code",
   "execution_count": 67,
   "id": "4ca8a51e-8646-48b8-8017-2d10d87decf1",
   "metadata": {
    "tags": []
   },
   "outputs": [
    {
     "name": "stdout",
     "output_type": "stream",
     "text": [
      "Train error RMSE 0, Valid error RMSE 15486\n"
     ]
    }
   ],
   "source": [
    "# evaluate RMSE:\n",
    "train_error_rmse = int(np.sqrt(mean_squared_error(y_train, y_train_pred)))\n",
    "val_error_rmse = int(np.sqrt(mean_squared_error(y_val, y_valid_pred)).round(0))\n",
    "print(f'Train error RMSE {train_error_rmse}, Valid error RMSE {val_error_rmse}')  "
   ]
  },
  {
   "cell_type": "code",
   "execution_count": 68,
   "id": "f3c7832d-6083-4afb-936e-d24f661fe49e",
   "metadata": {
    "tags": []
   },
   "outputs": [
    {
     "name": "stdout",
     "output_type": "stream",
     "text": [
      "Train error MAE 0, Valid error MAE 8006\n"
     ]
    }
   ],
   "source": [
    "# evaluate MAE:\n",
    "train_error_mae = int(mean_absolute_error(y_train, y_train_pred).round(0))\n",
    "val_error_mae = int(mean_absolute_error(y_val, y_valid_pred).round(0))\n",
    "print(f'Train error MAE {train_error_mae}, Valid error MAE {val_error_mae}')  "
   ]
  },
  {
   "cell_type": "markdown",
   "id": "3dcdbf5d-5a65-4dec-81ac-f46ffff86d23",
   "metadata": {
    "tags": []
   },
   "source": [
    "Cargamos matriz de resultados"
   ]
  },
  {
   "cell_type": "code",
   "execution_count": 69,
   "id": "5e0c6c24-f113-4c7f-a1ee-75a5eafa913d",
   "metadata": {
    "tags": []
   },
   "outputs": [],
   "source": [
    "results['GPR'] = [train_error_mse,val_error_mse, train_error_rmse, val_error_rmse, train_error_mae, val_error_mae]"
   ]
  },
  {
   "cell_type": "markdown",
   "id": "4dbe56b9-9d49-48c6-85aa-2b7aee426944",
   "metadata": {
    "tags": []
   },
   "source": [
    "Visualizamos nuestra variable target (real y predicción)"
   ]
  },
  {
   "cell_type": "code",
   "execution_count": 70,
   "id": "0a02ebed-13a0-4c02-a299-c81501415e05",
   "metadata": {},
   "outputs": [
    {
     "data": {
      "text/html": [
       "<div>\n",
       "<style scoped>\n",
       "    .dataframe tbody tr th:only-of-type {\n",
       "        vertical-align: middle;\n",
       "    }\n",
       "\n",
       "    .dataframe tbody tr th {\n",
       "        vertical-align: top;\n",
       "    }\n",
       "\n",
       "    .dataframe thead th {\n",
       "        text-align: right;\n",
       "    }\n",
       "</style>\n",
       "<table border=\"1\" class=\"dataframe\">\n",
       "  <thead>\n",
       "    <tr style=\"text-align: right;\">\n",
       "      <th></th>\n",
       "      <th>val_real</th>\n",
       "    </tr>\n",
       "  </thead>\n",
       "  <tbody>\n",
       "    <tr>\n",
       "      <th>count</th>\n",
       "      <td>2956.00</td>\n",
       "    </tr>\n",
       "    <tr>\n",
       "      <th>mean</th>\n",
       "      <td>8594.33</td>\n",
       "    </tr>\n",
       "    <tr>\n",
       "      <th>std</th>\n",
       "      <td>13961.94</td>\n",
       "    </tr>\n",
       "    <tr>\n",
       "      <th>min</th>\n",
       "      <td>-14160.00</td>\n",
       "    </tr>\n",
       "    <tr>\n",
       "      <th>25%</th>\n",
       "      <td>0.00</td>\n",
       "    </tr>\n",
       "    <tr>\n",
       "      <th>50%</th>\n",
       "      <td>2101.50</td>\n",
       "    </tr>\n",
       "    <tr>\n",
       "      <th>75%</th>\n",
       "      <td>11986.50</td>\n",
       "    </tr>\n",
       "    <tr>\n",
       "      <th>max</th>\n",
       "      <td>134045.00</td>\n",
       "    </tr>\n",
       "  </tbody>\n",
       "</table>\n",
       "</div>"
      ],
      "text/plain": [
       "        val_real\n",
       "count    2956.00\n",
       "mean     8594.33\n",
       "std     13961.94\n",
       "min    -14160.00\n",
       "25%         0.00\n",
       "50%      2101.50\n",
       "75%     11986.50\n",
       "max    134045.00"
      ]
     },
     "execution_count": 70,
     "metadata": {},
     "output_type": "execute_result"
    }
   ],
   "source": [
    "pd.DataFrame(y_val.values.astype(int), columns=['val_real']).describe().round(2)"
   ]
  },
  {
   "cell_type": "code",
   "execution_count": 71,
   "id": "5911c7c9-68a9-441a-81c5-0bd94005f2a5",
   "metadata": {},
   "outputs": [
    {
     "data": {
      "text/html": [
       "<div>\n",
       "<style scoped>\n",
       "    .dataframe tbody tr th:only-of-type {\n",
       "        vertical-align: middle;\n",
       "    }\n",
       "\n",
       "    .dataframe tbody tr th {\n",
       "        vertical-align: top;\n",
       "    }\n",
       "\n",
       "    .dataframe thead th {\n",
       "        text-align: right;\n",
       "    }\n",
       "</style>\n",
       "<table border=\"1\" class=\"dataframe\">\n",
       "  <thead>\n",
       "    <tr style=\"text-align: right;\">\n",
       "      <th></th>\n",
       "      <th>val_pred</th>\n",
       "    </tr>\n",
       "  </thead>\n",
       "  <tbody>\n",
       "    <tr>\n",
       "      <th>count</th>\n",
       "      <td>2956.00</td>\n",
       "    </tr>\n",
       "    <tr>\n",
       "      <th>mean</th>\n",
       "      <td>2422.20</td>\n",
       "    </tr>\n",
       "    <tr>\n",
       "      <th>std</th>\n",
       "      <td>4712.32</td>\n",
       "    </tr>\n",
       "    <tr>\n",
       "      <th>min</th>\n",
       "      <td>-36499.00</td>\n",
       "    </tr>\n",
       "    <tr>\n",
       "      <th>25%</th>\n",
       "      <td>0.01</td>\n",
       "    </tr>\n",
       "    <tr>\n",
       "      <th>50%</th>\n",
       "      <td>515.85</td>\n",
       "    </tr>\n",
       "    <tr>\n",
       "      <th>75%</th>\n",
       "      <td>3693.93</td>\n",
       "    </tr>\n",
       "    <tr>\n",
       "      <th>max</th>\n",
       "      <td>50222.50</td>\n",
       "    </tr>\n",
       "  </tbody>\n",
       "</table>\n",
       "</div>"
      ],
      "text/plain": [
       "       val_pred\n",
       "count   2956.00\n",
       "mean    2422.20\n",
       "std     4712.32\n",
       "min   -36499.00\n",
       "25%        0.01\n",
       "50%      515.85\n",
       "75%     3693.93\n",
       "max    50222.50"
      ]
     },
     "execution_count": 71,
     "metadata": {},
     "output_type": "execute_result"
    }
   ],
   "source": [
    "pd.DataFrame(y_valid_pred, columns=['val_pred']).describe().round(2)"
   ]
  },
  {
   "cell_type": "markdown",
   "id": "f5a1db4d-fb35-4226-832b-31a05737b949",
   "metadata": {},
   "source": [
    "## GaussianProcessRegressor - Grid Search "
   ]
  },
  {
   "cell_type": "code",
   "execution_count": 119,
   "id": "0ae8edff-b394-4b9e-a552-47fc723b54d3",
   "metadata": {
    "tags": []
   },
   "outputs": [],
   "source": [
    "ker_rbf = ConstantKernel(1.0, constant_value_bounds=\"fixed\") * RBF(1.0, length_scale_bounds=\"fixed\")\n",
    "ker_rq = ConstantKernel(1.0, constant_value_bounds=\"fixed\") * RationalQuadratic(alpha=0.1, length_scale=1)\n",
    "ker_expsine = ConstantKernel(1.0, constant_value_bounds=\"fixed\") * ExpSineSquared(1.0, 5.0, periodicity_bounds=(1e-2, 1e1))\n",
    "\n",
    "kernel_list = [ker_rbf, ker_rq, ker_expsine]\n",
    "\n",
    "param_grid = {\"regressor__kernel\": kernel_list,\n",
    "              \"regressor__alpha\": [0.1]}"
   ]
  },
  {
   "cell_type": "code",
   "execution_count": 120,
   "id": "5419dfc7-2741-42b8-bfcf-648493fd9b1e",
   "metadata": {},
   "outputs": [],
   "source": [
    "# Preproceso 1 para GaussianProcessRegressor - GridSearch\n",
    "df = df_mes.copy()\n",
    "scaler = StandardScaler()\n",
    "#ft_selector = RandomForestRegressor(random_state=0)\n",
    "model_ = GaussianProcessRegressor(random_state=0) # Kernel?"
   ]
  },
  {
   "cell_type": "code",
   "execution_count": 121,
   "id": "90098b40-b2a9-4e47-b111-f98394bb454b",
   "metadata": {},
   "outputs": [],
   "source": [
    "# Train and validation\n",
    "X_train, X_val, y_train, y_val = train_test_split(X, y, test_size=0.3, random_state=0, shuffle=False)"
   ]
  },
  {
   "cell_type": "markdown",
   "id": "87f26d09-36cf-42d8-a9f2-5a9f68e9ede4",
   "metadata": {},
   "source": [
    "#### GPR(GSCV) - Preproceso y ajuste"
   ]
  },
  {
   "cell_type": "code",
   "execution_count": 122,
   "id": "7b3ab720-bcd6-4c34-8a3d-a1d387687208",
   "metadata": {},
   "outputs": [],
   "source": [
    "# Preprocessing\n",
    "num_transformer = scaler\n",
    "cat_transformer = 'passthrough'\n",
    "\n",
    "preprocessor = ColumnTransformer(\n",
    "    transformers=[\n",
    "        ('num', num_transformer, num_features),\n",
    "        ('cat', cat_transformer, cat_features)])"
   ]
  },
  {
   "cell_type": "code",
   "execution_count": 123,
   "id": "b9feaad4-189a-49e3-8629-62af135a52a6",
   "metadata": {
    "tags": []
   },
   "outputs": [
    {
     "name": "stdout",
     "output_type": "stream",
     "text": [
      "Fitting 5 folds for each of 3 candidates, totalling 15 fits\n",
      "[CV] END regressor__alpha=0.1, regressor__kernel=1**2 * RBF(length_scale=1); total time=   7.0s\n",
      "[CV] END regressor__alpha=0.1, regressor__kernel=1**2 * RBF(length_scale=1); total time=   6.7s\n",
      "[CV] END regressor__alpha=0.1, regressor__kernel=1**2 * RBF(length_scale=1); total time=   6.4s\n",
      "[CV] END regressor__alpha=0.1, regressor__kernel=1**2 * RBF(length_scale=1); total time=   6.0s\n",
      "[CV] END regressor__alpha=0.1, regressor__kernel=1**2 * RBF(length_scale=1); total time=   6.2s\n",
      "[CV] END regressor__alpha=0.1, regressor__kernel=1**2 * RationalQuadratic(alpha=0.1, length_scale=1); total time= 3.4min\n",
      "[CV] END regressor__alpha=0.1, regressor__kernel=1**2 * RationalQuadratic(alpha=0.1, length_scale=1); total time= 3.4min\n",
      "[CV] END regressor__alpha=0.1, regressor__kernel=1**2 * RationalQuadratic(alpha=0.1, length_scale=1); total time= 3.4min\n",
      "[CV] END regressor__alpha=0.1, regressor__kernel=1**2 * RationalQuadratic(alpha=0.1, length_scale=1); total time= 3.3min\n",
      "[CV] END regressor__alpha=0.1, regressor__kernel=1**2 * RationalQuadratic(alpha=0.1, length_scale=1); total time= 3.3min\n",
      "[CV] END regressor__alpha=0.1, regressor__kernel=1**2 * ExpSineSquared(length_scale=1, periodicity=5); total time=   9.5s\n",
      "[CV] END regressor__alpha=0.1, regressor__kernel=1**2 * ExpSineSquared(length_scale=1, periodicity=5); total time=   9.3s\n",
      "[CV] END regressor__alpha=0.1, regressor__kernel=1**2 * ExpSineSquared(length_scale=1, periodicity=5); total time=   9.1s\n",
      "[CV] END regressor__alpha=0.1, regressor__kernel=1**2 * ExpSineSquared(length_scale=1, periodicity=5); total time=   9.1s\n",
      "[CV] END regressor__alpha=0.1, regressor__kernel=1**2 * ExpSineSquared(length_scale=1, periodicity=5); total time=   9.0s\n"
     ]
    }
   ],
   "source": [
    "# Fit\n",
    "pipe = Pipeline([\n",
    "  ('preprocessor', preprocessor),\n",
    "#  ('feature_selection', SelectFromModel(ft_selector)),\n",
    "  ('regressor', model_)\n",
    "])\n",
    "\n",
    "model = GridSearchCV(pipe, param_grid, scoring='neg_mean_squared_error',cv=5, verbose=2)\n",
    "\n",
    "model.fit(X_train, y_train)\n",
    "gpr_cv = model"
   ]
  },
  {
   "cell_type": "code",
   "execution_count": 124,
   "id": "851cc8a8-a2b1-4c89-bd61-c9720380edbf",
   "metadata": {},
   "outputs": [
    {
     "data": {
      "text/plain": [
       "{'regressor__alpha': 0.1,\n",
       " 'regressor__kernel': 1**2 * RationalQuadratic(alpha=0.1, length_scale=1)}"
      ]
     },
     "execution_count": 124,
     "metadata": {},
     "output_type": "execute_result"
    }
   ],
   "source": [
    "model.best_params_"
   ]
  },
  {
   "cell_type": "code",
   "execution_count": 125,
   "id": "f43664c1-8bea-40f7-a72e-dc2a8451fa9c",
   "metadata": {},
   "outputs": [],
   "source": [
    "# Predict\n",
    "y_train_pred = model.predict(X_train)\n",
    "y_valid_pred = model.predict(X_val)"
   ]
  },
  {
   "cell_type": "markdown",
   "id": "a7ae2bf0-b390-4716-b59e-1163b6f36bf0",
   "metadata": {},
   "source": [
    "#### GPR(GSCV) - Evaluacion de predicciones"
   ]
  },
  {
   "cell_type": "code",
   "execution_count": 126,
   "id": "0eb66fdc-07c6-4dd0-8407-e463ccab2e20",
   "metadata": {
    "tags": []
   },
   "outputs": [
    {
     "name": "stdout",
     "output_type": "stream",
     "text": [
      "Train error 821351, Valid error 93462569\n"
     ]
    }
   ],
   "source": [
    "# evaluate MSE:\n",
    "train_error_mse = int(mean_squared_error(y_train, y_train_pred))\n",
    "val_error_mse = int(mean_squared_error(y_val, y_valid_pred))\n",
    "print(f'Train error {train_error_mse}, Valid error {val_error_mse}')  "
   ]
  },
  {
   "cell_type": "code",
   "execution_count": 127,
   "id": "fde20102-85e4-4e41-9b3d-2884b4d8a35b",
   "metadata": {
    "tags": []
   },
   "outputs": [
    {
     "name": "stdout",
     "output_type": "stream",
     "text": [
      "Train error RMSE 906, Valid error RMSE 9668\n"
     ]
    }
   ],
   "source": [
    "# evaluate RMSE:\n",
    "train_error_rmse = int(np.sqrt(mean_squared_error(y_train, y_train_pred)))\n",
    "val_error_rmse = int(np.sqrt(mean_squared_error(y_val, y_valid_pred)).round(0))\n",
    "print(f'Train error RMSE {train_error_rmse}, Valid error RMSE {val_error_rmse}')  "
   ]
  },
  {
   "cell_type": "code",
   "execution_count": 128,
   "id": "e45235b3-7b63-4c2a-8d0d-d50fdc7f940a",
   "metadata": {
    "tags": []
   },
   "outputs": [
    {
     "name": "stdout",
     "output_type": "stream",
     "text": [
      "Train error MAE 490, Valid error MAE 5284\n"
     ]
    }
   ],
   "source": [
    "# evaluate MAE:\n",
    "train_error_mae = int(mean_absolute_error(y_train, y_train_pred).round(0))\n",
    "val_error_mae = int(mean_absolute_error(y_val, y_valid_pred).round(0))\n",
    "print(f'Train error MAE {train_error_mae}, Valid error MAE {val_error_mae}')  "
   ]
  },
  {
   "cell_type": "markdown",
   "id": "d91893b7-27ee-406b-94cb-96b4e4669854",
   "metadata": {
    "tags": []
   },
   "source": [
    "Cargamos matriz de resultados"
   ]
  },
  {
   "cell_type": "code",
   "execution_count": 129,
   "id": "9b854750-3289-4a3e-b972-97964da703e3",
   "metadata": {
    "tags": []
   },
   "outputs": [],
   "source": [
    "results['GPR - GSCV'] = [train_error_mse,val_error_mse, train_error_rmse, val_error_rmse, train_error_mae, val_error_mae]"
   ]
  },
  {
   "cell_type": "markdown",
   "id": "7d08673f-8733-40ba-8970-7f341069097e",
   "metadata": {
    "tags": []
   },
   "source": [
    "Visualizamos nuestra variable target (real y predicción)"
   ]
  },
  {
   "cell_type": "code",
   "execution_count": 130,
   "id": "8442e239-bd33-4197-b053-cc1ea4a1dfe6",
   "metadata": {},
   "outputs": [
    {
     "data": {
      "text/html": [
       "<div>\n",
       "<style scoped>\n",
       "    .dataframe tbody tr th:only-of-type {\n",
       "        vertical-align: middle;\n",
       "    }\n",
       "\n",
       "    .dataframe tbody tr th {\n",
       "        vertical-align: top;\n",
       "    }\n",
       "\n",
       "    .dataframe thead th {\n",
       "        text-align: right;\n",
       "    }\n",
       "</style>\n",
       "<table border=\"1\" class=\"dataframe\">\n",
       "  <thead>\n",
       "    <tr style=\"text-align: right;\">\n",
       "      <th></th>\n",
       "      <th>val_real</th>\n",
       "    </tr>\n",
       "  </thead>\n",
       "  <tbody>\n",
       "    <tr>\n",
       "      <th>count</th>\n",
       "      <td>2956.00</td>\n",
       "    </tr>\n",
       "    <tr>\n",
       "      <th>mean</th>\n",
       "      <td>8594.33</td>\n",
       "    </tr>\n",
       "    <tr>\n",
       "      <th>std</th>\n",
       "      <td>13961.94</td>\n",
       "    </tr>\n",
       "    <tr>\n",
       "      <th>min</th>\n",
       "      <td>-14160.00</td>\n",
       "    </tr>\n",
       "    <tr>\n",
       "      <th>25%</th>\n",
       "      <td>0.00</td>\n",
       "    </tr>\n",
       "    <tr>\n",
       "      <th>50%</th>\n",
       "      <td>2101.50</td>\n",
       "    </tr>\n",
       "    <tr>\n",
       "      <th>75%</th>\n",
       "      <td>11986.50</td>\n",
       "    </tr>\n",
       "    <tr>\n",
       "      <th>max</th>\n",
       "      <td>134045.00</td>\n",
       "    </tr>\n",
       "  </tbody>\n",
       "</table>\n",
       "</div>"
      ],
      "text/plain": [
       "        val_real\n",
       "count    2956.00\n",
       "mean     8594.33\n",
       "std     13961.94\n",
       "min    -14160.00\n",
       "25%         0.00\n",
       "50%      2101.50\n",
       "75%     11986.50\n",
       "max    134045.00"
      ]
     },
     "execution_count": 130,
     "metadata": {},
     "output_type": "execute_result"
    }
   ],
   "source": [
    "pd.DataFrame(y_val.values.astype(int), columns=['val_real']).describe().round(2)"
   ]
  },
  {
   "cell_type": "code",
   "execution_count": 131,
   "id": "7d4b1873-49ca-4a11-92df-e8063e53ff03",
   "metadata": {},
   "outputs": [
    {
     "data": {
      "text/html": [
       "<div>\n",
       "<style scoped>\n",
       "    .dataframe tbody tr th:only-of-type {\n",
       "        vertical-align: middle;\n",
       "    }\n",
       "\n",
       "    .dataframe tbody tr th {\n",
       "        vertical-align: top;\n",
       "    }\n",
       "\n",
       "    .dataframe thead th {\n",
       "        text-align: right;\n",
       "    }\n",
       "</style>\n",
       "<table border=\"1\" class=\"dataframe\">\n",
       "  <thead>\n",
       "    <tr style=\"text-align: right;\">\n",
       "      <th></th>\n",
       "      <th>val_pred</th>\n",
       "    </tr>\n",
       "  </thead>\n",
       "  <tbody>\n",
       "    <tr>\n",
       "      <th>count</th>\n",
       "      <td>2956.00</td>\n",
       "    </tr>\n",
       "    <tr>\n",
       "      <th>mean</th>\n",
       "      <td>8891.08</td>\n",
       "    </tr>\n",
       "    <tr>\n",
       "      <th>std</th>\n",
       "      <td>9535.82</td>\n",
       "    </tr>\n",
       "    <tr>\n",
       "      <th>min</th>\n",
       "      <td>-320.69</td>\n",
       "    </tr>\n",
       "    <tr>\n",
       "      <th>25%</th>\n",
       "      <td>775.76</td>\n",
       "    </tr>\n",
       "    <tr>\n",
       "      <th>50%</th>\n",
       "      <td>5702.75</td>\n",
       "    </tr>\n",
       "    <tr>\n",
       "      <th>75%</th>\n",
       "      <td>14757.29</td>\n",
       "    </tr>\n",
       "    <tr>\n",
       "      <th>max</th>\n",
       "      <td>38663.13</td>\n",
       "    </tr>\n",
       "  </tbody>\n",
       "</table>\n",
       "</div>"
      ],
      "text/plain": [
       "       val_pred\n",
       "count   2956.00\n",
       "mean    8891.08\n",
       "std     9535.82\n",
       "min     -320.69\n",
       "25%      775.76\n",
       "50%     5702.75\n",
       "75%    14757.29\n",
       "max    38663.13"
      ]
     },
     "execution_count": 131,
     "metadata": {},
     "output_type": "execute_result"
    }
   ],
   "source": [
    "pd.DataFrame(y_valid_pred, columns=['val_pred']).describe().round(2)"
   ]
  },
  {
   "cell_type": "markdown",
   "id": "242e6231-1e33-40bd-9b25-76d113fbcbde",
   "metadata": {},
   "source": [
    "### GaussianProcessRegressor - Conclusiones \n",
    "\n",
    "Este modelo no fue funcional a nuestros datos, ya que la distribución de los mismos, no se corresponde con un grupo de Gaussianas."
   ]
  },
  {
   "cell_type": "markdown",
   "id": "de519edf-a6cb-4e92-8998-101ff4ab9fab",
   "metadata": {},
   "source": [
    "---"
   ]
  },
  {
   "cell_type": "markdown",
   "id": "64e2e60e-2e86-4049-bdc3-3182287cc8bb",
   "metadata": {},
   "source": [
    "## XGBRegressor - Default"
   ]
  },
  {
   "cell_type": "code",
   "execution_count": 133,
   "id": "db7c8324-c1c8-4ea3-a0e4-77d1a8a642ce",
   "metadata": {},
   "outputs": [],
   "source": [
    "# Preproceso 1 para XGBRegressor - Default\n",
    "df = df_mes.copy()\n",
    "scaler = MinMaxScaler()\n",
    "ft_selector = RandomForestRegressor(random_state=0)\n",
    "model_ = XGBRegressor(random_state=0, verbosity=1)\n",
    "\n",
    "# Train and validation\n",
    "X_train, X_val, y_train, y_val = train_test_split(X, y, test_size=0.3, random_state=0, shuffle=True)"
   ]
  },
  {
   "cell_type": "markdown",
   "id": "f33f0e58-9f67-417e-ad70-844ec230c839",
   "metadata": {},
   "source": [
    "#### XGB - Preproceso y ajuste"
   ]
  },
  {
   "cell_type": "code",
   "execution_count": 136,
   "id": "c9530a8a-0bce-4a6b-9b6c-b7ebd575596d",
   "metadata": {},
   "outputs": [],
   "source": [
    "# Preprocessing\n",
    "num_transformer = scaler\n",
    "cat_transformer = 'passthrough'\n",
    "\n",
    "preprocessor = ColumnTransformer(\n",
    "    transformers=[\n",
    "        ('num', num_transformer, num_features),\n",
    "        ('cat', cat_transformer, cat_features)])\n",
    "\n",
    "# Fit\n",
    "model = Pipeline([\n",
    "  ('preprocessor', preprocessor),\n",
    "  ('feature_selection', SelectFromModel(ft_selector)),\n",
    "  ('regressor', model_)\n",
    "])\n",
    "\n",
    "model.fit(X_train, y_train)\n",
    "xgb = model\n",
    "\n",
    "# Predict\n",
    "y_train_pred = model.predict(X_train)\n",
    "y_valid_pred = model.predict(X_val)"
   ]
  },
  {
   "cell_type": "markdown",
   "id": "ab402581-745a-4100-9299-98252734481b",
   "metadata": {},
   "source": [
    "#### XGB - Evaluacion de predicciones"
   ]
  },
  {
   "cell_type": "code",
   "execution_count": 137,
   "id": "ce6dd9d6-b58c-4d2e-aafe-2f7b357e829c",
   "metadata": {
    "tags": []
   },
   "outputs": [
    {
     "name": "stdout",
     "output_type": "stream",
     "text": [
      "Train error 18314347, Valid error 92441015\n"
     ]
    }
   ],
   "source": [
    "# evaluate MSE:\n",
    "train_error_mse = int(mean_squared_error(y_train, y_train_pred))\n",
    "val_error_mse = int(mean_squared_error(y_val, y_valid_pred))\n",
    "print(f'Train error {train_error_mse}, Valid error {val_error_mse}')  "
   ]
  },
  {
   "cell_type": "code",
   "execution_count": 138,
   "id": "2e70af55-b211-448a-9192-86b4f5574c72",
   "metadata": {
    "tags": []
   },
   "outputs": [
    {
     "name": "stdout",
     "output_type": "stream",
     "text": [
      "Train error RMSE 4279, Valid error RMSE 9615\n"
     ]
    }
   ],
   "source": [
    "# evaluate RMSE:\n",
    "train_error_rmse = int(np.sqrt(mean_squared_error(y_train, y_train_pred)))\n",
    "val_error_rmse = int(np.sqrt(mean_squared_error(y_val, y_valid_pred)).round(0))\n",
    "print(f'Train error RMSE {train_error_rmse}, Valid error RMSE {val_error_rmse}')  "
   ]
  },
  {
   "cell_type": "code",
   "execution_count": 139,
   "id": "1d27cc0a-cce7-43a4-9f03-c5838edf0fd7",
   "metadata": {
    "tags": []
   },
   "outputs": [
    {
     "name": "stdout",
     "output_type": "stream",
     "text": [
      "Train error MAE 2342, Valid error MAE 4970\n"
     ]
    }
   ],
   "source": [
    "# evaluate MAE:\n",
    "train_error_mae = int(mean_absolute_error(y_train, y_train_pred).round(0))\n",
    "val_error_mae = int(mean_absolute_error(y_val, y_valid_pred).round(0))\n",
    "print(f'Train error MAE {train_error_mae}, Valid error MAE {val_error_mae}')  "
   ]
  },
  {
   "cell_type": "markdown",
   "id": "cd22dc0f-23b6-445b-b59c-63f76674e955",
   "metadata": {
    "tags": []
   },
   "source": [
    "Cargamos matriz de resultados"
   ]
  },
  {
   "cell_type": "code",
   "execution_count": 140,
   "id": "386bed17-4a43-47da-95d4-eca3cc3f025a",
   "metadata": {
    "tags": []
   },
   "outputs": [],
   "source": [
    "results['XGB'] = [train_error_mse,val_error_mse, train_error_rmse, val_error_rmse, train_error_mae, val_error_mae]"
   ]
  },
  {
   "cell_type": "markdown",
   "id": "df15acb0-401d-47ff-9fbd-dcd7ae6d9506",
   "metadata": {
    "tags": []
   },
   "source": [
    "Visualizamos nuestra variable target (real y predicción)"
   ]
  },
  {
   "cell_type": "code",
   "execution_count": 141,
   "id": "fe26d948-48d4-49f1-b871-311703fe3325",
   "metadata": {},
   "outputs": [
    {
     "data": {
      "text/html": [
       "<div>\n",
       "<style scoped>\n",
       "    .dataframe tbody tr th:only-of-type {\n",
       "        vertical-align: middle;\n",
       "    }\n",
       "\n",
       "    .dataframe tbody tr th {\n",
       "        vertical-align: top;\n",
       "    }\n",
       "\n",
       "    .dataframe thead th {\n",
       "        text-align: right;\n",
       "    }\n",
       "</style>\n",
       "<table border=\"1\" class=\"dataframe\">\n",
       "  <thead>\n",
       "    <tr style=\"text-align: right;\">\n",
       "      <th></th>\n",
       "      <th>val_real</th>\n",
       "    </tr>\n",
       "  </thead>\n",
       "  <tbody>\n",
       "    <tr>\n",
       "      <th>count</th>\n",
       "      <td>2956.00</td>\n",
       "    </tr>\n",
       "    <tr>\n",
       "      <th>mean</th>\n",
       "      <td>9076.82</td>\n",
       "    </tr>\n",
       "    <tr>\n",
       "      <th>std</th>\n",
       "      <td>14443.45</td>\n",
       "    </tr>\n",
       "    <tr>\n",
       "      <th>min</th>\n",
       "      <td>-10944.00</td>\n",
       "    </tr>\n",
       "    <tr>\n",
       "      <th>25%</th>\n",
       "      <td>0.00</td>\n",
       "    </tr>\n",
       "    <tr>\n",
       "      <th>50%</th>\n",
       "      <td>2635.50</td>\n",
       "    </tr>\n",
       "    <tr>\n",
       "      <th>75%</th>\n",
       "      <td>12734.50</td>\n",
       "    </tr>\n",
       "    <tr>\n",
       "      <th>max</th>\n",
       "      <td>134045.00</td>\n",
       "    </tr>\n",
       "  </tbody>\n",
       "</table>\n",
       "</div>"
      ],
      "text/plain": [
       "        val_real\n",
       "count    2956.00\n",
       "mean     9076.82\n",
       "std     14443.45\n",
       "min    -10944.00\n",
       "25%         0.00\n",
       "50%      2635.50\n",
       "75%     12734.50\n",
       "max    134045.00"
      ]
     },
     "execution_count": 141,
     "metadata": {},
     "output_type": "execute_result"
    }
   ],
   "source": [
    "pd.DataFrame(y_val.values.astype(int), columns=['val_real']).describe().round(2)"
   ]
  },
  {
   "cell_type": "code",
   "execution_count": 142,
   "id": "cc91b679-8864-47ee-ae99-fe0517002953",
   "metadata": {},
   "outputs": [
    {
     "data": {
      "text/html": [
       "<div>\n",
       "<style scoped>\n",
       "    .dataframe tbody tr th:only-of-type {\n",
       "        vertical-align: middle;\n",
       "    }\n",
       "\n",
       "    .dataframe tbody tr th {\n",
       "        vertical-align: top;\n",
       "    }\n",
       "\n",
       "    .dataframe thead th {\n",
       "        text-align: right;\n",
       "    }\n",
       "</style>\n",
       "<table border=\"1\" class=\"dataframe\">\n",
       "  <thead>\n",
       "    <tr style=\"text-align: right;\">\n",
       "      <th></th>\n",
       "      <th>val_pred</th>\n",
       "    </tr>\n",
       "  </thead>\n",
       "  <tbody>\n",
       "    <tr>\n",
       "      <th>count</th>\n",
       "      <td>2956.00</td>\n",
       "    </tr>\n",
       "    <tr>\n",
       "      <th>mean</th>\n",
       "      <td>8754.52</td>\n",
       "    </tr>\n",
       "    <tr>\n",
       "      <th>std</th>\n",
       "      <td>10908.42</td>\n",
       "    </tr>\n",
       "    <tr>\n",
       "      <th>min</th>\n",
       "      <td>-6066.99</td>\n",
       "    </tr>\n",
       "    <tr>\n",
       "      <th>25%</th>\n",
       "      <td>136.11</td>\n",
       "    </tr>\n",
       "    <tr>\n",
       "      <th>50%</th>\n",
       "      <td>5363.22</td>\n",
       "    </tr>\n",
       "    <tr>\n",
       "      <th>75%</th>\n",
       "      <td>13843.10</td>\n",
       "    </tr>\n",
       "    <tr>\n",
       "      <th>max</th>\n",
       "      <td>78768.10</td>\n",
       "    </tr>\n",
       "  </tbody>\n",
       "</table>\n",
       "</div>"
      ],
      "text/plain": [
       "       val_pred\n",
       "count   2956.00\n",
       "mean    8754.52\n",
       "std    10908.42\n",
       "min    -6066.99\n",
       "25%      136.11\n",
       "50%     5363.22\n",
       "75%    13843.10\n",
       "max    78768.10"
      ]
     },
     "execution_count": 142,
     "metadata": {},
     "output_type": "execute_result"
    }
   ],
   "source": [
    "pd.DataFrame(y_valid_pred, columns=['val_pred']).describe().round(2)"
   ]
  },
  {
   "cell_type": "markdown",
   "id": "2c131c49-cec2-43e7-bdc3-fe2982d753de",
   "metadata": {},
   "source": [
    "## XGBRegressor - Grid Search"
   ]
  },
  {
   "cell_type": "code",
   "execution_count": 29,
   "id": "2c02666d-f2ca-4261-9a50-b7892f6ce74c",
   "metadata": {},
   "outputs": [],
   "source": [
    "# Preproceso 1 para KNeighborsRegressor - GridSearch\n",
    "df = df_mes.copy()\n",
    "scaler = MinMaxScaler()\n",
    "model_ = XGBRegressor(random_state=0)#, booster='gbtree')"
   ]
  },
  {
   "cell_type": "markdown",
   "id": "6a5d8233-c8ff-4267-97a8-44e81a783aa1",
   "metadata": {
    "tags": []
   },
   "source": [
    "La combinacion de hiperparametros es mas densa en este modelo porque fue el que mejor resultados dio en cuanto a RMSE"
   ]
  },
  {
   "cell_type": "code",
   "execution_count": 30,
   "id": "f7260279-60c6-4332-953a-81276d1971d2",
   "metadata": {},
   "outputs": [],
   "source": [
    "param_grid = {'regressor__n_estimators': [90,100,110],\n",
    "              'regressor__max_depth': [0, 5, 10],\n",
    "              'regressor__eta': [0.15, 0.1, 0.08],\n",
    "              'regressor__subsample': [0.6,0.4],\n",
    "              'regressor__colsample_bytree': [0.3, 0.5],\n",
    "              'regressor__booster' : ['gbtree', 'dart']}\n",
    "\n",
    "# Train and validation\n",
    "X_train, X_val, y_train, y_val = train_test_split(X, y, test_size=0.3, random_state=0, shuffle=False)"
   ]
  },
  {
   "cell_type": "markdown",
   "id": "e3973750-cb4b-4ae8-bc4d-e49ae388858b",
   "metadata": {},
   "source": [
    "#### XGB(GSCV) - Preproceso y ajuste"
   ]
  },
  {
   "cell_type": "code",
   "execution_count": 31,
   "id": "60f22f92-c309-44ab-abca-b1413906532c",
   "metadata": {
    "tags": []
   },
   "outputs": [
    {
     "name": "stdout",
     "output_type": "stream",
     "text": [
      "Fitting 5 folds for each of 216 candidates, totalling 1080 fits\n"
     ]
    }
   ],
   "source": [
    "# Preprocessing\n",
    "num_transformer = scaler\n",
    "cat_transformer = 'passthrough'\n",
    "\n",
    "preprocessor = ColumnTransformer(\n",
    "    transformers=[\n",
    "        ('num', num_transformer, num_features),\n",
    "        ('cat', cat_transformer, cat_features)])\n",
    "\n",
    "# Fit\n",
    "pipe = Pipeline([\n",
    "  ('preprocessor', preprocessor),\n",
    "#  ('feature_selection', SelectFromModel(ft_selector)),\n",
    "  ('regressor', model_)\n",
    "])\n",
    "\n",
    "model = GridSearchCV(pipe, param_grid, scoring='neg_mean_squared_error',cv=5, verbose=1)\n",
    "\n",
    "model.fit(X_train, y_train)\n",
    "xgb_cv = model"
   ]
  },
  {
   "cell_type": "code",
   "execution_count": 32,
   "id": "f693d8c7-70c0-4851-8489-f546a75ef162",
   "metadata": {},
   "outputs": [
    {
     "data": {
      "text/plain": [
       "{'regressor__booster': 'dart',\n",
       " 'regressor__colsample_bytree': 0.3,\n",
       " 'regressor__eta': 0.08,\n",
       " 'regressor__max_depth': 5,\n",
       " 'regressor__n_estimators': 90,\n",
       " 'regressor__subsample': 0.4}"
      ]
     },
     "execution_count": 32,
     "metadata": {},
     "output_type": "execute_result"
    }
   ],
   "source": [
    "model.best_params_"
   ]
  },
  {
   "cell_type": "code",
   "execution_count": 33,
   "id": "243529d1-616f-4962-a5ca-eee19a1bf9ea",
   "metadata": {},
   "outputs": [],
   "source": [
    "# Predict\n",
    "y_train_pred = model.predict(X_train)\n",
    "y_valid_pred = model.predict(X_val)"
   ]
  },
  {
   "cell_type": "markdown",
   "id": "b8ff9b64-fba7-4a51-bef8-5737fd1822a0",
   "metadata": {},
   "source": [
    "#### XGB(GSCV) - Evaluacion de predicciones"
   ]
  },
  {
   "cell_type": "code",
   "execution_count": 34,
   "id": "07cae884-642f-43af-abcc-b231a242d7cc",
   "metadata": {
    "tags": []
   },
   "outputs": [
    {
     "name": "stdout",
     "output_type": "stream",
     "text": [
      "Train error 51265239, Valid error 90217927\n"
     ]
    }
   ],
   "source": [
    "# evaluate MSE:\n",
    "train_error_mse = int(mean_squared_error(y_train, y_train_pred))\n",
    "val_error_mse = int(mean_squared_error(y_val, y_valid_pred))\n",
    "print(f'Train error {train_error_mse}, Valid error {val_error_mse}')  "
   ]
  },
  {
   "cell_type": "code",
   "execution_count": 35,
   "id": "8aa7f56a-5c12-482e-a507-f612890db360",
   "metadata": {
    "tags": []
   },
   "outputs": [
    {
     "name": "stdout",
     "output_type": "stream",
     "text": [
      "Train error RMSE 7159, Valid error RMSE 9498\n"
     ]
    }
   ],
   "source": [
    "# evaluate RMSE:\n",
    "train_error_rmse = int(np.sqrt(mean_squared_error(y_train, y_train_pred)))\n",
    "val_error_rmse = int(np.sqrt(mean_squared_error(y_val, y_valid_pred)).round(0))\n",
    "print(f'Train error RMSE {train_error_rmse}, Valid error RMSE {val_error_rmse}')  "
   ]
  },
  {
   "cell_type": "code",
   "execution_count": 36,
   "id": "604cb0fd-e073-47ee-8df1-23e4444f463c",
   "metadata": {
    "tags": []
   },
   "outputs": [
    {
     "name": "stdout",
     "output_type": "stream",
     "text": [
      "Train error MAE 4016, Valid error MAE 5102\n"
     ]
    }
   ],
   "source": [
    "# evaluate MAE:\n",
    "train_error_mae = int(mean_absolute_error(y_train, y_train_pred).round(0))\n",
    "val_error_mae = int(mean_absolute_error(y_val, y_valid_pred).round(0))\n",
    "print(f'Train error MAE {train_error_mae}, Valid error MAE {val_error_mae}')  "
   ]
  },
  {
   "cell_type": "markdown",
   "id": "ab2ad19b-19ea-401b-b78a-aeef4741bba9",
   "metadata": {
    "tags": []
   },
   "source": [
    "Cargamos matriz de resultados"
   ]
  },
  {
   "cell_type": "code",
   "execution_count": 37,
   "id": "2b1b63b8-aa08-40c3-bd6c-718ecfb4aac6",
   "metadata": {
    "tags": []
   },
   "outputs": [],
   "source": [
    "results['XGB - GSCV'] = [train_error_mse,val_error_mse, train_error_rmse, val_error_rmse, train_error_mae, val_error_mae]"
   ]
  },
  {
   "cell_type": "markdown",
   "id": "7e791b04-8bbc-4483-bdea-bf77b5ca06cb",
   "metadata": {
    "tags": []
   },
   "source": [
    "Visualizamos nuestra variable target (real y predicción)"
   ]
  },
  {
   "cell_type": "code",
   "execution_count": 154,
   "id": "d300f36c-060c-4960-a750-8410424d62fb",
   "metadata": {},
   "outputs": [
    {
     "data": {
      "text/html": [
       "<div>\n",
       "<style scoped>\n",
       "    .dataframe tbody tr th:only-of-type {\n",
       "        vertical-align: middle;\n",
       "    }\n",
       "\n",
       "    .dataframe tbody tr th {\n",
       "        vertical-align: top;\n",
       "    }\n",
       "\n",
       "    .dataframe thead th {\n",
       "        text-align: right;\n",
       "    }\n",
       "</style>\n",
       "<table border=\"1\" class=\"dataframe\">\n",
       "  <thead>\n",
       "    <tr style=\"text-align: right;\">\n",
       "      <th></th>\n",
       "      <th>val_real</th>\n",
       "    </tr>\n",
       "  </thead>\n",
       "  <tbody>\n",
       "    <tr>\n",
       "      <th>count</th>\n",
       "      <td>2956.00</td>\n",
       "    </tr>\n",
       "    <tr>\n",
       "      <th>mean</th>\n",
       "      <td>8594.33</td>\n",
       "    </tr>\n",
       "    <tr>\n",
       "      <th>std</th>\n",
       "      <td>13961.94</td>\n",
       "    </tr>\n",
       "    <tr>\n",
       "      <th>min</th>\n",
       "      <td>-14160.00</td>\n",
       "    </tr>\n",
       "    <tr>\n",
       "      <th>25%</th>\n",
       "      <td>0.00</td>\n",
       "    </tr>\n",
       "    <tr>\n",
       "      <th>50%</th>\n",
       "      <td>2101.50</td>\n",
       "    </tr>\n",
       "    <tr>\n",
       "      <th>75%</th>\n",
       "      <td>11986.50</td>\n",
       "    </tr>\n",
       "    <tr>\n",
       "      <th>max</th>\n",
       "      <td>134045.00</td>\n",
       "    </tr>\n",
       "  </tbody>\n",
       "</table>\n",
       "</div>"
      ],
      "text/plain": [
       "        val_real\n",
       "count    2956.00\n",
       "mean     8594.33\n",
       "std     13961.94\n",
       "min    -14160.00\n",
       "25%         0.00\n",
       "50%      2101.50\n",
       "75%     11986.50\n",
       "max    134045.00"
      ]
     },
     "execution_count": 154,
     "metadata": {},
     "output_type": "execute_result"
    }
   ],
   "source": [
    "pd.DataFrame(y_val.values.astype(int), columns=['val_real']).describe().round(2)"
   ]
  },
  {
   "cell_type": "code",
   "execution_count": 155,
   "id": "84bcf1d8-a659-437b-a08f-25c9e9831047",
   "metadata": {},
   "outputs": [
    {
     "data": {
      "text/html": [
       "<div>\n",
       "<style scoped>\n",
       "    .dataframe tbody tr th:only-of-type {\n",
       "        vertical-align: middle;\n",
       "    }\n",
       "\n",
       "    .dataframe tbody tr th {\n",
       "        vertical-align: top;\n",
       "    }\n",
       "\n",
       "    .dataframe thead th {\n",
       "        text-align: right;\n",
       "    }\n",
       "</style>\n",
       "<table border=\"1\" class=\"dataframe\">\n",
       "  <thead>\n",
       "    <tr style=\"text-align: right;\">\n",
       "      <th></th>\n",
       "      <th>val_pred</th>\n",
       "    </tr>\n",
       "  </thead>\n",
       "  <tbody>\n",
       "    <tr>\n",
       "      <th>count</th>\n",
       "      <td>2956.00</td>\n",
       "    </tr>\n",
       "    <tr>\n",
       "      <th>mean</th>\n",
       "      <td>8842.05</td>\n",
       "    </tr>\n",
       "    <tr>\n",
       "      <th>std</th>\n",
       "      <td>10556.15</td>\n",
       "    </tr>\n",
       "    <tr>\n",
       "      <th>min</th>\n",
       "      <td>-682.30</td>\n",
       "    </tr>\n",
       "    <tr>\n",
       "      <th>25%</th>\n",
       "      <td>79.45</td>\n",
       "    </tr>\n",
       "    <tr>\n",
       "      <th>50%</th>\n",
       "      <td>5522.62</td>\n",
       "    </tr>\n",
       "    <tr>\n",
       "      <th>75%</th>\n",
       "      <td>14288.11</td>\n",
       "    </tr>\n",
       "    <tr>\n",
       "      <th>max</th>\n",
       "      <td>58420.04</td>\n",
       "    </tr>\n",
       "  </tbody>\n",
       "</table>\n",
       "</div>"
      ],
      "text/plain": [
       "       val_pred\n",
       "count   2956.00\n",
       "mean    8842.05\n",
       "std    10556.15\n",
       "min     -682.30\n",
       "25%       79.45\n",
       "50%     5522.62\n",
       "75%    14288.11\n",
       "max    58420.04"
      ]
     },
     "execution_count": 155,
     "metadata": {},
     "output_type": "execute_result"
    }
   ],
   "source": [
    "pd.DataFrame(y_valid_pred, columns=['val_pred']).describe().round(2)"
   ]
  },
  {
   "cell_type": "markdown",
   "id": "6a8b989c-3789-4e87-b3c8-f91b42be1322",
   "metadata": {},
   "source": [
    "### XGBRegressor - Conclusiones \n",
    "\n",
    "Este modelo presentó los mejores resultados. Esto puede deberse a que es un algorítmo basado en árboles de decisión y optimizado por un peso que se le otorga en los errores. Como nuestros datos no tienen una distribución conocida, este modelo logró captar mejor el comportamiento."
   ]
  },
  {
   "cell_type": "markdown",
   "id": "25bd263b-087d-4fa0-9236-ecb6227f09a2",
   "metadata": {},
   "source": [
    "---"
   ]
  },
  {
   "cell_type": "markdown",
   "id": "b27f8041-a522-4cda-b5df-f3b5c08b9b18",
   "metadata": {},
   "source": [
    "## VotingRegressor"
   ]
  },
  {
   "cell_type": "markdown",
   "id": "ae05fd8f-184b-4072-bb3c-cb364f959da9",
   "metadata": {},
   "source": [
    "Este modelo se basa en otros modelos para predecir los resultados. En este caso vamos a usar aquellos que tienen menor error, ya que realizando algunas pruebas con todos los modelos instanciados anteriormente,  no se obtenian mejores resultados. \n",
    "\n",
    "A continuación, visualizamos la tabla de resultados de errores hasta el momento."
   ]
  },
  {
   "cell_type": "code",
   "execution_count": 156,
   "id": "d8204e84-d792-4f7f-a270-e612c84e1d30",
   "metadata": {},
   "outputs": [
    {
     "data": {
      "text/html": [
       "<div>\n",
       "<style scoped>\n",
       "    .dataframe tbody tr th:only-of-type {\n",
       "        vertical-align: middle;\n",
       "    }\n",
       "\n",
       "    .dataframe tbody tr th {\n",
       "        vertical-align: top;\n",
       "    }\n",
       "\n",
       "    .dataframe thead th {\n",
       "        text-align: right;\n",
       "    }\n",
       "</style>\n",
       "<table border=\"1\" class=\"dataframe\">\n",
       "  <thead>\n",
       "    <tr style=\"text-align: right;\">\n",
       "      <th></th>\n",
       "      <th>LinearSVR</th>\n",
       "      <th>LinearSVR - GSCV</th>\n",
       "      <th>SGD</th>\n",
       "      <th>SGD - GSCV</th>\n",
       "      <th>KNN</th>\n",
       "      <th>KNN - GSCV</th>\n",
       "      <th>GPR</th>\n",
       "      <th>GPR - GSCV</th>\n",
       "      <th>XGB</th>\n",
       "      <th>XGB - GSCV</th>\n",
       "    </tr>\n",
       "  </thead>\n",
       "  <tbody>\n",
       "    <tr>\n",
       "      <th>MSE Train</th>\n",
       "      <td>325331854</td>\n",
       "      <td>113904255</td>\n",
       "      <td>128674107</td>\n",
       "      <td>114076637</td>\n",
       "      <td>86980638</td>\n",
       "      <td>9</td>\n",
       "      <td>265</td>\n",
       "      <td>821351</td>\n",
       "      <td>18314347</td>\n",
       "      <td>46464133</td>\n",
       "    </tr>\n",
       "    <tr>\n",
       "      <th>MSE Valid</th>\n",
       "      <td>264308481</td>\n",
       "      <td>91651314</td>\n",
       "      <td>104776825</td>\n",
       "      <td>92266135</td>\n",
       "      <td>119910815</td>\n",
       "      <td>99696987</td>\n",
       "      <td>45522333100</td>\n",
       "      <td>93462569</td>\n",
       "      <td>92441015</td>\n",
       "      <td>90732706</td>\n",
       "    </tr>\n",
       "    <tr>\n",
       "      <th>RMSE Train</th>\n",
       "      <td>18036</td>\n",
       "      <td>10672</td>\n",
       "      <td>11343</td>\n",
       "      <td>10680</td>\n",
       "      <td>9326</td>\n",
       "      <td>3</td>\n",
       "      <td>16</td>\n",
       "      <td>906</td>\n",
       "      <td>4279</td>\n",
       "      <td>6816</td>\n",
       "    </tr>\n",
       "    <tr>\n",
       "      <th>RMSE Valid</th>\n",
       "      <td>16258</td>\n",
       "      <td>9573</td>\n",
       "      <td>10236</td>\n",
       "      <td>9606</td>\n",
       "      <td>10950</td>\n",
       "      <td>9985</td>\n",
       "      <td>213360</td>\n",
       "      <td>9668</td>\n",
       "      <td>9615</td>\n",
       "      <td>9525</td>\n",
       "    </tr>\n",
       "    <tr>\n",
       "      <th>MAE Train</th>\n",
       "      <td>10862</td>\n",
       "      <td>6736</td>\n",
       "      <td>7395</td>\n",
       "      <td>6842</td>\n",
       "      <td>5721</td>\n",
       "      <td>0</td>\n",
       "      <td>1</td>\n",
       "      <td>490</td>\n",
       "      <td>2342</td>\n",
       "      <td>3771</td>\n",
       "    </tr>\n",
       "    <tr>\n",
       "      <th>MAE Valid</th>\n",
       "      <td>10022</td>\n",
       "      <td>6321</td>\n",
       "      <td>6948</td>\n",
       "      <td>6437</td>\n",
       "      <td>7241</td>\n",
       "      <td>6382</td>\n",
       "      <td>52790</td>\n",
       "      <td>5284</td>\n",
       "      <td>4970</td>\n",
       "      <td>5033</td>\n",
       "    </tr>\n",
       "  </tbody>\n",
       "</table>\n",
       "</div>"
      ],
      "text/plain": [
       "            LinearSVR  LinearSVR - GSCV        SGD  SGD - GSCV        KNN  \\\n",
       "MSE Train   325331854         113904255  128674107   114076637   86980638   \n",
       "MSE Valid   264308481          91651314  104776825    92266135  119910815   \n",
       "RMSE Train      18036             10672      11343       10680       9326   \n",
       "RMSE Valid      16258              9573      10236        9606      10950   \n",
       "MAE Train       10862              6736       7395        6842       5721   \n",
       "MAE Valid       10022              6321       6948        6437       7241   \n",
       "\n",
       "            KNN - GSCV          GPR  GPR - GSCV       XGB  XGB - GSCV  \n",
       "MSE Train            9          265      821351  18314347    46464133  \n",
       "MSE Valid     99696987  45522333100    93462569  92441015    90732706  \n",
       "RMSE Train           3           16         906      4279        6816  \n",
       "RMSE Valid        9985       213360        9668      9615        9525  \n",
       "MAE Train            0            1         490      2342        3771  \n",
       "MAE Valid         6382        52790        5284      4970        5033  "
      ]
     },
     "execution_count": 156,
     "metadata": {},
     "output_type": "execute_result"
    }
   ],
   "source": [
    "results"
   ]
  },
  {
   "cell_type": "code",
   "execution_count": 50,
   "id": "277879da-8046-4334-8d7a-151bbc8fa1fd",
   "metadata": {},
   "outputs": [],
   "source": [
    "# Entrenamos con SVR, SGD y XGB\n",
    "\n",
    "df = df_mes.copy()\n",
    "scaler = MinMaxScaler()\n",
    "model_ = VotingRegressor([('svr_cv', svr_cv.best_estimator_['regressor']),\n",
    "                          ('sgd_cv', sgd_cv.best_estimator_['regressor']),\n",
    "                          ('xgb_cv', xgb_cv.best_estimator_['regressor'])], verbose=True)"
   ]
  },
  {
   "cell_type": "code",
   "execution_count": 51,
   "id": "b8a1e67f-0378-424f-9090-4f36e7472b18",
   "metadata": {},
   "outputs": [],
   "source": [
    "# Train and validation\n",
    "X_train, X_val, y_train, y_val = train_test_split(X, y, test_size=0.3, random_state=0, shuffle=False)"
   ]
  },
  {
   "cell_type": "markdown",
   "id": "d0ee4d68-b6f1-4dc2-88fa-2f03b053a6fe",
   "metadata": {},
   "source": [
    "#### Preproceso y ajuste"
   ]
  },
  {
   "cell_type": "code",
   "execution_count": 52,
   "id": "c7ccad96-7479-4971-a207-0fb21e4858d6",
   "metadata": {},
   "outputs": [],
   "source": [
    "# Preprocessing\n",
    "num_transformer = scaler\n",
    "cat_transformer = 'passthrough'\n",
    "\n",
    "preprocessor = ColumnTransformer(\n",
    "    transformers=[\n",
    "        ('num', num_transformer, num_features),\n",
    "        ('cat', cat_transformer, cat_features)])"
   ]
  },
  {
   "cell_type": "code",
   "execution_count": 53,
   "id": "e6309551-ecbd-45f4-8eef-f4a4c4095924",
   "metadata": {
    "tags": []
   },
   "outputs": [
    {
     "name": "stdout",
     "output_type": "stream",
     "text": [
      "[Voting] ................... (1 of 3) Processing svr_cv, total=   0.2s\n",
      "[Voting] ................... (2 of 3) Processing sgd_cv, total=   0.3s\n",
      "[Voting] ................... (3 of 3) Processing xgb_cv, total=   1.0s\n"
     ]
    },
    {
     "data": {
      "text/plain": [
       "Pipeline(steps=[('preprocessor',\n",
       "                 ColumnTransformer(transformers=[('num', MinMaxScaler(),\n",
       "                                                  ['client__edad',\n",
       "                                                   'client__antig',\n",
       "                                                   'trans__x0_AX',\n",
       "                                                   'trans__x0_EX',\n",
       "                                                   'trans__x0_MC',\n",
       "                                                   'trans__x0_PC',\n",
       "                                                   'trans__x0_PL',\n",
       "                                                   'trans__x0_PN',\n",
       "                                                   'trans__x0_PP',\n",
       "                                                   'trans__x0_TA',\n",
       "                                                   'trans__x0_VI',\n",
       "                                                   'trans__x0_ZE',\n",
       "                                                   'trans__x1_0',\n",
       "                                                   'trans__x1_22',\n",
       "                                                   'trans__x1_3',\n",
       "                                                   'trans__x1_32',\n",
       "                                                   'trans__x1_4',\n",
       "                                                   'trans__x1...\n",
       "                                                           importance_type='gain',\n",
       "                                                           interaction_constraints='',\n",
       "                                                           learning_rate=0.0799999982,\n",
       "                                                           max_delta_step=0,\n",
       "                                                           max_depth=5,\n",
       "                                                           min_child_weight=1,\n",
       "                                                           missing=nan,\n",
       "                                                           monotone_constraints='()',\n",
       "                                                           n_estimators=90,\n",
       "                                                           n_jobs=4,\n",
       "                                                           num_parallel_tree=1,\n",
       "                                                           random_state=0,\n",
       "                                                           reg_alpha=0,\n",
       "                                                           reg_lambda=1,\n",
       "                                                           scale_pos_weight=1,\n",
       "                                                           subsample=0.4,\n",
       "                                                           tree_method='exact',\n",
       "                                                           validate_parameters=1,\n",
       "                                                           verbosity=None))],\n",
       "                                 verbose=True))])"
      ]
     },
     "execution_count": 53,
     "metadata": {},
     "output_type": "execute_result"
    }
   ],
   "source": [
    "# Fit\n",
    "model_voting = Pipeline([\n",
    "  ('preprocessor', preprocessor),\n",
    "#  ('feature_selection', SelectFromModel(ft_selector)),\n",
    "  ('regressor', model_)\n",
    "])\n",
    "\n",
    "model_voting.fit(X_train, y_train)"
   ]
  },
  {
   "cell_type": "code",
   "execution_count": 54,
   "id": "96f00b97-b7ee-496c-b622-e9080a4dc73c",
   "metadata": {},
   "outputs": [],
   "source": [
    "# Predict\n",
    "y_train_pred = model_voting.predict(X_train)\n",
    "y_valid_pred = model_voting.predict(X_val)"
   ]
  },
  {
   "cell_type": "markdown",
   "id": "fce2a01a-a06d-44cb-8c2f-86ba5769df2d",
   "metadata": {},
   "source": [
    "#### Evaluacion de predicciones"
   ]
  },
  {
   "cell_type": "code",
   "execution_count": 55,
   "id": "e796491d-ca0d-40c9-8a8b-243199b3a8e2",
   "metadata": {
    "tags": []
   },
   "outputs": [
    {
     "name": "stdout",
     "output_type": "stream",
     "text": [
      "Train error 65697623, Valid error 89575177\n"
     ]
    }
   ],
   "source": [
    "# evaluate MSE:\n",
    "train_error_mse = int(mean_squared_error(y_train, y_train_pred))\n",
    "val_error_mse = int(mean_squared_error(y_val, y_valid_pred))\n",
    "print(f'Train error {train_error_mse}, Valid error {val_error_mse}')  "
   ]
  },
  {
   "cell_type": "code",
   "execution_count": 56,
   "id": "4a8bc59f-6d59-4db7-a993-8754fcb8658c",
   "metadata": {
    "tags": []
   },
   "outputs": [
    {
     "name": "stdout",
     "output_type": "stream",
     "text": [
      "Train error RMSE 8105, Valid error RMSE 9464\n"
     ]
    }
   ],
   "source": [
    "# evaluate RMSE:\n",
    "train_error_rmse = int(np.sqrt(mean_squared_error(y_train, y_train_pred)))\n",
    "val_error_rmse = int(np.sqrt(mean_squared_error(y_val, y_valid_pred)).round(0))\n",
    "print(f'Train error RMSE {train_error_rmse}, Valid error RMSE {val_error_rmse}')  "
   ]
  },
  {
   "cell_type": "code",
   "execution_count": 57,
   "id": "3334cf43-59a6-4a37-810d-228de4f88209",
   "metadata": {
    "tags": []
   },
   "outputs": [
    {
     "name": "stdout",
     "output_type": "stream",
     "text": [
      "Train error MAE 4609, Valid error MAE 5172\n"
     ]
    }
   ],
   "source": [
    "# evaluate MAE:\n",
    "train_error_mae = int(mean_absolute_error(y_train, y_train_pred).round(0))\n",
    "val_error_mae = int(mean_absolute_error(y_val, y_valid_pred).round(0))\n",
    "print(f'Train error MAE {train_error_mae}, Valid error MAE {val_error_mae}')  "
   ]
  },
  {
   "cell_type": "markdown",
   "id": "6584cec8-202a-4911-9282-963d76287c92",
   "metadata": {
    "tags": []
   },
   "source": [
    "Cargamos matriz de resultados"
   ]
  },
  {
   "cell_type": "code",
   "execution_count": 173,
   "id": "bf54e655-4f5d-401d-8b45-2f716377fa01",
   "metadata": {
    "tags": []
   },
   "outputs": [],
   "source": [
    "results['Voting'] = [train_error_mse,val_error_mse, train_error_rmse, val_error_rmse, train_error_mae, val_error_mae]"
   ]
  },
  {
   "cell_type": "markdown",
   "id": "6b75da91-871a-4910-9e9e-17f3005d8242",
   "metadata": {
    "tags": []
   },
   "source": [
    "Visualizamos nuestra variable target (real y predicción)"
   ]
  },
  {
   "cell_type": "code",
   "execution_count": 174,
   "id": "bcecd007-7655-4d6c-8991-c70b026b55bf",
   "metadata": {},
   "outputs": [
    {
     "data": {
      "text/html": [
       "<div>\n",
       "<style scoped>\n",
       "    .dataframe tbody tr th:only-of-type {\n",
       "        vertical-align: middle;\n",
       "    }\n",
       "\n",
       "    .dataframe tbody tr th {\n",
       "        vertical-align: top;\n",
       "    }\n",
       "\n",
       "    .dataframe thead th {\n",
       "        text-align: right;\n",
       "    }\n",
       "</style>\n",
       "<table border=\"1\" class=\"dataframe\">\n",
       "  <thead>\n",
       "    <tr style=\"text-align: right;\">\n",
       "      <th></th>\n",
       "      <th>val_real</th>\n",
       "    </tr>\n",
       "  </thead>\n",
       "  <tbody>\n",
       "    <tr>\n",
       "      <th>count</th>\n",
       "      <td>2956.00</td>\n",
       "    </tr>\n",
       "    <tr>\n",
       "      <th>mean</th>\n",
       "      <td>8594.33</td>\n",
       "    </tr>\n",
       "    <tr>\n",
       "      <th>std</th>\n",
       "      <td>13961.94</td>\n",
       "    </tr>\n",
       "    <tr>\n",
       "      <th>min</th>\n",
       "      <td>-14160.00</td>\n",
       "    </tr>\n",
       "    <tr>\n",
       "      <th>25%</th>\n",
       "      <td>0.00</td>\n",
       "    </tr>\n",
       "    <tr>\n",
       "      <th>50%</th>\n",
       "      <td>2101.50</td>\n",
       "    </tr>\n",
       "    <tr>\n",
       "      <th>75%</th>\n",
       "      <td>11986.50</td>\n",
       "    </tr>\n",
       "    <tr>\n",
       "      <th>max</th>\n",
       "      <td>134045.00</td>\n",
       "    </tr>\n",
       "  </tbody>\n",
       "</table>\n",
       "</div>"
      ],
      "text/plain": [
       "        val_real\n",
       "count    2956.00\n",
       "mean     8594.33\n",
       "std     13961.94\n",
       "min    -14160.00\n",
       "25%         0.00\n",
       "50%      2101.50\n",
       "75%     11986.50\n",
       "max    134045.00"
      ]
     },
     "execution_count": 174,
     "metadata": {},
     "output_type": "execute_result"
    }
   ],
   "source": [
    "pd.DataFrame(y_val.values.astype(int), columns=['val_real']).describe().round(2)"
   ]
  },
  {
   "cell_type": "code",
   "execution_count": 175,
   "id": "df2d4fb0-0a97-4ff0-95af-264f5b2ae016",
   "metadata": {},
   "outputs": [
    {
     "data": {
      "text/html": [
       "<div>\n",
       "<style scoped>\n",
       "    .dataframe tbody tr th:only-of-type {\n",
       "        vertical-align: middle;\n",
       "    }\n",
       "\n",
       "    .dataframe tbody tr th {\n",
       "        vertical-align: top;\n",
       "    }\n",
       "\n",
       "    .dataframe thead th {\n",
       "        text-align: right;\n",
       "    }\n",
       "</style>\n",
       "<table border=\"1\" class=\"dataframe\">\n",
       "  <thead>\n",
       "    <tr style=\"text-align: right;\">\n",
       "      <th></th>\n",
       "      <th>val_pred</th>\n",
       "    </tr>\n",
       "  </thead>\n",
       "  <tbody>\n",
       "    <tr>\n",
       "      <th>count</th>\n",
       "      <td>2956.00</td>\n",
       "    </tr>\n",
       "    <tr>\n",
       "      <th>mean</th>\n",
       "      <td>8573.81</td>\n",
       "    </tr>\n",
       "    <tr>\n",
       "      <th>std</th>\n",
       "      <td>10362.69</td>\n",
       "    </tr>\n",
       "    <tr>\n",
       "      <th>min</th>\n",
       "      <td>-1840.83</td>\n",
       "    </tr>\n",
       "    <tr>\n",
       "      <th>25%</th>\n",
       "      <td>659.52</td>\n",
       "    </tr>\n",
       "    <tr>\n",
       "      <th>50%</th>\n",
       "      <td>4722.20</td>\n",
       "    </tr>\n",
       "    <tr>\n",
       "      <th>75%</th>\n",
       "      <td>13361.66</td>\n",
       "    </tr>\n",
       "    <tr>\n",
       "      <th>max</th>\n",
       "      <td>74262.74</td>\n",
       "    </tr>\n",
       "  </tbody>\n",
       "</table>\n",
       "</div>"
      ],
      "text/plain": [
       "       val_pred\n",
       "count   2956.00\n",
       "mean    8573.81\n",
       "std    10362.69\n",
       "min    -1840.83\n",
       "25%      659.52\n",
       "50%     4722.20\n",
       "75%    13361.66\n",
       "max    74262.74"
      ]
     },
     "execution_count": 175,
     "metadata": {},
     "output_type": "execute_result"
    }
   ],
   "source": [
    "pd.DataFrame(y_valid_pred, columns=['val_pred']).describe().round(2)"
   ]
  },
  {
   "cell_type": "markdown",
   "id": "15884288-d0e1-492e-ba65-19eade1e3140",
   "metadata": {},
   "source": [
    "## Resultados para modelos de regresión"
   ]
  },
  {
   "cell_type": "code",
   "execution_count": 176,
   "id": "37a89ba1-bae8-461e-bf95-80f78e7228f1",
   "metadata": {},
   "outputs": [
    {
     "data": {
      "text/html": [
       "<div>\n",
       "<style scoped>\n",
       "    .dataframe tbody tr th:only-of-type {\n",
       "        vertical-align: middle;\n",
       "    }\n",
       "\n",
       "    .dataframe tbody tr th {\n",
       "        vertical-align: top;\n",
       "    }\n",
       "\n",
       "    .dataframe thead th {\n",
       "        text-align: right;\n",
       "    }\n",
       "</style>\n",
       "<table border=\"1\" class=\"dataframe\">\n",
       "  <thead>\n",
       "    <tr style=\"text-align: right;\">\n",
       "      <th></th>\n",
       "      <th>LinearSVR</th>\n",
       "      <th>LinearSVR - GSCV</th>\n",
       "      <th>SGD</th>\n",
       "      <th>SGD - GSCV</th>\n",
       "      <th>KNN</th>\n",
       "      <th>KNN - GSCV</th>\n",
       "      <th>GPR</th>\n",
       "      <th>GPR - GSCV</th>\n",
       "      <th>XGB</th>\n",
       "      <th>XGB - GSCV</th>\n",
       "      <th>Voting</th>\n",
       "    </tr>\n",
       "  </thead>\n",
       "  <tbody>\n",
       "    <tr>\n",
       "      <th>MSE Train</th>\n",
       "      <td>325331854</td>\n",
       "      <td>113904255</td>\n",
       "      <td>128674107</td>\n",
       "      <td>114076637</td>\n",
       "      <td>86980638</td>\n",
       "      <td>9</td>\n",
       "      <td>265</td>\n",
       "      <td>821351</td>\n",
       "      <td>18314347</td>\n",
       "      <td>46464133</td>\n",
       "      <td>63658118</td>\n",
       "    </tr>\n",
       "    <tr>\n",
       "      <th>MSE Valid</th>\n",
       "      <td>264308481</td>\n",
       "      <td>91651314</td>\n",
       "      <td>104776825</td>\n",
       "      <td>92266135</td>\n",
       "      <td>119910815</td>\n",
       "      <td>99696987</td>\n",
       "      <td>45522333100</td>\n",
       "      <td>93462569</td>\n",
       "      <td>92441015</td>\n",
       "      <td>90732706</td>\n",
       "      <td>89659010</td>\n",
       "    </tr>\n",
       "    <tr>\n",
       "      <th>RMSE Train</th>\n",
       "      <td>18036</td>\n",
       "      <td>10672</td>\n",
       "      <td>11343</td>\n",
       "      <td>10680</td>\n",
       "      <td>9326</td>\n",
       "      <td>3</td>\n",
       "      <td>16</td>\n",
       "      <td>906</td>\n",
       "      <td>4279</td>\n",
       "      <td>6816</td>\n",
       "      <td>7978</td>\n",
       "    </tr>\n",
       "    <tr>\n",
       "      <th>RMSE Valid</th>\n",
       "      <td>16258</td>\n",
       "      <td>9573</td>\n",
       "      <td>10236</td>\n",
       "      <td>9606</td>\n",
       "      <td>10950</td>\n",
       "      <td>9985</td>\n",
       "      <td>213360</td>\n",
       "      <td>9668</td>\n",
       "      <td>9615</td>\n",
       "      <td>9525</td>\n",
       "      <td>9469</td>\n",
       "    </tr>\n",
       "    <tr>\n",
       "      <th>MAE Train</th>\n",
       "      <td>10862</td>\n",
       "      <td>6736</td>\n",
       "      <td>7395</td>\n",
       "      <td>6842</td>\n",
       "      <td>5721</td>\n",
       "      <td>0</td>\n",
       "      <td>1</td>\n",
       "      <td>490</td>\n",
       "      <td>2342</td>\n",
       "      <td>3771</td>\n",
       "      <td>4469</td>\n",
       "    </tr>\n",
       "    <tr>\n",
       "      <th>MAE Valid</th>\n",
       "      <td>10022</td>\n",
       "      <td>6321</td>\n",
       "      <td>6948</td>\n",
       "      <td>6437</td>\n",
       "      <td>7241</td>\n",
       "      <td>6382</td>\n",
       "      <td>52790</td>\n",
       "      <td>5284</td>\n",
       "      <td>4970</td>\n",
       "      <td>5033</td>\n",
       "      <td>5068</td>\n",
       "    </tr>\n",
       "  </tbody>\n",
       "</table>\n",
       "</div>"
      ],
      "text/plain": [
       "            LinearSVR  LinearSVR - GSCV        SGD  SGD - GSCV        KNN  \\\n",
       "MSE Train   325331854         113904255  128674107   114076637   86980638   \n",
       "MSE Valid   264308481          91651314  104776825    92266135  119910815   \n",
       "RMSE Train      18036             10672      11343       10680       9326   \n",
       "RMSE Valid      16258              9573      10236        9606      10950   \n",
       "MAE Train       10862              6736       7395        6842       5721   \n",
       "MAE Valid       10022              6321       6948        6437       7241   \n",
       "\n",
       "            KNN - GSCV          GPR  GPR - GSCV       XGB  XGB - GSCV  \\\n",
       "MSE Train            9          265      821351  18314347    46464133   \n",
       "MSE Valid     99696987  45522333100    93462569  92441015    90732706   \n",
       "RMSE Train           3           16         906      4279        6816   \n",
       "RMSE Valid        9985       213360        9668      9615        9525   \n",
       "MAE Train            0            1         490      2342        3771   \n",
       "MAE Valid         6382        52790        5284      4970        5033   \n",
       "\n",
       "              Voting  \n",
       "MSE Train   63658118  \n",
       "MSE Valid   89659010  \n",
       "RMSE Train      7978  \n",
       "RMSE Valid      9469  \n",
       "MAE Train       4469  \n",
       "MAE Valid       5068  "
      ]
     },
     "execution_count": 176,
     "metadata": {},
     "output_type": "execute_result"
    }
   ],
   "source": [
    "results"
   ]
  },
  {
   "cell_type": "markdown",
   "id": "854cb84d-1cbe-46d7-b2e5-411320282705",
   "metadata": {},
   "source": [
    "Voting dio el mejor resultado. Esto es de esperar ya que se uso el mejor modelo (XGB) junto con otros para reducir aun mas el error. De igual manera, la reduccion del error no es significativa."
   ]
  },
  {
   "cell_type": "markdown",
   "id": "57f6bd89-7625-4f1f-8564-37bee200ca35",
   "metadata": {},
   "source": [
    "## Evaluacion en conjunto de test"
   ]
  },
  {
   "cell_type": "markdown",
   "id": "68c468ba-0b56-4c72-a405-4f3ef33788ca",
   "metadata": {},
   "source": [
    "Evaluamos voting, el mejor modelo de regresión, en el conjunto de test"
   ]
  },
  {
   "cell_type": "code",
   "execution_count": 109,
   "id": "a73c7da2-0f30-4418-be08-767622e6328b",
   "metadata": {},
   "outputs": [],
   "source": [
    "df_test = pd.read_parquet('df_supervisado_agrupado_test.parquet')"
   ]
  },
  {
   "cell_type": "code",
   "execution_count": 110,
   "id": "d6e546be-5417-47cb-8584-db1281e446d0",
   "metadata": {},
   "outputs": [],
   "source": [
    "df['o_mes'] = df.anio_mes_cupon.astype('category').cat.codes"
   ]
  },
  {
   "cell_type": "code",
   "execution_count": 111,
   "id": "7da9784a-45d8-442e-ac60-d45c77a94016",
   "metadata": {},
   "outputs": [
    {
     "data": {
      "text/plain": [
       "Index(['dni_titular_movimiento', 'anio_mes_cupon', 'client__edad',\n",
       "       'client__antig', 'client__x0_Hombre', 'client__x0_Mujer',\n",
       "       'client__x0_Sin Datos', 'client__x1_Sector_Educativo',\n",
       "       'client__x1_Sector_Empleado_Comercio', 'client__x1_Sector_Financiero',\n",
       "       'client__x1_Sector_No_Operativo', 'client__x1_Sector_Operativo',\n",
       "       'client__x1_Sector_Salud', 'client__x1_Sector_Seguridad',\n",
       "       'client__x1_Sector_Sin_Datos', 'client__x2_Casado', 'client__x2_Otros',\n",
       "       'client__x2_Sin_datos', 'client__x2_Soltero', 'client__x3_REGION_CUYO',\n",
       "       'client__x3_REGION_NORDESTE', 'client__x3_REGION_NOROESTE',\n",
       "       'client__x3_REGION_PAMPEANA', 'client__x3_REGION_PATAGONIA',\n",
       "       'client__x3_SIN_DATOS', 'trans__x0_AX', 'trans__x0_EX', 'trans__x0_MC',\n",
       "       'trans__x0_PC', 'trans__x0_PL', 'trans__x0_PN', 'trans__x0_PP',\n",
       "       'trans__x0_TA', 'trans__x0_VI', 'trans__x0_ZE',\n",
       "       'trans__x1_American_express', 'trans__x1_Clasica',\n",
       "       'trans__x1_Master_internacional', 'trans__x1_Naranja',\n",
       "       'trans__x1_Naranja_virtual', 'trans__x1_Visa_internacional',\n",
       "       'trans__x2_Dolares', 'trans__x2_Pesos', 'trans__x2_Zeta', 'trans__x3_0',\n",
       "       'trans__x3_1', 'trans__x3_2', 'trans__x3_3', 'trans__x3_4',\n",
       "       'trans__x3_5', 'trans__x3_6', 'trans__x3_7', 'trans__x3_8',\n",
       "       'trans__x3_9', 'monto_ajustado', 'o_mes'],\n",
       "      dtype='object')"
      ]
     },
     "execution_count": 111,
     "metadata": {},
     "output_type": "execute_result"
    }
   ],
   "source": [
    "df.columns"
   ]
  },
  {
   "cell_type": "code",
   "execution_count": 112,
   "id": "078063f8-9fa4-4ffd-a7ca-d427659976d4",
   "metadata": {},
   "outputs": [
    {
     "data": {
      "text/plain": [
       "['client__x1_Sector_Judicial', 'client__x1_Sector_Personal_Jerarquico']"
      ]
     },
     "execution_count": 112,
     "metadata": {},
     "output_type": "execute_result"
    }
   ],
   "source": [
    "[x for x in df_test.columns if x not in df.columns]"
   ]
  },
  {
   "cell_type": "code",
   "execution_count": 95,
   "id": "c2051552-3b9b-4c1c-97c8-7c7dc1396336",
   "metadata": {},
   "outputs": [],
   "source": [
    "df_test[[x for x in df.columns if x not in df_test.columns]] = 0"
   ]
  },
  {
   "cell_type": "code",
   "execution_count": 96,
   "id": "cbbf3b94-a527-4276-9d55-156fd8b655a4",
   "metadata": {},
   "outputs": [],
   "source": [
    "# Features and target\n",
    "X_test = df_test.drop([ordinal_ft, target, 'anio_mes_cupon'], axis=1)\n",
    "y_test = df_test[target]"
   ]
  },
  {
   "cell_type": "code",
   "execution_count": 97,
   "id": "135c3289-9253-4023-85f9-ed1843a504cb",
   "metadata": {},
   "outputs": [],
   "source": [
    "num_features = [g for g in X_test.columns if 'client__x' not in g]\n",
    "cat_features = [g for g in X_test.columns if 'client__x' in g]"
   ]
  },
  {
   "cell_type": "code",
   "execution_count": 98,
   "id": "6fa439b3-db32-4bf7-b8c7-9cece71d672a",
   "metadata": {},
   "outputs": [],
   "source": [
    "# Preprocessing\n",
    "num_transformer = scaler\n",
    "cat_transformer = 'passthrough'\n",
    "\n",
    "preprocessor = ColumnTransformer(\n",
    "    transformers=[\n",
    "        ('num', num_transformer, num_features),\n",
    "        ('cat', cat_transformer, cat_features)])"
   ]
  },
  {
   "cell_type": "code",
   "execution_count": 99,
   "id": "38d1a6bb-7f6f-4988-bcd1-f34f4318adb9",
   "metadata": {},
   "outputs": [],
   "source": [
    "X_test_s = preprocessor.fit_transform(X_test)"
   ]
  },
  {
   "cell_type": "code",
   "execution_count": 100,
   "id": "00fb4d65-07f5-4567-9aa0-79a9a5bbc7c2",
   "metadata": {},
   "outputs": [
    {
     "data": {
      "text/plain": [
       "array([[0.1122449 , 0.17201835, 0.        , ..., 0.        , 0.        ,\n",
       "        0.        ],\n",
       "       [0.10204082, 0.13302752, 0.        , ..., 0.        , 0.        ,\n",
       "        0.        ],\n",
       "       [0.10204082, 0.13302752, 0.        , ..., 0.        , 0.        ,\n",
       "        0.        ],\n",
       "       ...,\n",
       "       [0.25510204, 0.62614679, 0.        , ..., 0.        , 0.        ,\n",
       "        0.        ],\n",
       "       [0.57142857, 0.27981651, 0.        , ..., 0.        , 0.        ,\n",
       "        0.        ],\n",
       "       [0.07142857, 0.11238532, 0.        , ..., 0.        , 0.        ,\n",
       "        0.        ]])"
      ]
     },
     "execution_count": 100,
     "metadata": {},
     "output_type": "execute_result"
    }
   ],
   "source": [
    "X_test_s"
   ]
  },
  {
   "cell_type": "code",
   "execution_count": 101,
   "id": "8aa4b414-3dd3-4c32-902d-6470341e7c5b",
   "metadata": {},
   "outputs": [
    {
     "ename": "ValueError",
     "evalue": "matmul: Input operand 1 has a mismatch in its core dimension 0, with gufunc signature (n?,k),(k,m?)->(n?,m?) (size 53 is different from 61)",
     "output_type": "error",
     "traceback": [
      "\u001b[0;31m---------------------------------------------------------------------------\u001b[0m",
      "\u001b[0;31mValueError\u001b[0m                                Traceback (most recent call last)",
      "\u001b[0;32m<ipython-input-101-dd1e789fcdfe>\u001b[0m in \u001b[0;36m<module>\u001b[0;34m()\u001b[0m\n\u001b[1;32m      1\u001b[0m \u001b[0;31m# Predict\u001b[0m\u001b[0;34m\u001b[0m\u001b[0;34m\u001b[0m\u001b[0;34m\u001b[0m\u001b[0m\n\u001b[0;32m----> 2\u001b[0;31m \u001b[0my_test_pred\u001b[0m \u001b[0;34m=\u001b[0m \u001b[0mmodel_\u001b[0m\u001b[0;34m.\u001b[0m\u001b[0mpredict\u001b[0m\u001b[0;34m(\u001b[0m\u001b[0mX_test_s\u001b[0m\u001b[0;34m)\u001b[0m\u001b[0;34m\u001b[0m\u001b[0;34m\u001b[0m\u001b[0m\n\u001b[0m",
      "\u001b[0;32m/Users/lucianomantovani/opt/miniconda3/envs/diplodatos-ayvd/lib/python3.6/site-packages/sklearn/ensemble/_voting.py\u001b[0m in \u001b[0;36mpredict\u001b[0;34m(self, X)\u001b[0m\n\u001b[1;32m    502\u001b[0m         \"\"\"\n\u001b[1;32m    503\u001b[0m         \u001b[0mcheck_is_fitted\u001b[0m\u001b[0;34m(\u001b[0m\u001b[0mself\u001b[0m\u001b[0;34m)\u001b[0m\u001b[0;34m\u001b[0m\u001b[0;34m\u001b[0m\u001b[0m\n\u001b[0;32m--> 504\u001b[0;31m         return np.average(self._predict(X), axis=1,\n\u001b[0m\u001b[1;32m    505\u001b[0m                           weights=self._weights_not_none)\n\u001b[1;32m    506\u001b[0m \u001b[0;34m\u001b[0m\u001b[0m\n",
      "\u001b[0;32m/Users/lucianomantovani/opt/miniconda3/envs/diplodatos-ayvd/lib/python3.6/site-packages/sklearn/ensemble/_voting.py\u001b[0m in \u001b[0;36m_predict\u001b[0;34m(self, X)\u001b[0m\n\u001b[1;32m     59\u001b[0m     \u001b[0;32mdef\u001b[0m \u001b[0m_predict\u001b[0m\u001b[0;34m(\u001b[0m\u001b[0mself\u001b[0m\u001b[0;34m,\u001b[0m \u001b[0mX\u001b[0m\u001b[0;34m)\u001b[0m\u001b[0;34m:\u001b[0m\u001b[0;34m\u001b[0m\u001b[0;34m\u001b[0m\u001b[0m\n\u001b[1;32m     60\u001b[0m         \u001b[0;34m\"\"\"Collect results from clf.predict calls.\"\"\"\u001b[0m\u001b[0;34m\u001b[0m\u001b[0;34m\u001b[0m\u001b[0m\n\u001b[0;32m---> 61\u001b[0;31m         \u001b[0;32mreturn\u001b[0m \u001b[0mnp\u001b[0m\u001b[0;34m.\u001b[0m\u001b[0masarray\u001b[0m\u001b[0;34m(\u001b[0m\u001b[0;34m[\u001b[0m\u001b[0mest\u001b[0m\u001b[0;34m.\u001b[0m\u001b[0mpredict\u001b[0m\u001b[0;34m(\u001b[0m\u001b[0mX\u001b[0m\u001b[0;34m)\u001b[0m \u001b[0;32mfor\u001b[0m \u001b[0mest\u001b[0m \u001b[0;32min\u001b[0m \u001b[0mself\u001b[0m\u001b[0;34m.\u001b[0m\u001b[0mestimators_\u001b[0m\u001b[0;34m]\u001b[0m\u001b[0;34m)\u001b[0m\u001b[0;34m.\u001b[0m\u001b[0mT\u001b[0m\u001b[0;34m\u001b[0m\u001b[0;34m\u001b[0m\u001b[0m\n\u001b[0m\u001b[1;32m     62\u001b[0m \u001b[0;34m\u001b[0m\u001b[0m\n\u001b[1;32m     63\u001b[0m     \u001b[0;34m@\u001b[0m\u001b[0mabstractmethod\u001b[0m\u001b[0;34m\u001b[0m\u001b[0;34m\u001b[0m\u001b[0m\n",
      "\u001b[0;32m/Users/lucianomantovani/opt/miniconda3/envs/diplodatos-ayvd/lib/python3.6/site-packages/sklearn/ensemble/_voting.py\u001b[0m in \u001b[0;36m<listcomp>\u001b[0;34m(.0)\u001b[0m\n\u001b[1;32m     59\u001b[0m     \u001b[0;32mdef\u001b[0m \u001b[0m_predict\u001b[0m\u001b[0;34m(\u001b[0m\u001b[0mself\u001b[0m\u001b[0;34m,\u001b[0m \u001b[0mX\u001b[0m\u001b[0;34m)\u001b[0m\u001b[0;34m:\u001b[0m\u001b[0;34m\u001b[0m\u001b[0;34m\u001b[0m\u001b[0m\n\u001b[1;32m     60\u001b[0m         \u001b[0;34m\"\"\"Collect results from clf.predict calls.\"\"\"\u001b[0m\u001b[0;34m\u001b[0m\u001b[0;34m\u001b[0m\u001b[0m\n\u001b[0;32m---> 61\u001b[0;31m         \u001b[0;32mreturn\u001b[0m \u001b[0mnp\u001b[0m\u001b[0;34m.\u001b[0m\u001b[0masarray\u001b[0m\u001b[0;34m(\u001b[0m\u001b[0;34m[\u001b[0m\u001b[0mest\u001b[0m\u001b[0;34m.\u001b[0m\u001b[0mpredict\u001b[0m\u001b[0;34m(\u001b[0m\u001b[0mX\u001b[0m\u001b[0;34m)\u001b[0m \u001b[0;32mfor\u001b[0m \u001b[0mest\u001b[0m \u001b[0;32min\u001b[0m \u001b[0mself\u001b[0m\u001b[0;34m.\u001b[0m\u001b[0mestimators_\u001b[0m\u001b[0;34m]\u001b[0m\u001b[0;34m)\u001b[0m\u001b[0;34m.\u001b[0m\u001b[0mT\u001b[0m\u001b[0;34m\u001b[0m\u001b[0;34m\u001b[0m\u001b[0m\n\u001b[0m\u001b[1;32m     62\u001b[0m \u001b[0;34m\u001b[0m\u001b[0m\n\u001b[1;32m     63\u001b[0m     \u001b[0;34m@\u001b[0m\u001b[0mabstractmethod\u001b[0m\u001b[0;34m\u001b[0m\u001b[0;34m\u001b[0m\u001b[0m\n",
      "\u001b[0;32m/Users/lucianomantovani/opt/miniconda3/envs/diplodatos-ayvd/lib/python3.6/site-packages/sklearn/linear_model/_base.py\u001b[0m in \u001b[0;36mpredict\u001b[0;34m(self, X)\u001b[0m\n\u001b[1;32m    236\u001b[0m             \u001b[0mReturns\u001b[0m \u001b[0mpredicted\u001b[0m \u001b[0mvalues\u001b[0m\u001b[0;34m.\u001b[0m\u001b[0;34m\u001b[0m\u001b[0;34m\u001b[0m\u001b[0m\n\u001b[1;32m    237\u001b[0m         \"\"\"\n\u001b[0;32m--> 238\u001b[0;31m         \u001b[0;32mreturn\u001b[0m \u001b[0mself\u001b[0m\u001b[0;34m.\u001b[0m\u001b[0m_decision_function\u001b[0m\u001b[0;34m(\u001b[0m\u001b[0mX\u001b[0m\u001b[0;34m)\u001b[0m\u001b[0;34m\u001b[0m\u001b[0;34m\u001b[0m\u001b[0m\n\u001b[0m\u001b[1;32m    239\u001b[0m \u001b[0;34m\u001b[0m\u001b[0m\n\u001b[1;32m    240\u001b[0m     \u001b[0m_preprocess_data\u001b[0m \u001b[0;34m=\u001b[0m \u001b[0mstaticmethod\u001b[0m\u001b[0;34m(\u001b[0m\u001b[0m_preprocess_data\u001b[0m\u001b[0;34m)\u001b[0m\u001b[0;34m\u001b[0m\u001b[0;34m\u001b[0m\u001b[0m\n",
      "\u001b[0;32m/Users/lucianomantovani/opt/miniconda3/envs/diplodatos-ayvd/lib/python3.6/site-packages/sklearn/linear_model/_base.py\u001b[0m in \u001b[0;36m_decision_function\u001b[0;34m(self, X)\u001b[0m\n\u001b[1;32m    220\u001b[0m         \u001b[0mX\u001b[0m \u001b[0;34m=\u001b[0m \u001b[0mcheck_array\u001b[0m\u001b[0;34m(\u001b[0m\u001b[0mX\u001b[0m\u001b[0;34m,\u001b[0m \u001b[0maccept_sparse\u001b[0m\u001b[0;34m=\u001b[0m\u001b[0;34m[\u001b[0m\u001b[0;34m'csr'\u001b[0m\u001b[0;34m,\u001b[0m \u001b[0;34m'csc'\u001b[0m\u001b[0;34m,\u001b[0m \u001b[0;34m'coo'\u001b[0m\u001b[0;34m]\u001b[0m\u001b[0;34m)\u001b[0m\u001b[0;34m\u001b[0m\u001b[0;34m\u001b[0m\u001b[0m\n\u001b[1;32m    221\u001b[0m         return safe_sparse_dot(X, self.coef_.T,\n\u001b[0;32m--> 222\u001b[0;31m                                dense_output=True) + self.intercept_\n\u001b[0m\u001b[1;32m    223\u001b[0m \u001b[0;34m\u001b[0m\u001b[0m\n\u001b[1;32m    224\u001b[0m     \u001b[0;32mdef\u001b[0m \u001b[0mpredict\u001b[0m\u001b[0;34m(\u001b[0m\u001b[0mself\u001b[0m\u001b[0;34m,\u001b[0m \u001b[0mX\u001b[0m\u001b[0;34m)\u001b[0m\u001b[0;34m:\u001b[0m\u001b[0;34m\u001b[0m\u001b[0;34m\u001b[0m\u001b[0m\n",
      "\u001b[0;32m/Users/lucianomantovani/opt/miniconda3/envs/diplodatos-ayvd/lib/python3.6/site-packages/sklearn/utils/validation.py\u001b[0m in \u001b[0;36minner_f\u001b[0;34m(*args, **kwargs)\u001b[0m\n\u001b[1;32m     61\u001b[0m             \u001b[0mextra_args\u001b[0m \u001b[0;34m=\u001b[0m \u001b[0mlen\u001b[0m\u001b[0;34m(\u001b[0m\u001b[0margs\u001b[0m\u001b[0;34m)\u001b[0m \u001b[0;34m-\u001b[0m \u001b[0mlen\u001b[0m\u001b[0;34m(\u001b[0m\u001b[0mall_args\u001b[0m\u001b[0;34m)\u001b[0m\u001b[0;34m\u001b[0m\u001b[0;34m\u001b[0m\u001b[0m\n\u001b[1;32m     62\u001b[0m             \u001b[0;32mif\u001b[0m \u001b[0mextra_args\u001b[0m \u001b[0;34m<=\u001b[0m \u001b[0;36m0\u001b[0m\u001b[0;34m:\u001b[0m\u001b[0;34m\u001b[0m\u001b[0;34m\u001b[0m\u001b[0m\n\u001b[0;32m---> 63\u001b[0;31m                 \u001b[0;32mreturn\u001b[0m \u001b[0mf\u001b[0m\u001b[0;34m(\u001b[0m\u001b[0;34m*\u001b[0m\u001b[0margs\u001b[0m\u001b[0;34m,\u001b[0m \u001b[0;34m**\u001b[0m\u001b[0mkwargs\u001b[0m\u001b[0;34m)\u001b[0m\u001b[0;34m\u001b[0m\u001b[0;34m\u001b[0m\u001b[0m\n\u001b[0m\u001b[1;32m     64\u001b[0m \u001b[0;34m\u001b[0m\u001b[0m\n\u001b[1;32m     65\u001b[0m             \u001b[0;31m# extra_args > 0\u001b[0m\u001b[0;34m\u001b[0m\u001b[0;34m\u001b[0m\u001b[0;34m\u001b[0m\u001b[0m\n",
      "\u001b[0;32m/Users/lucianomantovani/opt/miniconda3/envs/diplodatos-ayvd/lib/python3.6/site-packages/sklearn/utils/extmath.py\u001b[0m in \u001b[0;36msafe_sparse_dot\u001b[0;34m(a, b, dense_output)\u001b[0m\n\u001b[1;32m    150\u001b[0m             \u001b[0mret\u001b[0m \u001b[0;34m=\u001b[0m \u001b[0mnp\u001b[0m\u001b[0;34m.\u001b[0m\u001b[0mdot\u001b[0m\u001b[0;34m(\u001b[0m\u001b[0ma\u001b[0m\u001b[0;34m,\u001b[0m \u001b[0mb\u001b[0m\u001b[0;34m)\u001b[0m\u001b[0;34m\u001b[0m\u001b[0;34m\u001b[0m\u001b[0m\n\u001b[1;32m    151\u001b[0m     \u001b[0;32melse\u001b[0m\u001b[0;34m:\u001b[0m\u001b[0;34m\u001b[0m\u001b[0;34m\u001b[0m\u001b[0m\n\u001b[0;32m--> 152\u001b[0;31m         \u001b[0mret\u001b[0m \u001b[0;34m=\u001b[0m \u001b[0ma\u001b[0m \u001b[0;34m@\u001b[0m \u001b[0mb\u001b[0m\u001b[0;34m\u001b[0m\u001b[0;34m\u001b[0m\u001b[0m\n\u001b[0m\u001b[1;32m    153\u001b[0m \u001b[0;34m\u001b[0m\u001b[0m\n\u001b[1;32m    154\u001b[0m     if (sparse.issparse(a) and sparse.issparse(b)\n",
      "\u001b[0;31mValueError\u001b[0m: matmul: Input operand 1 has a mismatch in its core dimension 0, with gufunc signature (n?,k),(k,m?)->(n?,m?) (size 53 is different from 61)"
     ]
    }
   ],
   "source": [
    "# Predict\n",
    "y_test_pred = model_.predict(X_test_s)"
   ]
  },
  {
   "cell_type": "markdown",
   "id": "1630091d-7071-4d07-9b36-6cc9fd161b23",
   "metadata": {},
   "source": [
    "# Modelos de Clasificacion - Predecir aumento de gasto mensual"
   ]
  },
  {
   "cell_type": "markdown",
   "id": "c19ee0f8-743e-404b-95ec-7cec103f37a6",
   "metadata": {},
   "source": [
    "## Preprocesamiento"
   ]
  },
  {
   "cell_type": "markdown",
   "id": "edf32da5-5eae-415a-b8eb-e138fc0a6dec",
   "metadata": {},
   "source": [
    "### 1.2 Creación de variable categórica "
   ]
  },
  {
   "cell_type": "markdown",
   "id": "0c5084f3-1725-42e8-b0aa-51ee1e695ae6",
   "metadata": {},
   "source": [
    "Creamos una columna que indica si un cliente ha aumentado su consumo personal mes a mes. El mes inicial para cada cliente se inicializa en 0.\n",
    "\n",
    "Cabe destacar que a la hora de agrupar los movimientos en cada mes, se considera la fecha de cierre de la tarjeta, por lo cual cada mes comprende desde el dia 25 del mes anterior hasta el dia 24 del corriente, inclusive. "
   ]
  },
  {
   "cell_type": "code",
   "execution_count": 120,
   "id": "c8a617f0-8254-4edf-9e3f-bf81ea682b1c",
   "metadata": {},
   "outputs": [
    {
     "data": {
      "text/html": [
       "<div>\n",
       "<style scoped>\n",
       "    .dataframe tbody tr th:only-of-type {\n",
       "        vertical-align: middle;\n",
       "    }\n",
       "\n",
       "    .dataframe tbody tr th {\n",
       "        vertical-align: top;\n",
       "    }\n",
       "\n",
       "    .dataframe thead th {\n",
       "        text-align: right;\n",
       "    }\n",
       "</style>\n",
       "<table border=\"1\" class=\"dataframe\">\n",
       "  <thead>\n",
       "    <tr style=\"text-align: right;\">\n",
       "      <th></th>\n",
       "      <th>dni_titular_movimiento</th>\n",
       "      <th>anio_mes_cupon</th>\n",
       "      <th>client__edad</th>\n",
       "      <th>client__antig</th>\n",
       "      <th>client__x0_Hombre</th>\n",
       "      <th>client__x0_Mujer</th>\n",
       "      <th>client__x0_Sin Datos</th>\n",
       "      <th>client__x1_Sector_Educativo</th>\n",
       "      <th>client__x1_Sector_Empleado_Comercio</th>\n",
       "      <th>client__x1_Sector_Financiero</th>\n",
       "      <th>...</th>\n",
       "      <th>trans__x3_2</th>\n",
       "      <th>trans__x3_3</th>\n",
       "      <th>trans__x3_4</th>\n",
       "      <th>trans__x3_5</th>\n",
       "      <th>trans__x3_6</th>\n",
       "      <th>trans__x3_7</th>\n",
       "      <th>trans__x3_8</th>\n",
       "      <th>trans__x3_9</th>\n",
       "      <th>monto_ajustado</th>\n",
       "      <th>o_mes</th>\n",
       "    </tr>\n",
       "  </thead>\n",
       "  <tbody>\n",
       "    <tr>\n",
       "      <th>0</th>\n",
       "      <td>000000b5aea2c9ea7cc155f6ebcef97f826</td>\n",
       "      <td>202007.0</td>\n",
       "      <td>46.0</td>\n",
       "      <td>224.0</td>\n",
       "      <td>0.0</td>\n",
       "      <td>1.0</td>\n",
       "      <td>0.0</td>\n",
       "      <td>0.0</td>\n",
       "      <td>0.0</td>\n",
       "      <td>0.0</td>\n",
       "      <td>...</td>\n",
       "      <td>0.0</td>\n",
       "      <td>0.0</td>\n",
       "      <td>0.0</td>\n",
       "      <td>0.0</td>\n",
       "      <td>0.0</td>\n",
       "      <td>0.0</td>\n",
       "      <td>0.0</td>\n",
       "      <td>0.0</td>\n",
       "      <td>0.00</td>\n",
       "      <td>0</td>\n",
       "    </tr>\n",
       "    <tr>\n",
       "      <th>1</th>\n",
       "      <td>000000b5aea2c9ea7cc155f6ebcef97f826</td>\n",
       "      <td>202008.0</td>\n",
       "      <td>46.0</td>\n",
       "      <td>225.0</td>\n",
       "      <td>0.0</td>\n",
       "      <td>1.0</td>\n",
       "      <td>0.0</td>\n",
       "      <td>0.0</td>\n",
       "      <td>0.0</td>\n",
       "      <td>0.0</td>\n",
       "      <td>...</td>\n",
       "      <td>0.0</td>\n",
       "      <td>0.0</td>\n",
       "      <td>0.0</td>\n",
       "      <td>0.0</td>\n",
       "      <td>0.0</td>\n",
       "      <td>0.0</td>\n",
       "      <td>0.0</td>\n",
       "      <td>0.0</td>\n",
       "      <td>-4.72</td>\n",
       "      <td>1</td>\n",
       "    </tr>\n",
       "    <tr>\n",
       "      <th>2</th>\n",
       "      <td>000000b5aea2c9ea7cc155f6ebcef97f826</td>\n",
       "      <td>202009.0</td>\n",
       "      <td>47.0</td>\n",
       "      <td>226.0</td>\n",
       "      <td>0.0</td>\n",
       "      <td>1.0</td>\n",
       "      <td>0.0</td>\n",
       "      <td>0.0</td>\n",
       "      <td>0.0</td>\n",
       "      <td>0.0</td>\n",
       "      <td>...</td>\n",
       "      <td>0.0</td>\n",
       "      <td>0.0</td>\n",
       "      <td>0.0</td>\n",
       "      <td>0.0</td>\n",
       "      <td>0.0</td>\n",
       "      <td>0.0</td>\n",
       "      <td>0.0</td>\n",
       "      <td>0.0</td>\n",
       "      <td>-4.61</td>\n",
       "      <td>2</td>\n",
       "    </tr>\n",
       "    <tr>\n",
       "      <th>3</th>\n",
       "      <td>000000b5aea2c9ea7cc155f6ebcef97f826</td>\n",
       "      <td>202010.0</td>\n",
       "      <td>47.0</td>\n",
       "      <td>227.0</td>\n",
       "      <td>0.0</td>\n",
       "      <td>1.0</td>\n",
       "      <td>0.0</td>\n",
       "      <td>0.0</td>\n",
       "      <td>0.0</td>\n",
       "      <td>0.0</td>\n",
       "      <td>...</td>\n",
       "      <td>0.0</td>\n",
       "      <td>0.0</td>\n",
       "      <td>0.0</td>\n",
       "      <td>0.0</td>\n",
       "      <td>0.0</td>\n",
       "      <td>0.0</td>\n",
       "      <td>0.0</td>\n",
       "      <td>0.0</td>\n",
       "      <td>-4.46</td>\n",
       "      <td>3</td>\n",
       "    </tr>\n",
       "    <tr>\n",
       "      <th>4</th>\n",
       "      <td>000000b5aea2c9ea7cc155f6ebcef97f826</td>\n",
       "      <td>202011.0</td>\n",
       "      <td>47.0</td>\n",
       "      <td>228.0</td>\n",
       "      <td>0.0</td>\n",
       "      <td>1.0</td>\n",
       "      <td>0.0</td>\n",
       "      <td>0.0</td>\n",
       "      <td>0.0</td>\n",
       "      <td>0.0</td>\n",
       "      <td>...</td>\n",
       "      <td>0.0</td>\n",
       "      <td>0.0</td>\n",
       "      <td>0.0</td>\n",
       "      <td>0.0</td>\n",
       "      <td>0.0</td>\n",
       "      <td>0.0</td>\n",
       "      <td>0.0</td>\n",
       "      <td>0.0</td>\n",
       "      <td>-4.34</td>\n",
       "      <td>4</td>\n",
       "    </tr>\n",
       "    <tr>\n",
       "      <th>...</th>\n",
       "      <td>...</td>\n",
       "      <td>...</td>\n",
       "      <td>...</td>\n",
       "      <td>...</td>\n",
       "      <td>...</td>\n",
       "      <td>...</td>\n",
       "      <td>...</td>\n",
       "      <td>...</td>\n",
       "      <td>...</td>\n",
       "      <td>...</td>\n",
       "      <td>...</td>\n",
       "      <td>...</td>\n",
       "      <td>...</td>\n",
       "      <td>...</td>\n",
       "      <td>...</td>\n",
       "      <td>...</td>\n",
       "      <td>...</td>\n",
       "      <td>...</td>\n",
       "      <td>...</td>\n",
       "      <td>...</td>\n",
       "      <td>...</td>\n",
       "    </tr>\n",
       "    <tr>\n",
       "      <th>9847</th>\n",
       "      <td>000f0b73ebfa002a79a0642b82e87919904</td>\n",
       "      <td>202102.0</td>\n",
       "      <td>64.0</td>\n",
       "      <td>22.0</td>\n",
       "      <td>0.0</td>\n",
       "      <td>1.0</td>\n",
       "      <td>0.0</td>\n",
       "      <td>0.0</td>\n",
       "      <td>0.0</td>\n",
       "      <td>0.0</td>\n",
       "      <td>...</td>\n",
       "      <td>0.0</td>\n",
       "      <td>0.0</td>\n",
       "      <td>0.0</td>\n",
       "      <td>0.0</td>\n",
       "      <td>0.0</td>\n",
       "      <td>0.0</td>\n",
       "      <td>0.0</td>\n",
       "      <td>0.0</td>\n",
       "      <td>12566.68</td>\n",
       "      <td>7</td>\n",
       "    </tr>\n",
       "    <tr>\n",
       "      <th>9848</th>\n",
       "      <td>000f0b73ebfa002a79a0642b82e87919904</td>\n",
       "      <td>202103.0</td>\n",
       "      <td>64.0</td>\n",
       "      <td>23.0</td>\n",
       "      <td>0.0</td>\n",
       "      <td>1.0</td>\n",
       "      <td>0.0</td>\n",
       "      <td>0.0</td>\n",
       "      <td>0.0</td>\n",
       "      <td>0.0</td>\n",
       "      <td>...</td>\n",
       "      <td>0.0</td>\n",
       "      <td>0.0</td>\n",
       "      <td>0.0</td>\n",
       "      <td>0.0</td>\n",
       "      <td>0.0</td>\n",
       "      <td>0.0</td>\n",
       "      <td>0.0</td>\n",
       "      <td>0.0</td>\n",
       "      <td>2663.08</td>\n",
       "      <td>8</td>\n",
       "    </tr>\n",
       "    <tr>\n",
       "      <th>9849</th>\n",
       "      <td>000f0b73ebfa002a79a0642b82e87919904</td>\n",
       "      <td>202104.0</td>\n",
       "      <td>64.0</td>\n",
       "      <td>24.0</td>\n",
       "      <td>0.0</td>\n",
       "      <td>1.0</td>\n",
       "      <td>0.0</td>\n",
       "      <td>0.0</td>\n",
       "      <td>0.0</td>\n",
       "      <td>0.0</td>\n",
       "      <td>...</td>\n",
       "      <td>2.0</td>\n",
       "      <td>0.0</td>\n",
       "      <td>0.0</td>\n",
       "      <td>0.0</td>\n",
       "      <td>0.0</td>\n",
       "      <td>0.0</td>\n",
       "      <td>0.0</td>\n",
       "      <td>0.0</td>\n",
       "      <td>4685.64</td>\n",
       "      <td>9</td>\n",
       "    </tr>\n",
       "    <tr>\n",
       "      <th>9850</th>\n",
       "      <td>000f0b73ebfa002a79a0642b82e87919904</td>\n",
       "      <td>202105.0</td>\n",
       "      <td>64.0</td>\n",
       "      <td>25.0</td>\n",
       "      <td>0.0</td>\n",
       "      <td>1.0</td>\n",
       "      <td>0.0</td>\n",
       "      <td>0.0</td>\n",
       "      <td>0.0</td>\n",
       "      <td>0.0</td>\n",
       "      <td>...</td>\n",
       "      <td>0.0</td>\n",
       "      <td>0.0</td>\n",
       "      <td>0.0</td>\n",
       "      <td>0.0</td>\n",
       "      <td>0.0</td>\n",
       "      <td>0.0</td>\n",
       "      <td>0.0</td>\n",
       "      <td>0.0</td>\n",
       "      <td>2063.81</td>\n",
       "      <td>10</td>\n",
       "    </tr>\n",
       "    <tr>\n",
       "      <th>9851</th>\n",
       "      <td>000f0b73ebfa002a79a0642b82e87919904</td>\n",
       "      <td>202106.0</td>\n",
       "      <td>64.0</td>\n",
       "      <td>26.0</td>\n",
       "      <td>0.0</td>\n",
       "      <td>1.0</td>\n",
       "      <td>0.0</td>\n",
       "      <td>0.0</td>\n",
       "      <td>0.0</td>\n",
       "      <td>0.0</td>\n",
       "      <td>...</td>\n",
       "      <td>0.0</td>\n",
       "      <td>0.0</td>\n",
       "      <td>0.0</td>\n",
       "      <td>0.0</td>\n",
       "      <td>0.0</td>\n",
       "      <td>0.0</td>\n",
       "      <td>0.0</td>\n",
       "      <td>0.0</td>\n",
       "      <td>0.00</td>\n",
       "      <td>11</td>\n",
       "    </tr>\n",
       "  </tbody>\n",
       "</table>\n",
       "<p>9852 rows × 56 columns</p>\n",
       "</div>"
      ],
      "text/plain": [
       "                   dni_titular_movimiento  anio_mes_cupon  client__edad  \\\n",
       "0     000000b5aea2c9ea7cc155f6ebcef97f826        202007.0          46.0   \n",
       "1     000000b5aea2c9ea7cc155f6ebcef97f826        202008.0          46.0   \n",
       "2     000000b5aea2c9ea7cc155f6ebcef97f826        202009.0          47.0   \n",
       "3     000000b5aea2c9ea7cc155f6ebcef97f826        202010.0          47.0   \n",
       "4     000000b5aea2c9ea7cc155f6ebcef97f826        202011.0          47.0   \n",
       "...                                   ...             ...           ...   \n",
       "9847  000f0b73ebfa002a79a0642b82e87919904        202102.0          64.0   \n",
       "9848  000f0b73ebfa002a79a0642b82e87919904        202103.0          64.0   \n",
       "9849  000f0b73ebfa002a79a0642b82e87919904        202104.0          64.0   \n",
       "9850  000f0b73ebfa002a79a0642b82e87919904        202105.0          64.0   \n",
       "9851  000f0b73ebfa002a79a0642b82e87919904        202106.0          64.0   \n",
       "\n",
       "      client__antig  client__x0_Hombre  client__x0_Mujer  \\\n",
       "0             224.0                0.0               1.0   \n",
       "1             225.0                0.0               1.0   \n",
       "2             226.0                0.0               1.0   \n",
       "3             227.0                0.0               1.0   \n",
       "4             228.0                0.0               1.0   \n",
       "...             ...                ...               ...   \n",
       "9847           22.0                0.0               1.0   \n",
       "9848           23.0                0.0               1.0   \n",
       "9849           24.0                0.0               1.0   \n",
       "9850           25.0                0.0               1.0   \n",
       "9851           26.0                0.0               1.0   \n",
       "\n",
       "      client__x0_Sin Datos  client__x1_Sector_Educativo  \\\n",
       "0                      0.0                          0.0   \n",
       "1                      0.0                          0.0   \n",
       "2                      0.0                          0.0   \n",
       "3                      0.0                          0.0   \n",
       "4                      0.0                          0.0   \n",
       "...                    ...                          ...   \n",
       "9847                   0.0                          0.0   \n",
       "9848                   0.0                          0.0   \n",
       "9849                   0.0                          0.0   \n",
       "9850                   0.0                          0.0   \n",
       "9851                   0.0                          0.0   \n",
       "\n",
       "      client__x1_Sector_Empleado_Comercio  client__x1_Sector_Financiero  ...  \\\n",
       "0                                     0.0                           0.0  ...   \n",
       "1                                     0.0                           0.0  ...   \n",
       "2                                     0.0                           0.0  ...   \n",
       "3                                     0.0                           0.0  ...   \n",
       "4                                     0.0                           0.0  ...   \n",
       "...                                   ...                           ...  ...   \n",
       "9847                                  0.0                           0.0  ...   \n",
       "9848                                  0.0                           0.0  ...   \n",
       "9849                                  0.0                           0.0  ...   \n",
       "9850                                  0.0                           0.0  ...   \n",
       "9851                                  0.0                           0.0  ...   \n",
       "\n",
       "      trans__x3_2  trans__x3_3  trans__x3_4  trans__x3_5  trans__x3_6  \\\n",
       "0             0.0          0.0          0.0          0.0          0.0   \n",
       "1             0.0          0.0          0.0          0.0          0.0   \n",
       "2             0.0          0.0          0.0          0.0          0.0   \n",
       "3             0.0          0.0          0.0          0.0          0.0   \n",
       "4             0.0          0.0          0.0          0.0          0.0   \n",
       "...           ...          ...          ...          ...          ...   \n",
       "9847          0.0          0.0          0.0          0.0          0.0   \n",
       "9848          0.0          0.0          0.0          0.0          0.0   \n",
       "9849          2.0          0.0          0.0          0.0          0.0   \n",
       "9850          0.0          0.0          0.0          0.0          0.0   \n",
       "9851          0.0          0.0          0.0          0.0          0.0   \n",
       "\n",
       "      trans__x3_7  trans__x3_8  trans__x3_9  monto_ajustado  o_mes  \n",
       "0             0.0          0.0          0.0            0.00      0  \n",
       "1             0.0          0.0          0.0           -4.72      1  \n",
       "2             0.0          0.0          0.0           -4.61      2  \n",
       "3             0.0          0.0          0.0           -4.46      3  \n",
       "4             0.0          0.0          0.0           -4.34      4  \n",
       "...           ...          ...          ...             ...    ...  \n",
       "9847          0.0          0.0          0.0        12566.68      7  \n",
       "9848          0.0          0.0          0.0         2663.08      8  \n",
       "9849          0.0          0.0          0.0         4685.64      9  \n",
       "9850          0.0          0.0          0.0         2063.81     10  \n",
       "9851          0.0          0.0          0.0            0.00     11  \n",
       "\n",
       "[9852 rows x 56 columns]"
      ]
     },
     "execution_count": 120,
     "metadata": {},
     "output_type": "execute_result"
    }
   ],
   "source": [
    "df_mes"
   ]
  },
  {
   "cell_type": "code",
   "execution_count": 121,
   "id": "0a68e350-398b-4ff3-a70f-8b8397bdda57",
   "metadata": {},
   "outputs": [],
   "source": [
    "# Agregación de la nueva columna seteada en 0.\n",
    "# En la iteración, se le cambia el valor a 1 en caso de que cumpla con las condiciones preestablecidas.\n",
    "\n",
    "df_mes['fg_aumentado'] = 0\n",
    "for i in range(1,len(df_mes)):\n",
    "    if (df_mes.iloc[i]['dni_titular_movimiento'] == df_mes.iloc[i-1]['dni_titular_movimiento']) \\\n",
    "        & (df_mes.iloc[i]['anio_mes_cupon'] > df_mes.iloc[i-1]['anio_mes_cupon']):\n",
    "            var_mes = df_mes.iloc[i]['monto_ajustado'] - df_mes.iloc[i-1]['monto_ajustado']\n",
    "            if (var_mes > (abs(df_mes.iloc[i-1]['monto_ajustado'])*0.1)):\n",
    "                df_mes.loc[i,'fg_aumentado'] = 1"
   ]
  },
  {
   "cell_type": "code",
   "execution_count": 122,
   "id": "fdee865b-6a76-4fae-ad8c-aeb6aa8cc9d7",
   "metadata": {},
   "outputs": [],
   "source": [
    "target_c = 'fg_aumentado'\n",
    "ordinal_ft = 'dni_titular_movimiento'"
   ]
  },
  {
   "cell_type": "code",
   "execution_count": 123,
   "id": "b68751cd-9c2c-4c3d-ac20-cc72d7998fed",
   "metadata": {},
   "outputs": [],
   "source": [
    "# Features and target\n",
    "X = df_mes.drop([ordinal_ft, target_c, 'anio_mes_cupon'], axis=1)\n",
    "y = df_mes[target_c]"
   ]
  },
  {
   "cell_type": "code",
   "execution_count": 124,
   "id": "88486c9b-7f18-44e2-882d-f67bd1d104a1",
   "metadata": {},
   "outputs": [],
   "source": [
    "num_features = [g for g in X.columns if 'client__x' not in g]\n",
    "cat_features = [g for g in X.columns if 'client__x' in g]"
   ]
  },
  {
   "cell_type": "code",
   "execution_count": 125,
   "id": "cd42d2f5-6b27-47d2-b365-234f6c34b4e7",
   "metadata": {},
   "outputs": [
    {
     "data": {
      "text/plain": [
       "0"
      ]
     },
     "execution_count": 125,
     "metadata": {},
     "output_type": "execute_result"
    }
   ],
   "source": [
    "len(X.columns) - len(num_features + cat_features)"
   ]
  },
  {
   "cell_type": "markdown",
   "id": "950a81a5-ea16-47a8-98f2-770ca138b0f8",
   "metadata": {
    "tags": []
   },
   "source": [
    "## RandomForestClassifier - Default"
   ]
  },
  {
   "cell_type": "code",
   "execution_count": 184,
   "id": "77ecfa08-655b-464d-bddd-b76d7f87dd3c",
   "metadata": {},
   "outputs": [],
   "source": [
    "# Preproceso 1 para SGDRegressor - Default\n",
    "scaler = MinMaxScaler()\n",
    "ft_selector = RandomForestClassifier(random_state=0)\n",
    "model_ = RandomForestClassifier(random_state= 0, max_depth=20, min_samples_split=20)"
   ]
  },
  {
   "cell_type": "code",
   "execution_count": 185,
   "id": "d6009e55-6b48-4ebb-84c7-11b248767c7a",
   "metadata": {},
   "outputs": [],
   "source": [
    "# Train and validation\n",
    "X_train, X_val, y_train, y_val = train_test_split(X, y, test_size=0.30, random_state=0, shuffle=False)"
   ]
  },
  {
   "cell_type": "markdown",
   "id": "67157202-b899-4626-9ac3-f6bb6292ed16",
   "metadata": {},
   "source": [
    "#### Preproceso y ajuste"
   ]
  },
  {
   "cell_type": "code",
   "execution_count": 186,
   "id": "fe85a8d7-e4dd-4951-8fa6-d530994f3ea7",
   "metadata": {},
   "outputs": [],
   "source": [
    "# Preprocessing\n",
    "num_transformer = scaler\n",
    "cat_transformer = 'passthrough'\n",
    "\n",
    "preprocessor = ColumnTransformer(\n",
    "    transformers=[\n",
    "        ('num', num_transformer, num_features),\n",
    "        ('cat', cat_transformer, cat_features)])"
   ]
  },
  {
   "cell_type": "code",
   "execution_count": 187,
   "id": "c24f63ca-13e7-4d60-b5d6-e7a5f429e989",
   "metadata": {},
   "outputs": [],
   "source": [
    "# Fit\n",
    "model = Pipeline([\n",
    "  ('preprocessor', preprocessor),\n",
    "  ('feature_selection', SelectFromModel(ft_selector)),\n",
    "  ('cla', model_)\n",
    "])\n",
    "\n",
    "model.fit(X_train, y_train)\n",
    "rfc = model"
   ]
  },
  {
   "cell_type": "code",
   "execution_count": 188,
   "id": "fa7ea5f2-8252-4072-9891-a4369352daad",
   "metadata": {},
   "outputs": [],
   "source": [
    "# Predict\n",
    "y_train_pred = model.predict(X_train)\n",
    "y_valid_pred = model.predict(X_val)"
   ]
  },
  {
   "cell_type": "markdown",
   "id": "8df91cfd-4aa6-4dc4-98f3-6fbbeb029449",
   "metadata": {},
   "source": [
    "#### Evaluacion de predicciones"
   ]
  },
  {
   "cell_type": "code",
   "execution_count": 189,
   "id": "d8ccffaa-3a99-494f-a328-542fb82e4718",
   "metadata": {
    "tags": []
   },
   "outputs": [
    {
     "name": "stdout",
     "output_type": "stream",
     "text": [
      "=======================================================================\n",
      "RandomForestClassifier - Reporte de clasificación del conjunto de train\n",
      "=======================================================================\n",
      "              precision    recall  f1-score   support\n",
      "\n",
      "           0       0.92      0.95      0.93      4764\n",
      "           1       0.88      0.81      0.84      2132\n",
      "\n",
      "    accuracy                           0.91      6896\n",
      "   macro avg       0.90      0.88      0.89      6896\n",
      "weighted avg       0.90      0.91      0.90      6896\n",
      "\n"
     ]
    }
   ],
   "source": [
    "# Evaluate train\n",
    "text = \"RandomForestClassifier - Reporte de clasificación del conjunto de train\" \n",
    "print(len(text)*\"=\")\n",
    "print(text)\n",
    "print(len(text)*\"=\")\n",
    "print(classification_report(y_train, y_train_pred))"
   ]
  },
  {
   "cell_type": "code",
   "execution_count": 190,
   "id": "42061fe7-7dae-4edb-bb3e-0ea426c6df3a",
   "metadata": {
    "tags": []
   },
   "outputs": [
    {
     "name": "stdout",
     "output_type": "stream",
     "text": [
      "============================================================================\n",
      "RandomForestClassifier - Reporte de clasificación del conjunto de validacion\n",
      "============================================================================\n",
      "              precision    recall  f1-score   support\n",
      "\n",
      "           0       0.84      0.87      0.85      2015\n",
      "           1       0.69      0.64      0.67       941\n",
      "\n",
      "    accuracy                           0.79      2956\n",
      "   macro avg       0.76      0.75      0.76      2956\n",
      "weighted avg       0.79      0.79      0.79      2956\n",
      "\n"
     ]
    }
   ],
   "source": [
    "# Evaluate val\n",
    "text = \"RandomForestClassifier - Reporte de clasificación del conjunto de validacion\" \n",
    "print(len(text)*\"=\")\n",
    "print(text)\n",
    "print(len(text)*\"=\")\n",
    "print(classification_report(y_val, y_valid_pred))"
   ]
  },
  {
   "cell_type": "code",
   "execution_count": 191,
   "id": "a092c262-e453-4a9f-99b9-d77e1e758789",
   "metadata": {},
   "outputs": [
    {
     "data": {
      "text/plain": [
       "Text(0.5, 1.0, 'Random Forest - CM Train\\n')"
      ]
     },
     "execution_count": 191,
     "metadata": {},
     "output_type": "execute_result"
    },
    {
     "data": {
      "image/png": "[encoded data removed]",
      "text/plain": [
       "<Figure size 432x288 with 2 Axes>"
      ]
     },
     "metadata": {
      "needs_background": "light"
     },
     "output_type": "display_data"
    }
   ],
   "source": [
    "plot_confusion_matrix(estimator= model, X=X_train, y_true=y_train,\n",
    "                      normalize='true', cmap='Greens').ax_ \\\n",
    "                      .set_title('Random Forest - CM Train\\n')"
   ]
  },
  {
   "cell_type": "code",
   "execution_count": 192,
   "id": "fd778d1f-86fd-4033-a46b-68aab50e89bf",
   "metadata": {},
   "outputs": [
    {
     "data": {
      "text/plain": [
       "Text(0.5, 1.0, 'Random Forest - CM Valid\\n')"
      ]
     },
     "execution_count": 192,
     "metadata": {},
     "output_type": "execute_result"
    },
    {
     "data": {
      "image/png": "[encoded data removed]",
      "text/plain": [
       "<Figure size 432x288 with 2 Axes>"
      ]
     },
     "metadata": {
      "needs_background": "light"
     },
     "output_type": "display_data"
    }
   ],
   "source": [
    "plot_confusion_matrix(estimator= model, X=X_val, y_true=y_val,\n",
    "                      normalize='true', cmap='Blues').ax_ \\\n",
    "                      .set_title('Random Forest - CM Valid\\n')"
   ]
  },
  {
   "cell_type": "markdown",
   "id": "4b2c5aa2-e416-4b47-9a42-47c39e983605",
   "metadata": {
    "tags": []
   },
   "source": [
    "## RandomForestClassifier - Grid Search"
   ]
  },
  {
   "cell_type": "code",
   "execution_count": 193,
   "id": "a5ebea9e-3929-4211-bb9d-0b94746d6eed",
   "metadata": {},
   "outputs": [],
   "source": [
    "# Preproceso 1 para SGDRegressor - Default\n",
    "scaler = MinMaxScaler()\n",
    "#ft_selector = LinearSVR(random_state=0)\n",
    "model_ = RandomForestClassifier(random_state= 0)"
   ]
  },
  {
   "cell_type": "code",
   "execution_count": 194,
   "id": "cfe9054b-5055-46ab-ae0b-cb8b5b688d8c",
   "metadata": {
    "tags": []
   },
   "outputs": [],
   "source": [
    "param_grid = {'cla__n_estimators' : [75, 100],\n",
    "                'cla__criterion':['gini', 'entropy'],\n",
    "                'cla__max_depth': [20, 25],\n",
    "                'cla__min_samples_split': [20, 25],\n",
    "                'cla__min_samples_leaf':[5, 6, 8],\n",
    "                'cla__max_features':[0.5, 0.7, 0.8]}"
   ]
  },
  {
   "cell_type": "code",
   "execution_count": 195,
   "id": "f12be47f-9b6a-492a-8183-6deaabc8fa5e",
   "metadata": {},
   "outputs": [],
   "source": [
    "# Train and validation\n",
    "X_train, X_val, y_train, y_val = train_test_split(X, y, test_size=0.30, random_state=0, shuffle=False)"
   ]
  },
  {
   "cell_type": "markdown",
   "id": "81e40421-b3fc-4c9a-b4c2-6f99e2b23abe",
   "metadata": {},
   "source": [
    "#### Preproceso y ajuste"
   ]
  },
  {
   "cell_type": "code",
   "execution_count": 196,
   "id": "c8e2348e-8b8b-42f1-905f-a044ec753aa6",
   "metadata": {},
   "outputs": [],
   "source": [
    "# Preprocessing\n",
    "num_transformer = scaler\n",
    "cat_transformer = 'passthrough'\n",
    "\n",
    "preprocessor = ColumnTransformer(\n",
    "    transformers=[\n",
    "        ('num', num_transformer, num_features),\n",
    "        ('cat', cat_transformer, cat_features)])"
   ]
  },
  {
   "cell_type": "code",
   "execution_count": 197,
   "id": "a42f3d01-906a-4fd5-8cbf-0d365c16007f",
   "metadata": {
    "tags": []
   },
   "outputs": [
    {
     "name": "stdout",
     "output_type": "stream",
     "text": [
      "Fitting 5 folds for each of 10 candidates, totalling 50 fits\n"
     ]
    }
   ],
   "source": [
    "# Fit\n",
    "pipe = Pipeline([\n",
    "  ('preprocessor', preprocessor),\n",
    "#  ('feature_selection', SelectFromModel(ft_selector)),\n",
    "  ('cla', model_)\n",
    "])\n",
    "\n",
    "model = RandomizedSearchCV(pipe, param_grid, scoring='f1', cv=5, verbose=1)\n",
    "\n",
    "model.fit(X_train, y_train)\n",
    "rfc_cv = model"
   ]
  },
  {
   "cell_type": "code",
   "execution_count": 198,
   "id": "2c4354d1-d00e-433e-8b50-018d7b5f6612",
   "metadata": {},
   "outputs": [
    {
     "data": {
      "text/plain": [
       "{'cla__n_estimators': 100,\n",
       " 'cla__min_samples_split': 20,\n",
       " 'cla__min_samples_leaf': 8,\n",
       " 'cla__max_features': 0.7,\n",
       " 'cla__max_depth': 20,\n",
       " 'cla__criterion': 'gini'}"
      ]
     },
     "execution_count": 198,
     "metadata": {},
     "output_type": "execute_result"
    }
   ],
   "source": [
    "model.best_params_"
   ]
  },
  {
   "cell_type": "code",
   "execution_count": 199,
   "id": "6ad5bf66-2197-494a-aba0-c1de202c744a",
   "metadata": {
    "tags": []
   },
   "outputs": [],
   "source": [
    "# Predict\n",
    "y_train_pred = model.predict(X_train)\n",
    "y_val_pred = model.predict(X_val)"
   ]
  },
  {
   "cell_type": "markdown",
   "id": "40c9248d-1ecb-4fe5-8ab6-bb7ca5c18035",
   "metadata": {},
   "source": [
    "#### Evaluacion de predicciones"
   ]
  },
  {
   "cell_type": "code",
   "execution_count": 200,
   "id": "9b7707db-a1da-46fd-b93d-1a75c243242d",
   "metadata": {
    "tags": []
   },
   "outputs": [
    {
     "name": "stdout",
     "output_type": "stream",
     "text": [
      "=======================================================================\n",
      "RandomForestClassifier - Reporte de clasificación del conjunto de train\n",
      "=======================================================================\n",
      "              precision    recall  f1-score   support\n",
      "\n",
      "           0       0.90      0.94      0.92      4764\n",
      "           1       0.86      0.77      0.81      2132\n",
      "\n",
      "    accuracy                           0.89      6896\n",
      "   macro avg       0.88      0.86      0.87      6896\n",
      "weighted avg       0.89      0.89      0.89      6896\n",
      "\n"
     ]
    }
   ],
   "source": [
    "# Evaluate train\n",
    "text = \"RandomForestClassifier - Reporte de clasificación del conjunto de train\" \n",
    "print(len(text)*\"=\")\n",
    "print(text)\n",
    "print(len(text)*\"=\")\n",
    "print(classification_report(y_train, y_train_pred))"
   ]
  },
  {
   "cell_type": "code",
   "execution_count": 201,
   "id": "f6510f90-86e7-4fab-91f2-e62ec8a767f3",
   "metadata": {
    "tags": []
   },
   "outputs": [
    {
     "name": "stdout",
     "output_type": "stream",
     "text": [
      "============================================================================\n",
      "RandomForestClassifier - Reporte de clasificación del conjunto de validacion\n",
      "============================================================================\n",
      "              precision    recall  f1-score   support\n",
      "\n",
      "           0       0.84      0.87      0.85      2015\n",
      "           1       0.69      0.64      0.67       941\n",
      "\n",
      "    accuracy                           0.79      2956\n",
      "   macro avg       0.76      0.75      0.76      2956\n",
      "weighted avg       0.79      0.79      0.79      2956\n",
      "\n"
     ]
    }
   ],
   "source": [
    "# Evaluate val\n",
    "text = \"RandomForestClassifier - Reporte de clasificación del conjunto de validacion\" \n",
    "print(len(text)*\"=\")\n",
    "print(text)\n",
    "print(len(text)*\"=\")\n",
    "print(classification_report(y_val, y_valid_pred))"
   ]
  },
  {
   "cell_type": "code",
   "execution_count": 203,
   "id": "5a907d37-53b2-4a62-9b1e-281e59e86734",
   "metadata": {},
   "outputs": [
    {
     "data": {
      "text/plain": [
       "Text(0.5, 1.0, 'Random Forest (GSCV) - CM Train\\n')"
      ]
     },
     "execution_count": 203,
     "metadata": {},
     "output_type": "execute_result"
    },
    {
     "data": {
      "text/plain": [
       "<Figure size 432x288 with 0 Axes>"
      ]
     },
     "metadata": {},
     "output_type": "display_data"
    },
    {
     "data": {
      "image/png": "[encoded data removed]",
      "text/plain": [
       "<Figure size 432x288 with 2 Axes>"
      ]
     },
     "metadata": {
      "needs_background": "light"
     },
     "output_type": "display_data"
    }
   ],
   "source": [
    "plt.figure()\n",
    "plot_confusion_matrix(estimator= model, X=X_train, y_true=y_train,\n",
    "                      normalize='true', cmap='Greens').ax_ \\\n",
    "                      .set_title('Random Forest (GSCV) - CM Train\\n')"
   ]
  },
  {
   "cell_type": "code",
   "execution_count": 204,
   "id": "0fd6b2d3-2345-49f3-8b4a-de59b41a8e73",
   "metadata": {},
   "outputs": [
    {
     "data": {
      "text/plain": [
       "Text(0.5, 1.0, 'Random Forest (GSCV) - CM Valid\\n')"
      ]
     },
     "execution_count": 204,
     "metadata": {},
     "output_type": "execute_result"
    },
    {
     "data": {
      "text/plain": [
       "<Figure size 432x288 with 0 Axes>"
      ]
     },
     "metadata": {},
     "output_type": "display_data"
    },
    {
     "data": {
      "image/png": "[encoded data removed]",
      "text/plain": [
       "<Figure size 432x288 with 2 Axes>"
      ]
     },
     "metadata": {
      "needs_background": "light"
     },
     "output_type": "display_data"
    }
   ],
   "source": [
    "plt.figure()\n",
    "plot_confusion_matrix(estimator= model, X=X_val, y_true=y_val,\n",
    "                      normalize='true', cmap='Blues').ax_ \\\n",
    "                      .set_title('Random Forest (GSCV) - CM Valid\\n')"
   ]
  },
  {
   "cell_type": "markdown",
   "id": "9afa31d8-f02f-40f9-9fec-f494bfddc88a",
   "metadata": {},
   "source": [
    "## XGBoost - Default"
   ]
  },
  {
   "cell_type": "code",
   "execution_count": 205,
   "id": "fa2aa235-98de-4c9d-ba74-4c02778611d2",
   "metadata": {},
   "outputs": [],
   "source": [
    "# Preproceso 1 para XGBClassifier - Default\n",
    "scaler = MaxAbsScaler()\n",
    "ft_selector = LinearSVR(random_state=0)\n",
    "model_ = XGBClassifier(random_state= 0)"
   ]
  },
  {
   "cell_type": "code",
   "execution_count": 206,
   "id": "e03b453c-7408-4c54-9919-bb2e7359c04d",
   "metadata": {},
   "outputs": [],
   "source": [
    "# Train and validation\n",
    "X_train, X_val, y_train, y_val = train_test_split(X, y, test_size=0.30, random_state=0, shuffle=False)"
   ]
  },
  {
   "cell_type": "markdown",
   "id": "74667400-afd0-4ab0-ba23-6954c3aa0a38",
   "metadata": {},
   "source": [
    "#### Preproceso y ajuste"
   ]
  },
  {
   "cell_type": "code",
   "execution_count": 207,
   "id": "b3099f40-1e24-4b0a-a27b-aefdfb303bac",
   "metadata": {},
   "outputs": [],
   "source": [
    "# Preprocessing\n",
    "num_transformer = scaler\n",
    "cat_transformer = 'passthrough'\n",
    "\n",
    "preprocessor = ColumnTransformer(\n",
    "    transformers=[\n",
    "        ('num', num_transformer, num_features),\n",
    "        ('cat', cat_transformer, cat_features)])"
   ]
  },
  {
   "cell_type": "code",
   "execution_count": 208,
   "id": "8bba2b4c-9c07-44e1-a8a8-9869c0ae2aeb",
   "metadata": {},
   "outputs": [
    {
     "name": "stdout",
     "output_type": "stream",
     "text": [
      "[21:15:25] WARNING: /opt/concourse/worker/volumes/live/7a2b9f41-3287-451b-6691-43e9a6c0910f/volume/xgboost-split_1619728204606/work/src/learner.cc:1061: Starting in XGBoost 1.3.0, the default evaluation metric used with the objective 'binary:logistic' was changed from 'error' to 'logloss'. Explicitly set eval_metric if you'd like to restore the old behavior.\n"
     ]
    }
   ],
   "source": [
    "# Fit\n",
    "model = Pipeline([\n",
    "  ('preprocessor', preprocessor),\n",
    "  ('feature_selection', SelectFromModel(ft_selector)),\n",
    "  ('cla', model_)\n",
    "])\n",
    "\n",
    "model.fit(X_train, y_train)\n",
    "xgbc = model"
   ]
  },
  {
   "cell_type": "code",
   "execution_count": 209,
   "id": "9466da76-5af4-4c81-85f7-d3a8b1f4d2a1",
   "metadata": {},
   "outputs": [],
   "source": [
    "# Predict\n",
    "y_train_pred = model.predict(X_train)\n",
    "y_valid_pred = model.predict(X_val)"
   ]
  },
  {
   "cell_type": "markdown",
   "id": "fe9caa03-dcb1-4d20-92b2-52d3337ec5ae",
   "metadata": {},
   "source": [
    "#### Evaluacion de predicciones"
   ]
  },
  {
   "cell_type": "code",
   "execution_count": 210,
   "id": "2f65c88c-c70f-400c-a41e-290297891a9f",
   "metadata": {
    "tags": []
   },
   "outputs": [
    {
     "name": "stdout",
     "output_type": "stream",
     "text": [
      "========================================================\n",
      "XGBoost - Reporte de clasificación del conjunto de train\n",
      "========================================================\n",
      "              precision    recall  f1-score   support\n",
      "\n",
      "           0       0.89      0.95      0.92      4764\n",
      "           1       0.86      0.73      0.79      2132\n",
      "\n",
      "    accuracy                           0.88      6896\n",
      "   macro avg       0.87      0.84      0.85      6896\n",
      "weighted avg       0.88      0.88      0.88      6896\n",
      "\n"
     ]
    }
   ],
   "source": [
    "# Evaluate train\n",
    "text = \"XGBoost - Reporte de clasificación del conjunto de train\" \n",
    "print(len(text)*\"=\")\n",
    "print(text)\n",
    "print(len(text)*\"=\")\n",
    "print(classification_report(y_train, y_train_pred))"
   ]
  },
  {
   "cell_type": "code",
   "execution_count": 211,
   "id": "2c9c5844-23a2-4f07-be8b-79a4d6ce4cfa",
   "metadata": {
    "tags": []
   },
   "outputs": [
    {
     "name": "stdout",
     "output_type": "stream",
     "text": [
      "=============================================================\n",
      "XGBoost - Reporte de clasificación del conjunto de validacion\n",
      "=============================================================\n",
      "              precision    recall  f1-score   support\n",
      "\n",
      "           0       0.79      0.86      0.82      2015\n",
      "           1       0.62      0.51      0.56       941\n",
      "\n",
      "    accuracy                           0.75      2956\n",
      "   macro avg       0.71      0.68      0.69      2956\n",
      "weighted avg       0.74      0.75      0.74      2956\n",
      "\n"
     ]
    }
   ],
   "source": [
    "# Evaluate val\n",
    "text = \"XGBoost - Reporte de clasificación del conjunto de validacion\" \n",
    "print(len(text)*\"=\")\n",
    "print(text)\n",
    "print(len(text)*\"=\")\n",
    "print(classification_report(y_val, y_valid_pred))"
   ]
  },
  {
   "cell_type": "code",
   "execution_count": 212,
   "id": "e1453d92-c194-4e6c-a5f1-412bee7f366e",
   "metadata": {},
   "outputs": [
    {
     "data": {
      "text/plain": [
       "Text(0.5, 1.0, 'XGBoost - CM Train\\n')"
      ]
     },
     "execution_count": 212,
     "metadata": {},
     "output_type": "execute_result"
    },
    {
     "data": {
      "text/plain": [
       "<Figure size 432x288 with 0 Axes>"
      ]
     },
     "metadata": {},
     "output_type": "display_data"
    },
    {
     "data": {
      "image/png": "[encoded data removed]",
      "text/plain": [
       "<Figure size 432x288 with 2 Axes>"
      ]
     },
     "metadata": {
      "needs_background": "light"
     },
     "output_type": "display_data"
    }
   ],
   "source": [
    "plt.figure()\n",
    "plot_confusion_matrix(estimator= model, X=X_train, y_true=y_train,\n",
    "                      normalize='true', cmap='Greens').ax_ \\\n",
    "                      .set_title('XGBoost - CM Train\\n')"
   ]
  },
  {
   "cell_type": "code",
   "execution_count": 213,
   "id": "50b6b6d4-20e1-47c5-b44a-b491baeaad95",
   "metadata": {},
   "outputs": [
    {
     "data": {
      "text/plain": [
       "Text(0.5, 1.0, 'XGBoost - CM Valid\\n')"
      ]
     },
     "execution_count": 213,
     "metadata": {},
     "output_type": "execute_result"
    },
    {
     "data": {
      "text/plain": [
       "<Figure size 432x288 with 0 Axes>"
      ]
     },
     "metadata": {},
     "output_type": "display_data"
    },
    {
     "data": {
      "image/png": "[encoded data removed]",
      "text/plain": [
       "<Figure size 432x288 with 2 Axes>"
      ]
     },
     "metadata": {
      "needs_background": "light"
     },
     "output_type": "display_data"
    }
   ],
   "source": [
    "plt.figure()\n",
    "plot_confusion_matrix(estimator= model, X=X_val, y_true=y_val,\n",
    "                      normalize='true', cmap='Blues').ax_ \\\n",
    "                      .set_title('XGBoost - CM Valid\\n')"
   ]
  },
  {
   "cell_type": "markdown",
   "id": "cfdd9c7d-9c65-418a-b24f-52ed2eb81202",
   "metadata": {
    "tags": []
   },
   "source": [
    "## XGBoost - Grid Search"
   ]
  },
  {
   "cell_type": "code",
   "execution_count": 214,
   "id": "b866d7ac-fdc6-4247-a611-63757fdd8081",
   "metadata": {},
   "outputs": [],
   "source": [
    "# Preproceso 1 para SGDRegressor - Default\n",
    "scaler = MaxAbsScaler()\n",
    "#ft_selector = LinearSVR(random_state=0)\n",
    "model_ = XGBClassifier(random_state= 0, use_label_encoder=False)"
   ]
  },
  {
   "cell_type": "code",
   "execution_count": 215,
   "id": "ba3a164b-8f0b-480b-a0e1-f259694c9e1f",
   "metadata": {
    "tags": []
   },
   "outputs": [],
   "source": [
    "param_grid = {\n",
    "    'cla__alpha' : [0.01, 0.42, 0.30],\n",
    "    'cla__max_depth': [8, 16, 32],\n",
    "    'cla__n_estimators': [5, 10, 15],\n",
    "    'cla__booster':['gbtree', 'dart'],\n",
    "    'cla__eval_metric': ['mlogloss']\n",
    "}"
   ]
  },
  {
   "cell_type": "code",
   "execution_count": 216,
   "id": "f785c4c0-b7a4-4e39-974a-77083f6a40ff",
   "metadata": {},
   "outputs": [],
   "source": [
    "# Train and validation\n",
    "X_train, X_val, y_train, y_val = train_test_split(X, y, test_size=0.30, random_state=0, shuffle=False)"
   ]
  },
  {
   "cell_type": "markdown",
   "id": "2250286c-c7d6-4347-b1c9-df29553e3776",
   "metadata": {},
   "source": [
    "#### Preproceso y ajuste"
   ]
  },
  {
   "cell_type": "code",
   "execution_count": 217,
   "id": "1483a354-40e6-4fa2-97a0-457dde6c5a59",
   "metadata": {},
   "outputs": [],
   "source": [
    "# Preprocessing\n",
    "num_transformer = scaler\n",
    "cat_transformer = 'passthrough'\n",
    "\n",
    "preprocessor = ColumnTransformer(\n",
    "    transformers=[\n",
    "        ('num', num_transformer, num_features),\n",
    "        ('cat', cat_transformer, cat_features)])"
   ]
  },
  {
   "cell_type": "code",
   "execution_count": 218,
   "id": "9962ff0b-28e8-4770-b839-70f3f86feacd",
   "metadata": {
    "tags": []
   },
   "outputs": [
    {
     "name": "stdout",
     "output_type": "stream",
     "text": [
      "Fitting 5 folds for each of 54 candidates, totalling 270 fits\n"
     ]
    }
   ],
   "source": [
    "# Fit\n",
    "pipe = Pipeline([\n",
    "  ('preprocessor', preprocessor),\n",
    "#  ('feature_selection', SelectFromModel(ft_selector)),\n",
    "  ('cla', model_)\n",
    "])\n",
    "\n",
    "model = GridSearchCV(pipe, param_grid, scoring='f1', cv=5, verbose=1)\n",
    "\n",
    "model.fit(X_train, y_train)\n",
    "xgbc_cv = model"
   ]
  },
  {
   "cell_type": "code",
   "execution_count": 219,
   "id": "31a3adfa-3c2d-4b64-b2af-5a9ac5866257",
   "metadata": {},
   "outputs": [
    {
     "data": {
      "text/plain": [
       "{'cla__alpha': 0.42,\n",
       " 'cla__booster': 'gbtree',\n",
       " 'cla__eval_metric': 'mlogloss',\n",
       " 'cla__max_depth': 8,\n",
       " 'cla__n_estimators': 15}"
      ]
     },
     "execution_count": 219,
     "metadata": {},
     "output_type": "execute_result"
    }
   ],
   "source": [
    "model.best_params_"
   ]
  },
  {
   "cell_type": "code",
   "execution_count": 220,
   "id": "e2651b58-9119-488b-9aa1-0e6d13a1f180",
   "metadata": {
    "tags": []
   },
   "outputs": [],
   "source": [
    "# Predict\n",
    "y_train_pred = model.predict(X_train)\n",
    "y_val_pred = model.predict(X_val)"
   ]
  },
  {
   "cell_type": "markdown",
   "id": "015bb077-aeaf-49ac-bb75-27a837b57221",
   "metadata": {},
   "source": [
    "#### Evaluacion de predicciones"
   ]
  },
  {
   "cell_type": "code",
   "execution_count": 221,
   "id": "126eef1e-b76a-4920-b070-4e638e5d59de",
   "metadata": {
    "tags": []
   },
   "outputs": [
    {
     "name": "stdout",
     "output_type": "stream",
     "text": [
      "===============================================================\n",
      "XGBoost (GSCV) - Reporte de clasificación del conjunto de train\n",
      "===============================================================\n",
      "              precision    recall  f1-score   support\n",
      "\n",
      "           0       0.89      0.92      0.91      4764\n",
      "           1       0.81      0.75      0.78      2132\n",
      "\n",
      "    accuracy                           0.87      6896\n",
      "   macro avg       0.85      0.83      0.84      6896\n",
      "weighted avg       0.87      0.87      0.87      6896\n",
      "\n"
     ]
    }
   ],
   "source": [
    "# Evaluate train\n",
    "text = \"XGBoost (GSCV) - Reporte de clasificación del conjunto de train\" \n",
    "print(len(text)*\"=\")\n",
    "print(text)\n",
    "print(len(text)*\"=\")\n",
    "print(classification_report(y_train, y_train_pred))"
   ]
  },
  {
   "cell_type": "code",
   "execution_count": 222,
   "id": "b25220e5-3b3b-4b06-a05d-fef3560239d1",
   "metadata": {
    "tags": []
   },
   "outputs": [
    {
     "name": "stdout",
     "output_type": "stream",
     "text": [
      "====================================================================\n",
      "XGBoost (GSCV) - Reporte de clasificación del conjunto de validacion\n",
      "====================================================================\n",
      "              precision    recall  f1-score   support\n",
      "\n",
      "           0       0.79      0.86      0.82      2015\n",
      "           1       0.62      0.51      0.56       941\n",
      "\n",
      "    accuracy                           0.75      2956\n",
      "   macro avg       0.71      0.68      0.69      2956\n",
      "weighted avg       0.74      0.75      0.74      2956\n",
      "\n"
     ]
    }
   ],
   "source": [
    "# Evaluate val\n",
    "text = \"XGBoost (GSCV) - Reporte de clasificación del conjunto de validacion\" \n",
    "print(len(text)*\"=\")\n",
    "print(text)\n",
    "print(len(text)*\"=\")\n",
    "print(classification_report(y_val, y_valid_pred))"
   ]
  },
  {
   "cell_type": "code",
   "execution_count": 223,
   "id": "697a5fa5-d603-4910-8564-2d67fc36454f",
   "metadata": {},
   "outputs": [
    {
     "data": {
      "text/plain": [
       "Text(0.5, 1.0, 'XGBoost (GSCV) - CM Train\\n')"
      ]
     },
     "execution_count": 223,
     "metadata": {},
     "output_type": "execute_result"
    },
    {
     "data": {
      "text/plain": [
       "<Figure size 432x288 with 0 Axes>"
      ]
     },
     "metadata": {},
     "output_type": "display_data"
    },
    {
     "data": {
      "image/png": "[encoded data removed]",
      "text/plain": [
       "<Figure size 432x288 with 2 Axes>"
      ]
     },
     "metadata": {
      "needs_background": "light"
     },
     "output_type": "display_data"
    }
   ],
   "source": [
    "plt.figure()\n",
    "plot_confusion_matrix(estimator= model, X=X_train, y_true=y_train,\n",
    "                      normalize='true', cmap='Greens').ax_ \\\n",
    "                      .set_title('XGBoost (GSCV) - CM Train\\n')"
   ]
  },
  {
   "cell_type": "code",
   "execution_count": 224,
   "id": "c49a7df2-b71d-4afc-9615-5b261b9d60c8",
   "metadata": {},
   "outputs": [
    {
     "data": {
      "text/plain": [
       "Text(0.5, 1.0, 'XGBoost (GSCV) - CM Valid\\n')"
      ]
     },
     "execution_count": 224,
     "metadata": {},
     "output_type": "execute_result"
    },
    {
     "data": {
      "text/plain": [
       "<Figure size 432x288 with 0 Axes>"
      ]
     },
     "metadata": {},
     "output_type": "display_data"
    },
    {
     "data": {
      "image/png": "[encoded data removed]",
      "text/plain": [
       "<Figure size 432x288 with 2 Axes>"
      ]
     },
     "metadata": {
      "needs_background": "light"
     },
     "output_type": "display_data"
    }
   ],
   "source": [
    "plt.figure()\n",
    "plot_confusion_matrix(estimator= model, X=X_val, y_true=y_val,\n",
    "                      normalize='true', cmap='Blues').ax_ \\\n",
    "                      .set_title('XGBoost (GSCV) - CM Valid\\n')"
   ]
  },
  {
   "cell_type": "markdown",
   "id": "29d1ef6d-07fe-42da-997e-d6d286784e9f",
   "metadata": {},
   "source": [
    "FIN\n",
    "----\n",
    "----"
   ]
  }
 ],
 "metadata": {
  "kernelspec": {
   "display_name": "Python 3",
   "language": "python",
   "name": "python3"
  },
  "language_info": {
   "codemirror_mode": {
    "name": "ipython",
    "version": 3
   },
   "file_extension": ".py",
   "mimetype": "text/x-python",
   "name": "python",
   "nbconvert_exporter": "python",
   "pygments_lexer": "ipython3",
   "version": "3.6.13"
  }
 },
 "nbformat": 4,
 "nbformat_minor": 5
}
